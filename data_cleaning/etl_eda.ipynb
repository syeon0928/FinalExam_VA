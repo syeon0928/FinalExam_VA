{
 "cells": [
  {
   "cell_type": "markdown",
   "id": "bb0fa62e",
   "metadata": {
    "pycharm": {
     "name": "#%% md\n"
    }
   },
   "source": [
    "### Import needed packages"
   ]
  },
  {
   "cell_type": "code",
   "execution_count": 486,
   "id": "fde1da8a",
   "metadata": {
    "pycharm": {
     "name": "#%%\n"
    }
   },
   "outputs": [],
   "source": [
    "import pandas as pd\n",
    "import numpy as np\n",
    "import re\n",
    "import requests\n",
    "from bs4 import BeautifulSoup\n",
    "import matplotlib.pyplot as plt\n",
    "import seaborn as sns"
   ]
  },
  {
   "cell_type": "markdown",
   "id": "6a0e260c",
   "metadata": {
    "pycharm": {
     "name": "#%% md\n"
    }
   },
   "source": [
    "### Load all the necessary data"
   ]
  },
  {
   "cell_type": "code",
   "execution_count": 487,
   "id": "9fcf3120",
   "metadata": {
    "pycharm": {
     "name": "#%%\n"
    }
   },
   "outputs": [],
   "source": [
    "#Load the country-ISO code dataset\n",
    "country = pd.read_excel('../original_data/country.xlsx')\n",
    "\n",
    "# Load the population by country dataset\n",
    "pop = pd.read_csv(\"../original_data/Population.csv\")\n",
    "\n",
    "#Load the climate by country dataset\n",
    "clim = pd.read_csv(\"../original_data/Climate.csv\")\n",
    "\n",
    "#Load the currencies by country dataset\n",
    "curr = pd.read_csv(\"../original_data/Currencies.csv\")\n",
    "\n",
    "#Load the spoken languages by country dataset\n",
    "lang = pd.read_csv(\"../original_data/Languages.csv\", encoding='Latin-1')\n",
    "#Load the religion by country dataset\n",
    "rel = pd.read_csv(\"../original_data/Religion.csv\")\n",
    "\n",
    "#Load the peace index dataset\n",
    "peace = pd.read_csv(\"../original_data/Peace_Index.csv\")\n",
    "\n",
    "#Load Wef Travel Index data\n",
    "wef = pd.read_excel('../original_data/WEF_TTDI.xlsx', header=[0, 1], sheet_name='Index Performance')\n",
    "\n",
    "# Load average restaurant and accomodation cost data\n",
    "avg_rest_hot_p = pd.read_csv(\"../original_data/Avg_rest_hot_prices.csv\")\n",
    "\n",
    "# Load LGBTQ dataset\n",
    "lgbtq = pd.read_excel(\"../original_data/LGBTQ .xlsx\")"
   ]
  },
  {
   "cell_type": "markdown",
   "id": "2d1d2100",
   "metadata": {
    "pycharm": {
     "name": "#%% md\n"
    }
   },
   "source": [
    "#### Get Cuisine Rank data by web scraping"
   ]
  },
  {
   "cell_type": "code",
   "execution_count": 488,
   "id": "7c2a8b4a",
   "metadata": {
    "pycharm": {
     "name": "#%%\n"
    }
   },
   "outputs": [],
   "source": [
    "# get data from the link\n",
    "URL = \"https://www.tasteatlas.com/best/cuisines?fbclid=IwAR1CFukbqGEObPMECI1SdpO_dOzeMmBjhGXvRlW8GS63JwpqUAi_0QCl4nU\"\n",
    "page = requests.get(URL)"
   ]
  },
  {
   "cell_type": "code",
   "execution_count": 489,
   "id": "4ee8fbec",
   "metadata": {
    "pycharm": {
     "name": "#%%\n"
    }
   },
   "outputs": [],
   "source": [
    "# attach html parser so that we can have a cleaner look of html format\n",
    "soup = BeautifulSoup(page.content, \"html.parser\")"
   ]
  },
  {
   "cell_type": "code",
   "execution_count": 490,
   "id": "3fc4e9f5",
   "metadata": {
    "pycharm": {
     "name": "#%%\n"
    }
   },
   "outputs": [],
   "source": [
    "# get the block that contains the ranks\n",
    "results = soup.find(id=\"BestCuisines\")"
   ]
  },
  {
   "cell_type": "code",
   "execution_count": 491,
   "id": "7251c0c4",
   "metadata": {
    "pycharm": {
     "name": "#%%\n"
    }
   },
   "outputs": [],
   "source": [
    "# get a list containing the names of the countries in html format\n",
    "countries = results.find_all(\"div\", class_=\"top-container\")\n",
    "# get a list containing the ratings of the countries in html format\n",
    "ratings = results.find_all(\"div\", class_=\"rating with-title\")"
   ]
  },
  {
   "cell_type": "code",
   "execution_count": 492,
   "id": "67c1435e",
   "metadata": {
    "pycharm": {
     "name": "#%%\n"
    }
   },
   "outputs": [
    {
     "name": "stdout",
     "output_type": "stream",
     "text": [
      "['italy', 'greece', 'spain', 'japan', 'india', 'mexico', 'turkiye', 'USA', 'france', 'peru', 'china', 'brazil', 'portugal', 'poland', 'germany', 'indonesia', 'croatia', 'argentina', 'korea', 'vietnam', 'hungary', 'romania', 'philippines', 'iran', 'serbia', 'georgia', 'czech-republic', 'bulgaria', 'england', 'thailand', 'belgium', 'netherlands', 'austria', 'algeria', 'denmark', 'south-africa', 'syria', 'bih', 'malaysia', 'lebanon', 'ukraine', 'palestine', 'bangladesh', 'lithuania', 'taiwan', 'paraguay', 'pakistan', 'tunisia', 'uruguay', 'slovakia', 'egypt', 'singapore', 'afghanistan', 'ecuador', 'ethiopia', 'belarus', 'haiti', 'russia', 'north-macedonia', 'cuba', 'sri-lanka', 'sweden', 'chile', 'jamaica', 'slovenia', 'bolivia', 'venezuela', 'albania', 'northern-ireland', 'nigeria', 'colombia', 'finland', 'ireland', 'cyprus', 'estonia', 'new-zealand', 'guatemala', 'el-salvador', 'trinidad-and-tobago', 'wales', 'israel', 'azerbaijan', 'honduras', 'costa-rica', 'saudi-arabia', 'malta', 'switzerland', 'scotland', 'australia', 'armenia', 'iceland', 'canada', 'latvia', 'morocco', 'norway']\n"
     ]
    }
   ],
   "source": [
    "# extract text only from the countries html list\n",
    "country_ls = []\n",
    "for c in countries:\n",
    "    country_ls.append(c.find('a', href=True)['href'])\n",
    "print(country_ls)"
   ]
  },
  {
   "cell_type": "code",
   "execution_count": 493,
   "id": "e4acc1f1",
   "metadata": {
    "pycharm": {
     "name": "#%%\n"
    }
   },
   "outputs": [
    {
     "name": "stdout",
     "output_type": "stream",
     "text": [
      "[4.72, 4.69, 4.59, 4.59, 4.54, 4.53, 4.52, 4.51, 4.51, 4.51, 4.49, 4.49, 4.47, 4.44, 4.37, 4.37, 4.33, 4.33, 4.31, 4.31, 4.26, 4.25, 4.25, 4.23, 4.23, 4.23, 4.21, 4.2, 4.18, 4.16, 4.14, 4.1, 4.09, 4.07, 4.05, 4.03, 4.03, 3.99, 3.99, 3.99, 3.98, 3.98, 3.97, 3.96, 3.96, 3.96, 3.95, 3.95, 3.95, 3.94, 3.94, 3.94, 3.94, 3.93, 3.93, 3.93, 3.93, 3.92, 3.92, 3.92, 3.92, 3.91, 3.91, 3.91, 3.91, 3.91, 3.91, 3.91, 3.91, 3.91, 3.9, 3.9, 3.9, 3.9, 3.9, 3.89, 3.89, 3.88, 3.88, 3.88, 3.85, 3.85, 3.85, 3.85, 3.85, 3.84, 3.82, 3.82, 3.8, 3.8, 3.8, 3.79, 3.79, 3.69, 3.58]\n"
     ]
    }
   ],
   "source": [
    "# extract ratings only from the ratings html list\n",
    "rating_ls = []\n",
    "for rating in ratings:\n",
    "    # print(box)\n",
    "    rating_ls.append(float(rating.find(\"span\").text))\n",
    "print(rating_ls)"
   ]
  },
  {
   "cell_type": "code",
   "execution_count": 494,
   "id": "6da01ddd",
   "metadata": {
    "pycharm": {
     "name": "#%%\n"
    }
   },
   "outputs": [
    {
     "data": {
      "text/plain": "True"
     },
     "execution_count": 494,
     "metadata": {},
     "output_type": "execute_result"
    }
   ],
   "source": [
    "# check if the country list and rating list length matches\n",
    "len(rating_ls)==len(country_ls)"
   ]
  },
  {
   "cell_type": "code",
   "execution_count": 495,
   "id": "83258997",
   "metadata": {
    "pycharm": {
     "name": "#%%\n"
    }
   },
   "outputs": [],
   "source": [
    "# Create Data Frame with extracted Data\n",
    "cuisine_rank = pd.DataFrame({'Country': country_ls, 'Ratings': rating_ls})"
   ]
  },
  {
   "cell_type": "markdown",
   "id": "f07dbad6",
   "metadata": {
    "pycharm": {
     "name": "#%% md\n"
    }
   },
   "source": [
    "## EDA and Data Cleaning, Transforming"
   ]
  },
  {
   "cell_type": "markdown",
   "id": "1240b1d2",
   "metadata": {
    "pycharm": {
     "name": "#%% md\n"
    }
   },
   "source": [
    "#### Country - ISO CODE Dataset"
   ]
  },
  {
   "cell_type": "code",
   "execution_count": 496,
   "id": "998cede4",
   "metadata": {
    "pycharm": {
     "name": "#%%\n"
    }
   },
   "outputs": [
    {
     "data": {
      "text/plain": "          Name Iso3                           Continent     SubContinent\n0        Aruba  ABW     Latin America and the Caribbean        Caribbean\n1      Andorra  ADO                              Europe  Southern Europe\n2  Afghanistan  AFG  South, East and South-Eastern Asia    Southern Asia\n3       Angola  AGO                              Africa    Middle Africa\n4      Albania  ALB                              Europe  Southern Europe",
      "text/html": "<div>\n<style scoped>\n    .dataframe tbody tr th:only-of-type {\n        vertical-align: middle;\n    }\n\n    .dataframe tbody tr th {\n        vertical-align: top;\n    }\n\n    .dataframe thead th {\n        text-align: right;\n    }\n</style>\n<table border=\"1\" class=\"dataframe\">\n  <thead>\n    <tr style=\"text-align: right;\">\n      <th></th>\n      <th>Name</th>\n      <th>Iso3</th>\n      <th>Continent</th>\n      <th>SubContinent</th>\n    </tr>\n  </thead>\n  <tbody>\n    <tr>\n      <th>0</th>\n      <td>Aruba</td>\n      <td>ABW</td>\n      <td>Latin America and the Caribbean</td>\n      <td>Caribbean</td>\n    </tr>\n    <tr>\n      <th>1</th>\n      <td>Andorra</td>\n      <td>ADO</td>\n      <td>Europe</td>\n      <td>Southern Europe</td>\n    </tr>\n    <tr>\n      <th>2</th>\n      <td>Afghanistan</td>\n      <td>AFG</td>\n      <td>South, East and South-Eastern Asia</td>\n      <td>Southern Asia</td>\n    </tr>\n    <tr>\n      <th>3</th>\n      <td>Angola</td>\n      <td>AGO</td>\n      <td>Africa</td>\n      <td>Middle Africa</td>\n    </tr>\n    <tr>\n      <th>4</th>\n      <td>Albania</td>\n      <td>ALB</td>\n      <td>Europe</td>\n      <td>Southern Europe</td>\n    </tr>\n  </tbody>\n</table>\n</div>"
     },
     "execution_count": 496,
     "metadata": {},
     "output_type": "execute_result"
    }
   ],
   "source": [
    "country.head()"
   ]
  },
  {
   "cell_type": "code",
   "execution_count": 497,
   "id": "608c5b1f",
   "metadata": {
    "pycharm": {
     "name": "#%%\n"
    }
   },
   "outputs": [
    {
     "name": "stdout",
     "output_type": "stream",
     "text": [
      "<class 'pandas.core.frame.DataFrame'>\n",
      "RangeIndex: 328 entries, 0 to 327\n",
      "Data columns (total 4 columns):\n",
      " #   Column        Non-Null Count  Dtype \n",
      "---  ------        --------------  ----- \n",
      " 0   Name          328 non-null    object\n",
      " 1   Iso3          328 non-null    object\n",
      " 2   Continent     328 non-null    object\n",
      " 3   SubContinent  328 non-null    object\n",
      "dtypes: object(4)\n",
      "memory usage: 10.4+ KB\n"
     ]
    }
   ],
   "source": [
    "country.info()"
   ]
  },
  {
   "cell_type": "markdown",
   "source": [
    "We can see that there are no null values."
   ],
   "metadata": {
    "collapsed": false,
    "pycharm": {
     "name": "#%% md\n"
    }
   }
  },
  {
   "cell_type": "code",
   "execution_count": 498,
   "id": "5ad7c79d",
   "metadata": {
    "pycharm": {
     "name": "#%%\n"
    }
   },
   "outputs": [
    {
     "data": {
      "text/plain": "                         Name Iso3                         Continent  \\\n135                Kyrgyzstan  KGZ  Central Asia and the middle east   \n136                Kyrgyzstan  KGZ  Central Asia and the middle east   \n185                 Macedonia  MKD                            Europe   \n191                 Macedonia  MKD                            Europe   \n295  United States of America  USA                  Northern America   \n297  United States of America  USA                  Northern America   \n\n         SubContinent  \n135      Central Asia  \n136      Central Asia  \n185   Southern Europe  \n191   Southern Europe  \n295  Northern America  \n297  Northern America  ",
      "text/html": "<div>\n<style scoped>\n    .dataframe tbody tr th:only-of-type {\n        vertical-align: middle;\n    }\n\n    .dataframe tbody tr th {\n        vertical-align: top;\n    }\n\n    .dataframe thead th {\n        text-align: right;\n    }\n</style>\n<table border=\"1\" class=\"dataframe\">\n  <thead>\n    <tr style=\"text-align: right;\">\n      <th></th>\n      <th>Name</th>\n      <th>Iso3</th>\n      <th>Continent</th>\n      <th>SubContinent</th>\n    </tr>\n  </thead>\n  <tbody>\n    <tr>\n      <th>135</th>\n      <td>Kyrgyzstan</td>\n      <td>KGZ</td>\n      <td>Central Asia and the middle east</td>\n      <td>Central Asia</td>\n    </tr>\n    <tr>\n      <th>136</th>\n      <td>Kyrgyzstan</td>\n      <td>KGZ</td>\n      <td>Central Asia and the middle east</td>\n      <td>Central Asia</td>\n    </tr>\n    <tr>\n      <th>185</th>\n      <td>Macedonia</td>\n      <td>MKD</td>\n      <td>Europe</td>\n      <td>Southern Europe</td>\n    </tr>\n    <tr>\n      <th>191</th>\n      <td>Macedonia</td>\n      <td>MKD</td>\n      <td>Europe</td>\n      <td>Southern Europe</td>\n    </tr>\n    <tr>\n      <th>295</th>\n      <td>United States of America</td>\n      <td>USA</td>\n      <td>Northern America</td>\n      <td>Northern America</td>\n    </tr>\n    <tr>\n      <th>297</th>\n      <td>United States of America</td>\n      <td>USA</td>\n      <td>Northern America</td>\n      <td>Northern America</td>\n    </tr>\n  </tbody>\n</table>\n</div>"
     },
     "execution_count": 498,
     "metadata": {},
     "output_type": "execute_result"
    }
   ],
   "source": [
    "# Check the duplicates by country name\n",
    "country[country.duplicated(subset=['Name'], keep=False)==True]"
   ]
  },
  {
   "cell_type": "code",
   "execution_count": 499,
   "id": "aa39aa5e",
   "metadata": {
    "pycharm": {
     "name": "#%%\n"
    }
   },
   "outputs": [],
   "source": [
    "# Drop three duplicated countries\n",
    "country.drop_duplicates(subset=['Name'], inplace=True)"
   ]
  },
  {
   "cell_type": "code",
   "execution_count": 500,
   "id": "b857acfb",
   "metadata": {
    "pycharm": {
     "name": "#%%\n"
    }
   },
   "outputs": [],
   "source": [
    "# capitalize the first letter and remove any extra spaces\n",
    "country['Name'] = country['Name'].str.title()\n",
    "country['Name'] = country['Name'].str.strip()"
   ]
  },
  {
   "cell_type": "markdown",
   "id": "755a0c54",
   "metadata": {
    "pycharm": {
     "name": "#%% md\n"
    }
   },
   "source": [
    "#### WEF Dataset"
   ]
  },
  {
   "cell_type": "code",
   "execution_count": 501,
   "id": "738adb14",
   "metadata": {
    "pycharm": {
     "name": "#%%\n"
    }
   },
   "outputs": [
    {
     "data": {
      "text/plain": "  Unnamed: 0_level_0 Unnamed: 1_level_0  Unnamed: 2_level_0  \\\n            ISO Code            Economy              Region   \n0                JPN              Japan        Asia-Pacific   \n1                USA      United States        The Americas   \n2                ESP              Spain  Europe and Eurasia   \n3                FRA             France  Europe and Eurasia   \n4                DEU            Germany  Europe and Eurasia   \n\n          Unnamed: 3_level_0     Unnamed: 4_level_0  \\\n                  Sub Region           Income Group   \n0       Eastern Asia-Pacific  High-income economies   \n1  North and Central America  High-income economies   \n2            Southern Europe  High-income economies   \n3             Western Europe  High-income economies   \n4             Western Europe  High-income economies   \n\n  Travel & Tourism Development Index                                  \\\n                           2019 Value 2019 Rank 2021 Value 2021 Rank   \n0                            5.209308         2   5.245868         1   \n1                            5.253746         1   5.199991         2   \n2                            5.156125         5   5.154733         3   \n3                            5.139553         6   5.126821         4   \n4                            5.158769         4   5.064452         5   \n\n               ... Socioeconomic Resilience & Conditions pillar            \\\n  % Dif Score  ...                                   2021 Value 2021 Rank   \n0    0.007018  ...                                     5.710859        11   \n1   -0.010232  ...                                     4.496351        44   \n2   -0.000270  ...                                     5.297103        25   \n3   -0.002477  ...                                     5.734719        10   \n4   -0.018283  ...                                     5.884420         8   \n\n                          T&T Demand Pressure & Impact pillar            \\\n  % Dif Score Rank Change                          2019 Value 2019 Rank   \n0    0.035617           6                            4.162195        43   \n1    0.018056          -1                            4.835106         4   \n2    0.068278           5                            3.668553        89   \n3    0.005727           1                            3.447736       106   \n4    0.012092           0                            3.691413        87   \n\n                                                \n  2021 Value 2021 Rank % Dif Score Rank Change  \n0   4.287192        41    0.030031           2  \n1   4.945433         3    0.022818           1  \n2   3.768780        81    0.027321           8  \n3   3.429899       108   -0.005174          -2  \n4   3.921128        73    0.062230          14  \n\n[5 rows x 143 columns]",
      "text/html": "<div>\n<style scoped>\n    .dataframe tbody tr th:only-of-type {\n        vertical-align: middle;\n    }\n\n    .dataframe tbody tr th {\n        vertical-align: top;\n    }\n\n    .dataframe thead tr th {\n        text-align: left;\n    }\n</style>\n<table border=\"1\" class=\"dataframe\">\n  <thead>\n    <tr>\n      <th></th>\n      <th>Unnamed: 0_level_0</th>\n      <th>Unnamed: 1_level_0</th>\n      <th>Unnamed: 2_level_0</th>\n      <th>Unnamed: 3_level_0</th>\n      <th>Unnamed: 4_level_0</th>\n      <th colspan=\"5\" halign=\"left\">Travel &amp; Tourism Development Index</th>\n      <th>...</th>\n      <th colspan=\"4\" halign=\"left\">Socioeconomic Resilience &amp; Conditions pillar</th>\n      <th colspan=\"6\" halign=\"left\">T&amp;T Demand Pressure &amp; Impact pillar</th>\n    </tr>\n    <tr>\n      <th></th>\n      <th>ISO Code</th>\n      <th>Economy</th>\n      <th>Region</th>\n      <th>Sub Region</th>\n      <th>Income Group</th>\n      <th>2019 Value</th>\n      <th>2019 Rank</th>\n      <th>2021 Value</th>\n      <th>2021 Rank</th>\n      <th>% Dif Score</th>\n      <th>...</th>\n      <th>2021 Value</th>\n      <th>2021 Rank</th>\n      <th>% Dif Score</th>\n      <th>Rank Change</th>\n      <th>2019 Value</th>\n      <th>2019 Rank</th>\n      <th>2021 Value</th>\n      <th>2021 Rank</th>\n      <th>% Dif Score</th>\n      <th>Rank Change</th>\n    </tr>\n  </thead>\n  <tbody>\n    <tr>\n      <th>0</th>\n      <td>JPN</td>\n      <td>Japan</td>\n      <td>Asia-Pacific</td>\n      <td>Eastern Asia-Pacific</td>\n      <td>High-income economies</td>\n      <td>5.209308</td>\n      <td>2</td>\n      <td>5.245868</td>\n      <td>1</td>\n      <td>0.007018</td>\n      <td>...</td>\n      <td>5.710859</td>\n      <td>11</td>\n      <td>0.035617</td>\n      <td>6</td>\n      <td>4.162195</td>\n      <td>43</td>\n      <td>4.287192</td>\n      <td>41</td>\n      <td>0.030031</td>\n      <td>2</td>\n    </tr>\n    <tr>\n      <th>1</th>\n      <td>USA</td>\n      <td>United States</td>\n      <td>The Americas</td>\n      <td>North and Central America</td>\n      <td>High-income economies</td>\n      <td>5.253746</td>\n      <td>1</td>\n      <td>5.199991</td>\n      <td>2</td>\n      <td>-0.010232</td>\n      <td>...</td>\n      <td>4.496351</td>\n      <td>44</td>\n      <td>0.018056</td>\n      <td>-1</td>\n      <td>4.835106</td>\n      <td>4</td>\n      <td>4.945433</td>\n      <td>3</td>\n      <td>0.022818</td>\n      <td>1</td>\n    </tr>\n    <tr>\n      <th>2</th>\n      <td>ESP</td>\n      <td>Spain</td>\n      <td>Europe and Eurasia</td>\n      <td>Southern Europe</td>\n      <td>High-income economies</td>\n      <td>5.156125</td>\n      <td>5</td>\n      <td>5.154733</td>\n      <td>3</td>\n      <td>-0.000270</td>\n      <td>...</td>\n      <td>5.297103</td>\n      <td>25</td>\n      <td>0.068278</td>\n      <td>5</td>\n      <td>3.668553</td>\n      <td>89</td>\n      <td>3.768780</td>\n      <td>81</td>\n      <td>0.027321</td>\n      <td>8</td>\n    </tr>\n    <tr>\n      <th>3</th>\n      <td>FRA</td>\n      <td>France</td>\n      <td>Europe and Eurasia</td>\n      <td>Western Europe</td>\n      <td>High-income economies</td>\n      <td>5.139553</td>\n      <td>6</td>\n      <td>5.126821</td>\n      <td>4</td>\n      <td>-0.002477</td>\n      <td>...</td>\n      <td>5.734719</td>\n      <td>10</td>\n      <td>0.005727</td>\n      <td>1</td>\n      <td>3.447736</td>\n      <td>106</td>\n      <td>3.429899</td>\n      <td>108</td>\n      <td>-0.005174</td>\n      <td>-2</td>\n    </tr>\n    <tr>\n      <th>4</th>\n      <td>DEU</td>\n      <td>Germany</td>\n      <td>Europe and Eurasia</td>\n      <td>Western Europe</td>\n      <td>High-income economies</td>\n      <td>5.158769</td>\n      <td>4</td>\n      <td>5.064452</td>\n      <td>5</td>\n      <td>-0.018283</td>\n      <td>...</td>\n      <td>5.884420</td>\n      <td>8</td>\n      <td>0.012092</td>\n      <td>0</td>\n      <td>3.691413</td>\n      <td>87</td>\n      <td>3.921128</td>\n      <td>73</td>\n      <td>0.062230</td>\n      <td>14</td>\n    </tr>\n  </tbody>\n</table>\n<p>5 rows × 143 columns</p>\n</div>"
     },
     "execution_count": 501,
     "metadata": {},
     "output_type": "execute_result"
    }
   ],
   "source": [
    "wef.head()"
   ]
  },
  {
   "cell_type": "markdown",
   "source": [
    "Due to the double header in Excel format, some of the rows are hard to know which index it belongs to.\n",
    "Therefore, we will transform the dataset to a single header."
   ],
   "metadata": {
    "collapsed": false,
    "pycharm": {
     "name": "#%% md\n"
    }
   }
  },
  {
   "cell_type": "code",
   "execution_count": 502,
   "id": "e5d3a161",
   "metadata": {
    "pycharm": {
     "name": "#%%\n"
    }
   },
   "outputs": [],
   "source": [
    "# to flatten the double header\n",
    "wef.columns=wef.columns.to_flat_index()"
   ]
  },
  {
   "cell_type": "code",
   "execution_count": 503,
   "id": "9292ea0e",
   "metadata": {
    "pycharm": {
     "name": "#%%\n"
    }
   },
   "outputs": [
    {
     "data": {
      "text/plain": "  (Unnamed: 0_level_0, ISO Code) (Unnamed: 1_level_0, Economy)  \\\n0                            JPN                         Japan   \n1                            USA                 United States   \n2                            ESP                         Spain   \n3                            FRA                        France   \n4                            DEU                       Germany   \n\n  (Unnamed: 2_level_0, Region) (Unnamed: 3_level_0, Sub Region)  \\\n0                 Asia-Pacific             Eastern Asia-Pacific   \n1                 The Americas        North and Central America   \n2           Europe and Eurasia                  Southern Europe   \n3           Europe and Eurasia                   Western Europe   \n4           Europe and Eurasia                   Western Europe   \n\n  (Unnamed: 4_level_0, Income Group)  \\\n0              High-income economies   \n1              High-income economies   \n2              High-income economies   \n3              High-income economies   \n4              High-income economies   \n\n   (Travel & Tourism Development Index , 2019 Value)  \\\n0                                           5.209308   \n1                                           5.253746   \n2                                           5.156125   \n3                                           5.139553   \n4                                           5.158769   \n\n   (Travel & Tourism Development Index , 2019 Rank)  \\\n0                                                 2   \n1                                                 1   \n2                                                 5   \n3                                                 6   \n4                                                 4   \n\n   (Travel & Tourism Development Index , 2021 Value)  \\\n0                                           5.245868   \n1                                           5.199991   \n2                                           5.154733   \n3                                           5.126821   \n4                                           5.064452   \n\n   (Travel & Tourism Development Index , 2021 Rank)  \\\n0                                                 1   \n1                                                 2   \n2                                                 3   \n3                                                 4   \n4                                                 5   \n\n   (Travel & Tourism Development Index , % Dif Score)  ...  \\\n0                                           0.007018   ...   \n1                                          -0.010232   ...   \n2                                          -0.000270   ...   \n3                                          -0.002477   ...   \n4                                          -0.018283   ...   \n\n   (Socioeconomic Resilience & Conditions pillar, 2021 Value)  \\\n0                                           5.710859            \n1                                           4.496351            \n2                                           5.297103            \n3                                           5.734719            \n4                                           5.884420            \n\n   (Socioeconomic Resilience & Conditions pillar, 2021 Rank)  \\\n0                                                 11           \n1                                                 44           \n2                                                 25           \n3                                                 10           \n4                                                  8           \n\n   (Socioeconomic Resilience & Conditions pillar, % Dif Score)  \\\n0                                           0.035617             \n1                                           0.018056             \n2                                           0.068278             \n3                                           0.005727             \n4                                           0.012092             \n\n   (Socioeconomic Resilience & Conditions pillar, Rank Change)  \\\n0                                                  6             \n1                                                 -1             \n2                                                  5             \n3                                                  1             \n4                                                  0             \n\n   (T&T Demand Pressure & Impact pillar, 2019 Value)  \\\n0                                           4.162195   \n1                                           4.835106   \n2                                           3.668553   \n3                                           3.447736   \n4                                           3.691413   \n\n   (T&T Demand Pressure & Impact pillar, 2019 Rank)  \\\n0                                                43   \n1                                                 4   \n2                                                89   \n3                                               106   \n4                                                87   \n\n   (T&T Demand Pressure & Impact pillar, 2021 Value)  \\\n0                                           4.287192   \n1                                           4.945433   \n2                                           3.768780   \n3                                           3.429899   \n4                                           3.921128   \n\n   (T&T Demand Pressure & Impact pillar, 2021 Rank)  \\\n0                                                41   \n1                                                 3   \n2                                                81   \n3                                               108   \n4                                                73   \n\n   (T&T Demand Pressure & Impact pillar, % Dif Score)  \\\n0                                           0.030031    \n1                                           0.022818    \n2                                           0.027321    \n3                                          -0.005174    \n4                                           0.062230    \n\n   (T&T Demand Pressure & Impact pillar, Rank Change)  \n0                                                  2   \n1                                                  1   \n2                                                  8   \n3                                                 -2   \n4                                                 14   \n\n[5 rows x 143 columns]",
      "text/html": "<div>\n<style scoped>\n    .dataframe tbody tr th:only-of-type {\n        vertical-align: middle;\n    }\n\n    .dataframe tbody tr th {\n        vertical-align: top;\n    }\n\n    .dataframe thead th {\n        text-align: right;\n    }\n</style>\n<table border=\"1\" class=\"dataframe\">\n  <thead>\n    <tr style=\"text-align: right;\">\n      <th></th>\n      <th>(Unnamed: 0_level_0, ISO Code)</th>\n      <th>(Unnamed: 1_level_0, Economy)</th>\n      <th>(Unnamed: 2_level_0, Region)</th>\n      <th>(Unnamed: 3_level_0, Sub Region)</th>\n      <th>(Unnamed: 4_level_0, Income Group)</th>\n      <th>(Travel &amp; Tourism Development Index , 2019 Value)</th>\n      <th>(Travel &amp; Tourism Development Index , 2019 Rank)</th>\n      <th>(Travel &amp; Tourism Development Index , 2021 Value)</th>\n      <th>(Travel &amp; Tourism Development Index , 2021 Rank)</th>\n      <th>(Travel &amp; Tourism Development Index , % Dif Score)</th>\n      <th>...</th>\n      <th>(Socioeconomic Resilience &amp; Conditions pillar, 2021 Value)</th>\n      <th>(Socioeconomic Resilience &amp; Conditions pillar, 2021 Rank)</th>\n      <th>(Socioeconomic Resilience &amp; Conditions pillar, % Dif Score)</th>\n      <th>(Socioeconomic Resilience &amp; Conditions pillar, Rank Change)</th>\n      <th>(T&amp;T Demand Pressure &amp; Impact pillar, 2019 Value)</th>\n      <th>(T&amp;T Demand Pressure &amp; Impact pillar, 2019 Rank)</th>\n      <th>(T&amp;T Demand Pressure &amp; Impact pillar, 2021 Value)</th>\n      <th>(T&amp;T Demand Pressure &amp; Impact pillar, 2021 Rank)</th>\n      <th>(T&amp;T Demand Pressure &amp; Impact pillar, % Dif Score)</th>\n      <th>(T&amp;T Demand Pressure &amp; Impact pillar, Rank Change)</th>\n    </tr>\n  </thead>\n  <tbody>\n    <tr>\n      <th>0</th>\n      <td>JPN</td>\n      <td>Japan</td>\n      <td>Asia-Pacific</td>\n      <td>Eastern Asia-Pacific</td>\n      <td>High-income economies</td>\n      <td>5.209308</td>\n      <td>2</td>\n      <td>5.245868</td>\n      <td>1</td>\n      <td>0.007018</td>\n      <td>...</td>\n      <td>5.710859</td>\n      <td>11</td>\n      <td>0.035617</td>\n      <td>6</td>\n      <td>4.162195</td>\n      <td>43</td>\n      <td>4.287192</td>\n      <td>41</td>\n      <td>0.030031</td>\n      <td>2</td>\n    </tr>\n    <tr>\n      <th>1</th>\n      <td>USA</td>\n      <td>United States</td>\n      <td>The Americas</td>\n      <td>North and Central America</td>\n      <td>High-income economies</td>\n      <td>5.253746</td>\n      <td>1</td>\n      <td>5.199991</td>\n      <td>2</td>\n      <td>-0.010232</td>\n      <td>...</td>\n      <td>4.496351</td>\n      <td>44</td>\n      <td>0.018056</td>\n      <td>-1</td>\n      <td>4.835106</td>\n      <td>4</td>\n      <td>4.945433</td>\n      <td>3</td>\n      <td>0.022818</td>\n      <td>1</td>\n    </tr>\n    <tr>\n      <th>2</th>\n      <td>ESP</td>\n      <td>Spain</td>\n      <td>Europe and Eurasia</td>\n      <td>Southern Europe</td>\n      <td>High-income economies</td>\n      <td>5.156125</td>\n      <td>5</td>\n      <td>5.154733</td>\n      <td>3</td>\n      <td>-0.000270</td>\n      <td>...</td>\n      <td>5.297103</td>\n      <td>25</td>\n      <td>0.068278</td>\n      <td>5</td>\n      <td>3.668553</td>\n      <td>89</td>\n      <td>3.768780</td>\n      <td>81</td>\n      <td>0.027321</td>\n      <td>8</td>\n    </tr>\n    <tr>\n      <th>3</th>\n      <td>FRA</td>\n      <td>France</td>\n      <td>Europe and Eurasia</td>\n      <td>Western Europe</td>\n      <td>High-income economies</td>\n      <td>5.139553</td>\n      <td>6</td>\n      <td>5.126821</td>\n      <td>4</td>\n      <td>-0.002477</td>\n      <td>...</td>\n      <td>5.734719</td>\n      <td>10</td>\n      <td>0.005727</td>\n      <td>1</td>\n      <td>3.447736</td>\n      <td>106</td>\n      <td>3.429899</td>\n      <td>108</td>\n      <td>-0.005174</td>\n      <td>-2</td>\n    </tr>\n    <tr>\n      <th>4</th>\n      <td>DEU</td>\n      <td>Germany</td>\n      <td>Europe and Eurasia</td>\n      <td>Western Europe</td>\n      <td>High-income economies</td>\n      <td>5.158769</td>\n      <td>4</td>\n      <td>5.064452</td>\n      <td>5</td>\n      <td>-0.018283</td>\n      <td>...</td>\n      <td>5.884420</td>\n      <td>8</td>\n      <td>0.012092</td>\n      <td>0</td>\n      <td>3.691413</td>\n      <td>87</td>\n      <td>3.921128</td>\n      <td>73</td>\n      <td>0.062230</td>\n      <td>14</td>\n    </tr>\n  </tbody>\n</table>\n<p>5 rows × 143 columns</p>\n</div>"
     },
     "execution_count": 503,
     "metadata": {},
     "output_type": "execute_result"
    }
   ],
   "source": [
    "wef.head()"
   ]
  },
  {
   "cell_type": "code",
   "execution_count": 504,
   "id": "f838c42d",
   "metadata": {
    "pycharm": {
     "name": "#%%\n"
    }
   },
   "outputs": [
    {
     "name": "stdout",
     "output_type": "stream",
     "text": [
      "<class 'pandas.core.frame.DataFrame'>\n",
      "RangeIndex: 117 entries, 0 to 116\n",
      "Columns: 143 entries, ('Unnamed: 0_level_0', 'ISO Code') to ('T&T Demand Pressure & Impact pillar', 'Rank Change')\n",
      "dtypes: float64(69), int64(69), object(5)\n",
      "memory usage: 130.8+ KB\n"
     ]
    }
   ],
   "source": [
    "wef.info()"
   ]
  },
  {
   "cell_type": "markdown",
   "id": "603fca3f",
   "metadata": {
    "pycharm": {
     "name": "#%% md\n"
    }
   },
   "source": [
    "Among 143 columns we have in dataset, we will choose relevant columns and drop all the others."
   ]
  },
  {
   "cell_type": "code",
   "execution_count": 505,
   "id": "b6eed448",
   "metadata": {
    "pycharm": {
     "name": "#%%\n"
    }
   },
   "outputs": [],
   "source": [
    "# Rename columns\n",
    "wef.rename(columns = {('Unnamed: 0_level_0', 'ISO Code'):'ISO Code',\n",
    "                      ('Unnamed: 1_level_0', 'Economy'):'Country',\n",
    "                      ('Unnamed: 2_level_0', 'Region'):'Continent',\n",
    "                      ('Unnamed: 3_level_0', 'Sub Region'):'Sub Continent',\n",
    "                      ('Unnamed: 4_level_0', 'Income Group'):'Income Group'\n",
    "                      }, inplace = True)"
   ]
  },
  {
   "cell_type": "code",
   "execution_count": 506,
   "id": "ebe50942",
   "metadata": {
    "pycharm": {
     "name": "#%%\n"
    }
   },
   "outputs": [
    {
     "name": "stdout",
     "output_type": "stream",
     "text": [
      "0 ISO Code\n",
      "1 Country\n",
      "2 Continent\n",
      "3 Sub Continent\n",
      "4 Income Group\n",
      "5 ('Travel & Tourism Development Index ', '2019 Value')\n",
      "6 ('Travel & Tourism Development Index ', '2019 Rank')\n",
      "7 ('Travel & Tourism Development Index ', '2021 Value')\n",
      "8 ('Travel & Tourism Development Index ', '2021 Rank')\n",
      "9 ('Travel & Tourism Development Index ', '% Dif Score')\n",
      "10 ('Travel & Tourism Development Index ', 'Rank Change')\n",
      "11 ('Enabling Environment subindex', '2019 Value')\n",
      "12 ('Enabling Environment subindex', '2019 Rank')\n",
      "13 ('Enabling Environment subindex', '2021 Value')\n",
      "14 ('Enabling Environment subindex', '2021 Rank')\n",
      "15 ('Enabling Environment subindex', '% Dif Score')\n",
      "16 ('Enabling Environment subindex', 'Rank Change')\n",
      "17 ('Travel and Tourism Policy and Enabling\\nConditions subindex', '2019 Value')\n",
      "18 ('Travel and Tourism Policy and Enabling\\nConditions subindex', '2019 Rank')\n",
      "19 ('Travel and Tourism Policy and Enabling\\nConditions subindex', '2021 Value')\n",
      "20 ('Travel and Tourism Policy and Enabling\\nConditions subindex', '2021 Rank')\n",
      "21 ('Travel and Tourism Policy and Enabling\\nConditions subindex', '% Dif Score')\n",
      "22 ('Travel and Tourism Policy and Enabling\\nConditions subindex', 'Rank Change')\n",
      "23 ('Infrastructure subindex', '2019 Value')\n",
      "24 ('Infrastructure subindex', '2019 Rank')\n",
      "25 ('Infrastructure subindex', '2021 Value')\n",
      "26 ('Infrastructure subindex', '2021 Rank')\n",
      "27 ('Infrastructure subindex', '% Dif Score')\n",
      "28 ('Infrastructure subindex', 'Rank Change')\n",
      "29 ('Travel and Tourism Demand Drivers\\nsubindex', '2019 Value')\n",
      "30 ('Travel and Tourism Demand Drivers\\nsubindex', '2019 Rank')\n",
      "31 ('Travel and Tourism Demand Drivers\\nsubindex', '2021 Value')\n",
      "32 ('Travel and Tourism Demand Drivers\\nsubindex', '2021 Rank')\n",
      "33 ('Travel and Tourism Demand Drivers\\nsubindex', '% Dif Score')\n",
      "34 ('Travel and Tourism Demand Drivers\\nsubindex', 'Rank Change')\n",
      "35 ('Travel and Tourism Sustainability subindex', '2019 Value')\n",
      "36 ('Travel and Tourism Sustainability subindex', '2019 Rank')\n",
      "37 ('Travel and Tourism Sustainability subindex', '2021 Value')\n",
      "38 ('Travel and Tourism Sustainability subindex', '2021 Rank')\n",
      "39 ('Travel and Tourism Sustainability subindex', '% Dif Score')\n",
      "40 ('Travel and Tourism Sustainability subindex', 'Rank Change')\n",
      "41 ('Business Environment pillar', '2019 Value')\n",
      "42 ('Business Environment pillar', '2019 Rank')\n",
      "43 ('Business Environment pillar', '2021 Value')\n",
      "44 ('Business Environment pillar', '2021 Rank')\n",
      "45 ('Business Environment pillar', '% Dif Score')\n",
      "46 ('Business Environment pillar', 'Rank Change')\n",
      "47 ('Safety and Security pillar', '2019 Value')\n",
      "48 ('Safety and Security pillar', '2019 Rank')\n",
      "49 ('Safety and Security pillar', '2021 Value')\n",
      "50 ('Safety and Security pillar', '2021 Rank')\n",
      "51 ('Safety and Security pillar', '% Dif Score')\n",
      "52 ('Safety and Security pillar', 'Rank Change')\n",
      "53 ('Health and Hygiene pillar', '2019 Value')\n",
      "54 ('Health and Hygiene pillar', '2019 Rank')\n",
      "55 ('Health and Hygiene pillar', '2021 Value')\n",
      "56 ('Health and Hygiene pillar', '2021 Rank')\n",
      "57 ('Health and Hygiene pillar', '% Dif Score')\n",
      "58 ('Health and Hygiene pillar', 'Rank Change')\n",
      "59 ('Human Resources and Labour Market pillar', '2019 Value')\n",
      "60 ('Human Resources and Labour Market pillar', '2019 Rank')\n",
      "61 ('Human Resources and Labour Market pillar', '2021 Value')\n",
      "62 ('Human Resources and Labour Market pillar', '2021 Rank')\n",
      "63 ('Human Resources and Labour Market pillar', '% Dif Score')\n",
      "64 ('Human Resources and Labour Market pillar', 'Rank Change')\n",
      "65 ('ICT Readiness pillar', '2019 Value')\n",
      "66 ('ICT Readiness pillar', '2019 Rank')\n",
      "67 ('ICT Readiness pillar', '2021 Value')\n",
      "68 ('ICT Readiness pillar', '2021 Rank')\n",
      "69 ('ICT Readiness pillar', '% Dif Score')\n",
      "70 ('ICT Readiness pillar', 'Rank Change')\n",
      "71 ('Prioritization of Travel & Tourism pillar', '2019 Value')\n",
      "72 ('Prioritization of Travel & Tourism pillar', '2019 Rank')\n",
      "73 ('Prioritization of Travel & Tourism pillar', '2021 Value')\n",
      "74 ('Prioritization of Travel & Tourism pillar', '2021 Rank')\n",
      "75 ('Prioritization of Travel & Tourism pillar', '% Dif Score')\n",
      "76 ('Prioritization of Travel & Tourism pillar', 'Rank Change')\n",
      "77 ('International Openness pillar', '2019 Value')\n",
      "78 ('International Openness pillar', '2019 Rank')\n",
      "79 ('International Openness pillar', '2021 Value')\n",
      "80 ('International Openness pillar', '2021 Rank')\n",
      "81 ('International Openness pillar', '% Dif Score')\n",
      "82 ('International Openness pillar', 'Rank Change')\n",
      "83 ('Price competitiveness pillar', '2019 Value')\n",
      "84 ('Price competitiveness pillar', '2019 Rank')\n",
      "85 ('Price competitiveness pillar', '2021 Value')\n",
      "86 ('Price competitiveness pillar', '2021 Rank')\n",
      "87 ('Price competitiveness pillar', '% Dif Score')\n",
      "88 ('Price competitiveness pillar', 'Rank Change')\n",
      "89 ('Air Transport Infrastructure pillar', '2019 Value')\n",
      "90 ('Air Transport Infrastructure pillar', '2019 Rank')\n",
      "91 ('Air Transport Infrastructure pillar', '2021 Value')\n",
      "92 ('Air Transport Infrastructure pillar', '2021 Rank')\n",
      "93 ('Air Transport Infrastructure pillar', '% Dif Score')\n",
      "94 ('Air Transport Infrastructure pillar', 'Rank Change')\n",
      "95 ('Ground and Port Infrastructure pillar', '2019 Value')\n",
      "96 ('Ground and Port Infrastructure pillar', '2019 Rank')\n",
      "97 ('Ground and Port Infrastructure pillar', '2021 Value')\n",
      "98 ('Ground and Port Infrastructure pillar', '2021 Rank')\n",
      "99 ('Ground and Port Infrastructure pillar', '% Dif Score')\n",
      "100 ('Ground and Port Infrastructure pillar', 'Rank Change')\n",
      "101 ('Tourist Service Infrastructure pillar', '2019 Value')\n",
      "102 ('Tourist Service Infrastructure pillar', '2019 Rank')\n",
      "103 ('Tourist Service Infrastructure pillar', '2021 Value')\n",
      "104 ('Tourist Service Infrastructure pillar', '2021 Rank')\n",
      "105 ('Tourist Service Infrastructure pillar', '% Dif Score')\n",
      "106 ('Tourist Service Infrastructure pillar', 'Rank Change')\n",
      "107 ('Natural Resources pillar', '2019 Value')\n",
      "108 ('Natural Resources pillar', '2019 Rank')\n",
      "109 ('Natural Resources pillar', '2021 Value')\n",
      "110 ('Natural Resources pillar', '2021 Rank')\n",
      "111 ('Natural Resources pillar', '% Dif Score')\n",
      "112 ('Natural Resources pillar', 'Rank Change')\n",
      "113 ('Cultural Resources pillar', '2019 Value')\n",
      "114 ('Cultural Resources pillar', '2019 Rank')\n",
      "115 ('Cultural Resources pillar', '2021 Value')\n",
      "116 ('Cultural Resources pillar', '2021 Rank')\n",
      "117 ('Cultural Resources pillar', '% Dif Score')\n",
      "118 ('Cultural Resources pillar', 'Rank Change')\n",
      "119 ('Non-Leisure Resources pillar', '2019 Value')\n",
      "120 ('Non-Leisure Resources pillar', '2019 Rank')\n",
      "121 ('Non-Leisure Resources pillar', '2021 Value')\n",
      "122 ('Non-Leisure Resources pillar', '2021 Rank')\n",
      "123 ('Non-Leisure Resources pillar', '% Dif Score')\n",
      "124 ('Non-Leisure Resources pillar', 'Rank Change')\n",
      "125 ('Environmental Sustainability pillar', '2019 Value')\n",
      "126 ('Environmental Sustainability pillar', '2019 Rank')\n",
      "127 ('Environmental Sustainability pillar', '2021 Value')\n",
      "128 ('Environmental Sustainability pillar', '2021 Rank')\n",
      "129 ('Environmental Sustainability pillar', '% Dif Score')\n",
      "130 ('Environmental Sustainability pillar', 'Rank Change')\n",
      "131 ('Socioeconomic Resilience & Conditions pillar', '2019 Value')\n",
      "132 ('Socioeconomic Resilience & Conditions pillar', '2019 Rank')\n",
      "133 ('Socioeconomic Resilience & Conditions pillar', '2021 Value')\n",
      "134 ('Socioeconomic Resilience & Conditions pillar', '2021 Rank')\n",
      "135 ('Socioeconomic Resilience & Conditions pillar', '% Dif Score')\n",
      "136 ('Socioeconomic Resilience & Conditions pillar', 'Rank Change')\n",
      "137 ('T&T Demand Pressure & Impact pillar', '2019 Value')\n",
      "138 ('T&T Demand Pressure & Impact pillar', '2019 Rank')\n",
      "139 ('T&T Demand Pressure & Impact pillar', '2021 Value')\n",
      "140 ('T&T Demand Pressure & Impact pillar', '2021 Rank')\n",
      "141 ('T&T Demand Pressure & Impact pillar', '% Dif Score')\n",
      "142 ('T&T Demand Pressure & Impact pillar', 'Rank Change')\n"
     ]
    }
   ],
   "source": [
    "# To check the index of the columns that we wish to drop\n",
    "for i, col in enumerate(wef.columns):\n",
    "    print(i, col)"
   ]
  },
  {
   "cell_type": "code",
   "execution_count": 507,
   "id": "37edcf0e",
   "metadata": {
    "pycharm": {
     "name": "#%%\n"
    }
   },
   "outputs": [
    {
     "data": {
      "text/plain": "Index([                                           'ISO Code',\n                                                   'Country',\n                                                 'Continent',\n                                             'Sub Continent',\n                                              'Income Group',\n       ('Travel & Tourism Development Index ', '2021 Value'),\n        ('Travel & Tourism Development Index ', '2021 Rank'),\n                   ('Infrastructure subindex', '2021 Value'),\n                    ('Infrastructure subindex', '2021 Rank'),\n                ('Safety and Security pillar', '2021 Value'),\n                 ('Safety and Security pillar', '2021 Rank'),\n                 ('Health and Hygiene pillar', '2021 Value'),\n                  ('Health and Hygiene pillar', '2021 Rank'),\n             ('International Openness pillar', '2021 Value'),\n              ('International Openness pillar', '2021 Rank'),\n              ('Price competitiveness pillar', '2021 Value'),\n               ('Price competitiveness pillar', '2021 Rank'),\n                  ('Natural Resources pillar', '2021 Value'),\n                   ('Natural Resources pillar', '2021 Rank'),\n                 ('Cultural Resources pillar', '2021 Value'),\n                  ('Cultural Resources pillar', '2021 Rank'),\n       ('Environmental Sustainability pillar', '2021 Value'),\n        ('Environmental Sustainability pillar', '2021 Rank')],\n      dtype='object')"
     },
     "execution_count": 507,
     "metadata": {},
     "output_type": "execute_result"
    }
   ],
   "source": [
    "# subset columns that we want to keep by its index\n",
    "wef = wef.iloc[:, [0,1,2,3,4,7,8,25,26,49,50,55,56,79,80,85,86,109,110,115,116,127,128]]\n",
    "wef.columns"
   ]
  },
  {
   "cell_type": "code",
   "execution_count": 508,
   "id": "127cf200",
   "metadata": {
    "pycharm": {
     "name": "#%%\n"
    }
   },
   "outputs": [
    {
     "data": {
      "text/plain": "ISO Code                                             0\nCountry                                              0\nContinent                                            0\nSub Continent                                        0\nIncome Group                                         0\n(Travel & Tourism Development Index , 2021 Value)    0\n(Travel & Tourism Development Index , 2021 Rank)     0\n(Infrastructure subindex, 2021 Value)                0\n(Infrastructure subindex, 2021 Rank)                 0\n(Safety and Security pillar, 2021 Value)             0\n(Safety and Security pillar, 2021 Rank)              0\n(Health and Hygiene pillar, 2021 Value)              0\n(Health and Hygiene pillar, 2021 Rank)               0\n(International Openness pillar, 2021 Value)          0\n(International Openness pillar, 2021 Rank)           0\n(Price competitiveness pillar, 2021 Value)           0\n(Price competitiveness pillar, 2021 Rank)            0\n(Natural Resources pillar, 2021 Value)               0\n(Natural Resources pillar, 2021 Rank)                0\n(Cultural Resources pillar, 2021 Value)              0\n(Cultural Resources pillar, 2021 Rank)               0\n(Environmental Sustainability pillar, 2021 Value)    0\n(Environmental Sustainability pillar, 2021 Rank)     0\ndtype: int64"
     },
     "execution_count": 508,
     "metadata": {},
     "output_type": "execute_result"
    }
   ],
   "source": [
    "# Check null values\n",
    "wef.isna().sum()"
   ]
  },
  {
   "cell_type": "code",
   "execution_count": 509,
   "id": "9c5c86cb",
   "metadata": {
    "pycharm": {
     "name": "#%%\n"
    }
   },
   "outputs": [
    {
     "data": {
      "text/plain": "Empty DataFrame\nColumns: [ISO Code, Country, Continent, Sub Continent, Income Group, (Travel & Tourism Development Index , 2021 Value), (Travel & Tourism Development Index , 2021 Rank), (Infrastructure subindex, 2021 Value), (Infrastructure subindex, 2021 Rank), (Safety and Security pillar, 2021 Value), (Safety and Security pillar, 2021 Rank), (Health and Hygiene pillar, 2021 Value), (Health and Hygiene pillar, 2021 Rank), (International Openness pillar, 2021 Value), (International Openness pillar, 2021 Rank), (Price competitiveness pillar, 2021 Value), (Price competitiveness pillar, 2021 Rank), (Natural Resources pillar, 2021 Value), (Natural Resources pillar, 2021 Rank), (Cultural Resources pillar, 2021 Value), (Cultural Resources pillar, 2021 Rank), (Environmental Sustainability pillar, 2021 Value), (Environmental Sustainability pillar, 2021 Rank)]\nIndex: []\n\n[0 rows x 23 columns]",
      "text/html": "<div>\n<style scoped>\n    .dataframe tbody tr th:only-of-type {\n        vertical-align: middle;\n    }\n\n    .dataframe tbody tr th {\n        vertical-align: top;\n    }\n\n    .dataframe thead th {\n        text-align: right;\n    }\n</style>\n<table border=\"1\" class=\"dataframe\">\n  <thead>\n    <tr style=\"text-align: right;\">\n      <th></th>\n      <th>ISO Code</th>\n      <th>Country</th>\n      <th>Continent</th>\n      <th>Sub Continent</th>\n      <th>Income Group</th>\n      <th>(Travel &amp; Tourism Development Index , 2021 Value)</th>\n      <th>(Travel &amp; Tourism Development Index , 2021 Rank)</th>\n      <th>(Infrastructure subindex, 2021 Value)</th>\n      <th>(Infrastructure subindex, 2021 Rank)</th>\n      <th>(Safety and Security pillar, 2021 Value)</th>\n      <th>...</th>\n      <th>(International Openness pillar, 2021 Value)</th>\n      <th>(International Openness pillar, 2021 Rank)</th>\n      <th>(Price competitiveness pillar, 2021 Value)</th>\n      <th>(Price competitiveness pillar, 2021 Rank)</th>\n      <th>(Natural Resources pillar, 2021 Value)</th>\n      <th>(Natural Resources pillar, 2021 Rank)</th>\n      <th>(Cultural Resources pillar, 2021 Value)</th>\n      <th>(Cultural Resources pillar, 2021 Rank)</th>\n      <th>(Environmental Sustainability pillar, 2021 Value)</th>\n      <th>(Environmental Sustainability pillar, 2021 Rank)</th>\n    </tr>\n  </thead>\n  <tbody>\n  </tbody>\n</table>\n<p>0 rows × 23 columns</p>\n</div>"
     },
     "execution_count": 509,
     "metadata": {},
     "output_type": "execute_result"
    }
   ],
   "source": [
    "# Check duplicates\n",
    "wef[wef['Country'].duplicated(keep=False)]"
   ]
  },
  {
   "cell_type": "markdown",
   "source": [
    "We found we have no null data and duplicates in the dataset."
   ],
   "metadata": {
    "collapsed": false,
    "pycharm": {
     "name": "#%% md\n"
    }
   }
  },
  {
   "cell_type": "code",
   "execution_count": 510,
   "outputs": [],
   "source": [
    "# capitalize the first letter and remove any extra spaces\n",
    "wef['Country'] = wef['Country'].str.title()\n",
    "wef['Country'] = wef['Country'].str.strip()"
   ],
   "metadata": {
    "collapsed": false,
    "pycharm": {
     "name": "#%%\n"
    }
   }
  },
  {
   "cell_type": "markdown",
   "id": "7b548796",
   "metadata": {
    "pycharm": {
     "name": "#%% md\n"
    }
   },
   "source": [
    "##### Set new columns that classify each index into three categories: Very good, Good, Limited"
   ]
  },
  {
   "cell_type": "code",
   "execution_count": 511,
   "id": "b2f7dd70",
   "metadata": {
    "pycharm": {
     "name": "#%%\n"
    }
   },
   "outputs": [],
   "source": [
    "# Infrastructure subindex\n",
    "conditions = [(wef[ ('Infrastructure subindex', '2021 Rank')] <= 38), (wef[('Infrastructure subindex', '2021 Rank')] >= 78)]\n",
    "choices = [\"Very good\", \"Limited\"]\n",
    "wef[\"Infrastructure subindex, classification\"] = np.select(conditions, choices, default = \"Good\")"
   ]
  },
  {
   "cell_type": "code",
   "execution_count": 512,
   "id": "3cb00235",
   "metadata": {
    "pycharm": {
     "name": "#%%\n"
    }
   },
   "outputs": [],
   "source": [
    "# Safety and Security pillar\n",
    "conditions = [(wef[('Safety and Security pillar', '2021 Rank')] <= 38), (wef[ ('Safety and Security pillar', '2021 Rank')] >= 78)]\n",
    "choices = [\"Very good\", \"Limited\"]\n",
    "wef[\"Safety and Security, Classification\"] = np.select(conditions, choices, default = \"Good\")"
   ]
  },
  {
   "cell_type": "code",
   "execution_count": 513,
   "id": "586d4258",
   "metadata": {
    "pycharm": {
     "name": "#%%\n"
    }
   },
   "outputs": [],
   "source": [
    "# Health and Hygiene pillar\n",
    "conditions = [(wef[('Health and Hygiene pillar', '2021 Rank')] <= 38), (wef[('Health and Hygiene pillar', '2021 Rank')] >= 78)]\n",
    "choices = [\"Very good\", \"Limited\"]\n",
    "wef[\"Health and Hygiene, Classification\"] = np.select(conditions, choices, default = \"Good\")"
   ]
  },
  {
   "cell_type": "code",
   "execution_count": 514,
   "id": "d510dd86",
   "metadata": {
    "pycharm": {
     "name": "#%%\n"
    }
   },
   "outputs": [],
   "source": [
    "# International Openness pillar\n",
    "conditions = [(wef[('International Openness pillar', '2021 Rank')] <= 38), (wef[('International Openness pillar', '2021 Rank')] >= 78)]\n",
    "choices = [\"Very good\", \"Limited\"]\n",
    "wef[\"International Openess, Classification\"] = np.select(conditions, choices, default = \"Good\")"
   ]
  },
  {
   "cell_type": "code",
   "execution_count": 515,
   "id": "01df6132",
   "metadata": {
    "pycharm": {
     "name": "#%%\n"
    }
   },
   "outputs": [],
   "source": [
    "# Price competitiveness pillar\n",
    "conditions = [(wef[('Price competitiveness pillar', '2021 Rank')] <= 38), (wef[ ('Price competitiveness pillar', '2021 Rank')] >= 78)]\n",
    "choices = [\"Very good\", \"Limited\"]\n",
    "wef[\"Price competitiveness, Classification\"] = np.select(conditions, choices, default = \"Good\")"
   ]
  },
  {
   "cell_type": "code",
   "execution_count": 516,
   "id": "89534e8b",
   "metadata": {
    "pycharm": {
     "name": "#%%\n"
    }
   },
   "outputs": [],
   "source": [
    "# Natural Resources pillar\n",
    "conditions = [(wef[('Natural Resources pillar', '2021 Rank')] <= 38), (wef[('Natural Resources pillar', '2021 Rank')] >= 78)]\n",
    "choices = [\"Very good\", \"Limited\"]\n",
    "wef[\"Natural Resources, Classification\"] = np.select(conditions, choices, default = \"Good\")"
   ]
  },
  {
   "cell_type": "code",
   "execution_count": 517,
   "id": "817d5cd6",
   "metadata": {
    "pycharm": {
     "name": "#%%\n"
    }
   },
   "outputs": [],
   "source": [
    "# Cultural Resources pillar\n",
    "conditions = [(wef[('Cultural Resources pillar', '2021 Rank')] <= 38), (wef[('Cultural Resources pillar', '2021 Rank')] >= 78)]\n",
    "choices = [\"Very good\", \"Limited\"]\n",
    "wef[\"Cultural Resources, Classification\"] = np.select(conditions, choices, default = \"Good\")"
   ]
  },
  {
   "cell_type": "code",
   "execution_count": 518,
   "id": "013908a3",
   "metadata": {
    "pycharm": {
     "name": "#%%\n"
    }
   },
   "outputs": [],
   "source": [
    "# Environmental Sustainability pillar\n",
    "conditions = [(wef[('Environmental Sustainability pillar', '2021 Rank')] <= 38), (wef[('Environmental Sustainability pillar', '2021 Rank')] >= 78)]\n",
    "choices = [\"Very good\", \"Limited\"]\n",
    "wef[\"Environmental Sustainability, Classification\"] = np.select(conditions, choices, default = \"Good\")"
   ]
  },
  {
   "cell_type": "markdown",
   "id": "9789a611",
   "metadata": {
    "pycharm": {
     "name": "#%% md\n"
    }
   },
   "source": [
    "#### Population dataset"
   ]
  },
  {
   "cell_type": "code",
   "execution_count": 519,
   "id": "35e4b504",
   "metadata": {
    "pycharm": {
     "name": "#%%\n"
    }
   },
   "outputs": [
    {
     "data": {
      "text/plain": "                  Country Name Country Code     Indicator Name Indicator Code  \\\n0                        Aruba          ABW  Population, total    SP.POP.TOTL   \n1  Africa Eastern and Southern          AFE  Population, total    SP.POP.TOTL   \n2                  Afghanistan          AFG  Population, total    SP.POP.TOTL   \n3   Africa Western and Central          AFW  Population, total    SP.POP.TOTL   \n4                       Angola          AGO  Population, total    SP.POP.TOTL   \n\n          1960         1961         1962         1963         1964  \\\n0      54208.0      55434.0      56234.0      56699.0      57029.0   \n1  130836765.0  134159786.0  137614644.0  141202036.0  144920186.0   \n2    8996967.0    9169406.0    9351442.0    9543200.0    9744772.0   \n3   96396419.0   98407221.0  100506960.0  102691339.0  104953470.0   \n4    5454938.0    5531451.0    5608499.0    5679409.0    5734995.0   \n\n          1965  ...         2012         2013         2014         2015  \\\n0      57357.0  ...     102565.0     103165.0     103776.0     104339.0   \n1  148769974.0  ...  547482863.0  562601578.0  578075373.0  593871847.0   \n2    9956318.0  ...   31161378.0   32269592.0   33370804.0   34413603.0   \n3  107289875.0  ...  370243017.0  380437896.0  390882979.0  401586651.0   \n4    5770573.0  ...   25107925.0   26015786.0   26941773.0   27884380.0   \n\n          2016         2017         2018         2019         2020  \\\n0     104865.0     105361.0     105846.0     106310.0     106766.0   \n1  609978946.0  626392880.0  643090131.0  660046272.0  677243299.0   \n2   35383028.0   36296111.0   37171922.0   38041757.0   38928341.0   \n3  412551299.0  423769930.0  435229381.0  446911598.0  458803476.0   \n4   28842482.0   29816769.0   30809787.0   31825299.0   32866268.0   \n\n          2021  \n0     107195.0  \n1  694665117.0  \n2   39835428.0  \n3  470898870.0  \n4   33933611.0  \n\n[5 rows x 66 columns]",
      "text/html": "<div>\n<style scoped>\n    .dataframe tbody tr th:only-of-type {\n        vertical-align: middle;\n    }\n\n    .dataframe tbody tr th {\n        vertical-align: top;\n    }\n\n    .dataframe thead th {\n        text-align: right;\n    }\n</style>\n<table border=\"1\" class=\"dataframe\">\n  <thead>\n    <tr style=\"text-align: right;\">\n      <th></th>\n      <th>Country Name</th>\n      <th>Country Code</th>\n      <th>Indicator Name</th>\n      <th>Indicator Code</th>\n      <th>1960</th>\n      <th>1961</th>\n      <th>1962</th>\n      <th>1963</th>\n      <th>1964</th>\n      <th>1965</th>\n      <th>...</th>\n      <th>2012</th>\n      <th>2013</th>\n      <th>2014</th>\n      <th>2015</th>\n      <th>2016</th>\n      <th>2017</th>\n      <th>2018</th>\n      <th>2019</th>\n      <th>2020</th>\n      <th>2021</th>\n    </tr>\n  </thead>\n  <tbody>\n    <tr>\n      <th>0</th>\n      <td>Aruba</td>\n      <td>ABW</td>\n      <td>Population, total</td>\n      <td>SP.POP.TOTL</td>\n      <td>54208.0</td>\n      <td>55434.0</td>\n      <td>56234.0</td>\n      <td>56699.0</td>\n      <td>57029.0</td>\n      <td>57357.0</td>\n      <td>...</td>\n      <td>102565.0</td>\n      <td>103165.0</td>\n      <td>103776.0</td>\n      <td>104339.0</td>\n      <td>104865.0</td>\n      <td>105361.0</td>\n      <td>105846.0</td>\n      <td>106310.0</td>\n      <td>106766.0</td>\n      <td>107195.0</td>\n    </tr>\n    <tr>\n      <th>1</th>\n      <td>Africa Eastern and Southern</td>\n      <td>AFE</td>\n      <td>Population, total</td>\n      <td>SP.POP.TOTL</td>\n      <td>130836765.0</td>\n      <td>134159786.0</td>\n      <td>137614644.0</td>\n      <td>141202036.0</td>\n      <td>144920186.0</td>\n      <td>148769974.0</td>\n      <td>...</td>\n      <td>547482863.0</td>\n      <td>562601578.0</td>\n      <td>578075373.0</td>\n      <td>593871847.0</td>\n      <td>609978946.0</td>\n      <td>626392880.0</td>\n      <td>643090131.0</td>\n      <td>660046272.0</td>\n      <td>677243299.0</td>\n      <td>694665117.0</td>\n    </tr>\n    <tr>\n      <th>2</th>\n      <td>Afghanistan</td>\n      <td>AFG</td>\n      <td>Population, total</td>\n      <td>SP.POP.TOTL</td>\n      <td>8996967.0</td>\n      <td>9169406.0</td>\n      <td>9351442.0</td>\n      <td>9543200.0</td>\n      <td>9744772.0</td>\n      <td>9956318.0</td>\n      <td>...</td>\n      <td>31161378.0</td>\n      <td>32269592.0</td>\n      <td>33370804.0</td>\n      <td>34413603.0</td>\n      <td>35383028.0</td>\n      <td>36296111.0</td>\n      <td>37171922.0</td>\n      <td>38041757.0</td>\n      <td>38928341.0</td>\n      <td>39835428.0</td>\n    </tr>\n    <tr>\n      <th>3</th>\n      <td>Africa Western and Central</td>\n      <td>AFW</td>\n      <td>Population, total</td>\n      <td>SP.POP.TOTL</td>\n      <td>96396419.0</td>\n      <td>98407221.0</td>\n      <td>100506960.0</td>\n      <td>102691339.0</td>\n      <td>104953470.0</td>\n      <td>107289875.0</td>\n      <td>...</td>\n      <td>370243017.0</td>\n      <td>380437896.0</td>\n      <td>390882979.0</td>\n      <td>401586651.0</td>\n      <td>412551299.0</td>\n      <td>423769930.0</td>\n      <td>435229381.0</td>\n      <td>446911598.0</td>\n      <td>458803476.0</td>\n      <td>470898870.0</td>\n    </tr>\n    <tr>\n      <th>4</th>\n      <td>Angola</td>\n      <td>AGO</td>\n      <td>Population, total</td>\n      <td>SP.POP.TOTL</td>\n      <td>5454938.0</td>\n      <td>5531451.0</td>\n      <td>5608499.0</td>\n      <td>5679409.0</td>\n      <td>5734995.0</td>\n      <td>5770573.0</td>\n      <td>...</td>\n      <td>25107925.0</td>\n      <td>26015786.0</td>\n      <td>26941773.0</td>\n      <td>27884380.0</td>\n      <td>28842482.0</td>\n      <td>29816769.0</td>\n      <td>30809787.0</td>\n      <td>31825299.0</td>\n      <td>32866268.0</td>\n      <td>33933611.0</td>\n    </tr>\n  </tbody>\n</table>\n<p>5 rows × 66 columns</p>\n</div>"
     },
     "execution_count": 519,
     "metadata": {},
     "output_type": "execute_result"
    }
   ],
   "source": [
    "pop.head()"
   ]
  },
  {
   "cell_type": "code",
   "execution_count": 520,
   "id": "28a8b966",
   "metadata": {
    "pycharm": {
     "name": "#%%\n"
    }
   },
   "outputs": [
    {
     "name": "stdout",
     "output_type": "stream",
     "text": [
      "<class 'pandas.core.frame.DataFrame'>\n",
      "RangeIndex: 266 entries, 0 to 265\n",
      "Data columns (total 66 columns):\n",
      " #   Column          Non-Null Count  Dtype  \n",
      "---  ------          --------------  -----  \n",
      " 0   Country Name    266 non-null    object \n",
      " 1   Country Code    266 non-null    object \n",
      " 2   Indicator Name  266 non-null    object \n",
      " 3   Indicator Code  266 non-null    object \n",
      " 4   1960            264 non-null    float64\n",
      " 5   1961            264 non-null    float64\n",
      " 6   1962            264 non-null    float64\n",
      " 7   1963            264 non-null    float64\n",
      " 8   1964            264 non-null    float64\n",
      " 9   1965            264 non-null    float64\n",
      " 10  1966            264 non-null    float64\n",
      " 11  1967            264 non-null    float64\n",
      " 12  1968            264 non-null    float64\n",
      " 13  1969            264 non-null    float64\n",
      " 14  1970            264 non-null    float64\n",
      " 15  1971            264 non-null    float64\n",
      " 16  1972            264 non-null    float64\n",
      " 17  1973            264 non-null    float64\n",
      " 18  1974            264 non-null    float64\n",
      " 19  1975            264 non-null    float64\n",
      " 20  1976            264 non-null    float64\n",
      " 21  1977            264 non-null    float64\n",
      " 22  1978            264 non-null    float64\n",
      " 23  1979            264 non-null    float64\n",
      " 24  1980            264 non-null    float64\n",
      " 25  1981            264 non-null    float64\n",
      " 26  1982            264 non-null    float64\n",
      " 27  1983            264 non-null    float64\n",
      " 28  1984            264 non-null    float64\n",
      " 29  1985            264 non-null    float64\n",
      " 30  1986            264 non-null    float64\n",
      " 31  1987            264 non-null    float64\n",
      " 32  1988            264 non-null    float64\n",
      " 33  1989            264 non-null    float64\n",
      " 34  1990            265 non-null    float64\n",
      " 35  1991            265 non-null    float64\n",
      " 36  1992            264 non-null    float64\n",
      " 37  1993            264 non-null    float64\n",
      " 38  1994            264 non-null    float64\n",
      " 39  1995            265 non-null    float64\n",
      " 40  1996            265 non-null    float64\n",
      " 41  1997            265 non-null    float64\n",
      " 42  1998            265 non-null    float64\n",
      " 43  1999            265 non-null    float64\n",
      " 44  2000            265 non-null    float64\n",
      " 45  2001            265 non-null    float64\n",
      " 46  2002            265 non-null    float64\n",
      " 47  2003            265 non-null    float64\n",
      " 48  2004            265 non-null    float64\n",
      " 49  2005            265 non-null    float64\n",
      " 50  2006            265 non-null    float64\n",
      " 51  2007            265 non-null    float64\n",
      " 52  2008            265 non-null    float64\n",
      " 53  2009            265 non-null    float64\n",
      " 54  2010            265 non-null    float64\n",
      " 55  2011            265 non-null    float64\n",
      " 56  2012            264 non-null    float64\n",
      " 57  2013            264 non-null    float64\n",
      " 58  2014            264 non-null    float64\n",
      " 59  2015            264 non-null    float64\n",
      " 60  2016            264 non-null    float64\n",
      " 61  2017            264 non-null    float64\n",
      " 62  2018            264 non-null    float64\n",
      " 63  2019            264 non-null    float64\n",
      " 64  2020            264 non-null    float64\n",
      " 65  2021            264 non-null    float64\n",
      "dtypes: float64(62), object(4)\n",
      "memory usage: 137.3+ KB\n"
     ]
    }
   ],
   "source": [
    "pop.info()"
   ]
  },
  {
   "cell_type": "code",
   "execution_count": 521,
   "id": "e3d8889f",
   "metadata": {
    "pycharm": {
     "name": "#%%\n"
    }
   },
   "outputs": [
    {
     "data": {
      "text/plain": "Country Name      0\nCountry Code      0\nIndicator Name    0\nIndicator Code    0\n1960              2\n                 ..\n2017              2\n2018              2\n2019              2\n2020              2\n2021              2\nLength: 66, dtype: int64"
     },
     "execution_count": 521,
     "metadata": {},
     "output_type": "execute_result"
    }
   ],
   "source": [
    "# Check null values\n",
    "pop.isna().sum()"
   ]
  },
  {
   "cell_type": "code",
   "execution_count": 522,
   "id": "08110c02",
   "metadata": {
    "pycharm": {
     "name": "#%%\n"
    }
   },
   "outputs": [
    {
     "data": {
      "text/plain": "       Country Name Country Code     Indicator Name Indicator Code       1960  \\\n69          Eritrea          ERI  Population, total    SP.POP.TOTL  1007586.0   \n110  Not classified          INX  Population, total    SP.POP.TOTL        NaN   \n\n          1961       1962       1963       1964       1965  ...  2012  2013  \\\n69   1033320.0  1060489.0  1088859.0  1118152.0  1148188.0  ...   NaN   NaN   \n110        NaN        NaN        NaN        NaN        NaN  ...   NaN   NaN   \n\n     2014  2015  2016  2017  2018  2019  2020  2021  \n69    NaN   NaN   NaN   NaN   NaN   NaN   NaN   NaN  \n110   NaN   NaN   NaN   NaN   NaN   NaN   NaN   NaN  \n\n[2 rows x 66 columns]",
      "text/html": "<div>\n<style scoped>\n    .dataframe tbody tr th:only-of-type {\n        vertical-align: middle;\n    }\n\n    .dataframe tbody tr th {\n        vertical-align: top;\n    }\n\n    .dataframe thead th {\n        text-align: right;\n    }\n</style>\n<table border=\"1\" class=\"dataframe\">\n  <thead>\n    <tr style=\"text-align: right;\">\n      <th></th>\n      <th>Country Name</th>\n      <th>Country Code</th>\n      <th>Indicator Name</th>\n      <th>Indicator Code</th>\n      <th>1960</th>\n      <th>1961</th>\n      <th>1962</th>\n      <th>1963</th>\n      <th>1964</th>\n      <th>1965</th>\n      <th>...</th>\n      <th>2012</th>\n      <th>2013</th>\n      <th>2014</th>\n      <th>2015</th>\n      <th>2016</th>\n      <th>2017</th>\n      <th>2018</th>\n      <th>2019</th>\n      <th>2020</th>\n      <th>2021</th>\n    </tr>\n  </thead>\n  <tbody>\n    <tr>\n      <th>69</th>\n      <td>Eritrea</td>\n      <td>ERI</td>\n      <td>Population, total</td>\n      <td>SP.POP.TOTL</td>\n      <td>1007586.0</td>\n      <td>1033320.0</td>\n      <td>1060489.0</td>\n      <td>1088859.0</td>\n      <td>1118152.0</td>\n      <td>1148188.0</td>\n      <td>...</td>\n      <td>NaN</td>\n      <td>NaN</td>\n      <td>NaN</td>\n      <td>NaN</td>\n      <td>NaN</td>\n      <td>NaN</td>\n      <td>NaN</td>\n      <td>NaN</td>\n      <td>NaN</td>\n      <td>NaN</td>\n    </tr>\n    <tr>\n      <th>110</th>\n      <td>Not classified</td>\n      <td>INX</td>\n      <td>Population, total</td>\n      <td>SP.POP.TOTL</td>\n      <td>NaN</td>\n      <td>NaN</td>\n      <td>NaN</td>\n      <td>NaN</td>\n      <td>NaN</td>\n      <td>NaN</td>\n      <td>...</td>\n      <td>NaN</td>\n      <td>NaN</td>\n      <td>NaN</td>\n      <td>NaN</td>\n      <td>NaN</td>\n      <td>NaN</td>\n      <td>NaN</td>\n      <td>NaN</td>\n      <td>NaN</td>\n      <td>NaN</td>\n    </tr>\n  </tbody>\n</table>\n<p>2 rows × 66 columns</p>\n</div>"
     },
     "execution_count": 522,
     "metadata": {},
     "output_type": "execute_result"
    }
   ],
   "source": [
    "# check null values in 2021, the relevant year for our analysis.\n",
    "pop[pop[[\"2021\"]].isnull().any(axis=1)]"
   ]
  },
  {
   "cell_type": "code",
   "execution_count": 523,
   "id": "3b72c10f",
   "metadata": {
    "pycharm": {
     "name": "#%%\n"
    }
   },
   "outputs": [
    {
     "data": {
      "text/plain": "Empty DataFrame\nColumns: [Country Name, Country Code, Indicator Name, Indicator Code, 1960, 1961, 1962, 1963, 1964, 1965, 1966, 1967, 1968, 1969, 1970, 1971, 1972, 1973, 1974, 1975, 1976, 1977, 1978, 1979, 1980, 1981, 1982, 1983, 1984, 1985, 1986, 1987, 1988, 1989, 1990, 1991, 1992, 1993, 1994, 1995, 1996, 1997, 1998, 1999, 2000, 2001, 2002, 2003, 2004, 2005, 2006, 2007, 2008, 2009, 2010, 2011, 2012, 2013, 2014, 2015, 2016, 2017, 2018, 2019, 2020, 2021]\nIndex: []\n\n[0 rows x 66 columns]",
      "text/html": "<div>\n<style scoped>\n    .dataframe tbody tr th:only-of-type {\n        vertical-align: middle;\n    }\n\n    .dataframe tbody tr th {\n        vertical-align: top;\n    }\n\n    .dataframe thead th {\n        text-align: right;\n    }\n</style>\n<table border=\"1\" class=\"dataframe\">\n  <thead>\n    <tr style=\"text-align: right;\">\n      <th></th>\n      <th>Country Name</th>\n      <th>Country Code</th>\n      <th>Indicator Name</th>\n      <th>Indicator Code</th>\n      <th>1960</th>\n      <th>1961</th>\n      <th>1962</th>\n      <th>1963</th>\n      <th>1964</th>\n      <th>1965</th>\n      <th>...</th>\n      <th>2012</th>\n      <th>2013</th>\n      <th>2014</th>\n      <th>2015</th>\n      <th>2016</th>\n      <th>2017</th>\n      <th>2018</th>\n      <th>2019</th>\n      <th>2020</th>\n      <th>2021</th>\n    </tr>\n  </thead>\n  <tbody>\n  </tbody>\n</table>\n<p>0 rows × 66 columns</p>\n</div>"
     },
     "execution_count": 523,
     "metadata": {},
     "output_type": "execute_result"
    }
   ],
   "source": [
    "pop[pop.duplicated(subset=['Country Name'])==True]"
   ]
  },
  {
   "cell_type": "markdown",
   "id": "f6ab800a",
   "metadata": {
    "pycharm": {
     "name": "#%% md\n"
    }
   },
   "source": [
    "Given the exploration done in the pop dataset, we can conclude that for the next step in the cleaning and transformations, we wish to keep only the \"Country Name\", \" Country Code\", and the most recent year 2021 (which we will rename to pop_2021). Moreover, to make sure that the dataset is homogeneous we will capitalize the first letter of each word in the \"Country Name\" column. We can also see that there is two null values in 2021, which will be handled."
   ]
  },
  {
   "cell_type": "code",
   "execution_count": 524,
   "id": "1fc661e2",
   "metadata": {
    "pycharm": {
     "name": "#%%\n"
    }
   },
   "outputs": [],
   "source": [
    "# Select the columns we are interest in\n",
    "pop = pop[[\"Country Name\", \"Country Code\", \"2021\"]]"
   ]
  },
  {
   "cell_type": "code",
   "execution_count": 525,
   "id": "58be157c",
   "metadata": {
    "pycharm": {
     "name": "#%%\n"
    }
   },
   "outputs": [],
   "source": [
    "# Rename the columns\n",
    "pop = pop.rename(columns = {\"2021\": \"Pop_2021\", \"Country Name\": \"Country\"})"
   ]
  },
  {
   "cell_type": "code",
   "execution_count": 526,
   "id": "c1993a49",
   "metadata": {
    "pycharm": {
     "name": "#%%\n"
    }
   },
   "outputs": [],
   "source": [
    "# Capitalise the first letter of each word in the Country column, and remove any extra spaces\n",
    "pop[\"Country\"] = pop[\"Country\"].str.title()\n",
    "pop[\"Country\"] = pop[\"Country\"].str.strip()"
   ]
  },
  {
   "cell_type": "code",
   "execution_count": 527,
   "id": "c8943c16",
   "metadata": {
    "pycharm": {
     "name": "#%%\n"
    }
   },
   "outputs": [],
   "source": [
    "# Remove empty rows\n",
    "pop = pop.dropna()"
   ]
  },
  {
   "cell_type": "markdown",
   "id": "b7183368",
   "metadata": {
    "pycharm": {
     "name": "#%% md\n"
    }
   },
   "source": [
    "#### Climate dataset"
   ]
  },
  {
   "cell_type": "code",
   "execution_count": 528,
   "id": "5458a5ee",
   "metadata": {
    "pycharm": {
     "name": "#%%\n"
    }
   },
   "outputs": [
    {
     "data": {
      "text/plain": "          COUNTRY                                        DESCRIPTION\n0     Afghanistan     arid to semiarid; cold winters and hot summers\n1        Akrotiri  temperate; Mediterranean with hot, dry summers...\n2         Albania  mild temperate; cool, cloudy, wet winters; hot...\n3         Algeria  arid to semiarid; mild, wet winters with hot, ...\n4  American Samoa  tropical marine, moderated by southeast trade ...",
      "text/html": "<div>\n<style scoped>\n    .dataframe tbody tr th:only-of-type {\n        vertical-align: middle;\n    }\n\n    .dataframe tbody tr th {\n        vertical-align: top;\n    }\n\n    .dataframe thead th {\n        text-align: right;\n    }\n</style>\n<table border=\"1\" class=\"dataframe\">\n  <thead>\n    <tr style=\"text-align: right;\">\n      <th></th>\n      <th>COUNTRY</th>\n      <th>DESCRIPTION</th>\n    </tr>\n  </thead>\n  <tbody>\n    <tr>\n      <th>0</th>\n      <td>Afghanistan</td>\n      <td>arid to semiarid; cold winters and hot summers</td>\n    </tr>\n    <tr>\n      <th>1</th>\n      <td>Akrotiri</td>\n      <td>temperate; Mediterranean with hot, dry summers...</td>\n    </tr>\n    <tr>\n      <th>2</th>\n      <td>Albania</td>\n      <td>mild temperate; cool, cloudy, wet winters; hot...</td>\n    </tr>\n    <tr>\n      <th>3</th>\n      <td>Algeria</td>\n      <td>arid to semiarid; mild, wet winters with hot, ...</td>\n    </tr>\n    <tr>\n      <th>4</th>\n      <td>American Samoa</td>\n      <td>tropical marine, moderated by southeast trade ...</td>\n    </tr>\n  </tbody>\n</table>\n</div>"
     },
     "execution_count": 528,
     "metadata": {},
     "output_type": "execute_result"
    }
   ],
   "source": [
    "clim.head()"
   ]
  },
  {
   "cell_type": "code",
   "execution_count": 529,
   "id": "94925272",
   "metadata": {
    "pycharm": {
     "name": "#%%\n"
    }
   },
   "outputs": [
    {
     "name": "stdout",
     "output_type": "stream",
     "text": [
      "<class 'pandas.core.frame.DataFrame'>\n",
      "RangeIndex: 277 entries, 0 to 276\n",
      "Data columns (total 2 columns):\n",
      " #   Column       Non-Null Count  Dtype \n",
      "---  ------       --------------  ----- \n",
      " 0   COUNTRY      277 non-null    object\n",
      " 1   DESCRIPTION  277 non-null    object\n",
      "dtypes: object(2)\n",
      "memory usage: 4.5+ KB\n"
     ]
    }
   ],
   "source": [
    "clim.info()"
   ]
  },
  {
   "cell_type": "code",
   "execution_count": 530,
   "id": "6c4d4990",
   "metadata": {
    "pycharm": {
     "name": "#%%\n"
    }
   },
   "outputs": [
    {
     "data": {
      "text/plain": "COUNTRY        0\nDESCRIPTION    0\ndtype: int64"
     },
     "execution_count": 530,
     "metadata": {},
     "output_type": "execute_result"
    }
   ],
   "source": [
    "# check null values\n",
    "clim.isna().sum()"
   ]
  },
  {
   "cell_type": "code",
   "execution_count": 531,
   "id": "edc45b30",
   "metadata": {
    "pycharm": {
     "name": "#%%\n"
    }
   },
   "outputs": [
    {
     "data": {
      "text/plain": "Empty DataFrame\nColumns: [COUNTRY, DESCRIPTION]\nIndex: []",
      "text/html": "<div>\n<style scoped>\n    .dataframe tbody tr th:only-of-type {\n        vertical-align: middle;\n    }\n\n    .dataframe tbody tr th {\n        vertical-align: top;\n    }\n\n    .dataframe thead th {\n        text-align: right;\n    }\n</style>\n<table border=\"1\" class=\"dataframe\">\n  <thead>\n    <tr style=\"text-align: right;\">\n      <th></th>\n      <th>COUNTRY</th>\n      <th>DESCRIPTION</th>\n    </tr>\n  </thead>\n  <tbody>\n  </tbody>\n</table>\n</div>"
     },
     "execution_count": 531,
     "metadata": {},
     "output_type": "execute_result"
    }
   ],
   "source": [
    "# check duplicates\n",
    "clim[clim.duplicated(subset=['COUNTRY'], keep=False)==True]"
   ]
  },
  {
   "cell_type": "markdown",
   "id": "92042541",
   "metadata": {
    "pycharm": {
     "name": "#%% md\n"
    }
   },
   "source": [
    "Given the exploration done in the clim dataset, we can conclude that for the next step in the cleaning and transformations, we wish to keep all the columns, but rename them. Moreover, to make sure that the dataset is homogeneous we will capitalize the first letter of each word in the \"COUNTRY\" and \"DESCRIPTION\" column. We can also see that there is no null values, hence no handling of missing values is needed in this case."
   ]
  },
  {
   "cell_type": "code",
   "execution_count": 532,
   "id": "4728dc4d",
   "metadata": {
    "pycharm": {
     "name": "#%%\n"
    }
   },
   "outputs": [],
   "source": [
    "# Rename the columns\n",
    "clim = clim.rename(columns = {\"COUNTRY\": \"Country\", \"DESCRIPTION\": \"Climate\"})"
   ]
  },
  {
   "cell_type": "code",
   "execution_count": 533,
   "id": "f718ba03",
   "metadata": {
    "pycharm": {
     "name": "#%%\n"
    }
   },
   "outputs": [],
   "source": [
    "# Capitalise the first letter of each word in the Country and Climate column, and remove any extra spaces in the Country column\n",
    "clim[\"Country\"] = clim[\"Country\"].str.title()\n",
    "clim[\"Country\"] = clim[\"Country\"].str.strip()\n",
    "clim[\"Climate\"] = clim[\"Climate\"].str.title()"
   ]
  },
  {
   "cell_type": "code",
   "execution_count": 534,
   "id": "61ede55d",
   "metadata": {
    "pycharm": {
     "name": "#%%\n"
    }
   },
   "outputs": [],
   "source": [
    "# Set a new column that classifies climates \n",
    "conditions = [(clim[\"Climate\"].str.contains(\"Tropical|Arid|Semiarid|Desert\")),\n",
    "              (clim[\"Climate\"].str.contains(\"Temperate|Continental|Hot Summers|Cold Winters|Warm Summers|Maritime\" )),\n",
    "              (clim[\"Climate\"].str.contains(\"Mediterranean|Subtropical\")),\n",
    "              (clim[\"Climate\"].str.contains(\"Highland\")), \n",
    "              (clim[\"Climate\"].str.contains(\"Polar|Antarctic|Arctic\")),\n",
    "              (clim[\"Climate\"].str.contains(\"Equatorial\"))]\n",
    "\n",
    "choices = [\"Tropical\", \"Temperate\", \"Subtropical\", \"Highland\", \"Polar\", \"Equatorial\" ]\n",
    "clim[\"Climate Zone\"] = np.select(conditions, choices, default=None)"
   ]
  },
  {
   "cell_type": "code",
   "execution_count": 535,
   "id": "d73ee745",
   "metadata": {
    "pycharm": {
     "name": "#%%\n"
    }
   },
   "outputs": [
    {
     "data": {
      "text/plain": "                                          Country  \\\n81              Falkland Islands (Islas Malvinas)   \n82                                  Faroe Islands   \n104                                        Guinea   \n211                                  Saint Martin   \n212                     Saint Pierre And Miquelon   \n229  South Georgia And The South Sandwich Islands   \n\n                                               Climate Climate Zone  \n81   Cold Marine; Strong Westerly Winds, Cloudy, Hu...         None  \n82   Mild Winters, Cool Summers; Usually Overcast; ...         None  \n104  Generally Hot And Humid; Monsoonal-Type Rainy ...         None  \n211  Temperature Averages 80-85 Degrees All Year Lo...         None  \n212  Cold And Wet, With Considerable Mist And Fog; ...         None  \n229  Variable, With Mostly Westerly Winds Throughou...         None  ",
      "text/html": "<div>\n<style scoped>\n    .dataframe tbody tr th:only-of-type {\n        vertical-align: middle;\n    }\n\n    .dataframe tbody tr th {\n        vertical-align: top;\n    }\n\n    .dataframe thead th {\n        text-align: right;\n    }\n</style>\n<table border=\"1\" class=\"dataframe\">\n  <thead>\n    <tr style=\"text-align: right;\">\n      <th></th>\n      <th>Country</th>\n      <th>Climate</th>\n      <th>Climate Zone</th>\n    </tr>\n  </thead>\n  <tbody>\n    <tr>\n      <th>81</th>\n      <td>Falkland Islands (Islas Malvinas)</td>\n      <td>Cold Marine; Strong Westerly Winds, Cloudy, Hu...</td>\n      <td>None</td>\n    </tr>\n    <tr>\n      <th>82</th>\n      <td>Faroe Islands</td>\n      <td>Mild Winters, Cool Summers; Usually Overcast; ...</td>\n      <td>None</td>\n    </tr>\n    <tr>\n      <th>104</th>\n      <td>Guinea</td>\n      <td>Generally Hot And Humid; Monsoonal-Type Rainy ...</td>\n      <td>None</td>\n    </tr>\n    <tr>\n      <th>211</th>\n      <td>Saint Martin</td>\n      <td>Temperature Averages 80-85 Degrees All Year Lo...</td>\n      <td>None</td>\n    </tr>\n    <tr>\n      <th>212</th>\n      <td>Saint Pierre And Miquelon</td>\n      <td>Cold And Wet, With Considerable Mist And Fog; ...</td>\n      <td>None</td>\n    </tr>\n    <tr>\n      <th>229</th>\n      <td>South Georgia And The South Sandwich Islands</td>\n      <td>Variable, With Mostly Westerly Winds Throughou...</td>\n      <td>None</td>\n    </tr>\n  </tbody>\n</table>\n</div>"
     },
     "execution_count": 535,
     "metadata": {},
     "output_type": "execute_result"
    }
   ],
   "source": [
    "# check rows that were not categorized into the climate zone\n",
    "clim[clim['Climate Zone'].isnull()]"
   ]
  },
  {
   "cell_type": "markdown",
   "source": [
    "We will ignore the above countries that were not classified, since these are not the countries that we are interested (not presented in the WEF dataset)."
   ],
   "metadata": {
    "collapsed": false,
    "pycharm": {
     "name": "#%% md\n"
    }
   }
  },
  {
   "cell_type": "markdown",
   "id": "ac7ff58d",
   "metadata": {
    "pycharm": {
     "name": "#%% md\n"
    }
   },
   "source": [
    "#### Currency dataset"
   ]
  },
  {
   "cell_type": "code",
   "execution_count": 536,
   "id": "12764367",
   "metadata": {
    "pycharm": {
     "name": "#%%\n"
    }
   },
   "outputs": [
    {
     "data": {
      "text/plain": "           Entity        Currency AlphabeticCode  NumericCode MinorUnit  \\\n0     AFGHANISTAN         Afghani            AFN        971.0         2   \n1   ÅLAND ISLANDS            Euro            EUR        978.0         2   \n2         ALBANIA             Lek            ALL          8.0         2   \n3         ALGERIA  Algerian Dinar            DZD         12.0         2   \n4  AMERICAN SAMOA       US Dollar            USD        840.0         2   \n\n  WithdrawalDate  \n0            NaN  \n1            NaN  \n2            NaN  \n3            NaN  \n4            NaN  ",
      "text/html": "<div>\n<style scoped>\n    .dataframe tbody tr th:only-of-type {\n        vertical-align: middle;\n    }\n\n    .dataframe tbody tr th {\n        vertical-align: top;\n    }\n\n    .dataframe thead th {\n        text-align: right;\n    }\n</style>\n<table border=\"1\" class=\"dataframe\">\n  <thead>\n    <tr style=\"text-align: right;\">\n      <th></th>\n      <th>Entity</th>\n      <th>Currency</th>\n      <th>AlphabeticCode</th>\n      <th>NumericCode</th>\n      <th>MinorUnit</th>\n      <th>WithdrawalDate</th>\n    </tr>\n  </thead>\n  <tbody>\n    <tr>\n      <th>0</th>\n      <td>AFGHANISTAN</td>\n      <td>Afghani</td>\n      <td>AFN</td>\n      <td>971.0</td>\n      <td>2</td>\n      <td>NaN</td>\n    </tr>\n    <tr>\n      <th>1</th>\n      <td>ÅLAND ISLANDS</td>\n      <td>Euro</td>\n      <td>EUR</td>\n      <td>978.0</td>\n      <td>2</td>\n      <td>NaN</td>\n    </tr>\n    <tr>\n      <th>2</th>\n      <td>ALBANIA</td>\n      <td>Lek</td>\n      <td>ALL</td>\n      <td>8.0</td>\n      <td>2</td>\n      <td>NaN</td>\n    </tr>\n    <tr>\n      <th>3</th>\n      <td>ALGERIA</td>\n      <td>Algerian Dinar</td>\n      <td>DZD</td>\n      <td>12.0</td>\n      <td>2</td>\n      <td>NaN</td>\n    </tr>\n    <tr>\n      <th>4</th>\n      <td>AMERICAN SAMOA</td>\n      <td>US Dollar</td>\n      <td>USD</td>\n      <td>840.0</td>\n      <td>2</td>\n      <td>NaN</td>\n    </tr>\n  </tbody>\n</table>\n</div>"
     },
     "execution_count": 536,
     "metadata": {},
     "output_type": "execute_result"
    }
   ],
   "source": [
    "curr.head()"
   ]
  },
  {
   "cell_type": "code",
   "execution_count": 537,
   "id": "f7774e71",
   "metadata": {
    "pycharm": {
     "name": "#%%\n"
    }
   },
   "outputs": [
    {
     "name": "stdout",
     "output_type": "stream",
     "text": [
      "<class 'pandas.core.frame.DataFrame'>\n",
      "RangeIndex: 441 entries, 0 to 440\n",
      "Data columns (total 6 columns):\n",
      " #   Column          Non-Null Count  Dtype  \n",
      "---  ------          --------------  -----  \n",
      " 0   Entity          441 non-null    object \n",
      " 1   Currency        441 non-null    object \n",
      " 2   AlphabeticCode  438 non-null    object \n",
      " 3   NumericCode     435 non-null    float64\n",
      " 4   MinorUnit       276 non-null    object \n",
      " 5   WithdrawalDate  162 non-null    object \n",
      "dtypes: float64(1), object(5)\n",
      "memory usage: 20.8+ KB\n"
     ]
    }
   ],
   "source": [
    "curr.info()"
   ]
  },
  {
   "cell_type": "code",
   "execution_count": 538,
   "id": "af516d26",
   "metadata": {
    "pycharm": {
     "name": "#%%\n"
    }
   },
   "outputs": [
    {
     "data": {
      "text/plain": "Entity              0\nCurrency            0\nAlphabeticCode      3\nNumericCode         6\nMinorUnit         165\nWithdrawalDate    279\ndtype: int64"
     },
     "execution_count": 538,
     "metadata": {},
     "output_type": "execute_result"
    }
   ],
   "source": [
    "# check null values\n",
    "curr.isna().sum()"
   ]
  },
  {
   "cell_type": "code",
   "execution_count": 539,
   "id": "380e7492",
   "metadata": {
    "pycharm": {
     "name": "#%%\n"
    }
   },
   "outputs": [
    {
     "data": {
      "text/plain": "                                           Entity               Currency  \\\n8                                      ANTARCTICA  No universal currency   \n183                           PALESTINE, STATE OF  No universal currency   \n222  SOUTH GEORGIA AND THE SOUTH SANDWICH ISLANDS  No universal currency   \n\n    AlphabeticCode  NumericCode MinorUnit WithdrawalDate  \n8              NaN          NaN       NaN            NaN  \n183            NaN          NaN       NaN            NaN  \n222            NaN          NaN       NaN            NaN  ",
      "text/html": "<div>\n<style scoped>\n    .dataframe tbody tr th:only-of-type {\n        vertical-align: middle;\n    }\n\n    .dataframe tbody tr th {\n        vertical-align: top;\n    }\n\n    .dataframe thead th {\n        text-align: right;\n    }\n</style>\n<table border=\"1\" class=\"dataframe\">\n  <thead>\n    <tr style=\"text-align: right;\">\n      <th></th>\n      <th>Entity</th>\n      <th>Currency</th>\n      <th>AlphabeticCode</th>\n      <th>NumericCode</th>\n      <th>MinorUnit</th>\n      <th>WithdrawalDate</th>\n    </tr>\n  </thead>\n  <tbody>\n    <tr>\n      <th>8</th>\n      <td>ANTARCTICA</td>\n      <td>No universal currency</td>\n      <td>NaN</td>\n      <td>NaN</td>\n      <td>NaN</td>\n      <td>NaN</td>\n    </tr>\n    <tr>\n      <th>183</th>\n      <td>PALESTINE, STATE OF</td>\n      <td>No universal currency</td>\n      <td>NaN</td>\n      <td>NaN</td>\n      <td>NaN</td>\n      <td>NaN</td>\n    </tr>\n    <tr>\n      <th>222</th>\n      <td>SOUTH GEORGIA AND THE SOUTH SANDWICH ISLANDS</td>\n      <td>No universal currency</td>\n      <td>NaN</td>\n      <td>NaN</td>\n      <td>NaN</td>\n      <td>NaN</td>\n    </tr>\n  </tbody>\n</table>\n</div>"
     },
     "execution_count": 539,
     "metadata": {},
     "output_type": "execute_result"
    }
   ],
   "source": [
    "# check three null values in Alphabetic Code\n",
    "curr[curr[[\"AlphabeticCode\"]].isnull().any(axis=1)]"
   ]
  },
  {
   "cell_type": "code",
   "execution_count": 540,
   "id": "c8f8afb0",
   "metadata": {
    "pycharm": {
     "name": "#%%\n"
    }
   },
   "outputs": [
    {
     "data": {
      "text/plain": "                    Entity               Currency AlphabeticCode  NumericCode  \\\n279            AFGHANISTAN                Afghani            AFA          4.0   \n280          ÅLAND ISLANDS                 Markka            FIM        246.0   \n281                ALBANIA                Old Lek            ALK          8.0   \n282                ANDORRA        Andorran Peseta            ADP         20.0   \n283                ANDORRA         Spanish Peseta            ESP        724.0   \n..                     ...                    ...            ...          ...   \n436               ZIMBABWE  Zimbabwe Dollar (new)            ZWN        942.0   \n437               ZIMBABWE        Zimbabwe Dollar            ZWR        935.0   \n438        ZZ01_Gold-Franc             Gold-Franc            XFO          NaN   \n439  ZZ02_RINET Funds Code       RINET Funds Code            XRE          NaN   \n440         ZZ05_UIC-Franc              UIC-Franc            XFU          NaN   \n\n    MinorUnit WithdrawalDate  \n279       NaN        2003-01  \n280       NaN        2002-03  \n281       NaN        1989-12  \n282       NaN        2003-07  \n283       NaN        2002-03  \n..        ...            ...  \n436       NaN        2006-09  \n437       NaN        2009-06  \n438       NaN        2006-10  \n439       NaN        1999-11  \n440       NaN        2013-11  \n\n[162 rows x 6 columns]",
      "text/html": "<div>\n<style scoped>\n    .dataframe tbody tr th:only-of-type {\n        vertical-align: middle;\n    }\n\n    .dataframe tbody tr th {\n        vertical-align: top;\n    }\n\n    .dataframe thead th {\n        text-align: right;\n    }\n</style>\n<table border=\"1\" class=\"dataframe\">\n  <thead>\n    <tr style=\"text-align: right;\">\n      <th></th>\n      <th>Entity</th>\n      <th>Currency</th>\n      <th>AlphabeticCode</th>\n      <th>NumericCode</th>\n      <th>MinorUnit</th>\n      <th>WithdrawalDate</th>\n    </tr>\n  </thead>\n  <tbody>\n    <tr>\n      <th>279</th>\n      <td>AFGHANISTAN</td>\n      <td>Afghani</td>\n      <td>AFA</td>\n      <td>4.0</td>\n      <td>NaN</td>\n      <td>2003-01</td>\n    </tr>\n    <tr>\n      <th>280</th>\n      <td>ÅLAND ISLANDS</td>\n      <td>Markka</td>\n      <td>FIM</td>\n      <td>246.0</td>\n      <td>NaN</td>\n      <td>2002-03</td>\n    </tr>\n    <tr>\n      <th>281</th>\n      <td>ALBANIA</td>\n      <td>Old Lek</td>\n      <td>ALK</td>\n      <td>8.0</td>\n      <td>NaN</td>\n      <td>1989-12</td>\n    </tr>\n    <tr>\n      <th>282</th>\n      <td>ANDORRA</td>\n      <td>Andorran Peseta</td>\n      <td>ADP</td>\n      <td>20.0</td>\n      <td>NaN</td>\n      <td>2003-07</td>\n    </tr>\n    <tr>\n      <th>283</th>\n      <td>ANDORRA</td>\n      <td>Spanish Peseta</td>\n      <td>ESP</td>\n      <td>724.0</td>\n      <td>NaN</td>\n      <td>2002-03</td>\n    </tr>\n    <tr>\n      <th>...</th>\n      <td>...</td>\n      <td>...</td>\n      <td>...</td>\n      <td>...</td>\n      <td>...</td>\n      <td>...</td>\n    </tr>\n    <tr>\n      <th>436</th>\n      <td>ZIMBABWE</td>\n      <td>Zimbabwe Dollar (new)</td>\n      <td>ZWN</td>\n      <td>942.0</td>\n      <td>NaN</td>\n      <td>2006-09</td>\n    </tr>\n    <tr>\n      <th>437</th>\n      <td>ZIMBABWE</td>\n      <td>Zimbabwe Dollar</td>\n      <td>ZWR</td>\n      <td>935.0</td>\n      <td>NaN</td>\n      <td>2009-06</td>\n    </tr>\n    <tr>\n      <th>438</th>\n      <td>ZZ01_Gold-Franc</td>\n      <td>Gold-Franc</td>\n      <td>XFO</td>\n      <td>NaN</td>\n      <td>NaN</td>\n      <td>2006-10</td>\n    </tr>\n    <tr>\n      <th>439</th>\n      <td>ZZ02_RINET Funds Code</td>\n      <td>RINET Funds Code</td>\n      <td>XRE</td>\n      <td>NaN</td>\n      <td>NaN</td>\n      <td>1999-11</td>\n    </tr>\n    <tr>\n      <th>440</th>\n      <td>ZZ05_UIC-Franc</td>\n      <td>UIC-Franc</td>\n      <td>XFU</td>\n      <td>NaN</td>\n      <td>NaN</td>\n      <td>2013-11</td>\n    </tr>\n  </tbody>\n</table>\n<p>162 rows × 6 columns</p>\n</div>"
     },
     "execution_count": 540,
     "metadata": {},
     "output_type": "execute_result"
    }
   ],
   "source": [
    "# check historic currencies that withdrawal date is not null\n",
    "curr[curr[[\"WithdrawalDate\"]].notnull().any(axis=1)]"
   ]
  },
  {
   "cell_type": "markdown",
   "id": "fe0a3ded",
   "metadata": {
    "pycharm": {
     "name": "#%% md\n"
    }
   },
   "source": [
    "Given the exploration done in the curr dataset, we can conclude that for the next step in the cleaning and transformations, we wish to keep only the \"Entity\", \"Currency\", and \"AlphabeticCode\" columns, but rename them. Moreover, to make sure that the dataset is homogeneous we will capitalize the first letter of each word in the \"Entity\" and \"Currency\" column. We can also see that there is three null values in the \"AlphabeticCode\" column, which will be handled. In addition, there are a number of currencies which are no longer used, we will them subset this dataset to only contain currently accepted currencies."
   ]
  },
  {
   "cell_type": "code",
   "execution_count": 541,
   "id": "d74ed484",
   "metadata": {
    "pycharm": {
     "name": "#%%\n"
    }
   },
   "outputs": [],
   "source": [
    "# Drop rows with Null values in Alphabetic Code as those are not officially recognized countries\n",
    "curr.dropna(subset=['AlphabeticCode'], inplace=True)"
   ]
  },
  {
   "cell_type": "code",
   "execution_count": 542,
   "id": "50e82921",
   "metadata": {
    "pycharm": {
     "name": "#%%\n"
    }
   },
   "outputs": [],
   "source": [
    "# Keep only the rows without a withdrawal date\n",
    "curr = curr[curr[[\"WithdrawalDate\"]].isnull().any(axis=1)]"
   ]
  },
  {
   "cell_type": "code",
   "execution_count": 543,
   "id": "56576dc3",
   "metadata": {
    "pycharm": {
     "name": "#%%\n"
    }
   },
   "outputs": [
    {
     "data": {
      "text/plain": "                               Entity  \\\n25                             BHUTAN   \n26                             BHUTAN   \n27   BOLIVIA (PLURINATIONAL STATE OF)   \n28   BOLIVIA (PLURINATIONAL STATE OF)   \n46                              CHILE   \n47                              CHILE   \n51                           COLOMBIA   \n52                           COLOMBIA   \n60                               CUBA   \n61                               CUBA   \n71                        EL SALVADOR   \n72                        EL SALVADOR   \n103                             HAITI   \n104                             HAITI   \n134                           LESOTHO   \n135                           LESOTHO   \n155                            MEXICO   \n156                            MEXICO   \n166                           NAMIBIA   \n167                           NAMIBIA   \n184                            PANAMA   \n185                            PANAMA   \n230                       SWITZERLAND   \n231                       SWITZERLAND   \n232                       SWITZERLAND   \n253    UNITED STATES OF AMERICA (THE)   \n254    UNITED STATES OF AMERICA (THE)   \n255                           URUGUAY   \n256                           URUGUAY   \n257                           URUGUAY   \n\n                                    Currency AlphabeticCode  NumericCode  \\\n25                              Indian Rupee            INR        356.0   \n26                                  Ngultrum            BTN         64.0   \n27                                 Boliviano            BOB         68.0   \n28                                     Mvdol            BOV        984.0   \n46                              Chilean Peso            CLP        152.0   \n47                         Unidad de Fomento            CLF        990.0   \n51                            Colombian Peso            COP        170.0   \n52                      Unidad de Valor Real            COU        970.0   \n60                                Cuban Peso            CUP        192.0   \n61                          Peso Convertible            CUC        931.0   \n71                         El Salvador Colon            SVC        222.0   \n72                                 US Dollar            USD        840.0   \n103                                   Gourde            HTG        332.0   \n104                                US Dollar            USD        840.0   \n134                                     Loti            LSL        426.0   \n135                                     Rand            ZAR        710.0   \n155                             Mexican Peso            MXN        484.0   \n156        Mexican Unidad de Inversion (UDI)            MXV        979.0   \n166                           Namibia Dollar            NAD        516.0   \n167                                     Rand            ZAR        710.0   \n184                                   Balboa            PAB        590.0   \n185                                US Dollar            USD        840.0   \n230                              Swiss Franc            CHF        756.0   \n231                                 WIR Euro            CHE        947.0   \n232                                WIR Franc            CHW        948.0   \n253                                US Dollar            USD        840.0   \n254                     US Dollar (Next day)            USN        997.0   \n255                            Peso Uruguayo            UYU        858.0   \n256  Uruguay Peso en Unidades Indexadas (UI)            UYI        940.0   \n257                       Unidad Previsional            UYW        927.0   \n\n    MinorUnit WithdrawalDate  \n25          2            NaN  \n26          2            NaN  \n27          2            NaN  \n28          2            NaN  \n46          0            NaN  \n47          4            NaN  \n51          2            NaN  \n52          2            NaN  \n60          2            NaN  \n61          2            NaN  \n71          2            NaN  \n72          2            NaN  \n103         2            NaN  \n104         2            NaN  \n134         2            NaN  \n135         2            NaN  \n155         2            NaN  \n156         2            NaN  \n166         2            NaN  \n167         2            NaN  \n184         2            NaN  \n185         2            NaN  \n230         2            NaN  \n231         2            NaN  \n232         2            NaN  \n253         2            NaN  \n254         2            NaN  \n255         2            NaN  \n256         0            NaN  \n257         4            NaN  ",
      "text/html": "<div>\n<style scoped>\n    .dataframe tbody tr th:only-of-type {\n        vertical-align: middle;\n    }\n\n    .dataframe tbody tr th {\n        vertical-align: top;\n    }\n\n    .dataframe thead th {\n        text-align: right;\n    }\n</style>\n<table border=\"1\" class=\"dataframe\">\n  <thead>\n    <tr style=\"text-align: right;\">\n      <th></th>\n      <th>Entity</th>\n      <th>Currency</th>\n      <th>AlphabeticCode</th>\n      <th>NumericCode</th>\n      <th>MinorUnit</th>\n      <th>WithdrawalDate</th>\n    </tr>\n  </thead>\n  <tbody>\n    <tr>\n      <th>25</th>\n      <td>BHUTAN</td>\n      <td>Indian Rupee</td>\n      <td>INR</td>\n      <td>356.0</td>\n      <td>2</td>\n      <td>NaN</td>\n    </tr>\n    <tr>\n      <th>26</th>\n      <td>BHUTAN</td>\n      <td>Ngultrum</td>\n      <td>BTN</td>\n      <td>64.0</td>\n      <td>2</td>\n      <td>NaN</td>\n    </tr>\n    <tr>\n      <th>27</th>\n      <td>BOLIVIA (PLURINATIONAL STATE OF)</td>\n      <td>Boliviano</td>\n      <td>BOB</td>\n      <td>68.0</td>\n      <td>2</td>\n      <td>NaN</td>\n    </tr>\n    <tr>\n      <th>28</th>\n      <td>BOLIVIA (PLURINATIONAL STATE OF)</td>\n      <td>Mvdol</td>\n      <td>BOV</td>\n      <td>984.0</td>\n      <td>2</td>\n      <td>NaN</td>\n    </tr>\n    <tr>\n      <th>46</th>\n      <td>CHILE</td>\n      <td>Chilean Peso</td>\n      <td>CLP</td>\n      <td>152.0</td>\n      <td>0</td>\n      <td>NaN</td>\n    </tr>\n    <tr>\n      <th>47</th>\n      <td>CHILE</td>\n      <td>Unidad de Fomento</td>\n      <td>CLF</td>\n      <td>990.0</td>\n      <td>4</td>\n      <td>NaN</td>\n    </tr>\n    <tr>\n      <th>51</th>\n      <td>COLOMBIA</td>\n      <td>Colombian Peso</td>\n      <td>COP</td>\n      <td>170.0</td>\n      <td>2</td>\n      <td>NaN</td>\n    </tr>\n    <tr>\n      <th>52</th>\n      <td>COLOMBIA</td>\n      <td>Unidad de Valor Real</td>\n      <td>COU</td>\n      <td>970.0</td>\n      <td>2</td>\n      <td>NaN</td>\n    </tr>\n    <tr>\n      <th>60</th>\n      <td>CUBA</td>\n      <td>Cuban Peso</td>\n      <td>CUP</td>\n      <td>192.0</td>\n      <td>2</td>\n      <td>NaN</td>\n    </tr>\n    <tr>\n      <th>61</th>\n      <td>CUBA</td>\n      <td>Peso Convertible</td>\n      <td>CUC</td>\n      <td>931.0</td>\n      <td>2</td>\n      <td>NaN</td>\n    </tr>\n    <tr>\n      <th>71</th>\n      <td>EL SALVADOR</td>\n      <td>El Salvador Colon</td>\n      <td>SVC</td>\n      <td>222.0</td>\n      <td>2</td>\n      <td>NaN</td>\n    </tr>\n    <tr>\n      <th>72</th>\n      <td>EL SALVADOR</td>\n      <td>US Dollar</td>\n      <td>USD</td>\n      <td>840.0</td>\n      <td>2</td>\n      <td>NaN</td>\n    </tr>\n    <tr>\n      <th>103</th>\n      <td>HAITI</td>\n      <td>Gourde</td>\n      <td>HTG</td>\n      <td>332.0</td>\n      <td>2</td>\n      <td>NaN</td>\n    </tr>\n    <tr>\n      <th>104</th>\n      <td>HAITI</td>\n      <td>US Dollar</td>\n      <td>USD</td>\n      <td>840.0</td>\n      <td>2</td>\n      <td>NaN</td>\n    </tr>\n    <tr>\n      <th>134</th>\n      <td>LESOTHO</td>\n      <td>Loti</td>\n      <td>LSL</td>\n      <td>426.0</td>\n      <td>2</td>\n      <td>NaN</td>\n    </tr>\n    <tr>\n      <th>135</th>\n      <td>LESOTHO</td>\n      <td>Rand</td>\n      <td>ZAR</td>\n      <td>710.0</td>\n      <td>2</td>\n      <td>NaN</td>\n    </tr>\n    <tr>\n      <th>155</th>\n      <td>MEXICO</td>\n      <td>Mexican Peso</td>\n      <td>MXN</td>\n      <td>484.0</td>\n      <td>2</td>\n      <td>NaN</td>\n    </tr>\n    <tr>\n      <th>156</th>\n      <td>MEXICO</td>\n      <td>Mexican Unidad de Inversion (UDI)</td>\n      <td>MXV</td>\n      <td>979.0</td>\n      <td>2</td>\n      <td>NaN</td>\n    </tr>\n    <tr>\n      <th>166</th>\n      <td>NAMIBIA</td>\n      <td>Namibia Dollar</td>\n      <td>NAD</td>\n      <td>516.0</td>\n      <td>2</td>\n      <td>NaN</td>\n    </tr>\n    <tr>\n      <th>167</th>\n      <td>NAMIBIA</td>\n      <td>Rand</td>\n      <td>ZAR</td>\n      <td>710.0</td>\n      <td>2</td>\n      <td>NaN</td>\n    </tr>\n    <tr>\n      <th>184</th>\n      <td>PANAMA</td>\n      <td>Balboa</td>\n      <td>PAB</td>\n      <td>590.0</td>\n      <td>2</td>\n      <td>NaN</td>\n    </tr>\n    <tr>\n      <th>185</th>\n      <td>PANAMA</td>\n      <td>US Dollar</td>\n      <td>USD</td>\n      <td>840.0</td>\n      <td>2</td>\n      <td>NaN</td>\n    </tr>\n    <tr>\n      <th>230</th>\n      <td>SWITZERLAND</td>\n      <td>Swiss Franc</td>\n      <td>CHF</td>\n      <td>756.0</td>\n      <td>2</td>\n      <td>NaN</td>\n    </tr>\n    <tr>\n      <th>231</th>\n      <td>SWITZERLAND</td>\n      <td>WIR Euro</td>\n      <td>CHE</td>\n      <td>947.0</td>\n      <td>2</td>\n      <td>NaN</td>\n    </tr>\n    <tr>\n      <th>232</th>\n      <td>SWITZERLAND</td>\n      <td>WIR Franc</td>\n      <td>CHW</td>\n      <td>948.0</td>\n      <td>2</td>\n      <td>NaN</td>\n    </tr>\n    <tr>\n      <th>253</th>\n      <td>UNITED STATES OF AMERICA (THE)</td>\n      <td>US Dollar</td>\n      <td>USD</td>\n      <td>840.0</td>\n      <td>2</td>\n      <td>NaN</td>\n    </tr>\n    <tr>\n      <th>254</th>\n      <td>UNITED STATES OF AMERICA (THE)</td>\n      <td>US Dollar (Next day)</td>\n      <td>USN</td>\n      <td>997.0</td>\n      <td>2</td>\n      <td>NaN</td>\n    </tr>\n    <tr>\n      <th>255</th>\n      <td>URUGUAY</td>\n      <td>Peso Uruguayo</td>\n      <td>UYU</td>\n      <td>858.0</td>\n      <td>2</td>\n      <td>NaN</td>\n    </tr>\n    <tr>\n      <th>256</th>\n      <td>URUGUAY</td>\n      <td>Uruguay Peso en Unidades Indexadas (UI)</td>\n      <td>UYI</td>\n      <td>940.0</td>\n      <td>0</td>\n      <td>NaN</td>\n    </tr>\n    <tr>\n      <th>257</th>\n      <td>URUGUAY</td>\n      <td>Unidad Previsional</td>\n      <td>UYW</td>\n      <td>927.0</td>\n      <td>4</td>\n      <td>NaN</td>\n    </tr>\n  </tbody>\n</table>\n</div>"
     },
     "execution_count": 543,
     "metadata": {},
     "output_type": "execute_result"
    }
   ],
   "source": [
    "# check duplicated countries\n",
    "curr[curr.duplicated(subset=['Entity'], keep=False)==True]"
   ]
  },
  {
   "cell_type": "code",
   "execution_count": 544,
   "id": "1f3ebd2a",
   "metadata": {
    "pycharm": {
     "name": "#%%\n"
    }
   },
   "outputs": [
    {
     "data": {
      "text/plain": "Empty DataFrame\nColumns: [Entity, Currency, AlphabeticCode, NumericCode, MinorUnit, WithdrawalDate]\nIndex: []",
      "text/html": "<div>\n<style scoped>\n    .dataframe tbody tr th:only-of-type {\n        vertical-align: middle;\n    }\n\n    .dataframe tbody tr th {\n        vertical-align: top;\n    }\n\n    .dataframe thead th {\n        text-align: right;\n    }\n</style>\n<table border=\"1\" class=\"dataframe\">\n  <thead>\n    <tr style=\"text-align: right;\">\n      <th></th>\n      <th>Entity</th>\n      <th>Currency</th>\n      <th>AlphabeticCode</th>\n      <th>NumericCode</th>\n      <th>MinorUnit</th>\n      <th>WithdrawalDate</th>\n    </tr>\n  </thead>\n  <tbody>\n  </tbody>\n</table>\n</div>"
     },
     "execution_count": 544,
     "metadata": {},
     "output_type": "execute_result"
    }
   ],
   "source": [
    "# drop duplicates by dropping the wrong currency with index\n",
    "curr = curr.drop(index=[25, 28, 47, 52, 60, 72, 103, 135, 156, 167, 185, 231, 232, 254, 256, 257])\n",
    "# check if duplicates were dropped well\n",
    "curr[curr.duplicated(subset=['Entity'], keep=False)==True]"
   ]
  },
  {
   "cell_type": "code",
   "execution_count": 545,
   "id": "d76a22e0",
   "metadata": {
    "pycharm": {
     "name": "#%%\n"
    }
   },
   "outputs": [],
   "source": [
    "# Select the columns to keep\n",
    "curr = curr[[\"Entity\", \"Currency\", \"AlphabeticCode\"]]"
   ]
  },
  {
   "cell_type": "code",
   "execution_count": 546,
   "id": "aa6644ea",
   "metadata": {
    "pycharm": {
     "name": "#%%\n"
    }
   },
   "outputs": [],
   "source": [
    "# Rename the columns\n",
    "curr = curr.rename(columns = {\"Entity\": \"Country\", \"AlphabeticCode\": \"Currency Code\"})"
   ]
  },
  {
   "cell_type": "code",
   "execution_count": 547,
   "id": "d8d13a08",
   "metadata": {
    "pycharm": {
     "name": "#%%\n"
    }
   },
   "outputs": [],
   "source": [
    "# Capitalise the first letter of each word in the Country and Currency columns,\n",
    "# and remove any extra spaces in the country column. Remove any text after \"(\" in the country column.\n",
    "curr[\"Country\"] = curr[\"Country\"].str.title()\n",
    "curr[\"Country\"] = curr['Country'].str.partition(\"(\")[0]\n",
    "curr[\"Country\"] = curr[\"Country\"].str.strip()\n",
    "curr[\"Currency\"] = curr[\"Currency\"].str.title()"
   ]
  },
  {
   "cell_type": "markdown",
   "id": "ba63ffd4",
   "metadata": {
    "pycharm": {
     "name": "#%% md\n"
    }
   },
   "source": [
    "#### Language dataset"
   ]
  },
  {
   "cell_type": "code",
   "execution_count": 548,
   "id": "b64feb55",
   "metadata": {
    "pycharm": {
     "name": "#%%\n"
    }
   },
   "outputs": [
    {
     "data": {
      "text/plain": "                              Country  \\\n0                         Afghanistan   \n1                             Albania   \n2                             Algeria   \n3                             Andorra   \n4                              Angola   \n5                 Antigua and Barbuda   \n6                           Argentina   \n7                             Armenia   \n8                           Australia   \n9                             Austria   \n10                         Azerbaijan   \n11                            Bahamas   \n12                            Bahrain   \n13                         Bangladesh   \n14                           Barbados   \n15                            Belarus   \n16                            Belgium   \n17                             Belize   \n18                              Benin   \n19                             Bhutan   \n20                            Bolivia   \n21             Bosnia and Herzegovina   \n22                           Botswana   \n23                             Brazil   \n24                             Brunei   \n25                           Bulgaria   \n26                       Burkina Faso   \n27                            Burundi   \n28                           Cambodia   \n29                           Cameroon   \n30                             Canada   \n31                         Cape Verde   \n32           Central African Republic   \n33                               Chad   \n34                              Chile   \n35                              China   \n36                           Colombia   \n37                            Comoros   \n38  Congo, Democratic Republic of the   \n39                 Congo, Republic of   \n40                         Costa Rica   \n41                      Cote d'Ivoire   \n42                            Croatia   \n43                               Cuba   \n44                             Cyprus   \n45                     Czech Republic   \n46                            Denmark   \n47                           Djibouti   \n48                           Dominica   \n49                 Dominican Republic   \n\n                                     Languages Spoken  \n0   Dari Persian, Pashtu (both official), other Tu...  \n1      Albanian (Tosk is the official dialect), Greek  \n2          Arabic (official), French, Berber dialects  \n3   CatalÃ¡n (official), French, Castilian, Portug...  \n4   Portuguese (official), Bantu and other African...  \n5                  English (official), local dialects  \n6   Spanish (official), English, Italian, German, ...  \n7                       Armenian 98%, Yezidi, Russian  \n8             English 79%, native and other languages  \n9   German (official nationwide); Slovene, Croatia...  \n10  Azerbaijani Turkic 89%, Russian 3%, Armenian 2...  \n11  English (official), Creole (among Haitian immi...  \n12                       Arabic, English, Farsi, Urdu  \n13                         Bangla (official), English  \n14                                            English  \n15        Belorussian (White Russian), Russian, other  \n16       Dutch 60%, French 40%, German (all official)  \n17  English (official), Spanish, Mayan, Garifuna (...  \n18   French (official), Fon, Yoruba, tribal languages  \n19  Dzongkha (official), Tibetan dialects (among B...  \n20            Spanish, Quechua, Aymara (all official)  \n21                         Bosnian, Croatian, Serbian  \n22  English 2% (official), Setswana 78%, Kalanga 8...  \n23    Portuguese (official), Spanish, English, French  \n24                 Malay (official), English, Chinese  \n25                Bulgarian 85%, Turkish 10%, Roma 4%  \n26  French (official); native African (Sudanic) la...  \n27             Kirundi and French (official), Swahili  \n28              Khmer 95% (official), French, English  \n29  French, English (both official); 24 major Afri...  \n30  English 59.3%, French 23.2% (both official); o...  \n31                                Portuguese, Criuolo  \n32  French (official), Sangho (lingua franca, nati...  \n33  French, Arabic (both official); Sara; more tha...  \n34                                            Spanish  \n35  Mandarin, Cantonese (official), Wu (Shanghaies...  \n36                                            Spanish  \n37  Arabic and French (both official), Shikomoro (...  \n38  French (official), Lingala, Kingwana, Kikongo,...  \n39  French (official), Lingala, Monokutuba, Kikong...  \n40                        Spanish (official), English  \n41  French (official) and African languages (Dioul...  \n42  Croatian 96% (official), other 4% (including I...  \n43                                            Spanish  \n44            Greek, Turkish (both official); English  \n45                                              Czech  \n46  Danish, Faroese, Greenlandic (Inuit dialect), ...  \n47    French and Arabic (both official), Somali, Afar  \n48               English (official) and French patois  \n49                                            Spanish  ",
      "text/html": "<div>\n<style scoped>\n    .dataframe tbody tr th:only-of-type {\n        vertical-align: middle;\n    }\n\n    .dataframe tbody tr th {\n        vertical-align: top;\n    }\n\n    .dataframe thead th {\n        text-align: right;\n    }\n</style>\n<table border=\"1\" class=\"dataframe\">\n  <thead>\n    <tr style=\"text-align: right;\">\n      <th></th>\n      <th>Country</th>\n      <th>Languages Spoken</th>\n    </tr>\n  </thead>\n  <tbody>\n    <tr>\n      <th>0</th>\n      <td>Afghanistan</td>\n      <td>Dari Persian, Pashtu (both official), other Tu...</td>\n    </tr>\n    <tr>\n      <th>1</th>\n      <td>Albania</td>\n      <td>Albanian (Tosk is the official dialect), Greek</td>\n    </tr>\n    <tr>\n      <th>2</th>\n      <td>Algeria</td>\n      <td>Arabic (official), French, Berber dialects</td>\n    </tr>\n    <tr>\n      <th>3</th>\n      <td>Andorra</td>\n      <td>CatalÃ¡n (official), French, Castilian, Portug...</td>\n    </tr>\n    <tr>\n      <th>4</th>\n      <td>Angola</td>\n      <td>Portuguese (official), Bantu and other African...</td>\n    </tr>\n    <tr>\n      <th>5</th>\n      <td>Antigua and Barbuda</td>\n      <td>English (official), local dialects</td>\n    </tr>\n    <tr>\n      <th>6</th>\n      <td>Argentina</td>\n      <td>Spanish (official), English, Italian, German, ...</td>\n    </tr>\n    <tr>\n      <th>7</th>\n      <td>Armenia</td>\n      <td>Armenian 98%, Yezidi, Russian</td>\n    </tr>\n    <tr>\n      <th>8</th>\n      <td>Australia</td>\n      <td>English 79%, native and other languages</td>\n    </tr>\n    <tr>\n      <th>9</th>\n      <td>Austria</td>\n      <td>German (official nationwide); Slovene, Croatia...</td>\n    </tr>\n    <tr>\n      <th>10</th>\n      <td>Azerbaijan</td>\n      <td>Azerbaijani Turkic 89%, Russian 3%, Armenian 2...</td>\n    </tr>\n    <tr>\n      <th>11</th>\n      <td>Bahamas</td>\n      <td>English (official), Creole (among Haitian immi...</td>\n    </tr>\n    <tr>\n      <th>12</th>\n      <td>Bahrain</td>\n      <td>Arabic, English, Farsi, Urdu</td>\n    </tr>\n    <tr>\n      <th>13</th>\n      <td>Bangladesh</td>\n      <td>Bangla (official), English</td>\n    </tr>\n    <tr>\n      <th>14</th>\n      <td>Barbados</td>\n      <td>English</td>\n    </tr>\n    <tr>\n      <th>15</th>\n      <td>Belarus</td>\n      <td>Belorussian (White Russian), Russian, other</td>\n    </tr>\n    <tr>\n      <th>16</th>\n      <td>Belgium</td>\n      <td>Dutch 60%, French 40%, German (all official)</td>\n    </tr>\n    <tr>\n      <th>17</th>\n      <td>Belize</td>\n      <td>English (official), Spanish, Mayan, Garifuna (...</td>\n    </tr>\n    <tr>\n      <th>18</th>\n      <td>Benin</td>\n      <td>French (official), Fon, Yoruba, tribal languages</td>\n    </tr>\n    <tr>\n      <th>19</th>\n      <td>Bhutan</td>\n      <td>Dzongkha (official), Tibetan dialects (among B...</td>\n    </tr>\n    <tr>\n      <th>20</th>\n      <td>Bolivia</td>\n      <td>Spanish, Quechua, Aymara (all official)</td>\n    </tr>\n    <tr>\n      <th>21</th>\n      <td>Bosnia and Herzegovina</td>\n      <td>Bosnian, Croatian, Serbian</td>\n    </tr>\n    <tr>\n      <th>22</th>\n      <td>Botswana</td>\n      <td>English 2% (official), Setswana 78%, Kalanga 8...</td>\n    </tr>\n    <tr>\n      <th>23</th>\n      <td>Brazil</td>\n      <td>Portuguese (official), Spanish, English, French</td>\n    </tr>\n    <tr>\n      <th>24</th>\n      <td>Brunei</td>\n      <td>Malay (official), English, Chinese</td>\n    </tr>\n    <tr>\n      <th>25</th>\n      <td>Bulgaria</td>\n      <td>Bulgarian 85%, Turkish 10%, Roma 4%</td>\n    </tr>\n    <tr>\n      <th>26</th>\n      <td>Burkina Faso</td>\n      <td>French (official); native African (Sudanic) la...</td>\n    </tr>\n    <tr>\n      <th>27</th>\n      <td>Burundi</td>\n      <td>Kirundi and French (official), Swahili</td>\n    </tr>\n    <tr>\n      <th>28</th>\n      <td>Cambodia</td>\n      <td>Khmer 95% (official), French, English</td>\n    </tr>\n    <tr>\n      <th>29</th>\n      <td>Cameroon</td>\n      <td>French, English (both official); 24 major Afri...</td>\n    </tr>\n    <tr>\n      <th>30</th>\n      <td>Canada</td>\n      <td>English 59.3%, French 23.2% (both official); o...</td>\n    </tr>\n    <tr>\n      <th>31</th>\n      <td>Cape Verde</td>\n      <td>Portuguese, Criuolo</td>\n    </tr>\n    <tr>\n      <th>32</th>\n      <td>Central African Republic</td>\n      <td>French (official), Sangho (lingua franca, nati...</td>\n    </tr>\n    <tr>\n      <th>33</th>\n      <td>Chad</td>\n      <td>French, Arabic (both official); Sara; more tha...</td>\n    </tr>\n    <tr>\n      <th>34</th>\n      <td>Chile</td>\n      <td>Spanish</td>\n    </tr>\n    <tr>\n      <th>35</th>\n      <td>China</td>\n      <td>Mandarin, Cantonese (official), Wu (Shanghaies...</td>\n    </tr>\n    <tr>\n      <th>36</th>\n      <td>Colombia</td>\n      <td>Spanish</td>\n    </tr>\n    <tr>\n      <th>37</th>\n      <td>Comoros</td>\n      <td>Arabic and French (both official), Shikomoro (...</td>\n    </tr>\n    <tr>\n      <th>38</th>\n      <td>Congo, Democratic Republic of the</td>\n      <td>French (official), Lingala, Kingwana, Kikongo,...</td>\n    </tr>\n    <tr>\n      <th>39</th>\n      <td>Congo, Republic of</td>\n      <td>French (official), Lingala, Monokutuba, Kikong...</td>\n    </tr>\n    <tr>\n      <th>40</th>\n      <td>Costa Rica</td>\n      <td>Spanish (official), English</td>\n    </tr>\n    <tr>\n      <th>41</th>\n      <td>Cote d'Ivoire</td>\n      <td>French (official) and African languages (Dioul...</td>\n    </tr>\n    <tr>\n      <th>42</th>\n      <td>Croatia</td>\n      <td>Croatian 96% (official), other 4% (including I...</td>\n    </tr>\n    <tr>\n      <th>43</th>\n      <td>Cuba</td>\n      <td>Spanish</td>\n    </tr>\n    <tr>\n      <th>44</th>\n      <td>Cyprus</td>\n      <td>Greek, Turkish (both official); English</td>\n    </tr>\n    <tr>\n      <th>45</th>\n      <td>Czech Republic</td>\n      <td>Czech</td>\n    </tr>\n    <tr>\n      <th>46</th>\n      <td>Denmark</td>\n      <td>Danish, Faroese, Greenlandic (Inuit dialect), ...</td>\n    </tr>\n    <tr>\n      <th>47</th>\n      <td>Djibouti</td>\n      <td>French and Arabic (both official), Somali, Afar</td>\n    </tr>\n    <tr>\n      <th>48</th>\n      <td>Dominica</td>\n      <td>English (official) and French patois</td>\n    </tr>\n    <tr>\n      <th>49</th>\n      <td>Dominican Republic</td>\n      <td>Spanish</td>\n    </tr>\n  </tbody>\n</table>\n</div>"
     },
     "execution_count": 548,
     "metadata": {},
     "output_type": "execute_result"
    }
   ],
   "source": [
    "lang.head(50)"
   ]
  },
  {
   "cell_type": "code",
   "execution_count": 549,
   "id": "4f5fc0c2",
   "metadata": {
    "pycharm": {
     "name": "#%%\n"
    }
   },
   "outputs": [
    {
     "name": "stdout",
     "output_type": "stream",
     "text": [
      "<class 'pandas.core.frame.DataFrame'>\n",
      "RangeIndex: 198 entries, 0 to 197\n",
      "Data columns (total 2 columns):\n",
      " #   Column            Non-Null Count  Dtype \n",
      "---  ------            --------------  ----- \n",
      " 0   Country           198 non-null    object\n",
      " 1   Languages Spoken  198 non-null    object\n",
      "dtypes: object(2)\n",
      "memory usage: 3.2+ KB\n"
     ]
    }
   ],
   "source": [
    "lang.info()"
   ]
  },
  {
   "cell_type": "code",
   "execution_count": 550,
   "id": "0b0947bb",
   "metadata": {
    "pycharm": {
     "name": "#%%\n"
    }
   },
   "outputs": [
    {
     "data": {
      "text/plain": "Country             0\nLanguages Spoken    0\ndtype: int64"
     },
     "execution_count": 550,
     "metadata": {},
     "output_type": "execute_result"
    }
   ],
   "source": [
    "# check null values\n",
    "lang.isna().sum()"
   ]
  },
  {
   "cell_type": "code",
   "execution_count": 551,
   "id": "5aa75fa6",
   "metadata": {
    "pycharm": {
     "name": "#%%\n"
    }
   },
   "outputs": [
    {
     "data": {
      "text/plain": "Empty DataFrame\nColumns: [Country, Languages Spoken]\nIndex: []",
      "text/html": "<div>\n<style scoped>\n    .dataframe tbody tr th:only-of-type {\n        vertical-align: middle;\n    }\n\n    .dataframe tbody tr th {\n        vertical-align: top;\n    }\n\n    .dataframe thead th {\n        text-align: right;\n    }\n</style>\n<table border=\"1\" class=\"dataframe\">\n  <thead>\n    <tr style=\"text-align: right;\">\n      <th></th>\n      <th>Country</th>\n      <th>Languages Spoken</th>\n    </tr>\n  </thead>\n  <tbody>\n  </tbody>\n</table>\n</div>"
     },
     "execution_count": 551,
     "metadata": {},
     "output_type": "execute_result"
    }
   ],
   "source": [
    "# check duplicates\n",
    "lang[lang['Country'].duplicated(keep=False)==True]"
   ]
  },
  {
   "cell_type": "markdown",
   "id": "9709176b",
   "metadata": {
    "pycharm": {
     "name": "#%% md\n"
    }
   },
   "source": [
    "Given the exploration done in the lang dataset, we can conclude that for the next step in the cleaning and transformations, we wish to keep all the columns, but rename them. Moreover, to make sure that the dataset is homogeneous we will capitalize the first letter of each word in the \"Country\" and \"Language Spoken\" column. We can also see that there is no null values, hence no handling of missing values is needed in this case. In addition, we can see that the languages spoken includes more than the official languages, in the cleaning we will strive to only keep the official languages."
   ]
  },
  {
   "cell_type": "code",
   "execution_count": 552,
   "id": "b1a9b9a3",
   "metadata": {
    "pycharm": {
     "name": "#%%\n"
    }
   },
   "outputs": [],
   "source": [
    "# Rename the columns\n",
    "lang = lang.rename(columns = {\"Languages Spoken\": \"Official Language\"})"
   ]
  },
  {
   "cell_type": "code",
   "execution_count": 553,
   "id": "b806e57f",
   "metadata": {
    "pycharm": {
     "name": "#%%\n"
    }
   },
   "outputs": [],
   "source": [
    "def language_cleaning(lan: str):\n",
    "    \"\"\" This function is to clean the official languages, the rule is\n",
    "    - If the official contains '(official)' in the text, adopt languages that come before '(official)\n",
    "    - Otherwise take only first language\"\"\"\n",
    "\n",
    "    # replace 'and' to comma\n",
    "    # delete numbers and percentage\n",
    "    lan = lan.title()\n",
    "    lan = lan.replace(' And ', ', ')\n",
    "    lan = re.sub(\"(\\s[\\d.]+%)\", \"\", lan)\n",
    "\n",
    "    # first if the text contains 'official', we are going to keep all the official\n",
    "    if 'Official' in lan:\n",
    "        lan = lan.partition(\"(\")[0].strip()\n",
    "\n",
    "    # otherwise, we are going to keep first one as a main language spoken\n",
    "    else:\n",
    "        lan = lan.partition(\",\")[0].strip()\n",
    "    return lan"
   ]
  },
  {
   "cell_type": "code",
   "execution_count": 554,
   "id": "6688d0c3",
   "metadata": {
    "pycharm": {
     "name": "#%%\n"
    }
   },
   "outputs": [],
   "source": [
    "# apply language cleaning function to the 'languages Spoken' column\n",
    "lang['Official Language'] = lang['Official Language'].apply(language_cleaning)"
   ]
  },
  {
   "cell_type": "code",
   "execution_count": 555,
   "id": "587a50da",
   "metadata": {
    "pycharm": {
     "name": "#%%\n"
    }
   },
   "outputs": [],
   "source": [
    "# Capitalise the first letter of each word in the Country and Official Language columns\n",
    "lang[\"Country\"] = lang[\"Country\"].str.title()\n",
    "lang[\"Country\"] = lang[\"Country\"].str.strip()"
   ]
  },
  {
   "cell_type": "markdown",
   "id": "8cb3641e",
   "metadata": {
    "pycharm": {
     "name": "#%% md\n"
    }
   },
   "source": [
    "#### Religion dataset"
   ]
  },
  {
   "cell_type": "code",
   "execution_count": 556,
   "id": "04bf2d6b",
   "metadata": {
    "pycharm": {
     "name": "#%%\n"
    }
   },
   "outputs": [
    {
     "data": {
      "text/plain": "  Country or Area  Year   Area         Sex     Religion  \\\n0         Albania  2011  Total  Both Sexes        Total   \n1         Albania  2011  Total  Both Sexes      Atheist   \n2         Albania  2011  Total  Both Sexes     Catholic   \n3         Albania  2011  Total  Both Sexes  Evangelical   \n4         Albania  2011  Total  Both Sexes       Muslim   \n\n                              Record Type             Reliability  \\\n0  Census - de jure - complete tabulation  Final figure, complete   \n1  Census - de jure - complete tabulation  Final figure, complete   \n2  Census - de jure - complete tabulation  Final figure, complete   \n3  Census - de jure - complete tabulation  Final figure, complete   \n4  Census - de jure - complete tabulation  Final figure, complete   \n\n   Source Year      Value Value Footnotes  \n0       2013.0  2800138.0             NaN  \n1       2013.0    69995.0             NaN  \n2       2013.0   280921.0             NaN  \n3       2013.0     3797.0             NaN  \n4       2013.0  1587608.0             NaN  ",
      "text/html": "<div>\n<style scoped>\n    .dataframe tbody tr th:only-of-type {\n        vertical-align: middle;\n    }\n\n    .dataframe tbody tr th {\n        vertical-align: top;\n    }\n\n    .dataframe thead th {\n        text-align: right;\n    }\n</style>\n<table border=\"1\" class=\"dataframe\">\n  <thead>\n    <tr style=\"text-align: right;\">\n      <th></th>\n      <th>Country or Area</th>\n      <th>Year</th>\n      <th>Area</th>\n      <th>Sex</th>\n      <th>Religion</th>\n      <th>Record Type</th>\n      <th>Reliability</th>\n      <th>Source Year</th>\n      <th>Value</th>\n      <th>Value Footnotes</th>\n    </tr>\n  </thead>\n  <tbody>\n    <tr>\n      <th>0</th>\n      <td>Albania</td>\n      <td>2011</td>\n      <td>Total</td>\n      <td>Both Sexes</td>\n      <td>Total</td>\n      <td>Census - de jure - complete tabulation</td>\n      <td>Final figure, complete</td>\n      <td>2013.0</td>\n      <td>2800138.0</td>\n      <td>NaN</td>\n    </tr>\n    <tr>\n      <th>1</th>\n      <td>Albania</td>\n      <td>2011</td>\n      <td>Total</td>\n      <td>Both Sexes</td>\n      <td>Atheist</td>\n      <td>Census - de jure - complete tabulation</td>\n      <td>Final figure, complete</td>\n      <td>2013.0</td>\n      <td>69995.0</td>\n      <td>NaN</td>\n    </tr>\n    <tr>\n      <th>2</th>\n      <td>Albania</td>\n      <td>2011</td>\n      <td>Total</td>\n      <td>Both Sexes</td>\n      <td>Catholic</td>\n      <td>Census - de jure - complete tabulation</td>\n      <td>Final figure, complete</td>\n      <td>2013.0</td>\n      <td>280921.0</td>\n      <td>NaN</td>\n    </tr>\n    <tr>\n      <th>3</th>\n      <td>Albania</td>\n      <td>2011</td>\n      <td>Total</td>\n      <td>Both Sexes</td>\n      <td>Evangelical</td>\n      <td>Census - de jure - complete tabulation</td>\n      <td>Final figure, complete</td>\n      <td>2013.0</td>\n      <td>3797.0</td>\n      <td>NaN</td>\n    </tr>\n    <tr>\n      <th>4</th>\n      <td>Albania</td>\n      <td>2011</td>\n      <td>Total</td>\n      <td>Both Sexes</td>\n      <td>Muslim</td>\n      <td>Census - de jure - complete tabulation</td>\n      <td>Final figure, complete</td>\n      <td>2013.0</td>\n      <td>1587608.0</td>\n      <td>NaN</td>\n    </tr>\n  </tbody>\n</table>\n</div>"
     },
     "execution_count": 556,
     "metadata": {},
     "output_type": "execute_result"
    }
   ],
   "source": [
    "rel.head()"
   ]
  },
  {
   "cell_type": "code",
   "execution_count": 557,
   "id": "996da37c",
   "metadata": {
    "pycharm": {
     "name": "#%%\n"
    }
   },
   "outputs": [
    {
     "name": "stdout",
     "output_type": "stream",
     "text": [
      "<class 'pandas.core.frame.DataFrame'>\n",
      "RangeIndex: 3416 entries, 0 to 3415\n",
      "Data columns (total 10 columns):\n",
      " #   Column           Non-Null Count  Dtype  \n",
      "---  ------           --------------  -----  \n",
      " 0   Country or Area  3416 non-null   object \n",
      " 1   Year             3416 non-null   object \n",
      " 2   Area             3333 non-null   object \n",
      " 3   Sex              3332 non-null   object \n",
      " 4   Religion         3332 non-null   object \n",
      " 5   Record Type      3332 non-null   object \n",
      " 6   Reliability      3332 non-null   object \n",
      " 7   Source Year      3332 non-null   float64\n",
      " 8   Value            3332 non-null   float64\n",
      " 9   Value Footnotes  1505 non-null   object \n",
      "dtypes: float64(2), object(8)\n",
      "memory usage: 267.0+ KB\n"
     ]
    }
   ],
   "source": [
    "rel.info()"
   ]
  },
  {
   "cell_type": "code",
   "execution_count": 558,
   "id": "5efd7131",
   "metadata": {
    "pycharm": {
     "name": "#%%\n"
    }
   },
   "outputs": [
    {
     "data": {
      "text/plain": "Country or Area       0\nYear                  0\nArea                 83\nSex                  84\nReligion             84\nRecord Type          84\nReliability          84\nSource Year          84\nValue                84\nValue Footnotes    1911\ndtype: int64"
     },
     "execution_count": 558,
     "metadata": {},
     "output_type": "execute_result"
    }
   ],
   "source": [
    "# check null values\n",
    "rel.isna().sum()"
   ]
  },
  {
   "cell_type": "code",
   "execution_count": 559,
   "id": "dfda3e97",
   "metadata": {
    "pycharm": {
     "name": "#%%\n"
    }
   },
   "outputs": [
    {
     "data": {
      "text/plain": "     Country or Area                                               Year Area  \\\n3332   footnoteSeqID                                           Footnote  NaN   \n3333               1  Because of rounding, totals are not in all cas...  NaN   \n3334               2  These data have been randomly rounded to prote...  NaN   \n3335               3  Including population in off-shore, migratory a...  NaN   \n3336               4  Category 'No religion' includes Agnoticism, At...  NaN   \n...              ...                                                ...  ...   \n3411              79                 Data of mini-census taken in 2017.  NaN   \n3412              80                 Data refer to resident population.  NaN   \n3413              81         Excluding population enumerated in hotels.  NaN   \n3414              82  Other includes Orthodox, Bahai, Other Christia...  NaN   \n3415              83  Excluding Channel Islands (Guernsey and Jersey...  NaN   \n\n      Sex Religion Record Type Reliability  Source Year  Value Value Footnotes  \n3332  NaN      NaN         NaN         NaN          NaN    NaN             NaN  \n3333  NaN      NaN         NaN         NaN          NaN    NaN             NaN  \n3334  NaN      NaN         NaN         NaN          NaN    NaN             NaN  \n3335  NaN      NaN         NaN         NaN          NaN    NaN             NaN  \n3336  NaN      NaN         NaN         NaN          NaN    NaN             NaN  \n...   ...      ...         ...         ...          ...    ...             ...  \n3411  NaN      NaN         NaN         NaN          NaN    NaN             NaN  \n3412  NaN      NaN         NaN         NaN          NaN    NaN             NaN  \n3413  NaN      NaN         NaN         NaN          NaN    NaN             NaN  \n3414  NaN      NaN         NaN         NaN          NaN    NaN             NaN  \n3415  NaN      NaN         NaN         NaN          NaN    NaN             NaN  \n\n[84 rows x 10 columns]",
      "text/html": "<div>\n<style scoped>\n    .dataframe tbody tr th:only-of-type {\n        vertical-align: middle;\n    }\n\n    .dataframe tbody tr th {\n        vertical-align: top;\n    }\n\n    .dataframe thead th {\n        text-align: right;\n    }\n</style>\n<table border=\"1\" class=\"dataframe\">\n  <thead>\n    <tr style=\"text-align: right;\">\n      <th></th>\n      <th>Country or Area</th>\n      <th>Year</th>\n      <th>Area</th>\n      <th>Sex</th>\n      <th>Religion</th>\n      <th>Record Type</th>\n      <th>Reliability</th>\n      <th>Source Year</th>\n      <th>Value</th>\n      <th>Value Footnotes</th>\n    </tr>\n  </thead>\n  <tbody>\n    <tr>\n      <th>3332</th>\n      <td>footnoteSeqID</td>\n      <td>Footnote</td>\n      <td>NaN</td>\n      <td>NaN</td>\n      <td>NaN</td>\n      <td>NaN</td>\n      <td>NaN</td>\n      <td>NaN</td>\n      <td>NaN</td>\n      <td>NaN</td>\n    </tr>\n    <tr>\n      <th>3333</th>\n      <td>1</td>\n      <td>Because of rounding, totals are not in all cas...</td>\n      <td>NaN</td>\n      <td>NaN</td>\n      <td>NaN</td>\n      <td>NaN</td>\n      <td>NaN</td>\n      <td>NaN</td>\n      <td>NaN</td>\n      <td>NaN</td>\n    </tr>\n    <tr>\n      <th>3334</th>\n      <td>2</td>\n      <td>These data have been randomly rounded to prote...</td>\n      <td>NaN</td>\n      <td>NaN</td>\n      <td>NaN</td>\n      <td>NaN</td>\n      <td>NaN</td>\n      <td>NaN</td>\n      <td>NaN</td>\n      <td>NaN</td>\n    </tr>\n    <tr>\n      <th>3335</th>\n      <td>3</td>\n      <td>Including population in off-shore, migratory a...</td>\n      <td>NaN</td>\n      <td>NaN</td>\n      <td>NaN</td>\n      <td>NaN</td>\n      <td>NaN</td>\n      <td>NaN</td>\n      <td>NaN</td>\n      <td>NaN</td>\n    </tr>\n    <tr>\n      <th>3336</th>\n      <td>4</td>\n      <td>Category 'No religion' includes Agnoticism, At...</td>\n      <td>NaN</td>\n      <td>NaN</td>\n      <td>NaN</td>\n      <td>NaN</td>\n      <td>NaN</td>\n      <td>NaN</td>\n      <td>NaN</td>\n      <td>NaN</td>\n    </tr>\n    <tr>\n      <th>...</th>\n      <td>...</td>\n      <td>...</td>\n      <td>...</td>\n      <td>...</td>\n      <td>...</td>\n      <td>...</td>\n      <td>...</td>\n      <td>...</td>\n      <td>...</td>\n      <td>...</td>\n    </tr>\n    <tr>\n      <th>3411</th>\n      <td>79</td>\n      <td>Data of mini-census taken in 2017.</td>\n      <td>NaN</td>\n      <td>NaN</td>\n      <td>NaN</td>\n      <td>NaN</td>\n      <td>NaN</td>\n      <td>NaN</td>\n      <td>NaN</td>\n      <td>NaN</td>\n    </tr>\n    <tr>\n      <th>3412</th>\n      <td>80</td>\n      <td>Data refer to resident population.</td>\n      <td>NaN</td>\n      <td>NaN</td>\n      <td>NaN</td>\n      <td>NaN</td>\n      <td>NaN</td>\n      <td>NaN</td>\n      <td>NaN</td>\n      <td>NaN</td>\n    </tr>\n    <tr>\n      <th>3413</th>\n      <td>81</td>\n      <td>Excluding population enumerated in hotels.</td>\n      <td>NaN</td>\n      <td>NaN</td>\n      <td>NaN</td>\n      <td>NaN</td>\n      <td>NaN</td>\n      <td>NaN</td>\n      <td>NaN</td>\n      <td>NaN</td>\n    </tr>\n    <tr>\n      <th>3414</th>\n      <td>82</td>\n      <td>Other includes Orthodox, Bahai, Other Christia...</td>\n      <td>NaN</td>\n      <td>NaN</td>\n      <td>NaN</td>\n      <td>NaN</td>\n      <td>NaN</td>\n      <td>NaN</td>\n      <td>NaN</td>\n      <td>NaN</td>\n    </tr>\n    <tr>\n      <th>3415</th>\n      <td>83</td>\n      <td>Excluding Channel Islands (Guernsey and Jersey...</td>\n      <td>NaN</td>\n      <td>NaN</td>\n      <td>NaN</td>\n      <td>NaN</td>\n      <td>NaN</td>\n      <td>NaN</td>\n      <td>NaN</td>\n      <td>NaN</td>\n    </tr>\n  </tbody>\n</table>\n<p>84 rows × 10 columns</p>\n</div>"
     },
     "execution_count": 559,
     "metadata": {},
     "output_type": "execute_result"
    }
   ],
   "source": [
    "# check null values in religion columns\n",
    "rel[rel[[\"Religion\"]].isnull().any(axis=1)]"
   ]
  },
  {
   "cell_type": "markdown",
   "id": "834bd92a",
   "metadata": {
    "pycharm": {
     "name": "#%% md\n"
    }
   },
   "source": [
    "Given the exploration done in the rel dataset, we can conclude that for the next step in the cleaning and transformations, we wish to keep the \"Country or Area\" and \"Religion\" columns but rename them. Moreover, to make sure that the dataset is homogeneous we will capitalize the first letter of each word in the \"Country or Area\" column. We can also see that there is multiple null values, that arise due to the existing footnotes at the end of the document, which will be dealt with. In addition, we can see that for each country there is the listing of all the religions present in the country. As we only wish to keep the main one the others will be removed."
   ]
  },
  {
   "cell_type": "code",
   "execution_count": 560,
   "id": "8d6ea251",
   "metadata": {
    "pycharm": {
     "name": "#%%\n"
    }
   },
   "outputs": [],
   "source": [
    "# Remove the footnote rows, which is where the Religion column\n",
    "rel.dropna(subset=['Religion'], inplace=True)"
   ]
  },
  {
   "cell_type": "code",
   "execution_count": 561,
   "id": "0165e946",
   "metadata": {
    "pycharm": {
     "name": "#%%\n"
    }
   },
   "outputs": [],
   "source": [
    "# Keep the data from the most recent year for each country\n",
    "# first sort by country and year\n",
    "rel = rel.sort_values(by=[\"Country or Area\", \"Year\"])\n",
    "# then drop all duplicates keeping the data from the latest year\n",
    "rel = rel.drop_duplicates(subset=['Country or Area', \"Religion\"], keep='last')"
   ]
  },
  {
   "cell_type": "code",
   "execution_count": 562,
   "id": "40895ba8",
   "metadata": {
    "pycharm": {
     "name": "#%%\n"
    }
   },
   "outputs": [
    {
     "data": {
      "text/plain": "     Country or Area  Year   Area         Sex     Religion  \\\n0            Albania  2011  Total  Both Sexes        Total   \n1            Albania  2011  Total  Both Sexes      Atheist   \n2            Albania  2011  Total  Both Sexes     Catholic   \n3            Albania  2011  Total  Both Sexes  Evangelical   \n4            Albania  2011  Total  Both Sexes       Muslim   \n...              ...   ...    ...         ...          ...   \n3327          Zambia  2010  Total  Both Sexes        Hindu   \n3328          Zambia  2010  Total  Both Sexes       Muslim   \n3329          Zambia  2010  Total  Both Sexes   Protestant   \n3330          Zambia  2010  Total  Both Sexes        Other   \n3331          Zambia  2010  Total  Both Sexes         None   \n\n                                  Record Type             Reliability  \\\n0      Census - de jure - complete tabulation  Final figure, complete   \n1      Census - de jure - complete tabulation  Final figure, complete   \n2      Census - de jure - complete tabulation  Final figure, complete   \n3      Census - de jure - complete tabulation  Final figure, complete   \n4      Census - de jure - complete tabulation  Final figure, complete   \n...                                       ...                     ...   \n3327  Census - de facto - complete tabulation  Final figure, complete   \n3328  Census - de facto - complete tabulation  Final figure, complete   \n3329  Census - de facto - complete tabulation  Final figure, complete   \n3330  Census - de facto - complete tabulation  Final figure, complete   \n3331  Census - de facto - complete tabulation  Final figure, complete   \n\n      Source Year      Value Value Footnotes  \n0          2013.0  2800138.0             NaN  \n1          2013.0    69995.0             NaN  \n2          2013.0   280921.0             NaN  \n3          2013.0     3797.0             NaN  \n4          2013.0  1587608.0             NaN  \n...           ...        ...             ...  \n3327       2015.0     4383.0             NaN  \n3328       2015.0    61412.0             NaN  \n3329       2015.0  9436231.0             NaN  \n3330       2015.0   253621.0             NaN  \n3331       2015.0   224295.0             NaN  \n\n[1870 rows x 10 columns]",
      "text/html": "<div>\n<style scoped>\n    .dataframe tbody tr th:only-of-type {\n        vertical-align: middle;\n    }\n\n    .dataframe tbody tr th {\n        vertical-align: top;\n    }\n\n    .dataframe thead th {\n        text-align: right;\n    }\n</style>\n<table border=\"1\" class=\"dataframe\">\n  <thead>\n    <tr style=\"text-align: right;\">\n      <th></th>\n      <th>Country or Area</th>\n      <th>Year</th>\n      <th>Area</th>\n      <th>Sex</th>\n      <th>Religion</th>\n      <th>Record Type</th>\n      <th>Reliability</th>\n      <th>Source Year</th>\n      <th>Value</th>\n      <th>Value Footnotes</th>\n    </tr>\n  </thead>\n  <tbody>\n    <tr>\n      <th>0</th>\n      <td>Albania</td>\n      <td>2011</td>\n      <td>Total</td>\n      <td>Both Sexes</td>\n      <td>Total</td>\n      <td>Census - de jure - complete tabulation</td>\n      <td>Final figure, complete</td>\n      <td>2013.0</td>\n      <td>2800138.0</td>\n      <td>NaN</td>\n    </tr>\n    <tr>\n      <th>1</th>\n      <td>Albania</td>\n      <td>2011</td>\n      <td>Total</td>\n      <td>Both Sexes</td>\n      <td>Atheist</td>\n      <td>Census - de jure - complete tabulation</td>\n      <td>Final figure, complete</td>\n      <td>2013.0</td>\n      <td>69995.0</td>\n      <td>NaN</td>\n    </tr>\n    <tr>\n      <th>2</th>\n      <td>Albania</td>\n      <td>2011</td>\n      <td>Total</td>\n      <td>Both Sexes</td>\n      <td>Catholic</td>\n      <td>Census - de jure - complete tabulation</td>\n      <td>Final figure, complete</td>\n      <td>2013.0</td>\n      <td>280921.0</td>\n      <td>NaN</td>\n    </tr>\n    <tr>\n      <th>3</th>\n      <td>Albania</td>\n      <td>2011</td>\n      <td>Total</td>\n      <td>Both Sexes</td>\n      <td>Evangelical</td>\n      <td>Census - de jure - complete tabulation</td>\n      <td>Final figure, complete</td>\n      <td>2013.0</td>\n      <td>3797.0</td>\n      <td>NaN</td>\n    </tr>\n    <tr>\n      <th>4</th>\n      <td>Albania</td>\n      <td>2011</td>\n      <td>Total</td>\n      <td>Both Sexes</td>\n      <td>Muslim</td>\n      <td>Census - de jure - complete tabulation</td>\n      <td>Final figure, complete</td>\n      <td>2013.0</td>\n      <td>1587608.0</td>\n      <td>NaN</td>\n    </tr>\n    <tr>\n      <th>...</th>\n      <td>...</td>\n      <td>...</td>\n      <td>...</td>\n      <td>...</td>\n      <td>...</td>\n      <td>...</td>\n      <td>...</td>\n      <td>...</td>\n      <td>...</td>\n      <td>...</td>\n    </tr>\n    <tr>\n      <th>3327</th>\n      <td>Zambia</td>\n      <td>2010</td>\n      <td>Total</td>\n      <td>Both Sexes</td>\n      <td>Hindu</td>\n      <td>Census - de facto - complete tabulation</td>\n      <td>Final figure, complete</td>\n      <td>2015.0</td>\n      <td>4383.0</td>\n      <td>NaN</td>\n    </tr>\n    <tr>\n      <th>3328</th>\n      <td>Zambia</td>\n      <td>2010</td>\n      <td>Total</td>\n      <td>Both Sexes</td>\n      <td>Muslim</td>\n      <td>Census - de facto - complete tabulation</td>\n      <td>Final figure, complete</td>\n      <td>2015.0</td>\n      <td>61412.0</td>\n      <td>NaN</td>\n    </tr>\n    <tr>\n      <th>3329</th>\n      <td>Zambia</td>\n      <td>2010</td>\n      <td>Total</td>\n      <td>Both Sexes</td>\n      <td>Protestant</td>\n      <td>Census - de facto - complete tabulation</td>\n      <td>Final figure, complete</td>\n      <td>2015.0</td>\n      <td>9436231.0</td>\n      <td>NaN</td>\n    </tr>\n    <tr>\n      <th>3330</th>\n      <td>Zambia</td>\n      <td>2010</td>\n      <td>Total</td>\n      <td>Both Sexes</td>\n      <td>Other</td>\n      <td>Census - de facto - complete tabulation</td>\n      <td>Final figure, complete</td>\n      <td>2015.0</td>\n      <td>253621.0</td>\n      <td>NaN</td>\n    </tr>\n    <tr>\n      <th>3331</th>\n      <td>Zambia</td>\n      <td>2010</td>\n      <td>Total</td>\n      <td>Both Sexes</td>\n      <td>None</td>\n      <td>Census - de facto - complete tabulation</td>\n      <td>Final figure, complete</td>\n      <td>2015.0</td>\n      <td>224295.0</td>\n      <td>NaN</td>\n    </tr>\n  </tbody>\n</table>\n<p>1870 rows × 10 columns</p>\n</div>"
     },
     "execution_count": 562,
     "metadata": {},
     "output_type": "execute_result"
    }
   ],
   "source": [
    "# check duplicates of countries\n",
    "rel[rel['Country or Area'].duplicated(keep=False)==True]"
   ]
  },
  {
   "cell_type": "code",
   "execution_count": 563,
   "id": "1c4f78a3",
   "metadata": {
    "pycharm": {
     "name": "#%%\n"
    }
   },
   "outputs": [],
   "source": [
    "# we want to keep the most common religion per country\n",
    "\n",
    "# First, Remove the rows with the total number of religious people.\n",
    "# Also remove the other, not stated, and refused to answer religions\n",
    "rel = rel[rel[\"Religion\"].str.contains(\"Total|Other|Not Stated|Refused to answer|Unknown|None\") == False]\n",
    "\n",
    "# Keep the rows with the highest value, meaning the main religion of each country\n",
    "rel = rel.sort_values(by=[\"Country or Area\", \"Value\"])\n",
    "rel = rel.drop_duplicates(subset=['Country or Area'], keep='last')"
   ]
  },
  {
   "cell_type": "code",
   "execution_count": 564,
   "id": "0436b5eb",
   "metadata": {
    "pycharm": {
     "name": "#%%\n"
    }
   },
   "outputs": [],
   "source": [
    "# Select the columns to keep\n",
    "rel = rel[[\"Country or Area\", \"Religion\"]]"
   ]
  },
  {
   "cell_type": "code",
   "execution_count": 565,
   "id": "f1fa1283",
   "metadata": {
    "pycharm": {
     "name": "#%%\n"
    }
   },
   "outputs": [],
   "source": [
    "# Rename the columns\n",
    "rel = rel.rename(columns = {\"Country or Area\": \"Country\", \"Religion\": \"Main Religion\"})"
   ]
  },
  {
   "cell_type": "code",
   "execution_count": 566,
   "id": "b9c046d2",
   "metadata": {
    "pycharm": {
     "name": "#%%\n"
    }
   },
   "outputs": [],
   "source": [
    "# Capitalise the first letter of each word in the Country and religion, and remove any extra spaces in the country column.\n",
    "rel[\"Country\"] = rel[\"Country\"].str.title()\n",
    "rel[\"Country\"] = rel[\"Country\"].str.strip()\n",
    "rel[\"Main Religion\"] = rel[\"Main Religion\"].str.title()"
   ]
  },
  {
   "cell_type": "markdown",
   "id": "a90b4358",
   "metadata": {
    "pycharm": {
     "name": "#%% md\n"
    }
   },
   "source": [
    "#### Peace index dataset"
   ]
  },
  {
   "cell_type": "code",
   "execution_count": 567,
   "id": "5014a389",
   "metadata": {
    "pycharm": {
     "name": "#%%\n"
    }
   },
   "outputs": [
    {
     "data": {
      "text/plain": "   RANK      COUNTRY  SCORE\n0   1.0      Iceland  1.100\n1   2.0  New Zealand  1.253\n2   3.0      Denmark  1.256\n3   4.0     Portugal  1.267\n4   5.0     Slovenia  1.315",
      "text/html": "<div>\n<style scoped>\n    .dataframe tbody tr th:only-of-type {\n        vertical-align: middle;\n    }\n\n    .dataframe tbody tr th {\n        vertical-align: top;\n    }\n\n    .dataframe thead th {\n        text-align: right;\n    }\n</style>\n<table border=\"1\" class=\"dataframe\">\n  <thead>\n    <tr style=\"text-align: right;\">\n      <th></th>\n      <th>RANK</th>\n      <th>COUNTRY</th>\n      <th>SCORE</th>\n    </tr>\n  </thead>\n  <tbody>\n    <tr>\n      <th>0</th>\n      <td>1.0</td>\n      <td>Iceland</td>\n      <td>1.100</td>\n    </tr>\n    <tr>\n      <th>1</th>\n      <td>2.0</td>\n      <td>New Zealand</td>\n      <td>1.253</td>\n    </tr>\n    <tr>\n      <th>2</th>\n      <td>3.0</td>\n      <td>Denmark</td>\n      <td>1.256</td>\n    </tr>\n    <tr>\n      <th>3</th>\n      <td>4.0</td>\n      <td>Portugal</td>\n      <td>1.267</td>\n    </tr>\n    <tr>\n      <th>4</th>\n      <td>5.0</td>\n      <td>Slovenia</td>\n      <td>1.315</td>\n    </tr>\n  </tbody>\n</table>\n</div>"
     },
     "execution_count": 567,
     "metadata": {},
     "output_type": "execute_result"
    }
   ],
   "source": [
    "peace.head()"
   ]
  },
  {
   "cell_type": "code",
   "execution_count": 568,
   "id": "a11975c7",
   "metadata": {
    "pycharm": {
     "name": "#%%\n"
    }
   },
   "outputs": [
    {
     "name": "stdout",
     "output_type": "stream",
     "text": [
      "<class 'pandas.core.frame.DataFrame'>\n",
      "RangeIndex: 177 entries, 0 to 176\n",
      "Data columns (total 3 columns):\n",
      " #   Column   Non-Null Count  Dtype  \n",
      "---  ------   --------------  -----  \n",
      " 0   RANK     163 non-null    float64\n",
      " 1   COUNTRY  163 non-null    object \n",
      " 2   SCORE    163 non-null    float64\n",
      "dtypes: float64(2), object(1)\n",
      "memory usage: 4.3+ KB\n"
     ]
    }
   ],
   "source": [
    "peace.info()"
   ]
  },
  {
   "cell_type": "code",
   "execution_count": 569,
   "id": "bc2476ea",
   "metadata": {
    "pycharm": {
     "name": "#%%\n"
    }
   },
   "outputs": [
    {
     "data": {
      "text/plain": "RANK       14\nCOUNTRY    14\nSCORE      14\ndtype: int64"
     },
     "execution_count": 569,
     "metadata": {},
     "output_type": "execute_result"
    }
   ],
   "source": [
    "# check null values\n",
    "peace.isna().sum()"
   ]
  },
  {
   "cell_type": "code",
   "execution_count": 570,
   "id": "748f6ef3",
   "metadata": {
    "pycharm": {
     "name": "#%%\n"
    }
   },
   "outputs": [
    {
     "data": {
      "text/plain": "     RANK COUNTRY  SCORE\n16    NaN     NaN    NaN\n45    NaN     NaN    NaN\n74    NaN     NaN    NaN\n86    NaN     NaN    NaN\n95    NaN     NaN    NaN\n108   NaN     NaN    NaN\n125   NaN     NaN    NaN\n128   NaN     NaN    NaN\n138   NaN     NaN    NaN\n155   NaN     NaN    NaN\n165   NaN     NaN    NaN\n168   NaN     NaN    NaN\n175   NaN     NaN    NaN\n176   NaN     NaN    NaN",
      "text/html": "<div>\n<style scoped>\n    .dataframe tbody tr th:only-of-type {\n        vertical-align: middle;\n    }\n\n    .dataframe tbody tr th {\n        vertical-align: top;\n    }\n\n    .dataframe thead th {\n        text-align: right;\n    }\n</style>\n<table border=\"1\" class=\"dataframe\">\n  <thead>\n    <tr style=\"text-align: right;\">\n      <th></th>\n      <th>RANK</th>\n      <th>COUNTRY</th>\n      <th>SCORE</th>\n    </tr>\n  </thead>\n  <tbody>\n    <tr>\n      <th>16</th>\n      <td>NaN</td>\n      <td>NaN</td>\n      <td>NaN</td>\n    </tr>\n    <tr>\n      <th>45</th>\n      <td>NaN</td>\n      <td>NaN</td>\n      <td>NaN</td>\n    </tr>\n    <tr>\n      <th>74</th>\n      <td>NaN</td>\n      <td>NaN</td>\n      <td>NaN</td>\n    </tr>\n    <tr>\n      <th>86</th>\n      <td>NaN</td>\n      <td>NaN</td>\n      <td>NaN</td>\n    </tr>\n    <tr>\n      <th>95</th>\n      <td>NaN</td>\n      <td>NaN</td>\n      <td>NaN</td>\n    </tr>\n    <tr>\n      <th>108</th>\n      <td>NaN</td>\n      <td>NaN</td>\n      <td>NaN</td>\n    </tr>\n    <tr>\n      <th>125</th>\n      <td>NaN</td>\n      <td>NaN</td>\n      <td>NaN</td>\n    </tr>\n    <tr>\n      <th>128</th>\n      <td>NaN</td>\n      <td>NaN</td>\n      <td>NaN</td>\n    </tr>\n    <tr>\n      <th>138</th>\n      <td>NaN</td>\n      <td>NaN</td>\n      <td>NaN</td>\n    </tr>\n    <tr>\n      <th>155</th>\n      <td>NaN</td>\n      <td>NaN</td>\n      <td>NaN</td>\n    </tr>\n    <tr>\n      <th>165</th>\n      <td>NaN</td>\n      <td>NaN</td>\n      <td>NaN</td>\n    </tr>\n    <tr>\n      <th>168</th>\n      <td>NaN</td>\n      <td>NaN</td>\n      <td>NaN</td>\n    </tr>\n    <tr>\n      <th>175</th>\n      <td>NaN</td>\n      <td>NaN</td>\n      <td>NaN</td>\n    </tr>\n    <tr>\n      <th>176</th>\n      <td>NaN</td>\n      <td>NaN</td>\n      <td>NaN</td>\n    </tr>\n  </tbody>\n</table>\n</div>"
     },
     "execution_count": 570,
     "metadata": {},
     "output_type": "execute_result"
    }
   ],
   "source": [
    "# check rows with null values\n",
    "peace[peace[[\"COUNTRY\"]].isnull().any(axis=1)]"
   ]
  },
  {
   "cell_type": "code",
   "execution_count": 571,
   "id": "bfe33ebe",
   "metadata": {
    "pycharm": {
     "name": "#%%\n"
    }
   },
   "outputs": [
    {
     "data": {
      "text/plain": "     RANK COUNTRY  SCORE\n16    NaN     NaN    NaN\n45    NaN     NaN    NaN\n74    NaN     NaN    NaN\n86    NaN     NaN    NaN\n95    NaN     NaN    NaN\n108   NaN     NaN    NaN\n125   NaN     NaN    NaN\n128   NaN     NaN    NaN\n138   NaN     NaN    NaN\n155   NaN     NaN    NaN\n165   NaN     NaN    NaN\n168   NaN     NaN    NaN\n175   NaN     NaN    NaN\n176   NaN     NaN    NaN",
      "text/html": "<div>\n<style scoped>\n    .dataframe tbody tr th:only-of-type {\n        vertical-align: middle;\n    }\n\n    .dataframe tbody tr th {\n        vertical-align: top;\n    }\n\n    .dataframe thead th {\n        text-align: right;\n    }\n</style>\n<table border=\"1\" class=\"dataframe\">\n  <thead>\n    <tr style=\"text-align: right;\">\n      <th></th>\n      <th>RANK</th>\n      <th>COUNTRY</th>\n      <th>SCORE</th>\n    </tr>\n  </thead>\n  <tbody>\n    <tr>\n      <th>16</th>\n      <td>NaN</td>\n      <td>NaN</td>\n      <td>NaN</td>\n    </tr>\n    <tr>\n      <th>45</th>\n      <td>NaN</td>\n      <td>NaN</td>\n      <td>NaN</td>\n    </tr>\n    <tr>\n      <th>74</th>\n      <td>NaN</td>\n      <td>NaN</td>\n      <td>NaN</td>\n    </tr>\n    <tr>\n      <th>86</th>\n      <td>NaN</td>\n      <td>NaN</td>\n      <td>NaN</td>\n    </tr>\n    <tr>\n      <th>95</th>\n      <td>NaN</td>\n      <td>NaN</td>\n      <td>NaN</td>\n    </tr>\n    <tr>\n      <th>108</th>\n      <td>NaN</td>\n      <td>NaN</td>\n      <td>NaN</td>\n    </tr>\n    <tr>\n      <th>125</th>\n      <td>NaN</td>\n      <td>NaN</td>\n      <td>NaN</td>\n    </tr>\n    <tr>\n      <th>128</th>\n      <td>NaN</td>\n      <td>NaN</td>\n      <td>NaN</td>\n    </tr>\n    <tr>\n      <th>138</th>\n      <td>NaN</td>\n      <td>NaN</td>\n      <td>NaN</td>\n    </tr>\n    <tr>\n      <th>155</th>\n      <td>NaN</td>\n      <td>NaN</td>\n      <td>NaN</td>\n    </tr>\n    <tr>\n      <th>165</th>\n      <td>NaN</td>\n      <td>NaN</td>\n      <td>NaN</td>\n    </tr>\n    <tr>\n      <th>168</th>\n      <td>NaN</td>\n      <td>NaN</td>\n      <td>NaN</td>\n    </tr>\n    <tr>\n      <th>175</th>\n      <td>NaN</td>\n      <td>NaN</td>\n      <td>NaN</td>\n    </tr>\n    <tr>\n      <th>176</th>\n      <td>NaN</td>\n      <td>NaN</td>\n      <td>NaN</td>\n    </tr>\n  </tbody>\n</table>\n</div>"
     },
     "execution_count": 571,
     "metadata": {},
     "output_type": "execute_result"
    }
   ],
   "source": [
    "# check duplicates\n",
    "peace[peace['COUNTRY'].duplicated(keep=False)]"
   ]
  },
  {
   "cell_type": "markdown",
   "id": "6cdf9826",
   "metadata": {
    "pycharm": {
     "name": "#%% md\n"
    }
   },
   "source": [
    "Given the exploration done in the peace dataset, we can conclude that for the next step in the cleaning and transformations, we wish to keep the \"RANK\", and \"COUNTRY\" columns, but rename them. Moreover, to make sure that the dataset is homogeneous we will capitalize the first letter of each word in the \"COUNTRY\" column. We can also see that there is multiple null values, that arise due to the existing of completely empty rows, which will be dealt with."
   ]
  },
  {
   "cell_type": "code",
   "execution_count": 572,
   "id": "fc452939",
   "metadata": {
    "pycharm": {
     "name": "#%%\n"
    }
   },
   "outputs": [],
   "source": [
    "# Select the columns to keep\n",
    "peace = peace[[\"RANK\", \"COUNTRY\"]]"
   ]
  },
  {
   "cell_type": "code",
   "execution_count": 573,
   "id": "5d784493",
   "metadata": {
    "pycharm": {
     "name": "#%%\n"
    }
   },
   "outputs": [],
   "source": [
    "# Rename the columns\n",
    "peace = peace.rename(columns = {\"RANK\": \"Rank\", \"COUNTRY\": \"Country\"})"
   ]
  },
  {
   "cell_type": "code",
   "execution_count": 574,
   "id": "373058c3",
   "metadata": {
    "pycharm": {
     "name": "#%%\n"
    }
   },
   "outputs": [],
   "source": [
    "# Capitalise the first letter of each word in the Country column\n",
    "peace[\"Country\"] = peace[\"Country\"].str.title()\n",
    "peace[\"Country\"] = peace[\"Country\"].str.strip()"
   ]
  },
  {
   "cell_type": "code",
   "execution_count": 575,
   "id": "21b22b6a",
   "metadata": {
    "pycharm": {
     "name": "#%%\n"
    }
   },
   "outputs": [],
   "source": [
    "# Drop null rows\n",
    "peace = peace.dropna()"
   ]
  },
  {
   "cell_type": "code",
   "execution_count": 576,
   "id": "7778a2aa",
   "metadata": {
    "pycharm": {
     "name": "#%%\n"
    }
   },
   "outputs": [],
   "source": [
    "# change type of rank to integer\n",
    "peace['Rank']=peace.Rank.astype(int)"
   ]
  },
  {
   "cell_type": "markdown",
   "id": "c46cd2ed",
   "metadata": {
    "pycharm": {
     "name": "#%% md\n"
    }
   },
   "source": [
    "#### Average Restaurant and Accomodation Cost Dataset"
   ]
  },
  {
   "cell_type": "code",
   "execution_count": 577,
   "id": "125938f0",
   "metadata": {
    "pycharm": {
     "name": "#%%\n"
    }
   },
   "outputs": [
    {
     "data": {
      "text/plain": "     Country Name Country Code              Classification Name  \\\n0         Albania          ALB  Price level index (World = 100)   \n1         Algeria          DZA  Price level index (World = 100)   \n2  American Samoa          ASM  Price level index (World = 100)   \n3          Angola          AGO  Price level index (World = 100)   \n4        Anguilla          AIA  Price level index (World = 100)   \n\n  Classification Code                     Series Name  Series Code  \\\n0               PX.WL  1111000:RESTAURANTS AND HOTELS    1111000.0   \n1               PX.WL  1111000:RESTAURANTS AND HOTELS    1111000.0   \n2               PX.WL  1111000:RESTAURANTS AND HOTELS    1111000.0   \n3               PX.WL  1111000:RESTAURANTS AND HOTELS    1111000.0   \n4               PX.WL  1111000:RESTAURANTS AND HOTELS    1111000.0   \n\n  2017 [YR2017]  \n0   50.78426859  \n1   33.93366644  \n2            ..  \n3   79.22385228  \n4     122.29901  ",
      "text/html": "<div>\n<style scoped>\n    .dataframe tbody tr th:only-of-type {\n        vertical-align: middle;\n    }\n\n    .dataframe tbody tr th {\n        vertical-align: top;\n    }\n\n    .dataframe thead th {\n        text-align: right;\n    }\n</style>\n<table border=\"1\" class=\"dataframe\">\n  <thead>\n    <tr style=\"text-align: right;\">\n      <th></th>\n      <th>Country Name</th>\n      <th>Country Code</th>\n      <th>Classification Name</th>\n      <th>Classification Code</th>\n      <th>Series Name</th>\n      <th>Series Code</th>\n      <th>2017 [YR2017]</th>\n    </tr>\n  </thead>\n  <tbody>\n    <tr>\n      <th>0</th>\n      <td>Albania</td>\n      <td>ALB</td>\n      <td>Price level index (World = 100)</td>\n      <td>PX.WL</td>\n      <td>1111000:RESTAURANTS AND HOTELS</td>\n      <td>1111000.0</td>\n      <td>50.78426859</td>\n    </tr>\n    <tr>\n      <th>1</th>\n      <td>Algeria</td>\n      <td>DZA</td>\n      <td>Price level index (World = 100)</td>\n      <td>PX.WL</td>\n      <td>1111000:RESTAURANTS AND HOTELS</td>\n      <td>1111000.0</td>\n      <td>33.93366644</td>\n    </tr>\n    <tr>\n      <th>2</th>\n      <td>American Samoa</td>\n      <td>ASM</td>\n      <td>Price level index (World = 100)</td>\n      <td>PX.WL</td>\n      <td>1111000:RESTAURANTS AND HOTELS</td>\n      <td>1111000.0</td>\n      <td>..</td>\n    </tr>\n    <tr>\n      <th>3</th>\n      <td>Angola</td>\n      <td>AGO</td>\n      <td>Price level index (World = 100)</td>\n      <td>PX.WL</td>\n      <td>1111000:RESTAURANTS AND HOTELS</td>\n      <td>1111000.0</td>\n      <td>79.22385228</td>\n    </tr>\n    <tr>\n      <th>4</th>\n      <td>Anguilla</td>\n      <td>AIA</td>\n      <td>Price level index (World = 100)</td>\n      <td>PX.WL</td>\n      <td>1111000:RESTAURANTS AND HOTELS</td>\n      <td>1111000.0</td>\n      <td>122.29901</td>\n    </tr>\n  </tbody>\n</table>\n</div>"
     },
     "execution_count": 577,
     "metadata": {},
     "output_type": "execute_result"
    }
   ],
   "source": [
    "avg_rest_hot_p.head()"
   ]
  },
  {
   "cell_type": "code",
   "execution_count": 578,
   "id": "49e87f8b",
   "metadata": {
    "pycharm": {
     "name": "#%%\n"
    }
   },
   "outputs": [
    {
     "name": "stdout",
     "output_type": "stream",
     "text": [
      "<class 'pandas.core.frame.DataFrame'>\n",
      "RangeIndex: 227 entries, 0 to 226\n",
      "Data columns (total 7 columns):\n",
      " #   Column               Non-Null Count  Dtype  \n",
      "---  ------               --------------  -----  \n",
      " 0   Country Name         224 non-null    object \n",
      " 1   Country Code         222 non-null    object \n",
      " 2   Classification Name  222 non-null    object \n",
      " 3   Classification Code  222 non-null    object \n",
      " 4   Series Name          222 non-null    object \n",
      " 5   Series Code          222 non-null    float64\n",
      " 6   2017 [YR2017]        222 non-null    object \n",
      "dtypes: float64(1), object(6)\n",
      "memory usage: 12.5+ KB\n"
     ]
    }
   ],
   "source": [
    "avg_rest_hot_p.info()"
   ]
  },
  {
   "cell_type": "code",
   "execution_count": 579,
   "id": "5ae904f0",
   "metadata": {
    "pycharm": {
     "name": "#%%\n"
    }
   },
   "outputs": [
    {
     "data": {
      "text/plain": "Country Name           3\nCountry Code           5\nClassification Name    5\nClassification Code    5\nSeries Name            5\nSeries Code            5\n2017 [YR2017]          5\ndtype: int64"
     },
     "execution_count": 579,
     "metadata": {},
     "output_type": "execute_result"
    }
   ],
   "source": [
    "# check null values\n",
    "avg_rest_hot_p.isna().sum()"
   ]
  },
  {
   "cell_type": "code",
   "execution_count": 580,
   "id": "b4d6a220",
   "metadata": {
    "pycharm": {
     "name": "#%%\n"
    }
   },
   "outputs": [
    {
     "data": {
      "text/plain": "                     Country Name Country Code Classification Name  \\\n222                           NaN          NaN                 NaN   \n223                           NaN          NaN                 NaN   \n224                           NaN          NaN                 NaN   \n225  Data from database: ICP 2017          NaN                 NaN   \n226      Last Updated: 10/21/2020          NaN                 NaN   \n\n    Classification Code Series Name  Series Code 2017 [YR2017]  \n222                 NaN         NaN          NaN           NaN  \n223                 NaN         NaN          NaN           NaN  \n224                 NaN         NaN          NaN           NaN  \n225                 NaN         NaN          NaN           NaN  \n226                 NaN         NaN          NaN           NaN  ",
      "text/html": "<div>\n<style scoped>\n    .dataframe tbody tr th:only-of-type {\n        vertical-align: middle;\n    }\n\n    .dataframe tbody tr th {\n        vertical-align: top;\n    }\n\n    .dataframe thead th {\n        text-align: right;\n    }\n</style>\n<table border=\"1\" class=\"dataframe\">\n  <thead>\n    <tr style=\"text-align: right;\">\n      <th></th>\n      <th>Country Name</th>\n      <th>Country Code</th>\n      <th>Classification Name</th>\n      <th>Classification Code</th>\n      <th>Series Name</th>\n      <th>Series Code</th>\n      <th>2017 [YR2017]</th>\n    </tr>\n  </thead>\n  <tbody>\n    <tr>\n      <th>222</th>\n      <td>NaN</td>\n      <td>NaN</td>\n      <td>NaN</td>\n      <td>NaN</td>\n      <td>NaN</td>\n      <td>NaN</td>\n      <td>NaN</td>\n    </tr>\n    <tr>\n      <th>223</th>\n      <td>NaN</td>\n      <td>NaN</td>\n      <td>NaN</td>\n      <td>NaN</td>\n      <td>NaN</td>\n      <td>NaN</td>\n      <td>NaN</td>\n    </tr>\n    <tr>\n      <th>224</th>\n      <td>NaN</td>\n      <td>NaN</td>\n      <td>NaN</td>\n      <td>NaN</td>\n      <td>NaN</td>\n      <td>NaN</td>\n      <td>NaN</td>\n    </tr>\n    <tr>\n      <th>225</th>\n      <td>Data from database: ICP 2017</td>\n      <td>NaN</td>\n      <td>NaN</td>\n      <td>NaN</td>\n      <td>NaN</td>\n      <td>NaN</td>\n      <td>NaN</td>\n    </tr>\n    <tr>\n      <th>226</th>\n      <td>Last Updated: 10/21/2020</td>\n      <td>NaN</td>\n      <td>NaN</td>\n      <td>NaN</td>\n      <td>NaN</td>\n      <td>NaN</td>\n      <td>NaN</td>\n    </tr>\n  </tbody>\n</table>\n</div>"
     },
     "execution_count": 580,
     "metadata": {},
     "output_type": "execute_result"
    }
   ],
   "source": [
    "# check null values in Country Code\n",
    "avg_rest_hot_p[avg_rest_hot_p[[\"Country Code\"]].isnull().any(axis=1)]"
   ]
  },
  {
   "cell_type": "code",
   "execution_count": 581,
   "id": "ca1ff4b4",
   "metadata": {
    "pycharm": {
     "name": "#%%\n"
    }
   },
   "outputs": [
    {
     "data": {
      "text/plain": "    Country Name Country Code Classification Name Classification Code  \\\n222          NaN          NaN                 NaN                 NaN   \n223          NaN          NaN                 NaN                 NaN   \n224          NaN          NaN                 NaN                 NaN   \n\n    Series Name  Series Code 2017 [YR2017]  \n222         NaN          NaN           NaN  \n223         NaN          NaN           NaN  \n224         NaN          NaN           NaN  ",
      "text/html": "<div>\n<style scoped>\n    .dataframe tbody tr th:only-of-type {\n        vertical-align: middle;\n    }\n\n    .dataframe tbody tr th {\n        vertical-align: top;\n    }\n\n    .dataframe thead th {\n        text-align: right;\n    }\n</style>\n<table border=\"1\" class=\"dataframe\">\n  <thead>\n    <tr style=\"text-align: right;\">\n      <th></th>\n      <th>Country Name</th>\n      <th>Country Code</th>\n      <th>Classification Name</th>\n      <th>Classification Code</th>\n      <th>Series Name</th>\n      <th>Series Code</th>\n      <th>2017 [YR2017]</th>\n    </tr>\n  </thead>\n  <tbody>\n    <tr>\n      <th>222</th>\n      <td>NaN</td>\n      <td>NaN</td>\n      <td>NaN</td>\n      <td>NaN</td>\n      <td>NaN</td>\n      <td>NaN</td>\n      <td>NaN</td>\n    </tr>\n    <tr>\n      <th>223</th>\n      <td>NaN</td>\n      <td>NaN</td>\n      <td>NaN</td>\n      <td>NaN</td>\n      <td>NaN</td>\n      <td>NaN</td>\n      <td>NaN</td>\n    </tr>\n    <tr>\n      <th>224</th>\n      <td>NaN</td>\n      <td>NaN</td>\n      <td>NaN</td>\n      <td>NaN</td>\n      <td>NaN</td>\n      <td>NaN</td>\n      <td>NaN</td>\n    </tr>\n  </tbody>\n</table>\n</div>"
     },
     "execution_count": 581,
     "metadata": {},
     "output_type": "execute_result"
    }
   ],
   "source": [
    "# check duplicates in country name\n",
    "avg_rest_hot_p[avg_rest_hot_p['Country Name'].duplicated(keep=False)==True]"
   ]
  },
  {
   "cell_type": "markdown",
   "id": "a235978e",
   "metadata": {
    "pycharm": {
     "name": "#%% md\n"
    }
   },
   "source": [
    "Given the exploration done in the avg_rest_hot_p dataset, we can conclude that for the next step in the cleaning and transformations, we wish to keep only the \"Country Name\", \" Country Code\", and the \"2017 [YR2017]\" columns, but we will rename them. Moreover, to make sure that the dataset is homogeneous we will capitalize the first letter of each word in the \"Country Name\" column. We can also see that there is 5 null values, which arise due to empty rows and footnotes, these will be handled accordingly. Additionally, we can see that some countries in the average price have \"..\" instead of being null, which will be solved."
   ]
  },
  {
   "cell_type": "code",
   "execution_count": 582,
   "id": "ab804119",
   "metadata": {
    "pycharm": {
     "name": "#%%\n"
    }
   },
   "outputs": [],
   "source": [
    "# Select the columns we are interest in\n",
    "avg_rest_hot_p = avg_rest_hot_p[[\"Country Name\", \"Country Code\", \"2017 [YR2017]\"]]"
   ]
  },
  {
   "cell_type": "code",
   "execution_count": 583,
   "id": "0d271aee",
   "metadata": {
    "pycharm": {
     "name": "#%%\n"
    }
   },
   "outputs": [],
   "source": [
    "# Rename the columns\n",
    "avg_rest_hot_p = avg_rest_hot_p.rename(columns = {\"Country Name\": \"Country\", \"2017 [YR2017]\": \"Average Hotel and Restaurant Cost\"})"
   ]
  },
  {
   "cell_type": "code",
   "execution_count": 584,
   "id": "7de15fc6",
   "metadata": {
    "pycharm": {
     "name": "#%%\n"
    }
   },
   "outputs": [],
   "source": [
    "# Capitalise the first letter of each word in the Country column, and remove any extra spaces\n",
    "avg_rest_hot_p[\"Country\"] = avg_rest_hot_p[\"Country\"].str.title()\n",
    "avg_rest_hot_p[\"Country\"] = avg_rest_hot_p[\"Country\"].str.strip()"
   ]
  },
  {
   "cell_type": "code",
   "execution_count": 585,
   "id": "4d160ee7",
   "metadata": {
    "pycharm": {
     "name": "#%%\n"
    }
   },
   "outputs": [],
   "source": [
    "# Substitute \"..\" for null value\n",
    "avg_rest_hot_p[\"Average Hotel and Restaurant Cost\"] = avg_rest_hot_p[\"Average Hotel and Restaurant Cost\"].replace(\"..\",None)\n",
    "\n",
    "# Remove empty rows\n",
    "avg_rest_hot_p = avg_rest_hot_p.dropna(subset=['Average Hotel and Restaurant Cost'])"
   ]
  },
  {
   "cell_type": "code",
   "execution_count": 586,
   "id": "ddad2ee9",
   "metadata": {
    "pycharm": {
     "name": "#%%\n"
    }
   },
   "outputs": [],
   "source": [
    "# Convert the column from string to numeric value\n",
    "avg_rest_hot_p[\"Average Hotel and Restaurant Cost\"] = pd.to_numeric(avg_rest_hot_p[\"Average Hotel and Restaurant Cost\"], errors = \"coerce\")"
   ]
  },
  {
   "cell_type": "code",
   "execution_count": 587,
   "id": "9779e091",
   "metadata": {
    "pycharm": {
     "name": "#%%\n"
    }
   },
   "outputs": [],
   "source": [
    "# Round the numbers to two decimal points\n",
    "avg_rest_hot_p[\"Average Hotel and Restaurant Cost\"] = avg_rest_hot_p[\"Average Hotel and Restaurant Cost\"].round(2)"
   ]
  },
  {
   "cell_type": "code",
   "execution_count": 588,
   "outputs": [
    {
     "data": {
      "text/plain": "       Average Hotel and Restaurant Cost\ncount                         184.000000\nmean                           82.796087\nstd                            41.254402\nmin                            26.440000\n25%                            53.867500\n50%                            69.090000\n75%                           103.875000\nmax                           232.370000",
      "text/html": "<div>\n<style scoped>\n    .dataframe tbody tr th:only-of-type {\n        vertical-align: middle;\n    }\n\n    .dataframe tbody tr th {\n        vertical-align: top;\n    }\n\n    .dataframe thead th {\n        text-align: right;\n    }\n</style>\n<table border=\"1\" class=\"dataframe\">\n  <thead>\n    <tr style=\"text-align: right;\">\n      <th></th>\n      <th>Average Hotel and Restaurant Cost</th>\n    </tr>\n  </thead>\n  <tbody>\n    <tr>\n      <th>count</th>\n      <td>184.000000</td>\n    </tr>\n    <tr>\n      <th>mean</th>\n      <td>82.796087</td>\n    </tr>\n    <tr>\n      <th>std</th>\n      <td>41.254402</td>\n    </tr>\n    <tr>\n      <th>min</th>\n      <td>26.440000</td>\n    </tr>\n    <tr>\n      <th>25%</th>\n      <td>53.867500</td>\n    </tr>\n    <tr>\n      <th>50%</th>\n      <td>69.090000</td>\n    </tr>\n    <tr>\n      <th>75%</th>\n      <td>103.875000</td>\n    </tr>\n    <tr>\n      <th>max</th>\n      <td>232.370000</td>\n    </tr>\n  </tbody>\n</table>\n</div>"
     },
     "execution_count": 588,
     "metadata": {},
     "output_type": "execute_result"
    }
   ],
   "source": [
    "# check out summary of the average cost\n",
    "avg_rest_hot_p.describe()"
   ],
   "metadata": {
    "collapsed": false,
    "pycharm": {
     "name": "#%%\n"
    }
   }
  },
  {
   "cell_type": "code",
   "execution_count": 589,
   "id": "a266c8cc",
   "metadata": {
    "pycharm": {
     "name": "#%%\n"
    }
   },
   "outputs": [
    {
     "data": {
      "text/plain": "<Figure size 1000x500 with 0 Axes>"
     },
     "metadata": {},
     "output_type": "display_data"
    },
    {
     "data": {
      "text/plain": "<Figure size 500x500 with 1 Axes>",
      "image/png": "[encoded data removed]"
     },
     "metadata": {},
     "output_type": "display_data"
    }
   ],
   "source": [
    "# Check out distribution plot of the average cost\n",
    "plt.figure(figsize=(10,5))\n",
    "\n",
    "# set the histogram, mean and median\n",
    "sns.displot(avg_rest_hot_p, x=\"Average Hotel and Restaurant Cost\", fill=True, bins=30)\n",
    "plt.axvline(x=avg_rest_hot_p[\"Average Hotel and Restaurant Cost\"].mean(), lw=2, color='red', label=\"mean\")\n",
    "plt.axvline(x=avg_rest_hot_p[\"Average Hotel and Restaurant Cost\"].median(), lw=2, color='green',label=\"median\")\n",
    "\n",
    "plt.legend([\"mean\", \"median\"])\n",
    "plt.savefig('distribution_avg_cost.png')"
   ]
  },
  {
   "cell_type": "code",
   "execution_count": 590,
   "id": "7f2a9554",
   "metadata": {
    "pycharm": {
     "name": "#%%\n"
    }
   },
   "outputs": [],
   "source": [
    "# Set a new column that classifies countries into budget travel, comfortable travel and luxury travel\n",
    "# criteria was chosen based on the numerical summary\n",
    "conditions = [avg_rest_hot_p.index <= 90, (avg_rest_hot_p.index > 90) & (avg_rest_hot_p.index <= 160), avg_rest_hot_p.index > 160]\n",
    "choices = [\"Budget Traveler\", \"Comfort traveler\", \"Luxury Traveler\"]\n",
    "avg_rest_hot_p[\"Type Traveler\"] = np.select(conditions, choices, default = \"Non Applicable\")"
   ]
  },
  {
   "cell_type": "code",
   "execution_count": 591,
   "id": "903c41f4",
   "metadata": {
    "pycharm": {
     "name": "#%%\n"
    }
   },
   "outputs": [
    {
     "data": {
      "text/plain": "Budget Traveler     84\nComfort traveler    56\nLuxury Traveler     44\nName: Type Traveler, dtype: int64"
     },
     "execution_count": 591,
     "metadata": {},
     "output_type": "execute_result"
    }
   ],
   "source": [
    "# check the count of the categories\n",
    "avg_rest_hot_p['Type Traveler'].value_counts()"
   ]
  },
  {
   "cell_type": "markdown",
   "id": "fde0129b",
   "metadata": {
    "pycharm": {
     "name": "#%% md\n"
    }
   },
   "source": [
    "#### LGBTQ Dataset"
   ]
  },
  {
   "cell_type": "code",
   "execution_count": 592,
   "id": "73b9e2c2",
   "metadata": {
    "pycharm": {
     "name": "#%%\n"
    }
   },
   "outputs": [
    {
     "data": {
      "text/plain": "   RANK      COUNTRY   GAI\n0     1      Iceland  9.78\n1     2  Netherlands  9.46\n2     3       Norway  9.38\n3     4       Sweden  9.18\n4     5       Canada  9.02",
      "text/html": "<div>\n<style scoped>\n    .dataframe tbody tr th:only-of-type {\n        vertical-align: middle;\n    }\n\n    .dataframe tbody tr th {\n        vertical-align: top;\n    }\n\n    .dataframe thead th {\n        text-align: right;\n    }\n</style>\n<table border=\"1\" class=\"dataframe\">\n  <thead>\n    <tr style=\"text-align: right;\">\n      <th></th>\n      <th>RANK</th>\n      <th>COUNTRY</th>\n      <th>GAI</th>\n    </tr>\n  </thead>\n  <tbody>\n    <tr>\n      <th>0</th>\n      <td>1</td>\n      <td>Iceland</td>\n      <td>9.78</td>\n    </tr>\n    <tr>\n      <th>1</th>\n      <td>2</td>\n      <td>Netherlands</td>\n      <td>9.46</td>\n    </tr>\n    <tr>\n      <th>2</th>\n      <td>3</td>\n      <td>Norway</td>\n      <td>9.38</td>\n    </tr>\n    <tr>\n      <th>3</th>\n      <td>4</td>\n      <td>Sweden</td>\n      <td>9.18</td>\n    </tr>\n    <tr>\n      <th>4</th>\n      <td>5</td>\n      <td>Canada</td>\n      <td>9.02</td>\n    </tr>\n  </tbody>\n</table>\n</div>"
     },
     "execution_count": 592,
     "metadata": {},
     "output_type": "execute_result"
    }
   ],
   "source": [
    "lgbtq.head()"
   ]
  },
  {
   "cell_type": "code",
   "execution_count": 593,
   "id": "509de283",
   "metadata": {
    "pycharm": {
     "name": "#%%\n"
    }
   },
   "outputs": [
    {
     "name": "stdout",
     "output_type": "stream",
     "text": [
      "<class 'pandas.core.frame.DataFrame'>\n",
      "RangeIndex: 175 entries, 0 to 174\n",
      "Data columns (total 3 columns):\n",
      " #   Column   Non-Null Count  Dtype  \n",
      "---  ------   --------------  -----  \n",
      " 0   RANK     175 non-null    int64  \n",
      " 1   COUNTRY  175 non-null    object \n",
      " 2   GAI      175 non-null    float64\n",
      "dtypes: float64(1), int64(1), object(1)\n",
      "memory usage: 4.2+ KB\n"
     ]
    }
   ],
   "source": [
    "lgbtq.info()"
   ]
  },
  {
   "cell_type": "code",
   "execution_count": 594,
   "id": "2b5d3f24",
   "metadata": {
    "pycharm": {
     "name": "#%%\n"
    }
   },
   "outputs": [],
   "source": [
    "# Capitalise the first letter of each word in the Country column, and remove any extra spaces\n",
    "lgbtq['COUNTRY'] = lgbtq['COUNTRY'].str.title()\n",
    "lgbtq['COUNTRY'] = lgbtq['COUNTRY'].str.strip()"
   ]
  },
  {
   "cell_type": "markdown",
   "id": "41cbc4b3",
   "metadata": {
    "pycharm": {
     "name": "#%% md\n"
    }
   },
   "source": [
    "#### Cuisine Rank Dataset"
   ]
  },
  {
   "cell_type": "code",
   "execution_count": 595,
   "id": "ca5e815c",
   "metadata": {
    "pycharm": {
     "name": "#%%\n"
    }
   },
   "outputs": [
    {
     "data": {
      "text/plain": "  Country  Ratings\n0   italy     4.72\n1  greece     4.69\n2   spain     4.59\n3   japan     4.59\n4   india     4.54",
      "text/html": "<div>\n<style scoped>\n    .dataframe tbody tr th:only-of-type {\n        vertical-align: middle;\n    }\n\n    .dataframe tbody tr th {\n        vertical-align: top;\n    }\n\n    .dataframe thead th {\n        text-align: right;\n    }\n</style>\n<table border=\"1\" class=\"dataframe\">\n  <thead>\n    <tr style=\"text-align: right;\">\n      <th></th>\n      <th>Country</th>\n      <th>Ratings</th>\n    </tr>\n  </thead>\n  <tbody>\n    <tr>\n      <th>0</th>\n      <td>italy</td>\n      <td>4.72</td>\n    </tr>\n    <tr>\n      <th>1</th>\n      <td>greece</td>\n      <td>4.69</td>\n    </tr>\n    <tr>\n      <th>2</th>\n      <td>spain</td>\n      <td>4.59</td>\n    </tr>\n    <tr>\n      <th>3</th>\n      <td>japan</td>\n      <td>4.59</td>\n    </tr>\n    <tr>\n      <th>4</th>\n      <td>india</td>\n      <td>4.54</td>\n    </tr>\n  </tbody>\n</table>\n</div>"
     },
     "execution_count": 595,
     "metadata": {},
     "output_type": "execute_result"
    }
   ],
   "source": [
    "cuisine_rank.head()"
   ]
  },
  {
   "cell_type": "code",
   "execution_count": 596,
   "id": "faa2b11f",
   "metadata": {
    "pycharm": {
     "name": "#%%\n"
    }
   },
   "outputs": [
    {
     "name": "stdout",
     "output_type": "stream",
     "text": [
      "<class 'pandas.core.frame.DataFrame'>\n",
      "RangeIndex: 95 entries, 0 to 94\n",
      "Data columns (total 2 columns):\n",
      " #   Column   Non-Null Count  Dtype  \n",
      "---  ------   --------------  -----  \n",
      " 0   Country  95 non-null     object \n",
      " 1   Ratings  95 non-null     float64\n",
      "dtypes: float64(1), object(1)\n",
      "memory usage: 1.6+ KB\n"
     ]
    }
   ],
   "source": [
    "cuisine_rank.info()"
   ]
  },
  {
   "cell_type": "code",
   "execution_count": 597,
   "id": "19e1e80c",
   "metadata": {
    "pycharm": {
     "name": "#%%\n"
    }
   },
   "outputs": [],
   "source": [
    "# replace unnecessary hyphens in country names\n",
    "cuisine_rank['Country'] = cuisine_rank['Country'].str.replace('-', ' ')\n",
    "# Capitalise the first letter of each word in the Country column, and remove any extra spaces\n",
    "cuisine_rank['Country'] = cuisine_rank['Country'].str.title()\n",
    "cuisine_rank['Country'] = cuisine_rank['Country'].str.strip()"
   ]
  },
  {
   "cell_type": "markdown",
   "id": "557c2ec3",
   "metadata": {
    "pycharm": {
     "name": "#%% md\n"
    }
   },
   "source": [
    "## Adding ISO Code to All Datasets by Joining with Country Dataset"
   ]
  },
  {
   "cell_type": "markdown",
   "id": "34cf14df",
   "metadata": {
    "pycharm": {
     "name": "#%% md\n"
    }
   },
   "source": [
    "\n",
    "We will join all datasets with country data, so that all dataset can have ISO Code.Later in Tableau, we will connect datasets using ISO Code.Furthermore, we are analyzing countries that are included in WEF_TTDI index data, so all the other countries will be dropped.\n",
    "\n",
    "As WEF dataset already contains ISO code and we are using countris based on WEF dataset,there is no need for joining with country datset.\""
   ]
  },
  {
   "cell_type": "markdown",
   "id": "55532386",
   "metadata": {
    "pycharm": {
     "name": "#%% md\n"
    }
   },
   "source": [
    "#### Check climate - country"
   ]
  },
  {
   "cell_type": "code",
   "execution_count": 598,
   "id": "4570a4da",
   "metadata": {
    "pycharm": {
     "name": "#%%\n"
    }
   },
   "outputs": [
    {
     "data": {
      "text/plain": "          Country                                            Climate  \\\n0     Afghanistan     Arid To Semiarid; Cold Winters And Hot Summers   \n1        Akrotiri  Temperate; Mediterranean With Hot, Dry Summers...   \n2         Albania  Mild Temperate; Cool, Cloudy, Wet Winters; Hot...   \n3         Algeria  Arid To Semiarid; Mild, Wet Winters With Hot, ...   \n4  American Samoa  Tropical Marine, Moderated By Southeast Trade ...   \n\n  Climate Zone            Name Iso3  \n0     Tropical     Afghanistan  AFG  \n1    Temperate             NaN  NaN  \n2    Temperate         Albania  ALB  \n3     Tropical         Algeria  DZA  \n4     Tropical  American Samoa  ASM  ",
      "text/html": "<div>\n<style scoped>\n    .dataframe tbody tr th:only-of-type {\n        vertical-align: middle;\n    }\n\n    .dataframe tbody tr th {\n        vertical-align: top;\n    }\n\n    .dataframe thead th {\n        text-align: right;\n    }\n</style>\n<table border=\"1\" class=\"dataframe\">\n  <thead>\n    <tr style=\"text-align: right;\">\n      <th></th>\n      <th>Country</th>\n      <th>Climate</th>\n      <th>Climate Zone</th>\n      <th>Name</th>\n      <th>Iso3</th>\n    </tr>\n  </thead>\n  <tbody>\n    <tr>\n      <th>0</th>\n      <td>Afghanistan</td>\n      <td>Arid To Semiarid; Cold Winters And Hot Summers</td>\n      <td>Tropical</td>\n      <td>Afghanistan</td>\n      <td>AFG</td>\n    </tr>\n    <tr>\n      <th>1</th>\n      <td>Akrotiri</td>\n      <td>Temperate; Mediterranean With Hot, Dry Summers...</td>\n      <td>Temperate</td>\n      <td>NaN</td>\n      <td>NaN</td>\n    </tr>\n    <tr>\n      <th>2</th>\n      <td>Albania</td>\n      <td>Mild Temperate; Cool, Cloudy, Wet Winters; Hot...</td>\n      <td>Temperate</td>\n      <td>Albania</td>\n      <td>ALB</td>\n    </tr>\n    <tr>\n      <th>3</th>\n      <td>Algeria</td>\n      <td>Arid To Semiarid; Mild, Wet Winters With Hot, ...</td>\n      <td>Tropical</td>\n      <td>Algeria</td>\n      <td>DZA</td>\n    </tr>\n    <tr>\n      <th>4</th>\n      <td>American Samoa</td>\n      <td>Tropical Marine, Moderated By Southeast Trade ...</td>\n      <td>Tropical</td>\n      <td>American Samoa</td>\n      <td>ASM</td>\n    </tr>\n  </tbody>\n</table>\n</div>"
     },
     "execution_count": 598,
     "metadata": {},
     "output_type": "execute_result"
    }
   ],
   "source": [
    "# left join by country dataset based on country names\n",
    "clim = clim.merge(country[['Name','Iso3']], how='left', left_on='Country', right_on='Name')\n",
    "clim.head()"
   ]
  },
  {
   "cell_type": "code",
   "execution_count": 599,
   "id": "7166ab36",
   "metadata": {
    "pycharm": {
     "name": "#%%\n"
    }
   },
   "outputs": [
    {
     "data": {
      "text/plain": "                         Country  \\\n1                       Akrotiri   \n7                       Anguilla   \n8                     Antarctica   \n10                  Arctic Ocean   \n14   Ashmore And Cartier Islands   \n..                           ...   \n269               Virgin Islands   \n270                  Wake Island   \n271            Wallis And Futuna   \n272                    West Bank   \n273               Western Sahara   \n\n                                               Climate Climate Zone Name Iso3  \n1    Temperate; Mediterranean With Hot, Dry Summers...    Temperate  NaN  NaN  \n7         Tropical; Moderated By Northeast Trade Winds     Tropical  NaN  NaN  \n8    Severe Low Temperatures Vary With Latitude, El...        Polar  NaN  NaN  \n10   Polar Climate Characterized By Persistent Cold...        Polar  NaN  NaN  \n14                                            Tropical     Tropical  NaN  NaN  \n..                                                 ...          ...  ...  ...  \n269  Subtropical, Tempered By Easterly Trade Winds,...  Subtropical  NaN  NaN  \n270                                           Tropical     Tropical  NaN  NaN  \n271  Tropical; Hot, Rainy Season (November To April...     Tropical  NaN  NaN  \n272  Temperate; Temperature And Precipitation Vary ...    Temperate  NaN  NaN  \n273  Hot, Dry Desert; Rain Is Rare; Cold Offshore A...     Tropical  NaN  NaN  \n\n[73 rows x 5 columns]",
      "text/html": "<div>\n<style scoped>\n    .dataframe tbody tr th:only-of-type {\n        vertical-align: middle;\n    }\n\n    .dataframe tbody tr th {\n        vertical-align: top;\n    }\n\n    .dataframe thead th {\n        text-align: right;\n    }\n</style>\n<table border=\"1\" class=\"dataframe\">\n  <thead>\n    <tr style=\"text-align: right;\">\n      <th></th>\n      <th>Country</th>\n      <th>Climate</th>\n      <th>Climate Zone</th>\n      <th>Name</th>\n      <th>Iso3</th>\n    </tr>\n  </thead>\n  <tbody>\n    <tr>\n      <th>1</th>\n      <td>Akrotiri</td>\n      <td>Temperate; Mediterranean With Hot, Dry Summers...</td>\n      <td>Temperate</td>\n      <td>NaN</td>\n      <td>NaN</td>\n    </tr>\n    <tr>\n      <th>7</th>\n      <td>Anguilla</td>\n      <td>Tropical; Moderated By Northeast Trade Winds</td>\n      <td>Tropical</td>\n      <td>NaN</td>\n      <td>NaN</td>\n    </tr>\n    <tr>\n      <th>8</th>\n      <td>Antarctica</td>\n      <td>Severe Low Temperatures Vary With Latitude, El...</td>\n      <td>Polar</td>\n      <td>NaN</td>\n      <td>NaN</td>\n    </tr>\n    <tr>\n      <th>10</th>\n      <td>Arctic Ocean</td>\n      <td>Polar Climate Characterized By Persistent Cold...</td>\n      <td>Polar</td>\n      <td>NaN</td>\n      <td>NaN</td>\n    </tr>\n    <tr>\n      <th>14</th>\n      <td>Ashmore And Cartier Islands</td>\n      <td>Tropical</td>\n      <td>Tropical</td>\n      <td>NaN</td>\n      <td>NaN</td>\n    </tr>\n    <tr>\n      <th>...</th>\n      <td>...</td>\n      <td>...</td>\n      <td>...</td>\n      <td>...</td>\n      <td>...</td>\n    </tr>\n    <tr>\n      <th>269</th>\n      <td>Virgin Islands</td>\n      <td>Subtropical, Tempered By Easterly Trade Winds,...</td>\n      <td>Subtropical</td>\n      <td>NaN</td>\n      <td>NaN</td>\n    </tr>\n    <tr>\n      <th>270</th>\n      <td>Wake Island</td>\n      <td>Tropical</td>\n      <td>Tropical</td>\n      <td>NaN</td>\n      <td>NaN</td>\n    </tr>\n    <tr>\n      <th>271</th>\n      <td>Wallis And Futuna</td>\n      <td>Tropical; Hot, Rainy Season (November To April...</td>\n      <td>Tropical</td>\n      <td>NaN</td>\n      <td>NaN</td>\n    </tr>\n    <tr>\n      <th>272</th>\n      <td>West Bank</td>\n      <td>Temperate; Temperature And Precipitation Vary ...</td>\n      <td>Temperate</td>\n      <td>NaN</td>\n      <td>NaN</td>\n    </tr>\n    <tr>\n      <th>273</th>\n      <td>Western Sahara</td>\n      <td>Hot, Dry Desert; Rain Is Rare; Cold Offshore A...</td>\n      <td>Tropical</td>\n      <td>NaN</td>\n      <td>NaN</td>\n    </tr>\n  </tbody>\n</table>\n<p>73 rows × 5 columns</p>\n</div>"
     },
     "execution_count": 599,
     "metadata": {},
     "output_type": "execute_result"
    }
   ],
   "source": [
    "# check the countries that are not merged\n",
    "clim[clim['Name'].isnull()]"
   ]
  },
  {
   "cell_type": "code",
   "execution_count": 600,
   "id": "9f8e7f22",
   "metadata": {
    "pycharm": {
     "name": "#%%\n"
    }
   },
   "outputs": [],
   "source": [
    "# drop the countries that are not merged\n",
    "clim = clim.dropna(subset=['Name'])\n",
    "# drop the merged country name column to avoid repetition\n",
    "clim = clim.drop(['Name'], axis=1)"
   ]
  },
  {
   "cell_type": "code",
   "execution_count": 601,
   "id": "1865fb87",
   "metadata": {
    "pycharm": {
     "name": "#%%\n"
    }
   },
   "outputs": [
    {
     "data": {
      "text/plain": "          Country                                            Climate  \\\n0     Afghanistan     Arid To Semiarid; Cold Winters And Hot Summers   \n2         Albania  Mild Temperate; Cool, Cloudy, Wet Winters; Hot...   \n3         Algeria  Arid To Semiarid; Mild, Wet Winters With Hot, ...   \n4  American Samoa  Tropical Marine, Moderated By Southeast Trade ...   \n5         Andorra  Temperate; Snowy, Cold Winters And Warm, Dry S...   \n\n  Climate Zone Iso3  \n0     Tropical  AFG  \n2    Temperate  ALB  \n3     Tropical  DZA  \n4     Tropical  ASM  \n5    Temperate  ADO  ",
      "text/html": "<div>\n<style scoped>\n    .dataframe tbody tr th:only-of-type {\n        vertical-align: middle;\n    }\n\n    .dataframe tbody tr th {\n        vertical-align: top;\n    }\n\n    .dataframe thead th {\n        text-align: right;\n    }\n</style>\n<table border=\"1\" class=\"dataframe\">\n  <thead>\n    <tr style=\"text-align: right;\">\n      <th></th>\n      <th>Country</th>\n      <th>Climate</th>\n      <th>Climate Zone</th>\n      <th>Iso3</th>\n    </tr>\n  </thead>\n  <tbody>\n    <tr>\n      <th>0</th>\n      <td>Afghanistan</td>\n      <td>Arid To Semiarid; Cold Winters And Hot Summers</td>\n      <td>Tropical</td>\n      <td>AFG</td>\n    </tr>\n    <tr>\n      <th>2</th>\n      <td>Albania</td>\n      <td>Mild Temperate; Cool, Cloudy, Wet Winters; Hot...</td>\n      <td>Temperate</td>\n      <td>ALB</td>\n    </tr>\n    <tr>\n      <th>3</th>\n      <td>Algeria</td>\n      <td>Arid To Semiarid; Mild, Wet Winters With Hot, ...</td>\n      <td>Tropical</td>\n      <td>DZA</td>\n    </tr>\n    <tr>\n      <th>4</th>\n      <td>American Samoa</td>\n      <td>Tropical Marine, Moderated By Southeast Trade ...</td>\n      <td>Tropical</td>\n      <td>ASM</td>\n    </tr>\n    <tr>\n      <th>5</th>\n      <td>Andorra</td>\n      <td>Temperate; Snowy, Cold Winters And Warm, Dry S...</td>\n      <td>Temperate</td>\n      <td>ADO</td>\n    </tr>\n  </tbody>\n</table>\n</div>"
     },
     "execution_count": 601,
     "metadata": {},
     "output_type": "execute_result"
    }
   ],
   "source": [
    "clim.head()"
   ]
  },
  {
   "cell_type": "markdown",
   "id": "43cfe299",
   "metadata": {
    "pycharm": {
     "name": "#%% md\n"
    }
   },
   "source": [
    "#### Check Currency - Country"
   ]
  },
  {
   "cell_type": "code",
   "execution_count": 602,
   "id": "f57ec348",
   "metadata": {
    "pycharm": {
     "name": "#%%\n"
    }
   },
   "outputs": [
    {
     "data": {
      "text/plain": "          Country        Currency Currency Code            Name Iso3\n0     Afghanistan         Afghani           AFN     Afghanistan  AFG\n1   Åland Islands            Euro           EUR             NaN  NaN\n2         Albania             Lek           ALL         Albania  ALB\n3         Algeria  Algerian Dinar           DZD         Algeria  DZA\n4  American Samoa       Us Dollar           USD  American Samoa  ASM",
      "text/html": "<div>\n<style scoped>\n    .dataframe tbody tr th:only-of-type {\n        vertical-align: middle;\n    }\n\n    .dataframe tbody tr th {\n        vertical-align: top;\n    }\n\n    .dataframe thead th {\n        text-align: right;\n    }\n</style>\n<table border=\"1\" class=\"dataframe\">\n  <thead>\n    <tr style=\"text-align: right;\">\n      <th></th>\n      <th>Country</th>\n      <th>Currency</th>\n      <th>Currency Code</th>\n      <th>Name</th>\n      <th>Iso3</th>\n    </tr>\n  </thead>\n  <tbody>\n    <tr>\n      <th>0</th>\n      <td>Afghanistan</td>\n      <td>Afghani</td>\n      <td>AFN</td>\n      <td>Afghanistan</td>\n      <td>AFG</td>\n    </tr>\n    <tr>\n      <th>1</th>\n      <td>Åland Islands</td>\n      <td>Euro</td>\n      <td>EUR</td>\n      <td>NaN</td>\n      <td>NaN</td>\n    </tr>\n    <tr>\n      <th>2</th>\n      <td>Albania</td>\n      <td>Lek</td>\n      <td>ALL</td>\n      <td>Albania</td>\n      <td>ALB</td>\n    </tr>\n    <tr>\n      <th>3</th>\n      <td>Algeria</td>\n      <td>Algerian Dinar</td>\n      <td>DZD</td>\n      <td>Algeria</td>\n      <td>DZA</td>\n    </tr>\n    <tr>\n      <th>4</th>\n      <td>American Samoa</td>\n      <td>Us Dollar</td>\n      <td>USD</td>\n      <td>American Samoa</td>\n      <td>ASM</td>\n    </tr>\n  </tbody>\n</table>\n</div>"
     },
     "execution_count": 602,
     "metadata": {},
     "output_type": "execute_result"
    }
   ],
   "source": [
    "# left join by country dataset based on country names\n",
    "curr = curr.merge(country[['Name','Iso3']], how='left', left_on='Country', right_on='Name')\n",
    "curr.head()"
   ]
  },
  {
   "cell_type": "code",
   "execution_count": 603,
   "id": "05f0a70a",
   "metadata": {
    "pycharm": {
     "name": "#%%\n"
    }
   },
   "outputs": [
    {
     "data": {
      "text/plain": "                                               Country  \\\n1                                        Åland Islands   \n7                                             Anguilla   \n26                    Bonaire, Sint Eustatius And Saba   \n29                                       Bouvet Island   \n31                      British Indian Ocean Territory   \n45                                    Christmas Island   \n46                               Cocos Keeling Islands   \n51                                        Cook Islands   \n56                                             Curaçao   \n69                                            Eswatini   \n71                                      European Union   \n72                                    Falkland Islands   \n79                         French Southern Territories   \n85                                           Gibraltar   \n89                                          Guadeloupe   \n92                                            Guernsey   \n97                   Heard Island And Mcdonald Islands   \n98                                            Holy See   \n105                        International Monetary Fund   \n114                                             Jersey   \n141                                         Martinique   \n144                                            Mayotte   \n145  Member Countries Of The African Development Ba...   \n147                                         Micronesia   \n152                                         Montserrat   \n157                                              Nauru   \n165                                               Niue   \n166                                     Norfolk Island   \n177                                           Pitcairn   \n182                                            Réunion   \n186                                   Saint Barthélemy   \n187       Saint Helena, Ascension And Tristan Da Cunha   \n190                                       Saint Martin   \n191                          Saint Pierre And Miquelon   \n202                                       Sint Maarten   \n203  Sistema Unitario De Compensacion Regional De P...   \n214                             Svalbard And Jan Mayen   \n224                                            Tokelau   \n236               United States Minor Outlying Islands   \n243                                     Virgin Islands   \n244                                     Virgin Islands   \n245                                  Wallis And Futuna   \n246                                     Western Sahara   \n250              Zz01_Bond Markets Unit European_Eurco   \n251              Zz02_Bond Markets Unit European_Emu-6   \n252              Zz03_Bond Markets Unit European_Eua-9   \n253             Zz04_Bond Markets Unit European_Eua-17   \n254                                  Zz06_Testing_Code   \n255                                   Zz07_No_Currency   \n256                                          Zz08_Gold   \n257                                     Zz09_Palladium   \n258                                      Zz10_Platinum   \n259                                        Zz11_Silver   \n\n                                              Currency Currency Code Name Iso3  \n1                                                 Euro           EUR  NaN  NaN  \n7                                East Caribbean Dollar           XCD  NaN  NaN  \n26                                           Us Dollar           USD  NaN  NaN  \n29                                     Norwegian Krone           NOK  NaN  NaN  \n31                                           Us Dollar           USD  NaN  NaN  \n45                                   Australian Dollar           AUD  NaN  NaN  \n46                                   Australian Dollar           AUD  NaN  NaN  \n51                                  New Zealand Dollar           NZD  NaN  NaN  \n56                       Netherlands Antillean Guilder           ANG  NaN  NaN  \n69                                           Lilangeni           SZL  NaN  NaN  \n71                                                Euro           EUR  NaN  NaN  \n72                              Falkland Islands Pound           FKP  NaN  NaN  \n79                                                Euro           EUR  NaN  NaN  \n85                                     Gibraltar Pound           GIP  NaN  NaN  \n89                                                Euro           EUR  NaN  NaN  \n92                                      Pound Sterling           GBP  NaN  NaN  \n97                                   Australian Dollar           AUD  NaN  NaN  \n98                                                Euro           EUR  NaN  NaN  \n105                        Sdr (Special Drawing Right)           XDR  NaN  NaN  \n114                                     Pound Sterling           GBP  NaN  NaN  \n141                                               Euro           EUR  NaN  NaN  \n144                                               Euro           EUR  NaN  NaN  \n145                                Adb Unit Of Account           XUA  NaN  NaN  \n147                                          Us Dollar           USD  NaN  NaN  \n152                              East Caribbean Dollar           XCD  NaN  NaN  \n157                                  Australian Dollar           AUD  NaN  NaN  \n165                                 New Zealand Dollar           NZD  NaN  NaN  \n166                                  Australian Dollar           AUD  NaN  NaN  \n177                                 New Zealand Dollar           NZD  NaN  NaN  \n182                                               Euro           EUR  NaN  NaN  \n186                                               Euro           EUR  NaN  NaN  \n187                                 Saint Helena Pound           SHP  NaN  NaN  \n190                                               Euro           EUR  NaN  NaN  \n191                                               Euro           EUR  NaN  NaN  \n202                      Netherlands Antillean Guilder           ANG  NaN  NaN  \n203                                              Sucre           XSU  NaN  NaN  \n214                                    Norwegian Krone           NOK  NaN  NaN  \n224                                 New Zealand Dollar           NZD  NaN  NaN  \n236                                          Us Dollar           USD  NaN  NaN  \n243                                          Us Dollar           USD  NaN  NaN  \n244                                          Us Dollar           USD  NaN  NaN  \n245                                          Cfp Franc           XPF  NaN  NaN  \n246                                    Moroccan Dirham           MAD  NaN  NaN  \n250  Bond Markets Unit European Composite Unit (Eurco)           XBA  NaN  NaN  \n251  Bond Markets Unit European Monetary Unit (E.M....           XBB  NaN  NaN  \n252  Bond Markets Unit European Unit Of Account 9 (...           XBC  NaN  NaN  \n253  Bond Markets Unit European Unit Of Account 17 ...           XBD  NaN  NaN  \n254   Codes Specifically Reserved For Testing Purposes           XTS  NaN  NaN  \n255  The Codes Assigned For Transactions Where No C...           XXX  NaN  NaN  \n256                                               Gold           XAU  NaN  NaN  \n257                                          Palladium           XPD  NaN  NaN  \n258                                           Platinum           XPT  NaN  NaN  \n259                                             Silver           XAG  NaN  NaN  ",
      "text/html": "<div>\n<style scoped>\n    .dataframe tbody tr th:only-of-type {\n        vertical-align: middle;\n    }\n\n    .dataframe tbody tr th {\n        vertical-align: top;\n    }\n\n    .dataframe thead th {\n        text-align: right;\n    }\n</style>\n<table border=\"1\" class=\"dataframe\">\n  <thead>\n    <tr style=\"text-align: right;\">\n      <th></th>\n      <th>Country</th>\n      <th>Currency</th>\n      <th>Currency Code</th>\n      <th>Name</th>\n      <th>Iso3</th>\n    </tr>\n  </thead>\n  <tbody>\n    <tr>\n      <th>1</th>\n      <td>Åland Islands</td>\n      <td>Euro</td>\n      <td>EUR</td>\n      <td>NaN</td>\n      <td>NaN</td>\n    </tr>\n    <tr>\n      <th>7</th>\n      <td>Anguilla</td>\n      <td>East Caribbean Dollar</td>\n      <td>XCD</td>\n      <td>NaN</td>\n      <td>NaN</td>\n    </tr>\n    <tr>\n      <th>26</th>\n      <td>Bonaire, Sint Eustatius And Saba</td>\n      <td>Us Dollar</td>\n      <td>USD</td>\n      <td>NaN</td>\n      <td>NaN</td>\n    </tr>\n    <tr>\n      <th>29</th>\n      <td>Bouvet Island</td>\n      <td>Norwegian Krone</td>\n      <td>NOK</td>\n      <td>NaN</td>\n      <td>NaN</td>\n    </tr>\n    <tr>\n      <th>31</th>\n      <td>British Indian Ocean Territory</td>\n      <td>Us Dollar</td>\n      <td>USD</td>\n      <td>NaN</td>\n      <td>NaN</td>\n    </tr>\n    <tr>\n      <th>45</th>\n      <td>Christmas Island</td>\n      <td>Australian Dollar</td>\n      <td>AUD</td>\n      <td>NaN</td>\n      <td>NaN</td>\n    </tr>\n    <tr>\n      <th>46</th>\n      <td>Cocos Keeling Islands</td>\n      <td>Australian Dollar</td>\n      <td>AUD</td>\n      <td>NaN</td>\n      <td>NaN</td>\n    </tr>\n    <tr>\n      <th>51</th>\n      <td>Cook Islands</td>\n      <td>New Zealand Dollar</td>\n      <td>NZD</td>\n      <td>NaN</td>\n      <td>NaN</td>\n    </tr>\n    <tr>\n      <th>56</th>\n      <td>Curaçao</td>\n      <td>Netherlands Antillean Guilder</td>\n      <td>ANG</td>\n      <td>NaN</td>\n      <td>NaN</td>\n    </tr>\n    <tr>\n      <th>69</th>\n      <td>Eswatini</td>\n      <td>Lilangeni</td>\n      <td>SZL</td>\n      <td>NaN</td>\n      <td>NaN</td>\n    </tr>\n    <tr>\n      <th>71</th>\n      <td>European Union</td>\n      <td>Euro</td>\n      <td>EUR</td>\n      <td>NaN</td>\n      <td>NaN</td>\n    </tr>\n    <tr>\n      <th>72</th>\n      <td>Falkland Islands</td>\n      <td>Falkland Islands Pound</td>\n      <td>FKP</td>\n      <td>NaN</td>\n      <td>NaN</td>\n    </tr>\n    <tr>\n      <th>79</th>\n      <td>French Southern Territories</td>\n      <td>Euro</td>\n      <td>EUR</td>\n      <td>NaN</td>\n      <td>NaN</td>\n    </tr>\n    <tr>\n      <th>85</th>\n      <td>Gibraltar</td>\n      <td>Gibraltar Pound</td>\n      <td>GIP</td>\n      <td>NaN</td>\n      <td>NaN</td>\n    </tr>\n    <tr>\n      <th>89</th>\n      <td>Guadeloupe</td>\n      <td>Euro</td>\n      <td>EUR</td>\n      <td>NaN</td>\n      <td>NaN</td>\n    </tr>\n    <tr>\n      <th>92</th>\n      <td>Guernsey</td>\n      <td>Pound Sterling</td>\n      <td>GBP</td>\n      <td>NaN</td>\n      <td>NaN</td>\n    </tr>\n    <tr>\n      <th>97</th>\n      <td>Heard Island And Mcdonald Islands</td>\n      <td>Australian Dollar</td>\n      <td>AUD</td>\n      <td>NaN</td>\n      <td>NaN</td>\n    </tr>\n    <tr>\n      <th>98</th>\n      <td>Holy See</td>\n      <td>Euro</td>\n      <td>EUR</td>\n      <td>NaN</td>\n      <td>NaN</td>\n    </tr>\n    <tr>\n      <th>105</th>\n      <td>International Monetary Fund</td>\n      <td>Sdr (Special Drawing Right)</td>\n      <td>XDR</td>\n      <td>NaN</td>\n      <td>NaN</td>\n    </tr>\n    <tr>\n      <th>114</th>\n      <td>Jersey</td>\n      <td>Pound Sterling</td>\n      <td>GBP</td>\n      <td>NaN</td>\n      <td>NaN</td>\n    </tr>\n    <tr>\n      <th>141</th>\n      <td>Martinique</td>\n      <td>Euro</td>\n      <td>EUR</td>\n      <td>NaN</td>\n      <td>NaN</td>\n    </tr>\n    <tr>\n      <th>144</th>\n      <td>Mayotte</td>\n      <td>Euro</td>\n      <td>EUR</td>\n      <td>NaN</td>\n      <td>NaN</td>\n    </tr>\n    <tr>\n      <th>145</th>\n      <td>Member Countries Of The African Development Ba...</td>\n      <td>Adb Unit Of Account</td>\n      <td>XUA</td>\n      <td>NaN</td>\n      <td>NaN</td>\n    </tr>\n    <tr>\n      <th>147</th>\n      <td>Micronesia</td>\n      <td>Us Dollar</td>\n      <td>USD</td>\n      <td>NaN</td>\n      <td>NaN</td>\n    </tr>\n    <tr>\n      <th>152</th>\n      <td>Montserrat</td>\n      <td>East Caribbean Dollar</td>\n      <td>XCD</td>\n      <td>NaN</td>\n      <td>NaN</td>\n    </tr>\n    <tr>\n      <th>157</th>\n      <td>Nauru</td>\n      <td>Australian Dollar</td>\n      <td>AUD</td>\n      <td>NaN</td>\n      <td>NaN</td>\n    </tr>\n    <tr>\n      <th>165</th>\n      <td>Niue</td>\n      <td>New Zealand Dollar</td>\n      <td>NZD</td>\n      <td>NaN</td>\n      <td>NaN</td>\n    </tr>\n    <tr>\n      <th>166</th>\n      <td>Norfolk Island</td>\n      <td>Australian Dollar</td>\n      <td>AUD</td>\n      <td>NaN</td>\n      <td>NaN</td>\n    </tr>\n    <tr>\n      <th>177</th>\n      <td>Pitcairn</td>\n      <td>New Zealand Dollar</td>\n      <td>NZD</td>\n      <td>NaN</td>\n      <td>NaN</td>\n    </tr>\n    <tr>\n      <th>182</th>\n      <td>Réunion</td>\n      <td>Euro</td>\n      <td>EUR</td>\n      <td>NaN</td>\n      <td>NaN</td>\n    </tr>\n    <tr>\n      <th>186</th>\n      <td>Saint Barthélemy</td>\n      <td>Euro</td>\n      <td>EUR</td>\n      <td>NaN</td>\n      <td>NaN</td>\n    </tr>\n    <tr>\n      <th>187</th>\n      <td>Saint Helena, Ascension And Tristan Da Cunha</td>\n      <td>Saint Helena Pound</td>\n      <td>SHP</td>\n      <td>NaN</td>\n      <td>NaN</td>\n    </tr>\n    <tr>\n      <th>190</th>\n      <td>Saint Martin</td>\n      <td>Euro</td>\n      <td>EUR</td>\n      <td>NaN</td>\n      <td>NaN</td>\n    </tr>\n    <tr>\n      <th>191</th>\n      <td>Saint Pierre And Miquelon</td>\n      <td>Euro</td>\n      <td>EUR</td>\n      <td>NaN</td>\n      <td>NaN</td>\n    </tr>\n    <tr>\n      <th>202</th>\n      <td>Sint Maarten</td>\n      <td>Netherlands Antillean Guilder</td>\n      <td>ANG</td>\n      <td>NaN</td>\n      <td>NaN</td>\n    </tr>\n    <tr>\n      <th>203</th>\n      <td>Sistema Unitario De Compensacion Regional De P...</td>\n      <td>Sucre</td>\n      <td>XSU</td>\n      <td>NaN</td>\n      <td>NaN</td>\n    </tr>\n    <tr>\n      <th>214</th>\n      <td>Svalbard And Jan Mayen</td>\n      <td>Norwegian Krone</td>\n      <td>NOK</td>\n      <td>NaN</td>\n      <td>NaN</td>\n    </tr>\n    <tr>\n      <th>224</th>\n      <td>Tokelau</td>\n      <td>New Zealand Dollar</td>\n      <td>NZD</td>\n      <td>NaN</td>\n      <td>NaN</td>\n    </tr>\n    <tr>\n      <th>236</th>\n      <td>United States Minor Outlying Islands</td>\n      <td>Us Dollar</td>\n      <td>USD</td>\n      <td>NaN</td>\n      <td>NaN</td>\n    </tr>\n    <tr>\n      <th>243</th>\n      <td>Virgin Islands</td>\n      <td>Us Dollar</td>\n      <td>USD</td>\n      <td>NaN</td>\n      <td>NaN</td>\n    </tr>\n    <tr>\n      <th>244</th>\n      <td>Virgin Islands</td>\n      <td>Us Dollar</td>\n      <td>USD</td>\n      <td>NaN</td>\n      <td>NaN</td>\n    </tr>\n    <tr>\n      <th>245</th>\n      <td>Wallis And Futuna</td>\n      <td>Cfp Franc</td>\n      <td>XPF</td>\n      <td>NaN</td>\n      <td>NaN</td>\n    </tr>\n    <tr>\n      <th>246</th>\n      <td>Western Sahara</td>\n      <td>Moroccan Dirham</td>\n      <td>MAD</td>\n      <td>NaN</td>\n      <td>NaN</td>\n    </tr>\n    <tr>\n      <th>250</th>\n      <td>Zz01_Bond Markets Unit European_Eurco</td>\n      <td>Bond Markets Unit European Composite Unit (Eurco)</td>\n      <td>XBA</td>\n      <td>NaN</td>\n      <td>NaN</td>\n    </tr>\n    <tr>\n      <th>251</th>\n      <td>Zz02_Bond Markets Unit European_Emu-6</td>\n      <td>Bond Markets Unit European Monetary Unit (E.M....</td>\n      <td>XBB</td>\n      <td>NaN</td>\n      <td>NaN</td>\n    </tr>\n    <tr>\n      <th>252</th>\n      <td>Zz03_Bond Markets Unit European_Eua-9</td>\n      <td>Bond Markets Unit European Unit Of Account 9 (...</td>\n      <td>XBC</td>\n      <td>NaN</td>\n      <td>NaN</td>\n    </tr>\n    <tr>\n      <th>253</th>\n      <td>Zz04_Bond Markets Unit European_Eua-17</td>\n      <td>Bond Markets Unit European Unit Of Account 17 ...</td>\n      <td>XBD</td>\n      <td>NaN</td>\n      <td>NaN</td>\n    </tr>\n    <tr>\n      <th>254</th>\n      <td>Zz06_Testing_Code</td>\n      <td>Codes Specifically Reserved For Testing Purposes</td>\n      <td>XTS</td>\n      <td>NaN</td>\n      <td>NaN</td>\n    </tr>\n    <tr>\n      <th>255</th>\n      <td>Zz07_No_Currency</td>\n      <td>The Codes Assigned For Transactions Where No C...</td>\n      <td>XXX</td>\n      <td>NaN</td>\n      <td>NaN</td>\n    </tr>\n    <tr>\n      <th>256</th>\n      <td>Zz08_Gold</td>\n      <td>Gold</td>\n      <td>XAU</td>\n      <td>NaN</td>\n      <td>NaN</td>\n    </tr>\n    <tr>\n      <th>257</th>\n      <td>Zz09_Palladium</td>\n      <td>Palladium</td>\n      <td>XPD</td>\n      <td>NaN</td>\n      <td>NaN</td>\n    </tr>\n    <tr>\n      <th>258</th>\n      <td>Zz10_Platinum</td>\n      <td>Platinum</td>\n      <td>XPT</td>\n      <td>NaN</td>\n      <td>NaN</td>\n    </tr>\n    <tr>\n      <th>259</th>\n      <td>Zz11_Silver</td>\n      <td>Silver</td>\n      <td>XAG</td>\n      <td>NaN</td>\n      <td>NaN</td>\n    </tr>\n  </tbody>\n</table>\n</div>"
     },
     "execution_count": 603,
     "metadata": {},
     "output_type": "execute_result"
    }
   ],
   "source": [
    "# check countries that were not merged\n",
    "curr[curr['Name'].isnull()]"
   ]
  },
  {
   "cell_type": "code",
   "execution_count": 604,
   "id": "3acb4695",
   "metadata": {
    "pycharm": {
     "name": "#%%\n"
    }
   },
   "outputs": [],
   "source": [
    "# drop countries that were not merged\n",
    "curr = curr.dropna(subset= ['Name'])\n",
    "# drop the second country name column\n",
    "curr = curr.drop(['Name'], axis=1)"
   ]
  },
  {
   "cell_type": "markdown",
   "id": "7f423980",
   "metadata": {
    "pycharm": {
     "name": "#%% md\n"
    }
   },
   "source": [
    "#### Check language - country"
   ]
  },
  {
   "cell_type": "code",
   "execution_count": 605,
   "id": "c9037d63",
   "metadata": {
    "pycharm": {
     "name": "#%%\n"
    }
   },
   "outputs": [
    {
     "data": {
      "text/plain": "       Country     Official Language         Name Iso3\n0  Afghanistan  Dari Persian, Pashtu  Afghanistan  AFG\n1      Albania              Albanian      Albania  ALB\n2      Algeria                Arabic      Algeria  DZA\n3      Andorra              Catalã¡N      Andorra  ADO\n4       Angola            Portuguese       Angola  AGO",
      "text/html": "<div>\n<style scoped>\n    .dataframe tbody tr th:only-of-type {\n        vertical-align: middle;\n    }\n\n    .dataframe tbody tr th {\n        vertical-align: top;\n    }\n\n    .dataframe thead th {\n        text-align: right;\n    }\n</style>\n<table border=\"1\" class=\"dataframe\">\n  <thead>\n    <tr style=\"text-align: right;\">\n      <th></th>\n      <th>Country</th>\n      <th>Official Language</th>\n      <th>Name</th>\n      <th>Iso3</th>\n    </tr>\n  </thead>\n  <tbody>\n    <tr>\n      <th>0</th>\n      <td>Afghanistan</td>\n      <td>Dari Persian, Pashtu</td>\n      <td>Afghanistan</td>\n      <td>AFG</td>\n    </tr>\n    <tr>\n      <th>1</th>\n      <td>Albania</td>\n      <td>Albanian</td>\n      <td>Albania</td>\n      <td>ALB</td>\n    </tr>\n    <tr>\n      <th>2</th>\n      <td>Algeria</td>\n      <td>Arabic</td>\n      <td>Algeria</td>\n      <td>DZA</td>\n    </tr>\n    <tr>\n      <th>3</th>\n      <td>Andorra</td>\n      <td>Catalã¡N</td>\n      <td>Andorra</td>\n      <td>ADO</td>\n    </tr>\n    <tr>\n      <th>4</th>\n      <td>Angola</td>\n      <td>Portuguese</td>\n      <td>Angola</td>\n      <td>AGO</td>\n    </tr>\n  </tbody>\n</table>\n</div>"
     },
     "execution_count": 605,
     "metadata": {},
     "output_type": "execute_result"
    }
   ],
   "source": [
    "# left join by country dataset based on country names\n",
    "lang = lang.merge(country[['Name','Iso3']], how='left', left_on='Country', right_on='Name')\n",
    "lang.head()"
   ]
  },
  {
   "cell_type": "code",
   "execution_count": 606,
   "id": "47abd5fa",
   "metadata": {
    "pycharm": {
     "name": "#%%\n"
    }
   },
   "outputs": [
    {
     "data": {
      "text/plain": "                             Country  Official Language Name Iso3\n50                        East Timor  Tetum, Portuguese  NaN  NaN\n114                       Micronesia            English  NaN  NaN\n123                            Nauru            Nauruan  NaN  NaN\n134     Palestinian State (Proposed)             Arabic  NaN  NaN\n151           Sã£O Tomã© E Princã­Pe         Portuguese  NaN  NaN\n191          Vatican City (Holy See)            Italian  NaN  NaN\n194  Western Sahara (Proposed State)   Hassaniya Arabic  NaN  NaN",
      "text/html": "<div>\n<style scoped>\n    .dataframe tbody tr th:only-of-type {\n        vertical-align: middle;\n    }\n\n    .dataframe tbody tr th {\n        vertical-align: top;\n    }\n\n    .dataframe thead th {\n        text-align: right;\n    }\n</style>\n<table border=\"1\" class=\"dataframe\">\n  <thead>\n    <tr style=\"text-align: right;\">\n      <th></th>\n      <th>Country</th>\n      <th>Official Language</th>\n      <th>Name</th>\n      <th>Iso3</th>\n    </tr>\n  </thead>\n  <tbody>\n    <tr>\n      <th>50</th>\n      <td>East Timor</td>\n      <td>Tetum, Portuguese</td>\n      <td>NaN</td>\n      <td>NaN</td>\n    </tr>\n    <tr>\n      <th>114</th>\n      <td>Micronesia</td>\n      <td>English</td>\n      <td>NaN</td>\n      <td>NaN</td>\n    </tr>\n    <tr>\n      <th>123</th>\n      <td>Nauru</td>\n      <td>Nauruan</td>\n      <td>NaN</td>\n      <td>NaN</td>\n    </tr>\n    <tr>\n      <th>134</th>\n      <td>Palestinian State (Proposed)</td>\n      <td>Arabic</td>\n      <td>NaN</td>\n      <td>NaN</td>\n    </tr>\n    <tr>\n      <th>151</th>\n      <td>Sã£O Tomã© E Princã­Pe</td>\n      <td>Portuguese</td>\n      <td>NaN</td>\n      <td>NaN</td>\n    </tr>\n    <tr>\n      <th>191</th>\n      <td>Vatican City (Holy See)</td>\n      <td>Italian</td>\n      <td>NaN</td>\n      <td>NaN</td>\n    </tr>\n    <tr>\n      <th>194</th>\n      <td>Western Sahara (Proposed State)</td>\n      <td>Hassaniya Arabic</td>\n      <td>NaN</td>\n      <td>NaN</td>\n    </tr>\n  </tbody>\n</table>\n</div>"
     },
     "execution_count": 606,
     "metadata": {},
     "output_type": "execute_result"
    }
   ],
   "source": [
    "# check countries that were not merged\n",
    "lang[lang['Name'].isnull()]"
   ]
  },
  {
   "cell_type": "code",
   "execution_count": 607,
   "id": "cbd732fc",
   "metadata": {
    "pycharm": {
     "name": "#%%\n"
    }
   },
   "outputs": [],
   "source": [
    "# drop countreis that were not merged\n",
    "lang = lang.dropna(subset=['Name'])\n",
    "# drop the second country name column\n",
    "lang = lang.drop(['Name'], axis=1)"
   ]
  },
  {
   "cell_type": "markdown",
   "id": "8f327941",
   "metadata": {
    "pycharm": {
     "name": "#%% md\n"
    }
   },
   "source": [
    "#### Check peace - country"
   ]
  },
  {
   "cell_type": "code",
   "execution_count": 608,
   "id": "7d2ac07f",
   "metadata": {
    "pycharm": {
     "name": "#%%\n"
    }
   },
   "outputs": [
    {
     "data": {
      "text/plain": "   Rank      Country         Name Iso3\n0     1      Iceland      Iceland  ISL\n1     2  New Zealand  New Zealand  NZL\n2     3      Denmark      Denmark  DNK\n3     4     Portugal     Portugal  PRT\n4     5     Slovenia     Slovenia  SVN",
      "text/html": "<div>\n<style scoped>\n    .dataframe tbody tr th:only-of-type {\n        vertical-align: middle;\n    }\n\n    .dataframe tbody tr th {\n        vertical-align: top;\n    }\n\n    .dataframe thead th {\n        text-align: right;\n    }\n</style>\n<table border=\"1\" class=\"dataframe\">\n  <thead>\n    <tr style=\"text-align: right;\">\n      <th></th>\n      <th>Rank</th>\n      <th>Country</th>\n      <th>Name</th>\n      <th>Iso3</th>\n    </tr>\n  </thead>\n  <tbody>\n    <tr>\n      <th>0</th>\n      <td>1</td>\n      <td>Iceland</td>\n      <td>Iceland</td>\n      <td>ISL</td>\n    </tr>\n    <tr>\n      <th>1</th>\n      <td>2</td>\n      <td>New Zealand</td>\n      <td>New Zealand</td>\n      <td>NZL</td>\n    </tr>\n    <tr>\n      <th>2</th>\n      <td>3</td>\n      <td>Denmark</td>\n      <td>Denmark</td>\n      <td>DNK</td>\n    </tr>\n    <tr>\n      <th>3</th>\n      <td>4</td>\n      <td>Portugal</td>\n      <td>Portugal</td>\n      <td>PRT</td>\n    </tr>\n    <tr>\n      <th>4</th>\n      <td>5</td>\n      <td>Slovenia</td>\n      <td>Slovenia</td>\n      <td>SVN</td>\n    </tr>\n  </tbody>\n</table>\n</div>"
     },
     "execution_count": 608,
     "metadata": {},
     "output_type": "execute_result"
    }
   ],
   "source": [
    "# left join by country dataset based on country names\n",
    "peace=peace.merge(country[['Name','Iso3']], how='left', left_on='Country', right_on='Name')\n",
    "peace.head()"
   ]
  },
  {
   "cell_type": "code",
   "execution_count": 609,
   "id": "b4519886",
   "metadata": {
    "pycharm": {
     "name": "#%%\n"
    }
   },
   "outputs": [
    {
     "data": {
      "text/plain": "     Rank                    Country Name Iso3\n52     53                 The Gambia  NaN  NaN\n68     69                   Eswatini  NaN  NaN\n137   138                  Palestine  NaN  NaN\n154   155  Central African\\nRepublic  NaN  NaN",
      "text/html": "<div>\n<style scoped>\n    .dataframe tbody tr th:only-of-type {\n        vertical-align: middle;\n    }\n\n    .dataframe tbody tr th {\n        vertical-align: top;\n    }\n\n    .dataframe thead th {\n        text-align: right;\n    }\n</style>\n<table border=\"1\" class=\"dataframe\">\n  <thead>\n    <tr style=\"text-align: right;\">\n      <th></th>\n      <th>Rank</th>\n      <th>Country</th>\n      <th>Name</th>\n      <th>Iso3</th>\n    </tr>\n  </thead>\n  <tbody>\n    <tr>\n      <th>52</th>\n      <td>53</td>\n      <td>The Gambia</td>\n      <td>NaN</td>\n      <td>NaN</td>\n    </tr>\n    <tr>\n      <th>68</th>\n      <td>69</td>\n      <td>Eswatini</td>\n      <td>NaN</td>\n      <td>NaN</td>\n    </tr>\n    <tr>\n      <th>137</th>\n      <td>138</td>\n      <td>Palestine</td>\n      <td>NaN</td>\n      <td>NaN</td>\n    </tr>\n    <tr>\n      <th>154</th>\n      <td>155</td>\n      <td>Central African\\nRepublic</td>\n      <td>NaN</td>\n      <td>NaN</td>\n    </tr>\n  </tbody>\n</table>\n</div>"
     },
     "execution_count": 609,
     "metadata": {},
     "output_type": "execute_result"
    }
   ],
   "source": [
    "# check countries that were not merged\n",
    "peace[peace['Name'].isnull()]"
   ]
  },
  {
   "cell_type": "code",
   "execution_count": 610,
   "id": "926e72ca",
   "metadata": {
    "pycharm": {
     "name": "#%%\n"
    }
   },
   "outputs": [],
   "source": [
    "# drop countries that were not merged\n",
    "peace=peace.dropna(subset=['Name'])\n",
    "# drop the second country name column\n",
    "peace = peace.drop(['Name'], axis=1)"
   ]
  },
  {
   "cell_type": "markdown",
   "id": "04a1eb5f",
   "metadata": {
    "pycharm": {
     "name": "#%% md\n"
    }
   },
   "source": [
    "#### Check population - country"
   ]
  },
  {
   "cell_type": "code",
   "execution_count": 611,
   "id": "1858406c",
   "metadata": {
    "pycharm": {
     "name": "#%%\n"
    }
   },
   "outputs": [
    {
     "data": {
      "text/plain": "                       Country Country Code     Pop_2021         Name Iso3\n0                        Aruba          ABW     107195.0        Aruba  ABW\n1  Africa Eastern And Southern          AFE  694665117.0          NaN  NaN\n2                  Afghanistan          AFG   39835428.0  Afghanistan  AFG\n3   Africa Western And Central          AFW  470898870.0          NaN  NaN\n4                       Angola          AGO   33933611.0       Angola  AGO",
      "text/html": "<div>\n<style scoped>\n    .dataframe tbody tr th:only-of-type {\n        vertical-align: middle;\n    }\n\n    .dataframe tbody tr th {\n        vertical-align: top;\n    }\n\n    .dataframe thead th {\n        text-align: right;\n    }\n</style>\n<table border=\"1\" class=\"dataframe\">\n  <thead>\n    <tr style=\"text-align: right;\">\n      <th></th>\n      <th>Country</th>\n      <th>Country Code</th>\n      <th>Pop_2021</th>\n      <th>Name</th>\n      <th>Iso3</th>\n    </tr>\n  </thead>\n  <tbody>\n    <tr>\n      <th>0</th>\n      <td>Aruba</td>\n      <td>ABW</td>\n      <td>107195.0</td>\n      <td>Aruba</td>\n      <td>ABW</td>\n    </tr>\n    <tr>\n      <th>1</th>\n      <td>Africa Eastern And Southern</td>\n      <td>AFE</td>\n      <td>694665117.0</td>\n      <td>NaN</td>\n      <td>NaN</td>\n    </tr>\n    <tr>\n      <th>2</th>\n      <td>Afghanistan</td>\n      <td>AFG</td>\n      <td>39835428.0</td>\n      <td>Afghanistan</td>\n      <td>AFG</td>\n    </tr>\n    <tr>\n      <th>3</th>\n      <td>Africa Western And Central</td>\n      <td>AFW</td>\n      <td>470898870.0</td>\n      <td>NaN</td>\n      <td>NaN</td>\n    </tr>\n    <tr>\n      <th>4</th>\n      <td>Angola</td>\n      <td>AGO</td>\n      <td>33933611.0</td>\n      <td>Angola</td>\n      <td>AGO</td>\n    </tr>\n  </tbody>\n</table>\n</div>"
     },
     "execution_count": 611,
     "metadata": {},
     "output_type": "execute_result"
    }
   ],
   "source": [
    "# left join by country dataset based on country code\n",
    "pop=pop.merge(country[['Name', 'Iso3']], how='left', left_on='Country', right_on='Name')\n",
    "pop.head()"
   ]
  },
  {
   "cell_type": "code",
   "execution_count": 612,
   "id": "54dc106a",
   "metadata": {
    "pycharm": {
     "name": "#%%\n"
    }
   },
   "outputs": [
    {
     "data": {
      "text/plain": "                                               Country Country Code  \\\n1                          Africa Eastern And Southern          AFE   \n3                           Africa Western And Central          AFW   \n7                                           Arab World          ARB   \n36                      Central Europe And The Baltics          CEB   \n49                              Caribbean Small States          CSS   \n61         East Asia & Pacific (Excluding High Income)          EAP   \n62                          Early-Demographic Dividend          EAR   \n63                                 East Asia & Pacific          EAS   \n64       Europe & Central Asia (Excluding High Income)          ECA   \n65                               Europe & Central Asia          ECS   \n68                                           Euro Area          EMU   \n72                                      European Union          EUU   \n73            Fragile And Conflict Affected Situations          FCS   \n83                                           Gibraltar          GIB   \n94                                         High Income          HIC   \n97              Heavily Indebted Poor Countries (Hipc)          HPC   \n101                                          Ibrd Only          IBD   \n102                                   Ida & Ibrd Total          IBT   \n103                                          Ida Total          IDA   \n104                                          Ida Blend          IDB   \n106                                           Ida Only          IDX   \n126  Latin America & Caribbean (Excluding High Income)          LAC   \n132                          Latin America & Caribbean          LCN   \n133       Least Developed Countries: Un Classification          LDC   \n134                                         Low Income          LIC   \n137                                Lower Middle Income          LMC   \n138                                Low & Middle Income          LMY   \n140                          Late-Demographic Dividend          LTE   \n151                         Middle East & North Africa          MEA   \n154                                      Middle Income          MIC   \n159  Middle East & North Africa (Excluding High Inc...          MNA   \n168                                      North America          NAC   \n177                                              Nauru          NRU   \n179                                       Oecd Members          OED   \n181                                 Other Small States          OSS   \n189                           Pre-Demographic Dividend          PRE   \n191                          Korea, Dem. People'S Rep.          PRK   \n195                        Pacific Island Small States          PSS   \n196                          Post-Demographic Dividend          PST   \n202                                         South Asia          SAS   \n213         Sub-Saharan Africa (Excluding High Income)          SSA   \n215                                 Sub-Saharan Africa          SSF   \n216                                       Small States          SST   \n222                                           Eswatini          SWZ   \n228         East Asia & Pacific (Ida & Ibrd Countries)          TEA   \n229       Europe & Central Asia (Ida & Ibrd Countries)          TEC   \n234  Latin America & The Caribbean (Ida & Ibrd Coun...          TLA   \n236  Middle East & North Africa (Ida & Ibrd Countries)          TMN   \n238                            South Asia (Ida & Ibrd)          TSA   \n239          Sub-Saharan Africa (Ida & Ibrd Countries)          TSS   \n247                                Upper Middle Income          UMC   \n253                             British Virgin Islands          VGB   \n257                                              World          WLD   \n\n         Pop_2021 Name Iso3  \n1    6.946651e+08  NaN  NaN  \n3    4.708989e+08  NaN  NaN  \n7    4.445178e+08  NaN  NaN  \n36   1.016696e+08  NaN  NaN  \n49   7.481631e+06  NaN  NaN  \n61   2.122086e+09  NaN  NaN  \n62   3.373867e+09  NaN  NaN  \n63   2.368623e+09  NaN  NaN  \n64   4.018289e+08  NaN  NaN  \n65   9.237537e+08  NaN  NaN  \n68   3.425665e+08  NaN  NaN  \n72   4.469467e+08  NaN  NaN  \n73   9.829808e+08  NaN  NaN  \n83   3.369100e+04  NaN  NaN  \n94   1.241374e+09  NaN  NaN  \n97   8.455223e+08  NaN  NaN  \n101  4.895295e+09  NaN  NaN  \n102  6.642614e+09  NaN  NaN  \n103  1.747319e+09  NaN  NaN  \n104  5.868834e+08  NaN  NaN  \n106  1.160435e+09  NaN  NaN  \n126  5.962176e+08  NaN  NaN  \n132  6.580892e+08  NaN  NaN  \n133  1.081505e+09  NaN  NaN  \n134  7.019270e+08  NaN  NaN  \n137  3.363197e+09  NaN  NaN  \n138  6.566552e+09  NaN  NaN  \n140  2.322070e+09  NaN  NaN  \n151  4.724950e+08  NaN  NaN  \n154  5.864625e+09  NaN  NaN  \n159  4.030516e+08  NaN  NaN  \n168  3.702037e+08  NaN  NaN  \n177  1.087300e+04  NaN  NaN  \n179  1.375820e+09  NaN  NaN  \n181  3.246428e+07  NaN  NaN  \n189  9.971582e+08  NaN  NaN  \n191  2.588704e+07  NaN  NaN  \n195  2.566494e+06  NaN  NaN  \n196  1.116655e+09  NaN  NaN  \n202  1.877902e+09  NaN  NaN  \n213  1.165465e+09  NaN  NaN  \n215  1.165564e+09  NaN  NaN  \n216  4.251241e+07  NaN  NaN  \n222  1.172369e+06  NaN  NaN  \n228  2.096155e+09  NaN  NaN  \n229  4.626241e+08  NaN  NaN  \n234  6.422398e+08  NaN  NaN  \n236  3.981289e+08  NaN  NaN  \n238  1.877902e+09  NaN  NaN  \n239  1.165564e+09  NaN  NaN  \n247  2.501428e+09  NaN  NaN  \n253  3.042300e+04  NaN  NaN  \n257  7.836631e+09  NaN  NaN  ",
      "text/html": "<div>\n<style scoped>\n    .dataframe tbody tr th:only-of-type {\n        vertical-align: middle;\n    }\n\n    .dataframe tbody tr th {\n        vertical-align: top;\n    }\n\n    .dataframe thead th {\n        text-align: right;\n    }\n</style>\n<table border=\"1\" class=\"dataframe\">\n  <thead>\n    <tr style=\"text-align: right;\">\n      <th></th>\n      <th>Country</th>\n      <th>Country Code</th>\n      <th>Pop_2021</th>\n      <th>Name</th>\n      <th>Iso3</th>\n    </tr>\n  </thead>\n  <tbody>\n    <tr>\n      <th>1</th>\n      <td>Africa Eastern And Southern</td>\n      <td>AFE</td>\n      <td>6.946651e+08</td>\n      <td>NaN</td>\n      <td>NaN</td>\n    </tr>\n    <tr>\n      <th>3</th>\n      <td>Africa Western And Central</td>\n      <td>AFW</td>\n      <td>4.708989e+08</td>\n      <td>NaN</td>\n      <td>NaN</td>\n    </tr>\n    <tr>\n      <th>7</th>\n      <td>Arab World</td>\n      <td>ARB</td>\n      <td>4.445178e+08</td>\n      <td>NaN</td>\n      <td>NaN</td>\n    </tr>\n    <tr>\n      <th>36</th>\n      <td>Central Europe And The Baltics</td>\n      <td>CEB</td>\n      <td>1.016696e+08</td>\n      <td>NaN</td>\n      <td>NaN</td>\n    </tr>\n    <tr>\n      <th>49</th>\n      <td>Caribbean Small States</td>\n      <td>CSS</td>\n      <td>7.481631e+06</td>\n      <td>NaN</td>\n      <td>NaN</td>\n    </tr>\n    <tr>\n      <th>61</th>\n      <td>East Asia &amp; Pacific (Excluding High Income)</td>\n      <td>EAP</td>\n      <td>2.122086e+09</td>\n      <td>NaN</td>\n      <td>NaN</td>\n    </tr>\n    <tr>\n      <th>62</th>\n      <td>Early-Demographic Dividend</td>\n      <td>EAR</td>\n      <td>3.373867e+09</td>\n      <td>NaN</td>\n      <td>NaN</td>\n    </tr>\n    <tr>\n      <th>63</th>\n      <td>East Asia &amp; Pacific</td>\n      <td>EAS</td>\n      <td>2.368623e+09</td>\n      <td>NaN</td>\n      <td>NaN</td>\n    </tr>\n    <tr>\n      <th>64</th>\n      <td>Europe &amp; Central Asia (Excluding High Income)</td>\n      <td>ECA</td>\n      <td>4.018289e+08</td>\n      <td>NaN</td>\n      <td>NaN</td>\n    </tr>\n    <tr>\n      <th>65</th>\n      <td>Europe &amp; Central Asia</td>\n      <td>ECS</td>\n      <td>9.237537e+08</td>\n      <td>NaN</td>\n      <td>NaN</td>\n    </tr>\n    <tr>\n      <th>68</th>\n      <td>Euro Area</td>\n      <td>EMU</td>\n      <td>3.425665e+08</td>\n      <td>NaN</td>\n      <td>NaN</td>\n    </tr>\n    <tr>\n      <th>72</th>\n      <td>European Union</td>\n      <td>EUU</td>\n      <td>4.469467e+08</td>\n      <td>NaN</td>\n      <td>NaN</td>\n    </tr>\n    <tr>\n      <th>73</th>\n      <td>Fragile And Conflict Affected Situations</td>\n      <td>FCS</td>\n      <td>9.829808e+08</td>\n      <td>NaN</td>\n      <td>NaN</td>\n    </tr>\n    <tr>\n      <th>83</th>\n      <td>Gibraltar</td>\n      <td>GIB</td>\n      <td>3.369100e+04</td>\n      <td>NaN</td>\n      <td>NaN</td>\n    </tr>\n    <tr>\n      <th>94</th>\n      <td>High Income</td>\n      <td>HIC</td>\n      <td>1.241374e+09</td>\n      <td>NaN</td>\n      <td>NaN</td>\n    </tr>\n    <tr>\n      <th>97</th>\n      <td>Heavily Indebted Poor Countries (Hipc)</td>\n      <td>HPC</td>\n      <td>8.455223e+08</td>\n      <td>NaN</td>\n      <td>NaN</td>\n    </tr>\n    <tr>\n      <th>101</th>\n      <td>Ibrd Only</td>\n      <td>IBD</td>\n      <td>4.895295e+09</td>\n      <td>NaN</td>\n      <td>NaN</td>\n    </tr>\n    <tr>\n      <th>102</th>\n      <td>Ida &amp; Ibrd Total</td>\n      <td>IBT</td>\n      <td>6.642614e+09</td>\n      <td>NaN</td>\n      <td>NaN</td>\n    </tr>\n    <tr>\n      <th>103</th>\n      <td>Ida Total</td>\n      <td>IDA</td>\n      <td>1.747319e+09</td>\n      <td>NaN</td>\n      <td>NaN</td>\n    </tr>\n    <tr>\n      <th>104</th>\n      <td>Ida Blend</td>\n      <td>IDB</td>\n      <td>5.868834e+08</td>\n      <td>NaN</td>\n      <td>NaN</td>\n    </tr>\n    <tr>\n      <th>106</th>\n      <td>Ida Only</td>\n      <td>IDX</td>\n      <td>1.160435e+09</td>\n      <td>NaN</td>\n      <td>NaN</td>\n    </tr>\n    <tr>\n      <th>126</th>\n      <td>Latin America &amp; Caribbean (Excluding High Income)</td>\n      <td>LAC</td>\n      <td>5.962176e+08</td>\n      <td>NaN</td>\n      <td>NaN</td>\n    </tr>\n    <tr>\n      <th>132</th>\n      <td>Latin America &amp; Caribbean</td>\n      <td>LCN</td>\n      <td>6.580892e+08</td>\n      <td>NaN</td>\n      <td>NaN</td>\n    </tr>\n    <tr>\n      <th>133</th>\n      <td>Least Developed Countries: Un Classification</td>\n      <td>LDC</td>\n      <td>1.081505e+09</td>\n      <td>NaN</td>\n      <td>NaN</td>\n    </tr>\n    <tr>\n      <th>134</th>\n      <td>Low Income</td>\n      <td>LIC</td>\n      <td>7.019270e+08</td>\n      <td>NaN</td>\n      <td>NaN</td>\n    </tr>\n    <tr>\n      <th>137</th>\n      <td>Lower Middle Income</td>\n      <td>LMC</td>\n      <td>3.363197e+09</td>\n      <td>NaN</td>\n      <td>NaN</td>\n    </tr>\n    <tr>\n      <th>138</th>\n      <td>Low &amp; Middle Income</td>\n      <td>LMY</td>\n      <td>6.566552e+09</td>\n      <td>NaN</td>\n      <td>NaN</td>\n    </tr>\n    <tr>\n      <th>140</th>\n      <td>Late-Demographic Dividend</td>\n      <td>LTE</td>\n      <td>2.322070e+09</td>\n      <td>NaN</td>\n      <td>NaN</td>\n    </tr>\n    <tr>\n      <th>151</th>\n      <td>Middle East &amp; North Africa</td>\n      <td>MEA</td>\n      <td>4.724950e+08</td>\n      <td>NaN</td>\n      <td>NaN</td>\n    </tr>\n    <tr>\n      <th>154</th>\n      <td>Middle Income</td>\n      <td>MIC</td>\n      <td>5.864625e+09</td>\n      <td>NaN</td>\n      <td>NaN</td>\n    </tr>\n    <tr>\n      <th>159</th>\n      <td>Middle East &amp; North Africa (Excluding High Inc...</td>\n      <td>MNA</td>\n      <td>4.030516e+08</td>\n      <td>NaN</td>\n      <td>NaN</td>\n    </tr>\n    <tr>\n      <th>168</th>\n      <td>North America</td>\n      <td>NAC</td>\n      <td>3.702037e+08</td>\n      <td>NaN</td>\n      <td>NaN</td>\n    </tr>\n    <tr>\n      <th>177</th>\n      <td>Nauru</td>\n      <td>NRU</td>\n      <td>1.087300e+04</td>\n      <td>NaN</td>\n      <td>NaN</td>\n    </tr>\n    <tr>\n      <th>179</th>\n      <td>Oecd Members</td>\n      <td>OED</td>\n      <td>1.375820e+09</td>\n      <td>NaN</td>\n      <td>NaN</td>\n    </tr>\n    <tr>\n      <th>181</th>\n      <td>Other Small States</td>\n      <td>OSS</td>\n      <td>3.246428e+07</td>\n      <td>NaN</td>\n      <td>NaN</td>\n    </tr>\n    <tr>\n      <th>189</th>\n      <td>Pre-Demographic Dividend</td>\n      <td>PRE</td>\n      <td>9.971582e+08</td>\n      <td>NaN</td>\n      <td>NaN</td>\n    </tr>\n    <tr>\n      <th>191</th>\n      <td>Korea, Dem. People'S Rep.</td>\n      <td>PRK</td>\n      <td>2.588704e+07</td>\n      <td>NaN</td>\n      <td>NaN</td>\n    </tr>\n    <tr>\n      <th>195</th>\n      <td>Pacific Island Small States</td>\n      <td>PSS</td>\n      <td>2.566494e+06</td>\n      <td>NaN</td>\n      <td>NaN</td>\n    </tr>\n    <tr>\n      <th>196</th>\n      <td>Post-Demographic Dividend</td>\n      <td>PST</td>\n      <td>1.116655e+09</td>\n      <td>NaN</td>\n      <td>NaN</td>\n    </tr>\n    <tr>\n      <th>202</th>\n      <td>South Asia</td>\n      <td>SAS</td>\n      <td>1.877902e+09</td>\n      <td>NaN</td>\n      <td>NaN</td>\n    </tr>\n    <tr>\n      <th>213</th>\n      <td>Sub-Saharan Africa (Excluding High Income)</td>\n      <td>SSA</td>\n      <td>1.165465e+09</td>\n      <td>NaN</td>\n      <td>NaN</td>\n    </tr>\n    <tr>\n      <th>215</th>\n      <td>Sub-Saharan Africa</td>\n      <td>SSF</td>\n      <td>1.165564e+09</td>\n      <td>NaN</td>\n      <td>NaN</td>\n    </tr>\n    <tr>\n      <th>216</th>\n      <td>Small States</td>\n      <td>SST</td>\n      <td>4.251241e+07</td>\n      <td>NaN</td>\n      <td>NaN</td>\n    </tr>\n    <tr>\n      <th>222</th>\n      <td>Eswatini</td>\n      <td>SWZ</td>\n      <td>1.172369e+06</td>\n      <td>NaN</td>\n      <td>NaN</td>\n    </tr>\n    <tr>\n      <th>228</th>\n      <td>East Asia &amp; Pacific (Ida &amp; Ibrd Countries)</td>\n      <td>TEA</td>\n      <td>2.096155e+09</td>\n      <td>NaN</td>\n      <td>NaN</td>\n    </tr>\n    <tr>\n      <th>229</th>\n      <td>Europe &amp; Central Asia (Ida &amp; Ibrd Countries)</td>\n      <td>TEC</td>\n      <td>4.626241e+08</td>\n      <td>NaN</td>\n      <td>NaN</td>\n    </tr>\n    <tr>\n      <th>234</th>\n      <td>Latin America &amp; The Caribbean (Ida &amp; Ibrd Coun...</td>\n      <td>TLA</td>\n      <td>6.422398e+08</td>\n      <td>NaN</td>\n      <td>NaN</td>\n    </tr>\n    <tr>\n      <th>236</th>\n      <td>Middle East &amp; North Africa (Ida &amp; Ibrd Countries)</td>\n      <td>TMN</td>\n      <td>3.981289e+08</td>\n      <td>NaN</td>\n      <td>NaN</td>\n    </tr>\n    <tr>\n      <th>238</th>\n      <td>South Asia (Ida &amp; Ibrd)</td>\n      <td>TSA</td>\n      <td>1.877902e+09</td>\n      <td>NaN</td>\n      <td>NaN</td>\n    </tr>\n    <tr>\n      <th>239</th>\n      <td>Sub-Saharan Africa (Ida &amp; Ibrd Countries)</td>\n      <td>TSS</td>\n      <td>1.165564e+09</td>\n      <td>NaN</td>\n      <td>NaN</td>\n    </tr>\n    <tr>\n      <th>247</th>\n      <td>Upper Middle Income</td>\n      <td>UMC</td>\n      <td>2.501428e+09</td>\n      <td>NaN</td>\n      <td>NaN</td>\n    </tr>\n    <tr>\n      <th>253</th>\n      <td>British Virgin Islands</td>\n      <td>VGB</td>\n      <td>3.042300e+04</td>\n      <td>NaN</td>\n      <td>NaN</td>\n    </tr>\n    <tr>\n      <th>257</th>\n      <td>World</td>\n      <td>WLD</td>\n      <td>7.836631e+09</td>\n      <td>NaN</td>\n      <td>NaN</td>\n    </tr>\n  </tbody>\n</table>\n</div>"
     },
     "execution_count": 612,
     "metadata": {},
     "output_type": "execute_result"
    }
   ],
   "source": [
    "# check countries that were not merged\n",
    "pop[pop['Iso3'].isnull()]"
   ]
  },
  {
   "cell_type": "code",
   "execution_count": 613,
   "id": "24b51837",
   "metadata": {
    "pycharm": {
     "name": "#%%\n"
    }
   },
   "outputs": [],
   "source": [
    "# drop countries that cannot be merged\n",
    "pop = pop.dropna(subset=['Iso3'])\n",
    "# drop both country iso code from the merged dataset, as population data already contains ISO code\n",
    "pop = pop.drop(['Name', 'Iso3'], axis=1)"
   ]
  },
  {
   "cell_type": "markdown",
   "id": "f5e9801b",
   "metadata": {
    "pycharm": {
     "name": "#%% md\n"
    }
   },
   "source": [
    "#### Check Religion - country"
   ]
  },
  {
   "cell_type": "code",
   "execution_count": 614,
   "id": "0aa272d7",
   "metadata": {
    "pycharm": {
     "name": "#%%\n"
    }
   },
   "outputs": [
    {
     "data": {
      "text/plain": "               Country       Main Religion                 Name Iso3\n0              Albania              Muslim              Albania  ALB\n1             Anguilla            Anglican                  NaN  NaN\n2  Antigua And Barbuda            Anglican  Antigua And Barbuda  ATG\n3              Armenia  Armenian Apostolic              Armenia  ARM\n4                Aruba      Roman Catholic                Aruba  ABW",
      "text/html": "<div>\n<style scoped>\n    .dataframe tbody tr th:only-of-type {\n        vertical-align: middle;\n    }\n\n    .dataframe tbody tr th {\n        vertical-align: top;\n    }\n\n    .dataframe thead th {\n        text-align: right;\n    }\n</style>\n<table border=\"1\" class=\"dataframe\">\n  <thead>\n    <tr style=\"text-align: right;\">\n      <th></th>\n      <th>Country</th>\n      <th>Main Religion</th>\n      <th>Name</th>\n      <th>Iso3</th>\n    </tr>\n  </thead>\n  <tbody>\n    <tr>\n      <th>0</th>\n      <td>Albania</td>\n      <td>Muslim</td>\n      <td>Albania</td>\n      <td>ALB</td>\n    </tr>\n    <tr>\n      <th>1</th>\n      <td>Anguilla</td>\n      <td>Anglican</td>\n      <td>NaN</td>\n      <td>NaN</td>\n    </tr>\n    <tr>\n      <th>2</th>\n      <td>Antigua And Barbuda</td>\n      <td>Anglican</td>\n      <td>Antigua And Barbuda</td>\n      <td>ATG</td>\n    </tr>\n    <tr>\n      <th>3</th>\n      <td>Armenia</td>\n      <td>Armenian Apostolic</td>\n      <td>Armenia</td>\n      <td>ARM</td>\n    </tr>\n    <tr>\n      <th>4</th>\n      <td>Aruba</td>\n      <td>Roman Catholic</td>\n      <td>Aruba</td>\n      <td>ABW</td>\n    </tr>\n  </tbody>\n</table>\n</div>"
     },
     "execution_count": 614,
     "metadata": {},
     "output_type": "execute_result"
    }
   ],
   "source": [
    "# left join by country dataset based on country names\n",
    "rel=rel.merge(country[['Name','Iso3']], how='left', left_on='Country', right_on='Name')\n",
    "rel.head()"
   ]
  },
  {
   "cell_type": "code",
   "execution_count": 615,
   "id": "89692c3c",
   "metadata": {
    "pycharm": {
     "name": "#%%\n"
    }
   },
   "outputs": [
    {
     "data": {
      "text/plain": "                              Country             Main Religion Name Iso3\n1                            Anguilla                  Anglican  NaN  NaN\n15             British Virgin Islands                 Methodist  NaN  NaN\n24                       Cook Islands                 Christian  NaN  NaN\n32        Falkland Islands (Malvinas)                 Christian  NaN  NaN\n38                          Gibraltar            Roman Catholic  NaN  NaN\n61   Micronesia (Federated States Of)            Roman Catholic  NaN  NaN\n64                         Montserrat                  Anglican  NaN  NaN\n71                               Niue             Ekalesia Niue  NaN  NaN\n72                     Norfolk Island         Church Of England  NaN  NaN\n86              Saint Helena Ex. Dep.         Church Of England  NaN  NaN\n99                 State Of Palestine                    Islam   NaN  NaN\n104                           Tokelau  Christian Congregational  NaN  NaN",
      "text/html": "<div>\n<style scoped>\n    .dataframe tbody tr th:only-of-type {\n        vertical-align: middle;\n    }\n\n    .dataframe tbody tr th {\n        vertical-align: top;\n    }\n\n    .dataframe thead th {\n        text-align: right;\n    }\n</style>\n<table border=\"1\" class=\"dataframe\">\n  <thead>\n    <tr style=\"text-align: right;\">\n      <th></th>\n      <th>Country</th>\n      <th>Main Religion</th>\n      <th>Name</th>\n      <th>Iso3</th>\n    </tr>\n  </thead>\n  <tbody>\n    <tr>\n      <th>1</th>\n      <td>Anguilla</td>\n      <td>Anglican</td>\n      <td>NaN</td>\n      <td>NaN</td>\n    </tr>\n    <tr>\n      <th>15</th>\n      <td>British Virgin Islands</td>\n      <td>Methodist</td>\n      <td>NaN</td>\n      <td>NaN</td>\n    </tr>\n    <tr>\n      <th>24</th>\n      <td>Cook Islands</td>\n      <td>Christian</td>\n      <td>NaN</td>\n      <td>NaN</td>\n    </tr>\n    <tr>\n      <th>32</th>\n      <td>Falkland Islands (Malvinas)</td>\n      <td>Christian</td>\n      <td>NaN</td>\n      <td>NaN</td>\n    </tr>\n    <tr>\n      <th>38</th>\n      <td>Gibraltar</td>\n      <td>Roman Catholic</td>\n      <td>NaN</td>\n      <td>NaN</td>\n    </tr>\n    <tr>\n      <th>61</th>\n      <td>Micronesia (Federated States Of)</td>\n      <td>Roman Catholic</td>\n      <td>NaN</td>\n      <td>NaN</td>\n    </tr>\n    <tr>\n      <th>64</th>\n      <td>Montserrat</td>\n      <td>Anglican</td>\n      <td>NaN</td>\n      <td>NaN</td>\n    </tr>\n    <tr>\n      <th>71</th>\n      <td>Niue</td>\n      <td>Ekalesia Niue</td>\n      <td>NaN</td>\n      <td>NaN</td>\n    </tr>\n    <tr>\n      <th>72</th>\n      <td>Norfolk Island</td>\n      <td>Church Of England</td>\n      <td>NaN</td>\n      <td>NaN</td>\n    </tr>\n    <tr>\n      <th>86</th>\n      <td>Saint Helena Ex. Dep.</td>\n      <td>Church Of England</td>\n      <td>NaN</td>\n      <td>NaN</td>\n    </tr>\n    <tr>\n      <th>99</th>\n      <td>State Of Palestine</td>\n      <td>Islam</td>\n      <td>NaN</td>\n      <td>NaN</td>\n    </tr>\n    <tr>\n      <th>104</th>\n      <td>Tokelau</td>\n      <td>Christian Congregational</td>\n      <td>NaN</td>\n      <td>NaN</td>\n    </tr>\n  </tbody>\n</table>\n</div>"
     },
     "execution_count": 615,
     "metadata": {},
     "output_type": "execute_result"
    }
   ],
   "source": [
    "# check countries that were not merged\n",
    "rel[rel['Name'].isnull()]"
   ]
  },
  {
   "cell_type": "code",
   "execution_count": 616,
   "id": "d798242d",
   "metadata": {
    "pycharm": {
     "name": "#%%\n"
    }
   },
   "outputs": [],
   "source": [
    "# drop countries that were not merged\n",
    "rel = rel.dropna(subset=['Name'])\n",
    "# drop the second country name column\n",
    "rel = rel.drop(['Name'], axis=1)"
   ]
  },
  {
   "cell_type": "markdown",
   "id": "f75f68f9",
   "metadata": {
    "pycharm": {
     "name": "#%% md\n"
    }
   },
   "source": [
    "#### Check Average Restaurant and Accomodation Cost - ISO"
   ]
  },
  {
   "cell_type": "code",
   "execution_count": 617,
   "id": "2d23bb84",
   "metadata": {
    "pycharm": {
     "name": "#%%\n"
    }
   },
   "outputs": [
    {
     "data": {
      "text/plain": "                     Country Country Code  Average Hotel and Restaurant Cost  \\\n0                    Albania          ALB                              50.78   \n1                    Algeria          DZA                              33.93   \n2                     Angola          AGO                              79.22   \n3                   Anguilla          AIA                             122.30   \n4        Antigua And Barbuda          ATG                             105.93   \n..                       ...          ...                                ...   \n179  Virgin Islands, British          VGB                             116.88   \n180       West Bank And Gaza          PSE                              96.53   \n181                    World          WLD                             100.00   \n182                   Zambia          ZMB                              47.62   \n183                 Zimbabwe          ZWE                              73.27   \n\n       Type Traveler                 Name Iso3  \n0    Budget Traveler              Albania  ALB  \n1    Budget Traveler              Algeria  DZA  \n2    Budget Traveler               Angola  AGO  \n3    Budget Traveler                  NaN  NaN  \n4    Budget Traveler  Antigua And Barbuda  ATG  \n..               ...                  ...  ...  \n179  Luxury Traveler                  NaN  NaN  \n180  Luxury Traveler   West Bank And Gaza  WBG  \n181  Luxury Traveler                  NaN  NaN  \n182  Luxury Traveler               Zambia  ZMB  \n183  Luxury Traveler             Zimbabwe  ZWE  \n\n[184 rows x 6 columns]",
      "text/html": "<div>\n<style scoped>\n    .dataframe tbody tr th:only-of-type {\n        vertical-align: middle;\n    }\n\n    .dataframe tbody tr th {\n        vertical-align: top;\n    }\n\n    .dataframe thead th {\n        text-align: right;\n    }\n</style>\n<table border=\"1\" class=\"dataframe\">\n  <thead>\n    <tr style=\"text-align: right;\">\n      <th></th>\n      <th>Country</th>\n      <th>Country Code</th>\n      <th>Average Hotel and Restaurant Cost</th>\n      <th>Type Traveler</th>\n      <th>Name</th>\n      <th>Iso3</th>\n    </tr>\n  </thead>\n  <tbody>\n    <tr>\n      <th>0</th>\n      <td>Albania</td>\n      <td>ALB</td>\n      <td>50.78</td>\n      <td>Budget Traveler</td>\n      <td>Albania</td>\n      <td>ALB</td>\n    </tr>\n    <tr>\n      <th>1</th>\n      <td>Algeria</td>\n      <td>DZA</td>\n      <td>33.93</td>\n      <td>Budget Traveler</td>\n      <td>Algeria</td>\n      <td>DZA</td>\n    </tr>\n    <tr>\n      <th>2</th>\n      <td>Angola</td>\n      <td>AGO</td>\n      <td>79.22</td>\n      <td>Budget Traveler</td>\n      <td>Angola</td>\n      <td>AGO</td>\n    </tr>\n    <tr>\n      <th>3</th>\n      <td>Anguilla</td>\n      <td>AIA</td>\n      <td>122.30</td>\n      <td>Budget Traveler</td>\n      <td>NaN</td>\n      <td>NaN</td>\n    </tr>\n    <tr>\n      <th>4</th>\n      <td>Antigua And Barbuda</td>\n      <td>ATG</td>\n      <td>105.93</td>\n      <td>Budget Traveler</td>\n      <td>Antigua And Barbuda</td>\n      <td>ATG</td>\n    </tr>\n    <tr>\n      <th>...</th>\n      <td>...</td>\n      <td>...</td>\n      <td>...</td>\n      <td>...</td>\n      <td>...</td>\n      <td>...</td>\n    </tr>\n    <tr>\n      <th>179</th>\n      <td>Virgin Islands, British</td>\n      <td>VGB</td>\n      <td>116.88</td>\n      <td>Luxury Traveler</td>\n      <td>NaN</td>\n      <td>NaN</td>\n    </tr>\n    <tr>\n      <th>180</th>\n      <td>West Bank And Gaza</td>\n      <td>PSE</td>\n      <td>96.53</td>\n      <td>Luxury Traveler</td>\n      <td>West Bank And Gaza</td>\n      <td>WBG</td>\n    </tr>\n    <tr>\n      <th>181</th>\n      <td>World</td>\n      <td>WLD</td>\n      <td>100.00</td>\n      <td>Luxury Traveler</td>\n      <td>NaN</td>\n      <td>NaN</td>\n    </tr>\n    <tr>\n      <th>182</th>\n      <td>Zambia</td>\n      <td>ZMB</td>\n      <td>47.62</td>\n      <td>Luxury Traveler</td>\n      <td>Zambia</td>\n      <td>ZMB</td>\n    </tr>\n    <tr>\n      <th>183</th>\n      <td>Zimbabwe</td>\n      <td>ZWE</td>\n      <td>73.27</td>\n      <td>Luxury Traveler</td>\n      <td>Zimbabwe</td>\n      <td>ZWE</td>\n    </tr>\n  </tbody>\n</table>\n<p>184 rows × 6 columns</p>\n</div>"
     },
     "execution_count": 617,
     "metadata": {},
     "output_type": "execute_result"
    }
   ],
   "source": [
    "# left join by country dataset based on country codes\n",
    "avg_rest_hot_p = avg_rest_hot_p.merge(country[['Name', 'Iso3']], how='left', left_on='Country', right_on='Name')\n",
    "avg_rest_hot_p"
   ]
  },
  {
   "cell_type": "code",
   "execution_count": 618,
   "id": "d75baf9c",
   "metadata": {
    "pycharm": {
     "name": "#%%\n"
    }
   },
   "outputs": [
    {
     "data": {
      "text/plain": "                              Country Country Code  \\\n3                            Anguilla          AIA   \n22                            Bonaire          BON   \n46                            Curaçao          CUW   \n53          East Asia & Pacific (Icp)          EAB   \n59                           Eswatini          SWZ   \n61        Europe & Central Asia (Icp)          ECB   \n96    Latin America & Caribbean (Icp)          LCB   \n111  Middle East & North Africa (Icp)          MEB   \n115                        Montserrat          MSR   \n126               North America (Icp)          NAB   \n141             São Tomé And Principe          STP   \n148                      Sint Maarten          SXM   \n152                  South Asia (Icp)          SAB   \n158          Sub-Saharan Africa (Icp)          SSB   \n179           Virgin Islands, British          VGB   \n181                             World          WLD   \n\n     Average Hotel and Restaurant Cost     Type Traveler Name Iso3  \n3                               122.30   Budget Traveler  NaN  NaN  \n22                              156.57   Budget Traveler  NaN  NaN  \n46                              124.81   Budget Traveler  NaN  NaN  \n53                               80.57   Budget Traveler  NaN  NaN  \n59                               66.54   Budget Traveler  NaN  NaN  \n61                              120.78   Budget Traveler  NaN  NaN  \n96                               78.35  Comfort traveler  NaN  NaN  \n111                              64.50  Comfort traveler  NaN  NaN  \n115                              84.58  Comfort traveler  NaN  NaN  \n126                             128.94  Comfort traveler  NaN  NaN  \n141                              57.25   Luxury Traveler  NaN  NaN  \n148                             128.48   Luxury Traveler  NaN  NaN  \n152                              42.21   Luxury Traveler  NaN  NaN  \n158                              46.83   Luxury Traveler  NaN  NaN  \n179                             116.88   Luxury Traveler  NaN  NaN  \n181                             100.00   Luxury Traveler  NaN  NaN  ",
      "text/html": "<div>\n<style scoped>\n    .dataframe tbody tr th:only-of-type {\n        vertical-align: middle;\n    }\n\n    .dataframe tbody tr th {\n        vertical-align: top;\n    }\n\n    .dataframe thead th {\n        text-align: right;\n    }\n</style>\n<table border=\"1\" class=\"dataframe\">\n  <thead>\n    <tr style=\"text-align: right;\">\n      <th></th>\n      <th>Country</th>\n      <th>Country Code</th>\n      <th>Average Hotel and Restaurant Cost</th>\n      <th>Type Traveler</th>\n      <th>Name</th>\n      <th>Iso3</th>\n    </tr>\n  </thead>\n  <tbody>\n    <tr>\n      <th>3</th>\n      <td>Anguilla</td>\n      <td>AIA</td>\n      <td>122.30</td>\n      <td>Budget Traveler</td>\n      <td>NaN</td>\n      <td>NaN</td>\n    </tr>\n    <tr>\n      <th>22</th>\n      <td>Bonaire</td>\n      <td>BON</td>\n      <td>156.57</td>\n      <td>Budget Traveler</td>\n      <td>NaN</td>\n      <td>NaN</td>\n    </tr>\n    <tr>\n      <th>46</th>\n      <td>Curaçao</td>\n      <td>CUW</td>\n      <td>124.81</td>\n      <td>Budget Traveler</td>\n      <td>NaN</td>\n      <td>NaN</td>\n    </tr>\n    <tr>\n      <th>53</th>\n      <td>East Asia &amp; Pacific (Icp)</td>\n      <td>EAB</td>\n      <td>80.57</td>\n      <td>Budget Traveler</td>\n      <td>NaN</td>\n      <td>NaN</td>\n    </tr>\n    <tr>\n      <th>59</th>\n      <td>Eswatini</td>\n      <td>SWZ</td>\n      <td>66.54</td>\n      <td>Budget Traveler</td>\n      <td>NaN</td>\n      <td>NaN</td>\n    </tr>\n    <tr>\n      <th>61</th>\n      <td>Europe &amp; Central Asia (Icp)</td>\n      <td>ECB</td>\n      <td>120.78</td>\n      <td>Budget Traveler</td>\n      <td>NaN</td>\n      <td>NaN</td>\n    </tr>\n    <tr>\n      <th>96</th>\n      <td>Latin America &amp; Caribbean (Icp)</td>\n      <td>LCB</td>\n      <td>78.35</td>\n      <td>Comfort traveler</td>\n      <td>NaN</td>\n      <td>NaN</td>\n    </tr>\n    <tr>\n      <th>111</th>\n      <td>Middle East &amp; North Africa (Icp)</td>\n      <td>MEB</td>\n      <td>64.50</td>\n      <td>Comfort traveler</td>\n      <td>NaN</td>\n      <td>NaN</td>\n    </tr>\n    <tr>\n      <th>115</th>\n      <td>Montserrat</td>\n      <td>MSR</td>\n      <td>84.58</td>\n      <td>Comfort traveler</td>\n      <td>NaN</td>\n      <td>NaN</td>\n    </tr>\n    <tr>\n      <th>126</th>\n      <td>North America (Icp)</td>\n      <td>NAB</td>\n      <td>128.94</td>\n      <td>Comfort traveler</td>\n      <td>NaN</td>\n      <td>NaN</td>\n    </tr>\n    <tr>\n      <th>141</th>\n      <td>São Tomé And Principe</td>\n      <td>STP</td>\n      <td>57.25</td>\n      <td>Luxury Traveler</td>\n      <td>NaN</td>\n      <td>NaN</td>\n    </tr>\n    <tr>\n      <th>148</th>\n      <td>Sint Maarten</td>\n      <td>SXM</td>\n      <td>128.48</td>\n      <td>Luxury Traveler</td>\n      <td>NaN</td>\n      <td>NaN</td>\n    </tr>\n    <tr>\n      <th>152</th>\n      <td>South Asia (Icp)</td>\n      <td>SAB</td>\n      <td>42.21</td>\n      <td>Luxury Traveler</td>\n      <td>NaN</td>\n      <td>NaN</td>\n    </tr>\n    <tr>\n      <th>158</th>\n      <td>Sub-Saharan Africa (Icp)</td>\n      <td>SSB</td>\n      <td>46.83</td>\n      <td>Luxury Traveler</td>\n      <td>NaN</td>\n      <td>NaN</td>\n    </tr>\n    <tr>\n      <th>179</th>\n      <td>Virgin Islands, British</td>\n      <td>VGB</td>\n      <td>116.88</td>\n      <td>Luxury Traveler</td>\n      <td>NaN</td>\n      <td>NaN</td>\n    </tr>\n    <tr>\n      <th>181</th>\n      <td>World</td>\n      <td>WLD</td>\n      <td>100.00</td>\n      <td>Luxury Traveler</td>\n      <td>NaN</td>\n      <td>NaN</td>\n    </tr>\n  </tbody>\n</table>\n</div>"
     },
     "execution_count": 618,
     "metadata": {},
     "output_type": "execute_result"
    }
   ],
   "source": [
    "# check countries that were not merged\n",
    "avg_rest_hot_p [avg_rest_hot_p ['Iso3'].isnull()]"
   ]
  },
  {
   "cell_type": "code",
   "execution_count": 619,
   "id": "e2f83593",
   "metadata": {
    "pycharm": {
     "name": "#%%\n"
    }
   },
   "outputs": [],
   "source": [
    "# drop countries that were not merged\n",
    "avg_rest_hot_p = avg_rest_hot_p.dropna(subset=['Iso3'])\n",
    "# as the dataset contains both country name and country code, delete the merged columns\n",
    "avg_rest_hot_p = avg_rest_hot_p.drop(['Name', 'Iso3'], axis=1)"
   ]
  },
  {
   "cell_type": "code",
   "execution_count": 620,
   "outputs": [
    {
     "data": {
      "text/plain": "                 Country Country Code  Average Hotel and Restaurant Cost  \\\n0                Albania          ALB                              50.78   \n1                Algeria          DZA                              33.93   \n2                 Angola          AGO                              79.22   \n4    Antigua And Barbuda          ATG                             105.93   \n5              Argentina          ARG                              89.24   \n..                   ...          ...                                ...   \n177              Uruguay          URY                             114.64   \n178              Vietnam          VNM                              35.01   \n180   West Bank And Gaza          PSE                              96.53   \n182               Zambia          ZMB                              47.62   \n183             Zimbabwe          ZWE                              73.27   \n\n       Type Traveler  \n0    Budget Traveler  \n1    Budget Traveler  \n2    Budget Traveler  \n4    Budget Traveler  \n5    Budget Traveler  \n..               ...  \n177  Luxury Traveler  \n178  Luxury Traveler  \n180  Luxury Traveler  \n182  Luxury Traveler  \n183  Luxury Traveler  \n\n[168 rows x 4 columns]",
      "text/html": "<div>\n<style scoped>\n    .dataframe tbody tr th:only-of-type {\n        vertical-align: middle;\n    }\n\n    .dataframe tbody tr th {\n        vertical-align: top;\n    }\n\n    .dataframe thead th {\n        text-align: right;\n    }\n</style>\n<table border=\"1\" class=\"dataframe\">\n  <thead>\n    <tr style=\"text-align: right;\">\n      <th></th>\n      <th>Country</th>\n      <th>Country Code</th>\n      <th>Average Hotel and Restaurant Cost</th>\n      <th>Type Traveler</th>\n    </tr>\n  </thead>\n  <tbody>\n    <tr>\n      <th>0</th>\n      <td>Albania</td>\n      <td>ALB</td>\n      <td>50.78</td>\n      <td>Budget Traveler</td>\n    </tr>\n    <tr>\n      <th>1</th>\n      <td>Algeria</td>\n      <td>DZA</td>\n      <td>33.93</td>\n      <td>Budget Traveler</td>\n    </tr>\n    <tr>\n      <th>2</th>\n      <td>Angola</td>\n      <td>AGO</td>\n      <td>79.22</td>\n      <td>Budget Traveler</td>\n    </tr>\n    <tr>\n      <th>4</th>\n      <td>Antigua And Barbuda</td>\n      <td>ATG</td>\n      <td>105.93</td>\n      <td>Budget Traveler</td>\n    </tr>\n    <tr>\n      <th>5</th>\n      <td>Argentina</td>\n      <td>ARG</td>\n      <td>89.24</td>\n      <td>Budget Traveler</td>\n    </tr>\n    <tr>\n      <th>...</th>\n      <td>...</td>\n      <td>...</td>\n      <td>...</td>\n      <td>...</td>\n    </tr>\n    <tr>\n      <th>177</th>\n      <td>Uruguay</td>\n      <td>URY</td>\n      <td>114.64</td>\n      <td>Luxury Traveler</td>\n    </tr>\n    <tr>\n      <th>178</th>\n      <td>Vietnam</td>\n      <td>VNM</td>\n      <td>35.01</td>\n      <td>Luxury Traveler</td>\n    </tr>\n    <tr>\n      <th>180</th>\n      <td>West Bank And Gaza</td>\n      <td>PSE</td>\n      <td>96.53</td>\n      <td>Luxury Traveler</td>\n    </tr>\n    <tr>\n      <th>182</th>\n      <td>Zambia</td>\n      <td>ZMB</td>\n      <td>47.62</td>\n      <td>Luxury Traveler</td>\n    </tr>\n    <tr>\n      <th>183</th>\n      <td>Zimbabwe</td>\n      <td>ZWE</td>\n      <td>73.27</td>\n      <td>Luxury Traveler</td>\n    </tr>\n  </tbody>\n</table>\n<p>168 rows × 4 columns</p>\n</div>"
     },
     "execution_count": 620,
     "metadata": {},
     "output_type": "execute_result"
    }
   ],
   "source": [
    "avg_rest_hot_p"
   ],
   "metadata": {
    "collapsed": false,
    "pycharm": {
     "name": "#%%\n"
    }
   }
  },
  {
   "cell_type": "markdown",
   "id": "184d8f2a",
   "metadata": {
    "pycharm": {
     "name": "#%% md\n"
    }
   },
   "source": [
    "#### Cuisine - Country"
   ]
  },
  {
   "cell_type": "code",
   "execution_count": 621,
   "id": "eecd9590",
   "metadata": {
    "pycharm": {
     "name": "#%%\n"
    }
   },
   "outputs": [
    {
     "data": {
      "text/plain": "  Country  Ratings    Name Iso3\n0   Italy     4.72   Italy  ITA\n1  Greece     4.69  Greece  GRC\n2   Spain     4.59   Spain  ESP\n3   Japan     4.59   Japan  JPN\n4   India     4.54   India  IND",
      "text/html": "<div>\n<style scoped>\n    .dataframe tbody tr th:only-of-type {\n        vertical-align: middle;\n    }\n\n    .dataframe tbody tr th {\n        vertical-align: top;\n    }\n\n    .dataframe thead th {\n        text-align: right;\n    }\n</style>\n<table border=\"1\" class=\"dataframe\">\n  <thead>\n    <tr style=\"text-align: right;\">\n      <th></th>\n      <th>Country</th>\n      <th>Ratings</th>\n      <th>Name</th>\n      <th>Iso3</th>\n    </tr>\n  </thead>\n  <tbody>\n    <tr>\n      <th>0</th>\n      <td>Italy</td>\n      <td>4.72</td>\n      <td>Italy</td>\n      <td>ITA</td>\n    </tr>\n    <tr>\n      <th>1</th>\n      <td>Greece</td>\n      <td>4.69</td>\n      <td>Greece</td>\n      <td>GRC</td>\n    </tr>\n    <tr>\n      <th>2</th>\n      <td>Spain</td>\n      <td>4.59</td>\n      <td>Spain</td>\n      <td>ESP</td>\n    </tr>\n    <tr>\n      <th>3</th>\n      <td>Japan</td>\n      <td>4.59</td>\n      <td>Japan</td>\n      <td>JPN</td>\n    </tr>\n    <tr>\n      <th>4</th>\n      <td>India</td>\n      <td>4.54</td>\n      <td>India</td>\n      <td>IND</td>\n    </tr>\n  </tbody>\n</table>\n</div>"
     },
     "execution_count": 621,
     "metadata": {},
     "output_type": "execute_result"
    }
   ],
   "source": [
    "# left join by country dataset based on country names\n",
    "cuisine_temp = cuisine_rank.merge(country[['Name','Iso3']], how='left', left_on='Country', right_on='Name')\n",
    "cuisine_temp.head()"
   ]
  },
  {
   "cell_type": "code",
   "execution_count": 622,
   "id": "012c8cc7",
   "metadata": {
    "pycharm": {
     "name": "#%%\n"
    }
   },
   "outputs": [
    {
     "data": {
      "text/plain": "             Country  Ratings Name Iso3\n28           England     4.18  NaN  NaN\n37               Bih     3.99  NaN  NaN\n41         Palestine     3.98  NaN  NaN\n68  Northern Ireland     3.91  NaN  NaN\n79             Wales     3.88  NaN  NaN\n87          Scotland     3.82  NaN  NaN",
      "text/html": "<div>\n<style scoped>\n    .dataframe tbody tr th:only-of-type {\n        vertical-align: middle;\n    }\n\n    .dataframe tbody tr th {\n        vertical-align: top;\n    }\n\n    .dataframe thead th {\n        text-align: right;\n    }\n</style>\n<table border=\"1\" class=\"dataframe\">\n  <thead>\n    <tr style=\"text-align: right;\">\n      <th></th>\n      <th>Country</th>\n      <th>Ratings</th>\n      <th>Name</th>\n      <th>Iso3</th>\n    </tr>\n  </thead>\n  <tbody>\n    <tr>\n      <th>28</th>\n      <td>England</td>\n      <td>4.18</td>\n      <td>NaN</td>\n      <td>NaN</td>\n    </tr>\n    <tr>\n      <th>37</th>\n      <td>Bih</td>\n      <td>3.99</td>\n      <td>NaN</td>\n      <td>NaN</td>\n    </tr>\n    <tr>\n      <th>41</th>\n      <td>Palestine</td>\n      <td>3.98</td>\n      <td>NaN</td>\n      <td>NaN</td>\n    </tr>\n    <tr>\n      <th>68</th>\n      <td>Northern Ireland</td>\n      <td>3.91</td>\n      <td>NaN</td>\n      <td>NaN</td>\n    </tr>\n    <tr>\n      <th>79</th>\n      <td>Wales</td>\n      <td>3.88</td>\n      <td>NaN</td>\n      <td>NaN</td>\n    </tr>\n    <tr>\n      <th>87</th>\n      <td>Scotland</td>\n      <td>3.82</td>\n      <td>NaN</td>\n      <td>NaN</td>\n    </tr>\n  </tbody>\n</table>\n</div>"
     },
     "execution_count": 622,
     "metadata": {},
     "output_type": "execute_result"
    }
   ],
   "source": [
    "# check countries that were not merged\n",
    "cuisine_temp[cuisine_temp['Name'].isnull()]"
   ]
  },
  {
   "cell_type": "markdown",
   "id": "9bdf8000",
   "metadata": {
    "pycharm": {
     "name": "#%% md\n"
    }
   },
   "source": [
    "As the United Kingdom was divided to England, Northern Ireland, Wales and Scotland,\n",
    "we will have one row for the United Kingdom with the average ratings of the 4 countries\n",
    "as we have the United Kingdom in the WEF datset."
   ]
  },
  {
   "cell_type": "code",
   "execution_count": 623,
   "id": "57cc6f9d",
   "metadata": {
    "pycharm": {
     "name": "#%%\n"
    }
   },
   "outputs": [],
   "source": [
    "# add average of 4 nations in the United Kingdom to the existing row\n",
    "uk_rank = cuisine_rank.iloc[[28,68,79,87]]['Ratings'].mean()\n",
    "cuisine_rank.loc[len(cuisine_rank.index)] = ['United Kingdom', uk_rank]"
   ]
  },
  {
   "cell_type": "code",
   "execution_count": 624,
   "id": "9c5c044b",
   "metadata": {
    "pycharm": {
     "name": "#%%\n"
    }
   },
   "outputs": [],
   "source": [
    "# Then sort by ratings, and reset index\n",
    "cuisine_rank.sort_values(by=['Ratings'], ignore_index=True, inplace=True, ascending=False)"
   ]
  },
  {
   "cell_type": "code",
   "execution_count": 625,
   "id": "f9a0f621",
   "metadata": {
    "pycharm": {
     "name": "#%%\n"
    }
   },
   "outputs": [
    {
     "data": {
      "text/plain": "           Country  Ratings            Name Iso3\n49  United Kingdom   3.9475  United Kingdom  GBR",
      "text/html": "<div>\n<style scoped>\n    .dataframe tbody tr th:only-of-type {\n        vertical-align: middle;\n    }\n\n    .dataframe tbody tr th {\n        vertical-align: top;\n    }\n\n    .dataframe thead th {\n        text-align: right;\n    }\n</style>\n<table border=\"1\" class=\"dataframe\">\n  <thead>\n    <tr style=\"text-align: right;\">\n      <th></th>\n      <th>Country</th>\n      <th>Ratings</th>\n      <th>Name</th>\n      <th>Iso3</th>\n    </tr>\n  </thead>\n  <tbody>\n    <tr>\n      <th>49</th>\n      <td>United Kingdom</td>\n      <td>3.9475</td>\n      <td>United Kingdom</td>\n      <td>GBR</td>\n    </tr>\n  </tbody>\n</table>\n</div>"
     },
     "execution_count": 625,
     "metadata": {},
     "output_type": "execute_result"
    }
   ],
   "source": [
    "# merge again with modified data\n",
    "cuisine_rank = cuisine_rank.merge(country[['Name','Iso3']], how='left', left_on='Country', right_on='Name')\n",
    "# check UK\n",
    "cuisine_rank[cuisine_rank['Country']=='United Kingdom']"
   ]
  },
  {
   "cell_type": "code",
   "execution_count": 626,
   "id": "f07ec309",
   "metadata": {
    "pycharm": {
     "name": "#%%\n"
    }
   },
   "outputs": [],
   "source": [
    "# drop countries that were not merged\n",
    "cuisine_rank = cuisine_rank.dropna(subset=['Name'])\n",
    "# drop the secondcountry name column\n",
    "cuisine_rank = cuisine_rank.drop(['Name'], axis=1)"
   ]
  },
  {
   "cell_type": "markdown",
   "id": "5d322618",
   "metadata": {
    "pycharm": {
     "name": "#%% md\n"
    }
   },
   "source": [
    "#### LGBT data - Country"
   ]
  },
  {
   "cell_type": "code",
   "execution_count": 627,
   "id": "daf5647c",
   "metadata": {
    "pycharm": {
     "name": "#%%\n"
    }
   },
   "outputs": [
    {
     "data": {
      "text/plain": "   RANK      COUNTRY   GAI         Name Iso3\n0     1      Iceland  9.78      Iceland  ISL\n1     2  Netherlands  9.46  Netherlands  NLD\n2     3       Norway  9.38       Norway  NOR\n3     4       Sweden  9.18       Sweden  SWE\n4     5       Canada  9.02       Canada  CAN",
      "text/html": "<div>\n<style scoped>\n    .dataframe tbody tr th:only-of-type {\n        vertical-align: middle;\n    }\n\n    .dataframe tbody tr th {\n        vertical-align: top;\n    }\n\n    .dataframe thead th {\n        text-align: right;\n    }\n</style>\n<table border=\"1\" class=\"dataframe\">\n  <thead>\n    <tr style=\"text-align: right;\">\n      <th></th>\n      <th>RANK</th>\n      <th>COUNTRY</th>\n      <th>GAI</th>\n      <th>Name</th>\n      <th>Iso3</th>\n    </tr>\n  </thead>\n  <tbody>\n    <tr>\n      <th>0</th>\n      <td>1</td>\n      <td>Iceland</td>\n      <td>9.78</td>\n      <td>Iceland</td>\n      <td>ISL</td>\n    </tr>\n    <tr>\n      <th>1</th>\n      <td>2</td>\n      <td>Netherlands</td>\n      <td>9.46</td>\n      <td>Netherlands</td>\n      <td>NLD</td>\n    </tr>\n    <tr>\n      <th>2</th>\n      <td>3</td>\n      <td>Norway</td>\n      <td>9.38</td>\n      <td>Norway</td>\n      <td>NOR</td>\n    </tr>\n    <tr>\n      <th>3</th>\n      <td>4</td>\n      <td>Sweden</td>\n      <td>9.18</td>\n      <td>Sweden</td>\n      <td>SWE</td>\n    </tr>\n    <tr>\n      <th>4</th>\n      <td>5</td>\n      <td>Canada</td>\n      <td>9.02</td>\n      <td>Canada</td>\n      <td>CAN</td>\n    </tr>\n  </tbody>\n</table>\n</div>"
     },
     "execution_count": 627,
     "metadata": {},
     "output_type": "execute_result"
    }
   ],
   "source": [
    "# left join by country dataset based on country names\n",
    "lgbtq = lgbtq.merge(country[['Name', 'Iso3']], how='left', left_on='COUNTRY', right_on='Name')\n",
    "lgbtq.head()"
   ]
  },
  {
   "cell_type": "code",
   "execution_count": 628,
   "id": "76804355",
   "metadata": {
    "pycharm": {
     "name": "#%%\n"
    }
   },
   "outputs": [],
   "source": [
    "# check countries that were not merged\n",
    "# lgbtq[lgbtq['Name'].isnull()]"
   ]
  },
  {
   "cell_type": "code",
   "execution_count": 629,
   "id": "35f49d08",
   "metadata": {
    "pycharm": {
     "name": "#%%\n"
    }
   },
   "outputs": [],
   "source": [
    "# check countries that were not merged\n",
    "lgbtq=lgbtq.dropna(subset=['Name'])\n",
    "# drop the second country name column\n",
    "lgbtq = lgbtq.drop(['Name'], axis=1)"
   ]
  },
  {
   "cell_type": "markdown",
   "source": [
    "## Export cleaned dataset"
   ],
   "metadata": {
    "collapsed": false,
    "pycharm": {
     "name": "#%% md\n"
    }
   }
  },
  {
   "cell_type": "code",
   "execution_count": 630,
   "id": "54f9f8fa",
   "metadata": {
    "pycharm": {
     "name": "#%%\n"
    }
   },
   "outputs": [],
   "source": [
    "country.to_csv('../cleaned_data/country.csv', index=False)\n",
    "\n",
    "pop.to_csv('../cleaned_data/population.csv', index=False)\n",
    "\n",
    "clim.to_csv('../cleaned_data/climate.csv', index=False)\n",
    "\n",
    "curr.to_csv('../cleaned_data/currencies.csv', index=False)\n",
    "\n",
    "lang.to_csv('../cleaned_data/language.csv', index=False)\n",
    "\n",
    "rel.to_csv('../cleaned_data/religion.csv', index=False)\n",
    "\n",
    "peace.to_csv('../cleaned_data/peace_index.csv', index=False)\n",
    "\n",
    "wef.to_csv('../cleaned_data/wef_ttdi.csv', index=False)\n",
    "\n",
    "avg_rest_hot_p.to_csv(\"../cleaned_data/avg_rest_hot_p.csv\", index=False)\n",
    "\n",
    "lgbtq.to_csv(\"../cleaned_data/lgbtq.csv\", index=False)\n",
    "\n",
    "cuisine_rank.to_csv('../cleaned_data/cuisine_rank.csv', index=False)"
   ]
  }
 ],
 "metadata": {
  "kernelspec": {
   "display_name": "Python 3",
   "language": "python",
   "name": "python3"
  },
  "language_info": {
   "codemirror_mode": {
    "name": "ipython",
    "version": 3
   },
   "file_extension": ".py",
   "mimetype": "text/x-python",
   "name": "python",
   "nbconvert_exporter": "python",
   "pygments_lexer": "ipython3",
   "version": "3.8.8"
  }
 },
 "nbformat": 4,
 "nbformat_minor": 5
}