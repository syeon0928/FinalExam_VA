{
 "cells": [
  {
   "cell_type": "markdown",
   "id": "bb0fa62e",
   "metadata": {
    "pycharm": {
     "name": "#%% md\n"
    }
   },
   "source": [
    "### Import needed packages"
   ]
  },
  {
   "cell_type": "code",
   "execution_count": 1103,
   "id": "fde1da8a",
   "metadata": {
    "pycharm": {
     "name": "#%%\n"
    }
   },
   "outputs": [],
   "source": [
    "import pandas as pd\n",
    "import numpy as np\n",
    "import re\n",
    "import requests\n",
    "from bs4 import BeautifulSoup"
   ]
  },
  {
   "cell_type": "markdown",
   "id": "6a0e260c",
   "metadata": {
    "pycharm": {
     "name": "#%% md\n"
    }
   },
   "source": [
    "### Load all the necessary data"
   ]
  },
  {
   "cell_type": "code",
   "execution_count": 1104,
   "id": "9fcf3120",
   "metadata": {
    "pycharm": {
     "name": "#%%\n"
    }
   },
   "outputs": [],
   "source": [
    "#Load the country-ISO code dataset\n",
    "country = pd.read_excel('../original_data/country.xlsx')\n",
    "\n",
    "# Load the population by country dataset\n",
    "pop = pd.read_csv(\"../original_data/Population.csv\")\n",
    "\n",
    "#Load the climate by country dataset\n",
    "clim = pd.read_csv(\"../original_data/Climate.csv\")\n",
    "\n",
    "#Load the currencies by country dataset\n",
    "curr = pd.read_csv(\"../original_data/Currencies.csv\")\n",
    "\n",
    "#Load the spoken languages by country dataset\n",
    "lang = pd.read_csv(\"../original_data/Languages.csv\", encoding='Latin-1')\n",
    "#Load the religion by country dataset\n",
    "rel = pd.read_csv(\"../original_data/Religion.csv\")\n",
    "\n",
    "#Load the peace index dataset\n",
    "peace = pd.read_csv(\"../original_data/Peace_Index.csv\")\n",
    "\n",
    "#Load Wef Travel Index data\n",
    "wef = pd.read_excel('../original_data/WEF_TTDI.xlsx', header=[0, 1], sheet_name='Index Performance')\n",
    "\n",
    "# Load average restaurant and accomodation cost data\n",
    "avg_rest_hot_p = pd.read_csv(\"../original_data/Avg_rest_hot_prices.csv\")\n",
    "\n",
    "# Load LGBTQ dataset\n",
    "lgbtq = pd.read_excel(\"../original_data/LGBTQ .xlsx\")"
   ]
  },
  {
   "cell_type": "markdown",
   "id": "2d1d2100",
   "metadata": {
    "pycharm": {
     "name": "#%% md\n"
    }
   },
   "source": [
    "#### Get Cuisine Rank data by web scraping"
   ]
  },
  {
   "cell_type": "code",
   "execution_count": 1105,
   "outputs": [],
   "source": [
    "URL = \"https://www.tasteatlas.com/best/cuisines?fbclid=IwAR1CFukbqGEObPMECI1SdpO_dOzeMmBjhGXvRlW8GS63JwpqUAi_0QCl4nU\"\n",
    "page = requests.get(URL)"
   ],
   "metadata": {
    "collapsed": false,
    "pycharm": {
     "name": "#%%\n"
    }
   }
  },
  {
   "cell_type": "code",
   "execution_count": 1106,
   "outputs": [],
   "source": [
    "soup = BeautifulSoup(page.content, \"html.parser\")"
   ],
   "metadata": {
    "collapsed": false,
    "pycharm": {
     "name": "#%%\n"
    }
   }
  },
  {
   "cell_type": "code",
   "execution_count": 1107,
   "outputs": [],
   "source": [
    "# get the block that contains the ranks\n",
    "results = soup.find(id=\"BestCuisines\")"
   ],
   "metadata": {
    "collapsed": false,
    "pycharm": {
     "name": "#%%\n"
    }
   }
  },
  {
   "cell_type": "code",
   "execution_count": 1108,
   "outputs": [],
   "source": [
    "# get a list containing the names of the countries in html format\n",
    "countries = results.find_all(\"div\", class_=\"top-container\")\n",
    "# get a list containing the ratings of the countries in html format\n",
    "ratings = results.find_all(\"div\", class_=\"rating with-title\")"
   ],
   "metadata": {
    "collapsed": false,
    "pycharm": {
     "name": "#%%\n"
    }
   }
  },
  {
   "cell_type": "code",
   "execution_count": 1109,
   "outputs": [
    {
     "name": "stdout",
     "output_type": "stream",
     "text": [
      "['italy', 'greece', 'spain', 'japan', 'india', 'mexico', 'turkiye', 'USA', 'france', 'peru', 'china', 'brazil', 'portugal', 'poland', 'germany', 'indonesia', 'croatia', 'argentina', 'korea', 'vietnam', 'hungary', 'romania', 'philippines', 'iran', 'serbia', 'georgia', 'czech-republic', 'bulgaria', 'england', 'thailand', 'belgium', 'netherlands', 'austria', 'algeria', 'denmark', 'south-africa', 'syria', 'bih', 'malaysia', 'lebanon', 'ukraine', 'palestine', 'bangladesh', 'lithuania', 'taiwan', 'paraguay', 'pakistan', 'tunisia', 'uruguay', 'slovakia', 'egypt', 'singapore', 'afghanistan', 'ecuador', 'ethiopia', 'belarus', 'haiti', 'russia', 'north-macedonia', 'cuba', 'sri-lanka', 'sweden', 'chile', 'jamaica', 'slovenia', 'bolivia', 'venezuela', 'albania', 'northern-ireland', 'nigeria', 'colombia', 'finland', 'ireland', 'cyprus', 'estonia', 'new-zealand', 'guatemala', 'el-salvador', 'trinidad-and-tobago', 'wales', 'israel', 'azerbaijan', 'honduras', 'costa-rica', 'saudi-arabia', 'malta', 'switzerland', 'scotland', 'australia', 'armenia', 'iceland', 'canada', 'latvia', 'morocco', 'norway']\n"
     ]
    }
   ],
   "source": [
    "# extract text only from the countries html list\n",
    "country_ls = []\n",
    "for c in countries:\n",
    "    country_ls.append(c.find('a', href=True)['href'])\n",
    "print(country_ls)"
   ],
   "metadata": {
    "collapsed": false,
    "pycharm": {
     "name": "#%%\n"
    }
   }
  },
  {
   "cell_type": "code",
   "execution_count": 1110,
   "outputs": [
    {
     "name": "stdout",
     "output_type": "stream",
     "text": [
      "[4.72, 4.69, 4.59, 4.59, 4.54, 4.53, 4.52, 4.51, 4.51, 4.51, 4.49, 4.49, 4.47, 4.44, 4.37, 4.37, 4.33, 4.33, 4.31, 4.31, 4.26, 4.25, 4.25, 4.23, 4.23, 4.23, 4.21, 4.2, 4.18, 4.16, 4.14, 4.1, 4.09, 4.07, 4.05, 4.03, 4.03, 3.99, 3.99, 3.99, 3.98, 3.98, 3.97, 3.96, 3.96, 3.96, 3.95, 3.95, 3.95, 3.94, 3.94, 3.94, 3.94, 3.93, 3.93, 3.93, 3.93, 3.92, 3.92, 3.92, 3.92, 3.91, 3.91, 3.91, 3.91, 3.91, 3.91, 3.91, 3.91, 3.91, 3.9, 3.9, 3.9, 3.9, 3.9, 3.89, 3.89, 3.88, 3.88, 3.88, 3.85, 3.85, 3.85, 3.85, 3.85, 3.84, 3.82, 3.82, 3.8, 3.8, 3.8, 3.79, 3.79, 3.69, 3.58]\n"
     ]
    }
   ],
   "source": [
    "# extract ratings only from the ratings html list\n",
    "rating_ls = []\n",
    "for rating in ratings:\n",
    "    # print(box)\n",
    "    rating_ls.append(float(rating.find(\"span\").text))\n",
    "print(rating_ls)"
   ],
   "metadata": {
    "collapsed": false,
    "pycharm": {
     "name": "#%%\n"
    }
   }
  },
  {
   "cell_type": "code",
   "execution_count": 1111,
   "outputs": [
    {
     "data": {
      "text/plain": "True"
     },
     "execution_count": 1111,
     "metadata": {},
     "output_type": "execute_result"
    }
   ],
   "source": [
    "# check if the country list and rating list length matches\n",
    "len(rating_ls)==len(country_ls)"
   ],
   "metadata": {
    "collapsed": false,
    "pycharm": {
     "name": "#%%\n"
    }
   }
  },
  {
   "cell_type": "code",
   "execution_count": 1112,
   "outputs": [],
   "source": [
    "# Create Data Frame with extracted Data\n",
    "cuisine_rank = pd.DataFrame({'Country': country_ls, 'Ratings': rating_ls})"
   ],
   "metadata": {
    "collapsed": false,
    "pycharm": {
     "name": "#%%\n"
    }
   }
  },
  {
   "cell_type": "markdown",
   "source": [
    "## EDA and Data Cleaning, Transforming"
   ],
   "metadata": {
    "collapsed": false,
    "pycharm": {
     "name": "#%% md\n"
    }
   }
  },
  {
   "cell_type": "markdown",
   "source": [
    "#### Country - ISO CODE Dataset"
   ],
   "metadata": {
    "collapsed": false,
    "pycharm": {
     "name": "#%% md\n"
    }
   }
  },
  {
   "cell_type": "code",
   "execution_count": 1113,
   "outputs": [
    {
     "data": {
      "text/plain": "          Name Iso3                           Continent     SubContinent\n0        Aruba  ABW     Latin America and the Caribbean        Caribbean\n1      Andorra  ADO                              Europe  Southern Europe\n2  Afghanistan  AFG  South, East and South-Eastern Asia    Southern Asia\n3       Angola  AGO                              Africa    Middle Africa\n4      Albania  ALB                              Europe  Southern Europe",
      "text/html": "<div>\n<style scoped>\n    .dataframe tbody tr th:only-of-type {\n        vertical-align: middle;\n    }\n\n    .dataframe tbody tr th {\n        vertical-align: top;\n    }\n\n    .dataframe thead th {\n        text-align: right;\n    }\n</style>\n<table border=\"1\" class=\"dataframe\">\n  <thead>\n    <tr style=\"text-align: right;\">\n      <th></th>\n      <th>Name</th>\n      <th>Iso3</th>\n      <th>Continent</th>\n      <th>SubContinent</th>\n    </tr>\n  </thead>\n  <tbody>\n    <tr>\n      <th>0</th>\n      <td>Aruba</td>\n      <td>ABW</td>\n      <td>Latin America and the Caribbean</td>\n      <td>Caribbean</td>\n    </tr>\n    <tr>\n      <th>1</th>\n      <td>Andorra</td>\n      <td>ADO</td>\n      <td>Europe</td>\n      <td>Southern Europe</td>\n    </tr>\n    <tr>\n      <th>2</th>\n      <td>Afghanistan</td>\n      <td>AFG</td>\n      <td>South, East and South-Eastern Asia</td>\n      <td>Southern Asia</td>\n    </tr>\n    <tr>\n      <th>3</th>\n      <td>Angola</td>\n      <td>AGO</td>\n      <td>Africa</td>\n      <td>Middle Africa</td>\n    </tr>\n    <tr>\n      <th>4</th>\n      <td>Albania</td>\n      <td>ALB</td>\n      <td>Europe</td>\n      <td>Southern Europe</td>\n    </tr>\n  </tbody>\n</table>\n</div>"
     },
     "execution_count": 1113,
     "metadata": {},
     "output_type": "execute_result"
    }
   ],
   "source": [
    "country.head()"
   ],
   "metadata": {
    "collapsed": false,
    "pycharm": {
     "name": "#%%\n"
    }
   }
  },
  {
   "cell_type": "code",
   "execution_count": 1114,
   "outputs": [
    {
     "name": "stdout",
     "output_type": "stream",
     "text": [
      "<class 'pandas.core.frame.DataFrame'>\n",
      "RangeIndex: 327 entries, 0 to 326\n",
      "Data columns (total 4 columns):\n",
      " #   Column        Non-Null Count  Dtype \n",
      "---  ------        --------------  ----- \n",
      " 0   Name          327 non-null    object\n",
      " 1   Iso3          327 non-null    object\n",
      " 2   Continent     327 non-null    object\n",
      " 3   SubContinent  327 non-null    object\n",
      "dtypes: object(4)\n",
      "memory usage: 10.3+ KB\n"
     ]
    }
   ],
   "source": [
    "country.info()"
   ],
   "metadata": {
    "collapsed": false,
    "pycharm": {
     "name": "#%%\n"
    }
   }
  },
  {
   "cell_type": "code",
   "execution_count": 1115,
   "outputs": [],
   "source": [
    "country['Name'] = country['Name'].str.title()\n",
    "country['Name'] = country['Name'].str.strip()"
   ],
   "metadata": {
    "collapsed": false,
    "pycharm": {
     "name": "#%%\n"
    }
   }
  },
  {
   "cell_type": "markdown",
   "source": [
    "#### Population dataset"
   ],
   "metadata": {
    "collapsed": false,
    "pycharm": {
     "name": "#%% md\n"
    }
   }
  },
  {
   "cell_type": "code",
   "execution_count": 1116,
   "outputs": [
    {
     "data": {
      "text/plain": "                  Country Name Country Code     Indicator Name Indicator Code  \\\n0                        Aruba          ABW  Population, total    SP.POP.TOTL   \n1  Africa Eastern and Southern          AFE  Population, total    SP.POP.TOTL   \n2                  Afghanistan          AFG  Population, total    SP.POP.TOTL   \n3   Africa Western and Central          AFW  Population, total    SP.POP.TOTL   \n4                       Angola          AGO  Population, total    SP.POP.TOTL   \n\n          1960         1961         1962         1963         1964  \\\n0      54208.0      55434.0      56234.0      56699.0      57029.0   \n1  130836765.0  134159786.0  137614644.0  141202036.0  144920186.0   \n2    8996967.0    9169406.0    9351442.0    9543200.0    9744772.0   \n3   96396419.0   98407221.0  100506960.0  102691339.0  104953470.0   \n4    5454938.0    5531451.0    5608499.0    5679409.0    5734995.0   \n\n          1965  ...         2012         2013         2014         2015  \\\n0      57357.0  ...     102565.0     103165.0     103776.0     104339.0   \n1  148769974.0  ...  547482863.0  562601578.0  578075373.0  593871847.0   \n2    9956318.0  ...   31161378.0   32269592.0   33370804.0   34413603.0   \n3  107289875.0  ...  370243017.0  380437896.0  390882979.0  401586651.0   \n4    5770573.0  ...   25107925.0   26015786.0   26941773.0   27884380.0   \n\n          2016         2017         2018         2019         2020  \\\n0     104865.0     105361.0     105846.0     106310.0     106766.0   \n1  609978946.0  626392880.0  643090131.0  660046272.0  677243299.0   \n2   35383028.0   36296111.0   37171922.0   38041757.0   38928341.0   \n3  412551299.0  423769930.0  435229381.0  446911598.0  458803476.0   \n4   28842482.0   29816769.0   30809787.0   31825299.0   32866268.0   \n\n          2021  \n0     107195.0  \n1  694665117.0  \n2   39835428.0  \n3  470898870.0  \n4   33933611.0  \n\n[5 rows x 66 columns]",
      "text/html": "<div>\n<style scoped>\n    .dataframe tbody tr th:only-of-type {\n        vertical-align: middle;\n    }\n\n    .dataframe tbody tr th {\n        vertical-align: top;\n    }\n\n    .dataframe thead th {\n        text-align: right;\n    }\n</style>\n<table border=\"1\" class=\"dataframe\">\n  <thead>\n    <tr style=\"text-align: right;\">\n      <th></th>\n      <th>Country Name</th>\n      <th>Country Code</th>\n      <th>Indicator Name</th>\n      <th>Indicator Code</th>\n      <th>1960</th>\n      <th>1961</th>\n      <th>1962</th>\n      <th>1963</th>\n      <th>1964</th>\n      <th>1965</th>\n      <th>...</th>\n      <th>2012</th>\n      <th>2013</th>\n      <th>2014</th>\n      <th>2015</th>\n      <th>2016</th>\n      <th>2017</th>\n      <th>2018</th>\n      <th>2019</th>\n      <th>2020</th>\n      <th>2021</th>\n    </tr>\n  </thead>\n  <tbody>\n    <tr>\n      <th>0</th>\n      <td>Aruba</td>\n      <td>ABW</td>\n      <td>Population, total</td>\n      <td>SP.POP.TOTL</td>\n      <td>54208.0</td>\n      <td>55434.0</td>\n      <td>56234.0</td>\n      <td>56699.0</td>\n      <td>57029.0</td>\n      <td>57357.0</td>\n      <td>...</td>\n      <td>102565.0</td>\n      <td>103165.0</td>\n      <td>103776.0</td>\n      <td>104339.0</td>\n      <td>104865.0</td>\n      <td>105361.0</td>\n      <td>105846.0</td>\n      <td>106310.0</td>\n      <td>106766.0</td>\n      <td>107195.0</td>\n    </tr>\n    <tr>\n      <th>1</th>\n      <td>Africa Eastern and Southern</td>\n      <td>AFE</td>\n      <td>Population, total</td>\n      <td>SP.POP.TOTL</td>\n      <td>130836765.0</td>\n      <td>134159786.0</td>\n      <td>137614644.0</td>\n      <td>141202036.0</td>\n      <td>144920186.0</td>\n      <td>148769974.0</td>\n      <td>...</td>\n      <td>547482863.0</td>\n      <td>562601578.0</td>\n      <td>578075373.0</td>\n      <td>593871847.0</td>\n      <td>609978946.0</td>\n      <td>626392880.0</td>\n      <td>643090131.0</td>\n      <td>660046272.0</td>\n      <td>677243299.0</td>\n      <td>694665117.0</td>\n    </tr>\n    <tr>\n      <th>2</th>\n      <td>Afghanistan</td>\n      <td>AFG</td>\n      <td>Population, total</td>\n      <td>SP.POP.TOTL</td>\n      <td>8996967.0</td>\n      <td>9169406.0</td>\n      <td>9351442.0</td>\n      <td>9543200.0</td>\n      <td>9744772.0</td>\n      <td>9956318.0</td>\n      <td>...</td>\n      <td>31161378.0</td>\n      <td>32269592.0</td>\n      <td>33370804.0</td>\n      <td>34413603.0</td>\n      <td>35383028.0</td>\n      <td>36296111.0</td>\n      <td>37171922.0</td>\n      <td>38041757.0</td>\n      <td>38928341.0</td>\n      <td>39835428.0</td>\n    </tr>\n    <tr>\n      <th>3</th>\n      <td>Africa Western and Central</td>\n      <td>AFW</td>\n      <td>Population, total</td>\n      <td>SP.POP.TOTL</td>\n      <td>96396419.0</td>\n      <td>98407221.0</td>\n      <td>100506960.0</td>\n      <td>102691339.0</td>\n      <td>104953470.0</td>\n      <td>107289875.0</td>\n      <td>...</td>\n      <td>370243017.0</td>\n      <td>380437896.0</td>\n      <td>390882979.0</td>\n      <td>401586651.0</td>\n      <td>412551299.0</td>\n      <td>423769930.0</td>\n      <td>435229381.0</td>\n      <td>446911598.0</td>\n      <td>458803476.0</td>\n      <td>470898870.0</td>\n    </tr>\n    <tr>\n      <th>4</th>\n      <td>Angola</td>\n      <td>AGO</td>\n      <td>Population, total</td>\n      <td>SP.POP.TOTL</td>\n      <td>5454938.0</td>\n      <td>5531451.0</td>\n      <td>5608499.0</td>\n      <td>5679409.0</td>\n      <td>5734995.0</td>\n      <td>5770573.0</td>\n      <td>...</td>\n      <td>25107925.0</td>\n      <td>26015786.0</td>\n      <td>26941773.0</td>\n      <td>27884380.0</td>\n      <td>28842482.0</td>\n      <td>29816769.0</td>\n      <td>30809787.0</td>\n      <td>31825299.0</td>\n      <td>32866268.0</td>\n      <td>33933611.0</td>\n    </tr>\n  </tbody>\n</table>\n<p>5 rows × 66 columns</p>\n</div>"
     },
     "execution_count": 1116,
     "metadata": {},
     "output_type": "execute_result"
    }
   ],
   "source": [
    "pop.head()"
   ],
   "metadata": {
    "collapsed": false,
    "pycharm": {
     "name": "#%%\n"
    }
   }
  },
  {
   "cell_type": "code",
   "execution_count": 1117,
   "outputs": [
    {
     "name": "stdout",
     "output_type": "stream",
     "text": [
      "<class 'pandas.core.frame.DataFrame'>\n",
      "RangeIndex: 266 entries, 0 to 265\n",
      "Data columns (total 66 columns):\n",
      " #   Column          Non-Null Count  Dtype  \n",
      "---  ------          --------------  -----  \n",
      " 0   Country Name    266 non-null    object \n",
      " 1   Country Code    266 non-null    object \n",
      " 2   Indicator Name  266 non-null    object \n",
      " 3   Indicator Code  266 non-null    object \n",
      " 4   1960            264 non-null    float64\n",
      " 5   1961            264 non-null    float64\n",
      " 6   1962            264 non-null    float64\n",
      " 7   1963            264 non-null    float64\n",
      " 8   1964            264 non-null    float64\n",
      " 9   1965            264 non-null    float64\n",
      " 10  1966            264 non-null    float64\n",
      " 11  1967            264 non-null    float64\n",
      " 12  1968            264 non-null    float64\n",
      " 13  1969            264 non-null    float64\n",
      " 14  1970            264 non-null    float64\n",
      " 15  1971            264 non-null    float64\n",
      " 16  1972            264 non-null    float64\n",
      " 17  1973            264 non-null    float64\n",
      " 18  1974            264 non-null    float64\n",
      " 19  1975            264 non-null    float64\n",
      " 20  1976            264 non-null    float64\n",
      " 21  1977            264 non-null    float64\n",
      " 22  1978            264 non-null    float64\n",
      " 23  1979            264 non-null    float64\n",
      " 24  1980            264 non-null    float64\n",
      " 25  1981            264 non-null    float64\n",
      " 26  1982            264 non-null    float64\n",
      " 27  1983            264 non-null    float64\n",
      " 28  1984            264 non-null    float64\n",
      " 29  1985            264 non-null    float64\n",
      " 30  1986            264 non-null    float64\n",
      " 31  1987            264 non-null    float64\n",
      " 32  1988            264 non-null    float64\n",
      " 33  1989            264 non-null    float64\n",
      " 34  1990            265 non-null    float64\n",
      " 35  1991            265 non-null    float64\n",
      " 36  1992            264 non-null    float64\n",
      " 37  1993            264 non-null    float64\n",
      " 38  1994            264 non-null    float64\n",
      " 39  1995            265 non-null    float64\n",
      " 40  1996            265 non-null    float64\n",
      " 41  1997            265 non-null    float64\n",
      " 42  1998            265 non-null    float64\n",
      " 43  1999            265 non-null    float64\n",
      " 44  2000            265 non-null    float64\n",
      " 45  2001            265 non-null    float64\n",
      " 46  2002            265 non-null    float64\n",
      " 47  2003            265 non-null    float64\n",
      " 48  2004            265 non-null    float64\n",
      " 49  2005            265 non-null    float64\n",
      " 50  2006            265 non-null    float64\n",
      " 51  2007            265 non-null    float64\n",
      " 52  2008            265 non-null    float64\n",
      " 53  2009            265 non-null    float64\n",
      " 54  2010            265 non-null    float64\n",
      " 55  2011            265 non-null    float64\n",
      " 56  2012            264 non-null    float64\n",
      " 57  2013            264 non-null    float64\n",
      " 58  2014            264 non-null    float64\n",
      " 59  2015            264 non-null    float64\n",
      " 60  2016            264 non-null    float64\n",
      " 61  2017            264 non-null    float64\n",
      " 62  2018            264 non-null    float64\n",
      " 63  2019            264 non-null    float64\n",
      " 64  2020            264 non-null    float64\n",
      " 65  2021            264 non-null    float64\n",
      "dtypes: float64(62), object(4)\n",
      "memory usage: 137.3+ KB\n"
     ]
    }
   ],
   "source": [
    "pop.info()"
   ],
   "metadata": {
    "collapsed": false,
    "pycharm": {
     "name": "#%%\n"
    }
   }
  },
  {
   "cell_type": "code",
   "execution_count": 1118,
   "outputs": [
    {
     "data": {
      "text/plain": "Country Name      0\nCountry Code      0\nIndicator Name    0\nIndicator Code    0\n1960              2\n                 ..\n2017              2\n2018              2\n2019              2\n2020              2\n2021              2\nLength: 66, dtype: int64"
     },
     "execution_count": 1118,
     "metadata": {},
     "output_type": "execute_result"
    }
   ],
   "source": [
    "pop.isna().sum()"
   ],
   "metadata": {
    "collapsed": false,
    "pycharm": {
     "name": "#%%\n"
    }
   }
  },
  {
   "cell_type": "code",
   "execution_count": 1119,
   "outputs": [
    {
     "data": {
      "text/plain": "       Country Name Country Code     Indicator Name Indicator Code       1960  \\\n69          Eritrea          ERI  Population, total    SP.POP.TOTL  1007586.0   \n110  Not classified          INX  Population, total    SP.POP.TOTL        NaN   \n\n          1961       1962       1963       1964       1965  ...  2012  2013  \\\n69   1033320.0  1060489.0  1088859.0  1118152.0  1148188.0  ...   NaN   NaN   \n110        NaN        NaN        NaN        NaN        NaN  ...   NaN   NaN   \n\n     2014  2015  2016  2017  2018  2019  2020  2021  \n69    NaN   NaN   NaN   NaN   NaN   NaN   NaN   NaN  \n110   NaN   NaN   NaN   NaN   NaN   NaN   NaN   NaN  \n\n[2 rows x 66 columns]",
      "text/html": "<div>\n<style scoped>\n    .dataframe tbody tr th:only-of-type {\n        vertical-align: middle;\n    }\n\n    .dataframe tbody tr th {\n        vertical-align: top;\n    }\n\n    .dataframe thead th {\n        text-align: right;\n    }\n</style>\n<table border=\"1\" class=\"dataframe\">\n  <thead>\n    <tr style=\"text-align: right;\">\n      <th></th>\n      <th>Country Name</th>\n      <th>Country Code</th>\n      <th>Indicator Name</th>\n      <th>Indicator Code</th>\n      <th>1960</th>\n      <th>1961</th>\n      <th>1962</th>\n      <th>1963</th>\n      <th>1964</th>\n      <th>1965</th>\n      <th>...</th>\n      <th>2012</th>\n      <th>2013</th>\n      <th>2014</th>\n      <th>2015</th>\n      <th>2016</th>\n      <th>2017</th>\n      <th>2018</th>\n      <th>2019</th>\n      <th>2020</th>\n      <th>2021</th>\n    </tr>\n  </thead>\n  <tbody>\n    <tr>\n      <th>69</th>\n      <td>Eritrea</td>\n      <td>ERI</td>\n      <td>Population, total</td>\n      <td>SP.POP.TOTL</td>\n      <td>1007586.0</td>\n      <td>1033320.0</td>\n      <td>1060489.0</td>\n      <td>1088859.0</td>\n      <td>1118152.0</td>\n      <td>1148188.0</td>\n      <td>...</td>\n      <td>NaN</td>\n      <td>NaN</td>\n      <td>NaN</td>\n      <td>NaN</td>\n      <td>NaN</td>\n      <td>NaN</td>\n      <td>NaN</td>\n      <td>NaN</td>\n      <td>NaN</td>\n      <td>NaN</td>\n    </tr>\n    <tr>\n      <th>110</th>\n      <td>Not classified</td>\n      <td>INX</td>\n      <td>Population, total</td>\n      <td>SP.POP.TOTL</td>\n      <td>NaN</td>\n      <td>NaN</td>\n      <td>NaN</td>\n      <td>NaN</td>\n      <td>NaN</td>\n      <td>NaN</td>\n      <td>...</td>\n      <td>NaN</td>\n      <td>NaN</td>\n      <td>NaN</td>\n      <td>NaN</td>\n      <td>NaN</td>\n      <td>NaN</td>\n      <td>NaN</td>\n      <td>NaN</td>\n      <td>NaN</td>\n      <td>NaN</td>\n    </tr>\n  </tbody>\n</table>\n<p>2 rows × 66 columns</p>\n</div>"
     },
     "execution_count": 1119,
     "metadata": {},
     "output_type": "execute_result"
    }
   ],
   "source": [
    "pop[pop[[\"2021\"]].isnull().any(axis=1)]"
   ],
   "metadata": {
    "collapsed": false,
    "pycharm": {
     "name": "#%%\n"
    }
   }
  },
  {
   "cell_type": "markdown",
   "source": [
    "Given the exploration done in the pop dataset, we can conclude that for the next step in the cleaning and transformations, we wish to keep only the \"Country Name\", \" Country Code\", and the most recent year 2021 (which we will rename to pop_2021). Moreover, to make sure that the dataset is homogeneous we will capitalize the first letter of each word in the \"Country Name\" column. We can also see that there is two null values in 2021, which will be handled."
   ],
   "metadata": {
    "collapsed": false,
    "pycharm": {
     "name": "#%% md\n"
    }
   }
  },
  {
   "cell_type": "code",
   "execution_count": 1120,
   "outputs": [],
   "source": [
    "# Select the columns we are interest in\n",
    "pop = pop[[\"Country Name\", \"Country Code\", \"2021\"]]"
   ],
   "metadata": {
    "collapsed": false,
    "pycharm": {
     "name": "#%%\n"
    }
   }
  },
  {
   "cell_type": "code",
   "execution_count": 1121,
   "outputs": [],
   "source": [
    "# Rename the columns\n",
    "pop = pop.rename(columns = {\"2021\": \"Pop_2021\", \"Country Name\": \"Country\"})"
   ],
   "metadata": {
    "collapsed": false,
    "pycharm": {
     "name": "#%%\n"
    }
   }
  },
  {
   "cell_type": "code",
   "execution_count": 1122,
   "outputs": [],
   "source": [
    "# Capitalise the first letter of each word in the Country column, and remove any extra spaces\n",
    "pop[\"Country\"] = pop[\"Country\"].str.title()\n",
    "pop[\"Country\"] = pop[\"Country\"].str.strip()"
   ],
   "metadata": {
    "collapsed": false,
    "pycharm": {
     "name": "#%%\n"
    }
   }
  },
  {
   "cell_type": "code",
   "execution_count": 1123,
   "outputs": [],
   "source": [
    "# Remove empty rows\n",
    "pop = pop.dropna()"
   ],
   "metadata": {
    "collapsed": false,
    "pycharm": {
     "name": "#%%\n"
    }
   }
  },
  {
   "cell_type": "markdown",
   "source": [
    "#### Climate dataset"
   ],
   "metadata": {
    "collapsed": false,
    "pycharm": {
     "name": "#%% md\n"
    }
   }
  },
  {
   "cell_type": "code",
   "execution_count": 1124,
   "outputs": [
    {
     "data": {
      "text/plain": "          COUNTRY                                        DESCRIPTION\n0     Afghanistan     arid to semiarid; cold winters and hot summers\n1        Akrotiri  temperate; Mediterranean with hot, dry summers...\n2         Albania  mild temperate; cool, cloudy, wet winters; hot...\n3         Algeria  arid to semiarid; mild, wet winters with hot, ...\n4  American Samoa  tropical marine, moderated by southeast trade ...",
      "text/html": "<div>\n<style scoped>\n    .dataframe tbody tr th:only-of-type {\n        vertical-align: middle;\n    }\n\n    .dataframe tbody tr th {\n        vertical-align: top;\n    }\n\n    .dataframe thead th {\n        text-align: right;\n    }\n</style>\n<table border=\"1\" class=\"dataframe\">\n  <thead>\n    <tr style=\"text-align: right;\">\n      <th></th>\n      <th>COUNTRY</th>\n      <th>DESCRIPTION</th>\n    </tr>\n  </thead>\n  <tbody>\n    <tr>\n      <th>0</th>\n      <td>Afghanistan</td>\n      <td>arid to semiarid; cold winters and hot summers</td>\n    </tr>\n    <tr>\n      <th>1</th>\n      <td>Akrotiri</td>\n      <td>temperate; Mediterranean with hot, dry summers...</td>\n    </tr>\n    <tr>\n      <th>2</th>\n      <td>Albania</td>\n      <td>mild temperate; cool, cloudy, wet winters; hot...</td>\n    </tr>\n    <tr>\n      <th>3</th>\n      <td>Algeria</td>\n      <td>arid to semiarid; mild, wet winters with hot, ...</td>\n    </tr>\n    <tr>\n      <th>4</th>\n      <td>American Samoa</td>\n      <td>tropical marine, moderated by southeast trade ...</td>\n    </tr>\n  </tbody>\n</table>\n</div>"
     },
     "execution_count": 1124,
     "metadata": {},
     "output_type": "execute_result"
    }
   ],
   "source": [
    "clim.head()"
   ],
   "metadata": {
    "collapsed": false,
    "pycharm": {
     "name": "#%%\n"
    }
   }
  },
  {
   "cell_type": "code",
   "execution_count": 1125,
   "outputs": [
    {
     "name": "stdout",
     "output_type": "stream",
     "text": [
      "<class 'pandas.core.frame.DataFrame'>\n",
      "RangeIndex: 277 entries, 0 to 276\n",
      "Data columns (total 2 columns):\n",
      " #   Column       Non-Null Count  Dtype \n",
      "---  ------       --------------  ----- \n",
      " 0   COUNTRY      277 non-null    object\n",
      " 1   DESCRIPTION  277 non-null    object\n",
      "dtypes: object(2)\n",
      "memory usage: 4.5+ KB\n"
     ]
    }
   ],
   "source": [
    "clim.info()"
   ],
   "metadata": {
    "collapsed": false,
    "pycharm": {
     "name": "#%%\n"
    }
   }
  },
  {
   "cell_type": "code",
   "execution_count": 1126,
   "outputs": [
    {
     "data": {
      "text/plain": "COUNTRY        0\nDESCRIPTION    0\ndtype: int64"
     },
     "execution_count": 1126,
     "metadata": {},
     "output_type": "execute_result"
    }
   ],
   "source": [
    "clim.isna().sum()"
   ],
   "metadata": {
    "collapsed": false,
    "pycharm": {
     "name": "#%%\n"
    }
   }
  },
  {
   "cell_type": "markdown",
   "source": [
    "Given the exploration done in the clim dataset, we can conclude that for the next step in the cleaning and transformations, we wish to keep all the columns, but rename them. Moreover, to make sure that the dataset is homogeneous we will capitalize the first letter of each word in the \"COUNTRY\" and \"DESCRIPTION\" column. We can also see that there is no null values, hence no handling of missing values is needed in this case."
   ],
   "metadata": {
    "collapsed": false,
    "pycharm": {
     "name": "#%% md\n"
    }
   }
  },
  {
   "cell_type": "code",
   "execution_count": 1127,
   "outputs": [],
   "source": [
    "# Rename the columns\n",
    "clim = clim.rename(columns = {\"COUNTRY\": \"Country\", \"DESCRIPTION\": \"Climate\"})"
   ],
   "metadata": {
    "collapsed": false,
    "pycharm": {
     "name": "#%%\n"
    }
   }
  },
  {
   "cell_type": "code",
   "execution_count": 1128,
   "outputs": [],
   "source": [
    "# Capitalise the first letter of each word in the Country and Climate column, and remove any extra spaces in the Country column\n",
    "clim[\"Country\"] = clim[\"Country\"].str.title()\n",
    "clim[\"Country\"] = clim[\"Country\"].str.strip()\n",
    "clim[\"Climate\"] = clim[\"Climate\"].str.title()"
   ],
   "metadata": {
    "collapsed": false,
    "pycharm": {
     "name": "#%%\n"
    }
   }
  },
  {
   "cell_type": "code",
   "execution_count": 1129,
   "outputs": [],
   "source": [
    "# Set a new column that classifies climates \n",
    "conditions = [(clim[\"Climate\"].str.contains(\"Tropical|Arid|Semiarid|Desert\")),\n",
    "              (clim[\"Climate\"].str.contains(\"Temperate|Continental|Hot Summers And Cold Winters\" )), \n",
    "              (clim[\"Climate\"].str.contains(\"Mediterranean|Subtropical\")),\n",
    "              (clim[\"Climate\"].str.contains(\"Highland\")), \n",
    "              (clim[\"Climate\"].str.contains(\"Polar|Antarctic\")),  \n",
    "              (clim[\"Climate\"].str.contains(\"Equatorial\"))]\n",
    "\n",
    "choices = [\"Tropical\", \"Temperate\", \"Subtropical\", \"Highland\", \"Polar\", \"Equatorial\" ]\n",
    "clim[\"Climate Zone\"] = np.select(conditions, choices, default = \"\")"
   ],
   "metadata": {
    "collapsed": false,
    "pycharm": {
     "name": "#%%\n"
    }
   }
  },
  {
   "cell_type": "markdown",
   "source": [
    "#### Currency dataset"
   ],
   "metadata": {
    "collapsed": false,
    "pycharm": {
     "name": "#%% md\n"
    }
   }
  },
  {
   "cell_type": "code",
   "execution_count": 1130,
   "outputs": [
    {
     "data": {
      "text/plain": "           Entity        Currency AlphabeticCode  NumericCode MinorUnit  \\\n0     AFGHANISTAN         Afghani            AFN        971.0         2   \n1   ÅLAND ISLANDS            Euro            EUR        978.0         2   \n2         ALBANIA             Lek            ALL          8.0         2   \n3         ALGERIA  Algerian Dinar            DZD         12.0         2   \n4  AMERICAN SAMOA       US Dollar            USD        840.0         2   \n\n  WithdrawalDate  \n0            NaN  \n1            NaN  \n2            NaN  \n3            NaN  \n4            NaN  ",
      "text/html": "<div>\n<style scoped>\n    .dataframe tbody tr th:only-of-type {\n        vertical-align: middle;\n    }\n\n    .dataframe tbody tr th {\n        vertical-align: top;\n    }\n\n    .dataframe thead th {\n        text-align: right;\n    }\n</style>\n<table border=\"1\" class=\"dataframe\">\n  <thead>\n    <tr style=\"text-align: right;\">\n      <th></th>\n      <th>Entity</th>\n      <th>Currency</th>\n      <th>AlphabeticCode</th>\n      <th>NumericCode</th>\n      <th>MinorUnit</th>\n      <th>WithdrawalDate</th>\n    </tr>\n  </thead>\n  <tbody>\n    <tr>\n      <th>0</th>\n      <td>AFGHANISTAN</td>\n      <td>Afghani</td>\n      <td>AFN</td>\n      <td>971.0</td>\n      <td>2</td>\n      <td>NaN</td>\n    </tr>\n    <tr>\n      <th>1</th>\n      <td>ÅLAND ISLANDS</td>\n      <td>Euro</td>\n      <td>EUR</td>\n      <td>978.0</td>\n      <td>2</td>\n      <td>NaN</td>\n    </tr>\n    <tr>\n      <th>2</th>\n      <td>ALBANIA</td>\n      <td>Lek</td>\n      <td>ALL</td>\n      <td>8.0</td>\n      <td>2</td>\n      <td>NaN</td>\n    </tr>\n    <tr>\n      <th>3</th>\n      <td>ALGERIA</td>\n      <td>Algerian Dinar</td>\n      <td>DZD</td>\n      <td>12.0</td>\n      <td>2</td>\n      <td>NaN</td>\n    </tr>\n    <tr>\n      <th>4</th>\n      <td>AMERICAN SAMOA</td>\n      <td>US Dollar</td>\n      <td>USD</td>\n      <td>840.0</td>\n      <td>2</td>\n      <td>NaN</td>\n    </tr>\n  </tbody>\n</table>\n</div>"
     },
     "execution_count": 1130,
     "metadata": {},
     "output_type": "execute_result"
    }
   ],
   "source": [
    "curr.head()"
   ],
   "metadata": {
    "collapsed": false,
    "pycharm": {
     "name": "#%%\n"
    }
   }
  },
  {
   "cell_type": "code",
   "execution_count": 1131,
   "outputs": [
    {
     "name": "stdout",
     "output_type": "stream",
     "text": [
      "<class 'pandas.core.frame.DataFrame'>\n",
      "RangeIndex: 441 entries, 0 to 440\n",
      "Data columns (total 6 columns):\n",
      " #   Column          Non-Null Count  Dtype  \n",
      "---  ------          --------------  -----  \n",
      " 0   Entity          441 non-null    object \n",
      " 1   Currency        441 non-null    object \n",
      " 2   AlphabeticCode  438 non-null    object \n",
      " 3   NumericCode     435 non-null    float64\n",
      " 4   MinorUnit       276 non-null    object \n",
      " 5   WithdrawalDate  162 non-null    object \n",
      "dtypes: float64(1), object(5)\n",
      "memory usage: 20.8+ KB\n"
     ]
    }
   ],
   "source": [
    "curr.info()"
   ],
   "metadata": {
    "collapsed": false,
    "pycharm": {
     "name": "#%%\n"
    }
   }
  },
  {
   "cell_type": "code",
   "execution_count": 1132,
   "outputs": [
    {
     "data": {
      "text/plain": "Entity              0\nCurrency            0\nAlphabeticCode      3\nNumericCode         6\nMinorUnit         165\nWithdrawalDate    279\ndtype: int64"
     },
     "execution_count": 1132,
     "metadata": {},
     "output_type": "execute_result"
    }
   ],
   "source": [
    "curr.isna().sum()"
   ],
   "metadata": {
    "collapsed": false,
    "pycharm": {
     "name": "#%%\n"
    }
   }
  },
  {
   "cell_type": "code",
   "execution_count": 1133,
   "outputs": [
    {
     "data": {
      "text/plain": "                                           Entity               Currency  \\\n8                                      ANTARCTICA  No universal currency   \n183                           PALESTINE, STATE OF  No universal currency   \n222  SOUTH GEORGIA AND THE SOUTH SANDWICH ISLANDS  No universal currency   \n\n    AlphabeticCode  NumericCode MinorUnit WithdrawalDate  \n8              NaN          NaN       NaN            NaN  \n183            NaN          NaN       NaN            NaN  \n222            NaN          NaN       NaN            NaN  ",
      "text/html": "<div>\n<style scoped>\n    .dataframe tbody tr th:only-of-type {\n        vertical-align: middle;\n    }\n\n    .dataframe tbody tr th {\n        vertical-align: top;\n    }\n\n    .dataframe thead th {\n        text-align: right;\n    }\n</style>\n<table border=\"1\" class=\"dataframe\">\n  <thead>\n    <tr style=\"text-align: right;\">\n      <th></th>\n      <th>Entity</th>\n      <th>Currency</th>\n      <th>AlphabeticCode</th>\n      <th>NumericCode</th>\n      <th>MinorUnit</th>\n      <th>WithdrawalDate</th>\n    </tr>\n  </thead>\n  <tbody>\n    <tr>\n      <th>8</th>\n      <td>ANTARCTICA</td>\n      <td>No universal currency</td>\n      <td>NaN</td>\n      <td>NaN</td>\n      <td>NaN</td>\n      <td>NaN</td>\n    </tr>\n    <tr>\n      <th>183</th>\n      <td>PALESTINE, STATE OF</td>\n      <td>No universal currency</td>\n      <td>NaN</td>\n      <td>NaN</td>\n      <td>NaN</td>\n      <td>NaN</td>\n    </tr>\n    <tr>\n      <th>222</th>\n      <td>SOUTH GEORGIA AND THE SOUTH SANDWICH ISLANDS</td>\n      <td>No universal currency</td>\n      <td>NaN</td>\n      <td>NaN</td>\n      <td>NaN</td>\n      <td>NaN</td>\n    </tr>\n  </tbody>\n</table>\n</div>"
     },
     "execution_count": 1133,
     "metadata": {},
     "output_type": "execute_result"
    }
   ],
   "source": [
    "curr[curr[[\"AlphabeticCode\"]].isnull().any(axis=1)]"
   ],
   "metadata": {
    "collapsed": false,
    "pycharm": {
     "name": "#%%\n"
    }
   }
  },
  {
   "cell_type": "code",
   "execution_count": 1134,
   "outputs": [
    {
     "data": {
      "text/plain": "                    Entity               Currency AlphabeticCode  NumericCode  \\\n279            AFGHANISTAN                Afghani            AFA          4.0   \n280          ÅLAND ISLANDS                 Markka            FIM        246.0   \n281                ALBANIA                Old Lek            ALK          8.0   \n282                ANDORRA        Andorran Peseta            ADP         20.0   \n283                ANDORRA         Spanish Peseta            ESP        724.0   \n..                     ...                    ...            ...          ...   \n436               ZIMBABWE  Zimbabwe Dollar (new)            ZWN        942.0   \n437               ZIMBABWE        Zimbabwe Dollar            ZWR        935.0   \n438        ZZ01_Gold-Franc             Gold-Franc            XFO          NaN   \n439  ZZ02_RINET Funds Code       RINET Funds Code            XRE          NaN   \n440         ZZ05_UIC-Franc              UIC-Franc            XFU          NaN   \n\n    MinorUnit WithdrawalDate  \n279       NaN        2003-01  \n280       NaN        2002-03  \n281       NaN        1989-12  \n282       NaN        2003-07  \n283       NaN        2002-03  \n..        ...            ...  \n436       NaN        2006-09  \n437       NaN        2009-06  \n438       NaN        2006-10  \n439       NaN        1999-11  \n440       NaN        2013-11  \n\n[162 rows x 6 columns]",
      "text/html": "<div>\n<style scoped>\n    .dataframe tbody tr th:only-of-type {\n        vertical-align: middle;\n    }\n\n    .dataframe tbody tr th {\n        vertical-align: top;\n    }\n\n    .dataframe thead th {\n        text-align: right;\n    }\n</style>\n<table border=\"1\" class=\"dataframe\">\n  <thead>\n    <tr style=\"text-align: right;\">\n      <th></th>\n      <th>Entity</th>\n      <th>Currency</th>\n      <th>AlphabeticCode</th>\n      <th>NumericCode</th>\n      <th>MinorUnit</th>\n      <th>WithdrawalDate</th>\n    </tr>\n  </thead>\n  <tbody>\n    <tr>\n      <th>279</th>\n      <td>AFGHANISTAN</td>\n      <td>Afghani</td>\n      <td>AFA</td>\n      <td>4.0</td>\n      <td>NaN</td>\n      <td>2003-01</td>\n    </tr>\n    <tr>\n      <th>280</th>\n      <td>ÅLAND ISLANDS</td>\n      <td>Markka</td>\n      <td>FIM</td>\n      <td>246.0</td>\n      <td>NaN</td>\n      <td>2002-03</td>\n    </tr>\n    <tr>\n      <th>281</th>\n      <td>ALBANIA</td>\n      <td>Old Lek</td>\n      <td>ALK</td>\n      <td>8.0</td>\n      <td>NaN</td>\n      <td>1989-12</td>\n    </tr>\n    <tr>\n      <th>282</th>\n      <td>ANDORRA</td>\n      <td>Andorran Peseta</td>\n      <td>ADP</td>\n      <td>20.0</td>\n      <td>NaN</td>\n      <td>2003-07</td>\n    </tr>\n    <tr>\n      <th>283</th>\n      <td>ANDORRA</td>\n      <td>Spanish Peseta</td>\n      <td>ESP</td>\n      <td>724.0</td>\n      <td>NaN</td>\n      <td>2002-03</td>\n    </tr>\n    <tr>\n      <th>...</th>\n      <td>...</td>\n      <td>...</td>\n      <td>...</td>\n      <td>...</td>\n      <td>...</td>\n      <td>...</td>\n    </tr>\n    <tr>\n      <th>436</th>\n      <td>ZIMBABWE</td>\n      <td>Zimbabwe Dollar (new)</td>\n      <td>ZWN</td>\n      <td>942.0</td>\n      <td>NaN</td>\n      <td>2006-09</td>\n    </tr>\n    <tr>\n      <th>437</th>\n      <td>ZIMBABWE</td>\n      <td>Zimbabwe Dollar</td>\n      <td>ZWR</td>\n      <td>935.0</td>\n      <td>NaN</td>\n      <td>2009-06</td>\n    </tr>\n    <tr>\n      <th>438</th>\n      <td>ZZ01_Gold-Franc</td>\n      <td>Gold-Franc</td>\n      <td>XFO</td>\n      <td>NaN</td>\n      <td>NaN</td>\n      <td>2006-10</td>\n    </tr>\n    <tr>\n      <th>439</th>\n      <td>ZZ02_RINET Funds Code</td>\n      <td>RINET Funds Code</td>\n      <td>XRE</td>\n      <td>NaN</td>\n      <td>NaN</td>\n      <td>1999-11</td>\n    </tr>\n    <tr>\n      <th>440</th>\n      <td>ZZ05_UIC-Franc</td>\n      <td>UIC-Franc</td>\n      <td>XFU</td>\n      <td>NaN</td>\n      <td>NaN</td>\n      <td>2013-11</td>\n    </tr>\n  </tbody>\n</table>\n<p>162 rows × 6 columns</p>\n</div>"
     },
     "execution_count": 1134,
     "metadata": {},
     "output_type": "execute_result"
    }
   ],
   "source": [
    "curr[curr[[\"WithdrawalDate\"]].notnull().any(axis=1)]"
   ],
   "metadata": {
    "collapsed": false,
    "pycharm": {
     "name": "#%%\n"
    }
   }
  },
  {
   "cell_type": "markdown",
   "source": [
    "Given the exploration done in the curr dataset, we can conclude that for the next step in the cleaning and transformations, we wish to keep only the \"Entity\", \"Currency\", and \"AlphabeticCode\" columns, but rename them. Moreover, to make sure that the dataset is homogeneous we will capitalize the first letter of each word in the \"Entity\" and \"Currency\" column. We can also see that there is three null values in the \"AlphabeticCode\" column, which will be handled. In addition, there are a number of currencies which are no longer used, we will them subset this dataset to only contain currently accepted currencies."
   ],
   "metadata": {
    "collapsed": false,
    "pycharm": {
     "name": "#%% md\n"
    }
   }
  },
  {
   "cell_type": "code",
   "execution_count": 1135,
   "outputs": [],
   "source": [
    "# Keep only the rows without a withdrawal date\n",
    "curr = curr[curr[[\"WithdrawalDate\"]].isnull().any(axis=1)]"
   ],
   "metadata": {
    "collapsed": false,
    "pycharm": {
     "name": "#%%\n"
    }
   }
  },
  {
   "cell_type": "code",
   "execution_count": 1136,
   "outputs": [],
   "source": [
    "# Select the columns to keep\n",
    "curr = curr[[\"Entity\", \"Currency\", \"AlphabeticCode\"]]"
   ],
   "metadata": {
    "collapsed": false,
    "pycharm": {
     "name": "#%%\n"
    }
   }
  },
  {
   "cell_type": "code",
   "execution_count": 1137,
   "outputs": [],
   "source": [
    "# Rename the columns\n",
    "curr = curr.rename(columns = {\"Entity\": \"Country\", \"AlphabeticCode\": \"Currency Code\"})"
   ],
   "metadata": {
    "collapsed": false,
    "pycharm": {
     "name": "#%%\n"
    }
   }
  },
  {
   "cell_type": "code",
   "execution_count": 1138,
   "outputs": [],
   "source": [
    "# Capitalise the first letter of each word in the Country and Currency columns, and remove any extra spaces in the country column. Remove any text after \"(\" in the country column.\n",
    "curr[\"Country\"] = curr[\"Country\"].str.title()\n",
    "curr[\"Country\"] = curr['Country'].str.partition(\"(\")[0]\n",
    "curr[\"Country\"] = curr[\"Country\"].str.strip()\n",
    "curr[\"Currency\"] = curr[\"Currency\"].str.title()"
   ],
   "metadata": {
    "collapsed": false,
    "pycharm": {
     "name": "#%%\n"
    }
   }
  },
  {
   "cell_type": "code",
   "execution_count": 1139,
   "outputs": [],
   "source": [
    "# Fill the null values with Non Applicable\n",
    "curr[\"Currency Code\"].fillna(\"Non Applicable\", inplace= True)"
   ],
   "metadata": {
    "collapsed": false,
    "pycharm": {
     "name": "#%%\n"
    }
   }
  },
  {
   "cell_type": "markdown",
   "source": [
    "#### Language dataset"
   ],
   "metadata": {
    "collapsed": false,
    "pycharm": {
     "name": "#%% md\n"
    }
   }
  },
  {
   "cell_type": "code",
   "execution_count": 1140,
   "outputs": [
    {
     "data": {
      "text/plain": "                              Country  \\\n0                         Afghanistan   \n1                             Albania   \n2                             Algeria   \n3                             Andorra   \n4                              Angola   \n5                 Antigua and Barbuda   \n6                           Argentina   \n7                             Armenia   \n8                           Australia   \n9                             Austria   \n10                         Azerbaijan   \n11                            Bahamas   \n12                            Bahrain   \n13                         Bangladesh   \n14                           Barbados   \n15                            Belarus   \n16                            Belgium   \n17                             Belize   \n18                              Benin   \n19                             Bhutan   \n20                            Bolivia   \n21             Bosnia and Herzegovina   \n22                           Botswana   \n23                             Brazil   \n24                             Brunei   \n25                           Bulgaria   \n26                       Burkina Faso   \n27                            Burundi   \n28                           Cambodia   \n29                           Cameroon   \n30                             Canada   \n31                         Cape Verde   \n32           Central African Republic   \n33                               Chad   \n34                              Chile   \n35                              China   \n36                           Colombia   \n37                            Comoros   \n38  Congo, Democratic Republic of the   \n39                 Congo, Republic of   \n40                         Costa Rica   \n41                      Cote d'Ivoire   \n42                            Croatia   \n43                               Cuba   \n44                             Cyprus   \n45                     Czech Republic   \n46                            Denmark   \n47                           Djibouti   \n48                           Dominica   \n49                 Dominican Republic   \n\n                                     Languages Spoken  \n0   Dari Persian, Pashtu (both official), other Tu...  \n1      Albanian (Tosk is the official dialect), Greek  \n2          Arabic (official), French, Berber dialects  \n3   CatalÃ¡n (official), French, Castilian, Portug...  \n4   Portuguese (official), Bantu and other African...  \n5                  English (official), local dialects  \n6   Spanish (official), English, Italian, German, ...  \n7                       Armenian 98%, Yezidi, Russian  \n8             English 79%, native and other languages  \n9   German (official nationwide); Slovene, Croatia...  \n10  Azerbaijani Turkic 89%, Russian 3%, Armenian 2...  \n11  English (official), Creole (among Haitian immi...  \n12                       Arabic, English, Farsi, Urdu  \n13                         Bangla (official), English  \n14                                            English  \n15        Belorussian (White Russian), Russian, other  \n16       Dutch 60%, French 40%, German (all official)  \n17  English (official), Spanish, Mayan, Garifuna (...  \n18   French (official), Fon, Yoruba, tribal languages  \n19  Dzongkha (official), Tibetan dialects (among B...  \n20            Spanish, Quechua, Aymara (all official)  \n21                         Bosnian, Croatian, Serbian  \n22  English 2% (official), Setswana 78%, Kalanga 8...  \n23    Portuguese (official), Spanish, English, French  \n24                 Malay (official), English, Chinese  \n25                Bulgarian 85%, Turkish 10%, Roma 4%  \n26  French (official); native African (Sudanic) la...  \n27             Kirundi and French (official), Swahili  \n28              Khmer 95% (official), French, English  \n29  French, English (both official); 24 major Afri...  \n30  English 59.3%, French 23.2% (both official); o...  \n31                                Portuguese, Criuolo  \n32  French (official), Sangho (lingua franca, nati...  \n33  French, Arabic (both official); Sara; more tha...  \n34                                            Spanish  \n35  Mandarin, Cantonese (official), Wu (Shanghaies...  \n36                                            Spanish  \n37  Arabic and French (both official), Shikomoro (...  \n38  French (official), Lingala, Kingwana, Kikongo,...  \n39  French (official), Lingala, Monokutuba, Kikong...  \n40                        Spanish (official), English  \n41  French (official) and African languages (Dioul...  \n42  Croatian 96% (official), other 4% (including I...  \n43                                            Spanish  \n44            Greek, Turkish (both official); English  \n45                                              Czech  \n46  Danish, Faroese, Greenlandic (Inuit dialect), ...  \n47    French and Arabic (both official), Somali, Afar  \n48               English (official) and French patois  \n49                                            Spanish  ",
      "text/html": "<div>\n<style scoped>\n    .dataframe tbody tr th:only-of-type {\n        vertical-align: middle;\n    }\n\n    .dataframe tbody tr th {\n        vertical-align: top;\n    }\n\n    .dataframe thead th {\n        text-align: right;\n    }\n</style>\n<table border=\"1\" class=\"dataframe\">\n  <thead>\n    <tr style=\"text-align: right;\">\n      <th></th>\n      <th>Country</th>\n      <th>Languages Spoken</th>\n    </tr>\n  </thead>\n  <tbody>\n    <tr>\n      <th>0</th>\n      <td>Afghanistan</td>\n      <td>Dari Persian, Pashtu (both official), other Tu...</td>\n    </tr>\n    <tr>\n      <th>1</th>\n      <td>Albania</td>\n      <td>Albanian (Tosk is the official dialect), Greek</td>\n    </tr>\n    <tr>\n      <th>2</th>\n      <td>Algeria</td>\n      <td>Arabic (official), French, Berber dialects</td>\n    </tr>\n    <tr>\n      <th>3</th>\n      <td>Andorra</td>\n      <td>CatalÃ¡n (official), French, Castilian, Portug...</td>\n    </tr>\n    <tr>\n      <th>4</th>\n      <td>Angola</td>\n      <td>Portuguese (official), Bantu and other African...</td>\n    </tr>\n    <tr>\n      <th>5</th>\n      <td>Antigua and Barbuda</td>\n      <td>English (official), local dialects</td>\n    </tr>\n    <tr>\n      <th>6</th>\n      <td>Argentina</td>\n      <td>Spanish (official), English, Italian, German, ...</td>\n    </tr>\n    <tr>\n      <th>7</th>\n      <td>Armenia</td>\n      <td>Armenian 98%, Yezidi, Russian</td>\n    </tr>\n    <tr>\n      <th>8</th>\n      <td>Australia</td>\n      <td>English 79%, native and other languages</td>\n    </tr>\n    <tr>\n      <th>9</th>\n      <td>Austria</td>\n      <td>German (official nationwide); Slovene, Croatia...</td>\n    </tr>\n    <tr>\n      <th>10</th>\n      <td>Azerbaijan</td>\n      <td>Azerbaijani Turkic 89%, Russian 3%, Armenian 2...</td>\n    </tr>\n    <tr>\n      <th>11</th>\n      <td>Bahamas</td>\n      <td>English (official), Creole (among Haitian immi...</td>\n    </tr>\n    <tr>\n      <th>12</th>\n      <td>Bahrain</td>\n      <td>Arabic, English, Farsi, Urdu</td>\n    </tr>\n    <tr>\n      <th>13</th>\n      <td>Bangladesh</td>\n      <td>Bangla (official), English</td>\n    </tr>\n    <tr>\n      <th>14</th>\n      <td>Barbados</td>\n      <td>English</td>\n    </tr>\n    <tr>\n      <th>15</th>\n      <td>Belarus</td>\n      <td>Belorussian (White Russian), Russian, other</td>\n    </tr>\n    <tr>\n      <th>16</th>\n      <td>Belgium</td>\n      <td>Dutch 60%, French 40%, German (all official)</td>\n    </tr>\n    <tr>\n      <th>17</th>\n      <td>Belize</td>\n      <td>English (official), Spanish, Mayan, Garifuna (...</td>\n    </tr>\n    <tr>\n      <th>18</th>\n      <td>Benin</td>\n      <td>French (official), Fon, Yoruba, tribal languages</td>\n    </tr>\n    <tr>\n      <th>19</th>\n      <td>Bhutan</td>\n      <td>Dzongkha (official), Tibetan dialects (among B...</td>\n    </tr>\n    <tr>\n      <th>20</th>\n      <td>Bolivia</td>\n      <td>Spanish, Quechua, Aymara (all official)</td>\n    </tr>\n    <tr>\n      <th>21</th>\n      <td>Bosnia and Herzegovina</td>\n      <td>Bosnian, Croatian, Serbian</td>\n    </tr>\n    <tr>\n      <th>22</th>\n      <td>Botswana</td>\n      <td>English 2% (official), Setswana 78%, Kalanga 8...</td>\n    </tr>\n    <tr>\n      <th>23</th>\n      <td>Brazil</td>\n      <td>Portuguese (official), Spanish, English, French</td>\n    </tr>\n    <tr>\n      <th>24</th>\n      <td>Brunei</td>\n      <td>Malay (official), English, Chinese</td>\n    </tr>\n    <tr>\n      <th>25</th>\n      <td>Bulgaria</td>\n      <td>Bulgarian 85%, Turkish 10%, Roma 4%</td>\n    </tr>\n    <tr>\n      <th>26</th>\n      <td>Burkina Faso</td>\n      <td>French (official); native African (Sudanic) la...</td>\n    </tr>\n    <tr>\n      <th>27</th>\n      <td>Burundi</td>\n      <td>Kirundi and French (official), Swahili</td>\n    </tr>\n    <tr>\n      <th>28</th>\n      <td>Cambodia</td>\n      <td>Khmer 95% (official), French, English</td>\n    </tr>\n    <tr>\n      <th>29</th>\n      <td>Cameroon</td>\n      <td>French, English (both official); 24 major Afri...</td>\n    </tr>\n    <tr>\n      <th>30</th>\n      <td>Canada</td>\n      <td>English 59.3%, French 23.2% (both official); o...</td>\n    </tr>\n    <tr>\n      <th>31</th>\n      <td>Cape Verde</td>\n      <td>Portuguese, Criuolo</td>\n    </tr>\n    <tr>\n      <th>32</th>\n      <td>Central African Republic</td>\n      <td>French (official), Sangho (lingua franca, nati...</td>\n    </tr>\n    <tr>\n      <th>33</th>\n      <td>Chad</td>\n      <td>French, Arabic (both official); Sara; more tha...</td>\n    </tr>\n    <tr>\n      <th>34</th>\n      <td>Chile</td>\n      <td>Spanish</td>\n    </tr>\n    <tr>\n      <th>35</th>\n      <td>China</td>\n      <td>Mandarin, Cantonese (official), Wu (Shanghaies...</td>\n    </tr>\n    <tr>\n      <th>36</th>\n      <td>Colombia</td>\n      <td>Spanish</td>\n    </tr>\n    <tr>\n      <th>37</th>\n      <td>Comoros</td>\n      <td>Arabic and French (both official), Shikomoro (...</td>\n    </tr>\n    <tr>\n      <th>38</th>\n      <td>Congo, Democratic Republic of the</td>\n      <td>French (official), Lingala, Kingwana, Kikongo,...</td>\n    </tr>\n    <tr>\n      <th>39</th>\n      <td>Congo, Republic of</td>\n      <td>French (official), Lingala, Monokutuba, Kikong...</td>\n    </tr>\n    <tr>\n      <th>40</th>\n      <td>Costa Rica</td>\n      <td>Spanish (official), English</td>\n    </tr>\n    <tr>\n      <th>41</th>\n      <td>Cote d'Ivoire</td>\n      <td>French (official) and African languages (Dioul...</td>\n    </tr>\n    <tr>\n      <th>42</th>\n      <td>Croatia</td>\n      <td>Croatian 96% (official), other 4% (including I...</td>\n    </tr>\n    <tr>\n      <th>43</th>\n      <td>Cuba</td>\n      <td>Spanish</td>\n    </tr>\n    <tr>\n      <th>44</th>\n      <td>Cyprus</td>\n      <td>Greek, Turkish (both official); English</td>\n    </tr>\n    <tr>\n      <th>45</th>\n      <td>Czech Republic</td>\n      <td>Czech</td>\n    </tr>\n    <tr>\n      <th>46</th>\n      <td>Denmark</td>\n      <td>Danish, Faroese, Greenlandic (Inuit dialect), ...</td>\n    </tr>\n    <tr>\n      <th>47</th>\n      <td>Djibouti</td>\n      <td>French and Arabic (both official), Somali, Afar</td>\n    </tr>\n    <tr>\n      <th>48</th>\n      <td>Dominica</td>\n      <td>English (official) and French patois</td>\n    </tr>\n    <tr>\n      <th>49</th>\n      <td>Dominican Republic</td>\n      <td>Spanish</td>\n    </tr>\n  </tbody>\n</table>\n</div>"
     },
     "execution_count": 1140,
     "metadata": {},
     "output_type": "execute_result"
    }
   ],
   "source": [
    "lang.head(50)"
   ],
   "metadata": {
    "collapsed": false,
    "pycharm": {
     "name": "#%%\n"
    }
   }
  },
  {
   "cell_type": "code",
   "execution_count": 1141,
   "outputs": [
    {
     "name": "stdout",
     "output_type": "stream",
     "text": [
      "<class 'pandas.core.frame.DataFrame'>\n",
      "RangeIndex: 198 entries, 0 to 197\n",
      "Data columns (total 2 columns):\n",
      " #   Column            Non-Null Count  Dtype \n",
      "---  ------            --------------  ----- \n",
      " 0   Country           198 non-null    object\n",
      " 1   Languages Spoken  198 non-null    object\n",
      "dtypes: object(2)\n",
      "memory usage: 3.2+ KB\n"
     ]
    }
   ],
   "source": [
    "lang.info()"
   ],
   "metadata": {
    "collapsed": false,
    "pycharm": {
     "name": "#%%\n"
    }
   }
  },
  {
   "cell_type": "code",
   "execution_count": 1142,
   "outputs": [
    {
     "data": {
      "text/plain": "Country             0\nLanguages Spoken    0\ndtype: int64"
     },
     "execution_count": 1142,
     "metadata": {},
     "output_type": "execute_result"
    }
   ],
   "source": [
    "lang.isna().sum()"
   ],
   "metadata": {
    "collapsed": false,
    "pycharm": {
     "name": "#%%\n"
    }
   }
  },
  {
   "cell_type": "markdown",
   "source": [
    "Given the exploration done in the lang dataset, we can conclude that for the next step in the cleaning and transformations, we wish to keep all the columns, but rename them. Moreover, to make sure that the dataset is homogeneous we will capitalize the first letter of each word in the \"Country\" and \"Language Spoken\" column. We can also see that there is no null values, hence no handling of missing values is needed in this case. In addition, we can see that the languages spoken includes more than the official languages, in the cleaning we will strive to only keep the official languages."
   ],
   "metadata": {
    "collapsed": false,
    "pycharm": {
     "name": "#%% md\n"
    }
   }
  },
  {
   "cell_type": "code",
   "execution_count": 1143,
   "outputs": [],
   "source": [
    "# Rename the columns\n",
    "lang = lang.rename(columns = {\"Languages Spoken\": \"Official Language\"})"
   ],
   "metadata": {
    "collapsed": false,
    "pycharm": {
     "name": "#%%\n"
    }
   }
  },
  {
   "cell_type": "code",
   "execution_count": 1144,
   "outputs": [],
   "source": [
    "def language_cleaning(lan: str):\n",
    "    \"\"\" This function is to clean the official languages, the rule is\n",
    "    - If the official contains '(official)' in the text, adopt languages that come before '(official)\n",
    "    - Otherwise take only first language\"\"\"\n",
    "\n",
    "    # replace 'and' to comma\n",
    "    # delete numbers and percentage\n",
    "    lan = lan.title()\n",
    "    lan = lan.replace(' And ', ', ')\n",
    "    lan = re.sub(\"(\\s[\\d.]+%)\", \"\", lan)\n",
    "\n",
    "    # first if the text contains 'official', we are going to keep all the official\n",
    "    if 'Official' in lan:\n",
    "        lan = lan.partition(\"(\")[0].strip()\n",
    "\n",
    "    # otherwise, we are going to keep first one as a main language spoken\n",
    "    else:\n",
    "        lan = lan.partition(\",\")[0].strip()\n",
    "    return lan"
   ],
   "metadata": {
    "collapsed": false,
    "pycharm": {
     "name": "#%%\n"
    }
   }
  },
  {
   "cell_type": "code",
   "execution_count": 1145,
   "outputs": [],
   "source": [
    "# apply language cleaning function to the 'languages Spoken' column\n",
    "lang['Official Language'] = lang['Official Language'].apply(language_cleaning)"
   ],
   "metadata": {
    "collapsed": false,
    "pycharm": {
     "name": "#%%\n"
    }
   }
  },
  {
   "cell_type": "code",
   "execution_count": 1146,
   "outputs": [],
   "source": [
    "# Capitalise the first letter of each word in the Country and Official Language columns\n",
    "lang[\"Country\"] = lang[\"Country\"].str.title()\n",
    "lang[\"Country\"] = lang[\"Country\"].str.strip()"
   ],
   "metadata": {
    "collapsed": false,
    "pycharm": {
     "name": "#%%\n"
    }
   }
  },
  {
   "cell_type": "code",
   "execution_count": 1147,
   "outputs": [
    {
     "data": {
      "text/plain": "                             Country                  Official Language\n0                        Afghanistan               Dari Persian, Pashtu\n1                            Albania                           Albanian\n2                            Algeria                             Arabic\n3                            Andorra                           Catalã¡N\n4                             Angola                         Portuguese\n..                               ...                                ...\n193                          Vietnam                         Vietnamese\n194  Western Sahara (Proposed State)  Hassaniya Arabic, Moroccan Arabic\n195                            Yemen                             Arabic\n196                           Zambia                            English\n197                         Zimbabwe                            English\n\n[198 rows x 2 columns]",
      "text/html": "<div>\n<style scoped>\n    .dataframe tbody tr th:only-of-type {\n        vertical-align: middle;\n    }\n\n    .dataframe tbody tr th {\n        vertical-align: top;\n    }\n\n    .dataframe thead th {\n        text-align: right;\n    }\n</style>\n<table border=\"1\" class=\"dataframe\">\n  <thead>\n    <tr style=\"text-align: right;\">\n      <th></th>\n      <th>Country</th>\n      <th>Official Language</th>\n    </tr>\n  </thead>\n  <tbody>\n    <tr>\n      <th>0</th>\n      <td>Afghanistan</td>\n      <td>Dari Persian, Pashtu</td>\n    </tr>\n    <tr>\n      <th>1</th>\n      <td>Albania</td>\n      <td>Albanian</td>\n    </tr>\n    <tr>\n      <th>2</th>\n      <td>Algeria</td>\n      <td>Arabic</td>\n    </tr>\n    <tr>\n      <th>3</th>\n      <td>Andorra</td>\n      <td>Catalã¡N</td>\n    </tr>\n    <tr>\n      <th>4</th>\n      <td>Angola</td>\n      <td>Portuguese</td>\n    </tr>\n    <tr>\n      <th>...</th>\n      <td>...</td>\n      <td>...</td>\n    </tr>\n    <tr>\n      <th>193</th>\n      <td>Vietnam</td>\n      <td>Vietnamese</td>\n    </tr>\n    <tr>\n      <th>194</th>\n      <td>Western Sahara (Proposed State)</td>\n      <td>Hassaniya Arabic, Moroccan Arabic</td>\n    </tr>\n    <tr>\n      <th>195</th>\n      <td>Yemen</td>\n      <td>Arabic</td>\n    </tr>\n    <tr>\n      <th>196</th>\n      <td>Zambia</td>\n      <td>English</td>\n    </tr>\n    <tr>\n      <th>197</th>\n      <td>Zimbabwe</td>\n      <td>English</td>\n    </tr>\n  </tbody>\n</table>\n<p>198 rows × 2 columns</p>\n</div>"
     },
     "execution_count": 1147,
     "metadata": {},
     "output_type": "execute_result"
    }
   ],
   "source": [
    "lang"
   ],
   "metadata": {
    "collapsed": false,
    "pycharm": {
     "name": "#%%\n"
    }
   }
  },
  {
   "cell_type": "markdown",
   "source": [
    "#### Religion dataset"
   ],
   "metadata": {
    "collapsed": false,
    "pycharm": {
     "name": "#%% md\n"
    }
   }
  },
  {
   "cell_type": "code",
   "execution_count": 1148,
   "outputs": [
    {
     "data": {
      "text/plain": "  Country or Area  Year   Area         Sex     Religion  \\\n0         Albania  2011  Total  Both Sexes        Total   \n1         Albania  2011  Total  Both Sexes      Atheist   \n2         Albania  2011  Total  Both Sexes     Catholic   \n3         Albania  2011  Total  Both Sexes  Evangelical   \n4         Albania  2011  Total  Both Sexes       Muslim   \n\n                              Record Type             Reliability  \\\n0  Census - de jure - complete tabulation  Final figure, complete   \n1  Census - de jure - complete tabulation  Final figure, complete   \n2  Census - de jure - complete tabulation  Final figure, complete   \n3  Census - de jure - complete tabulation  Final figure, complete   \n4  Census - de jure - complete tabulation  Final figure, complete   \n\n   Source Year      Value Value Footnotes  \n0       2013.0  2800138.0             NaN  \n1       2013.0    69995.0             NaN  \n2       2013.0   280921.0             NaN  \n3       2013.0     3797.0             NaN  \n4       2013.0  1587608.0             NaN  ",
      "text/html": "<div>\n<style scoped>\n    .dataframe tbody tr th:only-of-type {\n        vertical-align: middle;\n    }\n\n    .dataframe tbody tr th {\n        vertical-align: top;\n    }\n\n    .dataframe thead th {\n        text-align: right;\n    }\n</style>\n<table border=\"1\" class=\"dataframe\">\n  <thead>\n    <tr style=\"text-align: right;\">\n      <th></th>\n      <th>Country or Area</th>\n      <th>Year</th>\n      <th>Area</th>\n      <th>Sex</th>\n      <th>Religion</th>\n      <th>Record Type</th>\n      <th>Reliability</th>\n      <th>Source Year</th>\n      <th>Value</th>\n      <th>Value Footnotes</th>\n    </tr>\n  </thead>\n  <tbody>\n    <tr>\n      <th>0</th>\n      <td>Albania</td>\n      <td>2011</td>\n      <td>Total</td>\n      <td>Both Sexes</td>\n      <td>Total</td>\n      <td>Census - de jure - complete tabulation</td>\n      <td>Final figure, complete</td>\n      <td>2013.0</td>\n      <td>2800138.0</td>\n      <td>NaN</td>\n    </tr>\n    <tr>\n      <th>1</th>\n      <td>Albania</td>\n      <td>2011</td>\n      <td>Total</td>\n      <td>Both Sexes</td>\n      <td>Atheist</td>\n      <td>Census - de jure - complete tabulation</td>\n      <td>Final figure, complete</td>\n      <td>2013.0</td>\n      <td>69995.0</td>\n      <td>NaN</td>\n    </tr>\n    <tr>\n      <th>2</th>\n      <td>Albania</td>\n      <td>2011</td>\n      <td>Total</td>\n      <td>Both Sexes</td>\n      <td>Catholic</td>\n      <td>Census - de jure - complete tabulation</td>\n      <td>Final figure, complete</td>\n      <td>2013.0</td>\n      <td>280921.0</td>\n      <td>NaN</td>\n    </tr>\n    <tr>\n      <th>3</th>\n      <td>Albania</td>\n      <td>2011</td>\n      <td>Total</td>\n      <td>Both Sexes</td>\n      <td>Evangelical</td>\n      <td>Census - de jure - complete tabulation</td>\n      <td>Final figure, complete</td>\n      <td>2013.0</td>\n      <td>3797.0</td>\n      <td>NaN</td>\n    </tr>\n    <tr>\n      <th>4</th>\n      <td>Albania</td>\n      <td>2011</td>\n      <td>Total</td>\n      <td>Both Sexes</td>\n      <td>Muslim</td>\n      <td>Census - de jure - complete tabulation</td>\n      <td>Final figure, complete</td>\n      <td>2013.0</td>\n      <td>1587608.0</td>\n      <td>NaN</td>\n    </tr>\n  </tbody>\n</table>\n</div>"
     },
     "execution_count": 1148,
     "metadata": {},
     "output_type": "execute_result"
    }
   ],
   "source": [
    "rel.head()"
   ],
   "metadata": {
    "collapsed": false,
    "pycharm": {
     "name": "#%%\n"
    }
   }
  },
  {
   "cell_type": "code",
   "execution_count": 1149,
   "outputs": [
    {
     "name": "stdout",
     "output_type": "stream",
     "text": [
      "<class 'pandas.core.frame.DataFrame'>\n",
      "RangeIndex: 3416 entries, 0 to 3415\n",
      "Data columns (total 10 columns):\n",
      " #   Column           Non-Null Count  Dtype  \n",
      "---  ------           --------------  -----  \n",
      " 0   Country or Area  3416 non-null   object \n",
      " 1   Year             3416 non-null   object \n",
      " 2   Area             3333 non-null   object \n",
      " 3   Sex              3332 non-null   object \n",
      " 4   Religion         3332 non-null   object \n",
      " 5   Record Type      3332 non-null   object \n",
      " 6   Reliability      3332 non-null   object \n",
      " 7   Source Year      3332 non-null   float64\n",
      " 8   Value            3332 non-null   float64\n",
      " 9   Value Footnotes  1505 non-null   object \n",
      "dtypes: float64(2), object(8)\n",
      "memory usage: 267.0+ KB\n"
     ]
    }
   ],
   "source": [
    "rel.info()"
   ],
   "metadata": {
    "collapsed": false,
    "pycharm": {
     "name": "#%%\n"
    }
   }
  },
  {
   "cell_type": "code",
   "execution_count": 1150,
   "outputs": [
    {
     "data": {
      "text/plain": "Country or Area       0\nYear                  0\nArea                 83\nSex                  84\nReligion             84\nRecord Type          84\nReliability          84\nSource Year          84\nValue                84\nValue Footnotes    1911\ndtype: int64"
     },
     "execution_count": 1150,
     "metadata": {},
     "output_type": "execute_result"
    }
   ],
   "source": [
    "rel.isna().sum()"
   ],
   "metadata": {
    "collapsed": false,
    "pycharm": {
     "name": "#%%\n"
    }
   }
  },
  {
   "cell_type": "code",
   "execution_count": 1151,
   "outputs": [
    {
     "data": {
      "text/plain": "     Country or Area                                               Year Area  \\\n3332   footnoteSeqID                                           Footnote  NaN   \n3333               1  Because of rounding, totals are not in all cas...  NaN   \n3334               2  These data have been randomly rounded to prote...  NaN   \n3335               3  Including population in off-shore, migratory a...  NaN   \n3336               4  Category 'No religion' includes Agnoticism, At...  NaN   \n...              ...                                                ...  ...   \n3411              79                 Data of mini-census taken in 2017.  NaN   \n3412              80                 Data refer to resident population.  NaN   \n3413              81         Excluding population enumerated in hotels.  NaN   \n3414              82  Other includes Orthodox, Bahai, Other Christia...  NaN   \n3415              83  Excluding Channel Islands (Guernsey and Jersey...  NaN   \n\n      Sex Religion Record Type Reliability  Source Year  Value Value Footnotes  \n3332  NaN      NaN         NaN         NaN          NaN    NaN             NaN  \n3333  NaN      NaN         NaN         NaN          NaN    NaN             NaN  \n3334  NaN      NaN         NaN         NaN          NaN    NaN             NaN  \n3335  NaN      NaN         NaN         NaN          NaN    NaN             NaN  \n3336  NaN      NaN         NaN         NaN          NaN    NaN             NaN  \n...   ...      ...         ...         ...          ...    ...             ...  \n3411  NaN      NaN         NaN         NaN          NaN    NaN             NaN  \n3412  NaN      NaN         NaN         NaN          NaN    NaN             NaN  \n3413  NaN      NaN         NaN         NaN          NaN    NaN             NaN  \n3414  NaN      NaN         NaN         NaN          NaN    NaN             NaN  \n3415  NaN      NaN         NaN         NaN          NaN    NaN             NaN  \n\n[84 rows x 10 columns]",
      "text/html": "<div>\n<style scoped>\n    .dataframe tbody tr th:only-of-type {\n        vertical-align: middle;\n    }\n\n    .dataframe tbody tr th {\n        vertical-align: top;\n    }\n\n    .dataframe thead th {\n        text-align: right;\n    }\n</style>\n<table border=\"1\" class=\"dataframe\">\n  <thead>\n    <tr style=\"text-align: right;\">\n      <th></th>\n      <th>Country or Area</th>\n      <th>Year</th>\n      <th>Area</th>\n      <th>Sex</th>\n      <th>Religion</th>\n      <th>Record Type</th>\n      <th>Reliability</th>\n      <th>Source Year</th>\n      <th>Value</th>\n      <th>Value Footnotes</th>\n    </tr>\n  </thead>\n  <tbody>\n    <tr>\n      <th>3332</th>\n      <td>footnoteSeqID</td>\n      <td>Footnote</td>\n      <td>NaN</td>\n      <td>NaN</td>\n      <td>NaN</td>\n      <td>NaN</td>\n      <td>NaN</td>\n      <td>NaN</td>\n      <td>NaN</td>\n      <td>NaN</td>\n    </tr>\n    <tr>\n      <th>3333</th>\n      <td>1</td>\n      <td>Because of rounding, totals are not in all cas...</td>\n      <td>NaN</td>\n      <td>NaN</td>\n      <td>NaN</td>\n      <td>NaN</td>\n      <td>NaN</td>\n      <td>NaN</td>\n      <td>NaN</td>\n      <td>NaN</td>\n    </tr>\n    <tr>\n      <th>3334</th>\n      <td>2</td>\n      <td>These data have been randomly rounded to prote...</td>\n      <td>NaN</td>\n      <td>NaN</td>\n      <td>NaN</td>\n      <td>NaN</td>\n      <td>NaN</td>\n      <td>NaN</td>\n      <td>NaN</td>\n      <td>NaN</td>\n    </tr>\n    <tr>\n      <th>3335</th>\n      <td>3</td>\n      <td>Including population in off-shore, migratory a...</td>\n      <td>NaN</td>\n      <td>NaN</td>\n      <td>NaN</td>\n      <td>NaN</td>\n      <td>NaN</td>\n      <td>NaN</td>\n      <td>NaN</td>\n      <td>NaN</td>\n    </tr>\n    <tr>\n      <th>3336</th>\n      <td>4</td>\n      <td>Category 'No religion' includes Agnoticism, At...</td>\n      <td>NaN</td>\n      <td>NaN</td>\n      <td>NaN</td>\n      <td>NaN</td>\n      <td>NaN</td>\n      <td>NaN</td>\n      <td>NaN</td>\n      <td>NaN</td>\n    </tr>\n    <tr>\n      <th>...</th>\n      <td>...</td>\n      <td>...</td>\n      <td>...</td>\n      <td>...</td>\n      <td>...</td>\n      <td>...</td>\n      <td>...</td>\n      <td>...</td>\n      <td>...</td>\n      <td>...</td>\n    </tr>\n    <tr>\n      <th>3411</th>\n      <td>79</td>\n      <td>Data of mini-census taken in 2017.</td>\n      <td>NaN</td>\n      <td>NaN</td>\n      <td>NaN</td>\n      <td>NaN</td>\n      <td>NaN</td>\n      <td>NaN</td>\n      <td>NaN</td>\n      <td>NaN</td>\n    </tr>\n    <tr>\n      <th>3412</th>\n      <td>80</td>\n      <td>Data refer to resident population.</td>\n      <td>NaN</td>\n      <td>NaN</td>\n      <td>NaN</td>\n      <td>NaN</td>\n      <td>NaN</td>\n      <td>NaN</td>\n      <td>NaN</td>\n      <td>NaN</td>\n    </tr>\n    <tr>\n      <th>3413</th>\n      <td>81</td>\n      <td>Excluding population enumerated in hotels.</td>\n      <td>NaN</td>\n      <td>NaN</td>\n      <td>NaN</td>\n      <td>NaN</td>\n      <td>NaN</td>\n      <td>NaN</td>\n      <td>NaN</td>\n      <td>NaN</td>\n    </tr>\n    <tr>\n      <th>3414</th>\n      <td>82</td>\n      <td>Other includes Orthodox, Bahai, Other Christia...</td>\n      <td>NaN</td>\n      <td>NaN</td>\n      <td>NaN</td>\n      <td>NaN</td>\n      <td>NaN</td>\n      <td>NaN</td>\n      <td>NaN</td>\n      <td>NaN</td>\n    </tr>\n    <tr>\n      <th>3415</th>\n      <td>83</td>\n      <td>Excluding Channel Islands (Guernsey and Jersey...</td>\n      <td>NaN</td>\n      <td>NaN</td>\n      <td>NaN</td>\n      <td>NaN</td>\n      <td>NaN</td>\n      <td>NaN</td>\n      <td>NaN</td>\n      <td>NaN</td>\n    </tr>\n  </tbody>\n</table>\n<p>84 rows × 10 columns</p>\n</div>"
     },
     "execution_count": 1151,
     "metadata": {},
     "output_type": "execute_result"
    }
   ],
   "source": [
    "rel[rel[[\"Religion\"]].isnull().any(axis=1)]"
   ],
   "metadata": {
    "collapsed": false,
    "pycharm": {
     "name": "#%%\n"
    }
   }
  },
  {
   "cell_type": "code",
   "execution_count": 1152,
   "outputs": [
    {
     "data": {
      "text/plain": "     Country or Area                                               Year Area  \\\n3332   footnoteSeqID                                           Footnote  NaN   \n3333               1  Because of rounding, totals are not in all cas...  NaN   \n3334               2  These data have been randomly rounded to prote...  NaN   \n3335               3  Including population in off-shore, migratory a...  NaN   \n3336               4  Category 'No religion' includes Agnoticism, At...  NaN   \n...              ...                                                ...  ...   \n3411              79                 Data of mini-census taken in 2017.  NaN   \n3412              80                 Data refer to resident population.  NaN   \n3413              81         Excluding population enumerated in hotels.  NaN   \n3414              82  Other includes Orthodox, Bahai, Other Christia...  NaN   \n3415              83  Excluding Channel Islands (Guernsey and Jersey...  NaN   \n\n      Sex Religion Record Type Reliability  Source Year  Value Value Footnotes  \n3332  NaN      NaN         NaN         NaN          NaN    NaN             NaN  \n3333  NaN      NaN         NaN         NaN          NaN    NaN             NaN  \n3334  NaN      NaN         NaN         NaN          NaN    NaN             NaN  \n3335  NaN      NaN         NaN         NaN          NaN    NaN             NaN  \n3336  NaN      NaN         NaN         NaN          NaN    NaN             NaN  \n...   ...      ...         ...         ...          ...    ...             ...  \n3411  NaN      NaN         NaN         NaN          NaN    NaN             NaN  \n3412  NaN      NaN         NaN         NaN          NaN    NaN             NaN  \n3413  NaN      NaN         NaN         NaN          NaN    NaN             NaN  \n3414  NaN      NaN         NaN         NaN          NaN    NaN             NaN  \n3415  NaN      NaN         NaN         NaN          NaN    NaN             NaN  \n\n[83 rows x 10 columns]",
      "text/html": "<div>\n<style scoped>\n    .dataframe tbody tr th:only-of-type {\n        vertical-align: middle;\n    }\n\n    .dataframe tbody tr th {\n        vertical-align: top;\n    }\n\n    .dataframe thead th {\n        text-align: right;\n    }\n</style>\n<table border=\"1\" class=\"dataframe\">\n  <thead>\n    <tr style=\"text-align: right;\">\n      <th></th>\n      <th>Country or Area</th>\n      <th>Year</th>\n      <th>Area</th>\n      <th>Sex</th>\n      <th>Religion</th>\n      <th>Record Type</th>\n      <th>Reliability</th>\n      <th>Source Year</th>\n      <th>Value</th>\n      <th>Value Footnotes</th>\n    </tr>\n  </thead>\n  <tbody>\n    <tr>\n      <th>3332</th>\n      <td>footnoteSeqID</td>\n      <td>Footnote</td>\n      <td>NaN</td>\n      <td>NaN</td>\n      <td>NaN</td>\n      <td>NaN</td>\n      <td>NaN</td>\n      <td>NaN</td>\n      <td>NaN</td>\n      <td>NaN</td>\n    </tr>\n    <tr>\n      <th>3333</th>\n      <td>1</td>\n      <td>Because of rounding, totals are not in all cas...</td>\n      <td>NaN</td>\n      <td>NaN</td>\n      <td>NaN</td>\n      <td>NaN</td>\n      <td>NaN</td>\n      <td>NaN</td>\n      <td>NaN</td>\n      <td>NaN</td>\n    </tr>\n    <tr>\n      <th>3334</th>\n      <td>2</td>\n      <td>These data have been randomly rounded to prote...</td>\n      <td>NaN</td>\n      <td>NaN</td>\n      <td>NaN</td>\n      <td>NaN</td>\n      <td>NaN</td>\n      <td>NaN</td>\n      <td>NaN</td>\n      <td>NaN</td>\n    </tr>\n    <tr>\n      <th>3335</th>\n      <td>3</td>\n      <td>Including population in off-shore, migratory a...</td>\n      <td>NaN</td>\n      <td>NaN</td>\n      <td>NaN</td>\n      <td>NaN</td>\n      <td>NaN</td>\n      <td>NaN</td>\n      <td>NaN</td>\n      <td>NaN</td>\n    </tr>\n    <tr>\n      <th>3336</th>\n      <td>4</td>\n      <td>Category 'No religion' includes Agnoticism, At...</td>\n      <td>NaN</td>\n      <td>NaN</td>\n      <td>NaN</td>\n      <td>NaN</td>\n      <td>NaN</td>\n      <td>NaN</td>\n      <td>NaN</td>\n      <td>NaN</td>\n    </tr>\n    <tr>\n      <th>...</th>\n      <td>...</td>\n      <td>...</td>\n      <td>...</td>\n      <td>...</td>\n      <td>...</td>\n      <td>...</td>\n      <td>...</td>\n      <td>...</td>\n      <td>...</td>\n      <td>...</td>\n    </tr>\n    <tr>\n      <th>3411</th>\n      <td>79</td>\n      <td>Data of mini-census taken in 2017.</td>\n      <td>NaN</td>\n      <td>NaN</td>\n      <td>NaN</td>\n      <td>NaN</td>\n      <td>NaN</td>\n      <td>NaN</td>\n      <td>NaN</td>\n      <td>NaN</td>\n    </tr>\n    <tr>\n      <th>3412</th>\n      <td>80</td>\n      <td>Data refer to resident population.</td>\n      <td>NaN</td>\n      <td>NaN</td>\n      <td>NaN</td>\n      <td>NaN</td>\n      <td>NaN</td>\n      <td>NaN</td>\n      <td>NaN</td>\n      <td>NaN</td>\n    </tr>\n    <tr>\n      <th>3413</th>\n      <td>81</td>\n      <td>Excluding population enumerated in hotels.</td>\n      <td>NaN</td>\n      <td>NaN</td>\n      <td>NaN</td>\n      <td>NaN</td>\n      <td>NaN</td>\n      <td>NaN</td>\n      <td>NaN</td>\n      <td>NaN</td>\n    </tr>\n    <tr>\n      <th>3414</th>\n      <td>82</td>\n      <td>Other includes Orthodox, Bahai, Other Christia...</td>\n      <td>NaN</td>\n      <td>NaN</td>\n      <td>NaN</td>\n      <td>NaN</td>\n      <td>NaN</td>\n      <td>NaN</td>\n      <td>NaN</td>\n      <td>NaN</td>\n    </tr>\n    <tr>\n      <th>3415</th>\n      <td>83</td>\n      <td>Excluding Channel Islands (Guernsey and Jersey...</td>\n      <td>NaN</td>\n      <td>NaN</td>\n      <td>NaN</td>\n      <td>NaN</td>\n      <td>NaN</td>\n      <td>NaN</td>\n      <td>NaN</td>\n      <td>NaN</td>\n    </tr>\n  </tbody>\n</table>\n<p>83 rows × 10 columns</p>\n</div>"
     },
     "execution_count": 1152,
     "metadata": {},
     "output_type": "execute_result"
    }
   ],
   "source": [
    "rel[rel[[\"Area\"]].isnull().any(axis=1)]"
   ],
   "metadata": {
    "collapsed": false,
    "pycharm": {
     "name": "#%%\n"
    }
   }
  },
  {
   "cell_type": "code",
   "execution_count": 1153,
   "outputs": [
    {
     "data": {
      "text/plain": "     Country or Area                                               Year Area  \\\n3332   footnoteSeqID                                           Footnote  NaN   \n3333               1  Because of rounding, totals are not in all cas...  NaN   \n3334               2  These data have been randomly rounded to prote...  NaN   \n3335               3  Including population in off-shore, migratory a...  NaN   \n3336               4  Category 'No religion' includes Agnoticism, At...  NaN   \n...              ...                                                ...  ...   \n3411              79                 Data of mini-census taken in 2017.  NaN   \n3412              80                 Data refer to resident population.  NaN   \n3413              81         Excluding population enumerated in hotels.  NaN   \n3414              82  Other includes Orthodox, Bahai, Other Christia...  NaN   \n3415              83  Excluding Channel Islands (Guernsey and Jersey...  NaN   \n\n      Sex Religion Record Type Reliability  Source Year  Value Value Footnotes  \n3332  NaN      NaN         NaN         NaN          NaN    NaN             NaN  \n3333  NaN      NaN         NaN         NaN          NaN    NaN             NaN  \n3334  NaN      NaN         NaN         NaN          NaN    NaN             NaN  \n3335  NaN      NaN         NaN         NaN          NaN    NaN             NaN  \n3336  NaN      NaN         NaN         NaN          NaN    NaN             NaN  \n...   ...      ...         ...         ...          ...    ...             ...  \n3411  NaN      NaN         NaN         NaN          NaN    NaN             NaN  \n3412  NaN      NaN         NaN         NaN          NaN    NaN             NaN  \n3413  NaN      NaN         NaN         NaN          NaN    NaN             NaN  \n3414  NaN      NaN         NaN         NaN          NaN    NaN             NaN  \n3415  NaN      NaN         NaN         NaN          NaN    NaN             NaN  \n\n[84 rows x 10 columns]",
      "text/html": "<div>\n<style scoped>\n    .dataframe tbody tr th:only-of-type {\n        vertical-align: middle;\n    }\n\n    .dataframe tbody tr th {\n        vertical-align: top;\n    }\n\n    .dataframe thead th {\n        text-align: right;\n    }\n</style>\n<table border=\"1\" class=\"dataframe\">\n  <thead>\n    <tr style=\"text-align: right;\">\n      <th></th>\n      <th>Country or Area</th>\n      <th>Year</th>\n      <th>Area</th>\n      <th>Sex</th>\n      <th>Religion</th>\n      <th>Record Type</th>\n      <th>Reliability</th>\n      <th>Source Year</th>\n      <th>Value</th>\n      <th>Value Footnotes</th>\n    </tr>\n  </thead>\n  <tbody>\n    <tr>\n      <th>3332</th>\n      <td>footnoteSeqID</td>\n      <td>Footnote</td>\n      <td>NaN</td>\n      <td>NaN</td>\n      <td>NaN</td>\n      <td>NaN</td>\n      <td>NaN</td>\n      <td>NaN</td>\n      <td>NaN</td>\n      <td>NaN</td>\n    </tr>\n    <tr>\n      <th>3333</th>\n      <td>1</td>\n      <td>Because of rounding, totals are not in all cas...</td>\n      <td>NaN</td>\n      <td>NaN</td>\n      <td>NaN</td>\n      <td>NaN</td>\n      <td>NaN</td>\n      <td>NaN</td>\n      <td>NaN</td>\n      <td>NaN</td>\n    </tr>\n    <tr>\n      <th>3334</th>\n      <td>2</td>\n      <td>These data have been randomly rounded to prote...</td>\n      <td>NaN</td>\n      <td>NaN</td>\n      <td>NaN</td>\n      <td>NaN</td>\n      <td>NaN</td>\n      <td>NaN</td>\n      <td>NaN</td>\n      <td>NaN</td>\n    </tr>\n    <tr>\n      <th>3335</th>\n      <td>3</td>\n      <td>Including population in off-shore, migratory a...</td>\n      <td>NaN</td>\n      <td>NaN</td>\n      <td>NaN</td>\n      <td>NaN</td>\n      <td>NaN</td>\n      <td>NaN</td>\n      <td>NaN</td>\n      <td>NaN</td>\n    </tr>\n    <tr>\n      <th>3336</th>\n      <td>4</td>\n      <td>Category 'No religion' includes Agnoticism, At...</td>\n      <td>NaN</td>\n      <td>NaN</td>\n      <td>NaN</td>\n      <td>NaN</td>\n      <td>NaN</td>\n      <td>NaN</td>\n      <td>NaN</td>\n      <td>NaN</td>\n    </tr>\n    <tr>\n      <th>...</th>\n      <td>...</td>\n      <td>...</td>\n      <td>...</td>\n      <td>...</td>\n      <td>...</td>\n      <td>...</td>\n      <td>...</td>\n      <td>...</td>\n      <td>...</td>\n      <td>...</td>\n    </tr>\n    <tr>\n      <th>3411</th>\n      <td>79</td>\n      <td>Data of mini-census taken in 2017.</td>\n      <td>NaN</td>\n      <td>NaN</td>\n      <td>NaN</td>\n      <td>NaN</td>\n      <td>NaN</td>\n      <td>NaN</td>\n      <td>NaN</td>\n      <td>NaN</td>\n    </tr>\n    <tr>\n      <th>3412</th>\n      <td>80</td>\n      <td>Data refer to resident population.</td>\n      <td>NaN</td>\n      <td>NaN</td>\n      <td>NaN</td>\n      <td>NaN</td>\n      <td>NaN</td>\n      <td>NaN</td>\n      <td>NaN</td>\n      <td>NaN</td>\n    </tr>\n    <tr>\n      <th>3413</th>\n      <td>81</td>\n      <td>Excluding population enumerated in hotels.</td>\n      <td>NaN</td>\n      <td>NaN</td>\n      <td>NaN</td>\n      <td>NaN</td>\n      <td>NaN</td>\n      <td>NaN</td>\n      <td>NaN</td>\n      <td>NaN</td>\n    </tr>\n    <tr>\n      <th>3414</th>\n      <td>82</td>\n      <td>Other includes Orthodox, Bahai, Other Christia...</td>\n      <td>NaN</td>\n      <td>NaN</td>\n      <td>NaN</td>\n      <td>NaN</td>\n      <td>NaN</td>\n      <td>NaN</td>\n      <td>NaN</td>\n      <td>NaN</td>\n    </tr>\n    <tr>\n      <th>3415</th>\n      <td>83</td>\n      <td>Excluding Channel Islands (Guernsey and Jersey...</td>\n      <td>NaN</td>\n      <td>NaN</td>\n      <td>NaN</td>\n      <td>NaN</td>\n      <td>NaN</td>\n      <td>NaN</td>\n      <td>NaN</td>\n      <td>NaN</td>\n    </tr>\n  </tbody>\n</table>\n<p>84 rows × 10 columns</p>\n</div>"
     },
     "execution_count": 1153,
     "metadata": {},
     "output_type": "execute_result"
    }
   ],
   "source": [
    "rel[rel[[\"Sex\"]].isnull().any(axis=1)]"
   ],
   "metadata": {
    "collapsed": false,
    "pycharm": {
     "name": "#%%\n"
    }
   }
  },
  {
   "cell_type": "markdown",
   "source": [
    "Given the exploration done in the rel dataset, we can conclude that for the next step in the cleaning and transformations, we wish to keep the \"Country or Area\" and \"Religion\" columns but rename them. Moreover, to make sure that the dataset is homogeneous we will capitalize the first letter of each word in the \"Country or Area\" column. We can also see that there is multiple null values, that arise due to the existing footnotes at the end of the document, which will be dealt with. In addition, we can see that for each country there is the listing of all the religions present in the country. As we only wish to keep the main one the others will be removed."
   ],
   "metadata": {
    "collapsed": false,
    "pycharm": {
     "name": "#%% md\n"
    }
   }
  },
  {
   "cell_type": "code",
   "execution_count": 1154,
   "outputs": [],
   "source": [
    "# Remove the footnote rows, which is where the Religion column \n",
    "rel = rel[rel[[\"Religion\"]].notna().any(axis=1)]"
   ],
   "metadata": {
    "collapsed": false,
    "pycharm": {
     "name": "#%%\n"
    }
   }
  },
  {
   "cell_type": "code",
   "execution_count": 1155,
   "outputs": [],
   "source": [
    "# Remove the rows with the total number of religious people. Also remove the other, not stated, and refused to answer religions\n",
    "rel = rel[rel[\"Religion\"].str.contains(\"Total|Other|Not Stated|Refused to answer\") == False]"
   ],
   "metadata": {
    "collapsed": false,
    "pycharm": {
     "name": "#%%\n"
    }
   }
  },
  {
   "cell_type": "code",
   "execution_count": 1156,
   "outputs": [],
   "source": [
    "# Keep the data from the most recent year for each country\n",
    "rel = rel.sort_values(by=[\"Country or Area\", \"Year\"])\n",
    "rel = rel.drop_duplicates(subset=['Country or Area', \"Religion\"], keep='last')"
   ],
   "metadata": {
    "collapsed": false,
    "pycharm": {
     "name": "#%%\n"
    }
   }
  },
  {
   "cell_type": "code",
   "execution_count": 1157,
   "outputs": [],
   "source": [
    "# Keep the rows with the highest value, meaning the main religion of each country\n",
    "rel = rel.sort_values(by=[\"Country or Area\", \"Value\"])\n",
    "rel = rel.drop_duplicates(subset=['Country or Area'], keep='last')"
   ],
   "metadata": {
    "collapsed": false,
    "pycharm": {
     "name": "#%%\n"
    }
   }
  },
  {
   "cell_type": "code",
   "execution_count": 1158,
   "outputs": [],
   "source": [
    "# Select the columns to keep\n",
    "rel = rel[[\"Country or Area\", \"Religion\"]]"
   ],
   "metadata": {
    "collapsed": false,
    "pycharm": {
     "name": "#%%\n"
    }
   }
  },
  {
   "cell_type": "code",
   "execution_count": 1159,
   "outputs": [],
   "source": [
    "# Rename the columns\n",
    "rel = rel.rename(columns = {\"Country or Area\": \"Country\", \"Religion\": \"Main Religion\"})"
   ],
   "metadata": {
    "collapsed": false,
    "pycharm": {
     "name": "#%%\n"
    }
   }
  },
  {
   "cell_type": "code",
   "execution_count": 1160,
   "outputs": [],
   "source": [
    "# Capitalise the first letter of each word in the Country and religion, and remove any extra spaces in the country column.\n",
    "rel[\"Country\"] = rel[\"Country\"].str.title()\n",
    "rel[\"Country\"] = rel[\"Country\"].str.strip()\n",
    "rel[\"Main Religion\"] = rel[\"Main Religion\"].str.title()"
   ],
   "metadata": {
    "collapsed": false,
    "pycharm": {
     "name": "#%%\n"
    }
   }
  },
  {
   "cell_type": "markdown",
   "source": [
    "#### Peace index dataset"
   ],
   "metadata": {
    "collapsed": false,
    "pycharm": {
     "name": "#%% md\n"
    }
   }
  },
  {
   "cell_type": "code",
   "execution_count": 1161,
   "outputs": [
    {
     "data": {
      "text/plain": "   RANK      COUNTRY  SCORE\n0   1.0      Iceland  1.100\n1   2.0  New Zealand  1.253\n2   3.0      Denmark  1.256\n3   4.0     Portugal  1.267\n4   5.0     Slovenia  1.315",
      "text/html": "<div>\n<style scoped>\n    .dataframe tbody tr th:only-of-type {\n        vertical-align: middle;\n    }\n\n    .dataframe tbody tr th {\n        vertical-align: top;\n    }\n\n    .dataframe thead th {\n        text-align: right;\n    }\n</style>\n<table border=\"1\" class=\"dataframe\">\n  <thead>\n    <tr style=\"text-align: right;\">\n      <th></th>\n      <th>RANK</th>\n      <th>COUNTRY</th>\n      <th>SCORE</th>\n    </tr>\n  </thead>\n  <tbody>\n    <tr>\n      <th>0</th>\n      <td>1.0</td>\n      <td>Iceland</td>\n      <td>1.100</td>\n    </tr>\n    <tr>\n      <th>1</th>\n      <td>2.0</td>\n      <td>New Zealand</td>\n      <td>1.253</td>\n    </tr>\n    <tr>\n      <th>2</th>\n      <td>3.0</td>\n      <td>Denmark</td>\n      <td>1.256</td>\n    </tr>\n    <tr>\n      <th>3</th>\n      <td>4.0</td>\n      <td>Portugal</td>\n      <td>1.267</td>\n    </tr>\n    <tr>\n      <th>4</th>\n      <td>5.0</td>\n      <td>Slovenia</td>\n      <td>1.315</td>\n    </tr>\n  </tbody>\n</table>\n</div>"
     },
     "execution_count": 1161,
     "metadata": {},
     "output_type": "execute_result"
    }
   ],
   "source": [
    "peace.head()"
   ],
   "metadata": {
    "collapsed": false,
    "pycharm": {
     "name": "#%%\n"
    }
   }
  },
  {
   "cell_type": "code",
   "execution_count": 1162,
   "outputs": [
    {
     "name": "stdout",
     "output_type": "stream",
     "text": [
      "<class 'pandas.core.frame.DataFrame'>\n",
      "RangeIndex: 177 entries, 0 to 176\n",
      "Data columns (total 3 columns):\n",
      " #   Column   Non-Null Count  Dtype  \n",
      "---  ------   --------------  -----  \n",
      " 0   RANK     163 non-null    float64\n",
      " 1   COUNTRY  163 non-null    object \n",
      " 2   SCORE    163 non-null    float64\n",
      "dtypes: float64(2), object(1)\n",
      "memory usage: 4.3+ KB\n"
     ]
    }
   ],
   "source": [
    "peace.info()"
   ],
   "metadata": {
    "collapsed": false,
    "pycharm": {
     "name": "#%%\n"
    }
   }
  },
  {
   "cell_type": "code",
   "execution_count": 1163,
   "outputs": [
    {
     "data": {
      "text/plain": "RANK       14\nCOUNTRY    14\nSCORE      14\ndtype: int64"
     },
     "execution_count": 1163,
     "metadata": {},
     "output_type": "execute_result"
    }
   ],
   "source": [
    "peace.isna().sum()"
   ],
   "metadata": {
    "collapsed": false,
    "pycharm": {
     "name": "#%%\n"
    }
   }
  },
  {
   "cell_type": "code",
   "execution_count": 1164,
   "outputs": [
    {
     "data": {
      "text/plain": "     RANK COUNTRY  SCORE\n16    NaN     NaN    NaN\n45    NaN     NaN    NaN\n74    NaN     NaN    NaN\n86    NaN     NaN    NaN\n95    NaN     NaN    NaN\n108   NaN     NaN    NaN\n125   NaN     NaN    NaN\n128   NaN     NaN    NaN\n138   NaN     NaN    NaN\n155   NaN     NaN    NaN\n165   NaN     NaN    NaN\n168   NaN     NaN    NaN\n175   NaN     NaN    NaN\n176   NaN     NaN    NaN",
      "text/html": "<div>\n<style scoped>\n    .dataframe tbody tr th:only-of-type {\n        vertical-align: middle;\n    }\n\n    .dataframe tbody tr th {\n        vertical-align: top;\n    }\n\n    .dataframe thead th {\n        text-align: right;\n    }\n</style>\n<table border=\"1\" class=\"dataframe\">\n  <thead>\n    <tr style=\"text-align: right;\">\n      <th></th>\n      <th>RANK</th>\n      <th>COUNTRY</th>\n      <th>SCORE</th>\n    </tr>\n  </thead>\n  <tbody>\n    <tr>\n      <th>16</th>\n      <td>NaN</td>\n      <td>NaN</td>\n      <td>NaN</td>\n    </tr>\n    <tr>\n      <th>45</th>\n      <td>NaN</td>\n      <td>NaN</td>\n      <td>NaN</td>\n    </tr>\n    <tr>\n      <th>74</th>\n      <td>NaN</td>\n      <td>NaN</td>\n      <td>NaN</td>\n    </tr>\n    <tr>\n      <th>86</th>\n      <td>NaN</td>\n      <td>NaN</td>\n      <td>NaN</td>\n    </tr>\n    <tr>\n      <th>95</th>\n      <td>NaN</td>\n      <td>NaN</td>\n      <td>NaN</td>\n    </tr>\n    <tr>\n      <th>108</th>\n      <td>NaN</td>\n      <td>NaN</td>\n      <td>NaN</td>\n    </tr>\n    <tr>\n      <th>125</th>\n      <td>NaN</td>\n      <td>NaN</td>\n      <td>NaN</td>\n    </tr>\n    <tr>\n      <th>128</th>\n      <td>NaN</td>\n      <td>NaN</td>\n      <td>NaN</td>\n    </tr>\n    <tr>\n      <th>138</th>\n      <td>NaN</td>\n      <td>NaN</td>\n      <td>NaN</td>\n    </tr>\n    <tr>\n      <th>155</th>\n      <td>NaN</td>\n      <td>NaN</td>\n      <td>NaN</td>\n    </tr>\n    <tr>\n      <th>165</th>\n      <td>NaN</td>\n      <td>NaN</td>\n      <td>NaN</td>\n    </tr>\n    <tr>\n      <th>168</th>\n      <td>NaN</td>\n      <td>NaN</td>\n      <td>NaN</td>\n    </tr>\n    <tr>\n      <th>175</th>\n      <td>NaN</td>\n      <td>NaN</td>\n      <td>NaN</td>\n    </tr>\n    <tr>\n      <th>176</th>\n      <td>NaN</td>\n      <td>NaN</td>\n      <td>NaN</td>\n    </tr>\n  </tbody>\n</table>\n</div>"
     },
     "execution_count": 1164,
     "metadata": {},
     "output_type": "execute_result"
    }
   ],
   "source": [
    "peace[peace[[\"COUNTRY\"]].isnull().any(axis=1)]"
   ],
   "metadata": {
    "collapsed": false,
    "pycharm": {
     "name": "#%%\n"
    }
   }
  },
  {
   "cell_type": "markdown",
   "source": [
    "Given the exploration done in the peace dataset, we can conclude that for the next step in the cleaning and transformations, we wish to keep the \"RANK\", and \"COUNTRY\" columns, but rename them. Moreover, to make sure that the dataset is homogeneous we will capitalize the first letter of each word in the \"COUNTRY\" column. We can also see that there is multiple null values, that arise due to the existing of completely empty rows, which will be dealt with."
   ],
   "metadata": {
    "collapsed": false,
    "pycharm": {
     "name": "#%% md\n"
    }
   }
  },
  {
   "cell_type": "code",
   "execution_count": 1165,
   "outputs": [],
   "source": [
    "# Select the columns to keep\n",
    "peace = peace[[\"RANK\", \"COUNTRY\"]]"
   ],
   "metadata": {
    "collapsed": false,
    "pycharm": {
     "name": "#%%\n"
    }
   }
  },
  {
   "cell_type": "code",
   "execution_count": 1166,
   "outputs": [],
   "source": [
    "# Rename the columns\n",
    "peace = peace.rename(columns = {\"RANK\": \"Rank\", \"COUNTRY\": \"Country\"})"
   ],
   "metadata": {
    "collapsed": false,
    "pycharm": {
     "name": "#%%\n"
    }
   }
  },
  {
   "cell_type": "code",
   "execution_count": 1167,
   "outputs": [],
   "source": [
    "# Capitalise the first letter of each word in the Country column\n",
    "peace[\"Country\"] = peace[\"Country\"].str.title()\n",
    "peace[\"Country\"] = peace[\"Country\"].str.strip()\n"
   ],
   "metadata": {
    "collapsed": false,
    "pycharm": {
     "name": "#%%\n"
    }
   }
  },
  {
   "cell_type": "code",
   "execution_count": 1168,
   "outputs": [],
   "source": [
    "# Drop null rows\n",
    "peace = peace.dropna()"
   ],
   "metadata": {
    "collapsed": false,
    "pycharm": {
     "name": "#%%\n"
    }
   }
  },
  {
   "cell_type": "markdown",
   "source": [
    "#### WEF Dataset"
   ],
   "metadata": {
    "collapsed": false,
    "pycharm": {
     "name": "#%% md\n"
    }
   }
  },
  {
   "cell_type": "code",
   "execution_count": 1169,
   "outputs": [],
   "source": [
    "# to flatten the double header from excel\n",
    "wef.columns=wef.columns.to_flat_index()"
   ],
   "metadata": {
    "collapsed": false,
    "pycharm": {
     "name": "#%%\n"
    }
   }
  },
  {
   "cell_type": "code",
   "execution_count": 1170,
   "outputs": [
    {
     "data": {
      "text/plain": "  (Unnamed: 0_level_0, ISO Code) (Unnamed: 1_level_0, Economy)  \\\n0                            JPN                         Japan   \n1                            USA                 United States   \n2                            ESP                         Spain   \n3                            FRA                        France   \n4                            DEU                       Germany   \n\n  (Unnamed: 2_level_0, Region) (Unnamed: 3_level_0, Sub Region)  \\\n0                 Asia-Pacific             Eastern Asia-Pacific   \n1                 The Americas        North and Central America   \n2           Europe and Eurasia                  Southern Europe   \n3           Europe and Eurasia                   Western Europe   \n4           Europe and Eurasia                   Western Europe   \n\n  (Unnamed: 4_level_0, Income Group)  \\\n0              High-income economies   \n1              High-income economies   \n2              High-income economies   \n3              High-income economies   \n4              High-income economies   \n\n   (Travel & Tourism Development Index , 2019 Value)  \\\n0                                           5.209308   \n1                                           5.253746   \n2                                           5.156125   \n3                                           5.139553   \n4                                           5.158769   \n\n   (Travel & Tourism Development Index , 2019 Rank)  \\\n0                                                 2   \n1                                                 1   \n2                                                 5   \n3                                                 6   \n4                                                 4   \n\n   (Travel & Tourism Development Index , 2021 Value)  \\\n0                                           5.245868   \n1                                           5.199991   \n2                                           5.154733   \n3                                           5.126821   \n4                                           5.064452   \n\n   (Travel & Tourism Development Index , 2021 Rank)  \\\n0                                                 1   \n1                                                 2   \n2                                                 3   \n3                                                 4   \n4                                                 5   \n\n   (Travel & Tourism Development Index , % Dif Score)  ...  \\\n0                                           0.007018   ...   \n1                                          -0.010232   ...   \n2                                          -0.000270   ...   \n3                                          -0.002477   ...   \n4                                          -0.018283   ...   \n\n   (Socioeconomic Resilience & Conditions pillar, 2021 Value)  \\\n0                                           5.710859            \n1                                           4.496351            \n2                                           5.297103            \n3                                           5.734719            \n4                                           5.884420            \n\n   (Socioeconomic Resilience & Conditions pillar, 2021 Rank)  \\\n0                                                 11           \n1                                                 44           \n2                                                 25           \n3                                                 10           \n4                                                  8           \n\n   (Socioeconomic Resilience & Conditions pillar, % Dif Score)  \\\n0                                           0.035617             \n1                                           0.018056             \n2                                           0.068278             \n3                                           0.005727             \n4                                           0.012092             \n\n   (Socioeconomic Resilience & Conditions pillar, Rank Change)  \\\n0                                                  6             \n1                                                 -1             \n2                                                  5             \n3                                                  1             \n4                                                  0             \n\n   (T&T Demand Pressure & Impact pillar, 2019 Value)  \\\n0                                           4.162195   \n1                                           4.835106   \n2                                           3.668553   \n3                                           3.447736   \n4                                           3.691413   \n\n   (T&T Demand Pressure & Impact pillar, 2019 Rank)  \\\n0                                                43   \n1                                                 4   \n2                                                89   \n3                                               106   \n4                                                87   \n\n   (T&T Demand Pressure & Impact pillar, 2021 Value)  \\\n0                                           4.287192   \n1                                           4.945433   \n2                                           3.768780   \n3                                           3.429899   \n4                                           3.921128   \n\n   (T&T Demand Pressure & Impact pillar, 2021 Rank)  \\\n0                                                41   \n1                                                 3   \n2                                                81   \n3                                               108   \n4                                                73   \n\n   (T&T Demand Pressure & Impact pillar, % Dif Score)  \\\n0                                           0.030031    \n1                                           0.022818    \n2                                           0.027321    \n3                                          -0.005174    \n4                                           0.062230    \n\n   (T&T Demand Pressure & Impact pillar, Rank Change)  \n0                                                  2   \n1                                                  1   \n2                                                  8   \n3                                                 -2   \n4                                                 14   \n\n[5 rows x 143 columns]",
      "text/html": "<div>\n<style scoped>\n    .dataframe tbody tr th:only-of-type {\n        vertical-align: middle;\n    }\n\n    .dataframe tbody tr th {\n        vertical-align: top;\n    }\n\n    .dataframe thead th {\n        text-align: right;\n    }\n</style>\n<table border=\"1\" class=\"dataframe\">\n  <thead>\n    <tr style=\"text-align: right;\">\n      <th></th>\n      <th>(Unnamed: 0_level_0, ISO Code)</th>\n      <th>(Unnamed: 1_level_0, Economy)</th>\n      <th>(Unnamed: 2_level_0, Region)</th>\n      <th>(Unnamed: 3_level_0, Sub Region)</th>\n      <th>(Unnamed: 4_level_0, Income Group)</th>\n      <th>(Travel &amp; Tourism Development Index , 2019 Value)</th>\n      <th>(Travel &amp; Tourism Development Index , 2019 Rank)</th>\n      <th>(Travel &amp; Tourism Development Index , 2021 Value)</th>\n      <th>(Travel &amp; Tourism Development Index , 2021 Rank)</th>\n      <th>(Travel &amp; Tourism Development Index , % Dif Score)</th>\n      <th>...</th>\n      <th>(Socioeconomic Resilience &amp; Conditions pillar, 2021 Value)</th>\n      <th>(Socioeconomic Resilience &amp; Conditions pillar, 2021 Rank)</th>\n      <th>(Socioeconomic Resilience &amp; Conditions pillar, % Dif Score)</th>\n      <th>(Socioeconomic Resilience &amp; Conditions pillar, Rank Change)</th>\n      <th>(T&amp;T Demand Pressure &amp; Impact pillar, 2019 Value)</th>\n      <th>(T&amp;T Demand Pressure &amp; Impact pillar, 2019 Rank)</th>\n      <th>(T&amp;T Demand Pressure &amp; Impact pillar, 2021 Value)</th>\n      <th>(T&amp;T Demand Pressure &amp; Impact pillar, 2021 Rank)</th>\n      <th>(T&amp;T Demand Pressure &amp; Impact pillar, % Dif Score)</th>\n      <th>(T&amp;T Demand Pressure &amp; Impact pillar, Rank Change)</th>\n    </tr>\n  </thead>\n  <tbody>\n    <tr>\n      <th>0</th>\n      <td>JPN</td>\n      <td>Japan</td>\n      <td>Asia-Pacific</td>\n      <td>Eastern Asia-Pacific</td>\n      <td>High-income economies</td>\n      <td>5.209308</td>\n      <td>2</td>\n      <td>5.245868</td>\n      <td>1</td>\n      <td>0.007018</td>\n      <td>...</td>\n      <td>5.710859</td>\n      <td>11</td>\n      <td>0.035617</td>\n      <td>6</td>\n      <td>4.162195</td>\n      <td>43</td>\n      <td>4.287192</td>\n      <td>41</td>\n      <td>0.030031</td>\n      <td>2</td>\n    </tr>\n    <tr>\n      <th>1</th>\n      <td>USA</td>\n      <td>United States</td>\n      <td>The Americas</td>\n      <td>North and Central America</td>\n      <td>High-income economies</td>\n      <td>5.253746</td>\n      <td>1</td>\n      <td>5.199991</td>\n      <td>2</td>\n      <td>-0.010232</td>\n      <td>...</td>\n      <td>4.496351</td>\n      <td>44</td>\n      <td>0.018056</td>\n      <td>-1</td>\n      <td>4.835106</td>\n      <td>4</td>\n      <td>4.945433</td>\n      <td>3</td>\n      <td>0.022818</td>\n      <td>1</td>\n    </tr>\n    <tr>\n      <th>2</th>\n      <td>ESP</td>\n      <td>Spain</td>\n      <td>Europe and Eurasia</td>\n      <td>Southern Europe</td>\n      <td>High-income economies</td>\n      <td>5.156125</td>\n      <td>5</td>\n      <td>5.154733</td>\n      <td>3</td>\n      <td>-0.000270</td>\n      <td>...</td>\n      <td>5.297103</td>\n      <td>25</td>\n      <td>0.068278</td>\n      <td>5</td>\n      <td>3.668553</td>\n      <td>89</td>\n      <td>3.768780</td>\n      <td>81</td>\n      <td>0.027321</td>\n      <td>8</td>\n    </tr>\n    <tr>\n      <th>3</th>\n      <td>FRA</td>\n      <td>France</td>\n      <td>Europe and Eurasia</td>\n      <td>Western Europe</td>\n      <td>High-income economies</td>\n      <td>5.139553</td>\n      <td>6</td>\n      <td>5.126821</td>\n      <td>4</td>\n      <td>-0.002477</td>\n      <td>...</td>\n      <td>5.734719</td>\n      <td>10</td>\n      <td>0.005727</td>\n      <td>1</td>\n      <td>3.447736</td>\n      <td>106</td>\n      <td>3.429899</td>\n      <td>108</td>\n      <td>-0.005174</td>\n      <td>-2</td>\n    </tr>\n    <tr>\n      <th>4</th>\n      <td>DEU</td>\n      <td>Germany</td>\n      <td>Europe and Eurasia</td>\n      <td>Western Europe</td>\n      <td>High-income economies</td>\n      <td>5.158769</td>\n      <td>4</td>\n      <td>5.064452</td>\n      <td>5</td>\n      <td>-0.018283</td>\n      <td>...</td>\n      <td>5.884420</td>\n      <td>8</td>\n      <td>0.012092</td>\n      <td>0</td>\n      <td>3.691413</td>\n      <td>87</td>\n      <td>3.921128</td>\n      <td>73</td>\n      <td>0.062230</td>\n      <td>14</td>\n    </tr>\n  </tbody>\n</table>\n<p>5 rows × 143 columns</p>\n</div>"
     },
     "execution_count": 1170,
     "metadata": {},
     "output_type": "execute_result"
    }
   ],
   "source": [
    "wef.head()"
   ],
   "metadata": {
    "collapsed": false,
    "pycharm": {
     "name": "#%%\n"
    }
   }
  },
  {
   "cell_type": "code",
   "execution_count": 1171,
   "outputs": [
    {
     "name": "stdout",
     "output_type": "stream",
     "text": [
      "<class 'pandas.core.frame.DataFrame'>\n",
      "RangeIndex: 117 entries, 0 to 116\n",
      "Columns: 143 entries, ('Unnamed: 0_level_0', 'ISO Code') to ('T&T Demand Pressure & Impact pillar', 'Rank Change')\n",
      "dtypes: float64(69), int64(69), object(5)\n",
      "memory usage: 130.8+ KB\n"
     ]
    }
   ],
   "source": [
    "wef.info()"
   ],
   "metadata": {
    "collapsed": false,
    "pycharm": {
     "name": "#%%\n"
    }
   }
  },
  {
   "cell_type": "code",
   "execution_count": 1172,
   "outputs": [
    {
     "data": {
      "text/plain": "(Unnamed: 0_level_0, ISO Code)                        0\n(Unnamed: 1_level_0, Economy)                         0\n(Unnamed: 2_level_0, Region)                          0\n(Unnamed: 3_level_0, Sub Region)                      0\n(Unnamed: 4_level_0, Income Group)                    0\n                                                     ..\n(T&T Demand Pressure & Impact pillar, 2019 Rank)      0\n(T&T Demand Pressure & Impact pillar, 2021 Value)     0\n(T&T Demand Pressure & Impact pillar, 2021 Rank)      0\n(T&T Demand Pressure & Impact pillar, % Dif Score)    0\n(T&T Demand Pressure & Impact pillar, Rank Change)    0\nLength: 143, dtype: int64"
     },
     "execution_count": 1172,
     "metadata": {},
     "output_type": "execute_result"
    }
   ],
   "source": [
    "wef.isna().sum()"
   ],
   "metadata": {
    "collapsed": false,
    "pycharm": {
     "name": "#%%\n"
    }
   }
  },
  {
   "cell_type": "markdown",
   "source": [
    "Among 143 columns we have in dataset, we will choose relevant columns and drop all the others. We found we have no null data in the dataset. Moreover, as the dataset have ISO code itself, there is no further cleaning needed for the country name."
   ],
   "metadata": {
    "collapsed": false,
    "pycharm": {
     "name": "#%% md\n"
    }
   }
  },
  {
   "cell_type": "code",
   "execution_count": 1173,
   "outputs": [],
   "source": [
    "# Rename columns\n",
    "wef.rename(columns = {('Unnamed: 0_level_0', 'ISO Code'):'ISO Code',\n",
    "                      ('Unnamed: 1_level_0', 'Economy'):'Country',\n",
    "                      ('Unnamed: 2_level_0', 'Region'):'Continent',\n",
    "                      ('Unnamed: 3_level_0', 'Sub Region'):'Sub Continent',\n",
    "                      ('Unnamed: 4_level_0', 'Income Group'):'Income Group'\n",
    "                      }, inplace = True)"
   ],
   "metadata": {
    "collapsed": false,
    "pycharm": {
     "name": "#%%\n"
    }
   }
  },
  {
   "cell_type": "code",
   "execution_count": 1174,
   "outputs": [
    {
     "name": "stdout",
     "output_type": "stream",
     "text": [
      "0 ISO Code\n",
      "1 Country\n",
      "2 Continent\n",
      "3 Sub Continent\n",
      "4 Income Group\n",
      "5 ('Travel & Tourism Development Index ', '2019 Value')\n",
      "6 ('Travel & Tourism Development Index ', '2019 Rank')\n",
      "7 ('Travel & Tourism Development Index ', '2021 Value')\n",
      "8 ('Travel & Tourism Development Index ', '2021 Rank')\n",
      "9 ('Travel & Tourism Development Index ', '% Dif Score')\n",
      "10 ('Travel & Tourism Development Index ', 'Rank Change')\n",
      "11 ('Enabling Environment subindex', '2019 Value')\n",
      "12 ('Enabling Environment subindex', '2019 Rank')\n",
      "13 ('Enabling Environment subindex', '2021 Value')\n",
      "14 ('Enabling Environment subindex', '2021 Rank')\n",
      "15 ('Enabling Environment subindex', '% Dif Score')\n",
      "16 ('Enabling Environment subindex', 'Rank Change')\n",
      "17 ('Travel and Tourism Policy and Enabling\\nConditions subindex', '2019 Value')\n",
      "18 ('Travel and Tourism Policy and Enabling\\nConditions subindex', '2019 Rank')\n",
      "19 ('Travel and Tourism Policy and Enabling\\nConditions subindex', '2021 Value')\n",
      "20 ('Travel and Tourism Policy and Enabling\\nConditions subindex', '2021 Rank')\n",
      "21 ('Travel and Tourism Policy and Enabling\\nConditions subindex', '% Dif Score')\n",
      "22 ('Travel and Tourism Policy and Enabling\\nConditions subindex', 'Rank Change')\n",
      "23 ('Infrastructure subindex', '2019 Value')\n",
      "24 ('Infrastructure subindex', '2019 Rank')\n",
      "25 ('Infrastructure subindex', '2021 Value')\n",
      "26 ('Infrastructure subindex', '2021 Rank')\n",
      "27 ('Infrastructure subindex', '% Dif Score')\n",
      "28 ('Infrastructure subindex', 'Rank Change')\n",
      "29 ('Travel and Tourism Demand Drivers\\nsubindex', '2019 Value')\n",
      "30 ('Travel and Tourism Demand Drivers\\nsubindex', '2019 Rank')\n",
      "31 ('Travel and Tourism Demand Drivers\\nsubindex', '2021 Value')\n",
      "32 ('Travel and Tourism Demand Drivers\\nsubindex', '2021 Rank')\n",
      "33 ('Travel and Tourism Demand Drivers\\nsubindex', '% Dif Score')\n",
      "34 ('Travel and Tourism Demand Drivers\\nsubindex', 'Rank Change')\n",
      "35 ('Travel and Tourism Sustainability subindex', '2019 Value')\n",
      "36 ('Travel and Tourism Sustainability subindex', '2019 Rank')\n",
      "37 ('Travel and Tourism Sustainability subindex', '2021 Value')\n",
      "38 ('Travel and Tourism Sustainability subindex', '2021 Rank')\n",
      "39 ('Travel and Tourism Sustainability subindex', '% Dif Score')\n",
      "40 ('Travel and Tourism Sustainability subindex', 'Rank Change')\n",
      "41 ('Business Environment pillar', '2019 Value')\n",
      "42 ('Business Environment pillar', '2019 Rank')\n",
      "43 ('Business Environment pillar', '2021 Value')\n",
      "44 ('Business Environment pillar', '2021 Rank')\n",
      "45 ('Business Environment pillar', '% Dif Score')\n",
      "46 ('Business Environment pillar', 'Rank Change')\n",
      "47 ('Safety and Security pillar', '2019 Value')\n",
      "48 ('Safety and Security pillar', '2019 Rank')\n",
      "49 ('Safety and Security pillar', '2021 Value')\n",
      "50 ('Safety and Security pillar', '2021 Rank')\n",
      "51 ('Safety and Security pillar', '% Dif Score')\n",
      "52 ('Safety and Security pillar', 'Rank Change')\n",
      "53 ('Health and Hygiene pillar', '2019 Value')\n",
      "54 ('Health and Hygiene pillar', '2019 Rank')\n",
      "55 ('Health and Hygiene pillar', '2021 Value')\n",
      "56 ('Health and Hygiene pillar', '2021 Rank')\n",
      "57 ('Health and Hygiene pillar', '% Dif Score')\n",
      "58 ('Health and Hygiene pillar', 'Rank Change')\n",
      "59 ('Human Resources and Labour Market pillar', '2019 Value')\n",
      "60 ('Human Resources and Labour Market pillar', '2019 Rank')\n",
      "61 ('Human Resources and Labour Market pillar', '2021 Value')\n",
      "62 ('Human Resources and Labour Market pillar', '2021 Rank')\n",
      "63 ('Human Resources and Labour Market pillar', '% Dif Score')\n",
      "64 ('Human Resources and Labour Market pillar', 'Rank Change')\n",
      "65 ('ICT Readiness pillar', '2019 Value')\n",
      "66 ('ICT Readiness pillar', '2019 Rank')\n",
      "67 ('ICT Readiness pillar', '2021 Value')\n",
      "68 ('ICT Readiness pillar', '2021 Rank')\n",
      "69 ('ICT Readiness pillar', '% Dif Score')\n",
      "70 ('ICT Readiness pillar', 'Rank Change')\n",
      "71 ('Prioritization of Travel & Tourism pillar', '2019 Value')\n",
      "72 ('Prioritization of Travel & Tourism pillar', '2019 Rank')\n",
      "73 ('Prioritization of Travel & Tourism pillar', '2021 Value')\n",
      "74 ('Prioritization of Travel & Tourism pillar', '2021 Rank')\n",
      "75 ('Prioritization of Travel & Tourism pillar', '% Dif Score')\n",
      "76 ('Prioritization of Travel & Tourism pillar', 'Rank Change')\n",
      "77 ('International Openness pillar', '2019 Value')\n",
      "78 ('International Openness pillar', '2019 Rank')\n",
      "79 ('International Openness pillar', '2021 Value')\n",
      "80 ('International Openness pillar', '2021 Rank')\n",
      "81 ('International Openness pillar', '% Dif Score')\n",
      "82 ('International Openness pillar', 'Rank Change')\n",
      "83 ('Price competitiveness pillar', '2019 Value')\n",
      "84 ('Price competitiveness pillar', '2019 Rank')\n",
      "85 ('Price competitiveness pillar', '2021 Value')\n",
      "86 ('Price competitiveness pillar', '2021 Rank')\n",
      "87 ('Price competitiveness pillar', '% Dif Score')\n",
      "88 ('Price competitiveness pillar', 'Rank Change')\n",
      "89 ('Air Transport Infrastructure pillar', '2019 Value')\n",
      "90 ('Air Transport Infrastructure pillar', '2019 Rank')\n",
      "91 ('Air Transport Infrastructure pillar', '2021 Value')\n",
      "92 ('Air Transport Infrastructure pillar', '2021 Rank')\n",
      "93 ('Air Transport Infrastructure pillar', '% Dif Score')\n",
      "94 ('Air Transport Infrastructure pillar', 'Rank Change')\n",
      "95 ('Ground and Port Infrastructure pillar', '2019 Value')\n",
      "96 ('Ground and Port Infrastructure pillar', '2019 Rank')\n",
      "97 ('Ground and Port Infrastructure pillar', '2021 Value')\n",
      "98 ('Ground and Port Infrastructure pillar', '2021 Rank')\n",
      "99 ('Ground and Port Infrastructure pillar', '% Dif Score')\n",
      "100 ('Ground and Port Infrastructure pillar', 'Rank Change')\n",
      "101 ('Tourist Service Infrastructure pillar', '2019 Value')\n",
      "102 ('Tourist Service Infrastructure pillar', '2019 Rank')\n",
      "103 ('Tourist Service Infrastructure pillar', '2021 Value')\n",
      "104 ('Tourist Service Infrastructure pillar', '2021 Rank')\n",
      "105 ('Tourist Service Infrastructure pillar', '% Dif Score')\n",
      "106 ('Tourist Service Infrastructure pillar', 'Rank Change')\n",
      "107 ('Natural Resources pillar', '2019 Value')\n",
      "108 ('Natural Resources pillar', '2019 Rank')\n",
      "109 ('Natural Resources pillar', '2021 Value')\n",
      "110 ('Natural Resources pillar', '2021 Rank')\n",
      "111 ('Natural Resources pillar', '% Dif Score')\n",
      "112 ('Natural Resources pillar', 'Rank Change')\n",
      "113 ('Cultural Resources pillar', '2019 Value')\n",
      "114 ('Cultural Resources pillar', '2019 Rank')\n",
      "115 ('Cultural Resources pillar', '2021 Value')\n",
      "116 ('Cultural Resources pillar', '2021 Rank')\n",
      "117 ('Cultural Resources pillar', '% Dif Score')\n",
      "118 ('Cultural Resources pillar', 'Rank Change')\n",
      "119 ('Non-Leisure Resources pillar', '2019 Value')\n",
      "120 ('Non-Leisure Resources pillar', '2019 Rank')\n",
      "121 ('Non-Leisure Resources pillar', '2021 Value')\n",
      "122 ('Non-Leisure Resources pillar', '2021 Rank')\n",
      "123 ('Non-Leisure Resources pillar', '% Dif Score')\n",
      "124 ('Non-Leisure Resources pillar', 'Rank Change')\n",
      "125 ('Environmental Sustainability pillar', '2019 Value')\n",
      "126 ('Environmental Sustainability pillar', '2019 Rank')\n",
      "127 ('Environmental Sustainability pillar', '2021 Value')\n",
      "128 ('Environmental Sustainability pillar', '2021 Rank')\n",
      "129 ('Environmental Sustainability pillar', '% Dif Score')\n",
      "130 ('Environmental Sustainability pillar', 'Rank Change')\n",
      "131 ('Socioeconomic Resilience & Conditions pillar', '2019 Value')\n",
      "132 ('Socioeconomic Resilience & Conditions pillar', '2019 Rank')\n",
      "133 ('Socioeconomic Resilience & Conditions pillar', '2021 Value')\n",
      "134 ('Socioeconomic Resilience & Conditions pillar', '2021 Rank')\n",
      "135 ('Socioeconomic Resilience & Conditions pillar', '% Dif Score')\n",
      "136 ('Socioeconomic Resilience & Conditions pillar', 'Rank Change')\n",
      "137 ('T&T Demand Pressure & Impact pillar', '2019 Value')\n",
      "138 ('T&T Demand Pressure & Impact pillar', '2019 Rank')\n",
      "139 ('T&T Demand Pressure & Impact pillar', '2021 Value')\n",
      "140 ('T&T Demand Pressure & Impact pillar', '2021 Rank')\n",
      "141 ('T&T Demand Pressure & Impact pillar', '% Dif Score')\n",
      "142 ('T&T Demand Pressure & Impact pillar', 'Rank Change')\n"
     ]
    }
   ],
   "source": [
    "# To check the index of the columns that we wish to drop\n",
    "for i, col in enumerate(wef.columns):\n",
    "    print(i, col)"
   ],
   "metadata": {
    "collapsed": false,
    "pycharm": {
     "name": "#%%\n"
    }
   }
  },
  {
   "cell_type": "code",
   "execution_count": 1175,
   "outputs": [
    {
     "data": {
      "text/plain": "Index([                                           'ISO Code',\n                                                   'Country',\n                                                 'Continent',\n                                             'Sub Continent',\n                                              'Income Group',\n       ('Travel & Tourism Development Index ', '2021 Value'),\n        ('Travel & Tourism Development Index ', '2021 Rank'),\n                   ('Infrastructure subindex', '2021 Value'),\n                    ('Infrastructure subindex', '2021 Rank'),\n                ('Safety and Security pillar', '2021 Value'),\n                 ('Safety and Security pillar', '2021 Rank'),\n                 ('Health and Hygiene pillar', '2021 Value'),\n                  ('Health and Hygiene pillar', '2021 Rank'),\n             ('International Openness pillar', '2021 Value'),\n              ('International Openness pillar', '2021 Rank'),\n              ('Price competitiveness pillar', '2021 Value'),\n               ('Price competitiveness pillar', '2021 Rank'),\n                  ('Natural Resources pillar', '2021 Value'),\n                   ('Natural Resources pillar', '2021 Rank'),\n                 ('Cultural Resources pillar', '2021 Value'),\n                  ('Cultural Resources pillar', '2021 Rank'),\n       ('Environmental Sustainability pillar', '2021 Value'),\n        ('Environmental Sustainability pillar', '2021 Rank'),\n       ('T&T Demand Pressure & Impact pillar', '2021 Value'),\n        ('T&T Demand Pressure & Impact pillar', '2021 Rank')],\n      dtype='object')"
     },
     "execution_count": 1175,
     "metadata": {},
     "output_type": "execute_result"
    }
   ],
   "source": [
    "# Drop columns from the behind to prevent index changing\n",
    "wef = wef.iloc[:, [0,1,2,3,4,7,8,25,26,49,50,55,56,79,80,85,86,109,110,115,116,127,128,139,140]]\n",
    "wef.columns"
   ],
   "metadata": {
    "collapsed": false,
    "pycharm": {
     "name": "#%%\n"
    }
   }
  },
  {
   "cell_type": "markdown",
   "source": [
    "##### Set new columns that classify each index into Very good, Good, Limited"
   ],
   "metadata": {
    "collapsed": false,
    "pycharm": {
     "name": "#%% md\n"
    }
   }
  },
  {
   "cell_type": "code",
   "execution_count": 1176,
   "outputs": [],
   "source": [
    "# Infrastructure subindex\n",
    "conditions = [(wef[ ('Infrastructure subindex', '2021 Rank')] <= 40), (wef[('Infrastructure subindex', '2021 Rank')] >= 80)]\n",
    "choices = [\"Very good\", \"Limited\"]\n",
    "wef[\"Infrastructure subindex, classification\"] = np.select(conditions, choices, default = \"Good\")"
   ],
   "metadata": {
    "collapsed": false,
    "pycharm": {
     "name": "#%%\n"
    }
   }
  },
  {
   "cell_type": "code",
   "execution_count": 1177,
   "outputs": [],
   "source": [
    "# Safety and Security pillar\n",
    "conditions = [(wef[('Safety and Security pillar', '2021 Rank')] <= 40), (wef[ ('Safety and Security pillar', '2021 Rank')] >= 80)]\n",
    "choices = [\"Very good\", \"Limited\"]\n",
    "wef[\"Safety and Security, Classification\"] = np.select(conditions, choices, default = \"Good\")"
   ],
   "metadata": {
    "collapsed": false,
    "pycharm": {
     "name": "#%%\n"
    }
   }
  },
  {
   "cell_type": "code",
   "execution_count": 1178,
   "outputs": [],
   "source": [
    "# Health and Hygiene pillar\n",
    "conditions = [(wef[('Health and Hygiene pillar', '2021 Rank')] <= 40), (wef[('Health and Hygiene pillar', '2021 Rank')] >= 80)]\n",
    "choices = [\"Very good\", \"Limited\"]\n",
    "wef[\"Health and Hygiene, Classification\"] = np.select(conditions, choices, default = \"Good\")"
   ],
   "metadata": {
    "collapsed": false,
    "pycharm": {
     "name": "#%%\n"
    }
   }
  },
  {
   "cell_type": "code",
   "execution_count": 1179,
   "outputs": [],
   "source": [
    "# International Openness pillar\n",
    "conditions = [(wef[('International Openness pillar', '2021 Rank')] <= 40), (wef[('International Openness pillar', '2021 Rank')] >= 80)]\n",
    "choices = [\"Very good\", \"Limited\"]\n",
    "wef[\"International Openess, Classification\"] = np.select(conditions, choices, default = \"Good\")"
   ],
   "metadata": {
    "collapsed": false,
    "pycharm": {
     "name": "#%%\n"
    }
   }
  },
  {
   "cell_type": "code",
   "execution_count": 1180,
   "outputs": [],
   "source": [
    "# Price competitiveness pillar\n",
    "conditions = [(wef[('Price competitiveness pillar', '2021 Rank')] <= 40), (wef[ ('Price competitiveness pillar', '2021 Rank')] >= 80)]\n",
    "choices = [\"Very good\", \"Limited\"]\n",
    "wef[\"Price competitiveness, Classification\"] = np.select(conditions, choices, default = \"Good\")"
   ],
   "metadata": {
    "collapsed": false,
    "pycharm": {
     "name": "#%%\n"
    }
   }
  },
  {
   "cell_type": "code",
   "execution_count": 1181,
   "outputs": [],
   "source": [
    "# Natural Resources pillar\n",
    "conditions = [(wef[('Natural Resources pillar', '2021 Rank')] <= 40), (wef[('Natural Resources pillar', '2021 Rank')] >= 80)]\n",
    "choices = [\"Very good\", \"Limited\"]\n",
    "wef[\"Natural Resources, Classification\"] = np.select(conditions, choices, default = \"Good\")"
   ],
   "metadata": {
    "collapsed": false,
    "pycharm": {
     "name": "#%%\n"
    }
   }
  },
  {
   "cell_type": "code",
   "execution_count": 1182,
   "outputs": [],
   "source": [
    "# Cultural Resources pillar\n",
    "conditions = [(wef[('Cultural Resources pillar', '2021 Rank')] <= 40), (wef[('Cultural Resources pillar', '2021 Rank')] >= 80)]\n",
    "choices = [\"Very good\", \"Limited\"]\n",
    "wef[\"Cultural Resources, Classification\"] = np.select(conditions, choices, default = \"Good\")"
   ],
   "metadata": {
    "collapsed": false,
    "pycharm": {
     "name": "#%%\n"
    }
   }
  },
  {
   "cell_type": "code",
   "execution_count": 1183,
   "outputs": [],
   "source": [
    "# Environmental Sustainability pillar\n",
    "conditions = [(wef[('Environmental Sustainability pillar', '2021 Rank')] <= 40), (wef[('Environmental Sustainability pillar', '2021 Rank')] >= 80)]\n",
    "choices = [\"Very good\", \"Limited\"]\n",
    "wef[\"Environmental Sustainability, Classification\"] = np.select(conditions, choices, default = \"Good\")"
   ],
   "metadata": {
    "collapsed": false,
    "pycharm": {
     "name": "#%%\n"
    }
   }
  },
  {
   "cell_type": "code",
   "execution_count": 1184,
   "outputs": [],
   "source": [
    "# T&T Demand Pressure & Impact pillar\n",
    "conditions = [(wef[('T&T Demand Pressure & Impact pillar', '2021 Rank')] <= 40), (wef[('T&T Demand Pressure & Impact pillar', '2021 Rank')] >= 80)]\n",
    "choices = [\"Very good\", \"Limited\"]\n",
    "wef[\"T&T Demand Pressure & Impact, Classification\"] = np.select(conditions, choices, default = \"Good\")"
   ],
   "metadata": {
    "collapsed": false,
    "pycharm": {
     "name": "#%%\n"
    }
   }
  },
  {
   "cell_type": "markdown",
   "source": [
    "#### Average Restaurant and Accomodation Cost Dataset"
   ],
   "metadata": {
    "collapsed": false,
    "pycharm": {
     "name": "#%% md\n"
    }
   }
  },
  {
   "cell_type": "code",
   "execution_count": 1185,
   "outputs": [
    {
     "data": {
      "text/plain": "     Country Name Country Code              Classification Name  \\\n0         Albania          ALB  Price level index (World = 100)   \n1         Algeria          DZA  Price level index (World = 100)   \n2  American Samoa          ASM  Price level index (World = 100)   \n3          Angola          AGO  Price level index (World = 100)   \n4        Anguilla          AIA  Price level index (World = 100)   \n\n  Classification Code                     Series Name  Series Code  \\\n0               PX.WL  1111000:RESTAURANTS AND HOTELS    1111000.0   \n1               PX.WL  1111000:RESTAURANTS AND HOTELS    1111000.0   \n2               PX.WL  1111000:RESTAURANTS AND HOTELS    1111000.0   \n3               PX.WL  1111000:RESTAURANTS AND HOTELS    1111000.0   \n4               PX.WL  1111000:RESTAURANTS AND HOTELS    1111000.0   \n\n  2017 [YR2017]  \n0   50.78426859  \n1   33.93366644  \n2            ..  \n3   79.22385228  \n4     122.29901  ",
      "text/html": "<div>\n<style scoped>\n    .dataframe tbody tr th:only-of-type {\n        vertical-align: middle;\n    }\n\n    .dataframe tbody tr th {\n        vertical-align: top;\n    }\n\n    .dataframe thead th {\n        text-align: right;\n    }\n</style>\n<table border=\"1\" class=\"dataframe\">\n  <thead>\n    <tr style=\"text-align: right;\">\n      <th></th>\n      <th>Country Name</th>\n      <th>Country Code</th>\n      <th>Classification Name</th>\n      <th>Classification Code</th>\n      <th>Series Name</th>\n      <th>Series Code</th>\n      <th>2017 [YR2017]</th>\n    </tr>\n  </thead>\n  <tbody>\n    <tr>\n      <th>0</th>\n      <td>Albania</td>\n      <td>ALB</td>\n      <td>Price level index (World = 100)</td>\n      <td>PX.WL</td>\n      <td>1111000:RESTAURANTS AND HOTELS</td>\n      <td>1111000.0</td>\n      <td>50.78426859</td>\n    </tr>\n    <tr>\n      <th>1</th>\n      <td>Algeria</td>\n      <td>DZA</td>\n      <td>Price level index (World = 100)</td>\n      <td>PX.WL</td>\n      <td>1111000:RESTAURANTS AND HOTELS</td>\n      <td>1111000.0</td>\n      <td>33.93366644</td>\n    </tr>\n    <tr>\n      <th>2</th>\n      <td>American Samoa</td>\n      <td>ASM</td>\n      <td>Price level index (World = 100)</td>\n      <td>PX.WL</td>\n      <td>1111000:RESTAURANTS AND HOTELS</td>\n      <td>1111000.0</td>\n      <td>..</td>\n    </tr>\n    <tr>\n      <th>3</th>\n      <td>Angola</td>\n      <td>AGO</td>\n      <td>Price level index (World = 100)</td>\n      <td>PX.WL</td>\n      <td>1111000:RESTAURANTS AND HOTELS</td>\n      <td>1111000.0</td>\n      <td>79.22385228</td>\n    </tr>\n    <tr>\n      <th>4</th>\n      <td>Anguilla</td>\n      <td>AIA</td>\n      <td>Price level index (World = 100)</td>\n      <td>PX.WL</td>\n      <td>1111000:RESTAURANTS AND HOTELS</td>\n      <td>1111000.0</td>\n      <td>122.29901</td>\n    </tr>\n  </tbody>\n</table>\n</div>"
     },
     "execution_count": 1185,
     "metadata": {},
     "output_type": "execute_result"
    }
   ],
   "source": [
    "avg_rest_hot_p.head()"
   ],
   "metadata": {
    "collapsed": false,
    "pycharm": {
     "name": "#%%\n"
    }
   }
  },
  {
   "cell_type": "code",
   "execution_count": 1186,
   "outputs": [
    {
     "name": "stdout",
     "output_type": "stream",
     "text": [
      "<class 'pandas.core.frame.DataFrame'>\n",
      "RangeIndex: 227 entries, 0 to 226\n",
      "Data columns (total 7 columns):\n",
      " #   Column               Non-Null Count  Dtype  \n",
      "---  ------               --------------  -----  \n",
      " 0   Country Name         224 non-null    object \n",
      " 1   Country Code         222 non-null    object \n",
      " 2   Classification Name  222 non-null    object \n",
      " 3   Classification Code  222 non-null    object \n",
      " 4   Series Name          222 non-null    object \n",
      " 5   Series Code          222 non-null    float64\n",
      " 6   2017 [YR2017]        222 non-null    object \n",
      "dtypes: float64(1), object(6)\n",
      "memory usage: 12.5+ KB\n"
     ]
    }
   ],
   "source": [
    "avg_rest_hot_p.info()"
   ],
   "metadata": {
    "collapsed": false,
    "pycharm": {
     "name": "#%%\n"
    }
   }
  },
  {
   "cell_type": "code",
   "execution_count": 1187,
   "outputs": [
    {
     "data": {
      "text/plain": "Country Name           3\nCountry Code           5\nClassification Name    5\nClassification Code    5\nSeries Name            5\nSeries Code            5\n2017 [YR2017]          5\ndtype: int64"
     },
     "execution_count": 1187,
     "metadata": {},
     "output_type": "execute_result"
    }
   ],
   "source": [
    "avg_rest_hot_p.isna().sum()"
   ],
   "metadata": {
    "collapsed": false,
    "pycharm": {
     "name": "#%%\n"
    }
   }
  },
  {
   "cell_type": "code",
   "execution_count": 1188,
   "outputs": [
    {
     "data": {
      "text/plain": "    Country Name Country Code Classification Name Classification Code  \\\n222          NaN          NaN                 NaN                 NaN   \n223          NaN          NaN                 NaN                 NaN   \n224          NaN          NaN                 NaN                 NaN   \n\n    Series Name  Series Code 2017 [YR2017]  \n222         NaN          NaN           NaN  \n223         NaN          NaN           NaN  \n224         NaN          NaN           NaN  ",
      "text/html": "<div>\n<style scoped>\n    .dataframe tbody tr th:only-of-type {\n        vertical-align: middle;\n    }\n\n    .dataframe tbody tr th {\n        vertical-align: top;\n    }\n\n    .dataframe thead th {\n        text-align: right;\n    }\n</style>\n<table border=\"1\" class=\"dataframe\">\n  <thead>\n    <tr style=\"text-align: right;\">\n      <th></th>\n      <th>Country Name</th>\n      <th>Country Code</th>\n      <th>Classification Name</th>\n      <th>Classification Code</th>\n      <th>Series Name</th>\n      <th>Series Code</th>\n      <th>2017 [YR2017]</th>\n    </tr>\n  </thead>\n  <tbody>\n    <tr>\n      <th>222</th>\n      <td>NaN</td>\n      <td>NaN</td>\n      <td>NaN</td>\n      <td>NaN</td>\n      <td>NaN</td>\n      <td>NaN</td>\n      <td>NaN</td>\n    </tr>\n    <tr>\n      <th>223</th>\n      <td>NaN</td>\n      <td>NaN</td>\n      <td>NaN</td>\n      <td>NaN</td>\n      <td>NaN</td>\n      <td>NaN</td>\n      <td>NaN</td>\n    </tr>\n    <tr>\n      <th>224</th>\n      <td>NaN</td>\n      <td>NaN</td>\n      <td>NaN</td>\n      <td>NaN</td>\n      <td>NaN</td>\n      <td>NaN</td>\n      <td>NaN</td>\n    </tr>\n  </tbody>\n</table>\n</div>"
     },
     "execution_count": 1188,
     "metadata": {},
     "output_type": "execute_result"
    }
   ],
   "source": [
    "avg_rest_hot_p[avg_rest_hot_p[[\"Country Name\"]].isnull().any(axis=1)]"
   ],
   "metadata": {
    "collapsed": false,
    "pycharm": {
     "name": "#%%\n"
    }
   }
  },
  {
   "cell_type": "code",
   "execution_count": 1189,
   "outputs": [
    {
     "data": {
      "text/plain": "                     Country Name Country Code Classification Name  \\\n222                           NaN          NaN                 NaN   \n223                           NaN          NaN                 NaN   \n224                           NaN          NaN                 NaN   \n225  Data from database: ICP 2017          NaN                 NaN   \n226      Last Updated: 10/21/2020          NaN                 NaN   \n\n    Classification Code Series Name  Series Code 2017 [YR2017]  \n222                 NaN         NaN          NaN           NaN  \n223                 NaN         NaN          NaN           NaN  \n224                 NaN         NaN          NaN           NaN  \n225                 NaN         NaN          NaN           NaN  \n226                 NaN         NaN          NaN           NaN  ",
      "text/html": "<div>\n<style scoped>\n    .dataframe tbody tr th:only-of-type {\n        vertical-align: middle;\n    }\n\n    .dataframe tbody tr th {\n        vertical-align: top;\n    }\n\n    .dataframe thead th {\n        text-align: right;\n    }\n</style>\n<table border=\"1\" class=\"dataframe\">\n  <thead>\n    <tr style=\"text-align: right;\">\n      <th></th>\n      <th>Country Name</th>\n      <th>Country Code</th>\n      <th>Classification Name</th>\n      <th>Classification Code</th>\n      <th>Series Name</th>\n      <th>Series Code</th>\n      <th>2017 [YR2017]</th>\n    </tr>\n  </thead>\n  <tbody>\n    <tr>\n      <th>222</th>\n      <td>NaN</td>\n      <td>NaN</td>\n      <td>NaN</td>\n      <td>NaN</td>\n      <td>NaN</td>\n      <td>NaN</td>\n      <td>NaN</td>\n    </tr>\n    <tr>\n      <th>223</th>\n      <td>NaN</td>\n      <td>NaN</td>\n      <td>NaN</td>\n      <td>NaN</td>\n      <td>NaN</td>\n      <td>NaN</td>\n      <td>NaN</td>\n    </tr>\n    <tr>\n      <th>224</th>\n      <td>NaN</td>\n      <td>NaN</td>\n      <td>NaN</td>\n      <td>NaN</td>\n      <td>NaN</td>\n      <td>NaN</td>\n      <td>NaN</td>\n    </tr>\n    <tr>\n      <th>225</th>\n      <td>Data from database: ICP 2017</td>\n      <td>NaN</td>\n      <td>NaN</td>\n      <td>NaN</td>\n      <td>NaN</td>\n      <td>NaN</td>\n      <td>NaN</td>\n    </tr>\n    <tr>\n      <th>226</th>\n      <td>Last Updated: 10/21/2020</td>\n      <td>NaN</td>\n      <td>NaN</td>\n      <td>NaN</td>\n      <td>NaN</td>\n      <td>NaN</td>\n      <td>NaN</td>\n    </tr>\n  </tbody>\n</table>\n</div>"
     },
     "execution_count": 1189,
     "metadata": {},
     "output_type": "execute_result"
    }
   ],
   "source": [
    "avg_rest_hot_p[avg_rest_hot_p[[\"Country Code\"]].isnull().any(axis=1)]"
   ],
   "metadata": {
    "collapsed": false,
    "pycharm": {
     "name": "#%%\n"
    }
   }
  },
  {
   "cell_type": "markdown",
   "source": [
    "Given the exploration done in the avg_rest_hot_p dataset, we can conclude that for the next step in the cleaning and transformations, we wish to keep only the \"Country Name\", \" Country Code\", and the \"2017 [YR2017]\" columns, but we will rename them. Moreover, to make sure that the dataset is homogeneous we will capitalize the first letter of each word in the \"Country Name\" column. We can also see that there is 5 null values, which arise due to empty rows and footnotes, these will be handled accordingly. Additionally, we can see that some countries in the average price have \"..\" instead of being null, which will be solved."
   ],
   "metadata": {
    "collapsed": false,
    "pycharm": {
     "name": "#%% md\n"
    }
   }
  },
  {
   "cell_type": "code",
   "execution_count": 1190,
   "outputs": [],
   "source": [
    "# Select the columns we are interest in\n",
    "avg_rest_hot_p = avg_rest_hot_p[[\"Country Name\", \"Country Code\", \"2017 [YR2017]\"]]"
   ],
   "metadata": {
    "collapsed": false,
    "pycharm": {
     "name": "#%%\n"
    }
   }
  },
  {
   "cell_type": "code",
   "execution_count": 1191,
   "outputs": [],
   "source": [
    "# Rename the columns\n",
    "avg_rest_hot_p = avg_rest_hot_p.rename(columns = {\"Country Name\": \"Country\", \"2017 [YR2017]\": \"Average Hotel and Restaurant Cost\"})"
   ],
   "metadata": {
    "collapsed": false,
    "pycharm": {
     "name": "#%%\n"
    }
   }
  },
  {
   "cell_type": "code",
   "execution_count": 1192,
   "outputs": [],
   "source": [
    "# Capitalise the first letter of each word in the Country column, and remove any extra spaces\n",
    "avg_rest_hot_p[\"Country\"] = avg_rest_hot_p[\"Country\"].str.title()\n",
    "avg_rest_hot_p[\"Country\"] = avg_rest_hot_p[\"Country\"].str.strip()"
   ],
   "metadata": {
    "collapsed": false,
    "pycharm": {
     "name": "#%%\n"
    }
   }
  },
  {
   "cell_type": "code",
   "execution_count": 1193,
   "outputs": [],
   "source": [
    "# Substitute \"..\" for null value\n",
    "avg_rest_hot_p[\"Average Hotel and Restaurant Cost\"] = avg_rest_hot_p[\"Average Hotel and Restaurant Cost\"].replace(\"..\",\"\")"
   ],
   "metadata": {
    "collapsed": false,
    "pycharm": {
     "name": "#%%\n"
    }
   }
  },
  {
   "cell_type": "code",
   "execution_count": 1194,
   "outputs": [],
   "source": [
    "# Remove empty rows\n",
    "avg_rest_hot_p = avg_rest_hot_p.dropna()"
   ],
   "metadata": {
    "collapsed": false,
    "pycharm": {
     "name": "#%%\n"
    }
   }
  },
  {
   "cell_type": "code",
   "execution_count": 1195,
   "id": "0ae68ea2",
   "metadata": {
    "pycharm": {
     "name": "#%%\n"
    }
   },
   "outputs": [],
   "source": [
    "# Remove empty rows\n",
    "avg_rest_hot_p = avg_rest_hot_p.dropna()"
   ]
  },
  {
   "cell_type": "code",
   "execution_count": 1196,
   "id": "ddad2ee9",
   "metadata": {
    "pycharm": {
     "name": "#%%\n"
    }
   },
   "outputs": [],
   "source": [
    "# Convert the column from string to numeric value\n",
    "avg_rest_hot_p[\"Average Hotel and Restaurant Cost\"] = pd.to_numeric(avg_rest_hot_p[\"Average Hotel and Restaurant Cost\"], errors = \"coerce\")"
   ]
  },
  {
   "cell_type": "code",
   "execution_count": 1197,
   "id": "9779e091",
   "metadata": {
    "pycharm": {
     "name": "#%%\n"
    }
   },
   "outputs": [],
   "source": [
    "# Round the numbers to two decimal points\n",
    "avg_rest_hot_p[\"Average Hotel and Restaurant Cost\"] = avg_rest_hot_p[\"Average Hotel and Restaurant Cost\"].round(2)"
   ]
  },
  {
   "cell_type": "code",
   "execution_count": 1198,
   "id": "3da76cbd",
   "metadata": {
    "pycharm": {
     "name": "#%%\n"
    }
   },
   "outputs": [],
   "source": [
    "# Set a new column that classifies countries into budget travel, comfortable travel and luxury travel\n",
    "conditions = [(avg_rest_hot_p[\"Average Hotel and Restaurant Cost\"] <= 70), ((avg_rest_hot_p[\"Average Hotel and Restaurant Cost\"] > 70) & (avg_rest_hot_p[\"Average Hotel and Restaurant Cost\"] <= 150)), (avg_rest_hot_p[\"Average Hotel and Restaurant Cost\"] > 150)]\n",
    "choices = [\"Budget Traveler\", \"Comfort traveler\", \"Luxury Travel\"]\n",
    "avg_rest_hot_p[\"Type Traveler\"] = np.select(conditions, choices, default = \"Non Applicable\")"
   ]
  },
  {
   "cell_type": "markdown",
   "id": "fde0129b",
   "metadata": {
    "pycharm": {
     "name": "#%% md\n"
    }
   },
   "source": [
    "#### LGBTQ Dataset"
   ]
  },
  {
   "cell_type": "code",
   "execution_count": 1199,
   "outputs": [
    {
     "data": {
      "text/plain": "   RANK      COUNTRY   GAI\n0     1      Iceland  9.78\n1     2  Netherlands  9.46\n2     3       Norway  9.38\n3     4       Sweden  9.18\n4     5       Canada  9.02",
      "text/html": "<div>\n<style scoped>\n    .dataframe tbody tr th:only-of-type {\n        vertical-align: middle;\n    }\n\n    .dataframe tbody tr th {\n        vertical-align: top;\n    }\n\n    .dataframe thead th {\n        text-align: right;\n    }\n</style>\n<table border=\"1\" class=\"dataframe\">\n  <thead>\n    <tr style=\"text-align: right;\">\n      <th></th>\n      <th>RANK</th>\n      <th>COUNTRY</th>\n      <th>GAI</th>\n    </tr>\n  </thead>\n  <tbody>\n    <tr>\n      <th>0</th>\n      <td>1</td>\n      <td>Iceland</td>\n      <td>9.78</td>\n    </tr>\n    <tr>\n      <th>1</th>\n      <td>2</td>\n      <td>Netherlands</td>\n      <td>9.46</td>\n    </tr>\n    <tr>\n      <th>2</th>\n      <td>3</td>\n      <td>Norway</td>\n      <td>9.38</td>\n    </tr>\n    <tr>\n      <th>3</th>\n      <td>4</td>\n      <td>Sweden</td>\n      <td>9.18</td>\n    </tr>\n    <tr>\n      <th>4</th>\n      <td>5</td>\n      <td>Canada</td>\n      <td>9.02</td>\n    </tr>\n  </tbody>\n</table>\n</div>"
     },
     "execution_count": 1199,
     "metadata": {},
     "output_type": "execute_result"
    }
   ],
   "source": [
    "lgbtq.head()"
   ],
   "metadata": {
    "collapsed": false,
    "pycharm": {
     "name": "#%%\n"
    }
   }
  },
  {
   "cell_type": "code",
   "execution_count": 1200,
   "outputs": [
    {
     "name": "stdout",
     "output_type": "stream",
     "text": [
      "<class 'pandas.core.frame.DataFrame'>\n",
      "RangeIndex: 175 entries, 0 to 174\n",
      "Data columns (total 3 columns):\n",
      " #   Column   Non-Null Count  Dtype  \n",
      "---  ------   --------------  -----  \n",
      " 0   RANK     175 non-null    int64  \n",
      " 1   COUNTRY  175 non-null    object \n",
      " 2   GAI      175 non-null    float64\n",
      "dtypes: float64(1), int64(1), object(1)\n",
      "memory usage: 4.2+ KB\n"
     ]
    }
   ],
   "source": [
    "lgbtq.info()"
   ],
   "metadata": {
    "collapsed": false,
    "pycharm": {
     "name": "#%%\n"
    }
   }
  },
  {
   "cell_type": "code",
   "execution_count": 1201,
   "id": "2b5d3f24",
   "metadata": {
    "pycharm": {
     "name": "#%%\n"
    }
   },
   "outputs": [],
   "source": [
    "lgbtq['COUNTRY'] = lgbtq['COUNTRY'].str.title()"
   ]
  },
  {
   "cell_type": "markdown",
   "id": "41cbc4b3",
   "metadata": {
    "pycharm": {
     "name": "#%% md\n"
    }
   },
   "source": [
    "#### Cuisine Rank Dataset"
   ]
  },
  {
   "cell_type": "code",
   "execution_count": 1202,
   "outputs": [
    {
     "data": {
      "text/plain": "  Country  Ratings\n0   italy     4.72\n1  greece     4.69\n2   spain     4.59\n3   japan     4.59\n4   india     4.54",
      "text/html": "<div>\n<style scoped>\n    .dataframe tbody tr th:only-of-type {\n        vertical-align: middle;\n    }\n\n    .dataframe tbody tr th {\n        vertical-align: top;\n    }\n\n    .dataframe thead th {\n        text-align: right;\n    }\n</style>\n<table border=\"1\" class=\"dataframe\">\n  <thead>\n    <tr style=\"text-align: right;\">\n      <th></th>\n      <th>Country</th>\n      <th>Ratings</th>\n    </tr>\n  </thead>\n  <tbody>\n    <tr>\n      <th>0</th>\n      <td>italy</td>\n      <td>4.72</td>\n    </tr>\n    <tr>\n      <th>1</th>\n      <td>greece</td>\n      <td>4.69</td>\n    </tr>\n    <tr>\n      <th>2</th>\n      <td>spain</td>\n      <td>4.59</td>\n    </tr>\n    <tr>\n      <th>3</th>\n      <td>japan</td>\n      <td>4.59</td>\n    </tr>\n    <tr>\n      <th>4</th>\n      <td>india</td>\n      <td>4.54</td>\n    </tr>\n  </tbody>\n</table>\n</div>"
     },
     "execution_count": 1202,
     "metadata": {},
     "output_type": "execute_result"
    }
   ],
   "source": [
    "cuisine_rank.head()"
   ],
   "metadata": {
    "collapsed": false,
    "pycharm": {
     "name": "#%%\n"
    }
   }
  },
  {
   "cell_type": "code",
   "execution_count": 1203,
   "outputs": [
    {
     "name": "stdout",
     "output_type": "stream",
     "text": [
      "<class 'pandas.core.frame.DataFrame'>\n",
      "RangeIndex: 95 entries, 0 to 94\n",
      "Data columns (total 2 columns):\n",
      " #   Column   Non-Null Count  Dtype  \n",
      "---  ------   --------------  -----  \n",
      " 0   Country  95 non-null     object \n",
      " 1   Ratings  95 non-null     float64\n",
      "dtypes: float64(1), object(1)\n",
      "memory usage: 1.6+ KB\n"
     ]
    }
   ],
   "source": [
    "cuisine_rank.info()"
   ],
   "metadata": {
    "collapsed": false,
    "pycharm": {
     "name": "#%%\n"
    }
   }
  },
  {
   "cell_type": "code",
   "execution_count": 1204,
   "id": "19e1e80c",
   "metadata": {
    "pycharm": {
     "name": "#%%\n"
    }
   },
   "outputs": [],
   "source": [
    "cuisine_rank['Country'] = cuisine_rank['Country'].str.replace('-', ' ')\n",
    "cuisine_rank['Country'] = cuisine_rank['Country'].str.title()"
   ]
  },
  {
   "cell_type": "code",
   "execution_count": 1205,
   "id": "cf3db153",
   "metadata": {
    "pycharm": {
     "name": "#%%\n"
    }
   },
   "outputs": [
    {
     "data": {
      "text/plain": "    Country  Ratings\n0     Italy     4.72\n1    Greece     4.69\n2     Spain     4.59\n3     Japan     4.59\n4     India     4.54\n..      ...      ...\n90  Iceland     3.80\n91   Canada     3.79\n92   Latvia     3.79\n93  Morocco     3.69\n94   Norway     3.58\n\n[95 rows x 2 columns]",
      "text/html": "<div>\n<style scoped>\n    .dataframe tbody tr th:only-of-type {\n        vertical-align: middle;\n    }\n\n    .dataframe tbody tr th {\n        vertical-align: top;\n    }\n\n    .dataframe thead th {\n        text-align: right;\n    }\n</style>\n<table border=\"1\" class=\"dataframe\">\n  <thead>\n    <tr style=\"text-align: right;\">\n      <th></th>\n      <th>Country</th>\n      <th>Ratings</th>\n    </tr>\n  </thead>\n  <tbody>\n    <tr>\n      <th>0</th>\n      <td>Italy</td>\n      <td>4.72</td>\n    </tr>\n    <tr>\n      <th>1</th>\n      <td>Greece</td>\n      <td>4.69</td>\n    </tr>\n    <tr>\n      <th>2</th>\n      <td>Spain</td>\n      <td>4.59</td>\n    </tr>\n    <tr>\n      <th>3</th>\n      <td>Japan</td>\n      <td>4.59</td>\n    </tr>\n    <tr>\n      <th>4</th>\n      <td>India</td>\n      <td>4.54</td>\n    </tr>\n    <tr>\n      <th>...</th>\n      <td>...</td>\n      <td>...</td>\n    </tr>\n    <tr>\n      <th>90</th>\n      <td>Iceland</td>\n      <td>3.80</td>\n    </tr>\n    <tr>\n      <th>91</th>\n      <td>Canada</td>\n      <td>3.79</td>\n    </tr>\n    <tr>\n      <th>92</th>\n      <td>Latvia</td>\n      <td>3.79</td>\n    </tr>\n    <tr>\n      <th>93</th>\n      <td>Morocco</td>\n      <td>3.69</td>\n    </tr>\n    <tr>\n      <th>94</th>\n      <td>Norway</td>\n      <td>3.58</td>\n    </tr>\n  </tbody>\n</table>\n<p>95 rows × 2 columns</p>\n</div>"
     },
     "execution_count": 1205,
     "metadata": {},
     "output_type": "execute_result"
    }
   ],
   "source": [
    "cuisine_rank"
   ]
  },
  {
   "cell_type": "markdown",
   "source": [
    "## Adding ISO Code to All Datasets by Joining with Country Dataset"
   ],
   "metadata": {
    "collapsed": false,
    "pycharm": {
     "name": "#%% md\n"
    }
   }
  },
  {
   "cell_type": "markdown",
   "source": [],
   "metadata": {
    "collapsed": false,
    "pycharm": {
     "name": "#%% md\n"
    }
   }
  },
  {
   "cell_type": "markdown",
   "id": "55532386",
   "metadata": {
    "pycharm": {
     "name": "#%% md\n"
    }
   },
   "source": [
    "#### Check climate - country"
   ]
  },
  {
   "cell_type": "code",
   "execution_count": 1206,
   "id": "4570a4da",
   "metadata": {
    "pycharm": {
     "name": "#%%\n"
    }
   },
   "outputs": [
    {
     "data": {
      "text/plain": "          Country                                            Climate  \\\n0     Afghanistan     Arid To Semiarid; Cold Winters And Hot Summers   \n1        Akrotiri  Temperate; Mediterranean With Hot, Dry Summers...   \n2         Albania  Mild Temperate; Cool, Cloudy, Wet Winters; Hot...   \n3         Algeria  Arid To Semiarid; Mild, Wet Winters With Hot, ...   \n4  American Samoa  Tropical Marine, Moderated By Southeast Trade ...   \n\n  Climate Zone            Name Iso3  \n0     Tropical     Afghanistan  AFG  \n1    Temperate             NaN  NaN  \n2    Temperate         Albania  ALB  \n3     Tropical         Algeria  DZA  \n4     Tropical  American Samoa  ASM  ",
      "text/html": "<div>\n<style scoped>\n    .dataframe tbody tr th:only-of-type {\n        vertical-align: middle;\n    }\n\n    .dataframe tbody tr th {\n        vertical-align: top;\n    }\n\n    .dataframe thead th {\n        text-align: right;\n    }\n</style>\n<table border=\"1\" class=\"dataframe\">\n  <thead>\n    <tr style=\"text-align: right;\">\n      <th></th>\n      <th>Country</th>\n      <th>Climate</th>\n      <th>Climate Zone</th>\n      <th>Name</th>\n      <th>Iso3</th>\n    </tr>\n  </thead>\n  <tbody>\n    <tr>\n      <th>0</th>\n      <td>Afghanistan</td>\n      <td>Arid To Semiarid; Cold Winters And Hot Summers</td>\n      <td>Tropical</td>\n      <td>Afghanistan</td>\n      <td>AFG</td>\n    </tr>\n    <tr>\n      <th>1</th>\n      <td>Akrotiri</td>\n      <td>Temperate; Mediterranean With Hot, Dry Summers...</td>\n      <td>Temperate</td>\n      <td>NaN</td>\n      <td>NaN</td>\n    </tr>\n    <tr>\n      <th>2</th>\n      <td>Albania</td>\n      <td>Mild Temperate; Cool, Cloudy, Wet Winters; Hot...</td>\n      <td>Temperate</td>\n      <td>Albania</td>\n      <td>ALB</td>\n    </tr>\n    <tr>\n      <th>3</th>\n      <td>Algeria</td>\n      <td>Arid To Semiarid; Mild, Wet Winters With Hot, ...</td>\n      <td>Tropical</td>\n      <td>Algeria</td>\n      <td>DZA</td>\n    </tr>\n    <tr>\n      <th>4</th>\n      <td>American Samoa</td>\n      <td>Tropical Marine, Moderated By Southeast Trade ...</td>\n      <td>Tropical</td>\n      <td>American Samoa</td>\n      <td>ASM</td>\n    </tr>\n  </tbody>\n</table>\n</div>"
     },
     "execution_count": 1206,
     "metadata": {},
     "output_type": "execute_result"
    }
   ],
   "source": [
    "clim = clim.merge(country[['Name','Iso3']], how='left', left_on='Country', right_on='Name')\n",
    "clim.head()"
   ]
  },
  {
   "cell_type": "code",
   "execution_count": 1207,
   "id": "7166ab36",
   "metadata": {
    "pycharm": {
     "name": "#%%\n"
    }
   },
   "outputs": [
    {
     "data": {
      "text/plain": "                         Country  \\\n1                       Akrotiri   \n7                       Anguilla   \n8                     Antarctica   \n10                  Arctic Ocean   \n14   Ashmore And Cartier Islands   \n..                           ...   \n270               Virgin Islands   \n271                  Wake Island   \n272            Wallis And Futuna   \n273                    West Bank   \n274               Western Sahara   \n\n                                               Climate Climate Zone Name Iso3  \n1    Temperate; Mediterranean With Hot, Dry Summers...    Temperate  NaN  NaN  \n7         Tropical; Moderated By Northeast Trade Winds     Tropical  NaN  NaN  \n8    Severe Low Temperatures Vary With Latitude, El...        Polar  NaN  NaN  \n10   Polar Climate Characterized By Persistent Cold...        Polar  NaN  NaN  \n14                                            Tropical     Tropical  NaN  NaN  \n..                                                 ...          ...  ...  ...  \n270  Subtropical, Tempered By Easterly Trade Winds,...  Subtropical  NaN  NaN  \n271                                           Tropical     Tropical  NaN  NaN  \n272  Tropical; Hot, Rainy Season (November To April...     Tropical  NaN  NaN  \n273  Temperate; Temperature And Precipitation Vary ...    Temperate  NaN  NaN  \n274  Hot, Dry Desert; Rain Is Rare; Cold Offshore A...     Tropical  NaN  NaN  \n\n[73 rows x 5 columns]",
      "text/html": "<div>\n<style scoped>\n    .dataframe tbody tr th:only-of-type {\n        vertical-align: middle;\n    }\n\n    .dataframe tbody tr th {\n        vertical-align: top;\n    }\n\n    .dataframe thead th {\n        text-align: right;\n    }\n</style>\n<table border=\"1\" class=\"dataframe\">\n  <thead>\n    <tr style=\"text-align: right;\">\n      <th></th>\n      <th>Country</th>\n      <th>Climate</th>\n      <th>Climate Zone</th>\n      <th>Name</th>\n      <th>Iso3</th>\n    </tr>\n  </thead>\n  <tbody>\n    <tr>\n      <th>1</th>\n      <td>Akrotiri</td>\n      <td>Temperate; Mediterranean With Hot, Dry Summers...</td>\n      <td>Temperate</td>\n      <td>NaN</td>\n      <td>NaN</td>\n    </tr>\n    <tr>\n      <th>7</th>\n      <td>Anguilla</td>\n      <td>Tropical; Moderated By Northeast Trade Winds</td>\n      <td>Tropical</td>\n      <td>NaN</td>\n      <td>NaN</td>\n    </tr>\n    <tr>\n      <th>8</th>\n      <td>Antarctica</td>\n      <td>Severe Low Temperatures Vary With Latitude, El...</td>\n      <td>Polar</td>\n      <td>NaN</td>\n      <td>NaN</td>\n    </tr>\n    <tr>\n      <th>10</th>\n      <td>Arctic Ocean</td>\n      <td>Polar Climate Characterized By Persistent Cold...</td>\n      <td>Polar</td>\n      <td>NaN</td>\n      <td>NaN</td>\n    </tr>\n    <tr>\n      <th>14</th>\n      <td>Ashmore And Cartier Islands</td>\n      <td>Tropical</td>\n      <td>Tropical</td>\n      <td>NaN</td>\n      <td>NaN</td>\n    </tr>\n    <tr>\n      <th>...</th>\n      <td>...</td>\n      <td>...</td>\n      <td>...</td>\n      <td>...</td>\n      <td>...</td>\n    </tr>\n    <tr>\n      <th>270</th>\n      <td>Virgin Islands</td>\n      <td>Subtropical, Tempered By Easterly Trade Winds,...</td>\n      <td>Subtropical</td>\n      <td>NaN</td>\n      <td>NaN</td>\n    </tr>\n    <tr>\n      <th>271</th>\n      <td>Wake Island</td>\n      <td>Tropical</td>\n      <td>Tropical</td>\n      <td>NaN</td>\n      <td>NaN</td>\n    </tr>\n    <tr>\n      <th>272</th>\n      <td>Wallis And Futuna</td>\n      <td>Tropical; Hot, Rainy Season (November To April...</td>\n      <td>Tropical</td>\n      <td>NaN</td>\n      <td>NaN</td>\n    </tr>\n    <tr>\n      <th>273</th>\n      <td>West Bank</td>\n      <td>Temperate; Temperature And Precipitation Vary ...</td>\n      <td>Temperate</td>\n      <td>NaN</td>\n      <td>NaN</td>\n    </tr>\n    <tr>\n      <th>274</th>\n      <td>Western Sahara</td>\n      <td>Hot, Dry Desert; Rain Is Rare; Cold Offshore A...</td>\n      <td>Tropical</td>\n      <td>NaN</td>\n      <td>NaN</td>\n    </tr>\n  </tbody>\n</table>\n<p>73 rows × 5 columns</p>\n</div>"
     },
     "execution_count": 1207,
     "metadata": {},
     "output_type": "execute_result"
    }
   ],
   "source": [
    "# check the countries that are not merged\n",
    "clim[clim['Name'].isnull()]"
   ]
  },
  {
   "cell_type": "code",
   "execution_count": 1208,
   "id": "9f8e7f22",
   "metadata": {
    "pycharm": {
     "name": "#%%\n"
    }
   },
   "outputs": [],
   "source": [
    "# drop the countries that are not merged\n",
    "clim = clim.dropna(subset=['Name'])\n",
    "# drop the merged country name column to avoid repetition\n",
    "clim = clim.drop(['Name'], axis=1)"
   ]
  },
  {
   "cell_type": "code",
   "execution_count": 1209,
   "id": "1865fb87",
   "metadata": {
    "pycharm": {
     "name": "#%%\n"
    }
   },
   "outputs": [
    {
     "data": {
      "text/plain": "          Country                                            Climate  \\\n0     Afghanistan     Arid To Semiarid; Cold Winters And Hot Summers   \n2         Albania  Mild Temperate; Cool, Cloudy, Wet Winters; Hot...   \n3         Algeria  Arid To Semiarid; Mild, Wet Winters With Hot, ...   \n4  American Samoa  Tropical Marine, Moderated By Southeast Trade ...   \n5         Andorra  Temperate; Snowy, Cold Winters And Warm, Dry S...   \n\n  Climate Zone Iso3  \n0     Tropical  AFG  \n2    Temperate  ALB  \n3     Tropical  DZA  \n4     Tropical  ASM  \n5    Temperate  ADO  ",
      "text/html": "<div>\n<style scoped>\n    .dataframe tbody tr th:only-of-type {\n        vertical-align: middle;\n    }\n\n    .dataframe tbody tr th {\n        vertical-align: top;\n    }\n\n    .dataframe thead th {\n        text-align: right;\n    }\n</style>\n<table border=\"1\" class=\"dataframe\">\n  <thead>\n    <tr style=\"text-align: right;\">\n      <th></th>\n      <th>Country</th>\n      <th>Climate</th>\n      <th>Climate Zone</th>\n      <th>Iso3</th>\n    </tr>\n  </thead>\n  <tbody>\n    <tr>\n      <th>0</th>\n      <td>Afghanistan</td>\n      <td>Arid To Semiarid; Cold Winters And Hot Summers</td>\n      <td>Tropical</td>\n      <td>AFG</td>\n    </tr>\n    <tr>\n      <th>2</th>\n      <td>Albania</td>\n      <td>Mild Temperate; Cool, Cloudy, Wet Winters; Hot...</td>\n      <td>Temperate</td>\n      <td>ALB</td>\n    </tr>\n    <tr>\n      <th>3</th>\n      <td>Algeria</td>\n      <td>Arid To Semiarid; Mild, Wet Winters With Hot, ...</td>\n      <td>Tropical</td>\n      <td>DZA</td>\n    </tr>\n    <tr>\n      <th>4</th>\n      <td>American Samoa</td>\n      <td>Tropical Marine, Moderated By Southeast Trade ...</td>\n      <td>Tropical</td>\n      <td>ASM</td>\n    </tr>\n    <tr>\n      <th>5</th>\n      <td>Andorra</td>\n      <td>Temperate; Snowy, Cold Winters And Warm, Dry S...</td>\n      <td>Temperate</td>\n      <td>ADO</td>\n    </tr>\n  </tbody>\n</table>\n</div>"
     },
     "execution_count": 1209,
     "metadata": {},
     "output_type": "execute_result"
    }
   ],
   "source": [
    "clim.head()"
   ]
  },
  {
   "cell_type": "markdown",
   "id": "43cfe299",
   "metadata": {
    "pycharm": {
     "name": "#%% md\n"
    }
   },
   "source": [
    "#### Check Currency - Country"
   ]
  },
  {
   "cell_type": "code",
   "execution_count": 1210,
   "id": "f57ec348",
   "metadata": {
    "pycharm": {
     "name": "#%%\n"
    }
   },
   "outputs": [
    {
     "data": {
      "text/plain": "          Country        Currency Currency Code            Name Iso3\n0     Afghanistan         Afghani           AFN     Afghanistan  AFG\n1   Åland Islands            Euro           EUR             NaN  NaN\n2         Albania             Lek           ALL         Albania  ALB\n3         Algeria  Algerian Dinar           DZD         Algeria  DZA\n4  American Samoa       Us Dollar           USD  American Samoa  ASM",
      "text/html": "<div>\n<style scoped>\n    .dataframe tbody tr th:only-of-type {\n        vertical-align: middle;\n    }\n\n    .dataframe tbody tr th {\n        vertical-align: top;\n    }\n\n    .dataframe thead th {\n        text-align: right;\n    }\n</style>\n<table border=\"1\" class=\"dataframe\">\n  <thead>\n    <tr style=\"text-align: right;\">\n      <th></th>\n      <th>Country</th>\n      <th>Currency</th>\n      <th>Currency Code</th>\n      <th>Name</th>\n      <th>Iso3</th>\n    </tr>\n  </thead>\n  <tbody>\n    <tr>\n      <th>0</th>\n      <td>Afghanistan</td>\n      <td>Afghani</td>\n      <td>AFN</td>\n      <td>Afghanistan</td>\n      <td>AFG</td>\n    </tr>\n    <tr>\n      <th>1</th>\n      <td>Åland Islands</td>\n      <td>Euro</td>\n      <td>EUR</td>\n      <td>NaN</td>\n      <td>NaN</td>\n    </tr>\n    <tr>\n      <th>2</th>\n      <td>Albania</td>\n      <td>Lek</td>\n      <td>ALL</td>\n      <td>Albania</td>\n      <td>ALB</td>\n    </tr>\n    <tr>\n      <th>3</th>\n      <td>Algeria</td>\n      <td>Algerian Dinar</td>\n      <td>DZD</td>\n      <td>Algeria</td>\n      <td>DZA</td>\n    </tr>\n    <tr>\n      <th>4</th>\n      <td>American Samoa</td>\n      <td>Us Dollar</td>\n      <td>USD</td>\n      <td>American Samoa</td>\n      <td>ASM</td>\n    </tr>\n  </tbody>\n</table>\n</div>"
     },
     "execution_count": 1210,
     "metadata": {},
     "output_type": "execute_result"
    }
   ],
   "source": [
    "curr = curr.merge(country[['Name','Iso3']], how='left', left_on='Country', right_on='Name')\n",
    "curr.head()"
   ]
  },
  {
   "cell_type": "code",
   "execution_count": 1211,
   "id": "05f0a70a",
   "metadata": {
    "pycharm": {
     "name": "#%%\n"
    }
   },
   "outputs": [
    {
     "data": {
      "text/plain": "                                               Country  \\\n1                                        Åland Islands   \n7                                             Anguilla   \n8                                           Antarctica   \n29                    Bonaire, Sint Eustatius And Saba   \n32                                       Bouvet Island   \n34                      British Indian Ocean Territory   \n49                                    Christmas Island   \n50                               Cocos Keeling Islands   \n54                The Democratic Republic Of The Congo   \n56                                        Cook Islands   \n62                                             Curaçao   \n76                                            Eswatini   \n78                                      European Union   \n79                                    Falkland Islands   \n86                         French Southern Territories   \n92                                           Gibraltar   \n96                                          Guadeloupe   \n99                                            Guernsey   \n105                  Heard Island And Mcdonald Islands   \n106                                           Holy See   \n113                        International Monetary Fund   \n122                                             Jersey   \n151                                         Martinique   \n154                                            Mayotte   \n155  Member Countries Of The African Development Ba...   \n158                                         Micronesia   \n163                                         Montserrat   \n169                                              Nauru   \n177                                               Niue   \n178                                     Norfolk Island   \n184                                Palestine, State Of   \n191                                           Pitcairn   \n196                                            Réunion   \n200                                   Saint Barthélemy   \n201       Saint Helena, Ascension And Tristan Da Cunha   \n204                                       Saint Martin   \n205                          Saint Pierre And Miquelon   \n216                                       Sint Maarten   \n217  Sistema Unitario De Compensacion Regional De P...   \n223       South Georgia And The South Sandwich Islands   \n229                             Svalbard And Jan Mayen   \n237                       Tanzania, United Republic Of   \n241                                            Tokelau   \n253               United States Minor Outlying Islands   \n265                                     Virgin Islands   \n266                                     Virgin Islands   \n267                                  Wallis And Futuna   \n268                                     Western Sahara   \n272              Zz01_Bond Markets Unit European_Eurco   \n273              Zz02_Bond Markets Unit European_Emu-6   \n274              Zz03_Bond Markets Unit European_Eua-9   \n275             Zz04_Bond Markets Unit European_Eua-17   \n276                                  Zz06_Testing_Code   \n277                                   Zz07_No_Currency   \n278                                          Zz08_Gold   \n279                                     Zz09_Palladium   \n280                                      Zz10_Platinum   \n281                                        Zz11_Silver   \n\n                                              Currency   Currency Code Name  \\\n1                                                 Euro             EUR  NaN   \n7                                East Caribbean Dollar             XCD  NaN   \n8                                No Universal Currency  Non Applicable  NaN   \n29                                           Us Dollar             USD  NaN   \n32                                     Norwegian Krone             NOK  NaN   \n34                                           Us Dollar             USD  NaN   \n49                                   Australian Dollar             AUD  NaN   \n50                                   Australian Dollar             AUD  NaN   \n54                                     Congolese Franc             CDF  NaN   \n56                                  New Zealand Dollar             NZD  NaN   \n62                       Netherlands Antillean Guilder             ANG  NaN   \n76                                           Lilangeni             SZL  NaN   \n78                                                Euro             EUR  NaN   \n79                              Falkland Islands Pound             FKP  NaN   \n86                                                Euro             EUR  NaN   \n92                                     Gibraltar Pound             GIP  NaN   \n96                                                Euro             EUR  NaN   \n99                                      Pound Sterling             GBP  NaN   \n105                                  Australian Dollar             AUD  NaN   \n106                                               Euro             EUR  NaN   \n113                        Sdr (Special Drawing Right)             XDR  NaN   \n122                                     Pound Sterling             GBP  NaN   \n151                                               Euro             EUR  NaN   \n154                                               Euro             EUR  NaN   \n155                                Adb Unit Of Account             XUA  NaN   \n158                                          Us Dollar             USD  NaN   \n163                              East Caribbean Dollar             XCD  NaN   \n169                                  Australian Dollar             AUD  NaN   \n177                                 New Zealand Dollar             NZD  NaN   \n178                                  Australian Dollar             AUD  NaN   \n184                              No Universal Currency  Non Applicable  NaN   \n191                                 New Zealand Dollar             NZD  NaN   \n196                                               Euro             EUR  NaN   \n200                                               Euro             EUR  NaN   \n201                                 Saint Helena Pound             SHP  NaN   \n204                                               Euro             EUR  NaN   \n205                                               Euro             EUR  NaN   \n216                      Netherlands Antillean Guilder             ANG  NaN   \n217                                              Sucre             XSU  NaN   \n223                              No Universal Currency  Non Applicable  NaN   \n229                                    Norwegian Krone             NOK  NaN   \n237                                 Tanzanian Shilling             TZS  NaN   \n241                                 New Zealand Dollar             NZD  NaN   \n253                                          Us Dollar             USD  NaN   \n265                                          Us Dollar             USD  NaN   \n266                                          Us Dollar             USD  NaN   \n267                                          Cfp Franc             XPF  NaN   \n268                                    Moroccan Dirham             MAD  NaN   \n272  Bond Markets Unit European Composite Unit (Eurco)             XBA  NaN   \n273  Bond Markets Unit European Monetary Unit (E.M....             XBB  NaN   \n274  Bond Markets Unit European Unit Of Account 9 (...             XBC  NaN   \n275  Bond Markets Unit European Unit Of Account 17 ...             XBD  NaN   \n276   Codes Specifically Reserved For Testing Purposes             XTS  NaN   \n277  The Codes Assigned For Transactions Where No C...             XXX  NaN   \n278                                               Gold             XAU  NaN   \n279                                          Palladium             XPD  NaN   \n280                                           Platinum             XPT  NaN   \n281                                             Silver             XAG  NaN   \n\n    Iso3  \n1    NaN  \n7    NaN  \n8    NaN  \n29   NaN  \n32   NaN  \n34   NaN  \n49   NaN  \n50   NaN  \n54   NaN  \n56   NaN  \n62   NaN  \n76   NaN  \n78   NaN  \n79   NaN  \n86   NaN  \n92   NaN  \n96   NaN  \n99   NaN  \n105  NaN  \n106  NaN  \n113  NaN  \n122  NaN  \n151  NaN  \n154  NaN  \n155  NaN  \n158  NaN  \n163  NaN  \n169  NaN  \n177  NaN  \n178  NaN  \n184  NaN  \n191  NaN  \n196  NaN  \n200  NaN  \n201  NaN  \n204  NaN  \n205  NaN  \n216  NaN  \n217  NaN  \n223  NaN  \n229  NaN  \n237  NaN  \n241  NaN  \n253  NaN  \n265  NaN  \n266  NaN  \n267  NaN  \n268  NaN  \n272  NaN  \n273  NaN  \n274  NaN  \n275  NaN  \n276  NaN  \n277  NaN  \n278  NaN  \n279  NaN  \n280  NaN  \n281  NaN  ",
      "text/html": "<div>\n<style scoped>\n    .dataframe tbody tr th:only-of-type {\n        vertical-align: middle;\n    }\n\n    .dataframe tbody tr th {\n        vertical-align: top;\n    }\n\n    .dataframe thead th {\n        text-align: right;\n    }\n</style>\n<table border=\"1\" class=\"dataframe\">\n  <thead>\n    <tr style=\"text-align: right;\">\n      <th></th>\n      <th>Country</th>\n      <th>Currency</th>\n      <th>Currency Code</th>\n      <th>Name</th>\n      <th>Iso3</th>\n    </tr>\n  </thead>\n  <tbody>\n    <tr>\n      <th>1</th>\n      <td>Åland Islands</td>\n      <td>Euro</td>\n      <td>EUR</td>\n      <td>NaN</td>\n      <td>NaN</td>\n    </tr>\n    <tr>\n      <th>7</th>\n      <td>Anguilla</td>\n      <td>East Caribbean Dollar</td>\n      <td>XCD</td>\n      <td>NaN</td>\n      <td>NaN</td>\n    </tr>\n    <tr>\n      <th>8</th>\n      <td>Antarctica</td>\n      <td>No Universal Currency</td>\n      <td>Non Applicable</td>\n      <td>NaN</td>\n      <td>NaN</td>\n    </tr>\n    <tr>\n      <th>29</th>\n      <td>Bonaire, Sint Eustatius And Saba</td>\n      <td>Us Dollar</td>\n      <td>USD</td>\n      <td>NaN</td>\n      <td>NaN</td>\n    </tr>\n    <tr>\n      <th>32</th>\n      <td>Bouvet Island</td>\n      <td>Norwegian Krone</td>\n      <td>NOK</td>\n      <td>NaN</td>\n      <td>NaN</td>\n    </tr>\n    <tr>\n      <th>34</th>\n      <td>British Indian Ocean Territory</td>\n      <td>Us Dollar</td>\n      <td>USD</td>\n      <td>NaN</td>\n      <td>NaN</td>\n    </tr>\n    <tr>\n      <th>49</th>\n      <td>Christmas Island</td>\n      <td>Australian Dollar</td>\n      <td>AUD</td>\n      <td>NaN</td>\n      <td>NaN</td>\n    </tr>\n    <tr>\n      <th>50</th>\n      <td>Cocos Keeling Islands</td>\n      <td>Australian Dollar</td>\n      <td>AUD</td>\n      <td>NaN</td>\n      <td>NaN</td>\n    </tr>\n    <tr>\n      <th>54</th>\n      <td>The Democratic Republic Of The Congo</td>\n      <td>Congolese Franc</td>\n      <td>CDF</td>\n      <td>NaN</td>\n      <td>NaN</td>\n    </tr>\n    <tr>\n      <th>56</th>\n      <td>Cook Islands</td>\n      <td>New Zealand Dollar</td>\n      <td>NZD</td>\n      <td>NaN</td>\n      <td>NaN</td>\n    </tr>\n    <tr>\n      <th>62</th>\n      <td>Curaçao</td>\n      <td>Netherlands Antillean Guilder</td>\n      <td>ANG</td>\n      <td>NaN</td>\n      <td>NaN</td>\n    </tr>\n    <tr>\n      <th>76</th>\n      <td>Eswatini</td>\n      <td>Lilangeni</td>\n      <td>SZL</td>\n      <td>NaN</td>\n      <td>NaN</td>\n    </tr>\n    <tr>\n      <th>78</th>\n      <td>European Union</td>\n      <td>Euro</td>\n      <td>EUR</td>\n      <td>NaN</td>\n      <td>NaN</td>\n    </tr>\n    <tr>\n      <th>79</th>\n      <td>Falkland Islands</td>\n      <td>Falkland Islands Pound</td>\n      <td>FKP</td>\n      <td>NaN</td>\n      <td>NaN</td>\n    </tr>\n    <tr>\n      <th>86</th>\n      <td>French Southern Territories</td>\n      <td>Euro</td>\n      <td>EUR</td>\n      <td>NaN</td>\n      <td>NaN</td>\n    </tr>\n    <tr>\n      <th>92</th>\n      <td>Gibraltar</td>\n      <td>Gibraltar Pound</td>\n      <td>GIP</td>\n      <td>NaN</td>\n      <td>NaN</td>\n    </tr>\n    <tr>\n      <th>96</th>\n      <td>Guadeloupe</td>\n      <td>Euro</td>\n      <td>EUR</td>\n      <td>NaN</td>\n      <td>NaN</td>\n    </tr>\n    <tr>\n      <th>99</th>\n      <td>Guernsey</td>\n      <td>Pound Sterling</td>\n      <td>GBP</td>\n      <td>NaN</td>\n      <td>NaN</td>\n    </tr>\n    <tr>\n      <th>105</th>\n      <td>Heard Island And Mcdonald Islands</td>\n      <td>Australian Dollar</td>\n      <td>AUD</td>\n      <td>NaN</td>\n      <td>NaN</td>\n    </tr>\n    <tr>\n      <th>106</th>\n      <td>Holy See</td>\n      <td>Euro</td>\n      <td>EUR</td>\n      <td>NaN</td>\n      <td>NaN</td>\n    </tr>\n    <tr>\n      <th>113</th>\n      <td>International Monetary Fund</td>\n      <td>Sdr (Special Drawing Right)</td>\n      <td>XDR</td>\n      <td>NaN</td>\n      <td>NaN</td>\n    </tr>\n    <tr>\n      <th>122</th>\n      <td>Jersey</td>\n      <td>Pound Sterling</td>\n      <td>GBP</td>\n      <td>NaN</td>\n      <td>NaN</td>\n    </tr>\n    <tr>\n      <th>151</th>\n      <td>Martinique</td>\n      <td>Euro</td>\n      <td>EUR</td>\n      <td>NaN</td>\n      <td>NaN</td>\n    </tr>\n    <tr>\n      <th>154</th>\n      <td>Mayotte</td>\n      <td>Euro</td>\n      <td>EUR</td>\n      <td>NaN</td>\n      <td>NaN</td>\n    </tr>\n    <tr>\n      <th>155</th>\n      <td>Member Countries Of The African Development Ba...</td>\n      <td>Adb Unit Of Account</td>\n      <td>XUA</td>\n      <td>NaN</td>\n      <td>NaN</td>\n    </tr>\n    <tr>\n      <th>158</th>\n      <td>Micronesia</td>\n      <td>Us Dollar</td>\n      <td>USD</td>\n      <td>NaN</td>\n      <td>NaN</td>\n    </tr>\n    <tr>\n      <th>163</th>\n      <td>Montserrat</td>\n      <td>East Caribbean Dollar</td>\n      <td>XCD</td>\n      <td>NaN</td>\n      <td>NaN</td>\n    </tr>\n    <tr>\n      <th>169</th>\n      <td>Nauru</td>\n      <td>Australian Dollar</td>\n      <td>AUD</td>\n      <td>NaN</td>\n      <td>NaN</td>\n    </tr>\n    <tr>\n      <th>177</th>\n      <td>Niue</td>\n      <td>New Zealand Dollar</td>\n      <td>NZD</td>\n      <td>NaN</td>\n      <td>NaN</td>\n    </tr>\n    <tr>\n      <th>178</th>\n      <td>Norfolk Island</td>\n      <td>Australian Dollar</td>\n      <td>AUD</td>\n      <td>NaN</td>\n      <td>NaN</td>\n    </tr>\n    <tr>\n      <th>184</th>\n      <td>Palestine, State Of</td>\n      <td>No Universal Currency</td>\n      <td>Non Applicable</td>\n      <td>NaN</td>\n      <td>NaN</td>\n    </tr>\n    <tr>\n      <th>191</th>\n      <td>Pitcairn</td>\n      <td>New Zealand Dollar</td>\n      <td>NZD</td>\n      <td>NaN</td>\n      <td>NaN</td>\n    </tr>\n    <tr>\n      <th>196</th>\n      <td>Réunion</td>\n      <td>Euro</td>\n      <td>EUR</td>\n      <td>NaN</td>\n      <td>NaN</td>\n    </tr>\n    <tr>\n      <th>200</th>\n      <td>Saint Barthélemy</td>\n      <td>Euro</td>\n      <td>EUR</td>\n      <td>NaN</td>\n      <td>NaN</td>\n    </tr>\n    <tr>\n      <th>201</th>\n      <td>Saint Helena, Ascension And Tristan Da Cunha</td>\n      <td>Saint Helena Pound</td>\n      <td>SHP</td>\n      <td>NaN</td>\n      <td>NaN</td>\n    </tr>\n    <tr>\n      <th>204</th>\n      <td>Saint Martin</td>\n      <td>Euro</td>\n      <td>EUR</td>\n      <td>NaN</td>\n      <td>NaN</td>\n    </tr>\n    <tr>\n      <th>205</th>\n      <td>Saint Pierre And Miquelon</td>\n      <td>Euro</td>\n      <td>EUR</td>\n      <td>NaN</td>\n      <td>NaN</td>\n    </tr>\n    <tr>\n      <th>216</th>\n      <td>Sint Maarten</td>\n      <td>Netherlands Antillean Guilder</td>\n      <td>ANG</td>\n      <td>NaN</td>\n      <td>NaN</td>\n    </tr>\n    <tr>\n      <th>217</th>\n      <td>Sistema Unitario De Compensacion Regional De P...</td>\n      <td>Sucre</td>\n      <td>XSU</td>\n      <td>NaN</td>\n      <td>NaN</td>\n    </tr>\n    <tr>\n      <th>223</th>\n      <td>South Georgia And The South Sandwich Islands</td>\n      <td>No Universal Currency</td>\n      <td>Non Applicable</td>\n      <td>NaN</td>\n      <td>NaN</td>\n    </tr>\n    <tr>\n      <th>229</th>\n      <td>Svalbard And Jan Mayen</td>\n      <td>Norwegian Krone</td>\n      <td>NOK</td>\n      <td>NaN</td>\n      <td>NaN</td>\n    </tr>\n    <tr>\n      <th>237</th>\n      <td>Tanzania, United Republic Of</td>\n      <td>Tanzanian Shilling</td>\n      <td>TZS</td>\n      <td>NaN</td>\n      <td>NaN</td>\n    </tr>\n    <tr>\n      <th>241</th>\n      <td>Tokelau</td>\n      <td>New Zealand Dollar</td>\n      <td>NZD</td>\n      <td>NaN</td>\n      <td>NaN</td>\n    </tr>\n    <tr>\n      <th>253</th>\n      <td>United States Minor Outlying Islands</td>\n      <td>Us Dollar</td>\n      <td>USD</td>\n      <td>NaN</td>\n      <td>NaN</td>\n    </tr>\n    <tr>\n      <th>265</th>\n      <td>Virgin Islands</td>\n      <td>Us Dollar</td>\n      <td>USD</td>\n      <td>NaN</td>\n      <td>NaN</td>\n    </tr>\n    <tr>\n      <th>266</th>\n      <td>Virgin Islands</td>\n      <td>Us Dollar</td>\n      <td>USD</td>\n      <td>NaN</td>\n      <td>NaN</td>\n    </tr>\n    <tr>\n      <th>267</th>\n      <td>Wallis And Futuna</td>\n      <td>Cfp Franc</td>\n      <td>XPF</td>\n      <td>NaN</td>\n      <td>NaN</td>\n    </tr>\n    <tr>\n      <th>268</th>\n      <td>Western Sahara</td>\n      <td>Moroccan Dirham</td>\n      <td>MAD</td>\n      <td>NaN</td>\n      <td>NaN</td>\n    </tr>\n    <tr>\n      <th>272</th>\n      <td>Zz01_Bond Markets Unit European_Eurco</td>\n      <td>Bond Markets Unit European Composite Unit (Eurco)</td>\n      <td>XBA</td>\n      <td>NaN</td>\n      <td>NaN</td>\n    </tr>\n    <tr>\n      <th>273</th>\n      <td>Zz02_Bond Markets Unit European_Emu-6</td>\n      <td>Bond Markets Unit European Monetary Unit (E.M....</td>\n      <td>XBB</td>\n      <td>NaN</td>\n      <td>NaN</td>\n    </tr>\n    <tr>\n      <th>274</th>\n      <td>Zz03_Bond Markets Unit European_Eua-9</td>\n      <td>Bond Markets Unit European Unit Of Account 9 (...</td>\n      <td>XBC</td>\n      <td>NaN</td>\n      <td>NaN</td>\n    </tr>\n    <tr>\n      <th>275</th>\n      <td>Zz04_Bond Markets Unit European_Eua-17</td>\n      <td>Bond Markets Unit European Unit Of Account 17 ...</td>\n      <td>XBD</td>\n      <td>NaN</td>\n      <td>NaN</td>\n    </tr>\n    <tr>\n      <th>276</th>\n      <td>Zz06_Testing_Code</td>\n      <td>Codes Specifically Reserved For Testing Purposes</td>\n      <td>XTS</td>\n      <td>NaN</td>\n      <td>NaN</td>\n    </tr>\n    <tr>\n      <th>277</th>\n      <td>Zz07_No_Currency</td>\n      <td>The Codes Assigned For Transactions Where No C...</td>\n      <td>XXX</td>\n      <td>NaN</td>\n      <td>NaN</td>\n    </tr>\n    <tr>\n      <th>278</th>\n      <td>Zz08_Gold</td>\n      <td>Gold</td>\n      <td>XAU</td>\n      <td>NaN</td>\n      <td>NaN</td>\n    </tr>\n    <tr>\n      <th>279</th>\n      <td>Zz09_Palladium</td>\n      <td>Palladium</td>\n      <td>XPD</td>\n      <td>NaN</td>\n      <td>NaN</td>\n    </tr>\n    <tr>\n      <th>280</th>\n      <td>Zz10_Platinum</td>\n      <td>Platinum</td>\n      <td>XPT</td>\n      <td>NaN</td>\n      <td>NaN</td>\n    </tr>\n    <tr>\n      <th>281</th>\n      <td>Zz11_Silver</td>\n      <td>Silver</td>\n      <td>XAG</td>\n      <td>NaN</td>\n      <td>NaN</td>\n    </tr>\n  </tbody>\n</table>\n</div>"
     },
     "execution_count": 1211,
     "metadata": {},
     "output_type": "execute_result"
    }
   ],
   "source": [
    "curr[curr['Name'].isnull()]"
   ]
  },
  {
   "cell_type": "code",
   "execution_count": 1212,
   "id": "3acb4695",
   "metadata": {
    "pycharm": {
     "name": "#%%\n"
    }
   },
   "outputs": [],
   "source": [
    "curr = curr.dropna(subset= ['Name'])\n",
    "curr = curr.drop(['Name'], axis=1)"
   ]
  },
  {
   "cell_type": "markdown",
   "id": "7f423980",
   "metadata": {
    "pycharm": {
     "name": "#%% md\n"
    }
   },
   "source": [
    "#### Check language - country"
   ]
  },
  {
   "cell_type": "code",
   "execution_count": 1213,
   "id": "c9037d63",
   "metadata": {
    "pycharm": {
     "name": "#%%\n"
    }
   },
   "outputs": [
    {
     "data": {
      "text/plain": "       Country     Official Language         Name Iso3\n0  Afghanistan  Dari Persian, Pashtu  Afghanistan  AFG\n1      Albania              Albanian      Albania  ALB\n2      Algeria                Arabic      Algeria  DZA\n3      Andorra              Catalã¡N      Andorra  ADO\n4       Angola            Portuguese       Angola  AGO",
      "text/html": "<div>\n<style scoped>\n    .dataframe tbody tr th:only-of-type {\n        vertical-align: middle;\n    }\n\n    .dataframe tbody tr th {\n        vertical-align: top;\n    }\n\n    .dataframe thead th {\n        text-align: right;\n    }\n</style>\n<table border=\"1\" class=\"dataframe\">\n  <thead>\n    <tr style=\"text-align: right;\">\n      <th></th>\n      <th>Country</th>\n      <th>Official Language</th>\n      <th>Name</th>\n      <th>Iso3</th>\n    </tr>\n  </thead>\n  <tbody>\n    <tr>\n      <th>0</th>\n      <td>Afghanistan</td>\n      <td>Dari Persian, Pashtu</td>\n      <td>Afghanistan</td>\n      <td>AFG</td>\n    </tr>\n    <tr>\n      <th>1</th>\n      <td>Albania</td>\n      <td>Albanian</td>\n      <td>Albania</td>\n      <td>ALB</td>\n    </tr>\n    <tr>\n      <th>2</th>\n      <td>Algeria</td>\n      <td>Arabic</td>\n      <td>Algeria</td>\n      <td>DZA</td>\n    </tr>\n    <tr>\n      <th>3</th>\n      <td>Andorra</td>\n      <td>Catalã¡N</td>\n      <td>Andorra</td>\n      <td>ADO</td>\n    </tr>\n    <tr>\n      <th>4</th>\n      <td>Angola</td>\n      <td>Portuguese</td>\n      <td>Angola</td>\n      <td>AGO</td>\n    </tr>\n  </tbody>\n</table>\n</div>"
     },
     "execution_count": 1213,
     "metadata": {},
     "output_type": "execute_result"
    }
   ],
   "source": [
    "lang = lang.merge(country[['Name','Iso3']], how='left', left_on='Country', right_on='Name')\n",
    "lang.head()"
   ]
  },
  {
   "cell_type": "code",
   "execution_count": 1214,
   "id": "47abd5fa",
   "metadata": {
    "pycharm": {
     "name": "#%%\n"
    }
   },
   "outputs": [
    {
     "data": {
      "text/plain": "                             Country  \\\n50                        East Timor   \n116                       Micronesia   \n125                            Nauru   \n136     Palestinian State (Proposed)   \n153           Sã£O Tomã© E Princã­Pe   \n193          Vatican City (Holy See)   \n196  Western Sahara (Proposed State)   \n\n                                   Official Language Name Iso3  \n50                                 Tetum, Portuguese  NaN  NaN  \n116                                          English  NaN  NaN  \n125                                          Nauruan  NaN  NaN  \n136                          Arabic, Hebrew, English  NaN  NaN  \n153                                       Portuguese  NaN  NaN  \n193  Italian, Latin, French, Various Other Languages  NaN  NaN  \n196                Hassaniya Arabic, Moroccan Arabic  NaN  NaN  ",
      "text/html": "<div>\n<style scoped>\n    .dataframe tbody tr th:only-of-type {\n        vertical-align: middle;\n    }\n\n    .dataframe tbody tr th {\n        vertical-align: top;\n    }\n\n    .dataframe thead th {\n        text-align: right;\n    }\n</style>\n<table border=\"1\" class=\"dataframe\">\n  <thead>\n    <tr style=\"text-align: right;\">\n      <th></th>\n      <th>Country</th>\n      <th>Official Language</th>\n      <th>Name</th>\n      <th>Iso3</th>\n    </tr>\n  </thead>\n  <tbody>\n    <tr>\n      <th>50</th>\n      <td>East Timor</td>\n      <td>Tetum, Portuguese</td>\n      <td>NaN</td>\n      <td>NaN</td>\n    </tr>\n    <tr>\n      <th>116</th>\n      <td>Micronesia</td>\n      <td>English</td>\n      <td>NaN</td>\n      <td>NaN</td>\n    </tr>\n    <tr>\n      <th>125</th>\n      <td>Nauru</td>\n      <td>Nauruan</td>\n      <td>NaN</td>\n      <td>NaN</td>\n    </tr>\n    <tr>\n      <th>136</th>\n      <td>Palestinian State (Proposed)</td>\n      <td>Arabic, Hebrew, English</td>\n      <td>NaN</td>\n      <td>NaN</td>\n    </tr>\n    <tr>\n      <th>153</th>\n      <td>Sã£O Tomã© E Princã­Pe</td>\n      <td>Portuguese</td>\n      <td>NaN</td>\n      <td>NaN</td>\n    </tr>\n    <tr>\n      <th>193</th>\n      <td>Vatican City (Holy See)</td>\n      <td>Italian, Latin, French, Various Other Languages</td>\n      <td>NaN</td>\n      <td>NaN</td>\n    </tr>\n    <tr>\n      <th>196</th>\n      <td>Western Sahara (Proposed State)</td>\n      <td>Hassaniya Arabic, Moroccan Arabic</td>\n      <td>NaN</td>\n      <td>NaN</td>\n    </tr>\n  </tbody>\n</table>\n</div>"
     },
     "execution_count": 1214,
     "metadata": {},
     "output_type": "execute_result"
    }
   ],
   "source": [
    "lang[lang['Name'].isnull()]"
   ]
  },
  {
   "cell_type": "code",
   "execution_count": 1215,
   "id": "cbd732fc",
   "metadata": {
    "pycharm": {
     "name": "#%%\n"
    }
   },
   "outputs": [],
   "source": [
    "lang = lang.dropna(subset=['Name'])\n",
    "lang = lang.drop(['Name'], axis=1)"
   ]
  },
  {
   "cell_type": "markdown",
   "id": "8f327941",
   "metadata": {
    "pycharm": {
     "name": "#%% md\n"
    }
   },
   "source": [
    "#### Check peace - country"
   ]
  },
  {
   "cell_type": "code",
   "execution_count": 1216,
   "id": "7d2ac07f",
   "metadata": {
    "pycharm": {
     "name": "#%%\n"
    }
   },
   "outputs": [
    {
     "data": {
      "text/plain": "   Rank      Country         Name Iso3\n0   1.0      Iceland      Iceland  ISL\n1   2.0  New Zealand  New Zealand  NZL\n2   3.0      Denmark      Denmark  DNK\n3   4.0     Portugal     Portugal  PRT\n4   5.0     Slovenia     Slovenia  SVN",
      "text/html": "<div>\n<style scoped>\n    .dataframe tbody tr th:only-of-type {\n        vertical-align: middle;\n    }\n\n    .dataframe tbody tr th {\n        vertical-align: top;\n    }\n\n    .dataframe thead th {\n        text-align: right;\n    }\n</style>\n<table border=\"1\" class=\"dataframe\">\n  <thead>\n    <tr style=\"text-align: right;\">\n      <th></th>\n      <th>Rank</th>\n      <th>Country</th>\n      <th>Name</th>\n      <th>Iso3</th>\n    </tr>\n  </thead>\n  <tbody>\n    <tr>\n      <th>0</th>\n      <td>1.0</td>\n      <td>Iceland</td>\n      <td>Iceland</td>\n      <td>ISL</td>\n    </tr>\n    <tr>\n      <th>1</th>\n      <td>2.0</td>\n      <td>New Zealand</td>\n      <td>New Zealand</td>\n      <td>NZL</td>\n    </tr>\n    <tr>\n      <th>2</th>\n      <td>3.0</td>\n      <td>Denmark</td>\n      <td>Denmark</td>\n      <td>DNK</td>\n    </tr>\n    <tr>\n      <th>3</th>\n      <td>4.0</td>\n      <td>Portugal</td>\n      <td>Portugal</td>\n      <td>PRT</td>\n    </tr>\n    <tr>\n      <th>4</th>\n      <td>5.0</td>\n      <td>Slovenia</td>\n      <td>Slovenia</td>\n      <td>SVN</td>\n    </tr>\n  </tbody>\n</table>\n</div>"
     },
     "execution_count": 1216,
     "metadata": {},
     "output_type": "execute_result"
    }
   ],
   "source": [
    "peace=peace.merge(country[['Name','Iso3']], how='left', left_on='Country', right_on='Name')\n",
    "peace.head()"
   ]
  },
  {
   "cell_type": "code",
   "execution_count": 1217,
   "id": "b4519886",
   "metadata": {
    "pycharm": {
     "name": "#%%\n"
    }
   },
   "outputs": [
    {
     "data": {
      "text/plain": "      Rank                    Country Name Iso3\n52    53.0                 The Gambia  NaN  NaN\n68    69.0                   Eswatini  NaN  NaN\n138  138.0                  Palestine  NaN  NaN\n155  155.0  Central African\\nRepublic  NaN  NaN",
      "text/html": "<div>\n<style scoped>\n    .dataframe tbody tr th:only-of-type {\n        vertical-align: middle;\n    }\n\n    .dataframe tbody tr th {\n        vertical-align: top;\n    }\n\n    .dataframe thead th {\n        text-align: right;\n    }\n</style>\n<table border=\"1\" class=\"dataframe\">\n  <thead>\n    <tr style=\"text-align: right;\">\n      <th></th>\n      <th>Rank</th>\n      <th>Country</th>\n      <th>Name</th>\n      <th>Iso3</th>\n    </tr>\n  </thead>\n  <tbody>\n    <tr>\n      <th>52</th>\n      <td>53.0</td>\n      <td>The Gambia</td>\n      <td>NaN</td>\n      <td>NaN</td>\n    </tr>\n    <tr>\n      <th>68</th>\n      <td>69.0</td>\n      <td>Eswatini</td>\n      <td>NaN</td>\n      <td>NaN</td>\n    </tr>\n    <tr>\n      <th>138</th>\n      <td>138.0</td>\n      <td>Palestine</td>\n      <td>NaN</td>\n      <td>NaN</td>\n    </tr>\n    <tr>\n      <th>155</th>\n      <td>155.0</td>\n      <td>Central African\\nRepublic</td>\n      <td>NaN</td>\n      <td>NaN</td>\n    </tr>\n  </tbody>\n</table>\n</div>"
     },
     "execution_count": 1217,
     "metadata": {},
     "output_type": "execute_result"
    }
   ],
   "source": [
    "peace[peace['Name'].isnull()]"
   ]
  },
  {
   "cell_type": "code",
   "execution_count": 1218,
   "id": "926e72ca",
   "metadata": {
    "pycharm": {
     "name": "#%%\n"
    }
   },
   "outputs": [],
   "source": [
    "peace=peace.dropna(subset=['Name'])\n",
    "peace = peace.drop(['Name'], axis=1)"
   ]
  },
  {
   "cell_type": "markdown",
   "id": "04a1eb5f",
   "metadata": {
    "pycharm": {
     "name": "#%% md\n"
    }
   },
   "source": [
    "#### Check population - country"
   ]
  },
  {
   "cell_type": "code",
   "execution_count": 1219,
   "id": "1858406c",
   "metadata": {
    "pycharm": {
     "name": "#%%\n"
    }
   },
   "outputs": [
    {
     "data": {
      "text/plain": "                       Country Country Code     Pop_2021         Name Iso3\n0                        Aruba          ABW     107195.0        Aruba  ABW\n1  Africa Eastern And Southern          AFE  694665117.0          NaN  NaN\n2                  Afghanistan          AFG   39835428.0  Afghanistan  AFG\n3   Africa Western And Central          AFW  470898870.0          NaN  NaN\n4                       Angola          AGO   33933611.0       Angola  AGO",
      "text/html": "<div>\n<style scoped>\n    .dataframe tbody tr th:only-of-type {\n        vertical-align: middle;\n    }\n\n    .dataframe tbody tr th {\n        vertical-align: top;\n    }\n\n    .dataframe thead th {\n        text-align: right;\n    }\n</style>\n<table border=\"1\" class=\"dataframe\">\n  <thead>\n    <tr style=\"text-align: right;\">\n      <th></th>\n      <th>Country</th>\n      <th>Country Code</th>\n      <th>Pop_2021</th>\n      <th>Name</th>\n      <th>Iso3</th>\n    </tr>\n  </thead>\n  <tbody>\n    <tr>\n      <th>0</th>\n      <td>Aruba</td>\n      <td>ABW</td>\n      <td>107195.0</td>\n      <td>Aruba</td>\n      <td>ABW</td>\n    </tr>\n    <tr>\n      <th>1</th>\n      <td>Africa Eastern And Southern</td>\n      <td>AFE</td>\n      <td>694665117.0</td>\n      <td>NaN</td>\n      <td>NaN</td>\n    </tr>\n    <tr>\n      <th>2</th>\n      <td>Afghanistan</td>\n      <td>AFG</td>\n      <td>39835428.0</td>\n      <td>Afghanistan</td>\n      <td>AFG</td>\n    </tr>\n    <tr>\n      <th>3</th>\n      <td>Africa Western And Central</td>\n      <td>AFW</td>\n      <td>470898870.0</td>\n      <td>NaN</td>\n      <td>NaN</td>\n    </tr>\n    <tr>\n      <th>4</th>\n      <td>Angola</td>\n      <td>AGO</td>\n      <td>33933611.0</td>\n      <td>Angola</td>\n      <td>AGO</td>\n    </tr>\n  </tbody>\n</table>\n</div>"
     },
     "execution_count": 1219,
     "metadata": {},
     "output_type": "execute_result"
    }
   ],
   "source": [
    "pop=pop.merge(country[['Name','Iso3']], how='left', left_on='Country', right_on='Name')\n",
    "pop.head()"
   ]
  },
  {
   "cell_type": "code",
   "execution_count": 1220,
   "id": "54dc106a",
   "metadata": {
    "pycharm": {
     "name": "#%%\n"
    }
   },
   "outputs": [
    {
     "data": {
      "text/plain": "                                               Country Country Code  \\\n1                          Africa Eastern And Southern          AFE   \n3                           Africa Western And Central          AFW   \n7                                           Arab World          ARB   \n36                      Central Europe And The Baltics          CEB   \n49                              Caribbean Small States          CSS   \n61         East Asia & Pacific (Excluding High Income)          EAP   \n62                          Early-Demographic Dividend          EAR   \n63                                 East Asia & Pacific          EAS   \n64       Europe & Central Asia (Excluding High Income)          ECA   \n65                               Europe & Central Asia          ECS   \n68                                           Euro Area          EMU   \n72                                      European Union          EUU   \n73            Fragile And Conflict Affected Situations          FCS   \n83                                           Gibraltar          GIB   \n94                                         High Income          HIC   \n97              Heavily Indebted Poor Countries (Hipc)          HPC   \n101                                          Ibrd Only          IBD   \n102                                   Ida & Ibrd Total          IBT   \n103                                          Ida Total          IDA   \n104                                          Ida Blend          IDB   \n106                                           Ida Only          IDX   \n126  Latin America & Caribbean (Excluding High Income)          LAC   \n132                          Latin America & Caribbean          LCN   \n133       Least Developed Countries: Un Classification          LDC   \n134                                         Low Income          LIC   \n137                                Lower Middle Income          LMC   \n138                                Low & Middle Income          LMY   \n140                          Late-Demographic Dividend          LTE   \n151                         Middle East & North Africa          MEA   \n154                                      Middle Income          MIC   \n159  Middle East & North Africa (Excluding High Inc...          MNA   \n168                                      North America          NAC   \n177                                              Nauru          NRU   \n179                                       Oecd Members          OED   \n181                                 Other Small States          OSS   \n189                           Pre-Demographic Dividend          PRE   \n191                          Korea, Dem. People'S Rep.          PRK   \n195                        Pacific Island Small States          PSS   \n196                          Post-Demographic Dividend          PST   \n202                                         South Asia          SAS   \n213         Sub-Saharan Africa (Excluding High Income)          SSA   \n215                                 Sub-Saharan Africa          SSF   \n216                                       Small States          SST   \n222                                           Eswatini          SWZ   \n228         East Asia & Pacific (Ida & Ibrd Countries)          TEA   \n229       Europe & Central Asia (Ida & Ibrd Countries)          TEC   \n234  Latin America & The Caribbean (Ida & Ibrd Coun...          TLA   \n236  Middle East & North Africa (Ida & Ibrd Countries)          TMN   \n238                            South Asia (Ida & Ibrd)          TSA   \n239          Sub-Saharan Africa (Ida & Ibrd Countries)          TSS   \n247                                Upper Middle Income          UMC   \n253                             British Virgin Islands          VGB   \n257                                              World          WLD   \n\n         Pop_2021 Name Iso3  \n1    6.946651e+08  NaN  NaN  \n3    4.708989e+08  NaN  NaN  \n7    4.445178e+08  NaN  NaN  \n36   1.016696e+08  NaN  NaN  \n49   7.481631e+06  NaN  NaN  \n61   2.122086e+09  NaN  NaN  \n62   3.373867e+09  NaN  NaN  \n63   2.368623e+09  NaN  NaN  \n64   4.018289e+08  NaN  NaN  \n65   9.237537e+08  NaN  NaN  \n68   3.425665e+08  NaN  NaN  \n72   4.469467e+08  NaN  NaN  \n73   9.829808e+08  NaN  NaN  \n83   3.369100e+04  NaN  NaN  \n94   1.241374e+09  NaN  NaN  \n97   8.455223e+08  NaN  NaN  \n101  4.895295e+09  NaN  NaN  \n102  6.642614e+09  NaN  NaN  \n103  1.747319e+09  NaN  NaN  \n104  5.868834e+08  NaN  NaN  \n106  1.160435e+09  NaN  NaN  \n126  5.962176e+08  NaN  NaN  \n132  6.580892e+08  NaN  NaN  \n133  1.081505e+09  NaN  NaN  \n134  7.019270e+08  NaN  NaN  \n137  3.363197e+09  NaN  NaN  \n138  6.566552e+09  NaN  NaN  \n140  2.322070e+09  NaN  NaN  \n151  4.724950e+08  NaN  NaN  \n154  5.864625e+09  NaN  NaN  \n159  4.030516e+08  NaN  NaN  \n168  3.702037e+08  NaN  NaN  \n177  1.087300e+04  NaN  NaN  \n179  1.375820e+09  NaN  NaN  \n181  3.246428e+07  NaN  NaN  \n189  9.971582e+08  NaN  NaN  \n191  2.588704e+07  NaN  NaN  \n195  2.566494e+06  NaN  NaN  \n196  1.116655e+09  NaN  NaN  \n202  1.877902e+09  NaN  NaN  \n213  1.165465e+09  NaN  NaN  \n215  1.165564e+09  NaN  NaN  \n216  4.251241e+07  NaN  NaN  \n222  1.172369e+06  NaN  NaN  \n228  2.096155e+09  NaN  NaN  \n229  4.626241e+08  NaN  NaN  \n234  6.422398e+08  NaN  NaN  \n236  3.981289e+08  NaN  NaN  \n238  1.877902e+09  NaN  NaN  \n239  1.165564e+09  NaN  NaN  \n247  2.501428e+09  NaN  NaN  \n253  3.042300e+04  NaN  NaN  \n257  7.836631e+09  NaN  NaN  ",
      "text/html": "<div>\n<style scoped>\n    .dataframe tbody tr th:only-of-type {\n        vertical-align: middle;\n    }\n\n    .dataframe tbody tr th {\n        vertical-align: top;\n    }\n\n    .dataframe thead th {\n        text-align: right;\n    }\n</style>\n<table border=\"1\" class=\"dataframe\">\n  <thead>\n    <tr style=\"text-align: right;\">\n      <th></th>\n      <th>Country</th>\n      <th>Country Code</th>\n      <th>Pop_2021</th>\n      <th>Name</th>\n      <th>Iso3</th>\n    </tr>\n  </thead>\n  <tbody>\n    <tr>\n      <th>1</th>\n      <td>Africa Eastern And Southern</td>\n      <td>AFE</td>\n      <td>6.946651e+08</td>\n      <td>NaN</td>\n      <td>NaN</td>\n    </tr>\n    <tr>\n      <th>3</th>\n      <td>Africa Western And Central</td>\n      <td>AFW</td>\n      <td>4.708989e+08</td>\n      <td>NaN</td>\n      <td>NaN</td>\n    </tr>\n    <tr>\n      <th>7</th>\n      <td>Arab World</td>\n      <td>ARB</td>\n      <td>4.445178e+08</td>\n      <td>NaN</td>\n      <td>NaN</td>\n    </tr>\n    <tr>\n      <th>36</th>\n      <td>Central Europe And The Baltics</td>\n      <td>CEB</td>\n      <td>1.016696e+08</td>\n      <td>NaN</td>\n      <td>NaN</td>\n    </tr>\n    <tr>\n      <th>49</th>\n      <td>Caribbean Small States</td>\n      <td>CSS</td>\n      <td>7.481631e+06</td>\n      <td>NaN</td>\n      <td>NaN</td>\n    </tr>\n    <tr>\n      <th>61</th>\n      <td>East Asia &amp; Pacific (Excluding High Income)</td>\n      <td>EAP</td>\n      <td>2.122086e+09</td>\n      <td>NaN</td>\n      <td>NaN</td>\n    </tr>\n    <tr>\n      <th>62</th>\n      <td>Early-Demographic Dividend</td>\n      <td>EAR</td>\n      <td>3.373867e+09</td>\n      <td>NaN</td>\n      <td>NaN</td>\n    </tr>\n    <tr>\n      <th>63</th>\n      <td>East Asia &amp; Pacific</td>\n      <td>EAS</td>\n      <td>2.368623e+09</td>\n      <td>NaN</td>\n      <td>NaN</td>\n    </tr>\n    <tr>\n      <th>64</th>\n      <td>Europe &amp; Central Asia (Excluding High Income)</td>\n      <td>ECA</td>\n      <td>4.018289e+08</td>\n      <td>NaN</td>\n      <td>NaN</td>\n    </tr>\n    <tr>\n      <th>65</th>\n      <td>Europe &amp; Central Asia</td>\n      <td>ECS</td>\n      <td>9.237537e+08</td>\n      <td>NaN</td>\n      <td>NaN</td>\n    </tr>\n    <tr>\n      <th>68</th>\n      <td>Euro Area</td>\n      <td>EMU</td>\n      <td>3.425665e+08</td>\n      <td>NaN</td>\n      <td>NaN</td>\n    </tr>\n    <tr>\n      <th>72</th>\n      <td>European Union</td>\n      <td>EUU</td>\n      <td>4.469467e+08</td>\n      <td>NaN</td>\n      <td>NaN</td>\n    </tr>\n    <tr>\n      <th>73</th>\n      <td>Fragile And Conflict Affected Situations</td>\n      <td>FCS</td>\n      <td>9.829808e+08</td>\n      <td>NaN</td>\n      <td>NaN</td>\n    </tr>\n    <tr>\n      <th>83</th>\n      <td>Gibraltar</td>\n      <td>GIB</td>\n      <td>3.369100e+04</td>\n      <td>NaN</td>\n      <td>NaN</td>\n    </tr>\n    <tr>\n      <th>94</th>\n      <td>High Income</td>\n      <td>HIC</td>\n      <td>1.241374e+09</td>\n      <td>NaN</td>\n      <td>NaN</td>\n    </tr>\n    <tr>\n      <th>97</th>\n      <td>Heavily Indebted Poor Countries (Hipc)</td>\n      <td>HPC</td>\n      <td>8.455223e+08</td>\n      <td>NaN</td>\n      <td>NaN</td>\n    </tr>\n    <tr>\n      <th>101</th>\n      <td>Ibrd Only</td>\n      <td>IBD</td>\n      <td>4.895295e+09</td>\n      <td>NaN</td>\n      <td>NaN</td>\n    </tr>\n    <tr>\n      <th>102</th>\n      <td>Ida &amp; Ibrd Total</td>\n      <td>IBT</td>\n      <td>6.642614e+09</td>\n      <td>NaN</td>\n      <td>NaN</td>\n    </tr>\n    <tr>\n      <th>103</th>\n      <td>Ida Total</td>\n      <td>IDA</td>\n      <td>1.747319e+09</td>\n      <td>NaN</td>\n      <td>NaN</td>\n    </tr>\n    <tr>\n      <th>104</th>\n      <td>Ida Blend</td>\n      <td>IDB</td>\n      <td>5.868834e+08</td>\n      <td>NaN</td>\n      <td>NaN</td>\n    </tr>\n    <tr>\n      <th>106</th>\n      <td>Ida Only</td>\n      <td>IDX</td>\n      <td>1.160435e+09</td>\n      <td>NaN</td>\n      <td>NaN</td>\n    </tr>\n    <tr>\n      <th>126</th>\n      <td>Latin America &amp; Caribbean (Excluding High Income)</td>\n      <td>LAC</td>\n      <td>5.962176e+08</td>\n      <td>NaN</td>\n      <td>NaN</td>\n    </tr>\n    <tr>\n      <th>132</th>\n      <td>Latin America &amp; Caribbean</td>\n      <td>LCN</td>\n      <td>6.580892e+08</td>\n      <td>NaN</td>\n      <td>NaN</td>\n    </tr>\n    <tr>\n      <th>133</th>\n      <td>Least Developed Countries: Un Classification</td>\n      <td>LDC</td>\n      <td>1.081505e+09</td>\n      <td>NaN</td>\n      <td>NaN</td>\n    </tr>\n    <tr>\n      <th>134</th>\n      <td>Low Income</td>\n      <td>LIC</td>\n      <td>7.019270e+08</td>\n      <td>NaN</td>\n      <td>NaN</td>\n    </tr>\n    <tr>\n      <th>137</th>\n      <td>Lower Middle Income</td>\n      <td>LMC</td>\n      <td>3.363197e+09</td>\n      <td>NaN</td>\n      <td>NaN</td>\n    </tr>\n    <tr>\n      <th>138</th>\n      <td>Low &amp; Middle Income</td>\n      <td>LMY</td>\n      <td>6.566552e+09</td>\n      <td>NaN</td>\n      <td>NaN</td>\n    </tr>\n    <tr>\n      <th>140</th>\n      <td>Late-Demographic Dividend</td>\n      <td>LTE</td>\n      <td>2.322070e+09</td>\n      <td>NaN</td>\n      <td>NaN</td>\n    </tr>\n    <tr>\n      <th>151</th>\n      <td>Middle East &amp; North Africa</td>\n      <td>MEA</td>\n      <td>4.724950e+08</td>\n      <td>NaN</td>\n      <td>NaN</td>\n    </tr>\n    <tr>\n      <th>154</th>\n      <td>Middle Income</td>\n      <td>MIC</td>\n      <td>5.864625e+09</td>\n      <td>NaN</td>\n      <td>NaN</td>\n    </tr>\n    <tr>\n      <th>159</th>\n      <td>Middle East &amp; North Africa (Excluding High Inc...</td>\n      <td>MNA</td>\n      <td>4.030516e+08</td>\n      <td>NaN</td>\n      <td>NaN</td>\n    </tr>\n    <tr>\n      <th>168</th>\n      <td>North America</td>\n      <td>NAC</td>\n      <td>3.702037e+08</td>\n      <td>NaN</td>\n      <td>NaN</td>\n    </tr>\n    <tr>\n      <th>177</th>\n      <td>Nauru</td>\n      <td>NRU</td>\n      <td>1.087300e+04</td>\n      <td>NaN</td>\n      <td>NaN</td>\n    </tr>\n    <tr>\n      <th>179</th>\n      <td>Oecd Members</td>\n      <td>OED</td>\n      <td>1.375820e+09</td>\n      <td>NaN</td>\n      <td>NaN</td>\n    </tr>\n    <tr>\n      <th>181</th>\n      <td>Other Small States</td>\n      <td>OSS</td>\n      <td>3.246428e+07</td>\n      <td>NaN</td>\n      <td>NaN</td>\n    </tr>\n    <tr>\n      <th>189</th>\n      <td>Pre-Demographic Dividend</td>\n      <td>PRE</td>\n      <td>9.971582e+08</td>\n      <td>NaN</td>\n      <td>NaN</td>\n    </tr>\n    <tr>\n      <th>191</th>\n      <td>Korea, Dem. People'S Rep.</td>\n      <td>PRK</td>\n      <td>2.588704e+07</td>\n      <td>NaN</td>\n      <td>NaN</td>\n    </tr>\n    <tr>\n      <th>195</th>\n      <td>Pacific Island Small States</td>\n      <td>PSS</td>\n      <td>2.566494e+06</td>\n      <td>NaN</td>\n      <td>NaN</td>\n    </tr>\n    <tr>\n      <th>196</th>\n      <td>Post-Demographic Dividend</td>\n      <td>PST</td>\n      <td>1.116655e+09</td>\n      <td>NaN</td>\n      <td>NaN</td>\n    </tr>\n    <tr>\n      <th>202</th>\n      <td>South Asia</td>\n      <td>SAS</td>\n      <td>1.877902e+09</td>\n      <td>NaN</td>\n      <td>NaN</td>\n    </tr>\n    <tr>\n      <th>213</th>\n      <td>Sub-Saharan Africa (Excluding High Income)</td>\n      <td>SSA</td>\n      <td>1.165465e+09</td>\n      <td>NaN</td>\n      <td>NaN</td>\n    </tr>\n    <tr>\n      <th>215</th>\n      <td>Sub-Saharan Africa</td>\n      <td>SSF</td>\n      <td>1.165564e+09</td>\n      <td>NaN</td>\n      <td>NaN</td>\n    </tr>\n    <tr>\n      <th>216</th>\n      <td>Small States</td>\n      <td>SST</td>\n      <td>4.251241e+07</td>\n      <td>NaN</td>\n      <td>NaN</td>\n    </tr>\n    <tr>\n      <th>222</th>\n      <td>Eswatini</td>\n      <td>SWZ</td>\n      <td>1.172369e+06</td>\n      <td>NaN</td>\n      <td>NaN</td>\n    </tr>\n    <tr>\n      <th>228</th>\n      <td>East Asia &amp; Pacific (Ida &amp; Ibrd Countries)</td>\n      <td>TEA</td>\n      <td>2.096155e+09</td>\n      <td>NaN</td>\n      <td>NaN</td>\n    </tr>\n    <tr>\n      <th>229</th>\n      <td>Europe &amp; Central Asia (Ida &amp; Ibrd Countries)</td>\n      <td>TEC</td>\n      <td>4.626241e+08</td>\n      <td>NaN</td>\n      <td>NaN</td>\n    </tr>\n    <tr>\n      <th>234</th>\n      <td>Latin America &amp; The Caribbean (Ida &amp; Ibrd Coun...</td>\n      <td>TLA</td>\n      <td>6.422398e+08</td>\n      <td>NaN</td>\n      <td>NaN</td>\n    </tr>\n    <tr>\n      <th>236</th>\n      <td>Middle East &amp; North Africa (Ida &amp; Ibrd Countries)</td>\n      <td>TMN</td>\n      <td>3.981289e+08</td>\n      <td>NaN</td>\n      <td>NaN</td>\n    </tr>\n    <tr>\n      <th>238</th>\n      <td>South Asia (Ida &amp; Ibrd)</td>\n      <td>TSA</td>\n      <td>1.877902e+09</td>\n      <td>NaN</td>\n      <td>NaN</td>\n    </tr>\n    <tr>\n      <th>239</th>\n      <td>Sub-Saharan Africa (Ida &amp; Ibrd Countries)</td>\n      <td>TSS</td>\n      <td>1.165564e+09</td>\n      <td>NaN</td>\n      <td>NaN</td>\n    </tr>\n    <tr>\n      <th>247</th>\n      <td>Upper Middle Income</td>\n      <td>UMC</td>\n      <td>2.501428e+09</td>\n      <td>NaN</td>\n      <td>NaN</td>\n    </tr>\n    <tr>\n      <th>253</th>\n      <td>British Virgin Islands</td>\n      <td>VGB</td>\n      <td>3.042300e+04</td>\n      <td>NaN</td>\n      <td>NaN</td>\n    </tr>\n    <tr>\n      <th>257</th>\n      <td>World</td>\n      <td>WLD</td>\n      <td>7.836631e+09</td>\n      <td>NaN</td>\n      <td>NaN</td>\n    </tr>\n  </tbody>\n</table>\n</div>"
     },
     "execution_count": 1220,
     "metadata": {},
     "output_type": "execute_result"
    }
   ],
   "source": [
    "pop[pop['Name'].isnull()]"
   ]
  },
  {
   "cell_type": "code",
   "execution_count": 1221,
   "id": "004dd4dc",
   "metadata": {
    "pycharm": {
     "name": "#%%\n"
    }
   },
   "outputs": [],
   "source": [
    "pop = pop.dropna(subset=['Name'])"
   ]
  },
  {
   "cell_type": "code",
   "execution_count": 1222,
   "id": "24b51837",
   "metadata": {
    "pycharm": {
     "name": "#%%\n"
    }
   },
   "outputs": [],
   "source": [
    "# drop both country name and iso code from the merged dataset, as population data already contains ISO code\n",
    "pop = pop.drop(['Name', 'Iso3'], axis=1)"
   ]
  },
  {
   "cell_type": "markdown",
   "id": "f5e9801b",
   "metadata": {
    "pycharm": {
     "name": "#%% md\n"
    }
   },
   "source": [
    "#### Check Religion - country"
   ]
  },
  {
   "cell_type": "code",
   "execution_count": 1223,
   "id": "0aa272d7",
   "metadata": {
    "pycharm": {
     "name": "#%%\n"
    }
   },
   "outputs": [
    {
     "data": {
      "text/plain": "               Country       Main Religion                 Name Iso3\n0              Albania              Muslim              Albania  ALB\n1             Anguilla            Anglican                  NaN  NaN\n2  Antigua And Barbuda            Anglican  Antigua And Barbuda  ATG\n3              Armenia  Armenian Apostolic              Armenia  ARM\n4                Aruba      Roman Catholic                Aruba  ABW",
      "text/html": "<div>\n<style scoped>\n    .dataframe tbody tr th:only-of-type {\n        vertical-align: middle;\n    }\n\n    .dataframe tbody tr th {\n        vertical-align: top;\n    }\n\n    .dataframe thead th {\n        text-align: right;\n    }\n</style>\n<table border=\"1\" class=\"dataframe\">\n  <thead>\n    <tr style=\"text-align: right;\">\n      <th></th>\n      <th>Country</th>\n      <th>Main Religion</th>\n      <th>Name</th>\n      <th>Iso3</th>\n    </tr>\n  </thead>\n  <tbody>\n    <tr>\n      <th>0</th>\n      <td>Albania</td>\n      <td>Muslim</td>\n      <td>Albania</td>\n      <td>ALB</td>\n    </tr>\n    <tr>\n      <th>1</th>\n      <td>Anguilla</td>\n      <td>Anglican</td>\n      <td>NaN</td>\n      <td>NaN</td>\n    </tr>\n    <tr>\n      <th>2</th>\n      <td>Antigua And Barbuda</td>\n      <td>Anglican</td>\n      <td>Antigua And Barbuda</td>\n      <td>ATG</td>\n    </tr>\n    <tr>\n      <th>3</th>\n      <td>Armenia</td>\n      <td>Armenian Apostolic</td>\n      <td>Armenia</td>\n      <td>ARM</td>\n    </tr>\n    <tr>\n      <th>4</th>\n      <td>Aruba</td>\n      <td>Roman Catholic</td>\n      <td>Aruba</td>\n      <td>ABW</td>\n    </tr>\n  </tbody>\n</table>\n</div>"
     },
     "execution_count": 1223,
     "metadata": {},
     "output_type": "execute_result"
    }
   ],
   "source": [
    "rel=rel.merge(country[['Name','Iso3']], how='left', left_on='Country', right_on='Name')\n",
    "rel.head()"
   ]
  },
  {
   "cell_type": "code",
   "execution_count": 1224,
   "id": "89692c3c",
   "metadata": {
    "pycharm": {
     "name": "#%%\n"
    }
   },
   "outputs": [
    {
     "data": {
      "text/plain": "                              Country             Main Religion Name Iso3\n1                            Anguilla                  Anglican  NaN  NaN\n15             British Virgin Islands                 Methodist  NaN  NaN\n24                       Cook Islands                 Christian  NaN  NaN\n32        Falkland Islands (Malvinas)                 Christian  NaN  NaN\n38                          Gibraltar            Roman Catholic  NaN  NaN\n61   Micronesia (Federated States Of)            Roman Catholic  NaN  NaN\n64                         Montserrat                  Anglican  NaN  NaN\n71                               Niue             Ekalesia Niue  NaN  NaN\n72                     Norfolk Island         Church Of England  NaN  NaN\n86              Saint Helena Ex. Dep.         Church Of England  NaN  NaN\n99                 State Of Palestine                    Islam   NaN  NaN\n104                           Tokelau  Christian Congregational  NaN  NaN",
      "text/html": "<div>\n<style scoped>\n    .dataframe tbody tr th:only-of-type {\n        vertical-align: middle;\n    }\n\n    .dataframe tbody tr th {\n        vertical-align: top;\n    }\n\n    .dataframe thead th {\n        text-align: right;\n    }\n</style>\n<table border=\"1\" class=\"dataframe\">\n  <thead>\n    <tr style=\"text-align: right;\">\n      <th></th>\n      <th>Country</th>\n      <th>Main Religion</th>\n      <th>Name</th>\n      <th>Iso3</th>\n    </tr>\n  </thead>\n  <tbody>\n    <tr>\n      <th>1</th>\n      <td>Anguilla</td>\n      <td>Anglican</td>\n      <td>NaN</td>\n      <td>NaN</td>\n    </tr>\n    <tr>\n      <th>15</th>\n      <td>British Virgin Islands</td>\n      <td>Methodist</td>\n      <td>NaN</td>\n      <td>NaN</td>\n    </tr>\n    <tr>\n      <th>24</th>\n      <td>Cook Islands</td>\n      <td>Christian</td>\n      <td>NaN</td>\n      <td>NaN</td>\n    </tr>\n    <tr>\n      <th>32</th>\n      <td>Falkland Islands (Malvinas)</td>\n      <td>Christian</td>\n      <td>NaN</td>\n      <td>NaN</td>\n    </tr>\n    <tr>\n      <th>38</th>\n      <td>Gibraltar</td>\n      <td>Roman Catholic</td>\n      <td>NaN</td>\n      <td>NaN</td>\n    </tr>\n    <tr>\n      <th>61</th>\n      <td>Micronesia (Federated States Of)</td>\n      <td>Roman Catholic</td>\n      <td>NaN</td>\n      <td>NaN</td>\n    </tr>\n    <tr>\n      <th>64</th>\n      <td>Montserrat</td>\n      <td>Anglican</td>\n      <td>NaN</td>\n      <td>NaN</td>\n    </tr>\n    <tr>\n      <th>71</th>\n      <td>Niue</td>\n      <td>Ekalesia Niue</td>\n      <td>NaN</td>\n      <td>NaN</td>\n    </tr>\n    <tr>\n      <th>72</th>\n      <td>Norfolk Island</td>\n      <td>Church Of England</td>\n      <td>NaN</td>\n      <td>NaN</td>\n    </tr>\n    <tr>\n      <th>86</th>\n      <td>Saint Helena Ex. Dep.</td>\n      <td>Church Of England</td>\n      <td>NaN</td>\n      <td>NaN</td>\n    </tr>\n    <tr>\n      <th>99</th>\n      <td>State Of Palestine</td>\n      <td>Islam</td>\n      <td>NaN</td>\n      <td>NaN</td>\n    </tr>\n    <tr>\n      <th>104</th>\n      <td>Tokelau</td>\n      <td>Christian Congregational</td>\n      <td>NaN</td>\n      <td>NaN</td>\n    </tr>\n  </tbody>\n</table>\n</div>"
     },
     "execution_count": 1224,
     "metadata": {},
     "output_type": "execute_result"
    }
   ],
   "source": [
    "rel[rel['Name'].isnull()]"
   ]
  },
  {
   "cell_type": "code",
   "execution_count": 1225,
   "id": "d798242d",
   "metadata": {
    "pycharm": {
     "name": "#%%\n"
    }
   },
   "outputs": [],
   "source": [
    "rel = rel.dropna(subset=['Name'])\n",
    "rel = rel.drop(['Name'], axis=1)"
   ]
  },
  {
   "cell_type": "markdown",
   "id": "f75f68f9",
   "metadata": {
    "pycharm": {
     "name": "#%% md\n"
    }
   },
   "source": [
    "#### Check Average Restaurant and Accomodation Cost - ISO"
   ]
  },
  {
   "cell_type": "code",
   "execution_count": 1226,
   "id": "2d23bb84",
   "metadata": {
    "pycharm": {
     "name": "#%%\n"
    }
   },
   "outputs": [
    {
     "data": {
      "text/plain": "          Country Country Code  Average Hotel and Restaurant Cost  \\\n0         Albania          ALB                              50.78   \n1         Algeria          DZA                              33.93   \n2  American Samoa          ASM                                NaN   \n3          Angola          AGO                              79.22   \n4        Anguilla          AIA                             122.30   \n\n      Type Traveler            Name Iso3  \n0   Budget Traveler         Albania  ALB  \n1   Budget Traveler         Algeria  DZA  \n2    Non Applicable  American Samoa  ASM  \n3  Comfort traveler          Angola  AGO  \n4  Comfort traveler             NaN  NaN  ",
      "text/html": "<div>\n<style scoped>\n    .dataframe tbody tr th:only-of-type {\n        vertical-align: middle;\n    }\n\n    .dataframe tbody tr th {\n        vertical-align: top;\n    }\n\n    .dataframe thead th {\n        text-align: right;\n    }\n</style>\n<table border=\"1\" class=\"dataframe\">\n  <thead>\n    <tr style=\"text-align: right;\">\n      <th></th>\n      <th>Country</th>\n      <th>Country Code</th>\n      <th>Average Hotel and Restaurant Cost</th>\n      <th>Type Traveler</th>\n      <th>Name</th>\n      <th>Iso3</th>\n    </tr>\n  </thead>\n  <tbody>\n    <tr>\n      <th>0</th>\n      <td>Albania</td>\n      <td>ALB</td>\n      <td>50.78</td>\n      <td>Budget Traveler</td>\n      <td>Albania</td>\n      <td>ALB</td>\n    </tr>\n    <tr>\n      <th>1</th>\n      <td>Algeria</td>\n      <td>DZA</td>\n      <td>33.93</td>\n      <td>Budget Traveler</td>\n      <td>Algeria</td>\n      <td>DZA</td>\n    </tr>\n    <tr>\n      <th>2</th>\n      <td>American Samoa</td>\n      <td>ASM</td>\n      <td>NaN</td>\n      <td>Non Applicable</td>\n      <td>American Samoa</td>\n      <td>ASM</td>\n    </tr>\n    <tr>\n      <th>3</th>\n      <td>Angola</td>\n      <td>AGO</td>\n      <td>79.22</td>\n      <td>Comfort traveler</td>\n      <td>Angola</td>\n      <td>AGO</td>\n    </tr>\n    <tr>\n      <th>4</th>\n      <td>Anguilla</td>\n      <td>AIA</td>\n      <td>122.30</td>\n      <td>Comfort traveler</td>\n      <td>NaN</td>\n      <td>NaN</td>\n    </tr>\n  </tbody>\n</table>\n</div>"
     },
     "execution_count": 1226,
     "metadata": {},
     "output_type": "execute_result"
    }
   ],
   "source": [
    "avg_rest_hot_p = avg_rest_hot_p.merge(country[['Name','Iso3']], how='left', left_on='Country Code', right_on='Iso3')\n",
    "avg_rest_hot_p.head()"
   ]
  },
  {
   "cell_type": "code",
   "execution_count": 1227,
   "id": "d75baf9c",
   "metadata": {
    "pycharm": {
     "name": "#%%\n"
    }
   },
   "outputs": [
    {
     "data": {
      "text/plain": "                              Country Country Code  \\\n4                            Anguilla          AIA   \n28                            Bonaire          BON   \n62                       Cook Islands          COK   \n78          East Asia & Pacific (Icp)          EAB   \n88        Europe & Central Asia (Icp)          ECB   \n150   Latin America & Caribbean (Icp)          LCB   \n176  Middle East & North Africa (Icp)          MEB   \n183                        Montserrat          MSR   \n189                             Nauru          NRU   \n199                              Niue          NIU   \n200               North America (Icp)          NAB   \n246                  South Asia (Icp)          SAB   \n256          Sub-Saharan Africa (Icp)          SSB   \n280                       Timor-Leste          TLS   \n282                           Tokelau          TKL   \n312           Virgin Islands, British          VGB   \n313                 Wallis And Futuna          WLF   \n314                West Bank And Gaza          PSE   \n315                             World          WLD   \n\n     Average Hotel and Restaurant Cost     Type Traveler Name Iso3  \n4                               122.30  Comfort traveler  NaN  NaN  \n28                              156.57     Luxury Travel  NaN  NaN  \n62                                 NaN    Non Applicable  NaN  NaN  \n78                               80.57  Comfort traveler  NaN  NaN  \n88                              120.78  Comfort traveler  NaN  NaN  \n150                              78.35  Comfort traveler  NaN  NaN  \n176                              64.50   Budget Traveler  NaN  NaN  \n183                              84.58  Comfort traveler  NaN  NaN  \n189                                NaN    Non Applicable  NaN  NaN  \n199                                NaN    Non Applicable  NaN  NaN  \n200                             128.94  Comfort traveler  NaN  NaN  \n246                              42.21   Budget Traveler  NaN  NaN  \n256                              46.83   Budget Traveler  NaN  NaN  \n280                                NaN    Non Applicable  NaN  NaN  \n282                                NaN    Non Applicable  NaN  NaN  \n312                             116.88  Comfort traveler  NaN  NaN  \n313                                NaN    Non Applicable  NaN  NaN  \n314                              96.53  Comfort traveler  NaN  NaN  \n315                             100.00  Comfort traveler  NaN  NaN  ",
      "text/html": "<div>\n<style scoped>\n    .dataframe tbody tr th:only-of-type {\n        vertical-align: middle;\n    }\n\n    .dataframe tbody tr th {\n        vertical-align: top;\n    }\n\n    .dataframe thead th {\n        text-align: right;\n    }\n</style>\n<table border=\"1\" class=\"dataframe\">\n  <thead>\n    <tr style=\"text-align: right;\">\n      <th></th>\n      <th>Country</th>\n      <th>Country Code</th>\n      <th>Average Hotel and Restaurant Cost</th>\n      <th>Type Traveler</th>\n      <th>Name</th>\n      <th>Iso3</th>\n    </tr>\n  </thead>\n  <tbody>\n    <tr>\n      <th>4</th>\n      <td>Anguilla</td>\n      <td>AIA</td>\n      <td>122.30</td>\n      <td>Comfort traveler</td>\n      <td>NaN</td>\n      <td>NaN</td>\n    </tr>\n    <tr>\n      <th>28</th>\n      <td>Bonaire</td>\n      <td>BON</td>\n      <td>156.57</td>\n      <td>Luxury Travel</td>\n      <td>NaN</td>\n      <td>NaN</td>\n    </tr>\n    <tr>\n      <th>62</th>\n      <td>Cook Islands</td>\n      <td>COK</td>\n      <td>NaN</td>\n      <td>Non Applicable</td>\n      <td>NaN</td>\n      <td>NaN</td>\n    </tr>\n    <tr>\n      <th>78</th>\n      <td>East Asia &amp; Pacific (Icp)</td>\n      <td>EAB</td>\n      <td>80.57</td>\n      <td>Comfort traveler</td>\n      <td>NaN</td>\n      <td>NaN</td>\n    </tr>\n    <tr>\n      <th>88</th>\n      <td>Europe &amp; Central Asia (Icp)</td>\n      <td>ECB</td>\n      <td>120.78</td>\n      <td>Comfort traveler</td>\n      <td>NaN</td>\n      <td>NaN</td>\n    </tr>\n    <tr>\n      <th>150</th>\n      <td>Latin America &amp; Caribbean (Icp)</td>\n      <td>LCB</td>\n      <td>78.35</td>\n      <td>Comfort traveler</td>\n      <td>NaN</td>\n      <td>NaN</td>\n    </tr>\n    <tr>\n      <th>176</th>\n      <td>Middle East &amp; North Africa (Icp)</td>\n      <td>MEB</td>\n      <td>64.50</td>\n      <td>Budget Traveler</td>\n      <td>NaN</td>\n      <td>NaN</td>\n    </tr>\n    <tr>\n      <th>183</th>\n      <td>Montserrat</td>\n      <td>MSR</td>\n      <td>84.58</td>\n      <td>Comfort traveler</td>\n      <td>NaN</td>\n      <td>NaN</td>\n    </tr>\n    <tr>\n      <th>189</th>\n      <td>Nauru</td>\n      <td>NRU</td>\n      <td>NaN</td>\n      <td>Non Applicable</td>\n      <td>NaN</td>\n      <td>NaN</td>\n    </tr>\n    <tr>\n      <th>199</th>\n      <td>Niue</td>\n      <td>NIU</td>\n      <td>NaN</td>\n      <td>Non Applicable</td>\n      <td>NaN</td>\n      <td>NaN</td>\n    </tr>\n    <tr>\n      <th>200</th>\n      <td>North America (Icp)</td>\n      <td>NAB</td>\n      <td>128.94</td>\n      <td>Comfort traveler</td>\n      <td>NaN</td>\n      <td>NaN</td>\n    </tr>\n    <tr>\n      <th>246</th>\n      <td>South Asia (Icp)</td>\n      <td>SAB</td>\n      <td>42.21</td>\n      <td>Budget Traveler</td>\n      <td>NaN</td>\n      <td>NaN</td>\n    </tr>\n    <tr>\n      <th>256</th>\n      <td>Sub-Saharan Africa (Icp)</td>\n      <td>SSB</td>\n      <td>46.83</td>\n      <td>Budget Traveler</td>\n      <td>NaN</td>\n      <td>NaN</td>\n    </tr>\n    <tr>\n      <th>280</th>\n      <td>Timor-Leste</td>\n      <td>TLS</td>\n      <td>NaN</td>\n      <td>Non Applicable</td>\n      <td>NaN</td>\n      <td>NaN</td>\n    </tr>\n    <tr>\n      <th>282</th>\n      <td>Tokelau</td>\n      <td>TKL</td>\n      <td>NaN</td>\n      <td>Non Applicable</td>\n      <td>NaN</td>\n      <td>NaN</td>\n    </tr>\n    <tr>\n      <th>312</th>\n      <td>Virgin Islands, British</td>\n      <td>VGB</td>\n      <td>116.88</td>\n      <td>Comfort traveler</td>\n      <td>NaN</td>\n      <td>NaN</td>\n    </tr>\n    <tr>\n      <th>313</th>\n      <td>Wallis And Futuna</td>\n      <td>WLF</td>\n      <td>NaN</td>\n      <td>Non Applicable</td>\n      <td>NaN</td>\n      <td>NaN</td>\n    </tr>\n    <tr>\n      <th>314</th>\n      <td>West Bank And Gaza</td>\n      <td>PSE</td>\n      <td>96.53</td>\n      <td>Comfort traveler</td>\n      <td>NaN</td>\n      <td>NaN</td>\n    </tr>\n    <tr>\n      <th>315</th>\n      <td>World</td>\n      <td>WLD</td>\n      <td>100.00</td>\n      <td>Comfort traveler</td>\n      <td>NaN</td>\n      <td>NaN</td>\n    </tr>\n  </tbody>\n</table>\n</div>"
     },
     "execution_count": 1227,
     "metadata": {},
     "output_type": "execute_result"
    }
   ],
   "source": [
    "avg_rest_hot_p [avg_rest_hot_p ['Name'].isnull()]"
   ]
  },
  {
   "cell_type": "code",
   "execution_count": 1228,
   "id": "e2f83593",
   "metadata": {
    "pycharm": {
     "name": "#%%\n"
    }
   },
   "outputs": [],
   "source": [
    "avg_rest_hot_p = avg_rest_hot_p.dropna(subset=['Name'])\n",
    "# as the dataset contains both country name and country code, delete the merged columns\n",
    "avg_rest_hot_p = avg_rest_hot_p.drop(['Name', 'Iso3'], axis=1)"
   ]
  },
  {
   "cell_type": "markdown",
   "id": "184d8f2a",
   "metadata": {
    "pycharm": {
     "name": "#%% md\n"
    }
   },
   "source": [
    "#### Cuisine - Country"
   ]
  },
  {
   "cell_type": "code",
   "execution_count": 1229,
   "id": "eecd9590",
   "metadata": {
    "pycharm": {
     "name": "#%%\n"
    }
   },
   "outputs": [
    {
     "data": {
      "text/plain": "  Country  Ratings    Name Iso3\n0   Italy     4.72   Italy  ITA\n1  Greece     4.69  Greece  GRC\n2   Spain     4.59   Spain  ESP\n3   Japan     4.59   Japan  JPN\n4   India     4.54   India  IND",
      "text/html": "<div>\n<style scoped>\n    .dataframe tbody tr th:only-of-type {\n        vertical-align: middle;\n    }\n\n    .dataframe tbody tr th {\n        vertical-align: top;\n    }\n\n    .dataframe thead th {\n        text-align: right;\n    }\n</style>\n<table border=\"1\" class=\"dataframe\">\n  <thead>\n    <tr style=\"text-align: right;\">\n      <th></th>\n      <th>Country</th>\n      <th>Ratings</th>\n      <th>Name</th>\n      <th>Iso3</th>\n    </tr>\n  </thead>\n  <tbody>\n    <tr>\n      <th>0</th>\n      <td>Italy</td>\n      <td>4.72</td>\n      <td>Italy</td>\n      <td>ITA</td>\n    </tr>\n    <tr>\n      <th>1</th>\n      <td>Greece</td>\n      <td>4.69</td>\n      <td>Greece</td>\n      <td>GRC</td>\n    </tr>\n    <tr>\n      <th>2</th>\n      <td>Spain</td>\n      <td>4.59</td>\n      <td>Spain</td>\n      <td>ESP</td>\n    </tr>\n    <tr>\n      <th>3</th>\n      <td>Japan</td>\n      <td>4.59</td>\n      <td>Japan</td>\n      <td>JPN</td>\n    </tr>\n    <tr>\n      <th>4</th>\n      <td>India</td>\n      <td>4.54</td>\n      <td>India</td>\n      <td>IND</td>\n    </tr>\n  </tbody>\n</table>\n</div>"
     },
     "execution_count": 1229,
     "metadata": {},
     "output_type": "execute_result"
    }
   ],
   "source": [
    "cuisine_temp = cuisine_rank.merge(country[['Name','Iso3']], how='left', left_on='Country', right_on='Name')\n",
    "cuisine_temp.head()"
   ]
  },
  {
   "cell_type": "code",
   "execution_count": 1230,
   "id": "012c8cc7",
   "metadata": {
    "pycharm": {
     "name": "#%%\n"
    }
   },
   "outputs": [
    {
     "data": {
      "text/plain": "             Country  Ratings Name Iso3\n28           England     4.18  NaN  NaN\n37               Bih     3.99  NaN  NaN\n41         Palestine     3.98  NaN  NaN\n68  Northern Ireland     3.91  NaN  NaN\n79             Wales     3.88  NaN  NaN\n87          Scotland     3.82  NaN  NaN",
      "text/html": "<div>\n<style scoped>\n    .dataframe tbody tr th:only-of-type {\n        vertical-align: middle;\n    }\n\n    .dataframe tbody tr th {\n        vertical-align: top;\n    }\n\n    .dataframe thead th {\n        text-align: right;\n    }\n</style>\n<table border=\"1\" class=\"dataframe\">\n  <thead>\n    <tr style=\"text-align: right;\">\n      <th></th>\n      <th>Country</th>\n      <th>Ratings</th>\n      <th>Name</th>\n      <th>Iso3</th>\n    </tr>\n  </thead>\n  <tbody>\n    <tr>\n      <th>28</th>\n      <td>England</td>\n      <td>4.18</td>\n      <td>NaN</td>\n      <td>NaN</td>\n    </tr>\n    <tr>\n      <th>37</th>\n      <td>Bih</td>\n      <td>3.99</td>\n      <td>NaN</td>\n      <td>NaN</td>\n    </tr>\n    <tr>\n      <th>41</th>\n      <td>Palestine</td>\n      <td>3.98</td>\n      <td>NaN</td>\n      <td>NaN</td>\n    </tr>\n    <tr>\n      <th>68</th>\n      <td>Northern Ireland</td>\n      <td>3.91</td>\n      <td>NaN</td>\n      <td>NaN</td>\n    </tr>\n    <tr>\n      <th>79</th>\n      <td>Wales</td>\n      <td>3.88</td>\n      <td>NaN</td>\n      <td>NaN</td>\n    </tr>\n    <tr>\n      <th>87</th>\n      <td>Scotland</td>\n      <td>3.82</td>\n      <td>NaN</td>\n      <td>NaN</td>\n    </tr>\n  </tbody>\n</table>\n</div>"
     },
     "execution_count": 1230,
     "metadata": {},
     "output_type": "execute_result"
    }
   ],
   "source": [
    "cuisine_temp[cuisine_temp['Name'].isnull()]"
   ]
  },
  {
   "cell_type": "markdown",
   "id": "9bdf8000",
   "metadata": {
    "pycharm": {
     "name": "#%% md\n"
    }
   },
   "source": [
    "As the United Kingdom was divided to England, Northern Ireland, Wales and Scotland,\n",
    "we will have one row for the United Kingdom with the average ratings of the 4 countries\n",
    "as we have the United Kingdom in the WEF datset."
   ]
  },
  {
   "cell_type": "code",
   "execution_count": 1231,
   "id": "57cc6f9d",
   "metadata": {
    "pycharm": {
     "name": "#%%\n"
    }
   },
   "outputs": [],
   "source": [
    "# add average of 4 nations in the United Kingdom to the existing row\n",
    "uk_rank = cuisine_rank.iloc[[28,68,79,87]]['Ratings'].mean()\n",
    "cuisine_rank.loc[len(cuisine_rank.index)] = ['United Kingdom', uk_rank]"
   ]
  },
  {
   "cell_type": "code",
   "execution_count": 1232,
   "id": "9c5c044b",
   "metadata": {
    "pycharm": {
     "name": "#%%\n"
    }
   },
   "outputs": [],
   "source": [
    "# Then sort by ratings, and reset index\n",
    "cuisine_rank.sort_values(by=['Ratings'], ignore_index=True, inplace=True, ascending=False)"
   ]
  },
  {
   "cell_type": "code",
   "execution_count": 1233,
   "id": "f9a0f621",
   "metadata": {
    "pycharm": {
     "name": "#%%\n"
    }
   },
   "outputs": [
    {
     "data": {
      "text/plain": "           Country  Ratings            Name Iso3\n49  United Kingdom   3.9475  United Kingdom  GBR",
      "text/html": "<div>\n<style scoped>\n    .dataframe tbody tr th:only-of-type {\n        vertical-align: middle;\n    }\n\n    .dataframe tbody tr th {\n        vertical-align: top;\n    }\n\n    .dataframe thead th {\n        text-align: right;\n    }\n</style>\n<table border=\"1\" class=\"dataframe\">\n  <thead>\n    <tr style=\"text-align: right;\">\n      <th></th>\n      <th>Country</th>\n      <th>Ratings</th>\n      <th>Name</th>\n      <th>Iso3</th>\n    </tr>\n  </thead>\n  <tbody>\n    <tr>\n      <th>49</th>\n      <td>United Kingdom</td>\n      <td>3.9475</td>\n      <td>United Kingdom</td>\n      <td>GBR</td>\n    </tr>\n  </tbody>\n</table>\n</div>"
     },
     "execution_count": 1233,
     "metadata": {},
     "output_type": "execute_result"
    }
   ],
   "source": [
    "# merge again with modified data\n",
    "cuisine_rank = cuisine_rank.merge(country[['Name','Iso3']], how='left', left_on='Country', right_on='Name')\n",
    "# check UK\n",
    "cuisine_rank[cuisine_rank['Country']=='United Kingdom']"
   ]
  },
  {
   "cell_type": "code",
   "execution_count": 1234,
   "id": "c96db998",
   "metadata": {
    "pycharm": {
     "name": "#%%\n"
    }
   },
   "outputs": [
    {
     "data": {
      "text/plain": "             Country  Ratings Name Iso3\n28           England     4.18  NaN  NaN\n37               Bih     3.99  NaN  NaN\n41         Palestine     3.98  NaN  NaN\n64  Northern Ireland     3.91  NaN  NaN\n79             Wales     3.88  NaN  NaN\n87          Scotland     3.82  NaN  NaN",
      "text/html": "<div>\n<style scoped>\n    .dataframe tbody tr th:only-of-type {\n        vertical-align: middle;\n    }\n\n    .dataframe tbody tr th {\n        vertical-align: top;\n    }\n\n    .dataframe thead th {\n        text-align: right;\n    }\n</style>\n<table border=\"1\" class=\"dataframe\">\n  <thead>\n    <tr style=\"text-align: right;\">\n      <th></th>\n      <th>Country</th>\n      <th>Ratings</th>\n      <th>Name</th>\n      <th>Iso3</th>\n    </tr>\n  </thead>\n  <tbody>\n    <tr>\n      <th>28</th>\n      <td>England</td>\n      <td>4.18</td>\n      <td>NaN</td>\n      <td>NaN</td>\n    </tr>\n    <tr>\n      <th>37</th>\n      <td>Bih</td>\n      <td>3.99</td>\n      <td>NaN</td>\n      <td>NaN</td>\n    </tr>\n    <tr>\n      <th>41</th>\n      <td>Palestine</td>\n      <td>3.98</td>\n      <td>NaN</td>\n      <td>NaN</td>\n    </tr>\n    <tr>\n      <th>64</th>\n      <td>Northern Ireland</td>\n      <td>3.91</td>\n      <td>NaN</td>\n      <td>NaN</td>\n    </tr>\n    <tr>\n      <th>79</th>\n      <td>Wales</td>\n      <td>3.88</td>\n      <td>NaN</td>\n      <td>NaN</td>\n    </tr>\n    <tr>\n      <th>87</th>\n      <td>Scotland</td>\n      <td>3.82</td>\n      <td>NaN</td>\n      <td>NaN</td>\n    </tr>\n  </tbody>\n</table>\n</div>"
     },
     "execution_count": 1234,
     "metadata": {},
     "output_type": "execute_result"
    }
   ],
   "source": [
    "cuisine_rank[cuisine_rank['Name'].isnull()]"
   ]
  },
  {
   "cell_type": "code",
   "execution_count": 1235,
   "id": "f07ec309",
   "metadata": {
    "pycharm": {
     "name": "#%%\n"
    }
   },
   "outputs": [],
   "source": [
    "cuisine_rank = cuisine_rank.dropna(subset=['Name'])\n",
    "cuisine_rank = cuisine_rank.drop(['Name'], axis=1)"
   ]
  },
  {
   "cell_type": "markdown",
   "id": "5d322618",
   "metadata": {
    "pycharm": {
     "name": "#%% md\n"
    }
   },
   "source": [
    "#### LGBT data - Country"
   ]
  },
  {
   "cell_type": "code",
   "execution_count": 1236,
   "id": "daf5647c",
   "metadata": {
    "pycharm": {
     "name": "#%%\n"
    }
   },
   "outputs": [
    {
     "data": {
      "text/plain": "   RANK      COUNTRY   GAI         Name Iso3\n0     1      Iceland  9.78      Iceland  ISL\n1     2  Netherlands  9.46  Netherlands  NLD\n2     3       Norway  9.38       Norway  NOR\n3     4       Sweden  9.18       Sweden  SWE\n4     5       Canada  9.02       Canada  CAN",
      "text/html": "<div>\n<style scoped>\n    .dataframe tbody tr th:only-of-type {\n        vertical-align: middle;\n    }\n\n    .dataframe tbody tr th {\n        vertical-align: top;\n    }\n\n    .dataframe thead th {\n        text-align: right;\n    }\n</style>\n<table border=\"1\" class=\"dataframe\">\n  <thead>\n    <tr style=\"text-align: right;\">\n      <th></th>\n      <th>RANK</th>\n      <th>COUNTRY</th>\n      <th>GAI</th>\n      <th>Name</th>\n      <th>Iso3</th>\n    </tr>\n  </thead>\n  <tbody>\n    <tr>\n      <th>0</th>\n      <td>1</td>\n      <td>Iceland</td>\n      <td>9.78</td>\n      <td>Iceland</td>\n      <td>ISL</td>\n    </tr>\n    <tr>\n      <th>1</th>\n      <td>2</td>\n      <td>Netherlands</td>\n      <td>9.46</td>\n      <td>Netherlands</td>\n      <td>NLD</td>\n    </tr>\n    <tr>\n      <th>2</th>\n      <td>3</td>\n      <td>Norway</td>\n      <td>9.38</td>\n      <td>Norway</td>\n      <td>NOR</td>\n    </tr>\n    <tr>\n      <th>3</th>\n      <td>4</td>\n      <td>Sweden</td>\n      <td>9.18</td>\n      <td>Sweden</td>\n      <td>SWE</td>\n    </tr>\n    <tr>\n      <th>4</th>\n      <td>5</td>\n      <td>Canada</td>\n      <td>9.02</td>\n      <td>Canada</td>\n      <td>CAN</td>\n    </tr>\n  </tbody>\n</table>\n</div>"
     },
     "execution_count": 1236,
     "metadata": {},
     "output_type": "execute_result"
    }
   ],
   "source": [
    "lgbtq = lgbtq.merge(country[['Name', 'Iso3']], how='left', left_on='COUNTRY', right_on='Name')\n",
    "lgbtq.head()"
   ]
  },
  {
   "cell_type": "code",
   "execution_count": 1237,
   "id": "76804355",
   "metadata": {
    "pycharm": {
     "name": "#%%\n"
    }
   },
   "outputs": [
    {
     "data": {
      "text/plain": "     RANK            COUNTRY   GAI Name Iso3\n44     45    Northern Cyprus  5.59  NaN  NaN\n129   130          Palestine  3.20  NaN  NaN\n157   158  Nagorno- Karabakh  2.54  NaN  NaN",
      "text/html": "<div>\n<style scoped>\n    .dataframe tbody tr th:only-of-type {\n        vertical-align: middle;\n    }\n\n    .dataframe tbody tr th {\n        vertical-align: top;\n    }\n\n    .dataframe thead th {\n        text-align: right;\n    }\n</style>\n<table border=\"1\" class=\"dataframe\">\n  <thead>\n    <tr style=\"text-align: right;\">\n      <th></th>\n      <th>RANK</th>\n      <th>COUNTRY</th>\n      <th>GAI</th>\n      <th>Name</th>\n      <th>Iso3</th>\n    </tr>\n  </thead>\n  <tbody>\n    <tr>\n      <th>44</th>\n      <td>45</td>\n      <td>Northern Cyprus</td>\n      <td>5.59</td>\n      <td>NaN</td>\n      <td>NaN</td>\n    </tr>\n    <tr>\n      <th>129</th>\n      <td>130</td>\n      <td>Palestine</td>\n      <td>3.20</td>\n      <td>NaN</td>\n      <td>NaN</td>\n    </tr>\n    <tr>\n      <th>157</th>\n      <td>158</td>\n      <td>Nagorno- Karabakh</td>\n      <td>2.54</td>\n      <td>NaN</td>\n      <td>NaN</td>\n    </tr>\n  </tbody>\n</table>\n</div>"
     },
     "execution_count": 1237,
     "metadata": {},
     "output_type": "execute_result"
    }
   ],
   "source": [
    "lgbtq[lgbtq['Name'].isnull()]"
   ]
  },
  {
   "cell_type": "code",
   "execution_count": 1238,
   "id": "35f49d08",
   "metadata": {
    "pycharm": {
     "name": "#%%\n"
    }
   },
   "outputs": [],
   "source": [
    "lgbtq=lgbtq.dropna(subset=['Name'])\n",
    "lgbtq = lgbtq.drop(['Name'], axis=1)"
   ]
  },
  {
   "cell_type": "code",
   "id": "f5d32e44",
   "metadata": {
    "pycharm": {
     "name": "#%%\n"
    }
   },
   "source": [
    "country.to_csv('../cleaned_data/country.csv')\n",
    "\n",
    "pop.to_csv('../cleaned_data/population.csv')\n",
    "\n",
    "clim.to_csv('../cleaned_data/climate.csv')\n",
    "\n",
    "curr.to_csv('../cleaned_data/currencies.csv')\n",
    "\n",
    "lang.to_csv('../cleaned_data/language.csv')\n",
    "\n",
    "rel.to_csv('../cleaned_data/religion.csv')\n",
    "\n",
    "peace.to_csv('../cleaned_data/peace_index.csv')\n",
    "\n",
    "wef.to_csv('../cleaned_data/wef_ttdi.csv')\n",
    "\n",
    "avg_rest_hot_p.to_csv(\"../cleaned_data/avg_rest_hot_p.csv\")\n",
    "\n",
    "lgbtq.to_csv(\"../cleaned_data/lgbtq.csv\")\n",
    "\n",
    "cuisine_rank.to_csv('../cleaned_data/cuisine_rank.csv')\n"
   ],
   "execution_count": 1239,
   "outputs": []
  },
  {
   "cell_type": "code",
   "execution_count": 1239,
   "id": "3a25b127",
   "metadata": {
    "pycharm": {
     "name": "#%%\n"
    }
   },
   "outputs": [],
   "source": []
  }
 ],
 "metadata": {
  "kernelspec": {
   "display_name": "Python 3",
   "language": "python",
   "name": "python3"
  },
  "language_info": {
   "codemirror_mode": {
    "name": "ipython",
    "version": 3
   },
   "file_extension": ".py",
   "mimetype": "text/x-python",
   "name": "python",
   "nbconvert_exporter": "python",
   "pygments_lexer": "ipython3",
   "version": "3.8.8"
  }
 },
 "nbformat": 4,
 "nbformat_minor": 5
}