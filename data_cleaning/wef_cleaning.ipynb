{
 "cells": [
  {
   "cell_type": "code",
   "execution_count": 1,
   "outputs": [],
   "source": [
    "import pandas as pd"
   ],
   "metadata": {
    "collapsed": false,
    "pycharm": {
     "name": "#%%\n"
    }
   }
  },
  {
   "cell_type": "code",
   "execution_count": 22,
   "outputs": [],
   "source": [
    "wef = pd.read_excel('../Original_doc/WEF_TTDI.xlsx', header=[0, 1], sheet_name='Index Performance')"
   ],
   "metadata": {
    "collapsed": false,
    "pycharm": {
     "name": "#%%\n"
    }
   }
  },
  {
   "cell_type": "code",
   "execution_count": 23,
   "outputs": [],
   "source": [
    "wef.columns=wef.columns.to_flat_index()"
   ],
   "metadata": {
    "collapsed": false,
    "pycharm": {
     "name": "#%%\n"
    }
   }
  },
  {
   "cell_type": "code",
   "execution_count": 24,
   "outputs": [
    {
     "data": {
      "text/plain": "  (Unnamed: 0_level_0, ISO Code) (Unnamed: 1_level_0, Economy)  \\\n0                            JPN                         Japan   \n1                            USA                 United States   \n2                            ESP                         Spain   \n3                            FRA                        France   \n4                            DEU                       Germany   \n\n  (Unnamed: 2_level_0, Region) (Unnamed: 3_level_0, Sub Region)  \\\n0                 Asia-Pacific             Eastern Asia-Pacific   \n1                 The Americas        North and Central America   \n2           Europe and Eurasia                  Southern Europe   \n3           Europe and Eurasia                   Western Europe   \n4           Europe and Eurasia                   Western Europe   \n\n  (Unnamed: 4_level_0, Income Group)  \\\n0              High-income economies   \n1              High-income economies   \n2              High-income economies   \n3              High-income economies   \n4              High-income economies   \n\n   (Travel & Tourism Development Index , 2019 Value)  \\\n0                                           5.209308   \n1                                           5.253746   \n2                                           5.156125   \n3                                           5.139553   \n4                                           5.158769   \n\n   (Travel & Tourism Development Index , 2019 Rank)  \\\n0                                                 2   \n1                                                 1   \n2                                                 5   \n3                                                 6   \n4                                                 4   \n\n   (Travel & Tourism Development Index , 2021 Value)  \\\n0                                           5.245868   \n1                                           5.199991   \n2                                           5.154733   \n3                                           5.126821   \n4                                           5.064452   \n\n   (Travel & Tourism Development Index , 2021 Rank)  \\\n0                                                 1   \n1                                                 2   \n2                                                 3   \n3                                                 4   \n4                                                 5   \n\n   (Travel & Tourism Development Index , % Dif Score)  ...  \\\n0                                           0.007018   ...   \n1                                          -0.010232   ...   \n2                                          -0.000270   ...   \n3                                          -0.002477   ...   \n4                                          -0.018283   ...   \n\n   (Socioeconomic Resilience & Conditions pillar, 2021 Value)  \\\n0                                           5.710859            \n1                                           4.496351            \n2                                           5.297103            \n3                                           5.734719            \n4                                           5.884420            \n\n   (Socioeconomic Resilience & Conditions pillar, 2021 Rank)  \\\n0                                                 11           \n1                                                 44           \n2                                                 25           \n3                                                 10           \n4                                                  8           \n\n   (Socioeconomic Resilience & Conditions pillar, % Dif Score)  \\\n0                                           0.035617             \n1                                           0.018056             \n2                                           0.068278             \n3                                           0.005727             \n4                                           0.012092             \n\n   (Socioeconomic Resilience & Conditions pillar, Rank Change)  \\\n0                                                  6             \n1                                                 -1             \n2                                                  5             \n3                                                  1             \n4                                                  0             \n\n   (T&T Demand Pressure & Impact pillar, 2019 Value)  \\\n0                                           4.162195   \n1                                           4.835106   \n2                                           3.668553   \n3                                           3.447736   \n4                                           3.691413   \n\n   (T&T Demand Pressure & Impact pillar, 2019 Rank)  \\\n0                                                43   \n1                                                 4   \n2                                                89   \n3                                               106   \n4                                                87   \n\n   (T&T Demand Pressure & Impact pillar, 2021 Value)  \\\n0                                           4.287192   \n1                                           4.945433   \n2                                           3.768780   \n3                                           3.429899   \n4                                           3.921128   \n\n   (T&T Demand Pressure & Impact pillar, 2021 Rank)  \\\n0                                                41   \n1                                                 3   \n2                                                81   \n3                                               108   \n4                                                73   \n\n   (T&T Demand Pressure & Impact pillar, % Dif Score)  \\\n0                                           0.030031    \n1                                           0.022818    \n2                                           0.027321    \n3                                          -0.005174    \n4                                           0.062230    \n\n   (T&T Demand Pressure & Impact pillar, Rank Change)  \n0                                                  2   \n1                                                  1   \n2                                                  8   \n3                                                 -2   \n4                                                 14   \n\n[5 rows x 143 columns]",
      "text/html": "<div>\n<style scoped>\n    .dataframe tbody tr th:only-of-type {\n        vertical-align: middle;\n    }\n\n    .dataframe tbody tr th {\n        vertical-align: top;\n    }\n\n    .dataframe thead th {\n        text-align: right;\n    }\n</style>\n<table border=\"1\" class=\"dataframe\">\n  <thead>\n    <tr style=\"text-align: right;\">\n      <th></th>\n      <th>(Unnamed: 0_level_0, ISO Code)</th>\n      <th>(Unnamed: 1_level_0, Economy)</th>\n      <th>(Unnamed: 2_level_0, Region)</th>\n      <th>(Unnamed: 3_level_0, Sub Region)</th>\n      <th>(Unnamed: 4_level_0, Income Group)</th>\n      <th>(Travel &amp; Tourism Development Index , 2019 Value)</th>\n      <th>(Travel &amp; Tourism Development Index , 2019 Rank)</th>\n      <th>(Travel &amp; Tourism Development Index , 2021 Value)</th>\n      <th>(Travel &amp; Tourism Development Index , 2021 Rank)</th>\n      <th>(Travel &amp; Tourism Development Index , % Dif Score)</th>\n      <th>...</th>\n      <th>(Socioeconomic Resilience &amp; Conditions pillar, 2021 Value)</th>\n      <th>(Socioeconomic Resilience &amp; Conditions pillar, 2021 Rank)</th>\n      <th>(Socioeconomic Resilience &amp; Conditions pillar, % Dif Score)</th>\n      <th>(Socioeconomic Resilience &amp; Conditions pillar, Rank Change)</th>\n      <th>(T&amp;T Demand Pressure &amp; Impact pillar, 2019 Value)</th>\n      <th>(T&amp;T Demand Pressure &amp; Impact pillar, 2019 Rank)</th>\n      <th>(T&amp;T Demand Pressure &amp; Impact pillar, 2021 Value)</th>\n      <th>(T&amp;T Demand Pressure &amp; Impact pillar, 2021 Rank)</th>\n      <th>(T&amp;T Demand Pressure &amp; Impact pillar, % Dif Score)</th>\n      <th>(T&amp;T Demand Pressure &amp; Impact pillar, Rank Change)</th>\n    </tr>\n  </thead>\n  <tbody>\n    <tr>\n      <th>0</th>\n      <td>JPN</td>\n      <td>Japan</td>\n      <td>Asia-Pacific</td>\n      <td>Eastern Asia-Pacific</td>\n      <td>High-income economies</td>\n      <td>5.209308</td>\n      <td>2</td>\n      <td>5.245868</td>\n      <td>1</td>\n      <td>0.007018</td>\n      <td>...</td>\n      <td>5.710859</td>\n      <td>11</td>\n      <td>0.035617</td>\n      <td>6</td>\n      <td>4.162195</td>\n      <td>43</td>\n      <td>4.287192</td>\n      <td>41</td>\n      <td>0.030031</td>\n      <td>2</td>\n    </tr>\n    <tr>\n      <th>1</th>\n      <td>USA</td>\n      <td>United States</td>\n      <td>The Americas</td>\n      <td>North and Central America</td>\n      <td>High-income economies</td>\n      <td>5.253746</td>\n      <td>1</td>\n      <td>5.199991</td>\n      <td>2</td>\n      <td>-0.010232</td>\n      <td>...</td>\n      <td>4.496351</td>\n      <td>44</td>\n      <td>0.018056</td>\n      <td>-1</td>\n      <td>4.835106</td>\n      <td>4</td>\n      <td>4.945433</td>\n      <td>3</td>\n      <td>0.022818</td>\n      <td>1</td>\n    </tr>\n    <tr>\n      <th>2</th>\n      <td>ESP</td>\n      <td>Spain</td>\n      <td>Europe and Eurasia</td>\n      <td>Southern Europe</td>\n      <td>High-income economies</td>\n      <td>5.156125</td>\n      <td>5</td>\n      <td>5.154733</td>\n      <td>3</td>\n      <td>-0.000270</td>\n      <td>...</td>\n      <td>5.297103</td>\n      <td>25</td>\n      <td>0.068278</td>\n      <td>5</td>\n      <td>3.668553</td>\n      <td>89</td>\n      <td>3.768780</td>\n      <td>81</td>\n      <td>0.027321</td>\n      <td>8</td>\n    </tr>\n    <tr>\n      <th>3</th>\n      <td>FRA</td>\n      <td>France</td>\n      <td>Europe and Eurasia</td>\n      <td>Western Europe</td>\n      <td>High-income economies</td>\n      <td>5.139553</td>\n      <td>6</td>\n      <td>5.126821</td>\n      <td>4</td>\n      <td>-0.002477</td>\n      <td>...</td>\n      <td>5.734719</td>\n      <td>10</td>\n      <td>0.005727</td>\n      <td>1</td>\n      <td>3.447736</td>\n      <td>106</td>\n      <td>3.429899</td>\n      <td>108</td>\n      <td>-0.005174</td>\n      <td>-2</td>\n    </tr>\n    <tr>\n      <th>4</th>\n      <td>DEU</td>\n      <td>Germany</td>\n      <td>Europe and Eurasia</td>\n      <td>Western Europe</td>\n      <td>High-income economies</td>\n      <td>5.158769</td>\n      <td>4</td>\n      <td>5.064452</td>\n      <td>5</td>\n      <td>-0.018283</td>\n      <td>...</td>\n      <td>5.884420</td>\n      <td>8</td>\n      <td>0.012092</td>\n      <td>0</td>\n      <td>3.691413</td>\n      <td>87</td>\n      <td>3.921128</td>\n      <td>73</td>\n      <td>0.062230</td>\n      <td>14</td>\n    </tr>\n  </tbody>\n</table>\n<p>5 rows × 143 columns</p>\n</div>"
     },
     "execution_count": 24,
     "metadata": {},
     "output_type": "execute_result"
    }
   ],
   "source": [
    "wef.head()"
   ],
   "metadata": {
    "collapsed": false,
    "pycharm": {
     "name": "#%%\n"
    }
   }
  },
  {
   "cell_type": "code",
   "execution_count": 29,
   "outputs": [],
   "source": [
    "wef.rename(columns = {('Unnamed: 0_level_0', 'ISO Code'):'ISO Code',\n",
    "                      ('Unnamed: 1_level_0', 'Economy'):'Economy',\n",
    "                      ('Unnamed: 2_level_0', 'Region'):'Region',\n",
    "                      ('Unnamed: 3_level_0', 'Sub Region'):'Sub Region',\n",
    "                      ('Unnamed: 4_level_0', 'Income Group'):'Income Group'\n",
    "                      }, inplace = True)"
   ],
   "metadata": {
    "collapsed": false,
    "pycharm": {
     "name": "#%%\n"
    }
   }
  },
  {
   "cell_type": "code",
   "execution_count": 32,
   "outputs": [
    {
     "name": "stdout",
     "output_type": "stream",
     "text": [
      "0 ISO Code\n",
      "1 Economy\n",
      "2 Region\n",
      "3 Sub Region\n",
      "4 Income Group\n",
      "5 ('Travel & Tourism Development Index ', '2019 Value')\n",
      "6 ('Travel & Tourism Development Index ', '2019 Rank')\n",
      "7 ('Travel & Tourism Development Index ', '2021 Value')\n",
      "8 ('Travel & Tourism Development Index ', '2021 Rank')\n",
      "9 ('Travel & Tourism Development Index ', '% Dif Score')\n",
      "10 ('Travel & Tourism Development Index ', 'Rank Change')\n",
      "11 ('Enabling Environment subindex', '2019 Value')\n",
      "12 ('Enabling Environment subindex', '2019 Rank')\n",
      "13 ('Enabling Environment subindex', '2021 Value')\n",
      "14 ('Enabling Environment subindex', '2021 Rank')\n",
      "15 ('Enabling Environment subindex', '% Dif Score')\n",
      "16 ('Enabling Environment subindex', 'Rank Change')\n",
      "17 ('Travel and Tourism Policy and Enabling\\nConditions subindex', '2019 Value')\n",
      "18 ('Travel and Tourism Policy and Enabling\\nConditions subindex', '2019 Rank')\n",
      "19 ('Travel and Tourism Policy and Enabling\\nConditions subindex', '2021 Value')\n",
      "20 ('Travel and Tourism Policy and Enabling\\nConditions subindex', '2021 Rank')\n",
      "21 ('Travel and Tourism Policy and Enabling\\nConditions subindex', '% Dif Score')\n",
      "22 ('Travel and Tourism Policy and Enabling\\nConditions subindex', 'Rank Change')\n",
      "23 ('Infrastructure subindex', '2019 Value')\n",
      "24 ('Infrastructure subindex', '2019 Rank')\n",
      "25 ('Infrastructure subindex', '2021 Value')\n",
      "26 ('Infrastructure subindex', '2021 Rank')\n",
      "27 ('Infrastructure subindex', '% Dif Score')\n",
      "28 ('Infrastructure subindex', 'Rank Change')\n",
      "29 ('Travel and Tourism Demand Drivers\\nsubindex', '2019 Value')\n",
      "30 ('Travel and Tourism Demand Drivers\\nsubindex', '2019 Rank')\n",
      "31 ('Travel and Tourism Demand Drivers\\nsubindex', '2021 Value')\n",
      "32 ('Travel and Tourism Demand Drivers\\nsubindex', '2021 Rank')\n",
      "33 ('Travel and Tourism Demand Drivers\\nsubindex', '% Dif Score')\n",
      "34 ('Travel and Tourism Demand Drivers\\nsubindex', 'Rank Change')\n",
      "35 ('Travel and Tourism Sustainability subindex', '2019 Value')\n",
      "36 ('Travel and Tourism Sustainability subindex', '2019 Rank')\n",
      "37 ('Travel and Tourism Sustainability subindex', '2021 Value')\n",
      "38 ('Travel and Tourism Sustainability subindex', '2021 Rank')\n",
      "39 ('Travel and Tourism Sustainability subindex', '% Dif Score')\n",
      "40 ('Travel and Tourism Sustainability subindex', 'Rank Change')\n",
      "41 ('Business Environment pillar', '2019 Value')\n",
      "42 ('Business Environment pillar', '2019 Rank')\n",
      "43 ('Business Environment pillar', '2021 Value')\n",
      "44 ('Business Environment pillar', '2021 Rank')\n",
      "45 ('Business Environment pillar', '% Dif Score')\n",
      "46 ('Business Environment pillar', 'Rank Change')\n",
      "47 ('Safety and Security pillar', '2019 Value')\n",
      "48 ('Safety and Security pillar', '2019 Rank')\n",
      "49 ('Safety and Security pillar', '2021 Value')\n",
      "50 ('Safety and Security pillar', '2021 Rank')\n",
      "51 ('Safety and Security pillar', '% Dif Score')\n",
      "52 ('Safety and Security pillar', 'Rank Change')\n",
      "53 ('Health and Hygiene pillar', '2019 Value')\n",
      "54 ('Health and Hygiene pillar', '2019 Rank')\n",
      "55 ('Health and Hygiene pillar', '2021 Value')\n",
      "56 ('Health and Hygiene pillar', '2021 Rank')\n",
      "57 ('Health and Hygiene pillar', '% Dif Score')\n",
      "58 ('Health and Hygiene pillar', 'Rank Change')\n",
      "59 ('Human Resources and Labour Market pillar', '2019 Value')\n",
      "60 ('Human Resources and Labour Market pillar', '2019 Rank')\n",
      "61 ('Human Resources and Labour Market pillar', '2021 Value')\n",
      "62 ('Human Resources and Labour Market pillar', '2021 Rank')\n",
      "63 ('Human Resources and Labour Market pillar', '% Dif Score')\n",
      "64 ('Human Resources and Labour Market pillar', 'Rank Change')\n",
      "65 ('ICT Readiness pillar', '2019 Value')\n",
      "66 ('ICT Readiness pillar', '2019 Rank')\n",
      "67 ('ICT Readiness pillar', '2021 Value')\n",
      "68 ('ICT Readiness pillar', '2021 Rank')\n",
      "69 ('ICT Readiness pillar', '% Dif Score')\n",
      "70 ('ICT Readiness pillar', 'Rank Change')\n",
      "71 ('Prioritization of Travel & Tourism pillar', '2019 Value')\n",
      "72 ('Prioritization of Travel & Tourism pillar', '2019 Rank')\n",
      "73 ('Prioritization of Travel & Tourism pillar', '2021 Value')\n",
      "74 ('Prioritization of Travel & Tourism pillar', '2021 Rank')\n",
      "75 ('Prioritization of Travel & Tourism pillar', '% Dif Score')\n",
      "76 ('Prioritization of Travel & Tourism pillar', 'Rank Change')\n",
      "77 ('International Openness pillar', '2019 Value')\n",
      "78 ('International Openness pillar', '2019 Rank')\n",
      "79 ('International Openness pillar', '2021 Value')\n",
      "80 ('International Openness pillar', '2021 Rank')\n",
      "81 ('International Openness pillar', '% Dif Score')\n",
      "82 ('International Openness pillar', 'Rank Change')\n",
      "83 ('Price competitiveness pillar', '2019 Value')\n",
      "84 ('Price competitiveness pillar', '2019 Rank')\n",
      "85 ('Price competitiveness pillar', '2021 Value')\n",
      "86 ('Price competitiveness pillar', '2021 Rank')\n",
      "87 ('Price competitiveness pillar', '% Dif Score')\n",
      "88 ('Price competitiveness pillar', 'Rank Change')\n",
      "89 ('Air Transport Infrastructure pillar', '2019 Value')\n",
      "90 ('Air Transport Infrastructure pillar', '2019 Rank')\n",
      "91 ('Air Transport Infrastructure pillar', '2021 Value')\n",
      "92 ('Air Transport Infrastructure pillar', '2021 Rank')\n",
      "93 ('Air Transport Infrastructure pillar', '% Dif Score')\n",
      "94 ('Air Transport Infrastructure pillar', 'Rank Change')\n",
      "95 ('Ground and Port Infrastructure pillar', '2019 Value')\n",
      "96 ('Ground and Port Infrastructure pillar', '2019 Rank')\n",
      "97 ('Ground and Port Infrastructure pillar', '2021 Value')\n",
      "98 ('Ground and Port Infrastructure pillar', '2021 Rank')\n",
      "99 ('Ground and Port Infrastructure pillar', '% Dif Score')\n",
      "100 ('Ground and Port Infrastructure pillar', 'Rank Change')\n",
      "101 ('Tourist Service Infrastructure pillar', '2019 Value')\n",
      "102 ('Tourist Service Infrastructure pillar', '2019 Rank')\n",
      "103 ('Tourist Service Infrastructure pillar', '2021 Value')\n",
      "104 ('Tourist Service Infrastructure pillar', '2021 Rank')\n",
      "105 ('Tourist Service Infrastructure pillar', '% Dif Score')\n",
      "106 ('Tourist Service Infrastructure pillar', 'Rank Change')\n",
      "107 ('Natural Resources pillar', '2019 Value')\n",
      "108 ('Natural Resources pillar', '2019 Rank')\n",
      "109 ('Natural Resources pillar', '2021 Value')\n",
      "110 ('Natural Resources pillar', '2021 Rank')\n",
      "111 ('Natural Resources pillar', '% Dif Score')\n",
      "112 ('Natural Resources pillar', 'Rank Change')\n",
      "113 ('Cultural Resources pillar', '2019 Value')\n",
      "114 ('Cultural Resources pillar', '2019 Rank')\n",
      "115 ('Cultural Resources pillar', '2021 Value')\n",
      "116 ('Cultural Resources pillar', '2021 Rank')\n",
      "117 ('Cultural Resources pillar', '% Dif Score')\n",
      "118 ('Cultural Resources pillar', 'Rank Change')\n",
      "119 ('Non-Leisure Resources pillar', '2019 Value')\n",
      "120 ('Non-Leisure Resources pillar', '2019 Rank')\n",
      "121 ('Non-Leisure Resources pillar', '2021 Value')\n",
      "122 ('Non-Leisure Resources pillar', '2021 Rank')\n",
      "123 ('Non-Leisure Resources pillar', '% Dif Score')\n",
      "124 ('Non-Leisure Resources pillar', 'Rank Change')\n",
      "125 ('Environmental Sustainability pillar', '2019 Value')\n",
      "126 ('Environmental Sustainability pillar', '2019 Rank')\n",
      "127 ('Environmental Sustainability pillar', '2021 Value')\n",
      "128 ('Environmental Sustainability pillar', '2021 Rank')\n",
      "129 ('Environmental Sustainability pillar', '% Dif Score')\n",
      "130 ('Environmental Sustainability pillar', 'Rank Change')\n",
      "131 ('Socioeconomic Resilience & Conditions pillar', '2019 Value')\n",
      "132 ('Socioeconomic Resilience & Conditions pillar', '2019 Rank')\n",
      "133 ('Socioeconomic Resilience & Conditions pillar', '2021 Value')\n",
      "134 ('Socioeconomic Resilience & Conditions pillar', '2021 Rank')\n",
      "135 ('Socioeconomic Resilience & Conditions pillar', '% Dif Score')\n",
      "136 ('Socioeconomic Resilience & Conditions pillar', 'Rank Change')\n",
      "137 ('T&T Demand Pressure & Impact pillar', '2019 Value')\n",
      "138 ('T&T Demand Pressure & Impact pillar', '2019 Rank')\n",
      "139 ('T&T Demand Pressure & Impact pillar', '2021 Value')\n",
      "140 ('T&T Demand Pressure & Impact pillar', '2021 Rank')\n",
      "141 ('T&T Demand Pressure & Impact pillar', '% Dif Score')\n",
      "142 ('T&T Demand Pressure & Impact pillar', 'Rank Change')\n"
     ]
    }
   ],
   "source": [
    "for i, col in enumerate(wef.columns):\n",
    "    print(i, col)"
   ],
   "metadata": {
    "collapsed": false,
    "pycharm": {
     "name": "#%%\n"
    }
   }
  },
  {
   "cell_type": "code",
   "execution_count": 34,
   "outputs": [],
   "source": [
    "wef2 = wef.drop(wef.iloc[:, 131:136],axis = 1)\n",
    "wef2 = wef2.drop(wef2.iloc[:, 119:125],axis = 1)\n",
    "wef2 = wef2.drop(wef2.iloc[:, 59:77],axis = 1)\n",
    "wef2 = wef2.drop(wef2.iloc[:, 11:47],axis = 1)"
   ],
   "metadata": {
    "collapsed": false,
    "pycharm": {
     "name": "#%%\n"
    }
   }
  },
  {
   "cell_type": "code",
   "execution_count": 38,
   "outputs": [
    {
     "data": {
      "text/plain": "  ISO Code        Economy              Region                 Sub Region  \\\n0      JPN          Japan        Asia-Pacific       Eastern Asia-Pacific   \n1      USA  United States        The Americas  North and Central America   \n2      ESP          Spain  Europe and Eurasia            Southern Europe   \n3      FRA         France  Europe and Eurasia             Western Europe   \n4      DEU        Germany  Europe and Eurasia             Western Europe   \n\n            Income Group  (Travel & Tourism Development Index , 2019 Value)  \\\n0  High-income economies                                           5.209308   \n1  High-income economies                                           5.253746   \n2  High-income economies                                           5.156125   \n3  High-income economies                                           5.139553   \n4  High-income economies                                           5.158769   \n\n   (Travel & Tourism Development Index , 2019 Rank)  \\\n0                                                 2   \n1                                                 1   \n2                                                 5   \n3                                                 6   \n4                                                 4   \n\n   (Travel & Tourism Development Index , 2021 Value)  \\\n0                                           5.245868   \n1                                           5.199991   \n2                                           5.154733   \n3                                           5.126821   \n4                                           5.064452   \n\n   (Travel & Tourism Development Index , 2021 Rank)  \\\n0                                                 1   \n1                                                 2   \n2                                                 3   \n3                                                 4   \n4                                                 5   \n\n   (Travel & Tourism Development Index , % Dif Score)  ...  \\\n0                                           0.007018   ...   \n1                                          -0.010232   ...   \n2                                          -0.000270   ...   \n3                                          -0.002477   ...   \n4                                          -0.018283   ...   \n\n   (Environmental Sustainability pillar, 2021 Rank)  \\\n0                                                38   \n1                                                56   \n2                                                39   \n3                                                14   \n4                                                13   \n\n   (Environmental Sustainability pillar, % Dif Score)  \\\n0                                          -0.023373    \n1                                          -0.009191    \n2                                          -0.007859    \n3                                           0.002254    \n4                                          -0.007222    \n\n   (Environmental Sustainability pillar, Rank Change)  \\\n0                                                 -6    \n1                                                 -4    \n2                                                 -4    \n3                                                  1    \n4                                                 -1    \n\n   (Socioeconomic Resilience & Conditions pillar, Rank Change)  \\\n0                                                  6             \n1                                                 -1             \n2                                                  5             \n3                                                  1             \n4                                                  0             \n\n   (T&T Demand Pressure & Impact pillar, 2019 Value)  \\\n0                                           4.162195   \n1                                           4.835106   \n2                                           3.668553   \n3                                           3.447736   \n4                                           3.691413   \n\n   (T&T Demand Pressure & Impact pillar, 2019 Rank)  \\\n0                                                43   \n1                                                 4   \n2                                                89   \n3                                               106   \n4                                                87   \n\n   (T&T Demand Pressure & Impact pillar, 2021 Value)  \\\n0                                           4.287192   \n1                                           4.945433   \n2                                           3.768780   \n3                                           3.429899   \n4                                           3.921128   \n\n   (T&T Demand Pressure & Impact pillar, 2021 Rank)  \\\n0                                                41   \n1                                                 3   \n2                                                81   \n3                                               108   \n4                                                73   \n\n   (T&T Demand Pressure & Impact pillar, % Dif Score)  \\\n0                                           0.030031    \n1                                           0.022818    \n2                                           0.027321    \n3                                          -0.005174    \n4                                           0.062230    \n\n   (T&T Demand Pressure & Impact pillar, Rank Change)  \n0                                                  2   \n1                                                  1   \n2                                                  8   \n3                                                 -2   \n4                                                 14   \n\n[5 rows x 78 columns]",
      "text/html": "<div>\n<style scoped>\n    .dataframe tbody tr th:only-of-type {\n        vertical-align: middle;\n    }\n\n    .dataframe tbody tr th {\n        vertical-align: top;\n    }\n\n    .dataframe thead th {\n        text-align: right;\n    }\n</style>\n<table border=\"1\" class=\"dataframe\">\n  <thead>\n    <tr style=\"text-align: right;\">\n      <th></th>\n      <th>ISO Code</th>\n      <th>Economy</th>\n      <th>Region</th>\n      <th>Sub Region</th>\n      <th>Income Group</th>\n      <th>(Travel &amp; Tourism Development Index , 2019 Value)</th>\n      <th>(Travel &amp; Tourism Development Index , 2019 Rank)</th>\n      <th>(Travel &amp; Tourism Development Index , 2021 Value)</th>\n      <th>(Travel &amp; Tourism Development Index , 2021 Rank)</th>\n      <th>(Travel &amp; Tourism Development Index , % Dif Score)</th>\n      <th>...</th>\n      <th>(Environmental Sustainability pillar, 2021 Rank)</th>\n      <th>(Environmental Sustainability pillar, % Dif Score)</th>\n      <th>(Environmental Sustainability pillar, Rank Change)</th>\n      <th>(Socioeconomic Resilience &amp; Conditions pillar, Rank Change)</th>\n      <th>(T&amp;T Demand Pressure &amp; Impact pillar, 2019 Value)</th>\n      <th>(T&amp;T Demand Pressure &amp; Impact pillar, 2019 Rank)</th>\n      <th>(T&amp;T Demand Pressure &amp; Impact pillar, 2021 Value)</th>\n      <th>(T&amp;T Demand Pressure &amp; Impact pillar, 2021 Rank)</th>\n      <th>(T&amp;T Demand Pressure &amp; Impact pillar, % Dif Score)</th>\n      <th>(T&amp;T Demand Pressure &amp; Impact pillar, Rank Change)</th>\n    </tr>\n  </thead>\n  <tbody>\n    <tr>\n      <th>0</th>\n      <td>JPN</td>\n      <td>Japan</td>\n      <td>Asia-Pacific</td>\n      <td>Eastern Asia-Pacific</td>\n      <td>High-income economies</td>\n      <td>5.209308</td>\n      <td>2</td>\n      <td>5.245868</td>\n      <td>1</td>\n      <td>0.007018</td>\n      <td>...</td>\n      <td>38</td>\n      <td>-0.023373</td>\n      <td>-6</td>\n      <td>6</td>\n      <td>4.162195</td>\n      <td>43</td>\n      <td>4.287192</td>\n      <td>41</td>\n      <td>0.030031</td>\n      <td>2</td>\n    </tr>\n    <tr>\n      <th>1</th>\n      <td>USA</td>\n      <td>United States</td>\n      <td>The Americas</td>\n      <td>North and Central America</td>\n      <td>High-income economies</td>\n      <td>5.253746</td>\n      <td>1</td>\n      <td>5.199991</td>\n      <td>2</td>\n      <td>-0.010232</td>\n      <td>...</td>\n      <td>56</td>\n      <td>-0.009191</td>\n      <td>-4</td>\n      <td>-1</td>\n      <td>4.835106</td>\n      <td>4</td>\n      <td>4.945433</td>\n      <td>3</td>\n      <td>0.022818</td>\n      <td>1</td>\n    </tr>\n    <tr>\n      <th>2</th>\n      <td>ESP</td>\n      <td>Spain</td>\n      <td>Europe and Eurasia</td>\n      <td>Southern Europe</td>\n      <td>High-income economies</td>\n      <td>5.156125</td>\n      <td>5</td>\n      <td>5.154733</td>\n      <td>3</td>\n      <td>-0.000270</td>\n      <td>...</td>\n      <td>39</td>\n      <td>-0.007859</td>\n      <td>-4</td>\n      <td>5</td>\n      <td>3.668553</td>\n      <td>89</td>\n      <td>3.768780</td>\n      <td>81</td>\n      <td>0.027321</td>\n      <td>8</td>\n    </tr>\n    <tr>\n      <th>3</th>\n      <td>FRA</td>\n      <td>France</td>\n      <td>Europe and Eurasia</td>\n      <td>Western Europe</td>\n      <td>High-income economies</td>\n      <td>5.139553</td>\n      <td>6</td>\n      <td>5.126821</td>\n      <td>4</td>\n      <td>-0.002477</td>\n      <td>...</td>\n      <td>14</td>\n      <td>0.002254</td>\n      <td>1</td>\n      <td>1</td>\n      <td>3.447736</td>\n      <td>106</td>\n      <td>3.429899</td>\n      <td>108</td>\n      <td>-0.005174</td>\n      <td>-2</td>\n    </tr>\n    <tr>\n      <th>4</th>\n      <td>DEU</td>\n      <td>Germany</td>\n      <td>Europe and Eurasia</td>\n      <td>Western Europe</td>\n      <td>High-income economies</td>\n      <td>5.158769</td>\n      <td>4</td>\n      <td>5.064452</td>\n      <td>5</td>\n      <td>-0.018283</td>\n      <td>...</td>\n      <td>13</td>\n      <td>-0.007222</td>\n      <td>-1</td>\n      <td>0</td>\n      <td>3.691413</td>\n      <td>87</td>\n      <td>3.921128</td>\n      <td>73</td>\n      <td>0.062230</td>\n      <td>14</td>\n    </tr>\n  </tbody>\n</table>\n<p>5 rows × 78 columns</p>\n</div>"
     },
     "execution_count": 38,
     "metadata": {},
     "output_type": "execute_result"
    }
   ],
   "source": [
    "wef2.head()"
   ],
   "metadata": {
    "collapsed": false,
    "pycharm": {
     "name": "#%%\n"
    }
   }
  },
  {
   "cell_type": "code",
   "execution_count": 39,
   "outputs": [
    {
     "name": "stdout",
     "output_type": "stream",
     "text": [
      "<class 'pandas.core.frame.DataFrame'>\n",
      "RangeIndex: 117 entries, 0 to 116\n",
      "Data columns (total 78 columns):\n",
      " #   Column                                                       Non-Null Count  Dtype  \n",
      "---  ------                                                       --------------  -----  \n",
      " 0   ISO Code                                                     117 non-null    object \n",
      " 1   Economy                                                      117 non-null    object \n",
      " 2   Region                                                       117 non-null    object \n",
      " 3   Sub Region                                                   117 non-null    object \n",
      " 4   Income Group                                                 117 non-null    object \n",
      " 5   (Travel & Tourism Development Index , 2019 Value)            117 non-null    float64\n",
      " 6   (Travel & Tourism Development Index , 2019 Rank)             117 non-null    int64  \n",
      " 7   (Travel & Tourism Development Index , 2021 Value)            117 non-null    float64\n",
      " 8   (Travel & Tourism Development Index , 2021 Rank)             117 non-null    int64  \n",
      " 9   (Travel & Tourism Development Index , % Dif Score)           117 non-null    float64\n",
      " 10  (Travel & Tourism Development Index , Rank Change)           117 non-null    int64  \n",
      " 11  (Safety and Security pillar, 2019 Value)                     117 non-null    float64\n",
      " 12  (Safety and Security pillar, 2019 Rank)                      117 non-null    int64  \n",
      " 13  (Safety and Security pillar, 2021 Value)                     117 non-null    float64\n",
      " 14  (Safety and Security pillar, 2021 Rank)                      117 non-null    int64  \n",
      " 15  (Safety and Security pillar, % Dif Score)                    117 non-null    float64\n",
      " 16  (Safety and Security pillar, Rank Change)                    117 non-null    int64  \n",
      " 17  (Health and Hygiene pillar, 2019 Value)                      117 non-null    float64\n",
      " 18  (Health and Hygiene pillar, 2019 Rank)                       117 non-null    int64  \n",
      " 19  (Health and Hygiene pillar, 2021 Value)                      117 non-null    float64\n",
      " 20  (Health and Hygiene pillar, 2021 Rank)                       117 non-null    int64  \n",
      " 21  (Health and Hygiene pillar, % Dif Score)                     117 non-null    float64\n",
      " 22  (Health and Hygiene pillar, Rank Change)                     117 non-null    int64  \n",
      " 23  (International Openness pillar, 2019 Value)                  117 non-null    float64\n",
      " 24  (International Openness pillar, 2019 Rank)                   117 non-null    int64  \n",
      " 25  (International Openness pillar, 2021 Value)                  117 non-null    float64\n",
      " 26  (International Openness pillar, 2021 Rank)                   117 non-null    int64  \n",
      " 27  (International Openness pillar, % Dif Score)                 117 non-null    float64\n",
      " 28  (International Openness pillar, Rank Change)                 117 non-null    int64  \n",
      " 29  (Price competitiveness pillar, 2019 Value)                   117 non-null    float64\n",
      " 30  (Price competitiveness pillar, 2019 Rank)                    117 non-null    int64  \n",
      " 31  (Price competitiveness pillar, 2021 Value)                   117 non-null    float64\n",
      " 32  (Price competitiveness pillar, 2021 Rank)                    117 non-null    int64  \n",
      " 33  (Price competitiveness pillar, % Dif Score)                  117 non-null    float64\n",
      " 34  (Price competitiveness pillar, Rank Change)                  117 non-null    int64  \n",
      " 35  (Air Transport Infrastructure pillar, 2019 Value)            117 non-null    float64\n",
      " 36  (Air Transport Infrastructure pillar, 2019 Rank)             117 non-null    int64  \n",
      " 37  (Air Transport Infrastructure pillar, 2021 Value)            117 non-null    float64\n",
      " 38  (Air Transport Infrastructure pillar, 2021 Rank)             117 non-null    int64  \n",
      " 39  (Air Transport Infrastructure pillar, % Dif Score)           117 non-null    float64\n",
      " 40  (Air Transport Infrastructure pillar, Rank Change)           117 non-null    int64  \n",
      " 41  (Ground and Port Infrastructure pillar, 2019 Value)          117 non-null    float64\n",
      " 42  (Ground and Port Infrastructure pillar, 2019 Rank)           117 non-null    int64  \n",
      " 43  (Ground and Port Infrastructure pillar, 2021 Value)          117 non-null    float64\n",
      " 44  (Ground and Port Infrastructure pillar, 2021 Rank)           117 non-null    int64  \n",
      " 45  (Ground and Port Infrastructure pillar, % Dif Score)         117 non-null    float64\n",
      " 46  (Ground and Port Infrastructure pillar, Rank Change)         117 non-null    int64  \n",
      " 47  (Tourist Service Infrastructure pillar, 2019 Value)          117 non-null    float64\n",
      " 48  (Tourist Service Infrastructure pillar, 2019 Rank)           117 non-null    int64  \n",
      " 49  (Tourist Service Infrastructure pillar, 2021 Value)          117 non-null    float64\n",
      " 50  (Tourist Service Infrastructure pillar, 2021 Rank)           117 non-null    int64  \n",
      " 51  (Tourist Service Infrastructure pillar, % Dif Score)         117 non-null    float64\n",
      " 52  (Tourist Service Infrastructure pillar, Rank Change)         117 non-null    int64  \n",
      " 53  (Natural Resources pillar, 2019 Value)                       117 non-null    float64\n",
      " 54  (Natural Resources pillar, 2019 Rank)                        117 non-null    int64  \n",
      " 55  (Natural Resources pillar, 2021 Value)                       117 non-null    float64\n",
      " 56  (Natural Resources pillar, 2021 Rank)                        117 non-null    int64  \n",
      " 57  (Natural Resources pillar, % Dif Score)                      117 non-null    float64\n",
      " 58  (Natural Resources pillar, Rank Change)                      117 non-null    int64  \n",
      " 59  (Cultural Resources pillar, 2019 Value)                      117 non-null    float64\n",
      " 60  (Cultural Resources pillar, 2019 Rank)                       117 non-null    int64  \n",
      " 61  (Cultural Resources pillar, 2021 Value)                      117 non-null    float64\n",
      " 62  (Cultural Resources pillar, 2021 Rank)                       117 non-null    int64  \n",
      " 63  (Cultural Resources pillar, % Dif Score)                     117 non-null    float64\n",
      " 64  (Cultural Resources pillar, Rank Change)                     117 non-null    int64  \n",
      " 65  (Environmental Sustainability pillar, 2019 Value)            117 non-null    float64\n",
      " 66  (Environmental Sustainability pillar, 2019 Rank)             117 non-null    int64  \n",
      " 67  (Environmental Sustainability pillar, 2021 Value)            117 non-null    float64\n",
      " 68  (Environmental Sustainability pillar, 2021 Rank)             117 non-null    int64  \n",
      " 69  (Environmental Sustainability pillar, % Dif Score)           117 non-null    float64\n",
      " 70  (Environmental Sustainability pillar, Rank Change)           117 non-null    int64  \n",
      " 71  (Socioeconomic Resilience & Conditions pillar, Rank Change)  117 non-null    int64  \n",
      " 72  (T&T Demand Pressure & Impact pillar, 2019 Value)            117 non-null    float64\n",
      " 73  (T&T Demand Pressure & Impact pillar, 2019 Rank)             117 non-null    int64  \n",
      " 74  (T&T Demand Pressure & Impact pillar, 2021 Value)            117 non-null    float64\n",
      " 75  (T&T Demand Pressure & Impact pillar, 2021 Rank)             117 non-null    int64  \n",
      " 76  (T&T Demand Pressure & Impact pillar, % Dif Score)           117 non-null    float64\n",
      " 77  (T&T Demand Pressure & Impact pillar, Rank Change)           117 non-null    int64  \n",
      "dtypes: float64(36), int64(37), object(5)\n",
      "memory usage: 71.4+ KB\n"
     ]
    }
   ],
   "source": [
    "wef2.info()"
   ],
   "metadata": {
    "collapsed": false,
    "pycharm": {
     "name": "#%%\n"
    }
   }
  },
  {
   "cell_type": "code",
   "execution_count": 36,
   "outputs": [
    {
     "data": {
      "text/plain": "       (Travel & Tourism Development Index , 2019 Value)  \\\ncount                                         117.000000   \nmean                                            3.974907   \nstd                                             0.665839   \nmin                                             2.456111   \n25%                                             3.475725   \n50%                                             3.968434   \n75%                                             4.431755   \nmax                                             5.253746   \n\n       (Travel & Tourism Development Index , 2019 Rank)  \\\ncount                                        117.000000   \nmean                                          59.000000   \nstd                                           33.919021   \nmin                                            1.000000   \n25%                                           30.000000   \n50%                                           59.000000   \n75%                                           88.000000   \nmax                                          117.000000   \n\n       (Travel & Tourism Development Index , 2021 Value)  \\\ncount                                         117.000000   \nmean                                            3.979569   \nstd                                             0.640552   \nmin                                             2.487591   \n25%                                             3.477056   \n50%                                             4.005353   \n75%                                             4.400628   \nmax                                             5.245868   \n\n       (Travel & Tourism Development Index , 2021 Rank)  \\\ncount                                        117.000000   \nmean                                          59.000000   \nstd                                           33.919021   \nmin                                            1.000000   \n25%                                           30.000000   \n50%                                           59.000000   \n75%                                           88.000000   \nmax                                          117.000000   \n\n       (Travel & Tourism Development Index , % Dif Score)  \\\ncount                                         117.000000    \nmean                                            0.002372    \nstd                                             0.017716    \nmin                                            -0.045264    \n25%                                            -0.008102    \n50%                                             0.002845    \n75%                                             0.014441    \nmax                                             0.047209    \n\n       (Travel & Tourism Development Index , Rank Change)  \\\ncount                                         117.000000    \nmean                                            0.000000    \nstd                                             3.564673    \nmin                                            -9.000000    \n25%                                            -2.000000    \n50%                                             0.000000    \n75%                                             2.000000    \nmax                                            12.000000    \n\n       (Enabling Environment subindex, 2019 Value)  \\\ncount                                   117.000000   \nmean                                      4.564848   \nstd                                       0.836347   \nmin                                       2.552401   \n25%                                       3.934984   \n50%                                       4.603410   \n75%                                       5.269609   \nmax                                       6.154802   \n\n       (Enabling Environment subindex, 2019 Rank)  \\\ncount                                  117.000000   \nmean                                    59.000000   \nstd                                     33.919021   \nmin                                      1.000000   \n25%                                     30.000000   \n50%                                     59.000000   \n75%                                     88.000000   \nmax                                    117.000000   \n\n       (Enabling Environment subindex, 2021 Value)  \\\ncount                                   117.000000   \nmean                                      4.631515   \nstd                                       0.818786   \nmin                                       2.644896   \n25%                                       3.977853   \n50%                                       4.718345   \n75%                                       5.332401   \nmax                                       6.131369   \n\n       (Enabling Environment subindex, 2021 Rank)  ...  \\\ncount                                  117.000000  ...   \nmean                                    59.000000  ...   \nstd                                     33.919021  ...   \nmin                                      1.000000  ...   \n25%                                     30.000000  ...   \n50%                                     59.000000  ...   \n75%                                     88.000000  ...   \nmax                                    117.000000  ...   \n\n       (Socioeconomic Resilience & Conditions pillar, 2021 Value)  \\\ncount                                         117.000000            \nmean                                            4.275550            \nstd                                             0.957549            \nmin                                             2.464483            \n25%                                             3.546798            \n50%                                             4.128973            \n75%                                             5.103106            \nmax                                             6.228035            \n\n       (Socioeconomic Resilience & Conditions pillar, 2021 Rank)  \\\ncount                                         117.000000           \nmean                                           59.000000           \nstd                                            33.919021           \nmin                                             1.000000           \n25%                                            30.000000           \n50%                                            59.000000           \n75%                                            88.000000           \nmax                                           117.000000           \n\n       (Socioeconomic Resilience & Conditions pillar, % Dif Score)  \\\ncount                                         117.000000             \nmean                                            0.015116             \nstd                                             0.030258             \nmin                                            -0.089699             \n25%                                             0.001743             \n50%                                             0.010592             \n75%                                             0.025532             \nmax                                             0.092591             \n\n       (Socioeconomic Resilience & Conditions pillar, Rank Change)  \\\ncount                                         117.000000             \nmean                                            0.000000             \nstd                                             5.301269             \nmin                                           -23.000000             \n25%                                            -2.000000             \n50%                                             0.000000             \n75%                                             2.000000             \nmax                                            22.000000             \n\n       (T&T Demand Pressure & Impact pillar, 2019 Value)  \\\ncount                                         117.000000   \nmean                                            3.978509   \nstd                                             0.419026   \nmin                                             2.793893   \n25%                                             3.687642   \n50%                                             3.939315   \n75%                                             4.305448   \nmax                                             4.953356   \n\n       (T&T Demand Pressure & Impact pillar, 2019 Rank)  \\\ncount                                        117.000000   \nmean                                          59.000000   \nstd                                           33.919021   \nmin                                            1.000000   \n25%                                           30.000000   \n50%                                           59.000000   \n75%                                           88.000000   \nmax                                          117.000000   \n\n       (T&T Demand Pressure & Impact pillar, 2021 Value)  \\\ncount                                         117.000000   \nmean                                            4.072630   \nstd                                             0.463036   \nmin                                             2.793446   \n25%                                             3.712570   \n50%                                             4.090589   \n75%                                             4.399605   \nmax                                             5.293087   \n\n       (T&T Demand Pressure & Impact pillar, 2021 Rank)  \\\ncount                                        117.000000   \nmean                                          59.000000   \nstd                                           33.919021   \nmin                                            1.000000   \n25%                                           30.000000   \n50%                                           59.000000   \n75%                                           88.000000   \nmax                                          117.000000   \n\n       (T&T Demand Pressure & Impact pillar, % Dif Score)  \\\ncount                                         117.000000    \nmean                                            0.024251    \nstd                                             0.056575    \nmin                                            -0.126897    \n25%                                             0.000487    \n50%                                             0.027401    \n75%                                             0.057877    \nmax                                             0.230739    \n\n       (T&T Demand Pressure & Impact pillar, Rank Change)  \ncount                                         117.000000   \nmean                                            0.000000   \nstd                                            16.185349   \nmin                                           -41.000000   \n25%                                            -7.000000   \n50%                                             1.000000   \n75%                                            10.000000   \nmax                                            50.000000   \n\n[8 rows x 138 columns]",
      "text/html": "<div>\n<style scoped>\n    .dataframe tbody tr th:only-of-type {\n        vertical-align: middle;\n    }\n\n    .dataframe tbody tr th {\n        vertical-align: top;\n    }\n\n    .dataframe thead th {\n        text-align: right;\n    }\n</style>\n<table border=\"1\" class=\"dataframe\">\n  <thead>\n    <tr style=\"text-align: right;\">\n      <th></th>\n      <th>(Travel &amp; Tourism Development Index , 2019 Value)</th>\n      <th>(Travel &amp; Tourism Development Index , 2019 Rank)</th>\n      <th>(Travel &amp; Tourism Development Index , 2021 Value)</th>\n      <th>(Travel &amp; Tourism Development Index , 2021 Rank)</th>\n      <th>(Travel &amp; Tourism Development Index , % Dif Score)</th>\n      <th>(Travel &amp; Tourism Development Index , Rank Change)</th>\n      <th>(Enabling Environment subindex, 2019 Value)</th>\n      <th>(Enabling Environment subindex, 2019 Rank)</th>\n      <th>(Enabling Environment subindex, 2021 Value)</th>\n      <th>(Enabling Environment subindex, 2021 Rank)</th>\n      <th>...</th>\n      <th>(Socioeconomic Resilience &amp; Conditions pillar, 2021 Value)</th>\n      <th>(Socioeconomic Resilience &amp; Conditions pillar, 2021 Rank)</th>\n      <th>(Socioeconomic Resilience &amp; Conditions pillar, % Dif Score)</th>\n      <th>(Socioeconomic Resilience &amp; Conditions pillar, Rank Change)</th>\n      <th>(T&amp;T Demand Pressure &amp; Impact pillar, 2019 Value)</th>\n      <th>(T&amp;T Demand Pressure &amp; Impact pillar, 2019 Rank)</th>\n      <th>(T&amp;T Demand Pressure &amp; Impact pillar, 2021 Value)</th>\n      <th>(T&amp;T Demand Pressure &amp; Impact pillar, 2021 Rank)</th>\n      <th>(T&amp;T Demand Pressure &amp; Impact pillar, % Dif Score)</th>\n      <th>(T&amp;T Demand Pressure &amp; Impact pillar, Rank Change)</th>\n    </tr>\n  </thead>\n  <tbody>\n    <tr>\n      <th>count</th>\n      <td>117.000000</td>\n      <td>117.000000</td>\n      <td>117.000000</td>\n      <td>117.000000</td>\n      <td>117.000000</td>\n      <td>117.000000</td>\n      <td>117.000000</td>\n      <td>117.000000</td>\n      <td>117.000000</td>\n      <td>117.000000</td>\n      <td>...</td>\n      <td>117.000000</td>\n      <td>117.000000</td>\n      <td>117.000000</td>\n      <td>117.000000</td>\n      <td>117.000000</td>\n      <td>117.000000</td>\n      <td>117.000000</td>\n      <td>117.000000</td>\n      <td>117.000000</td>\n      <td>117.000000</td>\n    </tr>\n    <tr>\n      <th>mean</th>\n      <td>3.974907</td>\n      <td>59.000000</td>\n      <td>3.979569</td>\n      <td>59.000000</td>\n      <td>0.002372</td>\n      <td>0.000000</td>\n      <td>4.564848</td>\n      <td>59.000000</td>\n      <td>4.631515</td>\n      <td>59.000000</td>\n      <td>...</td>\n      <td>4.275550</td>\n      <td>59.000000</td>\n      <td>0.015116</td>\n      <td>0.000000</td>\n      <td>3.978509</td>\n      <td>59.000000</td>\n      <td>4.072630</td>\n      <td>59.000000</td>\n      <td>0.024251</td>\n      <td>0.000000</td>\n    </tr>\n    <tr>\n      <th>std</th>\n      <td>0.665839</td>\n      <td>33.919021</td>\n      <td>0.640552</td>\n      <td>33.919021</td>\n      <td>0.017716</td>\n      <td>3.564673</td>\n      <td>0.836347</td>\n      <td>33.919021</td>\n      <td>0.818786</td>\n      <td>33.919021</td>\n      <td>...</td>\n      <td>0.957549</td>\n      <td>33.919021</td>\n      <td>0.030258</td>\n      <td>5.301269</td>\n      <td>0.419026</td>\n      <td>33.919021</td>\n      <td>0.463036</td>\n      <td>33.919021</td>\n      <td>0.056575</td>\n      <td>16.185349</td>\n    </tr>\n    <tr>\n      <th>min</th>\n      <td>2.456111</td>\n      <td>1.000000</td>\n      <td>2.487591</td>\n      <td>1.000000</td>\n      <td>-0.045264</td>\n      <td>-9.000000</td>\n      <td>2.552401</td>\n      <td>1.000000</td>\n      <td>2.644896</td>\n      <td>1.000000</td>\n      <td>...</td>\n      <td>2.464483</td>\n      <td>1.000000</td>\n      <td>-0.089699</td>\n      <td>-23.000000</td>\n      <td>2.793893</td>\n      <td>1.000000</td>\n      <td>2.793446</td>\n      <td>1.000000</td>\n      <td>-0.126897</td>\n      <td>-41.000000</td>\n    </tr>\n    <tr>\n      <th>25%</th>\n      <td>3.475725</td>\n      <td>30.000000</td>\n      <td>3.477056</td>\n      <td>30.000000</td>\n      <td>-0.008102</td>\n      <td>-2.000000</td>\n      <td>3.934984</td>\n      <td>30.000000</td>\n      <td>3.977853</td>\n      <td>30.000000</td>\n      <td>...</td>\n      <td>3.546798</td>\n      <td>30.000000</td>\n      <td>0.001743</td>\n      <td>-2.000000</td>\n      <td>3.687642</td>\n      <td>30.000000</td>\n      <td>3.712570</td>\n      <td>30.000000</td>\n      <td>0.000487</td>\n      <td>-7.000000</td>\n    </tr>\n    <tr>\n      <th>50%</th>\n      <td>3.968434</td>\n      <td>59.000000</td>\n      <td>4.005353</td>\n      <td>59.000000</td>\n      <td>0.002845</td>\n      <td>0.000000</td>\n      <td>4.603410</td>\n      <td>59.000000</td>\n      <td>4.718345</td>\n      <td>59.000000</td>\n      <td>...</td>\n      <td>4.128973</td>\n      <td>59.000000</td>\n      <td>0.010592</td>\n      <td>0.000000</td>\n      <td>3.939315</td>\n      <td>59.000000</td>\n      <td>4.090589</td>\n      <td>59.000000</td>\n      <td>0.027401</td>\n      <td>1.000000</td>\n    </tr>\n    <tr>\n      <th>75%</th>\n      <td>4.431755</td>\n      <td>88.000000</td>\n      <td>4.400628</td>\n      <td>88.000000</td>\n      <td>0.014441</td>\n      <td>2.000000</td>\n      <td>5.269609</td>\n      <td>88.000000</td>\n      <td>5.332401</td>\n      <td>88.000000</td>\n      <td>...</td>\n      <td>5.103106</td>\n      <td>88.000000</td>\n      <td>0.025532</td>\n      <td>2.000000</td>\n      <td>4.305448</td>\n      <td>88.000000</td>\n      <td>4.399605</td>\n      <td>88.000000</td>\n      <td>0.057877</td>\n      <td>10.000000</td>\n    </tr>\n    <tr>\n      <th>max</th>\n      <td>5.253746</td>\n      <td>117.000000</td>\n      <td>5.245868</td>\n      <td>117.000000</td>\n      <td>0.047209</td>\n      <td>12.000000</td>\n      <td>6.154802</td>\n      <td>117.000000</td>\n      <td>6.131369</td>\n      <td>117.000000</td>\n      <td>...</td>\n      <td>6.228035</td>\n      <td>117.000000</td>\n      <td>0.092591</td>\n      <td>22.000000</td>\n      <td>4.953356</td>\n      <td>117.000000</td>\n      <td>5.293087</td>\n      <td>117.000000</td>\n      <td>0.230739</td>\n      <td>50.000000</td>\n    </tr>\n  </tbody>\n</table>\n<p>8 rows × 138 columns</p>\n</div>"
     },
     "execution_count": 36,
     "metadata": {},
     "output_type": "execute_result"
    }
   ],
   "source": [
    "wef.describe()"
   ],
   "metadata": {
    "collapsed": false,
    "pycharm": {
     "name": "#%%\n"
    }
   }
  },
  {
   "cell_type": "code",
   "execution_count": 37,
   "outputs": [
    {
     "data": {
      "text/plain": "ISO Code                                              0\nEconomy                                               0\nRegion                                                0\nSub Region                                            0\nIncome Group                                          0\n                                                     ..\n(T&T Demand Pressure & Impact pillar, 2019 Rank)      0\n(T&T Demand Pressure & Impact pillar, 2021 Value)     0\n(T&T Demand Pressure & Impact pillar, 2021 Rank)      0\n(T&T Demand Pressure & Impact pillar, % Dif Score)    0\n(T&T Demand Pressure & Impact pillar, Rank Change)    0\nLength: 143, dtype: int64"
     },
     "execution_count": 37,
     "metadata": {},
     "output_type": "execute_result"
    }
   ],
   "source": [
    "wef.isna().sum()"
   ],
   "metadata": {
    "collapsed": false,
    "pycharm": {
     "name": "#%%\n"
    }
   }
  },
  {
   "cell_type": "code",
   "execution_count": 43,
   "outputs": [],
   "source": [
    "wef2.to_csv('../cleaned_data/wef_ttdi.csv')"
   ],
   "metadata": {
    "collapsed": false,
    "pycharm": {
     "name": "#%%\n"
    }
   }
  },
  {
   "cell_type": "code",
   "execution_count": null,
   "outputs": [],
   "source": [],
   "metadata": {
    "collapsed": false,
    "pycharm": {
     "name": "#%%\n"
    }
   }
  }
 ],
 "metadata": {
  "kernelspec": {
   "display_name": "Python 3",
   "language": "python",
   "name": "python3"
  },
  "language_info": {
   "codemirror_mode": {
    "name": "ipython",
    "version": 2
   },
   "file_extension": ".py",
   "mimetype": "text/x-python",
   "name": "python",
   "nbconvert_exporter": "python",
   "pygments_lexer": "ipython2",
   "version": "2.7.6"
  }
 },
 "nbformat": 4,
 "nbformat_minor": 0
}