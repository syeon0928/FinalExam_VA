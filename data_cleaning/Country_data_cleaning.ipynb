{
 "cells": [
  {
   "cell_type": "markdown",
   "id": "bb0fa62e",
   "metadata": {
    "pycharm": {
     "name": "#%% md\n"
    }
   },
   "source": [
    "### Import needed packages"
   ]
  },
  {
   "cell_type": "code",
   "execution_count": 1,
   "id": "5a8bded8",
   "metadata": {
    "pycharm": {
     "name": "#%%\n"
    }
   },
   "outputs": [],
   "source": [
    "import pandas as pd"
   ]
  },
  {
   "cell_type": "markdown",
   "id": "9ea6f6b5",
   "metadata": {
    "pycharm": {
     "name": "#%% md\n"
    }
   },
   "source": [
    "### Load all the necessary data"
   ]
  },
  {
   "cell_type": "code",
   "execution_count": 2,
   "id": "b9ae5ddf",
   "metadata": {
    "pycharm": {
     "name": "#%%\n"
    }
   },
   "outputs": [
    {
     "ename": "FileNotFoundError",
     "evalue": "[Errno 2] No such file or directory: 'Population/Population.csv'",
     "output_type": "error",
     "traceback": [
      "\u001B[0;31m---------------------------------------------------------------------------\u001B[0m",
      "\u001B[0;31mFileNotFoundError\u001B[0m                         Traceback (most recent call last)",
      "Cell \u001B[0;32mIn [2], line 2\u001B[0m\n\u001B[1;32m      1\u001B[0m \u001B[38;5;66;03m# Load the population by country dataset\u001B[39;00m\n\u001B[0;32m----> 2\u001B[0m pop \u001B[38;5;241m=\u001B[39m \u001B[43mpd\u001B[49m\u001B[38;5;241;43m.\u001B[39;49m\u001B[43mread_csv\u001B[49m\u001B[43m(\u001B[49m\u001B[38;5;124;43m\"\u001B[39;49m\u001B[38;5;124;43mPopulation/Population.csv\u001B[39;49m\u001B[38;5;124;43m\"\u001B[39;49m\u001B[43m)\u001B[49m\n\u001B[1;32m      4\u001B[0m \u001B[38;5;66;03m#Load the climate by country dataset\u001B[39;00m\n\u001B[1;32m      5\u001B[0m clim \u001B[38;5;241m=\u001B[39m pd\u001B[38;5;241m.\u001B[39mread_csv(\u001B[38;5;124m\"\u001B[39m\u001B[38;5;124mClimate.csv\u001B[39m\u001B[38;5;124m\"\u001B[39m)\n",
      "File \u001B[0;32m~/.venv/FinalExam_DS/lib/python3.9/site-packages/pandas/util/_decorators.py:211\u001B[0m, in \u001B[0;36mdeprecate_kwarg.<locals>._deprecate_kwarg.<locals>.wrapper\u001B[0;34m(*args, **kwargs)\u001B[0m\n\u001B[1;32m    209\u001B[0m     \u001B[38;5;28;01melse\u001B[39;00m:\n\u001B[1;32m    210\u001B[0m         kwargs[new_arg_name] \u001B[38;5;241m=\u001B[39m new_arg_value\n\u001B[0;32m--> 211\u001B[0m \u001B[38;5;28;01mreturn\u001B[39;00m \u001B[43mfunc\u001B[49m\u001B[43m(\u001B[49m\u001B[38;5;241;43m*\u001B[39;49m\u001B[43margs\u001B[49m\u001B[43m,\u001B[49m\u001B[43m \u001B[49m\u001B[38;5;241;43m*\u001B[39;49m\u001B[38;5;241;43m*\u001B[39;49m\u001B[43mkwargs\u001B[49m\u001B[43m)\u001B[49m\n",
      "File \u001B[0;32m~/.venv/FinalExam_DS/lib/python3.9/site-packages/pandas/util/_decorators.py:331\u001B[0m, in \u001B[0;36mdeprecate_nonkeyword_arguments.<locals>.decorate.<locals>.wrapper\u001B[0;34m(*args, **kwargs)\u001B[0m\n\u001B[1;32m    325\u001B[0m \u001B[38;5;28;01mif\u001B[39;00m \u001B[38;5;28mlen\u001B[39m(args) \u001B[38;5;241m>\u001B[39m num_allow_args:\n\u001B[1;32m    326\u001B[0m     warnings\u001B[38;5;241m.\u001B[39mwarn(\n\u001B[1;32m    327\u001B[0m         msg\u001B[38;5;241m.\u001B[39mformat(arguments\u001B[38;5;241m=\u001B[39m_format_argument_list(allow_args)),\n\u001B[1;32m    328\u001B[0m         \u001B[38;5;167;01mFutureWarning\u001B[39;00m,\n\u001B[1;32m    329\u001B[0m         stacklevel\u001B[38;5;241m=\u001B[39mfind_stack_level(),\n\u001B[1;32m    330\u001B[0m     )\n\u001B[0;32m--> 331\u001B[0m \u001B[38;5;28;01mreturn\u001B[39;00m \u001B[43mfunc\u001B[49m\u001B[43m(\u001B[49m\u001B[38;5;241;43m*\u001B[39;49m\u001B[43margs\u001B[49m\u001B[43m,\u001B[49m\u001B[43m \u001B[49m\u001B[38;5;241;43m*\u001B[39;49m\u001B[38;5;241;43m*\u001B[39;49m\u001B[43mkwargs\u001B[49m\u001B[43m)\u001B[49m\n",
      "File \u001B[0;32m~/.venv/FinalExam_DS/lib/python3.9/site-packages/pandas/io/parsers/readers.py:950\u001B[0m, in \u001B[0;36mread_csv\u001B[0;34m(filepath_or_buffer, sep, delimiter, header, names, index_col, usecols, squeeze, prefix, mangle_dupe_cols, dtype, engine, converters, true_values, false_values, skipinitialspace, skiprows, skipfooter, nrows, na_values, keep_default_na, na_filter, verbose, skip_blank_lines, parse_dates, infer_datetime_format, keep_date_col, date_parser, dayfirst, cache_dates, iterator, chunksize, compression, thousands, decimal, lineterminator, quotechar, quoting, doublequote, escapechar, comment, encoding, encoding_errors, dialect, error_bad_lines, warn_bad_lines, on_bad_lines, delim_whitespace, low_memory, memory_map, float_precision, storage_options)\u001B[0m\n\u001B[1;32m    935\u001B[0m kwds_defaults \u001B[38;5;241m=\u001B[39m _refine_defaults_read(\n\u001B[1;32m    936\u001B[0m     dialect,\n\u001B[1;32m    937\u001B[0m     delimiter,\n\u001B[0;32m   (...)\u001B[0m\n\u001B[1;32m    946\u001B[0m     defaults\u001B[38;5;241m=\u001B[39m{\u001B[38;5;124m\"\u001B[39m\u001B[38;5;124mdelimiter\u001B[39m\u001B[38;5;124m\"\u001B[39m: \u001B[38;5;124m\"\u001B[39m\u001B[38;5;124m,\u001B[39m\u001B[38;5;124m\"\u001B[39m},\n\u001B[1;32m    947\u001B[0m )\n\u001B[1;32m    948\u001B[0m kwds\u001B[38;5;241m.\u001B[39mupdate(kwds_defaults)\n\u001B[0;32m--> 950\u001B[0m \u001B[38;5;28;01mreturn\u001B[39;00m \u001B[43m_read\u001B[49m\u001B[43m(\u001B[49m\u001B[43mfilepath_or_buffer\u001B[49m\u001B[43m,\u001B[49m\u001B[43m \u001B[49m\u001B[43mkwds\u001B[49m\u001B[43m)\u001B[49m\n",
      "File \u001B[0;32m~/.venv/FinalExam_DS/lib/python3.9/site-packages/pandas/io/parsers/readers.py:605\u001B[0m, in \u001B[0;36m_read\u001B[0;34m(filepath_or_buffer, kwds)\u001B[0m\n\u001B[1;32m    602\u001B[0m _validate_names(kwds\u001B[38;5;241m.\u001B[39mget(\u001B[38;5;124m\"\u001B[39m\u001B[38;5;124mnames\u001B[39m\u001B[38;5;124m\"\u001B[39m, \u001B[38;5;28;01mNone\u001B[39;00m))\n\u001B[1;32m    604\u001B[0m \u001B[38;5;66;03m# Create the parser.\u001B[39;00m\n\u001B[0;32m--> 605\u001B[0m parser \u001B[38;5;241m=\u001B[39m \u001B[43mTextFileReader\u001B[49m\u001B[43m(\u001B[49m\u001B[43mfilepath_or_buffer\u001B[49m\u001B[43m,\u001B[49m\u001B[43m \u001B[49m\u001B[38;5;241;43m*\u001B[39;49m\u001B[38;5;241;43m*\u001B[39;49m\u001B[43mkwds\u001B[49m\u001B[43m)\u001B[49m\n\u001B[1;32m    607\u001B[0m \u001B[38;5;28;01mif\u001B[39;00m chunksize \u001B[38;5;129;01mor\u001B[39;00m iterator:\n\u001B[1;32m    608\u001B[0m     \u001B[38;5;28;01mreturn\u001B[39;00m parser\n",
      "File \u001B[0;32m~/.venv/FinalExam_DS/lib/python3.9/site-packages/pandas/io/parsers/readers.py:1442\u001B[0m, in \u001B[0;36mTextFileReader.__init__\u001B[0;34m(self, f, engine, **kwds)\u001B[0m\n\u001B[1;32m   1439\u001B[0m     \u001B[38;5;28mself\u001B[39m\u001B[38;5;241m.\u001B[39moptions[\u001B[38;5;124m\"\u001B[39m\u001B[38;5;124mhas_index_names\u001B[39m\u001B[38;5;124m\"\u001B[39m] \u001B[38;5;241m=\u001B[39m kwds[\u001B[38;5;124m\"\u001B[39m\u001B[38;5;124mhas_index_names\u001B[39m\u001B[38;5;124m\"\u001B[39m]\n\u001B[1;32m   1441\u001B[0m \u001B[38;5;28mself\u001B[39m\u001B[38;5;241m.\u001B[39mhandles: IOHandles \u001B[38;5;241m|\u001B[39m \u001B[38;5;28;01mNone\u001B[39;00m \u001B[38;5;241m=\u001B[39m \u001B[38;5;28;01mNone\u001B[39;00m\n\u001B[0;32m-> 1442\u001B[0m \u001B[38;5;28mself\u001B[39m\u001B[38;5;241m.\u001B[39m_engine \u001B[38;5;241m=\u001B[39m \u001B[38;5;28;43mself\u001B[39;49m\u001B[38;5;241;43m.\u001B[39;49m\u001B[43m_make_engine\u001B[49m\u001B[43m(\u001B[49m\u001B[43mf\u001B[49m\u001B[43m,\u001B[49m\u001B[43m \u001B[49m\u001B[38;5;28;43mself\u001B[39;49m\u001B[38;5;241;43m.\u001B[39;49m\u001B[43mengine\u001B[49m\u001B[43m)\u001B[49m\n",
      "File \u001B[0;32m~/.venv/FinalExam_DS/lib/python3.9/site-packages/pandas/io/parsers/readers.py:1735\u001B[0m, in \u001B[0;36mTextFileReader._make_engine\u001B[0;34m(self, f, engine)\u001B[0m\n\u001B[1;32m   1733\u001B[0m     \u001B[38;5;28;01mif\u001B[39;00m \u001B[38;5;124m\"\u001B[39m\u001B[38;5;124mb\u001B[39m\u001B[38;5;124m\"\u001B[39m \u001B[38;5;129;01mnot\u001B[39;00m \u001B[38;5;129;01min\u001B[39;00m mode:\n\u001B[1;32m   1734\u001B[0m         mode \u001B[38;5;241m+\u001B[39m\u001B[38;5;241m=\u001B[39m \u001B[38;5;124m\"\u001B[39m\u001B[38;5;124mb\u001B[39m\u001B[38;5;124m\"\u001B[39m\n\u001B[0;32m-> 1735\u001B[0m \u001B[38;5;28mself\u001B[39m\u001B[38;5;241m.\u001B[39mhandles \u001B[38;5;241m=\u001B[39m \u001B[43mget_handle\u001B[49m\u001B[43m(\u001B[49m\n\u001B[1;32m   1736\u001B[0m \u001B[43m    \u001B[49m\u001B[43mf\u001B[49m\u001B[43m,\u001B[49m\n\u001B[1;32m   1737\u001B[0m \u001B[43m    \u001B[49m\u001B[43mmode\u001B[49m\u001B[43m,\u001B[49m\n\u001B[1;32m   1738\u001B[0m \u001B[43m    \u001B[49m\u001B[43mencoding\u001B[49m\u001B[38;5;241;43m=\u001B[39;49m\u001B[38;5;28;43mself\u001B[39;49m\u001B[38;5;241;43m.\u001B[39;49m\u001B[43moptions\u001B[49m\u001B[38;5;241;43m.\u001B[39;49m\u001B[43mget\u001B[49m\u001B[43m(\u001B[49m\u001B[38;5;124;43m\"\u001B[39;49m\u001B[38;5;124;43mencoding\u001B[39;49m\u001B[38;5;124;43m\"\u001B[39;49m\u001B[43m,\u001B[49m\u001B[43m \u001B[49m\u001B[38;5;28;43;01mNone\u001B[39;49;00m\u001B[43m)\u001B[49m\u001B[43m,\u001B[49m\n\u001B[1;32m   1739\u001B[0m \u001B[43m    \u001B[49m\u001B[43mcompression\u001B[49m\u001B[38;5;241;43m=\u001B[39;49m\u001B[38;5;28;43mself\u001B[39;49m\u001B[38;5;241;43m.\u001B[39;49m\u001B[43moptions\u001B[49m\u001B[38;5;241;43m.\u001B[39;49m\u001B[43mget\u001B[49m\u001B[43m(\u001B[49m\u001B[38;5;124;43m\"\u001B[39;49m\u001B[38;5;124;43mcompression\u001B[39;49m\u001B[38;5;124;43m\"\u001B[39;49m\u001B[43m,\u001B[49m\u001B[43m \u001B[49m\u001B[38;5;28;43;01mNone\u001B[39;49;00m\u001B[43m)\u001B[49m\u001B[43m,\u001B[49m\n\u001B[1;32m   1740\u001B[0m \u001B[43m    \u001B[49m\u001B[43mmemory_map\u001B[49m\u001B[38;5;241;43m=\u001B[39;49m\u001B[38;5;28;43mself\u001B[39;49m\u001B[38;5;241;43m.\u001B[39;49m\u001B[43moptions\u001B[49m\u001B[38;5;241;43m.\u001B[39;49m\u001B[43mget\u001B[49m\u001B[43m(\u001B[49m\u001B[38;5;124;43m\"\u001B[39;49m\u001B[38;5;124;43mmemory_map\u001B[39;49m\u001B[38;5;124;43m\"\u001B[39;49m\u001B[43m,\u001B[49m\u001B[43m \u001B[49m\u001B[38;5;28;43;01mFalse\u001B[39;49;00m\u001B[43m)\u001B[49m\u001B[43m,\u001B[49m\n\u001B[1;32m   1741\u001B[0m \u001B[43m    \u001B[49m\u001B[43mis_text\u001B[49m\u001B[38;5;241;43m=\u001B[39;49m\u001B[43mis_text\u001B[49m\u001B[43m,\u001B[49m\n\u001B[1;32m   1742\u001B[0m \u001B[43m    \u001B[49m\u001B[43merrors\u001B[49m\u001B[38;5;241;43m=\u001B[39;49m\u001B[38;5;28;43mself\u001B[39;49m\u001B[38;5;241;43m.\u001B[39;49m\u001B[43moptions\u001B[49m\u001B[38;5;241;43m.\u001B[39;49m\u001B[43mget\u001B[49m\u001B[43m(\u001B[49m\u001B[38;5;124;43m\"\u001B[39;49m\u001B[38;5;124;43mencoding_errors\u001B[39;49m\u001B[38;5;124;43m\"\u001B[39;49m\u001B[43m,\u001B[49m\u001B[43m \u001B[49m\u001B[38;5;124;43m\"\u001B[39;49m\u001B[38;5;124;43mstrict\u001B[39;49m\u001B[38;5;124;43m\"\u001B[39;49m\u001B[43m)\u001B[49m\u001B[43m,\u001B[49m\n\u001B[1;32m   1743\u001B[0m \u001B[43m    \u001B[49m\u001B[43mstorage_options\u001B[49m\u001B[38;5;241;43m=\u001B[39;49m\u001B[38;5;28;43mself\u001B[39;49m\u001B[38;5;241;43m.\u001B[39;49m\u001B[43moptions\u001B[49m\u001B[38;5;241;43m.\u001B[39;49m\u001B[43mget\u001B[49m\u001B[43m(\u001B[49m\u001B[38;5;124;43m\"\u001B[39;49m\u001B[38;5;124;43mstorage_options\u001B[39;49m\u001B[38;5;124;43m\"\u001B[39;49m\u001B[43m,\u001B[49m\u001B[43m \u001B[49m\u001B[38;5;28;43;01mNone\u001B[39;49;00m\u001B[43m)\u001B[49m\u001B[43m,\u001B[49m\n\u001B[1;32m   1744\u001B[0m \u001B[43m\u001B[49m\u001B[43m)\u001B[49m\n\u001B[1;32m   1745\u001B[0m \u001B[38;5;28;01massert\u001B[39;00m \u001B[38;5;28mself\u001B[39m\u001B[38;5;241m.\u001B[39mhandles \u001B[38;5;129;01mis\u001B[39;00m \u001B[38;5;129;01mnot\u001B[39;00m \u001B[38;5;28;01mNone\u001B[39;00m\n\u001B[1;32m   1746\u001B[0m f \u001B[38;5;241m=\u001B[39m \u001B[38;5;28mself\u001B[39m\u001B[38;5;241m.\u001B[39mhandles\u001B[38;5;241m.\u001B[39mhandle\n",
      "File \u001B[0;32m~/.venv/FinalExam_DS/lib/python3.9/site-packages/pandas/io/common.py:856\u001B[0m, in \u001B[0;36mget_handle\u001B[0;34m(path_or_buf, mode, encoding, compression, memory_map, is_text, errors, storage_options)\u001B[0m\n\u001B[1;32m    851\u001B[0m \u001B[38;5;28;01melif\u001B[39;00m \u001B[38;5;28misinstance\u001B[39m(handle, \u001B[38;5;28mstr\u001B[39m):\n\u001B[1;32m    852\u001B[0m     \u001B[38;5;66;03m# Check whether the filename is to be opened in binary mode.\u001B[39;00m\n\u001B[1;32m    853\u001B[0m     \u001B[38;5;66;03m# Binary mode does not support 'encoding' and 'newline'.\u001B[39;00m\n\u001B[1;32m    854\u001B[0m     \u001B[38;5;28;01mif\u001B[39;00m ioargs\u001B[38;5;241m.\u001B[39mencoding \u001B[38;5;129;01mand\u001B[39;00m \u001B[38;5;124m\"\u001B[39m\u001B[38;5;124mb\u001B[39m\u001B[38;5;124m\"\u001B[39m \u001B[38;5;129;01mnot\u001B[39;00m \u001B[38;5;129;01min\u001B[39;00m ioargs\u001B[38;5;241m.\u001B[39mmode:\n\u001B[1;32m    855\u001B[0m         \u001B[38;5;66;03m# Encoding\u001B[39;00m\n\u001B[0;32m--> 856\u001B[0m         handle \u001B[38;5;241m=\u001B[39m \u001B[38;5;28;43mopen\u001B[39;49m\u001B[43m(\u001B[49m\n\u001B[1;32m    857\u001B[0m \u001B[43m            \u001B[49m\u001B[43mhandle\u001B[49m\u001B[43m,\u001B[49m\n\u001B[1;32m    858\u001B[0m \u001B[43m            \u001B[49m\u001B[43mioargs\u001B[49m\u001B[38;5;241;43m.\u001B[39;49m\u001B[43mmode\u001B[49m\u001B[43m,\u001B[49m\n\u001B[1;32m    859\u001B[0m \u001B[43m            \u001B[49m\u001B[43mencoding\u001B[49m\u001B[38;5;241;43m=\u001B[39;49m\u001B[43mioargs\u001B[49m\u001B[38;5;241;43m.\u001B[39;49m\u001B[43mencoding\u001B[49m\u001B[43m,\u001B[49m\n\u001B[1;32m    860\u001B[0m \u001B[43m            \u001B[49m\u001B[43merrors\u001B[49m\u001B[38;5;241;43m=\u001B[39;49m\u001B[43merrors\u001B[49m\u001B[43m,\u001B[49m\n\u001B[1;32m    861\u001B[0m \u001B[43m            \u001B[49m\u001B[43mnewline\u001B[49m\u001B[38;5;241;43m=\u001B[39;49m\u001B[38;5;124;43m\"\u001B[39;49m\u001B[38;5;124;43m\"\u001B[39;49m\u001B[43m,\u001B[49m\n\u001B[1;32m    862\u001B[0m \u001B[43m        \u001B[49m\u001B[43m)\u001B[49m\n\u001B[1;32m    863\u001B[0m     \u001B[38;5;28;01melse\u001B[39;00m:\n\u001B[1;32m    864\u001B[0m         \u001B[38;5;66;03m# Binary mode\u001B[39;00m\n\u001B[1;32m    865\u001B[0m         handle \u001B[38;5;241m=\u001B[39m \u001B[38;5;28mopen\u001B[39m(handle, ioargs\u001B[38;5;241m.\u001B[39mmode)\n",
      "\u001B[0;31mFileNotFoundError\u001B[0m: [Errno 2] No such file or directory: 'Population/Population.csv'"
     ]
    }
   ],
   "source": [
    "# Load the population by country dataset\n",
    "pop = pd.read_csv(\"Population/Population.csv\")\n",
    "\n",
    "#Load the climate by country dataset\n",
    "clim = pd.read_csv(\"Climate.csv\")\n",
    "\n",
    "#Load the currencies by country dataset\n",
    "curr = pd.read_csv(\"Currencies.csv\")\n",
    "\n",
    "#Load the spoken languages by country dataset\n",
    "lang = pd.read_csv(\"Languages.csv\")\n",
    "\n",
    "#Load the religion by country dataset\n",
    "rel = pd.read_csv(\"Religion/Religion.csv\")\n",
    "\n",
    "#Load the peace index dataset\n",
    "peace = pd.read_csv(\"Peace_Index.csv\")"
   ]
  },
  {
   "cell_type": "markdown",
   "id": "b54302ed",
   "metadata": {
    "pycharm": {
     "name": "#%% md\n"
    }
   },
   "source": [
    "### EDA"
   ]
  },
  {
   "cell_type": "markdown",
   "id": "49539526",
   "metadata": {
    "pycharm": {
     "name": "#%% md\n"
    }
   },
   "source": [
    "#### Population dataset"
   ]
  },
  {
   "cell_type": "code",
   "execution_count": 3,
   "id": "2c71865b",
   "metadata": {
    "pycharm": {
     "name": "#%%\n"
    }
   },
   "outputs": [
    {
     "data": {
      "text/html": [
       "<div>\n",
       "<style scoped>\n",
       "    .dataframe tbody tr th:only-of-type {\n",
       "        vertical-align: middle;\n",
       "    }\n",
       "\n",
       "    .dataframe tbody tr th {\n",
       "        vertical-align: top;\n",
       "    }\n",
       "\n",
       "    .dataframe thead th {\n",
       "        text-align: right;\n",
       "    }\n",
       "</style>\n",
       "<table border=\"1\" class=\"dataframe\">\n",
       "  <thead>\n",
       "    <tr style=\"text-align: right;\">\n",
       "      <th></th>\n",
       "      <th>Country Name</th>\n",
       "      <th>Country Code</th>\n",
       "      <th>Indicator Name</th>\n",
       "      <th>Indicator Code</th>\n",
       "      <th>1960</th>\n",
       "      <th>1961</th>\n",
       "      <th>1962</th>\n",
       "      <th>1963</th>\n",
       "      <th>1964</th>\n",
       "      <th>1965</th>\n",
       "      <th>...</th>\n",
       "      <th>2012</th>\n",
       "      <th>2013</th>\n",
       "      <th>2014</th>\n",
       "      <th>2015</th>\n",
       "      <th>2016</th>\n",
       "      <th>2017</th>\n",
       "      <th>2018</th>\n",
       "      <th>2019</th>\n",
       "      <th>2020</th>\n",
       "      <th>2021</th>\n",
       "    </tr>\n",
       "  </thead>\n",
       "  <tbody>\n",
       "    <tr>\n",
       "      <th>0</th>\n",
       "      <td>Aruba</td>\n",
       "      <td>ABW</td>\n",
       "      <td>Population, total</td>\n",
       "      <td>SP.POP.TOTL</td>\n",
       "      <td>54208.0</td>\n",
       "      <td>55434.0</td>\n",
       "      <td>56234.0</td>\n",
       "      <td>56699.0</td>\n",
       "      <td>57029.0</td>\n",
       "      <td>57357.0</td>\n",
       "      <td>...</td>\n",
       "      <td>102565.0</td>\n",
       "      <td>103165.0</td>\n",
       "      <td>103776.0</td>\n",
       "      <td>104339.0</td>\n",
       "      <td>104865.0</td>\n",
       "      <td>105361.0</td>\n",
       "      <td>105846.0</td>\n",
       "      <td>106310.0</td>\n",
       "      <td>106766.0</td>\n",
       "      <td>107195.0</td>\n",
       "    </tr>\n",
       "    <tr>\n",
       "      <th>1</th>\n",
       "      <td>Africa Eastern and Southern</td>\n",
       "      <td>AFE</td>\n",
       "      <td>Population, total</td>\n",
       "      <td>SP.POP.TOTL</td>\n",
       "      <td>130836765.0</td>\n",
       "      <td>134159786.0</td>\n",
       "      <td>137614644.0</td>\n",
       "      <td>141202036.0</td>\n",
       "      <td>144920186.0</td>\n",
       "      <td>148769974.0</td>\n",
       "      <td>...</td>\n",
       "      <td>547482863.0</td>\n",
       "      <td>562601578.0</td>\n",
       "      <td>578075373.0</td>\n",
       "      <td>593871847.0</td>\n",
       "      <td>609978946.0</td>\n",
       "      <td>626392880.0</td>\n",
       "      <td>643090131.0</td>\n",
       "      <td>660046272.0</td>\n",
       "      <td>677243299.0</td>\n",
       "      <td>694665117.0</td>\n",
       "    </tr>\n",
       "    <tr>\n",
       "      <th>2</th>\n",
       "      <td>Afghanistan</td>\n",
       "      <td>AFG</td>\n",
       "      <td>Population, total</td>\n",
       "      <td>SP.POP.TOTL</td>\n",
       "      <td>8996967.0</td>\n",
       "      <td>9169406.0</td>\n",
       "      <td>9351442.0</td>\n",
       "      <td>9543200.0</td>\n",
       "      <td>9744772.0</td>\n",
       "      <td>9956318.0</td>\n",
       "      <td>...</td>\n",
       "      <td>31161378.0</td>\n",
       "      <td>32269592.0</td>\n",
       "      <td>33370804.0</td>\n",
       "      <td>34413603.0</td>\n",
       "      <td>35383028.0</td>\n",
       "      <td>36296111.0</td>\n",
       "      <td>37171922.0</td>\n",
       "      <td>38041757.0</td>\n",
       "      <td>38928341.0</td>\n",
       "      <td>39835428.0</td>\n",
       "    </tr>\n",
       "    <tr>\n",
       "      <th>3</th>\n",
       "      <td>Africa Western and Central</td>\n",
       "      <td>AFW</td>\n",
       "      <td>Population, total</td>\n",
       "      <td>SP.POP.TOTL</td>\n",
       "      <td>96396419.0</td>\n",
       "      <td>98407221.0</td>\n",
       "      <td>100506960.0</td>\n",
       "      <td>102691339.0</td>\n",
       "      <td>104953470.0</td>\n",
       "      <td>107289875.0</td>\n",
       "      <td>...</td>\n",
       "      <td>370243017.0</td>\n",
       "      <td>380437896.0</td>\n",
       "      <td>390882979.0</td>\n",
       "      <td>401586651.0</td>\n",
       "      <td>412551299.0</td>\n",
       "      <td>423769930.0</td>\n",
       "      <td>435229381.0</td>\n",
       "      <td>446911598.0</td>\n",
       "      <td>458803476.0</td>\n",
       "      <td>470898870.0</td>\n",
       "    </tr>\n",
       "    <tr>\n",
       "      <th>4</th>\n",
       "      <td>Angola</td>\n",
       "      <td>AGO</td>\n",
       "      <td>Population, total</td>\n",
       "      <td>SP.POP.TOTL</td>\n",
       "      <td>5454938.0</td>\n",
       "      <td>5531451.0</td>\n",
       "      <td>5608499.0</td>\n",
       "      <td>5679409.0</td>\n",
       "      <td>5734995.0</td>\n",
       "      <td>5770573.0</td>\n",
       "      <td>...</td>\n",
       "      <td>25107925.0</td>\n",
       "      <td>26015786.0</td>\n",
       "      <td>26941773.0</td>\n",
       "      <td>27884380.0</td>\n",
       "      <td>28842482.0</td>\n",
       "      <td>29816769.0</td>\n",
       "      <td>30809787.0</td>\n",
       "      <td>31825299.0</td>\n",
       "      <td>32866268.0</td>\n",
       "      <td>33933611.0</td>\n",
       "    </tr>\n",
       "  </tbody>\n",
       "</table>\n",
       "<p>5 rows × 66 columns</p>\n",
       "</div>"
      ],
      "text/plain": [
       "                  Country Name Country Code     Indicator Name Indicator Code  \\\n",
       "0                        Aruba          ABW  Population, total    SP.POP.TOTL   \n",
       "1  Africa Eastern and Southern          AFE  Population, total    SP.POP.TOTL   \n",
       "2                  Afghanistan          AFG  Population, total    SP.POP.TOTL   \n",
       "3   Africa Western and Central          AFW  Population, total    SP.POP.TOTL   \n",
       "4                       Angola          AGO  Population, total    SP.POP.TOTL   \n",
       "\n",
       "          1960         1961         1962         1963         1964  \\\n",
       "0      54208.0      55434.0      56234.0      56699.0      57029.0   \n",
       "1  130836765.0  134159786.0  137614644.0  141202036.0  144920186.0   \n",
       "2    8996967.0    9169406.0    9351442.0    9543200.0    9744772.0   \n",
       "3   96396419.0   98407221.0  100506960.0  102691339.0  104953470.0   \n",
       "4    5454938.0    5531451.0    5608499.0    5679409.0    5734995.0   \n",
       "\n",
       "          1965  ...         2012         2013         2014         2015  \\\n",
       "0      57357.0  ...     102565.0     103165.0     103776.0     104339.0   \n",
       "1  148769974.0  ...  547482863.0  562601578.0  578075373.0  593871847.0   \n",
       "2    9956318.0  ...   31161378.0   32269592.0   33370804.0   34413603.0   \n",
       "3  107289875.0  ...  370243017.0  380437896.0  390882979.0  401586651.0   \n",
       "4    5770573.0  ...   25107925.0   26015786.0   26941773.0   27884380.0   \n",
       "\n",
       "          2016         2017         2018         2019         2020  \\\n",
       "0     104865.0     105361.0     105846.0     106310.0     106766.0   \n",
       "1  609978946.0  626392880.0  643090131.0  660046272.0  677243299.0   \n",
       "2   35383028.0   36296111.0   37171922.0   38041757.0   38928341.0   \n",
       "3  412551299.0  423769930.0  435229381.0  446911598.0  458803476.0   \n",
       "4   28842482.0   29816769.0   30809787.0   31825299.0   32866268.0   \n",
       "\n",
       "          2021  \n",
       "0     107195.0  \n",
       "1  694665117.0  \n",
       "2   39835428.0  \n",
       "3  470898870.0  \n",
       "4   33933611.0  \n",
       "\n",
       "[5 rows x 66 columns]"
      ]
     },
     "execution_count": 3,
     "metadata": {},
     "output_type": "execute_result"
    }
   ],
   "source": [
    "pop.head()"
   ]
  },
  {
   "cell_type": "code",
   "execution_count": 4,
   "id": "84ed62e9",
   "metadata": {
    "pycharm": {
     "name": "#%%\n"
    }
   },
   "outputs": [
    {
     "name": "stdout",
     "output_type": "stream",
     "text": [
      "<class 'pandas.core.frame.DataFrame'>\n",
      "RangeIndex: 266 entries, 0 to 265\n",
      "Data columns (total 66 columns):\n",
      " #   Column          Non-Null Count  Dtype  \n",
      "---  ------          --------------  -----  \n",
      " 0   Country Name    266 non-null    object \n",
      " 1   Country Code    266 non-null    object \n",
      " 2   Indicator Name  266 non-null    object \n",
      " 3   Indicator Code  266 non-null    object \n",
      " 4   1960            264 non-null    float64\n",
      " 5   1961            264 non-null    float64\n",
      " 6   1962            264 non-null    float64\n",
      " 7   1963            264 non-null    float64\n",
      " 8   1964            264 non-null    float64\n",
      " 9   1965            264 non-null    float64\n",
      " 10  1966            264 non-null    float64\n",
      " 11  1967            264 non-null    float64\n",
      " 12  1968            264 non-null    float64\n",
      " 13  1969            264 non-null    float64\n",
      " 14  1970            264 non-null    float64\n",
      " 15  1971            264 non-null    float64\n",
      " 16  1972            264 non-null    float64\n",
      " 17  1973            264 non-null    float64\n",
      " 18  1974            264 non-null    float64\n",
      " 19  1975            264 non-null    float64\n",
      " 20  1976            264 non-null    float64\n",
      " 21  1977            264 non-null    float64\n",
      " 22  1978            264 non-null    float64\n",
      " 23  1979            264 non-null    float64\n",
      " 24  1980            264 non-null    float64\n",
      " 25  1981            264 non-null    float64\n",
      " 26  1982            264 non-null    float64\n",
      " 27  1983            264 non-null    float64\n",
      " 28  1984            264 non-null    float64\n",
      " 29  1985            264 non-null    float64\n",
      " 30  1986            264 non-null    float64\n",
      " 31  1987            264 non-null    float64\n",
      " 32  1988            264 non-null    float64\n",
      " 33  1989            264 non-null    float64\n",
      " 34  1990            265 non-null    float64\n",
      " 35  1991            265 non-null    float64\n",
      " 36  1992            264 non-null    float64\n",
      " 37  1993            264 non-null    float64\n",
      " 38  1994            264 non-null    float64\n",
      " 39  1995            265 non-null    float64\n",
      " 40  1996            265 non-null    float64\n",
      " 41  1997            265 non-null    float64\n",
      " 42  1998            265 non-null    float64\n",
      " 43  1999            265 non-null    float64\n",
      " 44  2000            265 non-null    float64\n",
      " 45  2001            265 non-null    float64\n",
      " 46  2002            265 non-null    float64\n",
      " 47  2003            265 non-null    float64\n",
      " 48  2004            265 non-null    float64\n",
      " 49  2005            265 non-null    float64\n",
      " 50  2006            265 non-null    float64\n",
      " 51  2007            265 non-null    float64\n",
      " 52  2008            265 non-null    float64\n",
      " 53  2009            265 non-null    float64\n",
      " 54  2010            265 non-null    float64\n",
      " 55  2011            265 non-null    float64\n",
      " 56  2012            264 non-null    float64\n",
      " 57  2013            264 non-null    float64\n",
      " 58  2014            264 non-null    float64\n",
      " 59  2015            264 non-null    float64\n",
      " 60  2016            264 non-null    float64\n",
      " 61  2017            264 non-null    float64\n",
      " 62  2018            264 non-null    float64\n",
      " 63  2019            264 non-null    float64\n",
      " 64  2020            264 non-null    float64\n",
      " 65  2021            264 non-null    float64\n",
      "dtypes: float64(62), object(4)\n",
      "memory usage: 137.3+ KB\n"
     ]
    }
   ],
   "source": [
    "pop.info()"
   ]
  },
  {
   "cell_type": "code",
   "execution_count": 5,
   "id": "ce8f6343",
   "metadata": {
    "pycharm": {
     "name": "#%%\n"
    }
   },
   "outputs": [
    {
     "data": {
      "text/plain": [
       "Country Name      0\n",
       "Country Code      0\n",
       "Indicator Name    0\n",
       "Indicator Code    0\n",
       "1960              2\n",
       "                 ..\n",
       "2017              2\n",
       "2018              2\n",
       "2019              2\n",
       "2020              2\n",
       "2021              2\n",
       "Length: 66, dtype: int64"
      ]
     },
     "execution_count": 5,
     "metadata": {},
     "output_type": "execute_result"
    }
   ],
   "source": [
    "pop.isna().sum() "
   ]
  },
  {
   "cell_type": "code",
   "execution_count": 6,
   "id": "3771cc37",
   "metadata": {
    "pycharm": {
     "name": "#%%\n"
    }
   },
   "outputs": [
    {
     "data": {
      "text/html": [
       "<div>\n",
       "<style scoped>\n",
       "    .dataframe tbody tr th:only-of-type {\n",
       "        vertical-align: middle;\n",
       "    }\n",
       "\n",
       "    .dataframe tbody tr th {\n",
       "        vertical-align: top;\n",
       "    }\n",
       "\n",
       "    .dataframe thead th {\n",
       "        text-align: right;\n",
       "    }\n",
       "</style>\n",
       "<table border=\"1\" class=\"dataframe\">\n",
       "  <thead>\n",
       "    <tr style=\"text-align: right;\">\n",
       "      <th></th>\n",
       "      <th>Country Name</th>\n",
       "      <th>Country Code</th>\n",
       "      <th>Indicator Name</th>\n",
       "      <th>Indicator Code</th>\n",
       "      <th>1960</th>\n",
       "      <th>1961</th>\n",
       "      <th>1962</th>\n",
       "      <th>1963</th>\n",
       "      <th>1964</th>\n",
       "      <th>1965</th>\n",
       "      <th>...</th>\n",
       "      <th>2012</th>\n",
       "      <th>2013</th>\n",
       "      <th>2014</th>\n",
       "      <th>2015</th>\n",
       "      <th>2016</th>\n",
       "      <th>2017</th>\n",
       "      <th>2018</th>\n",
       "      <th>2019</th>\n",
       "      <th>2020</th>\n",
       "      <th>2021</th>\n",
       "    </tr>\n",
       "  </thead>\n",
       "  <tbody>\n",
       "    <tr>\n",
       "      <th>69</th>\n",
       "      <td>Eritrea</td>\n",
       "      <td>ERI</td>\n",
       "      <td>Population, total</td>\n",
       "      <td>SP.POP.TOTL</td>\n",
       "      <td>1007586.0</td>\n",
       "      <td>1033320.0</td>\n",
       "      <td>1060489.0</td>\n",
       "      <td>1088859.0</td>\n",
       "      <td>1118152.0</td>\n",
       "      <td>1148188.0</td>\n",
       "      <td>...</td>\n",
       "      <td>NaN</td>\n",
       "      <td>NaN</td>\n",
       "      <td>NaN</td>\n",
       "      <td>NaN</td>\n",
       "      <td>NaN</td>\n",
       "      <td>NaN</td>\n",
       "      <td>NaN</td>\n",
       "      <td>NaN</td>\n",
       "      <td>NaN</td>\n",
       "      <td>NaN</td>\n",
       "    </tr>\n",
       "    <tr>\n",
       "      <th>110</th>\n",
       "      <td>Not classified</td>\n",
       "      <td>INX</td>\n",
       "      <td>Population, total</td>\n",
       "      <td>SP.POP.TOTL</td>\n",
       "      <td>NaN</td>\n",
       "      <td>NaN</td>\n",
       "      <td>NaN</td>\n",
       "      <td>NaN</td>\n",
       "      <td>NaN</td>\n",
       "      <td>NaN</td>\n",
       "      <td>...</td>\n",
       "      <td>NaN</td>\n",
       "      <td>NaN</td>\n",
       "      <td>NaN</td>\n",
       "      <td>NaN</td>\n",
       "      <td>NaN</td>\n",
       "      <td>NaN</td>\n",
       "      <td>NaN</td>\n",
       "      <td>NaN</td>\n",
       "      <td>NaN</td>\n",
       "      <td>NaN</td>\n",
       "    </tr>\n",
       "  </tbody>\n",
       "</table>\n",
       "<p>2 rows × 66 columns</p>\n",
       "</div>"
      ],
      "text/plain": [
       "       Country Name Country Code     Indicator Name Indicator Code       1960  \\\n",
       "69          Eritrea          ERI  Population, total    SP.POP.TOTL  1007586.0   \n",
       "110  Not classified          INX  Population, total    SP.POP.TOTL        NaN   \n",
       "\n",
       "          1961       1962       1963       1964       1965  ...  2012  2013  \\\n",
       "69   1033320.0  1060489.0  1088859.0  1118152.0  1148188.0  ...   NaN   NaN   \n",
       "110        NaN        NaN        NaN        NaN        NaN  ...   NaN   NaN   \n",
       "\n",
       "     2014  2015  2016  2017  2018  2019  2020  2021  \n",
       "69    NaN   NaN   NaN   NaN   NaN   NaN   NaN   NaN  \n",
       "110   NaN   NaN   NaN   NaN   NaN   NaN   NaN   NaN  \n",
       "\n",
       "[2 rows x 66 columns]"
      ]
     },
     "execution_count": 6,
     "metadata": {},
     "output_type": "execute_result"
    }
   ],
   "source": [
    "pop[pop[[\"2021\"]].isnull().any(axis=1)]"
   ]
  },
  {
   "cell_type": "markdown",
   "id": "7227319b",
   "metadata": {
    "pycharm": {
     "name": "#%% md\n"
    }
   },
   "source": [
    "Given the exploration done in the pop dataset, we can conclude that for the next step in the cleaning and transformations, we wish to keep only the \"Country Name\", \" Country Code\", and the most recent year 2021 (which we will rename to pop_2021). Moreover, to make sure that the dataset is homogeneous we will capitalize the first letter of each word in the \"Country Name\" column. We can also see that there is two null values in 2021, which will be handled. "
   ]
  },
  {
   "cell_type": "markdown",
   "id": "b9b37755",
   "metadata": {
    "pycharm": {
     "name": "#%% md\n"
    }
   },
   "source": [
    "#### Climate dataset"
   ]
  },
  {
   "cell_type": "code",
   "execution_count": 7,
   "id": "303cc0d0",
   "metadata": {
    "pycharm": {
     "name": "#%%\n"
    }
   },
   "outputs": [
    {
     "data": {
      "text/html": [
       "<div>\n",
       "<style scoped>\n",
       "    .dataframe tbody tr th:only-of-type {\n",
       "        vertical-align: middle;\n",
       "    }\n",
       "\n",
       "    .dataframe tbody tr th {\n",
       "        vertical-align: top;\n",
       "    }\n",
       "\n",
       "    .dataframe thead th {\n",
       "        text-align: right;\n",
       "    }\n",
       "</style>\n",
       "<table border=\"1\" class=\"dataframe\">\n",
       "  <thead>\n",
       "    <tr style=\"text-align: right;\">\n",
       "      <th></th>\n",
       "      <th>COUNTRY</th>\n",
       "      <th>DESCRIPTION</th>\n",
       "    </tr>\n",
       "  </thead>\n",
       "  <tbody>\n",
       "    <tr>\n",
       "      <th>0</th>\n",
       "      <td>Afghanistan</td>\n",
       "      <td>arid to semiarid; cold winters and hot summers</td>\n",
       "    </tr>\n",
       "    <tr>\n",
       "      <th>1</th>\n",
       "      <td>Akrotiri</td>\n",
       "      <td>temperate; Mediterranean with hot, dry summers...</td>\n",
       "    </tr>\n",
       "    <tr>\n",
       "      <th>2</th>\n",
       "      <td>Albania</td>\n",
       "      <td>mild temperate; cool, cloudy, wet winters; hot...</td>\n",
       "    </tr>\n",
       "    <tr>\n",
       "      <th>3</th>\n",
       "      <td>Algeria</td>\n",
       "      <td>arid to semiarid; mild, wet winters with hot, ...</td>\n",
       "    </tr>\n",
       "    <tr>\n",
       "      <th>4</th>\n",
       "      <td>American Samoa</td>\n",
       "      <td>tropical marine, moderated by southeast trade ...</td>\n",
       "    </tr>\n",
       "  </tbody>\n",
       "</table>\n",
       "</div>"
      ],
      "text/plain": [
       "          COUNTRY                                        DESCRIPTION\n",
       "0     Afghanistan     arid to semiarid; cold winters and hot summers\n",
       "1        Akrotiri  temperate; Mediterranean with hot, dry summers...\n",
       "2         Albania  mild temperate; cool, cloudy, wet winters; hot...\n",
       "3         Algeria  arid to semiarid; mild, wet winters with hot, ...\n",
       "4  American Samoa  tropical marine, moderated by southeast trade ..."
      ]
     },
     "execution_count": 7,
     "metadata": {},
     "output_type": "execute_result"
    }
   ],
   "source": [
    "clim.head()"
   ]
  },
  {
   "cell_type": "code",
   "execution_count": 8,
   "id": "99763f90",
   "metadata": {
    "pycharm": {
     "name": "#%%\n"
    }
   },
   "outputs": [
    {
     "name": "stdout",
     "output_type": "stream",
     "text": [
      "<class 'pandas.core.frame.DataFrame'>\n",
      "RangeIndex: 277 entries, 0 to 276\n",
      "Data columns (total 2 columns):\n",
      " #   Column       Non-Null Count  Dtype \n",
      "---  ------       --------------  ----- \n",
      " 0   COUNTRY      277 non-null    object\n",
      " 1   DESCRIPTION  277 non-null    object\n",
      "dtypes: object(2)\n",
      "memory usage: 4.5+ KB\n"
     ]
    }
   ],
   "source": [
    "clim.info()"
   ]
  },
  {
   "cell_type": "code",
   "execution_count": 9,
   "id": "c271f0ae",
   "metadata": {
    "pycharm": {
     "name": "#%%\n"
    }
   },
   "outputs": [
    {
     "data": {
      "text/plain": [
       "COUNTRY        0\n",
       "DESCRIPTION    0\n",
       "dtype: int64"
      ]
     },
     "execution_count": 9,
     "metadata": {},
     "output_type": "execute_result"
    }
   ],
   "source": [
    "clim.isna().sum() "
   ]
  },
  {
   "cell_type": "markdown",
   "id": "4574a14f",
   "metadata": {
    "pycharm": {
     "name": "#%% md\n"
    }
   },
   "source": [
    "Given the exploration done in the clim dataset, we can conclude that for the next step in the cleaning and transformations, we wish to keep all the columns, but rename them. Moreover, to make sure that the dataset is homogeneous we will capitalize the first letter of each word in the \"COUNTRY\" and \"DESCRIPTION\" column. We can also see that there is no null values, hence no handling of missing values is needed in this case. "
   ]
  },
  {
   "cell_type": "markdown",
   "id": "9854c7bd",
   "metadata": {
    "pycharm": {
     "name": "#%% md\n"
    }
   },
   "source": [
    "#### Currency dataset"
   ]
  },
  {
   "cell_type": "code",
   "execution_count": 10,
   "id": "8226280d",
   "metadata": {
    "pycharm": {
     "name": "#%%\n"
    }
   },
   "outputs": [
    {
     "data": {
      "text/html": [
       "<div>\n",
       "<style scoped>\n",
       "    .dataframe tbody tr th:only-of-type {\n",
       "        vertical-align: middle;\n",
       "    }\n",
       "\n",
       "    .dataframe tbody tr th {\n",
       "        vertical-align: top;\n",
       "    }\n",
       "\n",
       "    .dataframe thead th {\n",
       "        text-align: right;\n",
       "    }\n",
       "</style>\n",
       "<table border=\"1\" class=\"dataframe\">\n",
       "  <thead>\n",
       "    <tr style=\"text-align: right;\">\n",
       "      <th></th>\n",
       "      <th>Entity</th>\n",
       "      <th>Currency</th>\n",
       "      <th>AlphabeticCode</th>\n",
       "      <th>NumericCode</th>\n",
       "      <th>MinorUnit</th>\n",
       "      <th>WithdrawalDate</th>\n",
       "    </tr>\n",
       "  </thead>\n",
       "  <tbody>\n",
       "    <tr>\n",
       "      <th>0</th>\n",
       "      <td>AFGHANISTAN</td>\n",
       "      <td>Afghani</td>\n",
       "      <td>AFN</td>\n",
       "      <td>971.0</td>\n",
       "      <td>2</td>\n",
       "      <td>NaN</td>\n",
       "    </tr>\n",
       "    <tr>\n",
       "      <th>1</th>\n",
       "      <td>ÅLAND ISLANDS</td>\n",
       "      <td>Euro</td>\n",
       "      <td>EUR</td>\n",
       "      <td>978.0</td>\n",
       "      <td>2</td>\n",
       "      <td>NaN</td>\n",
       "    </tr>\n",
       "    <tr>\n",
       "      <th>2</th>\n",
       "      <td>ALBANIA</td>\n",
       "      <td>Lek</td>\n",
       "      <td>ALL</td>\n",
       "      <td>8.0</td>\n",
       "      <td>2</td>\n",
       "      <td>NaN</td>\n",
       "    </tr>\n",
       "    <tr>\n",
       "      <th>3</th>\n",
       "      <td>ALGERIA</td>\n",
       "      <td>Algerian Dinar</td>\n",
       "      <td>DZD</td>\n",
       "      <td>12.0</td>\n",
       "      <td>2</td>\n",
       "      <td>NaN</td>\n",
       "    </tr>\n",
       "    <tr>\n",
       "      <th>4</th>\n",
       "      <td>AMERICAN SAMOA</td>\n",
       "      <td>US Dollar</td>\n",
       "      <td>USD</td>\n",
       "      <td>840.0</td>\n",
       "      <td>2</td>\n",
       "      <td>NaN</td>\n",
       "    </tr>\n",
       "  </tbody>\n",
       "</table>\n",
       "</div>"
      ],
      "text/plain": [
       "           Entity        Currency AlphabeticCode  NumericCode MinorUnit  \\\n",
       "0     AFGHANISTAN         Afghani            AFN        971.0         2   \n",
       "1   ÅLAND ISLANDS            Euro            EUR        978.0         2   \n",
       "2         ALBANIA             Lek            ALL          8.0         2   \n",
       "3         ALGERIA  Algerian Dinar            DZD         12.0         2   \n",
       "4  AMERICAN SAMOA       US Dollar            USD        840.0         2   \n",
       "\n",
       "  WithdrawalDate  \n",
       "0            NaN  \n",
       "1            NaN  \n",
       "2            NaN  \n",
       "3            NaN  \n",
       "4            NaN  "
      ]
     },
     "execution_count": 10,
     "metadata": {},
     "output_type": "execute_result"
    }
   ],
   "source": [
    "curr.head()"
   ]
  },
  {
   "cell_type": "code",
   "execution_count": 11,
   "id": "c3e450ef",
   "metadata": {
    "pycharm": {
     "name": "#%%\n"
    }
   },
   "outputs": [
    {
     "name": "stdout",
     "output_type": "stream",
     "text": [
      "<class 'pandas.core.frame.DataFrame'>\n",
      "RangeIndex: 441 entries, 0 to 440\n",
      "Data columns (total 6 columns):\n",
      " #   Column          Non-Null Count  Dtype  \n",
      "---  ------          --------------  -----  \n",
      " 0   Entity          441 non-null    object \n",
      " 1   Currency        441 non-null    object \n",
      " 2   AlphabeticCode  438 non-null    object \n",
      " 3   NumericCode     435 non-null    float64\n",
      " 4   MinorUnit       276 non-null    object \n",
      " 5   WithdrawalDate  162 non-null    object \n",
      "dtypes: float64(1), object(5)\n",
      "memory usage: 20.8+ KB\n"
     ]
    }
   ],
   "source": [
    "curr.info()"
   ]
  },
  {
   "cell_type": "code",
   "execution_count": 12,
   "id": "8d04a600",
   "metadata": {
    "pycharm": {
     "name": "#%%\n"
    }
   },
   "outputs": [
    {
     "data": {
      "text/plain": [
       "Entity              0\n",
       "Currency            0\n",
       "AlphabeticCode      3\n",
       "NumericCode         6\n",
       "MinorUnit         165\n",
       "WithdrawalDate    279\n",
       "dtype: int64"
      ]
     },
     "execution_count": 12,
     "metadata": {},
     "output_type": "execute_result"
    }
   ],
   "source": [
    "curr.isna().sum() "
   ]
  },
  {
   "cell_type": "code",
   "execution_count": 13,
   "id": "54cc8219",
   "metadata": {
    "pycharm": {
     "name": "#%%\n"
    }
   },
   "outputs": [
    {
     "data": {
      "text/html": [
       "<div>\n",
       "<style scoped>\n",
       "    .dataframe tbody tr th:only-of-type {\n",
       "        vertical-align: middle;\n",
       "    }\n",
       "\n",
       "    .dataframe tbody tr th {\n",
       "        vertical-align: top;\n",
       "    }\n",
       "\n",
       "    .dataframe thead th {\n",
       "        text-align: right;\n",
       "    }\n",
       "</style>\n",
       "<table border=\"1\" class=\"dataframe\">\n",
       "  <thead>\n",
       "    <tr style=\"text-align: right;\">\n",
       "      <th></th>\n",
       "      <th>Entity</th>\n",
       "      <th>Currency</th>\n",
       "      <th>AlphabeticCode</th>\n",
       "      <th>NumericCode</th>\n",
       "      <th>MinorUnit</th>\n",
       "      <th>WithdrawalDate</th>\n",
       "    </tr>\n",
       "  </thead>\n",
       "  <tbody>\n",
       "    <tr>\n",
       "      <th>8</th>\n",
       "      <td>ANTARCTICA</td>\n",
       "      <td>No universal currency</td>\n",
       "      <td>NaN</td>\n",
       "      <td>NaN</td>\n",
       "      <td>NaN</td>\n",
       "      <td>NaN</td>\n",
       "    </tr>\n",
       "    <tr>\n",
       "      <th>183</th>\n",
       "      <td>PALESTINE, STATE OF</td>\n",
       "      <td>No universal currency</td>\n",
       "      <td>NaN</td>\n",
       "      <td>NaN</td>\n",
       "      <td>NaN</td>\n",
       "      <td>NaN</td>\n",
       "    </tr>\n",
       "    <tr>\n",
       "      <th>222</th>\n",
       "      <td>SOUTH GEORGIA AND THE SOUTH SANDWICH ISLANDS</td>\n",
       "      <td>No universal currency</td>\n",
       "      <td>NaN</td>\n",
       "      <td>NaN</td>\n",
       "      <td>NaN</td>\n",
       "      <td>NaN</td>\n",
       "    </tr>\n",
       "  </tbody>\n",
       "</table>\n",
       "</div>"
      ],
      "text/plain": [
       "                                           Entity               Currency  \\\n",
       "8                                      ANTARCTICA  No universal currency   \n",
       "183                           PALESTINE, STATE OF  No universal currency   \n",
       "222  SOUTH GEORGIA AND THE SOUTH SANDWICH ISLANDS  No universal currency   \n",
       "\n",
       "    AlphabeticCode  NumericCode MinorUnit WithdrawalDate  \n",
       "8              NaN          NaN       NaN            NaN  \n",
       "183            NaN          NaN       NaN            NaN  \n",
       "222            NaN          NaN       NaN            NaN  "
      ]
     },
     "execution_count": 13,
     "metadata": {},
     "output_type": "execute_result"
    }
   ],
   "source": [
    "curr[curr[[\"AlphabeticCode\"]].isnull().any(axis=1)]"
   ]
  },
  {
   "cell_type": "code",
   "execution_count": 14,
   "id": "ab7021b7",
   "metadata": {
    "pycharm": {
     "name": "#%%\n"
    }
   },
   "outputs": [
    {
     "data": {
      "text/html": [
       "<div>\n",
       "<style scoped>\n",
       "    .dataframe tbody tr th:only-of-type {\n",
       "        vertical-align: middle;\n",
       "    }\n",
       "\n",
       "    .dataframe tbody tr th {\n",
       "        vertical-align: top;\n",
       "    }\n",
       "\n",
       "    .dataframe thead th {\n",
       "        text-align: right;\n",
       "    }\n",
       "</style>\n",
       "<table border=\"1\" class=\"dataframe\">\n",
       "  <thead>\n",
       "    <tr style=\"text-align: right;\">\n",
       "      <th></th>\n",
       "      <th>Entity</th>\n",
       "      <th>Currency</th>\n",
       "      <th>AlphabeticCode</th>\n",
       "      <th>NumericCode</th>\n",
       "      <th>MinorUnit</th>\n",
       "      <th>WithdrawalDate</th>\n",
       "    </tr>\n",
       "  </thead>\n",
       "  <tbody>\n",
       "    <tr>\n",
       "      <th>279</th>\n",
       "      <td>AFGHANISTAN</td>\n",
       "      <td>Afghani</td>\n",
       "      <td>AFA</td>\n",
       "      <td>4.0</td>\n",
       "      <td>NaN</td>\n",
       "      <td>2003-01</td>\n",
       "    </tr>\n",
       "    <tr>\n",
       "      <th>280</th>\n",
       "      <td>ÅLAND ISLANDS</td>\n",
       "      <td>Markka</td>\n",
       "      <td>FIM</td>\n",
       "      <td>246.0</td>\n",
       "      <td>NaN</td>\n",
       "      <td>2002-03</td>\n",
       "    </tr>\n",
       "    <tr>\n",
       "      <th>281</th>\n",
       "      <td>ALBANIA</td>\n",
       "      <td>Old Lek</td>\n",
       "      <td>ALK</td>\n",
       "      <td>8.0</td>\n",
       "      <td>NaN</td>\n",
       "      <td>1989-12</td>\n",
       "    </tr>\n",
       "    <tr>\n",
       "      <th>282</th>\n",
       "      <td>ANDORRA</td>\n",
       "      <td>Andorran Peseta</td>\n",
       "      <td>ADP</td>\n",
       "      <td>20.0</td>\n",
       "      <td>NaN</td>\n",
       "      <td>2003-07</td>\n",
       "    </tr>\n",
       "    <tr>\n",
       "      <th>283</th>\n",
       "      <td>ANDORRA</td>\n",
       "      <td>Spanish Peseta</td>\n",
       "      <td>ESP</td>\n",
       "      <td>724.0</td>\n",
       "      <td>NaN</td>\n",
       "      <td>2002-03</td>\n",
       "    </tr>\n",
       "    <tr>\n",
       "      <th>...</th>\n",
       "      <td>...</td>\n",
       "      <td>...</td>\n",
       "      <td>...</td>\n",
       "      <td>...</td>\n",
       "      <td>...</td>\n",
       "      <td>...</td>\n",
       "    </tr>\n",
       "    <tr>\n",
       "      <th>436</th>\n",
       "      <td>ZIMBABWE</td>\n",
       "      <td>Zimbabwe Dollar (new)</td>\n",
       "      <td>ZWN</td>\n",
       "      <td>942.0</td>\n",
       "      <td>NaN</td>\n",
       "      <td>2006-09</td>\n",
       "    </tr>\n",
       "    <tr>\n",
       "      <th>437</th>\n",
       "      <td>ZIMBABWE</td>\n",
       "      <td>Zimbabwe Dollar</td>\n",
       "      <td>ZWR</td>\n",
       "      <td>935.0</td>\n",
       "      <td>NaN</td>\n",
       "      <td>2009-06</td>\n",
       "    </tr>\n",
       "    <tr>\n",
       "      <th>438</th>\n",
       "      <td>ZZ01_Gold-Franc</td>\n",
       "      <td>Gold-Franc</td>\n",
       "      <td>XFO</td>\n",
       "      <td>NaN</td>\n",
       "      <td>NaN</td>\n",
       "      <td>2006-10</td>\n",
       "    </tr>\n",
       "    <tr>\n",
       "      <th>439</th>\n",
       "      <td>ZZ02_RINET Funds Code</td>\n",
       "      <td>RINET Funds Code</td>\n",
       "      <td>XRE</td>\n",
       "      <td>NaN</td>\n",
       "      <td>NaN</td>\n",
       "      <td>1999-11</td>\n",
       "    </tr>\n",
       "    <tr>\n",
       "      <th>440</th>\n",
       "      <td>ZZ05_UIC-Franc</td>\n",
       "      <td>UIC-Franc</td>\n",
       "      <td>XFU</td>\n",
       "      <td>NaN</td>\n",
       "      <td>NaN</td>\n",
       "      <td>2013-11</td>\n",
       "    </tr>\n",
       "  </tbody>\n",
       "</table>\n",
       "<p>162 rows × 6 columns</p>\n",
       "</div>"
      ],
      "text/plain": [
       "                    Entity               Currency AlphabeticCode  NumericCode  \\\n",
       "279            AFGHANISTAN                Afghani            AFA          4.0   \n",
       "280          ÅLAND ISLANDS                 Markka            FIM        246.0   \n",
       "281                ALBANIA                Old Lek            ALK          8.0   \n",
       "282                ANDORRA        Andorran Peseta            ADP         20.0   \n",
       "283                ANDORRA         Spanish Peseta            ESP        724.0   \n",
       "..                     ...                    ...            ...          ...   \n",
       "436               ZIMBABWE  Zimbabwe Dollar (new)            ZWN        942.0   \n",
       "437               ZIMBABWE        Zimbabwe Dollar            ZWR        935.0   \n",
       "438        ZZ01_Gold-Franc             Gold-Franc            XFO          NaN   \n",
       "439  ZZ02_RINET Funds Code       RINET Funds Code            XRE          NaN   \n",
       "440         ZZ05_UIC-Franc              UIC-Franc            XFU          NaN   \n",
       "\n",
       "    MinorUnit WithdrawalDate  \n",
       "279       NaN        2003-01  \n",
       "280       NaN        2002-03  \n",
       "281       NaN        1989-12  \n",
       "282       NaN        2003-07  \n",
       "283       NaN        2002-03  \n",
       "..        ...            ...  \n",
       "436       NaN        2006-09  \n",
       "437       NaN        2009-06  \n",
       "438       NaN        2006-10  \n",
       "439       NaN        1999-11  \n",
       "440       NaN        2013-11  \n",
       "\n",
       "[162 rows x 6 columns]"
      ]
     },
     "execution_count": 14,
     "metadata": {},
     "output_type": "execute_result"
    }
   ],
   "source": [
    "curr[curr[[\"WithdrawalDate\"]].notnull().any(axis=1)]"
   ]
  },
  {
   "cell_type": "markdown",
   "id": "c811c146",
   "metadata": {
    "pycharm": {
     "name": "#%% md\n"
    }
   },
   "source": [
    "Given the exploration done in the curr dataset, we can conclude that for the next step in the cleaning and transformations, we wish to keep only the \"Entity\", \"Currency\", and \"AlphabeticCode\" columns, but rename them. Moreover, to make sure that the dataset is homogeneous we will capitalize the first letter of each word in the \"Entity\" and \"Currency\" column. We can also see that there is three null values in the \"AlphabeticCode\" column, which will be handled. In addition, there are a number of currencies which are no longer used, we will them subset this dataset to only contain currently accepted currencies. "
   ]
  },
  {
   "cell_type": "markdown",
   "id": "0a8d0fcb",
   "metadata": {
    "pycharm": {
     "name": "#%% md\n"
    }
   },
   "source": [
    "#### Language dataset"
   ]
  },
  {
   "cell_type": "code",
   "execution_count": 15,
   "id": "338707cb",
   "metadata": {
    "pycharm": {
     "name": "#%%\n"
    }
   },
   "outputs": [
    {
     "data": {
      "text/html": [
       "<div>\n",
       "<style scoped>\n",
       "    .dataframe tbody tr th:only-of-type {\n",
       "        vertical-align: middle;\n",
       "    }\n",
       "\n",
       "    .dataframe tbody tr th {\n",
       "        vertical-align: top;\n",
       "    }\n",
       "\n",
       "    .dataframe thead th {\n",
       "        text-align: right;\n",
       "    }\n",
       "</style>\n",
       "<table border=\"1\" class=\"dataframe\">\n",
       "  <thead>\n",
       "    <tr style=\"text-align: right;\">\n",
       "      <th></th>\n",
       "      <th>Country</th>\n",
       "      <th>Languages Spoken</th>\n",
       "    </tr>\n",
       "  </thead>\n",
       "  <tbody>\n",
       "    <tr>\n",
       "      <th>0</th>\n",
       "      <td>Afghanistan</td>\n",
       "      <td>Dari Persian, Pashtu (both official), other Tu...</td>\n",
       "    </tr>\n",
       "    <tr>\n",
       "      <th>1</th>\n",
       "      <td>Albania</td>\n",
       "      <td>Albanian (Tosk is the official dialect), Greek</td>\n",
       "    </tr>\n",
       "    <tr>\n",
       "      <th>2</th>\n",
       "      <td>Algeria</td>\n",
       "      <td>Arabic (official), French, Berber dialects</td>\n",
       "    </tr>\n",
       "    <tr>\n",
       "      <th>3</th>\n",
       "      <td>Andorra</td>\n",
       "      <td>Catalán (official), French, Castilian, Portuguese</td>\n",
       "    </tr>\n",
       "    <tr>\n",
       "      <th>4</th>\n",
       "      <td>Angola</td>\n",
       "      <td>Portuguese (official), Bantu and other African...</td>\n",
       "    </tr>\n",
       "  </tbody>\n",
       "</table>\n",
       "</div>"
      ],
      "text/plain": [
       "       Country                                   Languages Spoken\n",
       "0  Afghanistan  Dari Persian, Pashtu (both official), other Tu...\n",
       "1      Albania     Albanian (Tosk is the official dialect), Greek\n",
       "2      Algeria         Arabic (official), French, Berber dialects\n",
       "3      Andorra  Catalán (official), French, Castilian, Portuguese\n",
       "4       Angola  Portuguese (official), Bantu and other African..."
      ]
     },
     "execution_count": 15,
     "metadata": {},
     "output_type": "execute_result"
    }
   ],
   "source": [
    "lang.head()"
   ]
  },
  {
   "cell_type": "code",
   "execution_count": 16,
   "id": "5c13222c",
   "metadata": {
    "pycharm": {
     "name": "#%%\n"
    }
   },
   "outputs": [
    {
     "name": "stdout",
     "output_type": "stream",
     "text": [
      "<class 'pandas.core.frame.DataFrame'>\n",
      "RangeIndex: 198 entries, 0 to 197\n",
      "Data columns (total 2 columns):\n",
      " #   Column            Non-Null Count  Dtype \n",
      "---  ------            --------------  ----- \n",
      " 0   Country           198 non-null    object\n",
      " 1   Languages Spoken  198 non-null    object\n",
      "dtypes: object(2)\n",
      "memory usage: 3.2+ KB\n"
     ]
    }
   ],
   "source": [
    "lang.info()"
   ]
  },
  {
   "cell_type": "code",
   "execution_count": 17,
   "id": "29bd28b5",
   "metadata": {
    "pycharm": {
     "name": "#%%\n"
    }
   },
   "outputs": [
    {
     "data": {
      "text/plain": [
       "Country             0\n",
       "Languages Spoken    0\n",
       "dtype: int64"
      ]
     },
     "execution_count": 17,
     "metadata": {},
     "output_type": "execute_result"
    }
   ],
   "source": [
    "lang.isna().sum() "
   ]
  },
  {
   "cell_type": "markdown",
   "id": "847382b7",
   "metadata": {
    "pycharm": {
     "name": "#%% md\n"
    }
   },
   "source": [
    "Given the exploration done in the lang dataset, we can conclude that for the next step in the cleaning and transformations, we wish to keep all the columns, but rename them. Moreover, to make sure that the dataset is homogeneous we will capitalize the first letter of each word in the \"Country\" and \"Language Spoken\" column. We can also see that there is no null values, hence no handling of missing values is needed in this case. In addition, we can see that the languages spoken includes more than the official languages, in the cleaning we will strive to only keep the official languages. "
   ]
  },
  {
   "cell_type": "markdown",
   "id": "4e6876c4",
   "metadata": {
    "pycharm": {
     "name": "#%% md\n"
    }
   },
   "source": [
    "#### Religion dataset"
   ]
  },
  {
   "cell_type": "code",
   "execution_count": 67,
   "id": "c1e4965d",
   "metadata": {
    "pycharm": {
     "name": "#%%\n"
    }
   },
   "outputs": [
    {
     "data": {
      "text/html": [
       "<div>\n",
       "<style scoped>\n",
       "    .dataframe tbody tr th:only-of-type {\n",
       "        vertical-align: middle;\n",
       "    }\n",
       "\n",
       "    .dataframe tbody tr th {\n",
       "        vertical-align: top;\n",
       "    }\n",
       "\n",
       "    .dataframe thead th {\n",
       "        text-align: right;\n",
       "    }\n",
       "</style>\n",
       "<table border=\"1\" class=\"dataframe\">\n",
       "  <thead>\n",
       "    <tr style=\"text-align: right;\">\n",
       "      <th></th>\n",
       "      <th>Country or Area</th>\n",
       "      <th>Year</th>\n",
       "      <th>Area</th>\n",
       "      <th>Sex</th>\n",
       "      <th>Religion</th>\n",
       "      <th>Record Type</th>\n",
       "      <th>Reliability</th>\n",
       "      <th>Source Year</th>\n",
       "      <th>Value</th>\n",
       "      <th>Value Footnotes</th>\n",
       "    </tr>\n",
       "  </thead>\n",
       "  <tbody>\n",
       "    <tr>\n",
       "      <th>0</th>\n",
       "      <td>Albania</td>\n",
       "      <td>2011</td>\n",
       "      <td>Total</td>\n",
       "      <td>Both Sexes</td>\n",
       "      <td>Total</td>\n",
       "      <td>Census - de jure - complete tabulation</td>\n",
       "      <td>Final figure, complete</td>\n",
       "      <td>2013.0</td>\n",
       "      <td>2800138.0</td>\n",
       "      <td>NaN</td>\n",
       "    </tr>\n",
       "    <tr>\n",
       "      <th>1</th>\n",
       "      <td>Albania</td>\n",
       "      <td>2011</td>\n",
       "      <td>Total</td>\n",
       "      <td>Both Sexes</td>\n",
       "      <td>Atheist</td>\n",
       "      <td>Census - de jure - complete tabulation</td>\n",
       "      <td>Final figure, complete</td>\n",
       "      <td>2013.0</td>\n",
       "      <td>69995.0</td>\n",
       "      <td>NaN</td>\n",
       "    </tr>\n",
       "    <tr>\n",
       "      <th>2</th>\n",
       "      <td>Albania</td>\n",
       "      <td>2011</td>\n",
       "      <td>Total</td>\n",
       "      <td>Both Sexes</td>\n",
       "      <td>Catholic</td>\n",
       "      <td>Census - de jure - complete tabulation</td>\n",
       "      <td>Final figure, complete</td>\n",
       "      <td>2013.0</td>\n",
       "      <td>280921.0</td>\n",
       "      <td>NaN</td>\n",
       "    </tr>\n",
       "    <tr>\n",
       "      <th>3</th>\n",
       "      <td>Albania</td>\n",
       "      <td>2011</td>\n",
       "      <td>Total</td>\n",
       "      <td>Both Sexes</td>\n",
       "      <td>Evangelical</td>\n",
       "      <td>Census - de jure - complete tabulation</td>\n",
       "      <td>Final figure, complete</td>\n",
       "      <td>2013.0</td>\n",
       "      <td>3797.0</td>\n",
       "      <td>NaN</td>\n",
       "    </tr>\n",
       "    <tr>\n",
       "      <th>4</th>\n",
       "      <td>Albania</td>\n",
       "      <td>2011</td>\n",
       "      <td>Total</td>\n",
       "      <td>Both Sexes</td>\n",
       "      <td>Muslim</td>\n",
       "      <td>Census - de jure - complete tabulation</td>\n",
       "      <td>Final figure, complete</td>\n",
       "      <td>2013.0</td>\n",
       "      <td>1587608.0</td>\n",
       "      <td>NaN</td>\n",
       "    </tr>\n",
       "  </tbody>\n",
       "</table>\n",
       "</div>"
      ],
      "text/plain": [
       "  Country or Area  Year   Area         Sex     Religion  \\\n",
       "0         Albania  2011  Total  Both Sexes        Total   \n",
       "1         Albania  2011  Total  Both Sexes      Atheist   \n",
       "2         Albania  2011  Total  Both Sexes     Catholic   \n",
       "3         Albania  2011  Total  Both Sexes  Evangelical   \n",
       "4         Albania  2011  Total  Both Sexes       Muslim   \n",
       "\n",
       "                              Record Type             Reliability  \\\n",
       "0  Census - de jure - complete tabulation  Final figure, complete   \n",
       "1  Census - de jure - complete tabulation  Final figure, complete   \n",
       "2  Census - de jure - complete tabulation  Final figure, complete   \n",
       "3  Census - de jure - complete tabulation  Final figure, complete   \n",
       "4  Census - de jure - complete tabulation  Final figure, complete   \n",
       "\n",
       "   Source Year      Value Value Footnotes  \n",
       "0       2013.0  2800138.0             NaN  \n",
       "1       2013.0    69995.0             NaN  \n",
       "2       2013.0   280921.0             NaN  \n",
       "3       2013.0     3797.0             NaN  \n",
       "4       2013.0  1587608.0             NaN  "
      ]
     },
     "execution_count": 67,
     "metadata": {},
     "output_type": "execute_result"
    }
   ],
   "source": [
    "rel.head()"
   ]
  },
  {
   "cell_type": "code",
   "execution_count": 68,
   "id": "e1c86efd",
   "metadata": {
    "pycharm": {
     "name": "#%%\n"
    }
   },
   "outputs": [
    {
     "name": "stdout",
     "output_type": "stream",
     "text": [
      "<class 'pandas.core.frame.DataFrame'>\n",
      "RangeIndex: 3416 entries, 0 to 3415\n",
      "Data columns (total 10 columns):\n",
      " #   Column           Non-Null Count  Dtype  \n",
      "---  ------           --------------  -----  \n",
      " 0   Country or Area  3416 non-null   object \n",
      " 1   Year             3416 non-null   object \n",
      " 2   Area             3333 non-null   object \n",
      " 3   Sex              3332 non-null   object \n",
      " 4   Religion         3332 non-null   object \n",
      " 5   Record Type      3332 non-null   object \n",
      " 6   Reliability      3332 non-null   object \n",
      " 7   Source Year      3332 non-null   float64\n",
      " 8   Value            3332 non-null   float64\n",
      " 9   Value Footnotes  1505 non-null   object \n",
      "dtypes: float64(2), object(8)\n",
      "memory usage: 267.0+ KB\n"
     ]
    }
   ],
   "source": [
    "rel.info()"
   ]
  },
  {
   "cell_type": "code",
   "execution_count": 69,
   "id": "0ee6f177",
   "metadata": {
    "pycharm": {
     "name": "#%%\n"
    }
   },
   "outputs": [
    {
     "data": {
      "text/plain": [
       "Country or Area       0\n",
       "Year                  0\n",
       "Area                 83\n",
       "Sex                  84\n",
       "Religion             84\n",
       "Record Type          84\n",
       "Reliability          84\n",
       "Source Year          84\n",
       "Value                84\n",
       "Value Footnotes    1911\n",
       "dtype: int64"
      ]
     },
     "execution_count": 69,
     "metadata": {},
     "output_type": "execute_result"
    }
   ],
   "source": [
    "rel.isna().sum() "
   ]
  },
  {
   "cell_type": "code",
   "execution_count": 70,
   "id": "753d8ec2",
   "metadata": {
    "pycharm": {
     "name": "#%%\n"
    }
   },
   "outputs": [
    {
     "data": {
      "text/html": [
       "<div>\n",
       "<style scoped>\n",
       "    .dataframe tbody tr th:only-of-type {\n",
       "        vertical-align: middle;\n",
       "    }\n",
       "\n",
       "    .dataframe tbody tr th {\n",
       "        vertical-align: top;\n",
       "    }\n",
       "\n",
       "    .dataframe thead th {\n",
       "        text-align: right;\n",
       "    }\n",
       "</style>\n",
       "<table border=\"1\" class=\"dataframe\">\n",
       "  <thead>\n",
       "    <tr style=\"text-align: right;\">\n",
       "      <th></th>\n",
       "      <th>Country or Area</th>\n",
       "      <th>Year</th>\n",
       "      <th>Area</th>\n",
       "      <th>Sex</th>\n",
       "      <th>Religion</th>\n",
       "      <th>Record Type</th>\n",
       "      <th>Reliability</th>\n",
       "      <th>Source Year</th>\n",
       "      <th>Value</th>\n",
       "      <th>Value Footnotes</th>\n",
       "    </tr>\n",
       "  </thead>\n",
       "  <tbody>\n",
       "    <tr>\n",
       "      <th>3332</th>\n",
       "      <td>footnoteSeqID</td>\n",
       "      <td>Footnote</td>\n",
       "      <td>NaN</td>\n",
       "      <td>NaN</td>\n",
       "      <td>NaN</td>\n",
       "      <td>NaN</td>\n",
       "      <td>NaN</td>\n",
       "      <td>NaN</td>\n",
       "      <td>NaN</td>\n",
       "      <td>NaN</td>\n",
       "    </tr>\n",
       "    <tr>\n",
       "      <th>3333</th>\n",
       "      <td>1</td>\n",
       "      <td>Because of rounding, totals are not in all cas...</td>\n",
       "      <td>NaN</td>\n",
       "      <td>NaN</td>\n",
       "      <td>NaN</td>\n",
       "      <td>NaN</td>\n",
       "      <td>NaN</td>\n",
       "      <td>NaN</td>\n",
       "      <td>NaN</td>\n",
       "      <td>NaN</td>\n",
       "    </tr>\n",
       "    <tr>\n",
       "      <th>3334</th>\n",
       "      <td>2</td>\n",
       "      <td>These data have been randomly rounded to prote...</td>\n",
       "      <td>NaN</td>\n",
       "      <td>NaN</td>\n",
       "      <td>NaN</td>\n",
       "      <td>NaN</td>\n",
       "      <td>NaN</td>\n",
       "      <td>NaN</td>\n",
       "      <td>NaN</td>\n",
       "      <td>NaN</td>\n",
       "    </tr>\n",
       "    <tr>\n",
       "      <th>3335</th>\n",
       "      <td>3</td>\n",
       "      <td>Including population in off-shore, migratory a...</td>\n",
       "      <td>NaN</td>\n",
       "      <td>NaN</td>\n",
       "      <td>NaN</td>\n",
       "      <td>NaN</td>\n",
       "      <td>NaN</td>\n",
       "      <td>NaN</td>\n",
       "      <td>NaN</td>\n",
       "      <td>NaN</td>\n",
       "    </tr>\n",
       "    <tr>\n",
       "      <th>3336</th>\n",
       "      <td>4</td>\n",
       "      <td>Category 'No religion' includes Agnoticism, At...</td>\n",
       "      <td>NaN</td>\n",
       "      <td>NaN</td>\n",
       "      <td>NaN</td>\n",
       "      <td>NaN</td>\n",
       "      <td>NaN</td>\n",
       "      <td>NaN</td>\n",
       "      <td>NaN</td>\n",
       "      <td>NaN</td>\n",
       "    </tr>\n",
       "    <tr>\n",
       "      <th>...</th>\n",
       "      <td>...</td>\n",
       "      <td>...</td>\n",
       "      <td>...</td>\n",
       "      <td>...</td>\n",
       "      <td>...</td>\n",
       "      <td>...</td>\n",
       "      <td>...</td>\n",
       "      <td>...</td>\n",
       "      <td>...</td>\n",
       "      <td>...</td>\n",
       "    </tr>\n",
       "    <tr>\n",
       "      <th>3411</th>\n",
       "      <td>79</td>\n",
       "      <td>Data of mini-census taken in 2017.</td>\n",
       "      <td>NaN</td>\n",
       "      <td>NaN</td>\n",
       "      <td>NaN</td>\n",
       "      <td>NaN</td>\n",
       "      <td>NaN</td>\n",
       "      <td>NaN</td>\n",
       "      <td>NaN</td>\n",
       "      <td>NaN</td>\n",
       "    </tr>\n",
       "    <tr>\n",
       "      <th>3412</th>\n",
       "      <td>80</td>\n",
       "      <td>Data refer to resident population.</td>\n",
       "      <td>NaN</td>\n",
       "      <td>NaN</td>\n",
       "      <td>NaN</td>\n",
       "      <td>NaN</td>\n",
       "      <td>NaN</td>\n",
       "      <td>NaN</td>\n",
       "      <td>NaN</td>\n",
       "      <td>NaN</td>\n",
       "    </tr>\n",
       "    <tr>\n",
       "      <th>3413</th>\n",
       "      <td>81</td>\n",
       "      <td>Excluding population enumerated in hotels.</td>\n",
       "      <td>NaN</td>\n",
       "      <td>NaN</td>\n",
       "      <td>NaN</td>\n",
       "      <td>NaN</td>\n",
       "      <td>NaN</td>\n",
       "      <td>NaN</td>\n",
       "      <td>NaN</td>\n",
       "      <td>NaN</td>\n",
       "    </tr>\n",
       "    <tr>\n",
       "      <th>3414</th>\n",
       "      <td>82</td>\n",
       "      <td>Other includes Orthodox, Bahai, Other Christia...</td>\n",
       "      <td>NaN</td>\n",
       "      <td>NaN</td>\n",
       "      <td>NaN</td>\n",
       "      <td>NaN</td>\n",
       "      <td>NaN</td>\n",
       "      <td>NaN</td>\n",
       "      <td>NaN</td>\n",
       "      <td>NaN</td>\n",
       "    </tr>\n",
       "    <tr>\n",
       "      <th>3415</th>\n",
       "      <td>83</td>\n",
       "      <td>Excluding Channel Islands (Guernsey and Jersey...</td>\n",
       "      <td>NaN</td>\n",
       "      <td>NaN</td>\n",
       "      <td>NaN</td>\n",
       "      <td>NaN</td>\n",
       "      <td>NaN</td>\n",
       "      <td>NaN</td>\n",
       "      <td>NaN</td>\n",
       "      <td>NaN</td>\n",
       "    </tr>\n",
       "  </tbody>\n",
       "</table>\n",
       "<p>84 rows × 10 columns</p>\n",
       "</div>"
      ],
      "text/plain": [
       "     Country or Area                                               Year Area  \\\n",
       "3332   footnoteSeqID                                           Footnote  NaN   \n",
       "3333               1  Because of rounding, totals are not in all cas...  NaN   \n",
       "3334               2  These data have been randomly rounded to prote...  NaN   \n",
       "3335               3  Including population in off-shore, migratory a...  NaN   \n",
       "3336               4  Category 'No religion' includes Agnoticism, At...  NaN   \n",
       "...              ...                                                ...  ...   \n",
       "3411              79                 Data of mini-census taken in 2017.  NaN   \n",
       "3412              80                 Data refer to resident population.  NaN   \n",
       "3413              81         Excluding population enumerated in hotels.  NaN   \n",
       "3414              82  Other includes Orthodox, Bahai, Other Christia...  NaN   \n",
       "3415              83  Excluding Channel Islands (Guernsey and Jersey...  NaN   \n",
       "\n",
       "      Sex Religion Record Type Reliability  Source Year  Value Value Footnotes  \n",
       "3332  NaN      NaN         NaN         NaN          NaN    NaN             NaN  \n",
       "3333  NaN      NaN         NaN         NaN          NaN    NaN             NaN  \n",
       "3334  NaN      NaN         NaN         NaN          NaN    NaN             NaN  \n",
       "3335  NaN      NaN         NaN         NaN          NaN    NaN             NaN  \n",
       "3336  NaN      NaN         NaN         NaN          NaN    NaN             NaN  \n",
       "...   ...      ...         ...         ...          ...    ...             ...  \n",
       "3411  NaN      NaN         NaN         NaN          NaN    NaN             NaN  \n",
       "3412  NaN      NaN         NaN         NaN          NaN    NaN             NaN  \n",
       "3413  NaN      NaN         NaN         NaN          NaN    NaN             NaN  \n",
       "3414  NaN      NaN         NaN         NaN          NaN    NaN             NaN  \n",
       "3415  NaN      NaN         NaN         NaN          NaN    NaN             NaN  \n",
       "\n",
       "[84 rows x 10 columns]"
      ]
     },
     "execution_count": 70,
     "metadata": {},
     "output_type": "execute_result"
    }
   ],
   "source": [
    "rel[rel[[\"Religion\"]].isnull().any(axis=1)]"
   ]
  },
  {
   "cell_type": "code",
   "execution_count": 22,
   "id": "6f97e5f2",
   "metadata": {
    "pycharm": {
     "name": "#%%\n"
    }
   },
   "outputs": [
    {
     "data": {
      "text/html": [
       "<div>\n",
       "<style scoped>\n",
       "    .dataframe tbody tr th:only-of-type {\n",
       "        vertical-align: middle;\n",
       "    }\n",
       "\n",
       "    .dataframe tbody tr th {\n",
       "        vertical-align: top;\n",
       "    }\n",
       "\n",
       "    .dataframe thead th {\n",
       "        text-align: right;\n",
       "    }\n",
       "</style>\n",
       "<table border=\"1\" class=\"dataframe\">\n",
       "  <thead>\n",
       "    <tr style=\"text-align: right;\">\n",
       "      <th></th>\n",
       "      <th>Country or Area</th>\n",
       "      <th>Year</th>\n",
       "      <th>Area</th>\n",
       "      <th>Sex</th>\n",
       "      <th>Religion</th>\n",
       "      <th>Record Type</th>\n",
       "      <th>Reliability</th>\n",
       "      <th>Source Year</th>\n",
       "      <th>Value</th>\n",
       "      <th>Value Footnotes</th>\n",
       "    </tr>\n",
       "  </thead>\n",
       "  <tbody>\n",
       "    <tr>\n",
       "      <th>3332</th>\n",
       "      <td>footnoteSeqID</td>\n",
       "      <td>Footnote</td>\n",
       "      <td>NaN</td>\n",
       "      <td>NaN</td>\n",
       "      <td>NaN</td>\n",
       "      <td>NaN</td>\n",
       "      <td>NaN</td>\n",
       "      <td>NaN</td>\n",
       "      <td>NaN</td>\n",
       "      <td>NaN</td>\n",
       "    </tr>\n",
       "    <tr>\n",
       "      <th>3333</th>\n",
       "      <td>1</td>\n",
       "      <td>Because of rounding, totals are not in all cas...</td>\n",
       "      <td>NaN</td>\n",
       "      <td>NaN</td>\n",
       "      <td>NaN</td>\n",
       "      <td>NaN</td>\n",
       "      <td>NaN</td>\n",
       "      <td>NaN</td>\n",
       "      <td>NaN</td>\n",
       "      <td>NaN</td>\n",
       "    </tr>\n",
       "    <tr>\n",
       "      <th>3334</th>\n",
       "      <td>2</td>\n",
       "      <td>These data have been randomly rounded to prote...</td>\n",
       "      <td>NaN</td>\n",
       "      <td>NaN</td>\n",
       "      <td>NaN</td>\n",
       "      <td>NaN</td>\n",
       "      <td>NaN</td>\n",
       "      <td>NaN</td>\n",
       "      <td>NaN</td>\n",
       "      <td>NaN</td>\n",
       "    </tr>\n",
       "    <tr>\n",
       "      <th>3335</th>\n",
       "      <td>3</td>\n",
       "      <td>Including population in off-shore, migratory a...</td>\n",
       "      <td>NaN</td>\n",
       "      <td>NaN</td>\n",
       "      <td>NaN</td>\n",
       "      <td>NaN</td>\n",
       "      <td>NaN</td>\n",
       "      <td>NaN</td>\n",
       "      <td>NaN</td>\n",
       "      <td>NaN</td>\n",
       "    </tr>\n",
       "    <tr>\n",
       "      <th>3336</th>\n",
       "      <td>4</td>\n",
       "      <td>Category 'No religion' includes Agnoticism, At...</td>\n",
       "      <td>NaN</td>\n",
       "      <td>NaN</td>\n",
       "      <td>NaN</td>\n",
       "      <td>NaN</td>\n",
       "      <td>NaN</td>\n",
       "      <td>NaN</td>\n",
       "      <td>NaN</td>\n",
       "      <td>NaN</td>\n",
       "    </tr>\n",
       "    <tr>\n",
       "      <th>...</th>\n",
       "      <td>...</td>\n",
       "      <td>...</td>\n",
       "      <td>...</td>\n",
       "      <td>...</td>\n",
       "      <td>...</td>\n",
       "      <td>...</td>\n",
       "      <td>...</td>\n",
       "      <td>...</td>\n",
       "      <td>...</td>\n",
       "      <td>...</td>\n",
       "    </tr>\n",
       "    <tr>\n",
       "      <th>3411</th>\n",
       "      <td>79</td>\n",
       "      <td>Data of mini-census taken in 2017.</td>\n",
       "      <td>NaN</td>\n",
       "      <td>NaN</td>\n",
       "      <td>NaN</td>\n",
       "      <td>NaN</td>\n",
       "      <td>NaN</td>\n",
       "      <td>NaN</td>\n",
       "      <td>NaN</td>\n",
       "      <td>NaN</td>\n",
       "    </tr>\n",
       "    <tr>\n",
       "      <th>3412</th>\n",
       "      <td>80</td>\n",
       "      <td>Data refer to resident population.</td>\n",
       "      <td>NaN</td>\n",
       "      <td>NaN</td>\n",
       "      <td>NaN</td>\n",
       "      <td>NaN</td>\n",
       "      <td>NaN</td>\n",
       "      <td>NaN</td>\n",
       "      <td>NaN</td>\n",
       "      <td>NaN</td>\n",
       "    </tr>\n",
       "    <tr>\n",
       "      <th>3413</th>\n",
       "      <td>81</td>\n",
       "      <td>Excluding population enumerated in hotels.</td>\n",
       "      <td>NaN</td>\n",
       "      <td>NaN</td>\n",
       "      <td>NaN</td>\n",
       "      <td>NaN</td>\n",
       "      <td>NaN</td>\n",
       "      <td>NaN</td>\n",
       "      <td>NaN</td>\n",
       "      <td>NaN</td>\n",
       "    </tr>\n",
       "    <tr>\n",
       "      <th>3414</th>\n",
       "      <td>82</td>\n",
       "      <td>Other includes Orthodox, Bahai, Other Christia...</td>\n",
       "      <td>NaN</td>\n",
       "      <td>NaN</td>\n",
       "      <td>NaN</td>\n",
       "      <td>NaN</td>\n",
       "      <td>NaN</td>\n",
       "      <td>NaN</td>\n",
       "      <td>NaN</td>\n",
       "      <td>NaN</td>\n",
       "    </tr>\n",
       "    <tr>\n",
       "      <th>3415</th>\n",
       "      <td>83</td>\n",
       "      <td>Excluding Channel Islands (Guernsey and Jersey...</td>\n",
       "      <td>NaN</td>\n",
       "      <td>NaN</td>\n",
       "      <td>NaN</td>\n",
       "      <td>NaN</td>\n",
       "      <td>NaN</td>\n",
       "      <td>NaN</td>\n",
       "      <td>NaN</td>\n",
       "      <td>NaN</td>\n",
       "    </tr>\n",
       "  </tbody>\n",
       "</table>\n",
       "<p>83 rows × 10 columns</p>\n",
       "</div>"
      ],
      "text/plain": [
       "     Country or Area                                               Year Area  \\\n",
       "3332   footnoteSeqID                                           Footnote  NaN   \n",
       "3333               1  Because of rounding, totals are not in all cas...  NaN   \n",
       "3334               2  These data have been randomly rounded to prote...  NaN   \n",
       "3335               3  Including population in off-shore, migratory a...  NaN   \n",
       "3336               4  Category 'No religion' includes Agnoticism, At...  NaN   \n",
       "...              ...                                                ...  ...   \n",
       "3411              79                 Data of mini-census taken in 2017.  NaN   \n",
       "3412              80                 Data refer to resident population.  NaN   \n",
       "3413              81         Excluding population enumerated in hotels.  NaN   \n",
       "3414              82  Other includes Orthodox, Bahai, Other Christia...  NaN   \n",
       "3415              83  Excluding Channel Islands (Guernsey and Jersey...  NaN   \n",
       "\n",
       "      Sex Religion Record Type Reliability  Source Year  Value Value Footnotes  \n",
       "3332  NaN      NaN         NaN         NaN          NaN    NaN             NaN  \n",
       "3333  NaN      NaN         NaN         NaN          NaN    NaN             NaN  \n",
       "3334  NaN      NaN         NaN         NaN          NaN    NaN             NaN  \n",
       "3335  NaN      NaN         NaN         NaN          NaN    NaN             NaN  \n",
       "3336  NaN      NaN         NaN         NaN          NaN    NaN             NaN  \n",
       "...   ...      ...         ...         ...          ...    ...             ...  \n",
       "3411  NaN      NaN         NaN         NaN          NaN    NaN             NaN  \n",
       "3412  NaN      NaN         NaN         NaN          NaN    NaN             NaN  \n",
       "3413  NaN      NaN         NaN         NaN          NaN    NaN             NaN  \n",
       "3414  NaN      NaN         NaN         NaN          NaN    NaN             NaN  \n",
       "3415  NaN      NaN         NaN         NaN          NaN    NaN             NaN  \n",
       "\n",
       "[83 rows x 10 columns]"
      ]
     },
     "execution_count": 22,
     "metadata": {},
     "output_type": "execute_result"
    }
   ],
   "source": [
    "rel[rel[[\"Area\"]].isnull().any(axis=1)]"
   ]
  },
  {
   "cell_type": "code",
   "execution_count": 23,
   "id": "c710fa17",
   "metadata": {
    "pycharm": {
     "name": "#%%\n"
    }
   },
   "outputs": [
    {
     "data": {
      "text/html": [
       "<div>\n",
       "<style scoped>\n",
       "    .dataframe tbody tr th:only-of-type {\n",
       "        vertical-align: middle;\n",
       "    }\n",
       "\n",
       "    .dataframe tbody tr th {\n",
       "        vertical-align: top;\n",
       "    }\n",
       "\n",
       "    .dataframe thead th {\n",
       "        text-align: right;\n",
       "    }\n",
       "</style>\n",
       "<table border=\"1\" class=\"dataframe\">\n",
       "  <thead>\n",
       "    <tr style=\"text-align: right;\">\n",
       "      <th></th>\n",
       "      <th>Country or Area</th>\n",
       "      <th>Year</th>\n",
       "      <th>Area</th>\n",
       "      <th>Sex</th>\n",
       "      <th>Religion</th>\n",
       "      <th>Record Type</th>\n",
       "      <th>Reliability</th>\n",
       "      <th>Source Year</th>\n",
       "      <th>Value</th>\n",
       "      <th>Value Footnotes</th>\n",
       "    </tr>\n",
       "  </thead>\n",
       "  <tbody>\n",
       "    <tr>\n",
       "      <th>3332</th>\n",
       "      <td>footnoteSeqID</td>\n",
       "      <td>Footnote</td>\n",
       "      <td>NaN</td>\n",
       "      <td>NaN</td>\n",
       "      <td>NaN</td>\n",
       "      <td>NaN</td>\n",
       "      <td>NaN</td>\n",
       "      <td>NaN</td>\n",
       "      <td>NaN</td>\n",
       "      <td>NaN</td>\n",
       "    </tr>\n",
       "    <tr>\n",
       "      <th>3333</th>\n",
       "      <td>1</td>\n",
       "      <td>Because of rounding, totals are not in all cas...</td>\n",
       "      <td>NaN</td>\n",
       "      <td>NaN</td>\n",
       "      <td>NaN</td>\n",
       "      <td>NaN</td>\n",
       "      <td>NaN</td>\n",
       "      <td>NaN</td>\n",
       "      <td>NaN</td>\n",
       "      <td>NaN</td>\n",
       "    </tr>\n",
       "    <tr>\n",
       "      <th>3334</th>\n",
       "      <td>2</td>\n",
       "      <td>These data have been randomly rounded to prote...</td>\n",
       "      <td>NaN</td>\n",
       "      <td>NaN</td>\n",
       "      <td>NaN</td>\n",
       "      <td>NaN</td>\n",
       "      <td>NaN</td>\n",
       "      <td>NaN</td>\n",
       "      <td>NaN</td>\n",
       "      <td>NaN</td>\n",
       "    </tr>\n",
       "    <tr>\n",
       "      <th>3335</th>\n",
       "      <td>3</td>\n",
       "      <td>Including population in off-shore, migratory a...</td>\n",
       "      <td>NaN</td>\n",
       "      <td>NaN</td>\n",
       "      <td>NaN</td>\n",
       "      <td>NaN</td>\n",
       "      <td>NaN</td>\n",
       "      <td>NaN</td>\n",
       "      <td>NaN</td>\n",
       "      <td>NaN</td>\n",
       "    </tr>\n",
       "    <tr>\n",
       "      <th>3336</th>\n",
       "      <td>4</td>\n",
       "      <td>Category 'No religion' includes Agnoticism, At...</td>\n",
       "      <td>NaN</td>\n",
       "      <td>NaN</td>\n",
       "      <td>NaN</td>\n",
       "      <td>NaN</td>\n",
       "      <td>NaN</td>\n",
       "      <td>NaN</td>\n",
       "      <td>NaN</td>\n",
       "      <td>NaN</td>\n",
       "    </tr>\n",
       "    <tr>\n",
       "      <th>...</th>\n",
       "      <td>...</td>\n",
       "      <td>...</td>\n",
       "      <td>...</td>\n",
       "      <td>...</td>\n",
       "      <td>...</td>\n",
       "      <td>...</td>\n",
       "      <td>...</td>\n",
       "      <td>...</td>\n",
       "      <td>...</td>\n",
       "      <td>...</td>\n",
       "    </tr>\n",
       "    <tr>\n",
       "      <th>3411</th>\n",
       "      <td>79</td>\n",
       "      <td>Data of mini-census taken in 2017.</td>\n",
       "      <td>NaN</td>\n",
       "      <td>NaN</td>\n",
       "      <td>NaN</td>\n",
       "      <td>NaN</td>\n",
       "      <td>NaN</td>\n",
       "      <td>NaN</td>\n",
       "      <td>NaN</td>\n",
       "      <td>NaN</td>\n",
       "    </tr>\n",
       "    <tr>\n",
       "      <th>3412</th>\n",
       "      <td>80</td>\n",
       "      <td>Data refer to resident population.</td>\n",
       "      <td>NaN</td>\n",
       "      <td>NaN</td>\n",
       "      <td>NaN</td>\n",
       "      <td>NaN</td>\n",
       "      <td>NaN</td>\n",
       "      <td>NaN</td>\n",
       "      <td>NaN</td>\n",
       "      <td>NaN</td>\n",
       "    </tr>\n",
       "    <tr>\n",
       "      <th>3413</th>\n",
       "      <td>81</td>\n",
       "      <td>Excluding population enumerated in hotels.</td>\n",
       "      <td>NaN</td>\n",
       "      <td>NaN</td>\n",
       "      <td>NaN</td>\n",
       "      <td>NaN</td>\n",
       "      <td>NaN</td>\n",
       "      <td>NaN</td>\n",
       "      <td>NaN</td>\n",
       "      <td>NaN</td>\n",
       "    </tr>\n",
       "    <tr>\n",
       "      <th>3414</th>\n",
       "      <td>82</td>\n",
       "      <td>Other includes Orthodox, Bahai, Other Christia...</td>\n",
       "      <td>NaN</td>\n",
       "      <td>NaN</td>\n",
       "      <td>NaN</td>\n",
       "      <td>NaN</td>\n",
       "      <td>NaN</td>\n",
       "      <td>NaN</td>\n",
       "      <td>NaN</td>\n",
       "      <td>NaN</td>\n",
       "    </tr>\n",
       "    <tr>\n",
       "      <th>3415</th>\n",
       "      <td>83</td>\n",
       "      <td>Excluding Channel Islands (Guernsey and Jersey...</td>\n",
       "      <td>NaN</td>\n",
       "      <td>NaN</td>\n",
       "      <td>NaN</td>\n",
       "      <td>NaN</td>\n",
       "      <td>NaN</td>\n",
       "      <td>NaN</td>\n",
       "      <td>NaN</td>\n",
       "      <td>NaN</td>\n",
       "    </tr>\n",
       "  </tbody>\n",
       "</table>\n",
       "<p>84 rows × 10 columns</p>\n",
       "</div>"
      ],
      "text/plain": [
       "     Country or Area                                               Year Area  \\\n",
       "3332   footnoteSeqID                                           Footnote  NaN   \n",
       "3333               1  Because of rounding, totals are not in all cas...  NaN   \n",
       "3334               2  These data have been randomly rounded to prote...  NaN   \n",
       "3335               3  Including population in off-shore, migratory a...  NaN   \n",
       "3336               4  Category 'No religion' includes Agnoticism, At...  NaN   \n",
       "...              ...                                                ...  ...   \n",
       "3411              79                 Data of mini-census taken in 2017.  NaN   \n",
       "3412              80                 Data refer to resident population.  NaN   \n",
       "3413              81         Excluding population enumerated in hotels.  NaN   \n",
       "3414              82  Other includes Orthodox, Bahai, Other Christia...  NaN   \n",
       "3415              83  Excluding Channel Islands (Guernsey and Jersey...  NaN   \n",
       "\n",
       "      Sex Religion Record Type Reliability  Source Year  Value Value Footnotes  \n",
       "3332  NaN      NaN         NaN         NaN          NaN    NaN             NaN  \n",
       "3333  NaN      NaN         NaN         NaN          NaN    NaN             NaN  \n",
       "3334  NaN      NaN         NaN         NaN          NaN    NaN             NaN  \n",
       "3335  NaN      NaN         NaN         NaN          NaN    NaN             NaN  \n",
       "3336  NaN      NaN         NaN         NaN          NaN    NaN             NaN  \n",
       "...   ...      ...         ...         ...          ...    ...             ...  \n",
       "3411  NaN      NaN         NaN         NaN          NaN    NaN             NaN  \n",
       "3412  NaN      NaN         NaN         NaN          NaN    NaN             NaN  \n",
       "3413  NaN      NaN         NaN         NaN          NaN    NaN             NaN  \n",
       "3414  NaN      NaN         NaN         NaN          NaN    NaN             NaN  \n",
       "3415  NaN      NaN         NaN         NaN          NaN    NaN             NaN  \n",
       "\n",
       "[84 rows x 10 columns]"
      ]
     },
     "execution_count": 23,
     "metadata": {},
     "output_type": "execute_result"
    }
   ],
   "source": [
    "rel[rel[[\"Sex\"]].isnull().any(axis=1)]"
   ]
  },
  {
   "cell_type": "markdown",
   "id": "b3247b72",
   "metadata": {
    "pycharm": {
     "name": "#%% md\n"
    }
   },
   "source": [
    "Given the exploration done in the rel dataset, we can conclude that for the next step in the cleaning and transformations, we wish to keep the \"Country or Area\" and \"Religion\" columns but rename them. Moreover, to make sure that the dataset is homogeneous we will capitalize the first letter of each word in the \"Country or Area\" column. We can also see that there is multiple null values, that arise due to the existing footnotes at the end of the document, which will be dealt with. In addition, we can see that for each country there is the listing of all the religions present in the country. As we only wish to keep the main one the others will be removed. "
   ]
  },
  {
   "cell_type": "markdown",
   "id": "7091434c",
   "metadata": {
    "pycharm": {
     "name": "#%% md\n"
    }
   },
   "source": [
    "#### Peace index dataset"
   ]
  },
  {
   "cell_type": "code",
   "execution_count": 24,
   "id": "55dafbbc",
   "metadata": {
    "pycharm": {
     "name": "#%%\n"
    }
   },
   "outputs": [
    {
     "data": {
      "text/html": [
       "<div>\n",
       "<style scoped>\n",
       "    .dataframe tbody tr th:only-of-type {\n",
       "        vertical-align: middle;\n",
       "    }\n",
       "\n",
       "    .dataframe tbody tr th {\n",
       "        vertical-align: top;\n",
       "    }\n",
       "\n",
       "    .dataframe thead th {\n",
       "        text-align: right;\n",
       "    }\n",
       "</style>\n",
       "<table border=\"1\" class=\"dataframe\">\n",
       "  <thead>\n",
       "    <tr style=\"text-align: right;\">\n",
       "      <th></th>\n",
       "      <th>RANK</th>\n",
       "      <th>COUNTRY</th>\n",
       "      <th>SCORE</th>\n",
       "    </tr>\n",
       "  </thead>\n",
       "  <tbody>\n",
       "    <tr>\n",
       "      <th>0</th>\n",
       "      <td>1.0</td>\n",
       "      <td>Iceland</td>\n",
       "      <td>1.100</td>\n",
       "    </tr>\n",
       "    <tr>\n",
       "      <th>1</th>\n",
       "      <td>2.0</td>\n",
       "      <td>New Zealand</td>\n",
       "      <td>1.253</td>\n",
       "    </tr>\n",
       "    <tr>\n",
       "      <th>2</th>\n",
       "      <td>3.0</td>\n",
       "      <td>Denmark</td>\n",
       "      <td>1.256</td>\n",
       "    </tr>\n",
       "    <tr>\n",
       "      <th>3</th>\n",
       "      <td>4.0</td>\n",
       "      <td>Portugal</td>\n",
       "      <td>1.267</td>\n",
       "    </tr>\n",
       "    <tr>\n",
       "      <th>4</th>\n",
       "      <td>5.0</td>\n",
       "      <td>Slovenia</td>\n",
       "      <td>1.315</td>\n",
       "    </tr>\n",
       "  </tbody>\n",
       "</table>\n",
       "</div>"
      ],
      "text/plain": [
       "   RANK      COUNTRY  SCORE\n",
       "0   1.0      Iceland  1.100\n",
       "1   2.0  New Zealand  1.253\n",
       "2   3.0      Denmark  1.256\n",
       "3   4.0     Portugal  1.267\n",
       "4   5.0     Slovenia  1.315"
      ]
     },
     "execution_count": 24,
     "metadata": {},
     "output_type": "execute_result"
    }
   ],
   "source": [
    "peace.head()"
   ]
  },
  {
   "cell_type": "code",
   "execution_count": 25,
   "id": "512db085",
   "metadata": {
    "pycharm": {
     "name": "#%%\n"
    }
   },
   "outputs": [
    {
     "name": "stdout",
     "output_type": "stream",
     "text": [
      "<class 'pandas.core.frame.DataFrame'>\n",
      "RangeIndex: 177 entries, 0 to 176\n",
      "Data columns (total 3 columns):\n",
      " #   Column   Non-Null Count  Dtype  \n",
      "---  ------   --------------  -----  \n",
      " 0   RANK     163 non-null    float64\n",
      " 1   COUNTRY  163 non-null    object \n",
      " 2   SCORE    163 non-null    float64\n",
      "dtypes: float64(2), object(1)\n",
      "memory usage: 4.3+ KB\n"
     ]
    }
   ],
   "source": [
    "peace.info()"
   ]
  },
  {
   "cell_type": "code",
   "execution_count": 26,
   "id": "3e52cf54",
   "metadata": {
    "pycharm": {
     "name": "#%%\n"
    }
   },
   "outputs": [
    {
     "data": {
      "text/plain": [
       "RANK       14\n",
       "COUNTRY    14\n",
       "SCORE      14\n",
       "dtype: int64"
      ]
     },
     "execution_count": 26,
     "metadata": {},
     "output_type": "execute_result"
    }
   ],
   "source": [
    "peace.isna().sum() "
   ]
  },
  {
   "cell_type": "code",
   "execution_count": 27,
   "id": "a4e5f658",
   "metadata": {
    "pycharm": {
     "name": "#%%\n"
    }
   },
   "outputs": [
    {
     "data": {
      "text/html": [
       "<div>\n",
       "<style scoped>\n",
       "    .dataframe tbody tr th:only-of-type {\n",
       "        vertical-align: middle;\n",
       "    }\n",
       "\n",
       "    .dataframe tbody tr th {\n",
       "        vertical-align: top;\n",
       "    }\n",
       "\n",
       "    .dataframe thead th {\n",
       "        text-align: right;\n",
       "    }\n",
       "</style>\n",
       "<table border=\"1\" class=\"dataframe\">\n",
       "  <thead>\n",
       "    <tr style=\"text-align: right;\">\n",
       "      <th></th>\n",
       "      <th>RANK</th>\n",
       "      <th>COUNTRY</th>\n",
       "      <th>SCORE</th>\n",
       "    </tr>\n",
       "  </thead>\n",
       "  <tbody>\n",
       "    <tr>\n",
       "      <th>16</th>\n",
       "      <td>NaN</td>\n",
       "      <td>NaN</td>\n",
       "      <td>NaN</td>\n",
       "    </tr>\n",
       "    <tr>\n",
       "      <th>45</th>\n",
       "      <td>NaN</td>\n",
       "      <td>NaN</td>\n",
       "      <td>NaN</td>\n",
       "    </tr>\n",
       "    <tr>\n",
       "      <th>74</th>\n",
       "      <td>NaN</td>\n",
       "      <td>NaN</td>\n",
       "      <td>NaN</td>\n",
       "    </tr>\n",
       "    <tr>\n",
       "      <th>86</th>\n",
       "      <td>NaN</td>\n",
       "      <td>NaN</td>\n",
       "      <td>NaN</td>\n",
       "    </tr>\n",
       "    <tr>\n",
       "      <th>95</th>\n",
       "      <td>NaN</td>\n",
       "      <td>NaN</td>\n",
       "      <td>NaN</td>\n",
       "    </tr>\n",
       "    <tr>\n",
       "      <th>108</th>\n",
       "      <td>NaN</td>\n",
       "      <td>NaN</td>\n",
       "      <td>NaN</td>\n",
       "    </tr>\n",
       "    <tr>\n",
       "      <th>125</th>\n",
       "      <td>NaN</td>\n",
       "      <td>NaN</td>\n",
       "      <td>NaN</td>\n",
       "    </tr>\n",
       "    <tr>\n",
       "      <th>128</th>\n",
       "      <td>NaN</td>\n",
       "      <td>NaN</td>\n",
       "      <td>NaN</td>\n",
       "    </tr>\n",
       "    <tr>\n",
       "      <th>138</th>\n",
       "      <td>NaN</td>\n",
       "      <td>NaN</td>\n",
       "      <td>NaN</td>\n",
       "    </tr>\n",
       "    <tr>\n",
       "      <th>155</th>\n",
       "      <td>NaN</td>\n",
       "      <td>NaN</td>\n",
       "      <td>NaN</td>\n",
       "    </tr>\n",
       "    <tr>\n",
       "      <th>165</th>\n",
       "      <td>NaN</td>\n",
       "      <td>NaN</td>\n",
       "      <td>NaN</td>\n",
       "    </tr>\n",
       "    <tr>\n",
       "      <th>168</th>\n",
       "      <td>NaN</td>\n",
       "      <td>NaN</td>\n",
       "      <td>NaN</td>\n",
       "    </tr>\n",
       "    <tr>\n",
       "      <th>175</th>\n",
       "      <td>NaN</td>\n",
       "      <td>NaN</td>\n",
       "      <td>NaN</td>\n",
       "    </tr>\n",
       "    <tr>\n",
       "      <th>176</th>\n",
       "      <td>NaN</td>\n",
       "      <td>NaN</td>\n",
       "      <td>NaN</td>\n",
       "    </tr>\n",
       "  </tbody>\n",
       "</table>\n",
       "</div>"
      ],
      "text/plain": [
       "     RANK COUNTRY  SCORE\n",
       "16    NaN     NaN    NaN\n",
       "45    NaN     NaN    NaN\n",
       "74    NaN     NaN    NaN\n",
       "86    NaN     NaN    NaN\n",
       "95    NaN     NaN    NaN\n",
       "108   NaN     NaN    NaN\n",
       "125   NaN     NaN    NaN\n",
       "128   NaN     NaN    NaN\n",
       "138   NaN     NaN    NaN\n",
       "155   NaN     NaN    NaN\n",
       "165   NaN     NaN    NaN\n",
       "168   NaN     NaN    NaN\n",
       "175   NaN     NaN    NaN\n",
       "176   NaN     NaN    NaN"
      ]
     },
     "execution_count": 27,
     "metadata": {},
     "output_type": "execute_result"
    }
   ],
   "source": [
    "peace[peace[[\"COUNTRY\"]].isnull().any(axis=1)]"
   ]
  },
  {
   "cell_type": "markdown",
   "id": "d368347c",
   "metadata": {
    "pycharm": {
     "name": "#%% md\n"
    }
   },
   "source": [
    "Given the exploration done in the peace dataset, we can conclude that for the next step in the cleaning and transformations, we wish to keep the \"RANK\", and \"COUNTRY\" columns, but rename them. Moreover, to make sure that the dataset is homogeneous we will capitalize the first letter of each word in the \"COUNTRY\" column. We can also see that there is multiple null values, that arise due to the existing of completely empty rows, which will be dealt with."
   ]
  },
  {
   "cell_type": "markdown",
   "id": "b7b4673d",
   "metadata": {
    "pycharm": {
     "name": "#%% md\n"
    }
   },
   "source": [
    "### Clean, transform, and subset the data"
   ]
  },
  {
   "cell_type": "markdown",
   "id": "b209628c",
   "metadata": {
    "pycharm": {
     "name": "#%% md\n"
    }
   },
   "source": [
    "#### Population dataset"
   ]
  },
  {
   "cell_type": "code",
   "execution_count": 28,
   "id": "6e20a9a7",
   "metadata": {
    "pycharm": {
     "name": "#%%\n"
    }
   },
   "outputs": [],
   "source": [
    "# Select the columns we are interest in\n",
    "pop = pop[[\"Country Name\", \"Country Code\", \"2021\"]]"
   ]
  },
  {
   "cell_type": "code",
   "execution_count": 29,
   "id": "c7a4bd6c",
   "metadata": {
    "pycharm": {
     "name": "#%%\n"
    }
   },
   "outputs": [],
   "source": [
    "# Rename the columns\n",
    "pop = pop.rename(columns = {\"2021\": \"Pop_2021\", \"Country Name\": \"Country\"})"
   ]
  },
  {
   "cell_type": "code",
   "execution_count": 30,
   "id": "6e0d5ddd",
   "metadata": {
    "pycharm": {
     "name": "#%%\n"
    }
   },
   "outputs": [],
   "source": [
    "# Capitalise the first letter of each word in the Country column\n",
    "pop[\"Country\"] = pop[\"Country\"].str.title()"
   ]
  },
  {
   "cell_type": "code",
   "execution_count": 31,
   "id": "d35eb3bf",
   "metadata": {
    "pycharm": {
     "name": "#%%\n"
    }
   },
   "outputs": [],
   "source": [
    "pop = pop.dropna()"
   ]
  },
  {
   "cell_type": "markdown",
   "id": "10b330bd",
   "metadata": {
    "pycharm": {
     "name": "#%% md\n"
    }
   },
   "source": [
    "#### Climate dataset"
   ]
  },
  {
   "cell_type": "code",
   "execution_count": 32,
   "id": "4d2eeafd",
   "metadata": {
    "pycharm": {
     "name": "#%%\n"
    }
   },
   "outputs": [],
   "source": [
    "# Rename the columns\n",
    "clim = clim.rename(columns = {\"COUNTRY\": \"Country\", \"DESCRIPTION\": \"Climate\"})"
   ]
  },
  {
   "cell_type": "code",
   "execution_count": 33,
   "id": "bf056f58",
   "metadata": {
    "pycharm": {
     "name": "#%%\n"
    }
   },
   "outputs": [],
   "source": [
    "# Capitalise the first letter of each word in the Country and Climate column\n",
    "clim[\"Country\"] = clim[\"Country\"].str.title()\n",
    "clim[\"Climate\"] = clim[\"Climate\"].str.title()"
   ]
  },
  {
   "cell_type": "code",
   "execution_count": 34,
   "id": "e2f3ce12",
   "metadata": {
    "pycharm": {
     "name": "#%%\n"
    }
   },
   "outputs": [
    {
     "data": {
      "text/html": [
       "<div>\n",
       "<style scoped>\n",
       "    .dataframe tbody tr th:only-of-type {\n",
       "        vertical-align: middle;\n",
       "    }\n",
       "\n",
       "    .dataframe tbody tr th {\n",
       "        vertical-align: top;\n",
       "    }\n",
       "\n",
       "    .dataframe thead th {\n",
       "        text-align: right;\n",
       "    }\n",
       "</style>\n",
       "<table border=\"1\" class=\"dataframe\">\n",
       "  <thead>\n",
       "    <tr style=\"text-align: right;\">\n",
       "      <th></th>\n",
       "      <th>Country</th>\n",
       "      <th>Climate</th>\n",
       "    </tr>\n",
       "  </thead>\n",
       "  <tbody>\n",
       "    <tr>\n",
       "      <th>0</th>\n",
       "      <td>Afghanistan</td>\n",
       "      <td>Arid To Semiarid; Cold Winters And Hot Summers</td>\n",
       "    </tr>\n",
       "    <tr>\n",
       "      <th>1</th>\n",
       "      <td>Akrotiri</td>\n",
       "      <td>Temperate; Mediterranean With Hot, Dry Summers...</td>\n",
       "    </tr>\n",
       "    <tr>\n",
       "      <th>2</th>\n",
       "      <td>Albania</td>\n",
       "      <td>Mild Temperate; Cool, Cloudy, Wet Winters; Hot...</td>\n",
       "    </tr>\n",
       "    <tr>\n",
       "      <th>3</th>\n",
       "      <td>Algeria</td>\n",
       "      <td>Arid To Semiarid; Mild, Wet Winters With Hot, ...</td>\n",
       "    </tr>\n",
       "    <tr>\n",
       "      <th>4</th>\n",
       "      <td>American Samoa</td>\n",
       "      <td>Tropical Marine, Moderated By Southeast Trade ...</td>\n",
       "    </tr>\n",
       "  </tbody>\n",
       "</table>\n",
       "</div>"
      ],
      "text/plain": [
       "          Country                                            Climate\n",
       "0     Afghanistan     Arid To Semiarid; Cold Winters And Hot Summers\n",
       "1        Akrotiri  Temperate; Mediterranean With Hot, Dry Summers...\n",
       "2         Albania  Mild Temperate; Cool, Cloudy, Wet Winters; Hot...\n",
       "3         Algeria  Arid To Semiarid; Mild, Wet Winters With Hot, ...\n",
       "4  American Samoa  Tropical Marine, Moderated By Southeast Trade ..."
      ]
     },
     "execution_count": 34,
     "metadata": {},
     "output_type": "execute_result"
    }
   ],
   "source": [
    "clim.head()"
   ]
  },
  {
   "cell_type": "markdown",
   "id": "bfba0a9f",
   "metadata": {
    "pycharm": {
     "name": "#%% md\n"
    }
   },
   "source": [
    "#### Currency dataset"
   ]
  },
  {
   "cell_type": "code",
   "execution_count": 35,
   "id": "baa05df6",
   "metadata": {
    "pycharm": {
     "name": "#%%\n"
    }
   },
   "outputs": [],
   "source": [
    "# Keep only the rows without a withdrawal date\n",
    "curr = curr[curr[[\"WithdrawalDate\"]].isnull().any(axis=1)]"
   ]
  },
  {
   "cell_type": "code",
   "execution_count": 36,
   "id": "c62c0c14",
   "metadata": {
    "pycharm": {
     "name": "#%%\n"
    }
   },
   "outputs": [],
   "source": [
    "# Select the columns to keep\n",
    "curr = curr[[\"Entity\", \"Currency\", \"AlphabeticCode\"]]"
   ]
  },
  {
   "cell_type": "code",
   "execution_count": 37,
   "id": "29d0a23e",
   "metadata": {
    "pycharm": {
     "name": "#%%\n"
    }
   },
   "outputs": [],
   "source": [
    "# Rename the columns\n",
    "curr = curr.rename(columns = {\"Entity\": \"Country\", \"AlphabeticCode\": \"Currency Code\"})"
   ]
  },
  {
   "cell_type": "code",
   "execution_count": 38,
   "id": "07c8157f",
   "metadata": {
    "pycharm": {
     "name": "#%%\n"
    }
   },
   "outputs": [],
   "source": [
    "# Capitalise the first letter of each word in the Country and Currency columns\n",
    "curr[\"Country\"] = curr[\"Country\"].str.title()\n",
    "curr[\"Currency\"] = curr[\"Currency\"].str.title()"
   ]
  },
  {
   "cell_type": "code",
   "execution_count": 39,
   "id": "e72b7e93",
   "metadata": {
    "pycharm": {
     "name": "#%%\n"
    }
   },
   "outputs": [],
   "source": [
    "# Fill the null values with Non Applicable\n",
    "curr[\"Currency Code\"].fillna(\"Non Applicable\", inplace= True)"
   ]
  },
  {
   "cell_type": "markdown",
   "id": "08b8c58b",
   "metadata": {
    "pycharm": {
     "name": "#%% md\n"
    }
   },
   "source": [
    "#### Language dataset"
   ]
  },
  {
   "cell_type": "code",
   "execution_count": 40,
   "id": "b3a03325",
   "metadata": {
    "pycharm": {
     "name": "#%%\n"
    }
   },
   "outputs": [],
   "source": [
    "# Rename the columns\n",
    "lang = lang.rename(columns = {\"Languages Spoken\": \"Official Language\"})"
   ]
  },
  {
   "cell_type": "code",
   "execution_count": 41,
   "id": "b57e0ad7",
   "metadata": {
    "pycharm": {
     "name": "#%%\n"
    }
   },
   "outputs": [],
   "source": [
    "# Keep only the official languages of each country\n",
    "lang[\"Official Language\"] = lang[\"Official Language\"].str.partition(\"(\")"
   ]
  },
  {
   "cell_type": "code",
   "execution_count": 42,
   "id": "c785ab6b",
   "metadata": {
    "pycharm": {
     "name": "#%%\n"
    }
   },
   "outputs": [],
   "source": [
    "# Capitalise the first letter of each word in the Country and Official Language columns\n",
    "lang[\"Country\"] = lang[\"Country\"].str.title()\n",
    "lang[\"Official Language\"] = lang[\"Official Language\"].str.title()"
   ]
  },
  {
   "cell_type": "markdown",
   "id": "13b9131c",
   "metadata": {
    "pycharm": {
     "name": "#%% md\n"
    }
   },
   "source": [
    "#### Religion dataset"
   ]
  },
  {
   "cell_type": "code",
   "execution_count": 227,
   "id": "e4a4825a",
   "metadata": {
    "pycharm": {
     "name": "#%%\n"
    }
   },
   "outputs": [],
   "source": [
    "# Remove the footnote rows, which is where the Religion column \n",
    "rel = rel[rel[[\"Religion\"]].notna().any(axis=1)]"
   ]
  },
  {
   "cell_type": "code",
   "execution_count": 228,
   "id": "45003938",
   "metadata": {
    "pycharm": {
     "name": "#%%\n"
    }
   },
   "outputs": [],
   "source": [
    "# Remove the rows with the total number of religious people. Also remove the other, not stated, and refused to answer religions\n",
    "rel = rel[rel[\"Religion\"].str.contains(\"Total|Other|Not Stated|Refused to answer\") == False]"
   ]
  },
  {
   "cell_type": "code",
   "execution_count": 229,
   "id": "1faa7a6f",
   "metadata": {
    "pycharm": {
     "name": "#%%\n"
    }
   },
   "outputs": [],
   "source": [
    "# Keep the data from the most recent year for each country\n",
    "rel = rel.sort_values(by=[\"Country or Area\", \"Year\"])\n",
    "rel = rel.drop_duplicates(subset=['Country or Area', \"Religion\"], keep='last')"
   ]
  },
  {
   "cell_type": "code",
   "execution_count": 250,
   "id": "3bb9e2d0",
   "metadata": {
    "pycharm": {
     "name": "#%%\n"
    }
   },
   "outputs": [],
   "source": [
    "# Keep the rows with the highest value, meaning the main religion of each country\n",
    "rel = rel.sort_values(by=[\"Country or Area\", \"Value\"])\n",
    "rel = rel.drop_duplicates(subset=['Country or Area'], keep='last')"
   ]
  },
  {
   "cell_type": "code",
   "execution_count": 252,
   "id": "047c7dd6",
   "metadata": {
    "pycharm": {
     "name": "#%%\n"
    }
   },
   "outputs": [],
   "source": [
    "# Select the columns to keep\n",
    "rel = rel[[\"Country or Area\", \"Religion\"]]"
   ]
  },
  {
   "cell_type": "code",
   "execution_count": 255,
   "id": "fd48a959",
   "metadata": {
    "pycharm": {
     "name": "#%%\n"
    }
   },
   "outputs": [],
   "source": [
    "# Rename the columns\n",
    "rel = rel.rename(columns = {\"Country or Area\": \"Country\", \"Religion\": \"Main Religion\"})"
   ]
  },
  {
   "cell_type": "code",
   "execution_count": 257,
   "id": "b853b698",
   "metadata": {
    "pycharm": {
     "name": "#%%\n"
    }
   },
   "outputs": [],
   "source": [
    "# Capitalise the first letter of each word in the Country and religion\n",
    "rel[\"Country\"] = rel[\"Country\"].str.title()\n",
    "rel[\"Main Religion\"] = rel[\"Main Religion\"].str.title()"
   ]
  },
  {
   "cell_type": "markdown",
   "id": "d2696d52",
   "metadata": {
    "pycharm": {
     "name": "#%% md\n"
    }
   },
   "source": [
    "#### Peace index dataset"
   ]
  },
  {
   "cell_type": "code",
   "execution_count": 43,
   "id": "3a099559",
   "metadata": {
    "pycharm": {
     "name": "#%%\n"
    }
   },
   "outputs": [],
   "source": [
    "# Select the columns to keep\n",
    "peace = peace[[\"RANK\", \"COUNTRY\"]]"
   ]
  },
  {
   "cell_type": "code",
   "execution_count": 44,
   "id": "6a841d23",
   "metadata": {
    "pycharm": {
     "name": "#%%\n"
    }
   },
   "outputs": [],
   "source": [
    "# Rename the columns\n",
    "peace = peace.rename(columns = {\"RANK\": \"Rank\", \"COUNTRY\": \"Country\"})"
   ]
  },
  {
   "cell_type": "code",
   "execution_count": 45,
   "id": "06fee691",
   "metadata": {
    "pycharm": {
     "name": "#%%\n"
    }
   },
   "outputs": [],
   "source": [
    "# Capitalise the first letter of each word in the Country column\n",
    "peace[\"Country\"] = peace[\"Country\"].str.title()"
   ]
  },
  {
   "cell_type": "code",
   "execution_count": 46,
   "id": "47d1790f",
   "metadata": {
    "pycharm": {
     "name": "#%%\n"
    }
   },
   "outputs": [],
   "source": [
    "# Drop null rows\n",
    "peace = peace.dropna()"
   ]
  }
 ],
 "metadata": {
  "kernelspec": {
   "display_name": "Python 3",
   "language": "python",
   "name": "python3"
  },
  "language_info": {
   "codemirror_mode": {
    "name": "ipython",
    "version": 3
   },
   "file_extension": ".py",
   "mimetype": "text/x-python",
   "name": "python",
   "nbconvert_exporter": "python",
   "pygments_lexer": "ipython3",
   "version": "3.8.8"
  }
 },
 "nbformat": 4,
 "nbformat_minor": 5
}