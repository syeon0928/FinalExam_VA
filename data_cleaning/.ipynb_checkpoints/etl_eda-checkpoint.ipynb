{
 "cells": [
  {
   "cell_type": "markdown",
   "id": "bb0fa62e",
   "metadata": {
    "pycharm": {
     "name": "#%% md\n"
    }
   },
   "source": [
    "### Import needed packages"
   ]
  },
  {
   "cell_type": "code",
   "execution_count": 1,
   "id": "fde1da8a",
   "metadata": {
    "pycharm": {
     "name": "#%%\n"
    }
   },
   "outputs": [],
   "source": [
    "import pandas as pd\n",
    "import numpy as np\n",
    "import re\n",
    "import requests\n",
    "from bs4 import BeautifulSoup"
   ]
  },
  {
   "cell_type": "markdown",
   "id": "6a0e260c",
   "metadata": {
    "pycharm": {
     "name": "#%% md\n"
    }
   },
   "source": [
    "### Load all the necessary data"
   ]
  },
  {
   "cell_type": "code",
   "execution_count": 2,
   "id": "9fcf3120",
   "metadata": {
    "pycharm": {
     "name": "#%%\n"
    }
   },
   "outputs": [],
   "source": [
    "#Load the country-ISO code dataset\n",
    "country = pd.read_excel('../original_data/country.xlsx')\n",
    "\n",
    "# Load the population by country dataset\n",
    "pop = pd.read_csv(\"../original_data/Population.csv\")\n",
    "\n",
    "#Load the climate by country dataset\n",
    "clim = pd.read_csv(\"../original_data/Climate.csv\")\n",
    "\n",
    "#Load the currencies by country dataset\n",
    "curr = pd.read_csv(\"../original_data/Currencies.csv\")\n",
    "\n",
    "#Load the spoken languages by country dataset\n",
    "lang = pd.read_csv(\"../original_data/Languages.csv\", encoding='Latin-1')\n",
    "#Load the religion by country dataset\n",
    "rel = pd.read_csv(\"../original_data/Religion.csv\")\n",
    "\n",
    "#Load the peace index dataset\n",
    "peace = pd.read_csv(\"../original_data/Peace_Index.csv\")\n",
    "\n",
    "#Load Wef Travel Index data\n",
    "wef = pd.read_excel('../original_data/WEF_TTDI.xlsx', header=[0, 1], sheet_name='Index Performance')\n",
    "\n",
    "# Load average restaurant and accomodation cost data\n",
    "avg_rest_hot_p = pd.read_csv(\"../original_data/Avg_rest_hot_prices.csv\")\n",
    "\n",
    "# Load LGBTQ dataset\n",
    "lgbtq = pd.read_excel(\"../original_data/LGBTQ .xlsx\")"
   ]
  },
  {
   "cell_type": "markdown",
   "id": "2d1d2100",
   "metadata": {
    "pycharm": {
     "name": "#%% md\n"
    }
   },
   "source": [
    "#### Get Cuisine Rank data by web scraping"
   ]
  },
  {
   "cell_type": "code",
   "execution_count": 162,
   "id": "7c2a8b4a",
   "metadata": {
    "pycharm": {
     "name": "#%%\n"
    }
   },
   "outputs": [],
   "source": [
    "URL = \"https://www.tasteatlas.com/best/cuisines?fbclid=IwAR1CFukbqGEObPMECI1SdpO_dOzeMmBjhGXvRlW8GS63JwpqUAi_0QCl4nU\"\n",
    "page = requests.get(URL)"
   ]
  },
  {
   "cell_type": "code",
   "execution_count": 163,
   "id": "4ee8fbec",
   "metadata": {
    "pycharm": {
     "name": "#%%\n"
    }
   },
   "outputs": [],
   "source": [
    "soup = BeautifulSoup(page.content, \"html.parser\")"
   ]
  },
  {
   "cell_type": "code",
   "execution_count": 164,
   "id": "3fc4e9f5",
   "metadata": {
    "pycharm": {
     "name": "#%%\n"
    }
   },
   "outputs": [],
   "source": [
    "# get the block that contains the ranks\n",
    "results = soup.find(id=\"BestCuisines\")"
   ]
  },
  {
   "cell_type": "code",
   "execution_count": 165,
   "id": "7251c0c4",
   "metadata": {
    "pycharm": {
     "name": "#%%\n"
    }
   },
   "outputs": [],
   "source": [
    "# get a list containing the names of the countries in html format\n",
    "countries = results.find_all(\"div\", class_=\"top-container\")\n",
    "# get a list containing the ratings of the countries in html format\n",
    "ratings = results.find_all(\"div\", class_=\"rating with-title\")"
   ]
  },
  {
   "cell_type": "code",
   "execution_count": 166,
   "id": "67c1435e",
   "metadata": {
    "pycharm": {
     "name": "#%%\n"
    }
   },
   "outputs": [
    {
     "name": "stdout",
     "output_type": "stream",
     "text": [
      "['italy', 'greece', 'spain', 'japan', 'india', 'mexico', 'turkiye', 'USA', 'france', 'peru', 'china', 'brazil', 'portugal', 'poland', 'germany', 'indonesia', 'croatia', 'argentina', 'korea', 'vietnam', 'hungary', 'romania', 'philippines', 'iran', 'serbia', 'georgia', 'czech-republic', 'bulgaria', 'england', 'thailand', 'belgium', 'netherlands', 'austria', 'algeria', 'denmark', 'south-africa', 'syria', 'bih', 'malaysia', 'lebanon', 'ukraine', 'palestine', 'bangladesh', 'lithuania', 'taiwan', 'paraguay', 'pakistan', 'tunisia', 'uruguay', 'slovakia', 'egypt', 'singapore', 'afghanistan', 'ecuador', 'ethiopia', 'belarus', 'haiti', 'russia', 'north-macedonia', 'cuba', 'sri-lanka', 'sweden', 'chile', 'jamaica', 'slovenia', 'bolivia', 'venezuela', 'albania', 'northern-ireland', 'nigeria', 'colombia', 'finland', 'ireland', 'cyprus', 'estonia', 'new-zealand', 'guatemala', 'el-salvador', 'trinidad-and-tobago', 'wales', 'israel', 'azerbaijan', 'honduras', 'costa-rica', 'saudi-arabia', 'malta', 'switzerland', 'scotland', 'australia', 'armenia', 'iceland', 'canada', 'latvia', 'morocco', 'norway']\n"
     ]
    }
   ],
   "source": [
    "# extract text only from the countries html list\n",
    "country_ls = []\n",
    "for c in countries:\n",
    "    country_ls.append(c.find('a', href=True)['href'])\n",
    "print(country_ls)"
   ]
  },
  {
   "cell_type": "code",
   "execution_count": 167,
   "id": "e4acc1f1",
   "metadata": {
    "pycharm": {
     "name": "#%%\n"
    }
   },
   "outputs": [
    {
     "name": "stdout",
     "output_type": "stream",
     "text": [
      "[4.72, 4.69, 4.59, 4.59, 4.54, 4.53, 4.52, 4.51, 4.51, 4.51, 4.49, 4.49, 4.47, 4.44, 4.37, 4.37, 4.33, 4.33, 4.31, 4.31, 4.26, 4.25, 4.25, 4.23, 4.23, 4.23, 4.21, 4.2, 4.18, 4.16, 4.14, 4.1, 4.09, 4.07, 4.05, 4.03, 4.03, 3.99, 3.99, 3.99, 3.98, 3.98, 3.97, 3.96, 3.96, 3.96, 3.95, 3.95, 3.95, 3.94, 3.94, 3.94, 3.94, 3.93, 3.93, 3.93, 3.93, 3.92, 3.92, 3.92, 3.92, 3.91, 3.91, 3.91, 3.91, 3.91, 3.91, 3.91, 3.91, 3.91, 3.9, 3.9, 3.9, 3.9, 3.9, 3.89, 3.89, 3.88, 3.88, 3.88, 3.85, 3.85, 3.85, 3.85, 3.85, 3.84, 3.82, 3.82, 3.8, 3.8, 3.8, 3.79, 3.79, 3.69, 3.58]\n"
     ]
    }
   ],
   "source": [
    "# extract ratings only from the ratings html list\n",
    "rating_ls = []\n",
    "for rating in ratings:\n",
    "    # print(box)\n",
    "    rating_ls.append(float(rating.find(\"span\").text))\n",
    "print(rating_ls)"
   ]
  },
  {
   "cell_type": "code",
   "execution_count": 168,
   "id": "6da01ddd",
   "metadata": {
    "pycharm": {
     "name": "#%%\n"
    }
   },
   "outputs": [
    {
     "data": {
      "text/plain": [
       "True"
      ]
     },
     "execution_count": 168,
     "metadata": {},
     "output_type": "execute_result"
    }
   ],
   "source": [
    "# check if the country list and rating list length matches\n",
    "len(rating_ls)==len(country_ls)"
   ]
  },
  {
   "cell_type": "code",
   "execution_count": 169,
   "id": "83258997",
   "metadata": {
    "pycharm": {
     "name": "#%%\n"
    }
   },
   "outputs": [],
   "source": [
    "# Create Data Frame with extracted Data\n",
    "cuisine_rank = pd.DataFrame({'Country': country_ls, 'Ratings': rating_ls})"
   ]
  },
  {
   "cell_type": "markdown",
   "id": "f07dbad6",
   "metadata": {
    "pycharm": {
     "name": "#%% md\n"
    }
   },
   "source": [
    "## EDA and Data Cleaning, Transforming"
   ]
  },
  {
   "cell_type": "markdown",
   "id": "1240b1d2",
   "metadata": {
    "pycharm": {
     "name": "#%% md\n"
    }
   },
   "source": [
    "#### Country - ISO CODE Dataset"
   ]
  },
  {
   "cell_type": "code",
   "execution_count": 11,
   "id": "998cede4",
   "metadata": {
    "pycharm": {
     "name": "#%%\n"
    }
   },
   "outputs": [
    {
     "data": {
      "text/html": [
       "<div>\n",
       "<style scoped>\n",
       "    .dataframe tbody tr th:only-of-type {\n",
       "        vertical-align: middle;\n",
       "    }\n",
       "\n",
       "    .dataframe tbody tr th {\n",
       "        vertical-align: top;\n",
       "    }\n",
       "\n",
       "    .dataframe thead th {\n",
       "        text-align: right;\n",
       "    }\n",
       "</style>\n",
       "<table border=\"1\" class=\"dataframe\">\n",
       "  <thead>\n",
       "    <tr style=\"text-align: right;\">\n",
       "      <th></th>\n",
       "      <th>Name</th>\n",
       "      <th>Iso3</th>\n",
       "      <th>Continent</th>\n",
       "      <th>SubContinent</th>\n",
       "    </tr>\n",
       "  </thead>\n",
       "  <tbody>\n",
       "    <tr>\n",
       "      <th>0</th>\n",
       "      <td>Aruba</td>\n",
       "      <td>ABW</td>\n",
       "      <td>Latin America and the Caribbean</td>\n",
       "      <td>Caribbean</td>\n",
       "    </tr>\n",
       "    <tr>\n",
       "      <th>1</th>\n",
       "      <td>Andorra</td>\n",
       "      <td>ADO</td>\n",
       "      <td>Europe</td>\n",
       "      <td>Southern Europe</td>\n",
       "    </tr>\n",
       "    <tr>\n",
       "      <th>2</th>\n",
       "      <td>Afghanistan</td>\n",
       "      <td>AFG</td>\n",
       "      <td>South, East and South-Eastern Asia</td>\n",
       "      <td>Southern Asia</td>\n",
       "    </tr>\n",
       "    <tr>\n",
       "      <th>3</th>\n",
       "      <td>Angola</td>\n",
       "      <td>AGO</td>\n",
       "      <td>Africa</td>\n",
       "      <td>Middle Africa</td>\n",
       "    </tr>\n",
       "    <tr>\n",
       "      <th>4</th>\n",
       "      <td>Albania</td>\n",
       "      <td>ALB</td>\n",
       "      <td>Europe</td>\n",
       "      <td>Southern Europe</td>\n",
       "    </tr>\n",
       "  </tbody>\n",
       "</table>\n",
       "</div>"
      ],
      "text/plain": [
       "          Name Iso3                           Continent     SubContinent\n",
       "0        Aruba  ABW     Latin America and the Caribbean        Caribbean\n",
       "1      Andorra  ADO                              Europe  Southern Europe\n",
       "2  Afghanistan  AFG  South, East and South-Eastern Asia    Southern Asia\n",
       "3       Angola  AGO                              Africa    Middle Africa\n",
       "4      Albania  ALB                              Europe  Southern Europe"
      ]
     },
     "execution_count": 11,
     "metadata": {},
     "output_type": "execute_result"
    }
   ],
   "source": [
    "country.head()"
   ]
  },
  {
   "cell_type": "code",
   "execution_count": 12,
   "id": "608c5b1f",
   "metadata": {
    "pycharm": {
     "name": "#%%\n"
    }
   },
   "outputs": [
    {
     "name": "stdout",
     "output_type": "stream",
     "text": [
      "<class 'pandas.core.frame.DataFrame'>\n",
      "RangeIndex: 327 entries, 0 to 326\n",
      "Data columns (total 4 columns):\n",
      " #   Column        Non-Null Count  Dtype \n",
      "---  ------        --------------  ----- \n",
      " 0   Name          327 non-null    object\n",
      " 1   Iso3          327 non-null    object\n",
      " 2   Continent     327 non-null    object\n",
      " 3   SubContinent  327 non-null    object\n",
      "dtypes: object(4)\n",
      "memory usage: 10.3+ KB\n"
     ]
    }
   ],
   "source": [
    "country.info()"
   ]
  },
  {
   "cell_type": "code",
   "execution_count": 13,
   "id": "5ad7c79d",
   "metadata": {
    "pycharm": {
     "name": "#%%\n"
    }
   },
   "outputs": [
    {
     "data": {
      "text/html": [
       "<div>\n",
       "<style scoped>\n",
       "    .dataframe tbody tr th:only-of-type {\n",
       "        vertical-align: middle;\n",
       "    }\n",
       "\n",
       "    .dataframe tbody tr th {\n",
       "        vertical-align: top;\n",
       "    }\n",
       "\n",
       "    .dataframe thead th {\n",
       "        text-align: right;\n",
       "    }\n",
       "</style>\n",
       "<table border=\"1\" class=\"dataframe\">\n",
       "  <thead>\n",
       "    <tr style=\"text-align: right;\">\n",
       "      <th></th>\n",
       "      <th>Name</th>\n",
       "      <th>Iso3</th>\n",
       "      <th>Continent</th>\n",
       "      <th>SubContinent</th>\n",
       "    </tr>\n",
       "  </thead>\n",
       "  <tbody>\n",
       "    <tr>\n",
       "      <th>135</th>\n",
       "      <td>Kyrgyzstan</td>\n",
       "      <td>KGZ</td>\n",
       "      <td>Central Asia and the middle east</td>\n",
       "      <td>Central Asia</td>\n",
       "    </tr>\n",
       "    <tr>\n",
       "      <th>136</th>\n",
       "      <td>Kyrgyzstan</td>\n",
       "      <td>KGZ</td>\n",
       "      <td>Central Asia and the middle east</td>\n",
       "      <td>Central Asia</td>\n",
       "    </tr>\n",
       "    <tr>\n",
       "      <th>185</th>\n",
       "      <td>Macedonia</td>\n",
       "      <td>MKD</td>\n",
       "      <td>Europe</td>\n",
       "      <td>Southern Europe</td>\n",
       "    </tr>\n",
       "    <tr>\n",
       "      <th>191</th>\n",
       "      <td>Macedonia</td>\n",
       "      <td>MKD</td>\n",
       "      <td>Europe</td>\n",
       "      <td>Southern Europe</td>\n",
       "    </tr>\n",
       "    <tr>\n",
       "      <th>295</th>\n",
       "      <td>United States of America</td>\n",
       "      <td>USA</td>\n",
       "      <td>Northern America</td>\n",
       "      <td>Northern America</td>\n",
       "    </tr>\n",
       "    <tr>\n",
       "      <th>297</th>\n",
       "      <td>United States of America</td>\n",
       "      <td>USA</td>\n",
       "      <td>Northern America</td>\n",
       "      <td>Northern America</td>\n",
       "    </tr>\n",
       "  </tbody>\n",
       "</table>\n",
       "</div>"
      ],
      "text/plain": [
       "                         Name Iso3                         Continent  \\\n",
       "135                Kyrgyzstan  KGZ  Central Asia and the middle east   \n",
       "136                Kyrgyzstan  KGZ  Central Asia and the middle east   \n",
       "185                 Macedonia  MKD                            Europe   \n",
       "191                 Macedonia  MKD                            Europe   \n",
       "295  United States of America  USA                  Northern America   \n",
       "297  United States of America  USA                  Northern America   \n",
       "\n",
       "         SubContinent  \n",
       "135      Central Asia  \n",
       "136      Central Asia  \n",
       "185   Southern Europe  \n",
       "191   Southern Europe  \n",
       "295  Northern America  \n",
       "297  Northern America  "
      ]
     },
     "execution_count": 13,
     "metadata": {},
     "output_type": "execute_result"
    }
   ],
   "source": [
    "country[country.duplicated(subset=['Name'], keep=False)==True]"
   ]
  },
  {
   "cell_type": "code",
   "execution_count": 14,
   "id": "aa39aa5e",
   "metadata": {
    "pycharm": {
     "name": "#%%\n"
    }
   },
   "outputs": [],
   "source": [
    "country.drop_duplicates(subset=['Name'], inplace=True)"
   ]
  },
  {
   "cell_type": "code",
   "execution_count": 15,
   "id": "b857acfb",
   "metadata": {
    "pycharm": {
     "name": "#%%\n"
    }
   },
   "outputs": [],
   "source": [
    "country['Name'] = country['Name'].str.title()\n",
    "country['Name'] = country['Name'].str.strip()"
   ]
  },
  {
   "cell_type": "markdown",
   "id": "755a0c54",
   "metadata": {
    "pycharm": {
     "name": "#%% md\n"
    }
   },
   "source": [
    "#### WEF Dataset"
   ]
  },
  {
   "cell_type": "code",
   "execution_count": 16,
   "id": "738adb14",
   "metadata": {
    "pycharm": {
     "name": "#%%\n"
    }
   },
   "outputs": [
    {
     "data": {
      "text/html": [
       "<div>\n",
       "<style scoped>\n",
       "    .dataframe tbody tr th:only-of-type {\n",
       "        vertical-align: middle;\n",
       "    }\n",
       "\n",
       "    .dataframe tbody tr th {\n",
       "        vertical-align: top;\n",
       "    }\n",
       "\n",
       "    .dataframe thead tr th {\n",
       "        text-align: left;\n",
       "    }\n",
       "</style>\n",
       "<table border=\"1\" class=\"dataframe\">\n",
       "  <thead>\n",
       "    <tr>\n",
       "      <th></th>\n",
       "      <th>Unnamed: 0_level_0</th>\n",
       "      <th>Unnamed: 1_level_0</th>\n",
       "      <th>Unnamed: 2_level_0</th>\n",
       "      <th>Unnamed: 3_level_0</th>\n",
       "      <th>Unnamed: 4_level_0</th>\n",
       "      <th colspan=\"5\" halign=\"left\">Travel &amp; Tourism Development Index</th>\n",
       "      <th>...</th>\n",
       "      <th colspan=\"4\" halign=\"left\">Socioeconomic Resilience &amp; Conditions pillar</th>\n",
       "      <th colspan=\"6\" halign=\"left\">T&amp;T Demand Pressure &amp; Impact pillar</th>\n",
       "    </tr>\n",
       "    <tr>\n",
       "      <th></th>\n",
       "      <th>ISO Code</th>\n",
       "      <th>Economy</th>\n",
       "      <th>Region</th>\n",
       "      <th>Sub Region</th>\n",
       "      <th>Income Group</th>\n",
       "      <th>2019 Value</th>\n",
       "      <th>2019 Rank</th>\n",
       "      <th>2021 Value</th>\n",
       "      <th>2021 Rank</th>\n",
       "      <th>% Dif Score</th>\n",
       "      <th>...</th>\n",
       "      <th>2021 Value</th>\n",
       "      <th>2021 Rank</th>\n",
       "      <th>% Dif Score</th>\n",
       "      <th>Rank Change</th>\n",
       "      <th>2019 Value</th>\n",
       "      <th>2019 Rank</th>\n",
       "      <th>2021 Value</th>\n",
       "      <th>2021 Rank</th>\n",
       "      <th>% Dif Score</th>\n",
       "      <th>Rank Change</th>\n",
       "    </tr>\n",
       "  </thead>\n",
       "  <tbody>\n",
       "    <tr>\n",
       "      <th>0</th>\n",
       "      <td>JPN</td>\n",
       "      <td>Japan</td>\n",
       "      <td>Asia-Pacific</td>\n",
       "      <td>Eastern Asia-Pacific</td>\n",
       "      <td>High-income economies</td>\n",
       "      <td>5.209308</td>\n",
       "      <td>2</td>\n",
       "      <td>5.245868</td>\n",
       "      <td>1</td>\n",
       "      <td>0.007018</td>\n",
       "      <td>...</td>\n",
       "      <td>5.710859</td>\n",
       "      <td>11</td>\n",
       "      <td>0.035617</td>\n",
       "      <td>6</td>\n",
       "      <td>4.162195</td>\n",
       "      <td>43</td>\n",
       "      <td>4.287192</td>\n",
       "      <td>41</td>\n",
       "      <td>0.030031</td>\n",
       "      <td>2</td>\n",
       "    </tr>\n",
       "    <tr>\n",
       "      <th>1</th>\n",
       "      <td>USA</td>\n",
       "      <td>United States</td>\n",
       "      <td>The Americas</td>\n",
       "      <td>North and Central America</td>\n",
       "      <td>High-income economies</td>\n",
       "      <td>5.253746</td>\n",
       "      <td>1</td>\n",
       "      <td>5.199991</td>\n",
       "      <td>2</td>\n",
       "      <td>-0.010232</td>\n",
       "      <td>...</td>\n",
       "      <td>4.496351</td>\n",
       "      <td>44</td>\n",
       "      <td>0.018056</td>\n",
       "      <td>-1</td>\n",
       "      <td>4.835106</td>\n",
       "      <td>4</td>\n",
       "      <td>4.945433</td>\n",
       "      <td>3</td>\n",
       "      <td>0.022818</td>\n",
       "      <td>1</td>\n",
       "    </tr>\n",
       "    <tr>\n",
       "      <th>2</th>\n",
       "      <td>ESP</td>\n",
       "      <td>Spain</td>\n",
       "      <td>Europe and Eurasia</td>\n",
       "      <td>Southern Europe</td>\n",
       "      <td>High-income economies</td>\n",
       "      <td>5.156125</td>\n",
       "      <td>5</td>\n",
       "      <td>5.154733</td>\n",
       "      <td>3</td>\n",
       "      <td>-0.000270</td>\n",
       "      <td>...</td>\n",
       "      <td>5.297103</td>\n",
       "      <td>25</td>\n",
       "      <td>0.068278</td>\n",
       "      <td>5</td>\n",
       "      <td>3.668553</td>\n",
       "      <td>89</td>\n",
       "      <td>3.768780</td>\n",
       "      <td>81</td>\n",
       "      <td>0.027321</td>\n",
       "      <td>8</td>\n",
       "    </tr>\n",
       "    <tr>\n",
       "      <th>3</th>\n",
       "      <td>FRA</td>\n",
       "      <td>France</td>\n",
       "      <td>Europe and Eurasia</td>\n",
       "      <td>Western Europe</td>\n",
       "      <td>High-income economies</td>\n",
       "      <td>5.139553</td>\n",
       "      <td>6</td>\n",
       "      <td>5.126821</td>\n",
       "      <td>4</td>\n",
       "      <td>-0.002477</td>\n",
       "      <td>...</td>\n",
       "      <td>5.734719</td>\n",
       "      <td>10</td>\n",
       "      <td>0.005727</td>\n",
       "      <td>1</td>\n",
       "      <td>3.447736</td>\n",
       "      <td>106</td>\n",
       "      <td>3.429899</td>\n",
       "      <td>108</td>\n",
       "      <td>-0.005174</td>\n",
       "      <td>-2</td>\n",
       "    </tr>\n",
       "    <tr>\n",
       "      <th>4</th>\n",
       "      <td>DEU</td>\n",
       "      <td>Germany</td>\n",
       "      <td>Europe and Eurasia</td>\n",
       "      <td>Western Europe</td>\n",
       "      <td>High-income economies</td>\n",
       "      <td>5.158769</td>\n",
       "      <td>4</td>\n",
       "      <td>5.064452</td>\n",
       "      <td>5</td>\n",
       "      <td>-0.018283</td>\n",
       "      <td>...</td>\n",
       "      <td>5.884420</td>\n",
       "      <td>8</td>\n",
       "      <td>0.012092</td>\n",
       "      <td>0</td>\n",
       "      <td>3.691413</td>\n",
       "      <td>87</td>\n",
       "      <td>3.921128</td>\n",
       "      <td>73</td>\n",
       "      <td>0.062230</td>\n",
       "      <td>14</td>\n",
       "    </tr>\n",
       "  </tbody>\n",
       "</table>\n",
       "<p>5 rows × 143 columns</p>\n",
       "</div>"
      ],
      "text/plain": [
       "  Unnamed: 0_level_0 Unnamed: 1_level_0  Unnamed: 2_level_0  \\\n",
       "            ISO Code            Economy              Region   \n",
       "0                JPN              Japan        Asia-Pacific   \n",
       "1                USA      United States        The Americas   \n",
       "2                ESP              Spain  Europe and Eurasia   \n",
       "3                FRA             France  Europe and Eurasia   \n",
       "4                DEU            Germany  Europe and Eurasia   \n",
       "\n",
       "          Unnamed: 3_level_0     Unnamed: 4_level_0  \\\n",
       "                  Sub Region           Income Group   \n",
       "0       Eastern Asia-Pacific  High-income economies   \n",
       "1  North and Central America  High-income economies   \n",
       "2            Southern Europe  High-income economies   \n",
       "3             Western Europe  High-income economies   \n",
       "4             Western Europe  High-income economies   \n",
       "\n",
       "  Travel & Tourism Development Index                                  \\\n",
       "                           2019 Value 2019 Rank 2021 Value 2021 Rank   \n",
       "0                            5.209308         2   5.245868         1   \n",
       "1                            5.253746         1   5.199991         2   \n",
       "2                            5.156125         5   5.154733         3   \n",
       "3                            5.139553         6   5.126821         4   \n",
       "4                            5.158769         4   5.064452         5   \n",
       "\n",
       "               ... Socioeconomic Resilience & Conditions pillar            \\\n",
       "  % Dif Score  ...                                   2021 Value 2021 Rank   \n",
       "0    0.007018  ...                                     5.710859        11   \n",
       "1   -0.010232  ...                                     4.496351        44   \n",
       "2   -0.000270  ...                                     5.297103        25   \n",
       "3   -0.002477  ...                                     5.734719        10   \n",
       "4   -0.018283  ...                                     5.884420         8   \n",
       "\n",
       "                          T&T Demand Pressure & Impact pillar            \\\n",
       "  % Dif Score Rank Change                          2019 Value 2019 Rank   \n",
       "0    0.035617           6                            4.162195        43   \n",
       "1    0.018056          -1                            4.835106         4   \n",
       "2    0.068278           5                            3.668553        89   \n",
       "3    0.005727           1                            3.447736       106   \n",
       "4    0.012092           0                            3.691413        87   \n",
       "\n",
       "                                                \n",
       "  2021 Value 2021 Rank % Dif Score Rank Change  \n",
       "0   4.287192        41    0.030031           2  \n",
       "1   4.945433         3    0.022818           1  \n",
       "2   3.768780        81    0.027321           8  \n",
       "3   3.429899       108   -0.005174          -2  \n",
       "4   3.921128        73    0.062230          14  \n",
       "\n",
       "[5 rows x 143 columns]"
      ]
     },
     "execution_count": 16,
     "metadata": {},
     "output_type": "execute_result"
    }
   ],
   "source": [
    "wef.head()"
   ]
  },
  {
   "cell_type": "code",
   "execution_count": 17,
   "id": "e5d3a161",
   "metadata": {
    "pycharm": {
     "name": "#%%\n"
    }
   },
   "outputs": [],
   "source": [
    "# to flatten the double header from excel\n",
    "wef.columns=wef.columns.to_flat_index()"
   ]
  },
  {
   "cell_type": "code",
   "execution_count": 18,
   "id": "9292ea0e",
   "metadata": {
    "pycharm": {
     "name": "#%%\n"
    }
   },
   "outputs": [
    {
     "data": {
      "text/html": [
       "<div>\n",
       "<style scoped>\n",
       "    .dataframe tbody tr th:only-of-type {\n",
       "        vertical-align: middle;\n",
       "    }\n",
       "\n",
       "    .dataframe tbody tr th {\n",
       "        vertical-align: top;\n",
       "    }\n",
       "\n",
       "    .dataframe thead th {\n",
       "        text-align: right;\n",
       "    }\n",
       "</style>\n",
       "<table border=\"1\" class=\"dataframe\">\n",
       "  <thead>\n",
       "    <tr style=\"text-align: right;\">\n",
       "      <th></th>\n",
       "      <th>(Unnamed: 0_level_0, ISO Code)</th>\n",
       "      <th>(Unnamed: 1_level_0, Economy)</th>\n",
       "      <th>(Unnamed: 2_level_0, Region)</th>\n",
       "      <th>(Unnamed: 3_level_0, Sub Region)</th>\n",
       "      <th>(Unnamed: 4_level_0, Income Group)</th>\n",
       "      <th>(Travel &amp; Tourism Development Index , 2019 Value)</th>\n",
       "      <th>(Travel &amp; Tourism Development Index , 2019 Rank)</th>\n",
       "      <th>(Travel &amp; Tourism Development Index , 2021 Value)</th>\n",
       "      <th>(Travel &amp; Tourism Development Index , 2021 Rank)</th>\n",
       "      <th>(Travel &amp; Tourism Development Index , % Dif Score)</th>\n",
       "      <th>...</th>\n",
       "      <th>(Socioeconomic Resilience &amp; Conditions pillar, 2021 Value)</th>\n",
       "      <th>(Socioeconomic Resilience &amp; Conditions pillar, 2021 Rank)</th>\n",
       "      <th>(Socioeconomic Resilience &amp; Conditions pillar, % Dif Score)</th>\n",
       "      <th>(Socioeconomic Resilience &amp; Conditions pillar, Rank Change)</th>\n",
       "      <th>(T&amp;T Demand Pressure &amp; Impact pillar, 2019 Value)</th>\n",
       "      <th>(T&amp;T Demand Pressure &amp; Impact pillar, 2019 Rank)</th>\n",
       "      <th>(T&amp;T Demand Pressure &amp; Impact pillar, 2021 Value)</th>\n",
       "      <th>(T&amp;T Demand Pressure &amp; Impact pillar, 2021 Rank)</th>\n",
       "      <th>(T&amp;T Demand Pressure &amp; Impact pillar, % Dif Score)</th>\n",
       "      <th>(T&amp;T Demand Pressure &amp; Impact pillar, Rank Change)</th>\n",
       "    </tr>\n",
       "  </thead>\n",
       "  <tbody>\n",
       "    <tr>\n",
       "      <th>0</th>\n",
       "      <td>JPN</td>\n",
       "      <td>Japan</td>\n",
       "      <td>Asia-Pacific</td>\n",
       "      <td>Eastern Asia-Pacific</td>\n",
       "      <td>High-income economies</td>\n",
       "      <td>5.209308</td>\n",
       "      <td>2</td>\n",
       "      <td>5.245868</td>\n",
       "      <td>1</td>\n",
       "      <td>0.007018</td>\n",
       "      <td>...</td>\n",
       "      <td>5.710859</td>\n",
       "      <td>11</td>\n",
       "      <td>0.035617</td>\n",
       "      <td>6</td>\n",
       "      <td>4.162195</td>\n",
       "      <td>43</td>\n",
       "      <td>4.287192</td>\n",
       "      <td>41</td>\n",
       "      <td>0.030031</td>\n",
       "      <td>2</td>\n",
       "    </tr>\n",
       "    <tr>\n",
       "      <th>1</th>\n",
       "      <td>USA</td>\n",
       "      <td>United States</td>\n",
       "      <td>The Americas</td>\n",
       "      <td>North and Central America</td>\n",
       "      <td>High-income economies</td>\n",
       "      <td>5.253746</td>\n",
       "      <td>1</td>\n",
       "      <td>5.199991</td>\n",
       "      <td>2</td>\n",
       "      <td>-0.010232</td>\n",
       "      <td>...</td>\n",
       "      <td>4.496351</td>\n",
       "      <td>44</td>\n",
       "      <td>0.018056</td>\n",
       "      <td>-1</td>\n",
       "      <td>4.835106</td>\n",
       "      <td>4</td>\n",
       "      <td>4.945433</td>\n",
       "      <td>3</td>\n",
       "      <td>0.022818</td>\n",
       "      <td>1</td>\n",
       "    </tr>\n",
       "    <tr>\n",
       "      <th>2</th>\n",
       "      <td>ESP</td>\n",
       "      <td>Spain</td>\n",
       "      <td>Europe and Eurasia</td>\n",
       "      <td>Southern Europe</td>\n",
       "      <td>High-income economies</td>\n",
       "      <td>5.156125</td>\n",
       "      <td>5</td>\n",
       "      <td>5.154733</td>\n",
       "      <td>3</td>\n",
       "      <td>-0.000270</td>\n",
       "      <td>...</td>\n",
       "      <td>5.297103</td>\n",
       "      <td>25</td>\n",
       "      <td>0.068278</td>\n",
       "      <td>5</td>\n",
       "      <td>3.668553</td>\n",
       "      <td>89</td>\n",
       "      <td>3.768780</td>\n",
       "      <td>81</td>\n",
       "      <td>0.027321</td>\n",
       "      <td>8</td>\n",
       "    </tr>\n",
       "    <tr>\n",
       "      <th>3</th>\n",
       "      <td>FRA</td>\n",
       "      <td>France</td>\n",
       "      <td>Europe and Eurasia</td>\n",
       "      <td>Western Europe</td>\n",
       "      <td>High-income economies</td>\n",
       "      <td>5.139553</td>\n",
       "      <td>6</td>\n",
       "      <td>5.126821</td>\n",
       "      <td>4</td>\n",
       "      <td>-0.002477</td>\n",
       "      <td>...</td>\n",
       "      <td>5.734719</td>\n",
       "      <td>10</td>\n",
       "      <td>0.005727</td>\n",
       "      <td>1</td>\n",
       "      <td>3.447736</td>\n",
       "      <td>106</td>\n",
       "      <td>3.429899</td>\n",
       "      <td>108</td>\n",
       "      <td>-0.005174</td>\n",
       "      <td>-2</td>\n",
       "    </tr>\n",
       "    <tr>\n",
       "      <th>4</th>\n",
       "      <td>DEU</td>\n",
       "      <td>Germany</td>\n",
       "      <td>Europe and Eurasia</td>\n",
       "      <td>Western Europe</td>\n",
       "      <td>High-income economies</td>\n",
       "      <td>5.158769</td>\n",
       "      <td>4</td>\n",
       "      <td>5.064452</td>\n",
       "      <td>5</td>\n",
       "      <td>-0.018283</td>\n",
       "      <td>...</td>\n",
       "      <td>5.884420</td>\n",
       "      <td>8</td>\n",
       "      <td>0.012092</td>\n",
       "      <td>0</td>\n",
       "      <td>3.691413</td>\n",
       "      <td>87</td>\n",
       "      <td>3.921128</td>\n",
       "      <td>73</td>\n",
       "      <td>0.062230</td>\n",
       "      <td>14</td>\n",
       "    </tr>\n",
       "  </tbody>\n",
       "</table>\n",
       "<p>5 rows × 143 columns</p>\n",
       "</div>"
      ],
      "text/plain": [
       "  (Unnamed: 0_level_0, ISO Code) (Unnamed: 1_level_0, Economy)  \\\n",
       "0                            JPN                         Japan   \n",
       "1                            USA                 United States   \n",
       "2                            ESP                         Spain   \n",
       "3                            FRA                        France   \n",
       "4                            DEU                       Germany   \n",
       "\n",
       "  (Unnamed: 2_level_0, Region) (Unnamed: 3_level_0, Sub Region)  \\\n",
       "0                 Asia-Pacific             Eastern Asia-Pacific   \n",
       "1                 The Americas        North and Central America   \n",
       "2           Europe and Eurasia                  Southern Europe   \n",
       "3           Europe and Eurasia                   Western Europe   \n",
       "4           Europe and Eurasia                   Western Europe   \n",
       "\n",
       "  (Unnamed: 4_level_0, Income Group)  \\\n",
       "0              High-income economies   \n",
       "1              High-income economies   \n",
       "2              High-income economies   \n",
       "3              High-income economies   \n",
       "4              High-income economies   \n",
       "\n",
       "   (Travel & Tourism Development Index , 2019 Value)  \\\n",
       "0                                           5.209308   \n",
       "1                                           5.253746   \n",
       "2                                           5.156125   \n",
       "3                                           5.139553   \n",
       "4                                           5.158769   \n",
       "\n",
       "   (Travel & Tourism Development Index , 2019 Rank)  \\\n",
       "0                                                 2   \n",
       "1                                                 1   \n",
       "2                                                 5   \n",
       "3                                                 6   \n",
       "4                                                 4   \n",
       "\n",
       "   (Travel & Tourism Development Index , 2021 Value)  \\\n",
       "0                                           5.245868   \n",
       "1                                           5.199991   \n",
       "2                                           5.154733   \n",
       "3                                           5.126821   \n",
       "4                                           5.064452   \n",
       "\n",
       "   (Travel & Tourism Development Index , 2021 Rank)  \\\n",
       "0                                                 1   \n",
       "1                                                 2   \n",
       "2                                                 3   \n",
       "3                                                 4   \n",
       "4                                                 5   \n",
       "\n",
       "   (Travel & Tourism Development Index , % Dif Score)  ...  \\\n",
       "0                                           0.007018   ...   \n",
       "1                                          -0.010232   ...   \n",
       "2                                          -0.000270   ...   \n",
       "3                                          -0.002477   ...   \n",
       "4                                          -0.018283   ...   \n",
       "\n",
       "   (Socioeconomic Resilience & Conditions pillar, 2021 Value)  \\\n",
       "0                                           5.710859            \n",
       "1                                           4.496351            \n",
       "2                                           5.297103            \n",
       "3                                           5.734719            \n",
       "4                                           5.884420            \n",
       "\n",
       "   (Socioeconomic Resilience & Conditions pillar, 2021 Rank)  \\\n",
       "0                                                 11           \n",
       "1                                                 44           \n",
       "2                                                 25           \n",
       "3                                                 10           \n",
       "4                                                  8           \n",
       "\n",
       "   (Socioeconomic Resilience & Conditions pillar, % Dif Score)  \\\n",
       "0                                           0.035617             \n",
       "1                                           0.018056             \n",
       "2                                           0.068278             \n",
       "3                                           0.005727             \n",
       "4                                           0.012092             \n",
       "\n",
       "   (Socioeconomic Resilience & Conditions pillar, Rank Change)  \\\n",
       "0                                                  6             \n",
       "1                                                 -1             \n",
       "2                                                  5             \n",
       "3                                                  1             \n",
       "4                                                  0             \n",
       "\n",
       "   (T&T Demand Pressure & Impact pillar, 2019 Value)  \\\n",
       "0                                           4.162195   \n",
       "1                                           4.835106   \n",
       "2                                           3.668553   \n",
       "3                                           3.447736   \n",
       "4                                           3.691413   \n",
       "\n",
       "   (T&T Demand Pressure & Impact pillar, 2019 Rank)  \\\n",
       "0                                                43   \n",
       "1                                                 4   \n",
       "2                                                89   \n",
       "3                                               106   \n",
       "4                                                87   \n",
       "\n",
       "   (T&T Demand Pressure & Impact pillar, 2021 Value)  \\\n",
       "0                                           4.287192   \n",
       "1                                           4.945433   \n",
       "2                                           3.768780   \n",
       "3                                           3.429899   \n",
       "4                                           3.921128   \n",
       "\n",
       "   (T&T Demand Pressure & Impact pillar, 2021 Rank)  \\\n",
       "0                                                41   \n",
       "1                                                 3   \n",
       "2                                                81   \n",
       "3                                               108   \n",
       "4                                                73   \n",
       "\n",
       "   (T&T Demand Pressure & Impact pillar, % Dif Score)  \\\n",
       "0                                           0.030031    \n",
       "1                                           0.022818    \n",
       "2                                           0.027321    \n",
       "3                                          -0.005174    \n",
       "4                                           0.062230    \n",
       "\n",
       "   (T&T Demand Pressure & Impact pillar, Rank Change)  \n",
       "0                                                  2   \n",
       "1                                                  1   \n",
       "2                                                  8   \n",
       "3                                                 -2   \n",
       "4                                                 14   \n",
       "\n",
       "[5 rows x 143 columns]"
      ]
     },
     "execution_count": 18,
     "metadata": {},
     "output_type": "execute_result"
    }
   ],
   "source": [
    "wef.head()"
   ]
  },
  {
   "cell_type": "code",
   "execution_count": 19,
   "id": "f838c42d",
   "metadata": {
    "pycharm": {
     "name": "#%%\n"
    }
   },
   "outputs": [
    {
     "name": "stdout",
     "output_type": "stream",
     "text": [
      "<class 'pandas.core.frame.DataFrame'>\n",
      "RangeIndex: 117 entries, 0 to 116\n",
      "Columns: 143 entries, ('Unnamed: 0_level_0', 'ISO Code') to ('T&T Demand Pressure & Impact pillar', 'Rank Change')\n",
      "dtypes: float64(69), int64(69), object(5)\n",
      "memory usage: 130.8+ KB\n"
     ]
    }
   ],
   "source": [
    "wef.info()"
   ]
  },
  {
   "cell_type": "markdown",
   "id": "603fca3f",
   "metadata": {
    "pycharm": {
     "name": "#%% md\n"
    }
   },
   "source": [
    "Among 143 columns we have in dataset, we will choose relevant columns and drop all the others. We found we have no null data in the dataset. Moreover, as the dataset have ISO code itself, there is no further cleaning needed for the country name."
   ]
  },
  {
   "cell_type": "code",
   "execution_count": 20,
   "id": "b6eed448",
   "metadata": {
    "pycharm": {
     "name": "#%%\n"
    }
   },
   "outputs": [],
   "source": [
    "# Rename columns\n",
    "wef.rename(columns = {('Unnamed: 0_level_0', 'ISO Code'):'ISO Code',\n",
    "                      ('Unnamed: 1_level_0', 'Economy'):'Country',\n",
    "                      ('Unnamed: 2_level_0', 'Region'):'Continent',\n",
    "                      ('Unnamed: 3_level_0', 'Sub Region'):'Sub Continent',\n",
    "                      ('Unnamed: 4_level_0', 'Income Group'):'Income Group'\n",
    "                      }, inplace = True)"
   ]
  },
  {
   "cell_type": "code",
   "execution_count": 21,
   "id": "ebe50942",
   "metadata": {
    "pycharm": {
     "name": "#%%\n"
    }
   },
   "outputs": [
    {
     "name": "stdout",
     "output_type": "stream",
     "text": [
      "0 ISO Code\n",
      "1 Country\n",
      "2 Continent\n",
      "3 Sub Continent\n",
      "4 Income Group\n",
      "5 ('Travel & Tourism Development Index ', '2019 Value')\n",
      "6 ('Travel & Tourism Development Index ', '2019 Rank')\n",
      "7 ('Travel & Tourism Development Index ', '2021 Value')\n",
      "8 ('Travel & Tourism Development Index ', '2021 Rank')\n",
      "9 ('Travel & Tourism Development Index ', '% Dif Score')\n",
      "10 ('Travel & Tourism Development Index ', 'Rank Change')\n",
      "11 ('Enabling Environment subindex', '2019 Value')\n",
      "12 ('Enabling Environment subindex', '2019 Rank')\n",
      "13 ('Enabling Environment subindex', '2021 Value')\n",
      "14 ('Enabling Environment subindex', '2021 Rank')\n",
      "15 ('Enabling Environment subindex', '% Dif Score')\n",
      "16 ('Enabling Environment subindex', 'Rank Change')\n",
      "17 ('Travel and Tourism Policy and Enabling\\nConditions subindex', '2019 Value')\n",
      "18 ('Travel and Tourism Policy and Enabling\\nConditions subindex', '2019 Rank')\n",
      "19 ('Travel and Tourism Policy and Enabling\\nConditions subindex', '2021 Value')\n",
      "20 ('Travel and Tourism Policy and Enabling\\nConditions subindex', '2021 Rank')\n",
      "21 ('Travel and Tourism Policy and Enabling\\nConditions subindex', '% Dif Score')\n",
      "22 ('Travel and Tourism Policy and Enabling\\nConditions subindex', 'Rank Change')\n",
      "23 ('Infrastructure subindex', '2019 Value')\n",
      "24 ('Infrastructure subindex', '2019 Rank')\n",
      "25 ('Infrastructure subindex', '2021 Value')\n",
      "26 ('Infrastructure subindex', '2021 Rank')\n",
      "27 ('Infrastructure subindex', '% Dif Score')\n",
      "28 ('Infrastructure subindex', 'Rank Change')\n",
      "29 ('Travel and Tourism Demand Drivers\\nsubindex', '2019 Value')\n",
      "30 ('Travel and Tourism Demand Drivers\\nsubindex', '2019 Rank')\n",
      "31 ('Travel and Tourism Demand Drivers\\nsubindex', '2021 Value')\n",
      "32 ('Travel and Tourism Demand Drivers\\nsubindex', '2021 Rank')\n",
      "33 ('Travel and Tourism Demand Drivers\\nsubindex', '% Dif Score')\n",
      "34 ('Travel and Tourism Demand Drivers\\nsubindex', 'Rank Change')\n",
      "35 ('Travel and Tourism Sustainability subindex', '2019 Value')\n",
      "36 ('Travel and Tourism Sustainability subindex', '2019 Rank')\n",
      "37 ('Travel and Tourism Sustainability subindex', '2021 Value')\n",
      "38 ('Travel and Tourism Sustainability subindex', '2021 Rank')\n",
      "39 ('Travel and Tourism Sustainability subindex', '% Dif Score')\n",
      "40 ('Travel and Tourism Sustainability subindex', 'Rank Change')\n",
      "41 ('Business Environment pillar', '2019 Value')\n",
      "42 ('Business Environment pillar', '2019 Rank')\n",
      "43 ('Business Environment pillar', '2021 Value')\n",
      "44 ('Business Environment pillar', '2021 Rank')\n",
      "45 ('Business Environment pillar', '% Dif Score')\n",
      "46 ('Business Environment pillar', 'Rank Change')\n",
      "47 ('Safety and Security pillar', '2019 Value')\n",
      "48 ('Safety and Security pillar', '2019 Rank')\n",
      "49 ('Safety and Security pillar', '2021 Value')\n",
      "50 ('Safety and Security pillar', '2021 Rank')\n",
      "51 ('Safety and Security pillar', '% Dif Score')\n",
      "52 ('Safety and Security pillar', 'Rank Change')\n",
      "53 ('Health and Hygiene pillar', '2019 Value')\n",
      "54 ('Health and Hygiene pillar', '2019 Rank')\n",
      "55 ('Health and Hygiene pillar', '2021 Value')\n",
      "56 ('Health and Hygiene pillar', '2021 Rank')\n",
      "57 ('Health and Hygiene pillar', '% Dif Score')\n",
      "58 ('Health and Hygiene pillar', 'Rank Change')\n",
      "59 ('Human Resources and Labour Market pillar', '2019 Value')\n",
      "60 ('Human Resources and Labour Market pillar', '2019 Rank')\n",
      "61 ('Human Resources and Labour Market pillar', '2021 Value')\n",
      "62 ('Human Resources and Labour Market pillar', '2021 Rank')\n",
      "63 ('Human Resources and Labour Market pillar', '% Dif Score')\n",
      "64 ('Human Resources and Labour Market pillar', 'Rank Change')\n",
      "65 ('ICT Readiness pillar', '2019 Value')\n",
      "66 ('ICT Readiness pillar', '2019 Rank')\n",
      "67 ('ICT Readiness pillar', '2021 Value')\n",
      "68 ('ICT Readiness pillar', '2021 Rank')\n",
      "69 ('ICT Readiness pillar', '% Dif Score')\n",
      "70 ('ICT Readiness pillar', 'Rank Change')\n",
      "71 ('Prioritization of Travel & Tourism pillar', '2019 Value')\n",
      "72 ('Prioritization of Travel & Tourism pillar', '2019 Rank')\n",
      "73 ('Prioritization of Travel & Tourism pillar', '2021 Value')\n",
      "74 ('Prioritization of Travel & Tourism pillar', '2021 Rank')\n",
      "75 ('Prioritization of Travel & Tourism pillar', '% Dif Score')\n",
      "76 ('Prioritization of Travel & Tourism pillar', 'Rank Change')\n",
      "77 ('International Openness pillar', '2019 Value')\n",
      "78 ('International Openness pillar', '2019 Rank')\n",
      "79 ('International Openness pillar', '2021 Value')\n",
      "80 ('International Openness pillar', '2021 Rank')\n",
      "81 ('International Openness pillar', '% Dif Score')\n",
      "82 ('International Openness pillar', 'Rank Change')\n",
      "83 ('Price competitiveness pillar', '2019 Value')\n",
      "84 ('Price competitiveness pillar', '2019 Rank')\n",
      "85 ('Price competitiveness pillar', '2021 Value')\n",
      "86 ('Price competitiveness pillar', '2021 Rank')\n",
      "87 ('Price competitiveness pillar', '% Dif Score')\n",
      "88 ('Price competitiveness pillar', 'Rank Change')\n",
      "89 ('Air Transport Infrastructure pillar', '2019 Value')\n",
      "90 ('Air Transport Infrastructure pillar', '2019 Rank')\n",
      "91 ('Air Transport Infrastructure pillar', '2021 Value')\n",
      "92 ('Air Transport Infrastructure pillar', '2021 Rank')\n",
      "93 ('Air Transport Infrastructure pillar', '% Dif Score')\n",
      "94 ('Air Transport Infrastructure pillar', 'Rank Change')\n",
      "95 ('Ground and Port Infrastructure pillar', '2019 Value')\n",
      "96 ('Ground and Port Infrastructure pillar', '2019 Rank')\n",
      "97 ('Ground and Port Infrastructure pillar', '2021 Value')\n",
      "98 ('Ground and Port Infrastructure pillar', '2021 Rank')\n",
      "99 ('Ground and Port Infrastructure pillar', '% Dif Score')\n",
      "100 ('Ground and Port Infrastructure pillar', 'Rank Change')\n",
      "101 ('Tourist Service Infrastructure pillar', '2019 Value')\n",
      "102 ('Tourist Service Infrastructure pillar', '2019 Rank')\n",
      "103 ('Tourist Service Infrastructure pillar', '2021 Value')\n",
      "104 ('Tourist Service Infrastructure pillar', '2021 Rank')\n",
      "105 ('Tourist Service Infrastructure pillar', '% Dif Score')\n",
      "106 ('Tourist Service Infrastructure pillar', 'Rank Change')\n",
      "107 ('Natural Resources pillar', '2019 Value')\n",
      "108 ('Natural Resources pillar', '2019 Rank')\n",
      "109 ('Natural Resources pillar', '2021 Value')\n",
      "110 ('Natural Resources pillar', '2021 Rank')\n",
      "111 ('Natural Resources pillar', '% Dif Score')\n",
      "112 ('Natural Resources pillar', 'Rank Change')\n",
      "113 ('Cultural Resources pillar', '2019 Value')\n",
      "114 ('Cultural Resources pillar', '2019 Rank')\n",
      "115 ('Cultural Resources pillar', '2021 Value')\n",
      "116 ('Cultural Resources pillar', '2021 Rank')\n",
      "117 ('Cultural Resources pillar', '% Dif Score')\n",
      "118 ('Cultural Resources pillar', 'Rank Change')\n",
      "119 ('Non-Leisure Resources pillar', '2019 Value')\n",
      "120 ('Non-Leisure Resources pillar', '2019 Rank')\n",
      "121 ('Non-Leisure Resources pillar', '2021 Value')\n",
      "122 ('Non-Leisure Resources pillar', '2021 Rank')\n",
      "123 ('Non-Leisure Resources pillar', '% Dif Score')\n",
      "124 ('Non-Leisure Resources pillar', 'Rank Change')\n",
      "125 ('Environmental Sustainability pillar', '2019 Value')\n",
      "126 ('Environmental Sustainability pillar', '2019 Rank')\n",
      "127 ('Environmental Sustainability pillar', '2021 Value')\n",
      "128 ('Environmental Sustainability pillar', '2021 Rank')\n",
      "129 ('Environmental Sustainability pillar', '% Dif Score')\n",
      "130 ('Environmental Sustainability pillar', 'Rank Change')\n",
      "131 ('Socioeconomic Resilience & Conditions pillar', '2019 Value')\n",
      "132 ('Socioeconomic Resilience & Conditions pillar', '2019 Rank')\n",
      "133 ('Socioeconomic Resilience & Conditions pillar', '2021 Value')\n",
      "134 ('Socioeconomic Resilience & Conditions pillar', '2021 Rank')\n",
      "135 ('Socioeconomic Resilience & Conditions pillar', '% Dif Score')\n",
      "136 ('Socioeconomic Resilience & Conditions pillar', 'Rank Change')\n",
      "137 ('T&T Demand Pressure & Impact pillar', '2019 Value')\n",
      "138 ('T&T Demand Pressure & Impact pillar', '2019 Rank')\n",
      "139 ('T&T Demand Pressure & Impact pillar', '2021 Value')\n",
      "140 ('T&T Demand Pressure & Impact pillar', '2021 Rank')\n",
      "141 ('T&T Demand Pressure & Impact pillar', '% Dif Score')\n",
      "142 ('T&T Demand Pressure & Impact pillar', 'Rank Change')\n"
     ]
    }
   ],
   "source": [
    "# To check the index of the columns that we wish to drop\n",
    "for i, col in enumerate(wef.columns):\n",
    "    print(i, col)"
   ]
  },
  {
   "cell_type": "code",
   "execution_count": 22,
   "id": "37edcf0e",
   "metadata": {
    "pycharm": {
     "name": "#%%\n"
    }
   },
   "outputs": [
    {
     "data": {
      "text/plain": [
       "Index([                                           'ISO Code',\n",
       "                                                   'Country',\n",
       "                                                 'Continent',\n",
       "                                             'Sub Continent',\n",
       "                                              'Income Group',\n",
       "       ('Travel & Tourism Development Index ', '2021 Value'),\n",
       "        ('Travel & Tourism Development Index ', '2021 Rank'),\n",
       "                   ('Infrastructure subindex', '2021 Value'),\n",
       "                    ('Infrastructure subindex', '2021 Rank'),\n",
       "                ('Safety and Security pillar', '2021 Value'),\n",
       "                 ('Safety and Security pillar', '2021 Rank'),\n",
       "                 ('Health and Hygiene pillar', '2021 Value'),\n",
       "                  ('Health and Hygiene pillar', '2021 Rank'),\n",
       "             ('International Openness pillar', '2021 Value'),\n",
       "              ('International Openness pillar', '2021 Rank'),\n",
       "              ('Price competitiveness pillar', '2021 Value'),\n",
       "               ('Price competitiveness pillar', '2021 Rank'),\n",
       "                  ('Natural Resources pillar', '2021 Value'),\n",
       "                   ('Natural Resources pillar', '2021 Rank'),\n",
       "                 ('Cultural Resources pillar', '2021 Value'),\n",
       "                  ('Cultural Resources pillar', '2021 Rank'),\n",
       "       ('Environmental Sustainability pillar', '2021 Value'),\n",
       "        ('Environmental Sustainability pillar', '2021 Rank')],\n",
       "      dtype='object')"
      ]
     },
     "execution_count": 22,
     "metadata": {},
     "output_type": "execute_result"
    }
   ],
   "source": [
    "# Keep columns that we want to keep only by its index\n",
    "wef = wef.iloc[:, [0,1,2,3,4,7,8,25,26,49,50,55,56,79,80,85,86,109,110,115,116,127,128]]\n",
    "wef.columns"
   ]
  },
  {
   "cell_type": "code",
   "execution_count": 23,
   "id": "127cf200",
   "metadata": {
    "pycharm": {
     "name": "#%%\n"
    }
   },
   "outputs": [
    {
     "data": {
      "text/plain": [
       "ISO Code                                             0\n",
       "Country                                              0\n",
       "Continent                                            0\n",
       "Sub Continent                                        0\n",
       "Income Group                                         0\n",
       "(Travel & Tourism Development Index , 2021 Value)    0\n",
       "(Travel & Tourism Development Index , 2021 Rank)     0\n",
       "(Infrastructure subindex, 2021 Value)                0\n",
       "(Infrastructure subindex, 2021 Rank)                 0\n",
       "(Safety and Security pillar, 2021 Value)             0\n",
       "(Safety and Security pillar, 2021 Rank)              0\n",
       "(Health and Hygiene pillar, 2021 Value)              0\n",
       "(Health and Hygiene pillar, 2021 Rank)               0\n",
       "(International Openness pillar, 2021 Value)          0\n",
       "(International Openness pillar, 2021 Rank)           0\n",
       "(Price competitiveness pillar, 2021 Value)           0\n",
       "(Price competitiveness pillar, 2021 Rank)            0\n",
       "(Natural Resources pillar, 2021 Value)               0\n",
       "(Natural Resources pillar, 2021 Rank)                0\n",
       "(Cultural Resources pillar, 2021 Value)              0\n",
       "(Cultural Resources pillar, 2021 Rank)               0\n",
       "(Environmental Sustainability pillar, 2021 Value)    0\n",
       "(Environmental Sustainability pillar, 2021 Rank)     0\n",
       "dtype: int64"
      ]
     },
     "execution_count": 23,
     "metadata": {},
     "output_type": "execute_result"
    }
   ],
   "source": [
    "wef.isna().sum()"
   ]
  },
  {
   "cell_type": "code",
   "execution_count": 24,
   "id": "9c5c86cb",
   "metadata": {
    "pycharm": {
     "name": "#%%\n"
    }
   },
   "outputs": [
    {
     "data": {
      "text/html": [
       "<div>\n",
       "<style scoped>\n",
       "    .dataframe tbody tr th:only-of-type {\n",
       "        vertical-align: middle;\n",
       "    }\n",
       "\n",
       "    .dataframe tbody tr th {\n",
       "        vertical-align: top;\n",
       "    }\n",
       "\n",
       "    .dataframe thead th {\n",
       "        text-align: right;\n",
       "    }\n",
       "</style>\n",
       "<table border=\"1\" class=\"dataframe\">\n",
       "  <thead>\n",
       "    <tr style=\"text-align: right;\">\n",
       "      <th></th>\n",
       "      <th>ISO Code</th>\n",
       "      <th>Country</th>\n",
       "      <th>Continent</th>\n",
       "      <th>Sub Continent</th>\n",
       "      <th>Income Group</th>\n",
       "      <th>(Travel &amp; Tourism Development Index , 2021 Value)</th>\n",
       "      <th>(Travel &amp; Tourism Development Index , 2021 Rank)</th>\n",
       "      <th>(Infrastructure subindex, 2021 Value)</th>\n",
       "      <th>(Infrastructure subindex, 2021 Rank)</th>\n",
       "      <th>(Safety and Security pillar, 2021 Value)</th>\n",
       "      <th>...</th>\n",
       "      <th>(International Openness pillar, 2021 Value)</th>\n",
       "      <th>(International Openness pillar, 2021 Rank)</th>\n",
       "      <th>(Price competitiveness pillar, 2021 Value)</th>\n",
       "      <th>(Price competitiveness pillar, 2021 Rank)</th>\n",
       "      <th>(Natural Resources pillar, 2021 Value)</th>\n",
       "      <th>(Natural Resources pillar, 2021 Rank)</th>\n",
       "      <th>(Cultural Resources pillar, 2021 Value)</th>\n",
       "      <th>(Cultural Resources pillar, 2021 Rank)</th>\n",
       "      <th>(Environmental Sustainability pillar, 2021 Value)</th>\n",
       "      <th>(Environmental Sustainability pillar, 2021 Rank)</th>\n",
       "    </tr>\n",
       "  </thead>\n",
       "  <tbody>\n",
       "  </tbody>\n",
       "</table>\n",
       "<p>0 rows × 23 columns</p>\n",
       "</div>"
      ],
      "text/plain": [
       "Empty DataFrame\n",
       "Columns: [ISO Code, Country, Continent, Sub Continent, Income Group, (Travel & Tourism Development Index , 2021 Value), (Travel & Tourism Development Index , 2021 Rank), (Infrastructure subindex, 2021 Value), (Infrastructure subindex, 2021 Rank), (Safety and Security pillar, 2021 Value), (Safety and Security pillar, 2021 Rank), (Health and Hygiene pillar, 2021 Value), (Health and Hygiene pillar, 2021 Rank), (International Openness pillar, 2021 Value), (International Openness pillar, 2021 Rank), (Price competitiveness pillar, 2021 Value), (Price competitiveness pillar, 2021 Rank), (Natural Resources pillar, 2021 Value), (Natural Resources pillar, 2021 Rank), (Cultural Resources pillar, 2021 Value), (Cultural Resources pillar, 2021 Rank), (Environmental Sustainability pillar, 2021 Value), (Environmental Sustainability pillar, 2021 Rank)]\n",
       "Index: []\n",
       "\n",
       "[0 rows x 23 columns]"
      ]
     },
     "execution_count": 24,
     "metadata": {},
     "output_type": "execute_result"
    }
   ],
   "source": [
    "# Check duplicates\n",
    "wef[wef['Country'].duplicated(keep=False)]"
   ]
  },
  {
   "cell_type": "code",
   "execution_count": 25,
   "id": "8930d4f6",
   "metadata": {
    "pycharm": {
     "name": "#%%\n"
    }
   },
   "outputs": [],
   "source": [
    "# capitalize the first letter and remove any extra spaces\n",
    "wef['Country'] = wef['Country'].str.title()\n",
    "wef['Country'] = wef['Country'].str.strip()"
   ]
  },
  {
   "cell_type": "markdown",
   "id": "7b548796",
   "metadata": {
    "pycharm": {
     "name": "#%% md\n"
    }
   },
   "source": [
    "##### Set new columns that classify each index into Very good, Good, Limited"
   ]
  },
  {
   "cell_type": "code",
   "execution_count": 26,
   "id": "b2f7dd70",
   "metadata": {
    "pycharm": {
     "name": "#%%\n"
    }
   },
   "outputs": [],
   "source": [
    "# Infrastructure subindex\n",
    "conditions = [(wef[ ('Infrastructure subindex', '2021 Rank')] <= 38), (wef[('Infrastructure subindex', '2021 Rank')] >= 78)]\n",
    "choices = [\"Very good\", \"Limited\"]\n",
    "wef[\"Infrastructure subindex, classification\"] = np.select(conditions, choices, default = \"Good\")"
   ]
  },
  {
   "cell_type": "code",
   "execution_count": 27,
   "id": "3cb00235",
   "metadata": {
    "pycharm": {
     "name": "#%%\n"
    }
   },
   "outputs": [],
   "source": [
    "# Safety and Security pillar\n",
    "conditions = [(wef[('Safety and Security pillar', '2021 Rank')] <= 38), (wef[ ('Safety and Security pillar', '2021 Rank')] >= 78)]\n",
    "choices = [\"Very good\", \"Limited\"]\n",
    "wef[\"Safety and Security, Classification\"] = np.select(conditions, choices, default = \"Good\")"
   ]
  },
  {
   "cell_type": "code",
   "execution_count": 28,
   "id": "586d4258",
   "metadata": {
    "pycharm": {
     "name": "#%%\n"
    }
   },
   "outputs": [],
   "source": [
    "# Health and Hygiene pillar\n",
    "conditions = [(wef[('Health and Hygiene pillar', '2021 Rank')] <= 38), (wef[('Health and Hygiene pillar', '2021 Rank')] >= 78)]\n",
    "choices = [\"Very good\", \"Limited\"]\n",
    "wef[\"Health and Hygiene, Classification\"] = np.select(conditions, choices, default = \"Good\")"
   ]
  },
  {
   "cell_type": "code",
   "execution_count": 29,
   "id": "d510dd86",
   "metadata": {
    "pycharm": {
     "name": "#%%\n"
    }
   },
   "outputs": [],
   "source": [
    "# International Openness pillar\n",
    "conditions = [(wef[('International Openness pillar', '2021 Rank')] <= 38), (wef[('International Openness pillar', '2021 Rank')] >= 78)]\n",
    "choices = [\"Very good\", \"Limited\"]\n",
    "wef[\"International Openess, Classification\"] = np.select(conditions, choices, default = \"Good\")"
   ]
  },
  {
   "cell_type": "code",
   "execution_count": 30,
   "id": "01df6132",
   "metadata": {
    "pycharm": {
     "name": "#%%\n"
    }
   },
   "outputs": [],
   "source": [
    "# Price competitiveness pillar\n",
    "conditions = [(wef[('Price competitiveness pillar', '2021 Rank')] <= 38), (wef[ ('Price competitiveness pillar', '2021 Rank')] >= 78)]\n",
    "choices = [\"Very good\", \"Limited\"]\n",
    "wef[\"Price competitiveness, Classification\"] = np.select(conditions, choices, default = \"Good\")"
   ]
  },
  {
   "cell_type": "code",
   "execution_count": 31,
   "id": "89534e8b",
   "metadata": {
    "pycharm": {
     "name": "#%%\n"
    }
   },
   "outputs": [],
   "source": [
    "# Natural Resources pillar\n",
    "conditions = [(wef[('Natural Resources pillar', '2021 Rank')] <= 38), (wef[('Natural Resources pillar', '2021 Rank')] >= 78)]\n",
    "choices = [\"Very good\", \"Limited\"]\n",
    "wef[\"Natural Resources, Classification\"] = np.select(conditions, choices, default = \"Good\")"
   ]
  },
  {
   "cell_type": "code",
   "execution_count": 32,
   "id": "817d5cd6",
   "metadata": {
    "pycharm": {
     "name": "#%%\n"
    }
   },
   "outputs": [],
   "source": [
    "# Cultural Resources pillar\n",
    "conditions = [(wef[('Cultural Resources pillar', '2021 Rank')] <= 38), (wef[('Cultural Resources pillar', '2021 Rank')] >= 78)]\n",
    "choices = [\"Very good\", \"Limited\"]\n",
    "wef[\"Cultural Resources, Classification\"] = np.select(conditions, choices, default = \"Good\")"
   ]
  },
  {
   "cell_type": "code",
   "execution_count": 33,
   "id": "013908a3",
   "metadata": {
    "pycharm": {
     "name": "#%%\n"
    }
   },
   "outputs": [],
   "source": [
    "# Environmental Sustainability pillar\n",
    "conditions = [(wef[('Environmental Sustainability pillar', '2021 Rank')] <= 38), (wef[('Environmental Sustainability pillar', '2021 Rank')] >= 78)]\n",
    "choices = [\"Very good\", \"Limited\"]\n",
    "wef[\"Environmental Sustainability, Classification\"] = np.select(conditions, choices, default = \"Good\")"
   ]
  },
  {
   "cell_type": "code",
   "execution_count": 34,
   "id": "bd7c05f6",
   "metadata": {
    "pycharm": {
     "name": "#%%\n"
    }
   },
   "outputs": [
    {
     "data": {
      "text/plain": [
       "Limited      40\n",
       "Good         39\n",
       "Very good    38\n",
       "Name: Cultural Resources, Classification, dtype: int64"
      ]
     },
     "execution_count": 34,
     "metadata": {},
     "output_type": "execute_result"
    }
   ],
   "source": [
    "wef['Cultural Resources, Classification'].value_counts()"
   ]
  },
  {
   "cell_type": "markdown",
   "id": "9789a611",
   "metadata": {
    "pycharm": {
     "name": "#%% md\n"
    }
   },
   "source": [
    "#### Population dataset"
   ]
  },
  {
   "cell_type": "code",
   "execution_count": 35,
   "id": "35e4b504",
   "metadata": {
    "pycharm": {
     "name": "#%%\n"
    }
   },
   "outputs": [
    {
     "data": {
      "text/html": [
       "<div>\n",
       "<style scoped>\n",
       "    .dataframe tbody tr th:only-of-type {\n",
       "        vertical-align: middle;\n",
       "    }\n",
       "\n",
       "    .dataframe tbody tr th {\n",
       "        vertical-align: top;\n",
       "    }\n",
       "\n",
       "    .dataframe thead th {\n",
       "        text-align: right;\n",
       "    }\n",
       "</style>\n",
       "<table border=\"1\" class=\"dataframe\">\n",
       "  <thead>\n",
       "    <tr style=\"text-align: right;\">\n",
       "      <th></th>\n",
       "      <th>Country Name</th>\n",
       "      <th>Country Code</th>\n",
       "      <th>Indicator Name</th>\n",
       "      <th>Indicator Code</th>\n",
       "      <th>1960</th>\n",
       "      <th>1961</th>\n",
       "      <th>1962</th>\n",
       "      <th>1963</th>\n",
       "      <th>1964</th>\n",
       "      <th>1965</th>\n",
       "      <th>...</th>\n",
       "      <th>2012</th>\n",
       "      <th>2013</th>\n",
       "      <th>2014</th>\n",
       "      <th>2015</th>\n",
       "      <th>2016</th>\n",
       "      <th>2017</th>\n",
       "      <th>2018</th>\n",
       "      <th>2019</th>\n",
       "      <th>2020</th>\n",
       "      <th>2021</th>\n",
       "    </tr>\n",
       "  </thead>\n",
       "  <tbody>\n",
       "    <tr>\n",
       "      <th>0</th>\n",
       "      <td>Aruba</td>\n",
       "      <td>ABW</td>\n",
       "      <td>Population, total</td>\n",
       "      <td>SP.POP.TOTL</td>\n",
       "      <td>54208.0</td>\n",
       "      <td>55434.0</td>\n",
       "      <td>56234.0</td>\n",
       "      <td>56699.0</td>\n",
       "      <td>57029.0</td>\n",
       "      <td>57357.0</td>\n",
       "      <td>...</td>\n",
       "      <td>102565.0</td>\n",
       "      <td>103165.0</td>\n",
       "      <td>103776.0</td>\n",
       "      <td>104339.0</td>\n",
       "      <td>104865.0</td>\n",
       "      <td>105361.0</td>\n",
       "      <td>105846.0</td>\n",
       "      <td>106310.0</td>\n",
       "      <td>106766.0</td>\n",
       "      <td>107195.0</td>\n",
       "    </tr>\n",
       "    <tr>\n",
       "      <th>1</th>\n",
       "      <td>Africa Eastern and Southern</td>\n",
       "      <td>AFE</td>\n",
       "      <td>Population, total</td>\n",
       "      <td>SP.POP.TOTL</td>\n",
       "      <td>130836765.0</td>\n",
       "      <td>134159786.0</td>\n",
       "      <td>137614644.0</td>\n",
       "      <td>141202036.0</td>\n",
       "      <td>144920186.0</td>\n",
       "      <td>148769974.0</td>\n",
       "      <td>...</td>\n",
       "      <td>547482863.0</td>\n",
       "      <td>562601578.0</td>\n",
       "      <td>578075373.0</td>\n",
       "      <td>593871847.0</td>\n",
       "      <td>609978946.0</td>\n",
       "      <td>626392880.0</td>\n",
       "      <td>643090131.0</td>\n",
       "      <td>660046272.0</td>\n",
       "      <td>677243299.0</td>\n",
       "      <td>694665117.0</td>\n",
       "    </tr>\n",
       "    <tr>\n",
       "      <th>2</th>\n",
       "      <td>Afghanistan</td>\n",
       "      <td>AFG</td>\n",
       "      <td>Population, total</td>\n",
       "      <td>SP.POP.TOTL</td>\n",
       "      <td>8996967.0</td>\n",
       "      <td>9169406.0</td>\n",
       "      <td>9351442.0</td>\n",
       "      <td>9543200.0</td>\n",
       "      <td>9744772.0</td>\n",
       "      <td>9956318.0</td>\n",
       "      <td>...</td>\n",
       "      <td>31161378.0</td>\n",
       "      <td>32269592.0</td>\n",
       "      <td>33370804.0</td>\n",
       "      <td>34413603.0</td>\n",
       "      <td>35383028.0</td>\n",
       "      <td>36296111.0</td>\n",
       "      <td>37171922.0</td>\n",
       "      <td>38041757.0</td>\n",
       "      <td>38928341.0</td>\n",
       "      <td>39835428.0</td>\n",
       "    </tr>\n",
       "    <tr>\n",
       "      <th>3</th>\n",
       "      <td>Africa Western and Central</td>\n",
       "      <td>AFW</td>\n",
       "      <td>Population, total</td>\n",
       "      <td>SP.POP.TOTL</td>\n",
       "      <td>96396419.0</td>\n",
       "      <td>98407221.0</td>\n",
       "      <td>100506960.0</td>\n",
       "      <td>102691339.0</td>\n",
       "      <td>104953470.0</td>\n",
       "      <td>107289875.0</td>\n",
       "      <td>...</td>\n",
       "      <td>370243017.0</td>\n",
       "      <td>380437896.0</td>\n",
       "      <td>390882979.0</td>\n",
       "      <td>401586651.0</td>\n",
       "      <td>412551299.0</td>\n",
       "      <td>423769930.0</td>\n",
       "      <td>435229381.0</td>\n",
       "      <td>446911598.0</td>\n",
       "      <td>458803476.0</td>\n",
       "      <td>470898870.0</td>\n",
       "    </tr>\n",
       "    <tr>\n",
       "      <th>4</th>\n",
       "      <td>Angola</td>\n",
       "      <td>AGO</td>\n",
       "      <td>Population, total</td>\n",
       "      <td>SP.POP.TOTL</td>\n",
       "      <td>5454938.0</td>\n",
       "      <td>5531451.0</td>\n",
       "      <td>5608499.0</td>\n",
       "      <td>5679409.0</td>\n",
       "      <td>5734995.0</td>\n",
       "      <td>5770573.0</td>\n",
       "      <td>...</td>\n",
       "      <td>25107925.0</td>\n",
       "      <td>26015786.0</td>\n",
       "      <td>26941773.0</td>\n",
       "      <td>27884380.0</td>\n",
       "      <td>28842482.0</td>\n",
       "      <td>29816769.0</td>\n",
       "      <td>30809787.0</td>\n",
       "      <td>31825299.0</td>\n",
       "      <td>32866268.0</td>\n",
       "      <td>33933611.0</td>\n",
       "    </tr>\n",
       "  </tbody>\n",
       "</table>\n",
       "<p>5 rows × 66 columns</p>\n",
       "</div>"
      ],
      "text/plain": [
       "                  Country Name Country Code     Indicator Name Indicator Code  \\\n",
       "0                        Aruba          ABW  Population, total    SP.POP.TOTL   \n",
       "1  Africa Eastern and Southern          AFE  Population, total    SP.POP.TOTL   \n",
       "2                  Afghanistan          AFG  Population, total    SP.POP.TOTL   \n",
       "3   Africa Western and Central          AFW  Population, total    SP.POP.TOTL   \n",
       "4                       Angola          AGO  Population, total    SP.POP.TOTL   \n",
       "\n",
       "          1960         1961         1962         1963         1964  \\\n",
       "0      54208.0      55434.0      56234.0      56699.0      57029.0   \n",
       "1  130836765.0  134159786.0  137614644.0  141202036.0  144920186.0   \n",
       "2    8996967.0    9169406.0    9351442.0    9543200.0    9744772.0   \n",
       "3   96396419.0   98407221.0  100506960.0  102691339.0  104953470.0   \n",
       "4    5454938.0    5531451.0    5608499.0    5679409.0    5734995.0   \n",
       "\n",
       "          1965  ...         2012         2013         2014         2015  \\\n",
       "0      57357.0  ...     102565.0     103165.0     103776.0     104339.0   \n",
       "1  148769974.0  ...  547482863.0  562601578.0  578075373.0  593871847.0   \n",
       "2    9956318.0  ...   31161378.0   32269592.0   33370804.0   34413603.0   \n",
       "3  107289875.0  ...  370243017.0  380437896.0  390882979.0  401586651.0   \n",
       "4    5770573.0  ...   25107925.0   26015786.0   26941773.0   27884380.0   \n",
       "\n",
       "          2016         2017         2018         2019         2020  \\\n",
       "0     104865.0     105361.0     105846.0     106310.0     106766.0   \n",
       "1  609978946.0  626392880.0  643090131.0  660046272.0  677243299.0   \n",
       "2   35383028.0   36296111.0   37171922.0   38041757.0   38928341.0   \n",
       "3  412551299.0  423769930.0  435229381.0  446911598.0  458803476.0   \n",
       "4   28842482.0   29816769.0   30809787.0   31825299.0   32866268.0   \n",
       "\n",
       "          2021  \n",
       "0     107195.0  \n",
       "1  694665117.0  \n",
       "2   39835428.0  \n",
       "3  470898870.0  \n",
       "4   33933611.0  \n",
       "\n",
       "[5 rows x 66 columns]"
      ]
     },
     "execution_count": 35,
     "metadata": {},
     "output_type": "execute_result"
    }
   ],
   "source": [
    "pop.head()"
   ]
  },
  {
   "cell_type": "code",
   "execution_count": 36,
   "id": "2d419d89",
   "metadata": {
    "pycharm": {
     "name": "#%%\n"
    }
   },
   "outputs": [
    {
     "data": {
      "text/plain": [
       "Indicator Name     Indicator Code\n",
       "Population, total  SP.POP.TOTL       266\n",
       "dtype: int64"
      ]
     },
     "execution_count": 36,
     "metadata": {},
     "output_type": "execute_result"
    }
   ],
   "source": [
    "pop[['Indicator Name', 'Indicator Code']].value_counts()"
   ]
  },
  {
   "cell_type": "code",
   "execution_count": 37,
   "id": "28a8b966",
   "metadata": {
    "pycharm": {
     "name": "#%%\n"
    }
   },
   "outputs": [
    {
     "name": "stdout",
     "output_type": "stream",
     "text": [
      "<class 'pandas.core.frame.DataFrame'>\n",
      "RangeIndex: 266 entries, 0 to 265\n",
      "Data columns (total 66 columns):\n",
      " #   Column          Non-Null Count  Dtype  \n",
      "---  ------          --------------  -----  \n",
      " 0   Country Name    266 non-null    object \n",
      " 1   Country Code    266 non-null    object \n",
      " 2   Indicator Name  266 non-null    object \n",
      " 3   Indicator Code  266 non-null    object \n",
      " 4   1960            264 non-null    float64\n",
      " 5   1961            264 non-null    float64\n",
      " 6   1962            264 non-null    float64\n",
      " 7   1963            264 non-null    float64\n",
      " 8   1964            264 non-null    float64\n",
      " 9   1965            264 non-null    float64\n",
      " 10  1966            264 non-null    float64\n",
      " 11  1967            264 non-null    float64\n",
      " 12  1968            264 non-null    float64\n",
      " 13  1969            264 non-null    float64\n",
      " 14  1970            264 non-null    float64\n",
      " 15  1971            264 non-null    float64\n",
      " 16  1972            264 non-null    float64\n",
      " 17  1973            264 non-null    float64\n",
      " 18  1974            264 non-null    float64\n",
      " 19  1975            264 non-null    float64\n",
      " 20  1976            264 non-null    float64\n",
      " 21  1977            264 non-null    float64\n",
      " 22  1978            264 non-null    float64\n",
      " 23  1979            264 non-null    float64\n",
      " 24  1980            264 non-null    float64\n",
      " 25  1981            264 non-null    float64\n",
      " 26  1982            264 non-null    float64\n",
      " 27  1983            264 non-null    float64\n",
      " 28  1984            264 non-null    float64\n",
      " 29  1985            264 non-null    float64\n",
      " 30  1986            264 non-null    float64\n",
      " 31  1987            264 non-null    float64\n",
      " 32  1988            264 non-null    float64\n",
      " 33  1989            264 non-null    float64\n",
      " 34  1990            265 non-null    float64\n",
      " 35  1991            265 non-null    float64\n",
      " 36  1992            264 non-null    float64\n",
      " 37  1993            264 non-null    float64\n",
      " 38  1994            264 non-null    float64\n",
      " 39  1995            265 non-null    float64\n",
      " 40  1996            265 non-null    float64\n",
      " 41  1997            265 non-null    float64\n",
      " 42  1998            265 non-null    float64\n",
      " 43  1999            265 non-null    float64\n",
      " 44  2000            265 non-null    float64\n",
      " 45  2001            265 non-null    float64\n",
      " 46  2002            265 non-null    float64\n",
      " 47  2003            265 non-null    float64\n",
      " 48  2004            265 non-null    float64\n",
      " 49  2005            265 non-null    float64\n",
      " 50  2006            265 non-null    float64\n",
      " 51  2007            265 non-null    float64\n",
      " 52  2008            265 non-null    float64\n",
      " 53  2009            265 non-null    float64\n",
      " 54  2010            265 non-null    float64\n",
      " 55  2011            265 non-null    float64\n",
      " 56  2012            264 non-null    float64\n",
      " 57  2013            264 non-null    float64\n",
      " 58  2014            264 non-null    float64\n",
      " 59  2015            264 non-null    float64\n",
      " 60  2016            264 non-null    float64\n",
      " 61  2017            264 non-null    float64\n",
      " 62  2018            264 non-null    float64\n",
      " 63  2019            264 non-null    float64\n",
      " 64  2020            264 non-null    float64\n",
      " 65  2021            264 non-null    float64\n",
      "dtypes: float64(62), object(4)\n",
      "memory usage: 137.3+ KB\n"
     ]
    }
   ],
   "source": [
    "pop.info()"
   ]
  },
  {
   "cell_type": "code",
   "execution_count": 38,
   "id": "e3d8889f",
   "metadata": {
    "pycharm": {
     "name": "#%%\n"
    }
   },
   "outputs": [
    {
     "data": {
      "text/plain": [
       "Country Name      0\n",
       "Country Code      0\n",
       "Indicator Name    0\n",
       "Indicator Code    0\n",
       "1960              2\n",
       "                 ..\n",
       "2017              2\n",
       "2018              2\n",
       "2019              2\n",
       "2020              2\n",
       "2021              2\n",
       "Length: 66, dtype: int64"
      ]
     },
     "execution_count": 38,
     "metadata": {},
     "output_type": "execute_result"
    }
   ],
   "source": [
    "pop.isna().sum()"
   ]
  },
  {
   "cell_type": "code",
   "execution_count": 39,
   "id": "08110c02",
   "metadata": {
    "pycharm": {
     "name": "#%%\n"
    }
   },
   "outputs": [
    {
     "data": {
      "text/html": [
       "<div>\n",
       "<style scoped>\n",
       "    .dataframe tbody tr th:only-of-type {\n",
       "        vertical-align: middle;\n",
       "    }\n",
       "\n",
       "    .dataframe tbody tr th {\n",
       "        vertical-align: top;\n",
       "    }\n",
       "\n",
       "    .dataframe thead th {\n",
       "        text-align: right;\n",
       "    }\n",
       "</style>\n",
       "<table border=\"1\" class=\"dataframe\">\n",
       "  <thead>\n",
       "    <tr style=\"text-align: right;\">\n",
       "      <th></th>\n",
       "      <th>Country Name</th>\n",
       "      <th>Country Code</th>\n",
       "      <th>Indicator Name</th>\n",
       "      <th>Indicator Code</th>\n",
       "      <th>1960</th>\n",
       "      <th>1961</th>\n",
       "      <th>1962</th>\n",
       "      <th>1963</th>\n",
       "      <th>1964</th>\n",
       "      <th>1965</th>\n",
       "      <th>...</th>\n",
       "      <th>2012</th>\n",
       "      <th>2013</th>\n",
       "      <th>2014</th>\n",
       "      <th>2015</th>\n",
       "      <th>2016</th>\n",
       "      <th>2017</th>\n",
       "      <th>2018</th>\n",
       "      <th>2019</th>\n",
       "      <th>2020</th>\n",
       "      <th>2021</th>\n",
       "    </tr>\n",
       "  </thead>\n",
       "  <tbody>\n",
       "    <tr>\n",
       "      <th>69</th>\n",
       "      <td>Eritrea</td>\n",
       "      <td>ERI</td>\n",
       "      <td>Population, total</td>\n",
       "      <td>SP.POP.TOTL</td>\n",
       "      <td>1007586.0</td>\n",
       "      <td>1033320.0</td>\n",
       "      <td>1060489.0</td>\n",
       "      <td>1088859.0</td>\n",
       "      <td>1118152.0</td>\n",
       "      <td>1148188.0</td>\n",
       "      <td>...</td>\n",
       "      <td>NaN</td>\n",
       "      <td>NaN</td>\n",
       "      <td>NaN</td>\n",
       "      <td>NaN</td>\n",
       "      <td>NaN</td>\n",
       "      <td>NaN</td>\n",
       "      <td>NaN</td>\n",
       "      <td>NaN</td>\n",
       "      <td>NaN</td>\n",
       "      <td>NaN</td>\n",
       "    </tr>\n",
       "    <tr>\n",
       "      <th>110</th>\n",
       "      <td>Not classified</td>\n",
       "      <td>INX</td>\n",
       "      <td>Population, total</td>\n",
       "      <td>SP.POP.TOTL</td>\n",
       "      <td>NaN</td>\n",
       "      <td>NaN</td>\n",
       "      <td>NaN</td>\n",
       "      <td>NaN</td>\n",
       "      <td>NaN</td>\n",
       "      <td>NaN</td>\n",
       "      <td>...</td>\n",
       "      <td>NaN</td>\n",
       "      <td>NaN</td>\n",
       "      <td>NaN</td>\n",
       "      <td>NaN</td>\n",
       "      <td>NaN</td>\n",
       "      <td>NaN</td>\n",
       "      <td>NaN</td>\n",
       "      <td>NaN</td>\n",
       "      <td>NaN</td>\n",
       "      <td>NaN</td>\n",
       "    </tr>\n",
       "  </tbody>\n",
       "</table>\n",
       "<p>2 rows × 66 columns</p>\n",
       "</div>"
      ],
      "text/plain": [
       "       Country Name Country Code     Indicator Name Indicator Code       1960  \\\n",
       "69          Eritrea          ERI  Population, total    SP.POP.TOTL  1007586.0   \n",
       "110  Not classified          INX  Population, total    SP.POP.TOTL        NaN   \n",
       "\n",
       "          1961       1962       1963       1964       1965  ...  2012  2013  \\\n",
       "69   1033320.0  1060489.0  1088859.0  1118152.0  1148188.0  ...   NaN   NaN   \n",
       "110        NaN        NaN        NaN        NaN        NaN  ...   NaN   NaN   \n",
       "\n",
       "     2014  2015  2016  2017  2018  2019  2020  2021  \n",
       "69    NaN   NaN   NaN   NaN   NaN   NaN   NaN   NaN  \n",
       "110   NaN   NaN   NaN   NaN   NaN   NaN   NaN   NaN  \n",
       "\n",
       "[2 rows x 66 columns]"
      ]
     },
     "execution_count": 39,
     "metadata": {},
     "output_type": "execute_result"
    }
   ],
   "source": [
    "pop[pop[[\"2021\"]].isnull().any(axis=1)]"
   ]
  },
  {
   "cell_type": "code",
   "execution_count": 40,
   "id": "3b72c10f",
   "metadata": {
    "pycharm": {
     "name": "#%%\n"
    }
   },
   "outputs": [
    {
     "data": {
      "text/html": [
       "<div>\n",
       "<style scoped>\n",
       "    .dataframe tbody tr th:only-of-type {\n",
       "        vertical-align: middle;\n",
       "    }\n",
       "\n",
       "    .dataframe tbody tr th {\n",
       "        vertical-align: top;\n",
       "    }\n",
       "\n",
       "    .dataframe thead th {\n",
       "        text-align: right;\n",
       "    }\n",
       "</style>\n",
       "<table border=\"1\" class=\"dataframe\">\n",
       "  <thead>\n",
       "    <tr style=\"text-align: right;\">\n",
       "      <th></th>\n",
       "      <th>Country Name</th>\n",
       "      <th>Country Code</th>\n",
       "      <th>Indicator Name</th>\n",
       "      <th>Indicator Code</th>\n",
       "      <th>1960</th>\n",
       "      <th>1961</th>\n",
       "      <th>1962</th>\n",
       "      <th>1963</th>\n",
       "      <th>1964</th>\n",
       "      <th>1965</th>\n",
       "      <th>...</th>\n",
       "      <th>2012</th>\n",
       "      <th>2013</th>\n",
       "      <th>2014</th>\n",
       "      <th>2015</th>\n",
       "      <th>2016</th>\n",
       "      <th>2017</th>\n",
       "      <th>2018</th>\n",
       "      <th>2019</th>\n",
       "      <th>2020</th>\n",
       "      <th>2021</th>\n",
       "    </tr>\n",
       "  </thead>\n",
       "  <tbody>\n",
       "  </tbody>\n",
       "</table>\n",
       "<p>0 rows × 66 columns</p>\n",
       "</div>"
      ],
      "text/plain": [
       "Empty DataFrame\n",
       "Columns: [Country Name, Country Code, Indicator Name, Indicator Code, 1960, 1961, 1962, 1963, 1964, 1965, 1966, 1967, 1968, 1969, 1970, 1971, 1972, 1973, 1974, 1975, 1976, 1977, 1978, 1979, 1980, 1981, 1982, 1983, 1984, 1985, 1986, 1987, 1988, 1989, 1990, 1991, 1992, 1993, 1994, 1995, 1996, 1997, 1998, 1999, 2000, 2001, 2002, 2003, 2004, 2005, 2006, 2007, 2008, 2009, 2010, 2011, 2012, 2013, 2014, 2015, 2016, 2017, 2018, 2019, 2020, 2021]\n",
       "Index: []\n",
       "\n",
       "[0 rows x 66 columns]"
      ]
     },
     "execution_count": 40,
     "metadata": {},
     "output_type": "execute_result"
    }
   ],
   "source": [
    "pop[pop.duplicated(subset=['Country Name'])==True]"
   ]
  },
  {
   "cell_type": "markdown",
   "id": "f6ab800a",
   "metadata": {
    "pycharm": {
     "name": "#%% md\n"
    }
   },
   "source": [
    "Given the exploration done in the pop dataset, we can conclude that for the next step in the cleaning and transformations, we wish to keep only the \"Country Name\", \" Country Code\", and the most recent year 2021 (which we will rename to pop_2021). Moreover, to make sure that the dataset is homogeneous we will capitalize the first letter of each word in the \"Country Name\" column. We can also see that there is two null values in 2021, which will be handled."
   ]
  },
  {
   "cell_type": "code",
   "execution_count": 41,
   "id": "1fc661e2",
   "metadata": {
    "pycharm": {
     "name": "#%%\n"
    }
   },
   "outputs": [],
   "source": [
    "# Select the columns we are interest in\n",
    "pop = pop[[\"Country Name\", \"Country Code\", \"2021\"]]"
   ]
  },
  {
   "cell_type": "code",
   "execution_count": 42,
   "id": "58be157c",
   "metadata": {
    "pycharm": {
     "name": "#%%\n"
    }
   },
   "outputs": [],
   "source": [
    "# Rename the columns\n",
    "pop = pop.rename(columns = {\"2021\": \"Pop_2021\", \"Country Name\": \"Country\"})"
   ]
  },
  {
   "cell_type": "code",
   "execution_count": 43,
   "id": "c1993a49",
   "metadata": {
    "pycharm": {
     "name": "#%%\n"
    }
   },
   "outputs": [],
   "source": [
    "# Capitalise the first letter of each word in the Country column, and remove any extra spaces\n",
    "pop[\"Country\"] = pop[\"Country\"].str.title()\n",
    "pop[\"Country\"] = pop[\"Country\"].str.strip()"
   ]
  },
  {
   "cell_type": "code",
   "execution_count": 44,
   "id": "c8943c16",
   "metadata": {
    "pycharm": {
     "name": "#%%\n"
    }
   },
   "outputs": [],
   "source": [
    "# Remove empty rows\n",
    "pop = pop.dropna()"
   ]
  },
  {
   "cell_type": "markdown",
   "id": "b7183368",
   "metadata": {
    "pycharm": {
     "name": "#%% md\n"
    }
   },
   "source": [
    "#### Climate dataset"
   ]
  },
  {
   "cell_type": "code",
   "execution_count": 45,
   "id": "5458a5ee",
   "metadata": {
    "pycharm": {
     "name": "#%%\n"
    }
   },
   "outputs": [
    {
     "data": {
      "text/html": [
       "<div>\n",
       "<style scoped>\n",
       "    .dataframe tbody tr th:only-of-type {\n",
       "        vertical-align: middle;\n",
       "    }\n",
       "\n",
       "    .dataframe tbody tr th {\n",
       "        vertical-align: top;\n",
       "    }\n",
       "\n",
       "    .dataframe thead th {\n",
       "        text-align: right;\n",
       "    }\n",
       "</style>\n",
       "<table border=\"1\" class=\"dataframe\">\n",
       "  <thead>\n",
       "    <tr style=\"text-align: right;\">\n",
       "      <th></th>\n",
       "      <th>COUNTRY</th>\n",
       "      <th>DESCRIPTION</th>\n",
       "    </tr>\n",
       "  </thead>\n",
       "  <tbody>\n",
       "    <tr>\n",
       "      <th>0</th>\n",
       "      <td>Afghanistan</td>\n",
       "      <td>arid to semiarid; cold winters and hot summers</td>\n",
       "    </tr>\n",
       "    <tr>\n",
       "      <th>1</th>\n",
       "      <td>Akrotiri</td>\n",
       "      <td>temperate; Mediterranean with hot, dry summers...</td>\n",
       "    </tr>\n",
       "    <tr>\n",
       "      <th>2</th>\n",
       "      <td>Albania</td>\n",
       "      <td>mild temperate; cool, cloudy, wet winters; hot...</td>\n",
       "    </tr>\n",
       "    <tr>\n",
       "      <th>3</th>\n",
       "      <td>Algeria</td>\n",
       "      <td>arid to semiarid; mild, wet winters with hot, ...</td>\n",
       "    </tr>\n",
       "    <tr>\n",
       "      <th>4</th>\n",
       "      <td>American Samoa</td>\n",
       "      <td>tropical marine, moderated by southeast trade ...</td>\n",
       "    </tr>\n",
       "  </tbody>\n",
       "</table>\n",
       "</div>"
      ],
      "text/plain": [
       "          COUNTRY                                        DESCRIPTION\n",
       "0     Afghanistan     arid to semiarid; cold winters and hot summers\n",
       "1        Akrotiri  temperate; Mediterranean with hot, dry summers...\n",
       "2         Albania  mild temperate; cool, cloudy, wet winters; hot...\n",
       "3         Algeria  arid to semiarid; mild, wet winters with hot, ...\n",
       "4  American Samoa  tropical marine, moderated by southeast trade ..."
      ]
     },
     "execution_count": 45,
     "metadata": {},
     "output_type": "execute_result"
    }
   ],
   "source": [
    "clim.head()"
   ]
  },
  {
   "cell_type": "code",
   "execution_count": 46,
   "id": "94925272",
   "metadata": {
    "pycharm": {
     "name": "#%%\n"
    }
   },
   "outputs": [
    {
     "name": "stdout",
     "output_type": "stream",
     "text": [
      "<class 'pandas.core.frame.DataFrame'>\n",
      "RangeIndex: 277 entries, 0 to 276\n",
      "Data columns (total 2 columns):\n",
      " #   Column       Non-Null Count  Dtype \n",
      "---  ------       --------------  ----- \n",
      " 0   COUNTRY      277 non-null    object\n",
      " 1   DESCRIPTION  277 non-null    object\n",
      "dtypes: object(2)\n",
      "memory usage: 4.5+ KB\n"
     ]
    }
   ],
   "source": [
    "clim.info()"
   ]
  },
  {
   "cell_type": "code",
   "execution_count": 47,
   "id": "6c4d4990",
   "metadata": {
    "pycharm": {
     "name": "#%%\n"
    }
   },
   "outputs": [
    {
     "data": {
      "text/plain": [
       "COUNTRY        0\n",
       "DESCRIPTION    0\n",
       "dtype: int64"
      ]
     },
     "execution_count": 47,
     "metadata": {},
     "output_type": "execute_result"
    }
   ],
   "source": [
    "clim.isna().sum()"
   ]
  },
  {
   "cell_type": "code",
   "execution_count": 48,
   "id": "edc45b30",
   "metadata": {
    "pycharm": {
     "name": "#%%\n"
    }
   },
   "outputs": [
    {
     "data": {
      "text/html": [
       "<div>\n",
       "<style scoped>\n",
       "    .dataframe tbody tr th:only-of-type {\n",
       "        vertical-align: middle;\n",
       "    }\n",
       "\n",
       "    .dataframe tbody tr th {\n",
       "        vertical-align: top;\n",
       "    }\n",
       "\n",
       "    .dataframe thead th {\n",
       "        text-align: right;\n",
       "    }\n",
       "</style>\n",
       "<table border=\"1\" class=\"dataframe\">\n",
       "  <thead>\n",
       "    <tr style=\"text-align: right;\">\n",
       "      <th></th>\n",
       "      <th>COUNTRY</th>\n",
       "      <th>DESCRIPTION</th>\n",
       "    </tr>\n",
       "  </thead>\n",
       "  <tbody>\n",
       "  </tbody>\n",
       "</table>\n",
       "</div>"
      ],
      "text/plain": [
       "Empty DataFrame\n",
       "Columns: [COUNTRY, DESCRIPTION]\n",
       "Index: []"
      ]
     },
     "execution_count": 48,
     "metadata": {},
     "output_type": "execute_result"
    }
   ],
   "source": [
    "clim[clim.duplicated(subset=['COUNTRY'], keep=False)==True]"
   ]
  },
  {
   "cell_type": "markdown",
   "id": "92042541",
   "metadata": {
    "pycharm": {
     "name": "#%% md\n"
    }
   },
   "source": [
    "Given the exploration done in the clim dataset, we can conclude that for the next step in the cleaning and transformations, we wish to keep all the columns, but rename them. Moreover, to make sure that the dataset is homogeneous we will capitalize the first letter of each word in the \"COUNTRY\" and \"DESCRIPTION\" column. We can also see that there is no null values, hence no handling of missing values is needed in this case."
   ]
  },
  {
   "cell_type": "code",
   "execution_count": 49,
   "id": "4728dc4d",
   "metadata": {
    "pycharm": {
     "name": "#%%\n"
    }
   },
   "outputs": [],
   "source": [
    "# Rename the columns\n",
    "clim = clim.rename(columns = {\"COUNTRY\": \"Country\", \"DESCRIPTION\": \"Climate\"})"
   ]
  },
  {
   "cell_type": "code",
   "execution_count": 50,
   "id": "f718ba03",
   "metadata": {
    "pycharm": {
     "name": "#%%\n"
    }
   },
   "outputs": [],
   "source": [
    "# Capitalise the first letter of each word in the Country and Climate column, and remove any extra spaces in the Country column\n",
    "clim[\"Country\"] = clim[\"Country\"].str.title()\n",
    "clim[\"Country\"] = clim[\"Country\"].str.strip()\n",
    "clim[\"Climate\"] = clim[\"Climate\"].str.title()"
   ]
  },
  {
   "cell_type": "code",
   "execution_count": 51,
   "id": "61ede55d",
   "metadata": {
    "pycharm": {
     "name": "#%%\n"
    }
   },
   "outputs": [],
   "source": [
    "# Set a new column that classifies climates \n",
    "conditions = [(clim[\"Climate\"].str.contains(\"Tropical|Arid|Semiarid|Desert\")),\n",
    "              (clim[\"Climate\"].str.contains(\"Temperate|Continental|Hot Summers|Cold Winters|Warm Summers|\" )),\n",
    "              (clim[\"Climate\"].str.contains(\"Mediterranean|Subtropical\")),\n",
    "              (clim[\"Climate\"].str.contains(\"Highland\")), \n",
    "              (clim[\"Climate\"].str.contains(\"Polar|Antarctic|Arctic\")),\n",
    "              (clim[\"Climate\"].str.contains(\"Equatorial\"))]\n",
    "\n",
    "choices = [\"Tropical\", \"Temperate\", \"Subtropical\", \"Highland\", \"Polar\", \"Equatorial\" ]\n",
    "clim[\"Climate Zone\"] = np.select(conditions, choices, default=None)"
   ]
  },
  {
   "cell_type": "code",
   "execution_count": 52,
   "id": "d73ee745",
   "metadata": {
    "pycharm": {
     "name": "#%%\n"
    }
   },
   "outputs": [
    {
     "data": {
      "text/html": [
       "<div>\n",
       "<style scoped>\n",
       "    .dataframe tbody tr th:only-of-type {\n",
       "        vertical-align: middle;\n",
       "    }\n",
       "\n",
       "    .dataframe tbody tr th {\n",
       "        vertical-align: top;\n",
       "    }\n",
       "\n",
       "    .dataframe thead th {\n",
       "        text-align: right;\n",
       "    }\n",
       "</style>\n",
       "<table border=\"1\" class=\"dataframe\">\n",
       "  <thead>\n",
       "    <tr style=\"text-align: right;\">\n",
       "      <th></th>\n",
       "      <th>Country</th>\n",
       "      <th>Climate</th>\n",
       "      <th>Climate Zone</th>\n",
       "    </tr>\n",
       "  </thead>\n",
       "  <tbody>\n",
       "    <tr>\n",
       "      <th>77</th>\n",
       "      <td>Estonia</td>\n",
       "      <td>Maritime; Wet, Moderate Winters, Cool Summers</td>\n",
       "      <td>None</td>\n",
       "    </tr>\n",
       "    <tr>\n",
       "      <th>81</th>\n",
       "      <td>Falkland Islands (Islas Malvinas)</td>\n",
       "      <td>Cold Marine; Strong Westerly Winds, Cloudy, Hu...</td>\n",
       "      <td>None</td>\n",
       "    </tr>\n",
       "    <tr>\n",
       "      <th>82</th>\n",
       "      <td>Faroe Islands</td>\n",
       "      <td>Mild Winters, Cool Summers; Usually Overcast; ...</td>\n",
       "      <td>None</td>\n",
       "    </tr>\n",
       "    <tr>\n",
       "      <th>104</th>\n",
       "      <td>Guinea</td>\n",
       "      <td>Generally Hot And Humid; Monsoonal-Type Rainy ...</td>\n",
       "      <td>None</td>\n",
       "    </tr>\n",
       "    <tr>\n",
       "      <th>140</th>\n",
       "      <td>Latvia</td>\n",
       "      <td>Maritime; Wet, Moderate Winters</td>\n",
       "      <td>None</td>\n",
       "    </tr>\n",
       "    <tr>\n",
       "      <th>162</th>\n",
       "      <td>Moldova</td>\n",
       "      <td>Moderate Winters, Warm Summers</td>\n",
       "      <td>None</td>\n",
       "    </tr>\n",
       "    <tr>\n",
       "      <th>211</th>\n",
       "      <td>Saint Martin</td>\n",
       "      <td>Temperature Averages 80-85 Degrees All Year Lo...</td>\n",
       "      <td>None</td>\n",
       "    </tr>\n",
       "    <tr>\n",
       "      <th>212</th>\n",
       "      <td>Saint Pierre And Miquelon</td>\n",
       "      <td>Cold And Wet, With Considerable Mist And Fog; ...</td>\n",
       "      <td>None</td>\n",
       "    </tr>\n",
       "    <tr>\n",
       "      <th>229</th>\n",
       "      <td>South Georgia And The South Sandwich Islands</td>\n",
       "      <td>Variable, With Mostly Westerly Winds Throughou...</td>\n",
       "      <td>None</td>\n",
       "    </tr>\n",
       "  </tbody>\n",
       "</table>\n",
       "</div>"
      ],
      "text/plain": [
       "                                          Country  \\\n",
       "77                                        Estonia   \n",
       "81              Falkland Islands (Islas Malvinas)   \n",
       "82                                  Faroe Islands   \n",
       "104                                        Guinea   \n",
       "140                                        Latvia   \n",
       "162                                       Moldova   \n",
       "211                                  Saint Martin   \n",
       "212                     Saint Pierre And Miquelon   \n",
       "229  South Georgia And The South Sandwich Islands   \n",
       "\n",
       "                                               Climate Climate Zone  \n",
       "77       Maritime; Wet, Moderate Winters, Cool Summers         None  \n",
       "81   Cold Marine; Strong Westerly Winds, Cloudy, Hu...         None  \n",
       "82   Mild Winters, Cool Summers; Usually Overcast; ...         None  \n",
       "104  Generally Hot And Humid; Monsoonal-Type Rainy ...         None  \n",
       "140                    Maritime; Wet, Moderate Winters         None  \n",
       "162                     Moderate Winters, Warm Summers         None  \n",
       "211  Temperature Averages 80-85 Degrees All Year Lo...         None  \n",
       "212  Cold And Wet, With Considerable Mist And Fog; ...         None  \n",
       "229  Variable, With Mostly Westerly Winds Throughou...         None  "
      ]
     },
     "execution_count": 52,
     "metadata": {},
     "output_type": "execute_result"
    }
   ],
   "source": [
    "clim[clim['Climate Zone'].isnull()]"
   ]
  },
  {
   "cell_type": "markdown",
   "id": "ac7ff58d",
   "metadata": {
    "pycharm": {
     "name": "#%% md\n"
    }
   },
   "source": [
    "#### Currency dataset"
   ]
  },
  {
   "cell_type": "code",
   "execution_count": 53,
   "id": "12764367",
   "metadata": {
    "pycharm": {
     "name": "#%%\n"
    }
   },
   "outputs": [
    {
     "data": {
      "text/html": [
       "<div>\n",
       "<style scoped>\n",
       "    .dataframe tbody tr th:only-of-type {\n",
       "        vertical-align: middle;\n",
       "    }\n",
       "\n",
       "    .dataframe tbody tr th {\n",
       "        vertical-align: top;\n",
       "    }\n",
       "\n",
       "    .dataframe thead th {\n",
       "        text-align: right;\n",
       "    }\n",
       "</style>\n",
       "<table border=\"1\" class=\"dataframe\">\n",
       "  <thead>\n",
       "    <tr style=\"text-align: right;\">\n",
       "      <th></th>\n",
       "      <th>Entity</th>\n",
       "      <th>Currency</th>\n",
       "      <th>AlphabeticCode</th>\n",
       "      <th>NumericCode</th>\n",
       "      <th>MinorUnit</th>\n",
       "      <th>WithdrawalDate</th>\n",
       "    </tr>\n",
       "  </thead>\n",
       "  <tbody>\n",
       "    <tr>\n",
       "      <th>0</th>\n",
       "      <td>AFGHANISTAN</td>\n",
       "      <td>Afghani</td>\n",
       "      <td>AFN</td>\n",
       "      <td>971.0</td>\n",
       "      <td>2</td>\n",
       "      <td>NaN</td>\n",
       "    </tr>\n",
       "    <tr>\n",
       "      <th>1</th>\n",
       "      <td>ÅLAND ISLANDS</td>\n",
       "      <td>Euro</td>\n",
       "      <td>EUR</td>\n",
       "      <td>978.0</td>\n",
       "      <td>2</td>\n",
       "      <td>NaN</td>\n",
       "    </tr>\n",
       "    <tr>\n",
       "      <th>2</th>\n",
       "      <td>ALBANIA</td>\n",
       "      <td>Lek</td>\n",
       "      <td>ALL</td>\n",
       "      <td>8.0</td>\n",
       "      <td>2</td>\n",
       "      <td>NaN</td>\n",
       "    </tr>\n",
       "    <tr>\n",
       "      <th>3</th>\n",
       "      <td>ALGERIA</td>\n",
       "      <td>Algerian Dinar</td>\n",
       "      <td>DZD</td>\n",
       "      <td>12.0</td>\n",
       "      <td>2</td>\n",
       "      <td>NaN</td>\n",
       "    </tr>\n",
       "    <tr>\n",
       "      <th>4</th>\n",
       "      <td>AMERICAN SAMOA</td>\n",
       "      <td>US Dollar</td>\n",
       "      <td>USD</td>\n",
       "      <td>840.0</td>\n",
       "      <td>2</td>\n",
       "      <td>NaN</td>\n",
       "    </tr>\n",
       "  </tbody>\n",
       "</table>\n",
       "</div>"
      ],
      "text/plain": [
       "           Entity        Currency AlphabeticCode  NumericCode MinorUnit  \\\n",
       "0     AFGHANISTAN         Afghani            AFN        971.0         2   \n",
       "1   ÅLAND ISLANDS            Euro            EUR        978.0         2   \n",
       "2         ALBANIA             Lek            ALL          8.0         2   \n",
       "3         ALGERIA  Algerian Dinar            DZD         12.0         2   \n",
       "4  AMERICAN SAMOA       US Dollar            USD        840.0         2   \n",
       "\n",
       "  WithdrawalDate  \n",
       "0            NaN  \n",
       "1            NaN  \n",
       "2            NaN  \n",
       "3            NaN  \n",
       "4            NaN  "
      ]
     },
     "execution_count": 53,
     "metadata": {},
     "output_type": "execute_result"
    }
   ],
   "source": [
    "curr.head()"
   ]
  },
  {
   "cell_type": "code",
   "execution_count": 54,
   "id": "f7774e71",
   "metadata": {
    "pycharm": {
     "name": "#%%\n"
    }
   },
   "outputs": [
    {
     "name": "stdout",
     "output_type": "stream",
     "text": [
      "<class 'pandas.core.frame.DataFrame'>\n",
      "RangeIndex: 441 entries, 0 to 440\n",
      "Data columns (total 6 columns):\n",
      " #   Column          Non-Null Count  Dtype  \n",
      "---  ------          --------------  -----  \n",
      " 0   Entity          441 non-null    object \n",
      " 1   Currency        441 non-null    object \n",
      " 2   AlphabeticCode  438 non-null    object \n",
      " 3   NumericCode     435 non-null    float64\n",
      " 4   MinorUnit       276 non-null    object \n",
      " 5   WithdrawalDate  162 non-null    object \n",
      "dtypes: float64(1), object(5)\n",
      "memory usage: 20.8+ KB\n"
     ]
    }
   ],
   "source": [
    "curr.info()"
   ]
  },
  {
   "cell_type": "code",
   "execution_count": 55,
   "id": "af516d26",
   "metadata": {
    "pycharm": {
     "name": "#%%\n"
    }
   },
   "outputs": [
    {
     "data": {
      "text/plain": [
       "Entity              0\n",
       "Currency            0\n",
       "AlphabeticCode      3\n",
       "NumericCode         6\n",
       "MinorUnit         165\n",
       "WithdrawalDate    279\n",
       "dtype: int64"
      ]
     },
     "execution_count": 55,
     "metadata": {},
     "output_type": "execute_result"
    }
   ],
   "source": [
    "curr.isna().sum()"
   ]
  },
  {
   "cell_type": "code",
   "execution_count": 56,
   "id": "380e7492",
   "metadata": {
    "pycharm": {
     "name": "#%%\n"
    }
   },
   "outputs": [
    {
     "data": {
      "text/html": [
       "<div>\n",
       "<style scoped>\n",
       "    .dataframe tbody tr th:only-of-type {\n",
       "        vertical-align: middle;\n",
       "    }\n",
       "\n",
       "    .dataframe tbody tr th {\n",
       "        vertical-align: top;\n",
       "    }\n",
       "\n",
       "    .dataframe thead th {\n",
       "        text-align: right;\n",
       "    }\n",
       "</style>\n",
       "<table border=\"1\" class=\"dataframe\">\n",
       "  <thead>\n",
       "    <tr style=\"text-align: right;\">\n",
       "      <th></th>\n",
       "      <th>Entity</th>\n",
       "      <th>Currency</th>\n",
       "      <th>AlphabeticCode</th>\n",
       "      <th>NumericCode</th>\n",
       "      <th>MinorUnit</th>\n",
       "      <th>WithdrawalDate</th>\n",
       "    </tr>\n",
       "  </thead>\n",
       "  <tbody>\n",
       "    <tr>\n",
       "      <th>8</th>\n",
       "      <td>ANTARCTICA</td>\n",
       "      <td>No universal currency</td>\n",
       "      <td>NaN</td>\n",
       "      <td>NaN</td>\n",
       "      <td>NaN</td>\n",
       "      <td>NaN</td>\n",
       "    </tr>\n",
       "    <tr>\n",
       "      <th>183</th>\n",
       "      <td>PALESTINE, STATE OF</td>\n",
       "      <td>No universal currency</td>\n",
       "      <td>NaN</td>\n",
       "      <td>NaN</td>\n",
       "      <td>NaN</td>\n",
       "      <td>NaN</td>\n",
       "    </tr>\n",
       "    <tr>\n",
       "      <th>222</th>\n",
       "      <td>SOUTH GEORGIA AND THE SOUTH SANDWICH ISLANDS</td>\n",
       "      <td>No universal currency</td>\n",
       "      <td>NaN</td>\n",
       "      <td>NaN</td>\n",
       "      <td>NaN</td>\n",
       "      <td>NaN</td>\n",
       "    </tr>\n",
       "  </tbody>\n",
       "</table>\n",
       "</div>"
      ],
      "text/plain": [
       "                                           Entity               Currency  \\\n",
       "8                                      ANTARCTICA  No universal currency   \n",
       "183                           PALESTINE, STATE OF  No universal currency   \n",
       "222  SOUTH GEORGIA AND THE SOUTH SANDWICH ISLANDS  No universal currency   \n",
       "\n",
       "    AlphabeticCode  NumericCode MinorUnit WithdrawalDate  \n",
       "8              NaN          NaN       NaN            NaN  \n",
       "183            NaN          NaN       NaN            NaN  \n",
       "222            NaN          NaN       NaN            NaN  "
      ]
     },
     "execution_count": 56,
     "metadata": {},
     "output_type": "execute_result"
    }
   ],
   "source": [
    "curr[curr[[\"AlphabeticCode\"]].isnull().any(axis=1)]"
   ]
  },
  {
   "cell_type": "code",
   "execution_count": 57,
   "id": "c8f8afb0",
   "metadata": {
    "pycharm": {
     "name": "#%%\n"
    }
   },
   "outputs": [
    {
     "data": {
      "text/html": [
       "<div>\n",
       "<style scoped>\n",
       "    .dataframe tbody tr th:only-of-type {\n",
       "        vertical-align: middle;\n",
       "    }\n",
       "\n",
       "    .dataframe tbody tr th {\n",
       "        vertical-align: top;\n",
       "    }\n",
       "\n",
       "    .dataframe thead th {\n",
       "        text-align: right;\n",
       "    }\n",
       "</style>\n",
       "<table border=\"1\" class=\"dataframe\">\n",
       "  <thead>\n",
       "    <tr style=\"text-align: right;\">\n",
       "      <th></th>\n",
       "      <th>Entity</th>\n",
       "      <th>Currency</th>\n",
       "      <th>AlphabeticCode</th>\n",
       "      <th>NumericCode</th>\n",
       "      <th>MinorUnit</th>\n",
       "      <th>WithdrawalDate</th>\n",
       "    </tr>\n",
       "  </thead>\n",
       "  <tbody>\n",
       "    <tr>\n",
       "      <th>279</th>\n",
       "      <td>AFGHANISTAN</td>\n",
       "      <td>Afghani</td>\n",
       "      <td>AFA</td>\n",
       "      <td>4.0</td>\n",
       "      <td>NaN</td>\n",
       "      <td>2003-01</td>\n",
       "    </tr>\n",
       "    <tr>\n",
       "      <th>280</th>\n",
       "      <td>ÅLAND ISLANDS</td>\n",
       "      <td>Markka</td>\n",
       "      <td>FIM</td>\n",
       "      <td>246.0</td>\n",
       "      <td>NaN</td>\n",
       "      <td>2002-03</td>\n",
       "    </tr>\n",
       "    <tr>\n",
       "      <th>281</th>\n",
       "      <td>ALBANIA</td>\n",
       "      <td>Old Lek</td>\n",
       "      <td>ALK</td>\n",
       "      <td>8.0</td>\n",
       "      <td>NaN</td>\n",
       "      <td>1989-12</td>\n",
       "    </tr>\n",
       "    <tr>\n",
       "      <th>282</th>\n",
       "      <td>ANDORRA</td>\n",
       "      <td>Andorran Peseta</td>\n",
       "      <td>ADP</td>\n",
       "      <td>20.0</td>\n",
       "      <td>NaN</td>\n",
       "      <td>2003-07</td>\n",
       "    </tr>\n",
       "    <tr>\n",
       "      <th>283</th>\n",
       "      <td>ANDORRA</td>\n",
       "      <td>Spanish Peseta</td>\n",
       "      <td>ESP</td>\n",
       "      <td>724.0</td>\n",
       "      <td>NaN</td>\n",
       "      <td>2002-03</td>\n",
       "    </tr>\n",
       "    <tr>\n",
       "      <th>...</th>\n",
       "      <td>...</td>\n",
       "      <td>...</td>\n",
       "      <td>...</td>\n",
       "      <td>...</td>\n",
       "      <td>...</td>\n",
       "      <td>...</td>\n",
       "    </tr>\n",
       "    <tr>\n",
       "      <th>436</th>\n",
       "      <td>ZIMBABWE</td>\n",
       "      <td>Zimbabwe Dollar (new)</td>\n",
       "      <td>ZWN</td>\n",
       "      <td>942.0</td>\n",
       "      <td>NaN</td>\n",
       "      <td>2006-09</td>\n",
       "    </tr>\n",
       "    <tr>\n",
       "      <th>437</th>\n",
       "      <td>ZIMBABWE</td>\n",
       "      <td>Zimbabwe Dollar</td>\n",
       "      <td>ZWR</td>\n",
       "      <td>935.0</td>\n",
       "      <td>NaN</td>\n",
       "      <td>2009-06</td>\n",
       "    </tr>\n",
       "    <tr>\n",
       "      <th>438</th>\n",
       "      <td>ZZ01_Gold-Franc</td>\n",
       "      <td>Gold-Franc</td>\n",
       "      <td>XFO</td>\n",
       "      <td>NaN</td>\n",
       "      <td>NaN</td>\n",
       "      <td>2006-10</td>\n",
       "    </tr>\n",
       "    <tr>\n",
       "      <th>439</th>\n",
       "      <td>ZZ02_RINET Funds Code</td>\n",
       "      <td>RINET Funds Code</td>\n",
       "      <td>XRE</td>\n",
       "      <td>NaN</td>\n",
       "      <td>NaN</td>\n",
       "      <td>1999-11</td>\n",
       "    </tr>\n",
       "    <tr>\n",
       "      <th>440</th>\n",
       "      <td>ZZ05_UIC-Franc</td>\n",
       "      <td>UIC-Franc</td>\n",
       "      <td>XFU</td>\n",
       "      <td>NaN</td>\n",
       "      <td>NaN</td>\n",
       "      <td>2013-11</td>\n",
       "    </tr>\n",
       "  </tbody>\n",
       "</table>\n",
       "<p>162 rows × 6 columns</p>\n",
       "</div>"
      ],
      "text/plain": [
       "                    Entity               Currency AlphabeticCode  NumericCode  \\\n",
       "279            AFGHANISTAN                Afghani            AFA          4.0   \n",
       "280          ÅLAND ISLANDS                 Markka            FIM        246.0   \n",
       "281                ALBANIA                Old Lek            ALK          8.0   \n",
       "282                ANDORRA        Andorran Peseta            ADP         20.0   \n",
       "283                ANDORRA         Spanish Peseta            ESP        724.0   \n",
       "..                     ...                    ...            ...          ...   \n",
       "436               ZIMBABWE  Zimbabwe Dollar (new)            ZWN        942.0   \n",
       "437               ZIMBABWE        Zimbabwe Dollar            ZWR        935.0   \n",
       "438        ZZ01_Gold-Franc             Gold-Franc            XFO          NaN   \n",
       "439  ZZ02_RINET Funds Code       RINET Funds Code            XRE          NaN   \n",
       "440         ZZ05_UIC-Franc              UIC-Franc            XFU          NaN   \n",
       "\n",
       "    MinorUnit WithdrawalDate  \n",
       "279       NaN        2003-01  \n",
       "280       NaN        2002-03  \n",
       "281       NaN        1989-12  \n",
       "282       NaN        2003-07  \n",
       "283       NaN        2002-03  \n",
       "..        ...            ...  \n",
       "436       NaN        2006-09  \n",
       "437       NaN        2009-06  \n",
       "438       NaN        2006-10  \n",
       "439       NaN        1999-11  \n",
       "440       NaN        2013-11  \n",
       "\n",
       "[162 rows x 6 columns]"
      ]
     },
     "execution_count": 57,
     "metadata": {},
     "output_type": "execute_result"
    }
   ],
   "source": [
    "curr[curr[[\"WithdrawalDate\"]].notnull().any(axis=1)]"
   ]
  },
  {
   "cell_type": "markdown",
   "id": "fe0a3ded",
   "metadata": {
    "pycharm": {
     "name": "#%% md\n"
    }
   },
   "source": [
    "Given the exploration done in the curr dataset, we can conclude that for the next step in the cleaning and transformations, we wish to keep only the \"Entity\", \"Currency\", and \"AlphabeticCode\" columns, but rename them. Moreover, to make sure that the dataset is homogeneous we will capitalize the first letter of each word in the \"Entity\" and \"Currency\" column. We can also see that there is three null values in the \"AlphabeticCode\" column, which will be handled. In addition, there are a number of currencies which are no longer used, we will them subset this dataset to only contain currently accepted currencies."
   ]
  },
  {
   "cell_type": "code",
   "execution_count": 58,
   "id": "d74ed484",
   "metadata": {
    "pycharm": {
     "name": "#%%\n"
    }
   },
   "outputs": [],
   "source": [
    "# Drop rows with Null values in Alphabetic Code as those are not officially recognized countries\n",
    "curr.dropna(subset=['AlphabeticCode'], inplace=True)"
   ]
  },
  {
   "cell_type": "code",
   "execution_count": 59,
   "id": "50e82921",
   "metadata": {
    "pycharm": {
     "name": "#%%\n"
    }
   },
   "outputs": [],
   "source": [
    "# Keep only the rows without a withdrawal date\n",
    "curr = curr[curr[[\"WithdrawalDate\"]].isnull().any(axis=1)]"
   ]
  },
  {
   "cell_type": "code",
   "execution_count": 60,
   "id": "56576dc3",
   "metadata": {
    "pycharm": {
     "name": "#%%\n"
    }
   },
   "outputs": [
    {
     "data": {
      "text/html": [
       "<div>\n",
       "<style scoped>\n",
       "    .dataframe tbody tr th:only-of-type {\n",
       "        vertical-align: middle;\n",
       "    }\n",
       "\n",
       "    .dataframe tbody tr th {\n",
       "        vertical-align: top;\n",
       "    }\n",
       "\n",
       "    .dataframe thead th {\n",
       "        text-align: right;\n",
       "    }\n",
       "</style>\n",
       "<table border=\"1\" class=\"dataframe\">\n",
       "  <thead>\n",
       "    <tr style=\"text-align: right;\">\n",
       "      <th></th>\n",
       "      <th>Entity</th>\n",
       "      <th>Currency</th>\n",
       "      <th>AlphabeticCode</th>\n",
       "      <th>NumericCode</th>\n",
       "      <th>MinorUnit</th>\n",
       "      <th>WithdrawalDate</th>\n",
       "    </tr>\n",
       "  </thead>\n",
       "  <tbody>\n",
       "    <tr>\n",
       "      <th>25</th>\n",
       "      <td>BHUTAN</td>\n",
       "      <td>Indian Rupee</td>\n",
       "      <td>INR</td>\n",
       "      <td>356.0</td>\n",
       "      <td>2</td>\n",
       "      <td>NaN</td>\n",
       "    </tr>\n",
       "    <tr>\n",
       "      <th>26</th>\n",
       "      <td>BHUTAN</td>\n",
       "      <td>Ngultrum</td>\n",
       "      <td>BTN</td>\n",
       "      <td>64.0</td>\n",
       "      <td>2</td>\n",
       "      <td>NaN</td>\n",
       "    </tr>\n",
       "    <tr>\n",
       "      <th>27</th>\n",
       "      <td>BOLIVIA (PLURINATIONAL STATE OF)</td>\n",
       "      <td>Boliviano</td>\n",
       "      <td>BOB</td>\n",
       "      <td>68.0</td>\n",
       "      <td>2</td>\n",
       "      <td>NaN</td>\n",
       "    </tr>\n",
       "    <tr>\n",
       "      <th>28</th>\n",
       "      <td>BOLIVIA (PLURINATIONAL STATE OF)</td>\n",
       "      <td>Mvdol</td>\n",
       "      <td>BOV</td>\n",
       "      <td>984.0</td>\n",
       "      <td>2</td>\n",
       "      <td>NaN</td>\n",
       "    </tr>\n",
       "    <tr>\n",
       "      <th>46</th>\n",
       "      <td>CHILE</td>\n",
       "      <td>Chilean Peso</td>\n",
       "      <td>CLP</td>\n",
       "      <td>152.0</td>\n",
       "      <td>0</td>\n",
       "      <td>NaN</td>\n",
       "    </tr>\n",
       "    <tr>\n",
       "      <th>47</th>\n",
       "      <td>CHILE</td>\n",
       "      <td>Unidad de Fomento</td>\n",
       "      <td>CLF</td>\n",
       "      <td>990.0</td>\n",
       "      <td>4</td>\n",
       "      <td>NaN</td>\n",
       "    </tr>\n",
       "    <tr>\n",
       "      <th>51</th>\n",
       "      <td>COLOMBIA</td>\n",
       "      <td>Colombian Peso</td>\n",
       "      <td>COP</td>\n",
       "      <td>170.0</td>\n",
       "      <td>2</td>\n",
       "      <td>NaN</td>\n",
       "    </tr>\n",
       "    <tr>\n",
       "      <th>52</th>\n",
       "      <td>COLOMBIA</td>\n",
       "      <td>Unidad de Valor Real</td>\n",
       "      <td>COU</td>\n",
       "      <td>970.0</td>\n",
       "      <td>2</td>\n",
       "      <td>NaN</td>\n",
       "    </tr>\n",
       "    <tr>\n",
       "      <th>60</th>\n",
       "      <td>CUBA</td>\n",
       "      <td>Cuban Peso</td>\n",
       "      <td>CUP</td>\n",
       "      <td>192.0</td>\n",
       "      <td>2</td>\n",
       "      <td>NaN</td>\n",
       "    </tr>\n",
       "    <tr>\n",
       "      <th>61</th>\n",
       "      <td>CUBA</td>\n",
       "      <td>Peso Convertible</td>\n",
       "      <td>CUC</td>\n",
       "      <td>931.0</td>\n",
       "      <td>2</td>\n",
       "      <td>NaN</td>\n",
       "    </tr>\n",
       "    <tr>\n",
       "      <th>71</th>\n",
       "      <td>EL SALVADOR</td>\n",
       "      <td>El Salvador Colon</td>\n",
       "      <td>SVC</td>\n",
       "      <td>222.0</td>\n",
       "      <td>2</td>\n",
       "      <td>NaN</td>\n",
       "    </tr>\n",
       "    <tr>\n",
       "      <th>72</th>\n",
       "      <td>EL SALVADOR</td>\n",
       "      <td>US Dollar</td>\n",
       "      <td>USD</td>\n",
       "      <td>840.0</td>\n",
       "      <td>2</td>\n",
       "      <td>NaN</td>\n",
       "    </tr>\n",
       "    <tr>\n",
       "      <th>103</th>\n",
       "      <td>HAITI</td>\n",
       "      <td>Gourde</td>\n",
       "      <td>HTG</td>\n",
       "      <td>332.0</td>\n",
       "      <td>2</td>\n",
       "      <td>NaN</td>\n",
       "    </tr>\n",
       "    <tr>\n",
       "      <th>104</th>\n",
       "      <td>HAITI</td>\n",
       "      <td>US Dollar</td>\n",
       "      <td>USD</td>\n",
       "      <td>840.0</td>\n",
       "      <td>2</td>\n",
       "      <td>NaN</td>\n",
       "    </tr>\n",
       "    <tr>\n",
       "      <th>134</th>\n",
       "      <td>LESOTHO</td>\n",
       "      <td>Loti</td>\n",
       "      <td>LSL</td>\n",
       "      <td>426.0</td>\n",
       "      <td>2</td>\n",
       "      <td>NaN</td>\n",
       "    </tr>\n",
       "    <tr>\n",
       "      <th>135</th>\n",
       "      <td>LESOTHO</td>\n",
       "      <td>Rand</td>\n",
       "      <td>ZAR</td>\n",
       "      <td>710.0</td>\n",
       "      <td>2</td>\n",
       "      <td>NaN</td>\n",
       "    </tr>\n",
       "    <tr>\n",
       "      <th>155</th>\n",
       "      <td>MEXICO</td>\n",
       "      <td>Mexican Peso</td>\n",
       "      <td>MXN</td>\n",
       "      <td>484.0</td>\n",
       "      <td>2</td>\n",
       "      <td>NaN</td>\n",
       "    </tr>\n",
       "    <tr>\n",
       "      <th>156</th>\n",
       "      <td>MEXICO</td>\n",
       "      <td>Mexican Unidad de Inversion (UDI)</td>\n",
       "      <td>MXV</td>\n",
       "      <td>979.0</td>\n",
       "      <td>2</td>\n",
       "      <td>NaN</td>\n",
       "    </tr>\n",
       "    <tr>\n",
       "      <th>166</th>\n",
       "      <td>NAMIBIA</td>\n",
       "      <td>Namibia Dollar</td>\n",
       "      <td>NAD</td>\n",
       "      <td>516.0</td>\n",
       "      <td>2</td>\n",
       "      <td>NaN</td>\n",
       "    </tr>\n",
       "    <tr>\n",
       "      <th>167</th>\n",
       "      <td>NAMIBIA</td>\n",
       "      <td>Rand</td>\n",
       "      <td>ZAR</td>\n",
       "      <td>710.0</td>\n",
       "      <td>2</td>\n",
       "      <td>NaN</td>\n",
       "    </tr>\n",
       "    <tr>\n",
       "      <th>184</th>\n",
       "      <td>PANAMA</td>\n",
       "      <td>Balboa</td>\n",
       "      <td>PAB</td>\n",
       "      <td>590.0</td>\n",
       "      <td>2</td>\n",
       "      <td>NaN</td>\n",
       "    </tr>\n",
       "    <tr>\n",
       "      <th>185</th>\n",
       "      <td>PANAMA</td>\n",
       "      <td>US Dollar</td>\n",
       "      <td>USD</td>\n",
       "      <td>840.0</td>\n",
       "      <td>2</td>\n",
       "      <td>NaN</td>\n",
       "    </tr>\n",
       "    <tr>\n",
       "      <th>230</th>\n",
       "      <td>SWITZERLAND</td>\n",
       "      <td>Swiss Franc</td>\n",
       "      <td>CHF</td>\n",
       "      <td>756.0</td>\n",
       "      <td>2</td>\n",
       "      <td>NaN</td>\n",
       "    </tr>\n",
       "    <tr>\n",
       "      <th>231</th>\n",
       "      <td>SWITZERLAND</td>\n",
       "      <td>WIR Euro</td>\n",
       "      <td>CHE</td>\n",
       "      <td>947.0</td>\n",
       "      <td>2</td>\n",
       "      <td>NaN</td>\n",
       "    </tr>\n",
       "    <tr>\n",
       "      <th>232</th>\n",
       "      <td>SWITZERLAND</td>\n",
       "      <td>WIR Franc</td>\n",
       "      <td>CHW</td>\n",
       "      <td>948.0</td>\n",
       "      <td>2</td>\n",
       "      <td>NaN</td>\n",
       "    </tr>\n",
       "    <tr>\n",
       "      <th>253</th>\n",
       "      <td>UNITED STATES OF AMERICA (THE)</td>\n",
       "      <td>US Dollar</td>\n",
       "      <td>USD</td>\n",
       "      <td>840.0</td>\n",
       "      <td>2</td>\n",
       "      <td>NaN</td>\n",
       "    </tr>\n",
       "    <tr>\n",
       "      <th>254</th>\n",
       "      <td>UNITED STATES OF AMERICA (THE)</td>\n",
       "      <td>US Dollar (Next day)</td>\n",
       "      <td>USN</td>\n",
       "      <td>997.0</td>\n",
       "      <td>2</td>\n",
       "      <td>NaN</td>\n",
       "    </tr>\n",
       "    <tr>\n",
       "      <th>255</th>\n",
       "      <td>URUGUAY</td>\n",
       "      <td>Peso Uruguayo</td>\n",
       "      <td>UYU</td>\n",
       "      <td>858.0</td>\n",
       "      <td>2</td>\n",
       "      <td>NaN</td>\n",
       "    </tr>\n",
       "    <tr>\n",
       "      <th>256</th>\n",
       "      <td>URUGUAY</td>\n",
       "      <td>Uruguay Peso en Unidades Indexadas (UI)</td>\n",
       "      <td>UYI</td>\n",
       "      <td>940.0</td>\n",
       "      <td>0</td>\n",
       "      <td>NaN</td>\n",
       "    </tr>\n",
       "    <tr>\n",
       "      <th>257</th>\n",
       "      <td>URUGUAY</td>\n",
       "      <td>Unidad Previsional</td>\n",
       "      <td>UYW</td>\n",
       "      <td>927.0</td>\n",
       "      <td>4</td>\n",
       "      <td>NaN</td>\n",
       "    </tr>\n",
       "  </tbody>\n",
       "</table>\n",
       "</div>"
      ],
      "text/plain": [
       "                               Entity  \\\n",
       "25                             BHUTAN   \n",
       "26                             BHUTAN   \n",
       "27   BOLIVIA (PLURINATIONAL STATE OF)   \n",
       "28   BOLIVIA (PLURINATIONAL STATE OF)   \n",
       "46                              CHILE   \n",
       "47                              CHILE   \n",
       "51                           COLOMBIA   \n",
       "52                           COLOMBIA   \n",
       "60                               CUBA   \n",
       "61                               CUBA   \n",
       "71                        EL SALVADOR   \n",
       "72                        EL SALVADOR   \n",
       "103                             HAITI   \n",
       "104                             HAITI   \n",
       "134                           LESOTHO   \n",
       "135                           LESOTHO   \n",
       "155                            MEXICO   \n",
       "156                            MEXICO   \n",
       "166                           NAMIBIA   \n",
       "167                           NAMIBIA   \n",
       "184                            PANAMA   \n",
       "185                            PANAMA   \n",
       "230                       SWITZERLAND   \n",
       "231                       SWITZERLAND   \n",
       "232                       SWITZERLAND   \n",
       "253    UNITED STATES OF AMERICA (THE)   \n",
       "254    UNITED STATES OF AMERICA (THE)   \n",
       "255                           URUGUAY   \n",
       "256                           URUGUAY   \n",
       "257                           URUGUAY   \n",
       "\n",
       "                                    Currency AlphabeticCode  NumericCode  \\\n",
       "25                              Indian Rupee            INR        356.0   \n",
       "26                                  Ngultrum            BTN         64.0   \n",
       "27                                 Boliviano            BOB         68.0   \n",
       "28                                     Mvdol            BOV        984.0   \n",
       "46                              Chilean Peso            CLP        152.0   \n",
       "47                         Unidad de Fomento            CLF        990.0   \n",
       "51                            Colombian Peso            COP        170.0   \n",
       "52                      Unidad de Valor Real            COU        970.0   \n",
       "60                                Cuban Peso            CUP        192.0   \n",
       "61                          Peso Convertible            CUC        931.0   \n",
       "71                         El Salvador Colon            SVC        222.0   \n",
       "72                                 US Dollar            USD        840.0   \n",
       "103                                   Gourde            HTG        332.0   \n",
       "104                                US Dollar            USD        840.0   \n",
       "134                                     Loti            LSL        426.0   \n",
       "135                                     Rand            ZAR        710.0   \n",
       "155                             Mexican Peso            MXN        484.0   \n",
       "156        Mexican Unidad de Inversion (UDI)            MXV        979.0   \n",
       "166                           Namibia Dollar            NAD        516.0   \n",
       "167                                     Rand            ZAR        710.0   \n",
       "184                                   Balboa            PAB        590.0   \n",
       "185                                US Dollar            USD        840.0   \n",
       "230                              Swiss Franc            CHF        756.0   \n",
       "231                                 WIR Euro            CHE        947.0   \n",
       "232                                WIR Franc            CHW        948.0   \n",
       "253                                US Dollar            USD        840.0   \n",
       "254                     US Dollar (Next day)            USN        997.0   \n",
       "255                            Peso Uruguayo            UYU        858.0   \n",
       "256  Uruguay Peso en Unidades Indexadas (UI)            UYI        940.0   \n",
       "257                       Unidad Previsional            UYW        927.0   \n",
       "\n",
       "    MinorUnit WithdrawalDate  \n",
       "25          2            NaN  \n",
       "26          2            NaN  \n",
       "27          2            NaN  \n",
       "28          2            NaN  \n",
       "46          0            NaN  \n",
       "47          4            NaN  \n",
       "51          2            NaN  \n",
       "52          2            NaN  \n",
       "60          2            NaN  \n",
       "61          2            NaN  \n",
       "71          2            NaN  \n",
       "72          2            NaN  \n",
       "103         2            NaN  \n",
       "104         2            NaN  \n",
       "134         2            NaN  \n",
       "135         2            NaN  \n",
       "155         2            NaN  \n",
       "156         2            NaN  \n",
       "166         2            NaN  \n",
       "167         2            NaN  \n",
       "184         2            NaN  \n",
       "185         2            NaN  \n",
       "230         2            NaN  \n",
       "231         2            NaN  \n",
       "232         2            NaN  \n",
       "253         2            NaN  \n",
       "254         2            NaN  \n",
       "255         2            NaN  \n",
       "256         0            NaN  \n",
       "257         4            NaN  "
      ]
     },
     "execution_count": 60,
     "metadata": {},
     "output_type": "execute_result"
    }
   ],
   "source": [
    "curr[curr.duplicated(subset=['Entity'], keep=False)==True]"
   ]
  },
  {
   "cell_type": "code",
   "execution_count": 61,
   "id": "1f3ebd2a",
   "metadata": {
    "pycharm": {
     "name": "#%%\n"
    }
   },
   "outputs": [
    {
     "data": {
      "text/html": [
       "<div>\n",
       "<style scoped>\n",
       "    .dataframe tbody tr th:only-of-type {\n",
       "        vertical-align: middle;\n",
       "    }\n",
       "\n",
       "    .dataframe tbody tr th {\n",
       "        vertical-align: top;\n",
       "    }\n",
       "\n",
       "    .dataframe thead th {\n",
       "        text-align: right;\n",
       "    }\n",
       "</style>\n",
       "<table border=\"1\" class=\"dataframe\">\n",
       "  <thead>\n",
       "    <tr style=\"text-align: right;\">\n",
       "      <th></th>\n",
       "      <th>Entity</th>\n",
       "      <th>Currency</th>\n",
       "      <th>AlphabeticCode</th>\n",
       "      <th>NumericCode</th>\n",
       "      <th>MinorUnit</th>\n",
       "      <th>WithdrawalDate</th>\n",
       "    </tr>\n",
       "  </thead>\n",
       "  <tbody>\n",
       "  </tbody>\n",
       "</table>\n",
       "</div>"
      ],
      "text/plain": [
       "Empty DataFrame\n",
       "Columns: [Entity, Currency, AlphabeticCode, NumericCode, MinorUnit, WithdrawalDate]\n",
       "Index: []"
      ]
     },
     "execution_count": 61,
     "metadata": {},
     "output_type": "execute_result"
    }
   ],
   "source": [
    "# drop duplicates by dropping the wrong currency with index\n",
    "curr = curr.drop(index=[25, 28, 47, 52, 60, 72, 103, 135, 156, 167, 185, 231, 232, 254, 256, 257])\n",
    "# check if duplicates were dropped well\n",
    "curr[curr.duplicated(subset=['Entity'], keep=False)==True]"
   ]
  },
  {
   "cell_type": "code",
   "execution_count": 62,
   "id": "d76a22e0",
   "metadata": {
    "pycharm": {
     "name": "#%%\n"
    }
   },
   "outputs": [],
   "source": [
    "# Select the columns to keep\n",
    "curr = curr[[\"Entity\", \"Currency\", \"AlphabeticCode\"]]"
   ]
  },
  {
   "cell_type": "code",
   "execution_count": 63,
   "id": "aa6644ea",
   "metadata": {
    "pycharm": {
     "name": "#%%\n"
    }
   },
   "outputs": [],
   "source": [
    "# Rename the columns\n",
    "curr = curr.rename(columns = {\"Entity\": \"Country\", \"AlphabeticCode\": \"Currency Code\"})"
   ]
  },
  {
   "cell_type": "code",
   "execution_count": 64,
   "id": "d8d13a08",
   "metadata": {
    "pycharm": {
     "name": "#%%\n"
    }
   },
   "outputs": [],
   "source": [
    "# Capitalise the first letter of each word in the Country and Currency columns, and remove any extra spaces in the country column. Remove any text after \"(\" in the country column.\n",
    "curr[\"Country\"] = curr[\"Country\"].str.title()\n",
    "curr[\"Country\"] = curr['Country'].str.partition(\"(\")[0]\n",
    "curr[\"Country\"] = curr[\"Country\"].str.strip()\n",
    "curr[\"Currency\"] = curr[\"Currency\"].str.title()"
   ]
  },
  {
   "cell_type": "markdown",
   "id": "ba63ffd4",
   "metadata": {
    "pycharm": {
     "name": "#%% md\n"
    }
   },
   "source": [
    "#### Language dataset"
   ]
  },
  {
   "cell_type": "code",
   "execution_count": 65,
   "id": "b64feb55",
   "metadata": {
    "pycharm": {
     "name": "#%%\n"
    }
   },
   "outputs": [
    {
     "data": {
      "text/html": [
       "<div>\n",
       "<style scoped>\n",
       "    .dataframe tbody tr th:only-of-type {\n",
       "        vertical-align: middle;\n",
       "    }\n",
       "\n",
       "    .dataframe tbody tr th {\n",
       "        vertical-align: top;\n",
       "    }\n",
       "\n",
       "    .dataframe thead th {\n",
       "        text-align: right;\n",
       "    }\n",
       "</style>\n",
       "<table border=\"1\" class=\"dataframe\">\n",
       "  <thead>\n",
       "    <tr style=\"text-align: right;\">\n",
       "      <th></th>\n",
       "      <th>Country</th>\n",
       "      <th>Languages Spoken</th>\n",
       "    </tr>\n",
       "  </thead>\n",
       "  <tbody>\n",
       "    <tr>\n",
       "      <th>0</th>\n",
       "      <td>Afghanistan</td>\n",
       "      <td>Dari Persian, Pashtu (both official), other Tu...</td>\n",
       "    </tr>\n",
       "    <tr>\n",
       "      <th>1</th>\n",
       "      <td>Albania</td>\n",
       "      <td>Albanian (Tosk is the official dialect), Greek</td>\n",
       "    </tr>\n",
       "    <tr>\n",
       "      <th>2</th>\n",
       "      <td>Algeria</td>\n",
       "      <td>Arabic (official), French, Berber dialects</td>\n",
       "    </tr>\n",
       "    <tr>\n",
       "      <th>3</th>\n",
       "      <td>Andorra</td>\n",
       "      <td>CatalÃ¡n (official), French, Castilian, Portug...</td>\n",
       "    </tr>\n",
       "    <tr>\n",
       "      <th>4</th>\n",
       "      <td>Angola</td>\n",
       "      <td>Portuguese (official), Bantu and other African...</td>\n",
       "    </tr>\n",
       "    <tr>\n",
       "      <th>5</th>\n",
       "      <td>Antigua and Barbuda</td>\n",
       "      <td>English (official), local dialects</td>\n",
       "    </tr>\n",
       "    <tr>\n",
       "      <th>6</th>\n",
       "      <td>Argentina</td>\n",
       "      <td>Spanish (official), English, Italian, German, ...</td>\n",
       "    </tr>\n",
       "    <tr>\n",
       "      <th>7</th>\n",
       "      <td>Armenia</td>\n",
       "      <td>Armenian 98%, Yezidi, Russian</td>\n",
       "    </tr>\n",
       "    <tr>\n",
       "      <th>8</th>\n",
       "      <td>Australia</td>\n",
       "      <td>English 79%, native and other languages</td>\n",
       "    </tr>\n",
       "    <tr>\n",
       "      <th>9</th>\n",
       "      <td>Austria</td>\n",
       "      <td>German (official nationwide); Slovene, Croatia...</td>\n",
       "    </tr>\n",
       "    <tr>\n",
       "      <th>10</th>\n",
       "      <td>Azerbaijan</td>\n",
       "      <td>Azerbaijani Turkic 89%, Russian 3%, Armenian 2...</td>\n",
       "    </tr>\n",
       "    <tr>\n",
       "      <th>11</th>\n",
       "      <td>Bahamas</td>\n",
       "      <td>English (official), Creole (among Haitian immi...</td>\n",
       "    </tr>\n",
       "    <tr>\n",
       "      <th>12</th>\n",
       "      <td>Bahrain</td>\n",
       "      <td>Arabic, English, Farsi, Urdu</td>\n",
       "    </tr>\n",
       "    <tr>\n",
       "      <th>13</th>\n",
       "      <td>Bangladesh</td>\n",
       "      <td>Bangla (official), English</td>\n",
       "    </tr>\n",
       "    <tr>\n",
       "      <th>14</th>\n",
       "      <td>Barbados</td>\n",
       "      <td>English</td>\n",
       "    </tr>\n",
       "    <tr>\n",
       "      <th>15</th>\n",
       "      <td>Belarus</td>\n",
       "      <td>Belorussian (White Russian), Russian, other</td>\n",
       "    </tr>\n",
       "    <tr>\n",
       "      <th>16</th>\n",
       "      <td>Belgium</td>\n",
       "      <td>Dutch 60%, French 40%, German (all official)</td>\n",
       "    </tr>\n",
       "    <tr>\n",
       "      <th>17</th>\n",
       "      <td>Belize</td>\n",
       "      <td>English (official), Spanish, Mayan, Garifuna (...</td>\n",
       "    </tr>\n",
       "    <tr>\n",
       "      <th>18</th>\n",
       "      <td>Benin</td>\n",
       "      <td>French (official), Fon, Yoruba, tribal languages</td>\n",
       "    </tr>\n",
       "    <tr>\n",
       "      <th>19</th>\n",
       "      <td>Bhutan</td>\n",
       "      <td>Dzongkha (official), Tibetan dialects (among B...</td>\n",
       "    </tr>\n",
       "    <tr>\n",
       "      <th>20</th>\n",
       "      <td>Bolivia</td>\n",
       "      <td>Spanish, Quechua, Aymara (all official)</td>\n",
       "    </tr>\n",
       "    <tr>\n",
       "      <th>21</th>\n",
       "      <td>Bosnia and Herzegovina</td>\n",
       "      <td>Bosnian, Croatian, Serbian</td>\n",
       "    </tr>\n",
       "    <tr>\n",
       "      <th>22</th>\n",
       "      <td>Botswana</td>\n",
       "      <td>English 2% (official), Setswana 78%, Kalanga 8...</td>\n",
       "    </tr>\n",
       "    <tr>\n",
       "      <th>23</th>\n",
       "      <td>Brazil</td>\n",
       "      <td>Portuguese (official), Spanish, English, French</td>\n",
       "    </tr>\n",
       "    <tr>\n",
       "      <th>24</th>\n",
       "      <td>Brunei</td>\n",
       "      <td>Malay (official), English, Chinese</td>\n",
       "    </tr>\n",
       "    <tr>\n",
       "      <th>25</th>\n",
       "      <td>Bulgaria</td>\n",
       "      <td>Bulgarian 85%, Turkish 10%, Roma 4%</td>\n",
       "    </tr>\n",
       "    <tr>\n",
       "      <th>26</th>\n",
       "      <td>Burkina Faso</td>\n",
       "      <td>French (official); native African (Sudanic) la...</td>\n",
       "    </tr>\n",
       "    <tr>\n",
       "      <th>27</th>\n",
       "      <td>Burundi</td>\n",
       "      <td>Kirundi and French (official), Swahili</td>\n",
       "    </tr>\n",
       "    <tr>\n",
       "      <th>28</th>\n",
       "      <td>Cambodia</td>\n",
       "      <td>Khmer 95% (official), French, English</td>\n",
       "    </tr>\n",
       "    <tr>\n",
       "      <th>29</th>\n",
       "      <td>Cameroon</td>\n",
       "      <td>French, English (both official); 24 major Afri...</td>\n",
       "    </tr>\n",
       "    <tr>\n",
       "      <th>30</th>\n",
       "      <td>Canada</td>\n",
       "      <td>English 59.3%, French 23.2% (both official); o...</td>\n",
       "    </tr>\n",
       "    <tr>\n",
       "      <th>31</th>\n",
       "      <td>Cape Verde</td>\n",
       "      <td>Portuguese, Criuolo</td>\n",
       "    </tr>\n",
       "    <tr>\n",
       "      <th>32</th>\n",
       "      <td>Central African Republic</td>\n",
       "      <td>French (official), Sangho (lingua franca, nati...</td>\n",
       "    </tr>\n",
       "    <tr>\n",
       "      <th>33</th>\n",
       "      <td>Chad</td>\n",
       "      <td>French, Arabic (both official); Sara; more tha...</td>\n",
       "    </tr>\n",
       "    <tr>\n",
       "      <th>34</th>\n",
       "      <td>Chile</td>\n",
       "      <td>Spanish</td>\n",
       "    </tr>\n",
       "    <tr>\n",
       "      <th>35</th>\n",
       "      <td>China</td>\n",
       "      <td>Mandarin, Cantonese (official), Wu (Shanghaies...</td>\n",
       "    </tr>\n",
       "    <tr>\n",
       "      <th>36</th>\n",
       "      <td>Colombia</td>\n",
       "      <td>Spanish</td>\n",
       "    </tr>\n",
       "    <tr>\n",
       "      <th>37</th>\n",
       "      <td>Comoros</td>\n",
       "      <td>Arabic and French (both official), Shikomoro (...</td>\n",
       "    </tr>\n",
       "    <tr>\n",
       "      <th>38</th>\n",
       "      <td>Congo, Democratic Republic of the</td>\n",
       "      <td>French (official), Lingala, Kingwana, Kikongo,...</td>\n",
       "    </tr>\n",
       "    <tr>\n",
       "      <th>39</th>\n",
       "      <td>Congo, Republic of</td>\n",
       "      <td>French (official), Lingala, Monokutuba, Kikong...</td>\n",
       "    </tr>\n",
       "    <tr>\n",
       "      <th>40</th>\n",
       "      <td>Costa Rica</td>\n",
       "      <td>Spanish (official), English</td>\n",
       "    </tr>\n",
       "    <tr>\n",
       "      <th>41</th>\n",
       "      <td>Cote d'Ivoire</td>\n",
       "      <td>French (official) and African languages (Dioul...</td>\n",
       "    </tr>\n",
       "    <tr>\n",
       "      <th>42</th>\n",
       "      <td>Croatia</td>\n",
       "      <td>Croatian 96% (official), other 4% (including I...</td>\n",
       "    </tr>\n",
       "    <tr>\n",
       "      <th>43</th>\n",
       "      <td>Cuba</td>\n",
       "      <td>Spanish</td>\n",
       "    </tr>\n",
       "    <tr>\n",
       "      <th>44</th>\n",
       "      <td>Cyprus</td>\n",
       "      <td>Greek, Turkish (both official); English</td>\n",
       "    </tr>\n",
       "    <tr>\n",
       "      <th>45</th>\n",
       "      <td>Czech Republic</td>\n",
       "      <td>Czech</td>\n",
       "    </tr>\n",
       "    <tr>\n",
       "      <th>46</th>\n",
       "      <td>Denmark</td>\n",
       "      <td>Danish, Faroese, Greenlandic (Inuit dialect), ...</td>\n",
       "    </tr>\n",
       "    <tr>\n",
       "      <th>47</th>\n",
       "      <td>Djibouti</td>\n",
       "      <td>French and Arabic (both official), Somali, Afar</td>\n",
       "    </tr>\n",
       "    <tr>\n",
       "      <th>48</th>\n",
       "      <td>Dominica</td>\n",
       "      <td>English (official) and French patois</td>\n",
       "    </tr>\n",
       "    <tr>\n",
       "      <th>49</th>\n",
       "      <td>Dominican Republic</td>\n",
       "      <td>Spanish</td>\n",
       "    </tr>\n",
       "  </tbody>\n",
       "</table>\n",
       "</div>"
      ],
      "text/plain": [
       "                              Country  \\\n",
       "0                         Afghanistan   \n",
       "1                             Albania   \n",
       "2                             Algeria   \n",
       "3                             Andorra   \n",
       "4                              Angola   \n",
       "5                 Antigua and Barbuda   \n",
       "6                           Argentina   \n",
       "7                             Armenia   \n",
       "8                           Australia   \n",
       "9                             Austria   \n",
       "10                         Azerbaijan   \n",
       "11                            Bahamas   \n",
       "12                            Bahrain   \n",
       "13                         Bangladesh   \n",
       "14                           Barbados   \n",
       "15                            Belarus   \n",
       "16                            Belgium   \n",
       "17                             Belize   \n",
       "18                              Benin   \n",
       "19                             Bhutan   \n",
       "20                            Bolivia   \n",
       "21             Bosnia and Herzegovina   \n",
       "22                           Botswana   \n",
       "23                             Brazil   \n",
       "24                             Brunei   \n",
       "25                           Bulgaria   \n",
       "26                       Burkina Faso   \n",
       "27                            Burundi   \n",
       "28                           Cambodia   \n",
       "29                           Cameroon   \n",
       "30                             Canada   \n",
       "31                         Cape Verde   \n",
       "32           Central African Republic   \n",
       "33                               Chad   \n",
       "34                              Chile   \n",
       "35                              China   \n",
       "36                           Colombia   \n",
       "37                            Comoros   \n",
       "38  Congo, Democratic Republic of the   \n",
       "39                 Congo, Republic of   \n",
       "40                         Costa Rica   \n",
       "41                      Cote d'Ivoire   \n",
       "42                            Croatia   \n",
       "43                               Cuba   \n",
       "44                             Cyprus   \n",
       "45                     Czech Republic   \n",
       "46                            Denmark   \n",
       "47                           Djibouti   \n",
       "48                           Dominica   \n",
       "49                 Dominican Republic   \n",
       "\n",
       "                                     Languages Spoken  \n",
       "0   Dari Persian, Pashtu (both official), other Tu...  \n",
       "1      Albanian (Tosk is the official dialect), Greek  \n",
       "2          Arabic (official), French, Berber dialects  \n",
       "3   CatalÃ¡n (official), French, Castilian, Portug...  \n",
       "4   Portuguese (official), Bantu and other African...  \n",
       "5                  English (official), local dialects  \n",
       "6   Spanish (official), English, Italian, German, ...  \n",
       "7                       Armenian 98%, Yezidi, Russian  \n",
       "8             English 79%, native and other languages  \n",
       "9   German (official nationwide); Slovene, Croatia...  \n",
       "10  Azerbaijani Turkic 89%, Russian 3%, Armenian 2...  \n",
       "11  English (official), Creole (among Haitian immi...  \n",
       "12                       Arabic, English, Farsi, Urdu  \n",
       "13                         Bangla (official), English  \n",
       "14                                            English  \n",
       "15        Belorussian (White Russian), Russian, other  \n",
       "16       Dutch 60%, French 40%, German (all official)  \n",
       "17  English (official), Spanish, Mayan, Garifuna (...  \n",
       "18   French (official), Fon, Yoruba, tribal languages  \n",
       "19  Dzongkha (official), Tibetan dialects (among B...  \n",
       "20            Spanish, Quechua, Aymara (all official)  \n",
       "21                         Bosnian, Croatian, Serbian  \n",
       "22  English 2% (official), Setswana 78%, Kalanga 8...  \n",
       "23    Portuguese (official), Spanish, English, French  \n",
       "24                 Malay (official), English, Chinese  \n",
       "25                Bulgarian 85%, Turkish 10%, Roma 4%  \n",
       "26  French (official); native African (Sudanic) la...  \n",
       "27             Kirundi and French (official), Swahili  \n",
       "28              Khmer 95% (official), French, English  \n",
       "29  French, English (both official); 24 major Afri...  \n",
       "30  English 59.3%, French 23.2% (both official); o...  \n",
       "31                                Portuguese, Criuolo  \n",
       "32  French (official), Sangho (lingua franca, nati...  \n",
       "33  French, Arabic (both official); Sara; more tha...  \n",
       "34                                            Spanish  \n",
       "35  Mandarin, Cantonese (official), Wu (Shanghaies...  \n",
       "36                                            Spanish  \n",
       "37  Arabic and French (both official), Shikomoro (...  \n",
       "38  French (official), Lingala, Kingwana, Kikongo,...  \n",
       "39  French (official), Lingala, Monokutuba, Kikong...  \n",
       "40                        Spanish (official), English  \n",
       "41  French (official) and African languages (Dioul...  \n",
       "42  Croatian 96% (official), other 4% (including I...  \n",
       "43                                            Spanish  \n",
       "44            Greek, Turkish (both official); English  \n",
       "45                                              Czech  \n",
       "46  Danish, Faroese, Greenlandic (Inuit dialect), ...  \n",
       "47    French and Arabic (both official), Somali, Afar  \n",
       "48               English (official) and French patois  \n",
       "49                                            Spanish  "
      ]
     },
     "execution_count": 65,
     "metadata": {},
     "output_type": "execute_result"
    }
   ],
   "source": [
    "lang.head(50)"
   ]
  },
  {
   "cell_type": "code",
   "execution_count": 66,
   "id": "4f5fc0c2",
   "metadata": {
    "pycharm": {
     "name": "#%%\n"
    }
   },
   "outputs": [
    {
     "name": "stdout",
     "output_type": "stream",
     "text": [
      "<class 'pandas.core.frame.DataFrame'>\n",
      "RangeIndex: 198 entries, 0 to 197\n",
      "Data columns (total 2 columns):\n",
      " #   Column            Non-Null Count  Dtype \n",
      "---  ------            --------------  ----- \n",
      " 0   Country           198 non-null    object\n",
      " 1   Languages Spoken  198 non-null    object\n",
      "dtypes: object(2)\n",
      "memory usage: 3.2+ KB\n"
     ]
    }
   ],
   "source": [
    "lang.info()"
   ]
  },
  {
   "cell_type": "code",
   "execution_count": 67,
   "id": "0b0947bb",
   "metadata": {
    "pycharm": {
     "name": "#%%\n"
    }
   },
   "outputs": [
    {
     "data": {
      "text/plain": [
       "Country             0\n",
       "Languages Spoken    0\n",
       "dtype: int64"
      ]
     },
     "execution_count": 67,
     "metadata": {},
     "output_type": "execute_result"
    }
   ],
   "source": [
    "# check null values\n",
    "lang.isna().sum()"
   ]
  },
  {
   "cell_type": "code",
   "execution_count": 68,
   "id": "5aa75fa6",
   "metadata": {
    "pycharm": {
     "name": "#%%\n"
    }
   },
   "outputs": [
    {
     "data": {
      "text/html": [
       "<div>\n",
       "<style scoped>\n",
       "    .dataframe tbody tr th:only-of-type {\n",
       "        vertical-align: middle;\n",
       "    }\n",
       "\n",
       "    .dataframe tbody tr th {\n",
       "        vertical-align: top;\n",
       "    }\n",
       "\n",
       "    .dataframe thead th {\n",
       "        text-align: right;\n",
       "    }\n",
       "</style>\n",
       "<table border=\"1\" class=\"dataframe\">\n",
       "  <thead>\n",
       "    <tr style=\"text-align: right;\">\n",
       "      <th></th>\n",
       "      <th>Country</th>\n",
       "      <th>Languages Spoken</th>\n",
       "    </tr>\n",
       "  </thead>\n",
       "  <tbody>\n",
       "  </tbody>\n",
       "</table>\n",
       "</div>"
      ],
      "text/plain": [
       "Empty DataFrame\n",
       "Columns: [Country, Languages Spoken]\n",
       "Index: []"
      ]
     },
     "execution_count": 68,
     "metadata": {},
     "output_type": "execute_result"
    }
   ],
   "source": [
    "# check duplicates\n",
    "lang[lang['Country'].duplicated(keep=False)==True]"
   ]
  },
  {
   "cell_type": "markdown",
   "id": "9709176b",
   "metadata": {
    "pycharm": {
     "name": "#%% md\n"
    }
   },
   "source": [
    "Given the exploration done in the lang dataset, we can conclude that for the next step in the cleaning and transformations, we wish to keep all the columns, but rename them. Moreover, to make sure that the dataset is homogeneous we will capitalize the first letter of each word in the \"Country\" and \"Language Spoken\" column. We can also see that there is no null values, hence no handling of missing values is needed in this case. In addition, we can see that the languages spoken includes more than the official languages, in the cleaning we will strive to only keep the official languages."
   ]
  },
  {
   "cell_type": "code",
   "execution_count": 69,
   "id": "b1a9b9a3",
   "metadata": {
    "pycharm": {
     "name": "#%%\n"
    }
   },
   "outputs": [],
   "source": [
    "# Rename the columns\n",
    "lang = lang.rename(columns = {\"Languages Spoken\": \"Official Language\"})"
   ]
  },
  {
   "cell_type": "code",
   "execution_count": 70,
   "id": "b806e57f",
   "metadata": {
    "pycharm": {
     "name": "#%%\n"
    }
   },
   "outputs": [],
   "source": [
    "def language_cleaning(lan: str):\n",
    "    \"\"\" This function is to clean the official languages, the rule is\n",
    "    - If the official contains '(official)' in the text, adopt languages that come before '(official)\n",
    "    - Otherwise take only first language\"\"\"\n",
    "\n",
    "    # replace 'and' to comma\n",
    "    # delete numbers and percentage\n",
    "    lan = lan.title()\n",
    "    lan = lan.replace(' And ', ', ')\n",
    "    lan = re.sub(\"(\\s[\\d.]+%)\", \"\", lan)\n",
    "\n",
    "    # first if the text contains 'official', we are going to keep all the official\n",
    "    if 'Official' in lan:\n",
    "        lan = lan.partition(\"(\")[0].strip()\n",
    "\n",
    "    # otherwise, we are going to keep first one as a main language spoken\n",
    "    else:\n",
    "        lan = lan.partition(\",\")[0].strip()\n",
    "    return lan"
   ]
  },
  {
   "cell_type": "code",
   "execution_count": 71,
   "id": "6688d0c3",
   "metadata": {
    "pycharm": {
     "name": "#%%\n"
    }
   },
   "outputs": [],
   "source": [
    "# apply language cleaning function to the 'languages Spoken' column\n",
    "lang['Official Language'] = lang['Official Language'].apply(language_cleaning)"
   ]
  },
  {
   "cell_type": "code",
   "execution_count": 72,
   "id": "587a50da",
   "metadata": {
    "pycharm": {
     "name": "#%%\n"
    }
   },
   "outputs": [],
   "source": [
    "# Capitalise the first letter of each word in the Country and Official Language columns\n",
    "lang[\"Country\"] = lang[\"Country\"].str.title()\n",
    "lang[\"Country\"] = lang[\"Country\"].str.strip()"
   ]
  },
  {
   "cell_type": "code",
   "execution_count": 73,
   "id": "55320e3e",
   "metadata": {
    "pycharm": {
     "name": "#%%\n"
    }
   },
   "outputs": [
    {
     "data": {
      "text/html": [
       "<div>\n",
       "<style scoped>\n",
       "    .dataframe tbody tr th:only-of-type {\n",
       "        vertical-align: middle;\n",
       "    }\n",
       "\n",
       "    .dataframe tbody tr th {\n",
       "        vertical-align: top;\n",
       "    }\n",
       "\n",
       "    .dataframe thead th {\n",
       "        text-align: right;\n",
       "    }\n",
       "</style>\n",
       "<table border=\"1\" class=\"dataframe\">\n",
       "  <thead>\n",
       "    <tr style=\"text-align: right;\">\n",
       "      <th></th>\n",
       "      <th>Country</th>\n",
       "      <th>Official Language</th>\n",
       "    </tr>\n",
       "  </thead>\n",
       "  <tbody>\n",
       "    <tr>\n",
       "      <th>0</th>\n",
       "      <td>Afghanistan</td>\n",
       "      <td>Dari Persian, Pashtu</td>\n",
       "    </tr>\n",
       "    <tr>\n",
       "      <th>1</th>\n",
       "      <td>Albania</td>\n",
       "      <td>Albanian</td>\n",
       "    </tr>\n",
       "    <tr>\n",
       "      <th>2</th>\n",
       "      <td>Algeria</td>\n",
       "      <td>Arabic</td>\n",
       "    </tr>\n",
       "    <tr>\n",
       "      <th>3</th>\n",
       "      <td>Andorra</td>\n",
       "      <td>Catalã¡N</td>\n",
       "    </tr>\n",
       "    <tr>\n",
       "      <th>4</th>\n",
       "      <td>Angola</td>\n",
       "      <td>Portuguese</td>\n",
       "    </tr>\n",
       "    <tr>\n",
       "      <th>...</th>\n",
       "      <td>...</td>\n",
       "      <td>...</td>\n",
       "    </tr>\n",
       "    <tr>\n",
       "      <th>193</th>\n",
       "      <td>Vietnam</td>\n",
       "      <td>Vietnamese</td>\n",
       "    </tr>\n",
       "    <tr>\n",
       "      <th>194</th>\n",
       "      <td>Western Sahara (Proposed State)</td>\n",
       "      <td>Hassaniya Arabic</td>\n",
       "    </tr>\n",
       "    <tr>\n",
       "      <th>195</th>\n",
       "      <td>Yemen</td>\n",
       "      <td>Arabic</td>\n",
       "    </tr>\n",
       "    <tr>\n",
       "      <th>196</th>\n",
       "      <td>Zambia</td>\n",
       "      <td>English</td>\n",
       "    </tr>\n",
       "    <tr>\n",
       "      <th>197</th>\n",
       "      <td>Zimbabwe</td>\n",
       "      <td>English</td>\n",
       "    </tr>\n",
       "  </tbody>\n",
       "</table>\n",
       "<p>198 rows × 2 columns</p>\n",
       "</div>"
      ],
      "text/plain": [
       "                             Country     Official Language\n",
       "0                        Afghanistan  Dari Persian, Pashtu\n",
       "1                            Albania              Albanian\n",
       "2                            Algeria                Arabic\n",
       "3                            Andorra              Catalã¡N\n",
       "4                             Angola            Portuguese\n",
       "..                               ...                   ...\n",
       "193                          Vietnam            Vietnamese\n",
       "194  Western Sahara (Proposed State)      Hassaniya Arabic\n",
       "195                            Yemen                Arabic\n",
       "196                           Zambia               English\n",
       "197                         Zimbabwe               English\n",
       "\n",
       "[198 rows x 2 columns]"
      ]
     },
     "execution_count": 73,
     "metadata": {},
     "output_type": "execute_result"
    }
   ],
   "source": [
    "lang"
   ]
  },
  {
   "cell_type": "markdown",
   "id": "8cb3641e",
   "metadata": {
    "pycharm": {
     "name": "#%% md\n"
    }
   },
   "source": [
    "#### Religion dataset"
   ]
  },
  {
   "cell_type": "code",
   "execution_count": 74,
   "id": "04bf2d6b",
   "metadata": {
    "pycharm": {
     "name": "#%%\n"
    }
   },
   "outputs": [
    {
     "data": {
      "text/html": [
       "<div>\n",
       "<style scoped>\n",
       "    .dataframe tbody tr th:only-of-type {\n",
       "        vertical-align: middle;\n",
       "    }\n",
       "\n",
       "    .dataframe tbody tr th {\n",
       "        vertical-align: top;\n",
       "    }\n",
       "\n",
       "    .dataframe thead th {\n",
       "        text-align: right;\n",
       "    }\n",
       "</style>\n",
       "<table border=\"1\" class=\"dataframe\">\n",
       "  <thead>\n",
       "    <tr style=\"text-align: right;\">\n",
       "      <th></th>\n",
       "      <th>Country or Area</th>\n",
       "      <th>Year</th>\n",
       "      <th>Area</th>\n",
       "      <th>Sex</th>\n",
       "      <th>Religion</th>\n",
       "      <th>Record Type</th>\n",
       "      <th>Reliability</th>\n",
       "      <th>Source Year</th>\n",
       "      <th>Value</th>\n",
       "      <th>Value Footnotes</th>\n",
       "    </tr>\n",
       "  </thead>\n",
       "  <tbody>\n",
       "    <tr>\n",
       "      <th>0</th>\n",
       "      <td>Albania</td>\n",
       "      <td>2011</td>\n",
       "      <td>Total</td>\n",
       "      <td>Both Sexes</td>\n",
       "      <td>Total</td>\n",
       "      <td>Census - de jure - complete tabulation</td>\n",
       "      <td>Final figure, complete</td>\n",
       "      <td>2013.0</td>\n",
       "      <td>2800138.0</td>\n",
       "      <td>NaN</td>\n",
       "    </tr>\n",
       "    <tr>\n",
       "      <th>1</th>\n",
       "      <td>Albania</td>\n",
       "      <td>2011</td>\n",
       "      <td>Total</td>\n",
       "      <td>Both Sexes</td>\n",
       "      <td>Atheist</td>\n",
       "      <td>Census - de jure - complete tabulation</td>\n",
       "      <td>Final figure, complete</td>\n",
       "      <td>2013.0</td>\n",
       "      <td>69995.0</td>\n",
       "      <td>NaN</td>\n",
       "    </tr>\n",
       "    <tr>\n",
       "      <th>2</th>\n",
       "      <td>Albania</td>\n",
       "      <td>2011</td>\n",
       "      <td>Total</td>\n",
       "      <td>Both Sexes</td>\n",
       "      <td>Catholic</td>\n",
       "      <td>Census - de jure - complete tabulation</td>\n",
       "      <td>Final figure, complete</td>\n",
       "      <td>2013.0</td>\n",
       "      <td>280921.0</td>\n",
       "      <td>NaN</td>\n",
       "    </tr>\n",
       "    <tr>\n",
       "      <th>3</th>\n",
       "      <td>Albania</td>\n",
       "      <td>2011</td>\n",
       "      <td>Total</td>\n",
       "      <td>Both Sexes</td>\n",
       "      <td>Evangelical</td>\n",
       "      <td>Census - de jure - complete tabulation</td>\n",
       "      <td>Final figure, complete</td>\n",
       "      <td>2013.0</td>\n",
       "      <td>3797.0</td>\n",
       "      <td>NaN</td>\n",
       "    </tr>\n",
       "    <tr>\n",
       "      <th>4</th>\n",
       "      <td>Albania</td>\n",
       "      <td>2011</td>\n",
       "      <td>Total</td>\n",
       "      <td>Both Sexes</td>\n",
       "      <td>Muslim</td>\n",
       "      <td>Census - de jure - complete tabulation</td>\n",
       "      <td>Final figure, complete</td>\n",
       "      <td>2013.0</td>\n",
       "      <td>1587608.0</td>\n",
       "      <td>NaN</td>\n",
       "    </tr>\n",
       "  </tbody>\n",
       "</table>\n",
       "</div>"
      ],
      "text/plain": [
       "  Country or Area  Year   Area         Sex     Religion  \\\n",
       "0         Albania  2011  Total  Both Sexes        Total   \n",
       "1         Albania  2011  Total  Both Sexes      Atheist   \n",
       "2         Albania  2011  Total  Both Sexes     Catholic   \n",
       "3         Albania  2011  Total  Both Sexes  Evangelical   \n",
       "4         Albania  2011  Total  Both Sexes       Muslim   \n",
       "\n",
       "                              Record Type             Reliability  \\\n",
       "0  Census - de jure - complete tabulation  Final figure, complete   \n",
       "1  Census - de jure - complete tabulation  Final figure, complete   \n",
       "2  Census - de jure - complete tabulation  Final figure, complete   \n",
       "3  Census - de jure - complete tabulation  Final figure, complete   \n",
       "4  Census - de jure - complete tabulation  Final figure, complete   \n",
       "\n",
       "   Source Year      Value Value Footnotes  \n",
       "0       2013.0  2800138.0             NaN  \n",
       "1       2013.0    69995.0             NaN  \n",
       "2       2013.0   280921.0             NaN  \n",
       "3       2013.0     3797.0             NaN  \n",
       "4       2013.0  1587608.0             NaN  "
      ]
     },
     "execution_count": 74,
     "metadata": {},
     "output_type": "execute_result"
    }
   ],
   "source": [
    "rel.head()"
   ]
  },
  {
   "cell_type": "code",
   "execution_count": 75,
   "id": "996da37c",
   "metadata": {
    "pycharm": {
     "name": "#%%\n"
    }
   },
   "outputs": [
    {
     "name": "stdout",
     "output_type": "stream",
     "text": [
      "<class 'pandas.core.frame.DataFrame'>\n",
      "RangeIndex: 3416 entries, 0 to 3415\n",
      "Data columns (total 10 columns):\n",
      " #   Column           Non-Null Count  Dtype  \n",
      "---  ------           --------------  -----  \n",
      " 0   Country or Area  3416 non-null   object \n",
      " 1   Year             3416 non-null   object \n",
      " 2   Area             3333 non-null   object \n",
      " 3   Sex              3332 non-null   object \n",
      " 4   Religion         3332 non-null   object \n",
      " 5   Record Type      3332 non-null   object \n",
      " 6   Reliability      3332 non-null   object \n",
      " 7   Source Year      3332 non-null   float64\n",
      " 8   Value            3332 non-null   float64\n",
      " 9   Value Footnotes  1505 non-null   object \n",
      "dtypes: float64(2), object(8)\n",
      "memory usage: 267.0+ KB\n"
     ]
    }
   ],
   "source": [
    "rel.info()"
   ]
  },
  {
   "cell_type": "code",
   "execution_count": 76,
   "id": "5efd7131",
   "metadata": {
    "pycharm": {
     "name": "#%%\n"
    }
   },
   "outputs": [
    {
     "data": {
      "text/plain": [
       "Country or Area       0\n",
       "Year                  0\n",
       "Area                 83\n",
       "Sex                  84\n",
       "Religion             84\n",
       "Record Type          84\n",
       "Reliability          84\n",
       "Source Year          84\n",
       "Value                84\n",
       "Value Footnotes    1911\n",
       "dtype: int64"
      ]
     },
     "execution_count": 76,
     "metadata": {},
     "output_type": "execute_result"
    }
   ],
   "source": [
    "rel.isna().sum()"
   ]
  },
  {
   "cell_type": "code",
   "execution_count": 77,
   "id": "dfda3e97",
   "metadata": {
    "pycharm": {
     "name": "#%%\n"
    }
   },
   "outputs": [
    {
     "data": {
      "text/html": [
       "<div>\n",
       "<style scoped>\n",
       "    .dataframe tbody tr th:only-of-type {\n",
       "        vertical-align: middle;\n",
       "    }\n",
       "\n",
       "    .dataframe tbody tr th {\n",
       "        vertical-align: top;\n",
       "    }\n",
       "\n",
       "    .dataframe thead th {\n",
       "        text-align: right;\n",
       "    }\n",
       "</style>\n",
       "<table border=\"1\" class=\"dataframe\">\n",
       "  <thead>\n",
       "    <tr style=\"text-align: right;\">\n",
       "      <th></th>\n",
       "      <th>Country or Area</th>\n",
       "      <th>Year</th>\n",
       "      <th>Area</th>\n",
       "      <th>Sex</th>\n",
       "      <th>Religion</th>\n",
       "      <th>Record Type</th>\n",
       "      <th>Reliability</th>\n",
       "      <th>Source Year</th>\n",
       "      <th>Value</th>\n",
       "      <th>Value Footnotes</th>\n",
       "    </tr>\n",
       "  </thead>\n",
       "  <tbody>\n",
       "    <tr>\n",
       "      <th>3332</th>\n",
       "      <td>footnoteSeqID</td>\n",
       "      <td>Footnote</td>\n",
       "      <td>NaN</td>\n",
       "      <td>NaN</td>\n",
       "      <td>NaN</td>\n",
       "      <td>NaN</td>\n",
       "      <td>NaN</td>\n",
       "      <td>NaN</td>\n",
       "      <td>NaN</td>\n",
       "      <td>NaN</td>\n",
       "    </tr>\n",
       "    <tr>\n",
       "      <th>3333</th>\n",
       "      <td>1</td>\n",
       "      <td>Because of rounding, totals are not in all cas...</td>\n",
       "      <td>NaN</td>\n",
       "      <td>NaN</td>\n",
       "      <td>NaN</td>\n",
       "      <td>NaN</td>\n",
       "      <td>NaN</td>\n",
       "      <td>NaN</td>\n",
       "      <td>NaN</td>\n",
       "      <td>NaN</td>\n",
       "    </tr>\n",
       "    <tr>\n",
       "      <th>3334</th>\n",
       "      <td>2</td>\n",
       "      <td>These data have been randomly rounded to prote...</td>\n",
       "      <td>NaN</td>\n",
       "      <td>NaN</td>\n",
       "      <td>NaN</td>\n",
       "      <td>NaN</td>\n",
       "      <td>NaN</td>\n",
       "      <td>NaN</td>\n",
       "      <td>NaN</td>\n",
       "      <td>NaN</td>\n",
       "    </tr>\n",
       "    <tr>\n",
       "      <th>3335</th>\n",
       "      <td>3</td>\n",
       "      <td>Including population in off-shore, migratory a...</td>\n",
       "      <td>NaN</td>\n",
       "      <td>NaN</td>\n",
       "      <td>NaN</td>\n",
       "      <td>NaN</td>\n",
       "      <td>NaN</td>\n",
       "      <td>NaN</td>\n",
       "      <td>NaN</td>\n",
       "      <td>NaN</td>\n",
       "    </tr>\n",
       "    <tr>\n",
       "      <th>3336</th>\n",
       "      <td>4</td>\n",
       "      <td>Category 'No religion' includes Agnoticism, At...</td>\n",
       "      <td>NaN</td>\n",
       "      <td>NaN</td>\n",
       "      <td>NaN</td>\n",
       "      <td>NaN</td>\n",
       "      <td>NaN</td>\n",
       "      <td>NaN</td>\n",
       "      <td>NaN</td>\n",
       "      <td>NaN</td>\n",
       "    </tr>\n",
       "    <tr>\n",
       "      <th>...</th>\n",
       "      <td>...</td>\n",
       "      <td>...</td>\n",
       "      <td>...</td>\n",
       "      <td>...</td>\n",
       "      <td>...</td>\n",
       "      <td>...</td>\n",
       "      <td>...</td>\n",
       "      <td>...</td>\n",
       "      <td>...</td>\n",
       "      <td>...</td>\n",
       "    </tr>\n",
       "    <tr>\n",
       "      <th>3411</th>\n",
       "      <td>79</td>\n",
       "      <td>Data of mini-census taken in 2017.</td>\n",
       "      <td>NaN</td>\n",
       "      <td>NaN</td>\n",
       "      <td>NaN</td>\n",
       "      <td>NaN</td>\n",
       "      <td>NaN</td>\n",
       "      <td>NaN</td>\n",
       "      <td>NaN</td>\n",
       "      <td>NaN</td>\n",
       "    </tr>\n",
       "    <tr>\n",
       "      <th>3412</th>\n",
       "      <td>80</td>\n",
       "      <td>Data refer to resident population.</td>\n",
       "      <td>NaN</td>\n",
       "      <td>NaN</td>\n",
       "      <td>NaN</td>\n",
       "      <td>NaN</td>\n",
       "      <td>NaN</td>\n",
       "      <td>NaN</td>\n",
       "      <td>NaN</td>\n",
       "      <td>NaN</td>\n",
       "    </tr>\n",
       "    <tr>\n",
       "      <th>3413</th>\n",
       "      <td>81</td>\n",
       "      <td>Excluding population enumerated in hotels.</td>\n",
       "      <td>NaN</td>\n",
       "      <td>NaN</td>\n",
       "      <td>NaN</td>\n",
       "      <td>NaN</td>\n",
       "      <td>NaN</td>\n",
       "      <td>NaN</td>\n",
       "      <td>NaN</td>\n",
       "      <td>NaN</td>\n",
       "    </tr>\n",
       "    <tr>\n",
       "      <th>3414</th>\n",
       "      <td>82</td>\n",
       "      <td>Other includes Orthodox, Bahai, Other Christia...</td>\n",
       "      <td>NaN</td>\n",
       "      <td>NaN</td>\n",
       "      <td>NaN</td>\n",
       "      <td>NaN</td>\n",
       "      <td>NaN</td>\n",
       "      <td>NaN</td>\n",
       "      <td>NaN</td>\n",
       "      <td>NaN</td>\n",
       "    </tr>\n",
       "    <tr>\n",
       "      <th>3415</th>\n",
       "      <td>83</td>\n",
       "      <td>Excluding Channel Islands (Guernsey and Jersey...</td>\n",
       "      <td>NaN</td>\n",
       "      <td>NaN</td>\n",
       "      <td>NaN</td>\n",
       "      <td>NaN</td>\n",
       "      <td>NaN</td>\n",
       "      <td>NaN</td>\n",
       "      <td>NaN</td>\n",
       "      <td>NaN</td>\n",
       "    </tr>\n",
       "  </tbody>\n",
       "</table>\n",
       "<p>84 rows × 10 columns</p>\n",
       "</div>"
      ],
      "text/plain": [
       "     Country or Area                                               Year Area  \\\n",
       "3332   footnoteSeqID                                           Footnote  NaN   \n",
       "3333               1  Because of rounding, totals are not in all cas...  NaN   \n",
       "3334               2  These data have been randomly rounded to prote...  NaN   \n",
       "3335               3  Including population in off-shore, migratory a...  NaN   \n",
       "3336               4  Category 'No religion' includes Agnoticism, At...  NaN   \n",
       "...              ...                                                ...  ...   \n",
       "3411              79                 Data of mini-census taken in 2017.  NaN   \n",
       "3412              80                 Data refer to resident population.  NaN   \n",
       "3413              81         Excluding population enumerated in hotels.  NaN   \n",
       "3414              82  Other includes Orthodox, Bahai, Other Christia...  NaN   \n",
       "3415              83  Excluding Channel Islands (Guernsey and Jersey...  NaN   \n",
       "\n",
       "      Sex Religion Record Type Reliability  Source Year  Value Value Footnotes  \n",
       "3332  NaN      NaN         NaN         NaN          NaN    NaN             NaN  \n",
       "3333  NaN      NaN         NaN         NaN          NaN    NaN             NaN  \n",
       "3334  NaN      NaN         NaN         NaN          NaN    NaN             NaN  \n",
       "3335  NaN      NaN         NaN         NaN          NaN    NaN             NaN  \n",
       "3336  NaN      NaN         NaN         NaN          NaN    NaN             NaN  \n",
       "...   ...      ...         ...         ...          ...    ...             ...  \n",
       "3411  NaN      NaN         NaN         NaN          NaN    NaN             NaN  \n",
       "3412  NaN      NaN         NaN         NaN          NaN    NaN             NaN  \n",
       "3413  NaN      NaN         NaN         NaN          NaN    NaN             NaN  \n",
       "3414  NaN      NaN         NaN         NaN          NaN    NaN             NaN  \n",
       "3415  NaN      NaN         NaN         NaN          NaN    NaN             NaN  \n",
       "\n",
       "[84 rows x 10 columns]"
      ]
     },
     "execution_count": 77,
     "metadata": {},
     "output_type": "execute_result"
    }
   ],
   "source": [
    "rel[rel[[\"Religion\"]].isnull().any(axis=1)]"
   ]
  },
  {
   "cell_type": "markdown",
   "id": "834bd92a",
   "metadata": {
    "pycharm": {
     "name": "#%% md\n"
    }
   },
   "source": [
    "Given the exploration done in the rel dataset, we can conclude that for the next step in the cleaning and transformations, we wish to keep the \"Country or Area\" and \"Religion\" columns but rename them. Moreover, to make sure that the dataset is homogeneous we will capitalize the first letter of each word in the \"Country or Area\" column. We can also see that there is multiple null values, that arise due to the existing footnotes at the end of the document, which will be dealt with. In addition, we can see that for each country there is the listing of all the religions present in the country. As we only wish to keep the main one the others will be removed."
   ]
  },
  {
   "cell_type": "code",
   "execution_count": 78,
   "id": "8d6ea251",
   "metadata": {
    "pycharm": {
     "name": "#%%\n"
    }
   },
   "outputs": [],
   "source": [
    "# Remove the footnote rows, which is where the Religion column\n",
    "rel.dropna(subset=['Religion'], inplace=True)"
   ]
  },
  {
   "cell_type": "code",
   "execution_count": 79,
   "id": "0165e946",
   "metadata": {
    "pycharm": {
     "name": "#%%\n"
    }
   },
   "outputs": [],
   "source": [
    "# Keep the data from the most recent year for each country\n",
    "rel = rel.sort_values(by=[\"Country or Area\", \"Year\"])\n",
    "rel = rel.drop_duplicates(subset=['Country or Area', \"Religion\"], keep='last')"
   ]
  },
  {
   "cell_type": "code",
   "execution_count": 80,
   "id": "40895ba8",
   "metadata": {
    "pycharm": {
     "name": "#%%\n"
    }
   },
   "outputs": [
    {
     "data": {
      "text/html": [
       "<div>\n",
       "<style scoped>\n",
       "    .dataframe tbody tr th:only-of-type {\n",
       "        vertical-align: middle;\n",
       "    }\n",
       "\n",
       "    .dataframe tbody tr th {\n",
       "        vertical-align: top;\n",
       "    }\n",
       "\n",
       "    .dataframe thead th {\n",
       "        text-align: right;\n",
       "    }\n",
       "</style>\n",
       "<table border=\"1\" class=\"dataframe\">\n",
       "  <thead>\n",
       "    <tr style=\"text-align: right;\">\n",
       "      <th></th>\n",
       "      <th>Country or Area</th>\n",
       "      <th>Year</th>\n",
       "      <th>Area</th>\n",
       "      <th>Sex</th>\n",
       "      <th>Religion</th>\n",
       "      <th>Record Type</th>\n",
       "      <th>Reliability</th>\n",
       "      <th>Source Year</th>\n",
       "      <th>Value</th>\n",
       "      <th>Value Footnotes</th>\n",
       "    </tr>\n",
       "  </thead>\n",
       "  <tbody>\n",
       "    <tr>\n",
       "      <th>0</th>\n",
       "      <td>Albania</td>\n",
       "      <td>2011</td>\n",
       "      <td>Total</td>\n",
       "      <td>Both Sexes</td>\n",
       "      <td>Total</td>\n",
       "      <td>Census - de jure - complete tabulation</td>\n",
       "      <td>Final figure, complete</td>\n",
       "      <td>2013.0</td>\n",
       "      <td>2800138.0</td>\n",
       "      <td>NaN</td>\n",
       "    </tr>\n",
       "    <tr>\n",
       "      <th>1</th>\n",
       "      <td>Albania</td>\n",
       "      <td>2011</td>\n",
       "      <td>Total</td>\n",
       "      <td>Both Sexes</td>\n",
       "      <td>Atheist</td>\n",
       "      <td>Census - de jure - complete tabulation</td>\n",
       "      <td>Final figure, complete</td>\n",
       "      <td>2013.0</td>\n",
       "      <td>69995.0</td>\n",
       "      <td>NaN</td>\n",
       "    </tr>\n",
       "    <tr>\n",
       "      <th>2</th>\n",
       "      <td>Albania</td>\n",
       "      <td>2011</td>\n",
       "      <td>Total</td>\n",
       "      <td>Both Sexes</td>\n",
       "      <td>Catholic</td>\n",
       "      <td>Census - de jure - complete tabulation</td>\n",
       "      <td>Final figure, complete</td>\n",
       "      <td>2013.0</td>\n",
       "      <td>280921.0</td>\n",
       "      <td>NaN</td>\n",
       "    </tr>\n",
       "    <tr>\n",
       "      <th>3</th>\n",
       "      <td>Albania</td>\n",
       "      <td>2011</td>\n",
       "      <td>Total</td>\n",
       "      <td>Both Sexes</td>\n",
       "      <td>Evangelical</td>\n",
       "      <td>Census - de jure - complete tabulation</td>\n",
       "      <td>Final figure, complete</td>\n",
       "      <td>2013.0</td>\n",
       "      <td>3797.0</td>\n",
       "      <td>NaN</td>\n",
       "    </tr>\n",
       "    <tr>\n",
       "      <th>4</th>\n",
       "      <td>Albania</td>\n",
       "      <td>2011</td>\n",
       "      <td>Total</td>\n",
       "      <td>Both Sexes</td>\n",
       "      <td>Muslim</td>\n",
       "      <td>Census - de jure - complete tabulation</td>\n",
       "      <td>Final figure, complete</td>\n",
       "      <td>2013.0</td>\n",
       "      <td>1587608.0</td>\n",
       "      <td>NaN</td>\n",
       "    </tr>\n",
       "    <tr>\n",
       "      <th>...</th>\n",
       "      <td>...</td>\n",
       "      <td>...</td>\n",
       "      <td>...</td>\n",
       "      <td>...</td>\n",
       "      <td>...</td>\n",
       "      <td>...</td>\n",
       "      <td>...</td>\n",
       "      <td>...</td>\n",
       "      <td>...</td>\n",
       "      <td>...</td>\n",
       "    </tr>\n",
       "    <tr>\n",
       "      <th>3327</th>\n",
       "      <td>Zambia</td>\n",
       "      <td>2010</td>\n",
       "      <td>Total</td>\n",
       "      <td>Both Sexes</td>\n",
       "      <td>Hindu</td>\n",
       "      <td>Census - de facto - complete tabulation</td>\n",
       "      <td>Final figure, complete</td>\n",
       "      <td>2015.0</td>\n",
       "      <td>4383.0</td>\n",
       "      <td>NaN</td>\n",
       "    </tr>\n",
       "    <tr>\n",
       "      <th>3328</th>\n",
       "      <td>Zambia</td>\n",
       "      <td>2010</td>\n",
       "      <td>Total</td>\n",
       "      <td>Both Sexes</td>\n",
       "      <td>Muslim</td>\n",
       "      <td>Census - de facto - complete tabulation</td>\n",
       "      <td>Final figure, complete</td>\n",
       "      <td>2015.0</td>\n",
       "      <td>61412.0</td>\n",
       "      <td>NaN</td>\n",
       "    </tr>\n",
       "    <tr>\n",
       "      <th>3329</th>\n",
       "      <td>Zambia</td>\n",
       "      <td>2010</td>\n",
       "      <td>Total</td>\n",
       "      <td>Both Sexes</td>\n",
       "      <td>Protestant</td>\n",
       "      <td>Census - de facto - complete tabulation</td>\n",
       "      <td>Final figure, complete</td>\n",
       "      <td>2015.0</td>\n",
       "      <td>9436231.0</td>\n",
       "      <td>NaN</td>\n",
       "    </tr>\n",
       "    <tr>\n",
       "      <th>3330</th>\n",
       "      <td>Zambia</td>\n",
       "      <td>2010</td>\n",
       "      <td>Total</td>\n",
       "      <td>Both Sexes</td>\n",
       "      <td>Other</td>\n",
       "      <td>Census - de facto - complete tabulation</td>\n",
       "      <td>Final figure, complete</td>\n",
       "      <td>2015.0</td>\n",
       "      <td>253621.0</td>\n",
       "      <td>NaN</td>\n",
       "    </tr>\n",
       "    <tr>\n",
       "      <th>3331</th>\n",
       "      <td>Zambia</td>\n",
       "      <td>2010</td>\n",
       "      <td>Total</td>\n",
       "      <td>Both Sexes</td>\n",
       "      <td>None</td>\n",
       "      <td>Census - de facto - complete tabulation</td>\n",
       "      <td>Final figure, complete</td>\n",
       "      <td>2015.0</td>\n",
       "      <td>224295.0</td>\n",
       "      <td>NaN</td>\n",
       "    </tr>\n",
       "  </tbody>\n",
       "</table>\n",
       "<p>1870 rows × 10 columns</p>\n",
       "</div>"
      ],
      "text/plain": [
       "     Country or Area  Year   Area         Sex     Religion  \\\n",
       "0            Albania  2011  Total  Both Sexes        Total   \n",
       "1            Albania  2011  Total  Both Sexes      Atheist   \n",
       "2            Albania  2011  Total  Both Sexes     Catholic   \n",
       "3            Albania  2011  Total  Both Sexes  Evangelical   \n",
       "4            Albania  2011  Total  Both Sexes       Muslim   \n",
       "...              ...   ...    ...         ...          ...   \n",
       "3327          Zambia  2010  Total  Both Sexes        Hindu   \n",
       "3328          Zambia  2010  Total  Both Sexes       Muslim   \n",
       "3329          Zambia  2010  Total  Both Sexes   Protestant   \n",
       "3330          Zambia  2010  Total  Both Sexes        Other   \n",
       "3331          Zambia  2010  Total  Both Sexes         None   \n",
       "\n",
       "                                  Record Type             Reliability  \\\n",
       "0      Census - de jure - complete tabulation  Final figure, complete   \n",
       "1      Census - de jure - complete tabulation  Final figure, complete   \n",
       "2      Census - de jure - complete tabulation  Final figure, complete   \n",
       "3      Census - de jure - complete tabulation  Final figure, complete   \n",
       "4      Census - de jure - complete tabulation  Final figure, complete   \n",
       "...                                       ...                     ...   \n",
       "3327  Census - de facto - complete tabulation  Final figure, complete   \n",
       "3328  Census - de facto - complete tabulation  Final figure, complete   \n",
       "3329  Census - de facto - complete tabulation  Final figure, complete   \n",
       "3330  Census - de facto - complete tabulation  Final figure, complete   \n",
       "3331  Census - de facto - complete tabulation  Final figure, complete   \n",
       "\n",
       "      Source Year      Value Value Footnotes  \n",
       "0          2013.0  2800138.0             NaN  \n",
       "1          2013.0    69995.0             NaN  \n",
       "2          2013.0   280921.0             NaN  \n",
       "3          2013.0     3797.0             NaN  \n",
       "4          2013.0  1587608.0             NaN  \n",
       "...           ...        ...             ...  \n",
       "3327       2015.0     4383.0             NaN  \n",
       "3328       2015.0    61412.0             NaN  \n",
       "3329       2015.0  9436231.0             NaN  \n",
       "3330       2015.0   253621.0             NaN  \n",
       "3331       2015.0   224295.0             NaN  \n",
       "\n",
       "[1870 rows x 10 columns]"
      ]
     },
     "execution_count": 80,
     "metadata": {},
     "output_type": "execute_result"
    }
   ],
   "source": [
    "rel[rel['Country or Area'].duplicated(keep=False)==True]"
   ]
  },
  {
   "cell_type": "code",
   "execution_count": 81,
   "id": "1c4f78a3",
   "metadata": {
    "pycharm": {
     "name": "#%%\n"
    }
   },
   "outputs": [],
   "source": [
    "# Remove the rows with the total number of religious people. Also remove the other, not stated, and refused to answer religions\n",
    "rel = rel[rel[\"Religion\"].str.contains(\"Total|Other|Not Stated|Refused to answer|Unknown|None\") == False]"
   ]
  },
  {
   "cell_type": "code",
   "execution_count": 82,
   "id": "0720ed7c",
   "metadata": {
    "pycharm": {
     "name": "#%%\n"
    }
   },
   "outputs": [],
   "source": [
    "# Keep the rows with the highest value, meaning the main religion of each country\n",
    "rel = rel.sort_values(by=[\"Country or Area\", \"Value\"])\n",
    "rel = rel.drop_duplicates(subset=['Country or Area'], keep='last')"
   ]
  },
  {
   "cell_type": "code",
   "execution_count": 83,
   "id": "ce945791",
   "metadata": {
    "pycharm": {
     "name": "#%%\n"
    }
   },
   "outputs": [
    {
     "data": {
      "text/plain": [
       "Roman Catholic               20\n",
       "Catholic                     16\n",
       "Muslim                       13\n",
       "No Religion                   8\n",
       "Christian                     8\n",
       "Buddhist                      7\n",
       "Anglican                      6\n",
       "Orthodox                      5\n",
       "Islam                         4\n",
       "Protestant                    3\n",
       "Hindu                         3\n",
       "Church of England             2\n",
       "Christian Orthodox            2\n",
       "Lutheran                      1\n",
       "Church of God                 1\n",
       "Pentecostal                   1\n",
       "Eastern Orthodox              1\n",
       "Jewish                        1\n",
       "Methodist                     1\n",
       "Baptist                       1\n",
       "Ekalesia Niue                 1\n",
       "Armenian Apostolic            1\n",
       "Congregational                1\n",
       "Roman Apostolic Catholic      1\n",
       "Serbian Orthodox              1\n",
       "Christian Congregational      1\n",
       "Free Wesleyan Church          1\n",
       "Ekalesia Kelisiano Tuvalu     1\n",
       "Presbyterian                  1\n",
       "Name: Religion, dtype: int64"
      ]
     },
     "execution_count": 83,
     "metadata": {},
     "output_type": "execute_result"
    }
   ],
   "source": [
    "rel['Religion'].value_counts()"
   ]
  },
  {
   "cell_type": "code",
   "execution_count": 84,
   "id": "0436b5eb",
   "metadata": {
    "pycharm": {
     "name": "#%%\n"
    }
   },
   "outputs": [],
   "source": [
    "# Select the columns to keep\n",
    "rel = rel[[\"Country or Area\", \"Religion\"]]"
   ]
  },
  {
   "cell_type": "code",
   "execution_count": 85,
   "id": "f1fa1283",
   "metadata": {
    "pycharm": {
     "name": "#%%\n"
    }
   },
   "outputs": [],
   "source": [
    "# Rename the columns\n",
    "rel = rel.rename(columns = {\"Country or Area\": \"Country\", \"Religion\": \"Main Religion\"})"
   ]
  },
  {
   "cell_type": "code",
   "execution_count": 86,
   "id": "b9c046d2",
   "metadata": {
    "pycharm": {
     "name": "#%%\n"
    }
   },
   "outputs": [],
   "source": [
    "# Capitalise the first letter of each word in the Country and religion, and remove any extra spaces in the country column.\n",
    "rel[\"Country\"] = rel[\"Country\"].str.title()\n",
    "rel[\"Country\"] = rel[\"Country\"].str.strip()\n",
    "rel[\"Main Religion\"] = rel[\"Main Religion\"].str.title()"
   ]
  },
  {
   "cell_type": "markdown",
   "id": "a90b4358",
   "metadata": {
    "pycharm": {
     "name": "#%% md\n"
    }
   },
   "source": [
    "#### Peace index dataset"
   ]
  },
  {
   "cell_type": "code",
   "execution_count": 87,
   "id": "5014a389",
   "metadata": {
    "pycharm": {
     "name": "#%%\n"
    }
   },
   "outputs": [
    {
     "data": {
      "text/html": [
       "<div>\n",
       "<style scoped>\n",
       "    .dataframe tbody tr th:only-of-type {\n",
       "        vertical-align: middle;\n",
       "    }\n",
       "\n",
       "    .dataframe tbody tr th {\n",
       "        vertical-align: top;\n",
       "    }\n",
       "\n",
       "    .dataframe thead th {\n",
       "        text-align: right;\n",
       "    }\n",
       "</style>\n",
       "<table border=\"1\" class=\"dataframe\">\n",
       "  <thead>\n",
       "    <tr style=\"text-align: right;\">\n",
       "      <th></th>\n",
       "      <th>RANK</th>\n",
       "      <th>COUNTRY</th>\n",
       "      <th>SCORE</th>\n",
       "    </tr>\n",
       "  </thead>\n",
       "  <tbody>\n",
       "    <tr>\n",
       "      <th>0</th>\n",
       "      <td>1.0</td>\n",
       "      <td>Iceland</td>\n",
       "      <td>1.100</td>\n",
       "    </tr>\n",
       "    <tr>\n",
       "      <th>1</th>\n",
       "      <td>2.0</td>\n",
       "      <td>New Zealand</td>\n",
       "      <td>1.253</td>\n",
       "    </tr>\n",
       "    <tr>\n",
       "      <th>2</th>\n",
       "      <td>3.0</td>\n",
       "      <td>Denmark</td>\n",
       "      <td>1.256</td>\n",
       "    </tr>\n",
       "    <tr>\n",
       "      <th>3</th>\n",
       "      <td>4.0</td>\n",
       "      <td>Portugal</td>\n",
       "      <td>1.267</td>\n",
       "    </tr>\n",
       "    <tr>\n",
       "      <th>4</th>\n",
       "      <td>5.0</td>\n",
       "      <td>Slovenia</td>\n",
       "      <td>1.315</td>\n",
       "    </tr>\n",
       "  </tbody>\n",
       "</table>\n",
       "</div>"
      ],
      "text/plain": [
       "   RANK      COUNTRY  SCORE\n",
       "0   1.0      Iceland  1.100\n",
       "1   2.0  New Zealand  1.253\n",
       "2   3.0      Denmark  1.256\n",
       "3   4.0     Portugal  1.267\n",
       "4   5.0     Slovenia  1.315"
      ]
     },
     "execution_count": 87,
     "metadata": {},
     "output_type": "execute_result"
    }
   ],
   "source": [
    "peace.head()"
   ]
  },
  {
   "cell_type": "code",
   "execution_count": 88,
   "id": "a11975c7",
   "metadata": {
    "pycharm": {
     "name": "#%%\n"
    }
   },
   "outputs": [
    {
     "name": "stdout",
     "output_type": "stream",
     "text": [
      "<class 'pandas.core.frame.DataFrame'>\n",
      "RangeIndex: 177 entries, 0 to 176\n",
      "Data columns (total 3 columns):\n",
      " #   Column   Non-Null Count  Dtype  \n",
      "---  ------   --------------  -----  \n",
      " 0   RANK     163 non-null    float64\n",
      " 1   COUNTRY  163 non-null    object \n",
      " 2   SCORE    163 non-null    float64\n",
      "dtypes: float64(2), object(1)\n",
      "memory usage: 4.3+ KB\n"
     ]
    }
   ],
   "source": [
    "peace.info()"
   ]
  },
  {
   "cell_type": "code",
   "execution_count": 89,
   "id": "bc2476ea",
   "metadata": {
    "pycharm": {
     "name": "#%%\n"
    }
   },
   "outputs": [
    {
     "data": {
      "text/plain": [
       "RANK       14\n",
       "COUNTRY    14\n",
       "SCORE      14\n",
       "dtype: int64"
      ]
     },
     "execution_count": 89,
     "metadata": {},
     "output_type": "execute_result"
    }
   ],
   "source": [
    "peace.isna().sum()"
   ]
  },
  {
   "cell_type": "code",
   "execution_count": 90,
   "id": "748f6ef3",
   "metadata": {
    "pycharm": {
     "name": "#%%\n"
    }
   },
   "outputs": [
    {
     "data": {
      "text/html": [
       "<div>\n",
       "<style scoped>\n",
       "    .dataframe tbody tr th:only-of-type {\n",
       "        vertical-align: middle;\n",
       "    }\n",
       "\n",
       "    .dataframe tbody tr th {\n",
       "        vertical-align: top;\n",
       "    }\n",
       "\n",
       "    .dataframe thead th {\n",
       "        text-align: right;\n",
       "    }\n",
       "</style>\n",
       "<table border=\"1\" class=\"dataframe\">\n",
       "  <thead>\n",
       "    <tr style=\"text-align: right;\">\n",
       "      <th></th>\n",
       "      <th>RANK</th>\n",
       "      <th>COUNTRY</th>\n",
       "      <th>SCORE</th>\n",
       "    </tr>\n",
       "  </thead>\n",
       "  <tbody>\n",
       "    <tr>\n",
       "      <th>16</th>\n",
       "      <td>NaN</td>\n",
       "      <td>NaN</td>\n",
       "      <td>NaN</td>\n",
       "    </tr>\n",
       "    <tr>\n",
       "      <th>45</th>\n",
       "      <td>NaN</td>\n",
       "      <td>NaN</td>\n",
       "      <td>NaN</td>\n",
       "    </tr>\n",
       "    <tr>\n",
       "      <th>74</th>\n",
       "      <td>NaN</td>\n",
       "      <td>NaN</td>\n",
       "      <td>NaN</td>\n",
       "    </tr>\n",
       "    <tr>\n",
       "      <th>86</th>\n",
       "      <td>NaN</td>\n",
       "      <td>NaN</td>\n",
       "      <td>NaN</td>\n",
       "    </tr>\n",
       "    <tr>\n",
       "      <th>95</th>\n",
       "      <td>NaN</td>\n",
       "      <td>NaN</td>\n",
       "      <td>NaN</td>\n",
       "    </tr>\n",
       "    <tr>\n",
       "      <th>108</th>\n",
       "      <td>NaN</td>\n",
       "      <td>NaN</td>\n",
       "      <td>NaN</td>\n",
       "    </tr>\n",
       "    <tr>\n",
       "      <th>125</th>\n",
       "      <td>NaN</td>\n",
       "      <td>NaN</td>\n",
       "      <td>NaN</td>\n",
       "    </tr>\n",
       "    <tr>\n",
       "      <th>128</th>\n",
       "      <td>NaN</td>\n",
       "      <td>NaN</td>\n",
       "      <td>NaN</td>\n",
       "    </tr>\n",
       "    <tr>\n",
       "      <th>138</th>\n",
       "      <td>NaN</td>\n",
       "      <td>NaN</td>\n",
       "      <td>NaN</td>\n",
       "    </tr>\n",
       "    <tr>\n",
       "      <th>155</th>\n",
       "      <td>NaN</td>\n",
       "      <td>NaN</td>\n",
       "      <td>NaN</td>\n",
       "    </tr>\n",
       "    <tr>\n",
       "      <th>165</th>\n",
       "      <td>NaN</td>\n",
       "      <td>NaN</td>\n",
       "      <td>NaN</td>\n",
       "    </tr>\n",
       "    <tr>\n",
       "      <th>168</th>\n",
       "      <td>NaN</td>\n",
       "      <td>NaN</td>\n",
       "      <td>NaN</td>\n",
       "    </tr>\n",
       "    <tr>\n",
       "      <th>175</th>\n",
       "      <td>NaN</td>\n",
       "      <td>NaN</td>\n",
       "      <td>NaN</td>\n",
       "    </tr>\n",
       "    <tr>\n",
       "      <th>176</th>\n",
       "      <td>NaN</td>\n",
       "      <td>NaN</td>\n",
       "      <td>NaN</td>\n",
       "    </tr>\n",
       "  </tbody>\n",
       "</table>\n",
       "</div>"
      ],
      "text/plain": [
       "     RANK COUNTRY  SCORE\n",
       "16    NaN     NaN    NaN\n",
       "45    NaN     NaN    NaN\n",
       "74    NaN     NaN    NaN\n",
       "86    NaN     NaN    NaN\n",
       "95    NaN     NaN    NaN\n",
       "108   NaN     NaN    NaN\n",
       "125   NaN     NaN    NaN\n",
       "128   NaN     NaN    NaN\n",
       "138   NaN     NaN    NaN\n",
       "155   NaN     NaN    NaN\n",
       "165   NaN     NaN    NaN\n",
       "168   NaN     NaN    NaN\n",
       "175   NaN     NaN    NaN\n",
       "176   NaN     NaN    NaN"
      ]
     },
     "execution_count": 90,
     "metadata": {},
     "output_type": "execute_result"
    }
   ],
   "source": [
    "peace[peace[[\"COUNTRY\"]].isnull().any(axis=1)]"
   ]
  },
  {
   "cell_type": "code",
   "execution_count": 91,
   "id": "bfe33ebe",
   "metadata": {
    "pycharm": {
     "name": "#%%\n"
    }
   },
   "outputs": [
    {
     "data": {
      "text/html": [
       "<div>\n",
       "<style scoped>\n",
       "    .dataframe tbody tr th:only-of-type {\n",
       "        vertical-align: middle;\n",
       "    }\n",
       "\n",
       "    .dataframe tbody tr th {\n",
       "        vertical-align: top;\n",
       "    }\n",
       "\n",
       "    .dataframe thead th {\n",
       "        text-align: right;\n",
       "    }\n",
       "</style>\n",
       "<table border=\"1\" class=\"dataframe\">\n",
       "  <thead>\n",
       "    <tr style=\"text-align: right;\">\n",
       "      <th></th>\n",
       "      <th>RANK</th>\n",
       "      <th>COUNTRY</th>\n",
       "      <th>SCORE</th>\n",
       "    </tr>\n",
       "  </thead>\n",
       "  <tbody>\n",
       "    <tr>\n",
       "      <th>16</th>\n",
       "      <td>NaN</td>\n",
       "      <td>NaN</td>\n",
       "      <td>NaN</td>\n",
       "    </tr>\n",
       "    <tr>\n",
       "      <th>45</th>\n",
       "      <td>NaN</td>\n",
       "      <td>NaN</td>\n",
       "      <td>NaN</td>\n",
       "    </tr>\n",
       "    <tr>\n",
       "      <th>74</th>\n",
       "      <td>NaN</td>\n",
       "      <td>NaN</td>\n",
       "      <td>NaN</td>\n",
       "    </tr>\n",
       "    <tr>\n",
       "      <th>86</th>\n",
       "      <td>NaN</td>\n",
       "      <td>NaN</td>\n",
       "      <td>NaN</td>\n",
       "    </tr>\n",
       "    <tr>\n",
       "      <th>95</th>\n",
       "      <td>NaN</td>\n",
       "      <td>NaN</td>\n",
       "      <td>NaN</td>\n",
       "    </tr>\n",
       "    <tr>\n",
       "      <th>108</th>\n",
       "      <td>NaN</td>\n",
       "      <td>NaN</td>\n",
       "      <td>NaN</td>\n",
       "    </tr>\n",
       "    <tr>\n",
       "      <th>125</th>\n",
       "      <td>NaN</td>\n",
       "      <td>NaN</td>\n",
       "      <td>NaN</td>\n",
       "    </tr>\n",
       "    <tr>\n",
       "      <th>128</th>\n",
       "      <td>NaN</td>\n",
       "      <td>NaN</td>\n",
       "      <td>NaN</td>\n",
       "    </tr>\n",
       "    <tr>\n",
       "      <th>138</th>\n",
       "      <td>NaN</td>\n",
       "      <td>NaN</td>\n",
       "      <td>NaN</td>\n",
       "    </tr>\n",
       "    <tr>\n",
       "      <th>155</th>\n",
       "      <td>NaN</td>\n",
       "      <td>NaN</td>\n",
       "      <td>NaN</td>\n",
       "    </tr>\n",
       "    <tr>\n",
       "      <th>165</th>\n",
       "      <td>NaN</td>\n",
       "      <td>NaN</td>\n",
       "      <td>NaN</td>\n",
       "    </tr>\n",
       "    <tr>\n",
       "      <th>168</th>\n",
       "      <td>NaN</td>\n",
       "      <td>NaN</td>\n",
       "      <td>NaN</td>\n",
       "    </tr>\n",
       "    <tr>\n",
       "      <th>175</th>\n",
       "      <td>NaN</td>\n",
       "      <td>NaN</td>\n",
       "      <td>NaN</td>\n",
       "    </tr>\n",
       "    <tr>\n",
       "      <th>176</th>\n",
       "      <td>NaN</td>\n",
       "      <td>NaN</td>\n",
       "      <td>NaN</td>\n",
       "    </tr>\n",
       "  </tbody>\n",
       "</table>\n",
       "</div>"
      ],
      "text/plain": [
       "     RANK COUNTRY  SCORE\n",
       "16    NaN     NaN    NaN\n",
       "45    NaN     NaN    NaN\n",
       "74    NaN     NaN    NaN\n",
       "86    NaN     NaN    NaN\n",
       "95    NaN     NaN    NaN\n",
       "108   NaN     NaN    NaN\n",
       "125   NaN     NaN    NaN\n",
       "128   NaN     NaN    NaN\n",
       "138   NaN     NaN    NaN\n",
       "155   NaN     NaN    NaN\n",
       "165   NaN     NaN    NaN\n",
       "168   NaN     NaN    NaN\n",
       "175   NaN     NaN    NaN\n",
       "176   NaN     NaN    NaN"
      ]
     },
     "execution_count": 91,
     "metadata": {},
     "output_type": "execute_result"
    }
   ],
   "source": [
    "peace[peace['COUNTRY'].duplicated(keep=False)]"
   ]
  },
  {
   "cell_type": "markdown",
   "id": "6cdf9826",
   "metadata": {
    "pycharm": {
     "name": "#%% md\n"
    }
   },
   "source": [
    "Given the exploration done in the peace dataset, we can conclude that for the next step in the cleaning and transformations, we wish to keep the \"RANK\", and \"COUNTRY\" columns, but rename them. Moreover, to make sure that the dataset is homogeneous we will capitalize the first letter of each word in the \"COUNTRY\" column. We can also see that there is multiple null values, that arise due to the existing of completely empty rows, which will be dealt with."
   ]
  },
  {
   "cell_type": "code",
   "execution_count": 92,
   "id": "fc452939",
   "metadata": {
    "pycharm": {
     "name": "#%%\n"
    }
   },
   "outputs": [],
   "source": [
    "# Select the columns to keep\n",
    "peace = peace[[\"RANK\", \"COUNTRY\"]]"
   ]
  },
  {
   "cell_type": "code",
   "execution_count": 93,
   "id": "5d784493",
   "metadata": {
    "pycharm": {
     "name": "#%%\n"
    }
   },
   "outputs": [],
   "source": [
    "# Rename the columns\n",
    "peace = peace.rename(columns = {\"RANK\": \"Rank\", \"COUNTRY\": \"Country\"})"
   ]
  },
  {
   "cell_type": "code",
   "execution_count": 94,
   "id": "373058c3",
   "metadata": {
    "pycharm": {
     "name": "#%%\n"
    }
   },
   "outputs": [],
   "source": [
    "# Capitalise the first letter of each word in the Country column\n",
    "peace[\"Country\"] = peace[\"Country\"].str.title()\n",
    "peace[\"Country\"] = peace[\"Country\"].str.strip()"
   ]
  },
  {
   "cell_type": "code",
   "execution_count": 95,
   "id": "21b22b6a",
   "metadata": {
    "pycharm": {
     "name": "#%%\n"
    }
   },
   "outputs": [],
   "source": [
    "# Drop null rows\n",
    "peace = peace.dropna()"
   ]
  },
  {
   "cell_type": "code",
   "execution_count": 96,
   "id": "7778a2aa",
   "metadata": {
    "pycharm": {
     "name": "#%%\n"
    }
   },
   "outputs": [],
   "source": [
    "# change type of rank to integer\n",
    "peace['Rank']=peace.Rank.astype(int)"
   ]
  },
  {
   "cell_type": "markdown",
   "id": "c46cd2ed",
   "metadata": {
    "pycharm": {
     "name": "#%% md\n"
    }
   },
   "source": [
    "#### Average Restaurant and Accomodation Cost Dataset"
   ]
  },
  {
   "cell_type": "code",
   "execution_count": 97,
   "id": "125938f0",
   "metadata": {
    "pycharm": {
     "name": "#%%\n"
    }
   },
   "outputs": [
    {
     "data": {
      "text/html": [
       "<div>\n",
       "<style scoped>\n",
       "    .dataframe tbody tr th:only-of-type {\n",
       "        vertical-align: middle;\n",
       "    }\n",
       "\n",
       "    .dataframe tbody tr th {\n",
       "        vertical-align: top;\n",
       "    }\n",
       "\n",
       "    .dataframe thead th {\n",
       "        text-align: right;\n",
       "    }\n",
       "</style>\n",
       "<table border=\"1\" class=\"dataframe\">\n",
       "  <thead>\n",
       "    <tr style=\"text-align: right;\">\n",
       "      <th></th>\n",
       "      <th>Country Name</th>\n",
       "      <th>Country Code</th>\n",
       "      <th>Classification Name</th>\n",
       "      <th>Classification Code</th>\n",
       "      <th>Series Name</th>\n",
       "      <th>Series Code</th>\n",
       "      <th>2017 [YR2017]</th>\n",
       "    </tr>\n",
       "  </thead>\n",
       "  <tbody>\n",
       "    <tr>\n",
       "      <th>0</th>\n",
       "      <td>Albania</td>\n",
       "      <td>ALB</td>\n",
       "      <td>Price level index (World = 100)</td>\n",
       "      <td>PX.WL</td>\n",
       "      <td>1111000:RESTAURANTS AND HOTELS</td>\n",
       "      <td>1111000.0</td>\n",
       "      <td>50.78426859</td>\n",
       "    </tr>\n",
       "    <tr>\n",
       "      <th>1</th>\n",
       "      <td>Algeria</td>\n",
       "      <td>DZA</td>\n",
       "      <td>Price level index (World = 100)</td>\n",
       "      <td>PX.WL</td>\n",
       "      <td>1111000:RESTAURANTS AND HOTELS</td>\n",
       "      <td>1111000.0</td>\n",
       "      <td>33.93366644</td>\n",
       "    </tr>\n",
       "    <tr>\n",
       "      <th>2</th>\n",
       "      <td>American Samoa</td>\n",
       "      <td>ASM</td>\n",
       "      <td>Price level index (World = 100)</td>\n",
       "      <td>PX.WL</td>\n",
       "      <td>1111000:RESTAURANTS AND HOTELS</td>\n",
       "      <td>1111000.0</td>\n",
       "      <td>..</td>\n",
       "    </tr>\n",
       "    <tr>\n",
       "      <th>3</th>\n",
       "      <td>Angola</td>\n",
       "      <td>AGO</td>\n",
       "      <td>Price level index (World = 100)</td>\n",
       "      <td>PX.WL</td>\n",
       "      <td>1111000:RESTAURANTS AND HOTELS</td>\n",
       "      <td>1111000.0</td>\n",
       "      <td>79.22385228</td>\n",
       "    </tr>\n",
       "    <tr>\n",
       "      <th>4</th>\n",
       "      <td>Anguilla</td>\n",
       "      <td>AIA</td>\n",
       "      <td>Price level index (World = 100)</td>\n",
       "      <td>PX.WL</td>\n",
       "      <td>1111000:RESTAURANTS AND HOTELS</td>\n",
       "      <td>1111000.0</td>\n",
       "      <td>122.29901</td>\n",
       "    </tr>\n",
       "  </tbody>\n",
       "</table>\n",
       "</div>"
      ],
      "text/plain": [
       "     Country Name Country Code              Classification Name  \\\n",
       "0         Albania          ALB  Price level index (World = 100)   \n",
       "1         Algeria          DZA  Price level index (World = 100)   \n",
       "2  American Samoa          ASM  Price level index (World = 100)   \n",
       "3          Angola          AGO  Price level index (World = 100)   \n",
       "4        Anguilla          AIA  Price level index (World = 100)   \n",
       "\n",
       "  Classification Code                     Series Name  Series Code  \\\n",
       "0               PX.WL  1111000:RESTAURANTS AND HOTELS    1111000.0   \n",
       "1               PX.WL  1111000:RESTAURANTS AND HOTELS    1111000.0   \n",
       "2               PX.WL  1111000:RESTAURANTS AND HOTELS    1111000.0   \n",
       "3               PX.WL  1111000:RESTAURANTS AND HOTELS    1111000.0   \n",
       "4               PX.WL  1111000:RESTAURANTS AND HOTELS    1111000.0   \n",
       "\n",
       "  2017 [YR2017]  \n",
       "0   50.78426859  \n",
       "1   33.93366644  \n",
       "2            ..  \n",
       "3   79.22385228  \n",
       "4     122.29901  "
      ]
     },
     "execution_count": 97,
     "metadata": {},
     "output_type": "execute_result"
    }
   ],
   "source": [
    "avg_rest_hot_p.head()"
   ]
  },
  {
   "cell_type": "code",
   "execution_count": 98,
   "id": "49e87f8b",
   "metadata": {
    "pycharm": {
     "name": "#%%\n"
    }
   },
   "outputs": [
    {
     "name": "stdout",
     "output_type": "stream",
     "text": [
      "<class 'pandas.core.frame.DataFrame'>\n",
      "RangeIndex: 227 entries, 0 to 226\n",
      "Data columns (total 7 columns):\n",
      " #   Column               Non-Null Count  Dtype  \n",
      "---  ------               --------------  -----  \n",
      " 0   Country Name         224 non-null    object \n",
      " 1   Country Code         222 non-null    object \n",
      " 2   Classification Name  222 non-null    object \n",
      " 3   Classification Code  222 non-null    object \n",
      " 4   Series Name          222 non-null    object \n",
      " 5   Series Code          222 non-null    float64\n",
      " 6   2017 [YR2017]        222 non-null    object \n",
      "dtypes: float64(1), object(6)\n",
      "memory usage: 12.5+ KB\n"
     ]
    }
   ],
   "source": [
    "avg_rest_hot_p.info()"
   ]
  },
  {
   "cell_type": "code",
   "execution_count": 99,
   "id": "5ae904f0",
   "metadata": {
    "pycharm": {
     "name": "#%%\n"
    }
   },
   "outputs": [
    {
     "data": {
      "text/plain": [
       "Country Name           3\n",
       "Country Code           5\n",
       "Classification Name    5\n",
       "Classification Code    5\n",
       "Series Name            5\n",
       "Series Code            5\n",
       "2017 [YR2017]          5\n",
       "dtype: int64"
      ]
     },
     "execution_count": 99,
     "metadata": {},
     "output_type": "execute_result"
    }
   ],
   "source": [
    "avg_rest_hot_p.isna().sum()"
   ]
  },
  {
   "cell_type": "code",
   "execution_count": 100,
   "id": "b4d6a220",
   "metadata": {
    "pycharm": {
     "name": "#%%\n"
    }
   },
   "outputs": [
    {
     "data": {
      "text/html": [
       "<div>\n",
       "<style scoped>\n",
       "    .dataframe tbody tr th:only-of-type {\n",
       "        vertical-align: middle;\n",
       "    }\n",
       "\n",
       "    .dataframe tbody tr th {\n",
       "        vertical-align: top;\n",
       "    }\n",
       "\n",
       "    .dataframe thead th {\n",
       "        text-align: right;\n",
       "    }\n",
       "</style>\n",
       "<table border=\"1\" class=\"dataframe\">\n",
       "  <thead>\n",
       "    <tr style=\"text-align: right;\">\n",
       "      <th></th>\n",
       "      <th>Country Name</th>\n",
       "      <th>Country Code</th>\n",
       "      <th>Classification Name</th>\n",
       "      <th>Classification Code</th>\n",
       "      <th>Series Name</th>\n",
       "      <th>Series Code</th>\n",
       "      <th>2017 [YR2017]</th>\n",
       "    </tr>\n",
       "  </thead>\n",
       "  <tbody>\n",
       "    <tr>\n",
       "      <th>222</th>\n",
       "      <td>NaN</td>\n",
       "      <td>NaN</td>\n",
       "      <td>NaN</td>\n",
       "      <td>NaN</td>\n",
       "      <td>NaN</td>\n",
       "      <td>NaN</td>\n",
       "      <td>NaN</td>\n",
       "    </tr>\n",
       "    <tr>\n",
       "      <th>223</th>\n",
       "      <td>NaN</td>\n",
       "      <td>NaN</td>\n",
       "      <td>NaN</td>\n",
       "      <td>NaN</td>\n",
       "      <td>NaN</td>\n",
       "      <td>NaN</td>\n",
       "      <td>NaN</td>\n",
       "    </tr>\n",
       "    <tr>\n",
       "      <th>224</th>\n",
       "      <td>NaN</td>\n",
       "      <td>NaN</td>\n",
       "      <td>NaN</td>\n",
       "      <td>NaN</td>\n",
       "      <td>NaN</td>\n",
       "      <td>NaN</td>\n",
       "      <td>NaN</td>\n",
       "    </tr>\n",
       "    <tr>\n",
       "      <th>225</th>\n",
       "      <td>Data from database: ICP 2017</td>\n",
       "      <td>NaN</td>\n",
       "      <td>NaN</td>\n",
       "      <td>NaN</td>\n",
       "      <td>NaN</td>\n",
       "      <td>NaN</td>\n",
       "      <td>NaN</td>\n",
       "    </tr>\n",
       "    <tr>\n",
       "      <th>226</th>\n",
       "      <td>Last Updated: 10/21/2020</td>\n",
       "      <td>NaN</td>\n",
       "      <td>NaN</td>\n",
       "      <td>NaN</td>\n",
       "      <td>NaN</td>\n",
       "      <td>NaN</td>\n",
       "      <td>NaN</td>\n",
       "    </tr>\n",
       "  </tbody>\n",
       "</table>\n",
       "</div>"
      ],
      "text/plain": [
       "                     Country Name Country Code Classification Name  \\\n",
       "222                           NaN          NaN                 NaN   \n",
       "223                           NaN          NaN                 NaN   \n",
       "224                           NaN          NaN                 NaN   \n",
       "225  Data from database: ICP 2017          NaN                 NaN   \n",
       "226      Last Updated: 10/21/2020          NaN                 NaN   \n",
       "\n",
       "    Classification Code Series Name  Series Code 2017 [YR2017]  \n",
       "222                 NaN         NaN          NaN           NaN  \n",
       "223                 NaN         NaN          NaN           NaN  \n",
       "224                 NaN         NaN          NaN           NaN  \n",
       "225                 NaN         NaN          NaN           NaN  \n",
       "226                 NaN         NaN          NaN           NaN  "
      ]
     },
     "execution_count": 100,
     "metadata": {},
     "output_type": "execute_result"
    }
   ],
   "source": [
    "avg_rest_hot_p[avg_rest_hot_p[[\"Country Code\"]].isnull().any(axis=1)]"
   ]
  },
  {
   "cell_type": "code",
   "execution_count": 101,
   "id": "ca1ff4b4",
   "metadata": {
    "pycharm": {
     "name": "#%%\n"
    }
   },
   "outputs": [
    {
     "data": {
      "text/html": [
       "<div>\n",
       "<style scoped>\n",
       "    .dataframe tbody tr th:only-of-type {\n",
       "        vertical-align: middle;\n",
       "    }\n",
       "\n",
       "    .dataframe tbody tr th {\n",
       "        vertical-align: top;\n",
       "    }\n",
       "\n",
       "    .dataframe thead th {\n",
       "        text-align: right;\n",
       "    }\n",
       "</style>\n",
       "<table border=\"1\" class=\"dataframe\">\n",
       "  <thead>\n",
       "    <tr style=\"text-align: right;\">\n",
       "      <th></th>\n",
       "      <th>Country Name</th>\n",
       "      <th>Country Code</th>\n",
       "      <th>Classification Name</th>\n",
       "      <th>Classification Code</th>\n",
       "      <th>Series Name</th>\n",
       "      <th>Series Code</th>\n",
       "      <th>2017 [YR2017]</th>\n",
       "    </tr>\n",
       "  </thead>\n",
       "  <tbody>\n",
       "    <tr>\n",
       "      <th>222</th>\n",
       "      <td>NaN</td>\n",
       "      <td>NaN</td>\n",
       "      <td>NaN</td>\n",
       "      <td>NaN</td>\n",
       "      <td>NaN</td>\n",
       "      <td>NaN</td>\n",
       "      <td>NaN</td>\n",
       "    </tr>\n",
       "    <tr>\n",
       "      <th>223</th>\n",
       "      <td>NaN</td>\n",
       "      <td>NaN</td>\n",
       "      <td>NaN</td>\n",
       "      <td>NaN</td>\n",
       "      <td>NaN</td>\n",
       "      <td>NaN</td>\n",
       "      <td>NaN</td>\n",
       "    </tr>\n",
       "    <tr>\n",
       "      <th>224</th>\n",
       "      <td>NaN</td>\n",
       "      <td>NaN</td>\n",
       "      <td>NaN</td>\n",
       "      <td>NaN</td>\n",
       "      <td>NaN</td>\n",
       "      <td>NaN</td>\n",
       "      <td>NaN</td>\n",
       "    </tr>\n",
       "  </tbody>\n",
       "</table>\n",
       "</div>"
      ],
      "text/plain": [
       "    Country Name Country Code Classification Name Classification Code  \\\n",
       "222          NaN          NaN                 NaN                 NaN   \n",
       "223          NaN          NaN                 NaN                 NaN   \n",
       "224          NaN          NaN                 NaN                 NaN   \n",
       "\n",
       "    Series Name  Series Code 2017 [YR2017]  \n",
       "222         NaN          NaN           NaN  \n",
       "223         NaN          NaN           NaN  \n",
       "224         NaN          NaN           NaN  "
      ]
     },
     "execution_count": 101,
     "metadata": {},
     "output_type": "execute_result"
    }
   ],
   "source": [
    "avg_rest_hot_p[avg_rest_hot_p['Country Name'].duplicated(keep=False)==True]"
   ]
  },
  {
   "cell_type": "markdown",
   "id": "a235978e",
   "metadata": {
    "pycharm": {
     "name": "#%% md\n"
    }
   },
   "source": [
    "Given the exploration done in the avg_rest_hot_p dataset, we can conclude that for the next step in the cleaning and transformations, we wish to keep only the \"Country Name\", \" Country Code\", and the \"2017 [YR2017]\" columns, but we will rename them. Moreover, to make sure that the dataset is homogeneous we will capitalize the first letter of each word in the \"Country Name\" column. We can also see that there is 5 null values, which arise due to empty rows and footnotes, these will be handled accordingly. Additionally, we can see that some countries in the average price have \"..\" instead of being null, which will be solved."
   ]
  },
  {
   "cell_type": "code",
   "execution_count": 102,
   "id": "ab804119",
   "metadata": {
    "pycharm": {
     "name": "#%%\n"
    }
   },
   "outputs": [],
   "source": [
    "# Select the columns we are interest in\n",
    "avg_rest_hot_p = avg_rest_hot_p[[\"Country Name\", \"Country Code\", \"2017 [YR2017]\"]]"
   ]
  },
  {
   "cell_type": "code",
   "execution_count": 103,
   "id": "0d271aee",
   "metadata": {
    "pycharm": {
     "name": "#%%\n"
    }
   },
   "outputs": [],
   "source": [
    "# Rename the columns\n",
    "avg_rest_hot_p = avg_rest_hot_p.rename(columns = {\"Country Name\": \"Country\", \"2017 [YR2017]\": \"Average Hotel and Restaurant Cost\"})"
   ]
  },
  {
   "cell_type": "code",
   "execution_count": 104,
   "id": "7de15fc6",
   "metadata": {
    "pycharm": {
     "name": "#%%\n"
    }
   },
   "outputs": [],
   "source": [
    "# Capitalise the first letter of each word in the Country column, and remove any extra spaces\n",
    "avg_rest_hot_p[\"Country\"] = avg_rest_hot_p[\"Country\"].str.title()\n",
    "avg_rest_hot_p[\"Country\"] = avg_rest_hot_p[\"Country\"].str.strip()"
   ]
  },
  {
   "cell_type": "code",
   "execution_count": 105,
   "id": "4d160ee7",
   "metadata": {
    "pycharm": {
     "name": "#%%\n"
    }
   },
   "outputs": [],
   "source": [
    "# Substitute \"..\" for null value\n",
    "avg_rest_hot_p[\"Average Hotel and Restaurant Cost\"] = avg_rest_hot_p[\"Average Hotel and Restaurant Cost\"].replace(\"..\",None)\n",
    "\n",
    "# Remove empty rows\n",
    "avg_rest_hot_p = avg_rest_hot_p.dropna(subset=['Average Hotel and Restaurant Cost'])"
   ]
  },
  {
   "cell_type": "code",
   "execution_count": 106,
   "id": "ddad2ee9",
   "metadata": {
    "pycharm": {
     "name": "#%%\n"
    }
   },
   "outputs": [],
   "source": [
    "# Convert the column from string to numeric value\n",
    "avg_rest_hot_p[\"Average Hotel and Restaurant Cost\"] = pd.to_numeric(avg_rest_hot_p[\"Average Hotel and Restaurant Cost\"], errors = \"coerce\")"
   ]
  },
  {
   "cell_type": "code",
   "execution_count": 107,
   "id": "9779e091",
   "metadata": {
    "pycharm": {
     "name": "#%%\n"
    }
   },
   "outputs": [],
   "source": [
    "# Round the numbers to two decimal points\n",
    "avg_rest_hot_p[\"Average Hotel and Restaurant Cost\"] = avg_rest_hot_p[\"Average Hotel and Restaurant Cost\"].round(2)"
   ]
  },
  {
   "cell_type": "code",
   "execution_count": 108,
   "id": "a266c8cc",
   "metadata": {
    "pycharm": {
     "name": "#%%\n"
    }
   },
   "outputs": [
    {
     "data": {
      "text/html": [
       "<div>\n",
       "<style scoped>\n",
       "    .dataframe tbody tr th:only-of-type {\n",
       "        vertical-align: middle;\n",
       "    }\n",
       "\n",
       "    .dataframe tbody tr th {\n",
       "        vertical-align: top;\n",
       "    }\n",
       "\n",
       "    .dataframe thead th {\n",
       "        text-align: right;\n",
       "    }\n",
       "</style>\n",
       "<table border=\"1\" class=\"dataframe\">\n",
       "  <thead>\n",
       "    <tr style=\"text-align: right;\">\n",
       "      <th></th>\n",
       "      <th>Average Hotel and Restaurant Cost</th>\n",
       "    </tr>\n",
       "  </thead>\n",
       "  <tbody>\n",
       "    <tr>\n",
       "      <th>count</th>\n",
       "      <td>184.000000</td>\n",
       "    </tr>\n",
       "    <tr>\n",
       "      <th>mean</th>\n",
       "      <td>82.796087</td>\n",
       "    </tr>\n",
       "    <tr>\n",
       "      <th>std</th>\n",
       "      <td>41.254402</td>\n",
       "    </tr>\n",
       "    <tr>\n",
       "      <th>min</th>\n",
       "      <td>26.440000</td>\n",
       "    </tr>\n",
       "    <tr>\n",
       "      <th>25%</th>\n",
       "      <td>53.867500</td>\n",
       "    </tr>\n",
       "    <tr>\n",
       "      <th>50%</th>\n",
       "      <td>69.090000</td>\n",
       "    </tr>\n",
       "    <tr>\n",
       "      <th>75%</th>\n",
       "      <td>103.875000</td>\n",
       "    </tr>\n",
       "    <tr>\n",
       "      <th>max</th>\n",
       "      <td>232.370000</td>\n",
       "    </tr>\n",
       "  </tbody>\n",
       "</table>\n",
       "</div>"
      ],
      "text/plain": [
       "       Average Hotel and Restaurant Cost\n",
       "count                         184.000000\n",
       "mean                           82.796087\n",
       "std                            41.254402\n",
       "min                            26.440000\n",
       "25%                            53.867500\n",
       "50%                            69.090000\n",
       "75%                           103.875000\n",
       "max                           232.370000"
      ]
     },
     "execution_count": 108,
     "metadata": {},
     "output_type": "execute_result"
    }
   ],
   "source": [
    "avg_rest_hot_p.describe()"
   ]
  },
  {
   "cell_type": "code",
   "execution_count": 109,
   "id": "7f2a9554",
   "metadata": {
    "pycharm": {
     "name": "#%%\n"
    }
   },
   "outputs": [],
   "source": [
    "# Set a new column that classifies countries into budget travel, comfortable travel and luxury travel\n",
    "conditions = [avg_rest_hot_p.index <= 90, (avg_rest_hot_p.index > 90) & (avg_rest_hot_p.index <= 160), avg_rest_hot_p.index > 160]\n",
    "choices = [\"Budget Traveler\", \"Comfort traveler\", \"Luxury Traveler\"]\n",
    "avg_rest_hot_p[\"Type Traveler\"] = np.select(conditions, choices, default = \"Non Applicable\")"
   ]
  },
  {
   "cell_type": "code",
   "execution_count": 170,
   "id": "903c41f4",
   "metadata": {
    "pycharm": {
     "name": "#%%\n"
    }
   },
   "outputs": [
    {
     "data": {
      "text/plain": [
       "Budget Traveler     0.437500\n",
       "Comfort traveler    0.308594\n",
       "Luxury Traveler     0.253906\n",
       "Name: Type Traveler, dtype: float64"
      ]
     },
     "execution_count": 170,
     "metadata": {},
     "output_type": "execute_result"
    }
   ],
   "source": [
    "avg_rest_hot_p['Type Traveler'].value_counts(5)"
   ]
  },
  {
   "cell_type": "markdown",
   "id": "fde0129b",
   "metadata": {
    "pycharm": {
     "name": "#%% md\n"
    }
   },
   "source": [
    "#### LGBTQ Dataset"
   ]
  },
  {
   "cell_type": "code",
   "execution_count": 111,
   "id": "73b9e2c2",
   "metadata": {
    "pycharm": {
     "name": "#%%\n"
    }
   },
   "outputs": [
    {
     "data": {
      "text/html": [
       "<div>\n",
       "<style scoped>\n",
       "    .dataframe tbody tr th:only-of-type {\n",
       "        vertical-align: middle;\n",
       "    }\n",
       "\n",
       "    .dataframe tbody tr th {\n",
       "        vertical-align: top;\n",
       "    }\n",
       "\n",
       "    .dataframe thead th {\n",
       "        text-align: right;\n",
       "    }\n",
       "</style>\n",
       "<table border=\"1\" class=\"dataframe\">\n",
       "  <thead>\n",
       "    <tr style=\"text-align: right;\">\n",
       "      <th></th>\n",
       "      <th>RANK</th>\n",
       "      <th>COUNTRY</th>\n",
       "      <th>GAI</th>\n",
       "    </tr>\n",
       "  </thead>\n",
       "  <tbody>\n",
       "    <tr>\n",
       "      <th>0</th>\n",
       "      <td>1</td>\n",
       "      <td>Iceland</td>\n",
       "      <td>9.78</td>\n",
       "    </tr>\n",
       "    <tr>\n",
       "      <th>1</th>\n",
       "      <td>2</td>\n",
       "      <td>Netherlands</td>\n",
       "      <td>9.46</td>\n",
       "    </tr>\n",
       "    <tr>\n",
       "      <th>2</th>\n",
       "      <td>3</td>\n",
       "      <td>Norway</td>\n",
       "      <td>9.38</td>\n",
       "    </tr>\n",
       "    <tr>\n",
       "      <th>3</th>\n",
       "      <td>4</td>\n",
       "      <td>Sweden</td>\n",
       "      <td>9.18</td>\n",
       "    </tr>\n",
       "    <tr>\n",
       "      <th>4</th>\n",
       "      <td>5</td>\n",
       "      <td>Canada</td>\n",
       "      <td>9.02</td>\n",
       "    </tr>\n",
       "  </tbody>\n",
       "</table>\n",
       "</div>"
      ],
      "text/plain": [
       "   RANK      COUNTRY   GAI\n",
       "0     1      Iceland  9.78\n",
       "1     2  Netherlands  9.46\n",
       "2     3       Norway  9.38\n",
       "3     4       Sweden  9.18\n",
       "4     5       Canada  9.02"
      ]
     },
     "execution_count": 111,
     "metadata": {},
     "output_type": "execute_result"
    }
   ],
   "source": [
    "lgbtq.head()"
   ]
  },
  {
   "cell_type": "code",
   "execution_count": 112,
   "id": "509de283",
   "metadata": {
    "pycharm": {
     "name": "#%%\n"
    }
   },
   "outputs": [
    {
     "name": "stdout",
     "output_type": "stream",
     "text": [
      "<class 'pandas.core.frame.DataFrame'>\n",
      "RangeIndex: 175 entries, 0 to 174\n",
      "Data columns (total 3 columns):\n",
      " #   Column   Non-Null Count  Dtype  \n",
      "---  ------   --------------  -----  \n",
      " 0   RANK     175 non-null    int64  \n",
      " 1   COUNTRY  175 non-null    object \n",
      " 2   GAI      175 non-null    float64\n",
      "dtypes: float64(1), int64(1), object(1)\n",
      "memory usage: 4.2+ KB\n"
     ]
    }
   ],
   "source": [
    "lgbtq.info()"
   ]
  },
  {
   "cell_type": "code",
   "execution_count": 113,
   "id": "2b5d3f24",
   "metadata": {
    "pycharm": {
     "name": "#%%\n"
    }
   },
   "outputs": [],
   "source": [
    "lgbtq['COUNTRY'] = lgbtq['COUNTRY'].str.title()"
   ]
  },
  {
   "cell_type": "markdown",
   "id": "41cbc4b3",
   "metadata": {
    "pycharm": {
     "name": "#%% md\n"
    }
   },
   "source": [
    "#### Cuisine Rank Dataset"
   ]
  },
  {
   "cell_type": "code",
   "execution_count": 114,
   "id": "ca5e815c",
   "metadata": {
    "pycharm": {
     "name": "#%%\n"
    }
   },
   "outputs": [
    {
     "data": {
      "text/html": [
       "<div>\n",
       "<style scoped>\n",
       "    .dataframe tbody tr th:only-of-type {\n",
       "        vertical-align: middle;\n",
       "    }\n",
       "\n",
       "    .dataframe tbody tr th {\n",
       "        vertical-align: top;\n",
       "    }\n",
       "\n",
       "    .dataframe thead th {\n",
       "        text-align: right;\n",
       "    }\n",
       "</style>\n",
       "<table border=\"1\" class=\"dataframe\">\n",
       "  <thead>\n",
       "    <tr style=\"text-align: right;\">\n",
       "      <th></th>\n",
       "      <th>Country</th>\n",
       "      <th>Ratings</th>\n",
       "    </tr>\n",
       "  </thead>\n",
       "  <tbody>\n",
       "    <tr>\n",
       "      <th>0</th>\n",
       "      <td>italy</td>\n",
       "      <td>4.72</td>\n",
       "    </tr>\n",
       "    <tr>\n",
       "      <th>1</th>\n",
       "      <td>greece</td>\n",
       "      <td>4.69</td>\n",
       "    </tr>\n",
       "    <tr>\n",
       "      <th>2</th>\n",
       "      <td>spain</td>\n",
       "      <td>4.59</td>\n",
       "    </tr>\n",
       "    <tr>\n",
       "      <th>3</th>\n",
       "      <td>japan</td>\n",
       "      <td>4.59</td>\n",
       "    </tr>\n",
       "    <tr>\n",
       "      <th>4</th>\n",
       "      <td>india</td>\n",
       "      <td>4.54</td>\n",
       "    </tr>\n",
       "  </tbody>\n",
       "</table>\n",
       "</div>"
      ],
      "text/plain": [
       "  Country  Ratings\n",
       "0   italy     4.72\n",
       "1  greece     4.69\n",
       "2   spain     4.59\n",
       "3   japan     4.59\n",
       "4   india     4.54"
      ]
     },
     "execution_count": 114,
     "metadata": {},
     "output_type": "execute_result"
    }
   ],
   "source": [
    "cuisine_rank.head()"
   ]
  },
  {
   "cell_type": "code",
   "execution_count": 171,
   "id": "faa2b11f",
   "metadata": {
    "pycharm": {
     "name": "#%%\n"
    }
   },
   "outputs": [
    {
     "name": "stdout",
     "output_type": "stream",
     "text": [
      "<class 'pandas.core.frame.DataFrame'>\n",
      "RangeIndex: 95 entries, 0 to 94\n",
      "Data columns (total 2 columns):\n",
      " #   Column   Non-Null Count  Dtype  \n",
      "---  ------   --------------  -----  \n",
      " 0   Country  95 non-null     object \n",
      " 1   Ratings  95 non-null     float64\n",
      "dtypes: float64(1), object(1)\n",
      "memory usage: 1.6+ KB\n"
     ]
    }
   ],
   "source": [
    "cuisine_rank.info()"
   ]
  },
  {
   "cell_type": "code",
   "execution_count": 172,
   "id": "19e1e80c",
   "metadata": {
    "pycharm": {
     "name": "#%%\n"
    }
   },
   "outputs": [],
   "source": [
    "cuisine_rank['Country'] = cuisine_rank['Country'].str.replace('-', ' ')\n",
    "cuisine_rank['Country'] = cuisine_rank['Country'].str.title()"
   ]
  },
  {
   "cell_type": "code",
   "execution_count": 173,
   "id": "cf3db153",
   "metadata": {
    "pycharm": {
     "name": "#%%\n"
    }
   },
   "outputs": [
    {
     "data": {
      "text/html": [
       "<div>\n",
       "<style scoped>\n",
       "    .dataframe tbody tr th:only-of-type {\n",
       "        vertical-align: middle;\n",
       "    }\n",
       "\n",
       "    .dataframe tbody tr th {\n",
       "        vertical-align: top;\n",
       "    }\n",
       "\n",
       "    .dataframe thead th {\n",
       "        text-align: right;\n",
       "    }\n",
       "</style>\n",
       "<table border=\"1\" class=\"dataframe\">\n",
       "  <thead>\n",
       "    <tr style=\"text-align: right;\">\n",
       "      <th></th>\n",
       "      <th>Country</th>\n",
       "      <th>Ratings</th>\n",
       "    </tr>\n",
       "  </thead>\n",
       "  <tbody>\n",
       "    <tr>\n",
       "      <th>0</th>\n",
       "      <td>Italy</td>\n",
       "      <td>4.72</td>\n",
       "    </tr>\n",
       "    <tr>\n",
       "      <th>1</th>\n",
       "      <td>Greece</td>\n",
       "      <td>4.69</td>\n",
       "    </tr>\n",
       "    <tr>\n",
       "      <th>2</th>\n",
       "      <td>Spain</td>\n",
       "      <td>4.59</td>\n",
       "    </tr>\n",
       "    <tr>\n",
       "      <th>3</th>\n",
       "      <td>Japan</td>\n",
       "      <td>4.59</td>\n",
       "    </tr>\n",
       "    <tr>\n",
       "      <th>4</th>\n",
       "      <td>India</td>\n",
       "      <td>4.54</td>\n",
       "    </tr>\n",
       "    <tr>\n",
       "      <th>...</th>\n",
       "      <td>...</td>\n",
       "      <td>...</td>\n",
       "    </tr>\n",
       "    <tr>\n",
       "      <th>90</th>\n",
       "      <td>Iceland</td>\n",
       "      <td>3.80</td>\n",
       "    </tr>\n",
       "    <tr>\n",
       "      <th>91</th>\n",
       "      <td>Canada</td>\n",
       "      <td>3.79</td>\n",
       "    </tr>\n",
       "    <tr>\n",
       "      <th>92</th>\n",
       "      <td>Latvia</td>\n",
       "      <td>3.79</td>\n",
       "    </tr>\n",
       "    <tr>\n",
       "      <th>93</th>\n",
       "      <td>Morocco</td>\n",
       "      <td>3.69</td>\n",
       "    </tr>\n",
       "    <tr>\n",
       "      <th>94</th>\n",
       "      <td>Norway</td>\n",
       "      <td>3.58</td>\n",
       "    </tr>\n",
       "  </tbody>\n",
       "</table>\n",
       "<p>95 rows × 2 columns</p>\n",
       "</div>"
      ],
      "text/plain": [
       "    Country  Ratings\n",
       "0     Italy     4.72\n",
       "1    Greece     4.69\n",
       "2     Spain     4.59\n",
       "3     Japan     4.59\n",
       "4     India     4.54\n",
       "..      ...      ...\n",
       "90  Iceland     3.80\n",
       "91   Canada     3.79\n",
       "92   Latvia     3.79\n",
       "93  Morocco     3.69\n",
       "94   Norway     3.58\n",
       "\n",
       "[95 rows x 2 columns]"
      ]
     },
     "execution_count": 173,
     "metadata": {},
     "output_type": "execute_result"
    }
   ],
   "source": [
    "cuisine_rank"
   ]
  },
  {
   "cell_type": "markdown",
   "id": "557c2ec3",
   "metadata": {
    "pycharm": {
     "name": "#%% md\n"
    }
   },
   "source": [
    "## Adding ISO Code to All Datasets by Joining with Country Dataset"
   ]
  },
  {
   "cell_type": "markdown",
   "id": "34cf14df",
   "metadata": {
    "pycharm": {
     "name": "#%% md\n"
    }
   },
   "source": [
    "\n",
    "We will join all datasets with country data, so that all dataset can have ISO Code.Later in Tableau, we will connect datasets using ISO Code.Furthermore, we are analyzing countries that are included in WEF_TTDI index data, so all the other countries will be dropped.\n",
    "\n",
    "As WEF dataset already contains ISO code and we are using countris based on WEF dataset,there is no need for joining with country datset.\""
   ]
  },
  {
   "cell_type": "markdown",
   "id": "55532386",
   "metadata": {
    "pycharm": {
     "name": "#%% md\n"
    }
   },
   "source": [
    "#### Check climate - country"
   ]
  },
  {
   "cell_type": "code",
   "execution_count": 118,
   "id": "4570a4da",
   "metadata": {
    "pycharm": {
     "name": "#%%\n"
    }
   },
   "outputs": [
    {
     "data": {
      "text/html": [
       "<div>\n",
       "<style scoped>\n",
       "    .dataframe tbody tr th:only-of-type {\n",
       "        vertical-align: middle;\n",
       "    }\n",
       "\n",
       "    .dataframe tbody tr th {\n",
       "        vertical-align: top;\n",
       "    }\n",
       "\n",
       "    .dataframe thead th {\n",
       "        text-align: right;\n",
       "    }\n",
       "</style>\n",
       "<table border=\"1\" class=\"dataframe\">\n",
       "  <thead>\n",
       "    <tr style=\"text-align: right;\">\n",
       "      <th></th>\n",
       "      <th>Country</th>\n",
       "      <th>Climate</th>\n",
       "      <th>Climate Zone</th>\n",
       "      <th>Name</th>\n",
       "      <th>Iso3</th>\n",
       "    </tr>\n",
       "  </thead>\n",
       "  <tbody>\n",
       "    <tr>\n",
       "      <th>0</th>\n",
       "      <td>Afghanistan</td>\n",
       "      <td>Arid To Semiarid; Cold Winters And Hot Summers</td>\n",
       "      <td>Tropical</td>\n",
       "      <td>Afghanistan</td>\n",
       "      <td>AFG</td>\n",
       "    </tr>\n",
       "    <tr>\n",
       "      <th>1</th>\n",
       "      <td>Akrotiri</td>\n",
       "      <td>Temperate; Mediterranean With Hot, Dry Summers...</td>\n",
       "      <td>Temperate</td>\n",
       "      <td>NaN</td>\n",
       "      <td>NaN</td>\n",
       "    </tr>\n",
       "    <tr>\n",
       "      <th>2</th>\n",
       "      <td>Albania</td>\n",
       "      <td>Mild Temperate; Cool, Cloudy, Wet Winters; Hot...</td>\n",
       "      <td>Temperate</td>\n",
       "      <td>Albania</td>\n",
       "      <td>ALB</td>\n",
       "    </tr>\n",
       "    <tr>\n",
       "      <th>3</th>\n",
       "      <td>Algeria</td>\n",
       "      <td>Arid To Semiarid; Mild, Wet Winters With Hot, ...</td>\n",
       "      <td>Tropical</td>\n",
       "      <td>Algeria</td>\n",
       "      <td>DZA</td>\n",
       "    </tr>\n",
       "    <tr>\n",
       "      <th>4</th>\n",
       "      <td>American Samoa</td>\n",
       "      <td>Tropical Marine, Moderated By Southeast Trade ...</td>\n",
       "      <td>Tropical</td>\n",
       "      <td>American Samoa</td>\n",
       "      <td>ASM</td>\n",
       "    </tr>\n",
       "  </tbody>\n",
       "</table>\n",
       "</div>"
      ],
      "text/plain": [
       "          Country                                            Climate  \\\n",
       "0     Afghanistan     Arid To Semiarid; Cold Winters And Hot Summers   \n",
       "1        Akrotiri  Temperate; Mediterranean With Hot, Dry Summers...   \n",
       "2         Albania  Mild Temperate; Cool, Cloudy, Wet Winters; Hot...   \n",
       "3         Algeria  Arid To Semiarid; Mild, Wet Winters With Hot, ...   \n",
       "4  American Samoa  Tropical Marine, Moderated By Southeast Trade ...   \n",
       "\n",
       "  Climate Zone            Name Iso3  \n",
       "0     Tropical     Afghanistan  AFG  \n",
       "1    Temperate             NaN  NaN  \n",
       "2    Temperate         Albania  ALB  \n",
       "3     Tropical         Algeria  DZA  \n",
       "4     Tropical  American Samoa  ASM  "
      ]
     },
     "execution_count": 118,
     "metadata": {},
     "output_type": "execute_result"
    }
   ],
   "source": [
    "clim = clim.merge(country[['Name','Iso3']], how='left', left_on='Country', right_on='Name')\n",
    "clim.head()"
   ]
  },
  {
   "cell_type": "code",
   "execution_count": 119,
   "id": "7166ab36",
   "metadata": {
    "pycharm": {
     "name": "#%%\n"
    }
   },
   "outputs": [
    {
     "data": {
      "text/html": [
       "<div>\n",
       "<style scoped>\n",
       "    .dataframe tbody tr th:only-of-type {\n",
       "        vertical-align: middle;\n",
       "    }\n",
       "\n",
       "    .dataframe tbody tr th {\n",
       "        vertical-align: top;\n",
       "    }\n",
       "\n",
       "    .dataframe thead th {\n",
       "        text-align: right;\n",
       "    }\n",
       "</style>\n",
       "<table border=\"1\" class=\"dataframe\">\n",
       "  <thead>\n",
       "    <tr style=\"text-align: right;\">\n",
       "      <th></th>\n",
       "      <th>Country</th>\n",
       "      <th>Climate</th>\n",
       "      <th>Climate Zone</th>\n",
       "      <th>Name</th>\n",
       "      <th>Iso3</th>\n",
       "    </tr>\n",
       "  </thead>\n",
       "  <tbody>\n",
       "    <tr>\n",
       "      <th>1</th>\n",
       "      <td>Akrotiri</td>\n",
       "      <td>Temperate; Mediterranean With Hot, Dry Summers...</td>\n",
       "      <td>Temperate</td>\n",
       "      <td>NaN</td>\n",
       "      <td>NaN</td>\n",
       "    </tr>\n",
       "    <tr>\n",
       "      <th>7</th>\n",
       "      <td>Anguilla</td>\n",
       "      <td>Tropical; Moderated By Northeast Trade Winds</td>\n",
       "      <td>Tropical</td>\n",
       "      <td>NaN</td>\n",
       "      <td>NaN</td>\n",
       "    </tr>\n",
       "    <tr>\n",
       "      <th>8</th>\n",
       "      <td>Antarctica</td>\n",
       "      <td>Severe Low Temperatures Vary With Latitude, El...</td>\n",
       "      <td>Polar</td>\n",
       "      <td>NaN</td>\n",
       "      <td>NaN</td>\n",
       "    </tr>\n",
       "    <tr>\n",
       "      <th>10</th>\n",
       "      <td>Arctic Ocean</td>\n",
       "      <td>Polar Climate Characterized By Persistent Cold...</td>\n",
       "      <td>Polar</td>\n",
       "      <td>NaN</td>\n",
       "      <td>NaN</td>\n",
       "    </tr>\n",
       "    <tr>\n",
       "      <th>14</th>\n",
       "      <td>Ashmore And Cartier Islands</td>\n",
       "      <td>Tropical</td>\n",
       "      <td>Tropical</td>\n",
       "      <td>NaN</td>\n",
       "      <td>NaN</td>\n",
       "    </tr>\n",
       "    <tr>\n",
       "      <th>...</th>\n",
       "      <td>...</td>\n",
       "      <td>...</td>\n",
       "      <td>...</td>\n",
       "      <td>...</td>\n",
       "      <td>...</td>\n",
       "    </tr>\n",
       "    <tr>\n",
       "      <th>269</th>\n",
       "      <td>Virgin Islands</td>\n",
       "      <td>Subtropical, Tempered By Easterly Trade Winds,...</td>\n",
       "      <td>Subtropical</td>\n",
       "      <td>NaN</td>\n",
       "      <td>NaN</td>\n",
       "    </tr>\n",
       "    <tr>\n",
       "      <th>270</th>\n",
       "      <td>Wake Island</td>\n",
       "      <td>Tropical</td>\n",
       "      <td>Tropical</td>\n",
       "      <td>NaN</td>\n",
       "      <td>NaN</td>\n",
       "    </tr>\n",
       "    <tr>\n",
       "      <th>271</th>\n",
       "      <td>Wallis And Futuna</td>\n",
       "      <td>Tropical; Hot, Rainy Season (November To April...</td>\n",
       "      <td>Tropical</td>\n",
       "      <td>NaN</td>\n",
       "      <td>NaN</td>\n",
       "    </tr>\n",
       "    <tr>\n",
       "      <th>272</th>\n",
       "      <td>West Bank</td>\n",
       "      <td>Temperate; Temperature And Precipitation Vary ...</td>\n",
       "      <td>Temperate</td>\n",
       "      <td>NaN</td>\n",
       "      <td>NaN</td>\n",
       "    </tr>\n",
       "    <tr>\n",
       "      <th>273</th>\n",
       "      <td>Western Sahara</td>\n",
       "      <td>Hot, Dry Desert; Rain Is Rare; Cold Offshore A...</td>\n",
       "      <td>Tropical</td>\n",
       "      <td>NaN</td>\n",
       "      <td>NaN</td>\n",
       "    </tr>\n",
       "  </tbody>\n",
       "</table>\n",
       "<p>73 rows × 5 columns</p>\n",
       "</div>"
      ],
      "text/plain": [
       "                         Country  \\\n",
       "1                       Akrotiri   \n",
       "7                       Anguilla   \n",
       "8                     Antarctica   \n",
       "10                  Arctic Ocean   \n",
       "14   Ashmore And Cartier Islands   \n",
       "..                           ...   \n",
       "269               Virgin Islands   \n",
       "270                  Wake Island   \n",
       "271            Wallis And Futuna   \n",
       "272                    West Bank   \n",
       "273               Western Sahara   \n",
       "\n",
       "                                               Climate Climate Zone Name Iso3  \n",
       "1    Temperate; Mediterranean With Hot, Dry Summers...    Temperate  NaN  NaN  \n",
       "7         Tropical; Moderated By Northeast Trade Winds     Tropical  NaN  NaN  \n",
       "8    Severe Low Temperatures Vary With Latitude, El...        Polar  NaN  NaN  \n",
       "10   Polar Climate Characterized By Persistent Cold...        Polar  NaN  NaN  \n",
       "14                                            Tropical     Tropical  NaN  NaN  \n",
       "..                                                 ...          ...  ...  ...  \n",
       "269  Subtropical, Tempered By Easterly Trade Winds,...  Subtropical  NaN  NaN  \n",
       "270                                           Tropical     Tropical  NaN  NaN  \n",
       "271  Tropical; Hot, Rainy Season (November To April...     Tropical  NaN  NaN  \n",
       "272  Temperate; Temperature And Precipitation Vary ...    Temperate  NaN  NaN  \n",
       "273  Hot, Dry Desert; Rain Is Rare; Cold Offshore A...     Tropical  NaN  NaN  \n",
       "\n",
       "[73 rows x 5 columns]"
      ]
     },
     "execution_count": 119,
     "metadata": {},
     "output_type": "execute_result"
    }
   ],
   "source": [
    "# check the countries that are not merged\n",
    "clim[clim['Name'].isnull()]"
   ]
  },
  {
   "cell_type": "code",
   "execution_count": 120,
   "id": "9f8e7f22",
   "metadata": {
    "pycharm": {
     "name": "#%%\n"
    }
   },
   "outputs": [],
   "source": [
    "# drop the countries that are not merged\n",
    "clim = clim.dropna(subset=['Name'])\n",
    "# drop the merged country name column to avoid repetition\n",
    "clim = clim.drop(['Name'], axis=1)"
   ]
  },
  {
   "cell_type": "code",
   "execution_count": 121,
   "id": "1865fb87",
   "metadata": {
    "pycharm": {
     "name": "#%%\n"
    }
   },
   "outputs": [
    {
     "data": {
      "text/html": [
       "<div>\n",
       "<style scoped>\n",
       "    .dataframe tbody tr th:only-of-type {\n",
       "        vertical-align: middle;\n",
       "    }\n",
       "\n",
       "    .dataframe tbody tr th {\n",
       "        vertical-align: top;\n",
       "    }\n",
       "\n",
       "    .dataframe thead th {\n",
       "        text-align: right;\n",
       "    }\n",
       "</style>\n",
       "<table border=\"1\" class=\"dataframe\">\n",
       "  <thead>\n",
       "    <tr style=\"text-align: right;\">\n",
       "      <th></th>\n",
       "      <th>Country</th>\n",
       "      <th>Climate</th>\n",
       "      <th>Climate Zone</th>\n",
       "      <th>Iso3</th>\n",
       "    </tr>\n",
       "  </thead>\n",
       "  <tbody>\n",
       "    <tr>\n",
       "      <th>0</th>\n",
       "      <td>Afghanistan</td>\n",
       "      <td>Arid To Semiarid; Cold Winters And Hot Summers</td>\n",
       "      <td>Tropical</td>\n",
       "      <td>AFG</td>\n",
       "    </tr>\n",
       "    <tr>\n",
       "      <th>2</th>\n",
       "      <td>Albania</td>\n",
       "      <td>Mild Temperate; Cool, Cloudy, Wet Winters; Hot...</td>\n",
       "      <td>Temperate</td>\n",
       "      <td>ALB</td>\n",
       "    </tr>\n",
       "    <tr>\n",
       "      <th>3</th>\n",
       "      <td>Algeria</td>\n",
       "      <td>Arid To Semiarid; Mild, Wet Winters With Hot, ...</td>\n",
       "      <td>Tropical</td>\n",
       "      <td>DZA</td>\n",
       "    </tr>\n",
       "    <tr>\n",
       "      <th>4</th>\n",
       "      <td>American Samoa</td>\n",
       "      <td>Tropical Marine, Moderated By Southeast Trade ...</td>\n",
       "      <td>Tropical</td>\n",
       "      <td>ASM</td>\n",
       "    </tr>\n",
       "    <tr>\n",
       "      <th>5</th>\n",
       "      <td>Andorra</td>\n",
       "      <td>Temperate; Snowy, Cold Winters And Warm, Dry S...</td>\n",
       "      <td>Temperate</td>\n",
       "      <td>ADO</td>\n",
       "    </tr>\n",
       "  </tbody>\n",
       "</table>\n",
       "</div>"
      ],
      "text/plain": [
       "          Country                                            Climate  \\\n",
       "0     Afghanistan     Arid To Semiarid; Cold Winters And Hot Summers   \n",
       "2         Albania  Mild Temperate; Cool, Cloudy, Wet Winters; Hot...   \n",
       "3         Algeria  Arid To Semiarid; Mild, Wet Winters With Hot, ...   \n",
       "4  American Samoa  Tropical Marine, Moderated By Southeast Trade ...   \n",
       "5         Andorra  Temperate; Snowy, Cold Winters And Warm, Dry S...   \n",
       "\n",
       "  Climate Zone Iso3  \n",
       "0     Tropical  AFG  \n",
       "2    Temperate  ALB  \n",
       "3     Tropical  DZA  \n",
       "4     Tropical  ASM  \n",
       "5    Temperate  ADO  "
      ]
     },
     "execution_count": 121,
     "metadata": {},
     "output_type": "execute_result"
    }
   ],
   "source": [
    "clim.head()"
   ]
  },
  {
   "cell_type": "markdown",
   "id": "43cfe299",
   "metadata": {
    "pycharm": {
     "name": "#%% md\n"
    }
   },
   "source": [
    "#### Check Currency - Country"
   ]
  },
  {
   "cell_type": "code",
   "execution_count": 122,
   "id": "f57ec348",
   "metadata": {
    "pycharm": {
     "name": "#%%\n"
    }
   },
   "outputs": [
    {
     "data": {
      "text/html": [
       "<div>\n",
       "<style scoped>\n",
       "    .dataframe tbody tr th:only-of-type {\n",
       "        vertical-align: middle;\n",
       "    }\n",
       "\n",
       "    .dataframe tbody tr th {\n",
       "        vertical-align: top;\n",
       "    }\n",
       "\n",
       "    .dataframe thead th {\n",
       "        text-align: right;\n",
       "    }\n",
       "</style>\n",
       "<table border=\"1\" class=\"dataframe\">\n",
       "  <thead>\n",
       "    <tr style=\"text-align: right;\">\n",
       "      <th></th>\n",
       "      <th>Country</th>\n",
       "      <th>Currency</th>\n",
       "      <th>Currency Code</th>\n",
       "      <th>Name</th>\n",
       "      <th>Iso3</th>\n",
       "    </tr>\n",
       "  </thead>\n",
       "  <tbody>\n",
       "    <tr>\n",
       "      <th>0</th>\n",
       "      <td>Afghanistan</td>\n",
       "      <td>Afghani</td>\n",
       "      <td>AFN</td>\n",
       "      <td>Afghanistan</td>\n",
       "      <td>AFG</td>\n",
       "    </tr>\n",
       "    <tr>\n",
       "      <th>1</th>\n",
       "      <td>Åland Islands</td>\n",
       "      <td>Euro</td>\n",
       "      <td>EUR</td>\n",
       "      <td>NaN</td>\n",
       "      <td>NaN</td>\n",
       "    </tr>\n",
       "    <tr>\n",
       "      <th>2</th>\n",
       "      <td>Albania</td>\n",
       "      <td>Lek</td>\n",
       "      <td>ALL</td>\n",
       "      <td>Albania</td>\n",
       "      <td>ALB</td>\n",
       "    </tr>\n",
       "    <tr>\n",
       "      <th>3</th>\n",
       "      <td>Algeria</td>\n",
       "      <td>Algerian Dinar</td>\n",
       "      <td>DZD</td>\n",
       "      <td>Algeria</td>\n",
       "      <td>DZA</td>\n",
       "    </tr>\n",
       "    <tr>\n",
       "      <th>4</th>\n",
       "      <td>American Samoa</td>\n",
       "      <td>Us Dollar</td>\n",
       "      <td>USD</td>\n",
       "      <td>American Samoa</td>\n",
       "      <td>ASM</td>\n",
       "    </tr>\n",
       "  </tbody>\n",
       "</table>\n",
       "</div>"
      ],
      "text/plain": [
       "          Country        Currency Currency Code            Name Iso3\n",
       "0     Afghanistan         Afghani           AFN     Afghanistan  AFG\n",
       "1   Åland Islands            Euro           EUR             NaN  NaN\n",
       "2         Albania             Lek           ALL         Albania  ALB\n",
       "3         Algeria  Algerian Dinar           DZD         Algeria  DZA\n",
       "4  American Samoa       Us Dollar           USD  American Samoa  ASM"
      ]
     },
     "execution_count": 122,
     "metadata": {},
     "output_type": "execute_result"
    }
   ],
   "source": [
    "curr = curr.merge(country[['Name','Iso3']], how='left', left_on='Country', right_on='Name')\n",
    "curr.head()"
   ]
  },
  {
   "cell_type": "code",
   "execution_count": 123,
   "id": "05f0a70a",
   "metadata": {
    "pycharm": {
     "name": "#%%\n"
    }
   },
   "outputs": [
    {
     "data": {
      "text/html": [
       "<div>\n",
       "<style scoped>\n",
       "    .dataframe tbody tr th:only-of-type {\n",
       "        vertical-align: middle;\n",
       "    }\n",
       "\n",
       "    .dataframe tbody tr th {\n",
       "        vertical-align: top;\n",
       "    }\n",
       "\n",
       "    .dataframe thead th {\n",
       "        text-align: right;\n",
       "    }\n",
       "</style>\n",
       "<table border=\"1\" class=\"dataframe\">\n",
       "  <thead>\n",
       "    <tr style=\"text-align: right;\">\n",
       "      <th></th>\n",
       "      <th>Country</th>\n",
       "      <th>Currency</th>\n",
       "      <th>Currency Code</th>\n",
       "      <th>Name</th>\n",
       "      <th>Iso3</th>\n",
       "    </tr>\n",
       "  </thead>\n",
       "  <tbody>\n",
       "    <tr>\n",
       "      <th>1</th>\n",
       "      <td>Åland Islands</td>\n",
       "      <td>Euro</td>\n",
       "      <td>EUR</td>\n",
       "      <td>NaN</td>\n",
       "      <td>NaN</td>\n",
       "    </tr>\n",
       "    <tr>\n",
       "      <th>7</th>\n",
       "      <td>Anguilla</td>\n",
       "      <td>East Caribbean Dollar</td>\n",
       "      <td>XCD</td>\n",
       "      <td>NaN</td>\n",
       "      <td>NaN</td>\n",
       "    </tr>\n",
       "    <tr>\n",
       "      <th>26</th>\n",
       "      <td>Bonaire, Sint Eustatius And Saba</td>\n",
       "      <td>Us Dollar</td>\n",
       "      <td>USD</td>\n",
       "      <td>NaN</td>\n",
       "      <td>NaN</td>\n",
       "    </tr>\n",
       "    <tr>\n",
       "      <th>29</th>\n",
       "      <td>Bouvet Island</td>\n",
       "      <td>Norwegian Krone</td>\n",
       "      <td>NOK</td>\n",
       "      <td>NaN</td>\n",
       "      <td>NaN</td>\n",
       "    </tr>\n",
       "    <tr>\n",
       "      <th>31</th>\n",
       "      <td>British Indian Ocean Territory</td>\n",
       "      <td>Us Dollar</td>\n",
       "      <td>USD</td>\n",
       "      <td>NaN</td>\n",
       "      <td>NaN</td>\n",
       "    </tr>\n",
       "    <tr>\n",
       "      <th>45</th>\n",
       "      <td>Christmas Island</td>\n",
       "      <td>Australian Dollar</td>\n",
       "      <td>AUD</td>\n",
       "      <td>NaN</td>\n",
       "      <td>NaN</td>\n",
       "    </tr>\n",
       "    <tr>\n",
       "      <th>46</th>\n",
       "      <td>Cocos Keeling Islands</td>\n",
       "      <td>Australian Dollar</td>\n",
       "      <td>AUD</td>\n",
       "      <td>NaN</td>\n",
       "      <td>NaN</td>\n",
       "    </tr>\n",
       "    <tr>\n",
       "      <th>49</th>\n",
       "      <td>The Democratic Republic Of The Congo</td>\n",
       "      <td>Congolese Franc</td>\n",
       "      <td>CDF</td>\n",
       "      <td>NaN</td>\n",
       "      <td>NaN</td>\n",
       "    </tr>\n",
       "    <tr>\n",
       "      <th>51</th>\n",
       "      <td>Cook Islands</td>\n",
       "      <td>New Zealand Dollar</td>\n",
       "      <td>NZD</td>\n",
       "      <td>NaN</td>\n",
       "      <td>NaN</td>\n",
       "    </tr>\n",
       "    <tr>\n",
       "      <th>56</th>\n",
       "      <td>Curaçao</td>\n",
       "      <td>Netherlands Antillean Guilder</td>\n",
       "      <td>ANG</td>\n",
       "      <td>NaN</td>\n",
       "      <td>NaN</td>\n",
       "    </tr>\n",
       "    <tr>\n",
       "      <th>69</th>\n",
       "      <td>Eswatini</td>\n",
       "      <td>Lilangeni</td>\n",
       "      <td>SZL</td>\n",
       "      <td>NaN</td>\n",
       "      <td>NaN</td>\n",
       "    </tr>\n",
       "    <tr>\n",
       "      <th>71</th>\n",
       "      <td>European Union</td>\n",
       "      <td>Euro</td>\n",
       "      <td>EUR</td>\n",
       "      <td>NaN</td>\n",
       "      <td>NaN</td>\n",
       "    </tr>\n",
       "    <tr>\n",
       "      <th>72</th>\n",
       "      <td>Falkland Islands</td>\n",
       "      <td>Falkland Islands Pound</td>\n",
       "      <td>FKP</td>\n",
       "      <td>NaN</td>\n",
       "      <td>NaN</td>\n",
       "    </tr>\n",
       "    <tr>\n",
       "      <th>79</th>\n",
       "      <td>French Southern Territories</td>\n",
       "      <td>Euro</td>\n",
       "      <td>EUR</td>\n",
       "      <td>NaN</td>\n",
       "      <td>NaN</td>\n",
       "    </tr>\n",
       "    <tr>\n",
       "      <th>85</th>\n",
       "      <td>Gibraltar</td>\n",
       "      <td>Gibraltar Pound</td>\n",
       "      <td>GIP</td>\n",
       "      <td>NaN</td>\n",
       "      <td>NaN</td>\n",
       "    </tr>\n",
       "    <tr>\n",
       "      <th>89</th>\n",
       "      <td>Guadeloupe</td>\n",
       "      <td>Euro</td>\n",
       "      <td>EUR</td>\n",
       "      <td>NaN</td>\n",
       "      <td>NaN</td>\n",
       "    </tr>\n",
       "    <tr>\n",
       "      <th>92</th>\n",
       "      <td>Guernsey</td>\n",
       "      <td>Pound Sterling</td>\n",
       "      <td>GBP</td>\n",
       "      <td>NaN</td>\n",
       "      <td>NaN</td>\n",
       "    </tr>\n",
       "    <tr>\n",
       "      <th>97</th>\n",
       "      <td>Heard Island And Mcdonald Islands</td>\n",
       "      <td>Australian Dollar</td>\n",
       "      <td>AUD</td>\n",
       "      <td>NaN</td>\n",
       "      <td>NaN</td>\n",
       "    </tr>\n",
       "    <tr>\n",
       "      <th>98</th>\n",
       "      <td>Holy See</td>\n",
       "      <td>Euro</td>\n",
       "      <td>EUR</td>\n",
       "      <td>NaN</td>\n",
       "      <td>NaN</td>\n",
       "    </tr>\n",
       "    <tr>\n",
       "      <th>105</th>\n",
       "      <td>International Monetary Fund</td>\n",
       "      <td>Sdr (Special Drawing Right)</td>\n",
       "      <td>XDR</td>\n",
       "      <td>NaN</td>\n",
       "      <td>NaN</td>\n",
       "    </tr>\n",
       "    <tr>\n",
       "      <th>114</th>\n",
       "      <td>Jersey</td>\n",
       "      <td>Pound Sterling</td>\n",
       "      <td>GBP</td>\n",
       "      <td>NaN</td>\n",
       "      <td>NaN</td>\n",
       "    </tr>\n",
       "    <tr>\n",
       "      <th>141</th>\n",
       "      <td>Martinique</td>\n",
       "      <td>Euro</td>\n",
       "      <td>EUR</td>\n",
       "      <td>NaN</td>\n",
       "      <td>NaN</td>\n",
       "    </tr>\n",
       "    <tr>\n",
       "      <th>144</th>\n",
       "      <td>Mayotte</td>\n",
       "      <td>Euro</td>\n",
       "      <td>EUR</td>\n",
       "      <td>NaN</td>\n",
       "      <td>NaN</td>\n",
       "    </tr>\n",
       "    <tr>\n",
       "      <th>145</th>\n",
       "      <td>Member Countries Of The African Development Ba...</td>\n",
       "      <td>Adb Unit Of Account</td>\n",
       "      <td>XUA</td>\n",
       "      <td>NaN</td>\n",
       "      <td>NaN</td>\n",
       "    </tr>\n",
       "    <tr>\n",
       "      <th>147</th>\n",
       "      <td>Micronesia</td>\n",
       "      <td>Us Dollar</td>\n",
       "      <td>USD</td>\n",
       "      <td>NaN</td>\n",
       "      <td>NaN</td>\n",
       "    </tr>\n",
       "    <tr>\n",
       "      <th>152</th>\n",
       "      <td>Montserrat</td>\n",
       "      <td>East Caribbean Dollar</td>\n",
       "      <td>XCD</td>\n",
       "      <td>NaN</td>\n",
       "      <td>NaN</td>\n",
       "    </tr>\n",
       "    <tr>\n",
       "      <th>157</th>\n",
       "      <td>Nauru</td>\n",
       "      <td>Australian Dollar</td>\n",
       "      <td>AUD</td>\n",
       "      <td>NaN</td>\n",
       "      <td>NaN</td>\n",
       "    </tr>\n",
       "    <tr>\n",
       "      <th>165</th>\n",
       "      <td>Niue</td>\n",
       "      <td>New Zealand Dollar</td>\n",
       "      <td>NZD</td>\n",
       "      <td>NaN</td>\n",
       "      <td>NaN</td>\n",
       "    </tr>\n",
       "    <tr>\n",
       "      <th>166</th>\n",
       "      <td>Norfolk Island</td>\n",
       "      <td>Australian Dollar</td>\n",
       "      <td>AUD</td>\n",
       "      <td>NaN</td>\n",
       "      <td>NaN</td>\n",
       "    </tr>\n",
       "    <tr>\n",
       "      <th>177</th>\n",
       "      <td>Pitcairn</td>\n",
       "      <td>New Zealand Dollar</td>\n",
       "      <td>NZD</td>\n",
       "      <td>NaN</td>\n",
       "      <td>NaN</td>\n",
       "    </tr>\n",
       "    <tr>\n",
       "      <th>182</th>\n",
       "      <td>Réunion</td>\n",
       "      <td>Euro</td>\n",
       "      <td>EUR</td>\n",
       "      <td>NaN</td>\n",
       "      <td>NaN</td>\n",
       "    </tr>\n",
       "    <tr>\n",
       "      <th>186</th>\n",
       "      <td>Saint Barthélemy</td>\n",
       "      <td>Euro</td>\n",
       "      <td>EUR</td>\n",
       "      <td>NaN</td>\n",
       "      <td>NaN</td>\n",
       "    </tr>\n",
       "    <tr>\n",
       "      <th>187</th>\n",
       "      <td>Saint Helena, Ascension And Tristan Da Cunha</td>\n",
       "      <td>Saint Helena Pound</td>\n",
       "      <td>SHP</td>\n",
       "      <td>NaN</td>\n",
       "      <td>NaN</td>\n",
       "    </tr>\n",
       "    <tr>\n",
       "      <th>190</th>\n",
       "      <td>Saint Martin</td>\n",
       "      <td>Euro</td>\n",
       "      <td>EUR</td>\n",
       "      <td>NaN</td>\n",
       "      <td>NaN</td>\n",
       "    </tr>\n",
       "    <tr>\n",
       "      <th>191</th>\n",
       "      <td>Saint Pierre And Miquelon</td>\n",
       "      <td>Euro</td>\n",
       "      <td>EUR</td>\n",
       "      <td>NaN</td>\n",
       "      <td>NaN</td>\n",
       "    </tr>\n",
       "    <tr>\n",
       "      <th>202</th>\n",
       "      <td>Sint Maarten</td>\n",
       "      <td>Netherlands Antillean Guilder</td>\n",
       "      <td>ANG</td>\n",
       "      <td>NaN</td>\n",
       "      <td>NaN</td>\n",
       "    </tr>\n",
       "    <tr>\n",
       "      <th>203</th>\n",
       "      <td>Sistema Unitario De Compensacion Regional De P...</td>\n",
       "      <td>Sucre</td>\n",
       "      <td>XSU</td>\n",
       "      <td>NaN</td>\n",
       "      <td>NaN</td>\n",
       "    </tr>\n",
       "    <tr>\n",
       "      <th>214</th>\n",
       "      <td>Svalbard And Jan Mayen</td>\n",
       "      <td>Norwegian Krone</td>\n",
       "      <td>NOK</td>\n",
       "      <td>NaN</td>\n",
       "      <td>NaN</td>\n",
       "    </tr>\n",
       "    <tr>\n",
       "      <th>220</th>\n",
       "      <td>Tanzania, United Republic Of</td>\n",
       "      <td>Tanzanian Shilling</td>\n",
       "      <td>TZS</td>\n",
       "      <td>NaN</td>\n",
       "      <td>NaN</td>\n",
       "    </tr>\n",
       "    <tr>\n",
       "      <th>224</th>\n",
       "      <td>Tokelau</td>\n",
       "      <td>New Zealand Dollar</td>\n",
       "      <td>NZD</td>\n",
       "      <td>NaN</td>\n",
       "      <td>NaN</td>\n",
       "    </tr>\n",
       "    <tr>\n",
       "      <th>236</th>\n",
       "      <td>United States Minor Outlying Islands</td>\n",
       "      <td>Us Dollar</td>\n",
       "      <td>USD</td>\n",
       "      <td>NaN</td>\n",
       "      <td>NaN</td>\n",
       "    </tr>\n",
       "    <tr>\n",
       "      <th>243</th>\n",
       "      <td>Virgin Islands</td>\n",
       "      <td>Us Dollar</td>\n",
       "      <td>USD</td>\n",
       "      <td>NaN</td>\n",
       "      <td>NaN</td>\n",
       "    </tr>\n",
       "    <tr>\n",
       "      <th>244</th>\n",
       "      <td>Virgin Islands</td>\n",
       "      <td>Us Dollar</td>\n",
       "      <td>USD</td>\n",
       "      <td>NaN</td>\n",
       "      <td>NaN</td>\n",
       "    </tr>\n",
       "    <tr>\n",
       "      <th>245</th>\n",
       "      <td>Wallis And Futuna</td>\n",
       "      <td>Cfp Franc</td>\n",
       "      <td>XPF</td>\n",
       "      <td>NaN</td>\n",
       "      <td>NaN</td>\n",
       "    </tr>\n",
       "    <tr>\n",
       "      <th>246</th>\n",
       "      <td>Western Sahara</td>\n",
       "      <td>Moroccan Dirham</td>\n",
       "      <td>MAD</td>\n",
       "      <td>NaN</td>\n",
       "      <td>NaN</td>\n",
       "    </tr>\n",
       "    <tr>\n",
       "      <th>250</th>\n",
       "      <td>Zz01_Bond Markets Unit European_Eurco</td>\n",
       "      <td>Bond Markets Unit European Composite Unit (Eurco)</td>\n",
       "      <td>XBA</td>\n",
       "      <td>NaN</td>\n",
       "      <td>NaN</td>\n",
       "    </tr>\n",
       "    <tr>\n",
       "      <th>251</th>\n",
       "      <td>Zz02_Bond Markets Unit European_Emu-6</td>\n",
       "      <td>Bond Markets Unit European Monetary Unit (E.M....</td>\n",
       "      <td>XBB</td>\n",
       "      <td>NaN</td>\n",
       "      <td>NaN</td>\n",
       "    </tr>\n",
       "    <tr>\n",
       "      <th>252</th>\n",
       "      <td>Zz03_Bond Markets Unit European_Eua-9</td>\n",
       "      <td>Bond Markets Unit European Unit Of Account 9 (...</td>\n",
       "      <td>XBC</td>\n",
       "      <td>NaN</td>\n",
       "      <td>NaN</td>\n",
       "    </tr>\n",
       "    <tr>\n",
       "      <th>253</th>\n",
       "      <td>Zz04_Bond Markets Unit European_Eua-17</td>\n",
       "      <td>Bond Markets Unit European Unit Of Account 17 ...</td>\n",
       "      <td>XBD</td>\n",
       "      <td>NaN</td>\n",
       "      <td>NaN</td>\n",
       "    </tr>\n",
       "    <tr>\n",
       "      <th>254</th>\n",
       "      <td>Zz06_Testing_Code</td>\n",
       "      <td>Codes Specifically Reserved For Testing Purposes</td>\n",
       "      <td>XTS</td>\n",
       "      <td>NaN</td>\n",
       "      <td>NaN</td>\n",
       "    </tr>\n",
       "    <tr>\n",
       "      <th>255</th>\n",
       "      <td>Zz07_No_Currency</td>\n",
       "      <td>The Codes Assigned For Transactions Where No C...</td>\n",
       "      <td>XXX</td>\n",
       "      <td>NaN</td>\n",
       "      <td>NaN</td>\n",
       "    </tr>\n",
       "    <tr>\n",
       "      <th>256</th>\n",
       "      <td>Zz08_Gold</td>\n",
       "      <td>Gold</td>\n",
       "      <td>XAU</td>\n",
       "      <td>NaN</td>\n",
       "      <td>NaN</td>\n",
       "    </tr>\n",
       "    <tr>\n",
       "      <th>257</th>\n",
       "      <td>Zz09_Palladium</td>\n",
       "      <td>Palladium</td>\n",
       "      <td>XPD</td>\n",
       "      <td>NaN</td>\n",
       "      <td>NaN</td>\n",
       "    </tr>\n",
       "    <tr>\n",
       "      <th>258</th>\n",
       "      <td>Zz10_Platinum</td>\n",
       "      <td>Platinum</td>\n",
       "      <td>XPT</td>\n",
       "      <td>NaN</td>\n",
       "      <td>NaN</td>\n",
       "    </tr>\n",
       "    <tr>\n",
       "      <th>259</th>\n",
       "      <td>Zz11_Silver</td>\n",
       "      <td>Silver</td>\n",
       "      <td>XAG</td>\n",
       "      <td>NaN</td>\n",
       "      <td>NaN</td>\n",
       "    </tr>\n",
       "  </tbody>\n",
       "</table>\n",
       "</div>"
      ],
      "text/plain": [
       "                                               Country  \\\n",
       "1                                        Åland Islands   \n",
       "7                                             Anguilla   \n",
       "26                    Bonaire, Sint Eustatius And Saba   \n",
       "29                                       Bouvet Island   \n",
       "31                      British Indian Ocean Territory   \n",
       "45                                    Christmas Island   \n",
       "46                               Cocos Keeling Islands   \n",
       "49                The Democratic Republic Of The Congo   \n",
       "51                                        Cook Islands   \n",
       "56                                             Curaçao   \n",
       "69                                            Eswatini   \n",
       "71                                      European Union   \n",
       "72                                    Falkland Islands   \n",
       "79                         French Southern Territories   \n",
       "85                                           Gibraltar   \n",
       "89                                          Guadeloupe   \n",
       "92                                            Guernsey   \n",
       "97                   Heard Island And Mcdonald Islands   \n",
       "98                                            Holy See   \n",
       "105                        International Monetary Fund   \n",
       "114                                             Jersey   \n",
       "141                                         Martinique   \n",
       "144                                            Mayotte   \n",
       "145  Member Countries Of The African Development Ba...   \n",
       "147                                         Micronesia   \n",
       "152                                         Montserrat   \n",
       "157                                              Nauru   \n",
       "165                                               Niue   \n",
       "166                                     Norfolk Island   \n",
       "177                                           Pitcairn   \n",
       "182                                            Réunion   \n",
       "186                                   Saint Barthélemy   \n",
       "187       Saint Helena, Ascension And Tristan Da Cunha   \n",
       "190                                       Saint Martin   \n",
       "191                          Saint Pierre And Miquelon   \n",
       "202                                       Sint Maarten   \n",
       "203  Sistema Unitario De Compensacion Regional De P...   \n",
       "214                             Svalbard And Jan Mayen   \n",
       "220                       Tanzania, United Republic Of   \n",
       "224                                            Tokelau   \n",
       "236               United States Minor Outlying Islands   \n",
       "243                                     Virgin Islands   \n",
       "244                                     Virgin Islands   \n",
       "245                                  Wallis And Futuna   \n",
       "246                                     Western Sahara   \n",
       "250              Zz01_Bond Markets Unit European_Eurco   \n",
       "251              Zz02_Bond Markets Unit European_Emu-6   \n",
       "252              Zz03_Bond Markets Unit European_Eua-9   \n",
       "253             Zz04_Bond Markets Unit European_Eua-17   \n",
       "254                                  Zz06_Testing_Code   \n",
       "255                                   Zz07_No_Currency   \n",
       "256                                          Zz08_Gold   \n",
       "257                                     Zz09_Palladium   \n",
       "258                                      Zz10_Platinum   \n",
       "259                                        Zz11_Silver   \n",
       "\n",
       "                                              Currency Currency Code Name Iso3  \n",
       "1                                                 Euro           EUR  NaN  NaN  \n",
       "7                                East Caribbean Dollar           XCD  NaN  NaN  \n",
       "26                                           Us Dollar           USD  NaN  NaN  \n",
       "29                                     Norwegian Krone           NOK  NaN  NaN  \n",
       "31                                           Us Dollar           USD  NaN  NaN  \n",
       "45                                   Australian Dollar           AUD  NaN  NaN  \n",
       "46                                   Australian Dollar           AUD  NaN  NaN  \n",
       "49                                     Congolese Franc           CDF  NaN  NaN  \n",
       "51                                  New Zealand Dollar           NZD  NaN  NaN  \n",
       "56                       Netherlands Antillean Guilder           ANG  NaN  NaN  \n",
       "69                                           Lilangeni           SZL  NaN  NaN  \n",
       "71                                                Euro           EUR  NaN  NaN  \n",
       "72                              Falkland Islands Pound           FKP  NaN  NaN  \n",
       "79                                                Euro           EUR  NaN  NaN  \n",
       "85                                     Gibraltar Pound           GIP  NaN  NaN  \n",
       "89                                                Euro           EUR  NaN  NaN  \n",
       "92                                      Pound Sterling           GBP  NaN  NaN  \n",
       "97                                   Australian Dollar           AUD  NaN  NaN  \n",
       "98                                                Euro           EUR  NaN  NaN  \n",
       "105                        Sdr (Special Drawing Right)           XDR  NaN  NaN  \n",
       "114                                     Pound Sterling           GBP  NaN  NaN  \n",
       "141                                               Euro           EUR  NaN  NaN  \n",
       "144                                               Euro           EUR  NaN  NaN  \n",
       "145                                Adb Unit Of Account           XUA  NaN  NaN  \n",
       "147                                          Us Dollar           USD  NaN  NaN  \n",
       "152                              East Caribbean Dollar           XCD  NaN  NaN  \n",
       "157                                  Australian Dollar           AUD  NaN  NaN  \n",
       "165                                 New Zealand Dollar           NZD  NaN  NaN  \n",
       "166                                  Australian Dollar           AUD  NaN  NaN  \n",
       "177                                 New Zealand Dollar           NZD  NaN  NaN  \n",
       "182                                               Euro           EUR  NaN  NaN  \n",
       "186                                               Euro           EUR  NaN  NaN  \n",
       "187                                 Saint Helena Pound           SHP  NaN  NaN  \n",
       "190                                               Euro           EUR  NaN  NaN  \n",
       "191                                               Euro           EUR  NaN  NaN  \n",
       "202                      Netherlands Antillean Guilder           ANG  NaN  NaN  \n",
       "203                                              Sucre           XSU  NaN  NaN  \n",
       "214                                    Norwegian Krone           NOK  NaN  NaN  \n",
       "220                                 Tanzanian Shilling           TZS  NaN  NaN  \n",
       "224                                 New Zealand Dollar           NZD  NaN  NaN  \n",
       "236                                          Us Dollar           USD  NaN  NaN  \n",
       "243                                          Us Dollar           USD  NaN  NaN  \n",
       "244                                          Us Dollar           USD  NaN  NaN  \n",
       "245                                          Cfp Franc           XPF  NaN  NaN  \n",
       "246                                    Moroccan Dirham           MAD  NaN  NaN  \n",
       "250  Bond Markets Unit European Composite Unit (Eurco)           XBA  NaN  NaN  \n",
       "251  Bond Markets Unit European Monetary Unit (E.M....           XBB  NaN  NaN  \n",
       "252  Bond Markets Unit European Unit Of Account 9 (...           XBC  NaN  NaN  \n",
       "253  Bond Markets Unit European Unit Of Account 17 ...           XBD  NaN  NaN  \n",
       "254   Codes Specifically Reserved For Testing Purposes           XTS  NaN  NaN  \n",
       "255  The Codes Assigned For Transactions Where No C...           XXX  NaN  NaN  \n",
       "256                                               Gold           XAU  NaN  NaN  \n",
       "257                                          Palladium           XPD  NaN  NaN  \n",
       "258                                           Platinum           XPT  NaN  NaN  \n",
       "259                                             Silver           XAG  NaN  NaN  "
      ]
     },
     "execution_count": 123,
     "metadata": {},
     "output_type": "execute_result"
    }
   ],
   "source": [
    "curr[curr['Name'].isnull()]"
   ]
  },
  {
   "cell_type": "code",
   "execution_count": 124,
   "id": "3acb4695",
   "metadata": {
    "pycharm": {
     "name": "#%%\n"
    }
   },
   "outputs": [],
   "source": [
    "curr = curr.dropna(subset= ['Name'])\n",
    "curr = curr.drop(['Name'], axis=1)"
   ]
  },
  {
   "cell_type": "markdown",
   "id": "7f423980",
   "metadata": {
    "pycharm": {
     "name": "#%% md\n"
    }
   },
   "source": [
    "#### Check language - country"
   ]
  },
  {
   "cell_type": "code",
   "execution_count": 125,
   "id": "c9037d63",
   "metadata": {
    "pycharm": {
     "name": "#%%\n"
    }
   },
   "outputs": [
    {
     "data": {
      "text/html": [
       "<div>\n",
       "<style scoped>\n",
       "    .dataframe tbody tr th:only-of-type {\n",
       "        vertical-align: middle;\n",
       "    }\n",
       "\n",
       "    .dataframe tbody tr th {\n",
       "        vertical-align: top;\n",
       "    }\n",
       "\n",
       "    .dataframe thead th {\n",
       "        text-align: right;\n",
       "    }\n",
       "</style>\n",
       "<table border=\"1\" class=\"dataframe\">\n",
       "  <thead>\n",
       "    <tr style=\"text-align: right;\">\n",
       "      <th></th>\n",
       "      <th>Country</th>\n",
       "      <th>Official Language</th>\n",
       "      <th>Name</th>\n",
       "      <th>Iso3</th>\n",
       "    </tr>\n",
       "  </thead>\n",
       "  <tbody>\n",
       "    <tr>\n",
       "      <th>0</th>\n",
       "      <td>Afghanistan</td>\n",
       "      <td>Dari Persian, Pashtu</td>\n",
       "      <td>Afghanistan</td>\n",
       "      <td>AFG</td>\n",
       "    </tr>\n",
       "    <tr>\n",
       "      <th>1</th>\n",
       "      <td>Albania</td>\n",
       "      <td>Albanian</td>\n",
       "      <td>Albania</td>\n",
       "      <td>ALB</td>\n",
       "    </tr>\n",
       "    <tr>\n",
       "      <th>2</th>\n",
       "      <td>Algeria</td>\n",
       "      <td>Arabic</td>\n",
       "      <td>Algeria</td>\n",
       "      <td>DZA</td>\n",
       "    </tr>\n",
       "    <tr>\n",
       "      <th>3</th>\n",
       "      <td>Andorra</td>\n",
       "      <td>Catalã¡N</td>\n",
       "      <td>Andorra</td>\n",
       "      <td>ADO</td>\n",
       "    </tr>\n",
       "    <tr>\n",
       "      <th>4</th>\n",
       "      <td>Angola</td>\n",
       "      <td>Portuguese</td>\n",
       "      <td>Angola</td>\n",
       "      <td>AGO</td>\n",
       "    </tr>\n",
       "  </tbody>\n",
       "</table>\n",
       "</div>"
      ],
      "text/plain": [
       "       Country     Official Language         Name Iso3\n",
       "0  Afghanistan  Dari Persian, Pashtu  Afghanistan  AFG\n",
       "1      Albania              Albanian      Albania  ALB\n",
       "2      Algeria                Arabic      Algeria  DZA\n",
       "3      Andorra              Catalã¡N      Andorra  ADO\n",
       "4       Angola            Portuguese       Angola  AGO"
      ]
     },
     "execution_count": 125,
     "metadata": {},
     "output_type": "execute_result"
    }
   ],
   "source": [
    "lang = lang.merge(country[['Name','Iso3']], how='left', left_on='Country', right_on='Name')\n",
    "lang.head()"
   ]
  },
  {
   "cell_type": "code",
   "execution_count": 126,
   "id": "47abd5fa",
   "metadata": {
    "pycharm": {
     "name": "#%%\n"
    }
   },
   "outputs": [
    {
     "data": {
      "text/html": [
       "<div>\n",
       "<style scoped>\n",
       "    .dataframe tbody tr th:only-of-type {\n",
       "        vertical-align: middle;\n",
       "    }\n",
       "\n",
       "    .dataframe tbody tr th {\n",
       "        vertical-align: top;\n",
       "    }\n",
       "\n",
       "    .dataframe thead th {\n",
       "        text-align: right;\n",
       "    }\n",
       "</style>\n",
       "<table border=\"1\" class=\"dataframe\">\n",
       "  <thead>\n",
       "    <tr style=\"text-align: right;\">\n",
       "      <th></th>\n",
       "      <th>Country</th>\n",
       "      <th>Official Language</th>\n",
       "      <th>Name</th>\n",
       "      <th>Iso3</th>\n",
       "    </tr>\n",
       "  </thead>\n",
       "  <tbody>\n",
       "    <tr>\n",
       "      <th>50</th>\n",
       "      <td>East Timor</td>\n",
       "      <td>Tetum, Portuguese</td>\n",
       "      <td>NaN</td>\n",
       "      <td>NaN</td>\n",
       "    </tr>\n",
       "    <tr>\n",
       "      <th>114</th>\n",
       "      <td>Micronesia</td>\n",
       "      <td>English</td>\n",
       "      <td>NaN</td>\n",
       "      <td>NaN</td>\n",
       "    </tr>\n",
       "    <tr>\n",
       "      <th>123</th>\n",
       "      <td>Nauru</td>\n",
       "      <td>Nauruan</td>\n",
       "      <td>NaN</td>\n",
       "      <td>NaN</td>\n",
       "    </tr>\n",
       "    <tr>\n",
       "      <th>134</th>\n",
       "      <td>Palestinian State (Proposed)</td>\n",
       "      <td>Arabic</td>\n",
       "      <td>NaN</td>\n",
       "      <td>NaN</td>\n",
       "    </tr>\n",
       "    <tr>\n",
       "      <th>151</th>\n",
       "      <td>Sã£O Tomã© E Princã­Pe</td>\n",
       "      <td>Portuguese</td>\n",
       "      <td>NaN</td>\n",
       "      <td>NaN</td>\n",
       "    </tr>\n",
       "    <tr>\n",
       "      <th>191</th>\n",
       "      <td>Vatican City (Holy See)</td>\n",
       "      <td>Italian</td>\n",
       "      <td>NaN</td>\n",
       "      <td>NaN</td>\n",
       "    </tr>\n",
       "    <tr>\n",
       "      <th>194</th>\n",
       "      <td>Western Sahara (Proposed State)</td>\n",
       "      <td>Hassaniya Arabic</td>\n",
       "      <td>NaN</td>\n",
       "      <td>NaN</td>\n",
       "    </tr>\n",
       "  </tbody>\n",
       "</table>\n",
       "</div>"
      ],
      "text/plain": [
       "                             Country  Official Language Name Iso3\n",
       "50                        East Timor  Tetum, Portuguese  NaN  NaN\n",
       "114                       Micronesia            English  NaN  NaN\n",
       "123                            Nauru            Nauruan  NaN  NaN\n",
       "134     Palestinian State (Proposed)             Arabic  NaN  NaN\n",
       "151           Sã£O Tomã© E Princã­Pe         Portuguese  NaN  NaN\n",
       "191          Vatican City (Holy See)            Italian  NaN  NaN\n",
       "194  Western Sahara (Proposed State)   Hassaniya Arabic  NaN  NaN"
      ]
     },
     "execution_count": 126,
     "metadata": {},
     "output_type": "execute_result"
    }
   ],
   "source": [
    "lang[lang['Name'].isnull()]"
   ]
  },
  {
   "cell_type": "code",
   "execution_count": 127,
   "id": "cbd732fc",
   "metadata": {
    "pycharm": {
     "name": "#%%\n"
    }
   },
   "outputs": [],
   "source": [
    "lang = lang.dropna(subset=['Name'])\n",
    "lang = lang.drop(['Name'], axis=1)"
   ]
  },
  {
   "cell_type": "markdown",
   "id": "8f327941",
   "metadata": {
    "pycharm": {
     "name": "#%% md\n"
    }
   },
   "source": [
    "#### Check peace - country"
   ]
  },
  {
   "cell_type": "code",
   "execution_count": 128,
   "id": "7d2ac07f",
   "metadata": {
    "pycharm": {
     "name": "#%%\n"
    }
   },
   "outputs": [
    {
     "data": {
      "text/html": [
       "<div>\n",
       "<style scoped>\n",
       "    .dataframe tbody tr th:only-of-type {\n",
       "        vertical-align: middle;\n",
       "    }\n",
       "\n",
       "    .dataframe tbody tr th {\n",
       "        vertical-align: top;\n",
       "    }\n",
       "\n",
       "    .dataframe thead th {\n",
       "        text-align: right;\n",
       "    }\n",
       "</style>\n",
       "<table border=\"1\" class=\"dataframe\">\n",
       "  <thead>\n",
       "    <tr style=\"text-align: right;\">\n",
       "      <th></th>\n",
       "      <th>Rank</th>\n",
       "      <th>Country</th>\n",
       "      <th>Name</th>\n",
       "      <th>Iso3</th>\n",
       "    </tr>\n",
       "  </thead>\n",
       "  <tbody>\n",
       "    <tr>\n",
       "      <th>0</th>\n",
       "      <td>1</td>\n",
       "      <td>Iceland</td>\n",
       "      <td>Iceland</td>\n",
       "      <td>ISL</td>\n",
       "    </tr>\n",
       "    <tr>\n",
       "      <th>1</th>\n",
       "      <td>2</td>\n",
       "      <td>New Zealand</td>\n",
       "      <td>New Zealand</td>\n",
       "      <td>NZL</td>\n",
       "    </tr>\n",
       "    <tr>\n",
       "      <th>2</th>\n",
       "      <td>3</td>\n",
       "      <td>Denmark</td>\n",
       "      <td>Denmark</td>\n",
       "      <td>DNK</td>\n",
       "    </tr>\n",
       "    <tr>\n",
       "      <th>3</th>\n",
       "      <td>4</td>\n",
       "      <td>Portugal</td>\n",
       "      <td>Portugal</td>\n",
       "      <td>PRT</td>\n",
       "    </tr>\n",
       "    <tr>\n",
       "      <th>4</th>\n",
       "      <td>5</td>\n",
       "      <td>Slovenia</td>\n",
       "      <td>Slovenia</td>\n",
       "      <td>SVN</td>\n",
       "    </tr>\n",
       "  </tbody>\n",
       "</table>\n",
       "</div>"
      ],
      "text/plain": [
       "   Rank      Country         Name Iso3\n",
       "0     1      Iceland      Iceland  ISL\n",
       "1     2  New Zealand  New Zealand  NZL\n",
       "2     3      Denmark      Denmark  DNK\n",
       "3     4     Portugal     Portugal  PRT\n",
       "4     5     Slovenia     Slovenia  SVN"
      ]
     },
     "execution_count": 128,
     "metadata": {},
     "output_type": "execute_result"
    }
   ],
   "source": [
    "peace=peace.merge(country[['Name','Iso3']], how='left', left_on='Country', right_on='Name')\n",
    "peace.head()"
   ]
  },
  {
   "cell_type": "code",
   "execution_count": 129,
   "id": "b4519886",
   "metadata": {
    "pycharm": {
     "name": "#%%\n"
    }
   },
   "outputs": [
    {
     "data": {
      "text/html": [
       "<div>\n",
       "<style scoped>\n",
       "    .dataframe tbody tr th:only-of-type {\n",
       "        vertical-align: middle;\n",
       "    }\n",
       "\n",
       "    .dataframe tbody tr th {\n",
       "        vertical-align: top;\n",
       "    }\n",
       "\n",
       "    .dataframe thead th {\n",
       "        text-align: right;\n",
       "    }\n",
       "</style>\n",
       "<table border=\"1\" class=\"dataframe\">\n",
       "  <thead>\n",
       "    <tr style=\"text-align: right;\">\n",
       "      <th></th>\n",
       "      <th>Rank</th>\n",
       "      <th>Country</th>\n",
       "      <th>Name</th>\n",
       "      <th>Iso3</th>\n",
       "    </tr>\n",
       "  </thead>\n",
       "  <tbody>\n",
       "    <tr>\n",
       "      <th>52</th>\n",
       "      <td>53</td>\n",
       "      <td>The Gambia</td>\n",
       "      <td>NaN</td>\n",
       "      <td>NaN</td>\n",
       "    </tr>\n",
       "    <tr>\n",
       "      <th>68</th>\n",
       "      <td>69</td>\n",
       "      <td>Eswatini</td>\n",
       "      <td>NaN</td>\n",
       "      <td>NaN</td>\n",
       "    </tr>\n",
       "    <tr>\n",
       "      <th>137</th>\n",
       "      <td>138</td>\n",
       "      <td>Palestine</td>\n",
       "      <td>NaN</td>\n",
       "      <td>NaN</td>\n",
       "    </tr>\n",
       "    <tr>\n",
       "      <th>154</th>\n",
       "      <td>155</td>\n",
       "      <td>Central African\\nRepublic</td>\n",
       "      <td>NaN</td>\n",
       "      <td>NaN</td>\n",
       "    </tr>\n",
       "  </tbody>\n",
       "</table>\n",
       "</div>"
      ],
      "text/plain": [
       "     Rank                    Country Name Iso3\n",
       "52     53                 The Gambia  NaN  NaN\n",
       "68     69                   Eswatini  NaN  NaN\n",
       "137   138                  Palestine  NaN  NaN\n",
       "154   155  Central African\\nRepublic  NaN  NaN"
      ]
     },
     "execution_count": 129,
     "metadata": {},
     "output_type": "execute_result"
    }
   ],
   "source": [
    "peace[peace['Name'].isnull()]"
   ]
  },
  {
   "cell_type": "code",
   "execution_count": 130,
   "id": "926e72ca",
   "metadata": {
    "pycharm": {
     "name": "#%%\n"
    }
   },
   "outputs": [],
   "source": [
    "peace=peace.dropna(subset=['Name'])\n",
    "peace = peace.drop(['Name'], axis=1)"
   ]
  },
  {
   "cell_type": "markdown",
   "id": "04a1eb5f",
   "metadata": {
    "pycharm": {
     "name": "#%% md\n"
    }
   },
   "source": [
    "#### Check population - country"
   ]
  },
  {
   "cell_type": "code",
   "execution_count": 131,
   "id": "1858406c",
   "metadata": {
    "pycharm": {
     "name": "#%%\n"
    }
   },
   "outputs": [
    {
     "data": {
      "text/html": [
       "<div>\n",
       "<style scoped>\n",
       "    .dataframe tbody tr th:only-of-type {\n",
       "        vertical-align: middle;\n",
       "    }\n",
       "\n",
       "    .dataframe tbody tr th {\n",
       "        vertical-align: top;\n",
       "    }\n",
       "\n",
       "    .dataframe thead th {\n",
       "        text-align: right;\n",
       "    }\n",
       "</style>\n",
       "<table border=\"1\" class=\"dataframe\">\n",
       "  <thead>\n",
       "    <tr style=\"text-align: right;\">\n",
       "      <th></th>\n",
       "      <th>Country</th>\n",
       "      <th>Country Code</th>\n",
       "      <th>Pop_2021</th>\n",
       "      <th>Iso3</th>\n",
       "    </tr>\n",
       "  </thead>\n",
       "  <tbody>\n",
       "    <tr>\n",
       "      <th>0</th>\n",
       "      <td>Aruba</td>\n",
       "      <td>ABW</td>\n",
       "      <td>107195.0</td>\n",
       "      <td>ABW</td>\n",
       "    </tr>\n",
       "    <tr>\n",
       "      <th>1</th>\n",
       "      <td>Africa Eastern And Southern</td>\n",
       "      <td>AFE</td>\n",
       "      <td>694665117.0</td>\n",
       "      <td>NaN</td>\n",
       "    </tr>\n",
       "    <tr>\n",
       "      <th>2</th>\n",
       "      <td>Afghanistan</td>\n",
       "      <td>AFG</td>\n",
       "      <td>39835428.0</td>\n",
       "      <td>AFG</td>\n",
       "    </tr>\n",
       "    <tr>\n",
       "      <th>3</th>\n",
       "      <td>Africa Western And Central</td>\n",
       "      <td>AFW</td>\n",
       "      <td>470898870.0</td>\n",
       "      <td>NaN</td>\n",
       "    </tr>\n",
       "    <tr>\n",
       "      <th>4</th>\n",
       "      <td>Angola</td>\n",
       "      <td>AGO</td>\n",
       "      <td>33933611.0</td>\n",
       "      <td>AGO</td>\n",
       "    </tr>\n",
       "  </tbody>\n",
       "</table>\n",
       "</div>"
      ],
      "text/plain": [
       "                       Country Country Code     Pop_2021 Iso3\n",
       "0                        Aruba          ABW     107195.0  ABW\n",
       "1  Africa Eastern And Southern          AFE  694665117.0  NaN\n",
       "2                  Afghanistan          AFG   39835428.0  AFG\n",
       "3   Africa Western And Central          AFW  470898870.0  NaN\n",
       "4                       Angola          AGO   33933611.0  AGO"
      ]
     },
     "execution_count": 131,
     "metadata": {},
     "output_type": "execute_result"
    }
   ],
   "source": [
    "pop=pop.merge(country[['Iso3']], how='left', left_on='Country Code', right_on='Iso3')\n",
    "pop.head()"
   ]
  },
  {
   "cell_type": "code",
   "execution_count": 141,
   "id": "54dc106a",
   "metadata": {
    "pycharm": {
     "name": "#%%\n"
    }
   },
   "outputs": [
    {
     "data": {
      "text/html": [
       "<div>\n",
       "<style scoped>\n",
       "    .dataframe tbody tr th:only-of-type {\n",
       "        vertical-align: middle;\n",
       "    }\n",
       "\n",
       "    .dataframe tbody tr th {\n",
       "        vertical-align: top;\n",
       "    }\n",
       "\n",
       "    .dataframe thead th {\n",
       "        text-align: right;\n",
       "    }\n",
       "</style>\n",
       "<table border=\"1\" class=\"dataframe\">\n",
       "  <thead>\n",
       "    <tr style=\"text-align: right;\">\n",
       "      <th></th>\n",
       "      <th>Country</th>\n",
       "      <th>Country Code</th>\n",
       "      <th>Pop_2021</th>\n",
       "      <th>Iso3</th>\n",
       "    </tr>\n",
       "  </thead>\n",
       "  <tbody>\n",
       "    <tr>\n",
       "      <th>1</th>\n",
       "      <td>Africa Eastern And Southern</td>\n",
       "      <td>AFE</td>\n",
       "      <td>6.946651e+08</td>\n",
       "      <td>NaN</td>\n",
       "    </tr>\n",
       "    <tr>\n",
       "      <th>3</th>\n",
       "      <td>Africa Western And Central</td>\n",
       "      <td>AFW</td>\n",
       "      <td>4.708989e+08</td>\n",
       "      <td>NaN</td>\n",
       "    </tr>\n",
       "    <tr>\n",
       "      <th>6</th>\n",
       "      <td>Andorra</td>\n",
       "      <td>AND</td>\n",
       "      <td>7.735400e+04</td>\n",
       "      <td>NaN</td>\n",
       "    </tr>\n",
       "    <tr>\n",
       "      <th>7</th>\n",
       "      <td>Arab World</td>\n",
       "      <td>ARB</td>\n",
       "      <td>4.445178e+08</td>\n",
       "      <td>NaN</td>\n",
       "    </tr>\n",
       "    <tr>\n",
       "      <th>44</th>\n",
       "      <td>Central Europe And The Baltics</td>\n",
       "      <td>CEB</td>\n",
       "      <td>1.016696e+08</td>\n",
       "      <td>NaN</td>\n",
       "    </tr>\n",
       "    <tr>\n",
       "      <th>71</th>\n",
       "      <td>Caribbean Small States</td>\n",
       "      <td>CSS</td>\n",
       "      <td>7.481631e+06</td>\n",
       "      <td>NaN</td>\n",
       "    </tr>\n",
       "    <tr>\n",
       "      <th>83</th>\n",
       "      <td>East Asia &amp; Pacific (Excluding High Income)</td>\n",
       "      <td>EAP</td>\n",
       "      <td>2.122086e+09</td>\n",
       "      <td>NaN</td>\n",
       "    </tr>\n",
       "    <tr>\n",
       "      <th>84</th>\n",
       "      <td>Early-Demographic Dividend</td>\n",
       "      <td>EAR</td>\n",
       "      <td>3.373867e+09</td>\n",
       "      <td>NaN</td>\n",
       "    </tr>\n",
       "    <tr>\n",
       "      <th>85</th>\n",
       "      <td>East Asia &amp; Pacific</td>\n",
       "      <td>EAS</td>\n",
       "      <td>2.368623e+09</td>\n",
       "      <td>NaN</td>\n",
       "    </tr>\n",
       "    <tr>\n",
       "      <th>86</th>\n",
       "      <td>Europe &amp; Central Asia (Excluding High Income)</td>\n",
       "      <td>ECA</td>\n",
       "      <td>4.018289e+08</td>\n",
       "      <td>NaN</td>\n",
       "    </tr>\n",
       "    <tr>\n",
       "      <th>87</th>\n",
       "      <td>Europe &amp; Central Asia</td>\n",
       "      <td>ECS</td>\n",
       "      <td>9.237537e+08</td>\n",
       "      <td>NaN</td>\n",
       "    </tr>\n",
       "    <tr>\n",
       "      <th>91</th>\n",
       "      <td>Euro Area</td>\n",
       "      <td>EMU</td>\n",
       "      <td>3.425665e+08</td>\n",
       "      <td>NaN</td>\n",
       "    </tr>\n",
       "    <tr>\n",
       "      <th>95</th>\n",
       "      <td>European Union</td>\n",
       "      <td>EUU</td>\n",
       "      <td>4.469467e+08</td>\n",
       "      <td>NaN</td>\n",
       "    </tr>\n",
       "    <tr>\n",
       "      <th>96</th>\n",
       "      <td>Fragile And Conflict Affected Situations</td>\n",
       "      <td>FCS</td>\n",
       "      <td>9.829808e+08</td>\n",
       "      <td>NaN</td>\n",
       "    </tr>\n",
       "    <tr>\n",
       "      <th>112</th>\n",
       "      <td>Gibraltar</td>\n",
       "      <td>GIB</td>\n",
       "      <td>3.369100e+04</td>\n",
       "      <td>NaN</td>\n",
       "    </tr>\n",
       "    <tr>\n",
       "      <th>124</th>\n",
       "      <td>High Income</td>\n",
       "      <td>HIC</td>\n",
       "      <td>1.241374e+09</td>\n",
       "      <td>NaN</td>\n",
       "    </tr>\n",
       "    <tr>\n",
       "      <th>130</th>\n",
       "      <td>Heavily Indebted Poor Countries (Hipc)</td>\n",
       "      <td>HPC</td>\n",
       "      <td>8.455223e+08</td>\n",
       "      <td>NaN</td>\n",
       "    </tr>\n",
       "    <tr>\n",
       "      <th>134</th>\n",
       "      <td>Ibrd Only</td>\n",
       "      <td>IBD</td>\n",
       "      <td>4.895295e+09</td>\n",
       "      <td>NaN</td>\n",
       "    </tr>\n",
       "    <tr>\n",
       "      <th>135</th>\n",
       "      <td>Ida &amp; Ibrd Total</td>\n",
       "      <td>IBT</td>\n",
       "      <td>6.642614e+09</td>\n",
       "      <td>NaN</td>\n",
       "    </tr>\n",
       "    <tr>\n",
       "      <th>136</th>\n",
       "      <td>Ida Total</td>\n",
       "      <td>IDA</td>\n",
       "      <td>1.747319e+09</td>\n",
       "      <td>NaN</td>\n",
       "    </tr>\n",
       "    <tr>\n",
       "      <th>137</th>\n",
       "      <td>Ida Blend</td>\n",
       "      <td>IDB</td>\n",
       "      <td>5.868834e+08</td>\n",
       "      <td>NaN</td>\n",
       "    </tr>\n",
       "    <tr>\n",
       "      <th>139</th>\n",
       "      <td>Ida Only</td>\n",
       "      <td>IDX</td>\n",
       "      <td>1.160435e+09</td>\n",
       "      <td>NaN</td>\n",
       "    </tr>\n",
       "    <tr>\n",
       "      <th>140</th>\n",
       "      <td>Isle Of Man</td>\n",
       "      <td>IMN</td>\n",
       "      <td>8.541000e+04</td>\n",
       "      <td>NaN</td>\n",
       "    </tr>\n",
       "    <tr>\n",
       "      <th>173</th>\n",
       "      <td>Latin America &amp; Caribbean (Excluding High Income)</td>\n",
       "      <td>LAC</td>\n",
       "      <td>5.962176e+08</td>\n",
       "      <td>NaN</td>\n",
       "    </tr>\n",
       "    <tr>\n",
       "      <th>185</th>\n",
       "      <td>Latin America &amp; Caribbean</td>\n",
       "      <td>LCN</td>\n",
       "      <td>6.580892e+08</td>\n",
       "      <td>NaN</td>\n",
       "    </tr>\n",
       "    <tr>\n",
       "      <th>186</th>\n",
       "      <td>Least Developed Countries: Un Classification</td>\n",
       "      <td>LDC</td>\n",
       "      <td>1.081505e+09</td>\n",
       "      <td>NaN</td>\n",
       "    </tr>\n",
       "    <tr>\n",
       "      <th>187</th>\n",
       "      <td>Low Income</td>\n",
       "      <td>LIC</td>\n",
       "      <td>7.019270e+08</td>\n",
       "      <td>NaN</td>\n",
       "    </tr>\n",
       "    <tr>\n",
       "      <th>190</th>\n",
       "      <td>Lower Middle Income</td>\n",
       "      <td>LMC</td>\n",
       "      <td>3.363197e+09</td>\n",
       "      <td>NaN</td>\n",
       "    </tr>\n",
       "    <tr>\n",
       "      <th>191</th>\n",
       "      <td>Low &amp; Middle Income</td>\n",
       "      <td>LMY</td>\n",
       "      <td>6.566552e+09</td>\n",
       "      <td>NaN</td>\n",
       "    </tr>\n",
       "    <tr>\n",
       "      <th>193</th>\n",
       "      <td>Late-Demographic Dividend</td>\n",
       "      <td>LTE</td>\n",
       "      <td>2.322070e+09</td>\n",
       "      <td>NaN</td>\n",
       "    </tr>\n",
       "    <tr>\n",
       "      <th>210</th>\n",
       "      <td>Middle East &amp; North Africa</td>\n",
       "      <td>MEA</td>\n",
       "      <td>4.724950e+08</td>\n",
       "      <td>NaN</td>\n",
       "    </tr>\n",
       "    <tr>\n",
       "      <th>213</th>\n",
       "      <td>Middle Income</td>\n",
       "      <td>MIC</td>\n",
       "      <td>5.864625e+09</td>\n",
       "      <td>NaN</td>\n",
       "    </tr>\n",
       "    <tr>\n",
       "      <th>227</th>\n",
       "      <td>Middle East &amp; North Africa (Excluding High Inc...</td>\n",
       "      <td>MNA</td>\n",
       "      <td>4.030516e+08</td>\n",
       "      <td>NaN</td>\n",
       "    </tr>\n",
       "    <tr>\n",
       "      <th>236</th>\n",
       "      <td>North America</td>\n",
       "      <td>NAC</td>\n",
       "      <td>3.702037e+08</td>\n",
       "      <td>NaN</td>\n",
       "    </tr>\n",
       "    <tr>\n",
       "      <th>246</th>\n",
       "      <td>Nauru</td>\n",
       "      <td>NRU</td>\n",
       "      <td>1.087300e+04</td>\n",
       "      <td>NaN</td>\n",
       "    </tr>\n",
       "    <tr>\n",
       "      <th>249</th>\n",
       "      <td>Oecd Members</td>\n",
       "      <td>OED</td>\n",
       "      <td>1.375820e+09</td>\n",
       "      <td>NaN</td>\n",
       "    </tr>\n",
       "    <tr>\n",
       "      <th>251</th>\n",
       "      <td>Other Small States</td>\n",
       "      <td>OSS</td>\n",
       "      <td>3.246428e+07</td>\n",
       "      <td>NaN</td>\n",
       "    </tr>\n",
       "    <tr>\n",
       "      <th>259</th>\n",
       "      <td>Pre-Demographic Dividend</td>\n",
       "      <td>PRE</td>\n",
       "      <td>9.971582e+08</td>\n",
       "      <td>NaN</td>\n",
       "    </tr>\n",
       "    <tr>\n",
       "      <th>269</th>\n",
       "      <td>West Bank And Gaza</td>\n",
       "      <td>PSE</td>\n",
       "      <td>4.922749e+06</td>\n",
       "      <td>NaN</td>\n",
       "    </tr>\n",
       "    <tr>\n",
       "      <th>270</th>\n",
       "      <td>Pacific Island Small States</td>\n",
       "      <td>PSS</td>\n",
       "      <td>2.566494e+06</td>\n",
       "      <td>NaN</td>\n",
       "    </tr>\n",
       "    <tr>\n",
       "      <th>271</th>\n",
       "      <td>Post-Demographic Dividend</td>\n",
       "      <td>PST</td>\n",
       "      <td>1.116655e+09</td>\n",
       "      <td>NaN</td>\n",
       "    </tr>\n",
       "    <tr>\n",
       "      <th>278</th>\n",
       "      <td>South Asia</td>\n",
       "      <td>SAS</td>\n",
       "      <td>1.877902e+09</td>\n",
       "      <td>NaN</td>\n",
       "    </tr>\n",
       "    <tr>\n",
       "      <th>291</th>\n",
       "      <td>Sub-Saharan Africa (Excluding High Income)</td>\n",
       "      <td>SSA</td>\n",
       "      <td>1.165465e+09</td>\n",
       "      <td>NaN</td>\n",
       "    </tr>\n",
       "    <tr>\n",
       "      <th>293</th>\n",
       "      <td>Sub-Saharan Africa</td>\n",
       "      <td>SSF</td>\n",
       "      <td>1.165564e+09</td>\n",
       "      <td>NaN</td>\n",
       "    </tr>\n",
       "    <tr>\n",
       "      <th>294</th>\n",
       "      <td>Small States</td>\n",
       "      <td>SST</td>\n",
       "      <td>4.251241e+07</td>\n",
       "      <td>NaN</td>\n",
       "    </tr>\n",
       "    <tr>\n",
       "      <th>310</th>\n",
       "      <td>East Asia &amp; Pacific (Ida &amp; Ibrd Countries)</td>\n",
       "      <td>TEA</td>\n",
       "      <td>2.096155e+09</td>\n",
       "      <td>NaN</td>\n",
       "    </tr>\n",
       "    <tr>\n",
       "      <th>311</th>\n",
       "      <td>Europe &amp; Central Asia (Ida &amp; Ibrd Countries)</td>\n",
       "      <td>TEC</td>\n",
       "      <td>4.626241e+08</td>\n",
       "      <td>NaN</td>\n",
       "    </tr>\n",
       "    <tr>\n",
       "      <th>316</th>\n",
       "      <td>Latin America &amp; The Caribbean (Ida &amp; Ibrd Coun...</td>\n",
       "      <td>TLA</td>\n",
       "      <td>6.422398e+08</td>\n",
       "      <td>NaN</td>\n",
       "    </tr>\n",
       "    <tr>\n",
       "      <th>317</th>\n",
       "      <td>Timor-Leste</td>\n",
       "      <td>TLS</td>\n",
       "      <td>1.343875e+06</td>\n",
       "      <td>NaN</td>\n",
       "    </tr>\n",
       "    <tr>\n",
       "      <th>318</th>\n",
       "      <td>Middle East &amp; North Africa (Ida &amp; Ibrd Countries)</td>\n",
       "      <td>TMN</td>\n",
       "      <td>3.981289e+08</td>\n",
       "      <td>NaN</td>\n",
       "    </tr>\n",
       "    <tr>\n",
       "      <th>320</th>\n",
       "      <td>South Asia (Ida &amp; Ibrd)</td>\n",
       "      <td>TSA</td>\n",
       "      <td>1.877902e+09</td>\n",
       "      <td>NaN</td>\n",
       "    </tr>\n",
       "    <tr>\n",
       "      <th>321</th>\n",
       "      <td>Sub-Saharan Africa (Ida &amp; Ibrd Countries)</td>\n",
       "      <td>TSS</td>\n",
       "      <td>1.165564e+09</td>\n",
       "      <td>NaN</td>\n",
       "    </tr>\n",
       "    <tr>\n",
       "      <th>335</th>\n",
       "      <td>Upper Middle Income</td>\n",
       "      <td>UMC</td>\n",
       "      <td>2.501428e+09</td>\n",
       "      <td>NaN</td>\n",
       "    </tr>\n",
       "    <tr>\n",
       "      <th>347</th>\n",
       "      <td>British Virgin Islands</td>\n",
       "      <td>VGB</td>\n",
       "      <td>3.042300e+04</td>\n",
       "      <td>NaN</td>\n",
       "    </tr>\n",
       "    <tr>\n",
       "      <th>355</th>\n",
       "      <td>World</td>\n",
       "      <td>WLD</td>\n",
       "      <td>7.836631e+09</td>\n",
       "      <td>NaN</td>\n",
       "    </tr>\n",
       "    <tr>\n",
       "      <th>357</th>\n",
       "      <td>Kosovo</td>\n",
       "      <td>XKX</td>\n",
       "      <td>1.806279e+06</td>\n",
       "      <td>NaN</td>\n",
       "    </tr>\n",
       "  </tbody>\n",
       "</table>\n",
       "</div>"
      ],
      "text/plain": [
       "                                               Country Country Code  \\\n",
       "1                          Africa Eastern And Southern          AFE   \n",
       "3                           Africa Western And Central          AFW   \n",
       "6                                              Andorra          AND   \n",
       "7                                           Arab World          ARB   \n",
       "44                      Central Europe And The Baltics          CEB   \n",
       "71                              Caribbean Small States          CSS   \n",
       "83         East Asia & Pacific (Excluding High Income)          EAP   \n",
       "84                          Early-Demographic Dividend          EAR   \n",
       "85                                 East Asia & Pacific          EAS   \n",
       "86       Europe & Central Asia (Excluding High Income)          ECA   \n",
       "87                               Europe & Central Asia          ECS   \n",
       "91                                           Euro Area          EMU   \n",
       "95                                      European Union          EUU   \n",
       "96            Fragile And Conflict Affected Situations          FCS   \n",
       "112                                          Gibraltar          GIB   \n",
       "124                                        High Income          HIC   \n",
       "130             Heavily Indebted Poor Countries (Hipc)          HPC   \n",
       "134                                          Ibrd Only          IBD   \n",
       "135                                   Ida & Ibrd Total          IBT   \n",
       "136                                          Ida Total          IDA   \n",
       "137                                          Ida Blend          IDB   \n",
       "139                                           Ida Only          IDX   \n",
       "140                                        Isle Of Man          IMN   \n",
       "173  Latin America & Caribbean (Excluding High Income)          LAC   \n",
       "185                          Latin America & Caribbean          LCN   \n",
       "186       Least Developed Countries: Un Classification          LDC   \n",
       "187                                         Low Income          LIC   \n",
       "190                                Lower Middle Income          LMC   \n",
       "191                                Low & Middle Income          LMY   \n",
       "193                          Late-Demographic Dividend          LTE   \n",
       "210                         Middle East & North Africa          MEA   \n",
       "213                                      Middle Income          MIC   \n",
       "227  Middle East & North Africa (Excluding High Inc...          MNA   \n",
       "236                                      North America          NAC   \n",
       "246                                              Nauru          NRU   \n",
       "249                                       Oecd Members          OED   \n",
       "251                                 Other Small States          OSS   \n",
       "259                           Pre-Demographic Dividend          PRE   \n",
       "269                                 West Bank And Gaza          PSE   \n",
       "270                        Pacific Island Small States          PSS   \n",
       "271                          Post-Demographic Dividend          PST   \n",
       "278                                         South Asia          SAS   \n",
       "291         Sub-Saharan Africa (Excluding High Income)          SSA   \n",
       "293                                 Sub-Saharan Africa          SSF   \n",
       "294                                       Small States          SST   \n",
       "310         East Asia & Pacific (Ida & Ibrd Countries)          TEA   \n",
       "311       Europe & Central Asia (Ida & Ibrd Countries)          TEC   \n",
       "316  Latin America & The Caribbean (Ida & Ibrd Coun...          TLA   \n",
       "317                                        Timor-Leste          TLS   \n",
       "318  Middle East & North Africa (Ida & Ibrd Countries)          TMN   \n",
       "320                            South Asia (Ida & Ibrd)          TSA   \n",
       "321          Sub-Saharan Africa (Ida & Ibrd Countries)          TSS   \n",
       "335                                Upper Middle Income          UMC   \n",
       "347                             British Virgin Islands          VGB   \n",
       "355                                              World          WLD   \n",
       "357                                             Kosovo          XKX   \n",
       "\n",
       "         Pop_2021 Iso3  \n",
       "1    6.946651e+08  NaN  \n",
       "3    4.708989e+08  NaN  \n",
       "6    7.735400e+04  NaN  \n",
       "7    4.445178e+08  NaN  \n",
       "44   1.016696e+08  NaN  \n",
       "71   7.481631e+06  NaN  \n",
       "83   2.122086e+09  NaN  \n",
       "84   3.373867e+09  NaN  \n",
       "85   2.368623e+09  NaN  \n",
       "86   4.018289e+08  NaN  \n",
       "87   9.237537e+08  NaN  \n",
       "91   3.425665e+08  NaN  \n",
       "95   4.469467e+08  NaN  \n",
       "96   9.829808e+08  NaN  \n",
       "112  3.369100e+04  NaN  \n",
       "124  1.241374e+09  NaN  \n",
       "130  8.455223e+08  NaN  \n",
       "134  4.895295e+09  NaN  \n",
       "135  6.642614e+09  NaN  \n",
       "136  1.747319e+09  NaN  \n",
       "137  5.868834e+08  NaN  \n",
       "139  1.160435e+09  NaN  \n",
       "140  8.541000e+04  NaN  \n",
       "173  5.962176e+08  NaN  \n",
       "185  6.580892e+08  NaN  \n",
       "186  1.081505e+09  NaN  \n",
       "187  7.019270e+08  NaN  \n",
       "190  3.363197e+09  NaN  \n",
       "191  6.566552e+09  NaN  \n",
       "193  2.322070e+09  NaN  \n",
       "210  4.724950e+08  NaN  \n",
       "213  5.864625e+09  NaN  \n",
       "227  4.030516e+08  NaN  \n",
       "236  3.702037e+08  NaN  \n",
       "246  1.087300e+04  NaN  \n",
       "249  1.375820e+09  NaN  \n",
       "251  3.246428e+07  NaN  \n",
       "259  9.971582e+08  NaN  \n",
       "269  4.922749e+06  NaN  \n",
       "270  2.566494e+06  NaN  \n",
       "271  1.116655e+09  NaN  \n",
       "278  1.877902e+09  NaN  \n",
       "291  1.165465e+09  NaN  \n",
       "293  1.165564e+09  NaN  \n",
       "294  4.251241e+07  NaN  \n",
       "310  2.096155e+09  NaN  \n",
       "311  4.626241e+08  NaN  \n",
       "316  6.422398e+08  NaN  \n",
       "317  1.343875e+06  NaN  \n",
       "318  3.981289e+08  NaN  \n",
       "320  1.877902e+09  NaN  \n",
       "321  1.165564e+09  NaN  \n",
       "335  2.501428e+09  NaN  \n",
       "347  3.042300e+04  NaN  \n",
       "355  7.836631e+09  NaN  \n",
       "357  1.806279e+06  NaN  "
      ]
     },
     "execution_count": 141,
     "metadata": {},
     "output_type": "execute_result"
    }
   ],
   "source": [
    "pop[pop['Iso3'].isnull()]"
   ]
  },
  {
   "cell_type": "code",
   "execution_count": 142,
   "id": "24b51837",
   "metadata": {
    "pycharm": {
     "name": "#%%\n"
    }
   },
   "outputs": [],
   "source": [
    "# drop countries that cannot be merged\n",
    "pop = pop.dropna(subset=['Iso3'])\n",
    "# drop both country name and iso code from the merged dataset, as population data already contains ISO code\n",
    "pop = pop.drop(['Iso3'], axis=1)"
   ]
  },
  {
   "cell_type": "markdown",
   "id": "f5e9801b",
   "metadata": {
    "pycharm": {
     "name": "#%% md\n"
    }
   },
   "source": [
    "#### Check Religion - country"
   ]
  },
  {
   "cell_type": "code",
   "execution_count": 143,
   "id": "0aa272d7",
   "metadata": {
    "pycharm": {
     "name": "#%%\n"
    }
   },
   "outputs": [
    {
     "data": {
      "text/html": [
       "<div>\n",
       "<style scoped>\n",
       "    .dataframe tbody tr th:only-of-type {\n",
       "        vertical-align: middle;\n",
       "    }\n",
       "\n",
       "    .dataframe tbody tr th {\n",
       "        vertical-align: top;\n",
       "    }\n",
       "\n",
       "    .dataframe thead th {\n",
       "        text-align: right;\n",
       "    }\n",
       "</style>\n",
       "<table border=\"1\" class=\"dataframe\">\n",
       "  <thead>\n",
       "    <tr style=\"text-align: right;\">\n",
       "      <th></th>\n",
       "      <th>Country</th>\n",
       "      <th>Main Religion</th>\n",
       "      <th>Name</th>\n",
       "      <th>Iso3</th>\n",
       "    </tr>\n",
       "  </thead>\n",
       "  <tbody>\n",
       "    <tr>\n",
       "      <th>0</th>\n",
       "      <td>Albania</td>\n",
       "      <td>Muslim</td>\n",
       "      <td>Albania</td>\n",
       "      <td>ALB</td>\n",
       "    </tr>\n",
       "    <tr>\n",
       "      <th>1</th>\n",
       "      <td>Anguilla</td>\n",
       "      <td>Anglican</td>\n",
       "      <td>NaN</td>\n",
       "      <td>NaN</td>\n",
       "    </tr>\n",
       "    <tr>\n",
       "      <th>2</th>\n",
       "      <td>Antigua And Barbuda</td>\n",
       "      <td>Anglican</td>\n",
       "      <td>Antigua And Barbuda</td>\n",
       "      <td>ATG</td>\n",
       "    </tr>\n",
       "    <tr>\n",
       "      <th>3</th>\n",
       "      <td>Armenia</td>\n",
       "      <td>Armenian Apostolic</td>\n",
       "      <td>Armenia</td>\n",
       "      <td>ARM</td>\n",
       "    </tr>\n",
       "    <tr>\n",
       "      <th>4</th>\n",
       "      <td>Aruba</td>\n",
       "      <td>Roman Catholic</td>\n",
       "      <td>Aruba</td>\n",
       "      <td>ABW</td>\n",
       "    </tr>\n",
       "  </tbody>\n",
       "</table>\n",
       "</div>"
      ],
      "text/plain": [
       "               Country       Main Religion                 Name Iso3\n",
       "0              Albania              Muslim              Albania  ALB\n",
       "1             Anguilla            Anglican                  NaN  NaN\n",
       "2  Antigua And Barbuda            Anglican  Antigua And Barbuda  ATG\n",
       "3              Armenia  Armenian Apostolic              Armenia  ARM\n",
       "4                Aruba      Roman Catholic                Aruba  ABW"
      ]
     },
     "execution_count": 143,
     "metadata": {},
     "output_type": "execute_result"
    }
   ],
   "source": [
    "rel=rel.merge(country[['Name','Iso3']], how='left', left_on='Country', right_on='Name')\n",
    "rel.head()"
   ]
  },
  {
   "cell_type": "code",
   "execution_count": 144,
   "id": "89692c3c",
   "metadata": {
    "pycharm": {
     "name": "#%%\n"
    }
   },
   "outputs": [
    {
     "data": {
      "text/html": [
       "<div>\n",
       "<style scoped>\n",
       "    .dataframe tbody tr th:only-of-type {\n",
       "        vertical-align: middle;\n",
       "    }\n",
       "\n",
       "    .dataframe tbody tr th {\n",
       "        vertical-align: top;\n",
       "    }\n",
       "\n",
       "    .dataframe thead th {\n",
       "        text-align: right;\n",
       "    }\n",
       "</style>\n",
       "<table border=\"1\" class=\"dataframe\">\n",
       "  <thead>\n",
       "    <tr style=\"text-align: right;\">\n",
       "      <th></th>\n",
       "      <th>Country</th>\n",
       "      <th>Main Religion</th>\n",
       "      <th>Name</th>\n",
       "      <th>Iso3</th>\n",
       "    </tr>\n",
       "  </thead>\n",
       "  <tbody>\n",
       "    <tr>\n",
       "      <th>1</th>\n",
       "      <td>Anguilla</td>\n",
       "      <td>Anglican</td>\n",
       "      <td>NaN</td>\n",
       "      <td>NaN</td>\n",
       "    </tr>\n",
       "    <tr>\n",
       "      <th>15</th>\n",
       "      <td>British Virgin Islands</td>\n",
       "      <td>Methodist</td>\n",
       "      <td>NaN</td>\n",
       "      <td>NaN</td>\n",
       "    </tr>\n",
       "    <tr>\n",
       "      <th>24</th>\n",
       "      <td>Cook Islands</td>\n",
       "      <td>Christian</td>\n",
       "      <td>NaN</td>\n",
       "      <td>NaN</td>\n",
       "    </tr>\n",
       "    <tr>\n",
       "      <th>32</th>\n",
       "      <td>Falkland Islands (Malvinas)</td>\n",
       "      <td>Christian</td>\n",
       "      <td>NaN</td>\n",
       "      <td>NaN</td>\n",
       "    </tr>\n",
       "    <tr>\n",
       "      <th>38</th>\n",
       "      <td>Gibraltar</td>\n",
       "      <td>Roman Catholic</td>\n",
       "      <td>NaN</td>\n",
       "      <td>NaN</td>\n",
       "    </tr>\n",
       "    <tr>\n",
       "      <th>61</th>\n",
       "      <td>Micronesia (Federated States Of)</td>\n",
       "      <td>Roman Catholic</td>\n",
       "      <td>NaN</td>\n",
       "      <td>NaN</td>\n",
       "    </tr>\n",
       "    <tr>\n",
       "      <th>64</th>\n",
       "      <td>Montserrat</td>\n",
       "      <td>Anglican</td>\n",
       "      <td>NaN</td>\n",
       "      <td>NaN</td>\n",
       "    </tr>\n",
       "    <tr>\n",
       "      <th>71</th>\n",
       "      <td>Niue</td>\n",
       "      <td>Ekalesia Niue</td>\n",
       "      <td>NaN</td>\n",
       "      <td>NaN</td>\n",
       "    </tr>\n",
       "    <tr>\n",
       "      <th>72</th>\n",
       "      <td>Norfolk Island</td>\n",
       "      <td>Church Of England</td>\n",
       "      <td>NaN</td>\n",
       "      <td>NaN</td>\n",
       "    </tr>\n",
       "    <tr>\n",
       "      <th>86</th>\n",
       "      <td>Saint Helena Ex. Dep.</td>\n",
       "      <td>Church Of England</td>\n",
       "      <td>NaN</td>\n",
       "      <td>NaN</td>\n",
       "    </tr>\n",
       "    <tr>\n",
       "      <th>99</th>\n",
       "      <td>State Of Palestine</td>\n",
       "      <td>Islam</td>\n",
       "      <td>NaN</td>\n",
       "      <td>NaN</td>\n",
       "    </tr>\n",
       "    <tr>\n",
       "      <th>104</th>\n",
       "      <td>Tokelau</td>\n",
       "      <td>Christian Congregational</td>\n",
       "      <td>NaN</td>\n",
       "      <td>NaN</td>\n",
       "    </tr>\n",
       "  </tbody>\n",
       "</table>\n",
       "</div>"
      ],
      "text/plain": [
       "                              Country             Main Religion Name Iso3\n",
       "1                            Anguilla                  Anglican  NaN  NaN\n",
       "15             British Virgin Islands                 Methodist  NaN  NaN\n",
       "24                       Cook Islands                 Christian  NaN  NaN\n",
       "32        Falkland Islands (Malvinas)                 Christian  NaN  NaN\n",
       "38                          Gibraltar            Roman Catholic  NaN  NaN\n",
       "61   Micronesia (Federated States Of)            Roman Catholic  NaN  NaN\n",
       "64                         Montserrat                  Anglican  NaN  NaN\n",
       "71                               Niue             Ekalesia Niue  NaN  NaN\n",
       "72                     Norfolk Island         Church Of England  NaN  NaN\n",
       "86              Saint Helena Ex. Dep.         Church Of England  NaN  NaN\n",
       "99                 State Of Palestine                    Islam   NaN  NaN\n",
       "104                           Tokelau  Christian Congregational  NaN  NaN"
      ]
     },
     "execution_count": 144,
     "metadata": {},
     "output_type": "execute_result"
    }
   ],
   "source": [
    "rel[rel['Name'].isnull()]"
   ]
  },
  {
   "cell_type": "code",
   "execution_count": 145,
   "id": "d798242d",
   "metadata": {
    "pycharm": {
     "name": "#%%\n"
    }
   },
   "outputs": [],
   "source": [
    "rel = rel.dropna(subset=['Name'])\n",
    "rel = rel.drop(['Name'], axis=1)"
   ]
  },
  {
   "cell_type": "markdown",
   "id": "f75f68f9",
   "metadata": {
    "pycharm": {
     "name": "#%% md\n"
    }
   },
   "source": [
    "#### Check Average Restaurant and Accomodation Cost - ISO"
   ]
  },
  {
   "cell_type": "code",
   "execution_count": 146,
   "id": "2d23bb84",
   "metadata": {
    "pycharm": {
     "name": "#%%\n"
    }
   },
   "outputs": [
    {
     "data": {
      "text/html": [
       "<div>\n",
       "<style scoped>\n",
       "    .dataframe tbody tr th:only-of-type {\n",
       "        vertical-align: middle;\n",
       "    }\n",
       "\n",
       "    .dataframe tbody tr th {\n",
       "        vertical-align: top;\n",
       "    }\n",
       "\n",
       "    .dataframe thead th {\n",
       "        text-align: right;\n",
       "    }\n",
       "</style>\n",
       "<table border=\"1\" class=\"dataframe\">\n",
       "  <thead>\n",
       "    <tr style=\"text-align: right;\">\n",
       "      <th></th>\n",
       "      <th>Country</th>\n",
       "      <th>Country Code</th>\n",
       "      <th>Average Hotel and Restaurant Cost</th>\n",
       "      <th>Type Traveler</th>\n",
       "      <th>Iso3</th>\n",
       "    </tr>\n",
       "  </thead>\n",
       "  <tbody>\n",
       "    <tr>\n",
       "      <th>0</th>\n",
       "      <td>Albania</td>\n",
       "      <td>ALB</td>\n",
       "      <td>50.78</td>\n",
       "      <td>Budget Traveler</td>\n",
       "      <td>ALB</td>\n",
       "    </tr>\n",
       "    <tr>\n",
       "      <th>1</th>\n",
       "      <td>Algeria</td>\n",
       "      <td>DZA</td>\n",
       "      <td>33.93</td>\n",
       "      <td>Budget Traveler</td>\n",
       "      <td>DZA</td>\n",
       "    </tr>\n",
       "    <tr>\n",
       "      <th>2</th>\n",
       "      <td>Angola</td>\n",
       "      <td>AGO</td>\n",
       "      <td>79.22</td>\n",
       "      <td>Budget Traveler</td>\n",
       "      <td>AGO</td>\n",
       "    </tr>\n",
       "    <tr>\n",
       "      <th>3</th>\n",
       "      <td>Anguilla</td>\n",
       "      <td>AIA</td>\n",
       "      <td>122.30</td>\n",
       "      <td>Budget Traveler</td>\n",
       "      <td>NaN</td>\n",
       "    </tr>\n",
       "    <tr>\n",
       "      <th>4</th>\n",
       "      <td>Antigua And Barbuda</td>\n",
       "      <td>ATG</td>\n",
       "      <td>105.93</td>\n",
       "      <td>Budget Traveler</td>\n",
       "      <td>ATG</td>\n",
       "    </tr>\n",
       "  </tbody>\n",
       "</table>\n",
       "</div>"
      ],
      "text/plain": [
       "               Country Country Code  Average Hotel and Restaurant Cost  \\\n",
       "0              Albania          ALB                              50.78   \n",
       "1              Algeria          DZA                              33.93   \n",
       "2               Angola          AGO                              79.22   \n",
       "3             Anguilla          AIA                             122.30   \n",
       "4  Antigua And Barbuda          ATG                             105.93   \n",
       "\n",
       "     Type Traveler Iso3  \n",
       "0  Budget Traveler  ALB  \n",
       "1  Budget Traveler  DZA  \n",
       "2  Budget Traveler  AGO  \n",
       "3  Budget Traveler  NaN  \n",
       "4  Budget Traveler  ATG  "
      ]
     },
     "execution_count": 146,
     "metadata": {},
     "output_type": "execute_result"
    }
   ],
   "source": [
    "avg_rest_hot_p = avg_rest_hot_p.merge(country[['Iso3']], how='left', left_on='Country Code', right_on='Iso3')\n",
    "avg_rest_hot_p.head()"
   ]
  },
  {
   "cell_type": "code",
   "execution_count": 147,
   "id": "d75baf9c",
   "metadata": {
    "pycharm": {
     "name": "#%%\n"
    }
   },
   "outputs": [
    {
     "data": {
      "text/html": [
       "<div>\n",
       "<style scoped>\n",
       "    .dataframe tbody tr th:only-of-type {\n",
       "        vertical-align: middle;\n",
       "    }\n",
       "\n",
       "    .dataframe tbody tr th {\n",
       "        vertical-align: top;\n",
       "    }\n",
       "\n",
       "    .dataframe thead th {\n",
       "        text-align: right;\n",
       "    }\n",
       "</style>\n",
       "<table border=\"1\" class=\"dataframe\">\n",
       "  <thead>\n",
       "    <tr style=\"text-align: right;\">\n",
       "      <th></th>\n",
       "      <th>Country</th>\n",
       "      <th>Country Code</th>\n",
       "      <th>Average Hotel and Restaurant Cost</th>\n",
       "      <th>Type Traveler</th>\n",
       "      <th>Iso3</th>\n",
       "    </tr>\n",
       "  </thead>\n",
       "  <tbody>\n",
       "    <tr>\n",
       "      <th>3</th>\n",
       "      <td>Anguilla</td>\n",
       "      <td>AIA</td>\n",
       "      <td>122.30</td>\n",
       "      <td>Budget Traveler</td>\n",
       "      <td>NaN</td>\n",
       "    </tr>\n",
       "    <tr>\n",
       "      <th>27</th>\n",
       "      <td>Bonaire</td>\n",
       "      <td>BON</td>\n",
       "      <td>156.57</td>\n",
       "      <td>Budget Traveler</td>\n",
       "      <td>NaN</td>\n",
       "    </tr>\n",
       "    <tr>\n",
       "      <th>75</th>\n",
       "      <td>East Asia &amp; Pacific (Icp)</td>\n",
       "      <td>EAB</td>\n",
       "      <td>80.57</td>\n",
       "      <td>Budget Traveler</td>\n",
       "      <td>NaN</td>\n",
       "    </tr>\n",
       "    <tr>\n",
       "      <th>84</th>\n",
       "      <td>Europe &amp; Central Asia (Icp)</td>\n",
       "      <td>ECB</td>\n",
       "      <td>120.78</td>\n",
       "      <td>Budget Traveler</td>\n",
       "      <td>NaN</td>\n",
       "    </tr>\n",
       "    <tr>\n",
       "      <th>140</th>\n",
       "      <td>Latin America &amp; Caribbean (Icp)</td>\n",
       "      <td>LCB</td>\n",
       "      <td>78.35</td>\n",
       "      <td>Comfort traveler</td>\n",
       "      <td>NaN</td>\n",
       "    </tr>\n",
       "    <tr>\n",
       "      <th>155</th>\n",
       "      <td>Middle East &amp; North Africa (Icp)</td>\n",
       "      <td>MEB</td>\n",
       "      <td>64.50</td>\n",
       "      <td>Comfort traveler</td>\n",
       "      <td>NaN</td>\n",
       "    </tr>\n",
       "    <tr>\n",
       "      <th>162</th>\n",
       "      <td>Montserrat</td>\n",
       "      <td>MSR</td>\n",
       "      <td>84.58</td>\n",
       "      <td>Comfort traveler</td>\n",
       "      <td>NaN</td>\n",
       "    </tr>\n",
       "    <tr>\n",
       "      <th>176</th>\n",
       "      <td>North America (Icp)</td>\n",
       "      <td>NAB</td>\n",
       "      <td>128.94</td>\n",
       "      <td>Comfort traveler</td>\n",
       "      <td>NaN</td>\n",
       "    </tr>\n",
       "    <tr>\n",
       "      <th>213</th>\n",
       "      <td>South Asia (Icp)</td>\n",
       "      <td>SAB</td>\n",
       "      <td>42.21</td>\n",
       "      <td>Luxury Traveler</td>\n",
       "      <td>NaN</td>\n",
       "    </tr>\n",
       "    <tr>\n",
       "      <th>222</th>\n",
       "      <td>Sub-Saharan Africa (Icp)</td>\n",
       "      <td>SSB</td>\n",
       "      <td>46.83</td>\n",
       "      <td>Luxury Traveler</td>\n",
       "      <td>NaN</td>\n",
       "    </tr>\n",
       "    <tr>\n",
       "      <th>264</th>\n",
       "      <td>Virgin Islands, British</td>\n",
       "      <td>VGB</td>\n",
       "      <td>116.88</td>\n",
       "      <td>Luxury Traveler</td>\n",
       "      <td>NaN</td>\n",
       "    </tr>\n",
       "    <tr>\n",
       "      <th>265</th>\n",
       "      <td>West Bank And Gaza</td>\n",
       "      <td>PSE</td>\n",
       "      <td>96.53</td>\n",
       "      <td>Luxury Traveler</td>\n",
       "      <td>NaN</td>\n",
       "    </tr>\n",
       "    <tr>\n",
       "      <th>266</th>\n",
       "      <td>World</td>\n",
       "      <td>WLD</td>\n",
       "      <td>100.00</td>\n",
       "      <td>Luxury Traveler</td>\n",
       "      <td>NaN</td>\n",
       "    </tr>\n",
       "  </tbody>\n",
       "</table>\n",
       "</div>"
      ],
      "text/plain": [
       "                              Country Country Code  \\\n",
       "3                            Anguilla          AIA   \n",
       "27                            Bonaire          BON   \n",
       "75          East Asia & Pacific (Icp)          EAB   \n",
       "84        Europe & Central Asia (Icp)          ECB   \n",
       "140   Latin America & Caribbean (Icp)          LCB   \n",
       "155  Middle East & North Africa (Icp)          MEB   \n",
       "162                        Montserrat          MSR   \n",
       "176               North America (Icp)          NAB   \n",
       "213                  South Asia (Icp)          SAB   \n",
       "222          Sub-Saharan Africa (Icp)          SSB   \n",
       "264           Virgin Islands, British          VGB   \n",
       "265                West Bank And Gaza          PSE   \n",
       "266                             World          WLD   \n",
       "\n",
       "     Average Hotel and Restaurant Cost     Type Traveler Iso3  \n",
       "3                               122.30   Budget Traveler  NaN  \n",
       "27                              156.57   Budget Traveler  NaN  \n",
       "75                               80.57   Budget Traveler  NaN  \n",
       "84                              120.78   Budget Traveler  NaN  \n",
       "140                              78.35  Comfort traveler  NaN  \n",
       "155                              64.50  Comfort traveler  NaN  \n",
       "162                              84.58  Comfort traveler  NaN  \n",
       "176                             128.94  Comfort traveler  NaN  \n",
       "213                              42.21   Luxury Traveler  NaN  \n",
       "222                              46.83   Luxury Traveler  NaN  \n",
       "264                             116.88   Luxury Traveler  NaN  \n",
       "265                              96.53   Luxury Traveler  NaN  \n",
       "266                             100.00   Luxury Traveler  NaN  "
      ]
     },
     "execution_count": 147,
     "metadata": {},
     "output_type": "execute_result"
    }
   ],
   "source": [
    "avg_rest_hot_p [avg_rest_hot_p ['Iso3'].isnull()]"
   ]
  },
  {
   "cell_type": "code",
   "execution_count": 148,
   "id": "e2f83593",
   "metadata": {
    "pycharm": {
     "name": "#%%\n"
    }
   },
   "outputs": [
    {
     "ename": "KeyError",
     "evalue": "\"['Name'] not found in axis\"",
     "output_type": "error",
     "traceback": [
      "\u001b[0;31m---------------------------------------------------------------------------\u001b[0m",
      "\u001b[0;31mKeyError\u001b[0m                                  Traceback (most recent call last)",
      "Cell \u001b[0;32mIn [148], line 3\u001b[0m\n\u001b[1;32m      1\u001b[0m avg_rest_hot_p \u001b[38;5;241m=\u001b[39m avg_rest_hot_p\u001b[38;5;241m.\u001b[39mdropna(subset\u001b[38;5;241m=\u001b[39m[\u001b[38;5;124m'\u001b[39m\u001b[38;5;124mIso3\u001b[39m\u001b[38;5;124m'\u001b[39m])\n\u001b[1;32m      2\u001b[0m \u001b[38;5;66;03m# as the dataset contains both country name and country code, delete the merged columns\u001b[39;00m\n\u001b[0;32m----> 3\u001b[0m avg_rest_hot_p \u001b[38;5;241m=\u001b[39m \u001b[43mavg_rest_hot_p\u001b[49m\u001b[38;5;241;43m.\u001b[39;49m\u001b[43mdrop\u001b[49m\u001b[43m(\u001b[49m\u001b[43m[\u001b[49m\u001b[38;5;124;43m'\u001b[39;49m\u001b[38;5;124;43mName\u001b[39;49m\u001b[38;5;124;43m'\u001b[39;49m\u001b[43m,\u001b[49m\u001b[43m \u001b[49m\u001b[38;5;124;43m'\u001b[39;49m\u001b[38;5;124;43mIso3\u001b[39;49m\u001b[38;5;124;43m'\u001b[39;49m\u001b[43m]\u001b[49m\u001b[43m,\u001b[49m\u001b[43m \u001b[49m\u001b[43maxis\u001b[49m\u001b[38;5;241;43m=\u001b[39;49m\u001b[38;5;241;43m1\u001b[39;49m\u001b[43m)\u001b[49m\n",
      "File \u001b[0;32m~/.venv/FinalExam_DS/lib/python3.9/site-packages/pandas/util/_decorators.py:331\u001b[0m, in \u001b[0;36mdeprecate_nonkeyword_arguments.<locals>.decorate.<locals>.wrapper\u001b[0;34m(*args, **kwargs)\u001b[0m\n\u001b[1;32m    325\u001b[0m \u001b[38;5;28;01mif\u001b[39;00m \u001b[38;5;28mlen\u001b[39m(args) \u001b[38;5;241m>\u001b[39m num_allow_args:\n\u001b[1;32m    326\u001b[0m     warnings\u001b[38;5;241m.\u001b[39mwarn(\n\u001b[1;32m    327\u001b[0m         msg\u001b[38;5;241m.\u001b[39mformat(arguments\u001b[38;5;241m=\u001b[39m_format_argument_list(allow_args)),\n\u001b[1;32m    328\u001b[0m         \u001b[38;5;167;01mFutureWarning\u001b[39;00m,\n\u001b[1;32m    329\u001b[0m         stacklevel\u001b[38;5;241m=\u001b[39mfind_stack_level(),\n\u001b[1;32m    330\u001b[0m     )\n\u001b[0;32m--> 331\u001b[0m \u001b[38;5;28;01mreturn\u001b[39;00m \u001b[43mfunc\u001b[49m\u001b[43m(\u001b[49m\u001b[38;5;241;43m*\u001b[39;49m\u001b[43margs\u001b[49m\u001b[43m,\u001b[49m\u001b[43m \u001b[49m\u001b[38;5;241;43m*\u001b[39;49m\u001b[38;5;241;43m*\u001b[39;49m\u001b[43mkwargs\u001b[49m\u001b[43m)\u001b[49m\n",
      "File \u001b[0;32m~/.venv/FinalExam_DS/lib/python3.9/site-packages/pandas/core/frame.py:5396\u001b[0m, in \u001b[0;36mDataFrame.drop\u001b[0;34m(self, labels, axis, index, columns, level, inplace, errors)\u001b[0m\n\u001b[1;32m   5248\u001b[0m \u001b[38;5;129m@deprecate_nonkeyword_arguments\u001b[39m(version\u001b[38;5;241m=\u001b[39m\u001b[38;5;28;01mNone\u001b[39;00m, allowed_args\u001b[38;5;241m=\u001b[39m[\u001b[38;5;124m\"\u001b[39m\u001b[38;5;124mself\u001b[39m\u001b[38;5;124m\"\u001b[39m, \u001b[38;5;124m\"\u001b[39m\u001b[38;5;124mlabels\u001b[39m\u001b[38;5;124m\"\u001b[39m])\n\u001b[1;32m   5249\u001b[0m \u001b[38;5;28;01mdef\u001b[39;00m \u001b[38;5;21mdrop\u001b[39m(  \u001b[38;5;66;03m# type: ignore[override]\u001b[39;00m\n\u001b[1;32m   5250\u001b[0m     \u001b[38;5;28mself\u001b[39m,\n\u001b[0;32m   (...)\u001b[0m\n\u001b[1;32m   5257\u001b[0m     errors: IgnoreRaise \u001b[38;5;241m=\u001b[39m \u001b[38;5;124m\"\u001b[39m\u001b[38;5;124mraise\u001b[39m\u001b[38;5;124m\"\u001b[39m,\n\u001b[1;32m   5258\u001b[0m ) \u001b[38;5;241m-\u001b[39m\u001b[38;5;241m>\u001b[39m DataFrame \u001b[38;5;241m|\u001b[39m \u001b[38;5;28;01mNone\u001b[39;00m:\n\u001b[1;32m   5259\u001b[0m     \u001b[38;5;124;03m\"\"\"\u001b[39;00m\n\u001b[1;32m   5260\u001b[0m \u001b[38;5;124;03m    Drop specified labels from rows or columns.\u001b[39;00m\n\u001b[1;32m   5261\u001b[0m \n\u001b[0;32m   (...)\u001b[0m\n\u001b[1;32m   5394\u001b[0m \u001b[38;5;124;03m            weight  1.0     0.8\u001b[39;00m\n\u001b[1;32m   5395\u001b[0m \u001b[38;5;124;03m    \"\"\"\u001b[39;00m\n\u001b[0;32m-> 5396\u001b[0m     \u001b[38;5;28;01mreturn\u001b[39;00m \u001b[38;5;28;43msuper\u001b[39;49m\u001b[43m(\u001b[49m\u001b[43m)\u001b[49m\u001b[38;5;241;43m.\u001b[39;49m\u001b[43mdrop\u001b[49m\u001b[43m(\u001b[49m\n\u001b[1;32m   5397\u001b[0m \u001b[43m        \u001b[49m\u001b[43mlabels\u001b[49m\u001b[38;5;241;43m=\u001b[39;49m\u001b[43mlabels\u001b[49m\u001b[43m,\u001b[49m\n\u001b[1;32m   5398\u001b[0m \u001b[43m        \u001b[49m\u001b[43maxis\u001b[49m\u001b[38;5;241;43m=\u001b[39;49m\u001b[43maxis\u001b[49m\u001b[43m,\u001b[49m\n\u001b[1;32m   5399\u001b[0m \u001b[43m        \u001b[49m\u001b[43mindex\u001b[49m\u001b[38;5;241;43m=\u001b[39;49m\u001b[43mindex\u001b[49m\u001b[43m,\u001b[49m\n\u001b[1;32m   5400\u001b[0m \u001b[43m        \u001b[49m\u001b[43mcolumns\u001b[49m\u001b[38;5;241;43m=\u001b[39;49m\u001b[43mcolumns\u001b[49m\u001b[43m,\u001b[49m\n\u001b[1;32m   5401\u001b[0m \u001b[43m        \u001b[49m\u001b[43mlevel\u001b[49m\u001b[38;5;241;43m=\u001b[39;49m\u001b[43mlevel\u001b[49m\u001b[43m,\u001b[49m\n\u001b[1;32m   5402\u001b[0m \u001b[43m        \u001b[49m\u001b[43minplace\u001b[49m\u001b[38;5;241;43m=\u001b[39;49m\u001b[43minplace\u001b[49m\u001b[43m,\u001b[49m\n\u001b[1;32m   5403\u001b[0m \u001b[43m        \u001b[49m\u001b[43merrors\u001b[49m\u001b[38;5;241;43m=\u001b[39;49m\u001b[43merrors\u001b[49m\u001b[43m,\u001b[49m\n\u001b[1;32m   5404\u001b[0m \u001b[43m    \u001b[49m\u001b[43m)\u001b[49m\n",
      "File \u001b[0;32m~/.venv/FinalExam_DS/lib/python3.9/site-packages/pandas/util/_decorators.py:331\u001b[0m, in \u001b[0;36mdeprecate_nonkeyword_arguments.<locals>.decorate.<locals>.wrapper\u001b[0;34m(*args, **kwargs)\u001b[0m\n\u001b[1;32m    325\u001b[0m \u001b[38;5;28;01mif\u001b[39;00m \u001b[38;5;28mlen\u001b[39m(args) \u001b[38;5;241m>\u001b[39m num_allow_args:\n\u001b[1;32m    326\u001b[0m     warnings\u001b[38;5;241m.\u001b[39mwarn(\n\u001b[1;32m    327\u001b[0m         msg\u001b[38;5;241m.\u001b[39mformat(arguments\u001b[38;5;241m=\u001b[39m_format_argument_list(allow_args)),\n\u001b[1;32m    328\u001b[0m         \u001b[38;5;167;01mFutureWarning\u001b[39;00m,\n\u001b[1;32m    329\u001b[0m         stacklevel\u001b[38;5;241m=\u001b[39mfind_stack_level(),\n\u001b[1;32m    330\u001b[0m     )\n\u001b[0;32m--> 331\u001b[0m \u001b[38;5;28;01mreturn\u001b[39;00m \u001b[43mfunc\u001b[49m\u001b[43m(\u001b[49m\u001b[38;5;241;43m*\u001b[39;49m\u001b[43margs\u001b[49m\u001b[43m,\u001b[49m\u001b[43m \u001b[49m\u001b[38;5;241;43m*\u001b[39;49m\u001b[38;5;241;43m*\u001b[39;49m\u001b[43mkwargs\u001b[49m\u001b[43m)\u001b[49m\n",
      "File \u001b[0;32m~/.venv/FinalExam_DS/lib/python3.9/site-packages/pandas/core/generic.py:4505\u001b[0m, in \u001b[0;36mNDFrame.drop\u001b[0;34m(self, labels, axis, index, columns, level, inplace, errors)\u001b[0m\n\u001b[1;32m   4503\u001b[0m \u001b[38;5;28;01mfor\u001b[39;00m axis, labels \u001b[38;5;129;01min\u001b[39;00m axes\u001b[38;5;241m.\u001b[39mitems():\n\u001b[1;32m   4504\u001b[0m     \u001b[38;5;28;01mif\u001b[39;00m labels \u001b[38;5;129;01mis\u001b[39;00m \u001b[38;5;129;01mnot\u001b[39;00m \u001b[38;5;28;01mNone\u001b[39;00m:\n\u001b[0;32m-> 4505\u001b[0m         obj \u001b[38;5;241m=\u001b[39m \u001b[43mobj\u001b[49m\u001b[38;5;241;43m.\u001b[39;49m\u001b[43m_drop_axis\u001b[49m\u001b[43m(\u001b[49m\u001b[43mlabels\u001b[49m\u001b[43m,\u001b[49m\u001b[43m \u001b[49m\u001b[43maxis\u001b[49m\u001b[43m,\u001b[49m\u001b[43m \u001b[49m\u001b[43mlevel\u001b[49m\u001b[38;5;241;43m=\u001b[39;49m\u001b[43mlevel\u001b[49m\u001b[43m,\u001b[49m\u001b[43m \u001b[49m\u001b[43merrors\u001b[49m\u001b[38;5;241;43m=\u001b[39;49m\u001b[43merrors\u001b[49m\u001b[43m)\u001b[49m\n\u001b[1;32m   4507\u001b[0m \u001b[38;5;28;01mif\u001b[39;00m inplace:\n\u001b[1;32m   4508\u001b[0m     \u001b[38;5;28mself\u001b[39m\u001b[38;5;241m.\u001b[39m_update_inplace(obj)\n",
      "File \u001b[0;32m~/.venv/FinalExam_DS/lib/python3.9/site-packages/pandas/core/generic.py:4546\u001b[0m, in \u001b[0;36mNDFrame._drop_axis\u001b[0;34m(self, labels, axis, level, errors, only_slice)\u001b[0m\n\u001b[1;32m   4544\u001b[0m         new_axis \u001b[38;5;241m=\u001b[39m axis\u001b[38;5;241m.\u001b[39mdrop(labels, level\u001b[38;5;241m=\u001b[39mlevel, errors\u001b[38;5;241m=\u001b[39merrors)\n\u001b[1;32m   4545\u001b[0m     \u001b[38;5;28;01melse\u001b[39;00m:\n\u001b[0;32m-> 4546\u001b[0m         new_axis \u001b[38;5;241m=\u001b[39m \u001b[43maxis\u001b[49m\u001b[38;5;241;43m.\u001b[39;49m\u001b[43mdrop\u001b[49m\u001b[43m(\u001b[49m\u001b[43mlabels\u001b[49m\u001b[43m,\u001b[49m\u001b[43m \u001b[49m\u001b[43merrors\u001b[49m\u001b[38;5;241;43m=\u001b[39;49m\u001b[43merrors\u001b[49m\u001b[43m)\u001b[49m\n\u001b[1;32m   4547\u001b[0m     indexer \u001b[38;5;241m=\u001b[39m axis\u001b[38;5;241m.\u001b[39mget_indexer(new_axis)\n\u001b[1;32m   4549\u001b[0m \u001b[38;5;66;03m# Case for non-unique axis\u001b[39;00m\n\u001b[1;32m   4550\u001b[0m \u001b[38;5;28;01melse\u001b[39;00m:\n",
      "File \u001b[0;32m~/.venv/FinalExam_DS/lib/python3.9/site-packages/pandas/core/indexes/base.py:6977\u001b[0m, in \u001b[0;36mIndex.drop\u001b[0;34m(self, labels, errors)\u001b[0m\n\u001b[1;32m   6975\u001b[0m \u001b[38;5;28;01mif\u001b[39;00m mask\u001b[38;5;241m.\u001b[39many():\n\u001b[1;32m   6976\u001b[0m     \u001b[38;5;28;01mif\u001b[39;00m errors \u001b[38;5;241m!=\u001b[39m \u001b[38;5;124m\"\u001b[39m\u001b[38;5;124mignore\u001b[39m\u001b[38;5;124m\"\u001b[39m:\n\u001b[0;32m-> 6977\u001b[0m         \u001b[38;5;28;01mraise\u001b[39;00m \u001b[38;5;167;01mKeyError\u001b[39;00m(\u001b[38;5;124mf\u001b[39m\u001b[38;5;124m\"\u001b[39m\u001b[38;5;132;01m{\u001b[39;00m\u001b[38;5;28mlist\u001b[39m(labels[mask])\u001b[38;5;132;01m}\u001b[39;00m\u001b[38;5;124m not found in axis\u001b[39m\u001b[38;5;124m\"\u001b[39m)\n\u001b[1;32m   6978\u001b[0m     indexer \u001b[38;5;241m=\u001b[39m indexer[\u001b[38;5;241m~\u001b[39mmask]\n\u001b[1;32m   6979\u001b[0m \u001b[38;5;28;01mreturn\u001b[39;00m \u001b[38;5;28mself\u001b[39m\u001b[38;5;241m.\u001b[39mdelete(indexer)\n",
      "\u001b[0;31mKeyError\u001b[0m: \"['Name'] not found in axis\""
     ]
    }
   ],
   "source": [
    "avg_rest_hot_p = avg_rest_hot_p.dropna(subset=['Iso3'])\n",
    "# as the dataset contains both country name and country code, delete the merged columns\n",
    "avg_rest_hot_p = avg_rest_hot_p.drop(['Iso3'], axis=1)"
   ]
  },
  {
   "cell_type": "markdown",
   "id": "184d8f2a",
   "metadata": {
    "pycharm": {
     "name": "#%% md\n"
    }
   },
   "source": [
    "#### Cuisine - Country"
   ]
  },
  {
   "cell_type": "code",
   "execution_count": 174,
   "id": "eecd9590",
   "metadata": {
    "pycharm": {
     "name": "#%%\n"
    }
   },
   "outputs": [
    {
     "data": {
      "text/html": [
       "<div>\n",
       "<style scoped>\n",
       "    .dataframe tbody tr th:only-of-type {\n",
       "        vertical-align: middle;\n",
       "    }\n",
       "\n",
       "    .dataframe tbody tr th {\n",
       "        vertical-align: top;\n",
       "    }\n",
       "\n",
       "    .dataframe thead th {\n",
       "        text-align: right;\n",
       "    }\n",
       "</style>\n",
       "<table border=\"1\" class=\"dataframe\">\n",
       "  <thead>\n",
       "    <tr style=\"text-align: right;\">\n",
       "      <th></th>\n",
       "      <th>Country</th>\n",
       "      <th>Ratings</th>\n",
       "      <th>Name</th>\n",
       "      <th>Iso3</th>\n",
       "    </tr>\n",
       "  </thead>\n",
       "  <tbody>\n",
       "    <tr>\n",
       "      <th>0</th>\n",
       "      <td>Italy</td>\n",
       "      <td>4.72</td>\n",
       "      <td>Italy</td>\n",
       "      <td>ITA</td>\n",
       "    </tr>\n",
       "    <tr>\n",
       "      <th>1</th>\n",
       "      <td>Greece</td>\n",
       "      <td>4.69</td>\n",
       "      <td>Greece</td>\n",
       "      <td>GRC</td>\n",
       "    </tr>\n",
       "    <tr>\n",
       "      <th>2</th>\n",
       "      <td>Spain</td>\n",
       "      <td>4.59</td>\n",
       "      <td>Spain</td>\n",
       "      <td>ESP</td>\n",
       "    </tr>\n",
       "    <tr>\n",
       "      <th>3</th>\n",
       "      <td>Japan</td>\n",
       "      <td>4.59</td>\n",
       "      <td>Japan</td>\n",
       "      <td>JPN</td>\n",
       "    </tr>\n",
       "    <tr>\n",
       "      <th>4</th>\n",
       "      <td>India</td>\n",
       "      <td>4.54</td>\n",
       "      <td>India</td>\n",
       "      <td>IND</td>\n",
       "    </tr>\n",
       "  </tbody>\n",
       "</table>\n",
       "</div>"
      ],
      "text/plain": [
       "  Country  Ratings    Name Iso3\n",
       "0   Italy     4.72   Italy  ITA\n",
       "1  Greece     4.69  Greece  GRC\n",
       "2   Spain     4.59   Spain  ESP\n",
       "3   Japan     4.59   Japan  JPN\n",
       "4   India     4.54   India  IND"
      ]
     },
     "execution_count": 174,
     "metadata": {},
     "output_type": "execute_result"
    }
   ],
   "source": [
    "cuisine_temp = cuisine_rank.merge(country[['Name','Iso3']], how='left', left_on='Country', right_on='Name')\n",
    "cuisine_temp.head()"
   ]
  },
  {
   "cell_type": "code",
   "execution_count": 175,
   "id": "012c8cc7",
   "metadata": {
    "pycharm": {
     "name": "#%%\n"
    }
   },
   "outputs": [
    {
     "data": {
      "text/html": [
       "<div>\n",
       "<style scoped>\n",
       "    .dataframe tbody tr th:only-of-type {\n",
       "        vertical-align: middle;\n",
       "    }\n",
       "\n",
       "    .dataframe tbody tr th {\n",
       "        vertical-align: top;\n",
       "    }\n",
       "\n",
       "    .dataframe thead th {\n",
       "        text-align: right;\n",
       "    }\n",
       "</style>\n",
       "<table border=\"1\" class=\"dataframe\">\n",
       "  <thead>\n",
       "    <tr style=\"text-align: right;\">\n",
       "      <th></th>\n",
       "      <th>Country</th>\n",
       "      <th>Ratings</th>\n",
       "      <th>Name</th>\n",
       "      <th>Iso3</th>\n",
       "    </tr>\n",
       "  </thead>\n",
       "  <tbody>\n",
       "    <tr>\n",
       "      <th>28</th>\n",
       "      <td>England</td>\n",
       "      <td>4.18</td>\n",
       "      <td>NaN</td>\n",
       "      <td>NaN</td>\n",
       "    </tr>\n",
       "    <tr>\n",
       "      <th>37</th>\n",
       "      <td>Bih</td>\n",
       "      <td>3.99</td>\n",
       "      <td>NaN</td>\n",
       "      <td>NaN</td>\n",
       "    </tr>\n",
       "    <tr>\n",
       "      <th>41</th>\n",
       "      <td>Palestine</td>\n",
       "      <td>3.98</td>\n",
       "      <td>NaN</td>\n",
       "      <td>NaN</td>\n",
       "    </tr>\n",
       "    <tr>\n",
       "      <th>68</th>\n",
       "      <td>Northern Ireland</td>\n",
       "      <td>3.91</td>\n",
       "      <td>NaN</td>\n",
       "      <td>NaN</td>\n",
       "    </tr>\n",
       "    <tr>\n",
       "      <th>79</th>\n",
       "      <td>Wales</td>\n",
       "      <td>3.88</td>\n",
       "      <td>NaN</td>\n",
       "      <td>NaN</td>\n",
       "    </tr>\n",
       "    <tr>\n",
       "      <th>87</th>\n",
       "      <td>Scotland</td>\n",
       "      <td>3.82</td>\n",
       "      <td>NaN</td>\n",
       "      <td>NaN</td>\n",
       "    </tr>\n",
       "  </tbody>\n",
       "</table>\n",
       "</div>"
      ],
      "text/plain": [
       "             Country  Ratings Name Iso3\n",
       "28           England     4.18  NaN  NaN\n",
       "37               Bih     3.99  NaN  NaN\n",
       "41         Palestine     3.98  NaN  NaN\n",
       "68  Northern Ireland     3.91  NaN  NaN\n",
       "79             Wales     3.88  NaN  NaN\n",
       "87          Scotland     3.82  NaN  NaN"
      ]
     },
     "execution_count": 175,
     "metadata": {},
     "output_type": "execute_result"
    }
   ],
   "source": [
    "cuisine_temp[cuisine_temp['Name'].isnull()]"
   ]
  },
  {
   "cell_type": "markdown",
   "id": "9bdf8000",
   "metadata": {
    "pycharm": {
     "name": "#%% md\n"
    }
   },
   "source": [
    "As the United Kingdom was divided to England, Northern Ireland, Wales and Scotland,\n",
    "we will have one row for the United Kingdom with the average ratings of the 4 countries\n",
    "as we have the United Kingdom in the WEF datset."
   ]
  },
  {
   "cell_type": "code",
   "execution_count": 176,
   "id": "57cc6f9d",
   "metadata": {
    "pycharm": {
     "name": "#%%\n"
    }
   },
   "outputs": [],
   "source": [
    "# add average of 4 nations in the United Kingdom to the existing row\n",
    "uk_rank = cuisine_rank.iloc[[28,68,79,87]]['Ratings'].mean()\n",
    "cuisine_rank.loc[len(cuisine_rank.index)] = ['United Kingdom', uk_rank]"
   ]
  },
  {
   "cell_type": "code",
   "execution_count": 177,
   "id": "9c5c044b",
   "metadata": {
    "pycharm": {
     "name": "#%%\n"
    }
   },
   "outputs": [],
   "source": [
    "# Then sort by ratings, and reset index\n",
    "cuisine_rank.sort_values(by=['Ratings'], ignore_index=True, inplace=True, ascending=False)"
   ]
  },
  {
   "cell_type": "code",
   "execution_count": 178,
   "id": "f9a0f621",
   "metadata": {
    "pycharm": {
     "name": "#%%\n"
    }
   },
   "outputs": [
    {
     "data": {
      "text/html": [
       "<div>\n",
       "<style scoped>\n",
       "    .dataframe tbody tr th:only-of-type {\n",
       "        vertical-align: middle;\n",
       "    }\n",
       "\n",
       "    .dataframe tbody tr th {\n",
       "        vertical-align: top;\n",
       "    }\n",
       "\n",
       "    .dataframe thead th {\n",
       "        text-align: right;\n",
       "    }\n",
       "</style>\n",
       "<table border=\"1\" class=\"dataframe\">\n",
       "  <thead>\n",
       "    <tr style=\"text-align: right;\">\n",
       "      <th></th>\n",
       "      <th>Country</th>\n",
       "      <th>Ratings</th>\n",
       "      <th>Name</th>\n",
       "      <th>Iso3</th>\n",
       "    </tr>\n",
       "  </thead>\n",
       "  <tbody>\n",
       "    <tr>\n",
       "      <th>49</th>\n",
       "      <td>United Kingdom</td>\n",
       "      <td>3.9475</td>\n",
       "      <td>United Kingdom</td>\n",
       "      <td>GBR</td>\n",
       "    </tr>\n",
       "  </tbody>\n",
       "</table>\n",
       "</div>"
      ],
      "text/plain": [
       "           Country  Ratings            Name Iso3\n",
       "49  United Kingdom   3.9475  United Kingdom  GBR"
      ]
     },
     "execution_count": 178,
     "metadata": {},
     "output_type": "execute_result"
    }
   ],
   "source": [
    "# merge again with modified data\n",
    "cuisine_rank = cuisine_rank.merge(country[['Name','Iso3']], how='left', left_on='Country', right_on='Name')\n",
    "# check UK\n",
    "cuisine_rank[cuisine_rank['Country']=='United Kingdom']"
   ]
  },
  {
   "cell_type": "code",
   "execution_count": 179,
   "id": "c96db998",
   "metadata": {
    "pycharm": {
     "name": "#%%\n"
    }
   },
   "outputs": [
    {
     "data": {
      "text/html": [
       "<div>\n",
       "<style scoped>\n",
       "    .dataframe tbody tr th:only-of-type {\n",
       "        vertical-align: middle;\n",
       "    }\n",
       "\n",
       "    .dataframe tbody tr th {\n",
       "        vertical-align: top;\n",
       "    }\n",
       "\n",
       "    .dataframe thead th {\n",
       "        text-align: right;\n",
       "    }\n",
       "</style>\n",
       "<table border=\"1\" class=\"dataframe\">\n",
       "  <thead>\n",
       "    <tr style=\"text-align: right;\">\n",
       "      <th></th>\n",
       "      <th>Country</th>\n",
       "      <th>Ratings</th>\n",
       "      <th>Name</th>\n",
       "      <th>Iso3</th>\n",
       "    </tr>\n",
       "  </thead>\n",
       "  <tbody>\n",
       "    <tr>\n",
       "      <th>28</th>\n",
       "      <td>England</td>\n",
       "      <td>4.18</td>\n",
       "      <td>NaN</td>\n",
       "      <td>NaN</td>\n",
       "    </tr>\n",
       "    <tr>\n",
       "      <th>37</th>\n",
       "      <td>Bih</td>\n",
       "      <td>3.99</td>\n",
       "      <td>NaN</td>\n",
       "      <td>NaN</td>\n",
       "    </tr>\n",
       "    <tr>\n",
       "      <th>41</th>\n",
       "      <td>Palestine</td>\n",
       "      <td>3.98</td>\n",
       "      <td>NaN</td>\n",
       "      <td>NaN</td>\n",
       "    </tr>\n",
       "    <tr>\n",
       "      <th>64</th>\n",
       "      <td>Northern Ireland</td>\n",
       "      <td>3.91</td>\n",
       "      <td>NaN</td>\n",
       "      <td>NaN</td>\n",
       "    </tr>\n",
       "    <tr>\n",
       "      <th>79</th>\n",
       "      <td>Wales</td>\n",
       "      <td>3.88</td>\n",
       "      <td>NaN</td>\n",
       "      <td>NaN</td>\n",
       "    </tr>\n",
       "    <tr>\n",
       "      <th>87</th>\n",
       "      <td>Scotland</td>\n",
       "      <td>3.82</td>\n",
       "      <td>NaN</td>\n",
       "      <td>NaN</td>\n",
       "    </tr>\n",
       "  </tbody>\n",
       "</table>\n",
       "</div>"
      ],
      "text/plain": [
       "             Country  Ratings Name Iso3\n",
       "28           England     4.18  NaN  NaN\n",
       "37               Bih     3.99  NaN  NaN\n",
       "41         Palestine     3.98  NaN  NaN\n",
       "64  Northern Ireland     3.91  NaN  NaN\n",
       "79             Wales     3.88  NaN  NaN\n",
       "87          Scotland     3.82  NaN  NaN"
      ]
     },
     "execution_count": 179,
     "metadata": {},
     "output_type": "execute_result"
    }
   ],
   "source": [
    "cuisine_rank[cuisine_rank['Name'].isnull()]"
   ]
  },
  {
   "cell_type": "code",
   "execution_count": 180,
   "id": "f07ec309",
   "metadata": {
    "pycharm": {
     "name": "#%%\n"
    }
   },
   "outputs": [],
   "source": [
    "cuisine_rank = cuisine_rank.dropna(subset=['Name'])\n",
    "cuisine_rank = cuisine_rank.drop(['Name'], axis=1)"
   ]
  },
  {
   "cell_type": "markdown",
   "id": "5d322618",
   "metadata": {
    "pycharm": {
     "name": "#%% md\n"
    }
   },
   "source": [
    "#### LGBT data - Country"
   ]
  },
  {
   "cell_type": "code",
   "execution_count": 181,
   "id": "daf5647c",
   "metadata": {
    "pycharm": {
     "name": "#%%\n"
    }
   },
   "outputs": [
    {
     "data": {
      "text/html": [
       "<div>\n",
       "<style scoped>\n",
       "    .dataframe tbody tr th:only-of-type {\n",
       "        vertical-align: middle;\n",
       "    }\n",
       "\n",
       "    .dataframe tbody tr th {\n",
       "        vertical-align: top;\n",
       "    }\n",
       "\n",
       "    .dataframe thead th {\n",
       "        text-align: right;\n",
       "    }\n",
       "</style>\n",
       "<table border=\"1\" class=\"dataframe\">\n",
       "  <thead>\n",
       "    <tr style=\"text-align: right;\">\n",
       "      <th></th>\n",
       "      <th>RANK</th>\n",
       "      <th>COUNTRY</th>\n",
       "      <th>GAI</th>\n",
       "      <th>Iso3_x</th>\n",
       "      <th>Iso3_y</th>\n",
       "      <th>Name</th>\n",
       "      <th>Iso3</th>\n",
       "    </tr>\n",
       "  </thead>\n",
       "  <tbody>\n",
       "    <tr>\n",
       "      <th>0</th>\n",
       "      <td>1</td>\n",
       "      <td>Iceland</td>\n",
       "      <td>9.78</td>\n",
       "      <td>ISL</td>\n",
       "      <td>ISL</td>\n",
       "      <td>Iceland</td>\n",
       "      <td>ISL</td>\n",
       "    </tr>\n",
       "    <tr>\n",
       "      <th>1</th>\n",
       "      <td>2</td>\n",
       "      <td>Netherlands</td>\n",
       "      <td>9.46</td>\n",
       "      <td>NLD</td>\n",
       "      <td>NLD</td>\n",
       "      <td>Netherlands</td>\n",
       "      <td>NLD</td>\n",
       "    </tr>\n",
       "    <tr>\n",
       "      <th>2</th>\n",
       "      <td>3</td>\n",
       "      <td>Norway</td>\n",
       "      <td>9.38</td>\n",
       "      <td>NOR</td>\n",
       "      <td>NOR</td>\n",
       "      <td>Norway</td>\n",
       "      <td>NOR</td>\n",
       "    </tr>\n",
       "    <tr>\n",
       "      <th>3</th>\n",
       "      <td>4</td>\n",
       "      <td>Sweden</td>\n",
       "      <td>9.18</td>\n",
       "      <td>SWE</td>\n",
       "      <td>SWE</td>\n",
       "      <td>Sweden</td>\n",
       "      <td>SWE</td>\n",
       "    </tr>\n",
       "    <tr>\n",
       "      <th>4</th>\n",
       "      <td>5</td>\n",
       "      <td>Canada</td>\n",
       "      <td>9.02</td>\n",
       "      <td>CAN</td>\n",
       "      <td>CAN</td>\n",
       "      <td>Canada</td>\n",
       "      <td>CAN</td>\n",
       "    </tr>\n",
       "  </tbody>\n",
       "</table>\n",
       "</div>"
      ],
      "text/plain": [
       "   RANK      COUNTRY   GAI Iso3_x Iso3_y         Name Iso3\n",
       "0     1      Iceland  9.78    ISL    ISL      Iceland  ISL\n",
       "1     2  Netherlands  9.46    NLD    NLD  Netherlands  NLD\n",
       "2     3       Norway  9.38    NOR    NOR       Norway  NOR\n",
       "3     4       Sweden  9.18    SWE    SWE       Sweden  SWE\n",
       "4     5       Canada  9.02    CAN    CAN       Canada  CAN"
      ]
     },
     "execution_count": 181,
     "metadata": {},
     "output_type": "execute_result"
    }
   ],
   "source": [
    "lgbtq = lgbtq.merge(country[['Name', 'Iso3']], how='left', left_on='COUNTRY', right_on='Name')\n",
    "lgbtq.head()"
   ]
  },
  {
   "cell_type": "code",
   "execution_count": 182,
   "id": "76804355",
   "metadata": {
    "pycharm": {
     "name": "#%%\n"
    }
   },
   "outputs": [
    {
     "data": {
      "text/html": [
       "<div>\n",
       "<style scoped>\n",
       "    .dataframe tbody tr th:only-of-type {\n",
       "        vertical-align: middle;\n",
       "    }\n",
       "\n",
       "    .dataframe tbody tr th {\n",
       "        vertical-align: top;\n",
       "    }\n",
       "\n",
       "    .dataframe thead th {\n",
       "        text-align: right;\n",
       "    }\n",
       "</style>\n",
       "<table border=\"1\" class=\"dataframe\">\n",
       "  <thead>\n",
       "    <tr style=\"text-align: right;\">\n",
       "      <th></th>\n",
       "      <th>RANK</th>\n",
       "      <th>COUNTRY</th>\n",
       "      <th>GAI</th>\n",
       "      <th>Iso3_x</th>\n",
       "      <th>Iso3_y</th>\n",
       "      <th>Name</th>\n",
       "      <th>Iso3</th>\n",
       "    </tr>\n",
       "  </thead>\n",
       "  <tbody>\n",
       "  </tbody>\n",
       "</table>\n",
       "</div>"
      ],
      "text/plain": [
       "Empty DataFrame\n",
       "Columns: [RANK, COUNTRY, GAI, Iso3_x, Iso3_y, Name, Iso3]\n",
       "Index: []"
      ]
     },
     "execution_count": 182,
     "metadata": {},
     "output_type": "execute_result"
    }
   ],
   "source": [
    "lgbtq[lgbtq['Name'].isnull()]"
   ]
  },
  {
   "cell_type": "code",
   "execution_count": 183,
   "id": "35f49d08",
   "metadata": {
    "pycharm": {
     "name": "#%%\n"
    }
   },
   "outputs": [],
   "source": [
    "lgbtq=lgbtq.dropna(subset=['Name'])\n",
    "lgbtq = lgbtq.drop(['Name'], axis=1)"
   ]
  },
  {
   "cell_type": "code",
   "execution_count": 184,
   "id": "54f9f8fa",
   "metadata": {
    "pycharm": {
     "name": "#%%\n"
    }
   },
   "outputs": [],
   "source": [
    "country.to_csv('../cleaned_data/country.csv', index=False)\n",
    "\n",
    "pop.to_csv('../cleaned_data/population.csv', index=False)\n",
    "\n",
    "clim.to_csv('../cleaned_data/climate.csv', index=False)\n",
    "\n",
    "curr.to_csv('../cleaned_data/currencies.csv', index=False)\n",
    "\n",
    "lang.to_csv('../cleaned_data/language.csv', index=False)\n",
    "\n",
    "rel.to_csv('../cleaned_data/religion.csv', index=False)\n",
    "\n",
    "peace.to_csv('../cleaned_data/peace_index.csv', index=False)\n",
    "\n",
    "wef.to_csv('../cleaned_data/wef_ttdi.csv', index=False)\n",
    "\n",
    "avg_rest_hot_p.to_csv(\"../cleaned_data/avg_rest_hot_p.csv\", index=False)\n",
    "\n",
    "lgbtq.to_csv(\"../cleaned_data/lgbtq.csv\", index=False)\n",
    "\n",
    "cuisine_rank.to_csv('../cleaned_data/cuisine_rank.csv', index=False)"
   ]
  }
 ],
 "metadata": {
  "kernelspec": {
   "display_name": "Python 3",
   "language": "python",
   "name": "python3"
  },
  "language_info": {
   "codemirror_mode": {
    "name": "ipython",
    "version": 3
   },
   "file_extension": ".py",
   "mimetype": "text/x-python",
   "name": "python",
   "nbconvert_exporter": "python",
   "pygments_lexer": "ipython3",
   "version": "3.8.8"
  }
 },
 "nbformat": 4,
 "nbformat_minor": 5
}
