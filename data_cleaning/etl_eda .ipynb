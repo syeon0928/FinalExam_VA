{
 "cells": [
  {
   "cell_type": "markdown",
   "id": "bb0fa62e",
   "metadata": {
    "pycharm": {
     "name": "#%% md\n"
    }
   },
   "source": [
    "### Import needed packages"
   ]
  },
  {
   "cell_type": "code",
   "execution_count": 209,
   "id": "fde1da8a",
   "metadata": {
    "pycharm": {
     "name": "#%%\n"
    }
   },
   "outputs": [],
   "source": [
    "import pandas as pd\n",
    "import numpy as np\n",
    "import re"
   ]
  },
  {
   "cell_type": "markdown",
   "id": "6a0e260c",
   "metadata": {
    "pycharm": {
     "name": "#%% md\n"
    }
   },
   "source": [
    "### Load all the necessary data"
   ]
  },
  {
   "cell_type": "code",
   "execution_count": 210,
   "id": "9fcf3120",
   "metadata": {
    "pycharm": {
     "name": "#%%\n"
    }
   },
   "outputs": [],
   "source": [
    "#Load the country-ISO code dataset\n",
    "country = pd.read_excel('../original_data/country.xlsx')\n",
    "\n",
    "#Load airport code data and distance data\n",
    "airport_code = pd.read_csv(\"../original_data/airports.csv\")\n",
    "distance = pd.read_csv(\"../original_data/Distance_of_All_Airports.csv\")\n",
    "\n",
    "# Load the population by country dataset\n",
    "pop = pd.read_csv(\"../original_data/Population.csv\")\n",
    "\n",
    "#Load the climate by country dataset\n",
    "clim = pd.read_csv(\"../original_data/Climate.csv\")\n",
    "\n",
    "#Load the currencies by country dataset\n",
    "curr = pd.read_csv(\"../original_data/Currencies.csv\")\n",
    "\n",
    "#Load the spoken languages by country dataset\n",
    "lang = pd.read_csv(\"../original_data/Languages.csv\", encoding='Latin-1')\n",
    "\n",
    "#Load the religion by country dataset\n",
    "rel = pd.read_csv(\"../original_data/Religion.csv\")\n",
    "\n",
    "#Load the peace index dataset\n",
    "peace = pd.read_csv(\"../original_data/Peace_Index.csv\")\n",
    "\n",
    "#Load Wef Travel Index data\n",
    "wef = pd.read_excel('../Original_data/WEF_TTDI.xlsx', header=[0, 1], sheet_name='Index Performance')\n",
    "\n",
    "# Load average restaurant and accomodation cost data\n",
    "avg_rest_hot_p = pd.read_csv(\"../Original_data/Avg_rest_hot_prices.csv\")"
   ]
  },
  {
   "cell_type": "markdown",
   "id": "05e92291",
   "metadata": {
    "pycharm": {
     "name": "#%% md\n"
    }
   },
   "source": [
    "## EDA"
   ]
  },
  {
   "cell_type": "markdown",
   "id": "931a029c",
   "metadata": {
    "pycharm": {
     "name": "#%% md\n"
    }
   },
   "source": [
    "#### Country - ISO Code datset"
   ]
  },
  {
   "cell_type": "code",
   "execution_count": 211,
   "id": "45088348",
   "metadata": {
    "pycharm": {
     "name": "#%%\n"
    }
   },
   "outputs": [
    {
     "data": {
      "text/plain": "          Name Iso3                           Continent     SubContinent\n0        Aruba  ABW     Latin America and the Caribbean        Caribbean\n1      Andorra  ADO                              Europe  Southern Europe\n2  Afghanistan  AFG  South, East and South-Eastern Asia    Southern Asia\n3       Angola  AGO                              Africa    Middle Africa\n4      Albania  ALB                              Europe  Southern Europe",
      "text/html": "<div>\n<style scoped>\n    .dataframe tbody tr th:only-of-type {\n        vertical-align: middle;\n    }\n\n    .dataframe tbody tr th {\n        vertical-align: top;\n    }\n\n    .dataframe thead th {\n        text-align: right;\n    }\n</style>\n<table border=\"1\" class=\"dataframe\">\n  <thead>\n    <tr style=\"text-align: right;\">\n      <th></th>\n      <th>Name</th>\n      <th>Iso3</th>\n      <th>Continent</th>\n      <th>SubContinent</th>\n    </tr>\n  </thead>\n  <tbody>\n    <tr>\n      <th>0</th>\n      <td>Aruba</td>\n      <td>ABW</td>\n      <td>Latin America and the Caribbean</td>\n      <td>Caribbean</td>\n    </tr>\n    <tr>\n      <th>1</th>\n      <td>Andorra</td>\n      <td>ADO</td>\n      <td>Europe</td>\n      <td>Southern Europe</td>\n    </tr>\n    <tr>\n      <th>2</th>\n      <td>Afghanistan</td>\n      <td>AFG</td>\n      <td>South, East and South-Eastern Asia</td>\n      <td>Southern Asia</td>\n    </tr>\n    <tr>\n      <th>3</th>\n      <td>Angola</td>\n      <td>AGO</td>\n      <td>Africa</td>\n      <td>Middle Africa</td>\n    </tr>\n    <tr>\n      <th>4</th>\n      <td>Albania</td>\n      <td>ALB</td>\n      <td>Europe</td>\n      <td>Southern Europe</td>\n    </tr>\n  </tbody>\n</table>\n</div>"
     },
     "execution_count": 211,
     "metadata": {},
     "output_type": "execute_result"
    }
   ],
   "source": [
    "country.head()"
   ]
  },
  {
   "cell_type": "code",
   "execution_count": 212,
   "id": "fd5160f3",
   "metadata": {
    "pycharm": {
     "name": "#%%\n"
    }
   },
   "outputs": [
    {
     "name": "stdout",
     "output_type": "stream",
     "text": [
      "<class 'pandas.core.frame.DataFrame'>\n",
      "RangeIndex: 329 entries, 0 to 328\n",
      "Data columns (total 4 columns):\n",
      " #   Column        Non-Null Count  Dtype \n",
      "---  ------        --------------  ----- \n",
      " 0   Name          329 non-null    object\n",
      " 1   Iso3          329 non-null    object\n",
      " 2   Continent     329 non-null    object\n",
      " 3   SubContinent  329 non-null    object\n",
      "dtypes: object(4)\n",
      "memory usage: 10.4+ KB\n"
     ]
    }
   ],
   "source": [
    "country.info()"
   ]
  },
  {
   "cell_type": "markdown",
   "id": "7acf1a7d",
   "metadata": {
    "pycharm": {
     "name": "#%% md\n"
    }
   },
   "source": [
    "#### Airport Distance data"
   ]
  },
  {
   "cell_type": "code",
   "execution_count": 213,
   "id": "2a3587e9",
   "metadata": {
    "pycharm": {
     "name": "#%%\n"
    }
   },
   "outputs": [
    {
     "data": {
      "text/plain": "                                          Name          City  \\\n0                               Goroka Airport        Goroka   \n1                               Madang Airport        Madang   \n2                 Mount Hagen Kagamuga Airport   Mount Hagen   \n3                               Nadzab Airport        Nadzab   \n4  Port Moresby Jacksons International Airport  Port Moresby   \n\n            Country IATA  ICAO  Latitude   Longitude  \n0  Papua New Guinea  GKA  AYGA -6.081690  145.391998  \n1  Papua New Guinea  MAG  AYMD -5.207080  145.789002  \n2  Papua New Guinea  HGU  AYMH -5.826790  144.296005  \n3  Papua New Guinea  LAE  AYNZ -6.569803  146.725977  \n4  Papua New Guinea  POM  AYPY -9.443380  147.220001  ",
      "text/html": "<div>\n<style scoped>\n    .dataframe tbody tr th:only-of-type {\n        vertical-align: middle;\n    }\n\n    .dataframe tbody tr th {\n        vertical-align: top;\n    }\n\n    .dataframe thead th {\n        text-align: right;\n    }\n</style>\n<table border=\"1\" class=\"dataframe\">\n  <thead>\n    <tr style=\"text-align: right;\">\n      <th></th>\n      <th>Name</th>\n      <th>City</th>\n      <th>Country</th>\n      <th>IATA</th>\n      <th>ICAO</th>\n      <th>Latitude</th>\n      <th>Longitude</th>\n    </tr>\n  </thead>\n  <tbody>\n    <tr>\n      <th>0</th>\n      <td>Goroka Airport</td>\n      <td>Goroka</td>\n      <td>Papua New Guinea</td>\n      <td>GKA</td>\n      <td>AYGA</td>\n      <td>-6.081690</td>\n      <td>145.391998</td>\n    </tr>\n    <tr>\n      <th>1</th>\n      <td>Madang Airport</td>\n      <td>Madang</td>\n      <td>Papua New Guinea</td>\n      <td>MAG</td>\n      <td>AYMD</td>\n      <td>-5.207080</td>\n      <td>145.789002</td>\n    </tr>\n    <tr>\n      <th>2</th>\n      <td>Mount Hagen Kagamuga Airport</td>\n      <td>Mount Hagen</td>\n      <td>Papua New Guinea</td>\n      <td>HGU</td>\n      <td>AYMH</td>\n      <td>-5.826790</td>\n      <td>144.296005</td>\n    </tr>\n    <tr>\n      <th>3</th>\n      <td>Nadzab Airport</td>\n      <td>Nadzab</td>\n      <td>Papua New Guinea</td>\n      <td>LAE</td>\n      <td>AYNZ</td>\n      <td>-6.569803</td>\n      <td>146.725977</td>\n    </tr>\n    <tr>\n      <th>4</th>\n      <td>Port Moresby Jacksons International Airport</td>\n      <td>Port Moresby</td>\n      <td>Papua New Guinea</td>\n      <td>POM</td>\n      <td>AYPY</td>\n      <td>-9.443380</td>\n      <td>147.220001</td>\n    </tr>\n  </tbody>\n</table>\n</div>"
     },
     "execution_count": 213,
     "metadata": {},
     "output_type": "execute_result"
    }
   ],
   "source": [
    "airport_code.head()"
   ]
  },
  {
   "cell_type": "code",
   "execution_count": 214,
   "id": "750a92eb",
   "metadata": {
    "pycharm": {
     "name": "#%%\n"
    }
   },
   "outputs": [
    {
     "data": {
      "text/plain": "  ORIGIN  ORIGIN_AIRPORT_SEQ_ID DEST  DEST_AIRPORT_SEQ_ID  DISTANCE IN MILES\n0    01A                1000101  A43              1005601               30.0\n1    06A                1000601  A30              1004301               16.0\n2    06A                1000601  A43              1005601               18.0\n3    06A                1000601  ADQ              1017004               14.0\n4    06A                1000601  AOS              1032401               40.0",
      "text/html": "<div>\n<style scoped>\n    .dataframe tbody tr th:only-of-type {\n        vertical-align: middle;\n    }\n\n    .dataframe tbody tr th {\n        vertical-align: top;\n    }\n\n    .dataframe thead th {\n        text-align: right;\n    }\n</style>\n<table border=\"1\" class=\"dataframe\">\n  <thead>\n    <tr style=\"text-align: right;\">\n      <th></th>\n      <th>ORIGIN</th>\n      <th>ORIGIN_AIRPORT_SEQ_ID</th>\n      <th>DEST</th>\n      <th>DEST_AIRPORT_SEQ_ID</th>\n      <th>DISTANCE IN MILES</th>\n    </tr>\n  </thead>\n  <tbody>\n    <tr>\n      <th>0</th>\n      <td>01A</td>\n      <td>1000101</td>\n      <td>A43</td>\n      <td>1005601</td>\n      <td>30.0</td>\n    </tr>\n    <tr>\n      <th>1</th>\n      <td>06A</td>\n      <td>1000601</td>\n      <td>A30</td>\n      <td>1004301</td>\n      <td>16.0</td>\n    </tr>\n    <tr>\n      <th>2</th>\n      <td>06A</td>\n      <td>1000601</td>\n      <td>A43</td>\n      <td>1005601</td>\n      <td>18.0</td>\n    </tr>\n    <tr>\n      <th>3</th>\n      <td>06A</td>\n      <td>1000601</td>\n      <td>ADQ</td>\n      <td>1017004</td>\n      <td>14.0</td>\n    </tr>\n    <tr>\n      <th>4</th>\n      <td>06A</td>\n      <td>1000601</td>\n      <td>AOS</td>\n      <td>1032401</td>\n      <td>40.0</td>\n    </tr>\n  </tbody>\n</table>\n</div>"
     },
     "execution_count": 214,
     "metadata": {},
     "output_type": "execute_result"
    }
   ],
   "source": [
    "distance.head()"
   ]
  },
  {
   "cell_type": "code",
   "execution_count": 215,
   "id": "d3c651a1",
   "metadata": {
    "pycharm": {
     "name": "#%%\n"
    }
   },
   "outputs": [],
   "source": [
    "airport_distance = distance.merge(airport_code, left_on='ORIGIN', right_on='IATA', how='left')"
   ]
  },
  {
   "cell_type": "code",
   "execution_count": 216,
   "id": "c02bd01b",
   "metadata": {
    "pycharm": {
     "name": "#%%\n"
    }
   },
   "outputs": [],
   "source": [
    "airport_distance = airport_distance.merge(airport_code, left_on='DEST', right_on='IATA', how='left', suffixes=['_Origin', '_Dest'])"
   ]
  },
  {
   "cell_type": "code",
   "execution_count": 217,
   "id": "bf0b6cbb",
   "metadata": {
    "pycharm": {
     "name": "#%%\n"
    }
   },
   "outputs": [
    {
     "data": {
      "text/plain": "       ORIGIN  ORIGIN_AIRPORT_SEQ_ID DEST  DEST_AIRPORT_SEQ_ID  \\\n0         01A                1000101  A43              1005601   \n1         06A                1000601  A30              1004301   \n2         06A                1000601  A43              1005601   \n3         06A                1000601  ADQ              1017004   \n4         06A                1000601  AOS              1032401   \n...       ...                    ...  ...                  ...   \n328146    ZXU                1635301  OPF              1389806   \n328147    ZXU                1635301  PHF              1409803   \n328148    ZXU                1635301  SCF              1471201   \n328149    ZXU                1635301  TEB              1516702   \n328150    ZZV                1636105  SAT              1468305   \n\n        DISTANCE IN MILES                   Name_Origin City_Origin  \\\n0                    30.0                           NaN         NaN   \n1                    16.0                           NaN         NaN   \n2                    18.0                           NaN         NaN   \n3                    14.0                           NaN         NaN   \n4                    40.0                           NaN         NaN   \n...                   ...                           ...         ...   \n328146             1194.0                           NaN         NaN   \n328147              411.0                           NaN         NaN   \n328148             2267.0                           NaN         NaN   \n328149              147.0                           NaN         NaN   \n328150             1182.0  Zanesville Municipal Airport  Zanesville   \n\n       Country_Origin IATA_Origin ICAO_Origin  Latitude_Origin  \\\n0                 NaN         NaN         NaN              NaN   \n1                 NaN         NaN         NaN              NaN   \n2                 NaN         NaN         NaN              NaN   \n3                 NaN         NaN         NaN              NaN   \n4                 NaN         NaN         NaN              NaN   \n...               ...         ...         ...              ...   \n328146            NaN         NaN         NaN              NaN   \n328147            NaN         NaN         NaN              NaN   \n328148            NaN         NaN         NaN              NaN   \n328149            NaN         NaN         NaN              NaN   \n328150  United States         ZZV        KZZV        39.944401   \n\n        Longitude_Origin                                        Name_Dest  \\\n0                    NaN                                              NaN   \n1                    NaN                                              NaN   \n2                    NaN                                              NaN   \n3                    NaN                                   Kodiak Airport   \n4                    NaN                                              NaN   \n...                  ...                                              ...   \n328146               NaN                      Opa-locka Executive Airport   \n328147               NaN  Newport News Williamsburg International Airport   \n328148               NaN                               Scottsdale Airport   \n328149               NaN                                Teterboro Airport   \n328150        -81.892097                San Antonio International Airport   \n\n           City_Dest   Country_Dest IATA_Dest ICAO_Dest  Latitude_Dest  \\\n0                NaN            NaN       NaN       NaN            NaN   \n1                NaN            NaN       NaN       NaN            NaN   \n2                NaN            NaN       NaN       NaN            NaN   \n3             Kodiak  United States       ADQ      PADQ      57.750000   \n4                NaN            NaN       NaN       NaN            NaN   \n...              ...            ...       ...       ...            ...   \n328146         Miami  United States       OPF      KOPF      25.907000   \n328147  Newport News  United States       PHF      KPHF      37.131901   \n328148    Scottsdale  United States       SCF      KSDL      33.622898   \n328149     Teterboro  United States       TEB      KTEB      40.850101   \n328150   San Antonio  United States       SAT      KSAT      29.533701   \n\n        Longitude_Dest  \n0                  NaN  \n1                  NaN  \n2                  NaN  \n3          -152.494003  \n4                  NaN  \n...                ...  \n328146      -80.278397  \n328147      -76.492996  \n328148     -111.911003  \n328149      -74.060799  \n328150      -98.469803  \n\n[328151 rows x 19 columns]",
      "text/html": "<div>\n<style scoped>\n    .dataframe tbody tr th:only-of-type {\n        vertical-align: middle;\n    }\n\n    .dataframe tbody tr th {\n        vertical-align: top;\n    }\n\n    .dataframe thead th {\n        text-align: right;\n    }\n</style>\n<table border=\"1\" class=\"dataframe\">\n  <thead>\n    <tr style=\"text-align: right;\">\n      <th></th>\n      <th>ORIGIN</th>\n      <th>ORIGIN_AIRPORT_SEQ_ID</th>\n      <th>DEST</th>\n      <th>DEST_AIRPORT_SEQ_ID</th>\n      <th>DISTANCE IN MILES</th>\n      <th>Name_Origin</th>\n      <th>City_Origin</th>\n      <th>Country_Origin</th>\n      <th>IATA_Origin</th>\n      <th>ICAO_Origin</th>\n      <th>Latitude_Origin</th>\n      <th>Longitude_Origin</th>\n      <th>Name_Dest</th>\n      <th>City_Dest</th>\n      <th>Country_Dest</th>\n      <th>IATA_Dest</th>\n      <th>ICAO_Dest</th>\n      <th>Latitude_Dest</th>\n      <th>Longitude_Dest</th>\n    </tr>\n  </thead>\n  <tbody>\n    <tr>\n      <th>0</th>\n      <td>01A</td>\n      <td>1000101</td>\n      <td>A43</td>\n      <td>1005601</td>\n      <td>30.0</td>\n      <td>NaN</td>\n      <td>NaN</td>\n      <td>NaN</td>\n      <td>NaN</td>\n      <td>NaN</td>\n      <td>NaN</td>\n      <td>NaN</td>\n      <td>NaN</td>\n      <td>NaN</td>\n      <td>NaN</td>\n      <td>NaN</td>\n      <td>NaN</td>\n      <td>NaN</td>\n      <td>NaN</td>\n    </tr>\n    <tr>\n      <th>1</th>\n      <td>06A</td>\n      <td>1000601</td>\n      <td>A30</td>\n      <td>1004301</td>\n      <td>16.0</td>\n      <td>NaN</td>\n      <td>NaN</td>\n      <td>NaN</td>\n      <td>NaN</td>\n      <td>NaN</td>\n      <td>NaN</td>\n      <td>NaN</td>\n      <td>NaN</td>\n      <td>NaN</td>\n      <td>NaN</td>\n      <td>NaN</td>\n      <td>NaN</td>\n      <td>NaN</td>\n      <td>NaN</td>\n    </tr>\n    <tr>\n      <th>2</th>\n      <td>06A</td>\n      <td>1000601</td>\n      <td>A43</td>\n      <td>1005601</td>\n      <td>18.0</td>\n      <td>NaN</td>\n      <td>NaN</td>\n      <td>NaN</td>\n      <td>NaN</td>\n      <td>NaN</td>\n      <td>NaN</td>\n      <td>NaN</td>\n      <td>NaN</td>\n      <td>NaN</td>\n      <td>NaN</td>\n      <td>NaN</td>\n      <td>NaN</td>\n      <td>NaN</td>\n      <td>NaN</td>\n    </tr>\n    <tr>\n      <th>3</th>\n      <td>06A</td>\n      <td>1000601</td>\n      <td>ADQ</td>\n      <td>1017004</td>\n      <td>14.0</td>\n      <td>NaN</td>\n      <td>NaN</td>\n      <td>NaN</td>\n      <td>NaN</td>\n      <td>NaN</td>\n      <td>NaN</td>\n      <td>NaN</td>\n      <td>Kodiak Airport</td>\n      <td>Kodiak</td>\n      <td>United States</td>\n      <td>ADQ</td>\n      <td>PADQ</td>\n      <td>57.750000</td>\n      <td>-152.494003</td>\n    </tr>\n    <tr>\n      <th>4</th>\n      <td>06A</td>\n      <td>1000601</td>\n      <td>AOS</td>\n      <td>1032401</td>\n      <td>40.0</td>\n      <td>NaN</td>\n      <td>NaN</td>\n      <td>NaN</td>\n      <td>NaN</td>\n      <td>NaN</td>\n      <td>NaN</td>\n      <td>NaN</td>\n      <td>NaN</td>\n      <td>NaN</td>\n      <td>NaN</td>\n      <td>NaN</td>\n      <td>NaN</td>\n      <td>NaN</td>\n      <td>NaN</td>\n    </tr>\n    <tr>\n      <th>...</th>\n      <td>...</td>\n      <td>...</td>\n      <td>...</td>\n      <td>...</td>\n      <td>...</td>\n      <td>...</td>\n      <td>...</td>\n      <td>...</td>\n      <td>...</td>\n      <td>...</td>\n      <td>...</td>\n      <td>...</td>\n      <td>...</td>\n      <td>...</td>\n      <td>...</td>\n      <td>...</td>\n      <td>...</td>\n      <td>...</td>\n      <td>...</td>\n    </tr>\n    <tr>\n      <th>328146</th>\n      <td>ZXU</td>\n      <td>1635301</td>\n      <td>OPF</td>\n      <td>1389806</td>\n      <td>1194.0</td>\n      <td>NaN</td>\n      <td>NaN</td>\n      <td>NaN</td>\n      <td>NaN</td>\n      <td>NaN</td>\n      <td>NaN</td>\n      <td>NaN</td>\n      <td>Opa-locka Executive Airport</td>\n      <td>Miami</td>\n      <td>United States</td>\n      <td>OPF</td>\n      <td>KOPF</td>\n      <td>25.907000</td>\n      <td>-80.278397</td>\n    </tr>\n    <tr>\n      <th>328147</th>\n      <td>ZXU</td>\n      <td>1635301</td>\n      <td>PHF</td>\n      <td>1409803</td>\n      <td>411.0</td>\n      <td>NaN</td>\n      <td>NaN</td>\n      <td>NaN</td>\n      <td>NaN</td>\n      <td>NaN</td>\n      <td>NaN</td>\n      <td>NaN</td>\n      <td>Newport News Williamsburg International Airport</td>\n      <td>Newport News</td>\n      <td>United States</td>\n      <td>PHF</td>\n      <td>KPHF</td>\n      <td>37.131901</td>\n      <td>-76.492996</td>\n    </tr>\n    <tr>\n      <th>328148</th>\n      <td>ZXU</td>\n      <td>1635301</td>\n      <td>SCF</td>\n      <td>1471201</td>\n      <td>2267.0</td>\n      <td>NaN</td>\n      <td>NaN</td>\n      <td>NaN</td>\n      <td>NaN</td>\n      <td>NaN</td>\n      <td>NaN</td>\n      <td>NaN</td>\n      <td>Scottsdale Airport</td>\n      <td>Scottsdale</td>\n      <td>United States</td>\n      <td>SCF</td>\n      <td>KSDL</td>\n      <td>33.622898</td>\n      <td>-111.911003</td>\n    </tr>\n    <tr>\n      <th>328149</th>\n      <td>ZXU</td>\n      <td>1635301</td>\n      <td>TEB</td>\n      <td>1516702</td>\n      <td>147.0</td>\n      <td>NaN</td>\n      <td>NaN</td>\n      <td>NaN</td>\n      <td>NaN</td>\n      <td>NaN</td>\n      <td>NaN</td>\n      <td>NaN</td>\n      <td>Teterboro Airport</td>\n      <td>Teterboro</td>\n      <td>United States</td>\n      <td>TEB</td>\n      <td>KTEB</td>\n      <td>40.850101</td>\n      <td>-74.060799</td>\n    </tr>\n    <tr>\n      <th>328150</th>\n      <td>ZZV</td>\n      <td>1636105</td>\n      <td>SAT</td>\n      <td>1468305</td>\n      <td>1182.0</td>\n      <td>Zanesville Municipal Airport</td>\n      <td>Zanesville</td>\n      <td>United States</td>\n      <td>ZZV</td>\n      <td>KZZV</td>\n      <td>39.944401</td>\n      <td>-81.892097</td>\n      <td>San Antonio International Airport</td>\n      <td>San Antonio</td>\n      <td>United States</td>\n      <td>SAT</td>\n      <td>KSAT</td>\n      <td>29.533701</td>\n      <td>-98.469803</td>\n    </tr>\n  </tbody>\n</table>\n<p>328151 rows × 19 columns</p>\n</div>"
     },
     "execution_count": 217,
     "metadata": {},
     "output_type": "execute_result"
    }
   ],
   "source": [
    "airport_distance"
   ]
  },
  {
   "cell_type": "code",
   "execution_count": 218,
   "id": "6fca6ef1",
   "metadata": {
    "pycharm": {
     "name": "#%%\n"
    }
   },
   "outputs": [
    {
     "data": {
      "text/plain": "ORIGIN                      0\nORIGIN_AIRPORT_SEQ_ID       0\nDEST                        0\nDEST_AIRPORT_SEQ_ID         0\nDISTANCE IN MILES           0\nName_Origin              4875\nCity_Origin              4875\nCountry_Origin           4875\nIATA_Origin              4875\nICAO_Origin              4875\nLatitude_Origin          4875\nLongitude_Origin         4875\nName_Dest                4991\nCity_Dest                4991\nCountry_Dest             4991\nIATA_Dest                4991\nICAO_Dest                4991\nLatitude_Dest            4991\nLongitude_Dest           4991\ndtype: int64"
     },
     "execution_count": 218,
     "metadata": {},
     "output_type": "execute_result"
    }
   ],
   "source": [
    "airport_distance.isnull().sum()"
   ]
  },
  {
   "cell_type": "code",
   "execution_count": 219,
   "id": "7320bcfb",
   "metadata": {
    "pycharm": {
     "name": "#%%\n"
    }
   },
   "outputs": [
    {
     "data": {
      "text/plain": "(328151, 19)"
     },
     "execution_count": 219,
     "metadata": {},
     "output_type": "execute_result"
    }
   ],
   "source": [
    "airport_distance.shape"
   ]
  },
  {
   "cell_type": "markdown",
   "id": "43caf66e",
   "metadata": {
    "pycharm": {
     "name": "#%% md\n"
    }
   },
   "source": [
    "#### Population Dataset"
   ]
  },
  {
   "cell_type": "code",
   "execution_count": 220,
   "id": "db5302e1",
   "metadata": {
    "pycharm": {
     "name": "#%%\n"
    }
   },
   "outputs": [
    {
     "data": {
      "text/plain": "                  Country Name Country Code     Indicator Name Indicator Code  \\\n0                        Aruba          ABW  Population, total    SP.POP.TOTL   \n1  Africa Eastern and Southern          AFE  Population, total    SP.POP.TOTL   \n2                  Afghanistan          AFG  Population, total    SP.POP.TOTL   \n3   Africa Western and Central          AFW  Population, total    SP.POP.TOTL   \n4                       Angola          AGO  Population, total    SP.POP.TOTL   \n\n          1960         1961         1962         1963         1964  \\\n0      54208.0      55434.0      56234.0      56699.0      57029.0   \n1  130836765.0  134159786.0  137614644.0  141202036.0  144920186.0   \n2    8996967.0    9169406.0    9351442.0    9543200.0    9744772.0   \n3   96396419.0   98407221.0  100506960.0  102691339.0  104953470.0   \n4    5454938.0    5531451.0    5608499.0    5679409.0    5734995.0   \n\n          1965  ...         2012         2013         2014         2015  \\\n0      57357.0  ...     102565.0     103165.0     103776.0     104339.0   \n1  148769974.0  ...  547482863.0  562601578.0  578075373.0  593871847.0   \n2    9956318.0  ...   31161378.0   32269592.0   33370804.0   34413603.0   \n3  107289875.0  ...  370243017.0  380437896.0  390882979.0  401586651.0   \n4    5770573.0  ...   25107925.0   26015786.0   26941773.0   27884380.0   \n\n          2016         2017         2018         2019         2020  \\\n0     104865.0     105361.0     105846.0     106310.0     106766.0   \n1  609978946.0  626392880.0  643090131.0  660046272.0  677243299.0   \n2   35383028.0   36296111.0   37171922.0   38041757.0   38928341.0   \n3  412551299.0  423769930.0  435229381.0  446911598.0  458803476.0   \n4   28842482.0   29816769.0   30809787.0   31825299.0   32866268.0   \n\n          2021  \n0     107195.0  \n1  694665117.0  \n2   39835428.0  \n3  470898870.0  \n4   33933611.0  \n\n[5 rows x 66 columns]",
      "text/html": "<div>\n<style scoped>\n    .dataframe tbody tr th:only-of-type {\n        vertical-align: middle;\n    }\n\n    .dataframe tbody tr th {\n        vertical-align: top;\n    }\n\n    .dataframe thead th {\n        text-align: right;\n    }\n</style>\n<table border=\"1\" class=\"dataframe\">\n  <thead>\n    <tr style=\"text-align: right;\">\n      <th></th>\n      <th>Country Name</th>\n      <th>Country Code</th>\n      <th>Indicator Name</th>\n      <th>Indicator Code</th>\n      <th>1960</th>\n      <th>1961</th>\n      <th>1962</th>\n      <th>1963</th>\n      <th>1964</th>\n      <th>1965</th>\n      <th>...</th>\n      <th>2012</th>\n      <th>2013</th>\n      <th>2014</th>\n      <th>2015</th>\n      <th>2016</th>\n      <th>2017</th>\n      <th>2018</th>\n      <th>2019</th>\n      <th>2020</th>\n      <th>2021</th>\n    </tr>\n  </thead>\n  <tbody>\n    <tr>\n      <th>0</th>\n      <td>Aruba</td>\n      <td>ABW</td>\n      <td>Population, total</td>\n      <td>SP.POP.TOTL</td>\n      <td>54208.0</td>\n      <td>55434.0</td>\n      <td>56234.0</td>\n      <td>56699.0</td>\n      <td>57029.0</td>\n      <td>57357.0</td>\n      <td>...</td>\n      <td>102565.0</td>\n      <td>103165.0</td>\n      <td>103776.0</td>\n      <td>104339.0</td>\n      <td>104865.0</td>\n      <td>105361.0</td>\n      <td>105846.0</td>\n      <td>106310.0</td>\n      <td>106766.0</td>\n      <td>107195.0</td>\n    </tr>\n    <tr>\n      <th>1</th>\n      <td>Africa Eastern and Southern</td>\n      <td>AFE</td>\n      <td>Population, total</td>\n      <td>SP.POP.TOTL</td>\n      <td>130836765.0</td>\n      <td>134159786.0</td>\n      <td>137614644.0</td>\n      <td>141202036.0</td>\n      <td>144920186.0</td>\n      <td>148769974.0</td>\n      <td>...</td>\n      <td>547482863.0</td>\n      <td>562601578.0</td>\n      <td>578075373.0</td>\n      <td>593871847.0</td>\n      <td>609978946.0</td>\n      <td>626392880.0</td>\n      <td>643090131.0</td>\n      <td>660046272.0</td>\n      <td>677243299.0</td>\n      <td>694665117.0</td>\n    </tr>\n    <tr>\n      <th>2</th>\n      <td>Afghanistan</td>\n      <td>AFG</td>\n      <td>Population, total</td>\n      <td>SP.POP.TOTL</td>\n      <td>8996967.0</td>\n      <td>9169406.0</td>\n      <td>9351442.0</td>\n      <td>9543200.0</td>\n      <td>9744772.0</td>\n      <td>9956318.0</td>\n      <td>...</td>\n      <td>31161378.0</td>\n      <td>32269592.0</td>\n      <td>33370804.0</td>\n      <td>34413603.0</td>\n      <td>35383028.0</td>\n      <td>36296111.0</td>\n      <td>37171922.0</td>\n      <td>38041757.0</td>\n      <td>38928341.0</td>\n      <td>39835428.0</td>\n    </tr>\n    <tr>\n      <th>3</th>\n      <td>Africa Western and Central</td>\n      <td>AFW</td>\n      <td>Population, total</td>\n      <td>SP.POP.TOTL</td>\n      <td>96396419.0</td>\n      <td>98407221.0</td>\n      <td>100506960.0</td>\n      <td>102691339.0</td>\n      <td>104953470.0</td>\n      <td>107289875.0</td>\n      <td>...</td>\n      <td>370243017.0</td>\n      <td>380437896.0</td>\n      <td>390882979.0</td>\n      <td>401586651.0</td>\n      <td>412551299.0</td>\n      <td>423769930.0</td>\n      <td>435229381.0</td>\n      <td>446911598.0</td>\n      <td>458803476.0</td>\n      <td>470898870.0</td>\n    </tr>\n    <tr>\n      <th>4</th>\n      <td>Angola</td>\n      <td>AGO</td>\n      <td>Population, total</td>\n      <td>SP.POP.TOTL</td>\n      <td>5454938.0</td>\n      <td>5531451.0</td>\n      <td>5608499.0</td>\n      <td>5679409.0</td>\n      <td>5734995.0</td>\n      <td>5770573.0</td>\n      <td>...</td>\n      <td>25107925.0</td>\n      <td>26015786.0</td>\n      <td>26941773.0</td>\n      <td>27884380.0</td>\n      <td>28842482.0</td>\n      <td>29816769.0</td>\n      <td>30809787.0</td>\n      <td>31825299.0</td>\n      <td>32866268.0</td>\n      <td>33933611.0</td>\n    </tr>\n  </tbody>\n</table>\n<p>5 rows × 66 columns</p>\n</div>"
     },
     "execution_count": 220,
     "metadata": {},
     "output_type": "execute_result"
    }
   ],
   "source": [
    "pop.head()"
   ]
  },
  {
   "cell_type": "code",
   "execution_count": 221,
   "id": "e101a7ba",
   "metadata": {
    "pycharm": {
     "name": "#%%\n"
    }
   },
   "outputs": [
    {
     "name": "stdout",
     "output_type": "stream",
     "text": [
      "<class 'pandas.core.frame.DataFrame'>\n",
      "RangeIndex: 266 entries, 0 to 265\n",
      "Data columns (total 66 columns):\n",
      " #   Column          Non-Null Count  Dtype  \n",
      "---  ------          --------------  -----  \n",
      " 0   Country Name    266 non-null    object \n",
      " 1   Country Code    266 non-null    object \n",
      " 2   Indicator Name  266 non-null    object \n",
      " 3   Indicator Code  266 non-null    object \n",
      " 4   1960            264 non-null    float64\n",
      " 5   1961            264 non-null    float64\n",
      " 6   1962            264 non-null    float64\n",
      " 7   1963            264 non-null    float64\n",
      " 8   1964            264 non-null    float64\n",
      " 9   1965            264 non-null    float64\n",
      " 10  1966            264 non-null    float64\n",
      " 11  1967            264 non-null    float64\n",
      " 12  1968            264 non-null    float64\n",
      " 13  1969            264 non-null    float64\n",
      " 14  1970            264 non-null    float64\n",
      " 15  1971            264 non-null    float64\n",
      " 16  1972            264 non-null    float64\n",
      " 17  1973            264 non-null    float64\n",
      " 18  1974            264 non-null    float64\n",
      " 19  1975            264 non-null    float64\n",
      " 20  1976            264 non-null    float64\n",
      " 21  1977            264 non-null    float64\n",
      " 22  1978            264 non-null    float64\n",
      " 23  1979            264 non-null    float64\n",
      " 24  1980            264 non-null    float64\n",
      " 25  1981            264 non-null    float64\n",
      " 26  1982            264 non-null    float64\n",
      " 27  1983            264 non-null    float64\n",
      " 28  1984            264 non-null    float64\n",
      " 29  1985            264 non-null    float64\n",
      " 30  1986            264 non-null    float64\n",
      " 31  1987            264 non-null    float64\n",
      " 32  1988            264 non-null    float64\n",
      " 33  1989            264 non-null    float64\n",
      " 34  1990            265 non-null    float64\n",
      " 35  1991            265 non-null    float64\n",
      " 36  1992            264 non-null    float64\n",
      " 37  1993            264 non-null    float64\n",
      " 38  1994            264 non-null    float64\n",
      " 39  1995            265 non-null    float64\n",
      " 40  1996            265 non-null    float64\n",
      " 41  1997            265 non-null    float64\n",
      " 42  1998            265 non-null    float64\n",
      " 43  1999            265 non-null    float64\n",
      " 44  2000            265 non-null    float64\n",
      " 45  2001            265 non-null    float64\n",
      " 46  2002            265 non-null    float64\n",
      " 47  2003            265 non-null    float64\n",
      " 48  2004            265 non-null    float64\n",
      " 49  2005            265 non-null    float64\n",
      " 50  2006            265 non-null    float64\n",
      " 51  2007            265 non-null    float64\n",
      " 52  2008            265 non-null    float64\n",
      " 53  2009            265 non-null    float64\n",
      " 54  2010            265 non-null    float64\n",
      " 55  2011            265 non-null    float64\n",
      " 56  2012            264 non-null    float64\n",
      " 57  2013            264 non-null    float64\n",
      " 58  2014            264 non-null    float64\n",
      " 59  2015            264 non-null    float64\n",
      " 60  2016            264 non-null    float64\n",
      " 61  2017            264 non-null    float64\n",
      " 62  2018            264 non-null    float64\n",
      " 63  2019            264 non-null    float64\n",
      " 64  2020            264 non-null    float64\n",
      " 65  2021            264 non-null    float64\n",
      "dtypes: float64(62), object(4)\n",
      "memory usage: 137.3+ KB\n"
     ]
    }
   ],
   "source": [
    "pop.info()"
   ]
  },
  {
   "cell_type": "code",
   "execution_count": 222,
   "id": "47b73a48",
   "metadata": {
    "pycharm": {
     "name": "#%%\n"
    }
   },
   "outputs": [
    {
     "data": {
      "text/plain": "Country Name      0\nCountry Code      0\nIndicator Name    0\nIndicator Code    0\n1960              2\n                 ..\n2017              2\n2018              2\n2019              2\n2020              2\n2021              2\nLength: 66, dtype: int64"
     },
     "execution_count": 222,
     "metadata": {},
     "output_type": "execute_result"
    }
   ],
   "source": [
    "pop.isna().sum() "
   ]
  },
  {
   "cell_type": "code",
   "execution_count": 223,
   "id": "435bd238",
   "metadata": {
    "pycharm": {
     "name": "#%%\n"
    }
   },
   "outputs": [
    {
     "data": {
      "text/plain": "       Country Name Country Code     Indicator Name Indicator Code       1960  \\\n69          Eritrea          ERI  Population, total    SP.POP.TOTL  1007586.0   \n110  Not classified          INX  Population, total    SP.POP.TOTL        NaN   \n\n          1961       1962       1963       1964       1965  ...  2012  2013  \\\n69   1033320.0  1060489.0  1088859.0  1118152.0  1148188.0  ...   NaN   NaN   \n110        NaN        NaN        NaN        NaN        NaN  ...   NaN   NaN   \n\n     2014  2015  2016  2017  2018  2019  2020  2021  \n69    NaN   NaN   NaN   NaN   NaN   NaN   NaN   NaN  \n110   NaN   NaN   NaN   NaN   NaN   NaN   NaN   NaN  \n\n[2 rows x 66 columns]",
      "text/html": "<div>\n<style scoped>\n    .dataframe tbody tr th:only-of-type {\n        vertical-align: middle;\n    }\n\n    .dataframe tbody tr th {\n        vertical-align: top;\n    }\n\n    .dataframe thead th {\n        text-align: right;\n    }\n</style>\n<table border=\"1\" class=\"dataframe\">\n  <thead>\n    <tr style=\"text-align: right;\">\n      <th></th>\n      <th>Country Name</th>\n      <th>Country Code</th>\n      <th>Indicator Name</th>\n      <th>Indicator Code</th>\n      <th>1960</th>\n      <th>1961</th>\n      <th>1962</th>\n      <th>1963</th>\n      <th>1964</th>\n      <th>1965</th>\n      <th>...</th>\n      <th>2012</th>\n      <th>2013</th>\n      <th>2014</th>\n      <th>2015</th>\n      <th>2016</th>\n      <th>2017</th>\n      <th>2018</th>\n      <th>2019</th>\n      <th>2020</th>\n      <th>2021</th>\n    </tr>\n  </thead>\n  <tbody>\n    <tr>\n      <th>69</th>\n      <td>Eritrea</td>\n      <td>ERI</td>\n      <td>Population, total</td>\n      <td>SP.POP.TOTL</td>\n      <td>1007586.0</td>\n      <td>1033320.0</td>\n      <td>1060489.0</td>\n      <td>1088859.0</td>\n      <td>1118152.0</td>\n      <td>1148188.0</td>\n      <td>...</td>\n      <td>NaN</td>\n      <td>NaN</td>\n      <td>NaN</td>\n      <td>NaN</td>\n      <td>NaN</td>\n      <td>NaN</td>\n      <td>NaN</td>\n      <td>NaN</td>\n      <td>NaN</td>\n      <td>NaN</td>\n    </tr>\n    <tr>\n      <th>110</th>\n      <td>Not classified</td>\n      <td>INX</td>\n      <td>Population, total</td>\n      <td>SP.POP.TOTL</td>\n      <td>NaN</td>\n      <td>NaN</td>\n      <td>NaN</td>\n      <td>NaN</td>\n      <td>NaN</td>\n      <td>NaN</td>\n      <td>...</td>\n      <td>NaN</td>\n      <td>NaN</td>\n      <td>NaN</td>\n      <td>NaN</td>\n      <td>NaN</td>\n      <td>NaN</td>\n      <td>NaN</td>\n      <td>NaN</td>\n      <td>NaN</td>\n      <td>NaN</td>\n    </tr>\n  </tbody>\n</table>\n<p>2 rows × 66 columns</p>\n</div>"
     },
     "execution_count": 223,
     "metadata": {},
     "output_type": "execute_result"
    }
   ],
   "source": [
    "pop[pop[[\"2021\"]].isnull().any(axis=1)]"
   ]
  },
  {
   "cell_type": "markdown",
   "id": "2eb988a6",
   "metadata": {
    "pycharm": {
     "name": "#%% md\n"
    }
   },
   "source": [
    "Given the exploration done in the pop dataset, we can conclude that for the next step in the cleaning and transformations, we wish to keep only the \"Country Name\", \" Country Code\", and the most recent year 2021 (which we will rename to pop_2021). Moreover, to make sure that the dataset is homogeneous we will capitalize the first letter of each word in the \"Country Name\" column. We can also see that there is two null values in 2021, which will be handled."
   ]
  },
  {
   "cell_type": "markdown",
   "id": "9bb7c315",
   "metadata": {
    "pycharm": {
     "name": "#%% md\n"
    }
   },
   "source": [
    "After scrutinizing, we found out that the 'Country Code' does not follow ISO-CODE, for example Kosovo and Congo. Therefore, we will connect dataset to our country dataset on Country name, not code."
   ]
  },
  {
   "cell_type": "markdown",
   "id": "497b12ce",
   "metadata": {
    "pycharm": {
     "name": "#%% md\n"
    }
   },
   "source": [
    "#### Climate dataset"
   ]
  },
  {
   "cell_type": "code",
   "execution_count": 224,
   "id": "1aa3a058",
   "metadata": {
    "pycharm": {
     "name": "#%%\n"
    }
   },
   "outputs": [
    {
     "data": {
      "text/plain": "          COUNTRY                                        DESCRIPTION\n0     Afghanistan     arid to semiarid; cold winters and hot summers\n1        Akrotiri  temperate; Mediterranean with hot, dry summers...\n2         Albania  mild temperate; cool, cloudy, wet winters; hot...\n3         Algeria  arid to semiarid; mild, wet winters with hot, ...\n4  American Samoa  tropical marine, moderated by southeast trade ...",
      "text/html": "<div>\n<style scoped>\n    .dataframe tbody tr th:only-of-type {\n        vertical-align: middle;\n    }\n\n    .dataframe tbody tr th {\n        vertical-align: top;\n    }\n\n    .dataframe thead th {\n        text-align: right;\n    }\n</style>\n<table border=\"1\" class=\"dataframe\">\n  <thead>\n    <tr style=\"text-align: right;\">\n      <th></th>\n      <th>COUNTRY</th>\n      <th>DESCRIPTION</th>\n    </tr>\n  </thead>\n  <tbody>\n    <tr>\n      <th>0</th>\n      <td>Afghanistan</td>\n      <td>arid to semiarid; cold winters and hot summers</td>\n    </tr>\n    <tr>\n      <th>1</th>\n      <td>Akrotiri</td>\n      <td>temperate; Mediterranean with hot, dry summers...</td>\n    </tr>\n    <tr>\n      <th>2</th>\n      <td>Albania</td>\n      <td>mild temperate; cool, cloudy, wet winters; hot...</td>\n    </tr>\n    <tr>\n      <th>3</th>\n      <td>Algeria</td>\n      <td>arid to semiarid; mild, wet winters with hot, ...</td>\n    </tr>\n    <tr>\n      <th>4</th>\n      <td>American Samoa</td>\n      <td>tropical marine, moderated by southeast trade ...</td>\n    </tr>\n  </tbody>\n</table>\n</div>"
     },
     "execution_count": 224,
     "metadata": {},
     "output_type": "execute_result"
    }
   ],
   "source": [
    "clim.head()"
   ]
  },
  {
   "cell_type": "code",
   "execution_count": 225,
   "id": "9069d9b1",
   "metadata": {
    "pycharm": {
     "name": "#%%\n"
    }
   },
   "outputs": [
    {
     "name": "stdout",
     "output_type": "stream",
     "text": [
      "<class 'pandas.core.frame.DataFrame'>\n",
      "RangeIndex: 277 entries, 0 to 276\n",
      "Data columns (total 2 columns):\n",
      " #   Column       Non-Null Count  Dtype \n",
      "---  ------       --------------  ----- \n",
      " 0   COUNTRY      277 non-null    object\n",
      " 1   DESCRIPTION  277 non-null    object\n",
      "dtypes: object(2)\n",
      "memory usage: 4.5+ KB\n"
     ]
    }
   ],
   "source": [
    "clim.info()"
   ]
  },
  {
   "cell_type": "code",
   "execution_count": 226,
   "id": "524c7bb7",
   "metadata": {
    "pycharm": {
     "name": "#%%\n"
    }
   },
   "outputs": [
    {
     "data": {
      "text/plain": "COUNTRY        0\nDESCRIPTION    0\ndtype: int64"
     },
     "execution_count": 226,
     "metadata": {},
     "output_type": "execute_result"
    }
   ],
   "source": [
    "clim.isna().sum()"
   ]
  },
  {
   "cell_type": "markdown",
   "id": "948a4d4f",
   "metadata": {
    "pycharm": {
     "name": "#%% md\n"
    }
   },
   "source": [
    "Given the exploration done in the clim dataset, we can conclude that for the next step in the cleaning and transformations, we wish to keep all the columns, but rename them. Moreover, to make sure that the dataset is homogeneous we will capitalize the first letter of each word in the \"COUNTRY\" and \"DESCRIPTION\" column. We can also see that there is no null values, hence no handling of missing values is needed in this case. "
   ]
  },
  {
   "cell_type": "markdown",
   "id": "3041d5d4",
   "metadata": {
    "pycharm": {
     "name": "#%% md\n"
    }
   },
   "source": [
    "#### Currency dataset"
   ]
  },
  {
   "cell_type": "code",
   "execution_count": 227,
   "id": "b331df10",
   "metadata": {
    "pycharm": {
     "name": "#%%\n"
    }
   },
   "outputs": [
    {
     "data": {
      "text/plain": "           Entity        Currency AlphabeticCode  NumericCode MinorUnit  \\\n0     AFGHANISTAN         Afghani            AFN        971.0         2   \n1   ÅLAND ISLANDS            Euro            EUR        978.0         2   \n2         ALBANIA             Lek            ALL          8.0         2   \n3         ALGERIA  Algerian Dinar            DZD         12.0         2   \n4  AMERICAN SAMOA       US Dollar            USD        840.0         2   \n\n  WithdrawalDate  \n0            NaN  \n1            NaN  \n2            NaN  \n3            NaN  \n4            NaN  ",
      "text/html": "<div>\n<style scoped>\n    .dataframe tbody tr th:only-of-type {\n        vertical-align: middle;\n    }\n\n    .dataframe tbody tr th {\n        vertical-align: top;\n    }\n\n    .dataframe thead th {\n        text-align: right;\n    }\n</style>\n<table border=\"1\" class=\"dataframe\">\n  <thead>\n    <tr style=\"text-align: right;\">\n      <th></th>\n      <th>Entity</th>\n      <th>Currency</th>\n      <th>AlphabeticCode</th>\n      <th>NumericCode</th>\n      <th>MinorUnit</th>\n      <th>WithdrawalDate</th>\n    </tr>\n  </thead>\n  <tbody>\n    <tr>\n      <th>0</th>\n      <td>AFGHANISTAN</td>\n      <td>Afghani</td>\n      <td>AFN</td>\n      <td>971.0</td>\n      <td>2</td>\n      <td>NaN</td>\n    </tr>\n    <tr>\n      <th>1</th>\n      <td>ÅLAND ISLANDS</td>\n      <td>Euro</td>\n      <td>EUR</td>\n      <td>978.0</td>\n      <td>2</td>\n      <td>NaN</td>\n    </tr>\n    <tr>\n      <th>2</th>\n      <td>ALBANIA</td>\n      <td>Lek</td>\n      <td>ALL</td>\n      <td>8.0</td>\n      <td>2</td>\n      <td>NaN</td>\n    </tr>\n    <tr>\n      <th>3</th>\n      <td>ALGERIA</td>\n      <td>Algerian Dinar</td>\n      <td>DZD</td>\n      <td>12.0</td>\n      <td>2</td>\n      <td>NaN</td>\n    </tr>\n    <tr>\n      <th>4</th>\n      <td>AMERICAN SAMOA</td>\n      <td>US Dollar</td>\n      <td>USD</td>\n      <td>840.0</td>\n      <td>2</td>\n      <td>NaN</td>\n    </tr>\n  </tbody>\n</table>\n</div>"
     },
     "execution_count": 227,
     "metadata": {},
     "output_type": "execute_result"
    }
   ],
   "source": [
    "curr.head()"
   ]
  },
  {
   "cell_type": "code",
   "execution_count": 228,
   "id": "ff5c7216",
   "metadata": {
    "pycharm": {
     "name": "#%%\n"
    }
   },
   "outputs": [
    {
     "name": "stdout",
     "output_type": "stream",
     "text": [
      "<class 'pandas.core.frame.DataFrame'>\n",
      "RangeIndex: 441 entries, 0 to 440\n",
      "Data columns (total 6 columns):\n",
      " #   Column          Non-Null Count  Dtype  \n",
      "---  ------          --------------  -----  \n",
      " 0   Entity          441 non-null    object \n",
      " 1   Currency        441 non-null    object \n",
      " 2   AlphabeticCode  438 non-null    object \n",
      " 3   NumericCode     435 non-null    float64\n",
      " 4   MinorUnit       276 non-null    object \n",
      " 5   WithdrawalDate  162 non-null    object \n",
      "dtypes: float64(1), object(5)\n",
      "memory usage: 20.8+ KB\n"
     ]
    }
   ],
   "source": [
    "curr.info()"
   ]
  },
  {
   "cell_type": "code",
   "execution_count": 229,
   "id": "437bc8ca",
   "metadata": {
    "pycharm": {
     "name": "#%%\n"
    }
   },
   "outputs": [
    {
     "data": {
      "text/plain": "Entity              0\nCurrency            0\nAlphabeticCode      3\nNumericCode         6\nMinorUnit         165\nWithdrawalDate    279\ndtype: int64"
     },
     "execution_count": 229,
     "metadata": {},
     "output_type": "execute_result"
    }
   ],
   "source": [
    "curr.isna().sum() "
   ]
  },
  {
   "cell_type": "code",
   "execution_count": 230,
   "id": "42b08863",
   "metadata": {
    "pycharm": {
     "name": "#%%\n"
    }
   },
   "outputs": [
    {
     "data": {
      "text/plain": "                                           Entity               Currency  \\\n8                                      ANTARCTICA  No universal currency   \n183                           PALESTINE, STATE OF  No universal currency   \n222  SOUTH GEORGIA AND THE SOUTH SANDWICH ISLANDS  No universal currency   \n\n    AlphabeticCode  NumericCode MinorUnit WithdrawalDate  \n8              NaN          NaN       NaN            NaN  \n183            NaN          NaN       NaN            NaN  \n222            NaN          NaN       NaN            NaN  ",
      "text/html": "<div>\n<style scoped>\n    .dataframe tbody tr th:only-of-type {\n        vertical-align: middle;\n    }\n\n    .dataframe tbody tr th {\n        vertical-align: top;\n    }\n\n    .dataframe thead th {\n        text-align: right;\n    }\n</style>\n<table border=\"1\" class=\"dataframe\">\n  <thead>\n    <tr style=\"text-align: right;\">\n      <th></th>\n      <th>Entity</th>\n      <th>Currency</th>\n      <th>AlphabeticCode</th>\n      <th>NumericCode</th>\n      <th>MinorUnit</th>\n      <th>WithdrawalDate</th>\n    </tr>\n  </thead>\n  <tbody>\n    <tr>\n      <th>8</th>\n      <td>ANTARCTICA</td>\n      <td>No universal currency</td>\n      <td>NaN</td>\n      <td>NaN</td>\n      <td>NaN</td>\n      <td>NaN</td>\n    </tr>\n    <tr>\n      <th>183</th>\n      <td>PALESTINE, STATE OF</td>\n      <td>No universal currency</td>\n      <td>NaN</td>\n      <td>NaN</td>\n      <td>NaN</td>\n      <td>NaN</td>\n    </tr>\n    <tr>\n      <th>222</th>\n      <td>SOUTH GEORGIA AND THE SOUTH SANDWICH ISLANDS</td>\n      <td>No universal currency</td>\n      <td>NaN</td>\n      <td>NaN</td>\n      <td>NaN</td>\n      <td>NaN</td>\n    </tr>\n  </tbody>\n</table>\n</div>"
     },
     "execution_count": 230,
     "metadata": {},
     "output_type": "execute_result"
    }
   ],
   "source": [
    "curr[curr[[\"AlphabeticCode\"]].isnull().any(axis=1)]"
   ]
  },
  {
   "cell_type": "code",
   "execution_count": 231,
   "id": "4c152f74",
   "metadata": {
    "pycharm": {
     "name": "#%%\n"
    }
   },
   "outputs": [
    {
     "data": {
      "text/plain": "                    Entity               Currency AlphabeticCode  NumericCode  \\\n279            AFGHANISTAN                Afghani            AFA          4.0   \n280          ÅLAND ISLANDS                 Markka            FIM        246.0   \n281                ALBANIA                Old Lek            ALK          8.0   \n282                ANDORRA        Andorran Peseta            ADP         20.0   \n283                ANDORRA         Spanish Peseta            ESP        724.0   \n..                     ...                    ...            ...          ...   \n436               ZIMBABWE  Zimbabwe Dollar (new)            ZWN        942.0   \n437               ZIMBABWE        Zimbabwe Dollar            ZWR        935.0   \n438        ZZ01_Gold-Franc             Gold-Franc            XFO          NaN   \n439  ZZ02_RINET Funds Code       RINET Funds Code            XRE          NaN   \n440         ZZ05_UIC-Franc              UIC-Franc            XFU          NaN   \n\n    MinorUnit WithdrawalDate  \n279       NaN        2003-01  \n280       NaN        2002-03  \n281       NaN        1989-12  \n282       NaN        2003-07  \n283       NaN        2002-03  \n..        ...            ...  \n436       NaN        2006-09  \n437       NaN        2009-06  \n438       NaN        2006-10  \n439       NaN        1999-11  \n440       NaN        2013-11  \n\n[162 rows x 6 columns]",
      "text/html": "<div>\n<style scoped>\n    .dataframe tbody tr th:only-of-type {\n        vertical-align: middle;\n    }\n\n    .dataframe tbody tr th {\n        vertical-align: top;\n    }\n\n    .dataframe thead th {\n        text-align: right;\n    }\n</style>\n<table border=\"1\" class=\"dataframe\">\n  <thead>\n    <tr style=\"text-align: right;\">\n      <th></th>\n      <th>Entity</th>\n      <th>Currency</th>\n      <th>AlphabeticCode</th>\n      <th>NumericCode</th>\n      <th>MinorUnit</th>\n      <th>WithdrawalDate</th>\n    </tr>\n  </thead>\n  <tbody>\n    <tr>\n      <th>279</th>\n      <td>AFGHANISTAN</td>\n      <td>Afghani</td>\n      <td>AFA</td>\n      <td>4.0</td>\n      <td>NaN</td>\n      <td>2003-01</td>\n    </tr>\n    <tr>\n      <th>280</th>\n      <td>ÅLAND ISLANDS</td>\n      <td>Markka</td>\n      <td>FIM</td>\n      <td>246.0</td>\n      <td>NaN</td>\n      <td>2002-03</td>\n    </tr>\n    <tr>\n      <th>281</th>\n      <td>ALBANIA</td>\n      <td>Old Lek</td>\n      <td>ALK</td>\n      <td>8.0</td>\n      <td>NaN</td>\n      <td>1989-12</td>\n    </tr>\n    <tr>\n      <th>282</th>\n      <td>ANDORRA</td>\n      <td>Andorran Peseta</td>\n      <td>ADP</td>\n      <td>20.0</td>\n      <td>NaN</td>\n      <td>2003-07</td>\n    </tr>\n    <tr>\n      <th>283</th>\n      <td>ANDORRA</td>\n      <td>Spanish Peseta</td>\n      <td>ESP</td>\n      <td>724.0</td>\n      <td>NaN</td>\n      <td>2002-03</td>\n    </tr>\n    <tr>\n      <th>...</th>\n      <td>...</td>\n      <td>...</td>\n      <td>...</td>\n      <td>...</td>\n      <td>...</td>\n      <td>...</td>\n    </tr>\n    <tr>\n      <th>436</th>\n      <td>ZIMBABWE</td>\n      <td>Zimbabwe Dollar (new)</td>\n      <td>ZWN</td>\n      <td>942.0</td>\n      <td>NaN</td>\n      <td>2006-09</td>\n    </tr>\n    <tr>\n      <th>437</th>\n      <td>ZIMBABWE</td>\n      <td>Zimbabwe Dollar</td>\n      <td>ZWR</td>\n      <td>935.0</td>\n      <td>NaN</td>\n      <td>2009-06</td>\n    </tr>\n    <tr>\n      <th>438</th>\n      <td>ZZ01_Gold-Franc</td>\n      <td>Gold-Franc</td>\n      <td>XFO</td>\n      <td>NaN</td>\n      <td>NaN</td>\n      <td>2006-10</td>\n    </tr>\n    <tr>\n      <th>439</th>\n      <td>ZZ02_RINET Funds Code</td>\n      <td>RINET Funds Code</td>\n      <td>XRE</td>\n      <td>NaN</td>\n      <td>NaN</td>\n      <td>1999-11</td>\n    </tr>\n    <tr>\n      <th>440</th>\n      <td>ZZ05_UIC-Franc</td>\n      <td>UIC-Franc</td>\n      <td>XFU</td>\n      <td>NaN</td>\n      <td>NaN</td>\n      <td>2013-11</td>\n    </tr>\n  </tbody>\n</table>\n<p>162 rows × 6 columns</p>\n</div>"
     },
     "execution_count": 231,
     "metadata": {},
     "output_type": "execute_result"
    }
   ],
   "source": [
    "curr[curr[[\"WithdrawalDate\"]].notnull().any(axis=1)]"
   ]
  },
  {
   "cell_type": "markdown",
   "id": "bacf42de",
   "metadata": {
    "pycharm": {
     "name": "#%% md\n"
    }
   },
   "source": [
    "Given the exploration done in the curr dataset, we can conclude that for the next step in the cleaning and transformations, we wish to keep only the \"Entity\", \"Currency\", and \"AlphabeticCode\" columns, but rename them. Moreover, to make sure that the dataset is homogeneous we will capitalize the first letter of each word in the \"Entity\" and \"Currency\" column. We can also see that there is three null values in the \"AlphabeticCode\" column, which will be handled. In addition, there are a number of currencies which are no longer used, we will them subset this dataset to only contain currently accepted currencies. "
   ]
  },
  {
   "cell_type": "markdown",
   "id": "09cae3ae",
   "metadata": {
    "pycharm": {
     "name": "#%% md\n"
    }
   },
   "source": [
    "#### Language dataset"
   ]
  },
  {
   "cell_type": "code",
   "execution_count": 232,
   "id": "cf4a39a6",
   "metadata": {
    "pycharm": {
     "name": "#%%\n"
    }
   },
   "outputs": [
    {
     "data": {
      "text/plain": "       Country                                   Languages Spoken\n0  Afghanistan  Dari Persian, Pashtu (both official), other Tu...\n1      Albania     Albanian (Tosk is the official dialect), Greek\n2      Algeria         Arabic (official), French, Berber dialects\n3      Andorra  CatalÃ¡n (official), French, Castilian, Portug...\n4       Angola  Portuguese (official), Bantu and other African...",
      "text/html": "<div>\n<style scoped>\n    .dataframe tbody tr th:only-of-type {\n        vertical-align: middle;\n    }\n\n    .dataframe tbody tr th {\n        vertical-align: top;\n    }\n\n    .dataframe thead th {\n        text-align: right;\n    }\n</style>\n<table border=\"1\" class=\"dataframe\">\n  <thead>\n    <tr style=\"text-align: right;\">\n      <th></th>\n      <th>Country</th>\n      <th>Languages Spoken</th>\n    </tr>\n  </thead>\n  <tbody>\n    <tr>\n      <th>0</th>\n      <td>Afghanistan</td>\n      <td>Dari Persian, Pashtu (both official), other Tu...</td>\n    </tr>\n    <tr>\n      <th>1</th>\n      <td>Albania</td>\n      <td>Albanian (Tosk is the official dialect), Greek</td>\n    </tr>\n    <tr>\n      <th>2</th>\n      <td>Algeria</td>\n      <td>Arabic (official), French, Berber dialects</td>\n    </tr>\n    <tr>\n      <th>3</th>\n      <td>Andorra</td>\n      <td>CatalÃ¡n (official), French, Castilian, Portug...</td>\n    </tr>\n    <tr>\n      <th>4</th>\n      <td>Angola</td>\n      <td>Portuguese (official), Bantu and other African...</td>\n    </tr>\n  </tbody>\n</table>\n</div>"
     },
     "execution_count": 232,
     "metadata": {},
     "output_type": "execute_result"
    }
   ],
   "source": [
    "lang.head()"
   ]
  },
  {
   "cell_type": "code",
   "execution_count": 233,
   "id": "5fc8874d",
   "metadata": {
    "pycharm": {
     "name": "#%%\n"
    }
   },
   "outputs": [
    {
     "name": "stdout",
     "output_type": "stream",
     "text": [
      "<class 'pandas.core.frame.DataFrame'>\n",
      "RangeIndex: 198 entries, 0 to 197\n",
      "Data columns (total 2 columns):\n",
      " #   Column            Non-Null Count  Dtype \n",
      "---  ------            --------------  ----- \n",
      " 0   Country           198 non-null    object\n",
      " 1   Languages Spoken  198 non-null    object\n",
      "dtypes: object(2)\n",
      "memory usage: 3.2+ KB\n"
     ]
    }
   ],
   "source": [
    "lang.info()"
   ]
  },
  {
   "cell_type": "code",
   "execution_count": 234,
   "id": "e318d73f",
   "metadata": {
    "pycharm": {
     "name": "#%%\n"
    }
   },
   "outputs": [
    {
     "data": {
      "text/plain": "Country             0\nLanguages Spoken    0\ndtype: int64"
     },
     "execution_count": 234,
     "metadata": {},
     "output_type": "execute_result"
    }
   ],
   "source": [
    "lang.isna().sum()"
   ]
  },
  {
   "cell_type": "markdown",
   "id": "508996b7",
   "metadata": {
    "pycharm": {
     "name": "#%% md\n"
    }
   },
   "source": [
    "Given the exploration done in the lang dataset, we can conclude that for the next step in the cleaning and transformations, we wish to keep all the columns, but rename them. Moreover, to make sure that the dataset is homogeneous we will capitalize the first letter of each word in the \"Country\" and \"Language Spoken\" column. We can also see that there is no null values, hence no handling of missing values is needed in this case. In addition, we can see that the languages spoken includes more than the official languages, in the cleaning we will strive to only keep the official languages. "
   ]
  },
  {
   "cell_type": "markdown",
   "id": "505b1119",
   "metadata": {
    "pycharm": {
     "name": "#%% md\n"
    }
   },
   "source": [
    "#### Religion dataset"
   ]
  },
  {
   "cell_type": "code",
   "execution_count": 235,
   "id": "fc7dd82a",
   "metadata": {
    "pycharm": {
     "name": "#%%\n"
    }
   },
   "outputs": [
    {
     "data": {
      "text/plain": "  Country or Area  Year   Area         Sex     Religion  \\\n0         Albania  2011  Total  Both Sexes        Total   \n1         Albania  2011  Total  Both Sexes      Atheist   \n2         Albania  2011  Total  Both Sexes     Catholic   \n3         Albania  2011  Total  Both Sexes  Evangelical   \n4         Albania  2011  Total  Both Sexes       Muslim   \n\n                              Record Type             Reliability  \\\n0  Census - de jure - complete tabulation  Final figure, complete   \n1  Census - de jure - complete tabulation  Final figure, complete   \n2  Census - de jure - complete tabulation  Final figure, complete   \n3  Census - de jure - complete tabulation  Final figure, complete   \n4  Census - de jure - complete tabulation  Final figure, complete   \n\n   Source Year      Value Value Footnotes  \n0       2013.0  2800138.0             NaN  \n1       2013.0    69995.0             NaN  \n2       2013.0   280921.0             NaN  \n3       2013.0     3797.0             NaN  \n4       2013.0  1587608.0             NaN  ",
      "text/html": "<div>\n<style scoped>\n    .dataframe tbody tr th:only-of-type {\n        vertical-align: middle;\n    }\n\n    .dataframe tbody tr th {\n        vertical-align: top;\n    }\n\n    .dataframe thead th {\n        text-align: right;\n    }\n</style>\n<table border=\"1\" class=\"dataframe\">\n  <thead>\n    <tr style=\"text-align: right;\">\n      <th></th>\n      <th>Country or Area</th>\n      <th>Year</th>\n      <th>Area</th>\n      <th>Sex</th>\n      <th>Religion</th>\n      <th>Record Type</th>\n      <th>Reliability</th>\n      <th>Source Year</th>\n      <th>Value</th>\n      <th>Value Footnotes</th>\n    </tr>\n  </thead>\n  <tbody>\n    <tr>\n      <th>0</th>\n      <td>Albania</td>\n      <td>2011</td>\n      <td>Total</td>\n      <td>Both Sexes</td>\n      <td>Total</td>\n      <td>Census - de jure - complete tabulation</td>\n      <td>Final figure, complete</td>\n      <td>2013.0</td>\n      <td>2800138.0</td>\n      <td>NaN</td>\n    </tr>\n    <tr>\n      <th>1</th>\n      <td>Albania</td>\n      <td>2011</td>\n      <td>Total</td>\n      <td>Both Sexes</td>\n      <td>Atheist</td>\n      <td>Census - de jure - complete tabulation</td>\n      <td>Final figure, complete</td>\n      <td>2013.0</td>\n      <td>69995.0</td>\n      <td>NaN</td>\n    </tr>\n    <tr>\n      <th>2</th>\n      <td>Albania</td>\n      <td>2011</td>\n      <td>Total</td>\n      <td>Both Sexes</td>\n      <td>Catholic</td>\n      <td>Census - de jure - complete tabulation</td>\n      <td>Final figure, complete</td>\n      <td>2013.0</td>\n      <td>280921.0</td>\n      <td>NaN</td>\n    </tr>\n    <tr>\n      <th>3</th>\n      <td>Albania</td>\n      <td>2011</td>\n      <td>Total</td>\n      <td>Both Sexes</td>\n      <td>Evangelical</td>\n      <td>Census - de jure - complete tabulation</td>\n      <td>Final figure, complete</td>\n      <td>2013.0</td>\n      <td>3797.0</td>\n      <td>NaN</td>\n    </tr>\n    <tr>\n      <th>4</th>\n      <td>Albania</td>\n      <td>2011</td>\n      <td>Total</td>\n      <td>Both Sexes</td>\n      <td>Muslim</td>\n      <td>Census - de jure - complete tabulation</td>\n      <td>Final figure, complete</td>\n      <td>2013.0</td>\n      <td>1587608.0</td>\n      <td>NaN</td>\n    </tr>\n  </tbody>\n</table>\n</div>"
     },
     "execution_count": 235,
     "metadata": {},
     "output_type": "execute_result"
    }
   ],
   "source": [
    "rel.head()"
   ]
  },
  {
   "cell_type": "code",
   "execution_count": 236,
   "id": "4b9bbd59",
   "metadata": {
    "pycharm": {
     "name": "#%%\n"
    }
   },
   "outputs": [
    {
     "name": "stdout",
     "output_type": "stream",
     "text": [
      "<class 'pandas.core.frame.DataFrame'>\n",
      "RangeIndex: 3416 entries, 0 to 3415\n",
      "Data columns (total 10 columns):\n",
      " #   Column           Non-Null Count  Dtype  \n",
      "---  ------           --------------  -----  \n",
      " 0   Country or Area  3416 non-null   object \n",
      " 1   Year             3416 non-null   object \n",
      " 2   Area             3333 non-null   object \n",
      " 3   Sex              3332 non-null   object \n",
      " 4   Religion         3332 non-null   object \n",
      " 5   Record Type      3332 non-null   object \n",
      " 6   Reliability      3332 non-null   object \n",
      " 7   Source Year      3332 non-null   float64\n",
      " 8   Value            3332 non-null   float64\n",
      " 9   Value Footnotes  1505 non-null   object \n",
      "dtypes: float64(2), object(8)\n",
      "memory usage: 267.0+ KB\n"
     ]
    }
   ],
   "source": [
    "rel.info()"
   ]
  },
  {
   "cell_type": "code",
   "execution_count": 237,
   "id": "c5ccf22c",
   "metadata": {
    "pycharm": {
     "name": "#%%\n"
    }
   },
   "outputs": [
    {
     "data": {
      "text/plain": "Country or Area       0\nYear                  0\nArea                 83\nSex                  84\nReligion             84\nRecord Type          84\nReliability          84\nSource Year          84\nValue                84\nValue Footnotes    1911\ndtype: int64"
     },
     "execution_count": 237,
     "metadata": {},
     "output_type": "execute_result"
    }
   ],
   "source": [
    "rel.isna().sum() "
   ]
  },
  {
   "cell_type": "code",
   "execution_count": 238,
   "id": "22a50d6d",
   "metadata": {
    "pycharm": {
     "name": "#%%\n"
    }
   },
   "outputs": [
    {
     "data": {
      "text/plain": "     Country or Area                                               Year Area  \\\n3332   footnoteSeqID                                           Footnote  NaN   \n3333               1  Because of rounding, totals are not in all cas...  NaN   \n3334               2  These data have been randomly rounded to prote...  NaN   \n3335               3  Including population in off-shore, migratory a...  NaN   \n3336               4  Category 'No religion' includes Agnoticism, At...  NaN   \n...              ...                                                ...  ...   \n3411              79                 Data of mini-census taken in 2017.  NaN   \n3412              80                 Data refer to resident population.  NaN   \n3413              81         Excluding population enumerated in hotels.  NaN   \n3414              82  Other includes Orthodox, Bahai, Other Christia...  NaN   \n3415              83  Excluding Channel Islands (Guernsey and Jersey...  NaN   \n\n      Sex Religion Record Type Reliability  Source Year  Value Value Footnotes  \n3332  NaN      NaN         NaN         NaN          NaN    NaN             NaN  \n3333  NaN      NaN         NaN         NaN          NaN    NaN             NaN  \n3334  NaN      NaN         NaN         NaN          NaN    NaN             NaN  \n3335  NaN      NaN         NaN         NaN          NaN    NaN             NaN  \n3336  NaN      NaN         NaN         NaN          NaN    NaN             NaN  \n...   ...      ...         ...         ...          ...    ...             ...  \n3411  NaN      NaN         NaN         NaN          NaN    NaN             NaN  \n3412  NaN      NaN         NaN         NaN          NaN    NaN             NaN  \n3413  NaN      NaN         NaN         NaN          NaN    NaN             NaN  \n3414  NaN      NaN         NaN         NaN          NaN    NaN             NaN  \n3415  NaN      NaN         NaN         NaN          NaN    NaN             NaN  \n\n[84 rows x 10 columns]",
      "text/html": "<div>\n<style scoped>\n    .dataframe tbody tr th:only-of-type {\n        vertical-align: middle;\n    }\n\n    .dataframe tbody tr th {\n        vertical-align: top;\n    }\n\n    .dataframe thead th {\n        text-align: right;\n    }\n</style>\n<table border=\"1\" class=\"dataframe\">\n  <thead>\n    <tr style=\"text-align: right;\">\n      <th></th>\n      <th>Country or Area</th>\n      <th>Year</th>\n      <th>Area</th>\n      <th>Sex</th>\n      <th>Religion</th>\n      <th>Record Type</th>\n      <th>Reliability</th>\n      <th>Source Year</th>\n      <th>Value</th>\n      <th>Value Footnotes</th>\n    </tr>\n  </thead>\n  <tbody>\n    <tr>\n      <th>3332</th>\n      <td>footnoteSeqID</td>\n      <td>Footnote</td>\n      <td>NaN</td>\n      <td>NaN</td>\n      <td>NaN</td>\n      <td>NaN</td>\n      <td>NaN</td>\n      <td>NaN</td>\n      <td>NaN</td>\n      <td>NaN</td>\n    </tr>\n    <tr>\n      <th>3333</th>\n      <td>1</td>\n      <td>Because of rounding, totals are not in all cas...</td>\n      <td>NaN</td>\n      <td>NaN</td>\n      <td>NaN</td>\n      <td>NaN</td>\n      <td>NaN</td>\n      <td>NaN</td>\n      <td>NaN</td>\n      <td>NaN</td>\n    </tr>\n    <tr>\n      <th>3334</th>\n      <td>2</td>\n      <td>These data have been randomly rounded to prote...</td>\n      <td>NaN</td>\n      <td>NaN</td>\n      <td>NaN</td>\n      <td>NaN</td>\n      <td>NaN</td>\n      <td>NaN</td>\n      <td>NaN</td>\n      <td>NaN</td>\n    </tr>\n    <tr>\n      <th>3335</th>\n      <td>3</td>\n      <td>Including population in off-shore, migratory a...</td>\n      <td>NaN</td>\n      <td>NaN</td>\n      <td>NaN</td>\n      <td>NaN</td>\n      <td>NaN</td>\n      <td>NaN</td>\n      <td>NaN</td>\n      <td>NaN</td>\n    </tr>\n    <tr>\n      <th>3336</th>\n      <td>4</td>\n      <td>Category 'No religion' includes Agnoticism, At...</td>\n      <td>NaN</td>\n      <td>NaN</td>\n      <td>NaN</td>\n      <td>NaN</td>\n      <td>NaN</td>\n      <td>NaN</td>\n      <td>NaN</td>\n      <td>NaN</td>\n    </tr>\n    <tr>\n      <th>...</th>\n      <td>...</td>\n      <td>...</td>\n      <td>...</td>\n      <td>...</td>\n      <td>...</td>\n      <td>...</td>\n      <td>...</td>\n      <td>...</td>\n      <td>...</td>\n      <td>...</td>\n    </tr>\n    <tr>\n      <th>3411</th>\n      <td>79</td>\n      <td>Data of mini-census taken in 2017.</td>\n      <td>NaN</td>\n      <td>NaN</td>\n      <td>NaN</td>\n      <td>NaN</td>\n      <td>NaN</td>\n      <td>NaN</td>\n      <td>NaN</td>\n      <td>NaN</td>\n    </tr>\n    <tr>\n      <th>3412</th>\n      <td>80</td>\n      <td>Data refer to resident population.</td>\n      <td>NaN</td>\n      <td>NaN</td>\n      <td>NaN</td>\n      <td>NaN</td>\n      <td>NaN</td>\n      <td>NaN</td>\n      <td>NaN</td>\n      <td>NaN</td>\n    </tr>\n    <tr>\n      <th>3413</th>\n      <td>81</td>\n      <td>Excluding population enumerated in hotels.</td>\n      <td>NaN</td>\n      <td>NaN</td>\n      <td>NaN</td>\n      <td>NaN</td>\n      <td>NaN</td>\n      <td>NaN</td>\n      <td>NaN</td>\n      <td>NaN</td>\n    </tr>\n    <tr>\n      <th>3414</th>\n      <td>82</td>\n      <td>Other includes Orthodox, Bahai, Other Christia...</td>\n      <td>NaN</td>\n      <td>NaN</td>\n      <td>NaN</td>\n      <td>NaN</td>\n      <td>NaN</td>\n      <td>NaN</td>\n      <td>NaN</td>\n      <td>NaN</td>\n    </tr>\n    <tr>\n      <th>3415</th>\n      <td>83</td>\n      <td>Excluding Channel Islands (Guernsey and Jersey...</td>\n      <td>NaN</td>\n      <td>NaN</td>\n      <td>NaN</td>\n      <td>NaN</td>\n      <td>NaN</td>\n      <td>NaN</td>\n      <td>NaN</td>\n      <td>NaN</td>\n    </tr>\n  </tbody>\n</table>\n<p>84 rows × 10 columns</p>\n</div>"
     },
     "execution_count": 238,
     "metadata": {},
     "output_type": "execute_result"
    }
   ],
   "source": [
    "rel[rel[[\"Religion\"]].isnull().any(axis=1)]"
   ]
  },
  {
   "cell_type": "code",
   "execution_count": 239,
   "id": "1fe1bfca",
   "metadata": {
    "pycharm": {
     "name": "#%%\n"
    }
   },
   "outputs": [
    {
     "data": {
      "text/plain": "     Country or Area                                               Year Area  \\\n3332   footnoteSeqID                                           Footnote  NaN   \n3333               1  Because of rounding, totals are not in all cas...  NaN   \n3334               2  These data have been randomly rounded to prote...  NaN   \n3335               3  Including population in off-shore, migratory a...  NaN   \n3336               4  Category 'No religion' includes Agnoticism, At...  NaN   \n...              ...                                                ...  ...   \n3411              79                 Data of mini-census taken in 2017.  NaN   \n3412              80                 Data refer to resident population.  NaN   \n3413              81         Excluding population enumerated in hotels.  NaN   \n3414              82  Other includes Orthodox, Bahai, Other Christia...  NaN   \n3415              83  Excluding Channel Islands (Guernsey and Jersey...  NaN   \n\n      Sex Religion Record Type Reliability  Source Year  Value Value Footnotes  \n3332  NaN      NaN         NaN         NaN          NaN    NaN             NaN  \n3333  NaN      NaN         NaN         NaN          NaN    NaN             NaN  \n3334  NaN      NaN         NaN         NaN          NaN    NaN             NaN  \n3335  NaN      NaN         NaN         NaN          NaN    NaN             NaN  \n3336  NaN      NaN         NaN         NaN          NaN    NaN             NaN  \n...   ...      ...         ...         ...          ...    ...             ...  \n3411  NaN      NaN         NaN         NaN          NaN    NaN             NaN  \n3412  NaN      NaN         NaN         NaN          NaN    NaN             NaN  \n3413  NaN      NaN         NaN         NaN          NaN    NaN             NaN  \n3414  NaN      NaN         NaN         NaN          NaN    NaN             NaN  \n3415  NaN      NaN         NaN         NaN          NaN    NaN             NaN  \n\n[83 rows x 10 columns]",
      "text/html": "<div>\n<style scoped>\n    .dataframe tbody tr th:only-of-type {\n        vertical-align: middle;\n    }\n\n    .dataframe tbody tr th {\n        vertical-align: top;\n    }\n\n    .dataframe thead th {\n        text-align: right;\n    }\n</style>\n<table border=\"1\" class=\"dataframe\">\n  <thead>\n    <tr style=\"text-align: right;\">\n      <th></th>\n      <th>Country or Area</th>\n      <th>Year</th>\n      <th>Area</th>\n      <th>Sex</th>\n      <th>Religion</th>\n      <th>Record Type</th>\n      <th>Reliability</th>\n      <th>Source Year</th>\n      <th>Value</th>\n      <th>Value Footnotes</th>\n    </tr>\n  </thead>\n  <tbody>\n    <tr>\n      <th>3332</th>\n      <td>footnoteSeqID</td>\n      <td>Footnote</td>\n      <td>NaN</td>\n      <td>NaN</td>\n      <td>NaN</td>\n      <td>NaN</td>\n      <td>NaN</td>\n      <td>NaN</td>\n      <td>NaN</td>\n      <td>NaN</td>\n    </tr>\n    <tr>\n      <th>3333</th>\n      <td>1</td>\n      <td>Because of rounding, totals are not in all cas...</td>\n      <td>NaN</td>\n      <td>NaN</td>\n      <td>NaN</td>\n      <td>NaN</td>\n      <td>NaN</td>\n      <td>NaN</td>\n      <td>NaN</td>\n      <td>NaN</td>\n    </tr>\n    <tr>\n      <th>3334</th>\n      <td>2</td>\n      <td>These data have been randomly rounded to prote...</td>\n      <td>NaN</td>\n      <td>NaN</td>\n      <td>NaN</td>\n      <td>NaN</td>\n      <td>NaN</td>\n      <td>NaN</td>\n      <td>NaN</td>\n      <td>NaN</td>\n    </tr>\n    <tr>\n      <th>3335</th>\n      <td>3</td>\n      <td>Including population in off-shore, migratory a...</td>\n      <td>NaN</td>\n      <td>NaN</td>\n      <td>NaN</td>\n      <td>NaN</td>\n      <td>NaN</td>\n      <td>NaN</td>\n      <td>NaN</td>\n      <td>NaN</td>\n    </tr>\n    <tr>\n      <th>3336</th>\n      <td>4</td>\n      <td>Category 'No religion' includes Agnoticism, At...</td>\n      <td>NaN</td>\n      <td>NaN</td>\n      <td>NaN</td>\n      <td>NaN</td>\n      <td>NaN</td>\n      <td>NaN</td>\n      <td>NaN</td>\n      <td>NaN</td>\n    </tr>\n    <tr>\n      <th>...</th>\n      <td>...</td>\n      <td>...</td>\n      <td>...</td>\n      <td>...</td>\n      <td>...</td>\n      <td>...</td>\n      <td>...</td>\n      <td>...</td>\n      <td>...</td>\n      <td>...</td>\n    </tr>\n    <tr>\n      <th>3411</th>\n      <td>79</td>\n      <td>Data of mini-census taken in 2017.</td>\n      <td>NaN</td>\n      <td>NaN</td>\n      <td>NaN</td>\n      <td>NaN</td>\n      <td>NaN</td>\n      <td>NaN</td>\n      <td>NaN</td>\n      <td>NaN</td>\n    </tr>\n    <tr>\n      <th>3412</th>\n      <td>80</td>\n      <td>Data refer to resident population.</td>\n      <td>NaN</td>\n      <td>NaN</td>\n      <td>NaN</td>\n      <td>NaN</td>\n      <td>NaN</td>\n      <td>NaN</td>\n      <td>NaN</td>\n      <td>NaN</td>\n    </tr>\n    <tr>\n      <th>3413</th>\n      <td>81</td>\n      <td>Excluding population enumerated in hotels.</td>\n      <td>NaN</td>\n      <td>NaN</td>\n      <td>NaN</td>\n      <td>NaN</td>\n      <td>NaN</td>\n      <td>NaN</td>\n      <td>NaN</td>\n      <td>NaN</td>\n    </tr>\n    <tr>\n      <th>3414</th>\n      <td>82</td>\n      <td>Other includes Orthodox, Bahai, Other Christia...</td>\n      <td>NaN</td>\n      <td>NaN</td>\n      <td>NaN</td>\n      <td>NaN</td>\n      <td>NaN</td>\n      <td>NaN</td>\n      <td>NaN</td>\n      <td>NaN</td>\n    </tr>\n    <tr>\n      <th>3415</th>\n      <td>83</td>\n      <td>Excluding Channel Islands (Guernsey and Jersey...</td>\n      <td>NaN</td>\n      <td>NaN</td>\n      <td>NaN</td>\n      <td>NaN</td>\n      <td>NaN</td>\n      <td>NaN</td>\n      <td>NaN</td>\n      <td>NaN</td>\n    </tr>\n  </tbody>\n</table>\n<p>83 rows × 10 columns</p>\n</div>"
     },
     "execution_count": 239,
     "metadata": {},
     "output_type": "execute_result"
    }
   ],
   "source": [
    "rel[rel[[\"Area\"]].isnull().any(axis=1)]"
   ]
  },
  {
   "cell_type": "code",
   "execution_count": 240,
   "id": "5a3bda76",
   "metadata": {
    "pycharm": {
     "name": "#%%\n"
    }
   },
   "outputs": [
    {
     "data": {
      "text/plain": "     Country or Area                                               Year Area  \\\n3332   footnoteSeqID                                           Footnote  NaN   \n3333               1  Because of rounding, totals are not in all cas...  NaN   \n3334               2  These data have been randomly rounded to prote...  NaN   \n3335               3  Including population in off-shore, migratory a...  NaN   \n3336               4  Category 'No religion' includes Agnoticism, At...  NaN   \n...              ...                                                ...  ...   \n3411              79                 Data of mini-census taken in 2017.  NaN   \n3412              80                 Data refer to resident population.  NaN   \n3413              81         Excluding population enumerated in hotels.  NaN   \n3414              82  Other includes Orthodox, Bahai, Other Christia...  NaN   \n3415              83  Excluding Channel Islands (Guernsey and Jersey...  NaN   \n\n      Sex Religion Record Type Reliability  Source Year  Value Value Footnotes  \n3332  NaN      NaN         NaN         NaN          NaN    NaN             NaN  \n3333  NaN      NaN         NaN         NaN          NaN    NaN             NaN  \n3334  NaN      NaN         NaN         NaN          NaN    NaN             NaN  \n3335  NaN      NaN         NaN         NaN          NaN    NaN             NaN  \n3336  NaN      NaN         NaN         NaN          NaN    NaN             NaN  \n...   ...      ...         ...         ...          ...    ...             ...  \n3411  NaN      NaN         NaN         NaN          NaN    NaN             NaN  \n3412  NaN      NaN         NaN         NaN          NaN    NaN             NaN  \n3413  NaN      NaN         NaN         NaN          NaN    NaN             NaN  \n3414  NaN      NaN         NaN         NaN          NaN    NaN             NaN  \n3415  NaN      NaN         NaN         NaN          NaN    NaN             NaN  \n\n[84 rows x 10 columns]",
      "text/html": "<div>\n<style scoped>\n    .dataframe tbody tr th:only-of-type {\n        vertical-align: middle;\n    }\n\n    .dataframe tbody tr th {\n        vertical-align: top;\n    }\n\n    .dataframe thead th {\n        text-align: right;\n    }\n</style>\n<table border=\"1\" class=\"dataframe\">\n  <thead>\n    <tr style=\"text-align: right;\">\n      <th></th>\n      <th>Country or Area</th>\n      <th>Year</th>\n      <th>Area</th>\n      <th>Sex</th>\n      <th>Religion</th>\n      <th>Record Type</th>\n      <th>Reliability</th>\n      <th>Source Year</th>\n      <th>Value</th>\n      <th>Value Footnotes</th>\n    </tr>\n  </thead>\n  <tbody>\n    <tr>\n      <th>3332</th>\n      <td>footnoteSeqID</td>\n      <td>Footnote</td>\n      <td>NaN</td>\n      <td>NaN</td>\n      <td>NaN</td>\n      <td>NaN</td>\n      <td>NaN</td>\n      <td>NaN</td>\n      <td>NaN</td>\n      <td>NaN</td>\n    </tr>\n    <tr>\n      <th>3333</th>\n      <td>1</td>\n      <td>Because of rounding, totals are not in all cas...</td>\n      <td>NaN</td>\n      <td>NaN</td>\n      <td>NaN</td>\n      <td>NaN</td>\n      <td>NaN</td>\n      <td>NaN</td>\n      <td>NaN</td>\n      <td>NaN</td>\n    </tr>\n    <tr>\n      <th>3334</th>\n      <td>2</td>\n      <td>These data have been randomly rounded to prote...</td>\n      <td>NaN</td>\n      <td>NaN</td>\n      <td>NaN</td>\n      <td>NaN</td>\n      <td>NaN</td>\n      <td>NaN</td>\n      <td>NaN</td>\n      <td>NaN</td>\n    </tr>\n    <tr>\n      <th>3335</th>\n      <td>3</td>\n      <td>Including population in off-shore, migratory a...</td>\n      <td>NaN</td>\n      <td>NaN</td>\n      <td>NaN</td>\n      <td>NaN</td>\n      <td>NaN</td>\n      <td>NaN</td>\n      <td>NaN</td>\n      <td>NaN</td>\n    </tr>\n    <tr>\n      <th>3336</th>\n      <td>4</td>\n      <td>Category 'No religion' includes Agnoticism, At...</td>\n      <td>NaN</td>\n      <td>NaN</td>\n      <td>NaN</td>\n      <td>NaN</td>\n      <td>NaN</td>\n      <td>NaN</td>\n      <td>NaN</td>\n      <td>NaN</td>\n    </tr>\n    <tr>\n      <th>...</th>\n      <td>...</td>\n      <td>...</td>\n      <td>...</td>\n      <td>...</td>\n      <td>...</td>\n      <td>...</td>\n      <td>...</td>\n      <td>...</td>\n      <td>...</td>\n      <td>...</td>\n    </tr>\n    <tr>\n      <th>3411</th>\n      <td>79</td>\n      <td>Data of mini-census taken in 2017.</td>\n      <td>NaN</td>\n      <td>NaN</td>\n      <td>NaN</td>\n      <td>NaN</td>\n      <td>NaN</td>\n      <td>NaN</td>\n      <td>NaN</td>\n      <td>NaN</td>\n    </tr>\n    <tr>\n      <th>3412</th>\n      <td>80</td>\n      <td>Data refer to resident population.</td>\n      <td>NaN</td>\n      <td>NaN</td>\n      <td>NaN</td>\n      <td>NaN</td>\n      <td>NaN</td>\n      <td>NaN</td>\n      <td>NaN</td>\n      <td>NaN</td>\n    </tr>\n    <tr>\n      <th>3413</th>\n      <td>81</td>\n      <td>Excluding population enumerated in hotels.</td>\n      <td>NaN</td>\n      <td>NaN</td>\n      <td>NaN</td>\n      <td>NaN</td>\n      <td>NaN</td>\n      <td>NaN</td>\n      <td>NaN</td>\n      <td>NaN</td>\n    </tr>\n    <tr>\n      <th>3414</th>\n      <td>82</td>\n      <td>Other includes Orthodox, Bahai, Other Christia...</td>\n      <td>NaN</td>\n      <td>NaN</td>\n      <td>NaN</td>\n      <td>NaN</td>\n      <td>NaN</td>\n      <td>NaN</td>\n      <td>NaN</td>\n      <td>NaN</td>\n    </tr>\n    <tr>\n      <th>3415</th>\n      <td>83</td>\n      <td>Excluding Channel Islands (Guernsey and Jersey...</td>\n      <td>NaN</td>\n      <td>NaN</td>\n      <td>NaN</td>\n      <td>NaN</td>\n      <td>NaN</td>\n      <td>NaN</td>\n      <td>NaN</td>\n      <td>NaN</td>\n    </tr>\n  </tbody>\n</table>\n<p>84 rows × 10 columns</p>\n</div>"
     },
     "execution_count": 240,
     "metadata": {},
     "output_type": "execute_result"
    }
   ],
   "source": [
    "rel[rel[[\"Sex\"]].isnull().any(axis=1)]"
   ]
  },
  {
   "cell_type": "markdown",
   "id": "b52dcacb",
   "metadata": {
    "pycharm": {
     "name": "#%% md\n"
    }
   },
   "source": [
    "Given the exploration done in the rel dataset, we can conclude that for the next step in the cleaning and transformations, we wish to keep the \"Country or Area\" and \"Religion\" columns but rename them. Moreover, to make sure that the dataset is homogeneous we will capitalize the first letter of each word in the \"Country or Area\" column. We can also see that there is multiple null values, that arise due to the existing footnotes at the end of the document, which will be dealt with. In addition, we can see that for each country there is the listing of all the religions present in the country. As we only wish to keep the main one the others will be removed. "
   ]
  },
  {
   "cell_type": "markdown",
   "id": "e9065ba5",
   "metadata": {
    "pycharm": {
     "name": "#%% md\n"
    }
   },
   "source": [
    "#### Peace index dataset"
   ]
  },
  {
   "cell_type": "code",
   "execution_count": 241,
   "id": "4ac79e32",
   "metadata": {
    "pycharm": {
     "name": "#%%\n"
    }
   },
   "outputs": [
    {
     "data": {
      "text/plain": "   RANK      COUNTRY  SCORE\n0   1.0      Iceland  1.100\n1   2.0  New Zealand  1.253\n2   3.0      Denmark  1.256\n3   4.0     Portugal  1.267\n4   5.0     Slovenia  1.315",
      "text/html": "<div>\n<style scoped>\n    .dataframe tbody tr th:only-of-type {\n        vertical-align: middle;\n    }\n\n    .dataframe tbody tr th {\n        vertical-align: top;\n    }\n\n    .dataframe thead th {\n        text-align: right;\n    }\n</style>\n<table border=\"1\" class=\"dataframe\">\n  <thead>\n    <tr style=\"text-align: right;\">\n      <th></th>\n      <th>RANK</th>\n      <th>COUNTRY</th>\n      <th>SCORE</th>\n    </tr>\n  </thead>\n  <tbody>\n    <tr>\n      <th>0</th>\n      <td>1.0</td>\n      <td>Iceland</td>\n      <td>1.100</td>\n    </tr>\n    <tr>\n      <th>1</th>\n      <td>2.0</td>\n      <td>New Zealand</td>\n      <td>1.253</td>\n    </tr>\n    <tr>\n      <th>2</th>\n      <td>3.0</td>\n      <td>Denmark</td>\n      <td>1.256</td>\n    </tr>\n    <tr>\n      <th>3</th>\n      <td>4.0</td>\n      <td>Portugal</td>\n      <td>1.267</td>\n    </tr>\n    <tr>\n      <th>4</th>\n      <td>5.0</td>\n      <td>Slovenia</td>\n      <td>1.315</td>\n    </tr>\n  </tbody>\n</table>\n</div>"
     },
     "execution_count": 241,
     "metadata": {},
     "output_type": "execute_result"
    }
   ],
   "source": [
    "peace.head()"
   ]
  },
  {
   "cell_type": "code",
   "execution_count": 242,
   "id": "fdb5dc27",
   "metadata": {
    "pycharm": {
     "name": "#%%\n"
    }
   },
   "outputs": [
    {
     "name": "stdout",
     "output_type": "stream",
     "text": [
      "<class 'pandas.core.frame.DataFrame'>\n",
      "RangeIndex: 177 entries, 0 to 176\n",
      "Data columns (total 3 columns):\n",
      " #   Column   Non-Null Count  Dtype  \n",
      "---  ------   --------------  -----  \n",
      " 0   RANK     163 non-null    float64\n",
      " 1   COUNTRY  163 non-null    object \n",
      " 2   SCORE    163 non-null    float64\n",
      "dtypes: float64(2), object(1)\n",
      "memory usage: 4.3+ KB\n"
     ]
    }
   ],
   "source": [
    "peace.info()"
   ]
  },
  {
   "cell_type": "code",
   "execution_count": 243,
   "id": "1c890149",
   "metadata": {
    "pycharm": {
     "name": "#%%\n"
    }
   },
   "outputs": [
    {
     "data": {
      "text/plain": "RANK       14\nCOUNTRY    14\nSCORE      14\ndtype: int64"
     },
     "execution_count": 243,
     "metadata": {},
     "output_type": "execute_result"
    }
   ],
   "source": [
    "peace.isna().sum() "
   ]
  },
  {
   "cell_type": "code",
   "execution_count": 244,
   "id": "9211eb41",
   "metadata": {
    "pycharm": {
     "name": "#%%\n"
    }
   },
   "outputs": [
    {
     "data": {
      "text/plain": "     RANK COUNTRY  SCORE\n16    NaN     NaN    NaN\n45    NaN     NaN    NaN\n74    NaN     NaN    NaN\n86    NaN     NaN    NaN\n95    NaN     NaN    NaN\n108   NaN     NaN    NaN\n125   NaN     NaN    NaN\n128   NaN     NaN    NaN\n138   NaN     NaN    NaN\n155   NaN     NaN    NaN\n165   NaN     NaN    NaN\n168   NaN     NaN    NaN\n175   NaN     NaN    NaN\n176   NaN     NaN    NaN",
      "text/html": "<div>\n<style scoped>\n    .dataframe tbody tr th:only-of-type {\n        vertical-align: middle;\n    }\n\n    .dataframe tbody tr th {\n        vertical-align: top;\n    }\n\n    .dataframe thead th {\n        text-align: right;\n    }\n</style>\n<table border=\"1\" class=\"dataframe\">\n  <thead>\n    <tr style=\"text-align: right;\">\n      <th></th>\n      <th>RANK</th>\n      <th>COUNTRY</th>\n      <th>SCORE</th>\n    </tr>\n  </thead>\n  <tbody>\n    <tr>\n      <th>16</th>\n      <td>NaN</td>\n      <td>NaN</td>\n      <td>NaN</td>\n    </tr>\n    <tr>\n      <th>45</th>\n      <td>NaN</td>\n      <td>NaN</td>\n      <td>NaN</td>\n    </tr>\n    <tr>\n      <th>74</th>\n      <td>NaN</td>\n      <td>NaN</td>\n      <td>NaN</td>\n    </tr>\n    <tr>\n      <th>86</th>\n      <td>NaN</td>\n      <td>NaN</td>\n      <td>NaN</td>\n    </tr>\n    <tr>\n      <th>95</th>\n      <td>NaN</td>\n      <td>NaN</td>\n      <td>NaN</td>\n    </tr>\n    <tr>\n      <th>108</th>\n      <td>NaN</td>\n      <td>NaN</td>\n      <td>NaN</td>\n    </tr>\n    <tr>\n      <th>125</th>\n      <td>NaN</td>\n      <td>NaN</td>\n      <td>NaN</td>\n    </tr>\n    <tr>\n      <th>128</th>\n      <td>NaN</td>\n      <td>NaN</td>\n      <td>NaN</td>\n    </tr>\n    <tr>\n      <th>138</th>\n      <td>NaN</td>\n      <td>NaN</td>\n      <td>NaN</td>\n    </tr>\n    <tr>\n      <th>155</th>\n      <td>NaN</td>\n      <td>NaN</td>\n      <td>NaN</td>\n    </tr>\n    <tr>\n      <th>165</th>\n      <td>NaN</td>\n      <td>NaN</td>\n      <td>NaN</td>\n    </tr>\n    <tr>\n      <th>168</th>\n      <td>NaN</td>\n      <td>NaN</td>\n      <td>NaN</td>\n    </tr>\n    <tr>\n      <th>175</th>\n      <td>NaN</td>\n      <td>NaN</td>\n      <td>NaN</td>\n    </tr>\n    <tr>\n      <th>176</th>\n      <td>NaN</td>\n      <td>NaN</td>\n      <td>NaN</td>\n    </tr>\n  </tbody>\n</table>\n</div>"
     },
     "execution_count": 244,
     "metadata": {},
     "output_type": "execute_result"
    }
   ],
   "source": [
    "peace[peace[[\"COUNTRY\"]].isnull().any(axis=1)]"
   ]
  },
  {
   "cell_type": "markdown",
   "id": "00d982db",
   "metadata": {
    "pycharm": {
     "name": "#%% md\n"
    }
   },
   "source": [
    "Given the exploration done in the peace dataset, we can conclude that for the next step in the cleaning and transformations, we wish to keep the \"RANK\", and \"COUNTRY\" columns, but rename them. Moreover, to make sure that the dataset is homogeneous we will capitalize the first letter of each word in the \"COUNTRY\" column. We can also see that there is multiple null values, that arise due to the existing of completely empty rows, which will be dealt with."
   ]
  },
  {
   "cell_type": "markdown",
   "id": "6b06ee96",
   "metadata": {
    "pycharm": {
     "name": "#%% md\n"
    }
   },
   "source": [
    "#### WEF Index Data"
   ]
  },
  {
   "cell_type": "code",
   "execution_count": 245,
   "id": "7e640b9e",
   "metadata": {
    "pycharm": {
     "name": "#%%\n"
    }
   },
   "outputs": [],
   "source": [
    "# to flatten the double header from excel\n",
    "wef.columns=wef.columns.to_flat_index()"
   ]
  },
  {
   "cell_type": "code",
   "execution_count": 246,
   "id": "094037b7",
   "metadata": {
    "pycharm": {
     "name": "#%%\n"
    }
   },
   "outputs": [
    {
     "data": {
      "text/plain": "  (Unnamed: 0_level_0, ISO Code) (Unnamed: 1_level_0, Economy)  \\\n0                            JPN                         Japan   \n1                            USA                 United States   \n2                            ESP                         Spain   \n3                            FRA                        France   \n4                            DEU                       Germany   \n\n  (Unnamed: 2_level_0, Region) (Unnamed: 3_level_0, Sub Region)  \\\n0                 Asia-Pacific             Eastern Asia-Pacific   \n1                 The Americas        North and Central America   \n2           Europe and Eurasia                  Southern Europe   \n3           Europe and Eurasia                   Western Europe   \n4           Europe and Eurasia                   Western Europe   \n\n  (Unnamed: 4_level_0, Income Group)  \\\n0              High-income economies   \n1              High-income economies   \n2              High-income economies   \n3              High-income economies   \n4              High-income economies   \n\n   (Travel & Tourism Development Index , 2019 Value)  \\\n0                                           5.209308   \n1                                           5.253746   \n2                                           5.156125   \n3                                           5.139553   \n4                                           5.158769   \n\n   (Travel & Tourism Development Index , 2019 Rank)  \\\n0                                                 2   \n1                                                 1   \n2                                                 5   \n3                                                 6   \n4                                                 4   \n\n   (Travel & Tourism Development Index , 2021 Value)  \\\n0                                           5.245868   \n1                                           5.199991   \n2                                           5.154733   \n3                                           5.126821   \n4                                           5.064452   \n\n   (Travel & Tourism Development Index , 2021 Rank)  \\\n0                                                 1   \n1                                                 2   \n2                                                 3   \n3                                                 4   \n4                                                 5   \n\n   (Travel & Tourism Development Index , % Dif Score)  ...  \\\n0                                           0.007018   ...   \n1                                          -0.010232   ...   \n2                                          -0.000270   ...   \n3                                          -0.002477   ...   \n4                                          -0.018283   ...   \n\n   (Socioeconomic Resilience & Conditions pillar, 2021 Value)  \\\n0                                           5.710859            \n1                                           4.496351            \n2                                           5.297103            \n3                                           5.734719            \n4                                           5.884420            \n\n   (Socioeconomic Resilience & Conditions pillar, 2021 Rank)  \\\n0                                                 11           \n1                                                 44           \n2                                                 25           \n3                                                 10           \n4                                                  8           \n\n   (Socioeconomic Resilience & Conditions pillar, % Dif Score)  \\\n0                                           0.035617             \n1                                           0.018056             \n2                                           0.068278             \n3                                           0.005727             \n4                                           0.012092             \n\n   (Socioeconomic Resilience & Conditions pillar, Rank Change)  \\\n0                                                  6             \n1                                                 -1             \n2                                                  5             \n3                                                  1             \n4                                                  0             \n\n   (T&T Demand Pressure & Impact pillar, 2019 Value)  \\\n0                                           4.162195   \n1                                           4.835106   \n2                                           3.668553   \n3                                           3.447736   \n4                                           3.691413   \n\n   (T&T Demand Pressure & Impact pillar, 2019 Rank)  \\\n0                                                43   \n1                                                 4   \n2                                                89   \n3                                               106   \n4                                                87   \n\n   (T&T Demand Pressure & Impact pillar, 2021 Value)  \\\n0                                           4.287192   \n1                                           4.945433   \n2                                           3.768780   \n3                                           3.429899   \n4                                           3.921128   \n\n   (T&T Demand Pressure & Impact pillar, 2021 Rank)  \\\n0                                                41   \n1                                                 3   \n2                                                81   \n3                                               108   \n4                                                73   \n\n   (T&T Demand Pressure & Impact pillar, % Dif Score)  \\\n0                                           0.030031    \n1                                           0.022818    \n2                                           0.027321    \n3                                          -0.005174    \n4                                           0.062230    \n\n   (T&T Demand Pressure & Impact pillar, Rank Change)  \n0                                                  2   \n1                                                  1   \n2                                                  8   \n3                                                 -2   \n4                                                 14   \n\n[5 rows x 143 columns]",
      "text/html": "<div>\n<style scoped>\n    .dataframe tbody tr th:only-of-type {\n        vertical-align: middle;\n    }\n\n    .dataframe tbody tr th {\n        vertical-align: top;\n    }\n\n    .dataframe thead th {\n        text-align: right;\n    }\n</style>\n<table border=\"1\" class=\"dataframe\">\n  <thead>\n    <tr style=\"text-align: right;\">\n      <th></th>\n      <th>(Unnamed: 0_level_0, ISO Code)</th>\n      <th>(Unnamed: 1_level_0, Economy)</th>\n      <th>(Unnamed: 2_level_0, Region)</th>\n      <th>(Unnamed: 3_level_0, Sub Region)</th>\n      <th>(Unnamed: 4_level_0, Income Group)</th>\n      <th>(Travel &amp; Tourism Development Index , 2019 Value)</th>\n      <th>(Travel &amp; Tourism Development Index , 2019 Rank)</th>\n      <th>(Travel &amp; Tourism Development Index , 2021 Value)</th>\n      <th>(Travel &amp; Tourism Development Index , 2021 Rank)</th>\n      <th>(Travel &amp; Tourism Development Index , % Dif Score)</th>\n      <th>...</th>\n      <th>(Socioeconomic Resilience &amp; Conditions pillar, 2021 Value)</th>\n      <th>(Socioeconomic Resilience &amp; Conditions pillar, 2021 Rank)</th>\n      <th>(Socioeconomic Resilience &amp; Conditions pillar, % Dif Score)</th>\n      <th>(Socioeconomic Resilience &amp; Conditions pillar, Rank Change)</th>\n      <th>(T&amp;T Demand Pressure &amp; Impact pillar, 2019 Value)</th>\n      <th>(T&amp;T Demand Pressure &amp; Impact pillar, 2019 Rank)</th>\n      <th>(T&amp;T Demand Pressure &amp; Impact pillar, 2021 Value)</th>\n      <th>(T&amp;T Demand Pressure &amp; Impact pillar, 2021 Rank)</th>\n      <th>(T&amp;T Demand Pressure &amp; Impact pillar, % Dif Score)</th>\n      <th>(T&amp;T Demand Pressure &amp; Impact pillar, Rank Change)</th>\n    </tr>\n  </thead>\n  <tbody>\n    <tr>\n      <th>0</th>\n      <td>JPN</td>\n      <td>Japan</td>\n      <td>Asia-Pacific</td>\n      <td>Eastern Asia-Pacific</td>\n      <td>High-income economies</td>\n      <td>5.209308</td>\n      <td>2</td>\n      <td>5.245868</td>\n      <td>1</td>\n      <td>0.007018</td>\n      <td>...</td>\n      <td>5.710859</td>\n      <td>11</td>\n      <td>0.035617</td>\n      <td>6</td>\n      <td>4.162195</td>\n      <td>43</td>\n      <td>4.287192</td>\n      <td>41</td>\n      <td>0.030031</td>\n      <td>2</td>\n    </tr>\n    <tr>\n      <th>1</th>\n      <td>USA</td>\n      <td>United States</td>\n      <td>The Americas</td>\n      <td>North and Central America</td>\n      <td>High-income economies</td>\n      <td>5.253746</td>\n      <td>1</td>\n      <td>5.199991</td>\n      <td>2</td>\n      <td>-0.010232</td>\n      <td>...</td>\n      <td>4.496351</td>\n      <td>44</td>\n      <td>0.018056</td>\n      <td>-1</td>\n      <td>4.835106</td>\n      <td>4</td>\n      <td>4.945433</td>\n      <td>3</td>\n      <td>0.022818</td>\n      <td>1</td>\n    </tr>\n    <tr>\n      <th>2</th>\n      <td>ESP</td>\n      <td>Spain</td>\n      <td>Europe and Eurasia</td>\n      <td>Southern Europe</td>\n      <td>High-income economies</td>\n      <td>5.156125</td>\n      <td>5</td>\n      <td>5.154733</td>\n      <td>3</td>\n      <td>-0.000270</td>\n      <td>...</td>\n      <td>5.297103</td>\n      <td>25</td>\n      <td>0.068278</td>\n      <td>5</td>\n      <td>3.668553</td>\n      <td>89</td>\n      <td>3.768780</td>\n      <td>81</td>\n      <td>0.027321</td>\n      <td>8</td>\n    </tr>\n    <tr>\n      <th>3</th>\n      <td>FRA</td>\n      <td>France</td>\n      <td>Europe and Eurasia</td>\n      <td>Western Europe</td>\n      <td>High-income economies</td>\n      <td>5.139553</td>\n      <td>6</td>\n      <td>5.126821</td>\n      <td>4</td>\n      <td>-0.002477</td>\n      <td>...</td>\n      <td>5.734719</td>\n      <td>10</td>\n      <td>0.005727</td>\n      <td>1</td>\n      <td>3.447736</td>\n      <td>106</td>\n      <td>3.429899</td>\n      <td>108</td>\n      <td>-0.005174</td>\n      <td>-2</td>\n    </tr>\n    <tr>\n      <th>4</th>\n      <td>DEU</td>\n      <td>Germany</td>\n      <td>Europe and Eurasia</td>\n      <td>Western Europe</td>\n      <td>High-income economies</td>\n      <td>5.158769</td>\n      <td>4</td>\n      <td>5.064452</td>\n      <td>5</td>\n      <td>-0.018283</td>\n      <td>...</td>\n      <td>5.884420</td>\n      <td>8</td>\n      <td>0.012092</td>\n      <td>0</td>\n      <td>3.691413</td>\n      <td>87</td>\n      <td>3.921128</td>\n      <td>73</td>\n      <td>0.062230</td>\n      <td>14</td>\n    </tr>\n  </tbody>\n</table>\n<p>5 rows × 143 columns</p>\n</div>"
     },
     "execution_count": 246,
     "metadata": {},
     "output_type": "execute_result"
    }
   ],
   "source": [
    "wef.head()"
   ]
  },
  {
   "cell_type": "code",
   "execution_count": 247,
   "id": "05783365",
   "metadata": {
    "pycharm": {
     "name": "#%%\n"
    }
   },
   "outputs": [
    {
     "name": "stdout",
     "output_type": "stream",
     "text": [
      "<class 'pandas.core.frame.DataFrame'>\n",
      "RangeIndex: 117 entries, 0 to 116\n",
      "Columns: 143 entries, ('Unnamed: 0_level_0', 'ISO Code') to ('T&T Demand Pressure & Impact pillar', 'Rank Change')\n",
      "dtypes: float64(69), int64(69), object(5)\n",
      "memory usage: 130.8+ KB\n"
     ]
    }
   ],
   "source": [
    "wef.info()"
   ]
  },
  {
   "cell_type": "code",
   "execution_count": 248,
   "id": "b979cf21",
   "metadata": {
    "pycharm": {
     "name": "#%%\n"
    }
   },
   "outputs": [
    {
     "data": {
      "text/plain": "(Unnamed: 0_level_0, ISO Code)                        0\n(Unnamed: 1_level_0, Economy)                         0\n(Unnamed: 2_level_0, Region)                          0\n(Unnamed: 3_level_0, Sub Region)                      0\n(Unnamed: 4_level_0, Income Group)                    0\n                                                     ..\n(T&T Demand Pressure & Impact pillar, 2019 Rank)      0\n(T&T Demand Pressure & Impact pillar, 2021 Value)     0\n(T&T Demand Pressure & Impact pillar, 2021 Rank)      0\n(T&T Demand Pressure & Impact pillar, % Dif Score)    0\n(T&T Demand Pressure & Impact pillar, Rank Change)    0\nLength: 143, dtype: int64"
     },
     "execution_count": 248,
     "metadata": {},
     "output_type": "execute_result"
    }
   ],
   "source": [
    "wef.isna().sum()"
   ]
  },
  {
   "cell_type": "markdown",
   "id": "8e888b77",
   "metadata": {
    "pycharm": {
     "name": "#%% md\n"
    }
   },
   "source": [
    "Among 143 columns we have in dataset, we will choose relevant columns and drop all the others. We found we have no null data in the dataset. Moreover, as the dataset have ISO code itself, there is no further cleaning needed for the country name."
   ]
  },
  {
   "cell_type": "markdown",
   "id": "2556715c",
   "metadata": {
    "pycharm": {
     "name": "#%% md\n"
    }
   },
   "source": [
    "#### Average Restaurant and Accomodation Cost Data"
   ]
  },
  {
   "cell_type": "code",
   "execution_count": 249,
   "id": "9bc98250",
   "metadata": {
    "pycharm": {
     "name": "#%%\n"
    }
   },
   "outputs": [
    {
     "data": {
      "text/plain": "     Country Name Country Code              Classification Name  \\\n0         Albania          ALB  Price level index (World = 100)   \n1         Algeria          DZA  Price level index (World = 100)   \n2  American Samoa          ASM  Price level index (World = 100)   \n3          Angola          AGO  Price level index (World = 100)   \n4        Anguilla          AIA  Price level index (World = 100)   \n\n  Classification Code                     Series Name  Series Code  \\\n0               PX.WL  1111000:RESTAURANTS AND HOTELS    1111000.0   \n1               PX.WL  1111000:RESTAURANTS AND HOTELS    1111000.0   \n2               PX.WL  1111000:RESTAURANTS AND HOTELS    1111000.0   \n3               PX.WL  1111000:RESTAURANTS AND HOTELS    1111000.0   \n4               PX.WL  1111000:RESTAURANTS AND HOTELS    1111000.0   \n\n  2017 [YR2017]  \n0   50.78426859  \n1   33.93366644  \n2            ..  \n3   79.22385228  \n4     122.29901  ",
      "text/html": "<div>\n<style scoped>\n    .dataframe tbody tr th:only-of-type {\n        vertical-align: middle;\n    }\n\n    .dataframe tbody tr th {\n        vertical-align: top;\n    }\n\n    .dataframe thead th {\n        text-align: right;\n    }\n</style>\n<table border=\"1\" class=\"dataframe\">\n  <thead>\n    <tr style=\"text-align: right;\">\n      <th></th>\n      <th>Country Name</th>\n      <th>Country Code</th>\n      <th>Classification Name</th>\n      <th>Classification Code</th>\n      <th>Series Name</th>\n      <th>Series Code</th>\n      <th>2017 [YR2017]</th>\n    </tr>\n  </thead>\n  <tbody>\n    <tr>\n      <th>0</th>\n      <td>Albania</td>\n      <td>ALB</td>\n      <td>Price level index (World = 100)</td>\n      <td>PX.WL</td>\n      <td>1111000:RESTAURANTS AND HOTELS</td>\n      <td>1111000.0</td>\n      <td>50.78426859</td>\n    </tr>\n    <tr>\n      <th>1</th>\n      <td>Algeria</td>\n      <td>DZA</td>\n      <td>Price level index (World = 100)</td>\n      <td>PX.WL</td>\n      <td>1111000:RESTAURANTS AND HOTELS</td>\n      <td>1111000.0</td>\n      <td>33.93366644</td>\n    </tr>\n    <tr>\n      <th>2</th>\n      <td>American Samoa</td>\n      <td>ASM</td>\n      <td>Price level index (World = 100)</td>\n      <td>PX.WL</td>\n      <td>1111000:RESTAURANTS AND HOTELS</td>\n      <td>1111000.0</td>\n      <td>..</td>\n    </tr>\n    <tr>\n      <th>3</th>\n      <td>Angola</td>\n      <td>AGO</td>\n      <td>Price level index (World = 100)</td>\n      <td>PX.WL</td>\n      <td>1111000:RESTAURANTS AND HOTELS</td>\n      <td>1111000.0</td>\n      <td>79.22385228</td>\n    </tr>\n    <tr>\n      <th>4</th>\n      <td>Anguilla</td>\n      <td>AIA</td>\n      <td>Price level index (World = 100)</td>\n      <td>PX.WL</td>\n      <td>1111000:RESTAURANTS AND HOTELS</td>\n      <td>1111000.0</td>\n      <td>122.29901</td>\n    </tr>\n  </tbody>\n</table>\n</div>"
     },
     "execution_count": 249,
     "metadata": {},
     "output_type": "execute_result"
    }
   ],
   "source": [
    "avg_rest_hot_p.head()"
   ]
  },
  {
   "cell_type": "code",
   "execution_count": 250,
   "id": "7b777152",
   "metadata": {
    "pycharm": {
     "name": "#%%\n"
    }
   },
   "outputs": [
    {
     "name": "stdout",
     "output_type": "stream",
     "text": [
      "<class 'pandas.core.frame.DataFrame'>\n",
      "RangeIndex: 227 entries, 0 to 226\n",
      "Data columns (total 7 columns):\n",
      " #   Column               Non-Null Count  Dtype  \n",
      "---  ------               --------------  -----  \n",
      " 0   Country Name         224 non-null    object \n",
      " 1   Country Code         222 non-null    object \n",
      " 2   Classification Name  222 non-null    object \n",
      " 3   Classification Code  222 non-null    object \n",
      " 4   Series Name          222 non-null    object \n",
      " 5   Series Code          222 non-null    float64\n",
      " 6   2017 [YR2017]        222 non-null    object \n",
      "dtypes: float64(1), object(6)\n",
      "memory usage: 12.5+ KB\n"
     ]
    }
   ],
   "source": [
    "avg_rest_hot_p.info()"
   ]
  },
  {
   "cell_type": "code",
   "execution_count": 251,
   "id": "6f9be120",
   "metadata": {
    "pycharm": {
     "name": "#%%\n"
    }
   },
   "outputs": [
    {
     "data": {
      "text/plain": "Country Name           3\nCountry Code           5\nClassification Name    5\nClassification Code    5\nSeries Name            5\nSeries Code            5\n2017 [YR2017]          5\ndtype: int64"
     },
     "execution_count": 251,
     "metadata": {},
     "output_type": "execute_result"
    }
   ],
   "source": [
    "avg_rest_hot_p.isna().sum() "
   ]
  },
  {
   "cell_type": "code",
   "execution_count": 252,
   "id": "e1cad95a",
   "metadata": {
    "pycharm": {
     "name": "#%%\n"
    }
   },
   "outputs": [
    {
     "data": {
      "text/plain": "    Country Name Country Code Classification Name Classification Code  \\\n222          NaN          NaN                 NaN                 NaN   \n223          NaN          NaN                 NaN                 NaN   \n224          NaN          NaN                 NaN                 NaN   \n\n    Series Name  Series Code 2017 [YR2017]  \n222         NaN          NaN           NaN  \n223         NaN          NaN           NaN  \n224         NaN          NaN           NaN  ",
      "text/html": "<div>\n<style scoped>\n    .dataframe tbody tr th:only-of-type {\n        vertical-align: middle;\n    }\n\n    .dataframe tbody tr th {\n        vertical-align: top;\n    }\n\n    .dataframe thead th {\n        text-align: right;\n    }\n</style>\n<table border=\"1\" class=\"dataframe\">\n  <thead>\n    <tr style=\"text-align: right;\">\n      <th></th>\n      <th>Country Name</th>\n      <th>Country Code</th>\n      <th>Classification Name</th>\n      <th>Classification Code</th>\n      <th>Series Name</th>\n      <th>Series Code</th>\n      <th>2017 [YR2017]</th>\n    </tr>\n  </thead>\n  <tbody>\n    <tr>\n      <th>222</th>\n      <td>NaN</td>\n      <td>NaN</td>\n      <td>NaN</td>\n      <td>NaN</td>\n      <td>NaN</td>\n      <td>NaN</td>\n      <td>NaN</td>\n    </tr>\n    <tr>\n      <th>223</th>\n      <td>NaN</td>\n      <td>NaN</td>\n      <td>NaN</td>\n      <td>NaN</td>\n      <td>NaN</td>\n      <td>NaN</td>\n      <td>NaN</td>\n    </tr>\n    <tr>\n      <th>224</th>\n      <td>NaN</td>\n      <td>NaN</td>\n      <td>NaN</td>\n      <td>NaN</td>\n      <td>NaN</td>\n      <td>NaN</td>\n      <td>NaN</td>\n    </tr>\n  </tbody>\n</table>\n</div>"
     },
     "execution_count": 252,
     "metadata": {},
     "output_type": "execute_result"
    }
   ],
   "source": [
    "avg_rest_hot_p[avg_rest_hot_p[[\"Country Name\"]].isnull().any(axis=1)]"
   ]
  },
  {
   "cell_type": "code",
   "execution_count": 253,
   "id": "8b6400e9",
   "metadata": {
    "pycharm": {
     "name": "#%%\n"
    }
   },
   "outputs": [
    {
     "data": {
      "text/plain": "                     Country Name Country Code Classification Name  \\\n222                           NaN          NaN                 NaN   \n223                           NaN          NaN                 NaN   \n224                           NaN          NaN                 NaN   \n225  Data from database: ICP 2017          NaN                 NaN   \n226      Last Updated: 10/21/2020          NaN                 NaN   \n\n    Classification Code Series Name  Series Code 2017 [YR2017]  \n222                 NaN         NaN          NaN           NaN  \n223                 NaN         NaN          NaN           NaN  \n224                 NaN         NaN          NaN           NaN  \n225                 NaN         NaN          NaN           NaN  \n226                 NaN         NaN          NaN           NaN  ",
      "text/html": "<div>\n<style scoped>\n    .dataframe tbody tr th:only-of-type {\n        vertical-align: middle;\n    }\n\n    .dataframe tbody tr th {\n        vertical-align: top;\n    }\n\n    .dataframe thead th {\n        text-align: right;\n    }\n</style>\n<table border=\"1\" class=\"dataframe\">\n  <thead>\n    <tr style=\"text-align: right;\">\n      <th></th>\n      <th>Country Name</th>\n      <th>Country Code</th>\n      <th>Classification Name</th>\n      <th>Classification Code</th>\n      <th>Series Name</th>\n      <th>Series Code</th>\n      <th>2017 [YR2017]</th>\n    </tr>\n  </thead>\n  <tbody>\n    <tr>\n      <th>222</th>\n      <td>NaN</td>\n      <td>NaN</td>\n      <td>NaN</td>\n      <td>NaN</td>\n      <td>NaN</td>\n      <td>NaN</td>\n      <td>NaN</td>\n    </tr>\n    <tr>\n      <th>223</th>\n      <td>NaN</td>\n      <td>NaN</td>\n      <td>NaN</td>\n      <td>NaN</td>\n      <td>NaN</td>\n      <td>NaN</td>\n      <td>NaN</td>\n    </tr>\n    <tr>\n      <th>224</th>\n      <td>NaN</td>\n      <td>NaN</td>\n      <td>NaN</td>\n      <td>NaN</td>\n      <td>NaN</td>\n      <td>NaN</td>\n      <td>NaN</td>\n    </tr>\n    <tr>\n      <th>225</th>\n      <td>Data from database: ICP 2017</td>\n      <td>NaN</td>\n      <td>NaN</td>\n      <td>NaN</td>\n      <td>NaN</td>\n      <td>NaN</td>\n      <td>NaN</td>\n    </tr>\n    <tr>\n      <th>226</th>\n      <td>Last Updated: 10/21/2020</td>\n      <td>NaN</td>\n      <td>NaN</td>\n      <td>NaN</td>\n      <td>NaN</td>\n      <td>NaN</td>\n      <td>NaN</td>\n    </tr>\n  </tbody>\n</table>\n</div>"
     },
     "execution_count": 253,
     "metadata": {},
     "output_type": "execute_result"
    }
   ],
   "source": [
    "avg_rest_hot_p[avg_rest_hot_p[[\"Country Code\"]].isnull().any(axis=1)]"
   ]
  },
  {
   "cell_type": "markdown",
   "id": "4796a2f1",
   "metadata": {
    "pycharm": {
     "name": "#%% md\n"
    }
   },
   "source": [
    "Given the exploration done in the avg_rest_hot_p dataset, we can conclude that for the next step in the cleaning and transformations, we wish to keep only the \"Country Name\", \" Country Code\", and the \"2017 [YR2017]\" columns, but we will rename them. Moreover, to make sure that the dataset is homogeneous we will capitalize the first letter of each word in the \"Country Name\" column. We can also see that there is 5 null values, which arise due to empty rows and footnotes, these will be handled accordingly. Additionally, we can see that some countries in the average price have \"..\" instead of being null, which will be solved."
   ]
  },
  {
   "cell_type": "markdown",
   "id": "302d4149",
   "metadata": {
    "pycharm": {
     "name": "#%% md\n"
    }
   },
   "source": [
    "## Clean, transform, and subset the data"
   ]
  },
  {
   "cell_type": "markdown",
   "id": "462c46a4",
   "metadata": {
    "pycharm": {
     "name": "#%% md\n"
    }
   },
   "source": [
    "#### Country - ISO CODE Dataset"
   ]
  },
  {
   "cell_type": "code",
   "execution_count": 254,
   "id": "e11808b3",
   "metadata": {
    "pycharm": {
     "name": "#%%\n"
    }
   },
   "outputs": [],
   "source": [
    "country['Name'] = country['Name'].str.title()\n",
    "country['Name'] = country['Name'].str.strip()"
   ]
  },
  {
   "cell_type": "markdown",
   "id": "c9701b9f",
   "metadata": {
    "pycharm": {
     "name": "#%% md\n"
    }
   },
   "source": [
    "#### Airport Distance dataset"
   ]
  },
  {
   "cell_type": "code",
   "execution_count": 255,
   "id": "86eefe92",
   "metadata": {
    "pycharm": {
     "name": "#%%\n"
    }
   },
   "outputs": [],
   "source": [
    "airport_distance = airport_distance.dropna(subset=[\"Name_Origin\", \"Country_Origin\", \"Name_Dest\", \"Country_Dest\"], how='any')"
   ]
  },
  {
   "cell_type": "code",
   "execution_count": 256,
   "id": "67d2e799",
   "metadata": {
    "pycharm": {
     "name": "#%%\n"
    }
   },
   "outputs": [],
   "source": [
    "airport_distance = airport_distance.drop(columns=['ORIGIN_AIRPORT_SEQ_ID', 'DEST_AIRPORT_SEQ_ID','ICAO_Origin','Latitude_Origin','Longitude_Origin', 'ICAO_Dest', 'Latitude_Dest', 'Longitude_Dest', 'IATA_Origin', 'IATA_Dest'])"
   ]
  },
  {
   "cell_type": "code",
   "execution_count": 257,
   "id": "3ca6f3bf",
   "metadata": {
    "pycharm": {
     "name": "#%%\n"
    }
   },
   "outputs": [
    {
     "data": {
      "text/plain": "       ORIGIN DEST  DISTANCE IN MILES                          Name_Origin  \\\n188       AAO  AUO             2083.0                        Anaco Airport   \n189       AAO  BZN             3721.0                        Anaco Airport   \n190       AAO  JAX             1826.0                        Anaco Airport   \n192       ABE  ABI             1458.0  Lehigh Valley International Airport   \n193       ABE  ABQ             1738.0  Lehigh Valley International Airport   \n...       ...  ...                ...                                  ...   \n328116    ZSA  YWG             2162.0                 San Salvador Airport   \n328117    ZSA  YYT             2018.0                 San Salvador Airport   \n328118    ZSA  ZRH             4705.0                 San Salvador Airport   \n328136    ZXT  UKI               27.0                       Zabrat Airport   \n328150    ZZV  SAT             1182.0         Zanesville Municipal Airport   \n\n          City_Origin Country_Origin  \\\n188             Anaco      Venezuela   \n189             Anaco      Venezuela   \n190             Anaco      Venezuela   \n192         Allentown  United States   \n193         Allentown  United States   \n...               ...            ...   \n328116  Cockburn Town        Bahamas   \n328117  Cockburn Town        Bahamas   \n328118  Cockburn Town        Bahamas   \n328136           Baku     Azerbaijan   \n328150     Zanesville  United States   \n\n                                                Name_Dest     City_Dest  \\\n188                    Auburn University Regional Airport        Auburn   \n189                                        Gallatin Field       Bozeman   \n190                    Jacksonville International Airport  Jacksonville   \n192                              Abilene Regional Airport       Abilene   \n193                     Albuquerque International Sunport   Albuquerque   \n...                                                   ...           ...   \n328116  Winnipeg / James Armstrong Richardson Internat...      Winnipeg   \n328117                   St. John's International Airport    St. John's   \n328118                                     Zürich Airport        Zurich   \n328136                            Ukiah Municipal Airport         Ukiah   \n328150                  San Antonio International Airport   San Antonio   \n\n         Country_Dest  \n188     United States  \n189     United States  \n190     United States  \n192     United States  \n193     United States  \n...               ...  \n328116         Canada  \n328117         Canada  \n328118    Switzerland  \n328136  United States  \n328150  United States  \n\n[319318 rows x 9 columns]",
      "text/html": "<div>\n<style scoped>\n    .dataframe tbody tr th:only-of-type {\n        vertical-align: middle;\n    }\n\n    .dataframe tbody tr th {\n        vertical-align: top;\n    }\n\n    .dataframe thead th {\n        text-align: right;\n    }\n</style>\n<table border=\"1\" class=\"dataframe\">\n  <thead>\n    <tr style=\"text-align: right;\">\n      <th></th>\n      <th>ORIGIN</th>\n      <th>DEST</th>\n      <th>DISTANCE IN MILES</th>\n      <th>Name_Origin</th>\n      <th>City_Origin</th>\n      <th>Country_Origin</th>\n      <th>Name_Dest</th>\n      <th>City_Dest</th>\n      <th>Country_Dest</th>\n    </tr>\n  </thead>\n  <tbody>\n    <tr>\n      <th>188</th>\n      <td>AAO</td>\n      <td>AUO</td>\n      <td>2083.0</td>\n      <td>Anaco Airport</td>\n      <td>Anaco</td>\n      <td>Venezuela</td>\n      <td>Auburn University Regional Airport</td>\n      <td>Auburn</td>\n      <td>United States</td>\n    </tr>\n    <tr>\n      <th>189</th>\n      <td>AAO</td>\n      <td>BZN</td>\n      <td>3721.0</td>\n      <td>Anaco Airport</td>\n      <td>Anaco</td>\n      <td>Venezuela</td>\n      <td>Gallatin Field</td>\n      <td>Bozeman</td>\n      <td>United States</td>\n    </tr>\n    <tr>\n      <th>190</th>\n      <td>AAO</td>\n      <td>JAX</td>\n      <td>1826.0</td>\n      <td>Anaco Airport</td>\n      <td>Anaco</td>\n      <td>Venezuela</td>\n      <td>Jacksonville International Airport</td>\n      <td>Jacksonville</td>\n      <td>United States</td>\n    </tr>\n    <tr>\n      <th>192</th>\n      <td>ABE</td>\n      <td>ABI</td>\n      <td>1458.0</td>\n      <td>Lehigh Valley International Airport</td>\n      <td>Allentown</td>\n      <td>United States</td>\n      <td>Abilene Regional Airport</td>\n      <td>Abilene</td>\n      <td>United States</td>\n    </tr>\n    <tr>\n      <th>193</th>\n      <td>ABE</td>\n      <td>ABQ</td>\n      <td>1738.0</td>\n      <td>Lehigh Valley International Airport</td>\n      <td>Allentown</td>\n      <td>United States</td>\n      <td>Albuquerque International Sunport</td>\n      <td>Albuquerque</td>\n      <td>United States</td>\n    </tr>\n    <tr>\n      <th>...</th>\n      <td>...</td>\n      <td>...</td>\n      <td>...</td>\n      <td>...</td>\n      <td>...</td>\n      <td>...</td>\n      <td>...</td>\n      <td>...</td>\n      <td>...</td>\n    </tr>\n    <tr>\n      <th>328116</th>\n      <td>ZSA</td>\n      <td>YWG</td>\n      <td>2162.0</td>\n      <td>San Salvador Airport</td>\n      <td>Cockburn Town</td>\n      <td>Bahamas</td>\n      <td>Winnipeg / James Armstrong Richardson Internat...</td>\n      <td>Winnipeg</td>\n      <td>Canada</td>\n    </tr>\n    <tr>\n      <th>328117</th>\n      <td>ZSA</td>\n      <td>YYT</td>\n      <td>2018.0</td>\n      <td>San Salvador Airport</td>\n      <td>Cockburn Town</td>\n      <td>Bahamas</td>\n      <td>St. John's International Airport</td>\n      <td>St. John's</td>\n      <td>Canada</td>\n    </tr>\n    <tr>\n      <th>328118</th>\n      <td>ZSA</td>\n      <td>ZRH</td>\n      <td>4705.0</td>\n      <td>San Salvador Airport</td>\n      <td>Cockburn Town</td>\n      <td>Bahamas</td>\n      <td>Zürich Airport</td>\n      <td>Zurich</td>\n      <td>Switzerland</td>\n    </tr>\n    <tr>\n      <th>328136</th>\n      <td>ZXT</td>\n      <td>UKI</td>\n      <td>27.0</td>\n      <td>Zabrat Airport</td>\n      <td>Baku</td>\n      <td>Azerbaijan</td>\n      <td>Ukiah Municipal Airport</td>\n      <td>Ukiah</td>\n      <td>United States</td>\n    </tr>\n    <tr>\n      <th>328150</th>\n      <td>ZZV</td>\n      <td>SAT</td>\n      <td>1182.0</td>\n      <td>Zanesville Municipal Airport</td>\n      <td>Zanesville</td>\n      <td>United States</td>\n      <td>San Antonio International Airport</td>\n      <td>San Antonio</td>\n      <td>United States</td>\n    </tr>\n  </tbody>\n</table>\n<p>319318 rows × 9 columns</p>\n</div>"
     },
     "execution_count": 257,
     "metadata": {},
     "output_type": "execute_result"
    }
   ],
   "source": [
    "airport_distance"
   ]
  },
  {
   "cell_type": "code",
   "execution_count": 258,
   "id": "a262e7d4",
   "metadata": {
    "pycharm": {
     "name": "#%%\n"
    }
   },
   "outputs": [
    {
     "data": {
      "text/plain": "ORIGIN               0\nDEST                 0\nDISTANCE IN MILES    0\nName_Origin          0\nCity_Origin          0\nCountry_Origin       0\nName_Dest            0\nCity_Dest            0\nCountry_Dest         0\ndtype: int64"
     },
     "execution_count": 258,
     "metadata": {},
     "output_type": "execute_result"
    }
   ],
   "source": [
    "airport_distance.isnull().sum()"
   ]
  },
  {
   "cell_type": "code",
   "execution_count": 259,
   "id": "7468553b",
   "metadata": {
    "pycharm": {
     "name": "#%%\n"
    }
   },
   "outputs": [
    {
     "data": {
      "text/plain": "(319318, 9)"
     },
     "execution_count": 259,
     "metadata": {},
     "output_type": "execute_result"
    }
   ],
   "source": [
    "airport_distance.shape"
   ]
  },
  {
   "cell_type": "markdown",
   "id": "66e807ec",
   "metadata": {
    "pycharm": {
     "name": "#%% md\n"
    }
   },
   "source": [
    "#### Population dataset"
   ]
  },
  {
   "cell_type": "code",
   "execution_count": 260,
   "id": "cdb647fc",
   "metadata": {
    "pycharm": {
     "name": "#%%\n"
    }
   },
   "outputs": [],
   "source": [
    "# Select the columns we are interest in\n",
    "pop = pop[[\"Country Name\", \"Country Code\", \"2021\"]]"
   ]
  },
  {
   "cell_type": "code",
   "execution_count": 261,
   "id": "dfa1823c",
   "metadata": {
    "pycharm": {
     "name": "#%%\n"
    }
   },
   "outputs": [],
   "source": [
    "# Rename the columns\n",
    "pop = pop.rename(columns = {\"2021\": \"Pop_2021\", \"Country Name\": \"Country\"})"
   ]
  },
  {
   "cell_type": "code",
   "execution_count": 262,
   "id": "1eae5003",
   "metadata": {
    "pycharm": {
     "name": "#%%\n"
    }
   },
   "outputs": [],
   "source": [
    "# Capitalise the first letter of each word in the Country column, and remove any extra spaces\n",
    "pop[\"Country\"] = pop[\"Country\"].str.title()\n",
    "pop[\"Country\"] = pop[\"Country\"].str.strip()"
   ]
  },
  {
   "cell_type": "code",
   "execution_count": 263,
   "id": "00897a83",
   "metadata": {
    "pycharm": {
     "name": "#%%\n"
    }
   },
   "outputs": [],
   "source": [
    "# Remove empty rows\n",
    "pop = pop.dropna()"
   ]
  },
  {
   "cell_type": "markdown",
   "id": "440a61c1",
   "metadata": {
    "pycharm": {
     "name": "#%% md\n"
    }
   },
   "source": [
    "#### Climate dataset"
   ]
  },
  {
   "cell_type": "code",
   "execution_count": 264,
   "id": "4cb521c4",
   "metadata": {
    "pycharm": {
     "name": "#%%\n"
    }
   },
   "outputs": [],
   "source": [
    "# Rename the columns\n",
    "clim = clim.rename(columns = {\"COUNTRY\": \"Country\", \"DESCRIPTION\": \"Climate\"})"
   ]
  },
  {
   "cell_type": "code",
   "execution_count": 265,
   "id": "980a8026",
   "metadata": {
    "pycharm": {
     "name": "#%%\n"
    }
   },
   "outputs": [],
   "source": [
    "# Capitalise the first letter of each word in the Country and Climate column, and remove any extra spaces in the Country column\n",
    "clim[\"Country\"] = clim[\"Country\"].str.title()\n",
    "clim[\"Country\"] = clim[\"Country\"].str.strip()\n",
    "clim[\"Climate\"] = clim[\"Climate\"].str.title()"
   ]
  },
  {
   "cell_type": "code",
   "execution_count": 266,
   "outputs": [],
   "source": [
    "# Set a new column that classifies climates \n",
    "conditions = [(clim[\"Climate\"].str.contains(\"Tropical|Arid|Semiarid|Desert\")),\n",
    "              (clim[\"Climate\"].str.contains(\"Temperate|Continental|Hot Summers And Cold Winters\" )), \n",
    "              (clim[\"Climate\"].str.contains(\"Mediterranean|Subtropical\")),\n",
    "              (clim[\"Climate\"].str.contains(\"Highland\")), \n",
    "              (clim[\"Climate\"].str.contains(\"Polar|Antarctic\")),  \n",
    "              (clim[\"Climate\"].str.contains(\"Equatorial\"))]\n",
    "\n",
    "choices = [\"Tropical\", \"Temperate\", \"Subtropical\", \"Highland\", \"Polar\", \"Equatorial\" ]\n",
    "clim[\"Climate Zone\"] = np.select(conditions, choices, default = \"\")"
   ],
   "metadata": {
    "collapsed": false,
    "pycharm": {
     "name": "#%%\n"
    }
   }
  },
  {
   "cell_type": "markdown",
   "source": [
    "#### Currency dataset"
   ],
   "metadata": {
    "collapsed": false,
    "pycharm": {
     "name": "#%% md\n"
    }
   }
  },
  {
   "cell_type": "code",
   "execution_count": 267,
   "outputs": [],
   "source": [
    "# Keep only the rows without a withdrawal date\n",
    "curr = curr[curr[[\"WithdrawalDate\"]].isnull().any(axis=1)]"
   ],
   "metadata": {
    "collapsed": false,
    "pycharm": {
     "name": "#%%\n"
    }
   }
  },
  {
   "cell_type": "code",
   "execution_count": 268,
   "outputs": [],
   "source": [
    "# Select the columns to keep\n",
    "curr = curr[[\"Entity\", \"Currency\", \"AlphabeticCode\"]]"
   ],
   "metadata": {
    "collapsed": false,
    "pycharm": {
     "name": "#%%\n"
    }
   }
  },
  {
   "cell_type": "code",
   "execution_count": 269,
   "outputs": [],
   "source": [
    "# Rename the columns\n",
    "curr = curr.rename(columns = {\"Entity\": \"Country\", \"AlphabeticCode\": \"Currency Code\"})"
   ],
   "metadata": {
    "collapsed": false,
    "pycharm": {
     "name": "#%%\n"
    }
   }
  },
  {
   "cell_type": "code",
   "execution_count": 270,
   "outputs": [],
   "source": [
    "# Capitalise the first letter of each word in the Country and Currency columns, and remove any extra spaces in the country column. Remove any text after \"(\" in the country column.\n",
    "curr[\"Country\"] = curr[\"Country\"].str.title()\n",
    "curr[\"Country\"] = curr['Country'].str.partition(\"(\")[0]\n",
    "curr[\"Country\"] = curr[\"Country\"].str.strip()\n",
    "curr[\"Currency\"] = curr[\"Currency\"].str.title()"
   ],
   "metadata": {
    "collapsed": false,
    "pycharm": {
     "name": "#%%\n"
    }
   }
  },
  {
   "cell_type": "code",
   "execution_count": 271,
   "outputs": [],
   "source": [
    "# Fill the null values with Non Applicable\n",
    "curr[\"Currency Code\"].fillna(\"Non Applicable\", inplace= True)"
   ],
   "metadata": {
    "collapsed": false,
    "pycharm": {
     "name": "#%%\n"
    }
   }
  },
  {
   "cell_type": "markdown",
   "source": [
    "#### Language dataset"
   ],
   "metadata": {
    "collapsed": false,
    "pycharm": {
     "name": "#%% md\n"
    }
   }
  },
  {
   "cell_type": "code",
   "execution_count": 272,
   "outputs": [],
   "source": [
    "# Rename the columns\n",
    "lang = lang.rename(columns = {\"Languages Spoken\": \"Official Language\"})"
   ],
   "metadata": {
    "collapsed": false,
    "pycharm": {
     "name": "#%%\n"
    }
   }
  },
  {
   "cell_type": "code",
   "execution_count": 273,
   "outputs": [],
   "source": [
    "# Capitalise the first letter of each word in the Country and Official Language columns\n",
    "lang[\"Country\"] = lang[\"Country\"].str.title()\n",
    "lang[\"Country\"] = lang[\"Country\"].str.strip()\n",
    "lang[\"Official Language\"] = lang[\"Official Language\"].str.title()"
   ],
   "metadata": {
    "collapsed": false,
    "pycharm": {
     "name": "#%%\n"
    }
   }
  },
  {
   "cell_type": "markdown",
   "source": [
    "Now we are going to make another language table, that split multiple languages to multiple rows."
   ],
   "metadata": {
    "collapsed": false,
    "pycharm": {
     "name": "#%% md\n"
    }
   }
  },
  {
   "cell_type": "code",
   "execution_count": 274,
   "outputs": [],
   "source": [
    "def language_cleaning(lan: str):\n",
    "    # replace 'and' to comma\n",
    "    # delete numbers and percentage\n",
    "    try:\n",
    "        lan = lan.replace(' And ', ',')\n",
    "        lan = re.sub(\"[\\d%.]\", \"\", lan)\n",
    "\n",
    "        # first if the text contains 'official', we are going to keep all the official\n",
    "        if 'Official' in lan:\n",
    "            lan = lan.partition(\"(\")[0].strip()\n",
    "            lan = [x.strip() for x in lan.split(',')]\n",
    "\n",
    "        # otherwise, we are going to keep first one as a main language spoken\n",
    "        else:\n",
    "            lan = [lan.partition(\",\")[0].strip()]\n",
    "\n",
    "    except:\n",
    "        print(lan)\n",
    "        print()\n",
    "    return lan"
   ],
   "metadata": {
    "collapsed": false,
    "pycharm": {
     "name": "#%%\n"
    }
   }
  },
  {
   "cell_type": "code",
   "execution_count": 275,
   "outputs": [],
   "source": [
    "# apply language cleaning function to the 'languages Spoken' column\n",
    "lan_list = lang['Official Language'].apply(language_cleaning)\n",
    "\n",
    "# split the column that contains a list of multiple languages to multiple columns\n",
    "# the maximum number of languages spoken was 16, in India\n",
    "# therefore we make 16 columns\n",
    "lan_wide = pd.DataFrame(lan_list.to_list(), columns=[1,2,3,4,5,6,7,8,9,10,11,12,13,14,15,16])\n"
   ],
   "metadata": {
    "collapsed": false,
    "pycharm": {
     "name": "#%%\n"
    }
   }
  },
  {
   "cell_type": "code",
   "execution_count": 276,
   "outputs": [],
   "source": [
    "# now we are going to merge lan_wide with original data to have country names in the table\n",
    "lan_wide = pd.concat([lang, lan_wide], axis=1)\n",
    "\n",
    "# transform wide format to long format and drop NaN value\n",
    "lang_long = pd.melt(lan_wide, id_vars='Country', value_vars=[1,2,3,4,5,6,7,8,9,10,11,12,13,14,15,16]).dropna(subset=['value'])\n"
   ],
   "metadata": {
    "collapsed": false,
    "pycharm": {
     "name": "#%%\n"
    }
   }
  },
  {
   "cell_type": "code",
   "execution_count": 277,
   "outputs": [],
   "source": [
    "# change column names\n",
    "lang_long = lang_long.rename(columns = {\"variable\": \"Number\", \"value\":\"Official Language\"})\n",
    "\n",
    "# sort values by Country name\n",
    "lang_long = lang_long.sort_values(by=['Country', 'Number']).reset_index(drop=True)\n"
   ],
   "metadata": {
    "collapsed": false,
    "pycharm": {
     "name": "#%%\n"
    }
   }
  },
  {
   "cell_type": "code",
   "execution_count": 278,
   "outputs": [
    {
     "data": {
      "text/plain": "                             Country Number Official Language\n0                        Afghanistan      1      Dari Persian\n1                        Afghanistan      2            Pashtu\n2                            Albania      1          Albanian\n3                            Algeria      1            Arabic\n4                            Andorra      1          Catalã¡N\n..                               ...    ...               ...\n254                          Vietnam      1        Vietnamese\n255  Western Sahara (Proposed State)      1  Hassaniya Arabic\n256                            Yemen      1            Arabic\n257                           Zambia      1           English\n258                         Zimbabwe      1           English\n\n[259 rows x 3 columns]",
      "text/html": "<div>\n<style scoped>\n    .dataframe tbody tr th:only-of-type {\n        vertical-align: middle;\n    }\n\n    .dataframe tbody tr th {\n        vertical-align: top;\n    }\n\n    .dataframe thead th {\n        text-align: right;\n    }\n</style>\n<table border=\"1\" class=\"dataframe\">\n  <thead>\n    <tr style=\"text-align: right;\">\n      <th></th>\n      <th>Country</th>\n      <th>Number</th>\n      <th>Official Language</th>\n    </tr>\n  </thead>\n  <tbody>\n    <tr>\n      <th>0</th>\n      <td>Afghanistan</td>\n      <td>1</td>\n      <td>Dari Persian</td>\n    </tr>\n    <tr>\n      <th>1</th>\n      <td>Afghanistan</td>\n      <td>2</td>\n      <td>Pashtu</td>\n    </tr>\n    <tr>\n      <th>2</th>\n      <td>Albania</td>\n      <td>1</td>\n      <td>Albanian</td>\n    </tr>\n    <tr>\n      <th>3</th>\n      <td>Algeria</td>\n      <td>1</td>\n      <td>Arabic</td>\n    </tr>\n    <tr>\n      <th>4</th>\n      <td>Andorra</td>\n      <td>1</td>\n      <td>Catalã¡N</td>\n    </tr>\n    <tr>\n      <th>...</th>\n      <td>...</td>\n      <td>...</td>\n      <td>...</td>\n    </tr>\n    <tr>\n      <th>254</th>\n      <td>Vietnam</td>\n      <td>1</td>\n      <td>Vietnamese</td>\n    </tr>\n    <tr>\n      <th>255</th>\n      <td>Western Sahara (Proposed State)</td>\n      <td>1</td>\n      <td>Hassaniya Arabic</td>\n    </tr>\n    <tr>\n      <th>256</th>\n      <td>Yemen</td>\n      <td>1</td>\n      <td>Arabic</td>\n    </tr>\n    <tr>\n      <th>257</th>\n      <td>Zambia</td>\n      <td>1</td>\n      <td>English</td>\n    </tr>\n    <tr>\n      <th>258</th>\n      <td>Zimbabwe</td>\n      <td>1</td>\n      <td>English</td>\n    </tr>\n  </tbody>\n</table>\n<p>259 rows × 3 columns</p>\n</div>"
     },
     "execution_count": 278,
     "metadata": {},
     "output_type": "execute_result"
    }
   ],
   "source": [
    "lang_long"
   ],
   "metadata": {
    "collapsed": false,
    "pycharm": {
     "name": "#%%\n"
    }
   }
  },
  {
   "cell_type": "markdown",
   "source": [
    "#### Religion dataset"
   ],
   "metadata": {
    "collapsed": false,
    "pycharm": {
     "name": "#%% md\n"
    }
   }
  },
  {
   "cell_type": "code",
   "execution_count": 279,
   "outputs": [],
   "source": [
    "# Remove the footnote rows, which is where the Religion column \n",
    "rel = rel[rel[[\"Religion\"]].notna().any(axis=1)]"
   ],
   "metadata": {
    "collapsed": false,
    "pycharm": {
     "name": "#%%\n"
    }
   }
  },
  {
   "cell_type": "code",
   "execution_count": 280,
   "outputs": [],
   "source": [
    "# Remove the rows with the total number of religious people. Also remove the other, not stated, and refused to answer religions\n",
    "rel = rel[rel[\"Religion\"].str.contains(\"Total|Other|Not Stated|Refused to answer\") == False]"
   ],
   "metadata": {
    "collapsed": false,
    "pycharm": {
     "name": "#%%\n"
    }
   }
  },
  {
   "cell_type": "code",
   "execution_count": 281,
   "outputs": [],
   "source": [
    "# Keep the data from the most recent year for each country\n",
    "rel = rel.sort_values(by=[\"Country or Area\", \"Year\"])\n",
    "rel = rel.drop_duplicates(subset=['Country or Area', \"Religion\"], keep='last')"
   ],
   "metadata": {
    "collapsed": false,
    "pycharm": {
     "name": "#%%\n"
    }
   }
  },
  {
   "cell_type": "code",
   "execution_count": 282,
   "outputs": [],
   "source": [
    "# Keep the rows with the highest value, meaning the main religion of each country\n",
    "rel = rel.sort_values(by=[\"Country or Area\", \"Value\"])\n",
    "rel = rel.drop_duplicates(subset=['Country or Area'], keep='last')"
   ],
   "metadata": {
    "collapsed": false,
    "pycharm": {
     "name": "#%%\n"
    }
   }
  },
  {
   "cell_type": "code",
   "execution_count": 283,
   "outputs": [],
   "source": [
    "# Select the columns to keep\n",
    "rel = rel[[\"Country or Area\", \"Religion\"]]"
   ],
   "metadata": {
    "collapsed": false,
    "pycharm": {
     "name": "#%%\n"
    }
   }
  },
  {
   "cell_type": "code",
   "execution_count": 284,
   "outputs": [],
   "source": [
    "# Rename the columns\n",
    "rel = rel.rename(columns = {\"Country or Area\": \"Country\", \"Religion\": \"Main Religion\"})"
   ],
   "metadata": {
    "collapsed": false,
    "pycharm": {
     "name": "#%%\n"
    }
   }
  },
  {
   "cell_type": "code",
   "execution_count": 285,
   "outputs": [],
   "source": [
    "# Capitalise the first letter of each word in the Country and religion, and remove any extra spaces in the country column.\n",
    "rel[\"Country\"] = rel[\"Country\"].str.title()\n",
    "rel[\"Country\"] = rel[\"Country\"].str.strip()\n",
    "rel[\"Main Religion\"] = rel[\"Main Religion\"].str.title()"
   ],
   "metadata": {
    "collapsed": false,
    "pycharm": {
     "name": "#%%\n"
    }
   }
  },
  {
   "cell_type": "markdown",
   "source": [
    "#### Peace index dataset"
   ],
   "metadata": {
    "collapsed": false,
    "pycharm": {
     "name": "#%% md\n"
    }
   }
  },
  {
   "cell_type": "code",
   "execution_count": 286,
   "outputs": [],
   "source": [
    "# Select the columns to keep\n",
    "peace = peace[[\"RANK\", \"COUNTRY\"]]"
   ],
   "metadata": {
    "collapsed": false,
    "pycharm": {
     "name": "#%%\n"
    }
   }
  },
  {
   "cell_type": "code",
   "execution_count": 287,
   "outputs": [],
   "source": [
    "# Rename the columns\n",
    "peace = peace.rename(columns = {\"RANK\": \"Rank\", \"COUNTRY\": \"Country\"})"
   ],
   "metadata": {
    "collapsed": false,
    "pycharm": {
     "name": "#%%\n"
    }
   }
  },
  {
   "cell_type": "code",
   "execution_count": 288,
   "outputs": [],
   "source": [
    "# Capitalise the first letter of each word in the Country column\n",
    "peace[\"Country\"] = peace[\"Country\"].str.title()\n",
    "peace[\"Country\"] = peace[\"Country\"].str.strip()\n"
   ],
   "metadata": {
    "collapsed": false,
    "pycharm": {
     "name": "#%%\n"
    }
   }
  },
  {
   "cell_type": "code",
   "execution_count": 289,
   "outputs": [],
   "source": [
    "# Drop null rows\n",
    "peace = peace.dropna()"
   ],
   "metadata": {
    "collapsed": false,
    "pycharm": {
     "name": "#%%\n"
    }
   }
  },
  {
   "cell_type": "markdown",
   "source": [
    "#### WEF Dataset"
   ],
   "metadata": {
    "collapsed": false,
    "pycharm": {
     "name": "#%% md\n"
    }
   }
  },
  {
   "cell_type": "code",
   "execution_count": 290,
   "outputs": [],
   "source": [
    "# Rename columns\n",
    "wef.rename(columns = {('Unnamed: 0_level_0', 'ISO Code'):'ISO Code',\n",
    "                      ('Unnamed: 1_level_0', 'Economy'):'Country',\n",
    "                      ('Unnamed: 2_level_0', 'Region'):'Continent',\n",
    "                      ('Unnamed: 3_level_0', 'Sub Region'):'Sub Continent',\n",
    "                      ('Unnamed: 4_level_0', 'Income Group'):'Income Group'\n",
    "                      }, inplace = True)"
   ],
   "metadata": {
    "collapsed": false,
    "pycharm": {
     "name": "#%%\n"
    }
   }
  },
  {
   "cell_type": "code",
   "execution_count": 291,
   "outputs": [
    {
     "name": "stdout",
     "output_type": "stream",
     "text": [
      "0 ISO Code\n",
      "1 Country\n",
      "2 Continent\n",
      "3 Sub Continent\n",
      "4 Income Group\n",
      "5 ('Travel & Tourism Development Index ', '2019 Value')\n",
      "6 ('Travel & Tourism Development Index ', '2019 Rank')\n",
      "7 ('Travel & Tourism Development Index ', '2021 Value')\n",
      "8 ('Travel & Tourism Development Index ', '2021 Rank')\n",
      "9 ('Travel & Tourism Development Index ', '% Dif Score')\n",
      "10 ('Travel & Tourism Development Index ', 'Rank Change')\n",
      "11 ('Enabling Environment subindex', '2019 Value')\n",
      "12 ('Enabling Environment subindex', '2019 Rank')\n",
      "13 ('Enabling Environment subindex', '2021 Value')\n",
      "14 ('Enabling Environment subindex', '2021 Rank')\n",
      "15 ('Enabling Environment subindex', '% Dif Score')\n",
      "16 ('Enabling Environment subindex', 'Rank Change')\n",
      "17 ('Travel and Tourism Policy and Enabling\\nConditions subindex', '2019 Value')\n",
      "18 ('Travel and Tourism Policy and Enabling\\nConditions subindex', '2019 Rank')\n",
      "19 ('Travel and Tourism Policy and Enabling\\nConditions subindex', '2021 Value')\n",
      "20 ('Travel and Tourism Policy and Enabling\\nConditions subindex', '2021 Rank')\n",
      "21 ('Travel and Tourism Policy and Enabling\\nConditions subindex', '% Dif Score')\n",
      "22 ('Travel and Tourism Policy and Enabling\\nConditions subindex', 'Rank Change')\n",
      "23 ('Infrastructure subindex', '2019 Value')\n",
      "24 ('Infrastructure subindex', '2019 Rank')\n",
      "25 ('Infrastructure subindex', '2021 Value')\n",
      "26 ('Infrastructure subindex', '2021 Rank')\n",
      "27 ('Infrastructure subindex', '% Dif Score')\n",
      "28 ('Infrastructure subindex', 'Rank Change')\n",
      "29 ('Travel and Tourism Demand Drivers\\nsubindex', '2019 Value')\n",
      "30 ('Travel and Tourism Demand Drivers\\nsubindex', '2019 Rank')\n",
      "31 ('Travel and Tourism Demand Drivers\\nsubindex', '2021 Value')\n",
      "32 ('Travel and Tourism Demand Drivers\\nsubindex', '2021 Rank')\n",
      "33 ('Travel and Tourism Demand Drivers\\nsubindex', '% Dif Score')\n",
      "34 ('Travel and Tourism Demand Drivers\\nsubindex', 'Rank Change')\n",
      "35 ('Travel and Tourism Sustainability subindex', '2019 Value')\n",
      "36 ('Travel and Tourism Sustainability subindex', '2019 Rank')\n",
      "37 ('Travel and Tourism Sustainability subindex', '2021 Value')\n",
      "38 ('Travel and Tourism Sustainability subindex', '2021 Rank')\n",
      "39 ('Travel and Tourism Sustainability subindex', '% Dif Score')\n",
      "40 ('Travel and Tourism Sustainability subindex', 'Rank Change')\n",
      "41 ('Business Environment pillar', '2019 Value')\n",
      "42 ('Business Environment pillar', '2019 Rank')\n",
      "43 ('Business Environment pillar', '2021 Value')\n",
      "44 ('Business Environment pillar', '2021 Rank')\n",
      "45 ('Business Environment pillar', '% Dif Score')\n",
      "46 ('Business Environment pillar', 'Rank Change')\n",
      "47 ('Safety and Security pillar', '2019 Value')\n",
      "48 ('Safety and Security pillar', '2019 Rank')\n",
      "49 ('Safety and Security pillar', '2021 Value')\n",
      "50 ('Safety and Security pillar', '2021 Rank')\n",
      "51 ('Safety and Security pillar', '% Dif Score')\n",
      "52 ('Safety and Security pillar', 'Rank Change')\n",
      "53 ('Health and Hygiene pillar', '2019 Value')\n",
      "54 ('Health and Hygiene pillar', '2019 Rank')\n",
      "55 ('Health and Hygiene pillar', '2021 Value')\n",
      "56 ('Health and Hygiene pillar', '2021 Rank')\n",
      "57 ('Health and Hygiene pillar', '% Dif Score')\n",
      "58 ('Health and Hygiene pillar', 'Rank Change')\n",
      "59 ('Human Resources and Labour Market pillar', '2019 Value')\n",
      "60 ('Human Resources and Labour Market pillar', '2019 Rank')\n",
      "61 ('Human Resources and Labour Market pillar', '2021 Value')\n",
      "62 ('Human Resources and Labour Market pillar', '2021 Rank')\n",
      "63 ('Human Resources and Labour Market pillar', '% Dif Score')\n",
      "64 ('Human Resources and Labour Market pillar', 'Rank Change')\n",
      "65 ('ICT Readiness pillar', '2019 Value')\n",
      "66 ('ICT Readiness pillar', '2019 Rank')\n",
      "67 ('ICT Readiness pillar', '2021 Value')\n",
      "68 ('ICT Readiness pillar', '2021 Rank')\n",
      "69 ('ICT Readiness pillar', '% Dif Score')\n",
      "70 ('ICT Readiness pillar', 'Rank Change')\n",
      "71 ('Prioritization of Travel & Tourism pillar', '2019 Value')\n",
      "72 ('Prioritization of Travel & Tourism pillar', '2019 Rank')\n",
      "73 ('Prioritization of Travel & Tourism pillar', '2021 Value')\n",
      "74 ('Prioritization of Travel & Tourism pillar', '2021 Rank')\n",
      "75 ('Prioritization of Travel & Tourism pillar', '% Dif Score')\n",
      "76 ('Prioritization of Travel & Tourism pillar', 'Rank Change')\n",
      "77 ('International Openness pillar', '2019 Value')\n",
      "78 ('International Openness pillar', '2019 Rank')\n",
      "79 ('International Openness pillar', '2021 Value')\n",
      "80 ('International Openness pillar', '2021 Rank')\n",
      "81 ('International Openness pillar', '% Dif Score')\n",
      "82 ('International Openness pillar', 'Rank Change')\n",
      "83 ('Price competitiveness pillar', '2019 Value')\n",
      "84 ('Price competitiveness pillar', '2019 Rank')\n",
      "85 ('Price competitiveness pillar', '2021 Value')\n",
      "86 ('Price competitiveness pillar', '2021 Rank')\n",
      "87 ('Price competitiveness pillar', '% Dif Score')\n",
      "88 ('Price competitiveness pillar', 'Rank Change')\n",
      "89 ('Air Transport Infrastructure pillar', '2019 Value')\n",
      "90 ('Air Transport Infrastructure pillar', '2019 Rank')\n",
      "91 ('Air Transport Infrastructure pillar', '2021 Value')\n",
      "92 ('Air Transport Infrastructure pillar', '2021 Rank')\n",
      "93 ('Air Transport Infrastructure pillar', '% Dif Score')\n",
      "94 ('Air Transport Infrastructure pillar', 'Rank Change')\n",
      "95 ('Ground and Port Infrastructure pillar', '2019 Value')\n",
      "96 ('Ground and Port Infrastructure pillar', '2019 Rank')\n",
      "97 ('Ground and Port Infrastructure pillar', '2021 Value')\n",
      "98 ('Ground and Port Infrastructure pillar', '2021 Rank')\n",
      "99 ('Ground and Port Infrastructure pillar', '% Dif Score')\n",
      "100 ('Ground and Port Infrastructure pillar', 'Rank Change')\n",
      "101 ('Tourist Service Infrastructure pillar', '2019 Value')\n",
      "102 ('Tourist Service Infrastructure pillar', '2019 Rank')\n",
      "103 ('Tourist Service Infrastructure pillar', '2021 Value')\n",
      "104 ('Tourist Service Infrastructure pillar', '2021 Rank')\n",
      "105 ('Tourist Service Infrastructure pillar', '% Dif Score')\n",
      "106 ('Tourist Service Infrastructure pillar', 'Rank Change')\n",
      "107 ('Natural Resources pillar', '2019 Value')\n",
      "108 ('Natural Resources pillar', '2019 Rank')\n",
      "109 ('Natural Resources pillar', '2021 Value')\n",
      "110 ('Natural Resources pillar', '2021 Rank')\n",
      "111 ('Natural Resources pillar', '% Dif Score')\n",
      "112 ('Natural Resources pillar', 'Rank Change')\n",
      "113 ('Cultural Resources pillar', '2019 Value')\n",
      "114 ('Cultural Resources pillar', '2019 Rank')\n",
      "115 ('Cultural Resources pillar', '2021 Value')\n",
      "116 ('Cultural Resources pillar', '2021 Rank')\n",
      "117 ('Cultural Resources pillar', '% Dif Score')\n",
      "118 ('Cultural Resources pillar', 'Rank Change')\n",
      "119 ('Non-Leisure Resources pillar', '2019 Value')\n",
      "120 ('Non-Leisure Resources pillar', '2019 Rank')\n",
      "121 ('Non-Leisure Resources pillar', '2021 Value')\n",
      "122 ('Non-Leisure Resources pillar', '2021 Rank')\n",
      "123 ('Non-Leisure Resources pillar', '% Dif Score')\n",
      "124 ('Non-Leisure Resources pillar', 'Rank Change')\n",
      "125 ('Environmental Sustainability pillar', '2019 Value')\n",
      "126 ('Environmental Sustainability pillar', '2019 Rank')\n",
      "127 ('Environmental Sustainability pillar', '2021 Value')\n",
      "128 ('Environmental Sustainability pillar', '2021 Rank')\n",
      "129 ('Environmental Sustainability pillar', '% Dif Score')\n",
      "130 ('Environmental Sustainability pillar', 'Rank Change')\n",
      "131 ('Socioeconomic Resilience & Conditions pillar', '2019 Value')\n",
      "132 ('Socioeconomic Resilience & Conditions pillar', '2019 Rank')\n",
      "133 ('Socioeconomic Resilience & Conditions pillar', '2021 Value')\n",
      "134 ('Socioeconomic Resilience & Conditions pillar', '2021 Rank')\n",
      "135 ('Socioeconomic Resilience & Conditions pillar', '% Dif Score')\n",
      "136 ('Socioeconomic Resilience & Conditions pillar', 'Rank Change')\n",
      "137 ('T&T Demand Pressure & Impact pillar', '2019 Value')\n",
      "138 ('T&T Demand Pressure & Impact pillar', '2019 Rank')\n",
      "139 ('T&T Demand Pressure & Impact pillar', '2021 Value')\n",
      "140 ('T&T Demand Pressure & Impact pillar', '2021 Rank')\n",
      "141 ('T&T Demand Pressure & Impact pillar', '% Dif Score')\n",
      "142 ('T&T Demand Pressure & Impact pillar', 'Rank Change')\n"
     ]
    }
   ],
   "source": [
    "# To check the index of the columns that we wish to drop\n",
    "for i, col in enumerate(wef.columns):\n",
    "    print(i, col)"
   ],
   "metadata": {
    "collapsed": false,
    "pycharm": {
     "name": "#%%\n"
    }
   }
  },
  {
   "cell_type": "code",
   "execution_count": 292,
   "outputs": [
    {
     "data": {
      "text/plain": "Index([                                           'ISO Code',\n                                                   'Country',\n                                                 'Continent',\n                                             'Sub Continent',\n                                              'Income Group',\n       ('Travel & Tourism Development Index ', '2021 Value'),\n        ('Travel & Tourism Development Index ', '2021 Rank'),\n                   ('Infrastructure subindex', '2021 Value'),\n                    ('Infrastructure subindex', '2021 Rank'),\n                ('Safety and Security pillar', '2021 Value'),\n                 ('Safety and Security pillar', '2021 Rank'),\n                 ('Health and Hygiene pillar', '2021 Value'),\n                  ('Health and Hygiene pillar', '2021 Rank'),\n             ('International Openness pillar', '2021 Value'),\n              ('International Openness pillar', '2021 Rank'),\n              ('Price competitiveness pillar', '2021 Value'),\n               ('Price competitiveness pillar', '2021 Rank'),\n                  ('Natural Resources pillar', '2021 Value'),\n                   ('Natural Resources pillar', '2021 Rank'),\n                 ('Cultural Resources pillar', '2021 Value'),\n                  ('Cultural Resources pillar', '2021 Rank'),\n       ('Environmental Sustainability pillar', '2021 Value'),\n        ('Environmental Sustainability pillar', '2021 Rank'),\n       ('T&T Demand Pressure & Impact pillar', '2021 Value'),\n        ('T&T Demand Pressure & Impact pillar', '2021 Rank')],\n      dtype='object')"
     },
     "execution_count": 292,
     "metadata": {},
     "output_type": "execute_result"
    }
   ],
   "source": [
    "# Drop columns from the behind to prevent index changing\n",
    "wef2 = wef.iloc[:, [0,1,2,3,4,7,8,25,26,49,50,55,56,79,80,85,86,109,110,115,116,127,128,139,140]]\n",
    "wef2.columns"
   ],
   "metadata": {
    "collapsed": false,
    "pycharm": {
     "name": "#%%\n"
    }
   }
  },
  {
   "cell_type": "markdown",
   "source": [
    "#### Average Restaurant and Accomodation Cost Dataset"
   ],
   "metadata": {
    "collapsed": false,
    "pycharm": {
     "name": "#%% md\n"
    }
   }
  },
  {
   "cell_type": "code",
   "execution_count": 293,
   "outputs": [],
   "source": [
    "# Select the columns we are interest in\n",
    "avg_rest_hot_p = avg_rest_hot_p[[\"Country Name\", \"Country Code\", \"2017 [YR2017]\"]]"
   ],
   "metadata": {
    "collapsed": false,
    "pycharm": {
     "name": "#%%\n"
    }
   }
  },
  {
   "cell_type": "code",
   "execution_count": 294,
   "outputs": [],
   "source": [
    "# Rename the columns\n",
    "avg_rest_hot_p = avg_rest_hot_p.rename(columns = {\"Country Name\": \"Country\", \"2017 [YR2017]\": \"Average Hotel and Restaurant Cost\"})"
   ],
   "metadata": {
    "collapsed": false,
    "pycharm": {
     "name": "#%%\n"
    }
   }
  },
  {
   "cell_type": "code",
   "execution_count": 295,
   "outputs": [],
   "source": [
    "# Capitalise the first letter of each word in the Country column, and remove any extra spaces\n",
    "avg_rest_hot_p[\"Country\"] = avg_rest_hot_p[\"Country\"].str.title()\n",
    "avg_rest_hot_p[\"Country\"] = avg_rest_hot_p[\"Country\"].str.strip()"
   ],
   "metadata": {
    "collapsed": false,
    "pycharm": {
     "name": "#%%\n"
    }
   }
  },
  {
   "cell_type": "code",
   "execution_count": 296,
   "outputs": [],
   "source": [
    "# Remove empty rows\n",
    "avg_rest_hot_p = avg_rest_hot_p.dropna()"
   ],
   "metadata": {
    "collapsed": false,
    "pycharm": {
     "name": "#%%\n"
    }
   }
  },
  {
   "cell_type": "code",
   "execution_count": 297,
   "outputs": [],
   "source": [
    "# Substitute \"..\" for null value\n",
    "avg_rest_hot_p[\"Average Hotel and Restaurant Cost\"] = avg_rest_hot_p[\"Average Hotel and Restaurant Cost\"].replace(\"..\",\"\")"
   ],
   "metadata": {
    "collapsed": false,
    "pycharm": {
     "name": "#%%\n"
    }
   }
  },
  {
   "cell_type": "code",
   "execution_count": 298,
   "outputs": [],
   "source": [
    "# Convert the column from string to numeric value\n",
    "avg_rest_hot_p[\"Average Hotel and Restaurant Cost\"] = pd.to_numeric(avg_rest_hot_p[\"Average Hotel and Restaurant Cost\"], errors = \"coerce\")"
   ],
   "metadata": {
    "collapsed": false,
    "pycharm": {
     "name": "#%%\n"
    }
   }
  },
  {
   "cell_type": "code",
   "execution_count": 299,
   "outputs": [],
   "source": [
    "# Round the numbers to two decimal points\n",
    "avg_rest_hot_p[\"Average Hotel and Restaurant Cost\"] = avg_rest_hot_p[\"Average Hotel and Restaurant Cost\"].round(2)"
   ],
   "metadata": {
    "collapsed": false,
    "pycharm": {
     "name": "#%%\n"
    }
   }
  },
  {
   "cell_type": "code",
   "execution_count": 300,
   "outputs": [],
   "source": [
    "# Set a new column that classifies countries into budget travel, comfortable travel and luxury travel\n",
    "conditions = [(avg_rest_hot_p[\"Average Hotel and Restaurant Cost\"] <= 70), ((avg_rest_hot_p[\"Average Hotel and Restaurant Cost\"] > 70) & (avg_rest_hot_p[\"Average Hotel and Restaurant Cost\"] <= 150)), (avg_rest_hot_p[\"Average Hotel and Restaurant Cost\"] > 150)]\n",
    "choices = [\"Budget Traveler\", \"Comfort traveler\", \"Luxury Travel\"]\n",
    "avg_rest_hot_p[\"Type Traveler\"] = np.select(conditions, choices, default = \"Non Applicable\")"
   ],
   "metadata": {
    "collapsed": false,
    "pycharm": {
     "name": "#%%\n"
    }
   }
  },
  {
   "cell_type": "markdown",
   "source": [
    "## Export cleaned dataset"
   ],
   "metadata": {
    "collapsed": false,
    "pycharm": {
     "name": "#%% md\n"
    }
   }
  },
  {
   "cell_type": "code",
   "execution_count": 301,
   "outputs": [],
   "source": [
    "country.to_csv('../cleaned_data/country.csv')\n",
    "\n",
    "airport_distance.to_csv('../cleaned_data/airport_distance.csv')\n",
    "\n",
    "pop.to_csv('../cleaned_data/population.csv')\n",
    "\n",
    "clim.to_csv('../cleaned_data/climate.csv')\n",
    "\n",
    "curr.to_csv('../cleaned_data/currencies.csv')\n",
    "\n",
    "lang.to_csv('../cleaned_data/language.csv')\n",
    "\n",
    "lang_long.to_csv('../cleaned_data/language_long.csv')\n",
    "\n",
    "rel.to_csv('../cleaned_data/religion.csv')\n",
    "\n",
    "peace.to_csv('../cleaned_data/peace_index.csv')\n",
    "\n",
    "wef2.to_csv('../cleaned_data/wef_ttdi.csv')\n",
    "\n",
    "avg_rest_hot_p.to_csv(\"../cleaned_data/avg_rest_hot_p.csv\")"
   ],
   "metadata": {
    "collapsed": false,
    "pycharm": {
     "name": "#%%\n"
    }
   }
  },
  {
   "cell_type": "markdown",
   "source": [
    "## Checking composability\n",
    "Between country dataset and all the other\n",
    "based on either 'Country Name' or 'Country Code'"
   ],
   "metadata": {
    "collapsed": false,
    "pycharm": {
     "name": "#%% md\n"
    }
   }
  },
  {
   "cell_type": "code",
   "execution_count": 302,
   "outputs": [],
   "source": [
    "# get cleaned datasets\n",
    "country = pd.read_csv('../cleaned_data/country.csv', index_col=[0])\n",
    "climate = pd.read_csv('../cleaned_data/climate.csv', index_col=[0])\n",
    "currency = pd.read_csv('../cleaned_data/currencies.csv', index_col=[0])\n",
    "language = pd.read_csv('../cleaned_data/language.csv', encoding='latin-1', index_col=[0])\n",
    "peace = pd.read_csv('../cleaned_data/peace_index.csv', index_col=[0])\n",
    "population = pd.read_csv('../cleaned_data/population.csv', index_col=[0])\n",
    "religion = pd.read_csv('../cleaned_data/Religion.csv', index_col=[0])\n",
    "wef_ttdi = pd.read_csv('../cleaned_data/wef_ttdi.csv', index_col=[0])\n",
    "avg_rest_hot_p = pd.read_csv(\"../cleaned_data/avg_rest_hot_p.csv\", index_col=[0])"
   ],
   "metadata": {
    "collapsed": false,
    "pycharm": {
     "name": "#%%\n"
    }
   }
  },
  {
   "cell_type": "markdown",
   "source": [
    "#### Check climate - country"
   ],
   "metadata": {
    "collapsed": false,
    "pycharm": {
     "name": "#%% md\n"
    }
   }
  },
  {
   "cell_type": "code",
   "execution_count": 303,
   "outputs": [
    {
     "data": {
      "text/plain": "          Country                                            Climate  \\\n0     Afghanistan     Arid To Semiarid; Cold Winters And Hot Summers   \n1        Akrotiri  Temperate; Mediterranean With Hot, Dry Summers...   \n2         Albania  Mild Temperate; Cool, Cloudy, Wet Winters; Hot...   \n3         Algeria  Arid To Semiarid; Mild, Wet Winters With Hot, ...   \n4  American Samoa  Tropical Marine, Moderated By Southeast Trade ...   \n\n  Climate Zone  \n0     Tropical  \n1    Temperate  \n2    Temperate  \n3     Tropical  \n4     Tropical  ",
      "text/html": "<div>\n<style scoped>\n    .dataframe tbody tr th:only-of-type {\n        vertical-align: middle;\n    }\n\n    .dataframe tbody tr th {\n        vertical-align: top;\n    }\n\n    .dataframe thead th {\n        text-align: right;\n    }\n</style>\n<table border=\"1\" class=\"dataframe\">\n  <thead>\n    <tr style=\"text-align: right;\">\n      <th></th>\n      <th>Country</th>\n      <th>Climate</th>\n      <th>Climate Zone</th>\n    </tr>\n  </thead>\n  <tbody>\n    <tr>\n      <th>0</th>\n      <td>Afghanistan</td>\n      <td>Arid To Semiarid; Cold Winters And Hot Summers</td>\n      <td>Tropical</td>\n    </tr>\n    <tr>\n      <th>1</th>\n      <td>Akrotiri</td>\n      <td>Temperate; Mediterranean With Hot, Dry Summers...</td>\n      <td>Temperate</td>\n    </tr>\n    <tr>\n      <th>2</th>\n      <td>Albania</td>\n      <td>Mild Temperate; Cool, Cloudy, Wet Winters; Hot...</td>\n      <td>Temperate</td>\n    </tr>\n    <tr>\n      <th>3</th>\n      <td>Algeria</td>\n      <td>Arid To Semiarid; Mild, Wet Winters With Hot, ...</td>\n      <td>Tropical</td>\n    </tr>\n    <tr>\n      <th>4</th>\n      <td>American Samoa</td>\n      <td>Tropical Marine, Moderated By Southeast Trade ...</td>\n      <td>Tropical</td>\n    </tr>\n  </tbody>\n</table>\n</div>"
     },
     "execution_count": 303,
     "metadata": {},
     "output_type": "execute_result"
    }
   ],
   "source": [
    "climate.head()"
   ],
   "metadata": {
    "collapsed": false,
    "pycharm": {
     "name": "#%%\n"
    }
   }
  },
  {
   "cell_type": "code",
   "execution_count": 304,
   "outputs": [
    {
     "data": {
      "text/plain": "                         Country  \\\n1                       Akrotiri   \n7                       Anguilla   \n8                     Antarctica   \n10                  Arctic Ocean   \n14   Ashmore And Cartier Islands   \n..                           ...   \n270               Virgin Islands   \n271                  Wake Island   \n272            Wallis And Futuna   \n273                    West Bank   \n274               Western Sahara   \n\n                                               Climate Climate Zone Name Iso3  \\\n1    Temperate; Mediterranean With Hot, Dry Summers...    Temperate  NaN  NaN   \n7         Tropical; Moderated By Northeast Trade Winds     Tropical  NaN  NaN   \n8    Severe Low Temperatures Vary With Latitude, El...        Polar  NaN  NaN   \n10   Polar Climate Characterized By Persistent Cold...        Polar  NaN  NaN   \n14                                            Tropical     Tropical  NaN  NaN   \n..                                                 ...          ...  ...  ...   \n270  Subtropical, Tempered By Easterly Trade Winds,...  Subtropical  NaN  NaN   \n271                                           Tropical     Tropical  NaN  NaN   \n272  Tropical; Hot, Rainy Season (November To April...     Tropical  NaN  NaN   \n273  Temperate; Temperature And Precipitation Vary ...    Temperate  NaN  NaN   \n274  Hot, Dry Desert; Rain Is Rare; Cold Offshore A...     Tropical  NaN  NaN   \n\n    Continent SubContinent  \n1         NaN          NaN  \n7         NaN          NaN  \n8         NaN          NaN  \n10        NaN          NaN  \n14        NaN          NaN  \n..        ...          ...  \n270       NaN          NaN  \n271       NaN          NaN  \n272       NaN          NaN  \n273       NaN          NaN  \n274       NaN          NaN  \n\n[73 rows x 7 columns]",
      "text/html": "<div>\n<style scoped>\n    .dataframe tbody tr th:only-of-type {\n        vertical-align: middle;\n    }\n\n    .dataframe tbody tr th {\n        vertical-align: top;\n    }\n\n    .dataframe thead th {\n        text-align: right;\n    }\n</style>\n<table border=\"1\" class=\"dataframe\">\n  <thead>\n    <tr style=\"text-align: right;\">\n      <th></th>\n      <th>Country</th>\n      <th>Climate</th>\n      <th>Climate Zone</th>\n      <th>Name</th>\n      <th>Iso3</th>\n      <th>Continent</th>\n      <th>SubContinent</th>\n    </tr>\n  </thead>\n  <tbody>\n    <tr>\n      <th>1</th>\n      <td>Akrotiri</td>\n      <td>Temperate; Mediterranean With Hot, Dry Summers...</td>\n      <td>Temperate</td>\n      <td>NaN</td>\n      <td>NaN</td>\n      <td>NaN</td>\n      <td>NaN</td>\n    </tr>\n    <tr>\n      <th>7</th>\n      <td>Anguilla</td>\n      <td>Tropical; Moderated By Northeast Trade Winds</td>\n      <td>Tropical</td>\n      <td>NaN</td>\n      <td>NaN</td>\n      <td>NaN</td>\n      <td>NaN</td>\n    </tr>\n    <tr>\n      <th>8</th>\n      <td>Antarctica</td>\n      <td>Severe Low Temperatures Vary With Latitude, El...</td>\n      <td>Polar</td>\n      <td>NaN</td>\n      <td>NaN</td>\n      <td>NaN</td>\n      <td>NaN</td>\n    </tr>\n    <tr>\n      <th>10</th>\n      <td>Arctic Ocean</td>\n      <td>Polar Climate Characterized By Persistent Cold...</td>\n      <td>Polar</td>\n      <td>NaN</td>\n      <td>NaN</td>\n      <td>NaN</td>\n      <td>NaN</td>\n    </tr>\n    <tr>\n      <th>14</th>\n      <td>Ashmore And Cartier Islands</td>\n      <td>Tropical</td>\n      <td>Tropical</td>\n      <td>NaN</td>\n      <td>NaN</td>\n      <td>NaN</td>\n      <td>NaN</td>\n    </tr>\n    <tr>\n      <th>...</th>\n      <td>...</td>\n      <td>...</td>\n      <td>...</td>\n      <td>...</td>\n      <td>...</td>\n      <td>...</td>\n      <td>...</td>\n    </tr>\n    <tr>\n      <th>270</th>\n      <td>Virgin Islands</td>\n      <td>Subtropical, Tempered By Easterly Trade Winds,...</td>\n      <td>Subtropical</td>\n      <td>NaN</td>\n      <td>NaN</td>\n      <td>NaN</td>\n      <td>NaN</td>\n    </tr>\n    <tr>\n      <th>271</th>\n      <td>Wake Island</td>\n      <td>Tropical</td>\n      <td>Tropical</td>\n      <td>NaN</td>\n      <td>NaN</td>\n      <td>NaN</td>\n      <td>NaN</td>\n    </tr>\n    <tr>\n      <th>272</th>\n      <td>Wallis And Futuna</td>\n      <td>Tropical; Hot, Rainy Season (November To April...</td>\n      <td>Tropical</td>\n      <td>NaN</td>\n      <td>NaN</td>\n      <td>NaN</td>\n      <td>NaN</td>\n    </tr>\n    <tr>\n      <th>273</th>\n      <td>West Bank</td>\n      <td>Temperate; Temperature And Precipitation Vary ...</td>\n      <td>Temperate</td>\n      <td>NaN</td>\n      <td>NaN</td>\n      <td>NaN</td>\n      <td>NaN</td>\n    </tr>\n    <tr>\n      <th>274</th>\n      <td>Western Sahara</td>\n      <td>Hot, Dry Desert; Rain Is Rare; Cold Offshore A...</td>\n      <td>Tropical</td>\n      <td>NaN</td>\n      <td>NaN</td>\n      <td>NaN</td>\n      <td>NaN</td>\n    </tr>\n  </tbody>\n</table>\n<p>73 rows × 7 columns</p>\n</div>"
     },
     "execution_count": 304,
     "metadata": {},
     "output_type": "execute_result"
    }
   ],
   "source": [
    "climate = climate.merge(country, how='left', left_on='Country', right_on='Name')\n",
    "climate[climate['Name'].isnull()]"
   ],
   "metadata": {
    "collapsed": false,
    "pycharm": {
     "name": "#%%\n"
    }
   }
  },
  {
   "cell_type": "markdown",
   "source": [
    "The rows that cannot be joined with country dataset do not seem like a proper country, so we are going to ignore it."
   ],
   "metadata": {
    "collapsed": false,
    "pycharm": {
     "name": "#%% md\n"
    }
   }
  },
  {
   "cell_type": "markdown",
   "source": [
    "#### Check Currency - Country"
   ],
   "metadata": {
    "collapsed": false,
    "pycharm": {
     "name": "#%% md\n"
    }
   }
  },
  {
   "cell_type": "code",
   "execution_count": 305,
   "outputs": [
    {
     "data": {
      "text/plain": "                                               Country  \\\n1                                        Åland Islands   \n7                                             Anguilla   \n8                                           Antarctica   \n29                    Bonaire, Sint Eustatius And Saba   \n32                                       Bouvet Island   \n34                      British Indian Ocean Territory   \n49                                    Christmas Island   \n50                               Cocos Keeling Islands   \n54                The Democratic Republic Of The Congo   \n56                                        Cook Islands   \n62                                             Curaçao   \n76                                            Eswatini   \n78                                      European Union   \n79                                    Falkland Islands   \n86                         French Southern Territories   \n92                                           Gibraltar   \n96                                          Guadeloupe   \n99                                            Guernsey   \n105                  Heard Island And Mcdonald Islands   \n106                                           Holy See   \n113                        International Monetary Fund   \n122                                             Jersey   \n151                                         Martinique   \n154                                            Mayotte   \n155  Member Countries Of The African Development Ba...   \n158                                         Micronesia   \n163                                         Montserrat   \n169                                              Nauru   \n177                                               Niue   \n178                                     Norfolk Island   \n184                                Palestine, State Of   \n191                                           Pitcairn   \n196                                            Réunion   \n200                                   Saint Barthélemy   \n201       Saint Helena, Ascension And Tristan Da Cunha   \n204                                       Saint Martin   \n205                          Saint Pierre And Miquelon   \n216                                       Sint Maarten   \n217  Sistema Unitario De Compensacion Regional De P...   \n223       South Georgia And The South Sandwich Islands   \n229                             Svalbard And Jan Mayen   \n237                       Tanzania, United Republic Of   \n241                                            Tokelau   \n253               United States Minor Outlying Islands   \n265                                     Virgin Islands   \n266                                     Virgin Islands   \n267                                  Wallis And Futuna   \n268                                     Western Sahara   \n272              Zz01_Bond Markets Unit European_Eurco   \n273              Zz02_Bond Markets Unit European_Emu-6   \n274              Zz03_Bond Markets Unit European_Eua-9   \n275             Zz04_Bond Markets Unit European_Eua-17   \n276                                  Zz06_Testing_Code   \n277                                   Zz07_No_Currency   \n278                                          Zz08_Gold   \n279                                     Zz09_Palladium   \n280                                      Zz10_Platinum   \n281                                        Zz11_Silver   \n\n                                              Currency   Currency Code Name  \\\n1                                                 Euro             EUR  NaN   \n7                                East Caribbean Dollar             XCD  NaN   \n8                                No Universal Currency  Non Applicable  NaN   \n29                                           Us Dollar             USD  NaN   \n32                                     Norwegian Krone             NOK  NaN   \n34                                           Us Dollar             USD  NaN   \n49                                   Australian Dollar             AUD  NaN   \n50                                   Australian Dollar             AUD  NaN   \n54                                     Congolese Franc             CDF  NaN   \n56                                  New Zealand Dollar             NZD  NaN   \n62                       Netherlands Antillean Guilder             ANG  NaN   \n76                                           Lilangeni             SZL  NaN   \n78                                                Euro             EUR  NaN   \n79                              Falkland Islands Pound             FKP  NaN   \n86                                                Euro             EUR  NaN   \n92                                     Gibraltar Pound             GIP  NaN   \n96                                                Euro             EUR  NaN   \n99                                      Pound Sterling             GBP  NaN   \n105                                  Australian Dollar             AUD  NaN   \n106                                               Euro             EUR  NaN   \n113                        Sdr (Special Drawing Right)             XDR  NaN   \n122                                     Pound Sterling             GBP  NaN   \n151                                               Euro             EUR  NaN   \n154                                               Euro             EUR  NaN   \n155                                Adb Unit Of Account             XUA  NaN   \n158                                          Us Dollar             USD  NaN   \n163                              East Caribbean Dollar             XCD  NaN   \n169                                  Australian Dollar             AUD  NaN   \n177                                 New Zealand Dollar             NZD  NaN   \n178                                  Australian Dollar             AUD  NaN   \n184                              No Universal Currency  Non Applicable  NaN   \n191                                 New Zealand Dollar             NZD  NaN   \n196                                               Euro             EUR  NaN   \n200                                               Euro             EUR  NaN   \n201                                 Saint Helena Pound             SHP  NaN   \n204                                               Euro             EUR  NaN   \n205                                               Euro             EUR  NaN   \n216                      Netherlands Antillean Guilder             ANG  NaN   \n217                                              Sucre             XSU  NaN   \n223                              No Universal Currency  Non Applicable  NaN   \n229                                    Norwegian Krone             NOK  NaN   \n237                                 Tanzanian Shilling             TZS  NaN   \n241                                 New Zealand Dollar             NZD  NaN   \n253                                          Us Dollar             USD  NaN   \n265                                          Us Dollar             USD  NaN   \n266                                          Us Dollar             USD  NaN   \n267                                          Cfp Franc             XPF  NaN   \n268                                    Moroccan Dirham             MAD  NaN   \n272  Bond Markets Unit European Composite Unit (Eurco)             XBA  NaN   \n273  Bond Markets Unit European Monetary Unit (E.M....             XBB  NaN   \n274  Bond Markets Unit European Unit Of Account 9 (...             XBC  NaN   \n275  Bond Markets Unit European Unit Of Account 17 ...             XBD  NaN   \n276   Codes Specifically Reserved For Testing Purposes             XTS  NaN   \n277  The Codes Assigned For Transactions Where No C...             XXX  NaN   \n278                                               Gold             XAU  NaN   \n279                                          Palladium             XPD  NaN   \n280                                           Platinum             XPT  NaN   \n281                                             Silver             XAG  NaN   \n\n    Iso3 Continent SubContinent  \n1    NaN       NaN          NaN  \n7    NaN       NaN          NaN  \n8    NaN       NaN          NaN  \n29   NaN       NaN          NaN  \n32   NaN       NaN          NaN  \n34   NaN       NaN          NaN  \n49   NaN       NaN          NaN  \n50   NaN       NaN          NaN  \n54   NaN       NaN          NaN  \n56   NaN       NaN          NaN  \n62   NaN       NaN          NaN  \n76   NaN       NaN          NaN  \n78   NaN       NaN          NaN  \n79   NaN       NaN          NaN  \n86   NaN       NaN          NaN  \n92   NaN       NaN          NaN  \n96   NaN       NaN          NaN  \n99   NaN       NaN          NaN  \n105  NaN       NaN          NaN  \n106  NaN       NaN          NaN  \n113  NaN       NaN          NaN  \n122  NaN       NaN          NaN  \n151  NaN       NaN          NaN  \n154  NaN       NaN          NaN  \n155  NaN       NaN          NaN  \n158  NaN       NaN          NaN  \n163  NaN       NaN          NaN  \n169  NaN       NaN          NaN  \n177  NaN       NaN          NaN  \n178  NaN       NaN          NaN  \n184  NaN       NaN          NaN  \n191  NaN       NaN          NaN  \n196  NaN       NaN          NaN  \n200  NaN       NaN          NaN  \n201  NaN       NaN          NaN  \n204  NaN       NaN          NaN  \n205  NaN       NaN          NaN  \n216  NaN       NaN          NaN  \n217  NaN       NaN          NaN  \n223  NaN       NaN          NaN  \n229  NaN       NaN          NaN  \n237  NaN       NaN          NaN  \n241  NaN       NaN          NaN  \n253  NaN       NaN          NaN  \n265  NaN       NaN          NaN  \n266  NaN       NaN          NaN  \n267  NaN       NaN          NaN  \n268  NaN       NaN          NaN  \n272  NaN       NaN          NaN  \n273  NaN       NaN          NaN  \n274  NaN       NaN          NaN  \n275  NaN       NaN          NaN  \n276  NaN       NaN          NaN  \n277  NaN       NaN          NaN  \n278  NaN       NaN          NaN  \n279  NaN       NaN          NaN  \n280  NaN       NaN          NaN  \n281  NaN       NaN          NaN  ",
      "text/html": "<div>\n<style scoped>\n    .dataframe tbody tr th:only-of-type {\n        vertical-align: middle;\n    }\n\n    .dataframe tbody tr th {\n        vertical-align: top;\n    }\n\n    .dataframe thead th {\n        text-align: right;\n    }\n</style>\n<table border=\"1\" class=\"dataframe\">\n  <thead>\n    <tr style=\"text-align: right;\">\n      <th></th>\n      <th>Country</th>\n      <th>Currency</th>\n      <th>Currency Code</th>\n      <th>Name</th>\n      <th>Iso3</th>\n      <th>Continent</th>\n      <th>SubContinent</th>\n    </tr>\n  </thead>\n  <tbody>\n    <tr>\n      <th>1</th>\n      <td>Åland Islands</td>\n      <td>Euro</td>\n      <td>EUR</td>\n      <td>NaN</td>\n      <td>NaN</td>\n      <td>NaN</td>\n      <td>NaN</td>\n    </tr>\n    <tr>\n      <th>7</th>\n      <td>Anguilla</td>\n      <td>East Caribbean Dollar</td>\n      <td>XCD</td>\n      <td>NaN</td>\n      <td>NaN</td>\n      <td>NaN</td>\n      <td>NaN</td>\n    </tr>\n    <tr>\n      <th>8</th>\n      <td>Antarctica</td>\n      <td>No Universal Currency</td>\n      <td>Non Applicable</td>\n      <td>NaN</td>\n      <td>NaN</td>\n      <td>NaN</td>\n      <td>NaN</td>\n    </tr>\n    <tr>\n      <th>29</th>\n      <td>Bonaire, Sint Eustatius And Saba</td>\n      <td>Us Dollar</td>\n      <td>USD</td>\n      <td>NaN</td>\n      <td>NaN</td>\n      <td>NaN</td>\n      <td>NaN</td>\n    </tr>\n    <tr>\n      <th>32</th>\n      <td>Bouvet Island</td>\n      <td>Norwegian Krone</td>\n      <td>NOK</td>\n      <td>NaN</td>\n      <td>NaN</td>\n      <td>NaN</td>\n      <td>NaN</td>\n    </tr>\n    <tr>\n      <th>34</th>\n      <td>British Indian Ocean Territory</td>\n      <td>Us Dollar</td>\n      <td>USD</td>\n      <td>NaN</td>\n      <td>NaN</td>\n      <td>NaN</td>\n      <td>NaN</td>\n    </tr>\n    <tr>\n      <th>49</th>\n      <td>Christmas Island</td>\n      <td>Australian Dollar</td>\n      <td>AUD</td>\n      <td>NaN</td>\n      <td>NaN</td>\n      <td>NaN</td>\n      <td>NaN</td>\n    </tr>\n    <tr>\n      <th>50</th>\n      <td>Cocos Keeling Islands</td>\n      <td>Australian Dollar</td>\n      <td>AUD</td>\n      <td>NaN</td>\n      <td>NaN</td>\n      <td>NaN</td>\n      <td>NaN</td>\n    </tr>\n    <tr>\n      <th>54</th>\n      <td>The Democratic Republic Of The Congo</td>\n      <td>Congolese Franc</td>\n      <td>CDF</td>\n      <td>NaN</td>\n      <td>NaN</td>\n      <td>NaN</td>\n      <td>NaN</td>\n    </tr>\n    <tr>\n      <th>56</th>\n      <td>Cook Islands</td>\n      <td>New Zealand Dollar</td>\n      <td>NZD</td>\n      <td>NaN</td>\n      <td>NaN</td>\n      <td>NaN</td>\n      <td>NaN</td>\n    </tr>\n    <tr>\n      <th>62</th>\n      <td>Curaçao</td>\n      <td>Netherlands Antillean Guilder</td>\n      <td>ANG</td>\n      <td>NaN</td>\n      <td>NaN</td>\n      <td>NaN</td>\n      <td>NaN</td>\n    </tr>\n    <tr>\n      <th>76</th>\n      <td>Eswatini</td>\n      <td>Lilangeni</td>\n      <td>SZL</td>\n      <td>NaN</td>\n      <td>NaN</td>\n      <td>NaN</td>\n      <td>NaN</td>\n    </tr>\n    <tr>\n      <th>78</th>\n      <td>European Union</td>\n      <td>Euro</td>\n      <td>EUR</td>\n      <td>NaN</td>\n      <td>NaN</td>\n      <td>NaN</td>\n      <td>NaN</td>\n    </tr>\n    <tr>\n      <th>79</th>\n      <td>Falkland Islands</td>\n      <td>Falkland Islands Pound</td>\n      <td>FKP</td>\n      <td>NaN</td>\n      <td>NaN</td>\n      <td>NaN</td>\n      <td>NaN</td>\n    </tr>\n    <tr>\n      <th>86</th>\n      <td>French Southern Territories</td>\n      <td>Euro</td>\n      <td>EUR</td>\n      <td>NaN</td>\n      <td>NaN</td>\n      <td>NaN</td>\n      <td>NaN</td>\n    </tr>\n    <tr>\n      <th>92</th>\n      <td>Gibraltar</td>\n      <td>Gibraltar Pound</td>\n      <td>GIP</td>\n      <td>NaN</td>\n      <td>NaN</td>\n      <td>NaN</td>\n      <td>NaN</td>\n    </tr>\n    <tr>\n      <th>96</th>\n      <td>Guadeloupe</td>\n      <td>Euro</td>\n      <td>EUR</td>\n      <td>NaN</td>\n      <td>NaN</td>\n      <td>NaN</td>\n      <td>NaN</td>\n    </tr>\n    <tr>\n      <th>99</th>\n      <td>Guernsey</td>\n      <td>Pound Sterling</td>\n      <td>GBP</td>\n      <td>NaN</td>\n      <td>NaN</td>\n      <td>NaN</td>\n      <td>NaN</td>\n    </tr>\n    <tr>\n      <th>105</th>\n      <td>Heard Island And Mcdonald Islands</td>\n      <td>Australian Dollar</td>\n      <td>AUD</td>\n      <td>NaN</td>\n      <td>NaN</td>\n      <td>NaN</td>\n      <td>NaN</td>\n    </tr>\n    <tr>\n      <th>106</th>\n      <td>Holy See</td>\n      <td>Euro</td>\n      <td>EUR</td>\n      <td>NaN</td>\n      <td>NaN</td>\n      <td>NaN</td>\n      <td>NaN</td>\n    </tr>\n    <tr>\n      <th>113</th>\n      <td>International Monetary Fund</td>\n      <td>Sdr (Special Drawing Right)</td>\n      <td>XDR</td>\n      <td>NaN</td>\n      <td>NaN</td>\n      <td>NaN</td>\n      <td>NaN</td>\n    </tr>\n    <tr>\n      <th>122</th>\n      <td>Jersey</td>\n      <td>Pound Sterling</td>\n      <td>GBP</td>\n      <td>NaN</td>\n      <td>NaN</td>\n      <td>NaN</td>\n      <td>NaN</td>\n    </tr>\n    <tr>\n      <th>151</th>\n      <td>Martinique</td>\n      <td>Euro</td>\n      <td>EUR</td>\n      <td>NaN</td>\n      <td>NaN</td>\n      <td>NaN</td>\n      <td>NaN</td>\n    </tr>\n    <tr>\n      <th>154</th>\n      <td>Mayotte</td>\n      <td>Euro</td>\n      <td>EUR</td>\n      <td>NaN</td>\n      <td>NaN</td>\n      <td>NaN</td>\n      <td>NaN</td>\n    </tr>\n    <tr>\n      <th>155</th>\n      <td>Member Countries Of The African Development Ba...</td>\n      <td>Adb Unit Of Account</td>\n      <td>XUA</td>\n      <td>NaN</td>\n      <td>NaN</td>\n      <td>NaN</td>\n      <td>NaN</td>\n    </tr>\n    <tr>\n      <th>158</th>\n      <td>Micronesia</td>\n      <td>Us Dollar</td>\n      <td>USD</td>\n      <td>NaN</td>\n      <td>NaN</td>\n      <td>NaN</td>\n      <td>NaN</td>\n    </tr>\n    <tr>\n      <th>163</th>\n      <td>Montserrat</td>\n      <td>East Caribbean Dollar</td>\n      <td>XCD</td>\n      <td>NaN</td>\n      <td>NaN</td>\n      <td>NaN</td>\n      <td>NaN</td>\n    </tr>\n    <tr>\n      <th>169</th>\n      <td>Nauru</td>\n      <td>Australian Dollar</td>\n      <td>AUD</td>\n      <td>NaN</td>\n      <td>NaN</td>\n      <td>NaN</td>\n      <td>NaN</td>\n    </tr>\n    <tr>\n      <th>177</th>\n      <td>Niue</td>\n      <td>New Zealand Dollar</td>\n      <td>NZD</td>\n      <td>NaN</td>\n      <td>NaN</td>\n      <td>NaN</td>\n      <td>NaN</td>\n    </tr>\n    <tr>\n      <th>178</th>\n      <td>Norfolk Island</td>\n      <td>Australian Dollar</td>\n      <td>AUD</td>\n      <td>NaN</td>\n      <td>NaN</td>\n      <td>NaN</td>\n      <td>NaN</td>\n    </tr>\n    <tr>\n      <th>184</th>\n      <td>Palestine, State Of</td>\n      <td>No Universal Currency</td>\n      <td>Non Applicable</td>\n      <td>NaN</td>\n      <td>NaN</td>\n      <td>NaN</td>\n      <td>NaN</td>\n    </tr>\n    <tr>\n      <th>191</th>\n      <td>Pitcairn</td>\n      <td>New Zealand Dollar</td>\n      <td>NZD</td>\n      <td>NaN</td>\n      <td>NaN</td>\n      <td>NaN</td>\n      <td>NaN</td>\n    </tr>\n    <tr>\n      <th>196</th>\n      <td>Réunion</td>\n      <td>Euro</td>\n      <td>EUR</td>\n      <td>NaN</td>\n      <td>NaN</td>\n      <td>NaN</td>\n      <td>NaN</td>\n    </tr>\n    <tr>\n      <th>200</th>\n      <td>Saint Barthélemy</td>\n      <td>Euro</td>\n      <td>EUR</td>\n      <td>NaN</td>\n      <td>NaN</td>\n      <td>NaN</td>\n      <td>NaN</td>\n    </tr>\n    <tr>\n      <th>201</th>\n      <td>Saint Helena, Ascension And Tristan Da Cunha</td>\n      <td>Saint Helena Pound</td>\n      <td>SHP</td>\n      <td>NaN</td>\n      <td>NaN</td>\n      <td>NaN</td>\n      <td>NaN</td>\n    </tr>\n    <tr>\n      <th>204</th>\n      <td>Saint Martin</td>\n      <td>Euro</td>\n      <td>EUR</td>\n      <td>NaN</td>\n      <td>NaN</td>\n      <td>NaN</td>\n      <td>NaN</td>\n    </tr>\n    <tr>\n      <th>205</th>\n      <td>Saint Pierre And Miquelon</td>\n      <td>Euro</td>\n      <td>EUR</td>\n      <td>NaN</td>\n      <td>NaN</td>\n      <td>NaN</td>\n      <td>NaN</td>\n    </tr>\n    <tr>\n      <th>216</th>\n      <td>Sint Maarten</td>\n      <td>Netherlands Antillean Guilder</td>\n      <td>ANG</td>\n      <td>NaN</td>\n      <td>NaN</td>\n      <td>NaN</td>\n      <td>NaN</td>\n    </tr>\n    <tr>\n      <th>217</th>\n      <td>Sistema Unitario De Compensacion Regional De P...</td>\n      <td>Sucre</td>\n      <td>XSU</td>\n      <td>NaN</td>\n      <td>NaN</td>\n      <td>NaN</td>\n      <td>NaN</td>\n    </tr>\n    <tr>\n      <th>223</th>\n      <td>South Georgia And The South Sandwich Islands</td>\n      <td>No Universal Currency</td>\n      <td>Non Applicable</td>\n      <td>NaN</td>\n      <td>NaN</td>\n      <td>NaN</td>\n      <td>NaN</td>\n    </tr>\n    <tr>\n      <th>229</th>\n      <td>Svalbard And Jan Mayen</td>\n      <td>Norwegian Krone</td>\n      <td>NOK</td>\n      <td>NaN</td>\n      <td>NaN</td>\n      <td>NaN</td>\n      <td>NaN</td>\n    </tr>\n    <tr>\n      <th>237</th>\n      <td>Tanzania, United Republic Of</td>\n      <td>Tanzanian Shilling</td>\n      <td>TZS</td>\n      <td>NaN</td>\n      <td>NaN</td>\n      <td>NaN</td>\n      <td>NaN</td>\n    </tr>\n    <tr>\n      <th>241</th>\n      <td>Tokelau</td>\n      <td>New Zealand Dollar</td>\n      <td>NZD</td>\n      <td>NaN</td>\n      <td>NaN</td>\n      <td>NaN</td>\n      <td>NaN</td>\n    </tr>\n    <tr>\n      <th>253</th>\n      <td>United States Minor Outlying Islands</td>\n      <td>Us Dollar</td>\n      <td>USD</td>\n      <td>NaN</td>\n      <td>NaN</td>\n      <td>NaN</td>\n      <td>NaN</td>\n    </tr>\n    <tr>\n      <th>265</th>\n      <td>Virgin Islands</td>\n      <td>Us Dollar</td>\n      <td>USD</td>\n      <td>NaN</td>\n      <td>NaN</td>\n      <td>NaN</td>\n      <td>NaN</td>\n    </tr>\n    <tr>\n      <th>266</th>\n      <td>Virgin Islands</td>\n      <td>Us Dollar</td>\n      <td>USD</td>\n      <td>NaN</td>\n      <td>NaN</td>\n      <td>NaN</td>\n      <td>NaN</td>\n    </tr>\n    <tr>\n      <th>267</th>\n      <td>Wallis And Futuna</td>\n      <td>Cfp Franc</td>\n      <td>XPF</td>\n      <td>NaN</td>\n      <td>NaN</td>\n      <td>NaN</td>\n      <td>NaN</td>\n    </tr>\n    <tr>\n      <th>268</th>\n      <td>Western Sahara</td>\n      <td>Moroccan Dirham</td>\n      <td>MAD</td>\n      <td>NaN</td>\n      <td>NaN</td>\n      <td>NaN</td>\n      <td>NaN</td>\n    </tr>\n    <tr>\n      <th>272</th>\n      <td>Zz01_Bond Markets Unit European_Eurco</td>\n      <td>Bond Markets Unit European Composite Unit (Eurco)</td>\n      <td>XBA</td>\n      <td>NaN</td>\n      <td>NaN</td>\n      <td>NaN</td>\n      <td>NaN</td>\n    </tr>\n    <tr>\n      <th>273</th>\n      <td>Zz02_Bond Markets Unit European_Emu-6</td>\n      <td>Bond Markets Unit European Monetary Unit (E.M....</td>\n      <td>XBB</td>\n      <td>NaN</td>\n      <td>NaN</td>\n      <td>NaN</td>\n      <td>NaN</td>\n    </tr>\n    <tr>\n      <th>274</th>\n      <td>Zz03_Bond Markets Unit European_Eua-9</td>\n      <td>Bond Markets Unit European Unit Of Account 9 (...</td>\n      <td>XBC</td>\n      <td>NaN</td>\n      <td>NaN</td>\n      <td>NaN</td>\n      <td>NaN</td>\n    </tr>\n    <tr>\n      <th>275</th>\n      <td>Zz04_Bond Markets Unit European_Eua-17</td>\n      <td>Bond Markets Unit European Unit Of Account 17 ...</td>\n      <td>XBD</td>\n      <td>NaN</td>\n      <td>NaN</td>\n      <td>NaN</td>\n      <td>NaN</td>\n    </tr>\n    <tr>\n      <th>276</th>\n      <td>Zz06_Testing_Code</td>\n      <td>Codes Specifically Reserved For Testing Purposes</td>\n      <td>XTS</td>\n      <td>NaN</td>\n      <td>NaN</td>\n      <td>NaN</td>\n      <td>NaN</td>\n    </tr>\n    <tr>\n      <th>277</th>\n      <td>Zz07_No_Currency</td>\n      <td>The Codes Assigned For Transactions Where No C...</td>\n      <td>XXX</td>\n      <td>NaN</td>\n      <td>NaN</td>\n      <td>NaN</td>\n      <td>NaN</td>\n    </tr>\n    <tr>\n      <th>278</th>\n      <td>Zz08_Gold</td>\n      <td>Gold</td>\n      <td>XAU</td>\n      <td>NaN</td>\n      <td>NaN</td>\n      <td>NaN</td>\n      <td>NaN</td>\n    </tr>\n    <tr>\n      <th>279</th>\n      <td>Zz09_Palladium</td>\n      <td>Palladium</td>\n      <td>XPD</td>\n      <td>NaN</td>\n      <td>NaN</td>\n      <td>NaN</td>\n      <td>NaN</td>\n    </tr>\n    <tr>\n      <th>280</th>\n      <td>Zz10_Platinum</td>\n      <td>Platinum</td>\n      <td>XPT</td>\n      <td>NaN</td>\n      <td>NaN</td>\n      <td>NaN</td>\n      <td>NaN</td>\n    </tr>\n    <tr>\n      <th>281</th>\n      <td>Zz11_Silver</td>\n      <td>Silver</td>\n      <td>XAG</td>\n      <td>NaN</td>\n      <td>NaN</td>\n      <td>NaN</td>\n      <td>NaN</td>\n    </tr>\n  </tbody>\n</table>\n</div>"
     },
     "execution_count": 305,
     "metadata": {},
     "output_type": "execute_result"
    }
   ],
   "source": [
    "currency = currency.merge(country, how='left', left_on='Country', right_on='Name')\n",
    "currency[currency['Name'].isnull()]"
   ],
   "metadata": {
    "collapsed": false,
    "pycharm": {
     "name": "#%%\n"
    }
   }
  },
  {
   "cell_type": "markdown",
   "source": [
    "#### Check language - country"
   ],
   "metadata": {
    "collapsed": false,
    "pycharm": {
     "name": "#%% md\n"
    }
   }
  },
  {
   "cell_type": "code",
   "execution_count": 306,
   "outputs": [
    {
     "data": {
      "text/plain": "                             Country  \\\n41              CÃ£ÂÃÂ´Te D'Ivoire   \n50                        East Timor   \n116                       Micronesia   \n125                            Nauru   \n136     Palestinian State (Proposed)   \n153     SÃ£Â£O TomÃ£Â© E PrincÃ£Â­Pe   \n193          Vatican City (Holy See)   \n196  Western Sahara (Proposed State)   \n\n                                     Official Language Name Iso3 Continent  \\\n41   French (Official) And African Languages (Dioul...  NaN  NaN       NaN   \n50   Tetum, Portuguese (Official); Bahasa Indonesia...  NaN  NaN       NaN   \n116  English (Official, Common), Chukese, Pohnpeian...  NaN  NaN       NaN   \n125                        Nauruan (Official), English  NaN  NaN       NaN   \n136                            Arabic, Hebrew, English  NaN  NaN       NaN   \n153                              Portuguese (Official)  NaN  NaN       NaN   \n193    Italian, Latin, French, Various Other Languages  NaN  NaN       NaN   \n196                  Hassaniya Arabic, Moroccan Arabic  NaN  NaN       NaN   \n\n    SubContinent  \n41           NaN  \n50           NaN  \n116          NaN  \n125          NaN  \n136          NaN  \n153          NaN  \n193          NaN  \n196          NaN  ",
      "text/html": "<div>\n<style scoped>\n    .dataframe tbody tr th:only-of-type {\n        vertical-align: middle;\n    }\n\n    .dataframe tbody tr th {\n        vertical-align: top;\n    }\n\n    .dataframe thead th {\n        text-align: right;\n    }\n</style>\n<table border=\"1\" class=\"dataframe\">\n  <thead>\n    <tr style=\"text-align: right;\">\n      <th></th>\n      <th>Country</th>\n      <th>Official Language</th>\n      <th>Name</th>\n      <th>Iso3</th>\n      <th>Continent</th>\n      <th>SubContinent</th>\n    </tr>\n  </thead>\n  <tbody>\n    <tr>\n      <th>41</th>\n      <td>CÃ£ÂÃÂ´Te D'Ivoire</td>\n      <td>French (Official) And African Languages (Dioul...</td>\n      <td>NaN</td>\n      <td>NaN</td>\n      <td>NaN</td>\n      <td>NaN</td>\n    </tr>\n    <tr>\n      <th>50</th>\n      <td>East Timor</td>\n      <td>Tetum, Portuguese (Official); Bahasa Indonesia...</td>\n      <td>NaN</td>\n      <td>NaN</td>\n      <td>NaN</td>\n      <td>NaN</td>\n    </tr>\n    <tr>\n      <th>116</th>\n      <td>Micronesia</td>\n      <td>English (Official, Common), Chukese, Pohnpeian...</td>\n      <td>NaN</td>\n      <td>NaN</td>\n      <td>NaN</td>\n      <td>NaN</td>\n    </tr>\n    <tr>\n      <th>125</th>\n      <td>Nauru</td>\n      <td>Nauruan (Official), English</td>\n      <td>NaN</td>\n      <td>NaN</td>\n      <td>NaN</td>\n      <td>NaN</td>\n    </tr>\n    <tr>\n      <th>136</th>\n      <td>Palestinian State (Proposed)</td>\n      <td>Arabic, Hebrew, English</td>\n      <td>NaN</td>\n      <td>NaN</td>\n      <td>NaN</td>\n      <td>NaN</td>\n    </tr>\n    <tr>\n      <th>153</th>\n      <td>SÃ£Â£O TomÃ£Â© E PrincÃ£Â­Pe</td>\n      <td>Portuguese (Official)</td>\n      <td>NaN</td>\n      <td>NaN</td>\n      <td>NaN</td>\n      <td>NaN</td>\n    </tr>\n    <tr>\n      <th>193</th>\n      <td>Vatican City (Holy See)</td>\n      <td>Italian, Latin, French, Various Other Languages</td>\n      <td>NaN</td>\n      <td>NaN</td>\n      <td>NaN</td>\n      <td>NaN</td>\n    </tr>\n    <tr>\n      <th>196</th>\n      <td>Western Sahara (Proposed State)</td>\n      <td>Hassaniya Arabic, Moroccan Arabic</td>\n      <td>NaN</td>\n      <td>NaN</td>\n      <td>NaN</td>\n      <td>NaN</td>\n    </tr>\n  </tbody>\n</table>\n</div>"
     },
     "execution_count": 306,
     "metadata": {},
     "output_type": "execute_result"
    }
   ],
   "source": [
    "language = language.merge(country, how='left', left_on='Country', right_on='Name')\n",
    "language[language['Name'].isnull()]"
   ],
   "metadata": {
    "collapsed": false,
    "pycharm": {
     "name": "#%%\n"
    }
   }
  },
  {
   "cell_type": "markdown",
   "source": [
    "#### Check peace - country"
   ],
   "metadata": {
    "collapsed": false,
    "pycharm": {
     "name": "#%% md\n"
    }
   }
  },
  {
   "cell_type": "code",
   "execution_count": 307,
   "outputs": [
    {
     "data": {
      "text/plain": "      Rank                    Country Name Iso3 Continent SubContinent\n52    53.0                 The Gambia  NaN  NaN       NaN          NaN\n68    69.0                   Eswatini  NaN  NaN       NaN          NaN\n138  138.0                  Palestine  NaN  NaN       NaN          NaN\n155  155.0  Central African\\nRepublic  NaN  NaN       NaN          NaN",
      "text/html": "<div>\n<style scoped>\n    .dataframe tbody tr th:only-of-type {\n        vertical-align: middle;\n    }\n\n    .dataframe tbody tr th {\n        vertical-align: top;\n    }\n\n    .dataframe thead th {\n        text-align: right;\n    }\n</style>\n<table border=\"1\" class=\"dataframe\">\n  <thead>\n    <tr style=\"text-align: right;\">\n      <th></th>\n      <th>Rank</th>\n      <th>Country</th>\n      <th>Name</th>\n      <th>Iso3</th>\n      <th>Continent</th>\n      <th>SubContinent</th>\n    </tr>\n  </thead>\n  <tbody>\n    <tr>\n      <th>52</th>\n      <td>53.0</td>\n      <td>The Gambia</td>\n      <td>NaN</td>\n      <td>NaN</td>\n      <td>NaN</td>\n      <td>NaN</td>\n    </tr>\n    <tr>\n      <th>68</th>\n      <td>69.0</td>\n      <td>Eswatini</td>\n      <td>NaN</td>\n      <td>NaN</td>\n      <td>NaN</td>\n      <td>NaN</td>\n    </tr>\n    <tr>\n      <th>138</th>\n      <td>138.0</td>\n      <td>Palestine</td>\n      <td>NaN</td>\n      <td>NaN</td>\n      <td>NaN</td>\n      <td>NaN</td>\n    </tr>\n    <tr>\n      <th>155</th>\n      <td>155.0</td>\n      <td>Central African\\nRepublic</td>\n      <td>NaN</td>\n      <td>NaN</td>\n      <td>NaN</td>\n      <td>NaN</td>\n    </tr>\n  </tbody>\n</table>\n</div>"
     },
     "execution_count": 307,
     "metadata": {},
     "output_type": "execute_result"
    }
   ],
   "source": [
    "peace=peace.merge(country, how='left', left_on='Country', right_on='Name')\n",
    "peace[peace['Name'].isnull()]"
   ],
   "metadata": {
    "collapsed": false,
    "pycharm": {
     "name": "#%%\n"
    }
   }
  },
  {
   "cell_type": "markdown",
   "source": [
    "#### Check population - country"
   ],
   "metadata": {
    "collapsed": false,
    "pycharm": {
     "name": "#%% md\n"
    }
   }
  },
  {
   "cell_type": "code",
   "execution_count": 308,
   "outputs": [
    {
     "data": {
      "text/plain": "                                               Country Country Code  \\\n1                          Africa Eastern And Southern          AFE   \n3                           Africa Western And Central          AFW   \n7                                           Arab World          ARB   \n36                      Central Europe And The Baltics          CEB   \n49                              Caribbean Small States          CSS   \n61         East Asia & Pacific (Excluding High Income)          EAP   \n62                          Early-Demographic Dividend          EAR   \n63                                 East Asia & Pacific          EAS   \n64       Europe & Central Asia (Excluding High Income)          ECA   \n65                               Europe & Central Asia          ECS   \n68                                           Euro Area          EMU   \n72                                      European Union          EUU   \n73            Fragile And Conflict Affected Situations          FCS   \n83                                           Gibraltar          GIB   \n94                                         High Income          HIC   \n97              Heavily Indebted Poor Countries (Hipc)          HPC   \n101                                          Ibrd Only          IBD   \n102                                   Ida & Ibrd Total          IBT   \n103                                          Ida Total          IDA   \n104                                          Ida Blend          IDB   \n106                                           Ida Only          IDX   \n126  Latin America & Caribbean (Excluding High Income)          LAC   \n132                          Latin America & Caribbean          LCN   \n133       Least Developed Countries: Un Classification          LDC   \n134                                         Low Income          LIC   \n137                                Lower Middle Income          LMC   \n138                                Low & Middle Income          LMY   \n140                          Late-Demographic Dividend          LTE   \n151                         Middle East & North Africa          MEA   \n154                                      Middle Income          MIC   \n159  Middle East & North Africa (Excluding High Inc...          MNA   \n168                                      North America          NAC   \n177                                              Nauru          NRU   \n179                                       Oecd Members          OED   \n181                                 Other Small States          OSS   \n189                           Pre-Demographic Dividend          PRE   \n191                          Korea, Dem. People'S Rep.          PRK   \n195                        Pacific Island Small States          PSS   \n196                          Post-Demographic Dividend          PST   \n202                                         South Asia          SAS   \n213         Sub-Saharan Africa (Excluding High Income)          SSA   \n215                                 Sub-Saharan Africa          SSF   \n216                                       Small States          SST   \n222                                           Eswatini          SWZ   \n228         East Asia & Pacific (Ida & Ibrd Countries)          TEA   \n229       Europe & Central Asia (Ida & Ibrd Countries)          TEC   \n234  Latin America & The Caribbean (Ida & Ibrd Coun...          TLA   \n236  Middle East & North Africa (Ida & Ibrd Countries)          TMN   \n238                            South Asia (Ida & Ibrd)          TSA   \n239          Sub-Saharan Africa (Ida & Ibrd Countries)          TSS   \n247                                Upper Middle Income          UMC   \n253                             British Virgin Islands          VGB   \n257                                              World          WLD   \n\n         Pop_2021 Name Iso3 Continent SubContinent  \n1    6.946651e+08  NaN  NaN       NaN          NaN  \n3    4.708989e+08  NaN  NaN       NaN          NaN  \n7    4.445178e+08  NaN  NaN       NaN          NaN  \n36   1.016696e+08  NaN  NaN       NaN          NaN  \n49   7.481631e+06  NaN  NaN       NaN          NaN  \n61   2.122086e+09  NaN  NaN       NaN          NaN  \n62   3.373867e+09  NaN  NaN       NaN          NaN  \n63   2.368623e+09  NaN  NaN       NaN          NaN  \n64   4.018289e+08  NaN  NaN       NaN          NaN  \n65   9.237537e+08  NaN  NaN       NaN          NaN  \n68   3.425665e+08  NaN  NaN       NaN          NaN  \n72   4.469467e+08  NaN  NaN       NaN          NaN  \n73   9.829808e+08  NaN  NaN       NaN          NaN  \n83   3.369100e+04  NaN  NaN       NaN          NaN  \n94   1.241374e+09  NaN  NaN       NaN          NaN  \n97   8.455223e+08  NaN  NaN       NaN          NaN  \n101  4.895295e+09  NaN  NaN       NaN          NaN  \n102  6.642614e+09  NaN  NaN       NaN          NaN  \n103  1.747319e+09  NaN  NaN       NaN          NaN  \n104  5.868834e+08  NaN  NaN       NaN          NaN  \n106  1.160435e+09  NaN  NaN       NaN          NaN  \n126  5.962176e+08  NaN  NaN       NaN          NaN  \n132  6.580892e+08  NaN  NaN       NaN          NaN  \n133  1.081505e+09  NaN  NaN       NaN          NaN  \n134  7.019270e+08  NaN  NaN       NaN          NaN  \n137  3.363197e+09  NaN  NaN       NaN          NaN  \n138  6.566552e+09  NaN  NaN       NaN          NaN  \n140  2.322070e+09  NaN  NaN       NaN          NaN  \n151  4.724950e+08  NaN  NaN       NaN          NaN  \n154  5.864625e+09  NaN  NaN       NaN          NaN  \n159  4.030516e+08  NaN  NaN       NaN          NaN  \n168  3.702037e+08  NaN  NaN       NaN          NaN  \n177  1.087300e+04  NaN  NaN       NaN          NaN  \n179  1.375820e+09  NaN  NaN       NaN          NaN  \n181  3.246428e+07  NaN  NaN       NaN          NaN  \n189  9.971582e+08  NaN  NaN       NaN          NaN  \n191  2.588704e+07  NaN  NaN       NaN          NaN  \n195  2.566494e+06  NaN  NaN       NaN          NaN  \n196  1.116655e+09  NaN  NaN       NaN          NaN  \n202  1.877902e+09  NaN  NaN       NaN          NaN  \n213  1.165465e+09  NaN  NaN       NaN          NaN  \n215  1.165564e+09  NaN  NaN       NaN          NaN  \n216  4.251241e+07  NaN  NaN       NaN          NaN  \n222  1.172369e+06  NaN  NaN       NaN          NaN  \n228  2.096155e+09  NaN  NaN       NaN          NaN  \n229  4.626241e+08  NaN  NaN       NaN          NaN  \n234  6.422398e+08  NaN  NaN       NaN          NaN  \n236  3.981289e+08  NaN  NaN       NaN          NaN  \n238  1.877902e+09  NaN  NaN       NaN          NaN  \n239  1.165564e+09  NaN  NaN       NaN          NaN  \n247  2.501428e+09  NaN  NaN       NaN          NaN  \n253  3.042300e+04  NaN  NaN       NaN          NaN  \n257  7.836631e+09  NaN  NaN       NaN          NaN  ",
      "text/html": "<div>\n<style scoped>\n    .dataframe tbody tr th:only-of-type {\n        vertical-align: middle;\n    }\n\n    .dataframe tbody tr th {\n        vertical-align: top;\n    }\n\n    .dataframe thead th {\n        text-align: right;\n    }\n</style>\n<table border=\"1\" class=\"dataframe\">\n  <thead>\n    <tr style=\"text-align: right;\">\n      <th></th>\n      <th>Country</th>\n      <th>Country Code</th>\n      <th>Pop_2021</th>\n      <th>Name</th>\n      <th>Iso3</th>\n      <th>Continent</th>\n      <th>SubContinent</th>\n    </tr>\n  </thead>\n  <tbody>\n    <tr>\n      <th>1</th>\n      <td>Africa Eastern And Southern</td>\n      <td>AFE</td>\n      <td>6.946651e+08</td>\n      <td>NaN</td>\n      <td>NaN</td>\n      <td>NaN</td>\n      <td>NaN</td>\n    </tr>\n    <tr>\n      <th>3</th>\n      <td>Africa Western And Central</td>\n      <td>AFW</td>\n      <td>4.708989e+08</td>\n      <td>NaN</td>\n      <td>NaN</td>\n      <td>NaN</td>\n      <td>NaN</td>\n    </tr>\n    <tr>\n      <th>7</th>\n      <td>Arab World</td>\n      <td>ARB</td>\n      <td>4.445178e+08</td>\n      <td>NaN</td>\n      <td>NaN</td>\n      <td>NaN</td>\n      <td>NaN</td>\n    </tr>\n    <tr>\n      <th>36</th>\n      <td>Central Europe And The Baltics</td>\n      <td>CEB</td>\n      <td>1.016696e+08</td>\n      <td>NaN</td>\n      <td>NaN</td>\n      <td>NaN</td>\n      <td>NaN</td>\n    </tr>\n    <tr>\n      <th>49</th>\n      <td>Caribbean Small States</td>\n      <td>CSS</td>\n      <td>7.481631e+06</td>\n      <td>NaN</td>\n      <td>NaN</td>\n      <td>NaN</td>\n      <td>NaN</td>\n    </tr>\n    <tr>\n      <th>61</th>\n      <td>East Asia &amp; Pacific (Excluding High Income)</td>\n      <td>EAP</td>\n      <td>2.122086e+09</td>\n      <td>NaN</td>\n      <td>NaN</td>\n      <td>NaN</td>\n      <td>NaN</td>\n    </tr>\n    <tr>\n      <th>62</th>\n      <td>Early-Demographic Dividend</td>\n      <td>EAR</td>\n      <td>3.373867e+09</td>\n      <td>NaN</td>\n      <td>NaN</td>\n      <td>NaN</td>\n      <td>NaN</td>\n    </tr>\n    <tr>\n      <th>63</th>\n      <td>East Asia &amp; Pacific</td>\n      <td>EAS</td>\n      <td>2.368623e+09</td>\n      <td>NaN</td>\n      <td>NaN</td>\n      <td>NaN</td>\n      <td>NaN</td>\n    </tr>\n    <tr>\n      <th>64</th>\n      <td>Europe &amp; Central Asia (Excluding High Income)</td>\n      <td>ECA</td>\n      <td>4.018289e+08</td>\n      <td>NaN</td>\n      <td>NaN</td>\n      <td>NaN</td>\n      <td>NaN</td>\n    </tr>\n    <tr>\n      <th>65</th>\n      <td>Europe &amp; Central Asia</td>\n      <td>ECS</td>\n      <td>9.237537e+08</td>\n      <td>NaN</td>\n      <td>NaN</td>\n      <td>NaN</td>\n      <td>NaN</td>\n    </tr>\n    <tr>\n      <th>68</th>\n      <td>Euro Area</td>\n      <td>EMU</td>\n      <td>3.425665e+08</td>\n      <td>NaN</td>\n      <td>NaN</td>\n      <td>NaN</td>\n      <td>NaN</td>\n    </tr>\n    <tr>\n      <th>72</th>\n      <td>European Union</td>\n      <td>EUU</td>\n      <td>4.469467e+08</td>\n      <td>NaN</td>\n      <td>NaN</td>\n      <td>NaN</td>\n      <td>NaN</td>\n    </tr>\n    <tr>\n      <th>73</th>\n      <td>Fragile And Conflict Affected Situations</td>\n      <td>FCS</td>\n      <td>9.829808e+08</td>\n      <td>NaN</td>\n      <td>NaN</td>\n      <td>NaN</td>\n      <td>NaN</td>\n    </tr>\n    <tr>\n      <th>83</th>\n      <td>Gibraltar</td>\n      <td>GIB</td>\n      <td>3.369100e+04</td>\n      <td>NaN</td>\n      <td>NaN</td>\n      <td>NaN</td>\n      <td>NaN</td>\n    </tr>\n    <tr>\n      <th>94</th>\n      <td>High Income</td>\n      <td>HIC</td>\n      <td>1.241374e+09</td>\n      <td>NaN</td>\n      <td>NaN</td>\n      <td>NaN</td>\n      <td>NaN</td>\n    </tr>\n    <tr>\n      <th>97</th>\n      <td>Heavily Indebted Poor Countries (Hipc)</td>\n      <td>HPC</td>\n      <td>8.455223e+08</td>\n      <td>NaN</td>\n      <td>NaN</td>\n      <td>NaN</td>\n      <td>NaN</td>\n    </tr>\n    <tr>\n      <th>101</th>\n      <td>Ibrd Only</td>\n      <td>IBD</td>\n      <td>4.895295e+09</td>\n      <td>NaN</td>\n      <td>NaN</td>\n      <td>NaN</td>\n      <td>NaN</td>\n    </tr>\n    <tr>\n      <th>102</th>\n      <td>Ida &amp; Ibrd Total</td>\n      <td>IBT</td>\n      <td>6.642614e+09</td>\n      <td>NaN</td>\n      <td>NaN</td>\n      <td>NaN</td>\n      <td>NaN</td>\n    </tr>\n    <tr>\n      <th>103</th>\n      <td>Ida Total</td>\n      <td>IDA</td>\n      <td>1.747319e+09</td>\n      <td>NaN</td>\n      <td>NaN</td>\n      <td>NaN</td>\n      <td>NaN</td>\n    </tr>\n    <tr>\n      <th>104</th>\n      <td>Ida Blend</td>\n      <td>IDB</td>\n      <td>5.868834e+08</td>\n      <td>NaN</td>\n      <td>NaN</td>\n      <td>NaN</td>\n      <td>NaN</td>\n    </tr>\n    <tr>\n      <th>106</th>\n      <td>Ida Only</td>\n      <td>IDX</td>\n      <td>1.160435e+09</td>\n      <td>NaN</td>\n      <td>NaN</td>\n      <td>NaN</td>\n      <td>NaN</td>\n    </tr>\n    <tr>\n      <th>126</th>\n      <td>Latin America &amp; Caribbean (Excluding High Income)</td>\n      <td>LAC</td>\n      <td>5.962176e+08</td>\n      <td>NaN</td>\n      <td>NaN</td>\n      <td>NaN</td>\n      <td>NaN</td>\n    </tr>\n    <tr>\n      <th>132</th>\n      <td>Latin America &amp; Caribbean</td>\n      <td>LCN</td>\n      <td>6.580892e+08</td>\n      <td>NaN</td>\n      <td>NaN</td>\n      <td>NaN</td>\n      <td>NaN</td>\n    </tr>\n    <tr>\n      <th>133</th>\n      <td>Least Developed Countries: Un Classification</td>\n      <td>LDC</td>\n      <td>1.081505e+09</td>\n      <td>NaN</td>\n      <td>NaN</td>\n      <td>NaN</td>\n      <td>NaN</td>\n    </tr>\n    <tr>\n      <th>134</th>\n      <td>Low Income</td>\n      <td>LIC</td>\n      <td>7.019270e+08</td>\n      <td>NaN</td>\n      <td>NaN</td>\n      <td>NaN</td>\n      <td>NaN</td>\n    </tr>\n    <tr>\n      <th>137</th>\n      <td>Lower Middle Income</td>\n      <td>LMC</td>\n      <td>3.363197e+09</td>\n      <td>NaN</td>\n      <td>NaN</td>\n      <td>NaN</td>\n      <td>NaN</td>\n    </tr>\n    <tr>\n      <th>138</th>\n      <td>Low &amp; Middle Income</td>\n      <td>LMY</td>\n      <td>6.566552e+09</td>\n      <td>NaN</td>\n      <td>NaN</td>\n      <td>NaN</td>\n      <td>NaN</td>\n    </tr>\n    <tr>\n      <th>140</th>\n      <td>Late-Demographic Dividend</td>\n      <td>LTE</td>\n      <td>2.322070e+09</td>\n      <td>NaN</td>\n      <td>NaN</td>\n      <td>NaN</td>\n      <td>NaN</td>\n    </tr>\n    <tr>\n      <th>151</th>\n      <td>Middle East &amp; North Africa</td>\n      <td>MEA</td>\n      <td>4.724950e+08</td>\n      <td>NaN</td>\n      <td>NaN</td>\n      <td>NaN</td>\n      <td>NaN</td>\n    </tr>\n    <tr>\n      <th>154</th>\n      <td>Middle Income</td>\n      <td>MIC</td>\n      <td>5.864625e+09</td>\n      <td>NaN</td>\n      <td>NaN</td>\n      <td>NaN</td>\n      <td>NaN</td>\n    </tr>\n    <tr>\n      <th>159</th>\n      <td>Middle East &amp; North Africa (Excluding High Inc...</td>\n      <td>MNA</td>\n      <td>4.030516e+08</td>\n      <td>NaN</td>\n      <td>NaN</td>\n      <td>NaN</td>\n      <td>NaN</td>\n    </tr>\n    <tr>\n      <th>168</th>\n      <td>North America</td>\n      <td>NAC</td>\n      <td>3.702037e+08</td>\n      <td>NaN</td>\n      <td>NaN</td>\n      <td>NaN</td>\n      <td>NaN</td>\n    </tr>\n    <tr>\n      <th>177</th>\n      <td>Nauru</td>\n      <td>NRU</td>\n      <td>1.087300e+04</td>\n      <td>NaN</td>\n      <td>NaN</td>\n      <td>NaN</td>\n      <td>NaN</td>\n    </tr>\n    <tr>\n      <th>179</th>\n      <td>Oecd Members</td>\n      <td>OED</td>\n      <td>1.375820e+09</td>\n      <td>NaN</td>\n      <td>NaN</td>\n      <td>NaN</td>\n      <td>NaN</td>\n    </tr>\n    <tr>\n      <th>181</th>\n      <td>Other Small States</td>\n      <td>OSS</td>\n      <td>3.246428e+07</td>\n      <td>NaN</td>\n      <td>NaN</td>\n      <td>NaN</td>\n      <td>NaN</td>\n    </tr>\n    <tr>\n      <th>189</th>\n      <td>Pre-Demographic Dividend</td>\n      <td>PRE</td>\n      <td>9.971582e+08</td>\n      <td>NaN</td>\n      <td>NaN</td>\n      <td>NaN</td>\n      <td>NaN</td>\n    </tr>\n    <tr>\n      <th>191</th>\n      <td>Korea, Dem. People'S Rep.</td>\n      <td>PRK</td>\n      <td>2.588704e+07</td>\n      <td>NaN</td>\n      <td>NaN</td>\n      <td>NaN</td>\n      <td>NaN</td>\n    </tr>\n    <tr>\n      <th>195</th>\n      <td>Pacific Island Small States</td>\n      <td>PSS</td>\n      <td>2.566494e+06</td>\n      <td>NaN</td>\n      <td>NaN</td>\n      <td>NaN</td>\n      <td>NaN</td>\n    </tr>\n    <tr>\n      <th>196</th>\n      <td>Post-Demographic Dividend</td>\n      <td>PST</td>\n      <td>1.116655e+09</td>\n      <td>NaN</td>\n      <td>NaN</td>\n      <td>NaN</td>\n      <td>NaN</td>\n    </tr>\n    <tr>\n      <th>202</th>\n      <td>South Asia</td>\n      <td>SAS</td>\n      <td>1.877902e+09</td>\n      <td>NaN</td>\n      <td>NaN</td>\n      <td>NaN</td>\n      <td>NaN</td>\n    </tr>\n    <tr>\n      <th>213</th>\n      <td>Sub-Saharan Africa (Excluding High Income)</td>\n      <td>SSA</td>\n      <td>1.165465e+09</td>\n      <td>NaN</td>\n      <td>NaN</td>\n      <td>NaN</td>\n      <td>NaN</td>\n    </tr>\n    <tr>\n      <th>215</th>\n      <td>Sub-Saharan Africa</td>\n      <td>SSF</td>\n      <td>1.165564e+09</td>\n      <td>NaN</td>\n      <td>NaN</td>\n      <td>NaN</td>\n      <td>NaN</td>\n    </tr>\n    <tr>\n      <th>216</th>\n      <td>Small States</td>\n      <td>SST</td>\n      <td>4.251241e+07</td>\n      <td>NaN</td>\n      <td>NaN</td>\n      <td>NaN</td>\n      <td>NaN</td>\n    </tr>\n    <tr>\n      <th>222</th>\n      <td>Eswatini</td>\n      <td>SWZ</td>\n      <td>1.172369e+06</td>\n      <td>NaN</td>\n      <td>NaN</td>\n      <td>NaN</td>\n      <td>NaN</td>\n    </tr>\n    <tr>\n      <th>228</th>\n      <td>East Asia &amp; Pacific (Ida &amp; Ibrd Countries)</td>\n      <td>TEA</td>\n      <td>2.096155e+09</td>\n      <td>NaN</td>\n      <td>NaN</td>\n      <td>NaN</td>\n      <td>NaN</td>\n    </tr>\n    <tr>\n      <th>229</th>\n      <td>Europe &amp; Central Asia (Ida &amp; Ibrd Countries)</td>\n      <td>TEC</td>\n      <td>4.626241e+08</td>\n      <td>NaN</td>\n      <td>NaN</td>\n      <td>NaN</td>\n      <td>NaN</td>\n    </tr>\n    <tr>\n      <th>234</th>\n      <td>Latin America &amp; The Caribbean (Ida &amp; Ibrd Coun...</td>\n      <td>TLA</td>\n      <td>6.422398e+08</td>\n      <td>NaN</td>\n      <td>NaN</td>\n      <td>NaN</td>\n      <td>NaN</td>\n    </tr>\n    <tr>\n      <th>236</th>\n      <td>Middle East &amp; North Africa (Ida &amp; Ibrd Countries)</td>\n      <td>TMN</td>\n      <td>3.981289e+08</td>\n      <td>NaN</td>\n      <td>NaN</td>\n      <td>NaN</td>\n      <td>NaN</td>\n    </tr>\n    <tr>\n      <th>238</th>\n      <td>South Asia (Ida &amp; Ibrd)</td>\n      <td>TSA</td>\n      <td>1.877902e+09</td>\n      <td>NaN</td>\n      <td>NaN</td>\n      <td>NaN</td>\n      <td>NaN</td>\n    </tr>\n    <tr>\n      <th>239</th>\n      <td>Sub-Saharan Africa (Ida &amp; Ibrd Countries)</td>\n      <td>TSS</td>\n      <td>1.165564e+09</td>\n      <td>NaN</td>\n      <td>NaN</td>\n      <td>NaN</td>\n      <td>NaN</td>\n    </tr>\n    <tr>\n      <th>247</th>\n      <td>Upper Middle Income</td>\n      <td>UMC</td>\n      <td>2.501428e+09</td>\n      <td>NaN</td>\n      <td>NaN</td>\n      <td>NaN</td>\n      <td>NaN</td>\n    </tr>\n    <tr>\n      <th>253</th>\n      <td>British Virgin Islands</td>\n      <td>VGB</td>\n      <td>3.042300e+04</td>\n      <td>NaN</td>\n      <td>NaN</td>\n      <td>NaN</td>\n      <td>NaN</td>\n    </tr>\n    <tr>\n      <th>257</th>\n      <td>World</td>\n      <td>WLD</td>\n      <td>7.836631e+09</td>\n      <td>NaN</td>\n      <td>NaN</td>\n      <td>NaN</td>\n      <td>NaN</td>\n    </tr>\n  </tbody>\n</table>\n</div>"
     },
     "execution_count": 308,
     "metadata": {},
     "output_type": "execute_result"
    }
   ],
   "source": [
    "population=population.merge(country, how='left', left_on='Country', right_on='Name')\n",
    "population[population['Name'].isnull()]"
   ],
   "metadata": {
    "collapsed": false,
    "pycharm": {
     "name": "#%%\n"
    }
   }
  },
  {
   "cell_type": "markdown",
   "source": [
    "#### Check Religion - country"
   ],
   "metadata": {
    "collapsed": false,
    "pycharm": {
     "name": "#%% md\n"
    }
   }
  },
  {
   "cell_type": "code",
   "execution_count": 309,
   "outputs": [
    {
     "data": {
      "text/plain": "                              Country             Main Religion Name Iso3  \\\n1                            Anguilla                  Anglican  NaN  NaN   \n15             British Virgin Islands                 Methodist  NaN  NaN   \n24                       Cook Islands                 Christian  NaN  NaN   \n32        Falkland Islands (Malvinas)                 Christian  NaN  NaN   \n38                          Gibraltar            Roman Catholic  NaN  NaN   \n61   Micronesia (Federated States Of)            Roman Catholic  NaN  NaN   \n64                         Montserrat                  Anglican  NaN  NaN   \n71                               Niue             Ekalesia Niue  NaN  NaN   \n72                     Norfolk Island         Church Of England  NaN  NaN   \n86              Saint Helena Ex. Dep.         Church Of England  NaN  NaN   \n99                 State Of Palestine                    Islam   NaN  NaN   \n104                           Tokelau  Christian Congregational  NaN  NaN   \n\n    Continent SubContinent  \n1         NaN          NaN  \n15        NaN          NaN  \n24        NaN          NaN  \n32        NaN          NaN  \n38        NaN          NaN  \n61        NaN          NaN  \n64        NaN          NaN  \n71        NaN          NaN  \n72        NaN          NaN  \n86        NaN          NaN  \n99        NaN          NaN  \n104       NaN          NaN  ",
      "text/html": "<div>\n<style scoped>\n    .dataframe tbody tr th:only-of-type {\n        vertical-align: middle;\n    }\n\n    .dataframe tbody tr th {\n        vertical-align: top;\n    }\n\n    .dataframe thead th {\n        text-align: right;\n    }\n</style>\n<table border=\"1\" class=\"dataframe\">\n  <thead>\n    <tr style=\"text-align: right;\">\n      <th></th>\n      <th>Country</th>\n      <th>Main Religion</th>\n      <th>Name</th>\n      <th>Iso3</th>\n      <th>Continent</th>\n      <th>SubContinent</th>\n    </tr>\n  </thead>\n  <tbody>\n    <tr>\n      <th>1</th>\n      <td>Anguilla</td>\n      <td>Anglican</td>\n      <td>NaN</td>\n      <td>NaN</td>\n      <td>NaN</td>\n      <td>NaN</td>\n    </tr>\n    <tr>\n      <th>15</th>\n      <td>British Virgin Islands</td>\n      <td>Methodist</td>\n      <td>NaN</td>\n      <td>NaN</td>\n      <td>NaN</td>\n      <td>NaN</td>\n    </tr>\n    <tr>\n      <th>24</th>\n      <td>Cook Islands</td>\n      <td>Christian</td>\n      <td>NaN</td>\n      <td>NaN</td>\n      <td>NaN</td>\n      <td>NaN</td>\n    </tr>\n    <tr>\n      <th>32</th>\n      <td>Falkland Islands (Malvinas)</td>\n      <td>Christian</td>\n      <td>NaN</td>\n      <td>NaN</td>\n      <td>NaN</td>\n      <td>NaN</td>\n    </tr>\n    <tr>\n      <th>38</th>\n      <td>Gibraltar</td>\n      <td>Roman Catholic</td>\n      <td>NaN</td>\n      <td>NaN</td>\n      <td>NaN</td>\n      <td>NaN</td>\n    </tr>\n    <tr>\n      <th>61</th>\n      <td>Micronesia (Federated States Of)</td>\n      <td>Roman Catholic</td>\n      <td>NaN</td>\n      <td>NaN</td>\n      <td>NaN</td>\n      <td>NaN</td>\n    </tr>\n    <tr>\n      <th>64</th>\n      <td>Montserrat</td>\n      <td>Anglican</td>\n      <td>NaN</td>\n      <td>NaN</td>\n      <td>NaN</td>\n      <td>NaN</td>\n    </tr>\n    <tr>\n      <th>71</th>\n      <td>Niue</td>\n      <td>Ekalesia Niue</td>\n      <td>NaN</td>\n      <td>NaN</td>\n      <td>NaN</td>\n      <td>NaN</td>\n    </tr>\n    <tr>\n      <th>72</th>\n      <td>Norfolk Island</td>\n      <td>Church Of England</td>\n      <td>NaN</td>\n      <td>NaN</td>\n      <td>NaN</td>\n      <td>NaN</td>\n    </tr>\n    <tr>\n      <th>86</th>\n      <td>Saint Helena Ex. Dep.</td>\n      <td>Church Of England</td>\n      <td>NaN</td>\n      <td>NaN</td>\n      <td>NaN</td>\n      <td>NaN</td>\n    </tr>\n    <tr>\n      <th>99</th>\n      <td>State Of Palestine</td>\n      <td>Islam</td>\n      <td>NaN</td>\n      <td>NaN</td>\n      <td>NaN</td>\n      <td>NaN</td>\n    </tr>\n    <tr>\n      <th>104</th>\n      <td>Tokelau</td>\n      <td>Christian Congregational</td>\n      <td>NaN</td>\n      <td>NaN</td>\n      <td>NaN</td>\n      <td>NaN</td>\n    </tr>\n  </tbody>\n</table>\n</div>"
     },
     "execution_count": 309,
     "metadata": {},
     "output_type": "execute_result"
    }
   ],
   "source": [
    "religion=religion.merge(country, how='left', left_on='Country', right_on='Name')\n",
    "religion[religion['Name'].isnull()]"
   ],
   "metadata": {
    "collapsed": false,
    "pycharm": {
     "name": "#%%\n"
    }
   }
  },
  {
   "cell_type": "markdown",
   "source": [
    "#### Check WEF - country"
   ],
   "metadata": {
    "collapsed": false,
    "pycharm": {
     "name": "#%% md\n"
    }
   }
  },
  {
   "cell_type": "code",
   "execution_count": 310,
   "outputs": [
    {
     "data": {
      "text/plain": "Empty DataFrame\nColumns: [ISO Code, Country, Continent_x, Sub Continent, Income Group, ('Travel & Tourism Development Index ', '2021 Value'), ('Travel & Tourism Development Index ', '2021 Rank'), ('Infrastructure subindex', '2021 Value'), ('Infrastructure subindex', '2021 Rank'), ('Safety and Security pillar', '2021 Value'), ('Safety and Security pillar', '2021 Rank'), ('Health and Hygiene pillar', '2021 Value'), ('Health and Hygiene pillar', '2021 Rank'), ('International Openness pillar', '2021 Value'), ('International Openness pillar', '2021 Rank'), ('Price competitiveness pillar', '2021 Value'), ('Price competitiveness pillar', '2021 Rank'), ('Natural Resources pillar', '2021 Value'), ('Natural Resources pillar', '2021 Rank'), ('Cultural Resources pillar', '2021 Value'), ('Cultural Resources pillar', '2021 Rank'), ('Environmental Sustainability pillar', '2021 Value'), ('Environmental Sustainability pillar', '2021 Rank'), ('T&T Demand Pressure & Impact pillar', '2021 Value'), ('T&T Demand Pressure & Impact pillar', '2021 Rank'), Name, Iso3, Continent_y, SubContinent]\nIndex: []\n\n[0 rows x 29 columns]",
      "text/html": "<div>\n<style scoped>\n    .dataframe tbody tr th:only-of-type {\n        vertical-align: middle;\n    }\n\n    .dataframe tbody tr th {\n        vertical-align: top;\n    }\n\n    .dataframe thead th {\n        text-align: right;\n    }\n</style>\n<table border=\"1\" class=\"dataframe\">\n  <thead>\n    <tr style=\"text-align: right;\">\n      <th></th>\n      <th>ISO Code</th>\n      <th>Country</th>\n      <th>Continent_x</th>\n      <th>Sub Continent</th>\n      <th>Income Group</th>\n      <th>('Travel &amp; Tourism Development Index ', '2021 Value')</th>\n      <th>('Travel &amp; Tourism Development Index ', '2021 Rank')</th>\n      <th>('Infrastructure subindex', '2021 Value')</th>\n      <th>('Infrastructure subindex', '2021 Rank')</th>\n      <th>('Safety and Security pillar', '2021 Value')</th>\n      <th>...</th>\n      <th>('Cultural Resources pillar', '2021 Value')</th>\n      <th>('Cultural Resources pillar', '2021 Rank')</th>\n      <th>('Environmental Sustainability pillar', '2021 Value')</th>\n      <th>('Environmental Sustainability pillar', '2021 Rank')</th>\n      <th>('T&amp;T Demand Pressure &amp; Impact pillar', '2021 Value')</th>\n      <th>('T&amp;T Demand Pressure &amp; Impact pillar', '2021 Rank')</th>\n      <th>Name</th>\n      <th>Iso3</th>\n      <th>Continent_y</th>\n      <th>SubContinent</th>\n    </tr>\n  </thead>\n  <tbody>\n  </tbody>\n</table>\n<p>0 rows × 29 columns</p>\n</div>"
     },
     "execution_count": 310,
     "metadata": {},
     "output_type": "execute_result"
    }
   ],
   "source": [
    "wef_ttdi=wef_ttdi.merge(country, how='left', left_on='ISO Code', right_on='Iso3')\n",
    "wef_ttdi[wef_ttdi['Name'].isnull()]"
   ],
   "metadata": {
    "collapsed": false,
    "pycharm": {
     "name": "#%%\n"
    }
   }
  },
  {
   "cell_type": "markdown",
   "source": [
    "#### Check Average Restaurant and Accomodation Cost - ISO"
   ],
   "metadata": {
    "collapsed": false,
    "pycharm": {
     "name": "#%% md\n"
    }
   }
  },
  {
   "cell_type": "code",
   "execution_count": 311,
   "outputs": [
    {
     "data": {
      "text/plain": "                              Country Country Code  \\\n4                            Anguilla          AIA   \n28                            Bonaire          BON   \n62                       Cook Islands          COK   \n79          East Asia & Pacific (Icp)          EAB   \n89        Europe & Central Asia (Icp)          ECB   \n151   Latin America & Caribbean (Icp)          LCB   \n177  Middle East & North Africa (Icp)          MEB   \n184                        Montserrat          MSR   \n190                             Nauru          NRU   \n200                              Niue          NIU   \n201               North America (Icp)          NAB   \n247                  South Asia (Icp)          SAB   \n257          Sub-Saharan Africa (Icp)          SSB   \n281                       Timor-Leste          TLS   \n283                           Tokelau          TKL   \n313           Virgin Islands, British          VGB   \n314                 Wallis And Futuna          WLF   \n315                West Bank And Gaza          PSE   \n316                             World          WLD   \n\n     Average Hotel and Restaurant Cost     Type Traveler Name Iso3 Continent  \\\n4                               122.30  Comfort traveler  NaN  NaN       NaN   \n28                              156.57     Luxury Travel  NaN  NaN       NaN   \n62                                 NaN    Non Applicable  NaN  NaN       NaN   \n79                               80.57  Comfort traveler  NaN  NaN       NaN   \n89                              120.78  Comfort traveler  NaN  NaN       NaN   \n151                              78.35  Comfort traveler  NaN  NaN       NaN   \n177                              64.50   Budget Traveler  NaN  NaN       NaN   \n184                              84.58  Comfort traveler  NaN  NaN       NaN   \n190                                NaN    Non Applicable  NaN  NaN       NaN   \n200                                NaN    Non Applicable  NaN  NaN       NaN   \n201                             128.94  Comfort traveler  NaN  NaN       NaN   \n247                              42.21   Budget Traveler  NaN  NaN       NaN   \n257                              46.83   Budget Traveler  NaN  NaN       NaN   \n281                                NaN    Non Applicable  NaN  NaN       NaN   \n283                                NaN    Non Applicable  NaN  NaN       NaN   \n313                             116.88  Comfort traveler  NaN  NaN       NaN   \n314                                NaN    Non Applicable  NaN  NaN       NaN   \n315                              96.53  Comfort traveler  NaN  NaN       NaN   \n316                             100.00  Comfort traveler  NaN  NaN       NaN   \n\n    SubContinent  \n4            NaN  \n28           NaN  \n62           NaN  \n79           NaN  \n89           NaN  \n151          NaN  \n177          NaN  \n184          NaN  \n190          NaN  \n200          NaN  \n201          NaN  \n247          NaN  \n257          NaN  \n281          NaN  \n283          NaN  \n313          NaN  \n314          NaN  \n315          NaN  \n316          NaN  ",
      "text/html": "<div>\n<style scoped>\n    .dataframe tbody tr th:only-of-type {\n        vertical-align: middle;\n    }\n\n    .dataframe tbody tr th {\n        vertical-align: top;\n    }\n\n    .dataframe thead th {\n        text-align: right;\n    }\n</style>\n<table border=\"1\" class=\"dataframe\">\n  <thead>\n    <tr style=\"text-align: right;\">\n      <th></th>\n      <th>Country</th>\n      <th>Country Code</th>\n      <th>Average Hotel and Restaurant Cost</th>\n      <th>Type Traveler</th>\n      <th>Name</th>\n      <th>Iso3</th>\n      <th>Continent</th>\n      <th>SubContinent</th>\n    </tr>\n  </thead>\n  <tbody>\n    <tr>\n      <th>4</th>\n      <td>Anguilla</td>\n      <td>AIA</td>\n      <td>122.30</td>\n      <td>Comfort traveler</td>\n      <td>NaN</td>\n      <td>NaN</td>\n      <td>NaN</td>\n      <td>NaN</td>\n    </tr>\n    <tr>\n      <th>28</th>\n      <td>Bonaire</td>\n      <td>BON</td>\n      <td>156.57</td>\n      <td>Luxury Travel</td>\n      <td>NaN</td>\n      <td>NaN</td>\n      <td>NaN</td>\n      <td>NaN</td>\n    </tr>\n    <tr>\n      <th>62</th>\n      <td>Cook Islands</td>\n      <td>COK</td>\n      <td>NaN</td>\n      <td>Non Applicable</td>\n      <td>NaN</td>\n      <td>NaN</td>\n      <td>NaN</td>\n      <td>NaN</td>\n    </tr>\n    <tr>\n      <th>79</th>\n      <td>East Asia &amp; Pacific (Icp)</td>\n      <td>EAB</td>\n      <td>80.57</td>\n      <td>Comfort traveler</td>\n      <td>NaN</td>\n      <td>NaN</td>\n      <td>NaN</td>\n      <td>NaN</td>\n    </tr>\n    <tr>\n      <th>89</th>\n      <td>Europe &amp; Central Asia (Icp)</td>\n      <td>ECB</td>\n      <td>120.78</td>\n      <td>Comfort traveler</td>\n      <td>NaN</td>\n      <td>NaN</td>\n      <td>NaN</td>\n      <td>NaN</td>\n    </tr>\n    <tr>\n      <th>151</th>\n      <td>Latin America &amp; Caribbean (Icp)</td>\n      <td>LCB</td>\n      <td>78.35</td>\n      <td>Comfort traveler</td>\n      <td>NaN</td>\n      <td>NaN</td>\n      <td>NaN</td>\n      <td>NaN</td>\n    </tr>\n    <tr>\n      <th>177</th>\n      <td>Middle East &amp; North Africa (Icp)</td>\n      <td>MEB</td>\n      <td>64.50</td>\n      <td>Budget Traveler</td>\n      <td>NaN</td>\n      <td>NaN</td>\n      <td>NaN</td>\n      <td>NaN</td>\n    </tr>\n    <tr>\n      <th>184</th>\n      <td>Montserrat</td>\n      <td>MSR</td>\n      <td>84.58</td>\n      <td>Comfort traveler</td>\n      <td>NaN</td>\n      <td>NaN</td>\n      <td>NaN</td>\n      <td>NaN</td>\n    </tr>\n    <tr>\n      <th>190</th>\n      <td>Nauru</td>\n      <td>NRU</td>\n      <td>NaN</td>\n      <td>Non Applicable</td>\n      <td>NaN</td>\n      <td>NaN</td>\n      <td>NaN</td>\n      <td>NaN</td>\n    </tr>\n    <tr>\n      <th>200</th>\n      <td>Niue</td>\n      <td>NIU</td>\n      <td>NaN</td>\n      <td>Non Applicable</td>\n      <td>NaN</td>\n      <td>NaN</td>\n      <td>NaN</td>\n      <td>NaN</td>\n    </tr>\n    <tr>\n      <th>201</th>\n      <td>North America (Icp)</td>\n      <td>NAB</td>\n      <td>128.94</td>\n      <td>Comfort traveler</td>\n      <td>NaN</td>\n      <td>NaN</td>\n      <td>NaN</td>\n      <td>NaN</td>\n    </tr>\n    <tr>\n      <th>247</th>\n      <td>South Asia (Icp)</td>\n      <td>SAB</td>\n      <td>42.21</td>\n      <td>Budget Traveler</td>\n      <td>NaN</td>\n      <td>NaN</td>\n      <td>NaN</td>\n      <td>NaN</td>\n    </tr>\n    <tr>\n      <th>257</th>\n      <td>Sub-Saharan Africa (Icp)</td>\n      <td>SSB</td>\n      <td>46.83</td>\n      <td>Budget Traveler</td>\n      <td>NaN</td>\n      <td>NaN</td>\n      <td>NaN</td>\n      <td>NaN</td>\n    </tr>\n    <tr>\n      <th>281</th>\n      <td>Timor-Leste</td>\n      <td>TLS</td>\n      <td>NaN</td>\n      <td>Non Applicable</td>\n      <td>NaN</td>\n      <td>NaN</td>\n      <td>NaN</td>\n      <td>NaN</td>\n    </tr>\n    <tr>\n      <th>283</th>\n      <td>Tokelau</td>\n      <td>TKL</td>\n      <td>NaN</td>\n      <td>Non Applicable</td>\n      <td>NaN</td>\n      <td>NaN</td>\n      <td>NaN</td>\n      <td>NaN</td>\n    </tr>\n    <tr>\n      <th>313</th>\n      <td>Virgin Islands, British</td>\n      <td>VGB</td>\n      <td>116.88</td>\n      <td>Comfort traveler</td>\n      <td>NaN</td>\n      <td>NaN</td>\n      <td>NaN</td>\n      <td>NaN</td>\n    </tr>\n    <tr>\n      <th>314</th>\n      <td>Wallis And Futuna</td>\n      <td>WLF</td>\n      <td>NaN</td>\n      <td>Non Applicable</td>\n      <td>NaN</td>\n      <td>NaN</td>\n      <td>NaN</td>\n      <td>NaN</td>\n    </tr>\n    <tr>\n      <th>315</th>\n      <td>West Bank And Gaza</td>\n      <td>PSE</td>\n      <td>96.53</td>\n      <td>Comfort traveler</td>\n      <td>NaN</td>\n      <td>NaN</td>\n      <td>NaN</td>\n      <td>NaN</td>\n    </tr>\n    <tr>\n      <th>316</th>\n      <td>World</td>\n      <td>WLD</td>\n      <td>100.00</td>\n      <td>Comfort traveler</td>\n      <td>NaN</td>\n      <td>NaN</td>\n      <td>NaN</td>\n      <td>NaN</td>\n    </tr>\n  </tbody>\n</table>\n</div>"
     },
     "execution_count": 311,
     "metadata": {},
     "output_type": "execute_result"
    }
   ],
   "source": [
    "avg_rest_hot_p = avg_rest_hot_p.merge(country, how='left', left_on='Country Code', right_on='Iso3')\n",
    "avg_rest_hot_p [avg_rest_hot_p ['Name'].isnull()]"
   ],
   "metadata": {
    "collapsed": false,
    "pycharm": {
     "name": "#%%\n"
    }
   }
  },
  {
   "cell_type": "code",
   "execution_count": 311,
   "outputs": [],
   "source": [],
   "metadata": {
    "collapsed": false,
    "pycharm": {
     "name": "#%%\n"
    }
   }
  },
  {
   "cell_type": "markdown",
   "source": [
    "## Export cleaned dataset"
   ],
   "metadata": {
    "collapsed": false,
    "pycharm": {
     "name": "#%% md\n"
    }
   }
  },
  {
   "cell_type": "code",
   "execution_count": 312,
   "outputs": [],
   "source": [
    "country.to_csv('../cleaned_data/country.csv')\n",
    "\n",
    "pop.to_csv('../cleaned_data/population.csv')\n",
    "\n",
    "clim.to_csv('../cleaned_data/climate.csv')\n",
    "\n",
    "curr.to_csv('../cleaned_data/currencies.csv')\n",
    "\n",
    "lang.to_csv('../cleaned_data/language.csv')\n",
    "\n",
    "rel.to_csv('../cleaned_data/religion.csv')\n",
    "\n",
    "peace.to_csv('../cleaned_data/peace_index.csv')\n",
    "\n",
    "wef2.to_csv('../cleaned_data/wef_ttdi.csv')\n",
    "\n",
    "avg_rest_hot_p.to_csv(\"../cleaned_data/avg_rest_hot_p.csv\")"
   ],
   "metadata": {
    "collapsed": false,
    "pycharm": {
     "name": "#%%\n"
    }
   }
  },
  {
   "cell_type": "markdown",
   "source": [
    "## Checking composability\n",
    "Between country dataset and all the other\n",
    "based on either 'Country Name' or 'Country Code'"
   ],
   "metadata": {
    "collapsed": false,
    "pycharm": {
     "name": "#%% md\n"
    }
   }
  },
  {
   "cell_type": "code",
   "execution_count": 313,
   "outputs": [],
   "source": [
    "# get cleaned datasets\n",
    "country = pd.read_csv('../cleaned_data/country.csv', index_col=[0])\n",
    "climate = pd.read_csv('../cleaned_data/climate.csv', index_col=[0])\n",
    "currency = pd.read_csv('../cleaned_data/currencies.csv', index_col=[0])\n",
    "language = pd.read_csv('../cleaned_data/language.csv', encoding='latin-1', index_col=[0])\n",
    "peace = pd.read_csv('../cleaned_data/peace_index.csv', index_col=[0])\n",
    "population = pd.read_csv('../cleaned_data/population.csv', index_col=[0])\n",
    "religion = pd.read_csv('../cleaned_data/Religion.csv', index_col=[0])\n",
    "wef_ttdi = pd.read_csv('../cleaned_data/wef_ttdi.csv', index_col=[0])\n",
    "avg_rest_hot_p = pd.read_csv(\"../cleaned_data/avg_rest_hot_p.csv\", index_col=[0])"
   ],
   "metadata": {
    "collapsed": false,
    "pycharm": {
     "name": "#%%\n"
    }
   }
  },
  {
   "cell_type": "markdown",
   "source": [
    "#### Check climate - country"
   ],
   "metadata": {
    "collapsed": false,
    "pycharm": {
     "name": "#%% md\n"
    }
   }
  },
  {
   "cell_type": "code",
   "execution_count": 314,
   "outputs": [
    {
     "data": {
      "text/plain": "          Country                                            Climate  \\\n0     Afghanistan     Arid To Semiarid; Cold Winters And Hot Summers   \n1        Akrotiri  Temperate; Mediterranean With Hot, Dry Summers...   \n2         Albania  Mild Temperate; Cool, Cloudy, Wet Winters; Hot...   \n3         Algeria  Arid To Semiarid; Mild, Wet Winters With Hot, ...   \n4  American Samoa  Tropical Marine, Moderated By Southeast Trade ...   \n\n  Climate Zone  \n0     Tropical  \n1    Temperate  \n2    Temperate  \n3     Tropical  \n4     Tropical  ",
      "text/html": "<div>\n<style scoped>\n    .dataframe tbody tr th:only-of-type {\n        vertical-align: middle;\n    }\n\n    .dataframe tbody tr th {\n        vertical-align: top;\n    }\n\n    .dataframe thead th {\n        text-align: right;\n    }\n</style>\n<table border=\"1\" class=\"dataframe\">\n  <thead>\n    <tr style=\"text-align: right;\">\n      <th></th>\n      <th>Country</th>\n      <th>Climate</th>\n      <th>Climate Zone</th>\n    </tr>\n  </thead>\n  <tbody>\n    <tr>\n      <th>0</th>\n      <td>Afghanistan</td>\n      <td>Arid To Semiarid; Cold Winters And Hot Summers</td>\n      <td>Tropical</td>\n    </tr>\n    <tr>\n      <th>1</th>\n      <td>Akrotiri</td>\n      <td>Temperate; Mediterranean With Hot, Dry Summers...</td>\n      <td>Temperate</td>\n    </tr>\n    <tr>\n      <th>2</th>\n      <td>Albania</td>\n      <td>Mild Temperate; Cool, Cloudy, Wet Winters; Hot...</td>\n      <td>Temperate</td>\n    </tr>\n    <tr>\n      <th>3</th>\n      <td>Algeria</td>\n      <td>Arid To Semiarid; Mild, Wet Winters With Hot, ...</td>\n      <td>Tropical</td>\n    </tr>\n    <tr>\n      <th>4</th>\n      <td>American Samoa</td>\n      <td>Tropical Marine, Moderated By Southeast Trade ...</td>\n      <td>Tropical</td>\n    </tr>\n  </tbody>\n</table>\n</div>"
     },
     "execution_count": 314,
     "metadata": {},
     "output_type": "execute_result"
    }
   ],
   "source": [
    "climate.head()"
   ],
   "metadata": {
    "collapsed": false,
    "pycharm": {
     "name": "#%%\n"
    }
   }
  },
  {
   "cell_type": "code",
   "execution_count": 315,
   "outputs": [
    {
     "data": {
      "text/plain": "                         Country  \\\n1                       Akrotiri   \n7                       Anguilla   \n8                     Antarctica   \n10                  Arctic Ocean   \n14   Ashmore And Cartier Islands   \n..                           ...   \n270               Virgin Islands   \n271                  Wake Island   \n272            Wallis And Futuna   \n273                    West Bank   \n274               Western Sahara   \n\n                                               Climate Climate Zone Name Iso3  \\\n1    Temperate; Mediterranean With Hot, Dry Summers...    Temperate  NaN  NaN   \n7         Tropical; Moderated By Northeast Trade Winds     Tropical  NaN  NaN   \n8    Severe Low Temperatures Vary With Latitude, El...        Polar  NaN  NaN   \n10   Polar Climate Characterized By Persistent Cold...        Polar  NaN  NaN   \n14                                            Tropical     Tropical  NaN  NaN   \n..                                                 ...          ...  ...  ...   \n270  Subtropical, Tempered By Easterly Trade Winds,...  Subtropical  NaN  NaN   \n271                                           Tropical     Tropical  NaN  NaN   \n272  Tropical; Hot, Rainy Season (November To April...     Tropical  NaN  NaN   \n273  Temperate; Temperature And Precipitation Vary ...    Temperate  NaN  NaN   \n274  Hot, Dry Desert; Rain Is Rare; Cold Offshore A...     Tropical  NaN  NaN   \n\n    Continent SubContinent  \n1         NaN          NaN  \n7         NaN          NaN  \n8         NaN          NaN  \n10        NaN          NaN  \n14        NaN          NaN  \n..        ...          ...  \n270       NaN          NaN  \n271       NaN          NaN  \n272       NaN          NaN  \n273       NaN          NaN  \n274       NaN          NaN  \n\n[73 rows x 7 columns]",
      "text/html": "<div>\n<style scoped>\n    .dataframe tbody tr th:only-of-type {\n        vertical-align: middle;\n    }\n\n    .dataframe tbody tr th {\n        vertical-align: top;\n    }\n\n    .dataframe thead th {\n        text-align: right;\n    }\n</style>\n<table border=\"1\" class=\"dataframe\">\n  <thead>\n    <tr style=\"text-align: right;\">\n      <th></th>\n      <th>Country</th>\n      <th>Climate</th>\n      <th>Climate Zone</th>\n      <th>Name</th>\n      <th>Iso3</th>\n      <th>Continent</th>\n      <th>SubContinent</th>\n    </tr>\n  </thead>\n  <tbody>\n    <tr>\n      <th>1</th>\n      <td>Akrotiri</td>\n      <td>Temperate; Mediterranean With Hot, Dry Summers...</td>\n      <td>Temperate</td>\n      <td>NaN</td>\n      <td>NaN</td>\n      <td>NaN</td>\n      <td>NaN</td>\n    </tr>\n    <tr>\n      <th>7</th>\n      <td>Anguilla</td>\n      <td>Tropical; Moderated By Northeast Trade Winds</td>\n      <td>Tropical</td>\n      <td>NaN</td>\n      <td>NaN</td>\n      <td>NaN</td>\n      <td>NaN</td>\n    </tr>\n    <tr>\n      <th>8</th>\n      <td>Antarctica</td>\n      <td>Severe Low Temperatures Vary With Latitude, El...</td>\n      <td>Polar</td>\n      <td>NaN</td>\n      <td>NaN</td>\n      <td>NaN</td>\n      <td>NaN</td>\n    </tr>\n    <tr>\n      <th>10</th>\n      <td>Arctic Ocean</td>\n      <td>Polar Climate Characterized By Persistent Cold...</td>\n      <td>Polar</td>\n      <td>NaN</td>\n      <td>NaN</td>\n      <td>NaN</td>\n      <td>NaN</td>\n    </tr>\n    <tr>\n      <th>14</th>\n      <td>Ashmore And Cartier Islands</td>\n      <td>Tropical</td>\n      <td>Tropical</td>\n      <td>NaN</td>\n      <td>NaN</td>\n      <td>NaN</td>\n      <td>NaN</td>\n    </tr>\n    <tr>\n      <th>...</th>\n      <td>...</td>\n      <td>...</td>\n      <td>...</td>\n      <td>...</td>\n      <td>...</td>\n      <td>...</td>\n      <td>...</td>\n    </tr>\n    <tr>\n      <th>270</th>\n      <td>Virgin Islands</td>\n      <td>Subtropical, Tempered By Easterly Trade Winds,...</td>\n      <td>Subtropical</td>\n      <td>NaN</td>\n      <td>NaN</td>\n      <td>NaN</td>\n      <td>NaN</td>\n    </tr>\n    <tr>\n      <th>271</th>\n      <td>Wake Island</td>\n      <td>Tropical</td>\n      <td>Tropical</td>\n      <td>NaN</td>\n      <td>NaN</td>\n      <td>NaN</td>\n      <td>NaN</td>\n    </tr>\n    <tr>\n      <th>272</th>\n      <td>Wallis And Futuna</td>\n      <td>Tropical; Hot, Rainy Season (November To April...</td>\n      <td>Tropical</td>\n      <td>NaN</td>\n      <td>NaN</td>\n      <td>NaN</td>\n      <td>NaN</td>\n    </tr>\n    <tr>\n      <th>273</th>\n      <td>West Bank</td>\n      <td>Temperate; Temperature And Precipitation Vary ...</td>\n      <td>Temperate</td>\n      <td>NaN</td>\n      <td>NaN</td>\n      <td>NaN</td>\n      <td>NaN</td>\n    </tr>\n    <tr>\n      <th>274</th>\n      <td>Western Sahara</td>\n      <td>Hot, Dry Desert; Rain Is Rare; Cold Offshore A...</td>\n      <td>Tropical</td>\n      <td>NaN</td>\n      <td>NaN</td>\n      <td>NaN</td>\n      <td>NaN</td>\n    </tr>\n  </tbody>\n</table>\n<p>73 rows × 7 columns</p>\n</div>"
     },
     "execution_count": 315,
     "metadata": {},
     "output_type": "execute_result"
    }
   ],
   "source": [
    "climate = climate.merge(country, how='left', left_on='Country', right_on='Name')\n",
    "climate[climate['Name'].isnull()]"
   ],
   "metadata": {
    "collapsed": false,
    "pycharm": {
     "name": "#%%\n"
    }
   }
  },
  {
   "cell_type": "markdown",
   "source": [
    "The rows that cannot be joined with country dataset do not seem like a proper country, so we are going to ignore it."
   ],
   "metadata": {
    "collapsed": false,
    "pycharm": {
     "name": "#%% md\n"
    }
   }
  },
  {
   "cell_type": "markdown",
   "source": [
    "#### Check Currency - Country"
   ],
   "metadata": {
    "collapsed": false,
    "pycharm": {
     "name": "#%% md\n"
    }
   }
  },
  {
   "cell_type": "code",
   "execution_count": 316,
   "outputs": [
    {
     "data": {
      "text/plain": "                                               Country  \\\n1                                        Åland Islands   \n7                                             Anguilla   \n8                                           Antarctica   \n29                    Bonaire, Sint Eustatius And Saba   \n32                                       Bouvet Island   \n34                      British Indian Ocean Territory   \n49                                    Christmas Island   \n50                               Cocos Keeling Islands   \n54                The Democratic Republic Of The Congo   \n56                                        Cook Islands   \n62                                             Curaçao   \n76                                            Eswatini   \n78                                      European Union   \n79                                    Falkland Islands   \n86                         French Southern Territories   \n92                                           Gibraltar   \n96                                          Guadeloupe   \n99                                            Guernsey   \n105                  Heard Island And Mcdonald Islands   \n106                                           Holy See   \n113                        International Monetary Fund   \n122                                             Jersey   \n151                                         Martinique   \n154                                            Mayotte   \n155  Member Countries Of The African Development Ba...   \n158                                         Micronesia   \n163                                         Montserrat   \n169                                              Nauru   \n177                                               Niue   \n178                                     Norfolk Island   \n184                                Palestine, State Of   \n191                                           Pitcairn   \n196                                            Réunion   \n200                                   Saint Barthélemy   \n201       Saint Helena, Ascension And Tristan Da Cunha   \n204                                       Saint Martin   \n205                          Saint Pierre And Miquelon   \n216                                       Sint Maarten   \n217  Sistema Unitario De Compensacion Regional De P...   \n223       South Georgia And The South Sandwich Islands   \n229                             Svalbard And Jan Mayen   \n237                       Tanzania, United Republic Of   \n241                                            Tokelau   \n253               United States Minor Outlying Islands   \n265                                     Virgin Islands   \n266                                     Virgin Islands   \n267                                  Wallis And Futuna   \n268                                     Western Sahara   \n272              Zz01_Bond Markets Unit European_Eurco   \n273              Zz02_Bond Markets Unit European_Emu-6   \n274              Zz03_Bond Markets Unit European_Eua-9   \n275             Zz04_Bond Markets Unit European_Eua-17   \n276                                  Zz06_Testing_Code   \n277                                   Zz07_No_Currency   \n278                                          Zz08_Gold   \n279                                     Zz09_Palladium   \n280                                      Zz10_Platinum   \n281                                        Zz11_Silver   \n\n                                              Currency   Currency Code Name  \\\n1                                                 Euro             EUR  NaN   \n7                                East Caribbean Dollar             XCD  NaN   \n8                                No Universal Currency  Non Applicable  NaN   \n29                                           Us Dollar             USD  NaN   \n32                                     Norwegian Krone             NOK  NaN   \n34                                           Us Dollar             USD  NaN   \n49                                   Australian Dollar             AUD  NaN   \n50                                   Australian Dollar             AUD  NaN   \n54                                     Congolese Franc             CDF  NaN   \n56                                  New Zealand Dollar             NZD  NaN   \n62                       Netherlands Antillean Guilder             ANG  NaN   \n76                                           Lilangeni             SZL  NaN   \n78                                                Euro             EUR  NaN   \n79                              Falkland Islands Pound             FKP  NaN   \n86                                                Euro             EUR  NaN   \n92                                     Gibraltar Pound             GIP  NaN   \n96                                                Euro             EUR  NaN   \n99                                      Pound Sterling             GBP  NaN   \n105                                  Australian Dollar             AUD  NaN   \n106                                               Euro             EUR  NaN   \n113                        Sdr (Special Drawing Right)             XDR  NaN   \n122                                     Pound Sterling             GBP  NaN   \n151                                               Euro             EUR  NaN   \n154                                               Euro             EUR  NaN   \n155                                Adb Unit Of Account             XUA  NaN   \n158                                          Us Dollar             USD  NaN   \n163                              East Caribbean Dollar             XCD  NaN   \n169                                  Australian Dollar             AUD  NaN   \n177                                 New Zealand Dollar             NZD  NaN   \n178                                  Australian Dollar             AUD  NaN   \n184                              No Universal Currency  Non Applicable  NaN   \n191                                 New Zealand Dollar             NZD  NaN   \n196                                               Euro             EUR  NaN   \n200                                               Euro             EUR  NaN   \n201                                 Saint Helena Pound             SHP  NaN   \n204                                               Euro             EUR  NaN   \n205                                               Euro             EUR  NaN   \n216                      Netherlands Antillean Guilder             ANG  NaN   \n217                                              Sucre             XSU  NaN   \n223                              No Universal Currency  Non Applicable  NaN   \n229                                    Norwegian Krone             NOK  NaN   \n237                                 Tanzanian Shilling             TZS  NaN   \n241                                 New Zealand Dollar             NZD  NaN   \n253                                          Us Dollar             USD  NaN   \n265                                          Us Dollar             USD  NaN   \n266                                          Us Dollar             USD  NaN   \n267                                          Cfp Franc             XPF  NaN   \n268                                    Moroccan Dirham             MAD  NaN   \n272  Bond Markets Unit European Composite Unit (Eurco)             XBA  NaN   \n273  Bond Markets Unit European Monetary Unit (E.M....             XBB  NaN   \n274  Bond Markets Unit European Unit Of Account 9 (...             XBC  NaN   \n275  Bond Markets Unit European Unit Of Account 17 ...             XBD  NaN   \n276   Codes Specifically Reserved For Testing Purposes             XTS  NaN   \n277  The Codes Assigned For Transactions Where No C...             XXX  NaN   \n278                                               Gold             XAU  NaN   \n279                                          Palladium             XPD  NaN   \n280                                           Platinum             XPT  NaN   \n281                                             Silver             XAG  NaN   \n\n    Iso3 Continent SubContinent  \n1    NaN       NaN          NaN  \n7    NaN       NaN          NaN  \n8    NaN       NaN          NaN  \n29   NaN       NaN          NaN  \n32   NaN       NaN          NaN  \n34   NaN       NaN          NaN  \n49   NaN       NaN          NaN  \n50   NaN       NaN          NaN  \n54   NaN       NaN          NaN  \n56   NaN       NaN          NaN  \n62   NaN       NaN          NaN  \n76   NaN       NaN          NaN  \n78   NaN       NaN          NaN  \n79   NaN       NaN          NaN  \n86   NaN       NaN          NaN  \n92   NaN       NaN          NaN  \n96   NaN       NaN          NaN  \n99   NaN       NaN          NaN  \n105  NaN       NaN          NaN  \n106  NaN       NaN          NaN  \n113  NaN       NaN          NaN  \n122  NaN       NaN          NaN  \n151  NaN       NaN          NaN  \n154  NaN       NaN          NaN  \n155  NaN       NaN          NaN  \n158  NaN       NaN          NaN  \n163  NaN       NaN          NaN  \n169  NaN       NaN          NaN  \n177  NaN       NaN          NaN  \n178  NaN       NaN          NaN  \n184  NaN       NaN          NaN  \n191  NaN       NaN          NaN  \n196  NaN       NaN          NaN  \n200  NaN       NaN          NaN  \n201  NaN       NaN          NaN  \n204  NaN       NaN          NaN  \n205  NaN       NaN          NaN  \n216  NaN       NaN          NaN  \n217  NaN       NaN          NaN  \n223  NaN       NaN          NaN  \n229  NaN       NaN          NaN  \n237  NaN       NaN          NaN  \n241  NaN       NaN          NaN  \n253  NaN       NaN          NaN  \n265  NaN       NaN          NaN  \n266  NaN       NaN          NaN  \n267  NaN       NaN          NaN  \n268  NaN       NaN          NaN  \n272  NaN       NaN          NaN  \n273  NaN       NaN          NaN  \n274  NaN       NaN          NaN  \n275  NaN       NaN          NaN  \n276  NaN       NaN          NaN  \n277  NaN       NaN          NaN  \n278  NaN       NaN          NaN  \n279  NaN       NaN          NaN  \n280  NaN       NaN          NaN  \n281  NaN       NaN          NaN  ",
      "text/html": "<div>\n<style scoped>\n    .dataframe tbody tr th:only-of-type {\n        vertical-align: middle;\n    }\n\n    .dataframe tbody tr th {\n        vertical-align: top;\n    }\n\n    .dataframe thead th {\n        text-align: right;\n    }\n</style>\n<table border=\"1\" class=\"dataframe\">\n  <thead>\n    <tr style=\"text-align: right;\">\n      <th></th>\n      <th>Country</th>\n      <th>Currency</th>\n      <th>Currency Code</th>\n      <th>Name</th>\n      <th>Iso3</th>\n      <th>Continent</th>\n      <th>SubContinent</th>\n    </tr>\n  </thead>\n  <tbody>\n    <tr>\n      <th>1</th>\n      <td>Åland Islands</td>\n      <td>Euro</td>\n      <td>EUR</td>\n      <td>NaN</td>\n      <td>NaN</td>\n      <td>NaN</td>\n      <td>NaN</td>\n    </tr>\n    <tr>\n      <th>7</th>\n      <td>Anguilla</td>\n      <td>East Caribbean Dollar</td>\n      <td>XCD</td>\n      <td>NaN</td>\n      <td>NaN</td>\n      <td>NaN</td>\n      <td>NaN</td>\n    </tr>\n    <tr>\n      <th>8</th>\n      <td>Antarctica</td>\n      <td>No Universal Currency</td>\n      <td>Non Applicable</td>\n      <td>NaN</td>\n      <td>NaN</td>\n      <td>NaN</td>\n      <td>NaN</td>\n    </tr>\n    <tr>\n      <th>29</th>\n      <td>Bonaire, Sint Eustatius And Saba</td>\n      <td>Us Dollar</td>\n      <td>USD</td>\n      <td>NaN</td>\n      <td>NaN</td>\n      <td>NaN</td>\n      <td>NaN</td>\n    </tr>\n    <tr>\n      <th>32</th>\n      <td>Bouvet Island</td>\n      <td>Norwegian Krone</td>\n      <td>NOK</td>\n      <td>NaN</td>\n      <td>NaN</td>\n      <td>NaN</td>\n      <td>NaN</td>\n    </tr>\n    <tr>\n      <th>34</th>\n      <td>British Indian Ocean Territory</td>\n      <td>Us Dollar</td>\n      <td>USD</td>\n      <td>NaN</td>\n      <td>NaN</td>\n      <td>NaN</td>\n      <td>NaN</td>\n    </tr>\n    <tr>\n      <th>49</th>\n      <td>Christmas Island</td>\n      <td>Australian Dollar</td>\n      <td>AUD</td>\n      <td>NaN</td>\n      <td>NaN</td>\n      <td>NaN</td>\n      <td>NaN</td>\n    </tr>\n    <tr>\n      <th>50</th>\n      <td>Cocos Keeling Islands</td>\n      <td>Australian Dollar</td>\n      <td>AUD</td>\n      <td>NaN</td>\n      <td>NaN</td>\n      <td>NaN</td>\n      <td>NaN</td>\n    </tr>\n    <tr>\n      <th>54</th>\n      <td>The Democratic Republic Of The Congo</td>\n      <td>Congolese Franc</td>\n      <td>CDF</td>\n      <td>NaN</td>\n      <td>NaN</td>\n      <td>NaN</td>\n      <td>NaN</td>\n    </tr>\n    <tr>\n      <th>56</th>\n      <td>Cook Islands</td>\n      <td>New Zealand Dollar</td>\n      <td>NZD</td>\n      <td>NaN</td>\n      <td>NaN</td>\n      <td>NaN</td>\n      <td>NaN</td>\n    </tr>\n    <tr>\n      <th>62</th>\n      <td>Curaçao</td>\n      <td>Netherlands Antillean Guilder</td>\n      <td>ANG</td>\n      <td>NaN</td>\n      <td>NaN</td>\n      <td>NaN</td>\n      <td>NaN</td>\n    </tr>\n    <tr>\n      <th>76</th>\n      <td>Eswatini</td>\n      <td>Lilangeni</td>\n      <td>SZL</td>\n      <td>NaN</td>\n      <td>NaN</td>\n      <td>NaN</td>\n      <td>NaN</td>\n    </tr>\n    <tr>\n      <th>78</th>\n      <td>European Union</td>\n      <td>Euro</td>\n      <td>EUR</td>\n      <td>NaN</td>\n      <td>NaN</td>\n      <td>NaN</td>\n      <td>NaN</td>\n    </tr>\n    <tr>\n      <th>79</th>\n      <td>Falkland Islands</td>\n      <td>Falkland Islands Pound</td>\n      <td>FKP</td>\n      <td>NaN</td>\n      <td>NaN</td>\n      <td>NaN</td>\n      <td>NaN</td>\n    </tr>\n    <tr>\n      <th>86</th>\n      <td>French Southern Territories</td>\n      <td>Euro</td>\n      <td>EUR</td>\n      <td>NaN</td>\n      <td>NaN</td>\n      <td>NaN</td>\n      <td>NaN</td>\n    </tr>\n    <tr>\n      <th>92</th>\n      <td>Gibraltar</td>\n      <td>Gibraltar Pound</td>\n      <td>GIP</td>\n      <td>NaN</td>\n      <td>NaN</td>\n      <td>NaN</td>\n      <td>NaN</td>\n    </tr>\n    <tr>\n      <th>96</th>\n      <td>Guadeloupe</td>\n      <td>Euro</td>\n      <td>EUR</td>\n      <td>NaN</td>\n      <td>NaN</td>\n      <td>NaN</td>\n      <td>NaN</td>\n    </tr>\n    <tr>\n      <th>99</th>\n      <td>Guernsey</td>\n      <td>Pound Sterling</td>\n      <td>GBP</td>\n      <td>NaN</td>\n      <td>NaN</td>\n      <td>NaN</td>\n      <td>NaN</td>\n    </tr>\n    <tr>\n      <th>105</th>\n      <td>Heard Island And Mcdonald Islands</td>\n      <td>Australian Dollar</td>\n      <td>AUD</td>\n      <td>NaN</td>\n      <td>NaN</td>\n      <td>NaN</td>\n      <td>NaN</td>\n    </tr>\n    <tr>\n      <th>106</th>\n      <td>Holy See</td>\n      <td>Euro</td>\n      <td>EUR</td>\n      <td>NaN</td>\n      <td>NaN</td>\n      <td>NaN</td>\n      <td>NaN</td>\n    </tr>\n    <tr>\n      <th>113</th>\n      <td>International Monetary Fund</td>\n      <td>Sdr (Special Drawing Right)</td>\n      <td>XDR</td>\n      <td>NaN</td>\n      <td>NaN</td>\n      <td>NaN</td>\n      <td>NaN</td>\n    </tr>\n    <tr>\n      <th>122</th>\n      <td>Jersey</td>\n      <td>Pound Sterling</td>\n      <td>GBP</td>\n      <td>NaN</td>\n      <td>NaN</td>\n      <td>NaN</td>\n      <td>NaN</td>\n    </tr>\n    <tr>\n      <th>151</th>\n      <td>Martinique</td>\n      <td>Euro</td>\n      <td>EUR</td>\n      <td>NaN</td>\n      <td>NaN</td>\n      <td>NaN</td>\n      <td>NaN</td>\n    </tr>\n    <tr>\n      <th>154</th>\n      <td>Mayotte</td>\n      <td>Euro</td>\n      <td>EUR</td>\n      <td>NaN</td>\n      <td>NaN</td>\n      <td>NaN</td>\n      <td>NaN</td>\n    </tr>\n    <tr>\n      <th>155</th>\n      <td>Member Countries Of The African Development Ba...</td>\n      <td>Adb Unit Of Account</td>\n      <td>XUA</td>\n      <td>NaN</td>\n      <td>NaN</td>\n      <td>NaN</td>\n      <td>NaN</td>\n    </tr>\n    <tr>\n      <th>158</th>\n      <td>Micronesia</td>\n      <td>Us Dollar</td>\n      <td>USD</td>\n      <td>NaN</td>\n      <td>NaN</td>\n      <td>NaN</td>\n      <td>NaN</td>\n    </tr>\n    <tr>\n      <th>163</th>\n      <td>Montserrat</td>\n      <td>East Caribbean Dollar</td>\n      <td>XCD</td>\n      <td>NaN</td>\n      <td>NaN</td>\n      <td>NaN</td>\n      <td>NaN</td>\n    </tr>\n    <tr>\n      <th>169</th>\n      <td>Nauru</td>\n      <td>Australian Dollar</td>\n      <td>AUD</td>\n      <td>NaN</td>\n      <td>NaN</td>\n      <td>NaN</td>\n      <td>NaN</td>\n    </tr>\n    <tr>\n      <th>177</th>\n      <td>Niue</td>\n      <td>New Zealand Dollar</td>\n      <td>NZD</td>\n      <td>NaN</td>\n      <td>NaN</td>\n      <td>NaN</td>\n      <td>NaN</td>\n    </tr>\n    <tr>\n      <th>178</th>\n      <td>Norfolk Island</td>\n      <td>Australian Dollar</td>\n      <td>AUD</td>\n      <td>NaN</td>\n      <td>NaN</td>\n      <td>NaN</td>\n      <td>NaN</td>\n    </tr>\n    <tr>\n      <th>184</th>\n      <td>Palestine, State Of</td>\n      <td>No Universal Currency</td>\n      <td>Non Applicable</td>\n      <td>NaN</td>\n      <td>NaN</td>\n      <td>NaN</td>\n      <td>NaN</td>\n    </tr>\n    <tr>\n      <th>191</th>\n      <td>Pitcairn</td>\n      <td>New Zealand Dollar</td>\n      <td>NZD</td>\n      <td>NaN</td>\n      <td>NaN</td>\n      <td>NaN</td>\n      <td>NaN</td>\n    </tr>\n    <tr>\n      <th>196</th>\n      <td>Réunion</td>\n      <td>Euro</td>\n      <td>EUR</td>\n      <td>NaN</td>\n      <td>NaN</td>\n      <td>NaN</td>\n      <td>NaN</td>\n    </tr>\n    <tr>\n      <th>200</th>\n      <td>Saint Barthélemy</td>\n      <td>Euro</td>\n      <td>EUR</td>\n      <td>NaN</td>\n      <td>NaN</td>\n      <td>NaN</td>\n      <td>NaN</td>\n    </tr>\n    <tr>\n      <th>201</th>\n      <td>Saint Helena, Ascension And Tristan Da Cunha</td>\n      <td>Saint Helena Pound</td>\n      <td>SHP</td>\n      <td>NaN</td>\n      <td>NaN</td>\n      <td>NaN</td>\n      <td>NaN</td>\n    </tr>\n    <tr>\n      <th>204</th>\n      <td>Saint Martin</td>\n      <td>Euro</td>\n      <td>EUR</td>\n      <td>NaN</td>\n      <td>NaN</td>\n      <td>NaN</td>\n      <td>NaN</td>\n    </tr>\n    <tr>\n      <th>205</th>\n      <td>Saint Pierre And Miquelon</td>\n      <td>Euro</td>\n      <td>EUR</td>\n      <td>NaN</td>\n      <td>NaN</td>\n      <td>NaN</td>\n      <td>NaN</td>\n    </tr>\n    <tr>\n      <th>216</th>\n      <td>Sint Maarten</td>\n      <td>Netherlands Antillean Guilder</td>\n      <td>ANG</td>\n      <td>NaN</td>\n      <td>NaN</td>\n      <td>NaN</td>\n      <td>NaN</td>\n    </tr>\n    <tr>\n      <th>217</th>\n      <td>Sistema Unitario De Compensacion Regional De P...</td>\n      <td>Sucre</td>\n      <td>XSU</td>\n      <td>NaN</td>\n      <td>NaN</td>\n      <td>NaN</td>\n      <td>NaN</td>\n    </tr>\n    <tr>\n      <th>223</th>\n      <td>South Georgia And The South Sandwich Islands</td>\n      <td>No Universal Currency</td>\n      <td>Non Applicable</td>\n      <td>NaN</td>\n      <td>NaN</td>\n      <td>NaN</td>\n      <td>NaN</td>\n    </tr>\n    <tr>\n      <th>229</th>\n      <td>Svalbard And Jan Mayen</td>\n      <td>Norwegian Krone</td>\n      <td>NOK</td>\n      <td>NaN</td>\n      <td>NaN</td>\n      <td>NaN</td>\n      <td>NaN</td>\n    </tr>\n    <tr>\n      <th>237</th>\n      <td>Tanzania, United Republic Of</td>\n      <td>Tanzanian Shilling</td>\n      <td>TZS</td>\n      <td>NaN</td>\n      <td>NaN</td>\n      <td>NaN</td>\n      <td>NaN</td>\n    </tr>\n    <tr>\n      <th>241</th>\n      <td>Tokelau</td>\n      <td>New Zealand Dollar</td>\n      <td>NZD</td>\n      <td>NaN</td>\n      <td>NaN</td>\n      <td>NaN</td>\n      <td>NaN</td>\n    </tr>\n    <tr>\n      <th>253</th>\n      <td>United States Minor Outlying Islands</td>\n      <td>Us Dollar</td>\n      <td>USD</td>\n      <td>NaN</td>\n      <td>NaN</td>\n      <td>NaN</td>\n      <td>NaN</td>\n    </tr>\n    <tr>\n      <th>265</th>\n      <td>Virgin Islands</td>\n      <td>Us Dollar</td>\n      <td>USD</td>\n      <td>NaN</td>\n      <td>NaN</td>\n      <td>NaN</td>\n      <td>NaN</td>\n    </tr>\n    <tr>\n      <th>266</th>\n      <td>Virgin Islands</td>\n      <td>Us Dollar</td>\n      <td>USD</td>\n      <td>NaN</td>\n      <td>NaN</td>\n      <td>NaN</td>\n      <td>NaN</td>\n    </tr>\n    <tr>\n      <th>267</th>\n      <td>Wallis And Futuna</td>\n      <td>Cfp Franc</td>\n      <td>XPF</td>\n      <td>NaN</td>\n      <td>NaN</td>\n      <td>NaN</td>\n      <td>NaN</td>\n    </tr>\n    <tr>\n      <th>268</th>\n      <td>Western Sahara</td>\n      <td>Moroccan Dirham</td>\n      <td>MAD</td>\n      <td>NaN</td>\n      <td>NaN</td>\n      <td>NaN</td>\n      <td>NaN</td>\n    </tr>\n    <tr>\n      <th>272</th>\n      <td>Zz01_Bond Markets Unit European_Eurco</td>\n      <td>Bond Markets Unit European Composite Unit (Eurco)</td>\n      <td>XBA</td>\n      <td>NaN</td>\n      <td>NaN</td>\n      <td>NaN</td>\n      <td>NaN</td>\n    </tr>\n    <tr>\n      <th>273</th>\n      <td>Zz02_Bond Markets Unit European_Emu-6</td>\n      <td>Bond Markets Unit European Monetary Unit (E.M....</td>\n      <td>XBB</td>\n      <td>NaN</td>\n      <td>NaN</td>\n      <td>NaN</td>\n      <td>NaN</td>\n    </tr>\n    <tr>\n      <th>274</th>\n      <td>Zz03_Bond Markets Unit European_Eua-9</td>\n      <td>Bond Markets Unit European Unit Of Account 9 (...</td>\n      <td>XBC</td>\n      <td>NaN</td>\n      <td>NaN</td>\n      <td>NaN</td>\n      <td>NaN</td>\n    </tr>\n    <tr>\n      <th>275</th>\n      <td>Zz04_Bond Markets Unit European_Eua-17</td>\n      <td>Bond Markets Unit European Unit Of Account 17 ...</td>\n      <td>XBD</td>\n      <td>NaN</td>\n      <td>NaN</td>\n      <td>NaN</td>\n      <td>NaN</td>\n    </tr>\n    <tr>\n      <th>276</th>\n      <td>Zz06_Testing_Code</td>\n      <td>Codes Specifically Reserved For Testing Purposes</td>\n      <td>XTS</td>\n      <td>NaN</td>\n      <td>NaN</td>\n      <td>NaN</td>\n      <td>NaN</td>\n    </tr>\n    <tr>\n      <th>277</th>\n      <td>Zz07_No_Currency</td>\n      <td>The Codes Assigned For Transactions Where No C...</td>\n      <td>XXX</td>\n      <td>NaN</td>\n      <td>NaN</td>\n      <td>NaN</td>\n      <td>NaN</td>\n    </tr>\n    <tr>\n      <th>278</th>\n      <td>Zz08_Gold</td>\n      <td>Gold</td>\n      <td>XAU</td>\n      <td>NaN</td>\n      <td>NaN</td>\n      <td>NaN</td>\n      <td>NaN</td>\n    </tr>\n    <tr>\n      <th>279</th>\n      <td>Zz09_Palladium</td>\n      <td>Palladium</td>\n      <td>XPD</td>\n      <td>NaN</td>\n      <td>NaN</td>\n      <td>NaN</td>\n      <td>NaN</td>\n    </tr>\n    <tr>\n      <th>280</th>\n      <td>Zz10_Platinum</td>\n      <td>Platinum</td>\n      <td>XPT</td>\n      <td>NaN</td>\n      <td>NaN</td>\n      <td>NaN</td>\n      <td>NaN</td>\n    </tr>\n    <tr>\n      <th>281</th>\n      <td>Zz11_Silver</td>\n      <td>Silver</td>\n      <td>XAG</td>\n      <td>NaN</td>\n      <td>NaN</td>\n      <td>NaN</td>\n      <td>NaN</td>\n    </tr>\n  </tbody>\n</table>\n</div>"
     },
     "execution_count": 316,
     "metadata": {},
     "output_type": "execute_result"
    }
   ],
   "source": [
    "currency = currency.merge(country, how='left', left_on='Country', right_on='Name')\n",
    "currency[currency['Name'].isnull()]"
   ],
   "metadata": {
    "collapsed": false,
    "pycharm": {
     "name": "#%%\n"
    }
   }
  },
  {
   "cell_type": "markdown",
   "source": [
    "#### Check language - country"
   ],
   "metadata": {
    "collapsed": false,
    "pycharm": {
     "name": "#%% md\n"
    }
   }
  },
  {
   "cell_type": "code",
   "execution_count": 317,
   "outputs": [
    {
     "data": {
      "text/plain": "                             Country  \\\n41              CÃ£ÂÃÂ´Te D'Ivoire   \n50                        East Timor   \n116                       Micronesia   \n125                            Nauru   \n136     Palestinian State (Proposed)   \n153     SÃ£Â£O TomÃ£Â© E PrincÃ£Â­Pe   \n193          Vatican City (Holy See)   \n196  Western Sahara (Proposed State)   \n\n                                     Official Language Name Iso3 Continent  \\\n41   French (Official) And African Languages (Dioul...  NaN  NaN       NaN   \n50   Tetum, Portuguese (Official); Bahasa Indonesia...  NaN  NaN       NaN   \n116  English (Official, Common), Chukese, Pohnpeian...  NaN  NaN       NaN   \n125                        Nauruan (Official), English  NaN  NaN       NaN   \n136                            Arabic, Hebrew, English  NaN  NaN       NaN   \n153                              Portuguese (Official)  NaN  NaN       NaN   \n193    Italian, Latin, French, Various Other Languages  NaN  NaN       NaN   \n196                  Hassaniya Arabic, Moroccan Arabic  NaN  NaN       NaN   \n\n    SubContinent  \n41           NaN  \n50           NaN  \n116          NaN  \n125          NaN  \n136          NaN  \n153          NaN  \n193          NaN  \n196          NaN  ",
      "text/html": "<div>\n<style scoped>\n    .dataframe tbody tr th:only-of-type {\n        vertical-align: middle;\n    }\n\n    .dataframe tbody tr th {\n        vertical-align: top;\n    }\n\n    .dataframe thead th {\n        text-align: right;\n    }\n</style>\n<table border=\"1\" class=\"dataframe\">\n  <thead>\n    <tr style=\"text-align: right;\">\n      <th></th>\n      <th>Country</th>\n      <th>Official Language</th>\n      <th>Name</th>\n      <th>Iso3</th>\n      <th>Continent</th>\n      <th>SubContinent</th>\n    </tr>\n  </thead>\n  <tbody>\n    <tr>\n      <th>41</th>\n      <td>CÃ£ÂÃÂ´Te D'Ivoire</td>\n      <td>French (Official) And African Languages (Dioul...</td>\n      <td>NaN</td>\n      <td>NaN</td>\n      <td>NaN</td>\n      <td>NaN</td>\n    </tr>\n    <tr>\n      <th>50</th>\n      <td>East Timor</td>\n      <td>Tetum, Portuguese (Official); Bahasa Indonesia...</td>\n      <td>NaN</td>\n      <td>NaN</td>\n      <td>NaN</td>\n      <td>NaN</td>\n    </tr>\n    <tr>\n      <th>116</th>\n      <td>Micronesia</td>\n      <td>English (Official, Common), Chukese, Pohnpeian...</td>\n      <td>NaN</td>\n      <td>NaN</td>\n      <td>NaN</td>\n      <td>NaN</td>\n    </tr>\n    <tr>\n      <th>125</th>\n      <td>Nauru</td>\n      <td>Nauruan (Official), English</td>\n      <td>NaN</td>\n      <td>NaN</td>\n      <td>NaN</td>\n      <td>NaN</td>\n    </tr>\n    <tr>\n      <th>136</th>\n      <td>Palestinian State (Proposed)</td>\n      <td>Arabic, Hebrew, English</td>\n      <td>NaN</td>\n      <td>NaN</td>\n      <td>NaN</td>\n      <td>NaN</td>\n    </tr>\n    <tr>\n      <th>153</th>\n      <td>SÃ£Â£O TomÃ£Â© E PrincÃ£Â­Pe</td>\n      <td>Portuguese (Official)</td>\n      <td>NaN</td>\n      <td>NaN</td>\n      <td>NaN</td>\n      <td>NaN</td>\n    </tr>\n    <tr>\n      <th>193</th>\n      <td>Vatican City (Holy See)</td>\n      <td>Italian, Latin, French, Various Other Languages</td>\n      <td>NaN</td>\n      <td>NaN</td>\n      <td>NaN</td>\n      <td>NaN</td>\n    </tr>\n    <tr>\n      <th>196</th>\n      <td>Western Sahara (Proposed State)</td>\n      <td>Hassaniya Arabic, Moroccan Arabic</td>\n      <td>NaN</td>\n      <td>NaN</td>\n      <td>NaN</td>\n      <td>NaN</td>\n    </tr>\n  </tbody>\n</table>\n</div>"
     },
     "execution_count": 317,
     "metadata": {},
     "output_type": "execute_result"
    }
   ],
   "source": [
    "language = language.merge(country, how='left', left_on='Country', right_on='Name')\n",
    "language[language['Name'].isnull()]"
   ],
   "metadata": {
    "collapsed": false,
    "pycharm": {
     "name": "#%%\n"
    }
   }
  },
  {
   "cell_type": "markdown",
   "source": [
    "#### Check peace - country"
   ],
   "metadata": {
    "collapsed": false,
    "pycharm": {
     "name": "#%% md\n"
    }
   }
  },
  {
   "cell_type": "code",
   "execution_count": 318,
   "outputs": [
    {
     "ename": "KeyError",
     "evalue": "'Name'",
     "output_type": "error",
     "traceback": [
      "\u001B[0;31m---------------------------------------------------------------------------\u001B[0m",
      "\u001B[0;31mKeyError\u001B[0m                                  Traceback (most recent call last)",
      "File \u001B[0;32m~/.venv/FinalExam_DS/lib/python3.9/site-packages/pandas/core/indexes/base.py:3803\u001B[0m, in \u001B[0;36mIndex.get_loc\u001B[0;34m(self, key, method, tolerance)\u001B[0m\n\u001B[1;32m   3802\u001B[0m \u001B[38;5;28;01mtry\u001B[39;00m:\n\u001B[0;32m-> 3803\u001B[0m     \u001B[38;5;28;01mreturn\u001B[39;00m \u001B[38;5;28;43mself\u001B[39;49m\u001B[38;5;241;43m.\u001B[39;49m\u001B[43m_engine\u001B[49m\u001B[38;5;241;43m.\u001B[39;49m\u001B[43mget_loc\u001B[49m\u001B[43m(\u001B[49m\u001B[43mcasted_key\u001B[49m\u001B[43m)\u001B[49m\n\u001B[1;32m   3804\u001B[0m \u001B[38;5;28;01mexcept\u001B[39;00m \u001B[38;5;167;01mKeyError\u001B[39;00m \u001B[38;5;28;01mas\u001B[39;00m err:\n",
      "File \u001B[0;32m~/.venv/FinalExam_DS/lib/python3.9/site-packages/pandas/_libs/index.pyx:138\u001B[0m, in \u001B[0;36mpandas._libs.index.IndexEngine.get_loc\u001B[0;34m()\u001B[0m\n",
      "File \u001B[0;32m~/.venv/FinalExam_DS/lib/python3.9/site-packages/pandas/_libs/index.pyx:165\u001B[0m, in \u001B[0;36mpandas._libs.index.IndexEngine.get_loc\u001B[0;34m()\u001B[0m\n",
      "File \u001B[0;32mpandas/_libs/hashtable_class_helper.pxi:5745\u001B[0m, in \u001B[0;36mpandas._libs.hashtable.PyObjectHashTable.get_item\u001B[0;34m()\u001B[0m\n",
      "File \u001B[0;32mpandas/_libs/hashtable_class_helper.pxi:5753\u001B[0m, in \u001B[0;36mpandas._libs.hashtable.PyObjectHashTable.get_item\u001B[0;34m()\u001B[0m\n",
      "\u001B[0;31mKeyError\u001B[0m: 'Name'",
      "\nThe above exception was the direct cause of the following exception:\n",
      "\u001B[0;31mKeyError\u001B[0m                                  Traceback (most recent call last)",
      "Cell \u001B[0;32mIn [318], line 2\u001B[0m\n\u001B[1;32m      1\u001B[0m peace\u001B[38;5;241m=\u001B[39mpeace\u001B[38;5;241m.\u001B[39mmerge(country, how\u001B[38;5;241m=\u001B[39m\u001B[38;5;124m'\u001B[39m\u001B[38;5;124mleft\u001B[39m\u001B[38;5;124m'\u001B[39m, left_on\u001B[38;5;241m=\u001B[39m\u001B[38;5;124m'\u001B[39m\u001B[38;5;124mCountry\u001B[39m\u001B[38;5;124m'\u001B[39m, right_on\u001B[38;5;241m=\u001B[39m\u001B[38;5;124m'\u001B[39m\u001B[38;5;124mName\u001B[39m\u001B[38;5;124m'\u001B[39m)\n\u001B[0;32m----> 2\u001B[0m peace[\u001B[43mpeace\u001B[49m\u001B[43m[\u001B[49m\u001B[38;5;124;43m'\u001B[39;49m\u001B[38;5;124;43mName\u001B[39;49m\u001B[38;5;124;43m'\u001B[39;49m\u001B[43m]\u001B[49m\u001B[38;5;241m.\u001B[39misnull()]\n",
      "File \u001B[0;32m~/.venv/FinalExam_DS/lib/python3.9/site-packages/pandas/core/frame.py:3805\u001B[0m, in \u001B[0;36mDataFrame.__getitem__\u001B[0;34m(self, key)\u001B[0m\n\u001B[1;32m   3803\u001B[0m \u001B[38;5;28;01mif\u001B[39;00m \u001B[38;5;28mself\u001B[39m\u001B[38;5;241m.\u001B[39mcolumns\u001B[38;5;241m.\u001B[39mnlevels \u001B[38;5;241m>\u001B[39m \u001B[38;5;241m1\u001B[39m:\n\u001B[1;32m   3804\u001B[0m     \u001B[38;5;28;01mreturn\u001B[39;00m \u001B[38;5;28mself\u001B[39m\u001B[38;5;241m.\u001B[39m_getitem_multilevel(key)\n\u001B[0;32m-> 3805\u001B[0m indexer \u001B[38;5;241m=\u001B[39m \u001B[38;5;28;43mself\u001B[39;49m\u001B[38;5;241;43m.\u001B[39;49m\u001B[43mcolumns\u001B[49m\u001B[38;5;241;43m.\u001B[39;49m\u001B[43mget_loc\u001B[49m\u001B[43m(\u001B[49m\u001B[43mkey\u001B[49m\u001B[43m)\u001B[49m\n\u001B[1;32m   3806\u001B[0m \u001B[38;5;28;01mif\u001B[39;00m is_integer(indexer):\n\u001B[1;32m   3807\u001B[0m     indexer \u001B[38;5;241m=\u001B[39m [indexer]\n",
      "File \u001B[0;32m~/.venv/FinalExam_DS/lib/python3.9/site-packages/pandas/core/indexes/base.py:3805\u001B[0m, in \u001B[0;36mIndex.get_loc\u001B[0;34m(self, key, method, tolerance)\u001B[0m\n\u001B[1;32m   3803\u001B[0m     \u001B[38;5;28;01mreturn\u001B[39;00m \u001B[38;5;28mself\u001B[39m\u001B[38;5;241m.\u001B[39m_engine\u001B[38;5;241m.\u001B[39mget_loc(casted_key)\n\u001B[1;32m   3804\u001B[0m \u001B[38;5;28;01mexcept\u001B[39;00m \u001B[38;5;167;01mKeyError\u001B[39;00m \u001B[38;5;28;01mas\u001B[39;00m err:\n\u001B[0;32m-> 3805\u001B[0m     \u001B[38;5;28;01mraise\u001B[39;00m \u001B[38;5;167;01mKeyError\u001B[39;00m(key) \u001B[38;5;28;01mfrom\u001B[39;00m \u001B[38;5;21;01merr\u001B[39;00m\n\u001B[1;32m   3806\u001B[0m \u001B[38;5;28;01mexcept\u001B[39;00m \u001B[38;5;167;01mTypeError\u001B[39;00m:\n\u001B[1;32m   3807\u001B[0m     \u001B[38;5;66;03m# If we have a listlike key, _check_indexing_error will raise\u001B[39;00m\n\u001B[1;32m   3808\u001B[0m     \u001B[38;5;66;03m#  InvalidIndexError. Otherwise we fall through and re-raise\u001B[39;00m\n\u001B[1;32m   3809\u001B[0m     \u001B[38;5;66;03m#  the TypeError.\u001B[39;00m\n\u001B[1;32m   3810\u001B[0m     \u001B[38;5;28mself\u001B[39m\u001B[38;5;241m.\u001B[39m_check_indexing_error(key)\n",
      "\u001B[0;31mKeyError\u001B[0m: 'Name'"
     ]
    }
   ],
   "source": [
    "peace=peace.merge(country, how='left', left_on='Country', right_on='Name')\n",
    "peace[peace['Name'].isnull()]"
   ],
   "metadata": {
    "collapsed": false,
    "pycharm": {
     "name": "#%%\n"
    }
   }
  },
  {
   "cell_type": "markdown",
   "source": [
    "#### Check population - country"
   ],
   "metadata": {
    "collapsed": false,
    "pycharm": {
     "name": "#%% md\n"
    }
   }
  },
  {
   "cell_type": "code",
   "execution_count": null,
   "outputs": [],
   "source": [
    "population=population.merge(country, how='left', left_on='Country', right_on='Name')\n",
    "population[population['Name'].isnull()]"
   ],
   "metadata": {
    "collapsed": false,
    "pycharm": {
     "name": "#%%\n"
    }
   }
  },
  {
   "cell_type": "markdown",
   "source": [
    "#### Check Religion - country"
   ],
   "metadata": {
    "collapsed": false,
    "pycharm": {
     "name": "#%% md\n"
    }
   }
  },
  {
   "cell_type": "code",
   "execution_count": null,
   "outputs": [],
   "source": [
    "religion=religion.merge(country, how='left', left_on='Country', right_on='Name')\n",
    "religion[religion['Name'].isnull()]"
   ],
   "metadata": {
    "collapsed": false,
    "pycharm": {
     "name": "#%%\n"
    }
   }
  },
  {
   "cell_type": "markdown",
   "source": [
    "#### Check WEF - country"
   ],
   "metadata": {
    "collapsed": false,
    "pycharm": {
     "name": "#%% md\n"
    }
   }
  },
  {
   "cell_type": "code",
   "execution_count": null,
   "outputs": [],
   "source": [
    "wef_ttdi=wef_ttdi.merge(country, how='left', left_on='ISO Code', right_on='Iso3')\n",
    "wef_ttdi[wef_ttdi['Name'].isnull()]"
   ],
   "metadata": {
    "collapsed": false,
    "pycharm": {
     "name": "#%%\n"
    }
   }
  },
  {
   "cell_type": "markdown",
   "source": [
    "#### Check Average Restaurant and Accomodation Cost - ISO"
   ],
   "metadata": {
    "collapsed": false,
    "pycharm": {
     "name": "#%% md\n"
    }
   }
  },
  {
   "cell_type": "code",
   "execution_count": null,
   "outputs": [],
   "source": [
    "avg_rest_hot_p = avg_rest_hot_p.merge(country, how='left', left_on='Country Code', right_on='Iso3')\n",
    "avg_rest_hot_p [avg_rest_hot_p ['Name'].isnull()]"
   ],
   "metadata": {
    "collapsed": false,
    "pycharm": {
     "name": "#%%\n"
    }
   }
  },
  {
   "cell_type": "code",
   "execution_count": null,
   "outputs": [],
   "source": [],
   "metadata": {
    "collapsed": false,
    "pycharm": {
     "name": "#%%\n"
    }
   }
  },
  {
   "cell_type": "code",
   "execution_count": null,
   "id": "c266d362",
   "metadata": {
    "pycharm": {
     "name": "#%%\n"
    }
   },
   "outputs": [],
   "source": []
  },
  {
   "cell_type": "markdown",
   "id": "eeda36f8",
   "metadata": {
    "pycharm": {
     "name": "#%% md\n"
    }
   },
   "source": [
    "## Export cleaned dataset"
   ]
  },
  {
   "cell_type": "code",
   "execution_count": null,
   "id": "40ca6c3b",
   "metadata": {
    "pycharm": {
     "name": "#%%\n"
    }
   },
   "outputs": [],
   "source": [
    "country.to_csv('../cleaned_data/country.csv')\n",
    "\n",
    "pop.to_csv('../cleaned_data/population.csv')\n",
    "\n",
    "clim.to_csv('../cleaned_data/climate.csv')\n",
    "\n",
    "curr.to_csv('../cleaned_data/currencies.csv')\n",
    "\n",
    "lang.to_csv('../cleaned_data/language.csv')\n",
    "\n",
    "rel.to_csv('../cleaned_data/religion.csv')\n",
    "\n",
    "peace.to_csv('../cleaned_data/peace_index.csv')\n",
    "\n",
    "wef2.to_csv('../cleaned_data/wef_ttdi.csv')\n",
    "\n",
    "avg_rest_hot_p.to_csv(\"../cleaned_data/avg_rest_hot_p.csv\")"
   ]
  },
  {
   "cell_type": "markdown",
   "id": "eff7f7dd",
   "metadata": {
    "pycharm": {
     "name": "#%% md\n"
    }
   },
   "source": [
    "## Checking composability\n",
    "Between country dataset and all the other\n",
    "based on either 'Country Name' or 'Country Code'"
   ]
  },
  {
   "cell_type": "code",
   "execution_count": null,
   "id": "1b219e0c",
   "metadata": {
    "pycharm": {
     "name": "#%%\n"
    }
   },
   "outputs": [],
   "source": [
    "# get cleaned datasets\n",
    "country = pd.read_csv('../cleaned_data/country.csv', index_col=[0])\n",
    "climate = pd.read_csv('../cleaned_data/climate.csv', index_col=[0])\n",
    "currency = pd.read_csv('../cleaned_data/currencies.csv', index_col=[0])\n",
    "language = pd.read_csv('../cleaned_data/language.csv', encoding='latin-1', index_col=[0])\n",
    "peace = pd.read_csv('../cleaned_data/peace_index.csv', index_col=[0])\n",
    "population = pd.read_csv('../cleaned_data/population.csv', index_col=[0])\n",
    "religion = pd.read_csv('../cleaned_data/Religion.csv', index_col=[0])\n",
    "wef_ttdi = pd.read_csv('../cleaned_data/wef_ttdi.csv', index_col=[0])\n",
    "avg_rest_hot_p = pd.read_csv(\"../cleaned_data/avg_rest_hot_p.csv\", index_col=[0])"
   ]
  },
  {
   "cell_type": "markdown",
   "id": "dea2111c",
   "metadata": {
    "pycharm": {
     "name": "#%% md\n"
    }
   },
   "source": [
    "#### Check climate - country"
   ]
  },
  {
   "cell_type": "code",
   "execution_count": null,
   "id": "bb3c65e6",
   "metadata": {
    "pycharm": {
     "name": "#%%\n"
    }
   },
   "outputs": [],
   "source": [
    "climate.head()"
   ]
  },
  {
   "cell_type": "code",
   "execution_count": null,
   "id": "efd0eac5",
   "metadata": {
    "pycharm": {
     "name": "#%%\n"
    }
   },
   "outputs": [],
   "source": [
    "climate = climate.merge(country, how='left', left_on='Country', right_on='Name')\n",
    "climate[climate['Name'].isnull()]"
   ]
  },
  {
   "cell_type": "markdown",
   "id": "de97fa56",
   "metadata": {
    "pycharm": {
     "name": "#%% md\n"
    }
   },
   "source": [
    "The rows that cannot be joined with country dataset do not seem like a proper country, so we are going to ignore it."
   ]
  },
  {
   "cell_type": "markdown",
   "id": "d1b68269",
   "metadata": {
    "pycharm": {
     "name": "#%% md\n"
    }
   },
   "source": [
    "#### Check Currency - Country"
   ]
  },
  {
   "cell_type": "code",
   "execution_count": null,
   "id": "894ddfa3",
   "metadata": {
    "pycharm": {
     "name": "#%%\n"
    }
   },
   "outputs": [],
   "source": [
    "currency = currency.merge(country, how='left', left_on='Country', right_on='Name')\n",
    "currency[currency['Name'].isnull()]"
   ]
  },
  {
   "cell_type": "markdown",
   "id": "5a24f921",
   "metadata": {
    "pycharm": {
     "name": "#%% md\n"
    }
   },
   "source": [
    "#### Check language - country"
   ]
  },
  {
   "cell_type": "code",
   "execution_count": null,
   "id": "4a8177a0",
   "metadata": {
    "pycharm": {
     "name": "#%%\n"
    }
   },
   "outputs": [],
   "source": [
    "language = language.merge(country, how='left', left_on='Country', right_on='Name')\n",
    "language[language['Name'].isnull()]"
   ]
  },
  {
   "cell_type": "markdown",
   "id": "da9bbf29",
   "metadata": {
    "pycharm": {
     "name": "#%% md\n"
    }
   },
   "source": [
    "#### Check peace - country"
   ]
  },
  {
   "cell_type": "code",
   "execution_count": null,
   "id": "7efc420e",
   "metadata": {
    "pycharm": {
     "name": "#%%\n"
    }
   },
   "outputs": [],
   "source": [
    "peace=peace.merge(country, how='left', left_on='Country', right_on='Name')\n",
    "peace[peace['Name'].isnull()]"
   ]
  },
  {
   "cell_type": "markdown",
   "id": "b51f73eb",
   "metadata": {
    "pycharm": {
     "name": "#%% md\n"
    }
   },
   "source": [
    "#### Check population - country"
   ]
  },
  {
   "cell_type": "code",
   "execution_count": null,
   "id": "d185fff4",
   "metadata": {
    "pycharm": {
     "name": "#%%\n"
    }
   },
   "outputs": [],
   "source": [
    "population=population.merge(country, how='left', left_on='Country', right_on='Name')\n",
    "population[population['Name'].isnull()]"
   ]
  },
  {
   "cell_type": "markdown",
   "id": "2820cc2a",
   "metadata": {
    "pycharm": {
     "name": "#%% md\n"
    }
   },
   "source": [
    "#### Check Religion - country"
   ]
  },
  {
   "cell_type": "code",
   "execution_count": null,
   "id": "dca1bea0",
   "metadata": {
    "pycharm": {
     "name": "#%%\n"
    }
   },
   "outputs": [],
   "source": [
    "religion=religion.merge(country, how='left', left_on='Country', right_on='Name')\n",
    "religion[religion['Name'].isnull()]"
   ]
  },
  {
   "cell_type": "markdown",
   "id": "f92276ad",
   "metadata": {
    "pycharm": {
     "name": "#%% md\n"
    }
   },
   "source": [
    "#### Check WEF - country"
   ]
  },
  {
   "cell_type": "code",
   "execution_count": null,
   "id": "122d4163",
   "metadata": {
    "pycharm": {
     "name": "#%%\n"
    }
   },
   "outputs": [],
   "source": [
    "wef_ttdi=wef_ttdi.merge(country, how='left', left_on='ISO Code', right_on='Iso3')\n",
    "wef_ttdi[wef_ttdi['Name'].isnull()]"
   ]
  },
  {
   "cell_type": "markdown",
   "id": "1f525579",
   "metadata": {
    "pycharm": {
     "name": "#%% md\n"
    }
   },
   "source": [
    "#### Check Average Restaurant and Accomodation Cost - ISO"
   ]
  },
  {
   "cell_type": "code",
   "execution_count": null,
   "id": "eb5a0661",
   "metadata": {
    "pycharm": {
     "name": "#%%\n"
    }
   },
   "outputs": [],
   "source": [
    "avg_rest_hot_p = avg_rest_hot_p.merge(country, how='left', left_on='Country Code', right_on='Iso3')\n",
    "avg_rest_hot_p [avg_rest_hot_p ['Name'].isnull()]"
   ]
  },
  {
   "cell_type": "code",
   "execution_count": null,
   "id": "bf727b7c",
   "metadata": {
    "pycharm": {
     "name": "#%%\n"
    }
   },
   "outputs": [],
   "source": []
  },
  {
   "cell_type": "code",
   "execution_count": null,
   "id": "e13a1aee",
   "metadata": {
    "pycharm": {
     "name": "#%%\n"
    }
   },
   "outputs": [],
   "source": []
  }
 ],
 "metadata": {
  "kernelspec": {
   "display_name": "Python 3",
   "language": "python",
   "name": "python3"
  },
  "language_info": {
   "codemirror_mode": {
    "name": "ipython",
    "version": 3
   },
   "file_extension": ".py",
   "mimetype": "text/x-python",
   "name": "python",
   "nbconvert_exporter": "python",
   "pygments_lexer": "ipython3",
   "version": "3.8.8"
  }
 },
 "nbformat": 4,
 "nbformat_minor": 5
}