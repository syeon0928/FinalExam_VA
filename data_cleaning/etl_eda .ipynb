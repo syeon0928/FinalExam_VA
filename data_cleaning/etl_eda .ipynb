{
 "cells": [
  {
   "cell_type": "markdown",
   "id": "bb0fa62e",
   "metadata": {
    "pycharm": {
     "name": "#%% md\n"
    }
   },
   "source": [
    "### Import needed packages"
   ]
  },
  {
   "cell_type": "code",
   "execution_count": 1,
   "id": "fde1da8a",
   "metadata": {
    "pycharm": {
     "name": "#%%\n"
    }
   },
   "outputs": [],
   "source": [
    "import pandas as pd\n",
    "import numpy as np\n",
    "import re"
   ]
  },
  {
   "cell_type": "markdown",
   "id": "6a0e260c",
   "metadata": {
    "pycharm": {
     "name": "#%% md\n"
    }
   },
   "source": [
    "### Load all the necessary data"
   ]
  },
  {
   "cell_type": "code",
   "execution_count": 2,
   "id": "9fcf3120",
   "metadata": {
    "pycharm": {
     "name": "#%%\n"
    }
   },
   "outputs": [],
   "source": [
    "#Load the country-ISO code dataset\n",
    "country = pd.read_excel('../original_data/country.xlsx')\n",
    "\n",
    "#Load airport code data and distance data\n",
    "airport_code = pd.read_csv(\"../original_data/airports.csv\")\n",
    "distance = pd.read_csv(\"../original_data/Distance_of_All_Airports.csv\")\n",
    "\n",
    "# Load the population by country dataset\n",
    "pop = pd.read_csv(\"../original_data/Population.csv\")\n",
    "\n",
    "#Load the climate by country dataset\n",
    "clim = pd.read_csv(\"../original_data/Climate.csv\")\n",
    "\n",
    "#Load the currencies by country dataset\n",
    "curr = pd.read_csv(\"../original_data/Currencies.csv\")\n",
    "\n",
    "#Load the spoken languages by country dataset\n",
    "lang = pd.read_csv(\"../original_data/Languages.csv\", encoding='Latin-1')\n",
    "\n",
    "#Load the religion by country dataset\n",
    "rel = pd.read_csv(\"../original_data/Religion.csv\")\n",
    "\n",
    "#Load the peace index dataset\n",
    "peace = pd.read_csv(\"../original_data/Peace_Index.csv\")\n",
    "\n",
    "#Load Wef Travel Index data\n",
    "wef = pd.read_excel('../Original_data/WEF_TTDI.xlsx', header=[0, 1], sheet_name='Index Performance')\n",
    "\n",
    "# Load average restaurant and accomodation cost data\n",
    "avg_rest_hot_p = pd.read_csv(\"../Original_data/Avg_rest_hot_prices.csv\")"
   ]
  },
  {
   "cell_type": "markdown",
   "id": "05e92291",
   "metadata": {
    "pycharm": {
     "name": "#%% md\n"
    }
   },
   "source": [
    "## EDA"
   ]
  },
  {
   "cell_type": "markdown",
   "id": "931a029c",
   "metadata": {
    "pycharm": {
     "name": "#%% md\n"
    }
   },
   "source": [
    "#### Country - ISO Code datset"
   ]
  },
  {
   "cell_type": "code",
   "execution_count": 3,
   "id": "45088348",
   "metadata": {
    "pycharm": {
     "name": "#%%\n"
    }
   },
   "outputs": [
    {
     "data": {
      "text/html": [
       "<div>\n",
       "<style scoped>\n",
       "    .dataframe tbody tr th:only-of-type {\n",
       "        vertical-align: middle;\n",
       "    }\n",
       "\n",
       "    .dataframe tbody tr th {\n",
       "        vertical-align: top;\n",
       "    }\n",
       "\n",
       "    .dataframe thead th {\n",
       "        text-align: right;\n",
       "    }\n",
       "</style>\n",
       "<table border=\"1\" class=\"dataframe\">\n",
       "  <thead>\n",
       "    <tr style=\"text-align: right;\">\n",
       "      <th></th>\n",
       "      <th>Name</th>\n",
       "      <th>Iso3</th>\n",
       "      <th>Continent</th>\n",
       "      <th>SubContinent</th>\n",
       "    </tr>\n",
       "  </thead>\n",
       "  <tbody>\n",
       "    <tr>\n",
       "      <th>0</th>\n",
       "      <td>Aruba</td>\n",
       "      <td>ABW</td>\n",
       "      <td>Latin America and the Caribbean</td>\n",
       "      <td>Caribbean</td>\n",
       "    </tr>\n",
       "    <tr>\n",
       "      <th>1</th>\n",
       "      <td>Andorra</td>\n",
       "      <td>ADO</td>\n",
       "      <td>Europe</td>\n",
       "      <td>Southern Europe</td>\n",
       "    </tr>\n",
       "    <tr>\n",
       "      <th>2</th>\n",
       "      <td>Afghanistan</td>\n",
       "      <td>AFG</td>\n",
       "      <td>South, East and South-Eastern Asia</td>\n",
       "      <td>Southern Asia</td>\n",
       "    </tr>\n",
       "    <tr>\n",
       "      <th>3</th>\n",
       "      <td>Angola</td>\n",
       "      <td>AGO</td>\n",
       "      <td>Africa</td>\n",
       "      <td>Middle Africa</td>\n",
       "    </tr>\n",
       "    <tr>\n",
       "      <th>4</th>\n",
       "      <td>Albania</td>\n",
       "      <td>ALB</td>\n",
       "      <td>Europe</td>\n",
       "      <td>Southern Europe</td>\n",
       "    </tr>\n",
       "  </tbody>\n",
       "</table>\n",
       "</div>"
      ],
      "text/plain": [
       "          Name Iso3                           Continent     SubContinent\n",
       "0        Aruba  ABW     Latin America and the Caribbean        Caribbean\n",
       "1      Andorra  ADO                              Europe  Southern Europe\n",
       "2  Afghanistan  AFG  South, East and South-Eastern Asia    Southern Asia\n",
       "3       Angola  AGO                              Africa    Middle Africa\n",
       "4      Albania  ALB                              Europe  Southern Europe"
      ]
     },
     "execution_count": 3,
     "metadata": {},
     "output_type": "execute_result"
    }
   ],
   "source": [
    "country.head()"
   ]
  },
  {
   "cell_type": "code",
   "execution_count": 4,
   "id": "fd5160f3",
   "metadata": {
    "pycharm": {
     "name": "#%%\n"
    }
   },
   "outputs": [
    {
     "name": "stdout",
     "output_type": "stream",
     "text": [
      "<class 'pandas.core.frame.DataFrame'>\n",
      "RangeIndex: 329 entries, 0 to 328\n",
      "Data columns (total 4 columns):\n",
      " #   Column        Non-Null Count  Dtype \n",
      "---  ------        --------------  ----- \n",
      " 0   Name          329 non-null    object\n",
      " 1   Iso3          329 non-null    object\n",
      " 2   Continent     329 non-null    object\n",
      " 3   SubContinent  329 non-null    object\n",
      "dtypes: object(4)\n",
      "memory usage: 10.4+ KB\n"
     ]
    }
   ],
   "source": [
    "country.info()"
   ]
  },
  {
   "cell_type": "markdown",
   "id": "7acf1a7d",
   "metadata": {
    "pycharm": {
     "name": "#%% md\n"
    }
   },
   "source": [
    "#### Airport Distance data"
   ]
  },
  {
   "cell_type": "code",
   "execution_count": 5,
   "id": "2a3587e9",
   "metadata": {
    "pycharm": {
     "name": "#%%\n"
    }
   },
   "outputs": [
    {
     "data": {
      "text/html": [
       "<div>\n",
       "<style scoped>\n",
       "    .dataframe tbody tr th:only-of-type {\n",
       "        vertical-align: middle;\n",
       "    }\n",
       "\n",
       "    .dataframe tbody tr th {\n",
       "        vertical-align: top;\n",
       "    }\n",
       "\n",
       "    .dataframe thead th {\n",
       "        text-align: right;\n",
       "    }\n",
       "</style>\n",
       "<table border=\"1\" class=\"dataframe\">\n",
       "  <thead>\n",
       "    <tr style=\"text-align: right;\">\n",
       "      <th></th>\n",
       "      <th>Name</th>\n",
       "      <th>City</th>\n",
       "      <th>Country</th>\n",
       "      <th>IATA</th>\n",
       "      <th>ICAO</th>\n",
       "      <th>Latitude</th>\n",
       "      <th>Longitude</th>\n",
       "    </tr>\n",
       "  </thead>\n",
       "  <tbody>\n",
       "    <tr>\n",
       "      <th>0</th>\n",
       "      <td>Goroka Airport</td>\n",
       "      <td>Goroka</td>\n",
       "      <td>Papua New Guinea</td>\n",
       "      <td>GKA</td>\n",
       "      <td>AYGA</td>\n",
       "      <td>-6.081690</td>\n",
       "      <td>145.391998</td>\n",
       "    </tr>\n",
       "    <tr>\n",
       "      <th>1</th>\n",
       "      <td>Madang Airport</td>\n",
       "      <td>Madang</td>\n",
       "      <td>Papua New Guinea</td>\n",
       "      <td>MAG</td>\n",
       "      <td>AYMD</td>\n",
       "      <td>-5.207080</td>\n",
       "      <td>145.789002</td>\n",
       "    </tr>\n",
       "    <tr>\n",
       "      <th>2</th>\n",
       "      <td>Mount Hagen Kagamuga Airport</td>\n",
       "      <td>Mount Hagen</td>\n",
       "      <td>Papua New Guinea</td>\n",
       "      <td>HGU</td>\n",
       "      <td>AYMH</td>\n",
       "      <td>-5.826790</td>\n",
       "      <td>144.296005</td>\n",
       "    </tr>\n",
       "    <tr>\n",
       "      <th>3</th>\n",
       "      <td>Nadzab Airport</td>\n",
       "      <td>Nadzab</td>\n",
       "      <td>Papua New Guinea</td>\n",
       "      <td>LAE</td>\n",
       "      <td>AYNZ</td>\n",
       "      <td>-6.569803</td>\n",
       "      <td>146.725977</td>\n",
       "    </tr>\n",
       "    <tr>\n",
       "      <th>4</th>\n",
       "      <td>Port Moresby Jacksons International Airport</td>\n",
       "      <td>Port Moresby</td>\n",
       "      <td>Papua New Guinea</td>\n",
       "      <td>POM</td>\n",
       "      <td>AYPY</td>\n",
       "      <td>-9.443380</td>\n",
       "      <td>147.220001</td>\n",
       "    </tr>\n",
       "  </tbody>\n",
       "</table>\n",
       "</div>"
      ],
      "text/plain": [
       "                                          Name          City  \\\n",
       "0                               Goroka Airport        Goroka   \n",
       "1                               Madang Airport        Madang   \n",
       "2                 Mount Hagen Kagamuga Airport   Mount Hagen   \n",
       "3                               Nadzab Airport        Nadzab   \n",
       "4  Port Moresby Jacksons International Airport  Port Moresby   \n",
       "\n",
       "            Country IATA  ICAO  Latitude   Longitude  \n",
       "0  Papua New Guinea  GKA  AYGA -6.081690  145.391998  \n",
       "1  Papua New Guinea  MAG  AYMD -5.207080  145.789002  \n",
       "2  Papua New Guinea  HGU  AYMH -5.826790  144.296005  \n",
       "3  Papua New Guinea  LAE  AYNZ -6.569803  146.725977  \n",
       "4  Papua New Guinea  POM  AYPY -9.443380  147.220001  "
      ]
     },
     "execution_count": 5,
     "metadata": {},
     "output_type": "execute_result"
    }
   ],
   "source": [
    "airport_code.head()"
   ]
  },
  {
   "cell_type": "code",
   "execution_count": 6,
   "id": "750a92eb",
   "metadata": {
    "pycharm": {
     "name": "#%%\n"
    }
   },
   "outputs": [
    {
     "data": {
      "text/html": [
       "<div>\n",
       "<style scoped>\n",
       "    .dataframe tbody tr th:only-of-type {\n",
       "        vertical-align: middle;\n",
       "    }\n",
       "\n",
       "    .dataframe tbody tr th {\n",
       "        vertical-align: top;\n",
       "    }\n",
       "\n",
       "    .dataframe thead th {\n",
       "        text-align: right;\n",
       "    }\n",
       "</style>\n",
       "<table border=\"1\" class=\"dataframe\">\n",
       "  <thead>\n",
       "    <tr style=\"text-align: right;\">\n",
       "      <th></th>\n",
       "      <th>ORIGIN</th>\n",
       "      <th>ORIGIN_AIRPORT_SEQ_ID</th>\n",
       "      <th>DEST</th>\n",
       "      <th>DEST_AIRPORT_SEQ_ID</th>\n",
       "      <th>DISTANCE IN MILES</th>\n",
       "    </tr>\n",
       "  </thead>\n",
       "  <tbody>\n",
       "    <tr>\n",
       "      <th>0</th>\n",
       "      <td>01A</td>\n",
       "      <td>1000101</td>\n",
       "      <td>A43</td>\n",
       "      <td>1005601</td>\n",
       "      <td>30.0</td>\n",
       "    </tr>\n",
       "    <tr>\n",
       "      <th>1</th>\n",
       "      <td>06A</td>\n",
       "      <td>1000601</td>\n",
       "      <td>A30</td>\n",
       "      <td>1004301</td>\n",
       "      <td>16.0</td>\n",
       "    </tr>\n",
       "    <tr>\n",
       "      <th>2</th>\n",
       "      <td>06A</td>\n",
       "      <td>1000601</td>\n",
       "      <td>A43</td>\n",
       "      <td>1005601</td>\n",
       "      <td>18.0</td>\n",
       "    </tr>\n",
       "    <tr>\n",
       "      <th>3</th>\n",
       "      <td>06A</td>\n",
       "      <td>1000601</td>\n",
       "      <td>ADQ</td>\n",
       "      <td>1017004</td>\n",
       "      <td>14.0</td>\n",
       "    </tr>\n",
       "    <tr>\n",
       "      <th>4</th>\n",
       "      <td>06A</td>\n",
       "      <td>1000601</td>\n",
       "      <td>AOS</td>\n",
       "      <td>1032401</td>\n",
       "      <td>40.0</td>\n",
       "    </tr>\n",
       "  </tbody>\n",
       "</table>\n",
       "</div>"
      ],
      "text/plain": [
       "  ORIGIN  ORIGIN_AIRPORT_SEQ_ID DEST  DEST_AIRPORT_SEQ_ID  DISTANCE IN MILES\n",
       "0    01A                1000101  A43              1005601               30.0\n",
       "1    06A                1000601  A30              1004301               16.0\n",
       "2    06A                1000601  A43              1005601               18.0\n",
       "3    06A                1000601  ADQ              1017004               14.0\n",
       "4    06A                1000601  AOS              1032401               40.0"
      ]
     },
     "execution_count": 6,
     "metadata": {},
     "output_type": "execute_result"
    }
   ],
   "source": [
    "distance.head()"
   ]
  },
  {
   "cell_type": "code",
   "execution_count": 7,
   "id": "d3c651a1",
   "metadata": {
    "pycharm": {
     "name": "#%%\n"
    }
   },
   "outputs": [],
   "source": [
    "airport_distance = distance.merge(airport_code, left_on='ORIGIN', right_on='IATA', how='left')"
   ]
  },
  {
   "cell_type": "code",
   "execution_count": 8,
   "id": "c02bd01b",
   "metadata": {
    "pycharm": {
     "name": "#%%\n"
    }
   },
   "outputs": [],
   "source": [
    "airport_distance = airport_distance.merge(airport_code, left_on='DEST', right_on='IATA', how='left', suffixes=['_Origin', '_Dest'])"
   ]
  },
  {
   "cell_type": "code",
   "execution_count": 9,
   "id": "bf0b6cbb",
   "metadata": {
    "pycharm": {
     "name": "#%%\n"
    }
   },
   "outputs": [
    {
     "data": {
      "text/html": [
       "<div>\n",
       "<style scoped>\n",
       "    .dataframe tbody tr th:only-of-type {\n",
       "        vertical-align: middle;\n",
       "    }\n",
       "\n",
       "    .dataframe tbody tr th {\n",
       "        vertical-align: top;\n",
       "    }\n",
       "\n",
       "    .dataframe thead th {\n",
       "        text-align: right;\n",
       "    }\n",
       "</style>\n",
       "<table border=\"1\" class=\"dataframe\">\n",
       "  <thead>\n",
       "    <tr style=\"text-align: right;\">\n",
       "      <th></th>\n",
       "      <th>ORIGIN</th>\n",
       "      <th>ORIGIN_AIRPORT_SEQ_ID</th>\n",
       "      <th>DEST</th>\n",
       "      <th>DEST_AIRPORT_SEQ_ID</th>\n",
       "      <th>DISTANCE IN MILES</th>\n",
       "      <th>Name_Origin</th>\n",
       "      <th>City_Origin</th>\n",
       "      <th>Country_Origin</th>\n",
       "      <th>IATA_Origin</th>\n",
       "      <th>ICAO_Origin</th>\n",
       "      <th>Latitude_Origin</th>\n",
       "      <th>Longitude_Origin</th>\n",
       "      <th>Name_Dest</th>\n",
       "      <th>City_Dest</th>\n",
       "      <th>Country_Dest</th>\n",
       "      <th>IATA_Dest</th>\n",
       "      <th>ICAO_Dest</th>\n",
       "      <th>Latitude_Dest</th>\n",
       "      <th>Longitude_Dest</th>\n",
       "    </tr>\n",
       "  </thead>\n",
       "  <tbody>\n",
       "    <tr>\n",
       "      <th>0</th>\n",
       "      <td>01A</td>\n",
       "      <td>1000101</td>\n",
       "      <td>A43</td>\n",
       "      <td>1005601</td>\n",
       "      <td>30.0</td>\n",
       "      <td>NaN</td>\n",
       "      <td>NaN</td>\n",
       "      <td>NaN</td>\n",
       "      <td>NaN</td>\n",
       "      <td>NaN</td>\n",
       "      <td>NaN</td>\n",
       "      <td>NaN</td>\n",
       "      <td>NaN</td>\n",
       "      <td>NaN</td>\n",
       "      <td>NaN</td>\n",
       "      <td>NaN</td>\n",
       "      <td>NaN</td>\n",
       "      <td>NaN</td>\n",
       "      <td>NaN</td>\n",
       "    </tr>\n",
       "    <tr>\n",
       "      <th>1</th>\n",
       "      <td>06A</td>\n",
       "      <td>1000601</td>\n",
       "      <td>A30</td>\n",
       "      <td>1004301</td>\n",
       "      <td>16.0</td>\n",
       "      <td>NaN</td>\n",
       "      <td>NaN</td>\n",
       "      <td>NaN</td>\n",
       "      <td>NaN</td>\n",
       "      <td>NaN</td>\n",
       "      <td>NaN</td>\n",
       "      <td>NaN</td>\n",
       "      <td>NaN</td>\n",
       "      <td>NaN</td>\n",
       "      <td>NaN</td>\n",
       "      <td>NaN</td>\n",
       "      <td>NaN</td>\n",
       "      <td>NaN</td>\n",
       "      <td>NaN</td>\n",
       "    </tr>\n",
       "    <tr>\n",
       "      <th>2</th>\n",
       "      <td>06A</td>\n",
       "      <td>1000601</td>\n",
       "      <td>A43</td>\n",
       "      <td>1005601</td>\n",
       "      <td>18.0</td>\n",
       "      <td>NaN</td>\n",
       "      <td>NaN</td>\n",
       "      <td>NaN</td>\n",
       "      <td>NaN</td>\n",
       "      <td>NaN</td>\n",
       "      <td>NaN</td>\n",
       "      <td>NaN</td>\n",
       "      <td>NaN</td>\n",
       "      <td>NaN</td>\n",
       "      <td>NaN</td>\n",
       "      <td>NaN</td>\n",
       "      <td>NaN</td>\n",
       "      <td>NaN</td>\n",
       "      <td>NaN</td>\n",
       "    </tr>\n",
       "    <tr>\n",
       "      <th>3</th>\n",
       "      <td>06A</td>\n",
       "      <td>1000601</td>\n",
       "      <td>ADQ</td>\n",
       "      <td>1017004</td>\n",
       "      <td>14.0</td>\n",
       "      <td>NaN</td>\n",
       "      <td>NaN</td>\n",
       "      <td>NaN</td>\n",
       "      <td>NaN</td>\n",
       "      <td>NaN</td>\n",
       "      <td>NaN</td>\n",
       "      <td>NaN</td>\n",
       "      <td>Kodiak Airport</td>\n",
       "      <td>Kodiak</td>\n",
       "      <td>United States</td>\n",
       "      <td>ADQ</td>\n",
       "      <td>PADQ</td>\n",
       "      <td>57.750000</td>\n",
       "      <td>-152.494003</td>\n",
       "    </tr>\n",
       "    <tr>\n",
       "      <th>4</th>\n",
       "      <td>06A</td>\n",
       "      <td>1000601</td>\n",
       "      <td>AOS</td>\n",
       "      <td>1032401</td>\n",
       "      <td>40.0</td>\n",
       "      <td>NaN</td>\n",
       "      <td>NaN</td>\n",
       "      <td>NaN</td>\n",
       "      <td>NaN</td>\n",
       "      <td>NaN</td>\n",
       "      <td>NaN</td>\n",
       "      <td>NaN</td>\n",
       "      <td>NaN</td>\n",
       "      <td>NaN</td>\n",
       "      <td>NaN</td>\n",
       "      <td>NaN</td>\n",
       "      <td>NaN</td>\n",
       "      <td>NaN</td>\n",
       "      <td>NaN</td>\n",
       "    </tr>\n",
       "    <tr>\n",
       "      <th>...</th>\n",
       "      <td>...</td>\n",
       "      <td>...</td>\n",
       "      <td>...</td>\n",
       "      <td>...</td>\n",
       "      <td>...</td>\n",
       "      <td>...</td>\n",
       "      <td>...</td>\n",
       "      <td>...</td>\n",
       "      <td>...</td>\n",
       "      <td>...</td>\n",
       "      <td>...</td>\n",
       "      <td>...</td>\n",
       "      <td>...</td>\n",
       "      <td>...</td>\n",
       "      <td>...</td>\n",
       "      <td>...</td>\n",
       "      <td>...</td>\n",
       "      <td>...</td>\n",
       "      <td>...</td>\n",
       "    </tr>\n",
       "    <tr>\n",
       "      <th>328146</th>\n",
       "      <td>ZXU</td>\n",
       "      <td>1635301</td>\n",
       "      <td>OPF</td>\n",
       "      <td>1389806</td>\n",
       "      <td>1194.0</td>\n",
       "      <td>NaN</td>\n",
       "      <td>NaN</td>\n",
       "      <td>NaN</td>\n",
       "      <td>NaN</td>\n",
       "      <td>NaN</td>\n",
       "      <td>NaN</td>\n",
       "      <td>NaN</td>\n",
       "      <td>Opa-locka Executive Airport</td>\n",
       "      <td>Miami</td>\n",
       "      <td>United States</td>\n",
       "      <td>OPF</td>\n",
       "      <td>KOPF</td>\n",
       "      <td>25.907000</td>\n",
       "      <td>-80.278397</td>\n",
       "    </tr>\n",
       "    <tr>\n",
       "      <th>328147</th>\n",
       "      <td>ZXU</td>\n",
       "      <td>1635301</td>\n",
       "      <td>PHF</td>\n",
       "      <td>1409803</td>\n",
       "      <td>411.0</td>\n",
       "      <td>NaN</td>\n",
       "      <td>NaN</td>\n",
       "      <td>NaN</td>\n",
       "      <td>NaN</td>\n",
       "      <td>NaN</td>\n",
       "      <td>NaN</td>\n",
       "      <td>NaN</td>\n",
       "      <td>Newport News Williamsburg International Airport</td>\n",
       "      <td>Newport News</td>\n",
       "      <td>United States</td>\n",
       "      <td>PHF</td>\n",
       "      <td>KPHF</td>\n",
       "      <td>37.131901</td>\n",
       "      <td>-76.492996</td>\n",
       "    </tr>\n",
       "    <tr>\n",
       "      <th>328148</th>\n",
       "      <td>ZXU</td>\n",
       "      <td>1635301</td>\n",
       "      <td>SCF</td>\n",
       "      <td>1471201</td>\n",
       "      <td>2267.0</td>\n",
       "      <td>NaN</td>\n",
       "      <td>NaN</td>\n",
       "      <td>NaN</td>\n",
       "      <td>NaN</td>\n",
       "      <td>NaN</td>\n",
       "      <td>NaN</td>\n",
       "      <td>NaN</td>\n",
       "      <td>Scottsdale Airport</td>\n",
       "      <td>Scottsdale</td>\n",
       "      <td>United States</td>\n",
       "      <td>SCF</td>\n",
       "      <td>KSDL</td>\n",
       "      <td>33.622898</td>\n",
       "      <td>-111.911003</td>\n",
       "    </tr>\n",
       "    <tr>\n",
       "      <th>328149</th>\n",
       "      <td>ZXU</td>\n",
       "      <td>1635301</td>\n",
       "      <td>TEB</td>\n",
       "      <td>1516702</td>\n",
       "      <td>147.0</td>\n",
       "      <td>NaN</td>\n",
       "      <td>NaN</td>\n",
       "      <td>NaN</td>\n",
       "      <td>NaN</td>\n",
       "      <td>NaN</td>\n",
       "      <td>NaN</td>\n",
       "      <td>NaN</td>\n",
       "      <td>Teterboro Airport</td>\n",
       "      <td>Teterboro</td>\n",
       "      <td>United States</td>\n",
       "      <td>TEB</td>\n",
       "      <td>KTEB</td>\n",
       "      <td>40.850101</td>\n",
       "      <td>-74.060799</td>\n",
       "    </tr>\n",
       "    <tr>\n",
       "      <th>328150</th>\n",
       "      <td>ZZV</td>\n",
       "      <td>1636105</td>\n",
       "      <td>SAT</td>\n",
       "      <td>1468305</td>\n",
       "      <td>1182.0</td>\n",
       "      <td>Zanesville Municipal Airport</td>\n",
       "      <td>Zanesville</td>\n",
       "      <td>United States</td>\n",
       "      <td>ZZV</td>\n",
       "      <td>KZZV</td>\n",
       "      <td>39.944401</td>\n",
       "      <td>-81.892097</td>\n",
       "      <td>San Antonio International Airport</td>\n",
       "      <td>San Antonio</td>\n",
       "      <td>United States</td>\n",
       "      <td>SAT</td>\n",
       "      <td>KSAT</td>\n",
       "      <td>29.533701</td>\n",
       "      <td>-98.469803</td>\n",
       "    </tr>\n",
       "  </tbody>\n",
       "</table>\n",
       "<p>328151 rows × 19 columns</p>\n",
       "</div>"
      ],
      "text/plain": [
       "       ORIGIN  ORIGIN_AIRPORT_SEQ_ID DEST  DEST_AIRPORT_SEQ_ID  \\\n",
       "0         01A                1000101  A43              1005601   \n",
       "1         06A                1000601  A30              1004301   \n",
       "2         06A                1000601  A43              1005601   \n",
       "3         06A                1000601  ADQ              1017004   \n",
       "4         06A                1000601  AOS              1032401   \n",
       "...       ...                    ...  ...                  ...   \n",
       "328146    ZXU                1635301  OPF              1389806   \n",
       "328147    ZXU                1635301  PHF              1409803   \n",
       "328148    ZXU                1635301  SCF              1471201   \n",
       "328149    ZXU                1635301  TEB              1516702   \n",
       "328150    ZZV                1636105  SAT              1468305   \n",
       "\n",
       "        DISTANCE IN MILES                   Name_Origin City_Origin  \\\n",
       "0                    30.0                           NaN         NaN   \n",
       "1                    16.0                           NaN         NaN   \n",
       "2                    18.0                           NaN         NaN   \n",
       "3                    14.0                           NaN         NaN   \n",
       "4                    40.0                           NaN         NaN   \n",
       "...                   ...                           ...         ...   \n",
       "328146             1194.0                           NaN         NaN   \n",
       "328147              411.0                           NaN         NaN   \n",
       "328148             2267.0                           NaN         NaN   \n",
       "328149              147.0                           NaN         NaN   \n",
       "328150             1182.0  Zanesville Municipal Airport  Zanesville   \n",
       "\n",
       "       Country_Origin IATA_Origin ICAO_Origin  Latitude_Origin  \\\n",
       "0                 NaN         NaN         NaN              NaN   \n",
       "1                 NaN         NaN         NaN              NaN   \n",
       "2                 NaN         NaN         NaN              NaN   \n",
       "3                 NaN         NaN         NaN              NaN   \n",
       "4                 NaN         NaN         NaN              NaN   \n",
       "...               ...         ...         ...              ...   \n",
       "328146            NaN         NaN         NaN              NaN   \n",
       "328147            NaN         NaN         NaN              NaN   \n",
       "328148            NaN         NaN         NaN              NaN   \n",
       "328149            NaN         NaN         NaN              NaN   \n",
       "328150  United States         ZZV        KZZV        39.944401   \n",
       "\n",
       "        Longitude_Origin                                        Name_Dest  \\\n",
       "0                    NaN                                              NaN   \n",
       "1                    NaN                                              NaN   \n",
       "2                    NaN                                              NaN   \n",
       "3                    NaN                                   Kodiak Airport   \n",
       "4                    NaN                                              NaN   \n",
       "...                  ...                                              ...   \n",
       "328146               NaN                      Opa-locka Executive Airport   \n",
       "328147               NaN  Newport News Williamsburg International Airport   \n",
       "328148               NaN                               Scottsdale Airport   \n",
       "328149               NaN                                Teterboro Airport   \n",
       "328150        -81.892097                San Antonio International Airport   \n",
       "\n",
       "           City_Dest   Country_Dest IATA_Dest ICAO_Dest  Latitude_Dest  \\\n",
       "0                NaN            NaN       NaN       NaN            NaN   \n",
       "1                NaN            NaN       NaN       NaN            NaN   \n",
       "2                NaN            NaN       NaN       NaN            NaN   \n",
       "3             Kodiak  United States       ADQ      PADQ      57.750000   \n",
       "4                NaN            NaN       NaN       NaN            NaN   \n",
       "...              ...            ...       ...       ...            ...   \n",
       "328146         Miami  United States       OPF      KOPF      25.907000   \n",
       "328147  Newport News  United States       PHF      KPHF      37.131901   \n",
       "328148    Scottsdale  United States       SCF      KSDL      33.622898   \n",
       "328149     Teterboro  United States       TEB      KTEB      40.850101   \n",
       "328150   San Antonio  United States       SAT      KSAT      29.533701   \n",
       "\n",
       "        Longitude_Dest  \n",
       "0                  NaN  \n",
       "1                  NaN  \n",
       "2                  NaN  \n",
       "3          -152.494003  \n",
       "4                  NaN  \n",
       "...                ...  \n",
       "328146      -80.278397  \n",
       "328147      -76.492996  \n",
       "328148     -111.911003  \n",
       "328149      -74.060799  \n",
       "328150      -98.469803  \n",
       "\n",
       "[328151 rows x 19 columns]"
      ]
     },
     "execution_count": 9,
     "metadata": {},
     "output_type": "execute_result"
    }
   ],
   "source": [
    "airport_distance"
   ]
  },
  {
   "cell_type": "code",
   "execution_count": 10,
   "id": "6fca6ef1",
   "metadata": {
    "pycharm": {
     "name": "#%%\n"
    }
   },
   "outputs": [
    {
     "data": {
      "text/plain": [
       "ORIGIN                      0\n",
       "ORIGIN_AIRPORT_SEQ_ID       0\n",
       "DEST                        0\n",
       "DEST_AIRPORT_SEQ_ID         0\n",
       "DISTANCE IN MILES           0\n",
       "Name_Origin              4875\n",
       "City_Origin              4875\n",
       "Country_Origin           4875\n",
       "IATA_Origin              4875\n",
       "ICAO_Origin              4875\n",
       "Latitude_Origin          4875\n",
       "Longitude_Origin         4875\n",
       "Name_Dest                4991\n",
       "City_Dest                4991\n",
       "Country_Dest             4991\n",
       "IATA_Dest                4991\n",
       "ICAO_Dest                4991\n",
       "Latitude_Dest            4991\n",
       "Longitude_Dest           4991\n",
       "dtype: int64"
      ]
     },
     "execution_count": 10,
     "metadata": {},
     "output_type": "execute_result"
    }
   ],
   "source": [
    "airport_distance.isnull().sum()"
   ]
  },
  {
   "cell_type": "code",
   "execution_count": 11,
   "id": "7320bcfb",
   "metadata": {
    "pycharm": {
     "name": "#%%\n"
    }
   },
   "outputs": [
    {
     "data": {
      "text/plain": [
       "(328151, 19)"
      ]
     },
     "execution_count": 11,
     "metadata": {},
     "output_type": "execute_result"
    }
   ],
   "source": [
    "airport_distance.shape"
   ]
  },
  {
   "cell_type": "markdown",
   "id": "43caf66e",
   "metadata": {
    "pycharm": {
     "name": "#%% md\n"
    }
   },
   "source": [
    "#### Population Dataset"
   ]
  },
  {
   "cell_type": "code",
   "execution_count": 12,
   "id": "db5302e1",
   "metadata": {
    "pycharm": {
     "name": "#%%\n"
    }
   },
   "outputs": [
    {
     "data": {
      "text/html": [
       "<div>\n",
       "<style scoped>\n",
       "    .dataframe tbody tr th:only-of-type {\n",
       "        vertical-align: middle;\n",
       "    }\n",
       "\n",
       "    .dataframe tbody tr th {\n",
       "        vertical-align: top;\n",
       "    }\n",
       "\n",
       "    .dataframe thead th {\n",
       "        text-align: right;\n",
       "    }\n",
       "</style>\n",
       "<table border=\"1\" class=\"dataframe\">\n",
       "  <thead>\n",
       "    <tr style=\"text-align: right;\">\n",
       "      <th></th>\n",
       "      <th>Country Name</th>\n",
       "      <th>Country Code</th>\n",
       "      <th>Indicator Name</th>\n",
       "      <th>Indicator Code</th>\n",
       "      <th>1960</th>\n",
       "      <th>1961</th>\n",
       "      <th>1962</th>\n",
       "      <th>1963</th>\n",
       "      <th>1964</th>\n",
       "      <th>1965</th>\n",
       "      <th>...</th>\n",
       "      <th>2012</th>\n",
       "      <th>2013</th>\n",
       "      <th>2014</th>\n",
       "      <th>2015</th>\n",
       "      <th>2016</th>\n",
       "      <th>2017</th>\n",
       "      <th>2018</th>\n",
       "      <th>2019</th>\n",
       "      <th>2020</th>\n",
       "      <th>2021</th>\n",
       "    </tr>\n",
       "  </thead>\n",
       "  <tbody>\n",
       "    <tr>\n",
       "      <th>0</th>\n",
       "      <td>Aruba</td>\n",
       "      <td>ABW</td>\n",
       "      <td>Population, total</td>\n",
       "      <td>SP.POP.TOTL</td>\n",
       "      <td>54208.0</td>\n",
       "      <td>55434.0</td>\n",
       "      <td>56234.0</td>\n",
       "      <td>56699.0</td>\n",
       "      <td>57029.0</td>\n",
       "      <td>57357.0</td>\n",
       "      <td>...</td>\n",
       "      <td>102565.0</td>\n",
       "      <td>103165.0</td>\n",
       "      <td>103776.0</td>\n",
       "      <td>104339.0</td>\n",
       "      <td>104865.0</td>\n",
       "      <td>105361.0</td>\n",
       "      <td>105846.0</td>\n",
       "      <td>106310.0</td>\n",
       "      <td>106766.0</td>\n",
       "      <td>107195.0</td>\n",
       "    </tr>\n",
       "    <tr>\n",
       "      <th>1</th>\n",
       "      <td>Africa Eastern and Southern</td>\n",
       "      <td>AFE</td>\n",
       "      <td>Population, total</td>\n",
       "      <td>SP.POP.TOTL</td>\n",
       "      <td>130836765.0</td>\n",
       "      <td>134159786.0</td>\n",
       "      <td>137614644.0</td>\n",
       "      <td>141202036.0</td>\n",
       "      <td>144920186.0</td>\n",
       "      <td>148769974.0</td>\n",
       "      <td>...</td>\n",
       "      <td>547482863.0</td>\n",
       "      <td>562601578.0</td>\n",
       "      <td>578075373.0</td>\n",
       "      <td>593871847.0</td>\n",
       "      <td>609978946.0</td>\n",
       "      <td>626392880.0</td>\n",
       "      <td>643090131.0</td>\n",
       "      <td>660046272.0</td>\n",
       "      <td>677243299.0</td>\n",
       "      <td>694665117.0</td>\n",
       "    </tr>\n",
       "    <tr>\n",
       "      <th>2</th>\n",
       "      <td>Afghanistan</td>\n",
       "      <td>AFG</td>\n",
       "      <td>Population, total</td>\n",
       "      <td>SP.POP.TOTL</td>\n",
       "      <td>8996967.0</td>\n",
       "      <td>9169406.0</td>\n",
       "      <td>9351442.0</td>\n",
       "      <td>9543200.0</td>\n",
       "      <td>9744772.0</td>\n",
       "      <td>9956318.0</td>\n",
       "      <td>...</td>\n",
       "      <td>31161378.0</td>\n",
       "      <td>32269592.0</td>\n",
       "      <td>33370804.0</td>\n",
       "      <td>34413603.0</td>\n",
       "      <td>35383028.0</td>\n",
       "      <td>36296111.0</td>\n",
       "      <td>37171922.0</td>\n",
       "      <td>38041757.0</td>\n",
       "      <td>38928341.0</td>\n",
       "      <td>39835428.0</td>\n",
       "    </tr>\n",
       "    <tr>\n",
       "      <th>3</th>\n",
       "      <td>Africa Western and Central</td>\n",
       "      <td>AFW</td>\n",
       "      <td>Population, total</td>\n",
       "      <td>SP.POP.TOTL</td>\n",
       "      <td>96396419.0</td>\n",
       "      <td>98407221.0</td>\n",
       "      <td>100506960.0</td>\n",
       "      <td>102691339.0</td>\n",
       "      <td>104953470.0</td>\n",
       "      <td>107289875.0</td>\n",
       "      <td>...</td>\n",
       "      <td>370243017.0</td>\n",
       "      <td>380437896.0</td>\n",
       "      <td>390882979.0</td>\n",
       "      <td>401586651.0</td>\n",
       "      <td>412551299.0</td>\n",
       "      <td>423769930.0</td>\n",
       "      <td>435229381.0</td>\n",
       "      <td>446911598.0</td>\n",
       "      <td>458803476.0</td>\n",
       "      <td>470898870.0</td>\n",
       "    </tr>\n",
       "    <tr>\n",
       "      <th>4</th>\n",
       "      <td>Angola</td>\n",
       "      <td>AGO</td>\n",
       "      <td>Population, total</td>\n",
       "      <td>SP.POP.TOTL</td>\n",
       "      <td>5454938.0</td>\n",
       "      <td>5531451.0</td>\n",
       "      <td>5608499.0</td>\n",
       "      <td>5679409.0</td>\n",
       "      <td>5734995.0</td>\n",
       "      <td>5770573.0</td>\n",
       "      <td>...</td>\n",
       "      <td>25107925.0</td>\n",
       "      <td>26015786.0</td>\n",
       "      <td>26941773.0</td>\n",
       "      <td>27884380.0</td>\n",
       "      <td>28842482.0</td>\n",
       "      <td>29816769.0</td>\n",
       "      <td>30809787.0</td>\n",
       "      <td>31825299.0</td>\n",
       "      <td>32866268.0</td>\n",
       "      <td>33933611.0</td>\n",
       "    </tr>\n",
       "  </tbody>\n",
       "</table>\n",
       "<p>5 rows × 66 columns</p>\n",
       "</div>"
      ],
      "text/plain": [
       "                  Country Name Country Code     Indicator Name Indicator Code  \\\n",
       "0                        Aruba          ABW  Population, total    SP.POP.TOTL   \n",
       "1  Africa Eastern and Southern          AFE  Population, total    SP.POP.TOTL   \n",
       "2                  Afghanistan          AFG  Population, total    SP.POP.TOTL   \n",
       "3   Africa Western and Central          AFW  Population, total    SP.POP.TOTL   \n",
       "4                       Angola          AGO  Population, total    SP.POP.TOTL   \n",
       "\n",
       "          1960         1961         1962         1963         1964  \\\n",
       "0      54208.0      55434.0      56234.0      56699.0      57029.0   \n",
       "1  130836765.0  134159786.0  137614644.0  141202036.0  144920186.0   \n",
       "2    8996967.0    9169406.0    9351442.0    9543200.0    9744772.0   \n",
       "3   96396419.0   98407221.0  100506960.0  102691339.0  104953470.0   \n",
       "4    5454938.0    5531451.0    5608499.0    5679409.0    5734995.0   \n",
       "\n",
       "          1965  ...         2012         2013         2014         2015  \\\n",
       "0      57357.0  ...     102565.0     103165.0     103776.0     104339.0   \n",
       "1  148769974.0  ...  547482863.0  562601578.0  578075373.0  593871847.0   \n",
       "2    9956318.0  ...   31161378.0   32269592.0   33370804.0   34413603.0   \n",
       "3  107289875.0  ...  370243017.0  380437896.0  390882979.0  401586651.0   \n",
       "4    5770573.0  ...   25107925.0   26015786.0   26941773.0   27884380.0   \n",
       "\n",
       "          2016         2017         2018         2019         2020  \\\n",
       "0     104865.0     105361.0     105846.0     106310.0     106766.0   \n",
       "1  609978946.0  626392880.0  643090131.0  660046272.0  677243299.0   \n",
       "2   35383028.0   36296111.0   37171922.0   38041757.0   38928341.0   \n",
       "3  412551299.0  423769930.0  435229381.0  446911598.0  458803476.0   \n",
       "4   28842482.0   29816769.0   30809787.0   31825299.0   32866268.0   \n",
       "\n",
       "          2021  \n",
       "0     107195.0  \n",
       "1  694665117.0  \n",
       "2   39835428.0  \n",
       "3  470898870.0  \n",
       "4   33933611.0  \n",
       "\n",
       "[5 rows x 66 columns]"
      ]
     },
     "execution_count": 12,
     "metadata": {},
     "output_type": "execute_result"
    }
   ],
   "source": [
    "pop.head()"
   ]
  },
  {
   "cell_type": "code",
   "execution_count": 13,
   "id": "e101a7ba",
   "metadata": {
    "pycharm": {
     "name": "#%%\n"
    }
   },
   "outputs": [
    {
     "name": "stdout",
     "output_type": "stream",
     "text": [
      "<class 'pandas.core.frame.DataFrame'>\n",
      "RangeIndex: 266 entries, 0 to 265\n",
      "Data columns (total 66 columns):\n",
      " #   Column          Non-Null Count  Dtype  \n",
      "---  ------          --------------  -----  \n",
      " 0   Country Name    266 non-null    object \n",
      " 1   Country Code    266 non-null    object \n",
      " 2   Indicator Name  266 non-null    object \n",
      " 3   Indicator Code  266 non-null    object \n",
      " 4   1960            264 non-null    float64\n",
      " 5   1961            264 non-null    float64\n",
      " 6   1962            264 non-null    float64\n",
      " 7   1963            264 non-null    float64\n",
      " 8   1964            264 non-null    float64\n",
      " 9   1965            264 non-null    float64\n",
      " 10  1966            264 non-null    float64\n",
      " 11  1967            264 non-null    float64\n",
      " 12  1968            264 non-null    float64\n",
      " 13  1969            264 non-null    float64\n",
      " 14  1970            264 non-null    float64\n",
      " 15  1971            264 non-null    float64\n",
      " 16  1972            264 non-null    float64\n",
      " 17  1973            264 non-null    float64\n",
      " 18  1974            264 non-null    float64\n",
      " 19  1975            264 non-null    float64\n",
      " 20  1976            264 non-null    float64\n",
      " 21  1977            264 non-null    float64\n",
      " 22  1978            264 non-null    float64\n",
      " 23  1979            264 non-null    float64\n",
      " 24  1980            264 non-null    float64\n",
      " 25  1981            264 non-null    float64\n",
      " 26  1982            264 non-null    float64\n",
      " 27  1983            264 non-null    float64\n",
      " 28  1984            264 non-null    float64\n",
      " 29  1985            264 non-null    float64\n",
      " 30  1986            264 non-null    float64\n",
      " 31  1987            264 non-null    float64\n",
      " 32  1988            264 non-null    float64\n",
      " 33  1989            264 non-null    float64\n",
      " 34  1990            265 non-null    float64\n",
      " 35  1991            265 non-null    float64\n",
      " 36  1992            264 non-null    float64\n",
      " 37  1993            264 non-null    float64\n",
      " 38  1994            264 non-null    float64\n",
      " 39  1995            265 non-null    float64\n",
      " 40  1996            265 non-null    float64\n",
      " 41  1997            265 non-null    float64\n",
      " 42  1998            265 non-null    float64\n",
      " 43  1999            265 non-null    float64\n",
      " 44  2000            265 non-null    float64\n",
      " 45  2001            265 non-null    float64\n",
      " 46  2002            265 non-null    float64\n",
      " 47  2003            265 non-null    float64\n",
      " 48  2004            265 non-null    float64\n",
      " 49  2005            265 non-null    float64\n",
      " 50  2006            265 non-null    float64\n",
      " 51  2007            265 non-null    float64\n",
      " 52  2008            265 non-null    float64\n",
      " 53  2009            265 non-null    float64\n",
      " 54  2010            265 non-null    float64\n",
      " 55  2011            265 non-null    float64\n",
      " 56  2012            264 non-null    float64\n",
      " 57  2013            264 non-null    float64\n",
      " 58  2014            264 non-null    float64\n",
      " 59  2015            264 non-null    float64\n",
      " 60  2016            264 non-null    float64\n",
      " 61  2017            264 non-null    float64\n",
      " 62  2018            264 non-null    float64\n",
      " 63  2019            264 non-null    float64\n",
      " 64  2020            264 non-null    float64\n",
      " 65  2021            264 non-null    float64\n",
      "dtypes: float64(62), object(4)\n",
      "memory usage: 137.3+ KB\n"
     ]
    }
   ],
   "source": [
    "pop.info()"
   ]
  },
  {
   "cell_type": "code",
   "execution_count": 14,
   "id": "47b73a48",
   "metadata": {
    "pycharm": {
     "name": "#%%\n"
    }
   },
   "outputs": [
    {
     "data": {
      "text/plain": [
       "Country Name      0\n",
       "Country Code      0\n",
       "Indicator Name    0\n",
       "Indicator Code    0\n",
       "1960              2\n",
       "                 ..\n",
       "2017              2\n",
       "2018              2\n",
       "2019              2\n",
       "2020              2\n",
       "2021              2\n",
       "Length: 66, dtype: int64"
      ]
     },
     "execution_count": 14,
     "metadata": {},
     "output_type": "execute_result"
    }
   ],
   "source": [
    "pop.isna().sum() "
   ]
  },
  {
   "cell_type": "code",
   "execution_count": 15,
   "id": "435bd238",
   "metadata": {
    "pycharm": {
     "name": "#%%\n"
    }
   },
   "outputs": [
    {
     "data": {
      "text/html": [
       "<div>\n",
       "<style scoped>\n",
       "    .dataframe tbody tr th:only-of-type {\n",
       "        vertical-align: middle;\n",
       "    }\n",
       "\n",
       "    .dataframe tbody tr th {\n",
       "        vertical-align: top;\n",
       "    }\n",
       "\n",
       "    .dataframe thead th {\n",
       "        text-align: right;\n",
       "    }\n",
       "</style>\n",
       "<table border=\"1\" class=\"dataframe\">\n",
       "  <thead>\n",
       "    <tr style=\"text-align: right;\">\n",
       "      <th></th>\n",
       "      <th>Country Name</th>\n",
       "      <th>Country Code</th>\n",
       "      <th>Indicator Name</th>\n",
       "      <th>Indicator Code</th>\n",
       "      <th>1960</th>\n",
       "      <th>1961</th>\n",
       "      <th>1962</th>\n",
       "      <th>1963</th>\n",
       "      <th>1964</th>\n",
       "      <th>1965</th>\n",
       "      <th>...</th>\n",
       "      <th>2012</th>\n",
       "      <th>2013</th>\n",
       "      <th>2014</th>\n",
       "      <th>2015</th>\n",
       "      <th>2016</th>\n",
       "      <th>2017</th>\n",
       "      <th>2018</th>\n",
       "      <th>2019</th>\n",
       "      <th>2020</th>\n",
       "      <th>2021</th>\n",
       "    </tr>\n",
       "  </thead>\n",
       "  <tbody>\n",
       "    <tr>\n",
       "      <th>69</th>\n",
       "      <td>Eritrea</td>\n",
       "      <td>ERI</td>\n",
       "      <td>Population, total</td>\n",
       "      <td>SP.POP.TOTL</td>\n",
       "      <td>1007586.0</td>\n",
       "      <td>1033320.0</td>\n",
       "      <td>1060489.0</td>\n",
       "      <td>1088859.0</td>\n",
       "      <td>1118152.0</td>\n",
       "      <td>1148188.0</td>\n",
       "      <td>...</td>\n",
       "      <td>NaN</td>\n",
       "      <td>NaN</td>\n",
       "      <td>NaN</td>\n",
       "      <td>NaN</td>\n",
       "      <td>NaN</td>\n",
       "      <td>NaN</td>\n",
       "      <td>NaN</td>\n",
       "      <td>NaN</td>\n",
       "      <td>NaN</td>\n",
       "      <td>NaN</td>\n",
       "    </tr>\n",
       "    <tr>\n",
       "      <th>110</th>\n",
       "      <td>Not classified</td>\n",
       "      <td>INX</td>\n",
       "      <td>Population, total</td>\n",
       "      <td>SP.POP.TOTL</td>\n",
       "      <td>NaN</td>\n",
       "      <td>NaN</td>\n",
       "      <td>NaN</td>\n",
       "      <td>NaN</td>\n",
       "      <td>NaN</td>\n",
       "      <td>NaN</td>\n",
       "      <td>...</td>\n",
       "      <td>NaN</td>\n",
       "      <td>NaN</td>\n",
       "      <td>NaN</td>\n",
       "      <td>NaN</td>\n",
       "      <td>NaN</td>\n",
       "      <td>NaN</td>\n",
       "      <td>NaN</td>\n",
       "      <td>NaN</td>\n",
       "      <td>NaN</td>\n",
       "      <td>NaN</td>\n",
       "    </tr>\n",
       "  </tbody>\n",
       "</table>\n",
       "<p>2 rows × 66 columns</p>\n",
       "</div>"
      ],
      "text/plain": [
       "       Country Name Country Code     Indicator Name Indicator Code       1960  \\\n",
       "69          Eritrea          ERI  Population, total    SP.POP.TOTL  1007586.0   \n",
       "110  Not classified          INX  Population, total    SP.POP.TOTL        NaN   \n",
       "\n",
       "          1961       1962       1963       1964       1965  ...  2012  2013  \\\n",
       "69   1033320.0  1060489.0  1088859.0  1118152.0  1148188.0  ...   NaN   NaN   \n",
       "110        NaN        NaN        NaN        NaN        NaN  ...   NaN   NaN   \n",
       "\n",
       "     2014  2015  2016  2017  2018  2019  2020  2021  \n",
       "69    NaN   NaN   NaN   NaN   NaN   NaN   NaN   NaN  \n",
       "110   NaN   NaN   NaN   NaN   NaN   NaN   NaN   NaN  \n",
       "\n",
       "[2 rows x 66 columns]"
      ]
     },
     "execution_count": 15,
     "metadata": {},
     "output_type": "execute_result"
    }
   ],
   "source": [
    "pop[pop[[\"2021\"]].isnull().any(axis=1)]"
   ]
  },
  {
   "cell_type": "markdown",
   "id": "2eb988a6",
   "metadata": {
    "pycharm": {
     "name": "#%% md\n"
    }
   },
   "source": [
    "Given the exploration done in the pop dataset, we can conclude that for the next step in the cleaning and transformations, we wish to keep only the \"Country Name\", \" Country Code\", and the most recent year 2021 (which we will rename to pop_2021). Moreover, to make sure that the dataset is homogeneous we will capitalize the first letter of each word in the \"Country Name\" column. We can also see that there is two null values in 2021, which will be handled."
   ]
  },
  {
   "cell_type": "markdown",
   "id": "9bb7c315",
   "metadata": {
    "pycharm": {
     "name": "#%% md\n"
    }
   },
   "source": [
    "After scrutinizing, we found out that the 'Country Code' does not follow ISO-CODE, for example Kosovo and Congo. Therefore, we will connect dataset to our country dataset on Country name, not code."
   ]
  },
  {
   "cell_type": "markdown",
   "id": "497b12ce",
   "metadata": {
    "pycharm": {
     "name": "#%% md\n"
    }
   },
   "source": [
    "#### Climate dataset"
   ]
  },
  {
   "cell_type": "code",
   "execution_count": 16,
   "id": "1aa3a058",
   "metadata": {
    "pycharm": {
     "name": "#%%\n"
    }
   },
   "outputs": [
    {
     "data": {
      "text/html": [
       "<div>\n",
       "<style scoped>\n",
       "    .dataframe tbody tr th:only-of-type {\n",
       "        vertical-align: middle;\n",
       "    }\n",
       "\n",
       "    .dataframe tbody tr th {\n",
       "        vertical-align: top;\n",
       "    }\n",
       "\n",
       "    .dataframe thead th {\n",
       "        text-align: right;\n",
       "    }\n",
       "</style>\n",
       "<table border=\"1\" class=\"dataframe\">\n",
       "  <thead>\n",
       "    <tr style=\"text-align: right;\">\n",
       "      <th></th>\n",
       "      <th>COUNTRY</th>\n",
       "      <th>DESCRIPTION</th>\n",
       "    </tr>\n",
       "  </thead>\n",
       "  <tbody>\n",
       "    <tr>\n",
       "      <th>0</th>\n",
       "      <td>Afghanistan</td>\n",
       "      <td>arid to semiarid; cold winters and hot summers</td>\n",
       "    </tr>\n",
       "    <tr>\n",
       "      <th>1</th>\n",
       "      <td>Akrotiri</td>\n",
       "      <td>temperate; Mediterranean with hot, dry summers...</td>\n",
       "    </tr>\n",
       "    <tr>\n",
       "      <th>2</th>\n",
       "      <td>Albania</td>\n",
       "      <td>mild temperate; cool, cloudy, wet winters; hot...</td>\n",
       "    </tr>\n",
       "    <tr>\n",
       "      <th>3</th>\n",
       "      <td>Algeria</td>\n",
       "      <td>arid to semiarid; mild, wet winters with hot, ...</td>\n",
       "    </tr>\n",
       "    <tr>\n",
       "      <th>4</th>\n",
       "      <td>American Samoa</td>\n",
       "      <td>tropical marine, moderated by southeast trade ...</td>\n",
       "    </tr>\n",
       "  </tbody>\n",
       "</table>\n",
       "</div>"
      ],
      "text/plain": [
       "          COUNTRY                                        DESCRIPTION\n",
       "0     Afghanistan     arid to semiarid; cold winters and hot summers\n",
       "1        Akrotiri  temperate; Mediterranean with hot, dry summers...\n",
       "2         Albania  mild temperate; cool, cloudy, wet winters; hot...\n",
       "3         Algeria  arid to semiarid; mild, wet winters with hot, ...\n",
       "4  American Samoa  tropical marine, moderated by southeast trade ..."
      ]
     },
     "execution_count": 16,
     "metadata": {},
     "output_type": "execute_result"
    }
   ],
   "source": [
    "clim.head()"
   ]
  },
  {
   "cell_type": "code",
   "execution_count": 17,
   "id": "9069d9b1",
   "metadata": {
    "pycharm": {
     "name": "#%%\n"
    }
   },
   "outputs": [
    {
     "name": "stdout",
     "output_type": "stream",
     "text": [
      "<class 'pandas.core.frame.DataFrame'>\n",
      "RangeIndex: 277 entries, 0 to 276\n",
      "Data columns (total 2 columns):\n",
      " #   Column       Non-Null Count  Dtype \n",
      "---  ------       --------------  ----- \n",
      " 0   COUNTRY      277 non-null    object\n",
      " 1   DESCRIPTION  277 non-null    object\n",
      "dtypes: object(2)\n",
      "memory usage: 4.5+ KB\n"
     ]
    }
   ],
   "source": [
    "clim.info()"
   ]
  },
  {
   "cell_type": "code",
   "execution_count": 18,
   "id": "524c7bb7",
   "metadata": {
    "pycharm": {
     "name": "#%%\n"
    }
   },
   "outputs": [
    {
     "data": {
      "text/plain": [
       "COUNTRY        0\n",
       "DESCRIPTION    0\n",
       "dtype: int64"
      ]
     },
     "execution_count": 18,
     "metadata": {},
     "output_type": "execute_result"
    }
   ],
   "source": [
    "clim.isna().sum()"
   ]
  },
  {
   "cell_type": "markdown",
   "id": "948a4d4f",
   "metadata": {
    "pycharm": {
     "name": "#%% md\n"
    }
   },
   "source": [
    "Given the exploration done in the clim dataset, we can conclude that for the next step in the cleaning and transformations, we wish to keep all the columns, but rename them. Moreover, to make sure that the dataset is homogeneous we will capitalize the first letter of each word in the \"COUNTRY\" and \"DESCRIPTION\" column. We can also see that there is no null values, hence no handling of missing values is needed in this case. "
   ]
  },
  {
   "cell_type": "markdown",
   "id": "3041d5d4",
   "metadata": {
    "pycharm": {
     "name": "#%% md\n"
    }
   },
   "source": [
    "#### Currency dataset"
   ]
  },
  {
   "cell_type": "code",
   "execution_count": 19,
   "id": "b331df10",
   "metadata": {
    "pycharm": {
     "name": "#%%\n"
    }
   },
   "outputs": [
    {
     "data": {
      "text/html": [
       "<div>\n",
       "<style scoped>\n",
       "    .dataframe tbody tr th:only-of-type {\n",
       "        vertical-align: middle;\n",
       "    }\n",
       "\n",
       "    .dataframe tbody tr th {\n",
       "        vertical-align: top;\n",
       "    }\n",
       "\n",
       "    .dataframe thead th {\n",
       "        text-align: right;\n",
       "    }\n",
       "</style>\n",
       "<table border=\"1\" class=\"dataframe\">\n",
       "  <thead>\n",
       "    <tr style=\"text-align: right;\">\n",
       "      <th></th>\n",
       "      <th>Entity</th>\n",
       "      <th>Currency</th>\n",
       "      <th>AlphabeticCode</th>\n",
       "      <th>NumericCode</th>\n",
       "      <th>MinorUnit</th>\n",
       "      <th>WithdrawalDate</th>\n",
       "    </tr>\n",
       "  </thead>\n",
       "  <tbody>\n",
       "    <tr>\n",
       "      <th>0</th>\n",
       "      <td>AFGHANISTAN</td>\n",
       "      <td>Afghani</td>\n",
       "      <td>AFN</td>\n",
       "      <td>971.0</td>\n",
       "      <td>2</td>\n",
       "      <td>NaN</td>\n",
       "    </tr>\n",
       "    <tr>\n",
       "      <th>1</th>\n",
       "      <td>ÅLAND ISLANDS</td>\n",
       "      <td>Euro</td>\n",
       "      <td>EUR</td>\n",
       "      <td>978.0</td>\n",
       "      <td>2</td>\n",
       "      <td>NaN</td>\n",
       "    </tr>\n",
       "    <tr>\n",
       "      <th>2</th>\n",
       "      <td>ALBANIA</td>\n",
       "      <td>Lek</td>\n",
       "      <td>ALL</td>\n",
       "      <td>8.0</td>\n",
       "      <td>2</td>\n",
       "      <td>NaN</td>\n",
       "    </tr>\n",
       "    <tr>\n",
       "      <th>3</th>\n",
       "      <td>ALGERIA</td>\n",
       "      <td>Algerian Dinar</td>\n",
       "      <td>DZD</td>\n",
       "      <td>12.0</td>\n",
       "      <td>2</td>\n",
       "      <td>NaN</td>\n",
       "    </tr>\n",
       "    <tr>\n",
       "      <th>4</th>\n",
       "      <td>AMERICAN SAMOA</td>\n",
       "      <td>US Dollar</td>\n",
       "      <td>USD</td>\n",
       "      <td>840.0</td>\n",
       "      <td>2</td>\n",
       "      <td>NaN</td>\n",
       "    </tr>\n",
       "  </tbody>\n",
       "</table>\n",
       "</div>"
      ],
      "text/plain": [
       "           Entity        Currency AlphabeticCode  NumericCode MinorUnit  \\\n",
       "0     AFGHANISTAN         Afghani            AFN        971.0         2   \n",
       "1   ÅLAND ISLANDS            Euro            EUR        978.0         2   \n",
       "2         ALBANIA             Lek            ALL          8.0         2   \n",
       "3         ALGERIA  Algerian Dinar            DZD         12.0         2   \n",
       "4  AMERICAN SAMOA       US Dollar            USD        840.0         2   \n",
       "\n",
       "  WithdrawalDate  \n",
       "0            NaN  \n",
       "1            NaN  \n",
       "2            NaN  \n",
       "3            NaN  \n",
       "4            NaN  "
      ]
     },
     "execution_count": 19,
     "metadata": {},
     "output_type": "execute_result"
    }
   ],
   "source": [
    "curr.head()"
   ]
  },
  {
   "cell_type": "code",
   "execution_count": 20,
   "id": "ff5c7216",
   "metadata": {
    "pycharm": {
     "name": "#%%\n"
    }
   },
   "outputs": [
    {
     "name": "stdout",
     "output_type": "stream",
     "text": [
      "<class 'pandas.core.frame.DataFrame'>\n",
      "RangeIndex: 441 entries, 0 to 440\n",
      "Data columns (total 6 columns):\n",
      " #   Column          Non-Null Count  Dtype  \n",
      "---  ------          --------------  -----  \n",
      " 0   Entity          441 non-null    object \n",
      " 1   Currency        441 non-null    object \n",
      " 2   AlphabeticCode  438 non-null    object \n",
      " 3   NumericCode     435 non-null    float64\n",
      " 4   MinorUnit       276 non-null    object \n",
      " 5   WithdrawalDate  162 non-null    object \n",
      "dtypes: float64(1), object(5)\n",
      "memory usage: 20.8+ KB\n"
     ]
    }
   ],
   "source": [
    "curr.info()"
   ]
  },
  {
   "cell_type": "code",
   "execution_count": 21,
   "id": "437bc8ca",
   "metadata": {
    "pycharm": {
     "name": "#%%\n"
    }
   },
   "outputs": [
    {
     "data": {
      "text/plain": [
       "Entity              0\n",
       "Currency            0\n",
       "AlphabeticCode      3\n",
       "NumericCode         6\n",
       "MinorUnit         165\n",
       "WithdrawalDate    279\n",
       "dtype: int64"
      ]
     },
     "execution_count": 21,
     "metadata": {},
     "output_type": "execute_result"
    }
   ],
   "source": [
    "curr.isna().sum() "
   ]
  },
  {
   "cell_type": "code",
   "execution_count": 22,
   "id": "42b08863",
   "metadata": {
    "pycharm": {
     "name": "#%%\n"
    }
   },
   "outputs": [
    {
     "data": {
      "text/html": [
       "<div>\n",
       "<style scoped>\n",
       "    .dataframe tbody tr th:only-of-type {\n",
       "        vertical-align: middle;\n",
       "    }\n",
       "\n",
       "    .dataframe tbody tr th {\n",
       "        vertical-align: top;\n",
       "    }\n",
       "\n",
       "    .dataframe thead th {\n",
       "        text-align: right;\n",
       "    }\n",
       "</style>\n",
       "<table border=\"1\" class=\"dataframe\">\n",
       "  <thead>\n",
       "    <tr style=\"text-align: right;\">\n",
       "      <th></th>\n",
       "      <th>Entity</th>\n",
       "      <th>Currency</th>\n",
       "      <th>AlphabeticCode</th>\n",
       "      <th>NumericCode</th>\n",
       "      <th>MinorUnit</th>\n",
       "      <th>WithdrawalDate</th>\n",
       "    </tr>\n",
       "  </thead>\n",
       "  <tbody>\n",
       "    <tr>\n",
       "      <th>8</th>\n",
       "      <td>ANTARCTICA</td>\n",
       "      <td>No universal currency</td>\n",
       "      <td>NaN</td>\n",
       "      <td>NaN</td>\n",
       "      <td>NaN</td>\n",
       "      <td>NaN</td>\n",
       "    </tr>\n",
       "    <tr>\n",
       "      <th>183</th>\n",
       "      <td>PALESTINE, STATE OF</td>\n",
       "      <td>No universal currency</td>\n",
       "      <td>NaN</td>\n",
       "      <td>NaN</td>\n",
       "      <td>NaN</td>\n",
       "      <td>NaN</td>\n",
       "    </tr>\n",
       "    <tr>\n",
       "      <th>222</th>\n",
       "      <td>SOUTH GEORGIA AND THE SOUTH SANDWICH ISLANDS</td>\n",
       "      <td>No universal currency</td>\n",
       "      <td>NaN</td>\n",
       "      <td>NaN</td>\n",
       "      <td>NaN</td>\n",
       "      <td>NaN</td>\n",
       "    </tr>\n",
       "  </tbody>\n",
       "</table>\n",
       "</div>"
      ],
      "text/plain": [
       "                                           Entity               Currency  \\\n",
       "8                                      ANTARCTICA  No universal currency   \n",
       "183                           PALESTINE, STATE OF  No universal currency   \n",
       "222  SOUTH GEORGIA AND THE SOUTH SANDWICH ISLANDS  No universal currency   \n",
       "\n",
       "    AlphabeticCode  NumericCode MinorUnit WithdrawalDate  \n",
       "8              NaN          NaN       NaN            NaN  \n",
       "183            NaN          NaN       NaN            NaN  \n",
       "222            NaN          NaN       NaN            NaN  "
      ]
     },
     "execution_count": 22,
     "metadata": {},
     "output_type": "execute_result"
    }
   ],
   "source": [
    "curr[curr[[\"AlphabeticCode\"]].isnull().any(axis=1)]"
   ]
  },
  {
   "cell_type": "code",
   "execution_count": 23,
   "id": "4c152f74",
   "metadata": {
    "pycharm": {
     "name": "#%%\n"
    }
   },
   "outputs": [
    {
     "data": {
      "text/html": [
       "<div>\n",
       "<style scoped>\n",
       "    .dataframe tbody tr th:only-of-type {\n",
       "        vertical-align: middle;\n",
       "    }\n",
       "\n",
       "    .dataframe tbody tr th {\n",
       "        vertical-align: top;\n",
       "    }\n",
       "\n",
       "    .dataframe thead th {\n",
       "        text-align: right;\n",
       "    }\n",
       "</style>\n",
       "<table border=\"1\" class=\"dataframe\">\n",
       "  <thead>\n",
       "    <tr style=\"text-align: right;\">\n",
       "      <th></th>\n",
       "      <th>Entity</th>\n",
       "      <th>Currency</th>\n",
       "      <th>AlphabeticCode</th>\n",
       "      <th>NumericCode</th>\n",
       "      <th>MinorUnit</th>\n",
       "      <th>WithdrawalDate</th>\n",
       "    </tr>\n",
       "  </thead>\n",
       "  <tbody>\n",
       "    <tr>\n",
       "      <th>279</th>\n",
       "      <td>AFGHANISTAN</td>\n",
       "      <td>Afghani</td>\n",
       "      <td>AFA</td>\n",
       "      <td>4.0</td>\n",
       "      <td>NaN</td>\n",
       "      <td>2003-01</td>\n",
       "    </tr>\n",
       "    <tr>\n",
       "      <th>280</th>\n",
       "      <td>ÅLAND ISLANDS</td>\n",
       "      <td>Markka</td>\n",
       "      <td>FIM</td>\n",
       "      <td>246.0</td>\n",
       "      <td>NaN</td>\n",
       "      <td>2002-03</td>\n",
       "    </tr>\n",
       "    <tr>\n",
       "      <th>281</th>\n",
       "      <td>ALBANIA</td>\n",
       "      <td>Old Lek</td>\n",
       "      <td>ALK</td>\n",
       "      <td>8.0</td>\n",
       "      <td>NaN</td>\n",
       "      <td>1989-12</td>\n",
       "    </tr>\n",
       "    <tr>\n",
       "      <th>282</th>\n",
       "      <td>ANDORRA</td>\n",
       "      <td>Andorran Peseta</td>\n",
       "      <td>ADP</td>\n",
       "      <td>20.0</td>\n",
       "      <td>NaN</td>\n",
       "      <td>2003-07</td>\n",
       "    </tr>\n",
       "    <tr>\n",
       "      <th>283</th>\n",
       "      <td>ANDORRA</td>\n",
       "      <td>Spanish Peseta</td>\n",
       "      <td>ESP</td>\n",
       "      <td>724.0</td>\n",
       "      <td>NaN</td>\n",
       "      <td>2002-03</td>\n",
       "    </tr>\n",
       "    <tr>\n",
       "      <th>...</th>\n",
       "      <td>...</td>\n",
       "      <td>...</td>\n",
       "      <td>...</td>\n",
       "      <td>...</td>\n",
       "      <td>...</td>\n",
       "      <td>...</td>\n",
       "    </tr>\n",
       "    <tr>\n",
       "      <th>436</th>\n",
       "      <td>ZIMBABWE</td>\n",
       "      <td>Zimbabwe Dollar (new)</td>\n",
       "      <td>ZWN</td>\n",
       "      <td>942.0</td>\n",
       "      <td>NaN</td>\n",
       "      <td>2006-09</td>\n",
       "    </tr>\n",
       "    <tr>\n",
       "      <th>437</th>\n",
       "      <td>ZIMBABWE</td>\n",
       "      <td>Zimbabwe Dollar</td>\n",
       "      <td>ZWR</td>\n",
       "      <td>935.0</td>\n",
       "      <td>NaN</td>\n",
       "      <td>2009-06</td>\n",
       "    </tr>\n",
       "    <tr>\n",
       "      <th>438</th>\n",
       "      <td>ZZ01_Gold-Franc</td>\n",
       "      <td>Gold-Franc</td>\n",
       "      <td>XFO</td>\n",
       "      <td>NaN</td>\n",
       "      <td>NaN</td>\n",
       "      <td>2006-10</td>\n",
       "    </tr>\n",
       "    <tr>\n",
       "      <th>439</th>\n",
       "      <td>ZZ02_RINET Funds Code</td>\n",
       "      <td>RINET Funds Code</td>\n",
       "      <td>XRE</td>\n",
       "      <td>NaN</td>\n",
       "      <td>NaN</td>\n",
       "      <td>1999-11</td>\n",
       "    </tr>\n",
       "    <tr>\n",
       "      <th>440</th>\n",
       "      <td>ZZ05_UIC-Franc</td>\n",
       "      <td>UIC-Franc</td>\n",
       "      <td>XFU</td>\n",
       "      <td>NaN</td>\n",
       "      <td>NaN</td>\n",
       "      <td>2013-11</td>\n",
       "    </tr>\n",
       "  </tbody>\n",
       "</table>\n",
       "<p>162 rows × 6 columns</p>\n",
       "</div>"
      ],
      "text/plain": [
       "                    Entity               Currency AlphabeticCode  NumericCode  \\\n",
       "279            AFGHANISTAN                Afghani            AFA          4.0   \n",
       "280          ÅLAND ISLANDS                 Markka            FIM        246.0   \n",
       "281                ALBANIA                Old Lek            ALK          8.0   \n",
       "282                ANDORRA        Andorran Peseta            ADP         20.0   \n",
       "283                ANDORRA         Spanish Peseta            ESP        724.0   \n",
       "..                     ...                    ...            ...          ...   \n",
       "436               ZIMBABWE  Zimbabwe Dollar (new)            ZWN        942.0   \n",
       "437               ZIMBABWE        Zimbabwe Dollar            ZWR        935.0   \n",
       "438        ZZ01_Gold-Franc             Gold-Franc            XFO          NaN   \n",
       "439  ZZ02_RINET Funds Code       RINET Funds Code            XRE          NaN   \n",
       "440         ZZ05_UIC-Franc              UIC-Franc            XFU          NaN   \n",
       "\n",
       "    MinorUnit WithdrawalDate  \n",
       "279       NaN        2003-01  \n",
       "280       NaN        2002-03  \n",
       "281       NaN        1989-12  \n",
       "282       NaN        2003-07  \n",
       "283       NaN        2002-03  \n",
       "..        ...            ...  \n",
       "436       NaN        2006-09  \n",
       "437       NaN        2009-06  \n",
       "438       NaN        2006-10  \n",
       "439       NaN        1999-11  \n",
       "440       NaN        2013-11  \n",
       "\n",
       "[162 rows x 6 columns]"
      ]
     },
     "execution_count": 23,
     "metadata": {},
     "output_type": "execute_result"
    }
   ],
   "source": [
    "curr[curr[[\"WithdrawalDate\"]].notnull().any(axis=1)]"
   ]
  },
  {
   "cell_type": "markdown",
   "id": "bacf42de",
   "metadata": {
    "pycharm": {
     "name": "#%% md\n"
    }
   },
   "source": [
    "Given the exploration done in the curr dataset, we can conclude that for the next step in the cleaning and transformations, we wish to keep only the \"Entity\", \"Currency\", and \"AlphabeticCode\" columns, but rename them. Moreover, to make sure that the dataset is homogeneous we will capitalize the first letter of each word in the \"Entity\" and \"Currency\" column. We can also see that there is three null values in the \"AlphabeticCode\" column, which will be handled. In addition, there are a number of currencies which are no longer used, we will them subset this dataset to only contain currently accepted currencies. "
   ]
  },
  {
   "cell_type": "markdown",
   "id": "09cae3ae",
   "metadata": {
    "pycharm": {
     "name": "#%% md\n"
    }
   },
   "source": [
    "#### Language dataset"
   ]
  },
  {
   "cell_type": "code",
   "execution_count": 24,
   "id": "cf4a39a6",
   "metadata": {
    "pycharm": {
     "name": "#%%\n"
    }
   },
   "outputs": [
    {
     "data": {
      "text/html": [
       "<div>\n",
       "<style scoped>\n",
       "    .dataframe tbody tr th:only-of-type {\n",
       "        vertical-align: middle;\n",
       "    }\n",
       "\n",
       "    .dataframe tbody tr th {\n",
       "        vertical-align: top;\n",
       "    }\n",
       "\n",
       "    .dataframe thead th {\n",
       "        text-align: right;\n",
       "    }\n",
       "</style>\n",
       "<table border=\"1\" class=\"dataframe\">\n",
       "  <thead>\n",
       "    <tr style=\"text-align: right;\">\n",
       "      <th></th>\n",
       "      <th>Country</th>\n",
       "      <th>Languages Spoken</th>\n",
       "    </tr>\n",
       "  </thead>\n",
       "  <tbody>\n",
       "    <tr>\n",
       "      <th>0</th>\n",
       "      <td>Afghanistan</td>\n",
       "      <td>Dari Persian, Pashtu (both official), other Tu...</td>\n",
       "    </tr>\n",
       "    <tr>\n",
       "      <th>1</th>\n",
       "      <td>Albania</td>\n",
       "      <td>Albanian (Tosk is the official dialect), Greek</td>\n",
       "    </tr>\n",
       "    <tr>\n",
       "      <th>2</th>\n",
       "      <td>Algeria</td>\n",
       "      <td>Arabic (official), French, Berber dialects</td>\n",
       "    </tr>\n",
       "    <tr>\n",
       "      <th>3</th>\n",
       "      <td>Andorra</td>\n",
       "      <td>CatalÃ¡n (official), French, Castilian, Portug...</td>\n",
       "    </tr>\n",
       "    <tr>\n",
       "      <th>4</th>\n",
       "      <td>Angola</td>\n",
       "      <td>Portuguese (official), Bantu and other African...</td>\n",
       "    </tr>\n",
       "  </tbody>\n",
       "</table>\n",
       "</div>"
      ],
      "text/plain": [
       "       Country                                   Languages Spoken\n",
       "0  Afghanistan  Dari Persian, Pashtu (both official), other Tu...\n",
       "1      Albania     Albanian (Tosk is the official dialect), Greek\n",
       "2      Algeria         Arabic (official), French, Berber dialects\n",
       "3      Andorra  CatalÃ¡n (official), French, Castilian, Portug...\n",
       "4       Angola  Portuguese (official), Bantu and other African..."
      ]
     },
     "execution_count": 24,
     "metadata": {},
     "output_type": "execute_result"
    }
   ],
   "source": [
    "lang.head()"
   ]
  },
  {
   "cell_type": "code",
   "execution_count": 25,
   "id": "5fc8874d",
   "metadata": {
    "pycharm": {
     "name": "#%%\n"
    }
   },
   "outputs": [
    {
     "name": "stdout",
     "output_type": "stream",
     "text": [
      "<class 'pandas.core.frame.DataFrame'>\n",
      "RangeIndex: 198 entries, 0 to 197\n",
      "Data columns (total 2 columns):\n",
      " #   Column            Non-Null Count  Dtype \n",
      "---  ------            --------------  ----- \n",
      " 0   Country           198 non-null    object\n",
      " 1   Languages Spoken  198 non-null    object\n",
      "dtypes: object(2)\n",
      "memory usage: 3.2+ KB\n"
     ]
    }
   ],
   "source": [
    "lang.info()"
   ]
  },
  {
   "cell_type": "code",
   "execution_count": 26,
   "id": "e318d73f",
   "metadata": {
    "pycharm": {
     "name": "#%%\n"
    }
   },
   "outputs": [
    {
     "data": {
      "text/plain": [
       "Country             0\n",
       "Languages Spoken    0\n",
       "dtype: int64"
      ]
     },
     "execution_count": 26,
     "metadata": {},
     "output_type": "execute_result"
    }
   ],
   "source": [
    "lang.isna().sum()"
   ]
  },
  {
   "cell_type": "markdown",
   "id": "508996b7",
   "metadata": {
    "pycharm": {
     "name": "#%% md\n"
    }
   },
   "source": [
    "Given the exploration done in the lang dataset, we can conclude that for the next step in the cleaning and transformations, we wish to keep all the columns, but rename them. Moreover, to make sure that the dataset is homogeneous we will capitalize the first letter of each word in the \"Country\" and \"Language Spoken\" column. We can also see that there is no null values, hence no handling of missing values is needed in this case. In addition, we can see that the languages spoken includes more than the official languages, in the cleaning we will strive to only keep the official languages. "
   ]
  },
  {
   "cell_type": "markdown",
   "id": "505b1119",
   "metadata": {
    "pycharm": {
     "name": "#%% md\n"
    }
   },
   "source": [
    "#### Religion dataset"
   ]
  },
  {
   "cell_type": "code",
   "execution_count": 27,
   "id": "fc7dd82a",
   "metadata": {
    "pycharm": {
     "name": "#%%\n"
    }
   },
   "outputs": [
    {
     "data": {
      "text/html": [
       "<div>\n",
       "<style scoped>\n",
       "    .dataframe tbody tr th:only-of-type {\n",
       "        vertical-align: middle;\n",
       "    }\n",
       "\n",
       "    .dataframe tbody tr th {\n",
       "        vertical-align: top;\n",
       "    }\n",
       "\n",
       "    .dataframe thead th {\n",
       "        text-align: right;\n",
       "    }\n",
       "</style>\n",
       "<table border=\"1\" class=\"dataframe\">\n",
       "  <thead>\n",
       "    <tr style=\"text-align: right;\">\n",
       "      <th></th>\n",
       "      <th>Country or Area</th>\n",
       "      <th>Year</th>\n",
       "      <th>Area</th>\n",
       "      <th>Sex</th>\n",
       "      <th>Religion</th>\n",
       "      <th>Record Type</th>\n",
       "      <th>Reliability</th>\n",
       "      <th>Source Year</th>\n",
       "      <th>Value</th>\n",
       "      <th>Value Footnotes</th>\n",
       "    </tr>\n",
       "  </thead>\n",
       "  <tbody>\n",
       "    <tr>\n",
       "      <th>0</th>\n",
       "      <td>Albania</td>\n",
       "      <td>2011</td>\n",
       "      <td>Total</td>\n",
       "      <td>Both Sexes</td>\n",
       "      <td>Total</td>\n",
       "      <td>Census - de jure - complete tabulation</td>\n",
       "      <td>Final figure, complete</td>\n",
       "      <td>2013.0</td>\n",
       "      <td>2800138.0</td>\n",
       "      <td>NaN</td>\n",
       "    </tr>\n",
       "    <tr>\n",
       "      <th>1</th>\n",
       "      <td>Albania</td>\n",
       "      <td>2011</td>\n",
       "      <td>Total</td>\n",
       "      <td>Both Sexes</td>\n",
       "      <td>Atheist</td>\n",
       "      <td>Census - de jure - complete tabulation</td>\n",
       "      <td>Final figure, complete</td>\n",
       "      <td>2013.0</td>\n",
       "      <td>69995.0</td>\n",
       "      <td>NaN</td>\n",
       "    </tr>\n",
       "    <tr>\n",
       "      <th>2</th>\n",
       "      <td>Albania</td>\n",
       "      <td>2011</td>\n",
       "      <td>Total</td>\n",
       "      <td>Both Sexes</td>\n",
       "      <td>Catholic</td>\n",
       "      <td>Census - de jure - complete tabulation</td>\n",
       "      <td>Final figure, complete</td>\n",
       "      <td>2013.0</td>\n",
       "      <td>280921.0</td>\n",
       "      <td>NaN</td>\n",
       "    </tr>\n",
       "    <tr>\n",
       "      <th>3</th>\n",
       "      <td>Albania</td>\n",
       "      <td>2011</td>\n",
       "      <td>Total</td>\n",
       "      <td>Both Sexes</td>\n",
       "      <td>Evangelical</td>\n",
       "      <td>Census - de jure - complete tabulation</td>\n",
       "      <td>Final figure, complete</td>\n",
       "      <td>2013.0</td>\n",
       "      <td>3797.0</td>\n",
       "      <td>NaN</td>\n",
       "    </tr>\n",
       "    <tr>\n",
       "      <th>4</th>\n",
       "      <td>Albania</td>\n",
       "      <td>2011</td>\n",
       "      <td>Total</td>\n",
       "      <td>Both Sexes</td>\n",
       "      <td>Muslim</td>\n",
       "      <td>Census - de jure - complete tabulation</td>\n",
       "      <td>Final figure, complete</td>\n",
       "      <td>2013.0</td>\n",
       "      <td>1587608.0</td>\n",
       "      <td>NaN</td>\n",
       "    </tr>\n",
       "  </tbody>\n",
       "</table>\n",
       "</div>"
      ],
      "text/plain": [
       "  Country or Area  Year   Area         Sex     Religion  \\\n",
       "0         Albania  2011  Total  Both Sexes        Total   \n",
       "1         Albania  2011  Total  Both Sexes      Atheist   \n",
       "2         Albania  2011  Total  Both Sexes     Catholic   \n",
       "3         Albania  2011  Total  Both Sexes  Evangelical   \n",
       "4         Albania  2011  Total  Both Sexes       Muslim   \n",
       "\n",
       "                              Record Type             Reliability  \\\n",
       "0  Census - de jure - complete tabulation  Final figure, complete   \n",
       "1  Census - de jure - complete tabulation  Final figure, complete   \n",
       "2  Census - de jure - complete tabulation  Final figure, complete   \n",
       "3  Census - de jure - complete tabulation  Final figure, complete   \n",
       "4  Census - de jure - complete tabulation  Final figure, complete   \n",
       "\n",
       "   Source Year      Value Value Footnotes  \n",
       "0       2013.0  2800138.0             NaN  \n",
       "1       2013.0    69995.0             NaN  \n",
       "2       2013.0   280921.0             NaN  \n",
       "3       2013.0     3797.0             NaN  \n",
       "4       2013.0  1587608.0             NaN  "
      ]
     },
     "execution_count": 27,
     "metadata": {},
     "output_type": "execute_result"
    }
   ],
   "source": [
    "rel.head()"
   ]
  },
  {
   "cell_type": "code",
   "execution_count": 28,
   "id": "4b9bbd59",
   "metadata": {
    "pycharm": {
     "name": "#%%\n"
    }
   },
   "outputs": [
    {
     "name": "stdout",
     "output_type": "stream",
     "text": [
      "<class 'pandas.core.frame.DataFrame'>\n",
      "RangeIndex: 3416 entries, 0 to 3415\n",
      "Data columns (total 10 columns):\n",
      " #   Column           Non-Null Count  Dtype  \n",
      "---  ------           --------------  -----  \n",
      " 0   Country or Area  3416 non-null   object \n",
      " 1   Year             3416 non-null   object \n",
      " 2   Area             3333 non-null   object \n",
      " 3   Sex              3332 non-null   object \n",
      " 4   Religion         3332 non-null   object \n",
      " 5   Record Type      3332 non-null   object \n",
      " 6   Reliability      3332 non-null   object \n",
      " 7   Source Year      3332 non-null   float64\n",
      " 8   Value            3332 non-null   float64\n",
      " 9   Value Footnotes  1505 non-null   object \n",
      "dtypes: float64(2), object(8)\n",
      "memory usage: 267.0+ KB\n"
     ]
    }
   ],
   "source": [
    "rel.info()"
   ]
  },
  {
   "cell_type": "code",
   "execution_count": 29,
   "id": "c5ccf22c",
   "metadata": {
    "pycharm": {
     "name": "#%%\n"
    }
   },
   "outputs": [
    {
     "data": {
      "text/plain": [
       "Country or Area       0\n",
       "Year                  0\n",
       "Area                 83\n",
       "Sex                  84\n",
       "Religion             84\n",
       "Record Type          84\n",
       "Reliability          84\n",
       "Source Year          84\n",
       "Value                84\n",
       "Value Footnotes    1911\n",
       "dtype: int64"
      ]
     },
     "execution_count": 29,
     "metadata": {},
     "output_type": "execute_result"
    }
   ],
   "source": [
    "rel.isna().sum() "
   ]
  },
  {
   "cell_type": "code",
   "execution_count": 30,
   "id": "22a50d6d",
   "metadata": {
    "pycharm": {
     "name": "#%%\n"
    }
   },
   "outputs": [
    {
     "data": {
      "text/html": [
       "<div>\n",
       "<style scoped>\n",
       "    .dataframe tbody tr th:only-of-type {\n",
       "        vertical-align: middle;\n",
       "    }\n",
       "\n",
       "    .dataframe tbody tr th {\n",
       "        vertical-align: top;\n",
       "    }\n",
       "\n",
       "    .dataframe thead th {\n",
       "        text-align: right;\n",
       "    }\n",
       "</style>\n",
       "<table border=\"1\" class=\"dataframe\">\n",
       "  <thead>\n",
       "    <tr style=\"text-align: right;\">\n",
       "      <th></th>\n",
       "      <th>Country or Area</th>\n",
       "      <th>Year</th>\n",
       "      <th>Area</th>\n",
       "      <th>Sex</th>\n",
       "      <th>Religion</th>\n",
       "      <th>Record Type</th>\n",
       "      <th>Reliability</th>\n",
       "      <th>Source Year</th>\n",
       "      <th>Value</th>\n",
       "      <th>Value Footnotes</th>\n",
       "    </tr>\n",
       "  </thead>\n",
       "  <tbody>\n",
       "    <tr>\n",
       "      <th>3332</th>\n",
       "      <td>footnoteSeqID</td>\n",
       "      <td>Footnote</td>\n",
       "      <td>NaN</td>\n",
       "      <td>NaN</td>\n",
       "      <td>NaN</td>\n",
       "      <td>NaN</td>\n",
       "      <td>NaN</td>\n",
       "      <td>NaN</td>\n",
       "      <td>NaN</td>\n",
       "      <td>NaN</td>\n",
       "    </tr>\n",
       "    <tr>\n",
       "      <th>3333</th>\n",
       "      <td>1</td>\n",
       "      <td>Because of rounding, totals are not in all cas...</td>\n",
       "      <td>NaN</td>\n",
       "      <td>NaN</td>\n",
       "      <td>NaN</td>\n",
       "      <td>NaN</td>\n",
       "      <td>NaN</td>\n",
       "      <td>NaN</td>\n",
       "      <td>NaN</td>\n",
       "      <td>NaN</td>\n",
       "    </tr>\n",
       "    <tr>\n",
       "      <th>3334</th>\n",
       "      <td>2</td>\n",
       "      <td>These data have been randomly rounded to prote...</td>\n",
       "      <td>NaN</td>\n",
       "      <td>NaN</td>\n",
       "      <td>NaN</td>\n",
       "      <td>NaN</td>\n",
       "      <td>NaN</td>\n",
       "      <td>NaN</td>\n",
       "      <td>NaN</td>\n",
       "      <td>NaN</td>\n",
       "    </tr>\n",
       "    <tr>\n",
       "      <th>3335</th>\n",
       "      <td>3</td>\n",
       "      <td>Including population in off-shore, migratory a...</td>\n",
       "      <td>NaN</td>\n",
       "      <td>NaN</td>\n",
       "      <td>NaN</td>\n",
       "      <td>NaN</td>\n",
       "      <td>NaN</td>\n",
       "      <td>NaN</td>\n",
       "      <td>NaN</td>\n",
       "      <td>NaN</td>\n",
       "    </tr>\n",
       "    <tr>\n",
       "      <th>3336</th>\n",
       "      <td>4</td>\n",
       "      <td>Category 'No religion' includes Agnoticism, At...</td>\n",
       "      <td>NaN</td>\n",
       "      <td>NaN</td>\n",
       "      <td>NaN</td>\n",
       "      <td>NaN</td>\n",
       "      <td>NaN</td>\n",
       "      <td>NaN</td>\n",
       "      <td>NaN</td>\n",
       "      <td>NaN</td>\n",
       "    </tr>\n",
       "    <tr>\n",
       "      <th>...</th>\n",
       "      <td>...</td>\n",
       "      <td>...</td>\n",
       "      <td>...</td>\n",
       "      <td>...</td>\n",
       "      <td>...</td>\n",
       "      <td>...</td>\n",
       "      <td>...</td>\n",
       "      <td>...</td>\n",
       "      <td>...</td>\n",
       "      <td>...</td>\n",
       "    </tr>\n",
       "    <tr>\n",
       "      <th>3411</th>\n",
       "      <td>79</td>\n",
       "      <td>Data of mini-census taken in 2017.</td>\n",
       "      <td>NaN</td>\n",
       "      <td>NaN</td>\n",
       "      <td>NaN</td>\n",
       "      <td>NaN</td>\n",
       "      <td>NaN</td>\n",
       "      <td>NaN</td>\n",
       "      <td>NaN</td>\n",
       "      <td>NaN</td>\n",
       "    </tr>\n",
       "    <tr>\n",
       "      <th>3412</th>\n",
       "      <td>80</td>\n",
       "      <td>Data refer to resident population.</td>\n",
       "      <td>NaN</td>\n",
       "      <td>NaN</td>\n",
       "      <td>NaN</td>\n",
       "      <td>NaN</td>\n",
       "      <td>NaN</td>\n",
       "      <td>NaN</td>\n",
       "      <td>NaN</td>\n",
       "      <td>NaN</td>\n",
       "    </tr>\n",
       "    <tr>\n",
       "      <th>3413</th>\n",
       "      <td>81</td>\n",
       "      <td>Excluding population enumerated in hotels.</td>\n",
       "      <td>NaN</td>\n",
       "      <td>NaN</td>\n",
       "      <td>NaN</td>\n",
       "      <td>NaN</td>\n",
       "      <td>NaN</td>\n",
       "      <td>NaN</td>\n",
       "      <td>NaN</td>\n",
       "      <td>NaN</td>\n",
       "    </tr>\n",
       "    <tr>\n",
       "      <th>3414</th>\n",
       "      <td>82</td>\n",
       "      <td>Other includes Orthodox, Bahai, Other Christia...</td>\n",
       "      <td>NaN</td>\n",
       "      <td>NaN</td>\n",
       "      <td>NaN</td>\n",
       "      <td>NaN</td>\n",
       "      <td>NaN</td>\n",
       "      <td>NaN</td>\n",
       "      <td>NaN</td>\n",
       "      <td>NaN</td>\n",
       "    </tr>\n",
       "    <tr>\n",
       "      <th>3415</th>\n",
       "      <td>83</td>\n",
       "      <td>Excluding Channel Islands (Guernsey and Jersey...</td>\n",
       "      <td>NaN</td>\n",
       "      <td>NaN</td>\n",
       "      <td>NaN</td>\n",
       "      <td>NaN</td>\n",
       "      <td>NaN</td>\n",
       "      <td>NaN</td>\n",
       "      <td>NaN</td>\n",
       "      <td>NaN</td>\n",
       "    </tr>\n",
       "  </tbody>\n",
       "</table>\n",
       "<p>84 rows × 10 columns</p>\n",
       "</div>"
      ],
      "text/plain": [
       "     Country or Area                                               Year Area  \\\n",
       "3332   footnoteSeqID                                           Footnote  NaN   \n",
       "3333               1  Because of rounding, totals are not in all cas...  NaN   \n",
       "3334               2  These data have been randomly rounded to prote...  NaN   \n",
       "3335               3  Including population in off-shore, migratory a...  NaN   \n",
       "3336               4  Category 'No religion' includes Agnoticism, At...  NaN   \n",
       "...              ...                                                ...  ...   \n",
       "3411              79                 Data of mini-census taken in 2017.  NaN   \n",
       "3412              80                 Data refer to resident population.  NaN   \n",
       "3413              81         Excluding population enumerated in hotels.  NaN   \n",
       "3414              82  Other includes Orthodox, Bahai, Other Christia...  NaN   \n",
       "3415              83  Excluding Channel Islands (Guernsey and Jersey...  NaN   \n",
       "\n",
       "      Sex Religion Record Type Reliability  Source Year  Value Value Footnotes  \n",
       "3332  NaN      NaN         NaN         NaN          NaN    NaN             NaN  \n",
       "3333  NaN      NaN         NaN         NaN          NaN    NaN             NaN  \n",
       "3334  NaN      NaN         NaN         NaN          NaN    NaN             NaN  \n",
       "3335  NaN      NaN         NaN         NaN          NaN    NaN             NaN  \n",
       "3336  NaN      NaN         NaN         NaN          NaN    NaN             NaN  \n",
       "...   ...      ...         ...         ...          ...    ...             ...  \n",
       "3411  NaN      NaN         NaN         NaN          NaN    NaN             NaN  \n",
       "3412  NaN      NaN         NaN         NaN          NaN    NaN             NaN  \n",
       "3413  NaN      NaN         NaN         NaN          NaN    NaN             NaN  \n",
       "3414  NaN      NaN         NaN         NaN          NaN    NaN             NaN  \n",
       "3415  NaN      NaN         NaN         NaN          NaN    NaN             NaN  \n",
       "\n",
       "[84 rows x 10 columns]"
      ]
     },
     "execution_count": 30,
     "metadata": {},
     "output_type": "execute_result"
    }
   ],
   "source": [
    "rel[rel[[\"Religion\"]].isnull().any(axis=1)]"
   ]
  },
  {
   "cell_type": "code",
   "execution_count": 31,
   "id": "1fe1bfca",
   "metadata": {
    "pycharm": {
     "name": "#%%\n"
    }
   },
   "outputs": [
    {
     "data": {
      "text/html": [
       "<div>\n",
       "<style scoped>\n",
       "    .dataframe tbody tr th:only-of-type {\n",
       "        vertical-align: middle;\n",
       "    }\n",
       "\n",
       "    .dataframe tbody tr th {\n",
       "        vertical-align: top;\n",
       "    }\n",
       "\n",
       "    .dataframe thead th {\n",
       "        text-align: right;\n",
       "    }\n",
       "</style>\n",
       "<table border=\"1\" class=\"dataframe\">\n",
       "  <thead>\n",
       "    <tr style=\"text-align: right;\">\n",
       "      <th></th>\n",
       "      <th>Country or Area</th>\n",
       "      <th>Year</th>\n",
       "      <th>Area</th>\n",
       "      <th>Sex</th>\n",
       "      <th>Religion</th>\n",
       "      <th>Record Type</th>\n",
       "      <th>Reliability</th>\n",
       "      <th>Source Year</th>\n",
       "      <th>Value</th>\n",
       "      <th>Value Footnotes</th>\n",
       "    </tr>\n",
       "  </thead>\n",
       "  <tbody>\n",
       "    <tr>\n",
       "      <th>3332</th>\n",
       "      <td>footnoteSeqID</td>\n",
       "      <td>Footnote</td>\n",
       "      <td>NaN</td>\n",
       "      <td>NaN</td>\n",
       "      <td>NaN</td>\n",
       "      <td>NaN</td>\n",
       "      <td>NaN</td>\n",
       "      <td>NaN</td>\n",
       "      <td>NaN</td>\n",
       "      <td>NaN</td>\n",
       "    </tr>\n",
       "    <tr>\n",
       "      <th>3333</th>\n",
       "      <td>1</td>\n",
       "      <td>Because of rounding, totals are not in all cas...</td>\n",
       "      <td>NaN</td>\n",
       "      <td>NaN</td>\n",
       "      <td>NaN</td>\n",
       "      <td>NaN</td>\n",
       "      <td>NaN</td>\n",
       "      <td>NaN</td>\n",
       "      <td>NaN</td>\n",
       "      <td>NaN</td>\n",
       "    </tr>\n",
       "    <tr>\n",
       "      <th>3334</th>\n",
       "      <td>2</td>\n",
       "      <td>These data have been randomly rounded to prote...</td>\n",
       "      <td>NaN</td>\n",
       "      <td>NaN</td>\n",
       "      <td>NaN</td>\n",
       "      <td>NaN</td>\n",
       "      <td>NaN</td>\n",
       "      <td>NaN</td>\n",
       "      <td>NaN</td>\n",
       "      <td>NaN</td>\n",
       "    </tr>\n",
       "    <tr>\n",
       "      <th>3335</th>\n",
       "      <td>3</td>\n",
       "      <td>Including population in off-shore, migratory a...</td>\n",
       "      <td>NaN</td>\n",
       "      <td>NaN</td>\n",
       "      <td>NaN</td>\n",
       "      <td>NaN</td>\n",
       "      <td>NaN</td>\n",
       "      <td>NaN</td>\n",
       "      <td>NaN</td>\n",
       "      <td>NaN</td>\n",
       "    </tr>\n",
       "    <tr>\n",
       "      <th>3336</th>\n",
       "      <td>4</td>\n",
       "      <td>Category 'No religion' includes Agnoticism, At...</td>\n",
       "      <td>NaN</td>\n",
       "      <td>NaN</td>\n",
       "      <td>NaN</td>\n",
       "      <td>NaN</td>\n",
       "      <td>NaN</td>\n",
       "      <td>NaN</td>\n",
       "      <td>NaN</td>\n",
       "      <td>NaN</td>\n",
       "    </tr>\n",
       "    <tr>\n",
       "      <th>...</th>\n",
       "      <td>...</td>\n",
       "      <td>...</td>\n",
       "      <td>...</td>\n",
       "      <td>...</td>\n",
       "      <td>...</td>\n",
       "      <td>...</td>\n",
       "      <td>...</td>\n",
       "      <td>...</td>\n",
       "      <td>...</td>\n",
       "      <td>...</td>\n",
       "    </tr>\n",
       "    <tr>\n",
       "      <th>3411</th>\n",
       "      <td>79</td>\n",
       "      <td>Data of mini-census taken in 2017.</td>\n",
       "      <td>NaN</td>\n",
       "      <td>NaN</td>\n",
       "      <td>NaN</td>\n",
       "      <td>NaN</td>\n",
       "      <td>NaN</td>\n",
       "      <td>NaN</td>\n",
       "      <td>NaN</td>\n",
       "      <td>NaN</td>\n",
       "    </tr>\n",
       "    <tr>\n",
       "      <th>3412</th>\n",
       "      <td>80</td>\n",
       "      <td>Data refer to resident population.</td>\n",
       "      <td>NaN</td>\n",
       "      <td>NaN</td>\n",
       "      <td>NaN</td>\n",
       "      <td>NaN</td>\n",
       "      <td>NaN</td>\n",
       "      <td>NaN</td>\n",
       "      <td>NaN</td>\n",
       "      <td>NaN</td>\n",
       "    </tr>\n",
       "    <tr>\n",
       "      <th>3413</th>\n",
       "      <td>81</td>\n",
       "      <td>Excluding population enumerated in hotels.</td>\n",
       "      <td>NaN</td>\n",
       "      <td>NaN</td>\n",
       "      <td>NaN</td>\n",
       "      <td>NaN</td>\n",
       "      <td>NaN</td>\n",
       "      <td>NaN</td>\n",
       "      <td>NaN</td>\n",
       "      <td>NaN</td>\n",
       "    </tr>\n",
       "    <tr>\n",
       "      <th>3414</th>\n",
       "      <td>82</td>\n",
       "      <td>Other includes Orthodox, Bahai, Other Christia...</td>\n",
       "      <td>NaN</td>\n",
       "      <td>NaN</td>\n",
       "      <td>NaN</td>\n",
       "      <td>NaN</td>\n",
       "      <td>NaN</td>\n",
       "      <td>NaN</td>\n",
       "      <td>NaN</td>\n",
       "      <td>NaN</td>\n",
       "    </tr>\n",
       "    <tr>\n",
       "      <th>3415</th>\n",
       "      <td>83</td>\n",
       "      <td>Excluding Channel Islands (Guernsey and Jersey...</td>\n",
       "      <td>NaN</td>\n",
       "      <td>NaN</td>\n",
       "      <td>NaN</td>\n",
       "      <td>NaN</td>\n",
       "      <td>NaN</td>\n",
       "      <td>NaN</td>\n",
       "      <td>NaN</td>\n",
       "      <td>NaN</td>\n",
       "    </tr>\n",
       "  </tbody>\n",
       "</table>\n",
       "<p>83 rows × 10 columns</p>\n",
       "</div>"
      ],
      "text/plain": [
       "     Country or Area                                               Year Area  \\\n",
       "3332   footnoteSeqID                                           Footnote  NaN   \n",
       "3333               1  Because of rounding, totals are not in all cas...  NaN   \n",
       "3334               2  These data have been randomly rounded to prote...  NaN   \n",
       "3335               3  Including population in off-shore, migratory a...  NaN   \n",
       "3336               4  Category 'No religion' includes Agnoticism, At...  NaN   \n",
       "...              ...                                                ...  ...   \n",
       "3411              79                 Data of mini-census taken in 2017.  NaN   \n",
       "3412              80                 Data refer to resident population.  NaN   \n",
       "3413              81         Excluding population enumerated in hotels.  NaN   \n",
       "3414              82  Other includes Orthodox, Bahai, Other Christia...  NaN   \n",
       "3415              83  Excluding Channel Islands (Guernsey and Jersey...  NaN   \n",
       "\n",
       "      Sex Religion Record Type Reliability  Source Year  Value Value Footnotes  \n",
       "3332  NaN      NaN         NaN         NaN          NaN    NaN             NaN  \n",
       "3333  NaN      NaN         NaN         NaN          NaN    NaN             NaN  \n",
       "3334  NaN      NaN         NaN         NaN          NaN    NaN             NaN  \n",
       "3335  NaN      NaN         NaN         NaN          NaN    NaN             NaN  \n",
       "3336  NaN      NaN         NaN         NaN          NaN    NaN             NaN  \n",
       "...   ...      ...         ...         ...          ...    ...             ...  \n",
       "3411  NaN      NaN         NaN         NaN          NaN    NaN             NaN  \n",
       "3412  NaN      NaN         NaN         NaN          NaN    NaN             NaN  \n",
       "3413  NaN      NaN         NaN         NaN          NaN    NaN             NaN  \n",
       "3414  NaN      NaN         NaN         NaN          NaN    NaN             NaN  \n",
       "3415  NaN      NaN         NaN         NaN          NaN    NaN             NaN  \n",
       "\n",
       "[83 rows x 10 columns]"
      ]
     },
     "execution_count": 31,
     "metadata": {},
     "output_type": "execute_result"
    }
   ],
   "source": [
    "rel[rel[[\"Area\"]].isnull().any(axis=1)]"
   ]
  },
  {
   "cell_type": "code",
   "execution_count": 32,
   "id": "5a3bda76",
   "metadata": {
    "pycharm": {
     "name": "#%%\n"
    }
   },
   "outputs": [
    {
     "data": {
      "text/html": [
       "<div>\n",
       "<style scoped>\n",
       "    .dataframe tbody tr th:only-of-type {\n",
       "        vertical-align: middle;\n",
       "    }\n",
       "\n",
       "    .dataframe tbody tr th {\n",
       "        vertical-align: top;\n",
       "    }\n",
       "\n",
       "    .dataframe thead th {\n",
       "        text-align: right;\n",
       "    }\n",
       "</style>\n",
       "<table border=\"1\" class=\"dataframe\">\n",
       "  <thead>\n",
       "    <tr style=\"text-align: right;\">\n",
       "      <th></th>\n",
       "      <th>Country or Area</th>\n",
       "      <th>Year</th>\n",
       "      <th>Area</th>\n",
       "      <th>Sex</th>\n",
       "      <th>Religion</th>\n",
       "      <th>Record Type</th>\n",
       "      <th>Reliability</th>\n",
       "      <th>Source Year</th>\n",
       "      <th>Value</th>\n",
       "      <th>Value Footnotes</th>\n",
       "    </tr>\n",
       "  </thead>\n",
       "  <tbody>\n",
       "    <tr>\n",
       "      <th>3332</th>\n",
       "      <td>footnoteSeqID</td>\n",
       "      <td>Footnote</td>\n",
       "      <td>NaN</td>\n",
       "      <td>NaN</td>\n",
       "      <td>NaN</td>\n",
       "      <td>NaN</td>\n",
       "      <td>NaN</td>\n",
       "      <td>NaN</td>\n",
       "      <td>NaN</td>\n",
       "      <td>NaN</td>\n",
       "    </tr>\n",
       "    <tr>\n",
       "      <th>3333</th>\n",
       "      <td>1</td>\n",
       "      <td>Because of rounding, totals are not in all cas...</td>\n",
       "      <td>NaN</td>\n",
       "      <td>NaN</td>\n",
       "      <td>NaN</td>\n",
       "      <td>NaN</td>\n",
       "      <td>NaN</td>\n",
       "      <td>NaN</td>\n",
       "      <td>NaN</td>\n",
       "      <td>NaN</td>\n",
       "    </tr>\n",
       "    <tr>\n",
       "      <th>3334</th>\n",
       "      <td>2</td>\n",
       "      <td>These data have been randomly rounded to prote...</td>\n",
       "      <td>NaN</td>\n",
       "      <td>NaN</td>\n",
       "      <td>NaN</td>\n",
       "      <td>NaN</td>\n",
       "      <td>NaN</td>\n",
       "      <td>NaN</td>\n",
       "      <td>NaN</td>\n",
       "      <td>NaN</td>\n",
       "    </tr>\n",
       "    <tr>\n",
       "      <th>3335</th>\n",
       "      <td>3</td>\n",
       "      <td>Including population in off-shore, migratory a...</td>\n",
       "      <td>NaN</td>\n",
       "      <td>NaN</td>\n",
       "      <td>NaN</td>\n",
       "      <td>NaN</td>\n",
       "      <td>NaN</td>\n",
       "      <td>NaN</td>\n",
       "      <td>NaN</td>\n",
       "      <td>NaN</td>\n",
       "    </tr>\n",
       "    <tr>\n",
       "      <th>3336</th>\n",
       "      <td>4</td>\n",
       "      <td>Category 'No religion' includes Agnoticism, At...</td>\n",
       "      <td>NaN</td>\n",
       "      <td>NaN</td>\n",
       "      <td>NaN</td>\n",
       "      <td>NaN</td>\n",
       "      <td>NaN</td>\n",
       "      <td>NaN</td>\n",
       "      <td>NaN</td>\n",
       "      <td>NaN</td>\n",
       "    </tr>\n",
       "    <tr>\n",
       "      <th>...</th>\n",
       "      <td>...</td>\n",
       "      <td>...</td>\n",
       "      <td>...</td>\n",
       "      <td>...</td>\n",
       "      <td>...</td>\n",
       "      <td>...</td>\n",
       "      <td>...</td>\n",
       "      <td>...</td>\n",
       "      <td>...</td>\n",
       "      <td>...</td>\n",
       "    </tr>\n",
       "    <tr>\n",
       "      <th>3411</th>\n",
       "      <td>79</td>\n",
       "      <td>Data of mini-census taken in 2017.</td>\n",
       "      <td>NaN</td>\n",
       "      <td>NaN</td>\n",
       "      <td>NaN</td>\n",
       "      <td>NaN</td>\n",
       "      <td>NaN</td>\n",
       "      <td>NaN</td>\n",
       "      <td>NaN</td>\n",
       "      <td>NaN</td>\n",
       "    </tr>\n",
       "    <tr>\n",
       "      <th>3412</th>\n",
       "      <td>80</td>\n",
       "      <td>Data refer to resident population.</td>\n",
       "      <td>NaN</td>\n",
       "      <td>NaN</td>\n",
       "      <td>NaN</td>\n",
       "      <td>NaN</td>\n",
       "      <td>NaN</td>\n",
       "      <td>NaN</td>\n",
       "      <td>NaN</td>\n",
       "      <td>NaN</td>\n",
       "    </tr>\n",
       "    <tr>\n",
       "      <th>3413</th>\n",
       "      <td>81</td>\n",
       "      <td>Excluding population enumerated in hotels.</td>\n",
       "      <td>NaN</td>\n",
       "      <td>NaN</td>\n",
       "      <td>NaN</td>\n",
       "      <td>NaN</td>\n",
       "      <td>NaN</td>\n",
       "      <td>NaN</td>\n",
       "      <td>NaN</td>\n",
       "      <td>NaN</td>\n",
       "    </tr>\n",
       "    <tr>\n",
       "      <th>3414</th>\n",
       "      <td>82</td>\n",
       "      <td>Other includes Orthodox, Bahai, Other Christia...</td>\n",
       "      <td>NaN</td>\n",
       "      <td>NaN</td>\n",
       "      <td>NaN</td>\n",
       "      <td>NaN</td>\n",
       "      <td>NaN</td>\n",
       "      <td>NaN</td>\n",
       "      <td>NaN</td>\n",
       "      <td>NaN</td>\n",
       "    </tr>\n",
       "    <tr>\n",
       "      <th>3415</th>\n",
       "      <td>83</td>\n",
       "      <td>Excluding Channel Islands (Guernsey and Jersey...</td>\n",
       "      <td>NaN</td>\n",
       "      <td>NaN</td>\n",
       "      <td>NaN</td>\n",
       "      <td>NaN</td>\n",
       "      <td>NaN</td>\n",
       "      <td>NaN</td>\n",
       "      <td>NaN</td>\n",
       "      <td>NaN</td>\n",
       "    </tr>\n",
       "  </tbody>\n",
       "</table>\n",
       "<p>84 rows × 10 columns</p>\n",
       "</div>"
      ],
      "text/plain": [
       "     Country or Area                                               Year Area  \\\n",
       "3332   footnoteSeqID                                           Footnote  NaN   \n",
       "3333               1  Because of rounding, totals are not in all cas...  NaN   \n",
       "3334               2  These data have been randomly rounded to prote...  NaN   \n",
       "3335               3  Including population in off-shore, migratory a...  NaN   \n",
       "3336               4  Category 'No religion' includes Agnoticism, At...  NaN   \n",
       "...              ...                                                ...  ...   \n",
       "3411              79                 Data of mini-census taken in 2017.  NaN   \n",
       "3412              80                 Data refer to resident population.  NaN   \n",
       "3413              81         Excluding population enumerated in hotels.  NaN   \n",
       "3414              82  Other includes Orthodox, Bahai, Other Christia...  NaN   \n",
       "3415              83  Excluding Channel Islands (Guernsey and Jersey...  NaN   \n",
       "\n",
       "      Sex Religion Record Type Reliability  Source Year  Value Value Footnotes  \n",
       "3332  NaN      NaN         NaN         NaN          NaN    NaN             NaN  \n",
       "3333  NaN      NaN         NaN         NaN          NaN    NaN             NaN  \n",
       "3334  NaN      NaN         NaN         NaN          NaN    NaN             NaN  \n",
       "3335  NaN      NaN         NaN         NaN          NaN    NaN             NaN  \n",
       "3336  NaN      NaN         NaN         NaN          NaN    NaN             NaN  \n",
       "...   ...      ...         ...         ...          ...    ...             ...  \n",
       "3411  NaN      NaN         NaN         NaN          NaN    NaN             NaN  \n",
       "3412  NaN      NaN         NaN         NaN          NaN    NaN             NaN  \n",
       "3413  NaN      NaN         NaN         NaN          NaN    NaN             NaN  \n",
       "3414  NaN      NaN         NaN         NaN          NaN    NaN             NaN  \n",
       "3415  NaN      NaN         NaN         NaN          NaN    NaN             NaN  \n",
       "\n",
       "[84 rows x 10 columns]"
      ]
     },
     "execution_count": 32,
     "metadata": {},
     "output_type": "execute_result"
    }
   ],
   "source": [
    "rel[rel[[\"Sex\"]].isnull().any(axis=1)]"
   ]
  },
  {
   "cell_type": "markdown",
   "id": "b52dcacb",
   "metadata": {
    "pycharm": {
     "name": "#%% md\n"
    }
   },
   "source": [
    "Given the exploration done in the rel dataset, we can conclude that for the next step in the cleaning and transformations, we wish to keep the \"Country or Area\" and \"Religion\" columns but rename them. Moreover, to make sure that the dataset is homogeneous we will capitalize the first letter of each word in the \"Country or Area\" column. We can also see that there is multiple null values, that arise due to the existing footnotes at the end of the document, which will be dealt with. In addition, we can see that for each country there is the listing of all the religions present in the country. As we only wish to keep the main one the others will be removed. "
   ]
  },
  {
   "cell_type": "markdown",
   "id": "e9065ba5",
   "metadata": {
    "pycharm": {
     "name": "#%% md\n"
    }
   },
   "source": [
    "#### Peace index dataset"
   ]
  },
  {
   "cell_type": "code",
   "execution_count": 33,
   "id": "4ac79e32",
   "metadata": {
    "pycharm": {
     "name": "#%%\n"
    }
   },
   "outputs": [
    {
     "data": {
      "text/html": [
       "<div>\n",
       "<style scoped>\n",
       "    .dataframe tbody tr th:only-of-type {\n",
       "        vertical-align: middle;\n",
       "    }\n",
       "\n",
       "    .dataframe tbody tr th {\n",
       "        vertical-align: top;\n",
       "    }\n",
       "\n",
       "    .dataframe thead th {\n",
       "        text-align: right;\n",
       "    }\n",
       "</style>\n",
       "<table border=\"1\" class=\"dataframe\">\n",
       "  <thead>\n",
       "    <tr style=\"text-align: right;\">\n",
       "      <th></th>\n",
       "      <th>RANK</th>\n",
       "      <th>COUNTRY</th>\n",
       "      <th>SCORE</th>\n",
       "    </tr>\n",
       "  </thead>\n",
       "  <tbody>\n",
       "    <tr>\n",
       "      <th>0</th>\n",
       "      <td>1.0</td>\n",
       "      <td>Iceland</td>\n",
       "      <td>1.100</td>\n",
       "    </tr>\n",
       "    <tr>\n",
       "      <th>1</th>\n",
       "      <td>2.0</td>\n",
       "      <td>New Zealand</td>\n",
       "      <td>1.253</td>\n",
       "    </tr>\n",
       "    <tr>\n",
       "      <th>2</th>\n",
       "      <td>3.0</td>\n",
       "      <td>Denmark</td>\n",
       "      <td>1.256</td>\n",
       "    </tr>\n",
       "    <tr>\n",
       "      <th>3</th>\n",
       "      <td>4.0</td>\n",
       "      <td>Portugal</td>\n",
       "      <td>1.267</td>\n",
       "    </tr>\n",
       "    <tr>\n",
       "      <th>4</th>\n",
       "      <td>5.0</td>\n",
       "      <td>Slovenia</td>\n",
       "      <td>1.315</td>\n",
       "    </tr>\n",
       "  </tbody>\n",
       "</table>\n",
       "</div>"
      ],
      "text/plain": [
       "   RANK      COUNTRY  SCORE\n",
       "0   1.0      Iceland  1.100\n",
       "1   2.0  New Zealand  1.253\n",
       "2   3.0      Denmark  1.256\n",
       "3   4.0     Portugal  1.267\n",
       "4   5.0     Slovenia  1.315"
      ]
     },
     "execution_count": 33,
     "metadata": {},
     "output_type": "execute_result"
    }
   ],
   "source": [
    "peace.head()"
   ]
  },
  {
   "cell_type": "code",
   "execution_count": 34,
   "id": "fdb5dc27",
   "metadata": {
    "pycharm": {
     "name": "#%%\n"
    }
   },
   "outputs": [
    {
     "name": "stdout",
     "output_type": "stream",
     "text": [
      "<class 'pandas.core.frame.DataFrame'>\n",
      "RangeIndex: 177 entries, 0 to 176\n",
      "Data columns (total 3 columns):\n",
      " #   Column   Non-Null Count  Dtype  \n",
      "---  ------   --------------  -----  \n",
      " 0   RANK     163 non-null    float64\n",
      " 1   COUNTRY  163 non-null    object \n",
      " 2   SCORE    163 non-null    float64\n",
      "dtypes: float64(2), object(1)\n",
      "memory usage: 4.3+ KB\n"
     ]
    }
   ],
   "source": [
    "peace.info()"
   ]
  },
  {
   "cell_type": "code",
   "execution_count": 35,
   "id": "1c890149",
   "metadata": {
    "pycharm": {
     "name": "#%%\n"
    }
   },
   "outputs": [
    {
     "data": {
      "text/plain": [
       "RANK       14\n",
       "COUNTRY    14\n",
       "SCORE      14\n",
       "dtype: int64"
      ]
     },
     "execution_count": 35,
     "metadata": {},
     "output_type": "execute_result"
    }
   ],
   "source": [
    "peace.isna().sum() "
   ]
  },
  {
   "cell_type": "code",
   "execution_count": 36,
   "id": "9211eb41",
   "metadata": {
    "pycharm": {
     "name": "#%%\n"
    }
   },
   "outputs": [
    {
     "data": {
      "text/html": [
       "<div>\n",
       "<style scoped>\n",
       "    .dataframe tbody tr th:only-of-type {\n",
       "        vertical-align: middle;\n",
       "    }\n",
       "\n",
       "    .dataframe tbody tr th {\n",
       "        vertical-align: top;\n",
       "    }\n",
       "\n",
       "    .dataframe thead th {\n",
       "        text-align: right;\n",
       "    }\n",
       "</style>\n",
       "<table border=\"1\" class=\"dataframe\">\n",
       "  <thead>\n",
       "    <tr style=\"text-align: right;\">\n",
       "      <th></th>\n",
       "      <th>RANK</th>\n",
       "      <th>COUNTRY</th>\n",
       "      <th>SCORE</th>\n",
       "    </tr>\n",
       "  </thead>\n",
       "  <tbody>\n",
       "    <tr>\n",
       "      <th>16</th>\n",
       "      <td>NaN</td>\n",
       "      <td>NaN</td>\n",
       "      <td>NaN</td>\n",
       "    </tr>\n",
       "    <tr>\n",
       "      <th>45</th>\n",
       "      <td>NaN</td>\n",
       "      <td>NaN</td>\n",
       "      <td>NaN</td>\n",
       "    </tr>\n",
       "    <tr>\n",
       "      <th>74</th>\n",
       "      <td>NaN</td>\n",
       "      <td>NaN</td>\n",
       "      <td>NaN</td>\n",
       "    </tr>\n",
       "    <tr>\n",
       "      <th>86</th>\n",
       "      <td>NaN</td>\n",
       "      <td>NaN</td>\n",
       "      <td>NaN</td>\n",
       "    </tr>\n",
       "    <tr>\n",
       "      <th>95</th>\n",
       "      <td>NaN</td>\n",
       "      <td>NaN</td>\n",
       "      <td>NaN</td>\n",
       "    </tr>\n",
       "    <tr>\n",
       "      <th>108</th>\n",
       "      <td>NaN</td>\n",
       "      <td>NaN</td>\n",
       "      <td>NaN</td>\n",
       "    </tr>\n",
       "    <tr>\n",
       "      <th>125</th>\n",
       "      <td>NaN</td>\n",
       "      <td>NaN</td>\n",
       "      <td>NaN</td>\n",
       "    </tr>\n",
       "    <tr>\n",
       "      <th>128</th>\n",
       "      <td>NaN</td>\n",
       "      <td>NaN</td>\n",
       "      <td>NaN</td>\n",
       "    </tr>\n",
       "    <tr>\n",
       "      <th>138</th>\n",
       "      <td>NaN</td>\n",
       "      <td>NaN</td>\n",
       "      <td>NaN</td>\n",
       "    </tr>\n",
       "    <tr>\n",
       "      <th>155</th>\n",
       "      <td>NaN</td>\n",
       "      <td>NaN</td>\n",
       "      <td>NaN</td>\n",
       "    </tr>\n",
       "    <tr>\n",
       "      <th>165</th>\n",
       "      <td>NaN</td>\n",
       "      <td>NaN</td>\n",
       "      <td>NaN</td>\n",
       "    </tr>\n",
       "    <tr>\n",
       "      <th>168</th>\n",
       "      <td>NaN</td>\n",
       "      <td>NaN</td>\n",
       "      <td>NaN</td>\n",
       "    </tr>\n",
       "    <tr>\n",
       "      <th>175</th>\n",
       "      <td>NaN</td>\n",
       "      <td>NaN</td>\n",
       "      <td>NaN</td>\n",
       "    </tr>\n",
       "    <tr>\n",
       "      <th>176</th>\n",
       "      <td>NaN</td>\n",
       "      <td>NaN</td>\n",
       "      <td>NaN</td>\n",
       "    </tr>\n",
       "  </tbody>\n",
       "</table>\n",
       "</div>"
      ],
      "text/plain": [
       "     RANK COUNTRY  SCORE\n",
       "16    NaN     NaN    NaN\n",
       "45    NaN     NaN    NaN\n",
       "74    NaN     NaN    NaN\n",
       "86    NaN     NaN    NaN\n",
       "95    NaN     NaN    NaN\n",
       "108   NaN     NaN    NaN\n",
       "125   NaN     NaN    NaN\n",
       "128   NaN     NaN    NaN\n",
       "138   NaN     NaN    NaN\n",
       "155   NaN     NaN    NaN\n",
       "165   NaN     NaN    NaN\n",
       "168   NaN     NaN    NaN\n",
       "175   NaN     NaN    NaN\n",
       "176   NaN     NaN    NaN"
      ]
     },
     "execution_count": 36,
     "metadata": {},
     "output_type": "execute_result"
    }
   ],
   "source": [
    "peace[peace[[\"COUNTRY\"]].isnull().any(axis=1)]"
   ]
  },
  {
   "cell_type": "markdown",
   "id": "00d982db",
   "metadata": {
    "pycharm": {
     "name": "#%% md\n"
    }
   },
   "source": [
    "Given the exploration done in the peace dataset, we can conclude that for the next step in the cleaning and transformations, we wish to keep the \"RANK\", and \"COUNTRY\" columns, but rename them. Moreover, to make sure that the dataset is homogeneous we will capitalize the first letter of each word in the \"COUNTRY\" column. We can also see that there is multiple null values, that arise due to the existing of completely empty rows, which will be dealt with."
   ]
  },
  {
   "cell_type": "markdown",
   "id": "6b06ee96",
   "metadata": {
    "pycharm": {
     "name": "#%% md\n"
    }
   },
   "source": [
    "#### WEF Index Data"
   ]
  },
  {
   "cell_type": "code",
   "execution_count": 37,
   "id": "7e640b9e",
   "metadata": {
    "pycharm": {
     "name": "#%%\n"
    }
   },
   "outputs": [],
   "source": [
    "# to flatten the double header from excel\n",
    "wef.columns=wef.columns.to_flat_index()"
   ]
  },
  {
   "cell_type": "code",
   "execution_count": 38,
   "id": "094037b7",
   "metadata": {
    "pycharm": {
     "name": "#%%\n"
    }
   },
   "outputs": [
    {
     "data": {
      "text/html": [
       "<div>\n",
       "<style scoped>\n",
       "    .dataframe tbody tr th:only-of-type {\n",
       "        vertical-align: middle;\n",
       "    }\n",
       "\n",
       "    .dataframe tbody tr th {\n",
       "        vertical-align: top;\n",
       "    }\n",
       "\n",
       "    .dataframe thead th {\n",
       "        text-align: right;\n",
       "    }\n",
       "</style>\n",
       "<table border=\"1\" class=\"dataframe\">\n",
       "  <thead>\n",
       "    <tr style=\"text-align: right;\">\n",
       "      <th></th>\n",
       "      <th>(Unnamed: 0_level_0, ISO Code)</th>\n",
       "      <th>(Unnamed: 1_level_0, Economy)</th>\n",
       "      <th>(Unnamed: 2_level_0, Region)</th>\n",
       "      <th>(Unnamed: 3_level_0, Sub Region)</th>\n",
       "      <th>(Unnamed: 4_level_0, Income Group)</th>\n",
       "      <th>(Travel &amp; Tourism Development Index , 2019 Value)</th>\n",
       "      <th>(Travel &amp; Tourism Development Index , 2019 Rank)</th>\n",
       "      <th>(Travel &amp; Tourism Development Index , 2021 Value)</th>\n",
       "      <th>(Travel &amp; Tourism Development Index , 2021 Rank)</th>\n",
       "      <th>(Travel &amp; Tourism Development Index , % Dif Score)</th>\n",
       "      <th>...</th>\n",
       "      <th>(Socioeconomic Resilience &amp; Conditions pillar, 2021 Value)</th>\n",
       "      <th>(Socioeconomic Resilience &amp; Conditions pillar, 2021 Rank)</th>\n",
       "      <th>(Socioeconomic Resilience &amp; Conditions pillar, % Dif Score)</th>\n",
       "      <th>(Socioeconomic Resilience &amp; Conditions pillar, Rank Change)</th>\n",
       "      <th>(T&amp;T Demand Pressure &amp; Impact pillar, 2019 Value)</th>\n",
       "      <th>(T&amp;T Demand Pressure &amp; Impact pillar, 2019 Rank)</th>\n",
       "      <th>(T&amp;T Demand Pressure &amp; Impact pillar, 2021 Value)</th>\n",
       "      <th>(T&amp;T Demand Pressure &amp; Impact pillar, 2021 Rank)</th>\n",
       "      <th>(T&amp;T Demand Pressure &amp; Impact pillar, % Dif Score)</th>\n",
       "      <th>(T&amp;T Demand Pressure &amp; Impact pillar, Rank Change)</th>\n",
       "    </tr>\n",
       "  </thead>\n",
       "  <tbody>\n",
       "    <tr>\n",
       "      <th>0</th>\n",
       "      <td>JPN</td>\n",
       "      <td>Japan</td>\n",
       "      <td>Asia-Pacific</td>\n",
       "      <td>Eastern Asia-Pacific</td>\n",
       "      <td>High-income economies</td>\n",
       "      <td>5.209308</td>\n",
       "      <td>2</td>\n",
       "      <td>5.245868</td>\n",
       "      <td>1</td>\n",
       "      <td>0.007018</td>\n",
       "      <td>...</td>\n",
       "      <td>5.710859</td>\n",
       "      <td>11</td>\n",
       "      <td>0.035617</td>\n",
       "      <td>6</td>\n",
       "      <td>4.162195</td>\n",
       "      <td>43</td>\n",
       "      <td>4.287192</td>\n",
       "      <td>41</td>\n",
       "      <td>0.030031</td>\n",
       "      <td>2</td>\n",
       "    </tr>\n",
       "    <tr>\n",
       "      <th>1</th>\n",
       "      <td>USA</td>\n",
       "      <td>United States</td>\n",
       "      <td>The Americas</td>\n",
       "      <td>North and Central America</td>\n",
       "      <td>High-income economies</td>\n",
       "      <td>5.253746</td>\n",
       "      <td>1</td>\n",
       "      <td>5.199991</td>\n",
       "      <td>2</td>\n",
       "      <td>-0.010232</td>\n",
       "      <td>...</td>\n",
       "      <td>4.496351</td>\n",
       "      <td>44</td>\n",
       "      <td>0.018056</td>\n",
       "      <td>-1</td>\n",
       "      <td>4.835106</td>\n",
       "      <td>4</td>\n",
       "      <td>4.945433</td>\n",
       "      <td>3</td>\n",
       "      <td>0.022818</td>\n",
       "      <td>1</td>\n",
       "    </tr>\n",
       "    <tr>\n",
       "      <th>2</th>\n",
       "      <td>ESP</td>\n",
       "      <td>Spain</td>\n",
       "      <td>Europe and Eurasia</td>\n",
       "      <td>Southern Europe</td>\n",
       "      <td>High-income economies</td>\n",
       "      <td>5.156125</td>\n",
       "      <td>5</td>\n",
       "      <td>5.154733</td>\n",
       "      <td>3</td>\n",
       "      <td>-0.000270</td>\n",
       "      <td>...</td>\n",
       "      <td>5.297103</td>\n",
       "      <td>25</td>\n",
       "      <td>0.068278</td>\n",
       "      <td>5</td>\n",
       "      <td>3.668553</td>\n",
       "      <td>89</td>\n",
       "      <td>3.768780</td>\n",
       "      <td>81</td>\n",
       "      <td>0.027321</td>\n",
       "      <td>8</td>\n",
       "    </tr>\n",
       "    <tr>\n",
       "      <th>3</th>\n",
       "      <td>FRA</td>\n",
       "      <td>France</td>\n",
       "      <td>Europe and Eurasia</td>\n",
       "      <td>Western Europe</td>\n",
       "      <td>High-income economies</td>\n",
       "      <td>5.139553</td>\n",
       "      <td>6</td>\n",
       "      <td>5.126821</td>\n",
       "      <td>4</td>\n",
       "      <td>-0.002477</td>\n",
       "      <td>...</td>\n",
       "      <td>5.734719</td>\n",
       "      <td>10</td>\n",
       "      <td>0.005727</td>\n",
       "      <td>1</td>\n",
       "      <td>3.447736</td>\n",
       "      <td>106</td>\n",
       "      <td>3.429899</td>\n",
       "      <td>108</td>\n",
       "      <td>-0.005174</td>\n",
       "      <td>-2</td>\n",
       "    </tr>\n",
       "    <tr>\n",
       "      <th>4</th>\n",
       "      <td>DEU</td>\n",
       "      <td>Germany</td>\n",
       "      <td>Europe and Eurasia</td>\n",
       "      <td>Western Europe</td>\n",
       "      <td>High-income economies</td>\n",
       "      <td>5.158769</td>\n",
       "      <td>4</td>\n",
       "      <td>5.064452</td>\n",
       "      <td>5</td>\n",
       "      <td>-0.018283</td>\n",
       "      <td>...</td>\n",
       "      <td>5.884420</td>\n",
       "      <td>8</td>\n",
       "      <td>0.012092</td>\n",
       "      <td>0</td>\n",
       "      <td>3.691413</td>\n",
       "      <td>87</td>\n",
       "      <td>3.921128</td>\n",
       "      <td>73</td>\n",
       "      <td>0.062230</td>\n",
       "      <td>14</td>\n",
       "    </tr>\n",
       "  </tbody>\n",
       "</table>\n",
       "<p>5 rows × 143 columns</p>\n",
       "</div>"
      ],
      "text/plain": [
       "  (Unnamed: 0_level_0, ISO Code) (Unnamed: 1_level_0, Economy)  \\\n",
       "0                            JPN                         Japan   \n",
       "1                            USA                 United States   \n",
       "2                            ESP                         Spain   \n",
       "3                            FRA                        France   \n",
       "4                            DEU                       Germany   \n",
       "\n",
       "  (Unnamed: 2_level_0, Region) (Unnamed: 3_level_0, Sub Region)  \\\n",
       "0                 Asia-Pacific             Eastern Asia-Pacific   \n",
       "1                 The Americas        North and Central America   \n",
       "2           Europe and Eurasia                  Southern Europe   \n",
       "3           Europe and Eurasia                   Western Europe   \n",
       "4           Europe and Eurasia                   Western Europe   \n",
       "\n",
       "  (Unnamed: 4_level_0, Income Group)  \\\n",
       "0              High-income economies   \n",
       "1              High-income economies   \n",
       "2              High-income economies   \n",
       "3              High-income economies   \n",
       "4              High-income economies   \n",
       "\n",
       "   (Travel & Tourism Development Index , 2019 Value)  \\\n",
       "0                                           5.209308   \n",
       "1                                           5.253746   \n",
       "2                                           5.156125   \n",
       "3                                           5.139553   \n",
       "4                                           5.158769   \n",
       "\n",
       "   (Travel & Tourism Development Index , 2019 Rank)  \\\n",
       "0                                                 2   \n",
       "1                                                 1   \n",
       "2                                                 5   \n",
       "3                                                 6   \n",
       "4                                                 4   \n",
       "\n",
       "   (Travel & Tourism Development Index , 2021 Value)  \\\n",
       "0                                           5.245868   \n",
       "1                                           5.199991   \n",
       "2                                           5.154733   \n",
       "3                                           5.126821   \n",
       "4                                           5.064452   \n",
       "\n",
       "   (Travel & Tourism Development Index , 2021 Rank)  \\\n",
       "0                                                 1   \n",
       "1                                                 2   \n",
       "2                                                 3   \n",
       "3                                                 4   \n",
       "4                                                 5   \n",
       "\n",
       "   (Travel & Tourism Development Index , % Dif Score)  ...  \\\n",
       "0                                           0.007018   ...   \n",
       "1                                          -0.010232   ...   \n",
       "2                                          -0.000270   ...   \n",
       "3                                          -0.002477   ...   \n",
       "4                                          -0.018283   ...   \n",
       "\n",
       "   (Socioeconomic Resilience & Conditions pillar, 2021 Value)  \\\n",
       "0                                           5.710859            \n",
       "1                                           4.496351            \n",
       "2                                           5.297103            \n",
       "3                                           5.734719            \n",
       "4                                           5.884420            \n",
       "\n",
       "   (Socioeconomic Resilience & Conditions pillar, 2021 Rank)  \\\n",
       "0                                                 11           \n",
       "1                                                 44           \n",
       "2                                                 25           \n",
       "3                                                 10           \n",
       "4                                                  8           \n",
       "\n",
       "   (Socioeconomic Resilience & Conditions pillar, % Dif Score)  \\\n",
       "0                                           0.035617             \n",
       "1                                           0.018056             \n",
       "2                                           0.068278             \n",
       "3                                           0.005727             \n",
       "4                                           0.012092             \n",
       "\n",
       "   (Socioeconomic Resilience & Conditions pillar, Rank Change)  \\\n",
       "0                                                  6             \n",
       "1                                                 -1             \n",
       "2                                                  5             \n",
       "3                                                  1             \n",
       "4                                                  0             \n",
       "\n",
       "   (T&T Demand Pressure & Impact pillar, 2019 Value)  \\\n",
       "0                                           4.162195   \n",
       "1                                           4.835106   \n",
       "2                                           3.668553   \n",
       "3                                           3.447736   \n",
       "4                                           3.691413   \n",
       "\n",
       "   (T&T Demand Pressure & Impact pillar, 2019 Rank)  \\\n",
       "0                                                43   \n",
       "1                                                 4   \n",
       "2                                                89   \n",
       "3                                               106   \n",
       "4                                                87   \n",
       "\n",
       "   (T&T Demand Pressure & Impact pillar, 2021 Value)  \\\n",
       "0                                           4.287192   \n",
       "1                                           4.945433   \n",
       "2                                           3.768780   \n",
       "3                                           3.429899   \n",
       "4                                           3.921128   \n",
       "\n",
       "   (T&T Demand Pressure & Impact pillar, 2021 Rank)  \\\n",
       "0                                                41   \n",
       "1                                                 3   \n",
       "2                                                81   \n",
       "3                                               108   \n",
       "4                                                73   \n",
       "\n",
       "   (T&T Demand Pressure & Impact pillar, % Dif Score)  \\\n",
       "0                                           0.030031    \n",
       "1                                           0.022818    \n",
       "2                                           0.027321    \n",
       "3                                          -0.005174    \n",
       "4                                           0.062230    \n",
       "\n",
       "   (T&T Demand Pressure & Impact pillar, Rank Change)  \n",
       "0                                                  2   \n",
       "1                                                  1   \n",
       "2                                                  8   \n",
       "3                                                 -2   \n",
       "4                                                 14   \n",
       "\n",
       "[5 rows x 143 columns]"
      ]
     },
     "execution_count": 38,
     "metadata": {},
     "output_type": "execute_result"
    }
   ],
   "source": [
    "wef.head()"
   ]
  },
  {
   "cell_type": "code",
   "execution_count": 39,
   "id": "05783365",
   "metadata": {
    "pycharm": {
     "name": "#%%\n"
    }
   },
   "outputs": [
    {
     "name": "stdout",
     "output_type": "stream",
     "text": [
      "<class 'pandas.core.frame.DataFrame'>\n",
      "RangeIndex: 117 entries, 0 to 116\n",
      "Columns: 143 entries, ('Unnamed: 0_level_0', 'ISO Code') to ('T&T Demand Pressure & Impact pillar', 'Rank Change')\n",
      "dtypes: float64(69), int64(69), object(5)\n",
      "memory usage: 130.8+ KB\n"
     ]
    }
   ],
   "source": [
    "wef.info()"
   ]
  },
  {
   "cell_type": "code",
   "execution_count": 40,
   "id": "b979cf21",
   "metadata": {
    "pycharm": {
     "name": "#%%\n"
    }
   },
   "outputs": [
    {
     "data": {
      "text/plain": [
       "(Unnamed: 0_level_0, ISO Code)                        0\n",
       "(Unnamed: 1_level_0, Economy)                         0\n",
       "(Unnamed: 2_level_0, Region)                          0\n",
       "(Unnamed: 3_level_0, Sub Region)                      0\n",
       "(Unnamed: 4_level_0, Income Group)                    0\n",
       "                                                     ..\n",
       "(T&T Demand Pressure & Impact pillar, 2019 Rank)      0\n",
       "(T&T Demand Pressure & Impact pillar, 2021 Value)     0\n",
       "(T&T Demand Pressure & Impact pillar, 2021 Rank)      0\n",
       "(T&T Demand Pressure & Impact pillar, % Dif Score)    0\n",
       "(T&T Demand Pressure & Impact pillar, Rank Change)    0\n",
       "Length: 143, dtype: int64"
      ]
     },
     "execution_count": 40,
     "metadata": {},
     "output_type": "execute_result"
    }
   ],
   "source": [
    "wef.isna().sum()"
   ]
  },
  {
   "cell_type": "markdown",
   "id": "8e888b77",
   "metadata": {
    "pycharm": {
     "name": "#%% md\n"
    }
   },
   "source": [
    "Among 143 columns we have in dataset, we will choose relevant columns and drop all the others. We found we have no null data in the dataset. Moreover, as the dataset have ISO code itself, there is no further cleaning needed for the country name."
   ]
  },
  {
   "cell_type": "markdown",
   "id": "2556715c",
   "metadata": {
    "pycharm": {
     "name": "#%% md\n"
    }
   },
   "source": [
    "#### Average Restaurant and Accomodation Cost Data"
   ]
  },
  {
   "cell_type": "code",
   "execution_count": 41,
   "id": "9bc98250",
   "metadata": {
    "pycharm": {
     "name": "#%%\n"
    }
   },
   "outputs": [
    {
     "data": {
      "text/html": [
       "<div>\n",
       "<style scoped>\n",
       "    .dataframe tbody tr th:only-of-type {\n",
       "        vertical-align: middle;\n",
       "    }\n",
       "\n",
       "    .dataframe tbody tr th {\n",
       "        vertical-align: top;\n",
       "    }\n",
       "\n",
       "    .dataframe thead th {\n",
       "        text-align: right;\n",
       "    }\n",
       "</style>\n",
       "<table border=\"1\" class=\"dataframe\">\n",
       "  <thead>\n",
       "    <tr style=\"text-align: right;\">\n",
       "      <th></th>\n",
       "      <th>Country Name</th>\n",
       "      <th>Country Code</th>\n",
       "      <th>Classification Name</th>\n",
       "      <th>Classification Code</th>\n",
       "      <th>Series Name</th>\n",
       "      <th>Series Code</th>\n",
       "      <th>2017 [YR2017]</th>\n",
       "    </tr>\n",
       "  </thead>\n",
       "  <tbody>\n",
       "    <tr>\n",
       "      <th>0</th>\n",
       "      <td>Albania</td>\n",
       "      <td>ALB</td>\n",
       "      <td>Price level index (World = 100)</td>\n",
       "      <td>PX.WL</td>\n",
       "      <td>1111000:RESTAURANTS AND HOTELS</td>\n",
       "      <td>1111000.0</td>\n",
       "      <td>50.78426859</td>\n",
       "    </tr>\n",
       "    <tr>\n",
       "      <th>1</th>\n",
       "      <td>Algeria</td>\n",
       "      <td>DZA</td>\n",
       "      <td>Price level index (World = 100)</td>\n",
       "      <td>PX.WL</td>\n",
       "      <td>1111000:RESTAURANTS AND HOTELS</td>\n",
       "      <td>1111000.0</td>\n",
       "      <td>33.93366644</td>\n",
       "    </tr>\n",
       "    <tr>\n",
       "      <th>2</th>\n",
       "      <td>American Samoa</td>\n",
       "      <td>ASM</td>\n",
       "      <td>Price level index (World = 100)</td>\n",
       "      <td>PX.WL</td>\n",
       "      <td>1111000:RESTAURANTS AND HOTELS</td>\n",
       "      <td>1111000.0</td>\n",
       "      <td>..</td>\n",
       "    </tr>\n",
       "    <tr>\n",
       "      <th>3</th>\n",
       "      <td>Angola</td>\n",
       "      <td>AGO</td>\n",
       "      <td>Price level index (World = 100)</td>\n",
       "      <td>PX.WL</td>\n",
       "      <td>1111000:RESTAURANTS AND HOTELS</td>\n",
       "      <td>1111000.0</td>\n",
       "      <td>79.22385228</td>\n",
       "    </tr>\n",
       "    <tr>\n",
       "      <th>4</th>\n",
       "      <td>Anguilla</td>\n",
       "      <td>AIA</td>\n",
       "      <td>Price level index (World = 100)</td>\n",
       "      <td>PX.WL</td>\n",
       "      <td>1111000:RESTAURANTS AND HOTELS</td>\n",
       "      <td>1111000.0</td>\n",
       "      <td>122.29901</td>\n",
       "    </tr>\n",
       "  </tbody>\n",
       "</table>\n",
       "</div>"
      ],
      "text/plain": [
       "     Country Name Country Code              Classification Name  \\\n",
       "0         Albania          ALB  Price level index (World = 100)   \n",
       "1         Algeria          DZA  Price level index (World = 100)   \n",
       "2  American Samoa          ASM  Price level index (World = 100)   \n",
       "3          Angola          AGO  Price level index (World = 100)   \n",
       "4        Anguilla          AIA  Price level index (World = 100)   \n",
       "\n",
       "  Classification Code                     Series Name  Series Code  \\\n",
       "0               PX.WL  1111000:RESTAURANTS AND HOTELS    1111000.0   \n",
       "1               PX.WL  1111000:RESTAURANTS AND HOTELS    1111000.0   \n",
       "2               PX.WL  1111000:RESTAURANTS AND HOTELS    1111000.0   \n",
       "3               PX.WL  1111000:RESTAURANTS AND HOTELS    1111000.0   \n",
       "4               PX.WL  1111000:RESTAURANTS AND HOTELS    1111000.0   \n",
       "\n",
       "  2017 [YR2017]  \n",
       "0   50.78426859  \n",
       "1   33.93366644  \n",
       "2            ..  \n",
       "3   79.22385228  \n",
       "4     122.29901  "
      ]
     },
     "execution_count": 41,
     "metadata": {},
     "output_type": "execute_result"
    }
   ],
   "source": [
    "avg_rest_hot_p.head()"
   ]
  },
  {
   "cell_type": "code",
   "execution_count": 42,
   "id": "7b777152",
   "metadata": {
    "pycharm": {
     "name": "#%%\n"
    }
   },
   "outputs": [
    {
     "name": "stdout",
     "output_type": "stream",
     "text": [
      "<class 'pandas.core.frame.DataFrame'>\n",
      "RangeIndex: 227 entries, 0 to 226\n",
      "Data columns (total 7 columns):\n",
      " #   Column               Non-Null Count  Dtype  \n",
      "---  ------               --------------  -----  \n",
      " 0   Country Name         224 non-null    object \n",
      " 1   Country Code         222 non-null    object \n",
      " 2   Classification Name  222 non-null    object \n",
      " 3   Classification Code  222 non-null    object \n",
      " 4   Series Name          222 non-null    object \n",
      " 5   Series Code          222 non-null    float64\n",
      " 6   2017 [YR2017]        222 non-null    object \n",
      "dtypes: float64(1), object(6)\n",
      "memory usage: 12.5+ KB\n"
     ]
    }
   ],
   "source": [
    "avg_rest_hot_p.info()"
   ]
  },
  {
   "cell_type": "code",
   "execution_count": 43,
   "id": "6f9be120",
   "metadata": {
    "pycharm": {
     "name": "#%%\n"
    }
   },
   "outputs": [
    {
     "data": {
      "text/plain": [
       "Country Name           3\n",
       "Country Code           5\n",
       "Classification Name    5\n",
       "Classification Code    5\n",
       "Series Name            5\n",
       "Series Code            5\n",
       "2017 [YR2017]          5\n",
       "dtype: int64"
      ]
     },
     "execution_count": 43,
     "metadata": {},
     "output_type": "execute_result"
    }
   ],
   "source": [
    "avg_rest_hot_p.isna().sum() "
   ]
  },
  {
   "cell_type": "code",
   "execution_count": 44,
   "id": "e1cad95a",
   "metadata": {
    "pycharm": {
     "name": "#%%\n"
    }
   },
   "outputs": [
    {
     "data": {
      "text/html": [
       "<div>\n",
       "<style scoped>\n",
       "    .dataframe tbody tr th:only-of-type {\n",
       "        vertical-align: middle;\n",
       "    }\n",
       "\n",
       "    .dataframe tbody tr th {\n",
       "        vertical-align: top;\n",
       "    }\n",
       "\n",
       "    .dataframe thead th {\n",
       "        text-align: right;\n",
       "    }\n",
       "</style>\n",
       "<table border=\"1\" class=\"dataframe\">\n",
       "  <thead>\n",
       "    <tr style=\"text-align: right;\">\n",
       "      <th></th>\n",
       "      <th>Country Name</th>\n",
       "      <th>Country Code</th>\n",
       "      <th>Classification Name</th>\n",
       "      <th>Classification Code</th>\n",
       "      <th>Series Name</th>\n",
       "      <th>Series Code</th>\n",
       "      <th>2017 [YR2017]</th>\n",
       "    </tr>\n",
       "  </thead>\n",
       "  <tbody>\n",
       "    <tr>\n",
       "      <th>222</th>\n",
       "      <td>NaN</td>\n",
       "      <td>NaN</td>\n",
       "      <td>NaN</td>\n",
       "      <td>NaN</td>\n",
       "      <td>NaN</td>\n",
       "      <td>NaN</td>\n",
       "      <td>NaN</td>\n",
       "    </tr>\n",
       "    <tr>\n",
       "      <th>223</th>\n",
       "      <td>NaN</td>\n",
       "      <td>NaN</td>\n",
       "      <td>NaN</td>\n",
       "      <td>NaN</td>\n",
       "      <td>NaN</td>\n",
       "      <td>NaN</td>\n",
       "      <td>NaN</td>\n",
       "    </tr>\n",
       "    <tr>\n",
       "      <th>224</th>\n",
       "      <td>NaN</td>\n",
       "      <td>NaN</td>\n",
       "      <td>NaN</td>\n",
       "      <td>NaN</td>\n",
       "      <td>NaN</td>\n",
       "      <td>NaN</td>\n",
       "      <td>NaN</td>\n",
       "    </tr>\n",
       "  </tbody>\n",
       "</table>\n",
       "</div>"
      ],
      "text/plain": [
       "    Country Name Country Code Classification Name Classification Code  \\\n",
       "222          NaN          NaN                 NaN                 NaN   \n",
       "223          NaN          NaN                 NaN                 NaN   \n",
       "224          NaN          NaN                 NaN                 NaN   \n",
       "\n",
       "    Series Name  Series Code 2017 [YR2017]  \n",
       "222         NaN          NaN           NaN  \n",
       "223         NaN          NaN           NaN  \n",
       "224         NaN          NaN           NaN  "
      ]
     },
     "execution_count": 44,
     "metadata": {},
     "output_type": "execute_result"
    }
   ],
   "source": [
    "avg_rest_hot_p[avg_rest_hot_p[[\"Country Name\"]].isnull().any(axis=1)]"
   ]
  },
  {
   "cell_type": "code",
   "execution_count": 45,
   "id": "8b6400e9",
   "metadata": {
    "pycharm": {
     "name": "#%%\n"
    }
   },
   "outputs": [
    {
     "data": {
      "text/html": [
       "<div>\n",
       "<style scoped>\n",
       "    .dataframe tbody tr th:only-of-type {\n",
       "        vertical-align: middle;\n",
       "    }\n",
       "\n",
       "    .dataframe tbody tr th {\n",
       "        vertical-align: top;\n",
       "    }\n",
       "\n",
       "    .dataframe thead th {\n",
       "        text-align: right;\n",
       "    }\n",
       "</style>\n",
       "<table border=\"1\" class=\"dataframe\">\n",
       "  <thead>\n",
       "    <tr style=\"text-align: right;\">\n",
       "      <th></th>\n",
       "      <th>Country Name</th>\n",
       "      <th>Country Code</th>\n",
       "      <th>Classification Name</th>\n",
       "      <th>Classification Code</th>\n",
       "      <th>Series Name</th>\n",
       "      <th>Series Code</th>\n",
       "      <th>2017 [YR2017]</th>\n",
       "    </tr>\n",
       "  </thead>\n",
       "  <tbody>\n",
       "    <tr>\n",
       "      <th>222</th>\n",
       "      <td>NaN</td>\n",
       "      <td>NaN</td>\n",
       "      <td>NaN</td>\n",
       "      <td>NaN</td>\n",
       "      <td>NaN</td>\n",
       "      <td>NaN</td>\n",
       "      <td>NaN</td>\n",
       "    </tr>\n",
       "    <tr>\n",
       "      <th>223</th>\n",
       "      <td>NaN</td>\n",
       "      <td>NaN</td>\n",
       "      <td>NaN</td>\n",
       "      <td>NaN</td>\n",
       "      <td>NaN</td>\n",
       "      <td>NaN</td>\n",
       "      <td>NaN</td>\n",
       "    </tr>\n",
       "    <tr>\n",
       "      <th>224</th>\n",
       "      <td>NaN</td>\n",
       "      <td>NaN</td>\n",
       "      <td>NaN</td>\n",
       "      <td>NaN</td>\n",
       "      <td>NaN</td>\n",
       "      <td>NaN</td>\n",
       "      <td>NaN</td>\n",
       "    </tr>\n",
       "    <tr>\n",
       "      <th>225</th>\n",
       "      <td>Data from database: ICP 2017</td>\n",
       "      <td>NaN</td>\n",
       "      <td>NaN</td>\n",
       "      <td>NaN</td>\n",
       "      <td>NaN</td>\n",
       "      <td>NaN</td>\n",
       "      <td>NaN</td>\n",
       "    </tr>\n",
       "    <tr>\n",
       "      <th>226</th>\n",
       "      <td>Last Updated: 10/21/2020</td>\n",
       "      <td>NaN</td>\n",
       "      <td>NaN</td>\n",
       "      <td>NaN</td>\n",
       "      <td>NaN</td>\n",
       "      <td>NaN</td>\n",
       "      <td>NaN</td>\n",
       "    </tr>\n",
       "  </tbody>\n",
       "</table>\n",
       "</div>"
      ],
      "text/plain": [
       "                     Country Name Country Code Classification Name  \\\n",
       "222                           NaN          NaN                 NaN   \n",
       "223                           NaN          NaN                 NaN   \n",
       "224                           NaN          NaN                 NaN   \n",
       "225  Data from database: ICP 2017          NaN                 NaN   \n",
       "226      Last Updated: 10/21/2020          NaN                 NaN   \n",
       "\n",
       "    Classification Code Series Name  Series Code 2017 [YR2017]  \n",
       "222                 NaN         NaN          NaN           NaN  \n",
       "223                 NaN         NaN          NaN           NaN  \n",
       "224                 NaN         NaN          NaN           NaN  \n",
       "225                 NaN         NaN          NaN           NaN  \n",
       "226                 NaN         NaN          NaN           NaN  "
      ]
     },
     "execution_count": 45,
     "metadata": {},
     "output_type": "execute_result"
    }
   ],
   "source": [
    "avg_rest_hot_p[avg_rest_hot_p[[\"Country Code\"]].isnull().any(axis=1)]"
   ]
  },
  {
   "cell_type": "markdown",
   "id": "4796a2f1",
   "metadata": {
    "pycharm": {
     "name": "#%% md\n"
    }
   },
   "source": [
    "Given the exploration done in the avg_rest_hot_p dataset, we can conclude that for the next step in the cleaning and transformations, we wish to keep only the \"Country Name\", \" Country Code\", and the \"2017 [YR2017]\" columns, but we will rename them. Moreover, to make sure that the dataset is homogeneous we will capitalize the first letter of each word in the \"Country Name\" column. We can also see that there is 5 null values, which arise due to empty rows and footnotes, these will be handled accordingly. Additionally, we can see that some countries in the average price have \"..\" instead of being null, which will be solved."
   ]
  },
  {
   "cell_type": "markdown",
   "id": "302d4149",
   "metadata": {
    "pycharm": {
     "name": "#%% md\n"
    }
   },
   "source": [
    "## Clean, transform, and subset the data"
   ]
  },
  {
   "cell_type": "markdown",
   "id": "462c46a4",
   "metadata": {
    "pycharm": {
     "name": "#%% md\n"
    }
   },
   "source": [
    "#### Country - ISO CODE Dataset"
   ]
  },
  {
   "cell_type": "code",
   "execution_count": 46,
   "id": "e11808b3",
   "metadata": {
    "pycharm": {
     "name": "#%%\n"
    }
   },
   "outputs": [],
   "source": [
    "country['Name'] = country['Name'].str.title()\n",
    "country['Name'] = country['Name'].str.strip()"
   ]
  },
  {
   "cell_type": "markdown",
   "id": "c9701b9f",
   "metadata": {
    "pycharm": {
     "name": "#%% md\n"
    }
   },
   "source": [
    "#### Airport Distance dataset"
   ]
  },
  {
   "cell_type": "code",
   "execution_count": 47,
   "id": "86eefe92",
   "metadata": {
    "pycharm": {
     "name": "#%%\n"
    }
   },
   "outputs": [],
   "source": [
    "airport_distance = airport_distance.dropna(subset=[\"Name_Origin\", \"Country_Origin\", \"Name_Dest\", \"Country_Dest\"], how='any')"
   ]
  },
  {
   "cell_type": "code",
   "execution_count": 48,
   "id": "67d2e799",
   "metadata": {
    "pycharm": {
     "name": "#%%\n"
    }
   },
   "outputs": [],
   "source": [
    "airport_distance = airport_distance.drop(columns=['ORIGIN_AIRPORT_SEQ_ID', 'DEST_AIRPORT_SEQ_ID','ICAO_Origin','Latitude_Origin','Longitude_Origin', 'ICAO_Dest', 'Latitude_Dest', 'Longitude_Dest', 'IATA_Origin', 'IATA_Dest'])"
   ]
  },
  {
   "cell_type": "code",
   "execution_count": 49,
   "id": "3ca6f3bf",
   "metadata": {
    "pycharm": {
     "name": "#%%\n"
    }
   },
   "outputs": [
    {
     "data": {
      "text/html": [
       "<div>\n",
       "<style scoped>\n",
       "    .dataframe tbody tr th:only-of-type {\n",
       "        vertical-align: middle;\n",
       "    }\n",
       "\n",
       "    .dataframe tbody tr th {\n",
       "        vertical-align: top;\n",
       "    }\n",
       "\n",
       "    .dataframe thead th {\n",
       "        text-align: right;\n",
       "    }\n",
       "</style>\n",
       "<table border=\"1\" class=\"dataframe\">\n",
       "  <thead>\n",
       "    <tr style=\"text-align: right;\">\n",
       "      <th></th>\n",
       "      <th>ORIGIN</th>\n",
       "      <th>DEST</th>\n",
       "      <th>DISTANCE IN MILES</th>\n",
       "      <th>Name_Origin</th>\n",
       "      <th>City_Origin</th>\n",
       "      <th>Country_Origin</th>\n",
       "      <th>Name_Dest</th>\n",
       "      <th>City_Dest</th>\n",
       "      <th>Country_Dest</th>\n",
       "    </tr>\n",
       "  </thead>\n",
       "  <tbody>\n",
       "    <tr>\n",
       "      <th>188</th>\n",
       "      <td>AAO</td>\n",
       "      <td>AUO</td>\n",
       "      <td>2083.0</td>\n",
       "      <td>Anaco Airport</td>\n",
       "      <td>Anaco</td>\n",
       "      <td>Venezuela</td>\n",
       "      <td>Auburn University Regional Airport</td>\n",
       "      <td>Auburn</td>\n",
       "      <td>United States</td>\n",
       "    </tr>\n",
       "    <tr>\n",
       "      <th>189</th>\n",
       "      <td>AAO</td>\n",
       "      <td>BZN</td>\n",
       "      <td>3721.0</td>\n",
       "      <td>Anaco Airport</td>\n",
       "      <td>Anaco</td>\n",
       "      <td>Venezuela</td>\n",
       "      <td>Gallatin Field</td>\n",
       "      <td>Bozeman</td>\n",
       "      <td>United States</td>\n",
       "    </tr>\n",
       "    <tr>\n",
       "      <th>190</th>\n",
       "      <td>AAO</td>\n",
       "      <td>JAX</td>\n",
       "      <td>1826.0</td>\n",
       "      <td>Anaco Airport</td>\n",
       "      <td>Anaco</td>\n",
       "      <td>Venezuela</td>\n",
       "      <td>Jacksonville International Airport</td>\n",
       "      <td>Jacksonville</td>\n",
       "      <td>United States</td>\n",
       "    </tr>\n",
       "    <tr>\n",
       "      <th>192</th>\n",
       "      <td>ABE</td>\n",
       "      <td>ABI</td>\n",
       "      <td>1458.0</td>\n",
       "      <td>Lehigh Valley International Airport</td>\n",
       "      <td>Allentown</td>\n",
       "      <td>United States</td>\n",
       "      <td>Abilene Regional Airport</td>\n",
       "      <td>Abilene</td>\n",
       "      <td>United States</td>\n",
       "    </tr>\n",
       "    <tr>\n",
       "      <th>193</th>\n",
       "      <td>ABE</td>\n",
       "      <td>ABQ</td>\n",
       "      <td>1738.0</td>\n",
       "      <td>Lehigh Valley International Airport</td>\n",
       "      <td>Allentown</td>\n",
       "      <td>United States</td>\n",
       "      <td>Albuquerque International Sunport</td>\n",
       "      <td>Albuquerque</td>\n",
       "      <td>United States</td>\n",
       "    </tr>\n",
       "    <tr>\n",
       "      <th>...</th>\n",
       "      <td>...</td>\n",
       "      <td>...</td>\n",
       "      <td>...</td>\n",
       "      <td>...</td>\n",
       "      <td>...</td>\n",
       "      <td>...</td>\n",
       "      <td>...</td>\n",
       "      <td>...</td>\n",
       "      <td>...</td>\n",
       "    </tr>\n",
       "    <tr>\n",
       "      <th>328116</th>\n",
       "      <td>ZSA</td>\n",
       "      <td>YWG</td>\n",
       "      <td>2162.0</td>\n",
       "      <td>San Salvador Airport</td>\n",
       "      <td>Cockburn Town</td>\n",
       "      <td>Bahamas</td>\n",
       "      <td>Winnipeg / James Armstrong Richardson Internat...</td>\n",
       "      <td>Winnipeg</td>\n",
       "      <td>Canada</td>\n",
       "    </tr>\n",
       "    <tr>\n",
       "      <th>328117</th>\n",
       "      <td>ZSA</td>\n",
       "      <td>YYT</td>\n",
       "      <td>2018.0</td>\n",
       "      <td>San Salvador Airport</td>\n",
       "      <td>Cockburn Town</td>\n",
       "      <td>Bahamas</td>\n",
       "      <td>St. John's International Airport</td>\n",
       "      <td>St. John's</td>\n",
       "      <td>Canada</td>\n",
       "    </tr>\n",
       "    <tr>\n",
       "      <th>328118</th>\n",
       "      <td>ZSA</td>\n",
       "      <td>ZRH</td>\n",
       "      <td>4705.0</td>\n",
       "      <td>San Salvador Airport</td>\n",
       "      <td>Cockburn Town</td>\n",
       "      <td>Bahamas</td>\n",
       "      <td>Zürich Airport</td>\n",
       "      <td>Zurich</td>\n",
       "      <td>Switzerland</td>\n",
       "    </tr>\n",
       "    <tr>\n",
       "      <th>328136</th>\n",
       "      <td>ZXT</td>\n",
       "      <td>UKI</td>\n",
       "      <td>27.0</td>\n",
       "      <td>Zabrat Airport</td>\n",
       "      <td>Baku</td>\n",
       "      <td>Azerbaijan</td>\n",
       "      <td>Ukiah Municipal Airport</td>\n",
       "      <td>Ukiah</td>\n",
       "      <td>United States</td>\n",
       "    </tr>\n",
       "    <tr>\n",
       "      <th>328150</th>\n",
       "      <td>ZZV</td>\n",
       "      <td>SAT</td>\n",
       "      <td>1182.0</td>\n",
       "      <td>Zanesville Municipal Airport</td>\n",
       "      <td>Zanesville</td>\n",
       "      <td>United States</td>\n",
       "      <td>San Antonio International Airport</td>\n",
       "      <td>San Antonio</td>\n",
       "      <td>United States</td>\n",
       "    </tr>\n",
       "  </tbody>\n",
       "</table>\n",
       "<p>319318 rows × 9 columns</p>\n",
       "</div>"
      ],
      "text/plain": [
       "       ORIGIN DEST  DISTANCE IN MILES                          Name_Origin  \\\n",
       "188       AAO  AUO             2083.0                        Anaco Airport   \n",
       "189       AAO  BZN             3721.0                        Anaco Airport   \n",
       "190       AAO  JAX             1826.0                        Anaco Airport   \n",
       "192       ABE  ABI             1458.0  Lehigh Valley International Airport   \n",
       "193       ABE  ABQ             1738.0  Lehigh Valley International Airport   \n",
       "...       ...  ...                ...                                  ...   \n",
       "328116    ZSA  YWG             2162.0                 San Salvador Airport   \n",
       "328117    ZSA  YYT             2018.0                 San Salvador Airport   \n",
       "328118    ZSA  ZRH             4705.0                 San Salvador Airport   \n",
       "328136    ZXT  UKI               27.0                       Zabrat Airport   \n",
       "328150    ZZV  SAT             1182.0         Zanesville Municipal Airport   \n",
       "\n",
       "          City_Origin Country_Origin  \\\n",
       "188             Anaco      Venezuela   \n",
       "189             Anaco      Venezuela   \n",
       "190             Anaco      Venezuela   \n",
       "192         Allentown  United States   \n",
       "193         Allentown  United States   \n",
       "...               ...            ...   \n",
       "328116  Cockburn Town        Bahamas   \n",
       "328117  Cockburn Town        Bahamas   \n",
       "328118  Cockburn Town        Bahamas   \n",
       "328136           Baku     Azerbaijan   \n",
       "328150     Zanesville  United States   \n",
       "\n",
       "                                                Name_Dest     City_Dest  \\\n",
       "188                    Auburn University Regional Airport        Auburn   \n",
       "189                                        Gallatin Field       Bozeman   \n",
       "190                    Jacksonville International Airport  Jacksonville   \n",
       "192                              Abilene Regional Airport       Abilene   \n",
       "193                     Albuquerque International Sunport   Albuquerque   \n",
       "...                                                   ...           ...   \n",
       "328116  Winnipeg / James Armstrong Richardson Internat...      Winnipeg   \n",
       "328117                   St. John's International Airport    St. John's   \n",
       "328118                                     Zürich Airport        Zurich   \n",
       "328136                            Ukiah Municipal Airport         Ukiah   \n",
       "328150                  San Antonio International Airport   San Antonio   \n",
       "\n",
       "         Country_Dest  \n",
       "188     United States  \n",
       "189     United States  \n",
       "190     United States  \n",
       "192     United States  \n",
       "193     United States  \n",
       "...               ...  \n",
       "328116         Canada  \n",
       "328117         Canada  \n",
       "328118    Switzerland  \n",
       "328136  United States  \n",
       "328150  United States  \n",
       "\n",
       "[319318 rows x 9 columns]"
      ]
     },
     "execution_count": 49,
     "metadata": {},
     "output_type": "execute_result"
    }
   ],
   "source": [
    "airport_distance"
   ]
  },
  {
   "cell_type": "code",
   "execution_count": 50,
   "id": "a262e7d4",
   "metadata": {
    "pycharm": {
     "name": "#%%\n"
    }
   },
   "outputs": [
    {
     "data": {
      "text/plain": [
       "ORIGIN               0\n",
       "DEST                 0\n",
       "DISTANCE IN MILES    0\n",
       "Name_Origin          0\n",
       "City_Origin          0\n",
       "Country_Origin       0\n",
       "Name_Dest            0\n",
       "City_Dest            0\n",
       "Country_Dest         0\n",
       "dtype: int64"
      ]
     },
     "execution_count": 50,
     "metadata": {},
     "output_type": "execute_result"
    }
   ],
   "source": [
    "airport_distance.isnull().sum()"
   ]
  },
  {
   "cell_type": "code",
   "execution_count": 51,
   "id": "7468553b",
   "metadata": {
    "pycharm": {
     "name": "#%%\n"
    }
   },
   "outputs": [
    {
     "data": {
      "text/plain": [
       "(319318, 9)"
      ]
     },
     "execution_count": 51,
     "metadata": {},
     "output_type": "execute_result"
    }
   ],
   "source": [
    "airport_distance.shape"
   ]
  },
  {
   "cell_type": "markdown",
   "id": "66e807ec",
   "metadata": {
    "pycharm": {
     "name": "#%% md\n"
    }
   },
   "source": [
    "#### Population dataset"
   ]
  },
  {
   "cell_type": "code",
   "execution_count": 52,
   "id": "cdb647fc",
   "metadata": {
    "pycharm": {
     "name": "#%%\n"
    }
   },
   "outputs": [],
   "source": [
    "# Select the columns we are interest in\n",
    "pop = pop[[\"Country Name\", \"Country Code\", \"2021\"]]"
   ]
  },
  {
   "cell_type": "code",
   "execution_count": 53,
   "id": "dfa1823c",
   "metadata": {
    "pycharm": {
     "name": "#%%\n"
    }
   },
   "outputs": [],
   "source": [
    "# Rename the columns\n",
    "pop = pop.rename(columns = {\"2021\": \"Pop_2021\", \"Country Name\": \"Country\"})"
   ]
  },
  {
   "cell_type": "code",
   "execution_count": 54,
   "id": "1eae5003",
   "metadata": {
    "pycharm": {
     "name": "#%%\n"
    }
   },
   "outputs": [],
   "source": [
    "# Capitalise the first letter of each word in the Country column, and remove any extra spaces\n",
    "pop[\"Country\"] = pop[\"Country\"].str.title()\n",
    "pop[\"Country\"] = pop[\"Country\"].str.strip()"
   ]
  },
  {
   "cell_type": "code",
   "execution_count": 55,
   "id": "00897a83",
   "metadata": {
    "pycharm": {
     "name": "#%%\n"
    }
   },
   "outputs": [],
   "source": [
    "# Remove empty rows\n",
    "pop = pop.dropna()"
   ]
  },
  {
   "cell_type": "markdown",
   "id": "440a61c1",
   "metadata": {
    "pycharm": {
     "name": "#%% md\n"
    }
   },
   "source": [
    "#### Climate dataset"
   ]
  },
  {
   "cell_type": "code",
   "execution_count": 56,
   "id": "4cb521c4",
   "metadata": {
    "pycharm": {
     "name": "#%%\n"
    }
   },
   "outputs": [],
   "source": [
    "# Rename the columns\n",
    "clim = clim.rename(columns = {\"COUNTRY\": \"Country\", \"DESCRIPTION\": \"Climate\"})"
   ]
  },
  {
   "cell_type": "code",
   "execution_count": 57,
   "id": "980a8026",
   "metadata": {
    "pycharm": {
     "name": "#%%\n"
    }
   },
   "outputs": [],
   "source": [
    "# Capitalise the first letter of each word in the Country and Climate column, and remove any extra spaces in the Country column\n",
    "clim[\"Country\"] = clim[\"Country\"].str.title()\n",
    "clim[\"Country\"] = clim[\"Country\"].str.strip()\n",
    "clim[\"Climate\"] = clim[\"Climate\"].str.title()"
   ]
  },
  {
   "cell_type": "code",
   "execution_count": 70,
   "id": "cd84db02",
   "metadata": {
    "pycharm": {
     "name": "#%%\n"
    }
   },
   "outputs": [
    {
     "data": {
      "text/html": [
       "<div>\n",
       "<style scoped>\n",
       "    .dataframe tbody tr th:only-of-type {\n",
       "        vertical-align: middle;\n",
       "    }\n",
       "\n",
       "    .dataframe tbody tr th {\n",
       "        vertical-align: top;\n",
       "    }\n",
       "\n",
       "    .dataframe thead th {\n",
       "        text-align: right;\n",
       "    }\n",
       "</style>\n",
       "<table border=\"1\" class=\"dataframe\">\n",
       "  <thead>\n",
       "    <tr style=\"text-align: right;\">\n",
       "      <th></th>\n",
       "      <th>Country</th>\n",
       "      <th>Climate</th>\n",
       "    </tr>\n",
       "  </thead>\n",
       "  <tbody>\n",
       "    <tr>\n",
       "      <th>0</th>\n",
       "      <td>Afghanistan</td>\n",
       "      <td>Arid To Semiarid; Cold Winters And Hot Summers</td>\n",
       "    </tr>\n",
       "    <tr>\n",
       "      <th>1</th>\n",
       "      <td>Akrotiri</td>\n",
       "      <td>Temperate; Mediterranean With Hot, Dry Summers...</td>\n",
       "    </tr>\n",
       "    <tr>\n",
       "      <th>2</th>\n",
       "      <td>Albania</td>\n",
       "      <td>Mild Temperate; Cool, Cloudy, Wet Winters; Hot...</td>\n",
       "    </tr>\n",
       "    <tr>\n",
       "      <th>3</th>\n",
       "      <td>Algeria</td>\n",
       "      <td>Arid To Semiarid; Mild, Wet Winters With Hot, ...</td>\n",
       "    </tr>\n",
       "    <tr>\n",
       "      <th>4</th>\n",
       "      <td>American Samoa</td>\n",
       "      <td>Tropical Marine, Moderated By Southeast Trade ...</td>\n",
       "    </tr>\n",
       "  </tbody>\n",
       "</table>\n",
       "</div>"
      ],
      "text/plain": [
       "          Country                                            Climate\n",
       "0     Afghanistan     Arid To Semiarid; Cold Winters And Hot Summers\n",
       "1        Akrotiri  Temperate; Mediterranean With Hot, Dry Summers...\n",
       "2         Albania  Mild Temperate; Cool, Cloudy, Wet Winters; Hot...\n",
       "3         Algeria  Arid To Semiarid; Mild, Wet Winters With Hot, ...\n",
       "4  American Samoa  Tropical Marine, Moderated By Southeast Trade ..."
      ]
     },
     "execution_count": 70,
     "metadata": {},
     "output_type": "execute_result"
    }
   ],
   "source": [
    "clim.head()"
   ]
  },
  {
   "cell_type": "code",
   "execution_count": 85,
   "id": "0f1b4484",
   "metadata": {},
   "outputs": [],
   "source": [
    "# Set a new column that classifies climates \n",
    "conditions = [(clim[\"Climate\"].str.contains(\"Tropical|Arid|Semiarid|Desert\")),\n",
    "              (clim[\"Climate\"].str.contains(\"Temperate|Continental|Hot Summers And Cold Winters\" )), \n",
    "              (clim[\"Climate\"].str.contains(\"Mediterranean|Subtropical\")),\n",
    "              (clim[\"Climate\"].str.contains(\"Highland\")), \n",
    "              (clim[\"Climate\"].str.contains(\"Polar|Antarctic\")),  \n",
    "              (clim[\"Climate\"].str.contains(\"Equatorial\"))]\n",
    "\n",
    "choices = [\"Tropical\", \"Temperate\", \"Subtropical\", \"Highland\", \"Polar\", \"Equatorial\" ]\n",
    "clim[\"Climate Zone\"] = np.select(conditions, choices, default = \"\")"
   ]
  },
  {
   "cell_type": "markdown",
   "id": "1066ceed",
   "metadata": {
    "pycharm": {
     "name": "#%% md\n"
    }
   },
   "source": [
    "#### Currency dataset"
   ]
  },
  {
   "cell_type": "code",
   "execution_count": 59,
   "id": "48a74eae",
   "metadata": {
    "pycharm": {
     "name": "#%%\n"
    }
   },
   "outputs": [],
   "source": [
    "# Keep only the rows without a withdrawal date\n",
    "curr = curr[curr[[\"WithdrawalDate\"]].isnull().any(axis=1)]"
   ]
  },
  {
   "cell_type": "code",
   "execution_count": 60,
   "id": "df1fdbf9",
   "metadata": {
    "pycharm": {
     "name": "#%%\n"
    }
   },
   "outputs": [],
   "source": [
    "# Select the columns to keep\n",
    "curr = curr[[\"Entity\", \"Currency\", \"AlphabeticCode\"]]"
   ]
  },
  {
   "cell_type": "code",
   "execution_count": 61,
   "id": "4ff9d216",
   "metadata": {
    "pycharm": {
     "name": "#%%\n"
    }
   },
   "outputs": [],
   "source": [
    "# Rename the columns\n",
    "curr = curr.rename(columns = {\"Entity\": \"Country\", \"AlphabeticCode\": \"Currency Code\"})"
   ]
  },
  {
   "cell_type": "code",
   "execution_count": 62,
   "id": "63ece0ab",
   "metadata": {
    "pycharm": {
     "name": "#%%\n"
    }
   },
   "outputs": [],
   "source": [
    "# Capitalise the first letter of each word in the Country and Currency columns, and remove any extra spaces in the country column. Remove any text after \"(\" in the country column.\n",
    "curr[\"Country\"] = curr[\"Country\"].str.title()\n",
    "curr[\"Country\"] = curr['Country'].str.partition(\"(\")[0]\n",
    "curr[\"Country\"] = curr[\"Country\"].str.strip()\n",
    "curr[\"Currency\"] = curr[\"Currency\"].str.title()"
   ]
  },
  {
   "cell_type": "code",
   "execution_count": 63,
   "id": "a799c5e4",
   "metadata": {
    "pycharm": {
     "name": "#%%\n"
    }
   },
   "outputs": [],
   "source": [
    "# Fill the null values with Non Applicable\n",
    "curr[\"Currency Code\"].fillna(\"Non Applicable\", inplace= True)"
   ]
  },
  {
   "cell_type": "markdown",
   "id": "a4e390e0",
   "metadata": {
    "pycharm": {
     "name": "#%% md\n"
    }
   },
   "source": [
    "#### Language dataset"
   ]
  },
  {
   "cell_type": "code",
   "execution_count": 64,
   "id": "0c2c10ce",
   "metadata": {
    "pycharm": {
     "name": "#%%\n"
    }
   },
   "outputs": [],
   "source": [
    "# Rename the columns\n",
    "lang = lang.rename(columns = {\"Languages Spoken\": \"Official Language\"})"
   ]
  },
  {
   "cell_type": "code",
   "execution_count": 65,
   "id": "b940653d",
   "metadata": {
    "pycharm": {
     "name": "#%%\n"
    }
   },
   "outputs": [],
   "source": [
    "# Capitalise the first letter of each word in the Country and Official Language columns\n",
    "lang[\"Country\"] = lang[\"Country\"].str.title()\n",
    "lang[\"Country\"] = lang[\"Country\"].str.strip()\n",
    "lang[\"Official Language\"] = lang[\"Official Language\"].str.title()"
   ]
  },
  {
   "cell_type": "markdown",
   "id": "4635dc5a",
   "metadata": {
    "pycharm": {
     "name": "#%% md\n"
    }
   },
   "source": [
    "Now we are going to make another language table, that split multiple languages to multiple rows."
   ]
  },
  {
   "cell_type": "code",
   "execution_count": 66,
   "id": "062d67ac",
   "metadata": {
    "pycharm": {
     "name": "#%%\n"
    }
   },
   "outputs": [],
   "source": [
    "def language_cleaning(lan: str):\n",
    "    # replace 'and' to comma\n",
    "    # delete numbers and percentage\n",
    "    try:\n",
    "        lan = lan.replace(' And ', ',')\n",
    "        lan = re.sub(\"[\\d%.]\", \"\", lan)\n",
    "\n",
    "        # first if the text contains 'official', we are going to keep all the official\n",
    "        if 'Official' in lan:\n",
    "            lan = lan.partition(\"(\")[0].strip()\n",
    "            lan = [x.strip() for x in lan.split(',')]\n",
    "\n",
    "        # otherwise, we are going to keep first one as a main language spoken\n",
    "        else:\n",
    "            lan = [lan.partition(\",\")[0].strip()]\n",
    "\n",
    "    except:\n",
    "        print(lan)\n",
    "        print()\n",
    "    return lan"
   ]
  },
  {
   "cell_type": "code",
   "execution_count": 67,
   "id": "593eca0b",
   "metadata": {
    "pycharm": {
     "name": "#%%\n"
    }
   },
   "outputs": [],
   "source": [
    "# apply language cleaning function to the 'languages Spoken' column\n",
    "lan_list = lang['Official Language'].apply(language_cleaning)\n",
    "\n",
    "# split the column that contains a list of multiple languages to multiple columns\n",
    "# the maximum number of languages spoken was 16, in India\n",
    "# therefore we make 16 columns\n",
    "lan_wide = pd.DataFrame(lan_list.to_list(), columns=[1,2,3,4,5,6,7,8,9,10,11,12,13,14,15,16])\n"
   ]
  },
  {
   "cell_type": "code",
   "execution_count": 68,
   "id": "ad2a2e01",
   "metadata": {
    "pycharm": {
     "name": "#%%\n"
    }
   },
   "outputs": [],
   "source": [
    "# now we are going to merge lan_wide with original data to have country names in the table\n",
    "lan_wide = pd.concat([lang, lan_wide], axis=1)\n",
    "\n",
    "# transform wide format to long format and drop NaN value\n",
    "lang_long = pd.melt(lan_wide, id_vars='Country', value_vars=[1,2,3,4,5,6,7,8,9,10,11,12,13,14,15,16]).dropna(subset=['value'])\n"
   ]
  },
  {
   "cell_type": "code",
   "execution_count": 88,
   "id": "fcf55e39",
   "metadata": {
    "pycharm": {
     "name": "#%%\n"
    }
   },
   "outputs": [],
   "source": [
    "# change column names\n",
    "lang_long = lang_long.rename(columns = {\"variable\": \"Number\", \"value\":\"Official Language\"})\n",
    "\n",
    "# sort values by Country name\n",
    "lang_long = lang_long.sort_values(by=['Country', 'Number']).reset_index(drop=True)\n"
   ]
  },
  {
   "cell_type": "code",
   "execution_count": 89,
   "id": "1cdaf1f2",
   "metadata": {
    "pycharm": {
     "name": "#%%\n"
    }
   },
   "outputs": [
    {
     "data": {
      "text/html": [
       "<div>\n",
       "<style scoped>\n",
       "    .dataframe tbody tr th:only-of-type {\n",
       "        vertical-align: middle;\n",
       "    }\n",
       "\n",
       "    .dataframe tbody tr th {\n",
       "        vertical-align: top;\n",
       "    }\n",
       "\n",
       "    .dataframe thead th {\n",
       "        text-align: right;\n",
       "    }\n",
       "</style>\n",
       "<table border=\"1\" class=\"dataframe\">\n",
       "  <thead>\n",
       "    <tr style=\"text-align: right;\">\n",
       "      <th></th>\n",
       "      <th>Country</th>\n",
       "      <th>Number</th>\n",
       "      <th>Official Language</th>\n",
       "    </tr>\n",
       "  </thead>\n",
       "  <tbody>\n",
       "    <tr>\n",
       "      <th>0</th>\n",
       "      <td>Afghanistan</td>\n",
       "      <td>1</td>\n",
       "      <td>Dari Persian</td>\n",
       "    </tr>\n",
       "    <tr>\n",
       "      <th>1</th>\n",
       "      <td>Afghanistan</td>\n",
       "      <td>2</td>\n",
       "      <td>Pashtu</td>\n",
       "    </tr>\n",
       "    <tr>\n",
       "      <th>2</th>\n",
       "      <td>Albania</td>\n",
       "      <td>1</td>\n",
       "      <td>Albanian</td>\n",
       "    </tr>\n",
       "    <tr>\n",
       "      <th>3</th>\n",
       "      <td>Algeria</td>\n",
       "      <td>1</td>\n",
       "      <td>Arabic</td>\n",
       "    </tr>\n",
       "    <tr>\n",
       "      <th>4</th>\n",
       "      <td>Andorra</td>\n",
       "      <td>1</td>\n",
       "      <td>Catalã¡N</td>\n",
       "    </tr>\n",
       "    <tr>\n",
       "      <th>...</th>\n",
       "      <td>...</td>\n",
       "      <td>...</td>\n",
       "      <td>...</td>\n",
       "    </tr>\n",
       "    <tr>\n",
       "      <th>254</th>\n",
       "      <td>Vietnam</td>\n",
       "      <td>1</td>\n",
       "      <td>Vietnamese</td>\n",
       "    </tr>\n",
       "    <tr>\n",
       "      <th>255</th>\n",
       "      <td>Western Sahara (Proposed State)</td>\n",
       "      <td>1</td>\n",
       "      <td>Hassaniya Arabic</td>\n",
       "    </tr>\n",
       "    <tr>\n",
       "      <th>256</th>\n",
       "      <td>Yemen</td>\n",
       "      <td>1</td>\n",
       "      <td>Arabic</td>\n",
       "    </tr>\n",
       "    <tr>\n",
       "      <th>257</th>\n",
       "      <td>Zambia</td>\n",
       "      <td>1</td>\n",
       "      <td>English</td>\n",
       "    </tr>\n",
       "    <tr>\n",
       "      <th>258</th>\n",
       "      <td>Zimbabwe</td>\n",
       "      <td>1</td>\n",
       "      <td>English</td>\n",
       "    </tr>\n",
       "  </tbody>\n",
       "</table>\n",
       "<p>259 rows × 3 columns</p>\n",
       "</div>"
      ],
      "text/plain": [
       "                             Country Number Official Language\n",
       "0                        Afghanistan      1      Dari Persian\n",
       "1                        Afghanistan      2            Pashtu\n",
       "2                            Albania      1          Albanian\n",
       "3                            Algeria      1            Arabic\n",
       "4                            Andorra      1          Catalã¡N\n",
       "..                               ...    ...               ...\n",
       "254                          Vietnam      1        Vietnamese\n",
       "255  Western Sahara (Proposed State)      1  Hassaniya Arabic\n",
       "256                            Yemen      1            Arabic\n",
       "257                           Zambia      1           English\n",
       "258                         Zimbabwe      1           English\n",
       "\n",
       "[259 rows x 3 columns]"
      ]
     },
     "execution_count": 89,
     "metadata": {},
     "output_type": "execute_result"
    }
   ],
   "source": [
    "lang_long"
   ]
  },
  {
   "cell_type": "markdown",
   "id": "adea687d",
   "metadata": {
    "pycharm": {
     "name": "#%% md\n"
    }
   },
   "source": [
    "#### Religion dataset"
   ]
  },
  {
   "cell_type": "code",
   "execution_count": null,
   "id": "ef73e537",
   "metadata": {
    "pycharm": {
     "name": "#%%\n"
    }
   },
   "outputs": [],
   "source": [
    "# Remove the footnote rows, which is where the Religion column \n",
    "rel = rel[rel[[\"Religion\"]].notna().any(axis=1)]"
   ]
  },
  {
   "cell_type": "code",
   "execution_count": null,
   "id": "fcfebcf6",
   "metadata": {
    "pycharm": {
     "name": "#%%\n"
    }
   },
   "outputs": [],
   "source": [
    "# Remove the rows with the total number of religious people. Also remove the other, not stated, and refused to answer religions\n",
    "rel = rel[rel[\"Religion\"].str.contains(\"Total|Other|Not Stated|Refused to answer\") == False]"
   ]
  },
  {
   "cell_type": "code",
   "execution_count": null,
   "id": "1ae962fc",
   "metadata": {
    "pycharm": {
     "name": "#%%\n"
    }
   },
   "outputs": [],
   "source": [
    "# Keep the data from the most recent year for each country\n",
    "rel = rel.sort_values(by=[\"Country or Area\", \"Year\"])\n",
    "rel = rel.drop_duplicates(subset=['Country or Area', \"Religion\"], keep='last')"
   ]
  },
  {
   "cell_type": "code",
   "execution_count": null,
   "id": "1a0e7f76",
   "metadata": {
    "pycharm": {
     "name": "#%%\n"
    }
   },
   "outputs": [],
   "source": [
    "# Keep the rows with the highest value, meaning the main religion of each country\n",
    "rel = rel.sort_values(by=[\"Country or Area\", \"Value\"])\n",
    "rel = rel.drop_duplicates(subset=['Country or Area'], keep='last')"
   ]
  },
  {
   "cell_type": "code",
   "execution_count": null,
   "id": "7fea0b14",
   "metadata": {
    "pycharm": {
     "name": "#%%\n"
    }
   },
   "outputs": [],
   "source": [
    "# Select the columns to keep\n",
    "rel = rel[[\"Country or Area\", \"Religion\"]]"
   ]
  },
  {
   "cell_type": "code",
   "execution_count": null,
   "id": "cec78dd9",
   "metadata": {
    "pycharm": {
     "name": "#%%\n"
    }
   },
   "outputs": [],
   "source": [
    "# Rename the columns\n",
    "rel = rel.rename(columns = {\"Country or Area\": \"Country\", \"Religion\": \"Main Religion\"})"
   ]
  },
  {
   "cell_type": "code",
   "execution_count": null,
   "id": "17d3ee5f",
   "metadata": {
    "pycharm": {
     "name": "#%%\n"
    }
   },
   "outputs": [],
   "source": [
    "# Capitalise the first letter of each word in the Country and religion, and remove any extra spaces in the country column.\n",
    "rel[\"Country\"] = rel[\"Country\"].str.title()\n",
    "rel[\"Country\"] = rel[\"Country\"].str.strip()\n",
    "rel[\"Main Religion\"] = rel[\"Main Religion\"].str.title()"
   ]
  },
  {
   "cell_type": "markdown",
   "id": "c99a3da9",
   "metadata": {
    "pycharm": {
     "name": "#%% md\n"
    }
   },
   "source": [
    "#### Peace index dataset"
   ]
  },
  {
   "cell_type": "code",
   "execution_count": null,
   "id": "26ffe1a6",
   "metadata": {
    "pycharm": {
     "name": "#%%\n"
    }
   },
   "outputs": [],
   "source": [
    "# Select the columns to keep\n",
    "peace = peace[[\"RANK\", \"COUNTRY\"]]"
   ]
  },
  {
   "cell_type": "code",
   "execution_count": null,
   "id": "38fb8eee",
   "metadata": {
    "pycharm": {
     "name": "#%%\n"
    }
   },
   "outputs": [],
   "source": [
    "# Rename the columns\n",
    "peace = peace.rename(columns = {\"RANK\": \"Rank\", \"COUNTRY\": \"Country\"})"
   ]
  },
  {
   "cell_type": "code",
   "execution_count": null,
   "id": "4fd14bfe",
   "metadata": {
    "pycharm": {
     "name": "#%%\n"
    }
   },
   "outputs": [],
   "source": [
    "# Capitalise the first letter of each word in the Country column\n",
    "peace[\"Country\"] = peace[\"Country\"].str.title()\n",
    "peace[\"Country\"] = peace[\"Country\"].str.strip()\n"
   ]
  },
  {
   "cell_type": "code",
   "execution_count": null,
   "id": "89d82600",
   "metadata": {
    "pycharm": {
     "name": "#%%\n"
    }
   },
   "outputs": [],
   "source": [
    "# Drop null rows\n",
    "peace = peace.dropna()"
   ]
  },
  {
   "cell_type": "markdown",
   "id": "3ae54de6",
   "metadata": {
    "pycharm": {
     "name": "#%% md\n"
    }
   },
   "source": [
    "#### WEF Dataset"
   ]
  },
  {
   "cell_type": "code",
   "execution_count": null,
   "id": "b893d8c3",
   "metadata": {
    "pycharm": {
     "name": "#%%\n"
    }
   },
   "outputs": [],
   "source": [
    "# Rename columns\n",
    "wef.rename(columns = {('Unnamed: 0_level_0', 'ISO Code'):'ISO Code',\n",
    "                      ('Unnamed: 1_level_0', 'Economy'):'Economy',\n",
    "                      ('Unnamed: 2_level_0', 'Region'):'Region',\n",
    "                      ('Unnamed: 3_level_0', 'Sub Region'):'Sub Region',\n",
    "                      ('Unnamed: 4_level_0', 'Income Group'):'Income Group'\n",
    "                      }, inplace = True)"
   ]
  },
  {
   "cell_type": "code",
   "execution_count": null,
   "id": "469747f0",
   "metadata": {
    "pycharm": {
     "name": "#%%\n"
    }
   },
   "outputs": [],
   "source": [
    "# To check the index of the columns that we wish to drop\n",
    "for i, col in enumerate(wef.columns):\n",
    "    print(i, col)"
   ]
  },
  {
   "cell_type": "code",
   "execution_count": null,
   "id": "2fe4d44d",
   "metadata": {
    "pycharm": {
     "name": "#%%\n"
    }
   },
   "outputs": [],
   "source": [
    "# Drop columns from the behind to prevent index changing\n",
    "wef2 = wef.drop(wef.iloc[:, 131:136],axis = 1)\n",
    "wef2 = wef2.drop(wef2.iloc[:, 119:125],axis = 1)\n",
    "wef2 = wef2.drop(wef2.iloc[:, 59:77],axis = 1)\n",
    "wef2 = wef2.drop(wef2.iloc[:, 11:47],axis = 1)"
   ]
  },
  {
   "cell_type": "markdown",
   "id": "9349e9fc",
   "metadata": {
    "pycharm": {
     "name": "#%% md\n"
    }
   },
   "source": [
    "#### Average Restaurant and Accomodation Cost Dataset"
   ]
  },
  {
   "cell_type": "code",
   "execution_count": null,
   "id": "540dd311",
   "metadata": {
    "pycharm": {
     "name": "#%%\n"
    }
   },
   "outputs": [],
   "source": [
    "# Select the columns we are interest in\n",
    "avg_rest_hot_p = avg_rest_hot_p[[\"Country Name\", \"Country Code\", \"2017 [YR2017]\"]]"
   ]
  },
  {
   "cell_type": "code",
   "execution_count": null,
   "id": "d0a24632",
   "metadata": {
    "pycharm": {
     "name": "#%%\n"
    }
   },
   "outputs": [],
   "source": [
    "# Rename the columns\n",
    "avg_rest_hot_p = avg_rest_hot_p.rename(columns = {\"Country Name\": \"Country\", \"2017 [YR2017]\": \"Average Hotel and Accomodation Cost\"})"
   ]
  },
  {
   "cell_type": "code",
   "execution_count": null,
   "id": "7481da97",
   "metadata": {
    "pycharm": {
     "name": "#%%\n"
    }
   },
   "outputs": [],
   "source": [
    "# Capitalise the first letter of each word in the Country column, and remove any extra spaces\n",
    "avg_rest_hot_p[\"Country\"] = avg_rest_hot_p[\"Country\"].str.title()\n",
    "avg_rest_hot_p[\"Country\"] = avg_rest_hot_p[\"Country\"].str.strip()"
   ]
  },
  {
   "cell_type": "code",
   "execution_count": null,
   "id": "7cc0dcbd",
   "metadata": {
    "pycharm": {
     "name": "#%%\n"
    }
   },
   "outputs": [],
   "source": [
    "# Remove empty rows\n",
    "avg_rest_hot_p = avg_rest_hot_p.dropna()"
   ]
  },
  {
   "cell_type": "code",
   "execution_count": null,
   "id": "7ec01bbd",
   "metadata": {
    "pycharm": {
     "name": "#%%\n"
    }
   },
   "outputs": [],
   "source": [
    "# Substitute \"..\" for null value\n",
    "avg_rest_hot_p[\"Average Hotel and Accomodation Cost\"] = avg_rest_hot_p[\"Average Hotel and Accomodation Cost\"].replace(\"..\",\"\")"
   ]
  },
  {
   "cell_type": "code",
   "execution_count": null,
   "id": "239b4f23",
   "metadata": {
    "pycharm": {
     "name": "#%%\n"
    }
   },
   "outputs": [],
   "source": [
    "# Convert the column from string to numeric value\n",
    "avg_rest_hot_p[\"Average Hotel and Accomodation Cost\"] = pd.to_numeric(avg_rest_hot_p[\"Average Hotel and Accomodation Cost\"], errors = \"coerce\")"
   ]
  },
  {
   "cell_type": "code",
   "execution_count": null,
   "id": "e1c0bf0e",
   "metadata": {
    "pycharm": {
     "name": "#%%\n"
    }
   },
   "outputs": [],
   "source": [
    "# Round the numbers to two decimal points\n",
    "avg_rest_hot_p[\"Average Hotel and Accomodation Cost\"] = avg_rest_hot_p[\"Average Hotel and Accomodation Cost\"].round(2)"
   ]
  },
  {
   "cell_type": "code",
   "execution_count": null,
   "id": "39eb4755",
   "metadata": {
    "pycharm": {
     "name": "#%%\n"
    }
   },
   "outputs": [],
   "source": [
    "# Set a new column that classifies countries into budget travel, comfortable travel and luxury travel\n",
    "conditions = [(avg_rest_hot_p[\"Average Hotel and Accomodation Cost\"] <= 70), ((avg_rest_hot_p[\"Average Hotel and Accomodation Cost\"] > 70) & (avg_rest_hot_p[\"Average Hotel and Accomodation Cost\"] <= 150)), (avg_rest_hot_p[\"Average Hotel and Accomodation Cost\"] > 150)]\n",
    "choices = [\"Budget Traveler\", \"Comfort traveler\", \"Luxury Travel\"]\n",
    "avg_rest_hot_p[\"Type Traveler\"] = np.select(conditions, choices, default = \"Non Applicable\")"
   ]
  },
  {
   "cell_type": "markdown",
   "id": "b3fac3db",
   "metadata": {
    "pycharm": {
     "name": "#%% md\n"
    }
   },
   "source": [
    "## Export cleaned dataset"
   ]
  },
  {
   "cell_type": "code",
   "execution_count": null,
   "id": "f5cb9ff6",
   "metadata": {
    "pycharm": {
     "name": "#%%\n"
    }
   },
   "outputs": [],
   "source": [
    "country.to_csv('../cleaned_data/country.csv')\n",
    "\n",
    "airport_distance.to_csv('../cleaned_data/airport_distance.csv')\n",
    "\n",
    "pop.to_csv('../cleaned_data/population.csv')\n",
    "\n",
    "clim.to_csv('../cleaned_data/climate.csv')\n",
    "\n",
    "curr.to_csv('../cleaned_data/currencies.csv')\n",
    "\n",
    "lang.to_csv('../cleaned_data/language.csv')\n",
    "\n",
    "lang_long.to_csv('../cleaned_data/language_long.csv')\n",
    "\n",
    "rel.to_csv('../cleaned_data/religion.csv')\n",
    "\n",
    "peace.to_csv('../cleaned_data/peace_index.csv')\n",
    "\n",
    "wef2.to_csv('../cleaned_data/wef_ttdi.csv')\n",
    "\n",
    "avg_rest_hot_p.to_csv(\"../cleaned_data/avg_rest_hot_p.csv\")"
   ]
  },
  {
   "cell_type": "markdown",
   "id": "79b195f6",
   "metadata": {
    "pycharm": {
     "name": "#%% md\n"
    }
   },
   "source": [
    "## Checking composability\n",
    "Between country dataset and all the other\n",
    "based on either 'Country Name' or 'Country Code'"
   ]
  },
  {
   "cell_type": "code",
   "execution_count": null,
   "id": "9f1e7cdb",
   "metadata": {
    "pycharm": {
     "name": "#%%\n"
    }
   },
   "outputs": [],
   "source": [
    "# get cleaned datasets\n",
    "country = pd.read_csv('../cleaned_data/country.csv', index_col=[0])\n",
    "climate = pd.read_csv('../cleaned_data/climate.csv', index_col=[0])\n",
    "currency = pd.read_csv('../cleaned_data/currencies.csv', index_col=[0])\n",
    "language = pd.read_csv('../cleaned_data/language.csv', encoding='latin-1', index_col=[0])\n",
    "peace = pd.read_csv('../cleaned_data/peace_index.csv', index_col=[0])\n",
    "population = pd.read_csv('../cleaned_data/population.csv', index_col=[0])\n",
    "religion = pd.read_csv('../cleaned_data/Religion.csv', index_col=[0])\n",
    "wef_ttdi = pd.read_csv('../cleaned_data/wef_ttdi.csv', index_col=[0])\n",
    "avg_rest_hot_p = pd.read_csv(\"../cleaned_data/avg_rest_hot_p.csv\", index_col=[0])"
   ]
  },
  {
   "cell_type": "markdown",
   "id": "e0202570",
   "metadata": {
    "pycharm": {
     "name": "#%% md\n"
    }
   },
   "source": [
    "#### Check climate - country"
   ]
  },
  {
   "cell_type": "code",
   "execution_count": null,
   "id": "a23e72fc",
   "metadata": {
    "pycharm": {
     "name": "#%%\n"
    }
   },
   "outputs": [],
   "source": [
    "climate.head()"
   ]
  },
  {
   "cell_type": "code",
   "execution_count": null,
   "id": "0928112b",
   "metadata": {
    "pycharm": {
     "name": "#%%\n"
    }
   },
   "outputs": [],
   "source": [
    "climate = climate.merge(country, how='left', left_on='Country', right_on='Name')\n",
    "climate[climate['Name'].isnull()]"
   ]
  },
  {
   "cell_type": "markdown",
   "id": "f9da3dd5",
   "metadata": {
    "pycharm": {
     "name": "#%% md\n"
    }
   },
   "source": [
    "The rows that cannot be joined with country dataset do not seem like a proper country, so we are going to ignore it."
   ]
  },
  {
   "cell_type": "markdown",
   "id": "53e7f678",
   "metadata": {
    "pycharm": {
     "name": "#%% md\n"
    }
   },
   "source": [
    "#### Check Currency - Country"
   ]
  },
  {
   "cell_type": "code",
   "execution_count": null,
   "id": "63b3cd13",
   "metadata": {
    "pycharm": {
     "name": "#%%\n"
    }
   },
   "outputs": [],
   "source": [
    "currency = currency.merge(country, how='left', left_on='Country', right_on='Name')\n",
    "currency[currency['Name'].isnull()]"
   ]
  },
  {
   "cell_type": "markdown",
   "id": "83149153",
   "metadata": {
    "pycharm": {
     "name": "#%% md\n"
    }
   },
   "source": [
    "#### Check language - country"
   ]
  },
  {
   "cell_type": "code",
   "execution_count": null,
   "id": "da29545b",
   "metadata": {
    "pycharm": {
     "name": "#%%\n"
    }
   },
   "outputs": [],
   "source": [
    "language = language.merge(country, how='left', left_on='Country', right_on='Name')\n",
    "language[language['Name'].isnull()]"
   ]
  },
  {
   "cell_type": "markdown",
   "id": "3f6761f0",
   "metadata": {
    "pycharm": {
     "name": "#%% md\n"
    }
   },
   "source": [
    "#### Check peace - country"
   ]
  },
  {
   "cell_type": "code",
   "execution_count": null,
   "id": "9e1555f9",
   "metadata": {
    "pycharm": {
     "name": "#%%\n"
    }
   },
   "outputs": [],
   "source": [
    "peace=peace.merge(country, how='left', left_on='Country', right_on='Name')\n",
    "peace[peace['Name'].isnull()]"
   ]
  },
  {
   "cell_type": "markdown",
   "id": "01d7f7d8",
   "metadata": {
    "pycharm": {
     "name": "#%% md\n"
    }
   },
   "source": [
    "#### Check population - country"
   ]
  },
  {
   "cell_type": "code",
   "execution_count": null,
   "id": "123d8aff",
   "metadata": {
    "pycharm": {
     "name": "#%%\n"
    }
   },
   "outputs": [],
   "source": [
    "population=population.merge(country, how='left', left_on='Country', right_on='Name')\n",
    "population[population['Name'].isnull()]"
   ]
  },
  {
   "cell_type": "markdown",
   "id": "9805648c",
   "metadata": {
    "pycharm": {
     "name": "#%% md\n"
    }
   },
   "source": [
    "#### Check Religion - country"
   ]
  },
  {
   "cell_type": "code",
   "execution_count": null,
   "id": "80c2cc6c",
   "metadata": {
    "pycharm": {
     "name": "#%%\n"
    }
   },
   "outputs": [],
   "source": [
    "religion=religion.merge(country, how='left', left_on='Country', right_on='Name')\n",
    "religion[religion['Name'].isnull()]"
   ]
  },
  {
   "cell_type": "markdown",
   "id": "46212f0d",
   "metadata": {
    "pycharm": {
     "name": "#%% md\n"
    }
   },
   "source": [
    "#### Check WEF - country"
   ]
  },
  {
   "cell_type": "code",
   "execution_count": null,
   "id": "edd28b3d",
   "metadata": {
    "pycharm": {
     "name": "#%%\n"
    }
   },
   "outputs": [],
   "source": [
    "wef_ttdi=wef_ttdi.merge(country, how='left', left_on='ISO Code', right_on='Iso3')\n",
    "wef_ttdi[wef_ttdi['Name'].isnull()]"
   ]
  },
  {
   "cell_type": "markdown",
   "id": "362503c0",
   "metadata": {
    "pycharm": {
     "name": "#%% md\n"
    }
   },
   "source": [
    "#### Check Average Restaurant and Accomodation Cost - ISO"
   ]
  },
  {
   "cell_type": "code",
   "execution_count": null,
   "id": "6ea659ed",
   "metadata": {
    "pycharm": {
     "name": "#%%\n"
    }
   },
   "outputs": [],
   "source": [
    "avg_rest_hot_p = avg_rest_hot_p.merge(country, how='left', left_on='Country Code', right_on='Iso3')\n",
    "avg_rest_hot_p [avg_rest_hot_p ['Name'].isnull()]"
   ]
  },
  {
   "cell_type": "code",
   "execution_count": null,
   "id": "c266d362",
   "metadata": {
    "pycharm": {
     "name": "#%%\n"
    }
   },
   "outputs": [],
   "source": []
  },
  {
   "cell_type": "markdown",
   "id": "eeda36f8",
   "metadata": {
    "pycharm": {
     "name": "#%% md\n"
    }
   },
   "source": [
    "## Export cleaned dataset"
   ]
  },
  {
   "cell_type": "code",
   "execution_count": null,
   "id": "40ca6c3b",
   "metadata": {
    "pycharm": {
     "name": "#%%\n"
    }
   },
   "outputs": [],
   "source": [
    "country.to_csv('../cleaned_data/country.csv')\n",
    "\n",
    "pop.to_csv('../cleaned_data/population.csv')\n",
    "\n",
    "clim.to_csv('../cleaned_data/climate.csv')\n",
    "\n",
    "curr.to_csv('../cleaned_data/currencies.csv')\n",
    "\n",
    "lang.to_csv('../cleaned_data/language.csv')\n",
    "\n",
    "rel.to_csv('../cleaned_data/religion.csv')\n",
    "\n",
    "peace.to_csv('../cleaned_data/peace_index.csv')\n",
    "\n",
    "wef2.to_csv('../cleaned_data/wef_ttdi.csv')\n",
    "\n",
    "avg_rest_hot_p.to_csv(\"../cleaned_data/avg_rest_hot_p.csv\")"
   ]
  },
  {
   "cell_type": "markdown",
   "id": "eff7f7dd",
   "metadata": {
    "pycharm": {
     "name": "#%% md\n"
    }
   },
   "source": [
    "## Checking composability\n",
    "Between country dataset and all the other\n",
    "based on either 'Country Name' or 'Country Code'"
   ]
  },
  {
   "cell_type": "code",
   "execution_count": null,
   "id": "1b219e0c",
   "metadata": {
    "pycharm": {
     "name": "#%%\n"
    }
   },
   "outputs": [],
   "source": [
    "# get cleaned datasets\n",
    "country = pd.read_csv('../cleaned_data/country.csv', index_col=[0])\n",
    "climate = pd.read_csv('../cleaned_data/climate.csv', index_col=[0])\n",
    "currency = pd.read_csv('../cleaned_data/currencies.csv', index_col=[0])\n",
    "language = pd.read_csv('../cleaned_data/language.csv', encoding='latin-1', index_col=[0])\n",
    "peace = pd.read_csv('../cleaned_data/peace_index.csv', index_col=[0])\n",
    "population = pd.read_csv('../cleaned_data/population.csv', index_col=[0])\n",
    "religion = pd.read_csv('../cleaned_data/Religion.csv', index_col=[0])\n",
    "wef_ttdi = pd.read_csv('../cleaned_data/wef_ttdi.csv', index_col=[0])\n",
    "avg_rest_hot_p = pd.read_csv(\"../cleaned_data/avg_rest_hot_p.csv\", index_col=[0])"
   ]
  },
  {
   "cell_type": "markdown",
   "id": "dea2111c",
   "metadata": {
    "pycharm": {
     "name": "#%% md\n"
    }
   },
   "source": [
    "#### Check climate - country"
   ]
  },
  {
   "cell_type": "code",
   "execution_count": null,
   "id": "bb3c65e6",
   "metadata": {
    "pycharm": {
     "name": "#%%\n"
    }
   },
   "outputs": [],
   "source": [
    "climate.head()"
   ]
  },
  {
   "cell_type": "code",
   "execution_count": null,
   "id": "efd0eac5",
   "metadata": {
    "pycharm": {
     "name": "#%%\n"
    }
   },
   "outputs": [],
   "source": [
    "climate = climate.merge(country, how='left', left_on='Country', right_on='Name')\n",
    "climate[climate['Name'].isnull()]"
   ]
  },
  {
   "cell_type": "markdown",
   "id": "de97fa56",
   "metadata": {
    "pycharm": {
     "name": "#%% md\n"
    }
   },
   "source": [
    "The rows that cannot be joined with country dataset do not seem like a proper country, so we are going to ignore it."
   ]
  },
  {
   "cell_type": "markdown",
   "id": "d1b68269",
   "metadata": {
    "pycharm": {
     "name": "#%% md\n"
    }
   },
   "source": [
    "#### Check Currency - Country"
   ]
  },
  {
   "cell_type": "code",
   "execution_count": null,
   "id": "894ddfa3",
   "metadata": {
    "pycharm": {
     "name": "#%%\n"
    }
   },
   "outputs": [],
   "source": [
    "currency = currency.merge(country, how='left', left_on='Country', right_on='Name')\n",
    "currency[currency['Name'].isnull()]"
   ]
  },
  {
   "cell_type": "markdown",
   "id": "5a24f921",
   "metadata": {},
   "source": [
    "#### Check language - country"
   ]
  },
  {
   "cell_type": "code",
   "execution_count": null,
   "id": "4a8177a0",
   "metadata": {
    "pycharm": {
     "name": "#%%\n"
    }
   },
   "outputs": [],
   "source": [
    "language = language.merge(country, how='left', left_on='Country', right_on='Name')\n",
    "language[language['Name'].isnull()]"
   ]
  },
  {
   "cell_type": "markdown",
   "id": "da9bbf29",
   "metadata": {},
   "source": [
    "#### Check peace - country"
   ]
  },
  {
   "cell_type": "code",
   "execution_count": null,
   "id": "7efc420e",
   "metadata": {
    "pycharm": {
     "name": "#%%\n"
    }
   },
   "outputs": [],
   "source": [
    "peace=peace.merge(country, how='left', left_on='Country', right_on='Name')\n",
    "peace[peace['Name'].isnull()]"
   ]
  },
  {
   "cell_type": "markdown",
   "id": "b51f73eb",
   "metadata": {},
   "source": [
    "#### Check population - country"
   ]
  },
  {
   "cell_type": "code",
   "execution_count": null,
   "id": "d185fff4",
   "metadata": {
    "pycharm": {
     "name": "#%%\n"
    }
   },
   "outputs": [],
   "source": [
    "population=population.merge(country, how='left', left_on='Country', right_on='Name')\n",
    "population[population['Name'].isnull()]"
   ]
  },
  {
   "cell_type": "markdown",
   "id": "2820cc2a",
   "metadata": {},
   "source": [
    "#### Check Religion - country"
   ]
  },
  {
   "cell_type": "code",
   "execution_count": null,
   "id": "dca1bea0",
   "metadata": {
    "pycharm": {
     "name": "#%%\n"
    }
   },
   "outputs": [],
   "source": [
    "religion=religion.merge(country, how='left', left_on='Country', right_on='Name')\n",
    "religion[religion['Name'].isnull()]"
   ]
  },
  {
   "cell_type": "markdown",
   "id": "f92276ad",
   "metadata": {},
   "source": [
    "#### Check WEF - country"
   ]
  },
  {
   "cell_type": "code",
   "execution_count": null,
   "id": "122d4163",
   "metadata": {
    "pycharm": {
     "name": "#%%\n"
    }
   },
   "outputs": [],
   "source": [
    "wef_ttdi=wef_ttdi.merge(country, how='left', left_on='ISO Code', right_on='Iso3')\n",
    "wef_ttdi[wef_ttdi['Name'].isnull()]"
   ]
  },
  {
   "cell_type": "markdown",
   "id": "1f525579",
   "metadata": {},
   "source": [
    "#### Check Average Restaurant and Accomodation Cost - ISO"
   ]
  },
  {
   "cell_type": "code",
   "execution_count": null,
   "id": "eb5a0661",
   "metadata": {},
   "outputs": [],
   "source": [
    "avg_rest_hot_p = avg_rest_hot_p.merge(country, how='left', left_on='Country Code', right_on='Iso3')\n",
    "avg_rest_hot_p [avg_rest_hot_p ['Name'].isnull()]"
   ]
  },
  {
   "cell_type": "code",
   "execution_count": null,
   "id": "bf727b7c",
   "metadata": {},
   "outputs": [],
   "source": []
  }
 ],
 "metadata": {
  "kernelspec": {
   "display_name": "Python 3",
   "language": "python",
   "name": "python3"
  },
  "language_info": {
   "codemirror_mode": {
    "name": "ipython",
    "version": 3
   },
   "file_extension": ".py",
   "mimetype": "text/x-python",
   "name": "python",
   "nbconvert_exporter": "python",
   "pygments_lexer": "ipython3",
   "version": "3.8.8"
  }
 },
 "nbformat": 4,
 "nbformat_minor": 5
}
