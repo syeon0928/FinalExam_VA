{
 "cells": [
  {
   "cell_type": "markdown",
   "id": "bb0fa62e",
   "metadata": {
    "pycharm": {
     "name": "#%% md\n"
    }
   },
   "source": [
    "### Import needed packages"
   ]
  },
  {
   "cell_type": "code",
   "execution_count": 1,
   "outputs": [],
   "source": [
    "import pandas as pd\n",
    "import numpy as np"
   ],
   "metadata": {
    "collapsed": false,
    "pycharm": {
     "name": "#%%\n"
    }
   }
  },
  {
   "cell_type": "markdown",
   "source": [
    "### Load all the necessary data"
   ],
   "metadata": {
    "collapsed": false,
    "pycharm": {
     "name": "#%% md\n"
    }
   }
  },
  {
   "cell_type": "code",
   "execution_count": 2,
   "outputs": [],
   "source": [
    "#Load the country-ISO code dataset\n",
    "country = pd.read_excel('../original_data/country.xlsx')\n",
    "\n",
    "#Load airport code data and distance data\n",
    "airport_code = pd.read_csv(\"../original_data/airports.csv\")\n",
    "distance = pd.read_csv(\"../original_data/Distance_of_All_Airports.csv\")\n",
    "\n",
    "# Load the population by country dataset\n",
    "pop = pd.read_csv(\"../original_data/Population.csv\")\n",
    "\n",
    "#Load the climate by country dataset\n",
    "clim = pd.read_csv(\"../original_data/Climate.csv\")\n",
    "\n",
    "#Load the currencies by country dataset\n",
    "curr = pd.read_csv(\"../original_data/Currencies.csv\")\n",
    "\n",
    "#Load the spoken languages by country dataset\n",
    "lang = pd.read_csv(\"../original_data/Languages.csv\", encoding='Latin-1')\n",
    "\n",
    "#Load the religion by country dataset\n",
    "rel = pd.read_csv(\"../original_data/Religion.csv\")\n",
    "\n",
    "#Load the peace index dataset\n",
    "peace = pd.read_csv(\"../original_data/Peace_Index.csv\")\n",
    "\n",
    "#Load Wef Travel Index data\n",
    "wef = pd.read_excel('../Original_data/WEF_TTDI.xlsx', header=[0, 1], sheet_name='Index Performance')\n",
    "\n",
    "# Load average restaurant and accomodation cost data\n",
    "avg_rest_hot_p = pd.read_csv(\"../Original_data/Avg_rest_hot_prices.csv\")"
   ],
   "metadata": {
    "collapsed": false,
    "pycharm": {
     "name": "#%%\n"
    }
   }
  },
  {
   "cell_type": "markdown",
   "source": [
    "## EDA"
   ],
   "metadata": {
    "collapsed": false,
    "pycharm": {
     "name": "#%% md\n"
    }
   }
  },
  {
   "cell_type": "markdown",
   "source": [
    "#### Country - ISO Code datset"
   ],
   "metadata": {
    "collapsed": false,
    "pycharm": {
     "name": "#%% md\n"
    }
   }
  },
  {
   "cell_type": "code",
   "execution_count": 3,
   "outputs": [
    {
     "data": {
      "text/plain": "          Name Iso3                           Continent     SubContinent\n0        Aruba  ABW     Latin America and the Caribbean        Caribbean\n1      Andorra  ADO                              Europe  Southern Europe\n2  Afghanistan  AFG  South, East and South-Eastern Asia    Southern Asia\n3       Angola  AGO                              Africa    Middle Africa\n4      Albania  ALB                              Europe  Southern Europe",
      "text/html": "<div>\n<style scoped>\n    .dataframe tbody tr th:only-of-type {\n        vertical-align: middle;\n    }\n\n    .dataframe tbody tr th {\n        vertical-align: top;\n    }\n\n    .dataframe thead th {\n        text-align: right;\n    }\n</style>\n<table border=\"1\" class=\"dataframe\">\n  <thead>\n    <tr style=\"text-align: right;\">\n      <th></th>\n      <th>Name</th>\n      <th>Iso3</th>\n      <th>Continent</th>\n      <th>SubContinent</th>\n    </tr>\n  </thead>\n  <tbody>\n    <tr>\n      <th>0</th>\n      <td>Aruba</td>\n      <td>ABW</td>\n      <td>Latin America and the Caribbean</td>\n      <td>Caribbean</td>\n    </tr>\n    <tr>\n      <th>1</th>\n      <td>Andorra</td>\n      <td>ADO</td>\n      <td>Europe</td>\n      <td>Southern Europe</td>\n    </tr>\n    <tr>\n      <th>2</th>\n      <td>Afghanistan</td>\n      <td>AFG</td>\n      <td>South, East and South-Eastern Asia</td>\n      <td>Southern Asia</td>\n    </tr>\n    <tr>\n      <th>3</th>\n      <td>Angola</td>\n      <td>AGO</td>\n      <td>Africa</td>\n      <td>Middle Africa</td>\n    </tr>\n    <tr>\n      <th>4</th>\n      <td>Albania</td>\n      <td>ALB</td>\n      <td>Europe</td>\n      <td>Southern Europe</td>\n    </tr>\n  </tbody>\n</table>\n</div>"
     },
     "execution_count": 3,
     "metadata": {},
     "output_type": "execute_result"
    }
   ],
   "source": [
    "country.head()"
   ],
   "metadata": {
    "collapsed": false,
    "pycharm": {
     "name": "#%%\n"
    }
   }
  },
  {
   "cell_type": "code",
   "execution_count": 4,
   "outputs": [
    {
     "name": "stdout",
     "output_type": "stream",
     "text": [
      "<class 'pandas.core.frame.DataFrame'>\n",
      "RangeIndex: 329 entries, 0 to 328\n",
      "Data columns (total 4 columns):\n",
      " #   Column        Non-Null Count  Dtype \n",
      "---  ------        --------------  ----- \n",
      " 0   Name          329 non-null    object\n",
      " 1   Iso3          329 non-null    object\n",
      " 2   Continent     329 non-null    object\n",
      " 3   SubContinent  329 non-null    object\n",
      "dtypes: object(4)\n",
      "memory usage: 10.4+ KB\n"
     ]
    }
   ],
   "source": [
    "country.info()"
   ],
   "metadata": {
    "collapsed": false,
    "pycharm": {
     "name": "#%%\n"
    }
   }
  },
  {
   "cell_type": "markdown",
   "source": [
    "#### Airport Distance data"
   ],
   "metadata": {
    "collapsed": false,
    "pycharm": {
     "name": "#%% md\n"
    }
   }
  },
  {
   "cell_type": "code",
   "execution_count": 5,
   "outputs": [
    {
     "data": {
      "text/plain": "                                          Name          City  \\\n0                               Goroka Airport        Goroka   \n1                               Madang Airport        Madang   \n2                 Mount Hagen Kagamuga Airport   Mount Hagen   \n3                               Nadzab Airport        Nadzab   \n4  Port Moresby Jacksons International Airport  Port Moresby   \n\n            Country IATA  ICAO  Latitude   Longitude  \n0  Papua New Guinea  GKA  AYGA -6.081690  145.391998  \n1  Papua New Guinea  MAG  AYMD -5.207080  145.789002  \n2  Papua New Guinea  HGU  AYMH -5.826790  144.296005  \n3  Papua New Guinea  LAE  AYNZ -6.569803  146.725977  \n4  Papua New Guinea  POM  AYPY -9.443380  147.220001  ",
      "text/html": "<div>\n<style scoped>\n    .dataframe tbody tr th:only-of-type {\n        vertical-align: middle;\n    }\n\n    .dataframe tbody tr th {\n        vertical-align: top;\n    }\n\n    .dataframe thead th {\n        text-align: right;\n    }\n</style>\n<table border=\"1\" class=\"dataframe\">\n  <thead>\n    <tr style=\"text-align: right;\">\n      <th></th>\n      <th>Name</th>\n      <th>City</th>\n      <th>Country</th>\n      <th>IATA</th>\n      <th>ICAO</th>\n      <th>Latitude</th>\n      <th>Longitude</th>\n    </tr>\n  </thead>\n  <tbody>\n    <tr>\n      <th>0</th>\n      <td>Goroka Airport</td>\n      <td>Goroka</td>\n      <td>Papua New Guinea</td>\n      <td>GKA</td>\n      <td>AYGA</td>\n      <td>-6.081690</td>\n      <td>145.391998</td>\n    </tr>\n    <tr>\n      <th>1</th>\n      <td>Madang Airport</td>\n      <td>Madang</td>\n      <td>Papua New Guinea</td>\n      <td>MAG</td>\n      <td>AYMD</td>\n      <td>-5.207080</td>\n      <td>145.789002</td>\n    </tr>\n    <tr>\n      <th>2</th>\n      <td>Mount Hagen Kagamuga Airport</td>\n      <td>Mount Hagen</td>\n      <td>Papua New Guinea</td>\n      <td>HGU</td>\n      <td>AYMH</td>\n      <td>-5.826790</td>\n      <td>144.296005</td>\n    </tr>\n    <tr>\n      <th>3</th>\n      <td>Nadzab Airport</td>\n      <td>Nadzab</td>\n      <td>Papua New Guinea</td>\n      <td>LAE</td>\n      <td>AYNZ</td>\n      <td>-6.569803</td>\n      <td>146.725977</td>\n    </tr>\n    <tr>\n      <th>4</th>\n      <td>Port Moresby Jacksons International Airport</td>\n      <td>Port Moresby</td>\n      <td>Papua New Guinea</td>\n      <td>POM</td>\n      <td>AYPY</td>\n      <td>-9.443380</td>\n      <td>147.220001</td>\n    </tr>\n  </tbody>\n</table>\n</div>"
     },
     "execution_count": 5,
     "metadata": {},
     "output_type": "execute_result"
    }
   ],
   "source": [
    "airport_code.head()"
   ],
   "metadata": {
    "collapsed": false,
    "pycharm": {
     "name": "#%%\n"
    }
   }
  },
  {
   "cell_type": "code",
   "execution_count": 6,
   "outputs": [
    {
     "data": {
      "text/plain": "  ORIGIN  ORIGIN_AIRPORT_SEQ_ID DEST  DEST_AIRPORT_SEQ_ID  DISTANCE IN MILES\n0    01A                1000101  A43              1005601               30.0\n1    06A                1000601  A30              1004301               16.0\n2    06A                1000601  A43              1005601               18.0\n3    06A                1000601  ADQ              1017004               14.0\n4    06A                1000601  AOS              1032401               40.0",
      "text/html": "<div>\n<style scoped>\n    .dataframe tbody tr th:only-of-type {\n        vertical-align: middle;\n    }\n\n    .dataframe tbody tr th {\n        vertical-align: top;\n    }\n\n    .dataframe thead th {\n        text-align: right;\n    }\n</style>\n<table border=\"1\" class=\"dataframe\">\n  <thead>\n    <tr style=\"text-align: right;\">\n      <th></th>\n      <th>ORIGIN</th>\n      <th>ORIGIN_AIRPORT_SEQ_ID</th>\n      <th>DEST</th>\n      <th>DEST_AIRPORT_SEQ_ID</th>\n      <th>DISTANCE IN MILES</th>\n    </tr>\n  </thead>\n  <tbody>\n    <tr>\n      <th>0</th>\n      <td>01A</td>\n      <td>1000101</td>\n      <td>A43</td>\n      <td>1005601</td>\n      <td>30.0</td>\n    </tr>\n    <tr>\n      <th>1</th>\n      <td>06A</td>\n      <td>1000601</td>\n      <td>A30</td>\n      <td>1004301</td>\n      <td>16.0</td>\n    </tr>\n    <tr>\n      <th>2</th>\n      <td>06A</td>\n      <td>1000601</td>\n      <td>A43</td>\n      <td>1005601</td>\n      <td>18.0</td>\n    </tr>\n    <tr>\n      <th>3</th>\n      <td>06A</td>\n      <td>1000601</td>\n      <td>ADQ</td>\n      <td>1017004</td>\n      <td>14.0</td>\n    </tr>\n    <tr>\n      <th>4</th>\n      <td>06A</td>\n      <td>1000601</td>\n      <td>AOS</td>\n      <td>1032401</td>\n      <td>40.0</td>\n    </tr>\n  </tbody>\n</table>\n</div>"
     },
     "execution_count": 6,
     "metadata": {},
     "output_type": "execute_result"
    }
   ],
   "source": [
    "distance.head()"
   ],
   "metadata": {
    "collapsed": false,
    "pycharm": {
     "name": "#%%\n"
    }
   }
  },
  {
   "cell_type": "code",
   "execution_count": 7,
   "outputs": [],
   "source": [
    "airport_distance = distance.merge(airport_code, left_on='ORIGIN', right_on='IATA', how='left')"
   ],
   "metadata": {
    "collapsed": false,
    "pycharm": {
     "name": "#%%\n"
    }
   }
  },
  {
   "cell_type": "code",
   "execution_count": 8,
   "outputs": [],
   "source": [
    "airport_distance = airport_distance.merge(airport_code, left_on='DEST', right_on='IATA', how='left', suffixes=['_Origin', '_Dest'])"
   ],
   "metadata": {
    "collapsed": false,
    "pycharm": {
     "name": "#%%\n"
    }
   }
  },
  {
   "cell_type": "code",
   "execution_count": 9,
   "outputs": [
    {
     "data": {
      "text/plain": "       ORIGIN  ORIGIN_AIRPORT_SEQ_ID DEST  DEST_AIRPORT_SEQ_ID  \\\n0         01A                1000101  A43              1005601   \n1         06A                1000601  A30              1004301   \n2         06A                1000601  A43              1005601   \n3         06A                1000601  ADQ              1017004   \n4         06A                1000601  AOS              1032401   \n...       ...                    ...  ...                  ...   \n328146    ZXU                1635301  OPF              1389806   \n328147    ZXU                1635301  PHF              1409803   \n328148    ZXU                1635301  SCF              1471201   \n328149    ZXU                1635301  TEB              1516702   \n328150    ZZV                1636105  SAT              1468305   \n\n        DISTANCE IN MILES                   Name_Origin City_Origin  \\\n0                    30.0                           NaN         NaN   \n1                    16.0                           NaN         NaN   \n2                    18.0                           NaN         NaN   \n3                    14.0                           NaN         NaN   \n4                    40.0                           NaN         NaN   \n...                   ...                           ...         ...   \n328146             1194.0                           NaN         NaN   \n328147              411.0                           NaN         NaN   \n328148             2267.0                           NaN         NaN   \n328149              147.0                           NaN         NaN   \n328150             1182.0  Zanesville Municipal Airport  Zanesville   \n\n       Country_Origin IATA_Origin ICAO_Origin  Latitude_Origin  \\\n0                 NaN         NaN         NaN              NaN   \n1                 NaN         NaN         NaN              NaN   \n2                 NaN         NaN         NaN              NaN   \n3                 NaN         NaN         NaN              NaN   \n4                 NaN         NaN         NaN              NaN   \n...               ...         ...         ...              ...   \n328146            NaN         NaN         NaN              NaN   \n328147            NaN         NaN         NaN              NaN   \n328148            NaN         NaN         NaN              NaN   \n328149            NaN         NaN         NaN              NaN   \n328150  United States         ZZV        KZZV        39.944401   \n\n        Longitude_Origin                                        Name_Dest  \\\n0                    NaN                                              NaN   \n1                    NaN                                              NaN   \n2                    NaN                                              NaN   \n3                    NaN                                   Kodiak Airport   \n4                    NaN                                              NaN   \n...                  ...                                              ...   \n328146               NaN                      Opa-locka Executive Airport   \n328147               NaN  Newport News Williamsburg International Airport   \n328148               NaN                               Scottsdale Airport   \n328149               NaN                                Teterboro Airport   \n328150        -81.892097                San Antonio International Airport   \n\n           City_Dest   Country_Dest IATA_Dest ICAO_Dest  Latitude_Dest  \\\n0                NaN            NaN       NaN       NaN            NaN   \n1                NaN            NaN       NaN       NaN            NaN   \n2                NaN            NaN       NaN       NaN            NaN   \n3             Kodiak  United States       ADQ      PADQ      57.750000   \n4                NaN            NaN       NaN       NaN            NaN   \n...              ...            ...       ...       ...            ...   \n328146         Miami  United States       OPF      KOPF      25.907000   \n328147  Newport News  United States       PHF      KPHF      37.131901   \n328148    Scottsdale  United States       SCF      KSDL      33.622898   \n328149     Teterboro  United States       TEB      KTEB      40.850101   \n328150   San Antonio  United States       SAT      KSAT      29.533701   \n\n        Longitude_Dest  \n0                  NaN  \n1                  NaN  \n2                  NaN  \n3          -152.494003  \n4                  NaN  \n...                ...  \n328146      -80.278397  \n328147      -76.492996  \n328148     -111.911003  \n328149      -74.060799  \n328150      -98.469803  \n\n[328151 rows x 19 columns]",
      "text/html": "<div>\n<style scoped>\n    .dataframe tbody tr th:only-of-type {\n        vertical-align: middle;\n    }\n\n    .dataframe tbody tr th {\n        vertical-align: top;\n    }\n\n    .dataframe thead th {\n        text-align: right;\n    }\n</style>\n<table border=\"1\" class=\"dataframe\">\n  <thead>\n    <tr style=\"text-align: right;\">\n      <th></th>\n      <th>ORIGIN</th>\n      <th>ORIGIN_AIRPORT_SEQ_ID</th>\n      <th>DEST</th>\n      <th>DEST_AIRPORT_SEQ_ID</th>\n      <th>DISTANCE IN MILES</th>\n      <th>Name_Origin</th>\n      <th>City_Origin</th>\n      <th>Country_Origin</th>\n      <th>IATA_Origin</th>\n      <th>ICAO_Origin</th>\n      <th>Latitude_Origin</th>\n      <th>Longitude_Origin</th>\n      <th>Name_Dest</th>\n      <th>City_Dest</th>\n      <th>Country_Dest</th>\n      <th>IATA_Dest</th>\n      <th>ICAO_Dest</th>\n      <th>Latitude_Dest</th>\n      <th>Longitude_Dest</th>\n    </tr>\n  </thead>\n  <tbody>\n    <tr>\n      <th>0</th>\n      <td>01A</td>\n      <td>1000101</td>\n      <td>A43</td>\n      <td>1005601</td>\n      <td>30.0</td>\n      <td>NaN</td>\n      <td>NaN</td>\n      <td>NaN</td>\n      <td>NaN</td>\n      <td>NaN</td>\n      <td>NaN</td>\n      <td>NaN</td>\n      <td>NaN</td>\n      <td>NaN</td>\n      <td>NaN</td>\n      <td>NaN</td>\n      <td>NaN</td>\n      <td>NaN</td>\n      <td>NaN</td>\n    </tr>\n    <tr>\n      <th>1</th>\n      <td>06A</td>\n      <td>1000601</td>\n      <td>A30</td>\n      <td>1004301</td>\n      <td>16.0</td>\n      <td>NaN</td>\n      <td>NaN</td>\n      <td>NaN</td>\n      <td>NaN</td>\n      <td>NaN</td>\n      <td>NaN</td>\n      <td>NaN</td>\n      <td>NaN</td>\n      <td>NaN</td>\n      <td>NaN</td>\n      <td>NaN</td>\n      <td>NaN</td>\n      <td>NaN</td>\n      <td>NaN</td>\n    </tr>\n    <tr>\n      <th>2</th>\n      <td>06A</td>\n      <td>1000601</td>\n      <td>A43</td>\n      <td>1005601</td>\n      <td>18.0</td>\n      <td>NaN</td>\n      <td>NaN</td>\n      <td>NaN</td>\n      <td>NaN</td>\n      <td>NaN</td>\n      <td>NaN</td>\n      <td>NaN</td>\n      <td>NaN</td>\n      <td>NaN</td>\n      <td>NaN</td>\n      <td>NaN</td>\n      <td>NaN</td>\n      <td>NaN</td>\n      <td>NaN</td>\n    </tr>\n    <tr>\n      <th>3</th>\n      <td>06A</td>\n      <td>1000601</td>\n      <td>ADQ</td>\n      <td>1017004</td>\n      <td>14.0</td>\n      <td>NaN</td>\n      <td>NaN</td>\n      <td>NaN</td>\n      <td>NaN</td>\n      <td>NaN</td>\n      <td>NaN</td>\n      <td>NaN</td>\n      <td>Kodiak Airport</td>\n      <td>Kodiak</td>\n      <td>United States</td>\n      <td>ADQ</td>\n      <td>PADQ</td>\n      <td>57.750000</td>\n      <td>-152.494003</td>\n    </tr>\n    <tr>\n      <th>4</th>\n      <td>06A</td>\n      <td>1000601</td>\n      <td>AOS</td>\n      <td>1032401</td>\n      <td>40.0</td>\n      <td>NaN</td>\n      <td>NaN</td>\n      <td>NaN</td>\n      <td>NaN</td>\n      <td>NaN</td>\n      <td>NaN</td>\n      <td>NaN</td>\n      <td>NaN</td>\n      <td>NaN</td>\n      <td>NaN</td>\n      <td>NaN</td>\n      <td>NaN</td>\n      <td>NaN</td>\n      <td>NaN</td>\n    </tr>\n    <tr>\n      <th>...</th>\n      <td>...</td>\n      <td>...</td>\n      <td>...</td>\n      <td>...</td>\n      <td>...</td>\n      <td>...</td>\n      <td>...</td>\n      <td>...</td>\n      <td>...</td>\n      <td>...</td>\n      <td>...</td>\n      <td>...</td>\n      <td>...</td>\n      <td>...</td>\n      <td>...</td>\n      <td>...</td>\n      <td>...</td>\n      <td>...</td>\n      <td>...</td>\n    </tr>\n    <tr>\n      <th>328146</th>\n      <td>ZXU</td>\n      <td>1635301</td>\n      <td>OPF</td>\n      <td>1389806</td>\n      <td>1194.0</td>\n      <td>NaN</td>\n      <td>NaN</td>\n      <td>NaN</td>\n      <td>NaN</td>\n      <td>NaN</td>\n      <td>NaN</td>\n      <td>NaN</td>\n      <td>Opa-locka Executive Airport</td>\n      <td>Miami</td>\n      <td>United States</td>\n      <td>OPF</td>\n      <td>KOPF</td>\n      <td>25.907000</td>\n      <td>-80.278397</td>\n    </tr>\n    <tr>\n      <th>328147</th>\n      <td>ZXU</td>\n      <td>1635301</td>\n      <td>PHF</td>\n      <td>1409803</td>\n      <td>411.0</td>\n      <td>NaN</td>\n      <td>NaN</td>\n      <td>NaN</td>\n      <td>NaN</td>\n      <td>NaN</td>\n      <td>NaN</td>\n      <td>NaN</td>\n      <td>Newport News Williamsburg International Airport</td>\n      <td>Newport News</td>\n      <td>United States</td>\n      <td>PHF</td>\n      <td>KPHF</td>\n      <td>37.131901</td>\n      <td>-76.492996</td>\n    </tr>\n    <tr>\n      <th>328148</th>\n      <td>ZXU</td>\n      <td>1635301</td>\n      <td>SCF</td>\n      <td>1471201</td>\n      <td>2267.0</td>\n      <td>NaN</td>\n      <td>NaN</td>\n      <td>NaN</td>\n      <td>NaN</td>\n      <td>NaN</td>\n      <td>NaN</td>\n      <td>NaN</td>\n      <td>Scottsdale Airport</td>\n      <td>Scottsdale</td>\n      <td>United States</td>\n      <td>SCF</td>\n      <td>KSDL</td>\n      <td>33.622898</td>\n      <td>-111.911003</td>\n    </tr>\n    <tr>\n      <th>328149</th>\n      <td>ZXU</td>\n      <td>1635301</td>\n      <td>TEB</td>\n      <td>1516702</td>\n      <td>147.0</td>\n      <td>NaN</td>\n      <td>NaN</td>\n      <td>NaN</td>\n      <td>NaN</td>\n      <td>NaN</td>\n      <td>NaN</td>\n      <td>NaN</td>\n      <td>Teterboro Airport</td>\n      <td>Teterboro</td>\n      <td>United States</td>\n      <td>TEB</td>\n      <td>KTEB</td>\n      <td>40.850101</td>\n      <td>-74.060799</td>\n    </tr>\n    <tr>\n      <th>328150</th>\n      <td>ZZV</td>\n      <td>1636105</td>\n      <td>SAT</td>\n      <td>1468305</td>\n      <td>1182.0</td>\n      <td>Zanesville Municipal Airport</td>\n      <td>Zanesville</td>\n      <td>United States</td>\n      <td>ZZV</td>\n      <td>KZZV</td>\n      <td>39.944401</td>\n      <td>-81.892097</td>\n      <td>San Antonio International Airport</td>\n      <td>San Antonio</td>\n      <td>United States</td>\n      <td>SAT</td>\n      <td>KSAT</td>\n      <td>29.533701</td>\n      <td>-98.469803</td>\n    </tr>\n  </tbody>\n</table>\n<p>328151 rows × 19 columns</p>\n</div>"
     },
     "execution_count": 9,
     "metadata": {},
     "output_type": "execute_result"
    }
   ],
   "source": [
    "airport_distance"
   ],
   "metadata": {
    "collapsed": false,
    "pycharm": {
     "name": "#%%\n"
    }
   }
  },
  {
   "cell_type": "code",
   "execution_count": 10,
   "outputs": [
    {
     "data": {
      "text/plain": "ORIGIN                      0\nORIGIN_AIRPORT_SEQ_ID       0\nDEST                        0\nDEST_AIRPORT_SEQ_ID         0\nDISTANCE IN MILES           0\nName_Origin              4875\nCity_Origin              4875\nCountry_Origin           4875\nIATA_Origin              4875\nICAO_Origin              4875\nLatitude_Origin          4875\nLongitude_Origin         4875\nName_Dest                4991\nCity_Dest                4991\nCountry_Dest             4991\nIATA_Dest                4991\nICAO_Dest                4991\nLatitude_Dest            4991\nLongitude_Dest           4991\ndtype: int64"
     },
     "execution_count": 10,
     "metadata": {},
     "output_type": "execute_result"
    }
   ],
   "source": [
    "airport_distance.isnull().sum()"
   ],
   "metadata": {
    "collapsed": false,
    "pycharm": {
     "name": "#%%\n"
    }
   }
  },
  {
   "cell_type": "code",
   "execution_count": 11,
   "outputs": [
    {
     "data": {
      "text/plain": "(328151, 19)"
     },
     "execution_count": 11,
     "metadata": {},
     "output_type": "execute_result"
    }
   ],
   "source": [
    "airport_distance.shape"
   ],
   "metadata": {
    "collapsed": false,
    "pycharm": {
     "name": "#%%\n"
    }
   }
  },
  {
   "cell_type": "markdown",
   "source": [
    "#### Population Dataset"
   ],
   "metadata": {
    "collapsed": false,
    "pycharm": {
     "name": "#%% md\n"
    }
   }
  },
  {
   "cell_type": "code",
   "execution_count": 12,
   "outputs": [
    {
     "data": {
      "text/plain": "                  Country Name Country Code     Indicator Name Indicator Code  \\\n0                        Aruba          ABW  Population, total    SP.POP.TOTL   \n1  Africa Eastern and Southern          AFE  Population, total    SP.POP.TOTL   \n2                  Afghanistan          AFG  Population, total    SP.POP.TOTL   \n3   Africa Western and Central          AFW  Population, total    SP.POP.TOTL   \n4                       Angola          AGO  Population, total    SP.POP.TOTL   \n\n          1960         1961         1962         1963         1964  \\\n0      54208.0      55434.0      56234.0      56699.0      57029.0   \n1  130836765.0  134159786.0  137614644.0  141202036.0  144920186.0   \n2    8996967.0    9169406.0    9351442.0    9543200.0    9744772.0   \n3   96396419.0   98407221.0  100506960.0  102691339.0  104953470.0   \n4    5454938.0    5531451.0    5608499.0    5679409.0    5734995.0   \n\n          1965  ...         2012         2013         2014         2015  \\\n0      57357.0  ...     102565.0     103165.0     103776.0     104339.0   \n1  148769974.0  ...  547482863.0  562601578.0  578075373.0  593871847.0   \n2    9956318.0  ...   31161378.0   32269592.0   33370804.0   34413603.0   \n3  107289875.0  ...  370243017.0  380437896.0  390882979.0  401586651.0   \n4    5770573.0  ...   25107925.0   26015786.0   26941773.0   27884380.0   \n\n          2016         2017         2018         2019         2020  \\\n0     104865.0     105361.0     105846.0     106310.0     106766.0   \n1  609978946.0  626392880.0  643090131.0  660046272.0  677243299.0   \n2   35383028.0   36296111.0   37171922.0   38041757.0   38928341.0   \n3  412551299.0  423769930.0  435229381.0  446911598.0  458803476.0   \n4   28842482.0   29816769.0   30809787.0   31825299.0   32866268.0   \n\n          2021  \n0     107195.0  \n1  694665117.0  \n2   39835428.0  \n3  470898870.0  \n4   33933611.0  \n\n[5 rows x 66 columns]",
      "text/html": "<div>\n<style scoped>\n    .dataframe tbody tr th:only-of-type {\n        vertical-align: middle;\n    }\n\n    .dataframe tbody tr th {\n        vertical-align: top;\n    }\n\n    .dataframe thead th {\n        text-align: right;\n    }\n</style>\n<table border=\"1\" class=\"dataframe\">\n  <thead>\n    <tr style=\"text-align: right;\">\n      <th></th>\n      <th>Country Name</th>\n      <th>Country Code</th>\n      <th>Indicator Name</th>\n      <th>Indicator Code</th>\n      <th>1960</th>\n      <th>1961</th>\n      <th>1962</th>\n      <th>1963</th>\n      <th>1964</th>\n      <th>1965</th>\n      <th>...</th>\n      <th>2012</th>\n      <th>2013</th>\n      <th>2014</th>\n      <th>2015</th>\n      <th>2016</th>\n      <th>2017</th>\n      <th>2018</th>\n      <th>2019</th>\n      <th>2020</th>\n      <th>2021</th>\n    </tr>\n  </thead>\n  <tbody>\n    <tr>\n      <th>0</th>\n      <td>Aruba</td>\n      <td>ABW</td>\n      <td>Population, total</td>\n      <td>SP.POP.TOTL</td>\n      <td>54208.0</td>\n      <td>55434.0</td>\n      <td>56234.0</td>\n      <td>56699.0</td>\n      <td>57029.0</td>\n      <td>57357.0</td>\n      <td>...</td>\n      <td>102565.0</td>\n      <td>103165.0</td>\n      <td>103776.0</td>\n      <td>104339.0</td>\n      <td>104865.0</td>\n      <td>105361.0</td>\n      <td>105846.0</td>\n      <td>106310.0</td>\n      <td>106766.0</td>\n      <td>107195.0</td>\n    </tr>\n    <tr>\n      <th>1</th>\n      <td>Africa Eastern and Southern</td>\n      <td>AFE</td>\n      <td>Population, total</td>\n      <td>SP.POP.TOTL</td>\n      <td>130836765.0</td>\n      <td>134159786.0</td>\n      <td>137614644.0</td>\n      <td>141202036.0</td>\n      <td>144920186.0</td>\n      <td>148769974.0</td>\n      <td>...</td>\n      <td>547482863.0</td>\n      <td>562601578.0</td>\n      <td>578075373.0</td>\n      <td>593871847.0</td>\n      <td>609978946.0</td>\n      <td>626392880.0</td>\n      <td>643090131.0</td>\n      <td>660046272.0</td>\n      <td>677243299.0</td>\n      <td>694665117.0</td>\n    </tr>\n    <tr>\n      <th>2</th>\n      <td>Afghanistan</td>\n      <td>AFG</td>\n      <td>Population, total</td>\n      <td>SP.POP.TOTL</td>\n      <td>8996967.0</td>\n      <td>9169406.0</td>\n      <td>9351442.0</td>\n      <td>9543200.0</td>\n      <td>9744772.0</td>\n      <td>9956318.0</td>\n      <td>...</td>\n      <td>31161378.0</td>\n      <td>32269592.0</td>\n      <td>33370804.0</td>\n      <td>34413603.0</td>\n      <td>35383028.0</td>\n      <td>36296111.0</td>\n      <td>37171922.0</td>\n      <td>38041757.0</td>\n      <td>38928341.0</td>\n      <td>39835428.0</td>\n    </tr>\n    <tr>\n      <th>3</th>\n      <td>Africa Western and Central</td>\n      <td>AFW</td>\n      <td>Population, total</td>\n      <td>SP.POP.TOTL</td>\n      <td>96396419.0</td>\n      <td>98407221.0</td>\n      <td>100506960.0</td>\n      <td>102691339.0</td>\n      <td>104953470.0</td>\n      <td>107289875.0</td>\n      <td>...</td>\n      <td>370243017.0</td>\n      <td>380437896.0</td>\n      <td>390882979.0</td>\n      <td>401586651.0</td>\n      <td>412551299.0</td>\n      <td>423769930.0</td>\n      <td>435229381.0</td>\n      <td>446911598.0</td>\n      <td>458803476.0</td>\n      <td>470898870.0</td>\n    </tr>\n    <tr>\n      <th>4</th>\n      <td>Angola</td>\n      <td>AGO</td>\n      <td>Population, total</td>\n      <td>SP.POP.TOTL</td>\n      <td>5454938.0</td>\n      <td>5531451.0</td>\n      <td>5608499.0</td>\n      <td>5679409.0</td>\n      <td>5734995.0</td>\n      <td>5770573.0</td>\n      <td>...</td>\n      <td>25107925.0</td>\n      <td>26015786.0</td>\n      <td>26941773.0</td>\n      <td>27884380.0</td>\n      <td>28842482.0</td>\n      <td>29816769.0</td>\n      <td>30809787.0</td>\n      <td>31825299.0</td>\n      <td>32866268.0</td>\n      <td>33933611.0</td>\n    </tr>\n  </tbody>\n</table>\n<p>5 rows × 66 columns</p>\n</div>"
     },
     "execution_count": 12,
     "metadata": {},
     "output_type": "execute_result"
    }
   ],
   "source": [
    "pop.head()"
   ],
   "metadata": {
    "collapsed": false,
    "pycharm": {
     "name": "#%%\n"
    }
   }
  },
  {
   "cell_type": "code",
   "execution_count": 13,
   "outputs": [
    {
     "name": "stdout",
     "output_type": "stream",
     "text": [
      "<class 'pandas.core.frame.DataFrame'>\n",
      "RangeIndex: 266 entries, 0 to 265\n",
      "Data columns (total 66 columns):\n",
      " #   Column          Non-Null Count  Dtype  \n",
      "---  ------          --------------  -----  \n",
      " 0   Country Name    266 non-null    object \n",
      " 1   Country Code    266 non-null    object \n",
      " 2   Indicator Name  266 non-null    object \n",
      " 3   Indicator Code  266 non-null    object \n",
      " 4   1960            264 non-null    float64\n",
      " 5   1961            264 non-null    float64\n",
      " 6   1962            264 non-null    float64\n",
      " 7   1963            264 non-null    float64\n",
      " 8   1964            264 non-null    float64\n",
      " 9   1965            264 non-null    float64\n",
      " 10  1966            264 non-null    float64\n",
      " 11  1967            264 non-null    float64\n",
      " 12  1968            264 non-null    float64\n",
      " 13  1969            264 non-null    float64\n",
      " 14  1970            264 non-null    float64\n",
      " 15  1971            264 non-null    float64\n",
      " 16  1972            264 non-null    float64\n",
      " 17  1973            264 non-null    float64\n",
      " 18  1974            264 non-null    float64\n",
      " 19  1975            264 non-null    float64\n",
      " 20  1976            264 non-null    float64\n",
      " 21  1977            264 non-null    float64\n",
      " 22  1978            264 non-null    float64\n",
      " 23  1979            264 non-null    float64\n",
      " 24  1980            264 non-null    float64\n",
      " 25  1981            264 non-null    float64\n",
      " 26  1982            264 non-null    float64\n",
      " 27  1983            264 non-null    float64\n",
      " 28  1984            264 non-null    float64\n",
      " 29  1985            264 non-null    float64\n",
      " 30  1986            264 non-null    float64\n",
      " 31  1987            264 non-null    float64\n",
      " 32  1988            264 non-null    float64\n",
      " 33  1989            264 non-null    float64\n",
      " 34  1990            265 non-null    float64\n",
      " 35  1991            265 non-null    float64\n",
      " 36  1992            264 non-null    float64\n",
      " 37  1993            264 non-null    float64\n",
      " 38  1994            264 non-null    float64\n",
      " 39  1995            265 non-null    float64\n",
      " 40  1996            265 non-null    float64\n",
      " 41  1997            265 non-null    float64\n",
      " 42  1998            265 non-null    float64\n",
      " 43  1999            265 non-null    float64\n",
      " 44  2000            265 non-null    float64\n",
      " 45  2001            265 non-null    float64\n",
      " 46  2002            265 non-null    float64\n",
      " 47  2003            265 non-null    float64\n",
      " 48  2004            265 non-null    float64\n",
      " 49  2005            265 non-null    float64\n",
      " 50  2006            265 non-null    float64\n",
      " 51  2007            265 non-null    float64\n",
      " 52  2008            265 non-null    float64\n",
      " 53  2009            265 non-null    float64\n",
      " 54  2010            265 non-null    float64\n",
      " 55  2011            265 non-null    float64\n",
      " 56  2012            264 non-null    float64\n",
      " 57  2013            264 non-null    float64\n",
      " 58  2014            264 non-null    float64\n",
      " 59  2015            264 non-null    float64\n",
      " 60  2016            264 non-null    float64\n",
      " 61  2017            264 non-null    float64\n",
      " 62  2018            264 non-null    float64\n",
      " 63  2019            264 non-null    float64\n",
      " 64  2020            264 non-null    float64\n",
      " 65  2021            264 non-null    float64\n",
      "dtypes: float64(62), object(4)\n",
      "memory usage: 137.3+ KB\n"
     ]
    }
   ],
   "source": [
    "pop.info()"
   ],
   "metadata": {
    "collapsed": false,
    "pycharm": {
     "name": "#%%\n"
    }
   }
  },
  {
   "cell_type": "code",
   "execution_count": 14,
   "outputs": [
    {
     "data": {
      "text/plain": "Country Name      0\nCountry Code      0\nIndicator Name    0\nIndicator Code    0\n1960              2\n                 ..\n2017              2\n2018              2\n2019              2\n2020              2\n2021              2\nLength: 66, dtype: int64"
     },
     "execution_count": 14,
     "metadata": {},
     "output_type": "execute_result"
    }
   ],
   "source": [
    "pop.isna().sum() "
   ],
   "metadata": {
    "collapsed": false,
    "pycharm": {
     "name": "#%%\n"
    }
   }
  },
  {
   "cell_type": "code",
   "execution_count": 15,
   "outputs": [
    {
     "data": {
      "text/plain": "       Country Name Country Code     Indicator Name Indicator Code       1960  \\\n69          Eritrea          ERI  Population, total    SP.POP.TOTL  1007586.0   \n110  Not classified          INX  Population, total    SP.POP.TOTL        NaN   \n\n          1961       1962       1963       1964       1965  ...  2012  2013  \\\n69   1033320.0  1060489.0  1088859.0  1118152.0  1148188.0  ...   NaN   NaN   \n110        NaN        NaN        NaN        NaN        NaN  ...   NaN   NaN   \n\n     2014  2015  2016  2017  2018  2019  2020  2021  \n69    NaN   NaN   NaN   NaN   NaN   NaN   NaN   NaN  \n110   NaN   NaN   NaN   NaN   NaN   NaN   NaN   NaN  \n\n[2 rows x 66 columns]",
      "text/html": "<div>\n<style scoped>\n    .dataframe tbody tr th:only-of-type {\n        vertical-align: middle;\n    }\n\n    .dataframe tbody tr th {\n        vertical-align: top;\n    }\n\n    .dataframe thead th {\n        text-align: right;\n    }\n</style>\n<table border=\"1\" class=\"dataframe\">\n  <thead>\n    <tr style=\"text-align: right;\">\n      <th></th>\n      <th>Country Name</th>\n      <th>Country Code</th>\n      <th>Indicator Name</th>\n      <th>Indicator Code</th>\n      <th>1960</th>\n      <th>1961</th>\n      <th>1962</th>\n      <th>1963</th>\n      <th>1964</th>\n      <th>1965</th>\n      <th>...</th>\n      <th>2012</th>\n      <th>2013</th>\n      <th>2014</th>\n      <th>2015</th>\n      <th>2016</th>\n      <th>2017</th>\n      <th>2018</th>\n      <th>2019</th>\n      <th>2020</th>\n      <th>2021</th>\n    </tr>\n  </thead>\n  <tbody>\n    <tr>\n      <th>69</th>\n      <td>Eritrea</td>\n      <td>ERI</td>\n      <td>Population, total</td>\n      <td>SP.POP.TOTL</td>\n      <td>1007586.0</td>\n      <td>1033320.0</td>\n      <td>1060489.0</td>\n      <td>1088859.0</td>\n      <td>1118152.0</td>\n      <td>1148188.0</td>\n      <td>...</td>\n      <td>NaN</td>\n      <td>NaN</td>\n      <td>NaN</td>\n      <td>NaN</td>\n      <td>NaN</td>\n      <td>NaN</td>\n      <td>NaN</td>\n      <td>NaN</td>\n      <td>NaN</td>\n      <td>NaN</td>\n    </tr>\n    <tr>\n      <th>110</th>\n      <td>Not classified</td>\n      <td>INX</td>\n      <td>Population, total</td>\n      <td>SP.POP.TOTL</td>\n      <td>NaN</td>\n      <td>NaN</td>\n      <td>NaN</td>\n      <td>NaN</td>\n      <td>NaN</td>\n      <td>NaN</td>\n      <td>...</td>\n      <td>NaN</td>\n      <td>NaN</td>\n      <td>NaN</td>\n      <td>NaN</td>\n      <td>NaN</td>\n      <td>NaN</td>\n      <td>NaN</td>\n      <td>NaN</td>\n      <td>NaN</td>\n      <td>NaN</td>\n    </tr>\n  </tbody>\n</table>\n<p>2 rows × 66 columns</p>\n</div>"
     },
     "execution_count": 15,
     "metadata": {},
     "output_type": "execute_result"
    }
   ],
   "source": [
    "pop[pop[[\"2021\"]].isnull().any(axis=1)]"
   ],
   "metadata": {
    "collapsed": false,
    "pycharm": {
     "name": "#%%\n"
    }
   }
  },
  {
   "cell_type": "markdown",
   "source": [
    "Given the exploration done in the pop dataset, we can conclude that for the next step in the cleaning and transformations, we wish to keep only the \"Country Name\", \" Country Code\", and the most recent year 2021 (which we will rename to pop_2021). Moreover, to make sure that the dataset is homogeneous we will capitalize the first letter of each word in the \"Country Name\" column. We can also see that there is two null values in 2021, which will be handled."
   ],
   "metadata": {
    "collapsed": false,
    "pycharm": {
     "name": "#%% md\n"
    }
   }
  },
  {
   "cell_type": "markdown",
   "source": [
    "After scrutinizing, we found out that the 'Country Code' does not follow ISO-CODE, for example Kosovo and Congo. Therefore, we will connect dataset to our country dataset on Country name, not code."
   ],
   "metadata": {
    "collapsed": false,
    "pycharm": {
     "name": "#%% md\n"
    }
   }
  },
  {
   "cell_type": "markdown",
   "source": [
    "#### Climate dataset"
   ],
   "metadata": {
    "collapsed": false,
    "pycharm": {
     "name": "#%% md\n"
    }
   }
  },
  {
   "cell_type": "code",
   "execution_count": 16,
   "outputs": [
    {
     "data": {
      "text/plain": "          COUNTRY                                        DESCRIPTION\n0     Afghanistan     arid to semiarid; cold winters and hot summers\n1        Akrotiri  temperate; Mediterranean with hot, dry summers...\n2         Albania  mild temperate; cool, cloudy, wet winters; hot...\n3         Algeria  arid to semiarid; mild, wet winters with hot, ...\n4  American Samoa  tropical marine, moderated by southeast trade ...",
      "text/html": "<div>\n<style scoped>\n    .dataframe tbody tr th:only-of-type {\n        vertical-align: middle;\n    }\n\n    .dataframe tbody tr th {\n        vertical-align: top;\n    }\n\n    .dataframe thead th {\n        text-align: right;\n    }\n</style>\n<table border=\"1\" class=\"dataframe\">\n  <thead>\n    <tr style=\"text-align: right;\">\n      <th></th>\n      <th>COUNTRY</th>\n      <th>DESCRIPTION</th>\n    </tr>\n  </thead>\n  <tbody>\n    <tr>\n      <th>0</th>\n      <td>Afghanistan</td>\n      <td>arid to semiarid; cold winters and hot summers</td>\n    </tr>\n    <tr>\n      <th>1</th>\n      <td>Akrotiri</td>\n      <td>temperate; Mediterranean with hot, dry summers...</td>\n    </tr>\n    <tr>\n      <th>2</th>\n      <td>Albania</td>\n      <td>mild temperate; cool, cloudy, wet winters; hot...</td>\n    </tr>\n    <tr>\n      <th>3</th>\n      <td>Algeria</td>\n      <td>arid to semiarid; mild, wet winters with hot, ...</td>\n    </tr>\n    <tr>\n      <th>4</th>\n      <td>American Samoa</td>\n      <td>tropical marine, moderated by southeast trade ...</td>\n    </tr>\n  </tbody>\n</table>\n</div>"
     },
     "execution_count": 16,
     "metadata": {},
     "output_type": "execute_result"
    }
   ],
   "source": [
    "clim.head()"
   ],
   "metadata": {
    "collapsed": false,
    "pycharm": {
     "name": "#%%\n"
    }
   }
  },
  {
   "cell_type": "code",
   "execution_count": 17,
   "outputs": [
    {
     "name": "stdout",
     "output_type": "stream",
     "text": [
      "<class 'pandas.core.frame.DataFrame'>\n",
      "RangeIndex: 277 entries, 0 to 276\n",
      "Data columns (total 2 columns):\n",
      " #   Column       Non-Null Count  Dtype \n",
      "---  ------       --------------  ----- \n",
      " 0   COUNTRY      277 non-null    object\n",
      " 1   DESCRIPTION  277 non-null    object\n",
      "dtypes: object(2)\n",
      "memory usage: 4.5+ KB\n"
     ]
    }
   ],
   "source": [
    "clim.info()"
   ],
   "metadata": {
    "collapsed": false,
    "pycharm": {
     "name": "#%%\n"
    }
   }
  },
  {
   "cell_type": "code",
   "execution_count": 18,
   "outputs": [
    {
     "data": {
      "text/plain": "COUNTRY        0\nDESCRIPTION    0\ndtype: int64"
     },
     "execution_count": 18,
     "metadata": {},
     "output_type": "execute_result"
    }
   ],
   "source": [
    "clim.isna().sum()"
   ],
   "metadata": {
    "collapsed": false,
    "pycharm": {
     "name": "#%%\n"
    }
   }
  },
  {
   "cell_type": "markdown",
   "source": [
    "Given the exploration done in the clim dataset, we can conclude that for the next step in the cleaning and transformations, we wish to keep all the columns, but rename them. Moreover, to make sure that the dataset is homogeneous we will capitalize the first letter of each word in the \"COUNTRY\" and \"DESCRIPTION\" column. We can also see that there is no null values, hence no handling of missing values is needed in this case. "
   ],
   "metadata": {
    "collapsed": false,
    "pycharm": {
     "name": "#%% md\n"
    }
   }
  },
  {
   "cell_type": "markdown",
   "source": [
    "#### Currency dataset"
   ],
   "metadata": {
    "collapsed": false,
    "pycharm": {
     "name": "#%% md\n"
    }
   }
  },
  {
   "cell_type": "code",
   "execution_count": 19,
   "outputs": [
    {
     "data": {
      "text/plain": "           Entity        Currency AlphabeticCode  NumericCode MinorUnit  \\\n0     AFGHANISTAN         Afghani            AFN        971.0         2   \n1   ÅLAND ISLANDS            Euro            EUR        978.0         2   \n2         ALBANIA             Lek            ALL          8.0         2   \n3         ALGERIA  Algerian Dinar            DZD         12.0         2   \n4  AMERICAN SAMOA       US Dollar            USD        840.0         2   \n\n  WithdrawalDate  \n0            NaN  \n1            NaN  \n2            NaN  \n3            NaN  \n4            NaN  ",
      "text/html": "<div>\n<style scoped>\n    .dataframe tbody tr th:only-of-type {\n        vertical-align: middle;\n    }\n\n    .dataframe tbody tr th {\n        vertical-align: top;\n    }\n\n    .dataframe thead th {\n        text-align: right;\n    }\n</style>\n<table border=\"1\" class=\"dataframe\">\n  <thead>\n    <tr style=\"text-align: right;\">\n      <th></th>\n      <th>Entity</th>\n      <th>Currency</th>\n      <th>AlphabeticCode</th>\n      <th>NumericCode</th>\n      <th>MinorUnit</th>\n      <th>WithdrawalDate</th>\n    </tr>\n  </thead>\n  <tbody>\n    <tr>\n      <th>0</th>\n      <td>AFGHANISTAN</td>\n      <td>Afghani</td>\n      <td>AFN</td>\n      <td>971.0</td>\n      <td>2</td>\n      <td>NaN</td>\n    </tr>\n    <tr>\n      <th>1</th>\n      <td>ÅLAND ISLANDS</td>\n      <td>Euro</td>\n      <td>EUR</td>\n      <td>978.0</td>\n      <td>2</td>\n      <td>NaN</td>\n    </tr>\n    <tr>\n      <th>2</th>\n      <td>ALBANIA</td>\n      <td>Lek</td>\n      <td>ALL</td>\n      <td>8.0</td>\n      <td>2</td>\n      <td>NaN</td>\n    </tr>\n    <tr>\n      <th>3</th>\n      <td>ALGERIA</td>\n      <td>Algerian Dinar</td>\n      <td>DZD</td>\n      <td>12.0</td>\n      <td>2</td>\n      <td>NaN</td>\n    </tr>\n    <tr>\n      <th>4</th>\n      <td>AMERICAN SAMOA</td>\n      <td>US Dollar</td>\n      <td>USD</td>\n      <td>840.0</td>\n      <td>2</td>\n      <td>NaN</td>\n    </tr>\n  </tbody>\n</table>\n</div>"
     },
     "execution_count": 19,
     "metadata": {},
     "output_type": "execute_result"
    }
   ],
   "source": [
    "curr.head()"
   ],
   "metadata": {
    "collapsed": false,
    "pycharm": {
     "name": "#%%\n"
    }
   }
  },
  {
   "cell_type": "code",
   "execution_count": 20,
   "outputs": [
    {
     "name": "stdout",
     "output_type": "stream",
     "text": [
      "<class 'pandas.core.frame.DataFrame'>\n",
      "RangeIndex: 441 entries, 0 to 440\n",
      "Data columns (total 6 columns):\n",
      " #   Column          Non-Null Count  Dtype  \n",
      "---  ------          --------------  -----  \n",
      " 0   Entity          441 non-null    object \n",
      " 1   Currency        441 non-null    object \n",
      " 2   AlphabeticCode  438 non-null    object \n",
      " 3   NumericCode     435 non-null    float64\n",
      " 4   MinorUnit       276 non-null    object \n",
      " 5   WithdrawalDate  162 non-null    object \n",
      "dtypes: float64(1), object(5)\n",
      "memory usage: 20.8+ KB\n"
     ]
    }
   ],
   "source": [
    "curr.info()"
   ],
   "metadata": {
    "collapsed": false,
    "pycharm": {
     "name": "#%%\n"
    }
   }
  },
  {
   "cell_type": "code",
   "execution_count": 21,
   "outputs": [
    {
     "data": {
      "text/plain": "Entity              0\nCurrency            0\nAlphabeticCode      3\nNumericCode         6\nMinorUnit         165\nWithdrawalDate    279\ndtype: int64"
     },
     "execution_count": 21,
     "metadata": {},
     "output_type": "execute_result"
    }
   ],
   "source": [
    "curr.isna().sum() "
   ],
   "metadata": {
    "collapsed": false,
    "pycharm": {
     "name": "#%%\n"
    }
   }
  },
  {
   "cell_type": "code",
   "execution_count": 22,
   "outputs": [
    {
     "data": {
      "text/plain": "                                           Entity               Currency  \\\n8                                      ANTARCTICA  No universal currency   \n183                           PALESTINE, STATE OF  No universal currency   \n222  SOUTH GEORGIA AND THE SOUTH SANDWICH ISLANDS  No universal currency   \n\n    AlphabeticCode  NumericCode MinorUnit WithdrawalDate  \n8              NaN          NaN       NaN            NaN  \n183            NaN          NaN       NaN            NaN  \n222            NaN          NaN       NaN            NaN  ",
      "text/html": "<div>\n<style scoped>\n    .dataframe tbody tr th:only-of-type {\n        vertical-align: middle;\n    }\n\n    .dataframe tbody tr th {\n        vertical-align: top;\n    }\n\n    .dataframe thead th {\n        text-align: right;\n    }\n</style>\n<table border=\"1\" class=\"dataframe\">\n  <thead>\n    <tr style=\"text-align: right;\">\n      <th></th>\n      <th>Entity</th>\n      <th>Currency</th>\n      <th>AlphabeticCode</th>\n      <th>NumericCode</th>\n      <th>MinorUnit</th>\n      <th>WithdrawalDate</th>\n    </tr>\n  </thead>\n  <tbody>\n    <tr>\n      <th>8</th>\n      <td>ANTARCTICA</td>\n      <td>No universal currency</td>\n      <td>NaN</td>\n      <td>NaN</td>\n      <td>NaN</td>\n      <td>NaN</td>\n    </tr>\n    <tr>\n      <th>183</th>\n      <td>PALESTINE, STATE OF</td>\n      <td>No universal currency</td>\n      <td>NaN</td>\n      <td>NaN</td>\n      <td>NaN</td>\n      <td>NaN</td>\n    </tr>\n    <tr>\n      <th>222</th>\n      <td>SOUTH GEORGIA AND THE SOUTH SANDWICH ISLANDS</td>\n      <td>No universal currency</td>\n      <td>NaN</td>\n      <td>NaN</td>\n      <td>NaN</td>\n      <td>NaN</td>\n    </tr>\n  </tbody>\n</table>\n</div>"
     },
     "execution_count": 22,
     "metadata": {},
     "output_type": "execute_result"
    }
   ],
   "source": [
    "curr[curr[[\"AlphabeticCode\"]].isnull().any(axis=1)]"
   ],
   "metadata": {
    "collapsed": false,
    "pycharm": {
     "name": "#%%\n"
    }
   }
  },
  {
   "cell_type": "code",
   "execution_count": 23,
   "outputs": [
    {
     "data": {
      "text/plain": "                    Entity               Currency AlphabeticCode  NumericCode  \\\n279            AFGHANISTAN                Afghani            AFA          4.0   \n280          ÅLAND ISLANDS                 Markka            FIM        246.0   \n281                ALBANIA                Old Lek            ALK          8.0   \n282                ANDORRA        Andorran Peseta            ADP         20.0   \n283                ANDORRA         Spanish Peseta            ESP        724.0   \n..                     ...                    ...            ...          ...   \n436               ZIMBABWE  Zimbabwe Dollar (new)            ZWN        942.0   \n437               ZIMBABWE        Zimbabwe Dollar            ZWR        935.0   \n438        ZZ01_Gold-Franc             Gold-Franc            XFO          NaN   \n439  ZZ02_RINET Funds Code       RINET Funds Code            XRE          NaN   \n440         ZZ05_UIC-Franc              UIC-Franc            XFU          NaN   \n\n    MinorUnit WithdrawalDate  \n279       NaN        2003-01  \n280       NaN        2002-03  \n281       NaN        1989-12  \n282       NaN        2003-07  \n283       NaN        2002-03  \n..        ...            ...  \n436       NaN        2006-09  \n437       NaN        2009-06  \n438       NaN        2006-10  \n439       NaN        1999-11  \n440       NaN        2013-11  \n\n[162 rows x 6 columns]",
      "text/html": "<div>\n<style scoped>\n    .dataframe tbody tr th:only-of-type {\n        vertical-align: middle;\n    }\n\n    .dataframe tbody tr th {\n        vertical-align: top;\n    }\n\n    .dataframe thead th {\n        text-align: right;\n    }\n</style>\n<table border=\"1\" class=\"dataframe\">\n  <thead>\n    <tr style=\"text-align: right;\">\n      <th></th>\n      <th>Entity</th>\n      <th>Currency</th>\n      <th>AlphabeticCode</th>\n      <th>NumericCode</th>\n      <th>MinorUnit</th>\n      <th>WithdrawalDate</th>\n    </tr>\n  </thead>\n  <tbody>\n    <tr>\n      <th>279</th>\n      <td>AFGHANISTAN</td>\n      <td>Afghani</td>\n      <td>AFA</td>\n      <td>4.0</td>\n      <td>NaN</td>\n      <td>2003-01</td>\n    </tr>\n    <tr>\n      <th>280</th>\n      <td>ÅLAND ISLANDS</td>\n      <td>Markka</td>\n      <td>FIM</td>\n      <td>246.0</td>\n      <td>NaN</td>\n      <td>2002-03</td>\n    </tr>\n    <tr>\n      <th>281</th>\n      <td>ALBANIA</td>\n      <td>Old Lek</td>\n      <td>ALK</td>\n      <td>8.0</td>\n      <td>NaN</td>\n      <td>1989-12</td>\n    </tr>\n    <tr>\n      <th>282</th>\n      <td>ANDORRA</td>\n      <td>Andorran Peseta</td>\n      <td>ADP</td>\n      <td>20.0</td>\n      <td>NaN</td>\n      <td>2003-07</td>\n    </tr>\n    <tr>\n      <th>283</th>\n      <td>ANDORRA</td>\n      <td>Spanish Peseta</td>\n      <td>ESP</td>\n      <td>724.0</td>\n      <td>NaN</td>\n      <td>2002-03</td>\n    </tr>\n    <tr>\n      <th>...</th>\n      <td>...</td>\n      <td>...</td>\n      <td>...</td>\n      <td>...</td>\n      <td>...</td>\n      <td>...</td>\n    </tr>\n    <tr>\n      <th>436</th>\n      <td>ZIMBABWE</td>\n      <td>Zimbabwe Dollar (new)</td>\n      <td>ZWN</td>\n      <td>942.0</td>\n      <td>NaN</td>\n      <td>2006-09</td>\n    </tr>\n    <tr>\n      <th>437</th>\n      <td>ZIMBABWE</td>\n      <td>Zimbabwe Dollar</td>\n      <td>ZWR</td>\n      <td>935.0</td>\n      <td>NaN</td>\n      <td>2009-06</td>\n    </tr>\n    <tr>\n      <th>438</th>\n      <td>ZZ01_Gold-Franc</td>\n      <td>Gold-Franc</td>\n      <td>XFO</td>\n      <td>NaN</td>\n      <td>NaN</td>\n      <td>2006-10</td>\n    </tr>\n    <tr>\n      <th>439</th>\n      <td>ZZ02_RINET Funds Code</td>\n      <td>RINET Funds Code</td>\n      <td>XRE</td>\n      <td>NaN</td>\n      <td>NaN</td>\n      <td>1999-11</td>\n    </tr>\n    <tr>\n      <th>440</th>\n      <td>ZZ05_UIC-Franc</td>\n      <td>UIC-Franc</td>\n      <td>XFU</td>\n      <td>NaN</td>\n      <td>NaN</td>\n      <td>2013-11</td>\n    </tr>\n  </tbody>\n</table>\n<p>162 rows × 6 columns</p>\n</div>"
     },
     "execution_count": 23,
     "metadata": {},
     "output_type": "execute_result"
    }
   ],
   "source": [
    "curr[curr[[\"WithdrawalDate\"]].notnull().any(axis=1)]"
   ],
   "metadata": {
    "collapsed": false,
    "pycharm": {
     "name": "#%%\n"
    }
   }
  },
  {
   "cell_type": "markdown",
   "source": [
    "Given the exploration done in the curr dataset, we can conclude that for the next step in the cleaning and transformations, we wish to keep only the \"Entity\", \"Currency\", and \"AlphabeticCode\" columns, but rename them. Moreover, to make sure that the dataset is homogeneous we will capitalize the first letter of each word in the \"Entity\" and \"Currency\" column. We can also see that there is three null values in the \"AlphabeticCode\" column, which will be handled. In addition, there are a number of currencies which are no longer used, we will them subset this dataset to only contain currently accepted currencies. "
   ],
   "metadata": {
    "collapsed": false,
    "pycharm": {
     "name": "#%% md\n"
    }
   }
  },
  {
   "cell_type": "markdown",
   "source": [
    "#### Language dataset"
   ],
   "metadata": {
    "collapsed": false,
    "pycharm": {
     "name": "#%% md\n"
    }
   }
  },
  {
   "cell_type": "code",
   "execution_count": 24,
   "outputs": [
    {
     "data": {
      "text/plain": "       Country                                   Languages Spoken\n0  Afghanistan  Dari Persian, Pashtu (both official), other Tu...\n1      Albania     Albanian (Tosk is the official dialect), Greek\n2      Algeria         Arabic (official), French, Berber dialects\n3      Andorra  Catalán (official), French, Castilian, Portuguese\n4       Angola  Portuguese (official), Bantu and other African...",
      "text/html": "<div>\n<style scoped>\n    .dataframe tbody tr th:only-of-type {\n        vertical-align: middle;\n    }\n\n    .dataframe tbody tr th {\n        vertical-align: top;\n    }\n\n    .dataframe thead th {\n        text-align: right;\n    }\n</style>\n<table border=\"1\" class=\"dataframe\">\n  <thead>\n    <tr style=\"text-align: right;\">\n      <th></th>\n      <th>Country</th>\n      <th>Languages Spoken</th>\n    </tr>\n  </thead>\n  <tbody>\n    <tr>\n      <th>0</th>\n      <td>Afghanistan</td>\n      <td>Dari Persian, Pashtu (both official), other Tu...</td>\n    </tr>\n    <tr>\n      <th>1</th>\n      <td>Albania</td>\n      <td>Albanian (Tosk is the official dialect), Greek</td>\n    </tr>\n    <tr>\n      <th>2</th>\n      <td>Algeria</td>\n      <td>Arabic (official), French, Berber dialects</td>\n    </tr>\n    <tr>\n      <th>3</th>\n      <td>Andorra</td>\n      <td>Catalán (official), French, Castilian, Portuguese</td>\n    </tr>\n    <tr>\n      <th>4</th>\n      <td>Angola</td>\n      <td>Portuguese (official), Bantu and other African...</td>\n    </tr>\n  </tbody>\n</table>\n</div>"
     },
     "execution_count": 24,
     "metadata": {},
     "output_type": "execute_result"
    }
   ],
   "source": [
    "lang.head()"
   ],
   "metadata": {
    "collapsed": false,
    "pycharm": {
     "name": "#%%\n"
    }
   }
  },
  {
   "cell_type": "code",
   "execution_count": 25,
   "outputs": [
    {
     "name": "stdout",
     "output_type": "stream",
     "text": [
      "<class 'pandas.core.frame.DataFrame'>\n",
      "RangeIndex: 198 entries, 0 to 197\n",
      "Data columns (total 2 columns):\n",
      " #   Column            Non-Null Count  Dtype \n",
      "---  ------            --------------  ----- \n",
      " 0   Country           198 non-null    object\n",
      " 1   Languages Spoken  198 non-null    object\n",
      "dtypes: object(2)\n",
      "memory usage: 3.2+ KB\n"
     ]
    }
   ],
   "source": [
    "lang.info()"
   ],
   "metadata": {
    "collapsed": false,
    "pycharm": {
     "name": "#%%\n"
    }
   }
  },
  {
   "cell_type": "code",
   "execution_count": 26,
   "outputs": [
    {
     "data": {
      "text/plain": "Country             0\nLanguages Spoken    0\ndtype: int64"
     },
     "execution_count": 26,
     "metadata": {},
     "output_type": "execute_result"
    }
   ],
   "source": [
    "lang.isna().sum()"
   ],
   "metadata": {
    "collapsed": false,
    "pycharm": {
     "name": "#%%\n"
    }
   }
  },
  {
   "cell_type": "markdown",
   "source": [
    "Given the exploration done in the lang dataset, we can conclude that for the next step in the cleaning and transformations, we wish to keep all the columns, but rename them. Moreover, to make sure that the dataset is homogeneous we will capitalize the first letter of each word in the \"Country\" and \"Language Spoken\" column. We can also see that there is no null values, hence no handling of missing values is needed in this case. In addition, we can see that the languages spoken includes more than the official languages, in the cleaning we will strive to only keep the official languages. "
   ],
   "metadata": {
    "collapsed": false,
    "pycharm": {
     "name": "#%% md\n"
    }
   }
  },
  {
   "cell_type": "markdown",
   "source": [
    "#### Religion dataset"
   ],
   "metadata": {
    "collapsed": false,
    "pycharm": {
     "name": "#%% md\n"
    }
   }
  },
  {
   "cell_type": "code",
   "execution_count": 27,
   "outputs": [
    {
     "data": {
      "text/plain": "  Country or Area  Year   Area         Sex     Religion  \\\n0         Albania  2011  Total  Both Sexes        Total   \n1         Albania  2011  Total  Both Sexes      Atheist   \n2         Albania  2011  Total  Both Sexes     Catholic   \n3         Albania  2011  Total  Both Sexes  Evangelical   \n4         Albania  2011  Total  Both Sexes       Muslim   \n\n                              Record Type             Reliability  \\\n0  Census - de jure - complete tabulation  Final figure, complete   \n1  Census - de jure - complete tabulation  Final figure, complete   \n2  Census - de jure - complete tabulation  Final figure, complete   \n3  Census - de jure - complete tabulation  Final figure, complete   \n4  Census - de jure - complete tabulation  Final figure, complete   \n\n   Source Year      Value Value Footnotes  \n0       2013.0  2800138.0             NaN  \n1       2013.0    69995.0             NaN  \n2       2013.0   280921.0             NaN  \n3       2013.0     3797.0             NaN  \n4       2013.0  1587608.0             NaN  ",
      "text/html": "<div>\n<style scoped>\n    .dataframe tbody tr th:only-of-type {\n        vertical-align: middle;\n    }\n\n    .dataframe tbody tr th {\n        vertical-align: top;\n    }\n\n    .dataframe thead th {\n        text-align: right;\n    }\n</style>\n<table border=\"1\" class=\"dataframe\">\n  <thead>\n    <tr style=\"text-align: right;\">\n      <th></th>\n      <th>Country or Area</th>\n      <th>Year</th>\n      <th>Area</th>\n      <th>Sex</th>\n      <th>Religion</th>\n      <th>Record Type</th>\n      <th>Reliability</th>\n      <th>Source Year</th>\n      <th>Value</th>\n      <th>Value Footnotes</th>\n    </tr>\n  </thead>\n  <tbody>\n    <tr>\n      <th>0</th>\n      <td>Albania</td>\n      <td>2011</td>\n      <td>Total</td>\n      <td>Both Sexes</td>\n      <td>Total</td>\n      <td>Census - de jure - complete tabulation</td>\n      <td>Final figure, complete</td>\n      <td>2013.0</td>\n      <td>2800138.0</td>\n      <td>NaN</td>\n    </tr>\n    <tr>\n      <th>1</th>\n      <td>Albania</td>\n      <td>2011</td>\n      <td>Total</td>\n      <td>Both Sexes</td>\n      <td>Atheist</td>\n      <td>Census - de jure - complete tabulation</td>\n      <td>Final figure, complete</td>\n      <td>2013.0</td>\n      <td>69995.0</td>\n      <td>NaN</td>\n    </tr>\n    <tr>\n      <th>2</th>\n      <td>Albania</td>\n      <td>2011</td>\n      <td>Total</td>\n      <td>Both Sexes</td>\n      <td>Catholic</td>\n      <td>Census - de jure - complete tabulation</td>\n      <td>Final figure, complete</td>\n      <td>2013.0</td>\n      <td>280921.0</td>\n      <td>NaN</td>\n    </tr>\n    <tr>\n      <th>3</th>\n      <td>Albania</td>\n      <td>2011</td>\n      <td>Total</td>\n      <td>Both Sexes</td>\n      <td>Evangelical</td>\n      <td>Census - de jure - complete tabulation</td>\n      <td>Final figure, complete</td>\n      <td>2013.0</td>\n      <td>3797.0</td>\n      <td>NaN</td>\n    </tr>\n    <tr>\n      <th>4</th>\n      <td>Albania</td>\n      <td>2011</td>\n      <td>Total</td>\n      <td>Both Sexes</td>\n      <td>Muslim</td>\n      <td>Census - de jure - complete tabulation</td>\n      <td>Final figure, complete</td>\n      <td>2013.0</td>\n      <td>1587608.0</td>\n      <td>NaN</td>\n    </tr>\n  </tbody>\n</table>\n</div>"
     },
     "execution_count": 27,
     "metadata": {},
     "output_type": "execute_result"
    }
   ],
   "source": [
    "rel.head()"
   ],
   "metadata": {
    "collapsed": false,
    "pycharm": {
     "name": "#%%\n"
    }
   }
  },
  {
   "cell_type": "code",
   "execution_count": 28,
   "outputs": [
    {
     "name": "stdout",
     "output_type": "stream",
     "text": [
      "<class 'pandas.core.frame.DataFrame'>\n",
      "RangeIndex: 3416 entries, 0 to 3415\n",
      "Data columns (total 10 columns):\n",
      " #   Column           Non-Null Count  Dtype  \n",
      "---  ------           --------------  -----  \n",
      " 0   Country or Area  3416 non-null   object \n",
      " 1   Year             3416 non-null   object \n",
      " 2   Area             3333 non-null   object \n",
      " 3   Sex              3332 non-null   object \n",
      " 4   Religion         3332 non-null   object \n",
      " 5   Record Type      3332 non-null   object \n",
      " 6   Reliability      3332 non-null   object \n",
      " 7   Source Year      3332 non-null   float64\n",
      " 8   Value            3332 non-null   float64\n",
      " 9   Value Footnotes  1505 non-null   object \n",
      "dtypes: float64(2), object(8)\n",
      "memory usage: 267.0+ KB\n"
     ]
    }
   ],
   "source": [
    "rel.info()"
   ],
   "metadata": {
    "collapsed": false,
    "pycharm": {
     "name": "#%%\n"
    }
   }
  },
  {
   "cell_type": "code",
   "execution_count": 29,
   "outputs": [
    {
     "data": {
      "text/plain": "Country or Area       0\nYear                  0\nArea                 83\nSex                  84\nReligion             84\nRecord Type          84\nReliability          84\nSource Year          84\nValue                84\nValue Footnotes    1911\ndtype: int64"
     },
     "execution_count": 29,
     "metadata": {},
     "output_type": "execute_result"
    }
   ],
   "source": [
    "rel.isna().sum() "
   ],
   "metadata": {
    "collapsed": false,
    "pycharm": {
     "name": "#%%\n"
    }
   }
  },
  {
   "cell_type": "code",
   "execution_count": 30,
   "outputs": [
    {
     "data": {
      "text/plain": "     Country or Area                                               Year Area  \\\n3332   footnoteSeqID                                           Footnote  NaN   \n3333               1  Because of rounding, totals are not in all cas...  NaN   \n3334               2  These data have been randomly rounded to prote...  NaN   \n3335               3  Including population in off-shore, migratory a...  NaN   \n3336               4  Category 'No religion' includes Agnoticism, At...  NaN   \n...              ...                                                ...  ...   \n3411              79                 Data of mini-census taken in 2017.  NaN   \n3412              80                 Data refer to resident population.  NaN   \n3413              81         Excluding population enumerated in hotels.  NaN   \n3414              82  Other includes Orthodox, Bahai, Other Christia...  NaN   \n3415              83  Excluding Channel Islands (Guernsey and Jersey...  NaN   \n\n      Sex Religion Record Type Reliability  Source Year  Value Value Footnotes  \n3332  NaN      NaN         NaN         NaN          NaN    NaN             NaN  \n3333  NaN      NaN         NaN         NaN          NaN    NaN             NaN  \n3334  NaN      NaN         NaN         NaN          NaN    NaN             NaN  \n3335  NaN      NaN         NaN         NaN          NaN    NaN             NaN  \n3336  NaN      NaN         NaN         NaN          NaN    NaN             NaN  \n...   ...      ...         ...         ...          ...    ...             ...  \n3411  NaN      NaN         NaN         NaN          NaN    NaN             NaN  \n3412  NaN      NaN         NaN         NaN          NaN    NaN             NaN  \n3413  NaN      NaN         NaN         NaN          NaN    NaN             NaN  \n3414  NaN      NaN         NaN         NaN          NaN    NaN             NaN  \n3415  NaN      NaN         NaN         NaN          NaN    NaN             NaN  \n\n[84 rows x 10 columns]",
      "text/html": "<div>\n<style scoped>\n    .dataframe tbody tr th:only-of-type {\n        vertical-align: middle;\n    }\n\n    .dataframe tbody tr th {\n        vertical-align: top;\n    }\n\n    .dataframe thead th {\n        text-align: right;\n    }\n</style>\n<table border=\"1\" class=\"dataframe\">\n  <thead>\n    <tr style=\"text-align: right;\">\n      <th></th>\n      <th>Country or Area</th>\n      <th>Year</th>\n      <th>Area</th>\n      <th>Sex</th>\n      <th>Religion</th>\n      <th>Record Type</th>\n      <th>Reliability</th>\n      <th>Source Year</th>\n      <th>Value</th>\n      <th>Value Footnotes</th>\n    </tr>\n  </thead>\n  <tbody>\n    <tr>\n      <th>3332</th>\n      <td>footnoteSeqID</td>\n      <td>Footnote</td>\n      <td>NaN</td>\n      <td>NaN</td>\n      <td>NaN</td>\n      <td>NaN</td>\n      <td>NaN</td>\n      <td>NaN</td>\n      <td>NaN</td>\n      <td>NaN</td>\n    </tr>\n    <tr>\n      <th>3333</th>\n      <td>1</td>\n      <td>Because of rounding, totals are not in all cas...</td>\n      <td>NaN</td>\n      <td>NaN</td>\n      <td>NaN</td>\n      <td>NaN</td>\n      <td>NaN</td>\n      <td>NaN</td>\n      <td>NaN</td>\n      <td>NaN</td>\n    </tr>\n    <tr>\n      <th>3334</th>\n      <td>2</td>\n      <td>These data have been randomly rounded to prote...</td>\n      <td>NaN</td>\n      <td>NaN</td>\n      <td>NaN</td>\n      <td>NaN</td>\n      <td>NaN</td>\n      <td>NaN</td>\n      <td>NaN</td>\n      <td>NaN</td>\n    </tr>\n    <tr>\n      <th>3335</th>\n      <td>3</td>\n      <td>Including population in off-shore, migratory a...</td>\n      <td>NaN</td>\n      <td>NaN</td>\n      <td>NaN</td>\n      <td>NaN</td>\n      <td>NaN</td>\n      <td>NaN</td>\n      <td>NaN</td>\n      <td>NaN</td>\n    </tr>\n    <tr>\n      <th>3336</th>\n      <td>4</td>\n      <td>Category 'No religion' includes Agnoticism, At...</td>\n      <td>NaN</td>\n      <td>NaN</td>\n      <td>NaN</td>\n      <td>NaN</td>\n      <td>NaN</td>\n      <td>NaN</td>\n      <td>NaN</td>\n      <td>NaN</td>\n    </tr>\n    <tr>\n      <th>...</th>\n      <td>...</td>\n      <td>...</td>\n      <td>...</td>\n      <td>...</td>\n      <td>...</td>\n      <td>...</td>\n      <td>...</td>\n      <td>...</td>\n      <td>...</td>\n      <td>...</td>\n    </tr>\n    <tr>\n      <th>3411</th>\n      <td>79</td>\n      <td>Data of mini-census taken in 2017.</td>\n      <td>NaN</td>\n      <td>NaN</td>\n      <td>NaN</td>\n      <td>NaN</td>\n      <td>NaN</td>\n      <td>NaN</td>\n      <td>NaN</td>\n      <td>NaN</td>\n    </tr>\n    <tr>\n      <th>3412</th>\n      <td>80</td>\n      <td>Data refer to resident population.</td>\n      <td>NaN</td>\n      <td>NaN</td>\n      <td>NaN</td>\n      <td>NaN</td>\n      <td>NaN</td>\n      <td>NaN</td>\n      <td>NaN</td>\n      <td>NaN</td>\n    </tr>\n    <tr>\n      <th>3413</th>\n      <td>81</td>\n      <td>Excluding population enumerated in hotels.</td>\n      <td>NaN</td>\n      <td>NaN</td>\n      <td>NaN</td>\n      <td>NaN</td>\n      <td>NaN</td>\n      <td>NaN</td>\n      <td>NaN</td>\n      <td>NaN</td>\n    </tr>\n    <tr>\n      <th>3414</th>\n      <td>82</td>\n      <td>Other includes Orthodox, Bahai, Other Christia...</td>\n      <td>NaN</td>\n      <td>NaN</td>\n      <td>NaN</td>\n      <td>NaN</td>\n      <td>NaN</td>\n      <td>NaN</td>\n      <td>NaN</td>\n      <td>NaN</td>\n    </tr>\n    <tr>\n      <th>3415</th>\n      <td>83</td>\n      <td>Excluding Channel Islands (Guernsey and Jersey...</td>\n      <td>NaN</td>\n      <td>NaN</td>\n      <td>NaN</td>\n      <td>NaN</td>\n      <td>NaN</td>\n      <td>NaN</td>\n      <td>NaN</td>\n      <td>NaN</td>\n    </tr>\n  </tbody>\n</table>\n<p>84 rows × 10 columns</p>\n</div>"
     },
     "execution_count": 30,
     "metadata": {},
     "output_type": "execute_result"
    }
   ],
   "source": [
    "rel[rel[[\"Religion\"]].isnull().any(axis=1)]"
   ],
   "metadata": {
    "collapsed": false,
    "pycharm": {
     "name": "#%%\n"
    }
   }
  },
  {
   "cell_type": "code",
   "execution_count": 31,
   "outputs": [
    {
     "data": {
      "text/plain": "     Country or Area                                               Year Area  \\\n3332   footnoteSeqID                                           Footnote  NaN   \n3333               1  Because of rounding, totals are not in all cas...  NaN   \n3334               2  These data have been randomly rounded to prote...  NaN   \n3335               3  Including population in off-shore, migratory a...  NaN   \n3336               4  Category 'No religion' includes Agnoticism, At...  NaN   \n...              ...                                                ...  ...   \n3411              79                 Data of mini-census taken in 2017.  NaN   \n3412              80                 Data refer to resident population.  NaN   \n3413              81         Excluding population enumerated in hotels.  NaN   \n3414              82  Other includes Orthodox, Bahai, Other Christia...  NaN   \n3415              83  Excluding Channel Islands (Guernsey and Jersey...  NaN   \n\n      Sex Religion Record Type Reliability  Source Year  Value Value Footnotes  \n3332  NaN      NaN         NaN         NaN          NaN    NaN             NaN  \n3333  NaN      NaN         NaN         NaN          NaN    NaN             NaN  \n3334  NaN      NaN         NaN         NaN          NaN    NaN             NaN  \n3335  NaN      NaN         NaN         NaN          NaN    NaN             NaN  \n3336  NaN      NaN         NaN         NaN          NaN    NaN             NaN  \n...   ...      ...         ...         ...          ...    ...             ...  \n3411  NaN      NaN         NaN         NaN          NaN    NaN             NaN  \n3412  NaN      NaN         NaN         NaN          NaN    NaN             NaN  \n3413  NaN      NaN         NaN         NaN          NaN    NaN             NaN  \n3414  NaN      NaN         NaN         NaN          NaN    NaN             NaN  \n3415  NaN      NaN         NaN         NaN          NaN    NaN             NaN  \n\n[83 rows x 10 columns]",
      "text/html": "<div>\n<style scoped>\n    .dataframe tbody tr th:only-of-type {\n        vertical-align: middle;\n    }\n\n    .dataframe tbody tr th {\n        vertical-align: top;\n    }\n\n    .dataframe thead th {\n        text-align: right;\n    }\n</style>\n<table border=\"1\" class=\"dataframe\">\n  <thead>\n    <tr style=\"text-align: right;\">\n      <th></th>\n      <th>Country or Area</th>\n      <th>Year</th>\n      <th>Area</th>\n      <th>Sex</th>\n      <th>Religion</th>\n      <th>Record Type</th>\n      <th>Reliability</th>\n      <th>Source Year</th>\n      <th>Value</th>\n      <th>Value Footnotes</th>\n    </tr>\n  </thead>\n  <tbody>\n    <tr>\n      <th>3332</th>\n      <td>footnoteSeqID</td>\n      <td>Footnote</td>\n      <td>NaN</td>\n      <td>NaN</td>\n      <td>NaN</td>\n      <td>NaN</td>\n      <td>NaN</td>\n      <td>NaN</td>\n      <td>NaN</td>\n      <td>NaN</td>\n    </tr>\n    <tr>\n      <th>3333</th>\n      <td>1</td>\n      <td>Because of rounding, totals are not in all cas...</td>\n      <td>NaN</td>\n      <td>NaN</td>\n      <td>NaN</td>\n      <td>NaN</td>\n      <td>NaN</td>\n      <td>NaN</td>\n      <td>NaN</td>\n      <td>NaN</td>\n    </tr>\n    <tr>\n      <th>3334</th>\n      <td>2</td>\n      <td>These data have been randomly rounded to prote...</td>\n      <td>NaN</td>\n      <td>NaN</td>\n      <td>NaN</td>\n      <td>NaN</td>\n      <td>NaN</td>\n      <td>NaN</td>\n      <td>NaN</td>\n      <td>NaN</td>\n    </tr>\n    <tr>\n      <th>3335</th>\n      <td>3</td>\n      <td>Including population in off-shore, migratory a...</td>\n      <td>NaN</td>\n      <td>NaN</td>\n      <td>NaN</td>\n      <td>NaN</td>\n      <td>NaN</td>\n      <td>NaN</td>\n      <td>NaN</td>\n      <td>NaN</td>\n    </tr>\n    <tr>\n      <th>3336</th>\n      <td>4</td>\n      <td>Category 'No religion' includes Agnoticism, At...</td>\n      <td>NaN</td>\n      <td>NaN</td>\n      <td>NaN</td>\n      <td>NaN</td>\n      <td>NaN</td>\n      <td>NaN</td>\n      <td>NaN</td>\n      <td>NaN</td>\n    </tr>\n    <tr>\n      <th>...</th>\n      <td>...</td>\n      <td>...</td>\n      <td>...</td>\n      <td>...</td>\n      <td>...</td>\n      <td>...</td>\n      <td>...</td>\n      <td>...</td>\n      <td>...</td>\n      <td>...</td>\n    </tr>\n    <tr>\n      <th>3411</th>\n      <td>79</td>\n      <td>Data of mini-census taken in 2017.</td>\n      <td>NaN</td>\n      <td>NaN</td>\n      <td>NaN</td>\n      <td>NaN</td>\n      <td>NaN</td>\n      <td>NaN</td>\n      <td>NaN</td>\n      <td>NaN</td>\n    </tr>\n    <tr>\n      <th>3412</th>\n      <td>80</td>\n      <td>Data refer to resident population.</td>\n      <td>NaN</td>\n      <td>NaN</td>\n      <td>NaN</td>\n      <td>NaN</td>\n      <td>NaN</td>\n      <td>NaN</td>\n      <td>NaN</td>\n      <td>NaN</td>\n    </tr>\n    <tr>\n      <th>3413</th>\n      <td>81</td>\n      <td>Excluding population enumerated in hotels.</td>\n      <td>NaN</td>\n      <td>NaN</td>\n      <td>NaN</td>\n      <td>NaN</td>\n      <td>NaN</td>\n      <td>NaN</td>\n      <td>NaN</td>\n      <td>NaN</td>\n    </tr>\n    <tr>\n      <th>3414</th>\n      <td>82</td>\n      <td>Other includes Orthodox, Bahai, Other Christia...</td>\n      <td>NaN</td>\n      <td>NaN</td>\n      <td>NaN</td>\n      <td>NaN</td>\n      <td>NaN</td>\n      <td>NaN</td>\n      <td>NaN</td>\n      <td>NaN</td>\n    </tr>\n    <tr>\n      <th>3415</th>\n      <td>83</td>\n      <td>Excluding Channel Islands (Guernsey and Jersey...</td>\n      <td>NaN</td>\n      <td>NaN</td>\n      <td>NaN</td>\n      <td>NaN</td>\n      <td>NaN</td>\n      <td>NaN</td>\n      <td>NaN</td>\n      <td>NaN</td>\n    </tr>\n  </tbody>\n</table>\n<p>83 rows × 10 columns</p>\n</div>"
     },
     "execution_count": 31,
     "metadata": {},
     "output_type": "execute_result"
    }
   ],
   "source": [
    "rel[rel[[\"Area\"]].isnull().any(axis=1)]"
   ],
   "metadata": {
    "collapsed": false,
    "pycharm": {
     "name": "#%%\n"
    }
   }
  },
  {
   "cell_type": "code",
   "execution_count": 32,
   "outputs": [
    {
     "data": {
      "text/plain": "     Country or Area                                               Year Area  \\\n3332   footnoteSeqID                                           Footnote  NaN   \n3333               1  Because of rounding, totals are not in all cas...  NaN   \n3334               2  These data have been randomly rounded to prote...  NaN   \n3335               3  Including population in off-shore, migratory a...  NaN   \n3336               4  Category 'No religion' includes Agnoticism, At...  NaN   \n...              ...                                                ...  ...   \n3411              79                 Data of mini-census taken in 2017.  NaN   \n3412              80                 Data refer to resident population.  NaN   \n3413              81         Excluding population enumerated in hotels.  NaN   \n3414              82  Other includes Orthodox, Bahai, Other Christia...  NaN   \n3415              83  Excluding Channel Islands (Guernsey and Jersey...  NaN   \n\n      Sex Religion Record Type Reliability  Source Year  Value Value Footnotes  \n3332  NaN      NaN         NaN         NaN          NaN    NaN             NaN  \n3333  NaN      NaN         NaN         NaN          NaN    NaN             NaN  \n3334  NaN      NaN         NaN         NaN          NaN    NaN             NaN  \n3335  NaN      NaN         NaN         NaN          NaN    NaN             NaN  \n3336  NaN      NaN         NaN         NaN          NaN    NaN             NaN  \n...   ...      ...         ...         ...          ...    ...             ...  \n3411  NaN      NaN         NaN         NaN          NaN    NaN             NaN  \n3412  NaN      NaN         NaN         NaN          NaN    NaN             NaN  \n3413  NaN      NaN         NaN         NaN          NaN    NaN             NaN  \n3414  NaN      NaN         NaN         NaN          NaN    NaN             NaN  \n3415  NaN      NaN         NaN         NaN          NaN    NaN             NaN  \n\n[84 rows x 10 columns]",
      "text/html": "<div>\n<style scoped>\n    .dataframe tbody tr th:only-of-type {\n        vertical-align: middle;\n    }\n\n    .dataframe tbody tr th {\n        vertical-align: top;\n    }\n\n    .dataframe thead th {\n        text-align: right;\n    }\n</style>\n<table border=\"1\" class=\"dataframe\">\n  <thead>\n    <tr style=\"text-align: right;\">\n      <th></th>\n      <th>Country or Area</th>\n      <th>Year</th>\n      <th>Area</th>\n      <th>Sex</th>\n      <th>Religion</th>\n      <th>Record Type</th>\n      <th>Reliability</th>\n      <th>Source Year</th>\n      <th>Value</th>\n      <th>Value Footnotes</th>\n    </tr>\n  </thead>\n  <tbody>\n    <tr>\n      <th>3332</th>\n      <td>footnoteSeqID</td>\n      <td>Footnote</td>\n      <td>NaN</td>\n      <td>NaN</td>\n      <td>NaN</td>\n      <td>NaN</td>\n      <td>NaN</td>\n      <td>NaN</td>\n      <td>NaN</td>\n      <td>NaN</td>\n    </tr>\n    <tr>\n      <th>3333</th>\n      <td>1</td>\n      <td>Because of rounding, totals are not in all cas...</td>\n      <td>NaN</td>\n      <td>NaN</td>\n      <td>NaN</td>\n      <td>NaN</td>\n      <td>NaN</td>\n      <td>NaN</td>\n      <td>NaN</td>\n      <td>NaN</td>\n    </tr>\n    <tr>\n      <th>3334</th>\n      <td>2</td>\n      <td>These data have been randomly rounded to prote...</td>\n      <td>NaN</td>\n      <td>NaN</td>\n      <td>NaN</td>\n      <td>NaN</td>\n      <td>NaN</td>\n      <td>NaN</td>\n      <td>NaN</td>\n      <td>NaN</td>\n    </tr>\n    <tr>\n      <th>3335</th>\n      <td>3</td>\n      <td>Including population in off-shore, migratory a...</td>\n      <td>NaN</td>\n      <td>NaN</td>\n      <td>NaN</td>\n      <td>NaN</td>\n      <td>NaN</td>\n      <td>NaN</td>\n      <td>NaN</td>\n      <td>NaN</td>\n    </tr>\n    <tr>\n      <th>3336</th>\n      <td>4</td>\n      <td>Category 'No religion' includes Agnoticism, At...</td>\n      <td>NaN</td>\n      <td>NaN</td>\n      <td>NaN</td>\n      <td>NaN</td>\n      <td>NaN</td>\n      <td>NaN</td>\n      <td>NaN</td>\n      <td>NaN</td>\n    </tr>\n    <tr>\n      <th>...</th>\n      <td>...</td>\n      <td>...</td>\n      <td>...</td>\n      <td>...</td>\n      <td>...</td>\n      <td>...</td>\n      <td>...</td>\n      <td>...</td>\n      <td>...</td>\n      <td>...</td>\n    </tr>\n    <tr>\n      <th>3411</th>\n      <td>79</td>\n      <td>Data of mini-census taken in 2017.</td>\n      <td>NaN</td>\n      <td>NaN</td>\n      <td>NaN</td>\n      <td>NaN</td>\n      <td>NaN</td>\n      <td>NaN</td>\n      <td>NaN</td>\n      <td>NaN</td>\n    </tr>\n    <tr>\n      <th>3412</th>\n      <td>80</td>\n      <td>Data refer to resident population.</td>\n      <td>NaN</td>\n      <td>NaN</td>\n      <td>NaN</td>\n      <td>NaN</td>\n      <td>NaN</td>\n      <td>NaN</td>\n      <td>NaN</td>\n      <td>NaN</td>\n    </tr>\n    <tr>\n      <th>3413</th>\n      <td>81</td>\n      <td>Excluding population enumerated in hotels.</td>\n      <td>NaN</td>\n      <td>NaN</td>\n      <td>NaN</td>\n      <td>NaN</td>\n      <td>NaN</td>\n      <td>NaN</td>\n      <td>NaN</td>\n      <td>NaN</td>\n    </tr>\n    <tr>\n      <th>3414</th>\n      <td>82</td>\n      <td>Other includes Orthodox, Bahai, Other Christia...</td>\n      <td>NaN</td>\n      <td>NaN</td>\n      <td>NaN</td>\n      <td>NaN</td>\n      <td>NaN</td>\n      <td>NaN</td>\n      <td>NaN</td>\n      <td>NaN</td>\n    </tr>\n    <tr>\n      <th>3415</th>\n      <td>83</td>\n      <td>Excluding Channel Islands (Guernsey and Jersey...</td>\n      <td>NaN</td>\n      <td>NaN</td>\n      <td>NaN</td>\n      <td>NaN</td>\n      <td>NaN</td>\n      <td>NaN</td>\n      <td>NaN</td>\n      <td>NaN</td>\n    </tr>\n  </tbody>\n</table>\n<p>84 rows × 10 columns</p>\n</div>"
     },
     "execution_count": 32,
     "metadata": {},
     "output_type": "execute_result"
    }
   ],
   "source": [
    "rel[rel[[\"Sex\"]].isnull().any(axis=1)]"
   ],
   "metadata": {
    "collapsed": false,
    "pycharm": {
     "name": "#%%\n"
    }
   }
  },
  {
   "cell_type": "markdown",
   "source": [
    "Given the exploration done in the rel dataset, we can conclude that for the next step in the cleaning and transformations, we wish to keep the \"Country or Area\" and \"Religion\" columns but rename them. Moreover, to make sure that the dataset is homogeneous we will capitalize the first letter of each word in the \"Country or Area\" column. We can also see that there is multiple null values, that arise due to the existing footnotes at the end of the document, which will be dealt with. In addition, we can see that for each country there is the listing of all the religions present in the country. As we only wish to keep the main one the others will be removed. "
   ],
   "metadata": {
    "collapsed": false,
    "pycharm": {
     "name": "#%% md\n"
    }
   }
  },
  {
   "cell_type": "markdown",
   "source": [
    "#### Peace index dataset"
   ],
   "metadata": {
    "collapsed": false,
    "pycharm": {
     "name": "#%% md\n"
    }
   }
  },
  {
   "cell_type": "code",
   "execution_count": 33,
   "outputs": [
    {
     "data": {
      "text/plain": "   RANK      COUNTRY  SCORE\n0   1.0      Iceland  1.100\n1   2.0  New Zealand  1.253\n2   3.0      Denmark  1.256\n3   4.0     Portugal  1.267\n4   5.0     Slovenia  1.315",
      "text/html": "<div>\n<style scoped>\n    .dataframe tbody tr th:only-of-type {\n        vertical-align: middle;\n    }\n\n    .dataframe tbody tr th {\n        vertical-align: top;\n    }\n\n    .dataframe thead th {\n        text-align: right;\n    }\n</style>\n<table border=\"1\" class=\"dataframe\">\n  <thead>\n    <tr style=\"text-align: right;\">\n      <th></th>\n      <th>RANK</th>\n      <th>COUNTRY</th>\n      <th>SCORE</th>\n    </tr>\n  </thead>\n  <tbody>\n    <tr>\n      <th>0</th>\n      <td>1.0</td>\n      <td>Iceland</td>\n      <td>1.100</td>\n    </tr>\n    <tr>\n      <th>1</th>\n      <td>2.0</td>\n      <td>New Zealand</td>\n      <td>1.253</td>\n    </tr>\n    <tr>\n      <th>2</th>\n      <td>3.0</td>\n      <td>Denmark</td>\n      <td>1.256</td>\n    </tr>\n    <tr>\n      <th>3</th>\n      <td>4.0</td>\n      <td>Portugal</td>\n      <td>1.267</td>\n    </tr>\n    <tr>\n      <th>4</th>\n      <td>5.0</td>\n      <td>Slovenia</td>\n      <td>1.315</td>\n    </tr>\n  </tbody>\n</table>\n</div>"
     },
     "execution_count": 33,
     "metadata": {},
     "output_type": "execute_result"
    }
   ],
   "source": [
    "peace.head()"
   ],
   "metadata": {
    "collapsed": false,
    "pycharm": {
     "name": "#%%\n"
    }
   }
  },
  {
   "cell_type": "code",
   "execution_count": 34,
   "outputs": [
    {
     "name": "stdout",
     "output_type": "stream",
     "text": [
      "<class 'pandas.core.frame.DataFrame'>\n",
      "RangeIndex: 177 entries, 0 to 176\n",
      "Data columns (total 3 columns):\n",
      " #   Column   Non-Null Count  Dtype  \n",
      "---  ------   --------------  -----  \n",
      " 0   RANK     163 non-null    float64\n",
      " 1   COUNTRY  163 non-null    object \n",
      " 2   SCORE    163 non-null    float64\n",
      "dtypes: float64(2), object(1)\n",
      "memory usage: 4.3+ KB\n"
     ]
    }
   ],
   "source": [
    "peace.info()"
   ],
   "metadata": {
    "collapsed": false,
    "pycharm": {
     "name": "#%%\n"
    }
   }
  },
  {
   "cell_type": "code",
   "execution_count": 35,
   "outputs": [
    {
     "data": {
      "text/plain": "RANK       14\nCOUNTRY    14\nSCORE      14\ndtype: int64"
     },
     "execution_count": 35,
     "metadata": {},
     "output_type": "execute_result"
    }
   ],
   "source": [
    "peace.isna().sum() "
   ],
   "metadata": {
    "collapsed": false,
    "pycharm": {
     "name": "#%%\n"
    }
   }
  },
  {
   "cell_type": "code",
   "execution_count": 36,
   "outputs": [
    {
     "data": {
      "text/plain": "     RANK COUNTRY  SCORE\n16    NaN     NaN    NaN\n45    NaN     NaN    NaN\n74    NaN     NaN    NaN\n86    NaN     NaN    NaN\n95    NaN     NaN    NaN\n108   NaN     NaN    NaN\n125   NaN     NaN    NaN\n128   NaN     NaN    NaN\n138   NaN     NaN    NaN\n155   NaN     NaN    NaN\n165   NaN     NaN    NaN\n168   NaN     NaN    NaN\n175   NaN     NaN    NaN\n176   NaN     NaN    NaN",
      "text/html": "<div>\n<style scoped>\n    .dataframe tbody tr th:only-of-type {\n        vertical-align: middle;\n    }\n\n    .dataframe tbody tr th {\n        vertical-align: top;\n    }\n\n    .dataframe thead th {\n        text-align: right;\n    }\n</style>\n<table border=\"1\" class=\"dataframe\">\n  <thead>\n    <tr style=\"text-align: right;\">\n      <th></th>\n      <th>RANK</th>\n      <th>COUNTRY</th>\n      <th>SCORE</th>\n    </tr>\n  </thead>\n  <tbody>\n    <tr>\n      <th>16</th>\n      <td>NaN</td>\n      <td>NaN</td>\n      <td>NaN</td>\n    </tr>\n    <tr>\n      <th>45</th>\n      <td>NaN</td>\n      <td>NaN</td>\n      <td>NaN</td>\n    </tr>\n    <tr>\n      <th>74</th>\n      <td>NaN</td>\n      <td>NaN</td>\n      <td>NaN</td>\n    </tr>\n    <tr>\n      <th>86</th>\n      <td>NaN</td>\n      <td>NaN</td>\n      <td>NaN</td>\n    </tr>\n    <tr>\n      <th>95</th>\n      <td>NaN</td>\n      <td>NaN</td>\n      <td>NaN</td>\n    </tr>\n    <tr>\n      <th>108</th>\n      <td>NaN</td>\n      <td>NaN</td>\n      <td>NaN</td>\n    </tr>\n    <tr>\n      <th>125</th>\n      <td>NaN</td>\n      <td>NaN</td>\n      <td>NaN</td>\n    </tr>\n    <tr>\n      <th>128</th>\n      <td>NaN</td>\n      <td>NaN</td>\n      <td>NaN</td>\n    </tr>\n    <tr>\n      <th>138</th>\n      <td>NaN</td>\n      <td>NaN</td>\n      <td>NaN</td>\n    </tr>\n    <tr>\n      <th>155</th>\n      <td>NaN</td>\n      <td>NaN</td>\n      <td>NaN</td>\n    </tr>\n    <tr>\n      <th>165</th>\n      <td>NaN</td>\n      <td>NaN</td>\n      <td>NaN</td>\n    </tr>\n    <tr>\n      <th>168</th>\n      <td>NaN</td>\n      <td>NaN</td>\n      <td>NaN</td>\n    </tr>\n    <tr>\n      <th>175</th>\n      <td>NaN</td>\n      <td>NaN</td>\n      <td>NaN</td>\n    </tr>\n    <tr>\n      <th>176</th>\n      <td>NaN</td>\n      <td>NaN</td>\n      <td>NaN</td>\n    </tr>\n  </tbody>\n</table>\n</div>"
     },
     "execution_count": 36,
     "metadata": {},
     "output_type": "execute_result"
    }
   ],
   "source": [
    "peace[peace[[\"COUNTRY\"]].isnull().any(axis=1)]"
   ],
   "metadata": {
    "collapsed": false,
    "pycharm": {
     "name": "#%%\n"
    }
   }
  },
  {
   "cell_type": "markdown",
   "source": [
    "Given the exploration done in the peace dataset, we can conclude that for the next step in the cleaning and transformations, we wish to keep the \"RANK\", and \"COUNTRY\" columns, but rename them. Moreover, to make sure that the dataset is homogeneous we will capitalize the first letter of each word in the \"COUNTRY\" column. We can also see that there is multiple null values, that arise due to the existing of completely empty rows, which will be dealt with."
   ],
   "metadata": {
    "collapsed": false,
    "pycharm": {
     "name": "#%% md\n"
    }
   }
  },
  {
   "cell_type": "markdown",
   "source": [
    "#### WEF Index Data"
   ],
   "metadata": {
    "collapsed": false,
    "pycharm": {
     "name": "#%% md\n"
    }
   }
  },
  {
   "cell_type": "code",
   "execution_count": 37,
   "outputs": [],
   "source": [
    "# to flatten the double header from excel\n",
    "wef.columns=wef.columns.to_flat_index()"
   ],
   "metadata": {
    "collapsed": false,
    "pycharm": {
     "name": "#%%\n"
    }
   }
  },
  {
   "cell_type": "code",
   "execution_count": 38,
   "outputs": [
    {
     "data": {
      "text/plain": "  (Unnamed: 0_level_0, ISO Code) (Unnamed: 1_level_0, Economy)  \\\n0                            JPN                         Japan   \n1                            USA                 United States   \n2                            ESP                         Spain   \n3                            FRA                        France   \n4                            DEU                       Germany   \n\n  (Unnamed: 2_level_0, Region) (Unnamed: 3_level_0, Sub Region)  \\\n0                 Asia-Pacific             Eastern Asia-Pacific   \n1                 The Americas        North and Central America   \n2           Europe and Eurasia                  Southern Europe   \n3           Europe and Eurasia                   Western Europe   \n4           Europe and Eurasia                   Western Europe   \n\n  (Unnamed: 4_level_0, Income Group)  \\\n0              High-income economies   \n1              High-income economies   \n2              High-income economies   \n3              High-income economies   \n4              High-income economies   \n\n   (Travel & Tourism Development Index , 2019 Value)  \\\n0                                           5.209308   \n1                                           5.253746   \n2                                           5.156125   \n3                                           5.139553   \n4                                           5.158769   \n\n   (Travel & Tourism Development Index , 2019 Rank)  \\\n0                                                 2   \n1                                                 1   \n2                                                 5   \n3                                                 6   \n4                                                 4   \n\n   (Travel & Tourism Development Index , 2021 Value)  \\\n0                                           5.245868   \n1                                           5.199991   \n2                                           5.154733   \n3                                           5.126821   \n4                                           5.064452   \n\n   (Travel & Tourism Development Index , 2021 Rank)  \\\n0                                                 1   \n1                                                 2   \n2                                                 3   \n3                                                 4   \n4                                                 5   \n\n   (Travel & Tourism Development Index , % Dif Score)  ...  \\\n0                                           0.007018   ...   \n1                                          -0.010232   ...   \n2                                          -0.000270   ...   \n3                                          -0.002477   ...   \n4                                          -0.018283   ...   \n\n   (Socioeconomic Resilience & Conditions pillar, 2021 Value)  \\\n0                                           5.710859            \n1                                           4.496351            \n2                                           5.297103            \n3                                           5.734719            \n4                                           5.884420            \n\n   (Socioeconomic Resilience & Conditions pillar, 2021 Rank)  \\\n0                                                 11           \n1                                                 44           \n2                                                 25           \n3                                                 10           \n4                                                  8           \n\n   (Socioeconomic Resilience & Conditions pillar, % Dif Score)  \\\n0                                           0.035617             \n1                                           0.018056             \n2                                           0.068278             \n3                                           0.005727             \n4                                           0.012092             \n\n   (Socioeconomic Resilience & Conditions pillar, Rank Change)  \\\n0                                                  6             \n1                                                 -1             \n2                                                  5             \n3                                                  1             \n4                                                  0             \n\n   (T&T Demand Pressure & Impact pillar, 2019 Value)  \\\n0                                           4.162195   \n1                                           4.835106   \n2                                           3.668553   \n3                                           3.447736   \n4                                           3.691413   \n\n   (T&T Demand Pressure & Impact pillar, 2019 Rank)  \\\n0                                                43   \n1                                                 4   \n2                                                89   \n3                                               106   \n4                                                87   \n\n   (T&T Demand Pressure & Impact pillar, 2021 Value)  \\\n0                                           4.287192   \n1                                           4.945433   \n2                                           3.768780   \n3                                           3.429899   \n4                                           3.921128   \n\n   (T&T Demand Pressure & Impact pillar, 2021 Rank)  \\\n0                                                41   \n1                                                 3   \n2                                                81   \n3                                               108   \n4                                                73   \n\n   (T&T Demand Pressure & Impact pillar, % Dif Score)  \\\n0                                           0.030031    \n1                                           0.022818    \n2                                           0.027321    \n3                                          -0.005174    \n4                                           0.062230    \n\n   (T&T Demand Pressure & Impact pillar, Rank Change)  \n0                                                  2   \n1                                                  1   \n2                                                  8   \n3                                                 -2   \n4                                                 14   \n\n[5 rows x 143 columns]",
      "text/html": "<div>\n<style scoped>\n    .dataframe tbody tr th:only-of-type {\n        vertical-align: middle;\n    }\n\n    .dataframe tbody tr th {\n        vertical-align: top;\n    }\n\n    .dataframe thead th {\n        text-align: right;\n    }\n</style>\n<table border=\"1\" class=\"dataframe\">\n  <thead>\n    <tr style=\"text-align: right;\">\n      <th></th>\n      <th>(Unnamed: 0_level_0, ISO Code)</th>\n      <th>(Unnamed: 1_level_0, Economy)</th>\n      <th>(Unnamed: 2_level_0, Region)</th>\n      <th>(Unnamed: 3_level_0, Sub Region)</th>\n      <th>(Unnamed: 4_level_0, Income Group)</th>\n      <th>(Travel &amp; Tourism Development Index , 2019 Value)</th>\n      <th>(Travel &amp; Tourism Development Index , 2019 Rank)</th>\n      <th>(Travel &amp; Tourism Development Index , 2021 Value)</th>\n      <th>(Travel &amp; Tourism Development Index , 2021 Rank)</th>\n      <th>(Travel &amp; Tourism Development Index , % Dif Score)</th>\n      <th>...</th>\n      <th>(Socioeconomic Resilience &amp; Conditions pillar, 2021 Value)</th>\n      <th>(Socioeconomic Resilience &amp; Conditions pillar, 2021 Rank)</th>\n      <th>(Socioeconomic Resilience &amp; Conditions pillar, % Dif Score)</th>\n      <th>(Socioeconomic Resilience &amp; Conditions pillar, Rank Change)</th>\n      <th>(T&amp;T Demand Pressure &amp; Impact pillar, 2019 Value)</th>\n      <th>(T&amp;T Demand Pressure &amp; Impact pillar, 2019 Rank)</th>\n      <th>(T&amp;T Demand Pressure &amp; Impact pillar, 2021 Value)</th>\n      <th>(T&amp;T Demand Pressure &amp; Impact pillar, 2021 Rank)</th>\n      <th>(T&amp;T Demand Pressure &amp; Impact pillar, % Dif Score)</th>\n      <th>(T&amp;T Demand Pressure &amp; Impact pillar, Rank Change)</th>\n    </tr>\n  </thead>\n  <tbody>\n    <tr>\n      <th>0</th>\n      <td>JPN</td>\n      <td>Japan</td>\n      <td>Asia-Pacific</td>\n      <td>Eastern Asia-Pacific</td>\n      <td>High-income economies</td>\n      <td>5.209308</td>\n      <td>2</td>\n      <td>5.245868</td>\n      <td>1</td>\n      <td>0.007018</td>\n      <td>...</td>\n      <td>5.710859</td>\n      <td>11</td>\n      <td>0.035617</td>\n      <td>6</td>\n      <td>4.162195</td>\n      <td>43</td>\n      <td>4.287192</td>\n      <td>41</td>\n      <td>0.030031</td>\n      <td>2</td>\n    </tr>\n    <tr>\n      <th>1</th>\n      <td>USA</td>\n      <td>United States</td>\n      <td>The Americas</td>\n      <td>North and Central America</td>\n      <td>High-income economies</td>\n      <td>5.253746</td>\n      <td>1</td>\n      <td>5.199991</td>\n      <td>2</td>\n      <td>-0.010232</td>\n      <td>...</td>\n      <td>4.496351</td>\n      <td>44</td>\n      <td>0.018056</td>\n      <td>-1</td>\n      <td>4.835106</td>\n      <td>4</td>\n      <td>4.945433</td>\n      <td>3</td>\n      <td>0.022818</td>\n      <td>1</td>\n    </tr>\n    <tr>\n      <th>2</th>\n      <td>ESP</td>\n      <td>Spain</td>\n      <td>Europe and Eurasia</td>\n      <td>Southern Europe</td>\n      <td>High-income economies</td>\n      <td>5.156125</td>\n      <td>5</td>\n      <td>5.154733</td>\n      <td>3</td>\n      <td>-0.000270</td>\n      <td>...</td>\n      <td>5.297103</td>\n      <td>25</td>\n      <td>0.068278</td>\n      <td>5</td>\n      <td>3.668553</td>\n      <td>89</td>\n      <td>3.768780</td>\n      <td>81</td>\n      <td>0.027321</td>\n      <td>8</td>\n    </tr>\n    <tr>\n      <th>3</th>\n      <td>FRA</td>\n      <td>France</td>\n      <td>Europe and Eurasia</td>\n      <td>Western Europe</td>\n      <td>High-income economies</td>\n      <td>5.139553</td>\n      <td>6</td>\n      <td>5.126821</td>\n      <td>4</td>\n      <td>-0.002477</td>\n      <td>...</td>\n      <td>5.734719</td>\n      <td>10</td>\n      <td>0.005727</td>\n      <td>1</td>\n      <td>3.447736</td>\n      <td>106</td>\n      <td>3.429899</td>\n      <td>108</td>\n      <td>-0.005174</td>\n      <td>-2</td>\n    </tr>\n    <tr>\n      <th>4</th>\n      <td>DEU</td>\n      <td>Germany</td>\n      <td>Europe and Eurasia</td>\n      <td>Western Europe</td>\n      <td>High-income economies</td>\n      <td>5.158769</td>\n      <td>4</td>\n      <td>5.064452</td>\n      <td>5</td>\n      <td>-0.018283</td>\n      <td>...</td>\n      <td>5.884420</td>\n      <td>8</td>\n      <td>0.012092</td>\n      <td>0</td>\n      <td>3.691413</td>\n      <td>87</td>\n      <td>3.921128</td>\n      <td>73</td>\n      <td>0.062230</td>\n      <td>14</td>\n    </tr>\n  </tbody>\n</table>\n<p>5 rows × 143 columns</p>\n</div>"
     },
     "execution_count": 38,
     "metadata": {},
     "output_type": "execute_result"
    }
   ],
   "source": [
    "wef.head()"
   ],
   "metadata": {
    "collapsed": false,
    "pycharm": {
     "name": "#%%\n"
    }
   }
  },
  {
   "cell_type": "code",
   "execution_count": 39,
   "outputs": [
    {
     "name": "stdout",
     "output_type": "stream",
     "text": [
      "<class 'pandas.core.frame.DataFrame'>\n",
      "RangeIndex: 117 entries, 0 to 116\n",
      "Columns: 143 entries, ('Unnamed: 0_level_0', 'ISO Code') to ('T&T Demand Pressure & Impact pillar', 'Rank Change')\n",
      "dtypes: float64(69), int64(69), object(5)\n",
      "memory usage: 130.8+ KB\n"
     ]
    }
   ],
   "source": [
    "wef.info()"
   ],
   "metadata": {
    "collapsed": false,
    "pycharm": {
     "name": "#%%\n"
    }
   }
  },
  {
   "cell_type": "code",
   "execution_count": 40,
   "outputs": [
    {
     "data": {
      "text/plain": "(Unnamed: 0_level_0, ISO Code)                        0\n(Unnamed: 1_level_0, Economy)                         0\n(Unnamed: 2_level_0, Region)                          0\n(Unnamed: 3_level_0, Sub Region)                      0\n(Unnamed: 4_level_0, Income Group)                    0\n                                                     ..\n(T&T Demand Pressure & Impact pillar, 2019 Rank)      0\n(T&T Demand Pressure & Impact pillar, 2021 Value)     0\n(T&T Demand Pressure & Impact pillar, 2021 Rank)      0\n(T&T Demand Pressure & Impact pillar, % Dif Score)    0\n(T&T Demand Pressure & Impact pillar, Rank Change)    0\nLength: 143, dtype: int64"
     },
     "execution_count": 40,
     "metadata": {},
     "output_type": "execute_result"
    }
   ],
   "source": [
    "wef.isna().sum()"
   ],
   "metadata": {
    "collapsed": false,
    "pycharm": {
     "name": "#%%\n"
    }
   }
  },
  {
   "cell_type": "markdown",
   "source": [
    "Among 143 columns we have in dataset, we will choose relevant columns and drop all the others. We found we have no null data in the dataset. Moreover, as the dataset have ISO code itself, there is no further cleaning needed for the country name."
   ],
   "metadata": {
    "collapsed": false,
    "pycharm": {
     "name": "#%% md\n"
    }
   }
  },
  {
   "cell_type": "markdown",
   "source": [
    "#### Average Restaurant and Accomodation Cost Data"
   ],
   "metadata": {
    "collapsed": false,
    "pycharm": {
     "name": "#%% md\n"
    }
   }
  },
  {
   "cell_type": "code",
   "execution_count": 41,
   "outputs": [
    {
     "data": {
      "text/plain": "     Country Name Country Code              Classification Name  \\\n0         Albania          ALB  Price level index (World = 100)   \n1         Algeria          DZA  Price level index (World = 100)   \n2  American Samoa          ASM  Price level index (World = 100)   \n3          Angola          AGO  Price level index (World = 100)   \n4        Anguilla          AIA  Price level index (World = 100)   \n\n  Classification Code                     Series Name  Series Code  \\\n0               PX.WL  1111000:RESTAURANTS AND HOTELS    1111000.0   \n1               PX.WL  1111000:RESTAURANTS AND HOTELS    1111000.0   \n2               PX.WL  1111000:RESTAURANTS AND HOTELS    1111000.0   \n3               PX.WL  1111000:RESTAURANTS AND HOTELS    1111000.0   \n4               PX.WL  1111000:RESTAURANTS AND HOTELS    1111000.0   \n\n  2017 [YR2017]  \n0   50.78426859  \n1   33.93366644  \n2            ..  \n3   79.22385228  \n4     122.29901  ",
      "text/html": "<div>\n<style scoped>\n    .dataframe tbody tr th:only-of-type {\n        vertical-align: middle;\n    }\n\n    .dataframe tbody tr th {\n        vertical-align: top;\n    }\n\n    .dataframe thead th {\n        text-align: right;\n    }\n</style>\n<table border=\"1\" class=\"dataframe\">\n  <thead>\n    <tr style=\"text-align: right;\">\n      <th></th>\n      <th>Country Name</th>\n      <th>Country Code</th>\n      <th>Classification Name</th>\n      <th>Classification Code</th>\n      <th>Series Name</th>\n      <th>Series Code</th>\n      <th>2017 [YR2017]</th>\n    </tr>\n  </thead>\n  <tbody>\n    <tr>\n      <th>0</th>\n      <td>Albania</td>\n      <td>ALB</td>\n      <td>Price level index (World = 100)</td>\n      <td>PX.WL</td>\n      <td>1111000:RESTAURANTS AND HOTELS</td>\n      <td>1111000.0</td>\n      <td>50.78426859</td>\n    </tr>\n    <tr>\n      <th>1</th>\n      <td>Algeria</td>\n      <td>DZA</td>\n      <td>Price level index (World = 100)</td>\n      <td>PX.WL</td>\n      <td>1111000:RESTAURANTS AND HOTELS</td>\n      <td>1111000.0</td>\n      <td>33.93366644</td>\n    </tr>\n    <tr>\n      <th>2</th>\n      <td>American Samoa</td>\n      <td>ASM</td>\n      <td>Price level index (World = 100)</td>\n      <td>PX.WL</td>\n      <td>1111000:RESTAURANTS AND HOTELS</td>\n      <td>1111000.0</td>\n      <td>..</td>\n    </tr>\n    <tr>\n      <th>3</th>\n      <td>Angola</td>\n      <td>AGO</td>\n      <td>Price level index (World = 100)</td>\n      <td>PX.WL</td>\n      <td>1111000:RESTAURANTS AND HOTELS</td>\n      <td>1111000.0</td>\n      <td>79.22385228</td>\n    </tr>\n    <tr>\n      <th>4</th>\n      <td>Anguilla</td>\n      <td>AIA</td>\n      <td>Price level index (World = 100)</td>\n      <td>PX.WL</td>\n      <td>1111000:RESTAURANTS AND HOTELS</td>\n      <td>1111000.0</td>\n      <td>122.29901</td>\n    </tr>\n  </tbody>\n</table>\n</div>"
     },
     "execution_count": 41,
     "metadata": {},
     "output_type": "execute_result"
    }
   ],
   "source": [
    "avg_rest_hot_p.head()"
   ],
   "metadata": {
    "collapsed": false,
    "pycharm": {
     "name": "#%%\n"
    }
   }
  },
  {
   "cell_type": "code",
   "execution_count": 42,
   "outputs": [
    {
     "name": "stdout",
     "output_type": "stream",
     "text": [
      "<class 'pandas.core.frame.DataFrame'>\n",
      "RangeIndex: 227 entries, 0 to 226\n",
      "Data columns (total 7 columns):\n",
      " #   Column               Non-Null Count  Dtype  \n",
      "---  ------               --------------  -----  \n",
      " 0   Country Name         224 non-null    object \n",
      " 1   Country Code         222 non-null    object \n",
      " 2   Classification Name  222 non-null    object \n",
      " 3   Classification Code  222 non-null    object \n",
      " 4   Series Name          222 non-null    object \n",
      " 5   Series Code          222 non-null    float64\n",
      " 6   2017 [YR2017]        222 non-null    object \n",
      "dtypes: float64(1), object(6)\n",
      "memory usage: 12.5+ KB\n"
     ]
    }
   ],
   "source": [
    "avg_rest_hot_p.info()"
   ],
   "metadata": {
    "collapsed": false,
    "pycharm": {
     "name": "#%%\n"
    }
   }
  },
  {
   "cell_type": "code",
   "execution_count": 43,
   "outputs": [
    {
     "data": {
      "text/plain": "Country Name           3\nCountry Code           5\nClassification Name    5\nClassification Code    5\nSeries Name            5\nSeries Code            5\n2017 [YR2017]          5\ndtype: int64"
     },
     "execution_count": 43,
     "metadata": {},
     "output_type": "execute_result"
    }
   ],
   "source": [
    "avg_rest_hot_p.isna().sum() "
   ],
   "metadata": {
    "collapsed": false,
    "pycharm": {
     "name": "#%%\n"
    }
   }
  },
  {
   "cell_type": "code",
   "execution_count": 44,
   "outputs": [
    {
     "data": {
      "text/plain": "    Country Name Country Code Classification Name Classification Code  \\\n222          NaN          NaN                 NaN                 NaN   \n223          NaN          NaN                 NaN                 NaN   \n224          NaN          NaN                 NaN                 NaN   \n\n    Series Name  Series Code 2017 [YR2017]  \n222         NaN          NaN           NaN  \n223         NaN          NaN           NaN  \n224         NaN          NaN           NaN  ",
      "text/html": "<div>\n<style scoped>\n    .dataframe tbody tr th:only-of-type {\n        vertical-align: middle;\n    }\n\n    .dataframe tbody tr th {\n        vertical-align: top;\n    }\n\n    .dataframe thead th {\n        text-align: right;\n    }\n</style>\n<table border=\"1\" class=\"dataframe\">\n  <thead>\n    <tr style=\"text-align: right;\">\n      <th></th>\n      <th>Country Name</th>\n      <th>Country Code</th>\n      <th>Classification Name</th>\n      <th>Classification Code</th>\n      <th>Series Name</th>\n      <th>Series Code</th>\n      <th>2017 [YR2017]</th>\n    </tr>\n  </thead>\n  <tbody>\n    <tr>\n      <th>222</th>\n      <td>NaN</td>\n      <td>NaN</td>\n      <td>NaN</td>\n      <td>NaN</td>\n      <td>NaN</td>\n      <td>NaN</td>\n      <td>NaN</td>\n    </tr>\n    <tr>\n      <th>223</th>\n      <td>NaN</td>\n      <td>NaN</td>\n      <td>NaN</td>\n      <td>NaN</td>\n      <td>NaN</td>\n      <td>NaN</td>\n      <td>NaN</td>\n    </tr>\n    <tr>\n      <th>224</th>\n      <td>NaN</td>\n      <td>NaN</td>\n      <td>NaN</td>\n      <td>NaN</td>\n      <td>NaN</td>\n      <td>NaN</td>\n      <td>NaN</td>\n    </tr>\n  </tbody>\n</table>\n</div>"
     },
     "execution_count": 44,
     "metadata": {},
     "output_type": "execute_result"
    }
   ],
   "source": [
    "avg_rest_hot_p[avg_rest_hot_p[[\"Country Name\"]].isnull().any(axis=1)]"
   ],
   "metadata": {
    "collapsed": false,
    "pycharm": {
     "name": "#%%\n"
    }
   }
  },
  {
   "cell_type": "code",
   "execution_count": 45,
   "outputs": [
    {
     "data": {
      "text/plain": "                     Country Name Country Code Classification Name  \\\n222                           NaN          NaN                 NaN   \n223                           NaN          NaN                 NaN   \n224                           NaN          NaN                 NaN   \n225  Data from database: ICP 2017          NaN                 NaN   \n226      Last Updated: 10/21/2020          NaN                 NaN   \n\n    Classification Code Series Name  Series Code 2017 [YR2017]  \n222                 NaN         NaN          NaN           NaN  \n223                 NaN         NaN          NaN           NaN  \n224                 NaN         NaN          NaN           NaN  \n225                 NaN         NaN          NaN           NaN  \n226                 NaN         NaN          NaN           NaN  ",
      "text/html": "<div>\n<style scoped>\n    .dataframe tbody tr th:only-of-type {\n        vertical-align: middle;\n    }\n\n    .dataframe tbody tr th {\n        vertical-align: top;\n    }\n\n    .dataframe thead th {\n        text-align: right;\n    }\n</style>\n<table border=\"1\" class=\"dataframe\">\n  <thead>\n    <tr style=\"text-align: right;\">\n      <th></th>\n      <th>Country Name</th>\n      <th>Country Code</th>\n      <th>Classification Name</th>\n      <th>Classification Code</th>\n      <th>Series Name</th>\n      <th>Series Code</th>\n      <th>2017 [YR2017]</th>\n    </tr>\n  </thead>\n  <tbody>\n    <tr>\n      <th>222</th>\n      <td>NaN</td>\n      <td>NaN</td>\n      <td>NaN</td>\n      <td>NaN</td>\n      <td>NaN</td>\n      <td>NaN</td>\n      <td>NaN</td>\n    </tr>\n    <tr>\n      <th>223</th>\n      <td>NaN</td>\n      <td>NaN</td>\n      <td>NaN</td>\n      <td>NaN</td>\n      <td>NaN</td>\n      <td>NaN</td>\n      <td>NaN</td>\n    </tr>\n    <tr>\n      <th>224</th>\n      <td>NaN</td>\n      <td>NaN</td>\n      <td>NaN</td>\n      <td>NaN</td>\n      <td>NaN</td>\n      <td>NaN</td>\n      <td>NaN</td>\n    </tr>\n    <tr>\n      <th>225</th>\n      <td>Data from database: ICP 2017</td>\n      <td>NaN</td>\n      <td>NaN</td>\n      <td>NaN</td>\n      <td>NaN</td>\n      <td>NaN</td>\n      <td>NaN</td>\n    </tr>\n    <tr>\n      <th>226</th>\n      <td>Last Updated: 10/21/2020</td>\n      <td>NaN</td>\n      <td>NaN</td>\n      <td>NaN</td>\n      <td>NaN</td>\n      <td>NaN</td>\n      <td>NaN</td>\n    </tr>\n  </tbody>\n</table>\n</div>"
     },
     "execution_count": 45,
     "metadata": {},
     "output_type": "execute_result"
    }
   ],
   "source": [
    "avg_rest_hot_p[avg_rest_hot_p[[\"Country Code\"]].isnull().any(axis=1)]"
   ],
   "metadata": {
    "collapsed": false,
    "pycharm": {
     "name": "#%%\n"
    }
   }
  },
  {
   "cell_type": "markdown",
   "source": [
    "Given the exploration done in the avg_rest_hot_p dataset, we can conclude that for the next step in the cleaning and transformations, we wish to keep only the \"Country Name\", \" Country Code\", and the \"2017 [YR2017]\" columns, but we will rename them. Moreover, to make sure that the dataset is homogeneous we will capitalize the first letter of each word in the \"Country Name\" column. We can also see that there is 5 null values, which arise due to empty rows and footnotes, these will be handled accordingly. Additionally, we can see that some countries in the average price have \"..\" instead of being null, which will be solved."
   ],
   "metadata": {
    "collapsed": false,
    "pycharm": {
     "name": "#%% md\n"
    }
   }
  },
  {
   "cell_type": "markdown",
   "source": [
    "## Clean, transform, and subset the data"
   ],
   "metadata": {
    "collapsed": false,
    "pycharm": {
     "name": "#%% md\n"
    }
   }
  },
  {
   "cell_type": "markdown",
   "source": [
    "#### Country - ISO CODE Dataset"
   ],
   "metadata": {
    "collapsed": false,
    "pycharm": {
     "name": "#%% md\n"
    }
   }
  },
  {
   "cell_type": "code",
   "execution_count": 46,
   "outputs": [],
   "source": [
    "country['Name'] = country['Name'].str.title()\n",
    "country['Name'] = country['Name'].str.strip()"
   ],
   "metadata": {
    "collapsed": false,
    "pycharm": {
     "name": "#%%\n"
    }
   }
  },
  {
   "cell_type": "markdown",
   "source": [
    "#### Airport Distance dataset"
   ],
   "metadata": {
    "collapsed": false,
    "pycharm": {
     "name": "#%% md\n"
    }
   }
  },
  {
   "cell_type": "code",
   "execution_count": 47,
   "outputs": [],
   "source": [
    "airport_distance = airport_distance.dropna(subset=[\"Name_Origin\", \"Country_Origin\", \"Name_Dest\", \"Country_Dest\"], how='any')"
   ],
   "metadata": {
    "collapsed": false,
    "pycharm": {
     "name": "#%%\n"
    }
   }
  },
  {
   "cell_type": "code",
   "execution_count": 48,
   "outputs": [],
   "source": [
    "airport_distance = airport_distance.drop(columns=['ORIGIN_AIRPORT_SEQ_ID', 'DEST_AIRPORT_SEQ_ID','ICAO_Origin','Latitude_Origin','Longitude_Origin', 'ICAO_Dest', 'Latitude_Dest', 'Longitude_Dest', 'IATA_Origin', 'IATA_Dest'])"
   ],
   "metadata": {
    "collapsed": false,
    "pycharm": {
     "name": "#%%\n"
    }
   }
  },
  {
   "cell_type": "code",
   "execution_count": 49,
   "outputs": [
    {
     "data": {
      "text/plain": "       ORIGIN DEST  DISTANCE IN MILES                          Name_Origin  \\\n188       AAO  AUO             2083.0                        Anaco Airport   \n189       AAO  BZN             3721.0                        Anaco Airport   \n190       AAO  JAX             1826.0                        Anaco Airport   \n192       ABE  ABI             1458.0  Lehigh Valley International Airport   \n193       ABE  ABQ             1738.0  Lehigh Valley International Airport   \n...       ...  ...                ...                                  ...   \n328116    ZSA  YWG             2162.0                 San Salvador Airport   \n328117    ZSA  YYT             2018.0                 San Salvador Airport   \n328118    ZSA  ZRH             4705.0                 San Salvador Airport   \n328136    ZXT  UKI               27.0                       Zabrat Airport   \n328150    ZZV  SAT             1182.0         Zanesville Municipal Airport   \n\n          City_Origin Country_Origin  \\\n188             Anaco      Venezuela   \n189             Anaco      Venezuela   \n190             Anaco      Venezuela   \n192         Allentown  United States   \n193         Allentown  United States   \n...               ...            ...   \n328116  Cockburn Town        Bahamas   \n328117  Cockburn Town        Bahamas   \n328118  Cockburn Town        Bahamas   \n328136           Baku     Azerbaijan   \n328150     Zanesville  United States   \n\n                                                Name_Dest     City_Dest  \\\n188                    Auburn University Regional Airport        Auburn   \n189                                        Gallatin Field       Bozeman   \n190                    Jacksonville International Airport  Jacksonville   \n192                              Abilene Regional Airport       Abilene   \n193                     Albuquerque International Sunport   Albuquerque   \n...                                                   ...           ...   \n328116  Winnipeg / James Armstrong Richardson Internat...      Winnipeg   \n328117                   St. John's International Airport    St. John's   \n328118                                     Zürich Airport        Zurich   \n328136                            Ukiah Municipal Airport         Ukiah   \n328150                  San Antonio International Airport   San Antonio   \n\n         Country_Dest  \n188     United States  \n189     United States  \n190     United States  \n192     United States  \n193     United States  \n...               ...  \n328116         Canada  \n328117         Canada  \n328118    Switzerland  \n328136  United States  \n328150  United States  \n\n[319318 rows x 9 columns]",
      "text/html": "<div>\n<style scoped>\n    .dataframe tbody tr th:only-of-type {\n        vertical-align: middle;\n    }\n\n    .dataframe tbody tr th {\n        vertical-align: top;\n    }\n\n    .dataframe thead th {\n        text-align: right;\n    }\n</style>\n<table border=\"1\" class=\"dataframe\">\n  <thead>\n    <tr style=\"text-align: right;\">\n      <th></th>\n      <th>ORIGIN</th>\n      <th>DEST</th>\n      <th>DISTANCE IN MILES</th>\n      <th>Name_Origin</th>\n      <th>City_Origin</th>\n      <th>Country_Origin</th>\n      <th>Name_Dest</th>\n      <th>City_Dest</th>\n      <th>Country_Dest</th>\n    </tr>\n  </thead>\n  <tbody>\n    <tr>\n      <th>188</th>\n      <td>AAO</td>\n      <td>AUO</td>\n      <td>2083.0</td>\n      <td>Anaco Airport</td>\n      <td>Anaco</td>\n      <td>Venezuela</td>\n      <td>Auburn University Regional Airport</td>\n      <td>Auburn</td>\n      <td>United States</td>\n    </tr>\n    <tr>\n      <th>189</th>\n      <td>AAO</td>\n      <td>BZN</td>\n      <td>3721.0</td>\n      <td>Anaco Airport</td>\n      <td>Anaco</td>\n      <td>Venezuela</td>\n      <td>Gallatin Field</td>\n      <td>Bozeman</td>\n      <td>United States</td>\n    </tr>\n    <tr>\n      <th>190</th>\n      <td>AAO</td>\n      <td>JAX</td>\n      <td>1826.0</td>\n      <td>Anaco Airport</td>\n      <td>Anaco</td>\n      <td>Venezuela</td>\n      <td>Jacksonville International Airport</td>\n      <td>Jacksonville</td>\n      <td>United States</td>\n    </tr>\n    <tr>\n      <th>192</th>\n      <td>ABE</td>\n      <td>ABI</td>\n      <td>1458.0</td>\n      <td>Lehigh Valley International Airport</td>\n      <td>Allentown</td>\n      <td>United States</td>\n      <td>Abilene Regional Airport</td>\n      <td>Abilene</td>\n      <td>United States</td>\n    </tr>\n    <tr>\n      <th>193</th>\n      <td>ABE</td>\n      <td>ABQ</td>\n      <td>1738.0</td>\n      <td>Lehigh Valley International Airport</td>\n      <td>Allentown</td>\n      <td>United States</td>\n      <td>Albuquerque International Sunport</td>\n      <td>Albuquerque</td>\n      <td>United States</td>\n    </tr>\n    <tr>\n      <th>...</th>\n      <td>...</td>\n      <td>...</td>\n      <td>...</td>\n      <td>...</td>\n      <td>...</td>\n      <td>...</td>\n      <td>...</td>\n      <td>...</td>\n      <td>...</td>\n    </tr>\n    <tr>\n      <th>328116</th>\n      <td>ZSA</td>\n      <td>YWG</td>\n      <td>2162.0</td>\n      <td>San Salvador Airport</td>\n      <td>Cockburn Town</td>\n      <td>Bahamas</td>\n      <td>Winnipeg / James Armstrong Richardson Internat...</td>\n      <td>Winnipeg</td>\n      <td>Canada</td>\n    </tr>\n    <tr>\n      <th>328117</th>\n      <td>ZSA</td>\n      <td>YYT</td>\n      <td>2018.0</td>\n      <td>San Salvador Airport</td>\n      <td>Cockburn Town</td>\n      <td>Bahamas</td>\n      <td>St. John's International Airport</td>\n      <td>St. John's</td>\n      <td>Canada</td>\n    </tr>\n    <tr>\n      <th>328118</th>\n      <td>ZSA</td>\n      <td>ZRH</td>\n      <td>4705.0</td>\n      <td>San Salvador Airport</td>\n      <td>Cockburn Town</td>\n      <td>Bahamas</td>\n      <td>Zürich Airport</td>\n      <td>Zurich</td>\n      <td>Switzerland</td>\n    </tr>\n    <tr>\n      <th>328136</th>\n      <td>ZXT</td>\n      <td>UKI</td>\n      <td>27.0</td>\n      <td>Zabrat Airport</td>\n      <td>Baku</td>\n      <td>Azerbaijan</td>\n      <td>Ukiah Municipal Airport</td>\n      <td>Ukiah</td>\n      <td>United States</td>\n    </tr>\n    <tr>\n      <th>328150</th>\n      <td>ZZV</td>\n      <td>SAT</td>\n      <td>1182.0</td>\n      <td>Zanesville Municipal Airport</td>\n      <td>Zanesville</td>\n      <td>United States</td>\n      <td>San Antonio International Airport</td>\n      <td>San Antonio</td>\n      <td>United States</td>\n    </tr>\n  </tbody>\n</table>\n<p>319318 rows × 9 columns</p>\n</div>"
     },
     "execution_count": 49,
     "metadata": {},
     "output_type": "execute_result"
    }
   ],
   "source": [
    "airport_distance"
   ],
   "metadata": {
    "collapsed": false,
    "pycharm": {
     "name": "#%%\n"
    }
   }
  },
  {
   "cell_type": "code",
   "execution_count": 50,
   "outputs": [
    {
     "data": {
      "text/plain": "ORIGIN               0\nDEST                 0\nDISTANCE IN MILES    0\nName_Origin          0\nCity_Origin          0\nCountry_Origin       0\nName_Dest            0\nCity_Dest            0\nCountry_Dest         0\ndtype: int64"
     },
     "execution_count": 50,
     "metadata": {},
     "output_type": "execute_result"
    }
   ],
   "source": [
    "airport_distance.isnull().sum()"
   ],
   "metadata": {
    "collapsed": false,
    "pycharm": {
     "name": "#%%\n"
    }
   }
  },
  {
   "cell_type": "code",
   "execution_count": 51,
   "outputs": [
    {
     "data": {
      "text/plain": "(319318, 9)"
     },
     "execution_count": 51,
     "metadata": {},
     "output_type": "execute_result"
    }
   ],
   "source": [
    "airport_distance.shape"
   ],
   "metadata": {
    "collapsed": false,
    "pycharm": {
     "name": "#%%\n"
    }
   }
  },
  {
   "cell_type": "markdown",
   "source": [
    "#### Population dataset"
   ],
   "metadata": {
    "collapsed": false,
    "pycharm": {
     "name": "#%% md\n"
    }
   }
  },
  {
   "cell_type": "code",
   "execution_count": 52,
   "outputs": [],
   "source": [
    "# Select the columns we are interest in\n",
    "pop = pop[[\"Country Name\", \"Country Code\", \"2021\"]]"
   ],
   "metadata": {
    "collapsed": false,
    "pycharm": {
     "name": "#%%\n"
    }
   }
  },
  {
   "cell_type": "code",
   "execution_count": 53,
   "outputs": [],
   "source": [
    "# Rename the columns\n",
    "pop = pop.rename(columns = {\"2021\": \"Pop_2021\", \"Country Name\": \"Country\"})"
   ],
   "metadata": {
    "collapsed": false,
    "pycharm": {
     "name": "#%%\n"
    }
   }
  },
  {
   "cell_type": "code",
   "execution_count": 54,
   "outputs": [],
   "source": [
    "# Capitalise the first letter of each word in the Country column, and remove any extra spaces\n",
    "pop[\"Country\"] = pop[\"Country\"].str.title()\n",
    "pop[\"Country\"] = pop[\"Country\"].str.strip()"
   ],
   "metadata": {
    "collapsed": false,
    "pycharm": {
     "name": "#%%\n"
    }
   }
  },
  {
   "cell_type": "code",
   "execution_count": 55,
   "outputs": [],
   "source": [
    "# Remove empty rows\n",
    "pop = pop.dropna()"
   ],
   "metadata": {
    "collapsed": false,
    "pycharm": {
     "name": "#%%\n"
    }
   }
  },
  {
   "cell_type": "markdown",
   "source": [
    "#### Climate dataset"
   ],
   "metadata": {
    "collapsed": false,
    "pycharm": {
     "name": "#%% md\n"
    }
   }
  },
  {
   "cell_type": "code",
   "execution_count": 56,
   "outputs": [],
   "source": [
    "# Rename the columns\n",
    "clim = clim.rename(columns = {\"COUNTRY\": \"Country\", \"DESCRIPTION\": \"Climate\"})"
   ],
   "metadata": {
    "collapsed": false,
    "pycharm": {
     "name": "#%%\n"
    }
   }
  },
  {
   "cell_type": "code",
   "execution_count": 57,
   "outputs": [],
   "source": [
    "# Capitalise the first letter of each word in the Country and Climate column, and remove any extra spaces in the Country column\n",
    "clim[\"Country\"] = clim[\"Country\"].str.title()\n",
    "clim[\"Country\"] = clim[\"Country\"].str.strip()\n",
    "clim[\"Climate\"] = clim[\"Climate\"].str.title()"
   ],
   "metadata": {
    "collapsed": false,
    "pycharm": {
     "name": "#%%\n"
    }
   }
  },
  {
   "cell_type": "code",
   "execution_count": 58,
   "outputs": [
    {
     "data": {
      "text/plain": "          Country                                            Climate\n0     Afghanistan     Arid To Semiarid; Cold Winters And Hot Summers\n1        Akrotiri  Temperate; Mediterranean With Hot, Dry Summers...\n2         Albania  Mild Temperate; Cool, Cloudy, Wet Winters; Hot...\n3         Algeria  Arid To Semiarid; Mild, Wet Winters With Hot, ...\n4  American Samoa  Tropical Marine, Moderated By Southeast Trade ...",
      "text/html": "<div>\n<style scoped>\n    .dataframe tbody tr th:only-of-type {\n        vertical-align: middle;\n    }\n\n    .dataframe tbody tr th {\n        vertical-align: top;\n    }\n\n    .dataframe thead th {\n        text-align: right;\n    }\n</style>\n<table border=\"1\" class=\"dataframe\">\n  <thead>\n    <tr style=\"text-align: right;\">\n      <th></th>\n      <th>Country</th>\n      <th>Climate</th>\n    </tr>\n  </thead>\n  <tbody>\n    <tr>\n      <th>0</th>\n      <td>Afghanistan</td>\n      <td>Arid To Semiarid; Cold Winters And Hot Summers</td>\n    </tr>\n    <tr>\n      <th>1</th>\n      <td>Akrotiri</td>\n      <td>Temperate; Mediterranean With Hot, Dry Summers...</td>\n    </tr>\n    <tr>\n      <th>2</th>\n      <td>Albania</td>\n      <td>Mild Temperate; Cool, Cloudy, Wet Winters; Hot...</td>\n    </tr>\n    <tr>\n      <th>3</th>\n      <td>Algeria</td>\n      <td>Arid To Semiarid; Mild, Wet Winters With Hot, ...</td>\n    </tr>\n    <tr>\n      <th>4</th>\n      <td>American Samoa</td>\n      <td>Tropical Marine, Moderated By Southeast Trade ...</td>\n    </tr>\n  </tbody>\n</table>\n</div>"
     },
     "execution_count": 58,
     "metadata": {},
     "output_type": "execute_result"
    }
   ],
   "source": [
    "clim.head()"
   ],
   "metadata": {
    "collapsed": false,
    "pycharm": {
     "name": "#%%\n"
    }
   }
  },
  {
   "cell_type": "markdown",
   "source": [
    "#### Currency dataset"
   ],
   "metadata": {
    "collapsed": false,
    "pycharm": {
     "name": "#%% md\n"
    }
   }
  },
  {
   "cell_type": "code",
   "execution_count": 59,
   "outputs": [],
   "source": [
    "# Keep only the rows without a withdrawal date\n",
    "curr = curr[curr[[\"WithdrawalDate\"]].isnull().any(axis=1)]"
   ],
   "metadata": {
    "collapsed": false,
    "pycharm": {
     "name": "#%%\n"
    }
   }
  },
  {
   "cell_type": "code",
   "execution_count": 60,
   "outputs": [],
   "source": [
    "# Select the columns to keep\n",
    "curr = curr[[\"Entity\", \"Currency\", \"AlphabeticCode\"]]"
   ],
   "metadata": {
    "collapsed": false,
    "pycharm": {
     "name": "#%%\n"
    }
   }
  },
  {
   "cell_type": "code",
   "execution_count": 61,
   "outputs": [],
   "source": [
    "# Rename the columns\n",
    "curr = curr.rename(columns = {\"Entity\": \"Country\", \"AlphabeticCode\": \"Currency Code\"})"
   ],
   "metadata": {
    "collapsed": false,
    "pycharm": {
     "name": "#%%\n"
    }
   }
  },
  {
   "cell_type": "code",
   "execution_count": 62,
   "outputs": [],
   "source": [
    "# Capitalise the first letter of each word in the Country and Currency columns, and remove any extra spaces in the country column. Remove any text after \"(\" in the country column.\n",
    "curr[\"Country\"] = curr[\"Country\"].str.title()\n",
    "curr[\"Country\"] = curr['Country'].str.partition(\"(\")[0]\n",
    "curr[\"Country\"] = curr[\"Country\"].str.strip()\n",
    "curr[\"Currency\"] = curr[\"Currency\"].str.title()"
   ],
   "metadata": {
    "collapsed": false,
    "pycharm": {
     "name": "#%%\n"
    }
   }
  },
  {
   "cell_type": "code",
   "execution_count": 63,
   "outputs": [],
   "source": [
    "# Fill the null values with Non Applicable\n",
    "curr[\"Currency Code\"].fillna(\"Non Applicable\", inplace= True)"
   ],
   "metadata": {
    "collapsed": false,
    "pycharm": {
     "name": "#%%\n"
    }
   }
  },
  {
   "cell_type": "markdown",
   "source": [
    "#### Language dataset"
   ],
   "metadata": {
    "collapsed": false,
    "pycharm": {
     "name": "#%% md\n"
    }
   }
  },
  {
   "cell_type": "code",
   "execution_count": 64,
   "outputs": [],
   "source": [
    "# Rename the columns\n",
    "lang = lang.rename(columns = {\"Languages Spoken\": \"Official Language\"})"
   ],
   "metadata": {
    "collapsed": false,
    "pycharm": {
     "name": "#%%\n"
    }
   }
  },
  {
   "cell_type": "code",
   "execution_count": 65,
   "outputs": [],
   "source": [
    "# Keep only the official languages of each country\n",
    "lang[\"Official Language\"] = lang[\"Official Language\"].str.partition(\"(\")[0]"
   ],
   "metadata": {
    "collapsed": false,
    "pycharm": {
     "name": "#%%\n"
    }
   }
  },
  {
   "cell_type": "code",
   "execution_count": 66,
   "outputs": [],
   "source": [
    "# Capitalise the first letter of each word in the Country and Official Language columns\n",
    "lang[\"Country\"] = lang[\"Country\"].str.title()\n",
    "lang[\"Country\"] = lang[\"Country\"].str.strip()\n",
    "lang[\"Official Language\"] = lang[\"Official Language\"].str.title()"
   ],
   "metadata": {
    "collapsed": false,
    "pycharm": {
     "name": "#%%\n"
    }
   }
  },
  {
   "cell_type": "markdown",
   "source": [
    "#### Religion dataset"
   ],
   "metadata": {
    "collapsed": false,
    "pycharm": {
     "name": "#%% md\n"
    }
   }
  },
  {
   "cell_type": "code",
   "execution_count": 67,
   "outputs": [],
   "source": [
    "# Remove the footnote rows, which is where the Religion column \n",
    "rel = rel[rel[[\"Religion\"]].notna().any(axis=1)]"
   ],
   "metadata": {
    "collapsed": false,
    "pycharm": {
     "name": "#%%\n"
    }
   }
  },
  {
   "cell_type": "code",
   "execution_count": 68,
   "outputs": [],
   "source": [
    "# Remove the rows with the total number of religious people. Also remove the other, not stated, and refused to answer religions\n",
    "rel = rel[rel[\"Religion\"].str.contains(\"Total|Other|Not Stated|Refused to answer\") == False]"
   ],
   "metadata": {
    "collapsed": false,
    "pycharm": {
     "name": "#%%\n"
    }
   }
  },
  {
   "cell_type": "code",
   "execution_count": 69,
   "outputs": [],
   "source": [
    "# Keep the data from the most recent year for each country\n",
    "rel = rel.sort_values(by=[\"Country or Area\", \"Year\"])\n",
    "rel = rel.drop_duplicates(subset=['Country or Area', \"Religion\"], keep='last')"
   ],
   "metadata": {
    "collapsed": false,
    "pycharm": {
     "name": "#%%\n"
    }
   }
  },
  {
   "cell_type": "code",
   "execution_count": 70,
   "outputs": [],
   "source": [
    "# Keep the rows with the highest value, meaning the main religion of each country\n",
    "rel = rel.sort_values(by=[\"Country or Area\", \"Value\"])\n",
    "rel = rel.drop_duplicates(subset=['Country or Area'], keep='last')"
   ],
   "metadata": {
    "collapsed": false,
    "pycharm": {
     "name": "#%%\n"
    }
   }
  },
  {
   "cell_type": "code",
   "execution_count": 71,
   "outputs": [],
   "source": [
    "# Select the columns to keep\n",
    "rel = rel[[\"Country or Area\", \"Religion\"]]"
   ],
   "metadata": {
    "collapsed": false,
    "pycharm": {
     "name": "#%%\n"
    }
   }
  },
  {
   "cell_type": "code",
   "execution_count": 72,
   "outputs": [],
   "source": [
    "# Rename the columns\n",
    "rel = rel.rename(columns = {\"Country or Area\": \"Country\", \"Religion\": \"Main Religion\"})"
   ],
   "metadata": {
    "collapsed": false,
    "pycharm": {
     "name": "#%%\n"
    }
   }
  },
  {
   "cell_type": "code",
   "execution_count": 73,
   "outputs": [],
   "source": [
    "# Capitalise the first letter of each word in the Country and religion, and remove any extra spaces in the country column.\n",
    "rel[\"Country\"] = rel[\"Country\"].str.title()\n",
    "rel[\"Country\"] = rel[\"Country\"].str.strip()\n",
    "rel[\"Main Religion\"] = rel[\"Main Religion\"].str.title()"
   ],
   "metadata": {
    "collapsed": false,
    "pycharm": {
     "name": "#%%\n"
    }
   }
  },
  {
   "cell_type": "markdown",
   "source": [
    "#### Peace index dataset"
   ],
   "metadata": {
    "collapsed": false,
    "pycharm": {
     "name": "#%% md\n"
    }
   }
  },
  {
   "cell_type": "code",
   "execution_count": 74,
   "outputs": [],
   "source": [
    "# Select the columns to keep\n",
    "peace = peace[[\"RANK\", \"COUNTRY\"]]"
   ],
   "metadata": {
    "collapsed": false,
    "pycharm": {
     "name": "#%%\n"
    }
   }
  },
  {
   "cell_type": "code",
   "execution_count": 75,
   "outputs": [],
   "source": [
    "# Rename the columns\n",
    "peace = peace.rename(columns = {\"RANK\": \"Rank\", \"COUNTRY\": \"Country\"})"
   ],
   "metadata": {
    "collapsed": false,
    "pycharm": {
     "name": "#%%\n"
    }
   }
  },
  {
   "cell_type": "code",
   "execution_count": 76,
   "outputs": [],
   "source": [
    "# Capitalise the first letter of each word in the Country column\n",
    "peace[\"Country\"] = peace[\"Country\"].str.title()\n",
    "peace[\"Country\"] = peace[\"Country\"].str.strip()\n"
   ],
   "metadata": {
    "collapsed": false,
    "pycharm": {
     "name": "#%%\n"
    }
   }
  },
  {
   "cell_type": "code",
   "execution_count": 77,
   "outputs": [],
   "source": [
    "# Drop null rows\n",
    "peace = peace.dropna()"
   ],
   "metadata": {
    "collapsed": false,
    "pycharm": {
     "name": "#%%\n"
    }
   }
  },
  {
   "cell_type": "markdown",
   "source": [
    "#### WEF Dataset"
   ],
   "metadata": {
    "collapsed": false,
    "pycharm": {
     "name": "#%% md\n"
    }
   }
  },
  {
   "cell_type": "code",
   "execution_count": 78,
   "outputs": [],
   "source": [
    "# Rename columns\n",
    "wef.rename(columns = {('Unnamed: 0_level_0', 'ISO Code'):'ISO Code',\n",
    "                      ('Unnamed: 1_level_0', 'Economy'):'Economy',\n",
    "                      ('Unnamed: 2_level_0', 'Region'):'Region',\n",
    "                      ('Unnamed: 3_level_0', 'Sub Region'):'Sub Region',\n",
    "                      ('Unnamed: 4_level_0', 'Income Group'):'Income Group'\n",
    "                      }, inplace = True)"
   ],
   "metadata": {
    "collapsed": false,
    "pycharm": {
     "name": "#%%\n"
    }
   }
  },
  {
   "cell_type": "code",
   "execution_count": 79,
   "outputs": [
    {
     "name": "stdout",
     "output_type": "stream",
     "text": [
      "0 ISO Code\n",
      "1 Economy\n",
      "2 Region\n",
      "3 Sub Region\n",
      "4 Income Group\n",
      "5 ('Travel & Tourism Development Index ', '2019 Value')\n",
      "6 ('Travel & Tourism Development Index ', '2019 Rank')\n",
      "7 ('Travel & Tourism Development Index ', '2021 Value')\n",
      "8 ('Travel & Tourism Development Index ', '2021 Rank')\n",
      "9 ('Travel & Tourism Development Index ', '% Dif Score')\n",
      "10 ('Travel & Tourism Development Index ', 'Rank Change')\n",
      "11 ('Enabling Environment subindex', '2019 Value')\n",
      "12 ('Enabling Environment subindex', '2019 Rank')\n",
      "13 ('Enabling Environment subindex', '2021 Value')\n",
      "14 ('Enabling Environment subindex', '2021 Rank')\n",
      "15 ('Enabling Environment subindex', '% Dif Score')\n",
      "16 ('Enabling Environment subindex', 'Rank Change')\n",
      "17 ('Travel and Tourism Policy and Enabling\\nConditions subindex', '2019 Value')\n",
      "18 ('Travel and Tourism Policy and Enabling\\nConditions subindex', '2019 Rank')\n",
      "19 ('Travel and Tourism Policy and Enabling\\nConditions subindex', '2021 Value')\n",
      "20 ('Travel and Tourism Policy and Enabling\\nConditions subindex', '2021 Rank')\n",
      "21 ('Travel and Tourism Policy and Enabling\\nConditions subindex', '% Dif Score')\n",
      "22 ('Travel and Tourism Policy and Enabling\\nConditions subindex', 'Rank Change')\n",
      "23 ('Infrastructure subindex', '2019 Value')\n",
      "24 ('Infrastructure subindex', '2019 Rank')\n",
      "25 ('Infrastructure subindex', '2021 Value')\n",
      "26 ('Infrastructure subindex', '2021 Rank')\n",
      "27 ('Infrastructure subindex', '% Dif Score')\n",
      "28 ('Infrastructure subindex', 'Rank Change')\n",
      "29 ('Travel and Tourism Demand Drivers\\nsubindex', '2019 Value')\n",
      "30 ('Travel and Tourism Demand Drivers\\nsubindex', '2019 Rank')\n",
      "31 ('Travel and Tourism Demand Drivers\\nsubindex', '2021 Value')\n",
      "32 ('Travel and Tourism Demand Drivers\\nsubindex', '2021 Rank')\n",
      "33 ('Travel and Tourism Demand Drivers\\nsubindex', '% Dif Score')\n",
      "34 ('Travel and Tourism Demand Drivers\\nsubindex', 'Rank Change')\n",
      "35 ('Travel and Tourism Sustainability subindex', '2019 Value')\n",
      "36 ('Travel and Tourism Sustainability subindex', '2019 Rank')\n",
      "37 ('Travel and Tourism Sustainability subindex', '2021 Value')\n",
      "38 ('Travel and Tourism Sustainability subindex', '2021 Rank')\n",
      "39 ('Travel and Tourism Sustainability subindex', '% Dif Score')\n",
      "40 ('Travel and Tourism Sustainability subindex', 'Rank Change')\n",
      "41 ('Business Environment pillar', '2019 Value')\n",
      "42 ('Business Environment pillar', '2019 Rank')\n",
      "43 ('Business Environment pillar', '2021 Value')\n",
      "44 ('Business Environment pillar', '2021 Rank')\n",
      "45 ('Business Environment pillar', '% Dif Score')\n",
      "46 ('Business Environment pillar', 'Rank Change')\n",
      "47 ('Safety and Security pillar', '2019 Value')\n",
      "48 ('Safety and Security pillar', '2019 Rank')\n",
      "49 ('Safety and Security pillar', '2021 Value')\n",
      "50 ('Safety and Security pillar', '2021 Rank')\n",
      "51 ('Safety and Security pillar', '% Dif Score')\n",
      "52 ('Safety and Security pillar', 'Rank Change')\n",
      "53 ('Health and Hygiene pillar', '2019 Value')\n",
      "54 ('Health and Hygiene pillar', '2019 Rank')\n",
      "55 ('Health and Hygiene pillar', '2021 Value')\n",
      "56 ('Health and Hygiene pillar', '2021 Rank')\n",
      "57 ('Health and Hygiene pillar', '% Dif Score')\n",
      "58 ('Health and Hygiene pillar', 'Rank Change')\n",
      "59 ('Human Resources and Labour Market pillar', '2019 Value')\n",
      "60 ('Human Resources and Labour Market pillar', '2019 Rank')\n",
      "61 ('Human Resources and Labour Market pillar', '2021 Value')\n",
      "62 ('Human Resources and Labour Market pillar', '2021 Rank')\n",
      "63 ('Human Resources and Labour Market pillar', '% Dif Score')\n",
      "64 ('Human Resources and Labour Market pillar', 'Rank Change')\n",
      "65 ('ICT Readiness pillar', '2019 Value')\n",
      "66 ('ICT Readiness pillar', '2019 Rank')\n",
      "67 ('ICT Readiness pillar', '2021 Value')\n",
      "68 ('ICT Readiness pillar', '2021 Rank')\n",
      "69 ('ICT Readiness pillar', '% Dif Score')\n",
      "70 ('ICT Readiness pillar', 'Rank Change')\n",
      "71 ('Prioritization of Travel & Tourism pillar', '2019 Value')\n",
      "72 ('Prioritization of Travel & Tourism pillar', '2019 Rank')\n",
      "73 ('Prioritization of Travel & Tourism pillar', '2021 Value')\n",
      "74 ('Prioritization of Travel & Tourism pillar', '2021 Rank')\n",
      "75 ('Prioritization of Travel & Tourism pillar', '% Dif Score')\n",
      "76 ('Prioritization of Travel & Tourism pillar', 'Rank Change')\n",
      "77 ('International Openness pillar', '2019 Value')\n",
      "78 ('International Openness pillar', '2019 Rank')\n",
      "79 ('International Openness pillar', '2021 Value')\n",
      "80 ('International Openness pillar', '2021 Rank')\n",
      "81 ('International Openness pillar', '% Dif Score')\n",
      "82 ('International Openness pillar', 'Rank Change')\n",
      "83 ('Price competitiveness pillar', '2019 Value')\n",
      "84 ('Price competitiveness pillar', '2019 Rank')\n",
      "85 ('Price competitiveness pillar', '2021 Value')\n",
      "86 ('Price competitiveness pillar', '2021 Rank')\n",
      "87 ('Price competitiveness pillar', '% Dif Score')\n",
      "88 ('Price competitiveness pillar', 'Rank Change')\n",
      "89 ('Air Transport Infrastructure pillar', '2019 Value')\n",
      "90 ('Air Transport Infrastructure pillar', '2019 Rank')\n",
      "91 ('Air Transport Infrastructure pillar', '2021 Value')\n",
      "92 ('Air Transport Infrastructure pillar', '2021 Rank')\n",
      "93 ('Air Transport Infrastructure pillar', '% Dif Score')\n",
      "94 ('Air Transport Infrastructure pillar', 'Rank Change')\n",
      "95 ('Ground and Port Infrastructure pillar', '2019 Value')\n",
      "96 ('Ground and Port Infrastructure pillar', '2019 Rank')\n",
      "97 ('Ground and Port Infrastructure pillar', '2021 Value')\n",
      "98 ('Ground and Port Infrastructure pillar', '2021 Rank')\n",
      "99 ('Ground and Port Infrastructure pillar', '% Dif Score')\n",
      "100 ('Ground and Port Infrastructure pillar', 'Rank Change')\n",
      "101 ('Tourist Service Infrastructure pillar', '2019 Value')\n",
      "102 ('Tourist Service Infrastructure pillar', '2019 Rank')\n",
      "103 ('Tourist Service Infrastructure pillar', '2021 Value')\n",
      "104 ('Tourist Service Infrastructure pillar', '2021 Rank')\n",
      "105 ('Tourist Service Infrastructure pillar', '% Dif Score')\n",
      "106 ('Tourist Service Infrastructure pillar', 'Rank Change')\n",
      "107 ('Natural Resources pillar', '2019 Value')\n",
      "108 ('Natural Resources pillar', '2019 Rank')\n",
      "109 ('Natural Resources pillar', '2021 Value')\n",
      "110 ('Natural Resources pillar', '2021 Rank')\n",
      "111 ('Natural Resources pillar', '% Dif Score')\n",
      "112 ('Natural Resources pillar', 'Rank Change')\n",
      "113 ('Cultural Resources pillar', '2019 Value')\n",
      "114 ('Cultural Resources pillar', '2019 Rank')\n",
      "115 ('Cultural Resources pillar', '2021 Value')\n",
      "116 ('Cultural Resources pillar', '2021 Rank')\n",
      "117 ('Cultural Resources pillar', '% Dif Score')\n",
      "118 ('Cultural Resources pillar', 'Rank Change')\n",
      "119 ('Non-Leisure Resources pillar', '2019 Value')\n",
      "120 ('Non-Leisure Resources pillar', '2019 Rank')\n",
      "121 ('Non-Leisure Resources pillar', '2021 Value')\n",
      "122 ('Non-Leisure Resources pillar', '2021 Rank')\n",
      "123 ('Non-Leisure Resources pillar', '% Dif Score')\n",
      "124 ('Non-Leisure Resources pillar', 'Rank Change')\n",
      "125 ('Environmental Sustainability pillar', '2019 Value')\n",
      "126 ('Environmental Sustainability pillar', '2019 Rank')\n",
      "127 ('Environmental Sustainability pillar', '2021 Value')\n",
      "128 ('Environmental Sustainability pillar', '2021 Rank')\n",
      "129 ('Environmental Sustainability pillar', '% Dif Score')\n",
      "130 ('Environmental Sustainability pillar', 'Rank Change')\n",
      "131 ('Socioeconomic Resilience & Conditions pillar', '2019 Value')\n",
      "132 ('Socioeconomic Resilience & Conditions pillar', '2019 Rank')\n",
      "133 ('Socioeconomic Resilience & Conditions pillar', '2021 Value')\n",
      "134 ('Socioeconomic Resilience & Conditions pillar', '2021 Rank')\n",
      "135 ('Socioeconomic Resilience & Conditions pillar', '% Dif Score')\n",
      "136 ('Socioeconomic Resilience & Conditions pillar', 'Rank Change')\n",
      "137 ('T&T Demand Pressure & Impact pillar', '2019 Value')\n",
      "138 ('T&T Demand Pressure & Impact pillar', '2019 Rank')\n",
      "139 ('T&T Demand Pressure & Impact pillar', '2021 Value')\n",
      "140 ('T&T Demand Pressure & Impact pillar', '2021 Rank')\n",
      "141 ('T&T Demand Pressure & Impact pillar', '% Dif Score')\n",
      "142 ('T&T Demand Pressure & Impact pillar', 'Rank Change')\n"
     ]
    }
   ],
   "source": [
    "# To check the index of the columns that we wish to drop\n",
    "for i, col in enumerate(wef.columns):\n",
    "    print(i, col)"
   ],
   "metadata": {
    "collapsed": false,
    "pycharm": {
     "name": "#%%\n"
    }
   }
  },
  {
   "cell_type": "code",
   "execution_count": 80,
   "outputs": [],
   "source": [
    "# Drop columns from the behind to prevent index changing\n",
    "wef2 = wef.drop(wef.iloc[:, 131:136],axis = 1)\n",
    "wef2 = wef2.drop(wef2.iloc[:, 119:125],axis = 1)\n",
    "wef2 = wef2.drop(wef2.iloc[:, 59:77],axis = 1)\n",
    "wef2 = wef2.drop(wef2.iloc[:, 11:47],axis = 1)"
   ],
   "metadata": {
    "collapsed": false,
    "pycharm": {
     "name": "#%%\n"
    }
   }
  },
  {
   "cell_type": "markdown",
   "source": [
    "#### Average Restaurant and Accomodation Cost Dataset"
   ],
   "metadata": {
    "collapsed": false,
    "pycharm": {
     "name": "#%% md\n"
    }
   }
  },
  {
   "cell_type": "code",
   "execution_count": 81,
   "outputs": [],
   "source": [
    "# Select the columns we are interest in\n",
    "avg_rest_hot_p = avg_rest_hot_p[[\"Country Name\", \"Country Code\", \"2017 [YR2017]\"]]"
   ],
   "metadata": {
    "collapsed": false,
    "pycharm": {
     "name": "#%%\n"
    }
   }
  },
  {
   "cell_type": "code",
   "execution_count": 82,
   "outputs": [],
   "source": [
    "# Rename the columns\n",
    "avg_rest_hot_p = avg_rest_hot_p.rename(columns = {\"Country Name\": \"Country\", \"2017 [YR2017]\": \"Average Hotel and Accomodation Cost\"})"
   ],
   "metadata": {
    "collapsed": false,
    "pycharm": {
     "name": "#%%\n"
    }
   }
  },
  {
   "cell_type": "code",
   "execution_count": 83,
   "outputs": [],
   "source": [
    "# Capitalise the first letter of each word in the Country column, and remove any extra spaces\n",
    "avg_rest_hot_p[\"Country\"] = avg_rest_hot_p[\"Country\"].str.title()\n",
    "avg_rest_hot_p[\"Country\"] = avg_rest_hot_p[\"Country\"].str.strip()"
   ],
   "metadata": {
    "collapsed": false,
    "pycharm": {
     "name": "#%%\n"
    }
   }
  },
  {
   "cell_type": "code",
   "execution_count": 84,
   "outputs": [],
   "source": [
    "# Remove empty rows\n",
    "avg_rest_hot_p = avg_rest_hot_p.dropna()"
   ],
   "metadata": {
    "collapsed": false,
    "pycharm": {
     "name": "#%%\n"
    }
   }
  },
  {
   "cell_type": "code",
   "execution_count": 85,
   "outputs": [],
   "source": [
    "# Substitute \"..\" for null value\n",
    "avg_rest_hot_p[\"Average Hotel and Accomodation Cost\"] = avg_rest_hot_p[\"Average Hotel and Accomodation Cost\"].replace(\"..\",\"\")"
   ],
   "metadata": {
    "collapsed": false,
    "pycharm": {
     "name": "#%%\n"
    }
   }
  },
  {
   "cell_type": "code",
   "execution_count": 86,
   "outputs": [],
   "source": [
    "# Convert the column from string to numeric value\n",
    "avg_rest_hot_p[\"Average Hotel and Accomodation Cost\"] = pd.to_numeric(avg_rest_hot_p[\"Average Hotel and Accomodation Cost\"], errors = \"coerce\")"
   ],
   "metadata": {
    "collapsed": false,
    "pycharm": {
     "name": "#%%\n"
    }
   }
  },
  {
   "cell_type": "code",
   "execution_count": 87,
   "outputs": [],
   "source": [
    "# Round the numbers to two decimal points\n",
    "avg_rest_hot_p[\"Average Hotel and Accomodation Cost\"] = avg_rest_hot_p[\"Average Hotel and Accomodation Cost\"].round(2)"
   ],
   "metadata": {
    "collapsed": false,
    "pycharm": {
     "name": "#%%\n"
    }
   }
  },
  {
   "cell_type": "code",
   "execution_count": 88,
   "outputs": [],
   "source": [
    "# Set a new column that classifies countries into budget travel, comfortable travel and luxury travel\n",
    "conditions = [(avg_rest_hot_p[\"Average Hotel and Accomodation Cost\"] <= 70), ((avg_rest_hot_p[\"Average Hotel and Accomodation Cost\"] > 70) & (avg_rest_hot_p[\"Average Hotel and Accomodation Cost\"] <= 150)), (avg_rest_hot_p[\"Average Hotel and Accomodation Cost\"] > 150)]\n",
    "choices = [\"Budget Traveler\", \"Comfort traveler\", \"Luxury Travel\"]\n",
    "avg_rest_hot_p[\"Type Traveler\"] = np.select(conditions, choices, default = \"Non Applicable\")"
   ],
   "metadata": {
    "collapsed": false,
    "pycharm": {
     "name": "#%%\n"
    }
   }
  },
  {
   "cell_type": "markdown",
   "source": [
    "## Export cleaned dataset"
   ],
   "metadata": {
    "collapsed": false,
    "pycharm": {
     "name": "#%% md\n"
    }
   }
  },
  {
   "cell_type": "code",
   "execution_count": 100,
   "outputs": [],
   "source": [
    "country.to_csv('../cleaned_data/country.csv')\n",
    "\n",
    "airport_distance.to_csv('../cleaned_data/airport_distance.csv')\n",
    "\n",
    "pop.to_csv('../cleaned_data/population.csv')\n",
    "\n",
    "clim.to_csv('../cleaned_data/climate.csv')\n",
    "\n",
    "curr.to_csv('../cleaned_data/currencies.csv')\n",
    "\n",
    "lang.to_csv('../cleaned_data/language.csv')\n",
    "\n",
    "rel.to_csv('../cleaned_data/religion.csv')\n",
    "\n",
    "peace.to_csv('../cleaned_data/peace_index.csv')\n",
    "\n",
    "wef2.to_csv('../cleaned_data/wef_ttdi.csv')\n",
    "\n",
    "avg_rest_hot_p.to_csv(\"../cleaned_data/avg_rest_hot_p.csv\")"
   ],
   "metadata": {
    "collapsed": false,
    "pycharm": {
     "name": "#%%\n"
    }
   }
  },
  {
   "cell_type": "markdown",
   "source": [
    "## Checking composability\n",
    "Between country dataset and all the other\n",
    "based on either 'Country Name' or 'Country Code'"
   ],
   "metadata": {
    "collapsed": false,
    "pycharm": {
     "name": "#%% md\n"
    }
   }
  },
  {
   "cell_type": "code",
   "execution_count": 90,
   "outputs": [],
   "source": [
    "# get cleaned datasets\n",
    "country = pd.read_csv('../cleaned_data/country.csv', index_col=[0])\n",
    "climate = pd.read_csv('../cleaned_data/climate.csv', index_col=[0])\n",
    "currency = pd.read_csv('../cleaned_data/currencies.csv', index_col=[0])\n",
    "language = pd.read_csv('../cleaned_data/language.csv', encoding='latin-1', index_col=[0])\n",
    "peace = pd.read_csv('../cleaned_data/peace_index.csv', index_col=[0])\n",
    "population = pd.read_csv('../cleaned_data/population.csv', index_col=[0])\n",
    "religion = pd.read_csv('../cleaned_data/Religion.csv', index_col=[0])\n",
    "wef_ttdi = pd.read_csv('../cleaned_data/wef_ttdi.csv', index_col=[0])\n",
    "avg_rest_hot_p = pd.read_csv(\"../cleaned_data/avg_rest_hot_p.csv\", index_col=[0])"
   ],
   "metadata": {
    "collapsed": false,
    "pycharm": {
     "name": "#%%\n"
    }
   }
  },
  {
   "cell_type": "markdown",
   "source": [
    "#### Check climate - country"
   ],
   "metadata": {
    "collapsed": false,
    "pycharm": {
     "name": "#%% md\n"
    }
   }
  },
  {
   "cell_type": "code",
   "execution_count": 91,
   "outputs": [
    {
     "data": {
      "text/plain": "          Country                                            Climate\n0     Afghanistan     Arid To Semiarid; Cold Winters And Hot Summers\n1        Akrotiri  Temperate; Mediterranean With Hot, Dry Summers...\n2         Albania  Mild Temperate; Cool, Cloudy, Wet Winters; Hot...\n3         Algeria  Arid To Semiarid; Mild, Wet Winters With Hot, ...\n4  American Samoa  Tropical Marine, Moderated By Southeast Trade ...",
      "text/html": "<div>\n<style scoped>\n    .dataframe tbody tr th:only-of-type {\n        vertical-align: middle;\n    }\n\n    .dataframe tbody tr th {\n        vertical-align: top;\n    }\n\n    .dataframe thead th {\n        text-align: right;\n    }\n</style>\n<table border=\"1\" class=\"dataframe\">\n  <thead>\n    <tr style=\"text-align: right;\">\n      <th></th>\n      <th>Country</th>\n      <th>Climate</th>\n    </tr>\n  </thead>\n  <tbody>\n    <tr>\n      <th>0</th>\n      <td>Afghanistan</td>\n      <td>Arid To Semiarid; Cold Winters And Hot Summers</td>\n    </tr>\n    <tr>\n      <th>1</th>\n      <td>Akrotiri</td>\n      <td>Temperate; Mediterranean With Hot, Dry Summers...</td>\n    </tr>\n    <tr>\n      <th>2</th>\n      <td>Albania</td>\n      <td>Mild Temperate; Cool, Cloudy, Wet Winters; Hot...</td>\n    </tr>\n    <tr>\n      <th>3</th>\n      <td>Algeria</td>\n      <td>Arid To Semiarid; Mild, Wet Winters With Hot, ...</td>\n    </tr>\n    <tr>\n      <th>4</th>\n      <td>American Samoa</td>\n      <td>Tropical Marine, Moderated By Southeast Trade ...</td>\n    </tr>\n  </tbody>\n</table>\n</div>"
     },
     "execution_count": 91,
     "metadata": {},
     "output_type": "execute_result"
    }
   ],
   "source": [
    "climate.head()"
   ],
   "metadata": {
    "collapsed": false,
    "pycharm": {
     "name": "#%%\n"
    }
   }
  },
  {
   "cell_type": "code",
   "execution_count": 92,
   "outputs": [
    {
     "data": {
      "text/plain": "                         Country  \\\n1                       Akrotiri   \n7                       Anguilla   \n8                     Antarctica   \n10                  Arctic Ocean   \n14   Ashmore And Cartier Islands   \n..                           ...   \n270               Virgin Islands   \n271                  Wake Island   \n272            Wallis And Futuna   \n273                    West Bank   \n274               Western Sahara   \n\n                                               Climate Name Iso3 Continent  \\\n1    Temperate; Mediterranean With Hot, Dry Summers...  NaN  NaN       NaN   \n7         Tropical; Moderated By Northeast Trade Winds  NaN  NaN       NaN   \n8    Severe Low Temperatures Vary With Latitude, El...  NaN  NaN       NaN   \n10   Polar Climate Characterized By Persistent Cold...  NaN  NaN       NaN   \n14                                            Tropical  NaN  NaN       NaN   \n..                                                 ...  ...  ...       ...   \n270  Subtropical, Tempered By Easterly Trade Winds,...  NaN  NaN       NaN   \n271                                           Tropical  NaN  NaN       NaN   \n272  Tropical; Hot, Rainy Season (November To April...  NaN  NaN       NaN   \n273  Temperate; Temperature And Precipitation Vary ...  NaN  NaN       NaN   \n274  Hot, Dry Desert; Rain Is Rare; Cold Offshore A...  NaN  NaN       NaN   \n\n    SubContinent  \n1            NaN  \n7            NaN  \n8            NaN  \n10           NaN  \n14           NaN  \n..           ...  \n270          NaN  \n271          NaN  \n272          NaN  \n273          NaN  \n274          NaN  \n\n[73 rows x 6 columns]",
      "text/html": "<div>\n<style scoped>\n    .dataframe tbody tr th:only-of-type {\n        vertical-align: middle;\n    }\n\n    .dataframe tbody tr th {\n        vertical-align: top;\n    }\n\n    .dataframe thead th {\n        text-align: right;\n    }\n</style>\n<table border=\"1\" class=\"dataframe\">\n  <thead>\n    <tr style=\"text-align: right;\">\n      <th></th>\n      <th>Country</th>\n      <th>Climate</th>\n      <th>Name</th>\n      <th>Iso3</th>\n      <th>Continent</th>\n      <th>SubContinent</th>\n    </tr>\n  </thead>\n  <tbody>\n    <tr>\n      <th>1</th>\n      <td>Akrotiri</td>\n      <td>Temperate; Mediterranean With Hot, Dry Summers...</td>\n      <td>NaN</td>\n      <td>NaN</td>\n      <td>NaN</td>\n      <td>NaN</td>\n    </tr>\n    <tr>\n      <th>7</th>\n      <td>Anguilla</td>\n      <td>Tropical; Moderated By Northeast Trade Winds</td>\n      <td>NaN</td>\n      <td>NaN</td>\n      <td>NaN</td>\n      <td>NaN</td>\n    </tr>\n    <tr>\n      <th>8</th>\n      <td>Antarctica</td>\n      <td>Severe Low Temperatures Vary With Latitude, El...</td>\n      <td>NaN</td>\n      <td>NaN</td>\n      <td>NaN</td>\n      <td>NaN</td>\n    </tr>\n    <tr>\n      <th>10</th>\n      <td>Arctic Ocean</td>\n      <td>Polar Climate Characterized By Persistent Cold...</td>\n      <td>NaN</td>\n      <td>NaN</td>\n      <td>NaN</td>\n      <td>NaN</td>\n    </tr>\n    <tr>\n      <th>14</th>\n      <td>Ashmore And Cartier Islands</td>\n      <td>Tropical</td>\n      <td>NaN</td>\n      <td>NaN</td>\n      <td>NaN</td>\n      <td>NaN</td>\n    </tr>\n    <tr>\n      <th>...</th>\n      <td>...</td>\n      <td>...</td>\n      <td>...</td>\n      <td>...</td>\n      <td>...</td>\n      <td>...</td>\n    </tr>\n    <tr>\n      <th>270</th>\n      <td>Virgin Islands</td>\n      <td>Subtropical, Tempered By Easterly Trade Winds,...</td>\n      <td>NaN</td>\n      <td>NaN</td>\n      <td>NaN</td>\n      <td>NaN</td>\n    </tr>\n    <tr>\n      <th>271</th>\n      <td>Wake Island</td>\n      <td>Tropical</td>\n      <td>NaN</td>\n      <td>NaN</td>\n      <td>NaN</td>\n      <td>NaN</td>\n    </tr>\n    <tr>\n      <th>272</th>\n      <td>Wallis And Futuna</td>\n      <td>Tropical; Hot, Rainy Season (November To April...</td>\n      <td>NaN</td>\n      <td>NaN</td>\n      <td>NaN</td>\n      <td>NaN</td>\n    </tr>\n    <tr>\n      <th>273</th>\n      <td>West Bank</td>\n      <td>Temperate; Temperature And Precipitation Vary ...</td>\n      <td>NaN</td>\n      <td>NaN</td>\n      <td>NaN</td>\n      <td>NaN</td>\n    </tr>\n    <tr>\n      <th>274</th>\n      <td>Western Sahara</td>\n      <td>Hot, Dry Desert; Rain Is Rare; Cold Offshore A...</td>\n      <td>NaN</td>\n      <td>NaN</td>\n      <td>NaN</td>\n      <td>NaN</td>\n    </tr>\n  </tbody>\n</table>\n<p>73 rows × 6 columns</p>\n</div>"
     },
     "execution_count": 92,
     "metadata": {},
     "output_type": "execute_result"
    }
   ],
   "source": [
    "climate = climate.merge(country, how='left', left_on='Country', right_on='Name')\n",
    "climate[climate['Name'].isnull()]"
   ],
   "metadata": {
    "collapsed": false,
    "pycharm": {
     "name": "#%%\n"
    }
   }
  },
  {
   "cell_type": "markdown",
   "source": [
    "The rows that cannot be joined with country dataset do not seem like a proper country, so we are going to ignore it."
   ],
   "metadata": {
    "collapsed": false,
    "pycharm": {
     "name": "#%% md\n"
    }
   }
  },
  {
   "cell_type": "markdown",
   "source": [
    "#### Check Currency - Country"
   ],
   "metadata": {
    "collapsed": false,
    "pycharm": {
     "name": "#%% md\n"
    }
   }
  },
  {
   "cell_type": "code",
   "execution_count": 93,
   "outputs": [
    {
     "data": {
      "text/plain": "                                               Country  \\\n1                                        Åland Islands   \n7                                             Anguilla   \n8                                           Antarctica   \n29                    Bonaire, Sint Eustatius And Saba   \n32                                       Bouvet Island   \n34                      British Indian Ocean Territory   \n49                                    Christmas Island   \n50                               Cocos Keeling Islands   \n54                The Democratic Republic Of The Congo   \n56                                        Cook Islands   \n62                                             Curaçao   \n76                                            Eswatini   \n78                                      European Union   \n79                                    Falkland Islands   \n86                         French Southern Territories   \n92                                           Gibraltar   \n96                                          Guadeloupe   \n99                                            Guernsey   \n105                  Heard Island And Mcdonald Islands   \n106                                           Holy See   \n113                        International Monetary Fund   \n122                                             Jersey   \n151                                         Martinique   \n154                                            Mayotte   \n155  Member Countries Of The African Development Ba...   \n158                                         Micronesia   \n163                                         Montserrat   \n169                                              Nauru   \n177                                               Niue   \n178                                     Norfolk Island   \n184                                Palestine, State Of   \n191                                           Pitcairn   \n196                                            Réunion   \n200                                   Saint Barthélemy   \n201       Saint Helena, Ascension And Tristan Da Cunha   \n204                                       Saint Martin   \n205                          Saint Pierre And Miquelon   \n216                                       Sint Maarten   \n217  Sistema Unitario De Compensacion Regional De P...   \n223       South Georgia And The South Sandwich Islands   \n229                             Svalbard And Jan Mayen   \n237                       Tanzania, United Republic Of   \n241                                            Tokelau   \n253               United States Minor Outlying Islands   \n265                                     Virgin Islands   \n266                                     Virgin Islands   \n267                                  Wallis And Futuna   \n268                                     Western Sahara   \n272              Zz01_Bond Markets Unit European_Eurco   \n273              Zz02_Bond Markets Unit European_Emu-6   \n274              Zz03_Bond Markets Unit European_Eua-9   \n275             Zz04_Bond Markets Unit European_Eua-17   \n276                                  Zz06_Testing_Code   \n277                                   Zz07_No_Currency   \n278                                          Zz08_Gold   \n279                                     Zz09_Palladium   \n280                                      Zz10_Platinum   \n281                                        Zz11_Silver   \n\n                                              Currency   Currency Code Name  \\\n1                                                 Euro             EUR  NaN   \n7                                East Caribbean Dollar             XCD  NaN   \n8                                No Universal Currency  Non Applicable  NaN   \n29                                           Us Dollar             USD  NaN   \n32                                     Norwegian Krone             NOK  NaN   \n34                                           Us Dollar             USD  NaN   \n49                                   Australian Dollar             AUD  NaN   \n50                                   Australian Dollar             AUD  NaN   \n54                                     Congolese Franc             CDF  NaN   \n56                                  New Zealand Dollar             NZD  NaN   \n62                       Netherlands Antillean Guilder             ANG  NaN   \n76                                           Lilangeni             SZL  NaN   \n78                                                Euro             EUR  NaN   \n79                              Falkland Islands Pound             FKP  NaN   \n86                                                Euro             EUR  NaN   \n92                                     Gibraltar Pound             GIP  NaN   \n96                                                Euro             EUR  NaN   \n99                                      Pound Sterling             GBP  NaN   \n105                                  Australian Dollar             AUD  NaN   \n106                                               Euro             EUR  NaN   \n113                        Sdr (Special Drawing Right)             XDR  NaN   \n122                                     Pound Sterling             GBP  NaN   \n151                                               Euro             EUR  NaN   \n154                                               Euro             EUR  NaN   \n155                                Adb Unit Of Account             XUA  NaN   \n158                                          Us Dollar             USD  NaN   \n163                              East Caribbean Dollar             XCD  NaN   \n169                                  Australian Dollar             AUD  NaN   \n177                                 New Zealand Dollar             NZD  NaN   \n178                                  Australian Dollar             AUD  NaN   \n184                              No Universal Currency  Non Applicable  NaN   \n191                                 New Zealand Dollar             NZD  NaN   \n196                                               Euro             EUR  NaN   \n200                                               Euro             EUR  NaN   \n201                                 Saint Helena Pound             SHP  NaN   \n204                                               Euro             EUR  NaN   \n205                                               Euro             EUR  NaN   \n216                      Netherlands Antillean Guilder             ANG  NaN   \n217                                              Sucre             XSU  NaN   \n223                              No Universal Currency  Non Applicable  NaN   \n229                                    Norwegian Krone             NOK  NaN   \n237                                 Tanzanian Shilling             TZS  NaN   \n241                                 New Zealand Dollar             NZD  NaN   \n253                                          Us Dollar             USD  NaN   \n265                                          Us Dollar             USD  NaN   \n266                                          Us Dollar             USD  NaN   \n267                                          Cfp Franc             XPF  NaN   \n268                                    Moroccan Dirham             MAD  NaN   \n272  Bond Markets Unit European Composite Unit (Eurco)             XBA  NaN   \n273  Bond Markets Unit European Monetary Unit (E.M....             XBB  NaN   \n274  Bond Markets Unit European Unit Of Account 9 (...             XBC  NaN   \n275  Bond Markets Unit European Unit Of Account 17 ...             XBD  NaN   \n276   Codes Specifically Reserved For Testing Purposes             XTS  NaN   \n277  The Codes Assigned For Transactions Where No C...             XXX  NaN   \n278                                               Gold             XAU  NaN   \n279                                          Palladium             XPD  NaN   \n280                                           Platinum             XPT  NaN   \n281                                             Silver             XAG  NaN   \n\n    Iso3 Continent SubContinent  \n1    NaN       NaN          NaN  \n7    NaN       NaN          NaN  \n8    NaN       NaN          NaN  \n29   NaN       NaN          NaN  \n32   NaN       NaN          NaN  \n34   NaN       NaN          NaN  \n49   NaN       NaN          NaN  \n50   NaN       NaN          NaN  \n54   NaN       NaN          NaN  \n56   NaN       NaN          NaN  \n62   NaN       NaN          NaN  \n76   NaN       NaN          NaN  \n78   NaN       NaN          NaN  \n79   NaN       NaN          NaN  \n86   NaN       NaN          NaN  \n92   NaN       NaN          NaN  \n96   NaN       NaN          NaN  \n99   NaN       NaN          NaN  \n105  NaN       NaN          NaN  \n106  NaN       NaN          NaN  \n113  NaN       NaN          NaN  \n122  NaN       NaN          NaN  \n151  NaN       NaN          NaN  \n154  NaN       NaN          NaN  \n155  NaN       NaN          NaN  \n158  NaN       NaN          NaN  \n163  NaN       NaN          NaN  \n169  NaN       NaN          NaN  \n177  NaN       NaN          NaN  \n178  NaN       NaN          NaN  \n184  NaN       NaN          NaN  \n191  NaN       NaN          NaN  \n196  NaN       NaN          NaN  \n200  NaN       NaN          NaN  \n201  NaN       NaN          NaN  \n204  NaN       NaN          NaN  \n205  NaN       NaN          NaN  \n216  NaN       NaN          NaN  \n217  NaN       NaN          NaN  \n223  NaN       NaN          NaN  \n229  NaN       NaN          NaN  \n237  NaN       NaN          NaN  \n241  NaN       NaN          NaN  \n253  NaN       NaN          NaN  \n265  NaN       NaN          NaN  \n266  NaN       NaN          NaN  \n267  NaN       NaN          NaN  \n268  NaN       NaN          NaN  \n272  NaN       NaN          NaN  \n273  NaN       NaN          NaN  \n274  NaN       NaN          NaN  \n275  NaN       NaN          NaN  \n276  NaN       NaN          NaN  \n277  NaN       NaN          NaN  \n278  NaN       NaN          NaN  \n279  NaN       NaN          NaN  \n280  NaN       NaN          NaN  \n281  NaN       NaN          NaN  ",
      "text/html": "<div>\n<style scoped>\n    .dataframe tbody tr th:only-of-type {\n        vertical-align: middle;\n    }\n\n    .dataframe tbody tr th {\n        vertical-align: top;\n    }\n\n    .dataframe thead th {\n        text-align: right;\n    }\n</style>\n<table border=\"1\" class=\"dataframe\">\n  <thead>\n    <tr style=\"text-align: right;\">\n      <th></th>\n      <th>Country</th>\n      <th>Currency</th>\n      <th>Currency Code</th>\n      <th>Name</th>\n      <th>Iso3</th>\n      <th>Continent</th>\n      <th>SubContinent</th>\n    </tr>\n  </thead>\n  <tbody>\n    <tr>\n      <th>1</th>\n      <td>Åland Islands</td>\n      <td>Euro</td>\n      <td>EUR</td>\n      <td>NaN</td>\n      <td>NaN</td>\n      <td>NaN</td>\n      <td>NaN</td>\n    </tr>\n    <tr>\n      <th>7</th>\n      <td>Anguilla</td>\n      <td>East Caribbean Dollar</td>\n      <td>XCD</td>\n      <td>NaN</td>\n      <td>NaN</td>\n      <td>NaN</td>\n      <td>NaN</td>\n    </tr>\n    <tr>\n      <th>8</th>\n      <td>Antarctica</td>\n      <td>No Universal Currency</td>\n      <td>Non Applicable</td>\n      <td>NaN</td>\n      <td>NaN</td>\n      <td>NaN</td>\n      <td>NaN</td>\n    </tr>\n    <tr>\n      <th>29</th>\n      <td>Bonaire, Sint Eustatius And Saba</td>\n      <td>Us Dollar</td>\n      <td>USD</td>\n      <td>NaN</td>\n      <td>NaN</td>\n      <td>NaN</td>\n      <td>NaN</td>\n    </tr>\n    <tr>\n      <th>32</th>\n      <td>Bouvet Island</td>\n      <td>Norwegian Krone</td>\n      <td>NOK</td>\n      <td>NaN</td>\n      <td>NaN</td>\n      <td>NaN</td>\n      <td>NaN</td>\n    </tr>\n    <tr>\n      <th>34</th>\n      <td>British Indian Ocean Territory</td>\n      <td>Us Dollar</td>\n      <td>USD</td>\n      <td>NaN</td>\n      <td>NaN</td>\n      <td>NaN</td>\n      <td>NaN</td>\n    </tr>\n    <tr>\n      <th>49</th>\n      <td>Christmas Island</td>\n      <td>Australian Dollar</td>\n      <td>AUD</td>\n      <td>NaN</td>\n      <td>NaN</td>\n      <td>NaN</td>\n      <td>NaN</td>\n    </tr>\n    <tr>\n      <th>50</th>\n      <td>Cocos Keeling Islands</td>\n      <td>Australian Dollar</td>\n      <td>AUD</td>\n      <td>NaN</td>\n      <td>NaN</td>\n      <td>NaN</td>\n      <td>NaN</td>\n    </tr>\n    <tr>\n      <th>54</th>\n      <td>The Democratic Republic Of The Congo</td>\n      <td>Congolese Franc</td>\n      <td>CDF</td>\n      <td>NaN</td>\n      <td>NaN</td>\n      <td>NaN</td>\n      <td>NaN</td>\n    </tr>\n    <tr>\n      <th>56</th>\n      <td>Cook Islands</td>\n      <td>New Zealand Dollar</td>\n      <td>NZD</td>\n      <td>NaN</td>\n      <td>NaN</td>\n      <td>NaN</td>\n      <td>NaN</td>\n    </tr>\n    <tr>\n      <th>62</th>\n      <td>Curaçao</td>\n      <td>Netherlands Antillean Guilder</td>\n      <td>ANG</td>\n      <td>NaN</td>\n      <td>NaN</td>\n      <td>NaN</td>\n      <td>NaN</td>\n    </tr>\n    <tr>\n      <th>76</th>\n      <td>Eswatini</td>\n      <td>Lilangeni</td>\n      <td>SZL</td>\n      <td>NaN</td>\n      <td>NaN</td>\n      <td>NaN</td>\n      <td>NaN</td>\n    </tr>\n    <tr>\n      <th>78</th>\n      <td>European Union</td>\n      <td>Euro</td>\n      <td>EUR</td>\n      <td>NaN</td>\n      <td>NaN</td>\n      <td>NaN</td>\n      <td>NaN</td>\n    </tr>\n    <tr>\n      <th>79</th>\n      <td>Falkland Islands</td>\n      <td>Falkland Islands Pound</td>\n      <td>FKP</td>\n      <td>NaN</td>\n      <td>NaN</td>\n      <td>NaN</td>\n      <td>NaN</td>\n    </tr>\n    <tr>\n      <th>86</th>\n      <td>French Southern Territories</td>\n      <td>Euro</td>\n      <td>EUR</td>\n      <td>NaN</td>\n      <td>NaN</td>\n      <td>NaN</td>\n      <td>NaN</td>\n    </tr>\n    <tr>\n      <th>92</th>\n      <td>Gibraltar</td>\n      <td>Gibraltar Pound</td>\n      <td>GIP</td>\n      <td>NaN</td>\n      <td>NaN</td>\n      <td>NaN</td>\n      <td>NaN</td>\n    </tr>\n    <tr>\n      <th>96</th>\n      <td>Guadeloupe</td>\n      <td>Euro</td>\n      <td>EUR</td>\n      <td>NaN</td>\n      <td>NaN</td>\n      <td>NaN</td>\n      <td>NaN</td>\n    </tr>\n    <tr>\n      <th>99</th>\n      <td>Guernsey</td>\n      <td>Pound Sterling</td>\n      <td>GBP</td>\n      <td>NaN</td>\n      <td>NaN</td>\n      <td>NaN</td>\n      <td>NaN</td>\n    </tr>\n    <tr>\n      <th>105</th>\n      <td>Heard Island And Mcdonald Islands</td>\n      <td>Australian Dollar</td>\n      <td>AUD</td>\n      <td>NaN</td>\n      <td>NaN</td>\n      <td>NaN</td>\n      <td>NaN</td>\n    </tr>\n    <tr>\n      <th>106</th>\n      <td>Holy See</td>\n      <td>Euro</td>\n      <td>EUR</td>\n      <td>NaN</td>\n      <td>NaN</td>\n      <td>NaN</td>\n      <td>NaN</td>\n    </tr>\n    <tr>\n      <th>113</th>\n      <td>International Monetary Fund</td>\n      <td>Sdr (Special Drawing Right)</td>\n      <td>XDR</td>\n      <td>NaN</td>\n      <td>NaN</td>\n      <td>NaN</td>\n      <td>NaN</td>\n    </tr>\n    <tr>\n      <th>122</th>\n      <td>Jersey</td>\n      <td>Pound Sterling</td>\n      <td>GBP</td>\n      <td>NaN</td>\n      <td>NaN</td>\n      <td>NaN</td>\n      <td>NaN</td>\n    </tr>\n    <tr>\n      <th>151</th>\n      <td>Martinique</td>\n      <td>Euro</td>\n      <td>EUR</td>\n      <td>NaN</td>\n      <td>NaN</td>\n      <td>NaN</td>\n      <td>NaN</td>\n    </tr>\n    <tr>\n      <th>154</th>\n      <td>Mayotte</td>\n      <td>Euro</td>\n      <td>EUR</td>\n      <td>NaN</td>\n      <td>NaN</td>\n      <td>NaN</td>\n      <td>NaN</td>\n    </tr>\n    <tr>\n      <th>155</th>\n      <td>Member Countries Of The African Development Ba...</td>\n      <td>Adb Unit Of Account</td>\n      <td>XUA</td>\n      <td>NaN</td>\n      <td>NaN</td>\n      <td>NaN</td>\n      <td>NaN</td>\n    </tr>\n    <tr>\n      <th>158</th>\n      <td>Micronesia</td>\n      <td>Us Dollar</td>\n      <td>USD</td>\n      <td>NaN</td>\n      <td>NaN</td>\n      <td>NaN</td>\n      <td>NaN</td>\n    </tr>\n    <tr>\n      <th>163</th>\n      <td>Montserrat</td>\n      <td>East Caribbean Dollar</td>\n      <td>XCD</td>\n      <td>NaN</td>\n      <td>NaN</td>\n      <td>NaN</td>\n      <td>NaN</td>\n    </tr>\n    <tr>\n      <th>169</th>\n      <td>Nauru</td>\n      <td>Australian Dollar</td>\n      <td>AUD</td>\n      <td>NaN</td>\n      <td>NaN</td>\n      <td>NaN</td>\n      <td>NaN</td>\n    </tr>\n    <tr>\n      <th>177</th>\n      <td>Niue</td>\n      <td>New Zealand Dollar</td>\n      <td>NZD</td>\n      <td>NaN</td>\n      <td>NaN</td>\n      <td>NaN</td>\n      <td>NaN</td>\n    </tr>\n    <tr>\n      <th>178</th>\n      <td>Norfolk Island</td>\n      <td>Australian Dollar</td>\n      <td>AUD</td>\n      <td>NaN</td>\n      <td>NaN</td>\n      <td>NaN</td>\n      <td>NaN</td>\n    </tr>\n    <tr>\n      <th>184</th>\n      <td>Palestine, State Of</td>\n      <td>No Universal Currency</td>\n      <td>Non Applicable</td>\n      <td>NaN</td>\n      <td>NaN</td>\n      <td>NaN</td>\n      <td>NaN</td>\n    </tr>\n    <tr>\n      <th>191</th>\n      <td>Pitcairn</td>\n      <td>New Zealand Dollar</td>\n      <td>NZD</td>\n      <td>NaN</td>\n      <td>NaN</td>\n      <td>NaN</td>\n      <td>NaN</td>\n    </tr>\n    <tr>\n      <th>196</th>\n      <td>Réunion</td>\n      <td>Euro</td>\n      <td>EUR</td>\n      <td>NaN</td>\n      <td>NaN</td>\n      <td>NaN</td>\n      <td>NaN</td>\n    </tr>\n    <tr>\n      <th>200</th>\n      <td>Saint Barthélemy</td>\n      <td>Euro</td>\n      <td>EUR</td>\n      <td>NaN</td>\n      <td>NaN</td>\n      <td>NaN</td>\n      <td>NaN</td>\n    </tr>\n    <tr>\n      <th>201</th>\n      <td>Saint Helena, Ascension And Tristan Da Cunha</td>\n      <td>Saint Helena Pound</td>\n      <td>SHP</td>\n      <td>NaN</td>\n      <td>NaN</td>\n      <td>NaN</td>\n      <td>NaN</td>\n    </tr>\n    <tr>\n      <th>204</th>\n      <td>Saint Martin</td>\n      <td>Euro</td>\n      <td>EUR</td>\n      <td>NaN</td>\n      <td>NaN</td>\n      <td>NaN</td>\n      <td>NaN</td>\n    </tr>\n    <tr>\n      <th>205</th>\n      <td>Saint Pierre And Miquelon</td>\n      <td>Euro</td>\n      <td>EUR</td>\n      <td>NaN</td>\n      <td>NaN</td>\n      <td>NaN</td>\n      <td>NaN</td>\n    </tr>\n    <tr>\n      <th>216</th>\n      <td>Sint Maarten</td>\n      <td>Netherlands Antillean Guilder</td>\n      <td>ANG</td>\n      <td>NaN</td>\n      <td>NaN</td>\n      <td>NaN</td>\n      <td>NaN</td>\n    </tr>\n    <tr>\n      <th>217</th>\n      <td>Sistema Unitario De Compensacion Regional De P...</td>\n      <td>Sucre</td>\n      <td>XSU</td>\n      <td>NaN</td>\n      <td>NaN</td>\n      <td>NaN</td>\n      <td>NaN</td>\n    </tr>\n    <tr>\n      <th>223</th>\n      <td>South Georgia And The South Sandwich Islands</td>\n      <td>No Universal Currency</td>\n      <td>Non Applicable</td>\n      <td>NaN</td>\n      <td>NaN</td>\n      <td>NaN</td>\n      <td>NaN</td>\n    </tr>\n    <tr>\n      <th>229</th>\n      <td>Svalbard And Jan Mayen</td>\n      <td>Norwegian Krone</td>\n      <td>NOK</td>\n      <td>NaN</td>\n      <td>NaN</td>\n      <td>NaN</td>\n      <td>NaN</td>\n    </tr>\n    <tr>\n      <th>237</th>\n      <td>Tanzania, United Republic Of</td>\n      <td>Tanzanian Shilling</td>\n      <td>TZS</td>\n      <td>NaN</td>\n      <td>NaN</td>\n      <td>NaN</td>\n      <td>NaN</td>\n    </tr>\n    <tr>\n      <th>241</th>\n      <td>Tokelau</td>\n      <td>New Zealand Dollar</td>\n      <td>NZD</td>\n      <td>NaN</td>\n      <td>NaN</td>\n      <td>NaN</td>\n      <td>NaN</td>\n    </tr>\n    <tr>\n      <th>253</th>\n      <td>United States Minor Outlying Islands</td>\n      <td>Us Dollar</td>\n      <td>USD</td>\n      <td>NaN</td>\n      <td>NaN</td>\n      <td>NaN</td>\n      <td>NaN</td>\n    </tr>\n    <tr>\n      <th>265</th>\n      <td>Virgin Islands</td>\n      <td>Us Dollar</td>\n      <td>USD</td>\n      <td>NaN</td>\n      <td>NaN</td>\n      <td>NaN</td>\n      <td>NaN</td>\n    </tr>\n    <tr>\n      <th>266</th>\n      <td>Virgin Islands</td>\n      <td>Us Dollar</td>\n      <td>USD</td>\n      <td>NaN</td>\n      <td>NaN</td>\n      <td>NaN</td>\n      <td>NaN</td>\n    </tr>\n    <tr>\n      <th>267</th>\n      <td>Wallis And Futuna</td>\n      <td>Cfp Franc</td>\n      <td>XPF</td>\n      <td>NaN</td>\n      <td>NaN</td>\n      <td>NaN</td>\n      <td>NaN</td>\n    </tr>\n    <tr>\n      <th>268</th>\n      <td>Western Sahara</td>\n      <td>Moroccan Dirham</td>\n      <td>MAD</td>\n      <td>NaN</td>\n      <td>NaN</td>\n      <td>NaN</td>\n      <td>NaN</td>\n    </tr>\n    <tr>\n      <th>272</th>\n      <td>Zz01_Bond Markets Unit European_Eurco</td>\n      <td>Bond Markets Unit European Composite Unit (Eurco)</td>\n      <td>XBA</td>\n      <td>NaN</td>\n      <td>NaN</td>\n      <td>NaN</td>\n      <td>NaN</td>\n    </tr>\n    <tr>\n      <th>273</th>\n      <td>Zz02_Bond Markets Unit European_Emu-6</td>\n      <td>Bond Markets Unit European Monetary Unit (E.M....</td>\n      <td>XBB</td>\n      <td>NaN</td>\n      <td>NaN</td>\n      <td>NaN</td>\n      <td>NaN</td>\n    </tr>\n    <tr>\n      <th>274</th>\n      <td>Zz03_Bond Markets Unit European_Eua-9</td>\n      <td>Bond Markets Unit European Unit Of Account 9 (...</td>\n      <td>XBC</td>\n      <td>NaN</td>\n      <td>NaN</td>\n      <td>NaN</td>\n      <td>NaN</td>\n    </tr>\n    <tr>\n      <th>275</th>\n      <td>Zz04_Bond Markets Unit European_Eua-17</td>\n      <td>Bond Markets Unit European Unit Of Account 17 ...</td>\n      <td>XBD</td>\n      <td>NaN</td>\n      <td>NaN</td>\n      <td>NaN</td>\n      <td>NaN</td>\n    </tr>\n    <tr>\n      <th>276</th>\n      <td>Zz06_Testing_Code</td>\n      <td>Codes Specifically Reserved For Testing Purposes</td>\n      <td>XTS</td>\n      <td>NaN</td>\n      <td>NaN</td>\n      <td>NaN</td>\n      <td>NaN</td>\n    </tr>\n    <tr>\n      <th>277</th>\n      <td>Zz07_No_Currency</td>\n      <td>The Codes Assigned For Transactions Where No C...</td>\n      <td>XXX</td>\n      <td>NaN</td>\n      <td>NaN</td>\n      <td>NaN</td>\n      <td>NaN</td>\n    </tr>\n    <tr>\n      <th>278</th>\n      <td>Zz08_Gold</td>\n      <td>Gold</td>\n      <td>XAU</td>\n      <td>NaN</td>\n      <td>NaN</td>\n      <td>NaN</td>\n      <td>NaN</td>\n    </tr>\n    <tr>\n      <th>279</th>\n      <td>Zz09_Palladium</td>\n      <td>Palladium</td>\n      <td>XPD</td>\n      <td>NaN</td>\n      <td>NaN</td>\n      <td>NaN</td>\n      <td>NaN</td>\n    </tr>\n    <tr>\n      <th>280</th>\n      <td>Zz10_Platinum</td>\n      <td>Platinum</td>\n      <td>XPT</td>\n      <td>NaN</td>\n      <td>NaN</td>\n      <td>NaN</td>\n      <td>NaN</td>\n    </tr>\n    <tr>\n      <th>281</th>\n      <td>Zz11_Silver</td>\n      <td>Silver</td>\n      <td>XAG</td>\n      <td>NaN</td>\n      <td>NaN</td>\n      <td>NaN</td>\n      <td>NaN</td>\n    </tr>\n  </tbody>\n</table>\n</div>"
     },
     "execution_count": 93,
     "metadata": {},
     "output_type": "execute_result"
    }
   ],
   "source": [
    "currency = currency.merge(country, how='left', left_on='Country', right_on='Name')\n",
    "currency[currency['Name'].isnull()]"
   ],
   "metadata": {
    "collapsed": false,
    "pycharm": {
     "name": "#%%\n"
    }
   }
  },
  {
   "cell_type": "markdown",
   "source": [
    "#### Check language - country"
   ],
   "metadata": {
    "collapsed": false,
    "pycharm": {
     "name": "#%% md\n"
    }
   }
  },
  {
   "cell_type": "code",
   "execution_count": 94,
   "outputs": [
    {
     "data": {
      "text/plain": "                             Country  \\\n41                  CÃ£Â´Te D'Ivoire   \n50                        East Timor   \n116                       Micronesia   \n125                            Nauru   \n136     Palestinian State (Proposed)   \n153           SÃ£o TomÃ© E PrincÃ­pe   \n193          Vatican City (Holy See)   \n196  Western Sahara (Proposed State)   \n\n                                   Official Language Name Iso3 Continent  \\\n41                                           French   NaN  NaN       NaN   \n50                                Tetum, Portuguese   NaN  NaN       NaN   \n116                                         English   NaN  NaN       NaN   \n125                                         Nauruan   NaN  NaN       NaN   \n136                          Arabic, Hebrew, English  NaN  NaN       NaN   \n153                                      Portuguese   NaN  NaN       NaN   \n193  Italian, Latin, French, Various Other Languages  NaN  NaN       NaN   \n196                Hassaniya Arabic, Moroccan Arabic  NaN  NaN       NaN   \n\n    SubContinent  \n41           NaN  \n50           NaN  \n116          NaN  \n125          NaN  \n136          NaN  \n153          NaN  \n193          NaN  \n196          NaN  ",
      "text/html": "<div>\n<style scoped>\n    .dataframe tbody tr th:only-of-type {\n        vertical-align: middle;\n    }\n\n    .dataframe tbody tr th {\n        vertical-align: top;\n    }\n\n    .dataframe thead th {\n        text-align: right;\n    }\n</style>\n<table border=\"1\" class=\"dataframe\">\n  <thead>\n    <tr style=\"text-align: right;\">\n      <th></th>\n      <th>Country</th>\n      <th>Official Language</th>\n      <th>Name</th>\n      <th>Iso3</th>\n      <th>Continent</th>\n      <th>SubContinent</th>\n    </tr>\n  </thead>\n  <tbody>\n    <tr>\n      <th>41</th>\n      <td>CÃ£Â´Te D'Ivoire</td>\n      <td>French</td>\n      <td>NaN</td>\n      <td>NaN</td>\n      <td>NaN</td>\n      <td>NaN</td>\n    </tr>\n    <tr>\n      <th>50</th>\n      <td>East Timor</td>\n      <td>Tetum, Portuguese</td>\n      <td>NaN</td>\n      <td>NaN</td>\n      <td>NaN</td>\n      <td>NaN</td>\n    </tr>\n    <tr>\n      <th>116</th>\n      <td>Micronesia</td>\n      <td>English</td>\n      <td>NaN</td>\n      <td>NaN</td>\n      <td>NaN</td>\n      <td>NaN</td>\n    </tr>\n    <tr>\n      <th>125</th>\n      <td>Nauru</td>\n      <td>Nauruan</td>\n      <td>NaN</td>\n      <td>NaN</td>\n      <td>NaN</td>\n      <td>NaN</td>\n    </tr>\n    <tr>\n      <th>136</th>\n      <td>Palestinian State (Proposed)</td>\n      <td>Arabic, Hebrew, English</td>\n      <td>NaN</td>\n      <td>NaN</td>\n      <td>NaN</td>\n      <td>NaN</td>\n    </tr>\n    <tr>\n      <th>153</th>\n      <td>SÃ£o TomÃ© E PrincÃ­pe</td>\n      <td>Portuguese</td>\n      <td>NaN</td>\n      <td>NaN</td>\n      <td>NaN</td>\n      <td>NaN</td>\n    </tr>\n    <tr>\n      <th>193</th>\n      <td>Vatican City (Holy See)</td>\n      <td>Italian, Latin, French, Various Other Languages</td>\n      <td>NaN</td>\n      <td>NaN</td>\n      <td>NaN</td>\n      <td>NaN</td>\n    </tr>\n    <tr>\n      <th>196</th>\n      <td>Western Sahara (Proposed State)</td>\n      <td>Hassaniya Arabic, Moroccan Arabic</td>\n      <td>NaN</td>\n      <td>NaN</td>\n      <td>NaN</td>\n      <td>NaN</td>\n    </tr>\n  </tbody>\n</table>\n</div>"
     },
     "execution_count": 94,
     "metadata": {},
     "output_type": "execute_result"
    }
   ],
   "source": [
    "language = language.merge(country, how='left', left_on='Country', right_on='Name')\n",
    "language[language['Name'].isnull()]"
   ],
   "metadata": {
    "collapsed": false,
    "pycharm": {
     "name": "#%%\n"
    }
   }
  },
  {
   "cell_type": "markdown",
   "source": [
    "#### Check peace - country"
   ],
   "metadata": {
    "collapsed": false,
    "pycharm": {
     "name": "#%% md\n"
    }
   }
  },
  {
   "cell_type": "code",
   "execution_count": 95,
   "outputs": [
    {
     "data": {
      "text/plain": "      Rank                    Country Name Iso3 Continent SubContinent\n52    53.0                 The Gambia  NaN  NaN       NaN          NaN\n68    69.0                   Eswatini  NaN  NaN       NaN          NaN\n138  138.0                  Palestine  NaN  NaN       NaN          NaN\n155  155.0  Central African\\nRepublic  NaN  NaN       NaN          NaN",
      "text/html": "<div>\n<style scoped>\n    .dataframe tbody tr th:only-of-type {\n        vertical-align: middle;\n    }\n\n    .dataframe tbody tr th {\n        vertical-align: top;\n    }\n\n    .dataframe thead th {\n        text-align: right;\n    }\n</style>\n<table border=\"1\" class=\"dataframe\">\n  <thead>\n    <tr style=\"text-align: right;\">\n      <th></th>\n      <th>Rank</th>\n      <th>Country</th>\n      <th>Name</th>\n      <th>Iso3</th>\n      <th>Continent</th>\n      <th>SubContinent</th>\n    </tr>\n  </thead>\n  <tbody>\n    <tr>\n      <th>52</th>\n      <td>53.0</td>\n      <td>The Gambia</td>\n      <td>NaN</td>\n      <td>NaN</td>\n      <td>NaN</td>\n      <td>NaN</td>\n    </tr>\n    <tr>\n      <th>68</th>\n      <td>69.0</td>\n      <td>Eswatini</td>\n      <td>NaN</td>\n      <td>NaN</td>\n      <td>NaN</td>\n      <td>NaN</td>\n    </tr>\n    <tr>\n      <th>138</th>\n      <td>138.0</td>\n      <td>Palestine</td>\n      <td>NaN</td>\n      <td>NaN</td>\n      <td>NaN</td>\n      <td>NaN</td>\n    </tr>\n    <tr>\n      <th>155</th>\n      <td>155.0</td>\n      <td>Central African\\nRepublic</td>\n      <td>NaN</td>\n      <td>NaN</td>\n      <td>NaN</td>\n      <td>NaN</td>\n    </tr>\n  </tbody>\n</table>\n</div>"
     },
     "execution_count": 95,
     "metadata": {},
     "output_type": "execute_result"
    }
   ],
   "source": [
    "peace=peace.merge(country, how='left', left_on='Country', right_on='Name')\n",
    "peace[peace['Name'].isnull()]"
   ],
   "metadata": {
    "collapsed": false,
    "pycharm": {
     "name": "#%%\n"
    }
   }
  },
  {
   "cell_type": "markdown",
   "source": [
    "#### Check population - country"
   ],
   "metadata": {
    "collapsed": false,
    "pycharm": {
     "name": "#%% md\n"
    }
   }
  },
  {
   "cell_type": "code",
   "execution_count": 96,
   "outputs": [
    {
     "data": {
      "text/plain": "                                               Country Country Code  \\\n1                          Africa Eastern And Southern          AFE   \n3                           Africa Western And Central          AFW   \n7                                           Arab World          ARB   \n36                      Central Europe And The Baltics          CEB   \n49                              Caribbean Small States          CSS   \n61         East Asia & Pacific (Excluding High Income)          EAP   \n62                          Early-Demographic Dividend          EAR   \n63                                 East Asia & Pacific          EAS   \n64       Europe & Central Asia (Excluding High Income)          ECA   \n65                               Europe & Central Asia          ECS   \n68                                           Euro Area          EMU   \n72                                      European Union          EUU   \n73            Fragile And Conflict Affected Situations          FCS   \n83                                           Gibraltar          GIB   \n94                                         High Income          HIC   \n97              Heavily Indebted Poor Countries (Hipc)          HPC   \n101                                          Ibrd Only          IBD   \n102                                   Ida & Ibrd Total          IBT   \n103                                          Ida Total          IDA   \n104                                          Ida Blend          IDB   \n106                                           Ida Only          IDX   \n126  Latin America & Caribbean (Excluding High Income)          LAC   \n132                          Latin America & Caribbean          LCN   \n133       Least Developed Countries: Un Classification          LDC   \n134                                         Low Income          LIC   \n137                                Lower Middle Income          LMC   \n138                                Low & Middle Income          LMY   \n140                          Late-Demographic Dividend          LTE   \n151                         Middle East & North Africa          MEA   \n154                                      Middle Income          MIC   \n159  Middle East & North Africa (Excluding High Inc...          MNA   \n168                                      North America          NAC   \n177                                              Nauru          NRU   \n179                                       Oecd Members          OED   \n181                                 Other Small States          OSS   \n189                           Pre-Demographic Dividend          PRE   \n191                          Korea, Dem. People'S Rep.          PRK   \n195                        Pacific Island Small States          PSS   \n196                          Post-Demographic Dividend          PST   \n202                                         South Asia          SAS   \n213         Sub-Saharan Africa (Excluding High Income)          SSA   \n215                                 Sub-Saharan Africa          SSF   \n216                                       Small States          SST   \n222                                           Eswatini          SWZ   \n228         East Asia & Pacific (Ida & Ibrd Countries)          TEA   \n229       Europe & Central Asia (Ida & Ibrd Countries)          TEC   \n234  Latin America & The Caribbean (Ida & Ibrd Coun...          TLA   \n236  Middle East & North Africa (Ida & Ibrd Countries)          TMN   \n238                            South Asia (Ida & Ibrd)          TSA   \n239          Sub-Saharan Africa (Ida & Ibrd Countries)          TSS   \n247                                Upper Middle Income          UMC   \n253                             British Virgin Islands          VGB   \n257                                              World          WLD   \n\n         Pop_2021 Name Iso3 Continent SubContinent  \n1    6.946651e+08  NaN  NaN       NaN          NaN  \n3    4.708989e+08  NaN  NaN       NaN          NaN  \n7    4.445178e+08  NaN  NaN       NaN          NaN  \n36   1.016696e+08  NaN  NaN       NaN          NaN  \n49   7.481631e+06  NaN  NaN       NaN          NaN  \n61   2.122086e+09  NaN  NaN       NaN          NaN  \n62   3.373867e+09  NaN  NaN       NaN          NaN  \n63   2.368623e+09  NaN  NaN       NaN          NaN  \n64   4.018289e+08  NaN  NaN       NaN          NaN  \n65   9.237537e+08  NaN  NaN       NaN          NaN  \n68   3.425665e+08  NaN  NaN       NaN          NaN  \n72   4.469467e+08  NaN  NaN       NaN          NaN  \n73   9.829808e+08  NaN  NaN       NaN          NaN  \n83   3.369100e+04  NaN  NaN       NaN          NaN  \n94   1.241374e+09  NaN  NaN       NaN          NaN  \n97   8.455223e+08  NaN  NaN       NaN          NaN  \n101  4.895295e+09  NaN  NaN       NaN          NaN  \n102  6.642614e+09  NaN  NaN       NaN          NaN  \n103  1.747319e+09  NaN  NaN       NaN          NaN  \n104  5.868834e+08  NaN  NaN       NaN          NaN  \n106  1.160435e+09  NaN  NaN       NaN          NaN  \n126  5.962176e+08  NaN  NaN       NaN          NaN  \n132  6.580892e+08  NaN  NaN       NaN          NaN  \n133  1.081505e+09  NaN  NaN       NaN          NaN  \n134  7.019270e+08  NaN  NaN       NaN          NaN  \n137  3.363197e+09  NaN  NaN       NaN          NaN  \n138  6.566552e+09  NaN  NaN       NaN          NaN  \n140  2.322070e+09  NaN  NaN       NaN          NaN  \n151  4.724950e+08  NaN  NaN       NaN          NaN  \n154  5.864625e+09  NaN  NaN       NaN          NaN  \n159  4.030516e+08  NaN  NaN       NaN          NaN  \n168  3.702037e+08  NaN  NaN       NaN          NaN  \n177  1.087300e+04  NaN  NaN       NaN          NaN  \n179  1.375820e+09  NaN  NaN       NaN          NaN  \n181  3.246428e+07  NaN  NaN       NaN          NaN  \n189  9.971582e+08  NaN  NaN       NaN          NaN  \n191  2.588704e+07  NaN  NaN       NaN          NaN  \n195  2.566494e+06  NaN  NaN       NaN          NaN  \n196  1.116655e+09  NaN  NaN       NaN          NaN  \n202  1.877902e+09  NaN  NaN       NaN          NaN  \n213  1.165465e+09  NaN  NaN       NaN          NaN  \n215  1.165564e+09  NaN  NaN       NaN          NaN  \n216  4.251241e+07  NaN  NaN       NaN          NaN  \n222  1.172369e+06  NaN  NaN       NaN          NaN  \n228  2.096155e+09  NaN  NaN       NaN          NaN  \n229  4.626241e+08  NaN  NaN       NaN          NaN  \n234  6.422398e+08  NaN  NaN       NaN          NaN  \n236  3.981289e+08  NaN  NaN       NaN          NaN  \n238  1.877902e+09  NaN  NaN       NaN          NaN  \n239  1.165564e+09  NaN  NaN       NaN          NaN  \n247  2.501428e+09  NaN  NaN       NaN          NaN  \n253  3.042300e+04  NaN  NaN       NaN          NaN  \n257  7.836631e+09  NaN  NaN       NaN          NaN  ",
      "text/html": "<div>\n<style scoped>\n    .dataframe tbody tr th:only-of-type {\n        vertical-align: middle;\n    }\n\n    .dataframe tbody tr th {\n        vertical-align: top;\n    }\n\n    .dataframe thead th {\n        text-align: right;\n    }\n</style>\n<table border=\"1\" class=\"dataframe\">\n  <thead>\n    <tr style=\"text-align: right;\">\n      <th></th>\n      <th>Country</th>\n      <th>Country Code</th>\n      <th>Pop_2021</th>\n      <th>Name</th>\n      <th>Iso3</th>\n      <th>Continent</th>\n      <th>SubContinent</th>\n    </tr>\n  </thead>\n  <tbody>\n    <tr>\n      <th>1</th>\n      <td>Africa Eastern And Southern</td>\n      <td>AFE</td>\n      <td>6.946651e+08</td>\n      <td>NaN</td>\n      <td>NaN</td>\n      <td>NaN</td>\n      <td>NaN</td>\n    </tr>\n    <tr>\n      <th>3</th>\n      <td>Africa Western And Central</td>\n      <td>AFW</td>\n      <td>4.708989e+08</td>\n      <td>NaN</td>\n      <td>NaN</td>\n      <td>NaN</td>\n      <td>NaN</td>\n    </tr>\n    <tr>\n      <th>7</th>\n      <td>Arab World</td>\n      <td>ARB</td>\n      <td>4.445178e+08</td>\n      <td>NaN</td>\n      <td>NaN</td>\n      <td>NaN</td>\n      <td>NaN</td>\n    </tr>\n    <tr>\n      <th>36</th>\n      <td>Central Europe And The Baltics</td>\n      <td>CEB</td>\n      <td>1.016696e+08</td>\n      <td>NaN</td>\n      <td>NaN</td>\n      <td>NaN</td>\n      <td>NaN</td>\n    </tr>\n    <tr>\n      <th>49</th>\n      <td>Caribbean Small States</td>\n      <td>CSS</td>\n      <td>7.481631e+06</td>\n      <td>NaN</td>\n      <td>NaN</td>\n      <td>NaN</td>\n      <td>NaN</td>\n    </tr>\n    <tr>\n      <th>61</th>\n      <td>East Asia &amp; Pacific (Excluding High Income)</td>\n      <td>EAP</td>\n      <td>2.122086e+09</td>\n      <td>NaN</td>\n      <td>NaN</td>\n      <td>NaN</td>\n      <td>NaN</td>\n    </tr>\n    <tr>\n      <th>62</th>\n      <td>Early-Demographic Dividend</td>\n      <td>EAR</td>\n      <td>3.373867e+09</td>\n      <td>NaN</td>\n      <td>NaN</td>\n      <td>NaN</td>\n      <td>NaN</td>\n    </tr>\n    <tr>\n      <th>63</th>\n      <td>East Asia &amp; Pacific</td>\n      <td>EAS</td>\n      <td>2.368623e+09</td>\n      <td>NaN</td>\n      <td>NaN</td>\n      <td>NaN</td>\n      <td>NaN</td>\n    </tr>\n    <tr>\n      <th>64</th>\n      <td>Europe &amp; Central Asia (Excluding High Income)</td>\n      <td>ECA</td>\n      <td>4.018289e+08</td>\n      <td>NaN</td>\n      <td>NaN</td>\n      <td>NaN</td>\n      <td>NaN</td>\n    </tr>\n    <tr>\n      <th>65</th>\n      <td>Europe &amp; Central Asia</td>\n      <td>ECS</td>\n      <td>9.237537e+08</td>\n      <td>NaN</td>\n      <td>NaN</td>\n      <td>NaN</td>\n      <td>NaN</td>\n    </tr>\n    <tr>\n      <th>68</th>\n      <td>Euro Area</td>\n      <td>EMU</td>\n      <td>3.425665e+08</td>\n      <td>NaN</td>\n      <td>NaN</td>\n      <td>NaN</td>\n      <td>NaN</td>\n    </tr>\n    <tr>\n      <th>72</th>\n      <td>European Union</td>\n      <td>EUU</td>\n      <td>4.469467e+08</td>\n      <td>NaN</td>\n      <td>NaN</td>\n      <td>NaN</td>\n      <td>NaN</td>\n    </tr>\n    <tr>\n      <th>73</th>\n      <td>Fragile And Conflict Affected Situations</td>\n      <td>FCS</td>\n      <td>9.829808e+08</td>\n      <td>NaN</td>\n      <td>NaN</td>\n      <td>NaN</td>\n      <td>NaN</td>\n    </tr>\n    <tr>\n      <th>83</th>\n      <td>Gibraltar</td>\n      <td>GIB</td>\n      <td>3.369100e+04</td>\n      <td>NaN</td>\n      <td>NaN</td>\n      <td>NaN</td>\n      <td>NaN</td>\n    </tr>\n    <tr>\n      <th>94</th>\n      <td>High Income</td>\n      <td>HIC</td>\n      <td>1.241374e+09</td>\n      <td>NaN</td>\n      <td>NaN</td>\n      <td>NaN</td>\n      <td>NaN</td>\n    </tr>\n    <tr>\n      <th>97</th>\n      <td>Heavily Indebted Poor Countries (Hipc)</td>\n      <td>HPC</td>\n      <td>8.455223e+08</td>\n      <td>NaN</td>\n      <td>NaN</td>\n      <td>NaN</td>\n      <td>NaN</td>\n    </tr>\n    <tr>\n      <th>101</th>\n      <td>Ibrd Only</td>\n      <td>IBD</td>\n      <td>4.895295e+09</td>\n      <td>NaN</td>\n      <td>NaN</td>\n      <td>NaN</td>\n      <td>NaN</td>\n    </tr>\n    <tr>\n      <th>102</th>\n      <td>Ida &amp; Ibrd Total</td>\n      <td>IBT</td>\n      <td>6.642614e+09</td>\n      <td>NaN</td>\n      <td>NaN</td>\n      <td>NaN</td>\n      <td>NaN</td>\n    </tr>\n    <tr>\n      <th>103</th>\n      <td>Ida Total</td>\n      <td>IDA</td>\n      <td>1.747319e+09</td>\n      <td>NaN</td>\n      <td>NaN</td>\n      <td>NaN</td>\n      <td>NaN</td>\n    </tr>\n    <tr>\n      <th>104</th>\n      <td>Ida Blend</td>\n      <td>IDB</td>\n      <td>5.868834e+08</td>\n      <td>NaN</td>\n      <td>NaN</td>\n      <td>NaN</td>\n      <td>NaN</td>\n    </tr>\n    <tr>\n      <th>106</th>\n      <td>Ida Only</td>\n      <td>IDX</td>\n      <td>1.160435e+09</td>\n      <td>NaN</td>\n      <td>NaN</td>\n      <td>NaN</td>\n      <td>NaN</td>\n    </tr>\n    <tr>\n      <th>126</th>\n      <td>Latin America &amp; Caribbean (Excluding High Income)</td>\n      <td>LAC</td>\n      <td>5.962176e+08</td>\n      <td>NaN</td>\n      <td>NaN</td>\n      <td>NaN</td>\n      <td>NaN</td>\n    </tr>\n    <tr>\n      <th>132</th>\n      <td>Latin America &amp; Caribbean</td>\n      <td>LCN</td>\n      <td>6.580892e+08</td>\n      <td>NaN</td>\n      <td>NaN</td>\n      <td>NaN</td>\n      <td>NaN</td>\n    </tr>\n    <tr>\n      <th>133</th>\n      <td>Least Developed Countries: Un Classification</td>\n      <td>LDC</td>\n      <td>1.081505e+09</td>\n      <td>NaN</td>\n      <td>NaN</td>\n      <td>NaN</td>\n      <td>NaN</td>\n    </tr>\n    <tr>\n      <th>134</th>\n      <td>Low Income</td>\n      <td>LIC</td>\n      <td>7.019270e+08</td>\n      <td>NaN</td>\n      <td>NaN</td>\n      <td>NaN</td>\n      <td>NaN</td>\n    </tr>\n    <tr>\n      <th>137</th>\n      <td>Lower Middle Income</td>\n      <td>LMC</td>\n      <td>3.363197e+09</td>\n      <td>NaN</td>\n      <td>NaN</td>\n      <td>NaN</td>\n      <td>NaN</td>\n    </tr>\n    <tr>\n      <th>138</th>\n      <td>Low &amp; Middle Income</td>\n      <td>LMY</td>\n      <td>6.566552e+09</td>\n      <td>NaN</td>\n      <td>NaN</td>\n      <td>NaN</td>\n      <td>NaN</td>\n    </tr>\n    <tr>\n      <th>140</th>\n      <td>Late-Demographic Dividend</td>\n      <td>LTE</td>\n      <td>2.322070e+09</td>\n      <td>NaN</td>\n      <td>NaN</td>\n      <td>NaN</td>\n      <td>NaN</td>\n    </tr>\n    <tr>\n      <th>151</th>\n      <td>Middle East &amp; North Africa</td>\n      <td>MEA</td>\n      <td>4.724950e+08</td>\n      <td>NaN</td>\n      <td>NaN</td>\n      <td>NaN</td>\n      <td>NaN</td>\n    </tr>\n    <tr>\n      <th>154</th>\n      <td>Middle Income</td>\n      <td>MIC</td>\n      <td>5.864625e+09</td>\n      <td>NaN</td>\n      <td>NaN</td>\n      <td>NaN</td>\n      <td>NaN</td>\n    </tr>\n    <tr>\n      <th>159</th>\n      <td>Middle East &amp; North Africa (Excluding High Inc...</td>\n      <td>MNA</td>\n      <td>4.030516e+08</td>\n      <td>NaN</td>\n      <td>NaN</td>\n      <td>NaN</td>\n      <td>NaN</td>\n    </tr>\n    <tr>\n      <th>168</th>\n      <td>North America</td>\n      <td>NAC</td>\n      <td>3.702037e+08</td>\n      <td>NaN</td>\n      <td>NaN</td>\n      <td>NaN</td>\n      <td>NaN</td>\n    </tr>\n    <tr>\n      <th>177</th>\n      <td>Nauru</td>\n      <td>NRU</td>\n      <td>1.087300e+04</td>\n      <td>NaN</td>\n      <td>NaN</td>\n      <td>NaN</td>\n      <td>NaN</td>\n    </tr>\n    <tr>\n      <th>179</th>\n      <td>Oecd Members</td>\n      <td>OED</td>\n      <td>1.375820e+09</td>\n      <td>NaN</td>\n      <td>NaN</td>\n      <td>NaN</td>\n      <td>NaN</td>\n    </tr>\n    <tr>\n      <th>181</th>\n      <td>Other Small States</td>\n      <td>OSS</td>\n      <td>3.246428e+07</td>\n      <td>NaN</td>\n      <td>NaN</td>\n      <td>NaN</td>\n      <td>NaN</td>\n    </tr>\n    <tr>\n      <th>189</th>\n      <td>Pre-Demographic Dividend</td>\n      <td>PRE</td>\n      <td>9.971582e+08</td>\n      <td>NaN</td>\n      <td>NaN</td>\n      <td>NaN</td>\n      <td>NaN</td>\n    </tr>\n    <tr>\n      <th>191</th>\n      <td>Korea, Dem. People'S Rep.</td>\n      <td>PRK</td>\n      <td>2.588704e+07</td>\n      <td>NaN</td>\n      <td>NaN</td>\n      <td>NaN</td>\n      <td>NaN</td>\n    </tr>\n    <tr>\n      <th>195</th>\n      <td>Pacific Island Small States</td>\n      <td>PSS</td>\n      <td>2.566494e+06</td>\n      <td>NaN</td>\n      <td>NaN</td>\n      <td>NaN</td>\n      <td>NaN</td>\n    </tr>\n    <tr>\n      <th>196</th>\n      <td>Post-Demographic Dividend</td>\n      <td>PST</td>\n      <td>1.116655e+09</td>\n      <td>NaN</td>\n      <td>NaN</td>\n      <td>NaN</td>\n      <td>NaN</td>\n    </tr>\n    <tr>\n      <th>202</th>\n      <td>South Asia</td>\n      <td>SAS</td>\n      <td>1.877902e+09</td>\n      <td>NaN</td>\n      <td>NaN</td>\n      <td>NaN</td>\n      <td>NaN</td>\n    </tr>\n    <tr>\n      <th>213</th>\n      <td>Sub-Saharan Africa (Excluding High Income)</td>\n      <td>SSA</td>\n      <td>1.165465e+09</td>\n      <td>NaN</td>\n      <td>NaN</td>\n      <td>NaN</td>\n      <td>NaN</td>\n    </tr>\n    <tr>\n      <th>215</th>\n      <td>Sub-Saharan Africa</td>\n      <td>SSF</td>\n      <td>1.165564e+09</td>\n      <td>NaN</td>\n      <td>NaN</td>\n      <td>NaN</td>\n      <td>NaN</td>\n    </tr>\n    <tr>\n      <th>216</th>\n      <td>Small States</td>\n      <td>SST</td>\n      <td>4.251241e+07</td>\n      <td>NaN</td>\n      <td>NaN</td>\n      <td>NaN</td>\n      <td>NaN</td>\n    </tr>\n    <tr>\n      <th>222</th>\n      <td>Eswatini</td>\n      <td>SWZ</td>\n      <td>1.172369e+06</td>\n      <td>NaN</td>\n      <td>NaN</td>\n      <td>NaN</td>\n      <td>NaN</td>\n    </tr>\n    <tr>\n      <th>228</th>\n      <td>East Asia &amp; Pacific (Ida &amp; Ibrd Countries)</td>\n      <td>TEA</td>\n      <td>2.096155e+09</td>\n      <td>NaN</td>\n      <td>NaN</td>\n      <td>NaN</td>\n      <td>NaN</td>\n    </tr>\n    <tr>\n      <th>229</th>\n      <td>Europe &amp; Central Asia (Ida &amp; Ibrd Countries)</td>\n      <td>TEC</td>\n      <td>4.626241e+08</td>\n      <td>NaN</td>\n      <td>NaN</td>\n      <td>NaN</td>\n      <td>NaN</td>\n    </tr>\n    <tr>\n      <th>234</th>\n      <td>Latin America &amp; The Caribbean (Ida &amp; Ibrd Coun...</td>\n      <td>TLA</td>\n      <td>6.422398e+08</td>\n      <td>NaN</td>\n      <td>NaN</td>\n      <td>NaN</td>\n      <td>NaN</td>\n    </tr>\n    <tr>\n      <th>236</th>\n      <td>Middle East &amp; North Africa (Ida &amp; Ibrd Countries)</td>\n      <td>TMN</td>\n      <td>3.981289e+08</td>\n      <td>NaN</td>\n      <td>NaN</td>\n      <td>NaN</td>\n      <td>NaN</td>\n    </tr>\n    <tr>\n      <th>238</th>\n      <td>South Asia (Ida &amp; Ibrd)</td>\n      <td>TSA</td>\n      <td>1.877902e+09</td>\n      <td>NaN</td>\n      <td>NaN</td>\n      <td>NaN</td>\n      <td>NaN</td>\n    </tr>\n    <tr>\n      <th>239</th>\n      <td>Sub-Saharan Africa (Ida &amp; Ibrd Countries)</td>\n      <td>TSS</td>\n      <td>1.165564e+09</td>\n      <td>NaN</td>\n      <td>NaN</td>\n      <td>NaN</td>\n      <td>NaN</td>\n    </tr>\n    <tr>\n      <th>247</th>\n      <td>Upper Middle Income</td>\n      <td>UMC</td>\n      <td>2.501428e+09</td>\n      <td>NaN</td>\n      <td>NaN</td>\n      <td>NaN</td>\n      <td>NaN</td>\n    </tr>\n    <tr>\n      <th>253</th>\n      <td>British Virgin Islands</td>\n      <td>VGB</td>\n      <td>3.042300e+04</td>\n      <td>NaN</td>\n      <td>NaN</td>\n      <td>NaN</td>\n      <td>NaN</td>\n    </tr>\n    <tr>\n      <th>257</th>\n      <td>World</td>\n      <td>WLD</td>\n      <td>7.836631e+09</td>\n      <td>NaN</td>\n      <td>NaN</td>\n      <td>NaN</td>\n      <td>NaN</td>\n    </tr>\n  </tbody>\n</table>\n</div>"
     },
     "execution_count": 96,
     "metadata": {},
     "output_type": "execute_result"
    }
   ],
   "source": [
    "population=population.merge(country, how='left', left_on='Country', right_on='Name')\n",
    "population[population['Name'].isnull()]"
   ],
   "metadata": {
    "collapsed": false,
    "pycharm": {
     "name": "#%%\n"
    }
   }
  },
  {
   "cell_type": "markdown",
   "source": [
    "#### Check Religion - country"
   ],
   "metadata": {
    "collapsed": false,
    "pycharm": {
     "name": "#%% md\n"
    }
   }
  },
  {
   "cell_type": "code",
   "execution_count": 97,
   "outputs": [
    {
     "data": {
      "text/plain": "                              Country             Main Religion Name Iso3  \\\n1                            Anguilla                  Anglican  NaN  NaN   \n15             British Virgin Islands                 Methodist  NaN  NaN   \n24                       Cook Islands                 Christian  NaN  NaN   \n32        Falkland Islands (Malvinas)                 Christian  NaN  NaN   \n38                          Gibraltar            Roman Catholic  NaN  NaN   \n61   Micronesia (Federated States Of)            Roman Catholic  NaN  NaN   \n64                         Montserrat                  Anglican  NaN  NaN   \n71                               Niue             Ekalesia Niue  NaN  NaN   \n72                     Norfolk Island         Church Of England  NaN  NaN   \n86              Saint Helena Ex. Dep.         Church Of England  NaN  NaN   \n99                 State Of Palestine                    Islam   NaN  NaN   \n104                           Tokelau  Christian Congregational  NaN  NaN   \n\n    Continent SubContinent  \n1         NaN          NaN  \n15        NaN          NaN  \n24        NaN          NaN  \n32        NaN          NaN  \n38        NaN          NaN  \n61        NaN          NaN  \n64        NaN          NaN  \n71        NaN          NaN  \n72        NaN          NaN  \n86        NaN          NaN  \n99        NaN          NaN  \n104       NaN          NaN  ",
      "text/html": "<div>\n<style scoped>\n    .dataframe tbody tr th:only-of-type {\n        vertical-align: middle;\n    }\n\n    .dataframe tbody tr th {\n        vertical-align: top;\n    }\n\n    .dataframe thead th {\n        text-align: right;\n    }\n</style>\n<table border=\"1\" class=\"dataframe\">\n  <thead>\n    <tr style=\"text-align: right;\">\n      <th></th>\n      <th>Country</th>\n      <th>Main Religion</th>\n      <th>Name</th>\n      <th>Iso3</th>\n      <th>Continent</th>\n      <th>SubContinent</th>\n    </tr>\n  </thead>\n  <tbody>\n    <tr>\n      <th>1</th>\n      <td>Anguilla</td>\n      <td>Anglican</td>\n      <td>NaN</td>\n      <td>NaN</td>\n      <td>NaN</td>\n      <td>NaN</td>\n    </tr>\n    <tr>\n      <th>15</th>\n      <td>British Virgin Islands</td>\n      <td>Methodist</td>\n      <td>NaN</td>\n      <td>NaN</td>\n      <td>NaN</td>\n      <td>NaN</td>\n    </tr>\n    <tr>\n      <th>24</th>\n      <td>Cook Islands</td>\n      <td>Christian</td>\n      <td>NaN</td>\n      <td>NaN</td>\n      <td>NaN</td>\n      <td>NaN</td>\n    </tr>\n    <tr>\n      <th>32</th>\n      <td>Falkland Islands (Malvinas)</td>\n      <td>Christian</td>\n      <td>NaN</td>\n      <td>NaN</td>\n      <td>NaN</td>\n      <td>NaN</td>\n    </tr>\n    <tr>\n      <th>38</th>\n      <td>Gibraltar</td>\n      <td>Roman Catholic</td>\n      <td>NaN</td>\n      <td>NaN</td>\n      <td>NaN</td>\n      <td>NaN</td>\n    </tr>\n    <tr>\n      <th>61</th>\n      <td>Micronesia (Federated States Of)</td>\n      <td>Roman Catholic</td>\n      <td>NaN</td>\n      <td>NaN</td>\n      <td>NaN</td>\n      <td>NaN</td>\n    </tr>\n    <tr>\n      <th>64</th>\n      <td>Montserrat</td>\n      <td>Anglican</td>\n      <td>NaN</td>\n      <td>NaN</td>\n      <td>NaN</td>\n      <td>NaN</td>\n    </tr>\n    <tr>\n      <th>71</th>\n      <td>Niue</td>\n      <td>Ekalesia Niue</td>\n      <td>NaN</td>\n      <td>NaN</td>\n      <td>NaN</td>\n      <td>NaN</td>\n    </tr>\n    <tr>\n      <th>72</th>\n      <td>Norfolk Island</td>\n      <td>Church Of England</td>\n      <td>NaN</td>\n      <td>NaN</td>\n      <td>NaN</td>\n      <td>NaN</td>\n    </tr>\n    <tr>\n      <th>86</th>\n      <td>Saint Helena Ex. Dep.</td>\n      <td>Church Of England</td>\n      <td>NaN</td>\n      <td>NaN</td>\n      <td>NaN</td>\n      <td>NaN</td>\n    </tr>\n    <tr>\n      <th>99</th>\n      <td>State Of Palestine</td>\n      <td>Islam</td>\n      <td>NaN</td>\n      <td>NaN</td>\n      <td>NaN</td>\n      <td>NaN</td>\n    </tr>\n    <tr>\n      <th>104</th>\n      <td>Tokelau</td>\n      <td>Christian Congregational</td>\n      <td>NaN</td>\n      <td>NaN</td>\n      <td>NaN</td>\n      <td>NaN</td>\n    </tr>\n  </tbody>\n</table>\n</div>"
     },
     "execution_count": 97,
     "metadata": {},
     "output_type": "execute_result"
    }
   ],
   "source": [
    "religion=religion.merge(country, how='left', left_on='Country', right_on='Name')\n",
    "religion[religion['Name'].isnull()]"
   ],
   "metadata": {
    "collapsed": false,
    "pycharm": {
     "name": "#%%\n"
    }
   }
  },
  {
   "cell_type": "markdown",
   "source": [
    "#### Check WEF - country"
   ],
   "metadata": {
    "collapsed": false,
    "pycharm": {
     "name": "#%% md\n"
    }
   }
  },
  {
   "cell_type": "code",
   "execution_count": 98,
   "outputs": [
    {
     "data": {
      "text/plain": "Empty DataFrame\nColumns: [ISO Code, Economy, Region, Sub Region, Income Group, ('Travel & Tourism Development Index ', '2019 Value'), ('Travel & Tourism Development Index ', '2019 Rank'), ('Travel & Tourism Development Index ', '2021 Value'), ('Travel & Tourism Development Index ', '2021 Rank'), ('Travel & Tourism Development Index ', '% Dif Score'), ('Travel & Tourism Development Index ', 'Rank Change'), ('Safety and Security pillar', '2019 Value'), ('Safety and Security pillar', '2019 Rank'), ('Safety and Security pillar', '2021 Value'), ('Safety and Security pillar', '2021 Rank'), ('Safety and Security pillar', '% Dif Score'), ('Safety and Security pillar', 'Rank Change'), ('Health and Hygiene pillar', '2019 Value'), ('Health and Hygiene pillar', '2019 Rank'), ('Health and Hygiene pillar', '2021 Value'), ('Health and Hygiene pillar', '2021 Rank'), ('Health and Hygiene pillar', '% Dif Score'), ('Health and Hygiene pillar', 'Rank Change'), ('International Openness pillar', '2019 Value'), ('International Openness pillar', '2019 Rank'), ('International Openness pillar', '2021 Value'), ('International Openness pillar', '2021 Rank'), ('International Openness pillar', '% Dif Score'), ('International Openness pillar', 'Rank Change'), ('Price competitiveness pillar', '2019 Value'), ('Price competitiveness pillar', '2019 Rank'), ('Price competitiveness pillar', '2021 Value'), ('Price competitiveness pillar', '2021 Rank'), ('Price competitiveness pillar', '% Dif Score'), ('Price competitiveness pillar', 'Rank Change'), ('Air Transport Infrastructure pillar', '2019 Value'), ('Air Transport Infrastructure pillar', '2019 Rank'), ('Air Transport Infrastructure pillar', '2021 Value'), ('Air Transport Infrastructure pillar', '2021 Rank'), ('Air Transport Infrastructure pillar', '% Dif Score'), ('Air Transport Infrastructure pillar', 'Rank Change'), ('Ground and Port Infrastructure pillar', '2019 Value'), ('Ground and Port Infrastructure pillar', '2019 Rank'), ('Ground and Port Infrastructure pillar', '2021 Value'), ('Ground and Port Infrastructure pillar', '2021 Rank'), ('Ground and Port Infrastructure pillar', '% Dif Score'), ('Ground and Port Infrastructure pillar', 'Rank Change'), ('Tourist Service Infrastructure pillar', '2019 Value'), ('Tourist Service Infrastructure pillar', '2019 Rank'), ('Tourist Service Infrastructure pillar', '2021 Value'), ('Tourist Service Infrastructure pillar', '2021 Rank'), ('Tourist Service Infrastructure pillar', '% Dif Score'), ('Tourist Service Infrastructure pillar', 'Rank Change'), ('Natural Resources pillar', '2019 Value'), ('Natural Resources pillar', '2019 Rank'), ('Natural Resources pillar', '2021 Value'), ('Natural Resources pillar', '2021 Rank'), ('Natural Resources pillar', '% Dif Score'), ('Natural Resources pillar', 'Rank Change'), ('Cultural Resources pillar', '2019 Value'), ('Cultural Resources pillar', '2019 Rank'), ('Cultural Resources pillar', '2021 Value'), ('Cultural Resources pillar', '2021 Rank'), ('Cultural Resources pillar', '% Dif Score'), ('Cultural Resources pillar', 'Rank Change'), ('Environmental Sustainability pillar', '2019 Value'), ('Environmental Sustainability pillar', '2019 Rank'), ('Environmental Sustainability pillar', '2021 Value'), ('Environmental Sustainability pillar', '2021 Rank'), ('Environmental Sustainability pillar', '% Dif Score'), ('Environmental Sustainability pillar', 'Rank Change'), ('Socioeconomic Resilience & Conditions pillar', 'Rank Change'), ('T&T Demand Pressure & Impact pillar', '2019 Value'), ('T&T Demand Pressure & Impact pillar', '2019 Rank'), ('T&T Demand Pressure & Impact pillar', '2021 Value'), ('T&T Demand Pressure & Impact pillar', '2021 Rank'), ('T&T Demand Pressure & Impact pillar', '% Dif Score'), ('T&T Demand Pressure & Impact pillar', 'Rank Change'), Name, Iso3, Continent, SubContinent]\nIndex: []\n\n[0 rows x 82 columns]",
      "text/html": "<div>\n<style scoped>\n    .dataframe tbody tr th:only-of-type {\n        vertical-align: middle;\n    }\n\n    .dataframe tbody tr th {\n        vertical-align: top;\n    }\n\n    .dataframe thead th {\n        text-align: right;\n    }\n</style>\n<table border=\"1\" class=\"dataframe\">\n  <thead>\n    <tr style=\"text-align: right;\">\n      <th></th>\n      <th>ISO Code</th>\n      <th>Economy</th>\n      <th>Region</th>\n      <th>Sub Region</th>\n      <th>Income Group</th>\n      <th>('Travel &amp; Tourism Development Index ', '2019 Value')</th>\n      <th>('Travel &amp; Tourism Development Index ', '2019 Rank')</th>\n      <th>('Travel &amp; Tourism Development Index ', '2021 Value')</th>\n      <th>('Travel &amp; Tourism Development Index ', '2021 Rank')</th>\n      <th>('Travel &amp; Tourism Development Index ', '% Dif Score')</th>\n      <th>...</th>\n      <th>('T&amp;T Demand Pressure &amp; Impact pillar', '2019 Value')</th>\n      <th>('T&amp;T Demand Pressure &amp; Impact pillar', '2019 Rank')</th>\n      <th>('T&amp;T Demand Pressure &amp; Impact pillar', '2021 Value')</th>\n      <th>('T&amp;T Demand Pressure &amp; Impact pillar', '2021 Rank')</th>\n      <th>('T&amp;T Demand Pressure &amp; Impact pillar', '% Dif Score')</th>\n      <th>('T&amp;T Demand Pressure &amp; Impact pillar', 'Rank Change')</th>\n      <th>Name</th>\n      <th>Iso3</th>\n      <th>Continent</th>\n      <th>SubContinent</th>\n    </tr>\n  </thead>\n  <tbody>\n  </tbody>\n</table>\n<p>0 rows × 82 columns</p>\n</div>"
     },
     "execution_count": 98,
     "metadata": {},
     "output_type": "execute_result"
    }
   ],
   "source": [
    "wef_ttdi=wef_ttdi.merge(country, how='left', left_on='ISO Code', right_on='Iso3')\n",
    "wef_ttdi[wef_ttdi['Name'].isnull()]"
   ],
   "metadata": {
    "collapsed": false,
    "pycharm": {
     "name": "#%%\n"
    }
   }
  },
  {
   "cell_type": "markdown",
   "source": [
    "#### Check Average Restaurant and Accomodation Cost - ISO"
   ],
   "metadata": {
    "collapsed": false,
    "pycharm": {
     "name": "#%% md\n"
    }
   }
  },
  {
   "cell_type": "code",
   "execution_count": 99,
   "outputs": [
    {
     "data": {
      "text/plain": "                              Country Country Code  \\\n4                            Anguilla          AIA   \n28                            Bonaire          BON   \n51                   Congo, Dem. Rep.          COD   \n56                       Cook Islands          COK   \n73          East Asia & Pacific (Icp)          EAB   \n83        Europe & Central Asia (Icp)          ECB   \n145   Latin America & Caribbean (Icp)          LCB   \n171  Middle East & North Africa (Icp)          MEB   \n178                        Montserrat          MSR   \n184                             Nauru          NRU   \n194                              Niue          NIU   \n195               North America (Icp)          NAB   \n241                  South Asia (Icp)          SAB   \n251          Sub-Saharan Africa (Icp)          SSB   \n275                       Timor-Leste          TLS   \n277                           Tokelau          TKL   \n307           Virgin Islands, British          VGB   \n308                 Wallis And Futuna          WLF   \n309                West Bank And Gaza          PSE   \n310                             World          WLD   \n\n     Average Hotel and Accomodation Cost     Type Traveler Name Iso3  \\\n4                                 122.30  Comfort traveler  NaN  NaN   \n28                                156.57     Luxury Travel  NaN  NaN   \n51                                 67.02   Budget Traveler  NaN  NaN   \n56                                   NaN    Non Applicable  NaN  NaN   \n73                                 80.57  Comfort traveler  NaN  NaN   \n83                                120.78  Comfort traveler  NaN  NaN   \n145                                78.35  Comfort traveler  NaN  NaN   \n171                                64.50   Budget Traveler  NaN  NaN   \n178                                84.58  Comfort traveler  NaN  NaN   \n184                                  NaN    Non Applicable  NaN  NaN   \n194                                  NaN    Non Applicable  NaN  NaN   \n195                               128.94  Comfort traveler  NaN  NaN   \n241                                42.21   Budget Traveler  NaN  NaN   \n251                                46.83   Budget Traveler  NaN  NaN   \n275                                  NaN    Non Applicable  NaN  NaN   \n277                                  NaN    Non Applicable  NaN  NaN   \n307                               116.88  Comfort traveler  NaN  NaN   \n308                                  NaN    Non Applicable  NaN  NaN   \n309                                96.53  Comfort traveler  NaN  NaN   \n310                               100.00  Comfort traveler  NaN  NaN   \n\n    Continent SubContinent  \n4         NaN          NaN  \n28        NaN          NaN  \n51        NaN          NaN  \n56        NaN          NaN  \n73        NaN          NaN  \n83        NaN          NaN  \n145       NaN          NaN  \n171       NaN          NaN  \n178       NaN          NaN  \n184       NaN          NaN  \n194       NaN          NaN  \n195       NaN          NaN  \n241       NaN          NaN  \n251       NaN          NaN  \n275       NaN          NaN  \n277       NaN          NaN  \n307       NaN          NaN  \n308       NaN          NaN  \n309       NaN          NaN  \n310       NaN          NaN  ",
      "text/html": "<div>\n<style scoped>\n    .dataframe tbody tr th:only-of-type {\n        vertical-align: middle;\n    }\n\n    .dataframe tbody tr th {\n        vertical-align: top;\n    }\n\n    .dataframe thead th {\n        text-align: right;\n    }\n</style>\n<table border=\"1\" class=\"dataframe\">\n  <thead>\n    <tr style=\"text-align: right;\">\n      <th></th>\n      <th>Country</th>\n      <th>Country Code</th>\n      <th>Average Hotel and Accomodation Cost</th>\n      <th>Type Traveler</th>\n      <th>Name</th>\n      <th>Iso3</th>\n      <th>Continent</th>\n      <th>SubContinent</th>\n    </tr>\n  </thead>\n  <tbody>\n    <tr>\n      <th>4</th>\n      <td>Anguilla</td>\n      <td>AIA</td>\n      <td>122.30</td>\n      <td>Comfort traveler</td>\n      <td>NaN</td>\n      <td>NaN</td>\n      <td>NaN</td>\n      <td>NaN</td>\n    </tr>\n    <tr>\n      <th>28</th>\n      <td>Bonaire</td>\n      <td>BON</td>\n      <td>156.57</td>\n      <td>Luxury Travel</td>\n      <td>NaN</td>\n      <td>NaN</td>\n      <td>NaN</td>\n      <td>NaN</td>\n    </tr>\n    <tr>\n      <th>51</th>\n      <td>Congo, Dem. Rep.</td>\n      <td>COD</td>\n      <td>67.02</td>\n      <td>Budget Traveler</td>\n      <td>NaN</td>\n      <td>NaN</td>\n      <td>NaN</td>\n      <td>NaN</td>\n    </tr>\n    <tr>\n      <th>56</th>\n      <td>Cook Islands</td>\n      <td>COK</td>\n      <td>NaN</td>\n      <td>Non Applicable</td>\n      <td>NaN</td>\n      <td>NaN</td>\n      <td>NaN</td>\n      <td>NaN</td>\n    </tr>\n    <tr>\n      <th>73</th>\n      <td>East Asia &amp; Pacific (Icp)</td>\n      <td>EAB</td>\n      <td>80.57</td>\n      <td>Comfort traveler</td>\n      <td>NaN</td>\n      <td>NaN</td>\n      <td>NaN</td>\n      <td>NaN</td>\n    </tr>\n    <tr>\n      <th>83</th>\n      <td>Europe &amp; Central Asia (Icp)</td>\n      <td>ECB</td>\n      <td>120.78</td>\n      <td>Comfort traveler</td>\n      <td>NaN</td>\n      <td>NaN</td>\n      <td>NaN</td>\n      <td>NaN</td>\n    </tr>\n    <tr>\n      <th>145</th>\n      <td>Latin America &amp; Caribbean (Icp)</td>\n      <td>LCB</td>\n      <td>78.35</td>\n      <td>Comfort traveler</td>\n      <td>NaN</td>\n      <td>NaN</td>\n      <td>NaN</td>\n      <td>NaN</td>\n    </tr>\n    <tr>\n      <th>171</th>\n      <td>Middle East &amp; North Africa (Icp)</td>\n      <td>MEB</td>\n      <td>64.50</td>\n      <td>Budget Traveler</td>\n      <td>NaN</td>\n      <td>NaN</td>\n      <td>NaN</td>\n      <td>NaN</td>\n    </tr>\n    <tr>\n      <th>178</th>\n      <td>Montserrat</td>\n      <td>MSR</td>\n      <td>84.58</td>\n      <td>Comfort traveler</td>\n      <td>NaN</td>\n      <td>NaN</td>\n      <td>NaN</td>\n      <td>NaN</td>\n    </tr>\n    <tr>\n      <th>184</th>\n      <td>Nauru</td>\n      <td>NRU</td>\n      <td>NaN</td>\n      <td>Non Applicable</td>\n      <td>NaN</td>\n      <td>NaN</td>\n      <td>NaN</td>\n      <td>NaN</td>\n    </tr>\n    <tr>\n      <th>194</th>\n      <td>Niue</td>\n      <td>NIU</td>\n      <td>NaN</td>\n      <td>Non Applicable</td>\n      <td>NaN</td>\n      <td>NaN</td>\n      <td>NaN</td>\n      <td>NaN</td>\n    </tr>\n    <tr>\n      <th>195</th>\n      <td>North America (Icp)</td>\n      <td>NAB</td>\n      <td>128.94</td>\n      <td>Comfort traveler</td>\n      <td>NaN</td>\n      <td>NaN</td>\n      <td>NaN</td>\n      <td>NaN</td>\n    </tr>\n    <tr>\n      <th>241</th>\n      <td>South Asia (Icp)</td>\n      <td>SAB</td>\n      <td>42.21</td>\n      <td>Budget Traveler</td>\n      <td>NaN</td>\n      <td>NaN</td>\n      <td>NaN</td>\n      <td>NaN</td>\n    </tr>\n    <tr>\n      <th>251</th>\n      <td>Sub-Saharan Africa (Icp)</td>\n      <td>SSB</td>\n      <td>46.83</td>\n      <td>Budget Traveler</td>\n      <td>NaN</td>\n      <td>NaN</td>\n      <td>NaN</td>\n      <td>NaN</td>\n    </tr>\n    <tr>\n      <th>275</th>\n      <td>Timor-Leste</td>\n      <td>TLS</td>\n      <td>NaN</td>\n      <td>Non Applicable</td>\n      <td>NaN</td>\n      <td>NaN</td>\n      <td>NaN</td>\n      <td>NaN</td>\n    </tr>\n    <tr>\n      <th>277</th>\n      <td>Tokelau</td>\n      <td>TKL</td>\n      <td>NaN</td>\n      <td>Non Applicable</td>\n      <td>NaN</td>\n      <td>NaN</td>\n      <td>NaN</td>\n      <td>NaN</td>\n    </tr>\n    <tr>\n      <th>307</th>\n      <td>Virgin Islands, British</td>\n      <td>VGB</td>\n      <td>116.88</td>\n      <td>Comfort traveler</td>\n      <td>NaN</td>\n      <td>NaN</td>\n      <td>NaN</td>\n      <td>NaN</td>\n    </tr>\n    <tr>\n      <th>308</th>\n      <td>Wallis And Futuna</td>\n      <td>WLF</td>\n      <td>NaN</td>\n      <td>Non Applicable</td>\n      <td>NaN</td>\n      <td>NaN</td>\n      <td>NaN</td>\n      <td>NaN</td>\n    </tr>\n    <tr>\n      <th>309</th>\n      <td>West Bank And Gaza</td>\n      <td>PSE</td>\n      <td>96.53</td>\n      <td>Comfort traveler</td>\n      <td>NaN</td>\n      <td>NaN</td>\n      <td>NaN</td>\n      <td>NaN</td>\n    </tr>\n    <tr>\n      <th>310</th>\n      <td>World</td>\n      <td>WLD</td>\n      <td>100.00</td>\n      <td>Comfort traveler</td>\n      <td>NaN</td>\n      <td>NaN</td>\n      <td>NaN</td>\n      <td>NaN</td>\n    </tr>\n  </tbody>\n</table>\n</div>"
     },
     "execution_count": 99,
     "metadata": {},
     "output_type": "execute_result"
    }
   ],
   "source": [
    "avg_rest_hot_p = avg_rest_hot_p.merge(country, how='left', left_on='Country Code', right_on='Iso3')\n",
    "avg_rest_hot_p [avg_rest_hot_p ['Name'].isnull()]"
   ],
   "metadata": {
    "collapsed": false,
    "pycharm": {
     "name": "#%%\n"
    }
   }
  },
  {
   "cell_type": "code",
   "execution_count": 99,
   "outputs": [],
   "source": [],
   "metadata": {
    "collapsed": false,
    "pycharm": {
     "name": "#%%\n"
    }
   }
  },
  {
   "cell_type": "markdown",
   "id": "eeda36f8",
   "metadata": {
    "pycharm": {
     "name": "#%% md\n"
    }
   },
   "source": [
    "## Export cleaned dataset"
   ]
  },
  {
   "cell_type": "code",
   "execution_count": 89,
   "id": "40ca6c3b",
   "metadata": {
    "pycharm": {
     "name": "#%%\n"
    }
   },
   "outputs": [],
   "source": [
    "country.to_csv('../cleaned_data/country.csv')\n",
    "\n",
    "pop.to_csv('../cleaned_data/population.csv')\n",
    "\n",
    "clim.to_csv('../cleaned_data/climate.csv')\n",
    "\n",
    "curr.to_csv('../cleaned_data/currencies.csv')\n",
    "\n",
    "lang.to_csv('../cleaned_data/language.csv')\n",
    "\n",
    "rel.to_csv('../cleaned_data/religion.csv')\n",
    "\n",
    "peace.to_csv('../cleaned_data/peace_index.csv')\n",
    "\n",
    "wef2.to_csv('../cleaned_data/wef_ttdi.csv')\n",
    "\n",
    "avg_rest_hot_p.to_csv(\"../cleaned_data/avg_rest_hot_p.csv\")"
   ]
  },
  {
   "cell_type": "markdown",
   "id": "eff7f7dd",
   "metadata": {
    "pycharm": {
     "name": "#%% md\n"
    }
   },
   "source": [
    "## Checking composability\n",
    "Between country dataset and all the other\n",
    "based on either 'Country Name' or 'Country Code'"
   ]
  },
  {
   "cell_type": "code",
   "execution_count": 90,
   "id": "1b219e0c",
   "metadata": {
    "pycharm": {
     "name": "#%%\n"
    }
   },
   "outputs": [],
   "source": [
    "# get cleaned datasets\n",
    "country = pd.read_csv('../cleaned_data/country.csv', index_col=[0])\n",
    "climate = pd.read_csv('../cleaned_data/climate.csv', index_col=[0])\n",
    "currency = pd.read_csv('../cleaned_data/currencies.csv', index_col=[0])\n",
    "language = pd.read_csv('../cleaned_data/language.csv', encoding='latin-1', index_col=[0])\n",
    "peace = pd.read_csv('../cleaned_data/peace_index.csv', index_col=[0])\n",
    "population = pd.read_csv('../cleaned_data/population.csv', index_col=[0])\n",
    "religion = pd.read_csv('../cleaned_data/Religion.csv', index_col=[0])\n",
    "wef_ttdi = pd.read_csv('../cleaned_data/wef_ttdi.csv', index_col=[0])\n",
    "avg_rest_hot_p = pd.read_csv(\"../cleaned_data/avg_rest_hot_p.csv\", index_col=[0])"
   ]
  },
  {
   "cell_type": "markdown",
   "id": "dea2111c",
   "metadata": {
    "pycharm": {
     "name": "#%% md\n"
    }
   },
   "source": [
    "#### Check climate - country"
   ]
  },
  {
   "cell_type": "code",
   "execution_count": 91,
   "id": "bb3c65e6",
   "metadata": {
    "pycharm": {
     "name": "#%%\n"
    }
   },
   "outputs": [
    {
     "data": {
      "text/html": [
       "<div>\n",
       "<style scoped>\n",
       "    .dataframe tbody tr th:only-of-type {\n",
       "        vertical-align: middle;\n",
       "    }\n",
       "\n",
       "    .dataframe tbody tr th {\n",
       "        vertical-align: top;\n",
       "    }\n",
       "\n",
       "    .dataframe thead th {\n",
       "        text-align: right;\n",
       "    }\n",
       "</style>\n",
       "<table border=\"1\" class=\"dataframe\">\n",
       "  <thead>\n",
       "    <tr style=\"text-align: right;\">\n",
       "      <th></th>\n",
       "      <th>Country</th>\n",
       "      <th>Climate</th>\n",
       "    </tr>\n",
       "  </thead>\n",
       "  <tbody>\n",
       "    <tr>\n",
       "      <th>0</th>\n",
       "      <td>Afghanistan</td>\n",
       "      <td>Arid To Semiarid; Cold Winters And Hot Summers</td>\n",
       "    </tr>\n",
       "    <tr>\n",
       "      <th>1</th>\n",
       "      <td>Akrotiri</td>\n",
       "      <td>Temperate; Mediterranean With Hot, Dry Summers...</td>\n",
       "    </tr>\n",
       "    <tr>\n",
       "      <th>2</th>\n",
       "      <td>Albania</td>\n",
       "      <td>Mild Temperate; Cool, Cloudy, Wet Winters; Hot...</td>\n",
       "    </tr>\n",
       "    <tr>\n",
       "      <th>3</th>\n",
       "      <td>Algeria</td>\n",
       "      <td>Arid To Semiarid; Mild, Wet Winters With Hot, ...</td>\n",
       "    </tr>\n",
       "    <tr>\n",
       "      <th>4</th>\n",
       "      <td>American Samoa</td>\n",
       "      <td>Tropical Marine, Moderated By Southeast Trade ...</td>\n",
       "    </tr>\n",
       "  </tbody>\n",
       "</table>\n",
       "</div>"
      ],
      "text/plain": [
       "          Country                                            Climate\n",
       "0     Afghanistan     Arid To Semiarid; Cold Winters And Hot Summers\n",
       "1        Akrotiri  Temperate; Mediterranean With Hot, Dry Summers...\n",
       "2         Albania  Mild Temperate; Cool, Cloudy, Wet Winters; Hot...\n",
       "3         Algeria  Arid To Semiarid; Mild, Wet Winters With Hot, ...\n",
       "4  American Samoa  Tropical Marine, Moderated By Southeast Trade ..."
      ]
     },
     "execution_count": 91,
     "metadata": {},
     "output_type": "execute_result"
    }
   ],
   "source": [
    "climate.head()"
   ]
  },
  {
   "cell_type": "code",
   "execution_count": 92,
   "id": "efd0eac5",
   "metadata": {
    "pycharm": {
     "name": "#%%\n"
    }
   },
   "outputs": [
    {
     "data": {
      "text/html": [
       "<div>\n",
       "<style scoped>\n",
       "    .dataframe tbody tr th:only-of-type {\n",
       "        vertical-align: middle;\n",
       "    }\n",
       "\n",
       "    .dataframe tbody tr th {\n",
       "        vertical-align: top;\n",
       "    }\n",
       "\n",
       "    .dataframe thead th {\n",
       "        text-align: right;\n",
       "    }\n",
       "</style>\n",
       "<table border=\"1\" class=\"dataframe\">\n",
       "  <thead>\n",
       "    <tr style=\"text-align: right;\">\n",
       "      <th></th>\n",
       "      <th>Country</th>\n",
       "      <th>Climate</th>\n",
       "      <th>Name</th>\n",
       "      <th>Iso3</th>\n",
       "      <th>Continent</th>\n",
       "      <th>SubContinent</th>\n",
       "    </tr>\n",
       "  </thead>\n",
       "  <tbody>\n",
       "    <tr>\n",
       "      <th>1</th>\n",
       "      <td>Akrotiri</td>\n",
       "      <td>Temperate; Mediterranean With Hot, Dry Summers...</td>\n",
       "      <td>NaN</td>\n",
       "      <td>NaN</td>\n",
       "      <td>NaN</td>\n",
       "      <td>NaN</td>\n",
       "    </tr>\n",
       "    <tr>\n",
       "      <th>7</th>\n",
       "      <td>Anguilla</td>\n",
       "      <td>Tropical; Moderated By Northeast Trade Winds</td>\n",
       "      <td>NaN</td>\n",
       "      <td>NaN</td>\n",
       "      <td>NaN</td>\n",
       "      <td>NaN</td>\n",
       "    </tr>\n",
       "    <tr>\n",
       "      <th>8</th>\n",
       "      <td>Antarctica</td>\n",
       "      <td>Severe Low Temperatures Vary With Latitude, El...</td>\n",
       "      <td>NaN</td>\n",
       "      <td>NaN</td>\n",
       "      <td>NaN</td>\n",
       "      <td>NaN</td>\n",
       "    </tr>\n",
       "    <tr>\n",
       "      <th>10</th>\n",
       "      <td>Arctic Ocean</td>\n",
       "      <td>Polar Climate Characterized By Persistent Cold...</td>\n",
       "      <td>NaN</td>\n",
       "      <td>NaN</td>\n",
       "      <td>NaN</td>\n",
       "      <td>NaN</td>\n",
       "    </tr>\n",
       "    <tr>\n",
       "      <th>14</th>\n",
       "      <td>Ashmore And Cartier Islands</td>\n",
       "      <td>Tropical</td>\n",
       "      <td>NaN</td>\n",
       "      <td>NaN</td>\n",
       "      <td>NaN</td>\n",
       "      <td>NaN</td>\n",
       "    </tr>\n",
       "    <tr>\n",
       "      <th>...</th>\n",
       "      <td>...</td>\n",
       "      <td>...</td>\n",
       "      <td>...</td>\n",
       "      <td>...</td>\n",
       "      <td>...</td>\n",
       "      <td>...</td>\n",
       "    </tr>\n",
       "    <tr>\n",
       "      <th>270</th>\n",
       "      <td>Virgin Islands</td>\n",
       "      <td>Subtropical, Tempered By Easterly Trade Winds,...</td>\n",
       "      <td>NaN</td>\n",
       "      <td>NaN</td>\n",
       "      <td>NaN</td>\n",
       "      <td>NaN</td>\n",
       "    </tr>\n",
       "    <tr>\n",
       "      <th>271</th>\n",
       "      <td>Wake Island</td>\n",
       "      <td>Tropical</td>\n",
       "      <td>NaN</td>\n",
       "      <td>NaN</td>\n",
       "      <td>NaN</td>\n",
       "      <td>NaN</td>\n",
       "    </tr>\n",
       "    <tr>\n",
       "      <th>272</th>\n",
       "      <td>Wallis And Futuna</td>\n",
       "      <td>Tropical; Hot, Rainy Season (November To April...</td>\n",
       "      <td>NaN</td>\n",
       "      <td>NaN</td>\n",
       "      <td>NaN</td>\n",
       "      <td>NaN</td>\n",
       "    </tr>\n",
       "    <tr>\n",
       "      <th>273</th>\n",
       "      <td>West Bank</td>\n",
       "      <td>Temperate; Temperature And Precipitation Vary ...</td>\n",
       "      <td>NaN</td>\n",
       "      <td>NaN</td>\n",
       "      <td>NaN</td>\n",
       "      <td>NaN</td>\n",
       "    </tr>\n",
       "    <tr>\n",
       "      <th>274</th>\n",
       "      <td>Western Sahara</td>\n",
       "      <td>Hot, Dry Desert; Rain Is Rare; Cold Offshore A...</td>\n",
       "      <td>NaN</td>\n",
       "      <td>NaN</td>\n",
       "      <td>NaN</td>\n",
       "      <td>NaN</td>\n",
       "    </tr>\n",
       "  </tbody>\n",
       "</table>\n",
       "<p>73 rows × 6 columns</p>\n",
       "</div>"
      ],
      "text/plain": [
       "                         Country  \\\n",
       "1                       Akrotiri   \n",
       "7                       Anguilla   \n",
       "8                     Antarctica   \n",
       "10                  Arctic Ocean   \n",
       "14   Ashmore And Cartier Islands   \n",
       "..                           ...   \n",
       "270               Virgin Islands   \n",
       "271                  Wake Island   \n",
       "272            Wallis And Futuna   \n",
       "273                    West Bank   \n",
       "274               Western Sahara   \n",
       "\n",
       "                                               Climate Name Iso3 Continent  \\\n",
       "1    Temperate; Mediterranean With Hot, Dry Summers...  NaN  NaN       NaN   \n",
       "7         Tropical; Moderated By Northeast Trade Winds  NaN  NaN       NaN   \n",
       "8    Severe Low Temperatures Vary With Latitude, El...  NaN  NaN       NaN   \n",
       "10   Polar Climate Characterized By Persistent Cold...  NaN  NaN       NaN   \n",
       "14                                            Tropical  NaN  NaN       NaN   \n",
       "..                                                 ...  ...  ...       ...   \n",
       "270  Subtropical, Tempered By Easterly Trade Winds,...  NaN  NaN       NaN   \n",
       "271                                           Tropical  NaN  NaN       NaN   \n",
       "272  Tropical; Hot, Rainy Season (November To April...  NaN  NaN       NaN   \n",
       "273  Temperate; Temperature And Precipitation Vary ...  NaN  NaN       NaN   \n",
       "274  Hot, Dry Desert; Rain Is Rare; Cold Offshore A...  NaN  NaN       NaN   \n",
       "\n",
       "    SubContinent  \n",
       "1            NaN  \n",
       "7            NaN  \n",
       "8            NaN  \n",
       "10           NaN  \n",
       "14           NaN  \n",
       "..           ...  \n",
       "270          NaN  \n",
       "271          NaN  \n",
       "272          NaN  \n",
       "273          NaN  \n",
       "274          NaN  \n",
       "\n",
       "[73 rows x 6 columns]"
      ]
     },
     "execution_count": 92,
     "metadata": {},
     "output_type": "execute_result"
    }
   ],
   "source": [
    "climate = climate.merge(country, how='left', left_on='Country', right_on='Name')\n",
    "climate[climate['Name'].isnull()]"
   ]
  },
  {
   "cell_type": "markdown",
   "id": "de97fa56",
   "metadata": {
    "pycharm": {
     "name": "#%% md\n"
    }
   },
   "source": [
    "The rows that cannot be joined with country dataset do not seem like a proper country, so we are going to ignore it."
   ]
  },
  {
   "cell_type": "markdown",
   "id": "d1b68269",
   "metadata": {
    "pycharm": {
     "name": "#%% md\n"
    }
   },
   "source": [
    "#### Check Currency - Country"
   ]
  },
  {
   "cell_type": "code",
   "execution_count": 93,
   "id": "894ddfa3",
   "metadata": {
    "pycharm": {
     "name": "#%%\n"
    }
   },
   "outputs": [
    {
     "data": {
      "text/html": [
       "<div>\n",
       "<style scoped>\n",
       "    .dataframe tbody tr th:only-of-type {\n",
       "        vertical-align: middle;\n",
       "    }\n",
       "\n",
       "    .dataframe tbody tr th {\n",
       "        vertical-align: top;\n",
       "    }\n",
       "\n",
       "    .dataframe thead th {\n",
       "        text-align: right;\n",
       "    }\n",
       "</style>\n",
       "<table border=\"1\" class=\"dataframe\">\n",
       "  <thead>\n",
       "    <tr style=\"text-align: right;\">\n",
       "      <th></th>\n",
       "      <th>Country</th>\n",
       "      <th>Currency</th>\n",
       "      <th>Currency Code</th>\n",
       "      <th>Name</th>\n",
       "      <th>Iso3</th>\n",
       "      <th>Continent</th>\n",
       "      <th>SubContinent</th>\n",
       "    </tr>\n",
       "  </thead>\n",
       "  <tbody>\n",
       "    <tr>\n",
       "      <th>1</th>\n",
       "      <td>Åland Islands</td>\n",
       "      <td>Euro</td>\n",
       "      <td>EUR</td>\n",
       "      <td>NaN</td>\n",
       "      <td>NaN</td>\n",
       "      <td>NaN</td>\n",
       "      <td>NaN</td>\n",
       "    </tr>\n",
       "    <tr>\n",
       "      <th>7</th>\n",
       "      <td>Anguilla</td>\n",
       "      <td>East Caribbean Dollar</td>\n",
       "      <td>XCD</td>\n",
       "      <td>NaN</td>\n",
       "      <td>NaN</td>\n",
       "      <td>NaN</td>\n",
       "      <td>NaN</td>\n",
       "    </tr>\n",
       "    <tr>\n",
       "      <th>8</th>\n",
       "      <td>Antarctica</td>\n",
       "      <td>No Universal Currency</td>\n",
       "      <td>Non Applicable</td>\n",
       "      <td>NaN</td>\n",
       "      <td>NaN</td>\n",
       "      <td>NaN</td>\n",
       "      <td>NaN</td>\n",
       "    </tr>\n",
       "    <tr>\n",
       "      <th>29</th>\n",
       "      <td>Bonaire, Sint Eustatius And Saba</td>\n",
       "      <td>Us Dollar</td>\n",
       "      <td>USD</td>\n",
       "      <td>NaN</td>\n",
       "      <td>NaN</td>\n",
       "      <td>NaN</td>\n",
       "      <td>NaN</td>\n",
       "    </tr>\n",
       "    <tr>\n",
       "      <th>32</th>\n",
       "      <td>Bouvet Island</td>\n",
       "      <td>Norwegian Krone</td>\n",
       "      <td>NOK</td>\n",
       "      <td>NaN</td>\n",
       "      <td>NaN</td>\n",
       "      <td>NaN</td>\n",
       "      <td>NaN</td>\n",
       "    </tr>\n",
       "    <tr>\n",
       "      <th>34</th>\n",
       "      <td>British Indian Ocean Territory</td>\n",
       "      <td>Us Dollar</td>\n",
       "      <td>USD</td>\n",
       "      <td>NaN</td>\n",
       "      <td>NaN</td>\n",
       "      <td>NaN</td>\n",
       "      <td>NaN</td>\n",
       "    </tr>\n",
       "    <tr>\n",
       "      <th>49</th>\n",
       "      <td>Christmas Island</td>\n",
       "      <td>Australian Dollar</td>\n",
       "      <td>AUD</td>\n",
       "      <td>NaN</td>\n",
       "      <td>NaN</td>\n",
       "      <td>NaN</td>\n",
       "      <td>NaN</td>\n",
       "    </tr>\n",
       "    <tr>\n",
       "      <th>50</th>\n",
       "      <td>Cocos Keeling Islands</td>\n",
       "      <td>Australian Dollar</td>\n",
       "      <td>AUD</td>\n",
       "      <td>NaN</td>\n",
       "      <td>NaN</td>\n",
       "      <td>NaN</td>\n",
       "      <td>NaN</td>\n",
       "    </tr>\n",
       "    <tr>\n",
       "      <th>56</th>\n",
       "      <td>Cook Islands</td>\n",
       "      <td>New Zealand Dollar</td>\n",
       "      <td>NZD</td>\n",
       "      <td>NaN</td>\n",
       "      <td>NaN</td>\n",
       "      <td>NaN</td>\n",
       "      <td>NaN</td>\n",
       "    </tr>\n",
       "    <tr>\n",
       "      <th>62</th>\n",
       "      <td>Curaçao</td>\n",
       "      <td>Netherlands Antillean Guilder</td>\n",
       "      <td>ANG</td>\n",
       "      <td>NaN</td>\n",
       "      <td>NaN</td>\n",
       "      <td>NaN</td>\n",
       "      <td>NaN</td>\n",
       "    </tr>\n",
       "    <tr>\n",
       "      <th>76</th>\n",
       "      <td>Eswatini</td>\n",
       "      <td>Lilangeni</td>\n",
       "      <td>SZL</td>\n",
       "      <td>NaN</td>\n",
       "      <td>NaN</td>\n",
       "      <td>NaN</td>\n",
       "      <td>NaN</td>\n",
       "    </tr>\n",
       "    <tr>\n",
       "      <th>78</th>\n",
       "      <td>European Union</td>\n",
       "      <td>Euro</td>\n",
       "      <td>EUR</td>\n",
       "      <td>NaN</td>\n",
       "      <td>NaN</td>\n",
       "      <td>NaN</td>\n",
       "      <td>NaN</td>\n",
       "    </tr>\n",
       "    <tr>\n",
       "      <th>79</th>\n",
       "      <td>Falkland Islands</td>\n",
       "      <td>Falkland Islands Pound</td>\n",
       "      <td>FKP</td>\n",
       "      <td>NaN</td>\n",
       "      <td>NaN</td>\n",
       "      <td>NaN</td>\n",
       "      <td>NaN</td>\n",
       "    </tr>\n",
       "    <tr>\n",
       "      <th>86</th>\n",
       "      <td>French Southern Territories</td>\n",
       "      <td>Euro</td>\n",
       "      <td>EUR</td>\n",
       "      <td>NaN</td>\n",
       "      <td>NaN</td>\n",
       "      <td>NaN</td>\n",
       "      <td>NaN</td>\n",
       "    </tr>\n",
       "    <tr>\n",
       "      <th>92</th>\n",
       "      <td>Gibraltar</td>\n",
       "      <td>Gibraltar Pound</td>\n",
       "      <td>GIP</td>\n",
       "      <td>NaN</td>\n",
       "      <td>NaN</td>\n",
       "      <td>NaN</td>\n",
       "      <td>NaN</td>\n",
       "    </tr>\n",
       "    <tr>\n",
       "      <th>96</th>\n",
       "      <td>Guadeloupe</td>\n",
       "      <td>Euro</td>\n",
       "      <td>EUR</td>\n",
       "      <td>NaN</td>\n",
       "      <td>NaN</td>\n",
       "      <td>NaN</td>\n",
       "      <td>NaN</td>\n",
       "    </tr>\n",
       "    <tr>\n",
       "      <th>99</th>\n",
       "      <td>Guernsey</td>\n",
       "      <td>Pound Sterling</td>\n",
       "      <td>GBP</td>\n",
       "      <td>NaN</td>\n",
       "      <td>NaN</td>\n",
       "      <td>NaN</td>\n",
       "      <td>NaN</td>\n",
       "    </tr>\n",
       "    <tr>\n",
       "      <th>105</th>\n",
       "      <td>Heard Island And Mcdonald Islands</td>\n",
       "      <td>Australian Dollar</td>\n",
       "      <td>AUD</td>\n",
       "      <td>NaN</td>\n",
       "      <td>NaN</td>\n",
       "      <td>NaN</td>\n",
       "      <td>NaN</td>\n",
       "    </tr>\n",
       "    <tr>\n",
       "      <th>106</th>\n",
       "      <td>Holy See</td>\n",
       "      <td>Euro</td>\n",
       "      <td>EUR</td>\n",
       "      <td>NaN</td>\n",
       "      <td>NaN</td>\n",
       "      <td>NaN</td>\n",
       "      <td>NaN</td>\n",
       "    </tr>\n",
       "    <tr>\n",
       "      <th>113</th>\n",
       "      <td>International Monetary Fund</td>\n",
       "      <td>Sdr (Special Drawing Right)</td>\n",
       "      <td>XDR</td>\n",
       "      <td>NaN</td>\n",
       "      <td>NaN</td>\n",
       "      <td>NaN</td>\n",
       "      <td>NaN</td>\n",
       "    </tr>\n",
       "    <tr>\n",
       "      <th>122</th>\n",
       "      <td>Jersey</td>\n",
       "      <td>Pound Sterling</td>\n",
       "      <td>GBP</td>\n",
       "      <td>NaN</td>\n",
       "      <td>NaN</td>\n",
       "      <td>NaN</td>\n",
       "      <td>NaN</td>\n",
       "    </tr>\n",
       "    <tr>\n",
       "      <th>151</th>\n",
       "      <td>Martinique</td>\n",
       "      <td>Euro</td>\n",
       "      <td>EUR</td>\n",
       "      <td>NaN</td>\n",
       "      <td>NaN</td>\n",
       "      <td>NaN</td>\n",
       "      <td>NaN</td>\n",
       "    </tr>\n",
       "    <tr>\n",
       "      <th>154</th>\n",
       "      <td>Mayotte</td>\n",
       "      <td>Euro</td>\n",
       "      <td>EUR</td>\n",
       "      <td>NaN</td>\n",
       "      <td>NaN</td>\n",
       "      <td>NaN</td>\n",
       "      <td>NaN</td>\n",
       "    </tr>\n",
       "    <tr>\n",
       "      <th>155</th>\n",
       "      <td>Member Countries Of The African Development Ba...</td>\n",
       "      <td>Adb Unit Of Account</td>\n",
       "      <td>XUA</td>\n",
       "      <td>NaN</td>\n",
       "      <td>NaN</td>\n",
       "      <td>NaN</td>\n",
       "      <td>NaN</td>\n",
       "    </tr>\n",
       "    <tr>\n",
       "      <th>158</th>\n",
       "      <td>Micronesia</td>\n",
       "      <td>Us Dollar</td>\n",
       "      <td>USD</td>\n",
       "      <td>NaN</td>\n",
       "      <td>NaN</td>\n",
       "      <td>NaN</td>\n",
       "      <td>NaN</td>\n",
       "    </tr>\n",
       "    <tr>\n",
       "      <th>163</th>\n",
       "      <td>Montserrat</td>\n",
       "      <td>East Caribbean Dollar</td>\n",
       "      <td>XCD</td>\n",
       "      <td>NaN</td>\n",
       "      <td>NaN</td>\n",
       "      <td>NaN</td>\n",
       "      <td>NaN</td>\n",
       "    </tr>\n",
       "    <tr>\n",
       "      <th>169</th>\n",
       "      <td>Nauru</td>\n",
       "      <td>Australian Dollar</td>\n",
       "      <td>AUD</td>\n",
       "      <td>NaN</td>\n",
       "      <td>NaN</td>\n",
       "      <td>NaN</td>\n",
       "      <td>NaN</td>\n",
       "    </tr>\n",
       "    <tr>\n",
       "      <th>177</th>\n",
       "      <td>Niue</td>\n",
       "      <td>New Zealand Dollar</td>\n",
       "      <td>NZD</td>\n",
       "      <td>NaN</td>\n",
       "      <td>NaN</td>\n",
       "      <td>NaN</td>\n",
       "      <td>NaN</td>\n",
       "    </tr>\n",
       "    <tr>\n",
       "      <th>178</th>\n",
       "      <td>Norfolk Island</td>\n",
       "      <td>Australian Dollar</td>\n",
       "      <td>AUD</td>\n",
       "      <td>NaN</td>\n",
       "      <td>NaN</td>\n",
       "      <td>NaN</td>\n",
       "      <td>NaN</td>\n",
       "    </tr>\n",
       "    <tr>\n",
       "      <th>184</th>\n",
       "      <td>Palestine, State Of</td>\n",
       "      <td>No Universal Currency</td>\n",
       "      <td>Non Applicable</td>\n",
       "      <td>NaN</td>\n",
       "      <td>NaN</td>\n",
       "      <td>NaN</td>\n",
       "      <td>NaN</td>\n",
       "    </tr>\n",
       "    <tr>\n",
       "      <th>191</th>\n",
       "      <td>Pitcairn</td>\n",
       "      <td>New Zealand Dollar</td>\n",
       "      <td>NZD</td>\n",
       "      <td>NaN</td>\n",
       "      <td>NaN</td>\n",
       "      <td>NaN</td>\n",
       "      <td>NaN</td>\n",
       "    </tr>\n",
       "    <tr>\n",
       "      <th>196</th>\n",
       "      <td>Réunion</td>\n",
       "      <td>Euro</td>\n",
       "      <td>EUR</td>\n",
       "      <td>NaN</td>\n",
       "      <td>NaN</td>\n",
       "      <td>NaN</td>\n",
       "      <td>NaN</td>\n",
       "    </tr>\n",
       "    <tr>\n",
       "      <th>200</th>\n",
       "      <td>Saint Barthélemy</td>\n",
       "      <td>Euro</td>\n",
       "      <td>EUR</td>\n",
       "      <td>NaN</td>\n",
       "      <td>NaN</td>\n",
       "      <td>NaN</td>\n",
       "      <td>NaN</td>\n",
       "    </tr>\n",
       "    <tr>\n",
       "      <th>201</th>\n",
       "      <td>Saint Helena, Ascension And Tristan Da Cunha</td>\n",
       "      <td>Saint Helena Pound</td>\n",
       "      <td>SHP</td>\n",
       "      <td>NaN</td>\n",
       "      <td>NaN</td>\n",
       "      <td>NaN</td>\n",
       "      <td>NaN</td>\n",
       "    </tr>\n",
       "    <tr>\n",
       "      <th>204</th>\n",
       "      <td>Saint Martin</td>\n",
       "      <td>Euro</td>\n",
       "      <td>EUR</td>\n",
       "      <td>NaN</td>\n",
       "      <td>NaN</td>\n",
       "      <td>NaN</td>\n",
       "      <td>NaN</td>\n",
       "    </tr>\n",
       "    <tr>\n",
       "      <th>205</th>\n",
       "      <td>Saint Pierre And Miquelon</td>\n",
       "      <td>Euro</td>\n",
       "      <td>EUR</td>\n",
       "      <td>NaN</td>\n",
       "      <td>NaN</td>\n",
       "      <td>NaN</td>\n",
       "      <td>NaN</td>\n",
       "    </tr>\n",
       "    <tr>\n",
       "      <th>216</th>\n",
       "      <td>Sint Maarten</td>\n",
       "      <td>Netherlands Antillean Guilder</td>\n",
       "      <td>ANG</td>\n",
       "      <td>NaN</td>\n",
       "      <td>NaN</td>\n",
       "      <td>NaN</td>\n",
       "      <td>NaN</td>\n",
       "    </tr>\n",
       "    <tr>\n",
       "      <th>217</th>\n",
       "      <td>Sistema Unitario De Compensacion Regional De P...</td>\n",
       "      <td>Sucre</td>\n",
       "      <td>XSU</td>\n",
       "      <td>NaN</td>\n",
       "      <td>NaN</td>\n",
       "      <td>NaN</td>\n",
       "      <td>NaN</td>\n",
       "    </tr>\n",
       "    <tr>\n",
       "      <th>223</th>\n",
       "      <td>South Georgia And The South Sandwich Islands</td>\n",
       "      <td>No Universal Currency</td>\n",
       "      <td>Non Applicable</td>\n",
       "      <td>NaN</td>\n",
       "      <td>NaN</td>\n",
       "      <td>NaN</td>\n",
       "      <td>NaN</td>\n",
       "    </tr>\n",
       "    <tr>\n",
       "      <th>229</th>\n",
       "      <td>Svalbard And Jan Mayen</td>\n",
       "      <td>Norwegian Krone</td>\n",
       "      <td>NOK</td>\n",
       "      <td>NaN</td>\n",
       "      <td>NaN</td>\n",
       "      <td>NaN</td>\n",
       "      <td>NaN</td>\n",
       "    </tr>\n",
       "    <tr>\n",
       "      <th>237</th>\n",
       "      <td>Tanzania, United Republic Of</td>\n",
       "      <td>Tanzanian Shilling</td>\n",
       "      <td>TZS</td>\n",
       "      <td>NaN</td>\n",
       "      <td>NaN</td>\n",
       "      <td>NaN</td>\n",
       "      <td>NaN</td>\n",
       "    </tr>\n",
       "    <tr>\n",
       "      <th>241</th>\n",
       "      <td>Tokelau</td>\n",
       "      <td>New Zealand Dollar</td>\n",
       "      <td>NZD</td>\n",
       "      <td>NaN</td>\n",
       "      <td>NaN</td>\n",
       "      <td>NaN</td>\n",
       "      <td>NaN</td>\n",
       "    </tr>\n",
       "    <tr>\n",
       "      <th>253</th>\n",
       "      <td>United States Minor Outlying Islands</td>\n",
       "      <td>Us Dollar</td>\n",
       "      <td>USD</td>\n",
       "      <td>NaN</td>\n",
       "      <td>NaN</td>\n",
       "      <td>NaN</td>\n",
       "      <td>NaN</td>\n",
       "    </tr>\n",
       "    <tr>\n",
       "      <th>265</th>\n",
       "      <td>Virgin Islands</td>\n",
       "      <td>Us Dollar</td>\n",
       "      <td>USD</td>\n",
       "      <td>NaN</td>\n",
       "      <td>NaN</td>\n",
       "      <td>NaN</td>\n",
       "      <td>NaN</td>\n",
       "    </tr>\n",
       "    <tr>\n",
       "      <th>266</th>\n",
       "      <td>Virgin Islands</td>\n",
       "      <td>Us Dollar</td>\n",
       "      <td>USD</td>\n",
       "      <td>NaN</td>\n",
       "      <td>NaN</td>\n",
       "      <td>NaN</td>\n",
       "      <td>NaN</td>\n",
       "    </tr>\n",
       "    <tr>\n",
       "      <th>267</th>\n",
       "      <td>Wallis And Futuna</td>\n",
       "      <td>Cfp Franc</td>\n",
       "      <td>XPF</td>\n",
       "      <td>NaN</td>\n",
       "      <td>NaN</td>\n",
       "      <td>NaN</td>\n",
       "      <td>NaN</td>\n",
       "    </tr>\n",
       "    <tr>\n",
       "      <th>268</th>\n",
       "      <td>Western Sahara</td>\n",
       "      <td>Moroccan Dirham</td>\n",
       "      <td>MAD</td>\n",
       "      <td>NaN</td>\n",
       "      <td>NaN</td>\n",
       "      <td>NaN</td>\n",
       "      <td>NaN</td>\n",
       "    </tr>\n",
       "    <tr>\n",
       "      <th>272</th>\n",
       "      <td>Zz01_Bond Markets Unit European_Eurco</td>\n",
       "      <td>Bond Markets Unit European Composite Unit (Eurco)</td>\n",
       "      <td>XBA</td>\n",
       "      <td>NaN</td>\n",
       "      <td>NaN</td>\n",
       "      <td>NaN</td>\n",
       "      <td>NaN</td>\n",
       "    </tr>\n",
       "    <tr>\n",
       "      <th>273</th>\n",
       "      <td>Zz02_Bond Markets Unit European_Emu-6</td>\n",
       "      <td>Bond Markets Unit European Monetary Unit (E.M....</td>\n",
       "      <td>XBB</td>\n",
       "      <td>NaN</td>\n",
       "      <td>NaN</td>\n",
       "      <td>NaN</td>\n",
       "      <td>NaN</td>\n",
       "    </tr>\n",
       "    <tr>\n",
       "      <th>274</th>\n",
       "      <td>Zz03_Bond Markets Unit European_Eua-9</td>\n",
       "      <td>Bond Markets Unit European Unit Of Account 9 (...</td>\n",
       "      <td>XBC</td>\n",
       "      <td>NaN</td>\n",
       "      <td>NaN</td>\n",
       "      <td>NaN</td>\n",
       "      <td>NaN</td>\n",
       "    </tr>\n",
       "    <tr>\n",
       "      <th>275</th>\n",
       "      <td>Zz04_Bond Markets Unit European_Eua-17</td>\n",
       "      <td>Bond Markets Unit European Unit Of Account 17 ...</td>\n",
       "      <td>XBD</td>\n",
       "      <td>NaN</td>\n",
       "      <td>NaN</td>\n",
       "      <td>NaN</td>\n",
       "      <td>NaN</td>\n",
       "    </tr>\n",
       "    <tr>\n",
       "      <th>276</th>\n",
       "      <td>Zz06_Testing_Code</td>\n",
       "      <td>Codes Specifically Reserved For Testing Purposes</td>\n",
       "      <td>XTS</td>\n",
       "      <td>NaN</td>\n",
       "      <td>NaN</td>\n",
       "      <td>NaN</td>\n",
       "      <td>NaN</td>\n",
       "    </tr>\n",
       "    <tr>\n",
       "      <th>277</th>\n",
       "      <td>Zz07_No_Currency</td>\n",
       "      <td>The Codes Assigned For Transactions Where No C...</td>\n",
       "      <td>XXX</td>\n",
       "      <td>NaN</td>\n",
       "      <td>NaN</td>\n",
       "      <td>NaN</td>\n",
       "      <td>NaN</td>\n",
       "    </tr>\n",
       "    <tr>\n",
       "      <th>278</th>\n",
       "      <td>Zz08_Gold</td>\n",
       "      <td>Gold</td>\n",
       "      <td>XAU</td>\n",
       "      <td>NaN</td>\n",
       "      <td>NaN</td>\n",
       "      <td>NaN</td>\n",
       "      <td>NaN</td>\n",
       "    </tr>\n",
       "    <tr>\n",
       "      <th>279</th>\n",
       "      <td>Zz09_Palladium</td>\n",
       "      <td>Palladium</td>\n",
       "      <td>XPD</td>\n",
       "      <td>NaN</td>\n",
       "      <td>NaN</td>\n",
       "      <td>NaN</td>\n",
       "      <td>NaN</td>\n",
       "    </tr>\n",
       "    <tr>\n",
       "      <th>280</th>\n",
       "      <td>Zz10_Platinum</td>\n",
       "      <td>Platinum</td>\n",
       "      <td>XPT</td>\n",
       "      <td>NaN</td>\n",
       "      <td>NaN</td>\n",
       "      <td>NaN</td>\n",
       "      <td>NaN</td>\n",
       "    </tr>\n",
       "    <tr>\n",
       "      <th>281</th>\n",
       "      <td>Zz11_Silver</td>\n",
       "      <td>Silver</td>\n",
       "      <td>XAG</td>\n",
       "      <td>NaN</td>\n",
       "      <td>NaN</td>\n",
       "      <td>NaN</td>\n",
       "      <td>NaN</td>\n",
       "    </tr>\n",
       "  </tbody>\n",
       "</table>\n",
       "</div>"
      ],
      "text/plain": [
       "                                               Country  \\\n",
       "1                                        Åland Islands   \n",
       "7                                             Anguilla   \n",
       "8                                           Antarctica   \n",
       "29                    Bonaire, Sint Eustatius And Saba   \n",
       "32                                       Bouvet Island   \n",
       "34                      British Indian Ocean Territory   \n",
       "49                                    Christmas Island   \n",
       "50                               Cocos Keeling Islands   \n",
       "56                                        Cook Islands   \n",
       "62                                             Curaçao   \n",
       "76                                            Eswatini   \n",
       "78                                      European Union   \n",
       "79                                    Falkland Islands   \n",
       "86                         French Southern Territories   \n",
       "92                                           Gibraltar   \n",
       "96                                          Guadeloupe   \n",
       "99                                            Guernsey   \n",
       "105                  Heard Island And Mcdonald Islands   \n",
       "106                                           Holy See   \n",
       "113                        International Monetary Fund   \n",
       "122                                             Jersey   \n",
       "151                                         Martinique   \n",
       "154                                            Mayotte   \n",
       "155  Member Countries Of The African Development Ba...   \n",
       "158                                         Micronesia   \n",
       "163                                         Montserrat   \n",
       "169                                              Nauru   \n",
       "177                                               Niue   \n",
       "178                                     Norfolk Island   \n",
       "184                                Palestine, State Of   \n",
       "191                                           Pitcairn   \n",
       "196                                            Réunion   \n",
       "200                                   Saint Barthélemy   \n",
       "201       Saint Helena, Ascension And Tristan Da Cunha   \n",
       "204                                       Saint Martin   \n",
       "205                          Saint Pierre And Miquelon   \n",
       "216                                       Sint Maarten   \n",
       "217  Sistema Unitario De Compensacion Regional De P...   \n",
       "223       South Georgia And The South Sandwich Islands   \n",
       "229                             Svalbard And Jan Mayen   \n",
       "237                       Tanzania, United Republic Of   \n",
       "241                                            Tokelau   \n",
       "253               United States Minor Outlying Islands   \n",
       "265                                     Virgin Islands   \n",
       "266                                     Virgin Islands   \n",
       "267                                  Wallis And Futuna   \n",
       "268                                     Western Sahara   \n",
       "272              Zz01_Bond Markets Unit European_Eurco   \n",
       "273              Zz02_Bond Markets Unit European_Emu-6   \n",
       "274              Zz03_Bond Markets Unit European_Eua-9   \n",
       "275             Zz04_Bond Markets Unit European_Eua-17   \n",
       "276                                  Zz06_Testing_Code   \n",
       "277                                   Zz07_No_Currency   \n",
       "278                                          Zz08_Gold   \n",
       "279                                     Zz09_Palladium   \n",
       "280                                      Zz10_Platinum   \n",
       "281                                        Zz11_Silver   \n",
       "\n",
       "                                              Currency   Currency Code Name  \\\n",
       "1                                                 Euro             EUR  NaN   \n",
       "7                                East Caribbean Dollar             XCD  NaN   \n",
       "8                                No Universal Currency  Non Applicable  NaN   \n",
       "29                                           Us Dollar             USD  NaN   \n",
       "32                                     Norwegian Krone             NOK  NaN   \n",
       "34                                           Us Dollar             USD  NaN   \n",
       "49                                   Australian Dollar             AUD  NaN   \n",
       "50                                   Australian Dollar             AUD  NaN   \n",
       "56                                  New Zealand Dollar             NZD  NaN   \n",
       "62                       Netherlands Antillean Guilder             ANG  NaN   \n",
       "76                                           Lilangeni             SZL  NaN   \n",
       "78                                                Euro             EUR  NaN   \n",
       "79                              Falkland Islands Pound             FKP  NaN   \n",
       "86                                                Euro             EUR  NaN   \n",
       "92                                     Gibraltar Pound             GIP  NaN   \n",
       "96                                                Euro             EUR  NaN   \n",
       "99                                      Pound Sterling             GBP  NaN   \n",
       "105                                  Australian Dollar             AUD  NaN   \n",
       "106                                               Euro             EUR  NaN   \n",
       "113                        Sdr (Special Drawing Right)             XDR  NaN   \n",
       "122                                     Pound Sterling             GBP  NaN   \n",
       "151                                               Euro             EUR  NaN   \n",
       "154                                               Euro             EUR  NaN   \n",
       "155                                Adb Unit Of Account             XUA  NaN   \n",
       "158                                          Us Dollar             USD  NaN   \n",
       "163                              East Caribbean Dollar             XCD  NaN   \n",
       "169                                  Australian Dollar             AUD  NaN   \n",
       "177                                 New Zealand Dollar             NZD  NaN   \n",
       "178                                  Australian Dollar             AUD  NaN   \n",
       "184                              No Universal Currency  Non Applicable  NaN   \n",
       "191                                 New Zealand Dollar             NZD  NaN   \n",
       "196                                               Euro             EUR  NaN   \n",
       "200                                               Euro             EUR  NaN   \n",
       "201                                 Saint Helena Pound             SHP  NaN   \n",
       "204                                               Euro             EUR  NaN   \n",
       "205                                               Euro             EUR  NaN   \n",
       "216                      Netherlands Antillean Guilder             ANG  NaN   \n",
       "217                                              Sucre             XSU  NaN   \n",
       "223                              No Universal Currency  Non Applicable  NaN   \n",
       "229                                    Norwegian Krone             NOK  NaN   \n",
       "237                                 Tanzanian Shilling             TZS  NaN   \n",
       "241                                 New Zealand Dollar             NZD  NaN   \n",
       "253                                          Us Dollar             USD  NaN   \n",
       "265                                          Us Dollar             USD  NaN   \n",
       "266                                          Us Dollar             USD  NaN   \n",
       "267                                          Cfp Franc             XPF  NaN   \n",
       "268                                    Moroccan Dirham             MAD  NaN   \n",
       "272  Bond Markets Unit European Composite Unit (Eurco)             XBA  NaN   \n",
       "273  Bond Markets Unit European Monetary Unit (E.M....             XBB  NaN   \n",
       "274  Bond Markets Unit European Unit Of Account 9 (...             XBC  NaN   \n",
       "275  Bond Markets Unit European Unit Of Account 17 ...             XBD  NaN   \n",
       "276   Codes Specifically Reserved For Testing Purposes             XTS  NaN   \n",
       "277  The Codes Assigned For Transactions Where No C...             XXX  NaN   \n",
       "278                                               Gold             XAU  NaN   \n",
       "279                                          Palladium             XPD  NaN   \n",
       "280                                           Platinum             XPT  NaN   \n",
       "281                                             Silver             XAG  NaN   \n",
       "\n",
       "    Iso3 Continent SubContinent  \n",
       "1    NaN       NaN          NaN  \n",
       "7    NaN       NaN          NaN  \n",
       "8    NaN       NaN          NaN  \n",
       "29   NaN       NaN          NaN  \n",
       "32   NaN       NaN          NaN  \n",
       "34   NaN       NaN          NaN  \n",
       "49   NaN       NaN          NaN  \n",
       "50   NaN       NaN          NaN  \n",
       "56   NaN       NaN          NaN  \n",
       "62   NaN       NaN          NaN  \n",
       "76   NaN       NaN          NaN  \n",
       "78   NaN       NaN          NaN  \n",
       "79   NaN       NaN          NaN  \n",
       "86   NaN       NaN          NaN  \n",
       "92   NaN       NaN          NaN  \n",
       "96   NaN       NaN          NaN  \n",
       "99   NaN       NaN          NaN  \n",
       "105  NaN       NaN          NaN  \n",
       "106  NaN       NaN          NaN  \n",
       "113  NaN       NaN          NaN  \n",
       "122  NaN       NaN          NaN  \n",
       "151  NaN       NaN          NaN  \n",
       "154  NaN       NaN          NaN  \n",
       "155  NaN       NaN          NaN  \n",
       "158  NaN       NaN          NaN  \n",
       "163  NaN       NaN          NaN  \n",
       "169  NaN       NaN          NaN  \n",
       "177  NaN       NaN          NaN  \n",
       "178  NaN       NaN          NaN  \n",
       "184  NaN       NaN          NaN  \n",
       "191  NaN       NaN          NaN  \n",
       "196  NaN       NaN          NaN  \n",
       "200  NaN       NaN          NaN  \n",
       "201  NaN       NaN          NaN  \n",
       "204  NaN       NaN          NaN  \n",
       "205  NaN       NaN          NaN  \n",
       "216  NaN       NaN          NaN  \n",
       "217  NaN       NaN          NaN  \n",
       "223  NaN       NaN          NaN  \n",
       "229  NaN       NaN          NaN  \n",
       "237  NaN       NaN          NaN  \n",
       "241  NaN       NaN          NaN  \n",
       "253  NaN       NaN          NaN  \n",
       "265  NaN       NaN          NaN  \n",
       "266  NaN       NaN          NaN  \n",
       "267  NaN       NaN          NaN  \n",
       "268  NaN       NaN          NaN  \n",
       "272  NaN       NaN          NaN  \n",
       "273  NaN       NaN          NaN  \n",
       "274  NaN       NaN          NaN  \n",
       "275  NaN       NaN          NaN  \n",
       "276  NaN       NaN          NaN  \n",
       "277  NaN       NaN          NaN  \n",
       "278  NaN       NaN          NaN  \n",
       "279  NaN       NaN          NaN  \n",
       "280  NaN       NaN          NaN  \n",
       "281  NaN       NaN          NaN  "
      ]
     },
     "execution_count": 93,
     "metadata": {},
     "output_type": "execute_result"
    }
   ],
   "source": [
    "currency = currency.merge(country, how='left', left_on='Country', right_on='Name')\n",
    "currency[currency['Name'].isnull()]"
   ]
  },
  {
   "cell_type": "markdown",
   "id": "5a24f921",
   "metadata": {},
   "source": [
    "#### Check language - country"
   ]
  },
  {
   "cell_type": "code",
   "execution_count": 94,
   "id": "4a8177a0",
   "metadata": {
    "pycharm": {
     "name": "#%%\n"
    }
   },
   "outputs": [
    {
     "data": {
      "text/html": [
       "<div>\n",
       "<style scoped>\n",
       "    .dataframe tbody tr th:only-of-type {\n",
       "        vertical-align: middle;\n",
       "    }\n",
       "\n",
       "    .dataframe tbody tr th {\n",
       "        vertical-align: top;\n",
       "    }\n",
       "\n",
       "    .dataframe thead th {\n",
       "        text-align: right;\n",
       "    }\n",
       "</style>\n",
       "<table border=\"1\" class=\"dataframe\">\n",
       "  <thead>\n",
       "    <tr style=\"text-align: right;\">\n",
       "      <th></th>\n",
       "      <th>Country</th>\n",
       "      <th>Official Language</th>\n",
       "      <th>Name</th>\n",
       "      <th>Iso3</th>\n",
       "      <th>Continent</th>\n",
       "      <th>SubContinent</th>\n",
       "    </tr>\n",
       "  </thead>\n",
       "  <tbody>\n",
       "    <tr>\n",
       "      <th>41</th>\n",
       "      <td>CÃ£Â´Te D'Ivoire</td>\n",
       "      <td>French</td>\n",
       "      <td>NaN</td>\n",
       "      <td>NaN</td>\n",
       "      <td>NaN</td>\n",
       "      <td>NaN</td>\n",
       "    </tr>\n",
       "    <tr>\n",
       "      <th>50</th>\n",
       "      <td>East Timor</td>\n",
       "      <td>Tetum, Portuguese</td>\n",
       "      <td>NaN</td>\n",
       "      <td>NaN</td>\n",
       "      <td>NaN</td>\n",
       "      <td>NaN</td>\n",
       "    </tr>\n",
       "    <tr>\n",
       "      <th>116</th>\n",
       "      <td>Micronesia</td>\n",
       "      <td>English</td>\n",
       "      <td>NaN</td>\n",
       "      <td>NaN</td>\n",
       "      <td>NaN</td>\n",
       "      <td>NaN</td>\n",
       "    </tr>\n",
       "    <tr>\n",
       "      <th>125</th>\n",
       "      <td>Nauru</td>\n",
       "      <td>Nauruan</td>\n",
       "      <td>NaN</td>\n",
       "      <td>NaN</td>\n",
       "      <td>NaN</td>\n",
       "      <td>NaN</td>\n",
       "    </tr>\n",
       "    <tr>\n",
       "      <th>136</th>\n",
       "      <td>Palestinian State (Proposed)</td>\n",
       "      <td>Arabic, Hebrew, English</td>\n",
       "      <td>NaN</td>\n",
       "      <td>NaN</td>\n",
       "      <td>NaN</td>\n",
       "      <td>NaN</td>\n",
       "    </tr>\n",
       "    <tr>\n",
       "      <th>153</th>\n",
       "      <td>SÃ£o TomÃ© E PrincÃ­pe</td>\n",
       "      <td>Portuguese</td>\n",
       "      <td>NaN</td>\n",
       "      <td>NaN</td>\n",
       "      <td>NaN</td>\n",
       "      <td>NaN</td>\n",
       "    </tr>\n",
       "    <tr>\n",
       "      <th>193</th>\n",
       "      <td>Vatican City (Holy See)</td>\n",
       "      <td>Italian, Latin, French, Various Other Languages</td>\n",
       "      <td>NaN</td>\n",
       "      <td>NaN</td>\n",
       "      <td>NaN</td>\n",
       "      <td>NaN</td>\n",
       "    </tr>\n",
       "    <tr>\n",
       "      <th>196</th>\n",
       "      <td>Western Sahara (Proposed State)</td>\n",
       "      <td>Hassaniya Arabic, Moroccan Arabic</td>\n",
       "      <td>NaN</td>\n",
       "      <td>NaN</td>\n",
       "      <td>NaN</td>\n",
       "      <td>NaN</td>\n",
       "    </tr>\n",
       "  </tbody>\n",
       "</table>\n",
       "</div>"
      ],
      "text/plain": [
       "                             Country  \\\n",
       "41                  CÃ£Â´Te D'Ivoire   \n",
       "50                        East Timor   \n",
       "116                       Micronesia   \n",
       "125                            Nauru   \n",
       "136     Palestinian State (Proposed)   \n",
       "153           SÃ£o TomÃ© E PrincÃ­pe   \n",
       "193          Vatican City (Holy See)   \n",
       "196  Western Sahara (Proposed State)   \n",
       "\n",
       "                                   Official Language Name Iso3 Continent  \\\n",
       "41                                           French   NaN  NaN       NaN   \n",
       "50                                Tetum, Portuguese   NaN  NaN       NaN   \n",
       "116                                         English   NaN  NaN       NaN   \n",
       "125                                         Nauruan   NaN  NaN       NaN   \n",
       "136                          Arabic, Hebrew, English  NaN  NaN       NaN   \n",
       "153                                      Portuguese   NaN  NaN       NaN   \n",
       "193  Italian, Latin, French, Various Other Languages  NaN  NaN       NaN   \n",
       "196                Hassaniya Arabic, Moroccan Arabic  NaN  NaN       NaN   \n",
       "\n",
       "    SubContinent  \n",
       "41           NaN  \n",
       "50           NaN  \n",
       "116          NaN  \n",
       "125          NaN  \n",
       "136          NaN  \n",
       "153          NaN  \n",
       "193          NaN  \n",
       "196          NaN  "
      ]
     },
     "execution_count": 94,
     "metadata": {},
     "output_type": "execute_result"
    }
   ],
   "source": [
    "language = language.merge(country, how='left', left_on='Country', right_on='Name')\n",
    "language[language['Name'].isnull()]"
   ]
  },
  {
   "cell_type": "markdown",
   "id": "da9bbf29",
   "metadata": {},
   "source": [
    "#### Check peace - country"
   ]
  },
  {
   "cell_type": "code",
   "execution_count": 95,
   "id": "7efc420e",
   "metadata": {
    "pycharm": {
     "name": "#%%\n"
    }
   },
   "outputs": [
    {
     "data": {
      "text/html": [
       "<div>\n",
       "<style scoped>\n",
       "    .dataframe tbody tr th:only-of-type {\n",
       "        vertical-align: middle;\n",
       "    }\n",
       "\n",
       "    .dataframe tbody tr th {\n",
       "        vertical-align: top;\n",
       "    }\n",
       "\n",
       "    .dataframe thead th {\n",
       "        text-align: right;\n",
       "    }\n",
       "</style>\n",
       "<table border=\"1\" class=\"dataframe\">\n",
       "  <thead>\n",
       "    <tr style=\"text-align: right;\">\n",
       "      <th></th>\n",
       "      <th>Rank</th>\n",
       "      <th>Country</th>\n",
       "      <th>Name</th>\n",
       "      <th>Iso3</th>\n",
       "      <th>Continent</th>\n",
       "      <th>SubContinent</th>\n",
       "    </tr>\n",
       "  </thead>\n",
       "  <tbody>\n",
       "    <tr>\n",
       "      <th>52</th>\n",
       "      <td>53.0</td>\n",
       "      <td>The Gambia</td>\n",
       "      <td>NaN</td>\n",
       "      <td>NaN</td>\n",
       "      <td>NaN</td>\n",
       "      <td>NaN</td>\n",
       "    </tr>\n",
       "    <tr>\n",
       "      <th>68</th>\n",
       "      <td>69.0</td>\n",
       "      <td>Eswatini</td>\n",
       "      <td>NaN</td>\n",
       "      <td>NaN</td>\n",
       "      <td>NaN</td>\n",
       "      <td>NaN</td>\n",
       "    </tr>\n",
       "    <tr>\n",
       "      <th>138</th>\n",
       "      <td>138.0</td>\n",
       "      <td>Palestine</td>\n",
       "      <td>NaN</td>\n",
       "      <td>NaN</td>\n",
       "      <td>NaN</td>\n",
       "      <td>NaN</td>\n",
       "    </tr>\n",
       "    <tr>\n",
       "      <th>155</th>\n",
       "      <td>155.0</td>\n",
       "      <td>Central African\\r\\nRepublic</td>\n",
       "      <td>NaN</td>\n",
       "      <td>NaN</td>\n",
       "      <td>NaN</td>\n",
       "      <td>NaN</td>\n",
       "    </tr>\n",
       "  </tbody>\n",
       "</table>\n",
       "</div>"
      ],
      "text/plain": [
       "      Rank                      Country Name Iso3 Continent SubContinent\n",
       "52    53.0                   The Gambia  NaN  NaN       NaN          NaN\n",
       "68    69.0                     Eswatini  NaN  NaN       NaN          NaN\n",
       "138  138.0                    Palestine  NaN  NaN       NaN          NaN\n",
       "155  155.0  Central African\\r\\nRepublic  NaN  NaN       NaN          NaN"
      ]
     },
     "execution_count": 95,
     "metadata": {},
     "output_type": "execute_result"
    }
   ],
   "source": [
    "peace=peace.merge(country, how='left', left_on='Country', right_on='Name')\n",
    "peace[peace['Name'].isnull()]"
   ]
  },
  {
   "cell_type": "markdown",
   "id": "b51f73eb",
   "metadata": {},
   "source": [
    "#### Check population - country"
   ]
  },
  {
   "cell_type": "code",
   "execution_count": 96,
   "id": "d185fff4",
   "metadata": {
    "pycharm": {
     "name": "#%%\n"
    }
   },
   "outputs": [
    {
     "data": {
      "text/html": [
       "<div>\n",
       "<style scoped>\n",
       "    .dataframe tbody tr th:only-of-type {\n",
       "        vertical-align: middle;\n",
       "    }\n",
       "\n",
       "    .dataframe tbody tr th {\n",
       "        vertical-align: top;\n",
       "    }\n",
       "\n",
       "    .dataframe thead th {\n",
       "        text-align: right;\n",
       "    }\n",
       "</style>\n",
       "<table border=\"1\" class=\"dataframe\">\n",
       "  <thead>\n",
       "    <tr style=\"text-align: right;\">\n",
       "      <th></th>\n",
       "      <th>Country</th>\n",
       "      <th>Country Code</th>\n",
       "      <th>Pop_2021</th>\n",
       "      <th>Name</th>\n",
       "      <th>Iso3</th>\n",
       "      <th>Continent</th>\n",
       "      <th>SubContinent</th>\n",
       "    </tr>\n",
       "  </thead>\n",
       "  <tbody>\n",
       "    <tr>\n",
       "      <th>1</th>\n",
       "      <td>Africa Eastern And Southern</td>\n",
       "      <td>AFE</td>\n",
       "      <td>6.946651e+08</td>\n",
       "      <td>NaN</td>\n",
       "      <td>NaN</td>\n",
       "      <td>NaN</td>\n",
       "      <td>NaN</td>\n",
       "    </tr>\n",
       "    <tr>\n",
       "      <th>3</th>\n",
       "      <td>Africa Western And Central</td>\n",
       "      <td>AFW</td>\n",
       "      <td>4.708989e+08</td>\n",
       "      <td>NaN</td>\n",
       "      <td>NaN</td>\n",
       "      <td>NaN</td>\n",
       "      <td>NaN</td>\n",
       "    </tr>\n",
       "    <tr>\n",
       "      <th>7</th>\n",
       "      <td>Arab World</td>\n",
       "      <td>ARB</td>\n",
       "      <td>4.445178e+08</td>\n",
       "      <td>NaN</td>\n",
       "      <td>NaN</td>\n",
       "      <td>NaN</td>\n",
       "      <td>NaN</td>\n",
       "    </tr>\n",
       "    <tr>\n",
       "      <th>36</th>\n",
       "      <td>Central Europe And The Baltics</td>\n",
       "      <td>CEB</td>\n",
       "      <td>1.016696e+08</td>\n",
       "      <td>NaN</td>\n",
       "      <td>NaN</td>\n",
       "      <td>NaN</td>\n",
       "      <td>NaN</td>\n",
       "    </tr>\n",
       "    <tr>\n",
       "      <th>49</th>\n",
       "      <td>Caribbean Small States</td>\n",
       "      <td>CSS</td>\n",
       "      <td>7.481631e+06</td>\n",
       "      <td>NaN</td>\n",
       "      <td>NaN</td>\n",
       "      <td>NaN</td>\n",
       "      <td>NaN</td>\n",
       "    </tr>\n",
       "    <tr>\n",
       "      <th>61</th>\n",
       "      <td>East Asia &amp; Pacific (Excluding High Income)</td>\n",
       "      <td>EAP</td>\n",
       "      <td>2.122086e+09</td>\n",
       "      <td>NaN</td>\n",
       "      <td>NaN</td>\n",
       "      <td>NaN</td>\n",
       "      <td>NaN</td>\n",
       "    </tr>\n",
       "    <tr>\n",
       "      <th>62</th>\n",
       "      <td>Early-Demographic Dividend</td>\n",
       "      <td>EAR</td>\n",
       "      <td>3.373867e+09</td>\n",
       "      <td>NaN</td>\n",
       "      <td>NaN</td>\n",
       "      <td>NaN</td>\n",
       "      <td>NaN</td>\n",
       "    </tr>\n",
       "    <tr>\n",
       "      <th>63</th>\n",
       "      <td>East Asia &amp; Pacific</td>\n",
       "      <td>EAS</td>\n",
       "      <td>2.368623e+09</td>\n",
       "      <td>NaN</td>\n",
       "      <td>NaN</td>\n",
       "      <td>NaN</td>\n",
       "      <td>NaN</td>\n",
       "    </tr>\n",
       "    <tr>\n",
       "      <th>64</th>\n",
       "      <td>Europe &amp; Central Asia (Excluding High Income)</td>\n",
       "      <td>ECA</td>\n",
       "      <td>4.018289e+08</td>\n",
       "      <td>NaN</td>\n",
       "      <td>NaN</td>\n",
       "      <td>NaN</td>\n",
       "      <td>NaN</td>\n",
       "    </tr>\n",
       "    <tr>\n",
       "      <th>65</th>\n",
       "      <td>Europe &amp; Central Asia</td>\n",
       "      <td>ECS</td>\n",
       "      <td>9.237537e+08</td>\n",
       "      <td>NaN</td>\n",
       "      <td>NaN</td>\n",
       "      <td>NaN</td>\n",
       "      <td>NaN</td>\n",
       "    </tr>\n",
       "    <tr>\n",
       "      <th>68</th>\n",
       "      <td>Euro Area</td>\n",
       "      <td>EMU</td>\n",
       "      <td>3.425665e+08</td>\n",
       "      <td>NaN</td>\n",
       "      <td>NaN</td>\n",
       "      <td>NaN</td>\n",
       "      <td>NaN</td>\n",
       "    </tr>\n",
       "    <tr>\n",
       "      <th>72</th>\n",
       "      <td>European Union</td>\n",
       "      <td>EUU</td>\n",
       "      <td>4.469467e+08</td>\n",
       "      <td>NaN</td>\n",
       "      <td>NaN</td>\n",
       "      <td>NaN</td>\n",
       "      <td>NaN</td>\n",
       "    </tr>\n",
       "    <tr>\n",
       "      <th>73</th>\n",
       "      <td>Fragile And Conflict Affected Situations</td>\n",
       "      <td>FCS</td>\n",
       "      <td>9.829808e+08</td>\n",
       "      <td>NaN</td>\n",
       "      <td>NaN</td>\n",
       "      <td>NaN</td>\n",
       "      <td>NaN</td>\n",
       "    </tr>\n",
       "    <tr>\n",
       "      <th>83</th>\n",
       "      <td>Gibraltar</td>\n",
       "      <td>GIB</td>\n",
       "      <td>3.369100e+04</td>\n",
       "      <td>NaN</td>\n",
       "      <td>NaN</td>\n",
       "      <td>NaN</td>\n",
       "      <td>NaN</td>\n",
       "    </tr>\n",
       "    <tr>\n",
       "      <th>94</th>\n",
       "      <td>High Income</td>\n",
       "      <td>HIC</td>\n",
       "      <td>1.241374e+09</td>\n",
       "      <td>NaN</td>\n",
       "      <td>NaN</td>\n",
       "      <td>NaN</td>\n",
       "      <td>NaN</td>\n",
       "    </tr>\n",
       "    <tr>\n",
       "      <th>97</th>\n",
       "      <td>Heavily Indebted Poor Countries (Hipc)</td>\n",
       "      <td>HPC</td>\n",
       "      <td>8.455223e+08</td>\n",
       "      <td>NaN</td>\n",
       "      <td>NaN</td>\n",
       "      <td>NaN</td>\n",
       "      <td>NaN</td>\n",
       "    </tr>\n",
       "    <tr>\n",
       "      <th>101</th>\n",
       "      <td>Ibrd Only</td>\n",
       "      <td>IBD</td>\n",
       "      <td>4.895295e+09</td>\n",
       "      <td>NaN</td>\n",
       "      <td>NaN</td>\n",
       "      <td>NaN</td>\n",
       "      <td>NaN</td>\n",
       "    </tr>\n",
       "    <tr>\n",
       "      <th>102</th>\n",
       "      <td>Ida &amp; Ibrd Total</td>\n",
       "      <td>IBT</td>\n",
       "      <td>6.642614e+09</td>\n",
       "      <td>NaN</td>\n",
       "      <td>NaN</td>\n",
       "      <td>NaN</td>\n",
       "      <td>NaN</td>\n",
       "    </tr>\n",
       "    <tr>\n",
       "      <th>103</th>\n",
       "      <td>Ida Total</td>\n",
       "      <td>IDA</td>\n",
       "      <td>1.747319e+09</td>\n",
       "      <td>NaN</td>\n",
       "      <td>NaN</td>\n",
       "      <td>NaN</td>\n",
       "      <td>NaN</td>\n",
       "    </tr>\n",
       "    <tr>\n",
       "      <th>104</th>\n",
       "      <td>Ida Blend</td>\n",
       "      <td>IDB</td>\n",
       "      <td>5.868834e+08</td>\n",
       "      <td>NaN</td>\n",
       "      <td>NaN</td>\n",
       "      <td>NaN</td>\n",
       "      <td>NaN</td>\n",
       "    </tr>\n",
       "    <tr>\n",
       "      <th>106</th>\n",
       "      <td>Ida Only</td>\n",
       "      <td>IDX</td>\n",
       "      <td>1.160435e+09</td>\n",
       "      <td>NaN</td>\n",
       "      <td>NaN</td>\n",
       "      <td>NaN</td>\n",
       "      <td>NaN</td>\n",
       "    </tr>\n",
       "    <tr>\n",
       "      <th>126</th>\n",
       "      <td>Latin America &amp; Caribbean (Excluding High Income)</td>\n",
       "      <td>LAC</td>\n",
       "      <td>5.962176e+08</td>\n",
       "      <td>NaN</td>\n",
       "      <td>NaN</td>\n",
       "      <td>NaN</td>\n",
       "      <td>NaN</td>\n",
       "    </tr>\n",
       "    <tr>\n",
       "      <th>132</th>\n",
       "      <td>Latin America &amp; Caribbean</td>\n",
       "      <td>LCN</td>\n",
       "      <td>6.580892e+08</td>\n",
       "      <td>NaN</td>\n",
       "      <td>NaN</td>\n",
       "      <td>NaN</td>\n",
       "      <td>NaN</td>\n",
       "    </tr>\n",
       "    <tr>\n",
       "      <th>133</th>\n",
       "      <td>Least Developed Countries: Un Classification</td>\n",
       "      <td>LDC</td>\n",
       "      <td>1.081505e+09</td>\n",
       "      <td>NaN</td>\n",
       "      <td>NaN</td>\n",
       "      <td>NaN</td>\n",
       "      <td>NaN</td>\n",
       "    </tr>\n",
       "    <tr>\n",
       "      <th>134</th>\n",
       "      <td>Low Income</td>\n",
       "      <td>LIC</td>\n",
       "      <td>7.019270e+08</td>\n",
       "      <td>NaN</td>\n",
       "      <td>NaN</td>\n",
       "      <td>NaN</td>\n",
       "      <td>NaN</td>\n",
       "    </tr>\n",
       "    <tr>\n",
       "      <th>137</th>\n",
       "      <td>Lower Middle Income</td>\n",
       "      <td>LMC</td>\n",
       "      <td>3.363197e+09</td>\n",
       "      <td>NaN</td>\n",
       "      <td>NaN</td>\n",
       "      <td>NaN</td>\n",
       "      <td>NaN</td>\n",
       "    </tr>\n",
       "    <tr>\n",
       "      <th>138</th>\n",
       "      <td>Low &amp; Middle Income</td>\n",
       "      <td>LMY</td>\n",
       "      <td>6.566552e+09</td>\n",
       "      <td>NaN</td>\n",
       "      <td>NaN</td>\n",
       "      <td>NaN</td>\n",
       "      <td>NaN</td>\n",
       "    </tr>\n",
       "    <tr>\n",
       "      <th>140</th>\n",
       "      <td>Late-Demographic Dividend</td>\n",
       "      <td>LTE</td>\n",
       "      <td>2.322070e+09</td>\n",
       "      <td>NaN</td>\n",
       "      <td>NaN</td>\n",
       "      <td>NaN</td>\n",
       "      <td>NaN</td>\n",
       "    </tr>\n",
       "    <tr>\n",
       "      <th>151</th>\n",
       "      <td>Middle East &amp; North Africa</td>\n",
       "      <td>MEA</td>\n",
       "      <td>4.724950e+08</td>\n",
       "      <td>NaN</td>\n",
       "      <td>NaN</td>\n",
       "      <td>NaN</td>\n",
       "      <td>NaN</td>\n",
       "    </tr>\n",
       "    <tr>\n",
       "      <th>154</th>\n",
       "      <td>Middle Income</td>\n",
       "      <td>MIC</td>\n",
       "      <td>5.864625e+09</td>\n",
       "      <td>NaN</td>\n",
       "      <td>NaN</td>\n",
       "      <td>NaN</td>\n",
       "      <td>NaN</td>\n",
       "    </tr>\n",
       "    <tr>\n",
       "      <th>159</th>\n",
       "      <td>Middle East &amp; North Africa (Excluding High Inc...</td>\n",
       "      <td>MNA</td>\n",
       "      <td>4.030516e+08</td>\n",
       "      <td>NaN</td>\n",
       "      <td>NaN</td>\n",
       "      <td>NaN</td>\n",
       "      <td>NaN</td>\n",
       "    </tr>\n",
       "    <tr>\n",
       "      <th>168</th>\n",
       "      <td>North America</td>\n",
       "      <td>NAC</td>\n",
       "      <td>3.702037e+08</td>\n",
       "      <td>NaN</td>\n",
       "      <td>NaN</td>\n",
       "      <td>NaN</td>\n",
       "      <td>NaN</td>\n",
       "    </tr>\n",
       "    <tr>\n",
       "      <th>177</th>\n",
       "      <td>Nauru</td>\n",
       "      <td>NRU</td>\n",
       "      <td>1.087300e+04</td>\n",
       "      <td>NaN</td>\n",
       "      <td>NaN</td>\n",
       "      <td>NaN</td>\n",
       "      <td>NaN</td>\n",
       "    </tr>\n",
       "    <tr>\n",
       "      <th>179</th>\n",
       "      <td>Oecd Members</td>\n",
       "      <td>OED</td>\n",
       "      <td>1.375820e+09</td>\n",
       "      <td>NaN</td>\n",
       "      <td>NaN</td>\n",
       "      <td>NaN</td>\n",
       "      <td>NaN</td>\n",
       "    </tr>\n",
       "    <tr>\n",
       "      <th>181</th>\n",
       "      <td>Other Small States</td>\n",
       "      <td>OSS</td>\n",
       "      <td>3.246428e+07</td>\n",
       "      <td>NaN</td>\n",
       "      <td>NaN</td>\n",
       "      <td>NaN</td>\n",
       "      <td>NaN</td>\n",
       "    </tr>\n",
       "    <tr>\n",
       "      <th>189</th>\n",
       "      <td>Pre-Demographic Dividend</td>\n",
       "      <td>PRE</td>\n",
       "      <td>9.971582e+08</td>\n",
       "      <td>NaN</td>\n",
       "      <td>NaN</td>\n",
       "      <td>NaN</td>\n",
       "      <td>NaN</td>\n",
       "    </tr>\n",
       "    <tr>\n",
       "      <th>191</th>\n",
       "      <td>Korea, Dem. People'S Rep.</td>\n",
       "      <td>PRK</td>\n",
       "      <td>2.588704e+07</td>\n",
       "      <td>NaN</td>\n",
       "      <td>NaN</td>\n",
       "      <td>NaN</td>\n",
       "      <td>NaN</td>\n",
       "    </tr>\n",
       "    <tr>\n",
       "      <th>195</th>\n",
       "      <td>Pacific Island Small States</td>\n",
       "      <td>PSS</td>\n",
       "      <td>2.566494e+06</td>\n",
       "      <td>NaN</td>\n",
       "      <td>NaN</td>\n",
       "      <td>NaN</td>\n",
       "      <td>NaN</td>\n",
       "    </tr>\n",
       "    <tr>\n",
       "      <th>196</th>\n",
       "      <td>Post-Demographic Dividend</td>\n",
       "      <td>PST</td>\n",
       "      <td>1.116655e+09</td>\n",
       "      <td>NaN</td>\n",
       "      <td>NaN</td>\n",
       "      <td>NaN</td>\n",
       "      <td>NaN</td>\n",
       "    </tr>\n",
       "    <tr>\n",
       "      <th>202</th>\n",
       "      <td>South Asia</td>\n",
       "      <td>SAS</td>\n",
       "      <td>1.877902e+09</td>\n",
       "      <td>NaN</td>\n",
       "      <td>NaN</td>\n",
       "      <td>NaN</td>\n",
       "      <td>NaN</td>\n",
       "    </tr>\n",
       "    <tr>\n",
       "      <th>213</th>\n",
       "      <td>Sub-Saharan Africa (Excluding High Income)</td>\n",
       "      <td>SSA</td>\n",
       "      <td>1.165465e+09</td>\n",
       "      <td>NaN</td>\n",
       "      <td>NaN</td>\n",
       "      <td>NaN</td>\n",
       "      <td>NaN</td>\n",
       "    </tr>\n",
       "    <tr>\n",
       "      <th>215</th>\n",
       "      <td>Sub-Saharan Africa</td>\n",
       "      <td>SSF</td>\n",
       "      <td>1.165564e+09</td>\n",
       "      <td>NaN</td>\n",
       "      <td>NaN</td>\n",
       "      <td>NaN</td>\n",
       "      <td>NaN</td>\n",
       "    </tr>\n",
       "    <tr>\n",
       "      <th>216</th>\n",
       "      <td>Small States</td>\n",
       "      <td>SST</td>\n",
       "      <td>4.251241e+07</td>\n",
       "      <td>NaN</td>\n",
       "      <td>NaN</td>\n",
       "      <td>NaN</td>\n",
       "      <td>NaN</td>\n",
       "    </tr>\n",
       "    <tr>\n",
       "      <th>222</th>\n",
       "      <td>Eswatini</td>\n",
       "      <td>SWZ</td>\n",
       "      <td>1.172369e+06</td>\n",
       "      <td>NaN</td>\n",
       "      <td>NaN</td>\n",
       "      <td>NaN</td>\n",
       "      <td>NaN</td>\n",
       "    </tr>\n",
       "    <tr>\n",
       "      <th>228</th>\n",
       "      <td>East Asia &amp; Pacific (Ida &amp; Ibrd Countries)</td>\n",
       "      <td>TEA</td>\n",
       "      <td>2.096155e+09</td>\n",
       "      <td>NaN</td>\n",
       "      <td>NaN</td>\n",
       "      <td>NaN</td>\n",
       "      <td>NaN</td>\n",
       "    </tr>\n",
       "    <tr>\n",
       "      <th>229</th>\n",
       "      <td>Europe &amp; Central Asia (Ida &amp; Ibrd Countries)</td>\n",
       "      <td>TEC</td>\n",
       "      <td>4.626241e+08</td>\n",
       "      <td>NaN</td>\n",
       "      <td>NaN</td>\n",
       "      <td>NaN</td>\n",
       "      <td>NaN</td>\n",
       "    </tr>\n",
       "    <tr>\n",
       "      <th>234</th>\n",
       "      <td>Latin America &amp; The Caribbean (Ida &amp; Ibrd Coun...</td>\n",
       "      <td>TLA</td>\n",
       "      <td>6.422398e+08</td>\n",
       "      <td>NaN</td>\n",
       "      <td>NaN</td>\n",
       "      <td>NaN</td>\n",
       "      <td>NaN</td>\n",
       "    </tr>\n",
       "    <tr>\n",
       "      <th>236</th>\n",
       "      <td>Middle East &amp; North Africa (Ida &amp; Ibrd Countries)</td>\n",
       "      <td>TMN</td>\n",
       "      <td>3.981289e+08</td>\n",
       "      <td>NaN</td>\n",
       "      <td>NaN</td>\n",
       "      <td>NaN</td>\n",
       "      <td>NaN</td>\n",
       "    </tr>\n",
       "    <tr>\n",
       "      <th>238</th>\n",
       "      <td>South Asia (Ida &amp; Ibrd)</td>\n",
       "      <td>TSA</td>\n",
       "      <td>1.877902e+09</td>\n",
       "      <td>NaN</td>\n",
       "      <td>NaN</td>\n",
       "      <td>NaN</td>\n",
       "      <td>NaN</td>\n",
       "    </tr>\n",
       "    <tr>\n",
       "      <th>239</th>\n",
       "      <td>Sub-Saharan Africa (Ida &amp; Ibrd Countries)</td>\n",
       "      <td>TSS</td>\n",
       "      <td>1.165564e+09</td>\n",
       "      <td>NaN</td>\n",
       "      <td>NaN</td>\n",
       "      <td>NaN</td>\n",
       "      <td>NaN</td>\n",
       "    </tr>\n",
       "    <tr>\n",
       "      <th>247</th>\n",
       "      <td>Upper Middle Income</td>\n",
       "      <td>UMC</td>\n",
       "      <td>2.501428e+09</td>\n",
       "      <td>NaN</td>\n",
       "      <td>NaN</td>\n",
       "      <td>NaN</td>\n",
       "      <td>NaN</td>\n",
       "    </tr>\n",
       "    <tr>\n",
       "      <th>253</th>\n",
       "      <td>British Virgin Islands</td>\n",
       "      <td>VGB</td>\n",
       "      <td>3.042300e+04</td>\n",
       "      <td>NaN</td>\n",
       "      <td>NaN</td>\n",
       "      <td>NaN</td>\n",
       "      <td>NaN</td>\n",
       "    </tr>\n",
       "    <tr>\n",
       "      <th>257</th>\n",
       "      <td>World</td>\n",
       "      <td>WLD</td>\n",
       "      <td>7.836631e+09</td>\n",
       "      <td>NaN</td>\n",
       "      <td>NaN</td>\n",
       "      <td>NaN</td>\n",
       "      <td>NaN</td>\n",
       "    </tr>\n",
       "  </tbody>\n",
       "</table>\n",
       "</div>"
      ],
      "text/plain": [
       "                                               Country Country Code  \\\n",
       "1                          Africa Eastern And Southern          AFE   \n",
       "3                           Africa Western And Central          AFW   \n",
       "7                                           Arab World          ARB   \n",
       "36                      Central Europe And The Baltics          CEB   \n",
       "49                              Caribbean Small States          CSS   \n",
       "61         East Asia & Pacific (Excluding High Income)          EAP   \n",
       "62                          Early-Demographic Dividend          EAR   \n",
       "63                                 East Asia & Pacific          EAS   \n",
       "64       Europe & Central Asia (Excluding High Income)          ECA   \n",
       "65                               Europe & Central Asia          ECS   \n",
       "68                                           Euro Area          EMU   \n",
       "72                                      European Union          EUU   \n",
       "73            Fragile And Conflict Affected Situations          FCS   \n",
       "83                                           Gibraltar          GIB   \n",
       "94                                         High Income          HIC   \n",
       "97              Heavily Indebted Poor Countries (Hipc)          HPC   \n",
       "101                                          Ibrd Only          IBD   \n",
       "102                                   Ida & Ibrd Total          IBT   \n",
       "103                                          Ida Total          IDA   \n",
       "104                                          Ida Blend          IDB   \n",
       "106                                           Ida Only          IDX   \n",
       "126  Latin America & Caribbean (Excluding High Income)          LAC   \n",
       "132                          Latin America & Caribbean          LCN   \n",
       "133       Least Developed Countries: Un Classification          LDC   \n",
       "134                                         Low Income          LIC   \n",
       "137                                Lower Middle Income          LMC   \n",
       "138                                Low & Middle Income          LMY   \n",
       "140                          Late-Demographic Dividend          LTE   \n",
       "151                         Middle East & North Africa          MEA   \n",
       "154                                      Middle Income          MIC   \n",
       "159  Middle East & North Africa (Excluding High Inc...          MNA   \n",
       "168                                      North America          NAC   \n",
       "177                                              Nauru          NRU   \n",
       "179                                       Oecd Members          OED   \n",
       "181                                 Other Small States          OSS   \n",
       "189                           Pre-Demographic Dividend          PRE   \n",
       "191                          Korea, Dem. People'S Rep.          PRK   \n",
       "195                        Pacific Island Small States          PSS   \n",
       "196                          Post-Demographic Dividend          PST   \n",
       "202                                         South Asia          SAS   \n",
       "213         Sub-Saharan Africa (Excluding High Income)          SSA   \n",
       "215                                 Sub-Saharan Africa          SSF   \n",
       "216                                       Small States          SST   \n",
       "222                                           Eswatini          SWZ   \n",
       "228         East Asia & Pacific (Ida & Ibrd Countries)          TEA   \n",
       "229       Europe & Central Asia (Ida & Ibrd Countries)          TEC   \n",
       "234  Latin America & The Caribbean (Ida & Ibrd Coun...          TLA   \n",
       "236  Middle East & North Africa (Ida & Ibrd Countries)          TMN   \n",
       "238                            South Asia (Ida & Ibrd)          TSA   \n",
       "239          Sub-Saharan Africa (Ida & Ibrd Countries)          TSS   \n",
       "247                                Upper Middle Income          UMC   \n",
       "253                             British Virgin Islands          VGB   \n",
       "257                                              World          WLD   \n",
       "\n",
       "         Pop_2021 Name Iso3 Continent SubContinent  \n",
       "1    6.946651e+08  NaN  NaN       NaN          NaN  \n",
       "3    4.708989e+08  NaN  NaN       NaN          NaN  \n",
       "7    4.445178e+08  NaN  NaN       NaN          NaN  \n",
       "36   1.016696e+08  NaN  NaN       NaN          NaN  \n",
       "49   7.481631e+06  NaN  NaN       NaN          NaN  \n",
       "61   2.122086e+09  NaN  NaN       NaN          NaN  \n",
       "62   3.373867e+09  NaN  NaN       NaN          NaN  \n",
       "63   2.368623e+09  NaN  NaN       NaN          NaN  \n",
       "64   4.018289e+08  NaN  NaN       NaN          NaN  \n",
       "65   9.237537e+08  NaN  NaN       NaN          NaN  \n",
       "68   3.425665e+08  NaN  NaN       NaN          NaN  \n",
       "72   4.469467e+08  NaN  NaN       NaN          NaN  \n",
       "73   9.829808e+08  NaN  NaN       NaN          NaN  \n",
       "83   3.369100e+04  NaN  NaN       NaN          NaN  \n",
       "94   1.241374e+09  NaN  NaN       NaN          NaN  \n",
       "97   8.455223e+08  NaN  NaN       NaN          NaN  \n",
       "101  4.895295e+09  NaN  NaN       NaN          NaN  \n",
       "102  6.642614e+09  NaN  NaN       NaN          NaN  \n",
       "103  1.747319e+09  NaN  NaN       NaN          NaN  \n",
       "104  5.868834e+08  NaN  NaN       NaN          NaN  \n",
       "106  1.160435e+09  NaN  NaN       NaN          NaN  \n",
       "126  5.962176e+08  NaN  NaN       NaN          NaN  \n",
       "132  6.580892e+08  NaN  NaN       NaN          NaN  \n",
       "133  1.081505e+09  NaN  NaN       NaN          NaN  \n",
       "134  7.019270e+08  NaN  NaN       NaN          NaN  \n",
       "137  3.363197e+09  NaN  NaN       NaN          NaN  \n",
       "138  6.566552e+09  NaN  NaN       NaN          NaN  \n",
       "140  2.322070e+09  NaN  NaN       NaN          NaN  \n",
       "151  4.724950e+08  NaN  NaN       NaN          NaN  \n",
       "154  5.864625e+09  NaN  NaN       NaN          NaN  \n",
       "159  4.030516e+08  NaN  NaN       NaN          NaN  \n",
       "168  3.702037e+08  NaN  NaN       NaN          NaN  \n",
       "177  1.087300e+04  NaN  NaN       NaN          NaN  \n",
       "179  1.375820e+09  NaN  NaN       NaN          NaN  \n",
       "181  3.246428e+07  NaN  NaN       NaN          NaN  \n",
       "189  9.971582e+08  NaN  NaN       NaN          NaN  \n",
       "191  2.588704e+07  NaN  NaN       NaN          NaN  \n",
       "195  2.566494e+06  NaN  NaN       NaN          NaN  \n",
       "196  1.116655e+09  NaN  NaN       NaN          NaN  \n",
       "202  1.877902e+09  NaN  NaN       NaN          NaN  \n",
       "213  1.165465e+09  NaN  NaN       NaN          NaN  \n",
       "215  1.165564e+09  NaN  NaN       NaN          NaN  \n",
       "216  4.251241e+07  NaN  NaN       NaN          NaN  \n",
       "222  1.172369e+06  NaN  NaN       NaN          NaN  \n",
       "228  2.096155e+09  NaN  NaN       NaN          NaN  \n",
       "229  4.626241e+08  NaN  NaN       NaN          NaN  \n",
       "234  6.422398e+08  NaN  NaN       NaN          NaN  \n",
       "236  3.981289e+08  NaN  NaN       NaN          NaN  \n",
       "238  1.877902e+09  NaN  NaN       NaN          NaN  \n",
       "239  1.165564e+09  NaN  NaN       NaN          NaN  \n",
       "247  2.501428e+09  NaN  NaN       NaN          NaN  \n",
       "253  3.042300e+04  NaN  NaN       NaN          NaN  \n",
       "257  7.836631e+09  NaN  NaN       NaN          NaN  "
      ]
     },
     "execution_count": 96,
     "metadata": {},
     "output_type": "execute_result"
    }
   ],
   "source": [
    "population=population.merge(country, how='left', left_on='Country', right_on='Name')\n",
    "population[population['Name'].isnull()]"
   ]
  },
  {
   "cell_type": "markdown",
   "id": "2820cc2a",
   "metadata": {},
   "source": [
    "#### Check Religion - country"
   ]
  },
  {
   "cell_type": "code",
   "execution_count": 97,
   "id": "dca1bea0",
   "metadata": {
    "pycharm": {
     "name": "#%%\n"
    }
   },
   "outputs": [
    {
     "data": {
      "text/html": [
       "<div>\n",
       "<style scoped>\n",
       "    .dataframe tbody tr th:only-of-type {\n",
       "        vertical-align: middle;\n",
       "    }\n",
       "\n",
       "    .dataframe tbody tr th {\n",
       "        vertical-align: top;\n",
       "    }\n",
       "\n",
       "    .dataframe thead th {\n",
       "        text-align: right;\n",
       "    }\n",
       "</style>\n",
       "<table border=\"1\" class=\"dataframe\">\n",
       "  <thead>\n",
       "    <tr style=\"text-align: right;\">\n",
       "      <th></th>\n",
       "      <th>Country</th>\n",
       "      <th>Main Religion</th>\n",
       "      <th>Name</th>\n",
       "      <th>Iso3</th>\n",
       "      <th>Continent</th>\n",
       "      <th>SubContinent</th>\n",
       "    </tr>\n",
       "  </thead>\n",
       "  <tbody>\n",
       "    <tr>\n",
       "      <th>1</th>\n",
       "      <td>Anguilla</td>\n",
       "      <td>Anglican</td>\n",
       "      <td>NaN</td>\n",
       "      <td>NaN</td>\n",
       "      <td>NaN</td>\n",
       "      <td>NaN</td>\n",
       "    </tr>\n",
       "    <tr>\n",
       "      <th>15</th>\n",
       "      <td>British Virgin Islands</td>\n",
       "      <td>Methodist</td>\n",
       "      <td>NaN</td>\n",
       "      <td>NaN</td>\n",
       "      <td>NaN</td>\n",
       "      <td>NaN</td>\n",
       "    </tr>\n",
       "    <tr>\n",
       "      <th>24</th>\n",
       "      <td>Cook Islands</td>\n",
       "      <td>Christian</td>\n",
       "      <td>NaN</td>\n",
       "      <td>NaN</td>\n",
       "      <td>NaN</td>\n",
       "      <td>NaN</td>\n",
       "    </tr>\n",
       "    <tr>\n",
       "      <th>32</th>\n",
       "      <td>Falkland Islands (Malvinas)</td>\n",
       "      <td>Christian</td>\n",
       "      <td>NaN</td>\n",
       "      <td>NaN</td>\n",
       "      <td>NaN</td>\n",
       "      <td>NaN</td>\n",
       "    </tr>\n",
       "    <tr>\n",
       "      <th>38</th>\n",
       "      <td>Gibraltar</td>\n",
       "      <td>Roman Catholic</td>\n",
       "      <td>NaN</td>\n",
       "      <td>NaN</td>\n",
       "      <td>NaN</td>\n",
       "      <td>NaN</td>\n",
       "    </tr>\n",
       "    <tr>\n",
       "      <th>61</th>\n",
       "      <td>Micronesia (Federated States Of)</td>\n",
       "      <td>Roman Catholic</td>\n",
       "      <td>NaN</td>\n",
       "      <td>NaN</td>\n",
       "      <td>NaN</td>\n",
       "      <td>NaN</td>\n",
       "    </tr>\n",
       "    <tr>\n",
       "      <th>64</th>\n",
       "      <td>Montserrat</td>\n",
       "      <td>Anglican</td>\n",
       "      <td>NaN</td>\n",
       "      <td>NaN</td>\n",
       "      <td>NaN</td>\n",
       "      <td>NaN</td>\n",
       "    </tr>\n",
       "    <tr>\n",
       "      <th>71</th>\n",
       "      <td>Niue</td>\n",
       "      <td>Ekalesia Niue</td>\n",
       "      <td>NaN</td>\n",
       "      <td>NaN</td>\n",
       "      <td>NaN</td>\n",
       "      <td>NaN</td>\n",
       "    </tr>\n",
       "    <tr>\n",
       "      <th>72</th>\n",
       "      <td>Norfolk Island</td>\n",
       "      <td>Church Of England</td>\n",
       "      <td>NaN</td>\n",
       "      <td>NaN</td>\n",
       "      <td>NaN</td>\n",
       "      <td>NaN</td>\n",
       "    </tr>\n",
       "    <tr>\n",
       "      <th>86</th>\n",
       "      <td>Saint Helena Ex. Dep.</td>\n",
       "      <td>Church Of England</td>\n",
       "      <td>NaN</td>\n",
       "      <td>NaN</td>\n",
       "      <td>NaN</td>\n",
       "      <td>NaN</td>\n",
       "    </tr>\n",
       "    <tr>\n",
       "      <th>99</th>\n",
       "      <td>State Of Palestine</td>\n",
       "      <td>Islam</td>\n",
       "      <td>NaN</td>\n",
       "      <td>NaN</td>\n",
       "      <td>NaN</td>\n",
       "      <td>NaN</td>\n",
       "    </tr>\n",
       "    <tr>\n",
       "      <th>104</th>\n",
       "      <td>Tokelau</td>\n",
       "      <td>Christian Congregational</td>\n",
       "      <td>NaN</td>\n",
       "      <td>NaN</td>\n",
       "      <td>NaN</td>\n",
       "      <td>NaN</td>\n",
       "    </tr>\n",
       "  </tbody>\n",
       "</table>\n",
       "</div>"
      ],
      "text/plain": [
       "                              Country             Main Religion Name Iso3  \\\n",
       "1                            Anguilla                  Anglican  NaN  NaN   \n",
       "15             British Virgin Islands                 Methodist  NaN  NaN   \n",
       "24                       Cook Islands                 Christian  NaN  NaN   \n",
       "32        Falkland Islands (Malvinas)                 Christian  NaN  NaN   \n",
       "38                          Gibraltar            Roman Catholic  NaN  NaN   \n",
       "61   Micronesia (Federated States Of)            Roman Catholic  NaN  NaN   \n",
       "64                         Montserrat                  Anglican  NaN  NaN   \n",
       "71                               Niue             Ekalesia Niue  NaN  NaN   \n",
       "72                     Norfolk Island         Church Of England  NaN  NaN   \n",
       "86              Saint Helena Ex. Dep.         Church Of England  NaN  NaN   \n",
       "99                 State Of Palestine                    Islam   NaN  NaN   \n",
       "104                           Tokelau  Christian Congregational  NaN  NaN   \n",
       "\n",
       "    Continent SubContinent  \n",
       "1         NaN          NaN  \n",
       "15        NaN          NaN  \n",
       "24        NaN          NaN  \n",
       "32        NaN          NaN  \n",
       "38        NaN          NaN  \n",
       "61        NaN          NaN  \n",
       "64        NaN          NaN  \n",
       "71        NaN          NaN  \n",
       "72        NaN          NaN  \n",
       "86        NaN          NaN  \n",
       "99        NaN          NaN  \n",
       "104       NaN          NaN  "
      ]
     },
     "execution_count": 97,
     "metadata": {},
     "output_type": "execute_result"
    }
   ],
   "source": [
    "religion=religion.merge(country, how='left', left_on='Country', right_on='Name')\n",
    "religion[religion['Name'].isnull()]"
   ]
  },
  {
   "cell_type": "markdown",
   "id": "f92276ad",
   "metadata": {},
   "source": [
    "#### Check WEF - country"
   ]
  },
  {
   "cell_type": "code",
   "execution_count": 98,
   "id": "122d4163",
   "metadata": {
    "pycharm": {
     "name": "#%%\n"
    }
   },
   "outputs": [
    {
     "data": {
      "text/html": [
       "<div>\n",
       "<style scoped>\n",
       "    .dataframe tbody tr th:only-of-type {\n",
       "        vertical-align: middle;\n",
       "    }\n",
       "\n",
       "    .dataframe tbody tr th {\n",
       "        vertical-align: top;\n",
       "    }\n",
       "\n",
       "    .dataframe thead th {\n",
       "        text-align: right;\n",
       "    }\n",
       "</style>\n",
       "<table border=\"1\" class=\"dataframe\">\n",
       "  <thead>\n",
       "    <tr style=\"text-align: right;\">\n",
       "      <th></th>\n",
       "      <th>ISO Code</th>\n",
       "      <th>Economy</th>\n",
       "      <th>Region</th>\n",
       "      <th>Sub Region</th>\n",
       "      <th>Income Group</th>\n",
       "      <th>('Travel &amp; Tourism Development Index ', '2019 Value')</th>\n",
       "      <th>('Travel &amp; Tourism Development Index ', '2019 Rank')</th>\n",
       "      <th>('Travel &amp; Tourism Development Index ', '2021 Value')</th>\n",
       "      <th>('Travel &amp; Tourism Development Index ', '2021 Rank')</th>\n",
       "      <th>('Travel &amp; Tourism Development Index ', '% Dif Score')</th>\n",
       "      <th>...</th>\n",
       "      <th>('T&amp;T Demand Pressure &amp; Impact pillar', '2019 Value')</th>\n",
       "      <th>('T&amp;T Demand Pressure &amp; Impact pillar', '2019 Rank')</th>\n",
       "      <th>('T&amp;T Demand Pressure &amp; Impact pillar', '2021 Value')</th>\n",
       "      <th>('T&amp;T Demand Pressure &amp; Impact pillar', '2021 Rank')</th>\n",
       "      <th>('T&amp;T Demand Pressure &amp; Impact pillar', '% Dif Score')</th>\n",
       "      <th>('T&amp;T Demand Pressure &amp; Impact pillar', 'Rank Change')</th>\n",
       "      <th>Name</th>\n",
       "      <th>Iso3</th>\n",
       "      <th>Continent</th>\n",
       "      <th>SubContinent</th>\n",
       "    </tr>\n",
       "  </thead>\n",
       "  <tbody>\n",
       "  </tbody>\n",
       "</table>\n",
       "<p>0 rows × 82 columns</p>\n",
       "</div>"
      ],
      "text/plain": [
       "Empty DataFrame\n",
       "Columns: [ISO Code, Economy, Region, Sub Region, Income Group, ('Travel & Tourism Development Index ', '2019 Value'), ('Travel & Tourism Development Index ', '2019 Rank'), ('Travel & Tourism Development Index ', '2021 Value'), ('Travel & Tourism Development Index ', '2021 Rank'), ('Travel & Tourism Development Index ', '% Dif Score'), ('Travel & Tourism Development Index ', 'Rank Change'), ('Safety and Security pillar', '2019 Value'), ('Safety and Security pillar', '2019 Rank'), ('Safety and Security pillar', '2021 Value'), ('Safety and Security pillar', '2021 Rank'), ('Safety and Security pillar', '% Dif Score'), ('Safety and Security pillar', 'Rank Change'), ('Health and Hygiene pillar', '2019 Value'), ('Health and Hygiene pillar', '2019 Rank'), ('Health and Hygiene pillar', '2021 Value'), ('Health and Hygiene pillar', '2021 Rank'), ('Health and Hygiene pillar', '% Dif Score'), ('Health and Hygiene pillar', 'Rank Change'), ('International Openness pillar', '2019 Value'), ('International Openness pillar', '2019 Rank'), ('International Openness pillar', '2021 Value'), ('International Openness pillar', '2021 Rank'), ('International Openness pillar', '% Dif Score'), ('International Openness pillar', 'Rank Change'), ('Price competitiveness pillar', '2019 Value'), ('Price competitiveness pillar', '2019 Rank'), ('Price competitiveness pillar', '2021 Value'), ('Price competitiveness pillar', '2021 Rank'), ('Price competitiveness pillar', '% Dif Score'), ('Price competitiveness pillar', 'Rank Change'), ('Air Transport Infrastructure pillar', '2019 Value'), ('Air Transport Infrastructure pillar', '2019 Rank'), ('Air Transport Infrastructure pillar', '2021 Value'), ('Air Transport Infrastructure pillar', '2021 Rank'), ('Air Transport Infrastructure pillar', '% Dif Score'), ('Air Transport Infrastructure pillar', 'Rank Change'), ('Ground and Port Infrastructure pillar', '2019 Value'), ('Ground and Port Infrastructure pillar', '2019 Rank'), ('Ground and Port Infrastructure pillar', '2021 Value'), ('Ground and Port Infrastructure pillar', '2021 Rank'), ('Ground and Port Infrastructure pillar', '% Dif Score'), ('Ground and Port Infrastructure pillar', 'Rank Change'), ('Tourist Service Infrastructure pillar', '2019 Value'), ('Tourist Service Infrastructure pillar', '2019 Rank'), ('Tourist Service Infrastructure pillar', '2021 Value'), ('Tourist Service Infrastructure pillar', '2021 Rank'), ('Tourist Service Infrastructure pillar', '% Dif Score'), ('Tourist Service Infrastructure pillar', 'Rank Change'), ('Natural Resources pillar', '2019 Value'), ('Natural Resources pillar', '2019 Rank'), ('Natural Resources pillar', '2021 Value'), ('Natural Resources pillar', '2021 Rank'), ('Natural Resources pillar', '% Dif Score'), ('Natural Resources pillar', 'Rank Change'), ('Cultural Resources pillar', '2019 Value'), ('Cultural Resources pillar', '2019 Rank'), ('Cultural Resources pillar', '2021 Value'), ('Cultural Resources pillar', '2021 Rank'), ('Cultural Resources pillar', '% Dif Score'), ('Cultural Resources pillar', 'Rank Change'), ('Environmental Sustainability pillar', '2019 Value'), ('Environmental Sustainability pillar', '2019 Rank'), ('Environmental Sustainability pillar', '2021 Value'), ('Environmental Sustainability pillar', '2021 Rank'), ('Environmental Sustainability pillar', '% Dif Score'), ('Environmental Sustainability pillar', 'Rank Change'), ('Socioeconomic Resilience & Conditions pillar', 'Rank Change'), ('T&T Demand Pressure & Impact pillar', '2019 Value'), ('T&T Demand Pressure & Impact pillar', '2019 Rank'), ('T&T Demand Pressure & Impact pillar', '2021 Value'), ('T&T Demand Pressure & Impact pillar', '2021 Rank'), ('T&T Demand Pressure & Impact pillar', '% Dif Score'), ('T&T Demand Pressure & Impact pillar', 'Rank Change'), Name, Iso3, Continent, SubContinent]\n",
       "Index: []\n",
       "\n",
       "[0 rows x 82 columns]"
      ]
     },
     "execution_count": 98,
     "metadata": {},
     "output_type": "execute_result"
    }
   ],
   "source": [
    "wef_ttdi=wef_ttdi.merge(country, how='left', left_on='ISO Code', right_on='Iso3')\n",
    "wef_ttdi[wef_ttdi['Name'].isnull()]"
   ]
  },
  {
   "cell_type": "markdown",
   "id": "1f525579",
   "metadata": {},
   "source": [
    "#### Check Average Restaurant and Accomodation Cost - ISO"
   ]
  },
  {
   "cell_type": "code",
   "execution_count": 99,
   "id": "eb5a0661",
   "metadata": {},
   "outputs": [
    {
     "data": {
      "text/html": [
       "<div>\n",
       "<style scoped>\n",
       "    .dataframe tbody tr th:only-of-type {\n",
       "        vertical-align: middle;\n",
       "    }\n",
       "\n",
       "    .dataframe tbody tr th {\n",
       "        vertical-align: top;\n",
       "    }\n",
       "\n",
       "    .dataframe thead th {\n",
       "        text-align: right;\n",
       "    }\n",
       "</style>\n",
       "<table border=\"1\" class=\"dataframe\">\n",
       "  <thead>\n",
       "    <tr style=\"text-align: right;\">\n",
       "      <th></th>\n",
       "      <th>Country</th>\n",
       "      <th>Country Code</th>\n",
       "      <th>Average Hotel and Accomodation Cost</th>\n",
       "      <th>Type Traveler</th>\n",
       "      <th>Name</th>\n",
       "      <th>Iso3</th>\n",
       "      <th>Continent</th>\n",
       "      <th>SubContinent</th>\n",
       "    </tr>\n",
       "  </thead>\n",
       "  <tbody>\n",
       "    <tr>\n",
       "      <th>4</th>\n",
       "      <td>Anguilla</td>\n",
       "      <td>AIA</td>\n",
       "      <td>122.30</td>\n",
       "      <td>Comfort traveler</td>\n",
       "      <td>NaN</td>\n",
       "      <td>NaN</td>\n",
       "      <td>NaN</td>\n",
       "      <td>NaN</td>\n",
       "    </tr>\n",
       "    <tr>\n",
       "      <th>28</th>\n",
       "      <td>Bonaire</td>\n",
       "      <td>BON</td>\n",
       "      <td>156.57</td>\n",
       "      <td>Luxury Travel</td>\n",
       "      <td>NaN</td>\n",
       "      <td>NaN</td>\n",
       "      <td>NaN</td>\n",
       "      <td>NaN</td>\n",
       "    </tr>\n",
       "    <tr>\n",
       "      <th>51</th>\n",
       "      <td>Congo, Dem. Rep.</td>\n",
       "      <td>COD</td>\n",
       "      <td>67.02</td>\n",
       "      <td>Budget Traveler</td>\n",
       "      <td>NaN</td>\n",
       "      <td>NaN</td>\n",
       "      <td>NaN</td>\n",
       "      <td>NaN</td>\n",
       "    </tr>\n",
       "    <tr>\n",
       "      <th>56</th>\n",
       "      <td>Cook Islands</td>\n",
       "      <td>COK</td>\n",
       "      <td>NaN</td>\n",
       "      <td>Non Applicable</td>\n",
       "      <td>NaN</td>\n",
       "      <td>NaN</td>\n",
       "      <td>NaN</td>\n",
       "      <td>NaN</td>\n",
       "    </tr>\n",
       "    <tr>\n",
       "      <th>73</th>\n",
       "      <td>East Asia &amp; Pacific (Icp)</td>\n",
       "      <td>EAB</td>\n",
       "      <td>80.57</td>\n",
       "      <td>Comfort traveler</td>\n",
       "      <td>NaN</td>\n",
       "      <td>NaN</td>\n",
       "      <td>NaN</td>\n",
       "      <td>NaN</td>\n",
       "    </tr>\n",
       "    <tr>\n",
       "      <th>83</th>\n",
       "      <td>Europe &amp; Central Asia (Icp)</td>\n",
       "      <td>ECB</td>\n",
       "      <td>120.78</td>\n",
       "      <td>Comfort traveler</td>\n",
       "      <td>NaN</td>\n",
       "      <td>NaN</td>\n",
       "      <td>NaN</td>\n",
       "      <td>NaN</td>\n",
       "    </tr>\n",
       "    <tr>\n",
       "      <th>145</th>\n",
       "      <td>Latin America &amp; Caribbean (Icp)</td>\n",
       "      <td>LCB</td>\n",
       "      <td>78.35</td>\n",
       "      <td>Comfort traveler</td>\n",
       "      <td>NaN</td>\n",
       "      <td>NaN</td>\n",
       "      <td>NaN</td>\n",
       "      <td>NaN</td>\n",
       "    </tr>\n",
       "    <tr>\n",
       "      <th>171</th>\n",
       "      <td>Middle East &amp; North Africa (Icp)</td>\n",
       "      <td>MEB</td>\n",
       "      <td>64.50</td>\n",
       "      <td>Budget Traveler</td>\n",
       "      <td>NaN</td>\n",
       "      <td>NaN</td>\n",
       "      <td>NaN</td>\n",
       "      <td>NaN</td>\n",
       "    </tr>\n",
       "    <tr>\n",
       "      <th>178</th>\n",
       "      <td>Montserrat</td>\n",
       "      <td>MSR</td>\n",
       "      <td>84.58</td>\n",
       "      <td>Comfort traveler</td>\n",
       "      <td>NaN</td>\n",
       "      <td>NaN</td>\n",
       "      <td>NaN</td>\n",
       "      <td>NaN</td>\n",
       "    </tr>\n",
       "    <tr>\n",
       "      <th>184</th>\n",
       "      <td>Nauru</td>\n",
       "      <td>NRU</td>\n",
       "      <td>NaN</td>\n",
       "      <td>Non Applicable</td>\n",
       "      <td>NaN</td>\n",
       "      <td>NaN</td>\n",
       "      <td>NaN</td>\n",
       "      <td>NaN</td>\n",
       "    </tr>\n",
       "    <tr>\n",
       "      <th>194</th>\n",
       "      <td>Niue</td>\n",
       "      <td>NIU</td>\n",
       "      <td>NaN</td>\n",
       "      <td>Non Applicable</td>\n",
       "      <td>NaN</td>\n",
       "      <td>NaN</td>\n",
       "      <td>NaN</td>\n",
       "      <td>NaN</td>\n",
       "    </tr>\n",
       "    <tr>\n",
       "      <th>195</th>\n",
       "      <td>North America (Icp)</td>\n",
       "      <td>NAB</td>\n",
       "      <td>128.94</td>\n",
       "      <td>Comfort traveler</td>\n",
       "      <td>NaN</td>\n",
       "      <td>NaN</td>\n",
       "      <td>NaN</td>\n",
       "      <td>NaN</td>\n",
       "    </tr>\n",
       "    <tr>\n",
       "      <th>241</th>\n",
       "      <td>South Asia (Icp)</td>\n",
       "      <td>SAB</td>\n",
       "      <td>42.21</td>\n",
       "      <td>Budget Traveler</td>\n",
       "      <td>NaN</td>\n",
       "      <td>NaN</td>\n",
       "      <td>NaN</td>\n",
       "      <td>NaN</td>\n",
       "    </tr>\n",
       "    <tr>\n",
       "      <th>251</th>\n",
       "      <td>Sub-Saharan Africa (Icp)</td>\n",
       "      <td>SSB</td>\n",
       "      <td>46.83</td>\n",
       "      <td>Budget Traveler</td>\n",
       "      <td>NaN</td>\n",
       "      <td>NaN</td>\n",
       "      <td>NaN</td>\n",
       "      <td>NaN</td>\n",
       "    </tr>\n",
       "    <tr>\n",
       "      <th>275</th>\n",
       "      <td>Timor-Leste</td>\n",
       "      <td>TLS</td>\n",
       "      <td>NaN</td>\n",
       "      <td>Non Applicable</td>\n",
       "      <td>NaN</td>\n",
       "      <td>NaN</td>\n",
       "      <td>NaN</td>\n",
       "      <td>NaN</td>\n",
       "    </tr>\n",
       "    <tr>\n",
       "      <th>277</th>\n",
       "      <td>Tokelau</td>\n",
       "      <td>TKL</td>\n",
       "      <td>NaN</td>\n",
       "      <td>Non Applicable</td>\n",
       "      <td>NaN</td>\n",
       "      <td>NaN</td>\n",
       "      <td>NaN</td>\n",
       "      <td>NaN</td>\n",
       "    </tr>\n",
       "    <tr>\n",
       "      <th>307</th>\n",
       "      <td>Virgin Islands, British</td>\n",
       "      <td>VGB</td>\n",
       "      <td>116.88</td>\n",
       "      <td>Comfort traveler</td>\n",
       "      <td>NaN</td>\n",
       "      <td>NaN</td>\n",
       "      <td>NaN</td>\n",
       "      <td>NaN</td>\n",
       "    </tr>\n",
       "    <tr>\n",
       "      <th>308</th>\n",
       "      <td>Wallis And Futuna</td>\n",
       "      <td>WLF</td>\n",
       "      <td>NaN</td>\n",
       "      <td>Non Applicable</td>\n",
       "      <td>NaN</td>\n",
       "      <td>NaN</td>\n",
       "      <td>NaN</td>\n",
       "      <td>NaN</td>\n",
       "    </tr>\n",
       "    <tr>\n",
       "      <th>309</th>\n",
       "      <td>West Bank And Gaza</td>\n",
       "      <td>PSE</td>\n",
       "      <td>96.53</td>\n",
       "      <td>Comfort traveler</td>\n",
       "      <td>NaN</td>\n",
       "      <td>NaN</td>\n",
       "      <td>NaN</td>\n",
       "      <td>NaN</td>\n",
       "    </tr>\n",
       "    <tr>\n",
       "      <th>310</th>\n",
       "      <td>World</td>\n",
       "      <td>WLD</td>\n",
       "      <td>100.00</td>\n",
       "      <td>Comfort traveler</td>\n",
       "      <td>NaN</td>\n",
       "      <td>NaN</td>\n",
       "      <td>NaN</td>\n",
       "      <td>NaN</td>\n",
       "    </tr>\n",
       "  </tbody>\n",
       "</table>\n",
       "</div>"
      ],
      "text/plain": [
       "                              Country Country Code  \\\n",
       "4                            Anguilla          AIA   \n",
       "28                            Bonaire          BON   \n",
       "51                   Congo, Dem. Rep.          COD   \n",
       "56                       Cook Islands          COK   \n",
       "73          East Asia & Pacific (Icp)          EAB   \n",
       "83        Europe & Central Asia (Icp)          ECB   \n",
       "145   Latin America & Caribbean (Icp)          LCB   \n",
       "171  Middle East & North Africa (Icp)          MEB   \n",
       "178                        Montserrat          MSR   \n",
       "184                             Nauru          NRU   \n",
       "194                              Niue          NIU   \n",
       "195               North America (Icp)          NAB   \n",
       "241                  South Asia (Icp)          SAB   \n",
       "251          Sub-Saharan Africa (Icp)          SSB   \n",
       "275                       Timor-Leste          TLS   \n",
       "277                           Tokelau          TKL   \n",
       "307           Virgin Islands, British          VGB   \n",
       "308                 Wallis And Futuna          WLF   \n",
       "309                West Bank And Gaza          PSE   \n",
       "310                             World          WLD   \n",
       "\n",
       "     Average Hotel and Accomodation Cost     Type Traveler Name Iso3  \\\n",
       "4                                 122.30  Comfort traveler  NaN  NaN   \n",
       "28                                156.57     Luxury Travel  NaN  NaN   \n",
       "51                                 67.02   Budget Traveler  NaN  NaN   \n",
       "56                                   NaN    Non Applicable  NaN  NaN   \n",
       "73                                 80.57  Comfort traveler  NaN  NaN   \n",
       "83                                120.78  Comfort traveler  NaN  NaN   \n",
       "145                                78.35  Comfort traveler  NaN  NaN   \n",
       "171                                64.50   Budget Traveler  NaN  NaN   \n",
       "178                                84.58  Comfort traveler  NaN  NaN   \n",
       "184                                  NaN    Non Applicable  NaN  NaN   \n",
       "194                                  NaN    Non Applicable  NaN  NaN   \n",
       "195                               128.94  Comfort traveler  NaN  NaN   \n",
       "241                                42.21   Budget Traveler  NaN  NaN   \n",
       "251                                46.83   Budget Traveler  NaN  NaN   \n",
       "275                                  NaN    Non Applicable  NaN  NaN   \n",
       "277                                  NaN    Non Applicable  NaN  NaN   \n",
       "307                               116.88  Comfort traveler  NaN  NaN   \n",
       "308                                  NaN    Non Applicable  NaN  NaN   \n",
       "309                                96.53  Comfort traveler  NaN  NaN   \n",
       "310                               100.00  Comfort traveler  NaN  NaN   \n",
       "\n",
       "    Continent SubContinent  \n",
       "4         NaN          NaN  \n",
       "28        NaN          NaN  \n",
       "51        NaN          NaN  \n",
       "56        NaN          NaN  \n",
       "73        NaN          NaN  \n",
       "83        NaN          NaN  \n",
       "145       NaN          NaN  \n",
       "171       NaN          NaN  \n",
       "178       NaN          NaN  \n",
       "184       NaN          NaN  \n",
       "194       NaN          NaN  \n",
       "195       NaN          NaN  \n",
       "241       NaN          NaN  \n",
       "251       NaN          NaN  \n",
       "275       NaN          NaN  \n",
       "277       NaN          NaN  \n",
       "307       NaN          NaN  \n",
       "308       NaN          NaN  \n",
       "309       NaN          NaN  \n",
       "310       NaN          NaN  "
      ]
     },
     "execution_count": 99,
     "metadata": {},
     "output_type": "execute_result"
    }
   ],
   "source": [
    "avg_rest_hot_p = avg_rest_hot_p.merge(country, how='left', left_on='Country Code', right_on='Iso3')\n",
    "avg_rest_hot_p [avg_rest_hot_p ['Name'].isnull()]"
   ]
  },
  {
   "cell_type": "code",
   "execution_count": null,
   "id": "bf727b7c",
   "metadata": {},
   "outputs": [],
   "source": []
  }
 ],
 "metadata": {
  "kernelspec": {
   "display_name": "Python 3",
   "language": "python",
   "name": "python3"
  },
  "language_info": {
   "codemirror_mode": {
    "name": "ipython",
    "version": 3
   },
   "file_extension": ".py",
   "mimetype": "text/x-python",
   "name": "python",
   "nbconvert_exporter": "python",
   "pygments_lexer": "ipython3",
   "version": "3.8.8"
  }
 },
 "nbformat": 4,
 "nbformat_minor": 5
}